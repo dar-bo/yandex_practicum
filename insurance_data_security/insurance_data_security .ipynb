{
 "cells": [
  {
   "cell_type": "markdown",
   "metadata": {
    "toc": true
   },
   "source": [
    "<h1>Содержание<span class=\"tocSkip\"></span></h1>\n",
    "<div class=\"toc\"><ul class=\"toc-item\"><li><span><a href=\"#Загрузка-данных\" data-toc-modified-id=\"Загрузка-данных-1\"><span class=\"toc-item-num\">1&nbsp;&nbsp;</span>Загрузка данных</a></span></li><li><span><a href=\"#Умножение-матриц\" data-toc-modified-id=\"Умножение-матриц-2\"><span class=\"toc-item-num\">2&nbsp;&nbsp;</span>Умножение матриц</a></span></li><li><span><a href=\"#Алгоритм-преобразования\" data-toc-modified-id=\"Алгоритм-преобразования-3\"><span class=\"toc-item-num\">3&nbsp;&nbsp;</span>Алгоритм преобразования</a></span></li><li><span><a href=\"#Проверка-алгоритма\" data-toc-modified-id=\"Проверка-алгоритма-4\"><span class=\"toc-item-num\">4&nbsp;&nbsp;</span>Проверка алгоритма</a></span></li><li><span><a href=\"#Чек-лист-проверки\" data-toc-modified-id=\"Чек-лист-проверки-5\"><span class=\"toc-item-num\">5&nbsp;&nbsp;</span>Чек-лист проверки</a></span></li></ul></div>"
   ]
  },
  {
   "cell_type": "markdown",
   "metadata": {},
   "source": [
    "# Защита персональных данных клиентов"
   ]
  },
  {
   "cell_type": "markdown",
   "metadata": {},
   "source": [
    "## Загрузка данных"
   ]
  },
  {
   "cell_type": "code",
   "execution_count": 1,
   "metadata": {},
   "outputs": [],
   "source": [
    "import pandas as pd\n",
    "import numpy as np\n",
    "from sklearn.metrics import r2_score\n",
    "from sklearn.linear_model import LinearRegression\n",
    "from sklearn.model_selection import train_test_split"
   ]
  },
  {
   "cell_type": "code",
   "execution_count": 2,
   "metadata": {},
   "outputs": [],
   "source": [
    "df = pd.read_csv('/datasets/insurance.csv')"
   ]
  },
  {
   "cell_type": "code",
   "execution_count": 3,
   "metadata": {},
   "outputs": [
    {
     "data": {
      "text/html": [
       "<div>\n",
       "<style scoped>\n",
       "    .dataframe tbody tr th:only-of-type {\n",
       "        vertical-align: middle;\n",
       "    }\n",
       "\n",
       "    .dataframe tbody tr th {\n",
       "        vertical-align: top;\n",
       "    }\n",
       "\n",
       "    .dataframe thead th {\n",
       "        text-align: right;\n",
       "    }\n",
       "</style>\n",
       "<table border=\"1\" class=\"dataframe\">\n",
       "  <thead>\n",
       "    <tr style=\"text-align: right;\">\n",
       "      <th></th>\n",
       "      <th>Пол</th>\n",
       "      <th>Возраст</th>\n",
       "      <th>Зарплата</th>\n",
       "      <th>Члены семьи</th>\n",
       "      <th>Страховые выплаты</th>\n",
       "    </tr>\n",
       "  </thead>\n",
       "  <tbody>\n",
       "    <tr>\n",
       "      <th>0</th>\n",
       "      <td>1</td>\n",
       "      <td>41.0</td>\n",
       "      <td>49600.0</td>\n",
       "      <td>1</td>\n",
       "      <td>0</td>\n",
       "    </tr>\n",
       "    <tr>\n",
       "      <th>1</th>\n",
       "      <td>0</td>\n",
       "      <td>46.0</td>\n",
       "      <td>38000.0</td>\n",
       "      <td>1</td>\n",
       "      <td>1</td>\n",
       "    </tr>\n",
       "    <tr>\n",
       "      <th>2</th>\n",
       "      <td>0</td>\n",
       "      <td>29.0</td>\n",
       "      <td>21000.0</td>\n",
       "      <td>0</td>\n",
       "      <td>0</td>\n",
       "    </tr>\n",
       "    <tr>\n",
       "      <th>3</th>\n",
       "      <td>0</td>\n",
       "      <td>21.0</td>\n",
       "      <td>41700.0</td>\n",
       "      <td>2</td>\n",
       "      <td>0</td>\n",
       "    </tr>\n",
       "    <tr>\n",
       "      <th>4</th>\n",
       "      <td>1</td>\n",
       "      <td>28.0</td>\n",
       "      <td>26100.0</td>\n",
       "      <td>0</td>\n",
       "      <td>0</td>\n",
       "    </tr>\n",
       "  </tbody>\n",
       "</table>\n",
       "</div>"
      ],
      "text/plain": [
       "   Пол  Возраст  Зарплата  Члены семьи  Страховые выплаты\n",
       "0    1     41.0   49600.0            1                  0\n",
       "1    0     46.0   38000.0            1                  1\n",
       "2    0     29.0   21000.0            0                  0\n",
       "3    0     21.0   41700.0            2                  0\n",
       "4    1     28.0   26100.0            0                  0"
      ]
     },
     "execution_count": 3,
     "metadata": {},
     "output_type": "execute_result"
    }
   ],
   "source": [
    "df.head()"
   ]
  },
  {
   "cell_type": "code",
   "execution_count": 4,
   "metadata": {},
   "outputs": [
    {
     "name": "stdout",
     "output_type": "stream",
     "text": [
      "<class 'pandas.core.frame.DataFrame'>\n",
      "RangeIndex: 5000 entries, 0 to 4999\n",
      "Data columns (total 5 columns):\n",
      " #   Column             Non-Null Count  Dtype  \n",
      "---  ------             --------------  -----  \n",
      " 0   Пол                5000 non-null   int64  \n",
      " 1   Возраст            5000 non-null   float64\n",
      " 2   Зарплата           5000 non-null   float64\n",
      " 3   Члены семьи        5000 non-null   int64  \n",
      " 4   Страховые выплаты  5000 non-null   int64  \n",
      "dtypes: float64(2), int64(3)\n",
      "memory usage: 195.4 KB\n"
     ]
    }
   ],
   "source": [
    "df.info()"
   ]
  },
  {
   "cell_type": "code",
   "execution_count": 5,
   "metadata": {
    "scrolled": true
   },
   "outputs": [
    {
     "data": {
      "text/plain": [
       "Пол                  0\n",
       "Возраст              0\n",
       "Зарплата             0\n",
       "Члены семьи          0\n",
       "Страховые выплаты    0\n",
       "dtype: int64"
      ]
     },
     "execution_count": 5,
     "metadata": {},
     "output_type": "execute_result"
    }
   ],
   "source": [
    "df.isna().sum()"
   ]
  },
  {
   "cell_type": "code",
   "execution_count": 6,
   "metadata": {},
   "outputs": [
    {
     "data": {
      "text/plain": [
       "153"
      ]
     },
     "execution_count": 6,
     "metadata": {},
     "output_type": "execute_result"
    }
   ],
   "source": [
    "df.duplicated().sum()"
   ]
  },
  {
   "cell_type": "code",
   "execution_count": 7,
   "metadata": {},
   "outputs": [],
   "source": [
    "df = df.drop_duplicates()"
   ]
  },
  {
   "cell_type": "code",
   "execution_count": 8,
   "metadata": {},
   "outputs": [],
   "source": [
    "features = df.drop(['Страховые выплаты'], axis=1)\n",
    "target = df['Страховые выплаты']"
   ]
  },
  {
   "cell_type": "markdown",
   "metadata": {},
   "source": [
    "**Выводы:**\n",
    "* данные загружены\n",
    "* удалены дубликаты\n",
    "* проверены и подготовлены к работе"
   ]
  },
  {
   "cell_type": "markdown",
   "metadata": {},
   "source": [
    "## Умножение матриц"
   ]
  },
  {
   "cell_type": "markdown",
   "metadata": {},
   "source": [
    "В этом задании вы можете записывать формулы в *Jupyter Notebook.*\n",
    "\n",
    "Чтобы записать формулу внутри текста, окружите её символами доллара \\\\$; если снаружи —  двойными символами \\\\$\\\\$. Эти формулы записываются на языке вёрстки *LaTeX.* \n",
    "\n",
    "Для примера мы записали формулы линейной регрессии. Можете их скопировать и отредактировать, чтобы решить задачу.\n",
    "\n",
    "Работать в *LaTeX* необязательно."
   ]
  },
  {
   "cell_type": "markdown",
   "metadata": {},
   "source": [
    "Обозначения:\n",
    "\n",
    "- $X$ — матрица признаков (нулевой столбец состоит из единиц)\n",
    "\n",
    "- $y$ — вектор целевого признака\n",
    "\n",
    "- $P$ — матрица, на которую умножаются признаки\n",
    "\n",
    "- $w$ — вектор весов линейной регрессии (нулевой элемент равен сдвигу)"
   ]
  },
  {
   "cell_type": "markdown",
   "metadata": {},
   "source": [
    "Предсказания:\n",
    "\n",
    "$$\n",
    "a = Xw\n",
    "$$\n",
    "\n",
    "Задача обучения:\n",
    "\n",
    "$$\n",
    "w = \\arg\\min_w MSE(Xw, y)\n",
    "$$\n",
    "\n",
    "Формула обучения:\n",
    "\n",
    "$$\n",
    "w = (X^T X)^{-1} X^T y\n",
    "$$"
   ]
  },
  {
   "cell_type": "markdown",
   "metadata": {},
   "source": [
    "**Ответ:** Качество линейной регрессии не изменится при умножении признаков на обратную матрицу.\n",
    "\n",
    "**Обоснование:** При умножении признаков на обратимую матрицу качество линейной регрессии не изменится, если определитель не равен нулю и матрица квадратная.  Матрица обратима тогда, когда её определитель не равен нулю и она является квадратной. "
   ]
  },
  {
   "cell_type": "markdown",
   "metadata": {},
   "source": [
    "$$\n",
    "w' = ((XP)^T XP)^{-1} (XP)^T y\n",
    "$$\n",
    "$P^T$ выносим за скобки:\n",
    "\n",
    "$$\n",
    "w' = (P^T (X^T X) P)^{-1} (XP)^T y\n",
    "$$\n",
    "Так как $(XP)^T = P^T X^T$, производим замену:\n",
    "\n",
    "$$\n",
    "w' = P^T(X^T X) P)^{-1} P^T X^T y\n",
    "$$\n",
    "Вынесем $P^{-1}$ за скобки:\n",
    "\n",
    "$$\n",
    "w' = P^{-1}(X^T X)^{-1} (P^T)^{-1} P^T X^T y\n",
    "$$\n",
    "Так как $(P^T)^{-1} P^T = E$ (единичную матрицу), заменяем:\n",
    "\n",
    "$$\n",
    "w' = P^{-1}(X^T X)^{-1} EX^T y\n",
    "$$\n",
    "При умножении матрицы на единичную матрицу получается та же самая матрица:\n",
    "\n",
    "$$\n",
    "w' = P^{-1}(X^T X)^{-1} X^T y\n",
    "$$\n",
    "Правая часть $(X^T X)^{-1} X^T y$ представляет собой формулу w:\n",
    "\n",
    "$$\n",
    "w' = P^{-1} w\n",
    "$$"
   ]
  },
  {
   "cell_type": "markdown",
   "metadata": {},
   "source": [
    "## Алгоритм преобразования"
   ]
  },
  {
   "cell_type": "markdown",
   "metadata": {},
   "source": [
    "**Алгоритм**\n",
    "\n",
    "Необходимо рассчитать параметр w (вектор весов линейной регрессии).\n",
    "Далее необходимо рассчитать этот же пареметр, но в исходной формуле изменить параметр Х на ХР(исходные признаки умноженные на обратную матрицу).\n",
    "В итоге, в обоих случаях параметры w должны совпадать."
   ]
  },
  {
   "cell_type": "markdown",
   "metadata": {},
   "source": [
    "**Обоснование**\n",
    "\n",
    "Формула:\n",
    "\n",
    "$$\n",
    "w = ((XP)^T XP)^{-1} (XP)^T y\n",
    "$$"
   ]
  },
  {
   "cell_type": "code",
   "execution_count": 9,
   "metadata": {},
   "outputs": [],
   "source": [
    "features_train, features_test, target_train, target_test = train_test_split(features, target, \n",
    "                                                                            test_size=0.3, random_state=12345)"
   ]
  },
  {
   "cell_type": "code",
   "execution_count": 10,
   "metadata": {},
   "outputs": [],
   "source": [
    "X = np.concatenate((np.ones((features_train.shape[0], 1)), features_train), axis=1)\n",
    "y = target_train"
   ]
  },
  {
   "cell_type": "code",
   "execution_count": 11,
   "metadata": {},
   "outputs": [],
   "source": [
    "#создаем матрицу-шифр для кодирования данных\n",
    "def generate_invertible_matrix(size):\n",
    "    try:\n",
    "        matrix = np.random.normal(size=(size, size))\n",
    "        # проверим матрицу на обратимость, если нет, пробуем сгенерировать еще раз\n",
    "        # таким образом гарантируем, что матрица стопроцентно будет обратимой\n",
    "        np.linalg.inv(matrix)\n",
    "    except np.linalg.LinAlgError:\n",
    "        matrix = generate_invertible_matrix()\n",
    "    \n",
    "    return matrix"
   ]
  },
  {
   "cell_type": "code",
   "execution_count": 12,
   "metadata": {},
   "outputs": [],
   "source": [
    "# размер матрицы должен совпадать с шириной исходной матрицы признаков\n",
    "matrix_random = generate_invertible_matrix(4)\n"
   ]
  },
  {
   "cell_type": "code",
   "execution_count": 13,
   "metadata": {},
   "outputs": [],
   "source": [
    "# кодируем (умножаем) признаки на созданную матрицу\n",
    "features_train_coded = features_train.values.dot(matrix_random)\n",
    "features_test_coded = features_test.values.dot(matrix_random)"
   ]
  },
  {
   "cell_type": "code",
   "execution_count": 14,
   "metadata": {},
   "outputs": [
    {
     "name": "stdout",
     "output_type": "stream",
     "text": [
      "[[ 1.00000000e+00  2.20000000e+01  3.71000000e+04  1.00000000e+00]\n",
      " [ 8.52434373e-12  4.60000000e+01  4.21000000e+04  2.00000000e+00]\n",
      " [ 7.21591516e-12  2.30000000e+01  4.16000000e+04 -4.15962558e-12]\n",
      " ...\n",
      " [ 1.00000000e+00  2.00000000e+01  2.89000000e+04  1.00000000e+00]\n",
      " [ 1.00000000e+00  3.30000000e+01  3.88000000e+04  1.00000000e+00]\n",
      " [ 1.23057833e-11  4.10000000e+01  4.73000000e+04  2.00000000e+00]]\n"
     ]
    }
   ],
   "source": [
    "#проверим на возможность раскодировать данные, умножив закодированные признаки на обратную матрицу-шифр\n",
    "print(features_train_coded.dot(np.linalg.inv(matrix_random)))"
   ]
  },
  {
   "cell_type": "code",
   "execution_count": 15,
   "metadata": {
    "scrolled": true
   },
   "outputs": [
    {
     "name": "stdout",
     "output_type": "stream",
     "text": [
      "[[1.00e+00 2.20e+01 3.71e+04 1.00e+00]\n",
      " [0.00e+00 4.60e+01 4.21e+04 2.00e+00]\n",
      " [0.00e+00 2.30e+01 4.16e+04 0.00e+00]\n",
      " ...\n",
      " [1.00e+00 2.00e+01 2.89e+04 1.00e+00]\n",
      " [1.00e+00 3.30e+01 3.88e+04 1.00e+00]\n",
      " [0.00e+00 4.10e+01 4.73e+04 2.00e+00]]\n"
     ]
    }
   ],
   "source": [
    "print(features_train.values)"
   ]
  },
  {
   "cell_type": "markdown",
   "metadata": {},
   "source": [
    "Матрица вернула первоначальный вид."
   ]
  },
  {
   "cell_type": "markdown",
   "metadata": {},
   "source": [
    "## Проверка алгоритма"
   ]
  },
  {
   "cell_type": "code",
   "execution_count": 16,
   "metadata": {},
   "outputs": [],
   "source": [
    "# 1. Напишем функцию для проверки качества регрессии\n",
    "\n",
    "def quality_check(features_train, target_train, features_test, target_test):\n",
    "    model = LinearRegression() # модель - линейная регрессия\n",
    "    model.fit(features_train, target_train) # обучаем модель\n",
    "    predictions = model.predict(features_test) # строим предсказания на валидационной выборке\n",
    "    return r2_score(target_test, predictions) # считаем R2\n",
    "    "
   ]
  },
  {
   "cell_type": "code",
   "execution_count": 17,
   "metadata": {},
   "outputs": [
    {
     "name": "stdout",
     "output_type": "stream",
     "text": [
      "R2 исходный = 0.4328755262191937\n"
     ]
    }
   ],
   "source": [
    "# 2. Проверяем исходную матрицу признаков\n",
    "\n",
    "print('R2 исходный =', quality_check(features_train, target_train, features_test, target_test))"
   ]
  },
  {
   "cell_type": "code",
   "execution_count": 18,
   "metadata": {
    "scrolled": true
   },
   "outputs": [
    {
     "name": "stdout",
     "output_type": "stream",
     "text": [
      "R2 преобразованный = 0.43287552621923264\n"
     ]
    }
   ],
   "source": [
    "# 3. Проверяем преобразованную матрицу признаков\n",
    "\n",
    "print('R2 преобразованный =', quality_check(features_train_coded, target_train, features_test_coded, target_test))"
   ]
  },
  {
   "cell_type": "markdown",
   "metadata": {},
   "source": [
    "Качество модели линейной регрессии после умножения признаков на рандомную матрицу осталось таким же, как и на исходных данных."
   ]
  },
  {
   "cell_type": "markdown",
   "metadata": {},
   "source": [
    "**Выводы:**\n",
    "Вектор весов линейной регрессии при умножении признаков на обратную матрицу не изенился."
   ]
  },
  {
   "cell_type": "markdown",
   "metadata": {},
   "source": []
  },
  {
   "cell_type": "markdown",
   "metadata": {},
   "source": [
    "**Выводы:**\n",
    "Качество предсказаний в обоих случаях эквивалентно с учетом правил округления."
   ]
  },
  {
   "cell_type": "code",
   "execution_count": null,
   "metadata": {},
   "outputs": [],
   "source": []
  }
 ],
 "metadata": {
  "ExecuteTimeLog": [
   {
    "duration": 721,
    "start_time": "2022-03-16T10:44:02.275Z"
   },
   {
    "duration": 21,
    "start_time": "2022-03-16T10:44:30.908Z"
   },
   {
    "duration": 17,
    "start_time": "2022-03-16T10:44:42.786Z"
   },
   {
    "duration": 9,
    "start_time": "2022-03-16T10:45:13.046Z"
   },
   {
    "duration": 7,
    "start_time": "2022-03-16T10:45:44.831Z"
   },
   {
    "duration": 362,
    "start_time": "2022-03-16T10:46:39.670Z"
   },
   {
    "duration": 5,
    "start_time": "2022-03-16T10:46:54.394Z"
   },
   {
    "duration": 4,
    "start_time": "2022-03-16T11:24:42.224Z"
   },
   {
    "duration": 4,
    "start_time": "2022-03-16T11:24:53.837Z"
   },
   {
    "duration": 440,
    "start_time": "2022-03-16T11:25:44.923Z"
   },
   {
    "duration": 550,
    "start_time": "2022-03-16T12:10:23.539Z"
   },
   {
    "duration": 287,
    "start_time": "2022-03-16T18:40:09.042Z"
   },
   {
    "duration": 839,
    "start_time": "2022-03-16T18:40:19.448Z"
   },
   {
    "duration": 15,
    "start_time": "2022-03-16T18:40:20.290Z"
   },
   {
    "duration": 20,
    "start_time": "2022-03-16T18:40:20.308Z"
   },
   {
    "duration": 12,
    "start_time": "2022-03-16T18:40:20.331Z"
   },
   {
    "duration": 26,
    "start_time": "2022-03-16T18:40:20.345Z"
   },
   {
    "duration": 15,
    "start_time": "2022-03-16T18:40:20.373Z"
   },
   {
    "duration": 31,
    "start_time": "2022-03-16T18:40:20.390Z"
   },
   {
    "duration": 458,
    "start_time": "2022-03-16T18:40:20.425Z"
   },
   {
    "duration": 1366,
    "start_time": "2022-03-16T18:40:19.520Z"
   },
   {
    "duration": 4,
    "start_time": "2022-03-16T18:48:22.834Z"
   },
   {
    "duration": 4,
    "start_time": "2022-03-16T18:49:12.413Z"
   },
   {
    "duration": 5,
    "start_time": "2022-03-16T18:51:18.568Z"
   },
   {
    "duration": 5,
    "start_time": "2022-03-16T18:52:34.741Z"
   },
   {
    "duration": 4,
    "start_time": "2022-03-16T18:53:08.184Z"
   },
   {
    "duration": 4,
    "start_time": "2022-03-16T19:06:36.369Z"
   },
   {
    "duration": 4,
    "start_time": "2022-03-16T19:06:37.341Z"
   },
   {
    "duration": 4,
    "start_time": "2022-03-16T19:16:56.124Z"
   },
   {
    "duration": 7,
    "start_time": "2022-03-16T19:40:32.764Z"
   },
   {
    "duration": 724,
    "start_time": "2022-03-16T19:41:48.677Z"
   },
   {
    "duration": 16,
    "start_time": "2022-03-16T19:41:49.404Z"
   },
   {
    "duration": 22,
    "start_time": "2022-03-16T19:41:49.423Z"
   },
   {
    "duration": 10,
    "start_time": "2022-03-16T19:41:49.448Z"
   },
   {
    "duration": 31,
    "start_time": "2022-03-16T19:41:49.460Z"
   },
   {
    "duration": 5,
    "start_time": "2022-03-16T19:41:49.493Z"
   },
   {
    "duration": 8,
    "start_time": "2022-03-16T19:41:49.500Z"
   },
   {
    "duration": 5,
    "start_time": "2022-03-16T19:41:49.511Z"
   },
   {
    "duration": 4,
    "start_time": "2022-03-16T19:41:49.518Z"
   },
   {
    "duration": 62,
    "start_time": "2022-03-16T19:41:49.525Z"
   },
   {
    "duration": 5,
    "start_time": "2022-03-16T19:41:49.592Z"
   },
   {
    "duration": 301,
    "start_time": "2022-03-16T19:41:49.600Z"
   },
   {
    "duration": 4,
    "start_time": "2022-03-16T19:42:00.959Z"
   },
   {
    "duration": 5,
    "start_time": "2022-03-16T19:46:52.574Z"
   },
   {
    "duration": 53,
    "start_time": "2022-03-16T19:48:17.323Z"
   },
   {
    "duration": 25,
    "start_time": "2022-03-16T19:48:28.264Z"
   },
   {
    "duration": 626,
    "start_time": "2022-03-16T19:50:04.000Z"
   },
   {
    "duration": 5,
    "start_time": "2022-03-16T19:50:12.932Z"
   },
   {
    "duration": 9450,
    "start_time": "2022-03-16T19:56:46.534Z"
   },
   {
    "duration": 412,
    "start_time": "2022-03-16T20:01:40.610Z"
   },
   {
    "duration": 1782,
    "start_time": "2022-03-18T10:02:00.739Z"
   },
   {
    "duration": 18,
    "start_time": "2022-03-18T10:02:02.528Z"
   },
   {
    "duration": 22,
    "start_time": "2022-03-18T10:02:02.548Z"
   },
   {
    "duration": 45,
    "start_time": "2022-03-18T10:02:02.573Z"
   },
   {
    "duration": 20,
    "start_time": "2022-03-18T10:02:02.620Z"
   },
   {
    "duration": 44,
    "start_time": "2022-03-18T10:02:02.643Z"
   },
   {
    "duration": 69,
    "start_time": "2022-03-18T10:02:02.690Z"
   },
   {
    "duration": 77,
    "start_time": "2022-03-18T10:02:02.761Z"
   },
   {
    "duration": 212,
    "start_time": "2022-03-18T10:02:02.841Z"
   },
   {
    "duration": 121,
    "start_time": "2022-03-18T10:02:03.056Z"
   },
   {
    "duration": 27,
    "start_time": "2022-03-18T10:02:03.180Z"
   },
   {
    "duration": 92,
    "start_time": "2022-03-18T10:02:03.210Z"
   },
   {
    "duration": 30,
    "start_time": "2022-03-18T10:02:03.308Z"
   },
   {
    "duration": 172,
    "start_time": "2022-03-18T10:02:03.341Z"
   },
   {
    "duration": 498,
    "start_time": "2022-03-18T10:02:03.515Z"
   },
   {
    "duration": 10844,
    "start_time": "2022-03-18T10:02:04.015Z"
   },
   {
    "duration": 0,
    "start_time": "2022-03-18T10:02:14.861Z"
   },
   {
    "duration": 4,
    "start_time": "2022-03-18T10:04:24.305Z"
   },
   {
    "duration": 5,
    "start_time": "2022-03-18T10:18:57.763Z"
   },
   {
    "duration": 5,
    "start_time": "2022-03-18T10:19:20.263Z"
   },
   {
    "duration": 13,
    "start_time": "2022-03-18T10:22:06.629Z"
   },
   {
    "duration": 8,
    "start_time": "2022-03-18T10:35:53.297Z"
   },
   {
    "duration": 6,
    "start_time": "2022-03-18T10:36:02.782Z"
   },
   {
    "duration": 6,
    "start_time": "2022-03-18T10:36:31.094Z"
   },
   {
    "duration": 1271,
    "start_time": "2022-03-18T10:36:39.518Z"
   },
   {
    "duration": 13,
    "start_time": "2022-03-18T10:36:40.792Z"
   },
   {
    "duration": 23,
    "start_time": "2022-03-18T10:36:40.807Z"
   },
   {
    "duration": 28,
    "start_time": "2022-03-18T10:36:40.833Z"
   },
   {
    "duration": 15,
    "start_time": "2022-03-18T10:36:40.864Z"
   },
   {
    "duration": 21,
    "start_time": "2022-03-18T10:36:40.881Z"
   },
   {
    "duration": 27,
    "start_time": "2022-03-18T10:36:40.904Z"
   },
   {
    "duration": 15,
    "start_time": "2022-03-18T10:36:40.933Z"
   },
   {
    "duration": 52,
    "start_time": "2022-03-18T10:36:40.950Z"
   },
   {
    "duration": 198,
    "start_time": "2022-03-18T10:36:41.006Z"
   },
   {
    "duration": 31,
    "start_time": "2022-03-18T10:36:41.206Z"
   },
   {
    "duration": 23,
    "start_time": "2022-03-18T10:36:41.238Z"
   },
   {
    "duration": 36,
    "start_time": "2022-03-18T10:36:41.263Z"
   },
   {
    "duration": 35,
    "start_time": "2022-03-18T10:36:41.302Z"
   },
   {
    "duration": 63,
    "start_time": "2022-03-18T10:36:41.339Z"
   },
   {
    "duration": 97,
    "start_time": "2022-03-18T10:36:41.405Z"
   },
   {
    "duration": 26,
    "start_time": "2022-03-18T10:36:41.503Z"
   },
   {
    "duration": 79,
    "start_time": "2022-03-18T10:36:41.531Z"
   },
   {
    "duration": 471,
    "start_time": "2022-03-18T10:36:41.613Z"
   },
   {
    "duration": 16,
    "start_time": "2022-03-18T10:36:42.087Z"
   },
   {
    "duration": 108,
    "start_time": "2022-03-18T10:47:22.477Z"
   },
   {
    "duration": 8,
    "start_time": "2022-03-18T10:47:51.986Z"
   },
   {
    "duration": 10,
    "start_time": "2022-03-18T10:48:03.781Z"
   },
   {
    "duration": 93,
    "start_time": "2022-03-18T10:48:20.608Z"
   },
   {
    "duration": 4,
    "start_time": "2022-03-18T10:48:29.118Z"
   },
   {
    "duration": 15,
    "start_time": "2022-03-18T10:49:23.551Z"
   },
   {
    "duration": 9,
    "start_time": "2022-03-18T10:49:52.412Z"
   },
   {
    "duration": 4,
    "start_time": "2022-03-18T10:50:48.839Z"
   },
   {
    "duration": 4,
    "start_time": "2022-03-18T10:51:18.227Z"
   },
   {
    "duration": 5,
    "start_time": "2022-03-18T10:51:25.844Z"
   },
   {
    "duration": 5,
    "start_time": "2022-03-18T10:51:55.823Z"
   },
   {
    "duration": 1065,
    "start_time": "2022-03-20T10:43:03.544Z"
   },
   {
    "duration": 16,
    "start_time": "2022-03-20T10:43:04.612Z"
   },
   {
    "duration": 14,
    "start_time": "2022-03-20T10:43:04.630Z"
   },
   {
    "duration": 10,
    "start_time": "2022-03-20T10:43:04.646Z"
   },
   {
    "duration": 6,
    "start_time": "2022-03-20T10:43:04.657Z"
   },
   {
    "duration": 6,
    "start_time": "2022-03-20T10:43:04.665Z"
   },
   {
    "duration": 5,
    "start_time": "2022-03-20T10:43:04.673Z"
   },
   {
    "duration": 29,
    "start_time": "2022-03-20T10:43:04.680Z"
   },
   {
    "duration": 13,
    "start_time": "2022-03-20T10:43:04.711Z"
   },
   {
    "duration": 86,
    "start_time": "2022-03-20T10:43:04.727Z"
   },
   {
    "duration": 94,
    "start_time": "2022-03-20T10:43:04.816Z"
   },
   {
    "duration": 6,
    "start_time": "2022-03-20T10:43:04.912Z"
   },
   {
    "duration": 3,
    "start_time": "2022-03-20T10:43:04.920Z"
   },
   {
    "duration": 5,
    "start_time": "2022-03-20T10:43:04.924Z"
   },
   {
    "duration": 5,
    "start_time": "2022-03-20T10:43:04.930Z"
   },
   {
    "duration": 72,
    "start_time": "2022-03-20T10:43:04.937Z"
   },
   {
    "duration": 4,
    "start_time": "2022-03-20T10:43:05.012Z"
   },
   {
    "duration": 5,
    "start_time": "2022-03-20T10:43:05.018Z"
   },
   {
    "duration": 91,
    "start_time": "2022-03-20T10:43:05.025Z"
   },
   {
    "duration": 580,
    "start_time": "2022-03-20T10:43:05.119Z"
   },
   {
    "duration": 9,
    "start_time": "2022-03-20T10:43:05.701Z"
   },
   {
    "duration": 37,
    "start_time": "2022-03-20T10:49:25.023Z"
   },
   {
    "duration": 12,
    "start_time": "2022-03-20T10:49:37.301Z"
   },
   {
    "duration": 4,
    "start_time": "2022-03-20T10:49:38.630Z"
   },
   {
    "duration": 4,
    "start_time": "2022-03-20T10:49:42.318Z"
   },
   {
    "duration": 3,
    "start_time": "2022-03-20T10:52:45.507Z"
   },
   {
    "duration": 5,
    "start_time": "2022-03-20T11:20:33.897Z"
   },
   {
    "duration": 1108,
    "start_time": "2022-03-20T11:20:52.740Z"
   },
   {
    "duration": 14,
    "start_time": "2022-03-20T11:20:53.850Z"
   },
   {
    "duration": 16,
    "start_time": "2022-03-20T11:20:53.865Z"
   },
   {
    "duration": 11,
    "start_time": "2022-03-20T11:20:53.883Z"
   },
   {
    "duration": 13,
    "start_time": "2022-03-20T11:20:53.896Z"
   },
   {
    "duration": 8,
    "start_time": "2022-03-20T11:20:53.911Z"
   },
   {
    "duration": 8,
    "start_time": "2022-03-20T11:20:53.921Z"
   },
   {
    "duration": 6,
    "start_time": "2022-03-20T11:20:53.930Z"
   },
   {
    "duration": 74,
    "start_time": "2022-03-20T11:20:53.937Z"
   },
   {
    "duration": 96,
    "start_time": "2022-03-20T11:20:54.015Z"
   },
   {
    "duration": 5,
    "start_time": "2022-03-20T11:20:54.113Z"
   },
   {
    "duration": 5,
    "start_time": "2022-03-20T11:20:54.119Z"
   },
   {
    "duration": 4,
    "start_time": "2022-03-20T11:20:54.126Z"
   },
   {
    "duration": 4,
    "start_time": "2022-03-20T11:20:54.132Z"
   },
   {
    "duration": 5,
    "start_time": "2022-03-20T11:20:54.137Z"
   },
   {
    "duration": 66,
    "start_time": "2022-03-20T11:20:54.144Z"
   },
   {
    "duration": 5,
    "start_time": "2022-03-20T11:20:54.213Z"
   },
   {
    "duration": 4,
    "start_time": "2022-03-20T11:20:54.220Z"
   },
   {
    "duration": 5,
    "start_time": "2022-03-20T11:20:54.309Z"
   },
   {
    "duration": 8,
    "start_time": "2022-03-20T11:20:54.316Z"
   },
   {
    "duration": 10,
    "start_time": "2022-03-20T11:20:54.408Z"
   },
   {
    "duration": 4,
    "start_time": "2022-03-20T11:21:52.184Z"
   },
   {
    "duration": 3,
    "start_time": "2022-03-20T11:23:42.683Z"
   },
   {
    "duration": 4,
    "start_time": "2022-03-20T11:24:01.633Z"
   },
   {
    "duration": 3,
    "start_time": "2022-03-20T11:24:02.356Z"
   },
   {
    "duration": 3,
    "start_time": "2022-03-20T11:24:03.198Z"
   },
   {
    "duration": 3,
    "start_time": "2022-03-20T11:24:04.074Z"
   },
   {
    "duration": 3,
    "start_time": "2022-03-20T11:24:04.946Z"
   },
   {
    "duration": 3,
    "start_time": "2022-03-20T11:24:05.723Z"
   },
   {
    "duration": 3,
    "start_time": "2022-03-20T11:24:06.545Z"
   },
   {
    "duration": 11,
    "start_time": "2022-03-20T11:24:17.483Z"
   },
   {
    "duration": 4,
    "start_time": "2022-03-20T11:24:19.161Z"
   },
   {
    "duration": 1153,
    "start_time": "2022-03-20T11:24:51.378Z"
   },
   {
    "duration": 18,
    "start_time": "2022-03-20T11:24:52.533Z"
   },
   {
    "duration": 17,
    "start_time": "2022-03-20T11:24:52.552Z"
   },
   {
    "duration": 12,
    "start_time": "2022-03-20T11:24:52.571Z"
   },
   {
    "duration": 6,
    "start_time": "2022-03-20T11:24:52.584Z"
   },
   {
    "duration": 24,
    "start_time": "2022-03-20T11:24:52.591Z"
   },
   {
    "duration": 9,
    "start_time": "2022-03-20T11:24:52.617Z"
   },
   {
    "duration": 12,
    "start_time": "2022-03-20T11:24:52.627Z"
   },
   {
    "duration": 69,
    "start_time": "2022-03-20T11:24:52.641Z"
   },
   {
    "duration": 96,
    "start_time": "2022-03-20T11:24:52.713Z"
   },
   {
    "duration": 7,
    "start_time": "2022-03-20T11:24:52.811Z"
   },
   {
    "duration": 4,
    "start_time": "2022-03-20T11:24:52.908Z"
   },
   {
    "duration": 5,
    "start_time": "2022-03-20T11:24:52.914Z"
   },
   {
    "duration": 6,
    "start_time": "2022-03-20T11:24:52.920Z"
   },
   {
    "duration": 6,
    "start_time": "2022-03-20T11:24:52.928Z"
   },
   {
    "duration": 74,
    "start_time": "2022-03-20T11:24:52.936Z"
   },
   {
    "duration": 96,
    "start_time": "2022-03-20T11:24:53.013Z"
   },
   {
    "duration": 3,
    "start_time": "2022-03-20T11:24:53.111Z"
   },
   {
    "duration": 8,
    "start_time": "2022-03-20T11:24:53.116Z"
   },
   {
    "duration": 9,
    "start_time": "2022-03-20T11:24:53.126Z"
   },
   {
    "duration": 5,
    "start_time": "2022-03-20T11:24:53.214Z"
   },
   {
    "duration": 8,
    "start_time": "2022-03-20T11:25:25.757Z"
   },
   {
    "duration": 4,
    "start_time": "2022-03-20T11:25:29.412Z"
   },
   {
    "duration": 3,
    "start_time": "2022-03-20T11:26:25.935Z"
   },
   {
    "duration": 3,
    "start_time": "2022-03-20T11:26:26.610Z"
   },
   {
    "duration": 3,
    "start_time": "2022-03-20T11:26:27.169Z"
   },
   {
    "duration": 2,
    "start_time": "2022-03-20T11:26:27.796Z"
   },
   {
    "duration": 3,
    "start_time": "2022-03-20T11:26:28.497Z"
   },
   {
    "duration": 3,
    "start_time": "2022-03-20T11:26:29.077Z"
   },
   {
    "duration": 3,
    "start_time": "2022-03-20T11:26:29.843Z"
   },
   {
    "duration": 4,
    "start_time": "2022-03-20T11:29:39.846Z"
   },
   {
    "duration": 2,
    "start_time": "2022-03-20T11:29:41.604Z"
   },
   {
    "duration": 3,
    "start_time": "2022-03-20T11:29:42.438Z"
   },
   {
    "duration": 2,
    "start_time": "2022-03-20T11:29:52.267Z"
   },
   {
    "duration": 3,
    "start_time": "2022-03-20T11:29:53.454Z"
   },
   {
    "duration": 2,
    "start_time": "2022-03-20T11:29:54.327Z"
   },
   {
    "duration": 3,
    "start_time": "2022-03-20T11:29:55.796Z"
   },
   {
    "duration": 2,
    "start_time": "2022-03-20T11:30:21.763Z"
   },
   {
    "duration": 3,
    "start_time": "2022-03-20T11:30:23.793Z"
   },
   {
    "duration": 3,
    "start_time": "2022-03-20T11:30:24.866Z"
   },
   {
    "duration": 3,
    "start_time": "2022-03-20T11:30:25.885Z"
   },
   {
    "duration": 3,
    "start_time": "2022-03-20T11:33:07.214Z"
   },
   {
    "duration": 3,
    "start_time": "2022-03-20T11:33:16.274Z"
   },
   {
    "duration": 1130,
    "start_time": "2022-03-20T11:33:28.319Z"
   },
   {
    "duration": 13,
    "start_time": "2022-03-20T11:33:29.451Z"
   },
   {
    "duration": 15,
    "start_time": "2022-03-20T11:33:29.466Z"
   },
   {
    "duration": 10,
    "start_time": "2022-03-20T11:33:29.484Z"
   },
   {
    "duration": 14,
    "start_time": "2022-03-20T11:33:29.496Z"
   },
   {
    "duration": 8,
    "start_time": "2022-03-20T11:33:29.511Z"
   },
   {
    "duration": 5,
    "start_time": "2022-03-20T11:33:29.521Z"
   },
   {
    "duration": 4,
    "start_time": "2022-03-20T11:33:29.527Z"
   },
   {
    "duration": 82,
    "start_time": "2022-03-20T11:33:29.533Z"
   },
   {
    "duration": 93,
    "start_time": "2022-03-20T11:33:29.619Z"
   },
   {
    "duration": 108,
    "start_time": "2022-03-20T11:33:29.714Z"
   },
   {
    "duration": 0,
    "start_time": "2022-03-20T11:33:29.823Z"
   },
   {
    "duration": 0,
    "start_time": "2022-03-20T11:33:29.825Z"
   },
   {
    "duration": 0,
    "start_time": "2022-03-20T11:33:29.827Z"
   },
   {
    "duration": 0,
    "start_time": "2022-03-20T11:33:29.829Z"
   },
   {
    "duration": 0,
    "start_time": "2022-03-20T11:33:29.830Z"
   },
   {
    "duration": 0,
    "start_time": "2022-03-20T11:33:29.832Z"
   },
   {
    "duration": 0,
    "start_time": "2022-03-20T11:33:29.833Z"
   },
   {
    "duration": 0,
    "start_time": "2022-03-20T11:33:29.834Z"
   },
   {
    "duration": 0,
    "start_time": "2022-03-20T11:33:29.835Z"
   },
   {
    "duration": 3,
    "start_time": "2022-03-20T11:33:43.813Z"
   },
   {
    "duration": 3,
    "start_time": "2022-03-20T11:33:44.624Z"
   },
   {
    "duration": 3,
    "start_time": "2022-03-20T11:33:45.430Z"
   },
   {
    "duration": 4,
    "start_time": "2022-03-20T11:33:46.094Z"
   },
   {
    "duration": 3,
    "start_time": "2022-03-20T11:33:46.684Z"
   },
   {
    "duration": 3,
    "start_time": "2022-03-20T11:33:46.985Z"
   },
   {
    "duration": 2,
    "start_time": "2022-03-20T11:33:47.476Z"
   },
   {
    "duration": 4,
    "start_time": "2022-03-20T11:33:48.417Z"
   },
   {
    "duration": 12,
    "start_time": "2022-03-20T11:34:08.066Z"
   },
   {
    "duration": 4,
    "start_time": "2022-03-20T11:34:09.531Z"
   },
   {
    "duration": 9,
    "start_time": "2022-03-20T11:34:45.838Z"
   },
   {
    "duration": 4,
    "start_time": "2022-03-20T11:34:51.322Z"
   },
   {
    "duration": 1123,
    "start_time": "2022-03-20T11:36:15.709Z"
   },
   {
    "duration": 12,
    "start_time": "2022-03-20T11:36:16.834Z"
   },
   {
    "duration": 16,
    "start_time": "2022-03-20T11:36:16.848Z"
   },
   {
    "duration": 11,
    "start_time": "2022-03-20T11:36:16.866Z"
   },
   {
    "duration": 6,
    "start_time": "2022-03-20T11:36:16.879Z"
   },
   {
    "duration": 27,
    "start_time": "2022-03-20T11:36:16.887Z"
   },
   {
    "duration": 5,
    "start_time": "2022-03-20T11:36:16.916Z"
   },
   {
    "duration": 4,
    "start_time": "2022-03-20T11:36:16.923Z"
   },
   {
    "duration": 83,
    "start_time": "2022-03-20T11:36:16.929Z"
   },
   {
    "duration": 95,
    "start_time": "2022-03-20T11:36:17.015Z"
   },
   {
    "duration": 4,
    "start_time": "2022-03-20T11:36:17.112Z"
   },
   {
    "duration": 5,
    "start_time": "2022-03-20T11:36:17.117Z"
   },
   {
    "duration": 4,
    "start_time": "2022-03-20T11:36:17.124Z"
   },
   {
    "duration": 6,
    "start_time": "2022-03-20T11:36:17.130Z"
   },
   {
    "duration": 74,
    "start_time": "2022-03-20T11:36:17.138Z"
   },
   {
    "duration": 4,
    "start_time": "2022-03-20T11:36:17.214Z"
   },
   {
    "duration": 90,
    "start_time": "2022-03-20T11:36:17.220Z"
   },
   {
    "duration": 7,
    "start_time": "2022-03-20T11:36:17.312Z"
   },
   {
    "duration": 91,
    "start_time": "2022-03-20T11:36:17.322Z"
   },
   {
    "duration": 1084,
    "start_time": "2022-03-20T11:37:17.647Z"
   },
   {
    "duration": 18,
    "start_time": "2022-03-20T11:37:18.733Z"
   },
   {
    "duration": 18,
    "start_time": "2022-03-20T11:37:18.752Z"
   },
   {
    "duration": 11,
    "start_time": "2022-03-20T11:37:18.772Z"
   },
   {
    "duration": 6,
    "start_time": "2022-03-20T11:37:18.786Z"
   },
   {
    "duration": 7,
    "start_time": "2022-03-20T11:37:18.809Z"
   },
   {
    "duration": 5,
    "start_time": "2022-03-20T11:37:18.818Z"
   },
   {
    "duration": 4,
    "start_time": "2022-03-20T11:37:18.824Z"
   },
   {
    "duration": 82,
    "start_time": "2022-03-20T11:37:18.829Z"
   },
   {
    "duration": 96,
    "start_time": "2022-03-20T11:37:18.913Z"
   },
   {
    "duration": 7,
    "start_time": "2022-03-20T11:37:19.011Z"
   },
   {
    "duration": 7,
    "start_time": "2022-03-20T11:37:19.020Z"
   },
   {
    "duration": 5,
    "start_time": "2022-03-20T11:37:19.028Z"
   },
   {
    "duration": 4,
    "start_time": "2022-03-20T11:37:19.037Z"
   },
   {
    "duration": 5,
    "start_time": "2022-03-20T11:37:19.108Z"
   },
   {
    "duration": 5,
    "start_time": "2022-03-20T11:37:19.116Z"
   },
   {
    "duration": 90,
    "start_time": "2022-03-20T11:37:19.123Z"
   },
   {
    "duration": 9,
    "start_time": "2022-03-20T11:37:19.214Z"
   },
   {
    "duration": 89,
    "start_time": "2022-03-20T11:37:19.225Z"
   },
   {
    "duration": 1125,
    "start_time": "2022-03-20T12:18:39.600Z"
   },
   {
    "duration": 12,
    "start_time": "2022-03-20T12:18:40.727Z"
   },
   {
    "duration": 15,
    "start_time": "2022-03-20T12:18:40.741Z"
   },
   {
    "duration": 12,
    "start_time": "2022-03-20T12:18:40.758Z"
   },
   {
    "duration": 7,
    "start_time": "2022-03-20T12:18:40.772Z"
   },
   {
    "duration": 6,
    "start_time": "2022-03-20T12:18:40.780Z"
   },
   {
    "duration": 24,
    "start_time": "2022-03-20T12:18:40.788Z"
   },
   {
    "duration": 5,
    "start_time": "2022-03-20T12:18:40.813Z"
   },
   {
    "duration": 14,
    "start_time": "2022-03-20T12:18:40.819Z"
   },
   {
    "duration": 74,
    "start_time": "2022-03-20T12:18:40.836Z"
   },
   {
    "duration": 4,
    "start_time": "2022-03-20T12:18:41.008Z"
   },
   {
    "duration": 4,
    "start_time": "2022-03-20T12:18:41.014Z"
   },
   {
    "duration": 5,
    "start_time": "2022-03-20T12:18:41.020Z"
   },
   {
    "duration": 83,
    "start_time": "2022-03-20T12:18:41.026Z"
   },
   {
    "duration": 5,
    "start_time": "2022-03-20T12:18:41.111Z"
   },
   {
    "duration": 90,
    "start_time": "2022-03-20T12:18:41.119Z"
   },
   {
    "duration": 132,
    "start_time": "2022-03-20T12:18:41.211Z"
   },
   {
    "duration": 0,
    "start_time": "2022-03-20T12:18:41.344Z"
   },
   {
    "duration": 8,
    "start_time": "2022-03-20T12:19:00.699Z"
   },
   {
    "duration": 10,
    "start_time": "2022-03-20T12:19:49.207Z"
   },
   {
    "duration": 5,
    "start_time": "2022-03-20T12:19:50.296Z"
   },
   {
    "duration": 1178,
    "start_time": "2022-03-20T12:43:23.015Z"
   },
   {
    "duration": 13,
    "start_time": "2022-03-20T12:43:24.195Z"
   },
   {
    "duration": 21,
    "start_time": "2022-03-20T12:43:24.210Z"
   },
   {
    "duration": 12,
    "start_time": "2022-03-20T12:43:24.233Z"
   },
   {
    "duration": 6,
    "start_time": "2022-03-20T12:43:24.247Z"
   },
   {
    "duration": 6,
    "start_time": "2022-03-20T12:43:24.254Z"
   },
   {
    "duration": 5,
    "start_time": "2022-03-20T12:43:24.262Z"
   },
   {
    "duration": 43,
    "start_time": "2022-03-20T12:43:24.268Z"
   },
   {
    "duration": 108,
    "start_time": "2022-03-20T12:43:26.734Z"
   },
   {
    "duration": 0,
    "start_time": "2022-03-20T12:43:26.844Z"
   },
   {
    "duration": 0,
    "start_time": "2022-03-20T12:43:26.846Z"
   },
   {
    "duration": 0,
    "start_time": "2022-03-20T12:43:26.846Z"
   },
   {
    "duration": 0,
    "start_time": "2022-03-20T12:43:26.848Z"
   },
   {
    "duration": 0,
    "start_time": "2022-03-20T12:43:26.849Z"
   },
   {
    "duration": 0,
    "start_time": "2022-03-20T12:43:26.851Z"
   },
   {
    "duration": 0,
    "start_time": "2022-03-20T12:43:26.852Z"
   },
   {
    "duration": 0,
    "start_time": "2022-03-20T12:43:26.854Z"
   },
   {
    "duration": 1,
    "start_time": "2022-03-20T12:43:26.855Z"
   },
   {
    "duration": 0,
    "start_time": "2022-03-20T12:43:26.857Z"
   },
   {
    "duration": 1206,
    "start_time": "2022-03-20T12:44:09.924Z"
   },
   {
    "duration": 12,
    "start_time": "2022-03-20T12:44:11.132Z"
   },
   {
    "duration": 16,
    "start_time": "2022-03-20T12:44:11.146Z"
   },
   {
    "duration": 12,
    "start_time": "2022-03-20T12:44:11.164Z"
   },
   {
    "duration": 7,
    "start_time": "2022-03-20T12:44:11.178Z"
   },
   {
    "duration": 26,
    "start_time": "2022-03-20T12:44:11.187Z"
   },
   {
    "duration": 6,
    "start_time": "2022-03-20T12:44:11.216Z"
   },
   {
    "duration": 4,
    "start_time": "2022-03-20T12:44:11.224Z"
   },
   {
    "duration": 6,
    "start_time": "2022-03-20T12:44:11.230Z"
   },
   {
    "duration": 4,
    "start_time": "2022-03-20T12:44:11.239Z"
   },
   {
    "duration": 4,
    "start_time": "2022-03-20T12:44:11.244Z"
   },
   {
    "duration": 5,
    "start_time": "2022-03-20T12:44:11.250Z"
   },
   {
    "duration": 7,
    "start_time": "2022-03-20T12:44:11.310Z"
   },
   {
    "duration": 4,
    "start_time": "2022-03-20T12:44:11.323Z"
   },
   {
    "duration": 90,
    "start_time": "2022-03-20T12:44:11.330Z"
   },
   {
    "duration": 5,
    "start_time": "2022-03-20T12:44:11.423Z"
   },
   {
    "duration": 8,
    "start_time": "2022-03-20T12:44:11.430Z"
   },
   {
    "duration": 76,
    "start_time": "2022-03-20T12:44:11.440Z"
   },
   {
    "duration": 99,
    "start_time": "2022-03-20T12:44:11.517Z"
   },
   {
    "duration": 8,
    "start_time": "2022-03-20T12:44:31.524Z"
   },
   {
    "duration": 5,
    "start_time": "2022-03-20T12:45:04.434Z"
   },
   {
    "duration": 7,
    "start_time": "2022-03-20T12:45:05.677Z"
   },
   {
    "duration": 9,
    "start_time": "2022-03-20T12:45:53.691Z"
   },
   {
    "duration": 7,
    "start_time": "2022-03-20T12:46:13.258Z"
   },
   {
    "duration": 8,
    "start_time": "2022-03-20T12:46:25.676Z"
   },
   {
    "duration": 9,
    "start_time": "2022-03-20T12:50:25.624Z"
   },
   {
    "duration": 4,
    "start_time": "2022-03-20T12:55:44.685Z"
   },
   {
    "duration": 63,
    "start_time": "2022-03-20T12:55:57.295Z"
   },
   {
    "duration": 66,
    "start_time": "2022-03-20T12:56:08.095Z"
   },
   {
    "duration": 12,
    "start_time": "2022-03-20T12:56:56.313Z"
   },
   {
    "duration": 7,
    "start_time": "2022-03-20T12:57:17.156Z"
   },
   {
    "duration": 4,
    "start_time": "2022-03-20T12:57:23.894Z"
   },
   {
    "duration": 1619,
    "start_time": "2022-03-21T09:58:02.859Z"
   },
   {
    "duration": 14,
    "start_time": "2022-03-21T09:58:04.481Z"
   },
   {
    "duration": 24,
    "start_time": "2022-03-21T09:58:04.497Z"
   },
   {
    "duration": 17,
    "start_time": "2022-03-21T09:58:04.526Z"
   },
   {
    "duration": 10,
    "start_time": "2022-03-21T09:58:04.568Z"
   },
   {
    "duration": 12,
    "start_time": "2022-03-21T09:58:04.581Z"
   },
   {
    "duration": 11,
    "start_time": "2022-03-21T09:58:04.595Z"
   },
   {
    "duration": 5,
    "start_time": "2022-03-21T09:58:04.608Z"
   },
   {
    "duration": 11,
    "start_time": "2022-03-21T09:58:04.615Z"
   },
   {
    "duration": 40,
    "start_time": "2022-03-21T09:58:04.630Z"
   },
   {
    "duration": 5,
    "start_time": "2022-03-21T09:58:04.672Z"
   },
   {
    "duration": 21,
    "start_time": "2022-03-21T09:58:04.679Z"
   },
   {
    "duration": 5,
    "start_time": "2022-03-21T09:58:04.769Z"
   },
   {
    "duration": 99,
    "start_time": "2022-03-21T09:58:04.777Z"
   },
   {
    "duration": 8,
    "start_time": "2022-03-21T09:58:04.878Z"
   },
   {
    "duration": 9,
    "start_time": "2022-03-21T09:58:04.888Z"
   },
   {
    "duration": 69,
    "start_time": "2022-03-21T09:58:04.900Z"
   },
   {
    "duration": 16,
    "start_time": "2022-03-21T09:58:04.973Z"
   },
   {
    "duration": 12,
    "start_time": "2022-03-21T09:58:04.992Z"
   },
   {
    "duration": 1586,
    "start_time": "2022-03-21T10:12:49.820Z"
   },
   {
    "duration": 15,
    "start_time": "2022-03-21T10:12:51.409Z"
   },
   {
    "duration": 21,
    "start_time": "2022-03-21T10:12:51.426Z"
   },
   {
    "duration": 36,
    "start_time": "2022-03-21T10:12:51.450Z"
   },
   {
    "duration": 9,
    "start_time": "2022-03-21T10:12:51.488Z"
   },
   {
    "duration": 9,
    "start_time": "2022-03-21T10:12:51.499Z"
   },
   {
    "duration": 10,
    "start_time": "2022-03-21T10:12:51.511Z"
   },
   {
    "duration": 6,
    "start_time": "2022-03-21T10:12:51.523Z"
   },
   {
    "duration": 49,
    "start_time": "2022-03-21T10:12:51.531Z"
   },
   {
    "duration": 5,
    "start_time": "2022-03-21T10:12:51.584Z"
   },
   {
    "duration": 4,
    "start_time": "2022-03-21T10:12:51.591Z"
   },
   {
    "duration": 5,
    "start_time": "2022-03-21T10:12:51.598Z"
   },
   {
    "duration": 64,
    "start_time": "2022-03-21T10:12:51.605Z"
   },
   {
    "duration": 96,
    "start_time": "2022-03-21T10:12:51.672Z"
   },
   {
    "duration": 16,
    "start_time": "2022-03-21T10:12:51.772Z"
   },
   {
    "duration": 9,
    "start_time": "2022-03-21T10:12:51.791Z"
   },
   {
    "duration": 66,
    "start_time": "2022-03-21T10:12:51.803Z"
   },
   {
    "duration": 23,
    "start_time": "2022-03-21T10:12:51.872Z"
   },
   {
    "duration": 10,
    "start_time": "2022-03-21T10:12:51.897Z"
   },
   {
    "duration": 1787,
    "start_time": "2022-03-22T06:49:45.138Z"
   },
   {
    "duration": 19,
    "start_time": "2022-03-22T06:49:46.928Z"
   },
   {
    "duration": 26,
    "start_time": "2022-03-22T06:49:46.950Z"
   },
   {
    "duration": 17,
    "start_time": "2022-03-22T06:49:46.979Z"
   },
   {
    "duration": 11,
    "start_time": "2022-03-22T06:49:46.998Z"
   },
   {
    "duration": 12,
    "start_time": "2022-03-22T06:49:47.011Z"
   },
   {
    "duration": 8,
    "start_time": "2022-03-22T06:49:47.171Z"
   },
   {
    "duration": 6,
    "start_time": "2022-03-22T06:49:48.180Z"
   },
   {
    "duration": 1125,
    "start_time": "2022-03-22T18:53:08.706Z"
   },
   {
    "duration": 33,
    "start_time": "2022-03-22T18:53:09.833Z"
   },
   {
    "duration": 15,
    "start_time": "2022-03-22T18:53:09.868Z"
   },
   {
    "duration": 12,
    "start_time": "2022-03-22T18:53:09.885Z"
   },
   {
    "duration": 5,
    "start_time": "2022-03-22T18:53:09.898Z"
   },
   {
    "duration": 6,
    "start_time": "2022-03-22T18:53:09.905Z"
   },
   {
    "duration": 5,
    "start_time": "2022-03-22T18:53:09.912Z"
   },
   {
    "duration": 4,
    "start_time": "2022-03-22T18:53:09.919Z"
   },
   {
    "duration": 6,
    "start_time": "2022-03-22T18:53:09.925Z"
   },
   {
    "duration": 3,
    "start_time": "2022-03-22T18:53:09.934Z"
   },
   {
    "duration": 8,
    "start_time": "2022-03-22T18:53:09.938Z"
   },
   {
    "duration": 6,
    "start_time": "2022-03-22T18:53:09.947Z"
   },
   {
    "duration": 57,
    "start_time": "2022-03-22T18:53:09.956Z"
   },
   {
    "duration": 5,
    "start_time": "2022-03-22T18:53:10.016Z"
   },
   {
    "duration": 3,
    "start_time": "2022-03-22T18:53:10.109Z"
   },
   {
    "duration": 4,
    "start_time": "2022-03-22T18:53:10.114Z"
   },
   {
    "duration": 8,
    "start_time": "2022-03-22T18:53:10.120Z"
   },
   {
    "duration": 6,
    "start_time": "2022-03-22T18:53:10.130Z"
   },
   {
    "duration": 76,
    "start_time": "2022-03-22T18:53:10.137Z"
   },
   {
    "duration": 3,
    "start_time": "2022-03-22T19:31:05.525Z"
   },
   {
    "duration": 3,
    "start_time": "2022-03-22T19:31:06.605Z"
   },
   {
    "duration": 91,
    "start_time": "2022-03-22T20:01:25.780Z"
   },
   {
    "duration": 4,
    "start_time": "2022-03-22T20:01:39.390Z"
   },
   {
    "duration": 2,
    "start_time": "2022-03-22T20:01:41.257Z"
   },
   {
    "duration": 12,
    "start_time": "2022-03-22T20:01:42.217Z"
   },
   {
    "duration": 2,
    "start_time": "2022-03-22T20:02:20.728Z"
   },
   {
    "duration": 3,
    "start_time": "2022-03-22T20:02:21.550Z"
   },
   {
    "duration": 8,
    "start_time": "2022-03-22T20:14:10.242Z"
   },
   {
    "duration": 5,
    "start_time": "2022-03-22T20:15:06.404Z"
   },
   {
    "duration": 5,
    "start_time": "2022-03-22T20:15:54.621Z"
   },
   {
    "duration": 4,
    "start_time": "2022-03-22T20:22:04.121Z"
   },
   {
    "duration": 5,
    "start_time": "2022-03-22T20:22:25.519Z"
   },
   {
    "duration": 8,
    "start_time": "2022-03-22T20:38:57.537Z"
   },
   {
    "duration": 4,
    "start_time": "2022-03-22T20:39:02.588Z"
   },
   {
    "duration": 11,
    "start_time": "2022-03-22T20:39:03.660Z"
   },
   {
    "duration": 10,
    "start_time": "2022-03-22T20:39:11.153Z"
   },
   {
    "duration": 3,
    "start_time": "2022-03-22T20:39:37.658Z"
   },
   {
    "duration": 9,
    "start_time": "2022-03-22T20:39:38.689Z"
   },
   {
    "duration": 70,
    "start_time": "2022-03-22T20:39:39.520Z"
   },
   {
    "duration": 6,
    "start_time": "2022-03-22T20:40:22.941Z"
   },
   {
    "duration": 1569,
    "start_time": "2022-03-23T10:14:50.335Z"
   },
   {
    "duration": 17,
    "start_time": "2022-03-23T10:14:51.907Z"
   },
   {
    "duration": 29,
    "start_time": "2022-03-23T10:14:51.926Z"
   },
   {
    "duration": 26,
    "start_time": "2022-03-23T10:14:51.958Z"
   },
   {
    "duration": 11,
    "start_time": "2022-03-23T10:14:51.987Z"
   },
   {
    "duration": 14,
    "start_time": "2022-03-23T10:14:52.000Z"
   },
   {
    "duration": 9,
    "start_time": "2022-03-23T10:14:52.016Z"
   },
   {
    "duration": 9,
    "start_time": "2022-03-23T10:14:52.027Z"
   },
   {
    "duration": 49,
    "start_time": "2022-03-23T10:14:52.038Z"
   },
   {
    "duration": 6,
    "start_time": "2022-03-23T10:14:52.092Z"
   },
   {
    "duration": 11,
    "start_time": "2022-03-23T10:14:52.101Z"
   },
   {
    "duration": 7,
    "start_time": "2022-03-23T10:14:52.114Z"
   },
   {
    "duration": 60,
    "start_time": "2022-03-23T10:14:52.125Z"
   },
   {
    "duration": 5,
    "start_time": "2022-03-23T10:14:52.189Z"
   },
   {
    "duration": 102,
    "start_time": "2022-03-23T10:14:52.198Z"
   },
   {
    "duration": 83,
    "start_time": "2022-03-23T10:14:52.302Z"
   },
   {
    "duration": 28,
    "start_time": "2022-03-23T10:14:52.387Z"
   },
   {
    "duration": 99,
    "start_time": "2022-03-23T10:14:52.486Z"
   },
   {
    "duration": 6,
    "start_time": "2022-03-23T10:14:52.589Z"
   },
   {
    "duration": 13,
    "start_time": "2022-03-23T10:14:52.685Z"
   },
   {
    "duration": 85,
    "start_time": "2022-03-23T10:14:52.700Z"
   },
   {
    "duration": 9,
    "start_time": "2022-03-23T10:14:52.787Z"
   },
   {
    "duration": 100,
    "start_time": "2022-03-23T10:14:52.799Z"
   },
   {
    "duration": 18,
    "start_time": "2022-03-23T10:14:52.902Z"
   },
   {
    "duration": 64,
    "start_time": "2022-03-23T10:14:52.923Z"
   },
   {
    "duration": 30,
    "start_time": "2022-03-23T10:14:52.990Z"
   },
   {
    "duration": 34,
    "start_time": "2022-03-23T10:14:53.023Z"
   },
   {
    "duration": 5,
    "start_time": "2022-03-23T10:16:29.217Z"
   },
   {
    "duration": 15,
    "start_time": "2022-03-23T10:16:30.090Z"
   },
   {
    "duration": 7,
    "start_time": "2022-03-23T10:17:13.515Z"
   },
   {
    "duration": 1623,
    "start_time": "2022-03-23T10:23:26.881Z"
   },
   {
    "duration": 18,
    "start_time": "2022-03-23T10:23:28.507Z"
   },
   {
    "duration": 31,
    "start_time": "2022-03-23T10:23:28.527Z"
   },
   {
    "duration": 33,
    "start_time": "2022-03-23T10:23:28.561Z"
   },
   {
    "duration": 19,
    "start_time": "2022-03-23T10:23:28.596Z"
   },
   {
    "duration": 13,
    "start_time": "2022-03-23T10:23:28.618Z"
   },
   {
    "duration": 8,
    "start_time": "2022-03-23T10:23:28.633Z"
   },
   {
    "duration": 6,
    "start_time": "2022-03-23T10:23:28.643Z"
   },
   {
    "duration": 37,
    "start_time": "2022-03-23T10:23:28.652Z"
   },
   {
    "duration": 5,
    "start_time": "2022-03-23T10:23:28.693Z"
   },
   {
    "duration": 7,
    "start_time": "2022-03-23T10:23:28.700Z"
   },
   {
    "duration": 9,
    "start_time": "2022-03-23T10:23:28.710Z"
   },
   {
    "duration": 65,
    "start_time": "2022-03-23T10:23:28.721Z"
   },
   {
    "duration": 14,
    "start_time": "2022-03-23T10:23:28.790Z"
   },
   {
    "duration": 16,
    "start_time": "2022-03-23T10:23:28.884Z"
   },
   {
    "duration": 84,
    "start_time": "2022-03-23T10:23:28.903Z"
   },
   {
    "duration": 18,
    "start_time": "2022-03-23T10:23:28.990Z"
   },
   {
    "duration": 8,
    "start_time": "2022-03-23T10:23:29.010Z"
   },
   {
    "duration": 26,
    "start_time": "2022-03-23T10:23:29.020Z"
   },
   {
    "duration": 8,
    "start_time": "2022-03-23T10:23:29.048Z"
   },
   {
    "duration": 24,
    "start_time": "2022-03-23T10:23:29.059Z"
   },
   {
    "duration": 40,
    "start_time": "2022-03-23T10:23:29.087Z"
   },
   {
    "duration": 15,
    "start_time": "2022-03-23T10:23:29.129Z"
   },
   {
    "duration": 10,
    "start_time": "2022-03-23T10:23:29.146Z"
   },
   {
    "duration": 32,
    "start_time": "2022-03-23T10:23:29.158Z"
   },
   {
    "duration": 11,
    "start_time": "2022-03-23T10:23:29.193Z"
   },
   {
    "duration": 12,
    "start_time": "2022-03-23T10:23:29.207Z"
   },
   {
    "duration": 1980,
    "start_time": "2022-03-23T10:38:16.676Z"
   },
   {
    "duration": 24,
    "start_time": "2022-03-23T10:38:18.660Z"
   },
   {
    "duration": 34,
    "start_time": "2022-03-23T10:38:18.687Z"
   },
   {
    "duration": 25,
    "start_time": "2022-03-23T10:38:18.726Z"
   },
   {
    "duration": 32,
    "start_time": "2022-03-23T10:38:18.754Z"
   },
   {
    "duration": 11,
    "start_time": "2022-03-23T10:38:18.790Z"
   },
   {
    "duration": 7,
    "start_time": "2022-03-23T10:38:18.803Z"
   },
   {
    "duration": 6,
    "start_time": "2022-03-23T10:38:18.812Z"
   },
   {
    "duration": 10,
    "start_time": "2022-03-23T10:38:18.820Z"
   },
   {
    "duration": 6,
    "start_time": "2022-03-23T10:38:18.834Z"
   },
   {
    "duration": 6,
    "start_time": "2022-03-23T10:38:18.884Z"
   },
   {
    "duration": 9,
    "start_time": "2022-03-23T10:38:18.893Z"
   },
   {
    "duration": 81,
    "start_time": "2022-03-23T10:38:18.905Z"
   },
   {
    "duration": 94,
    "start_time": "2022-03-23T10:38:18.990Z"
   },
   {
    "duration": 13,
    "start_time": "2022-03-23T10:38:19.088Z"
   },
   {
    "duration": 82,
    "start_time": "2022-03-23T10:38:19.103Z"
   },
   {
    "duration": 14,
    "start_time": "2022-03-23T10:38:19.187Z"
   },
   {
    "duration": 9,
    "start_time": "2022-03-23T10:38:19.203Z"
   },
   {
    "duration": 8,
    "start_time": "2022-03-23T10:38:19.215Z"
   },
   {
    "duration": 9,
    "start_time": "2022-03-23T10:38:19.226Z"
   },
   {
    "duration": 8,
    "start_time": "2022-03-23T10:38:19.237Z"
   },
   {
    "duration": 4,
    "start_time": "2022-03-23T10:38:19.284Z"
   },
   {
    "duration": 6,
    "start_time": "2022-03-23T10:38:19.290Z"
   },
   {
    "duration": 6,
    "start_time": "2022-03-23T10:38:19.299Z"
   },
   {
    "duration": 6,
    "start_time": "2022-03-23T10:38:19.308Z"
   },
   {
    "duration": 8,
    "start_time": "2022-03-23T10:38:19.316Z"
   },
   {
    "duration": 7,
    "start_time": "2022-03-23T10:38:19.327Z"
   }
  ],
  "kernelspec": {
   "display_name": "Python 3",
   "language": "python",
   "name": "python3"
  },
  "language_info": {
   "codemirror_mode": {
    "name": "ipython",
    "version": 3
   },
   "file_extension": ".py",
   "mimetype": "text/x-python",
   "name": "python",
   "nbconvert_exporter": "python",
   "pygments_lexer": "ipython3",
   "version": "3.8.8"
  },
  "toc": {
   "base_numbering": 1,
   "nav_menu": {},
   "number_sections": true,
   "sideBar": true,
   "skip_h1_title": true,
   "title_cell": "Содержание",
   "title_sidebar": "Contents",
   "toc_cell": true,
   "toc_position": {
    "height": "calc(100% - 180px)",
    "left": "10px",
    "top": "150px",
    "width": "340.742px"
   },
   "toc_section_display": true,
   "toc_window_display": true
  }
 },
 "nbformat": 4,
 "nbformat_minor": 2
}
