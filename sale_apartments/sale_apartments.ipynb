{
 "cells": [
  {
   "cell_type": "markdown",
   "metadata": {
    "toc": true
   },
   "source": [
    "<h1>Содержание<span class=\"tocSkip\"></span></h1>\n",
    "<div class=\"toc\"><ul class=\"toc-item\"><li><span><a href=\"#Изучение-данных-из-файла\" data-toc-modified-id=\"Изучение-данных-из-файла-1\"><span class=\"toc-item-num\">1&nbsp;&nbsp;</span>Изучение данных из файла</a></span><ul class=\"toc-item\"><li><span><a href=\"#Вывод\" data-toc-modified-id=\"Вывод-1.1\"><span class=\"toc-item-num\">1.1&nbsp;&nbsp;</span>Вывод</a></span></li></ul></li><li><span><a href=\"#Предобработка-данных\" data-toc-modified-id=\"Предобработка-данных-2\"><span class=\"toc-item-num\">2&nbsp;&nbsp;</span>Предобработка данных</a></span><ul class=\"toc-item\"><li><span><a href=\"#Выводы\" data-toc-modified-id=\"Выводы-2.1\"><span class=\"toc-item-num\">2.1&nbsp;&nbsp;</span>Выводы</a></span></li></ul></li><li><span><a href=\"#Расчёты-и-добавление-результатов-в-таблицу\" data-toc-modified-id=\"Расчёты-и-добавление-результатов-в-таблицу-3\"><span class=\"toc-item-num\">3&nbsp;&nbsp;</span>Расчёты и добавление результатов в таблицу</a></span><ul class=\"toc-item\"><li><span><a href=\"#Выводы\" data-toc-modified-id=\"Выводы-3.1\"><span class=\"toc-item-num\">3.1&nbsp;&nbsp;</span>Выводы</a></span></li></ul></li><li><span><a href=\"#Исследовательский-анализ-данных\" data-toc-modified-id=\"Исследовательский-анализ-данных-4\"><span class=\"toc-item-num\">4&nbsp;&nbsp;</span>Исследовательский анализ данных</a></span><ul class=\"toc-item\"><li><span><a href=\"#Изучение-параметров-квартиры\" data-toc-modified-id=\"Изучение-параметров-квартиры-4.1\"><span class=\"toc-item-num\">4.1&nbsp;&nbsp;</span>Изучение параметров квартиры</a></span><ul class=\"toc-item\"><li><span><a href=\"#Общая-площадь\" data-toc-modified-id=\"Общая-площадь-4.1.1\"><span class=\"toc-item-num\">4.1.1&nbsp;&nbsp;</span>Общая площадь</a></span></li><li><span><a href=\"#Цена\" data-toc-modified-id=\"Цена-4.1.2\"><span class=\"toc-item-num\">4.1.2&nbsp;&nbsp;</span>Цена</a></span></li><li><span><a href=\"#Количество-комнат\" data-toc-modified-id=\"Количество-комнат-4.1.3\"><span class=\"toc-item-num\">4.1.3&nbsp;&nbsp;</span>Количество комнат</a></span></li><li><span><a href=\"#Высота-потолков\" data-toc-modified-id=\"Высота-потолков-4.1.4\"><span class=\"toc-item-num\">4.1.4&nbsp;&nbsp;</span>Высота потолков</a></span></li><li><span><a href=\"#Количество-дней-продажи\" data-toc-modified-id=\"Количество-дней-продажи-4.1.5\"><span class=\"toc-item-num\">4.1.5&nbsp;&nbsp;</span>Количество дней продажи</a></span></li></ul></li><li><span><a href=\"#Факторы,-влияющие-на-стоимость-квартиры\" data-toc-modified-id=\"Факторы,-влияющие-на-стоимость-квартиры-4.2\"><span class=\"toc-item-num\">4.2&nbsp;&nbsp;</span>Факторы, влияющие на стоимость квартиры</a></span><ul class=\"toc-item\"><li><span><a href=\"#Влияние-общей-площади\" data-toc-modified-id=\"Влияние-общей-площади-4.2.1\"><span class=\"toc-item-num\">4.2.1&nbsp;&nbsp;</span>Влияние общей площади</a></span></li><li><span><a href=\"#Влияние-количества-комнат\" data-toc-modified-id=\"Влияние-количества-комнат-4.2.2\"><span class=\"toc-item-num\">4.2.2&nbsp;&nbsp;</span>Влияние количества комнат</a></span></li><li><span><a href=\"#Влияние-этажа\" data-toc-modified-id=\"Влияние-этажа-4.2.3\"><span class=\"toc-item-num\">4.2.3&nbsp;&nbsp;</span>Влияние этажа</a></span></li><li><span><a href=\"#Влияние-дней-недели,-месяца-и-года\" data-toc-modified-id=\"Влияние-дней-недели,-месяца-и-года-4.2.4\"><span class=\"toc-item-num\">4.2.4&nbsp;&nbsp;</span>Влияние дней недели, месяца и года</a></span></li><li><span><a href=\"#Влияние-удаленности-от-центра\" data-toc-modified-id=\"Влияние-удаленности-от-центра-4.2.5\"><span class=\"toc-item-num\">4.2.5&nbsp;&nbsp;</span>Влияние удаленности от центра</a></span></li></ul></li><li><span><a href=\"#10-популярных-населенных-пункта\" data-toc-modified-id=\"10-популярных-населенных-пункта-4.3\"><span class=\"toc-item-num\">4.3&nbsp;&nbsp;</span>10 популярных населенных пункта</a></span></li><li><span><a href=\"#Изучение-квартир-в-центре-СПб\" data-toc-modified-id=\"Изучение-квартир-в-центре-СПб-4.4\"><span class=\"toc-item-num\">4.4&nbsp;&nbsp;</span>Изучение квартир в центре СПб</a></span></li><li><span><a href=\"#Выводы\" data-toc-modified-id=\"Выводы-4.5\"><span class=\"toc-item-num\">4.5&nbsp;&nbsp;</span>Выводы</a></span></li></ul></li><li><span><a href=\"#Общий-вывод\" data-toc-modified-id=\"Общий-вывод-5\"><span class=\"toc-item-num\">5&nbsp;&nbsp;</span>Общий вывод</a></span></li><li><span><a href=\"#Чек-лист-готовности-проекта\" data-toc-modified-id=\"Чек-лист-готовности-проекта-6\"><span class=\"toc-item-num\">6&nbsp;&nbsp;</span>Чек-лист готовности проекта</a></span></li></ul></div>"
   ]
  },
  {
   "cell_type": "markdown",
   "metadata": {},
   "source": [
    "# Исследование объявлений о продаже квартир\n",
    "\n",
    "В вашем распоряжении данные сервиса Яндекс.Недвижимость — архив объявлений о продаже квартир в Санкт-Петербурге и соседних населённых пунктах за несколько лет. Нужно научиться определять рыночную стоимость объектов недвижимости. Ваша задача — установить параметры. Это позволит построить автоматизированную систему: она отследит аномалии и мошенническую деятельность. \n",
    "\n",
    "По каждой квартире на продажу доступны два вида данных. Первые вписаны пользователем, вторые получены автоматически на основе картографических данных. Например, расстояние до центра, аэропорта, ближайшего парка и водоёма. "
   ]
  },
  {
   "cell_type": "markdown",
   "metadata": {},
   "source": [
    "## Изучение данных из файла"
   ]
  },
  {
   "cell_type": "code",
   "execution_count": 1,
   "metadata": {},
   "outputs": [
    {
     "data": {
      "text/html": [
       "<div>\n",
       "<style scoped>\n",
       "    .dataframe tbody tr th:only-of-type {\n",
       "        vertical-align: middle;\n",
       "    }\n",
       "\n",
       "    .dataframe tbody tr th {\n",
       "        vertical-align: top;\n",
       "    }\n",
       "\n",
       "    .dataframe thead th {\n",
       "        text-align: right;\n",
       "    }\n",
       "</style>\n",
       "<table border=\"1\" class=\"dataframe\">\n",
       "  <thead>\n",
       "    <tr style=\"text-align: right;\">\n",
       "      <th></th>\n",
       "      <th>total_images</th>\n",
       "      <th>last_price</th>\n",
       "      <th>total_area</th>\n",
       "      <th>first_day_exposition</th>\n",
       "      <th>rooms</th>\n",
       "      <th>ceiling_height</th>\n",
       "      <th>floors_total</th>\n",
       "      <th>living_area</th>\n",
       "      <th>floor</th>\n",
       "      <th>is_apartment</th>\n",
       "      <th>...</th>\n",
       "      <th>kitchen_area</th>\n",
       "      <th>balcony</th>\n",
       "      <th>locality_name</th>\n",
       "      <th>airports_nearest</th>\n",
       "      <th>cityCenters_nearest</th>\n",
       "      <th>parks_around3000</th>\n",
       "      <th>parks_nearest</th>\n",
       "      <th>ponds_around3000</th>\n",
       "      <th>ponds_nearest</th>\n",
       "      <th>days_exposition</th>\n",
       "    </tr>\n",
       "  </thead>\n",
       "  <tbody>\n",
       "    <tr>\n",
       "      <td>0</td>\n",
       "      <td>20</td>\n",
       "      <td>13000000.0</td>\n",
       "      <td>108.00</td>\n",
       "      <td>2019-03-07T00:00:00</td>\n",
       "      <td>3</td>\n",
       "      <td>2.70</td>\n",
       "      <td>16.0</td>\n",
       "      <td>51.00</td>\n",
       "      <td>8</td>\n",
       "      <td>NaN</td>\n",
       "      <td>...</td>\n",
       "      <td>25.00</td>\n",
       "      <td>NaN</td>\n",
       "      <td>Санкт-Петербург</td>\n",
       "      <td>18863.0</td>\n",
       "      <td>16028.0</td>\n",
       "      <td>1.0</td>\n",
       "      <td>482.0</td>\n",
       "      <td>2.0</td>\n",
       "      <td>755.0</td>\n",
       "      <td>NaN</td>\n",
       "    </tr>\n",
       "    <tr>\n",
       "      <td>1</td>\n",
       "      <td>7</td>\n",
       "      <td>3350000.0</td>\n",
       "      <td>40.40</td>\n",
       "      <td>2018-12-04T00:00:00</td>\n",
       "      <td>1</td>\n",
       "      <td>NaN</td>\n",
       "      <td>11.0</td>\n",
       "      <td>18.60</td>\n",
       "      <td>1</td>\n",
       "      <td>NaN</td>\n",
       "      <td>...</td>\n",
       "      <td>11.00</td>\n",
       "      <td>2.0</td>\n",
       "      <td>посёлок Шушары</td>\n",
       "      <td>12817.0</td>\n",
       "      <td>18603.0</td>\n",
       "      <td>0.0</td>\n",
       "      <td>NaN</td>\n",
       "      <td>0.0</td>\n",
       "      <td>NaN</td>\n",
       "      <td>81.0</td>\n",
       "    </tr>\n",
       "    <tr>\n",
       "      <td>2</td>\n",
       "      <td>10</td>\n",
       "      <td>5196000.0</td>\n",
       "      <td>56.00</td>\n",
       "      <td>2015-08-20T00:00:00</td>\n",
       "      <td>2</td>\n",
       "      <td>NaN</td>\n",
       "      <td>5.0</td>\n",
       "      <td>34.30</td>\n",
       "      <td>4</td>\n",
       "      <td>NaN</td>\n",
       "      <td>...</td>\n",
       "      <td>8.30</td>\n",
       "      <td>0.0</td>\n",
       "      <td>Санкт-Петербург</td>\n",
       "      <td>21741.0</td>\n",
       "      <td>13933.0</td>\n",
       "      <td>1.0</td>\n",
       "      <td>90.0</td>\n",
       "      <td>2.0</td>\n",
       "      <td>574.0</td>\n",
       "      <td>558.0</td>\n",
       "    </tr>\n",
       "    <tr>\n",
       "      <td>3</td>\n",
       "      <td>0</td>\n",
       "      <td>64900000.0</td>\n",
       "      <td>159.00</td>\n",
       "      <td>2015-07-24T00:00:00</td>\n",
       "      <td>3</td>\n",
       "      <td>NaN</td>\n",
       "      <td>14.0</td>\n",
       "      <td>NaN</td>\n",
       "      <td>9</td>\n",
       "      <td>NaN</td>\n",
       "      <td>...</td>\n",
       "      <td>NaN</td>\n",
       "      <td>0.0</td>\n",
       "      <td>Санкт-Петербург</td>\n",
       "      <td>28098.0</td>\n",
       "      <td>6800.0</td>\n",
       "      <td>2.0</td>\n",
       "      <td>84.0</td>\n",
       "      <td>3.0</td>\n",
       "      <td>234.0</td>\n",
       "      <td>424.0</td>\n",
       "    </tr>\n",
       "    <tr>\n",
       "      <td>4</td>\n",
       "      <td>2</td>\n",
       "      <td>10000000.0</td>\n",
       "      <td>100.00</td>\n",
       "      <td>2018-06-19T00:00:00</td>\n",
       "      <td>2</td>\n",
       "      <td>3.03</td>\n",
       "      <td>14.0</td>\n",
       "      <td>32.00</td>\n",
       "      <td>13</td>\n",
       "      <td>NaN</td>\n",
       "      <td>...</td>\n",
       "      <td>41.00</td>\n",
       "      <td>NaN</td>\n",
       "      <td>Санкт-Петербург</td>\n",
       "      <td>31856.0</td>\n",
       "      <td>8098.0</td>\n",
       "      <td>2.0</td>\n",
       "      <td>112.0</td>\n",
       "      <td>1.0</td>\n",
       "      <td>48.0</td>\n",
       "      <td>121.0</td>\n",
       "    </tr>\n",
       "    <tr>\n",
       "      <td>5</td>\n",
       "      <td>10</td>\n",
       "      <td>2890000.0</td>\n",
       "      <td>30.40</td>\n",
       "      <td>2018-09-10T00:00:00</td>\n",
       "      <td>1</td>\n",
       "      <td>NaN</td>\n",
       "      <td>12.0</td>\n",
       "      <td>14.40</td>\n",
       "      <td>5</td>\n",
       "      <td>NaN</td>\n",
       "      <td>...</td>\n",
       "      <td>9.10</td>\n",
       "      <td>NaN</td>\n",
       "      <td>городской посёлок Янино-1</td>\n",
       "      <td>NaN</td>\n",
       "      <td>NaN</td>\n",
       "      <td>NaN</td>\n",
       "      <td>NaN</td>\n",
       "      <td>NaN</td>\n",
       "      <td>NaN</td>\n",
       "      <td>55.0</td>\n",
       "    </tr>\n",
       "    <tr>\n",
       "      <td>6</td>\n",
       "      <td>6</td>\n",
       "      <td>3700000.0</td>\n",
       "      <td>37.30</td>\n",
       "      <td>2017-11-02T00:00:00</td>\n",
       "      <td>1</td>\n",
       "      <td>NaN</td>\n",
       "      <td>26.0</td>\n",
       "      <td>10.60</td>\n",
       "      <td>6</td>\n",
       "      <td>NaN</td>\n",
       "      <td>...</td>\n",
       "      <td>14.40</td>\n",
       "      <td>1.0</td>\n",
       "      <td>посёлок Парголово</td>\n",
       "      <td>52996.0</td>\n",
       "      <td>19143.0</td>\n",
       "      <td>0.0</td>\n",
       "      <td>NaN</td>\n",
       "      <td>0.0</td>\n",
       "      <td>NaN</td>\n",
       "      <td>155.0</td>\n",
       "    </tr>\n",
       "    <tr>\n",
       "      <td>7</td>\n",
       "      <td>5</td>\n",
       "      <td>7915000.0</td>\n",
       "      <td>71.60</td>\n",
       "      <td>2019-04-18T00:00:00</td>\n",
       "      <td>2</td>\n",
       "      <td>NaN</td>\n",
       "      <td>24.0</td>\n",
       "      <td>NaN</td>\n",
       "      <td>22</td>\n",
       "      <td>NaN</td>\n",
       "      <td>...</td>\n",
       "      <td>18.90</td>\n",
       "      <td>2.0</td>\n",
       "      <td>Санкт-Петербург</td>\n",
       "      <td>23982.0</td>\n",
       "      <td>11634.0</td>\n",
       "      <td>0.0</td>\n",
       "      <td>NaN</td>\n",
       "      <td>0.0</td>\n",
       "      <td>NaN</td>\n",
       "      <td>NaN</td>\n",
       "    </tr>\n",
       "    <tr>\n",
       "      <td>8</td>\n",
       "      <td>20</td>\n",
       "      <td>2900000.0</td>\n",
       "      <td>33.16</td>\n",
       "      <td>2018-05-23T00:00:00</td>\n",
       "      <td>1</td>\n",
       "      <td>NaN</td>\n",
       "      <td>27.0</td>\n",
       "      <td>15.43</td>\n",
       "      <td>26</td>\n",
       "      <td>NaN</td>\n",
       "      <td>...</td>\n",
       "      <td>8.81</td>\n",
       "      <td>NaN</td>\n",
       "      <td>посёлок Мурино</td>\n",
       "      <td>NaN</td>\n",
       "      <td>NaN</td>\n",
       "      <td>NaN</td>\n",
       "      <td>NaN</td>\n",
       "      <td>NaN</td>\n",
       "      <td>NaN</td>\n",
       "      <td>189.0</td>\n",
       "    </tr>\n",
       "    <tr>\n",
       "      <td>9</td>\n",
       "      <td>18</td>\n",
       "      <td>5400000.0</td>\n",
       "      <td>61.00</td>\n",
       "      <td>2017-02-26T00:00:00</td>\n",
       "      <td>3</td>\n",
       "      <td>2.50</td>\n",
       "      <td>9.0</td>\n",
       "      <td>43.60</td>\n",
       "      <td>7</td>\n",
       "      <td>NaN</td>\n",
       "      <td>...</td>\n",
       "      <td>6.50</td>\n",
       "      <td>2.0</td>\n",
       "      <td>Санкт-Петербург</td>\n",
       "      <td>50898.0</td>\n",
       "      <td>15008.0</td>\n",
       "      <td>0.0</td>\n",
       "      <td>NaN</td>\n",
       "      <td>0.0</td>\n",
       "      <td>NaN</td>\n",
       "      <td>289.0</td>\n",
       "    </tr>\n",
       "    <tr>\n",
       "      <td>10</td>\n",
       "      <td>5</td>\n",
       "      <td>5050000.0</td>\n",
       "      <td>39.60</td>\n",
       "      <td>2017-11-16T00:00:00</td>\n",
       "      <td>1</td>\n",
       "      <td>2.67</td>\n",
       "      <td>12.0</td>\n",
       "      <td>20.30</td>\n",
       "      <td>3</td>\n",
       "      <td>NaN</td>\n",
       "      <td>...</td>\n",
       "      <td>8.50</td>\n",
       "      <td>NaN</td>\n",
       "      <td>Санкт-Петербург</td>\n",
       "      <td>38357.0</td>\n",
       "      <td>13878.0</td>\n",
       "      <td>1.0</td>\n",
       "      <td>310.0</td>\n",
       "      <td>2.0</td>\n",
       "      <td>553.0</td>\n",
       "      <td>137.0</td>\n",
       "    </tr>\n",
       "    <tr>\n",
       "      <td>11</td>\n",
       "      <td>9</td>\n",
       "      <td>3300000.0</td>\n",
       "      <td>44.00</td>\n",
       "      <td>2018-08-27T00:00:00</td>\n",
       "      <td>2</td>\n",
       "      <td>NaN</td>\n",
       "      <td>5.0</td>\n",
       "      <td>31.00</td>\n",
       "      <td>4</td>\n",
       "      <td>False</td>\n",
       "      <td>...</td>\n",
       "      <td>6.00</td>\n",
       "      <td>1.0</td>\n",
       "      <td>Ломоносов</td>\n",
       "      <td>48252.0</td>\n",
       "      <td>51677.0</td>\n",
       "      <td>0.0</td>\n",
       "      <td>NaN</td>\n",
       "      <td>0.0</td>\n",
       "      <td>NaN</td>\n",
       "      <td>7.0</td>\n",
       "    </tr>\n",
       "    <tr>\n",
       "      <td>12</td>\n",
       "      <td>10</td>\n",
       "      <td>3890000.0</td>\n",
       "      <td>54.00</td>\n",
       "      <td>2016-06-30T00:00:00</td>\n",
       "      <td>2</td>\n",
       "      <td>NaN</td>\n",
       "      <td>5.0</td>\n",
       "      <td>30.00</td>\n",
       "      <td>5</td>\n",
       "      <td>NaN</td>\n",
       "      <td>...</td>\n",
       "      <td>9.00</td>\n",
       "      <td>0.0</td>\n",
       "      <td>Сертолово</td>\n",
       "      <td>NaN</td>\n",
       "      <td>NaN</td>\n",
       "      <td>NaN</td>\n",
       "      <td>NaN</td>\n",
       "      <td>NaN</td>\n",
       "      <td>NaN</td>\n",
       "      <td>90.0</td>\n",
       "    </tr>\n",
       "    <tr>\n",
       "      <td>13</td>\n",
       "      <td>20</td>\n",
       "      <td>3550000.0</td>\n",
       "      <td>42.80</td>\n",
       "      <td>2017-07-01T00:00:00</td>\n",
       "      <td>2</td>\n",
       "      <td>2.56</td>\n",
       "      <td>5.0</td>\n",
       "      <td>27.00</td>\n",
       "      <td>5</td>\n",
       "      <td>NaN</td>\n",
       "      <td>...</td>\n",
       "      <td>5.20</td>\n",
       "      <td>1.0</td>\n",
       "      <td>Петергоф</td>\n",
       "      <td>37868.0</td>\n",
       "      <td>33058.0</td>\n",
       "      <td>1.0</td>\n",
       "      <td>294.0</td>\n",
       "      <td>3.0</td>\n",
       "      <td>298.0</td>\n",
       "      <td>366.0</td>\n",
       "    </tr>\n",
       "    <tr>\n",
       "      <td>14</td>\n",
       "      <td>1</td>\n",
       "      <td>4400000.0</td>\n",
       "      <td>36.00</td>\n",
       "      <td>2016-06-23T00:00:00</td>\n",
       "      <td>1</td>\n",
       "      <td>NaN</td>\n",
       "      <td>6.0</td>\n",
       "      <td>17.00</td>\n",
       "      <td>1</td>\n",
       "      <td>NaN</td>\n",
       "      <td>...</td>\n",
       "      <td>8.00</td>\n",
       "      <td>0.0</td>\n",
       "      <td>Пушкин</td>\n",
       "      <td>20782.0</td>\n",
       "      <td>30759.0</td>\n",
       "      <td>0.0</td>\n",
       "      <td>NaN</td>\n",
       "      <td>1.0</td>\n",
       "      <td>96.0</td>\n",
       "      <td>203.0</td>\n",
       "    </tr>\n",
       "  </tbody>\n",
       "</table>\n",
       "<p>15 rows × 22 columns</p>\n",
       "</div>"
      ],
      "text/plain": [
       "    total_images  last_price  total_area first_day_exposition  rooms  \\\n",
       "0             20  13000000.0      108.00  2019-03-07T00:00:00      3   \n",
       "1              7   3350000.0       40.40  2018-12-04T00:00:00      1   \n",
       "2             10   5196000.0       56.00  2015-08-20T00:00:00      2   \n",
       "3              0  64900000.0      159.00  2015-07-24T00:00:00      3   \n",
       "4              2  10000000.0      100.00  2018-06-19T00:00:00      2   \n",
       "5             10   2890000.0       30.40  2018-09-10T00:00:00      1   \n",
       "6              6   3700000.0       37.30  2017-11-02T00:00:00      1   \n",
       "7              5   7915000.0       71.60  2019-04-18T00:00:00      2   \n",
       "8             20   2900000.0       33.16  2018-05-23T00:00:00      1   \n",
       "9             18   5400000.0       61.00  2017-02-26T00:00:00      3   \n",
       "10             5   5050000.0       39.60  2017-11-16T00:00:00      1   \n",
       "11             9   3300000.0       44.00  2018-08-27T00:00:00      2   \n",
       "12            10   3890000.0       54.00  2016-06-30T00:00:00      2   \n",
       "13            20   3550000.0       42.80  2017-07-01T00:00:00      2   \n",
       "14             1   4400000.0       36.00  2016-06-23T00:00:00      1   \n",
       "\n",
       "    ceiling_height  floors_total  living_area  floor is_apartment  ...  \\\n",
       "0             2.70          16.0        51.00      8          NaN  ...   \n",
       "1              NaN          11.0        18.60      1          NaN  ...   \n",
       "2              NaN           5.0        34.30      4          NaN  ...   \n",
       "3              NaN          14.0          NaN      9          NaN  ...   \n",
       "4             3.03          14.0        32.00     13          NaN  ...   \n",
       "5              NaN          12.0        14.40      5          NaN  ...   \n",
       "6              NaN          26.0        10.60      6          NaN  ...   \n",
       "7              NaN          24.0          NaN     22          NaN  ...   \n",
       "8              NaN          27.0        15.43     26          NaN  ...   \n",
       "9             2.50           9.0        43.60      7          NaN  ...   \n",
       "10            2.67          12.0        20.30      3          NaN  ...   \n",
       "11             NaN           5.0        31.00      4        False  ...   \n",
       "12             NaN           5.0        30.00      5          NaN  ...   \n",
       "13            2.56           5.0        27.00      5          NaN  ...   \n",
       "14             NaN           6.0        17.00      1          NaN  ...   \n",
       "\n",
       "    kitchen_area  balcony              locality_name  airports_nearest  \\\n",
       "0          25.00      NaN            Санкт-Петербург           18863.0   \n",
       "1          11.00      2.0             посёлок Шушары           12817.0   \n",
       "2           8.30      0.0            Санкт-Петербург           21741.0   \n",
       "3            NaN      0.0            Санкт-Петербург           28098.0   \n",
       "4          41.00      NaN            Санкт-Петербург           31856.0   \n",
       "5           9.10      NaN  городской посёлок Янино-1               NaN   \n",
       "6          14.40      1.0          посёлок Парголово           52996.0   \n",
       "7          18.90      2.0            Санкт-Петербург           23982.0   \n",
       "8           8.81      NaN             посёлок Мурино               NaN   \n",
       "9           6.50      2.0            Санкт-Петербург           50898.0   \n",
       "10          8.50      NaN            Санкт-Петербург           38357.0   \n",
       "11          6.00      1.0                  Ломоносов           48252.0   \n",
       "12          9.00      0.0                  Сертолово               NaN   \n",
       "13          5.20      1.0                   Петергоф           37868.0   \n",
       "14          8.00      0.0                     Пушкин           20782.0   \n",
       "\n",
       "   cityCenters_nearest  parks_around3000  parks_nearest  ponds_around3000  \\\n",
       "0              16028.0               1.0          482.0               2.0   \n",
       "1              18603.0               0.0            NaN               0.0   \n",
       "2              13933.0               1.0           90.0               2.0   \n",
       "3               6800.0               2.0           84.0               3.0   \n",
       "4               8098.0               2.0          112.0               1.0   \n",
       "5                  NaN               NaN            NaN               NaN   \n",
       "6              19143.0               0.0            NaN               0.0   \n",
       "7              11634.0               0.0            NaN               0.0   \n",
       "8                  NaN               NaN            NaN               NaN   \n",
       "9              15008.0               0.0            NaN               0.0   \n",
       "10             13878.0               1.0          310.0               2.0   \n",
       "11             51677.0               0.0            NaN               0.0   \n",
       "12                 NaN               NaN            NaN               NaN   \n",
       "13             33058.0               1.0          294.0               3.0   \n",
       "14             30759.0               0.0            NaN               1.0   \n",
       "\n",
       "    ponds_nearest  days_exposition  \n",
       "0           755.0              NaN  \n",
       "1             NaN             81.0  \n",
       "2           574.0            558.0  \n",
       "3           234.0            424.0  \n",
       "4            48.0            121.0  \n",
       "5             NaN             55.0  \n",
       "6             NaN            155.0  \n",
       "7             NaN              NaN  \n",
       "8             NaN            189.0  \n",
       "9             NaN            289.0  \n",
       "10          553.0            137.0  \n",
       "11            NaN              7.0  \n",
       "12            NaN             90.0  \n",
       "13          298.0            366.0  \n",
       "14           96.0            203.0  \n",
       "\n",
       "[15 rows x 22 columns]"
      ]
     },
     "execution_count": 1,
     "metadata": {},
     "output_type": "execute_result"
    }
   ],
   "source": [
    "import pandas as pd\n",
    "import matplotlib.pyplot as plt\n",
    "import seaborn as sns\n",
    "data = pd.read_csv('/datasets/real_estate_data.csv', sep='\\t')\n",
    "data.head(15)"
   ]
  },
  {
   "cell_type": "code",
   "execution_count": 2,
   "metadata": {},
   "outputs": [
    {
     "name": "stdout",
     "output_type": "stream",
     "text": [
      "<class 'pandas.core.frame.DataFrame'>\n",
      "RangeIndex: 23699 entries, 0 to 23698\n",
      "Data columns (total 22 columns):\n",
      "total_images            23699 non-null int64\n",
      "last_price              23699 non-null float64\n",
      "total_area              23699 non-null float64\n",
      "first_day_exposition    23699 non-null object\n",
      "rooms                   23699 non-null int64\n",
      "ceiling_height          14504 non-null float64\n",
      "floors_total            23613 non-null float64\n",
      "living_area             21796 non-null float64\n",
      "floor                   23699 non-null int64\n",
      "is_apartment            2775 non-null object\n",
      "studio                  23699 non-null bool\n",
      "open_plan               23699 non-null bool\n",
      "kitchen_area            21421 non-null float64\n",
      "balcony                 12180 non-null float64\n",
      "locality_name           23650 non-null object\n",
      "airports_nearest        18157 non-null float64\n",
      "cityCenters_nearest     18180 non-null float64\n",
      "parks_around3000        18181 non-null float64\n",
      "parks_nearest           8079 non-null float64\n",
      "ponds_around3000        18181 non-null float64\n",
      "ponds_nearest           9110 non-null float64\n",
      "days_exposition         20518 non-null float64\n",
      "dtypes: bool(2), float64(14), int64(3), object(3)\n",
      "memory usage: 3.7+ MB\n"
     ]
    }
   ],
   "source": [
    "data.info()"
   ]
  },
  {
   "cell_type": "code",
   "execution_count": 3,
   "metadata": {},
   "outputs": [
    {
     "data": {
      "text/html": [
       "<div>\n",
       "<style scoped>\n",
       "    .dataframe tbody tr th:only-of-type {\n",
       "        vertical-align: middle;\n",
       "    }\n",
       "\n",
       "    .dataframe tbody tr th {\n",
       "        vertical-align: top;\n",
       "    }\n",
       "\n",
       "    .dataframe thead th {\n",
       "        text-align: right;\n",
       "    }\n",
       "</style>\n",
       "<table border=\"1\" class=\"dataframe\">\n",
       "  <thead>\n",
       "    <tr style=\"text-align: right;\">\n",
       "      <th></th>\n",
       "      <th>total_images</th>\n",
       "      <th>last_price</th>\n",
       "      <th>total_area</th>\n",
       "      <th>rooms</th>\n",
       "      <th>ceiling_height</th>\n",
       "      <th>floors_total</th>\n",
       "      <th>living_area</th>\n",
       "      <th>floor</th>\n",
       "      <th>kitchen_area</th>\n",
       "      <th>balcony</th>\n",
       "      <th>airports_nearest</th>\n",
       "      <th>cityCenters_nearest</th>\n",
       "      <th>parks_around3000</th>\n",
       "      <th>parks_nearest</th>\n",
       "      <th>ponds_around3000</th>\n",
       "      <th>ponds_nearest</th>\n",
       "      <th>days_exposition</th>\n",
       "    </tr>\n",
       "  </thead>\n",
       "  <tbody>\n",
       "    <tr>\n",
       "      <td>count</td>\n",
       "      <td>23699.000000</td>\n",
       "      <td>2.369900e+04</td>\n",
       "      <td>23699.000000</td>\n",
       "      <td>23699.000000</td>\n",
       "      <td>14504.000000</td>\n",
       "      <td>23613.000000</td>\n",
       "      <td>21796.000000</td>\n",
       "      <td>23699.000000</td>\n",
       "      <td>21421.000000</td>\n",
       "      <td>12180.000000</td>\n",
       "      <td>18157.000000</td>\n",
       "      <td>18180.000000</td>\n",
       "      <td>18181.000000</td>\n",
       "      <td>8079.000000</td>\n",
       "      <td>18181.000000</td>\n",
       "      <td>9110.000000</td>\n",
       "      <td>20518.000000</td>\n",
       "    </tr>\n",
       "    <tr>\n",
       "      <td>mean</td>\n",
       "      <td>9.858475</td>\n",
       "      <td>6.541549e+06</td>\n",
       "      <td>60.348651</td>\n",
       "      <td>2.070636</td>\n",
       "      <td>2.771499</td>\n",
       "      <td>10.673824</td>\n",
       "      <td>34.457852</td>\n",
       "      <td>5.892358</td>\n",
       "      <td>10.569807</td>\n",
       "      <td>1.150082</td>\n",
       "      <td>28793.672193</td>\n",
       "      <td>14191.277833</td>\n",
       "      <td>0.611408</td>\n",
       "      <td>490.804555</td>\n",
       "      <td>0.770255</td>\n",
       "      <td>517.980900</td>\n",
       "      <td>180.888634</td>\n",
       "    </tr>\n",
       "    <tr>\n",
       "      <td>std</td>\n",
       "      <td>5.682529</td>\n",
       "      <td>1.088701e+07</td>\n",
       "      <td>35.654083</td>\n",
       "      <td>1.078405</td>\n",
       "      <td>1.261056</td>\n",
       "      <td>6.597173</td>\n",
       "      <td>22.030445</td>\n",
       "      <td>4.885249</td>\n",
       "      <td>5.905438</td>\n",
       "      <td>1.071300</td>\n",
       "      <td>12630.880622</td>\n",
       "      <td>8608.386210</td>\n",
       "      <td>0.802074</td>\n",
       "      <td>342.317995</td>\n",
       "      <td>0.938346</td>\n",
       "      <td>277.720643</td>\n",
       "      <td>219.727988</td>\n",
       "    </tr>\n",
       "    <tr>\n",
       "      <td>min</td>\n",
       "      <td>0.000000</td>\n",
       "      <td>1.219000e+04</td>\n",
       "      <td>12.000000</td>\n",
       "      <td>0.000000</td>\n",
       "      <td>1.000000</td>\n",
       "      <td>1.000000</td>\n",
       "      <td>2.000000</td>\n",
       "      <td>1.000000</td>\n",
       "      <td>1.300000</td>\n",
       "      <td>0.000000</td>\n",
       "      <td>0.000000</td>\n",
       "      <td>181.000000</td>\n",
       "      <td>0.000000</td>\n",
       "      <td>1.000000</td>\n",
       "      <td>0.000000</td>\n",
       "      <td>13.000000</td>\n",
       "      <td>1.000000</td>\n",
       "    </tr>\n",
       "    <tr>\n",
       "      <td>25%</td>\n",
       "      <td>6.000000</td>\n",
       "      <td>3.400000e+06</td>\n",
       "      <td>40.000000</td>\n",
       "      <td>1.000000</td>\n",
       "      <td>2.520000</td>\n",
       "      <td>5.000000</td>\n",
       "      <td>18.600000</td>\n",
       "      <td>2.000000</td>\n",
       "      <td>7.000000</td>\n",
       "      <td>0.000000</td>\n",
       "      <td>18585.000000</td>\n",
       "      <td>9238.000000</td>\n",
       "      <td>0.000000</td>\n",
       "      <td>288.000000</td>\n",
       "      <td>0.000000</td>\n",
       "      <td>294.000000</td>\n",
       "      <td>45.000000</td>\n",
       "    </tr>\n",
       "    <tr>\n",
       "      <td>50%</td>\n",
       "      <td>9.000000</td>\n",
       "      <td>4.650000e+06</td>\n",
       "      <td>52.000000</td>\n",
       "      <td>2.000000</td>\n",
       "      <td>2.650000</td>\n",
       "      <td>9.000000</td>\n",
       "      <td>30.000000</td>\n",
       "      <td>4.000000</td>\n",
       "      <td>9.100000</td>\n",
       "      <td>1.000000</td>\n",
       "      <td>26726.000000</td>\n",
       "      <td>13098.500000</td>\n",
       "      <td>0.000000</td>\n",
       "      <td>455.000000</td>\n",
       "      <td>1.000000</td>\n",
       "      <td>502.000000</td>\n",
       "      <td>95.000000</td>\n",
       "    </tr>\n",
       "    <tr>\n",
       "      <td>75%</td>\n",
       "      <td>14.000000</td>\n",
       "      <td>6.800000e+06</td>\n",
       "      <td>69.900000</td>\n",
       "      <td>3.000000</td>\n",
       "      <td>2.800000</td>\n",
       "      <td>16.000000</td>\n",
       "      <td>42.300000</td>\n",
       "      <td>8.000000</td>\n",
       "      <td>12.000000</td>\n",
       "      <td>2.000000</td>\n",
       "      <td>37273.000000</td>\n",
       "      <td>16293.000000</td>\n",
       "      <td>1.000000</td>\n",
       "      <td>612.000000</td>\n",
       "      <td>1.000000</td>\n",
       "      <td>729.000000</td>\n",
       "      <td>232.000000</td>\n",
       "    </tr>\n",
       "    <tr>\n",
       "      <td>max</td>\n",
       "      <td>50.000000</td>\n",
       "      <td>7.630000e+08</td>\n",
       "      <td>900.000000</td>\n",
       "      <td>19.000000</td>\n",
       "      <td>100.000000</td>\n",
       "      <td>60.000000</td>\n",
       "      <td>409.700000</td>\n",
       "      <td>33.000000</td>\n",
       "      <td>112.000000</td>\n",
       "      <td>5.000000</td>\n",
       "      <td>84869.000000</td>\n",
       "      <td>65968.000000</td>\n",
       "      <td>3.000000</td>\n",
       "      <td>3190.000000</td>\n",
       "      <td>3.000000</td>\n",
       "      <td>1344.000000</td>\n",
       "      <td>1580.000000</td>\n",
       "    </tr>\n",
       "  </tbody>\n",
       "</table>\n",
       "</div>"
      ],
      "text/plain": [
       "       total_images    last_price    total_area         rooms  ceiling_height  \\\n",
       "count  23699.000000  2.369900e+04  23699.000000  23699.000000    14504.000000   \n",
       "mean       9.858475  6.541549e+06     60.348651      2.070636        2.771499   \n",
       "std        5.682529  1.088701e+07     35.654083      1.078405        1.261056   \n",
       "min        0.000000  1.219000e+04     12.000000      0.000000        1.000000   \n",
       "25%        6.000000  3.400000e+06     40.000000      1.000000        2.520000   \n",
       "50%        9.000000  4.650000e+06     52.000000      2.000000        2.650000   \n",
       "75%       14.000000  6.800000e+06     69.900000      3.000000        2.800000   \n",
       "max       50.000000  7.630000e+08    900.000000     19.000000      100.000000   \n",
       "\n",
       "       floors_total   living_area         floor  kitchen_area       balcony  \\\n",
       "count  23613.000000  21796.000000  23699.000000  21421.000000  12180.000000   \n",
       "mean      10.673824     34.457852      5.892358     10.569807      1.150082   \n",
       "std        6.597173     22.030445      4.885249      5.905438      1.071300   \n",
       "min        1.000000      2.000000      1.000000      1.300000      0.000000   \n",
       "25%        5.000000     18.600000      2.000000      7.000000      0.000000   \n",
       "50%        9.000000     30.000000      4.000000      9.100000      1.000000   \n",
       "75%       16.000000     42.300000      8.000000     12.000000      2.000000   \n",
       "max       60.000000    409.700000     33.000000    112.000000      5.000000   \n",
       "\n",
       "       airports_nearest  cityCenters_nearest  parks_around3000  parks_nearest  \\\n",
       "count      18157.000000         18180.000000      18181.000000    8079.000000   \n",
       "mean       28793.672193         14191.277833          0.611408     490.804555   \n",
       "std        12630.880622          8608.386210          0.802074     342.317995   \n",
       "min            0.000000           181.000000          0.000000       1.000000   \n",
       "25%        18585.000000          9238.000000          0.000000     288.000000   \n",
       "50%        26726.000000         13098.500000          0.000000     455.000000   \n",
       "75%        37273.000000         16293.000000          1.000000     612.000000   \n",
       "max        84869.000000         65968.000000          3.000000    3190.000000   \n",
       "\n",
       "       ponds_around3000  ponds_nearest  days_exposition  \n",
       "count      18181.000000    9110.000000     20518.000000  \n",
       "mean           0.770255     517.980900       180.888634  \n",
       "std            0.938346     277.720643       219.727988  \n",
       "min            0.000000      13.000000         1.000000  \n",
       "25%            0.000000     294.000000        45.000000  \n",
       "50%            1.000000     502.000000        95.000000  \n",
       "75%            1.000000     729.000000       232.000000  \n",
       "max            3.000000    1344.000000      1580.000000  "
      ]
     },
     "execution_count": 3,
     "metadata": {},
     "output_type": "execute_result"
    }
   ],
   "source": [
    "data.describe()"
   ]
  },
  {
   "cell_type": "markdown",
   "metadata": {},
   "source": [
    "### Вывод"
   ]
  },
  {
   "cell_type": "markdown",
   "metadata": {},
   "source": [
    " - Предстоит выяснить, пропуски данных из-за отсутствия значений или \n",
    " - Некоторые столбцы имеют не удобный тип данных\n",
    " - Значения в столбце с датой лучше округлить до дня."
   ]
  },
  {
   "cell_type": "markdown",
   "metadata": {},
   "source": [
    "## Предобработка данных"
   ]
  },
  {
   "cell_type": "code",
   "execution_count": 4,
   "metadata": {},
   "outputs": [
    {
     "data": {
      "text/plain": [
       "0"
      ]
     },
     "execution_count": 4,
     "metadata": {},
     "output_type": "execute_result"
    }
   ],
   "source": [
    "data.duplicated().sum() # явные дубликаты отсутствуют"
   ]
  },
  {
   "cell_type": "code",
   "execution_count": 5,
   "metadata": {
    "scrolled": false
   },
   "outputs": [
    {
     "data": {
      "text/plain": [
       "total_images                0\n",
       "last_price                  0\n",
       "total_area                  0\n",
       "first_day_exposition        0\n",
       "rooms                       0\n",
       "ceiling_height           9195\n",
       "floors_total               86\n",
       "living_area              1903\n",
       "floor                       0\n",
       "is_apartment            20924\n",
       "studio                      0\n",
       "open_plan                   0\n",
       "kitchen_area             2278\n",
       "balcony                 11519\n",
       "locality_name              49\n",
       "airports_nearest         5542\n",
       "cityCenters_nearest      5519\n",
       "parks_around3000         5518\n",
       "parks_nearest           15620\n",
       "ponds_around3000         5518\n",
       "ponds_nearest           14589\n",
       "days_exposition          3181\n",
       "dtype: int64"
      ]
     },
     "execution_count": 5,
     "metadata": {},
     "output_type": "execute_result"
    }
   ],
   "source": [
    "data.isna().sum() # проверка на отсутствие значений"
   ]
  },
  {
   "cell_type": "code",
   "execution_count": 6,
   "metadata": {},
   "outputs": [],
   "source": [
    "data['first_day_exposition'] = pd.to_datetime(data['first_day_exposition'],format='%Y-%m-%d') #округление до дня"
   ]
  },
  {
   "cell_type": "code",
   "execution_count": 7,
   "metadata": {},
   "outputs": [],
   "source": [
    "data['days_exposition'] = data['days_exposition'].fillna(0) #заполнение пропущенных значений "
   ]
  },
  {
   "cell_type": "code",
   "execution_count": 8,
   "metadata": {},
   "outputs": [],
   "source": [
    "data['days_exposition'] = data['days_exposition'].astype('int') #изменение типа данных"
   ]
  },
  {
   "cell_type": "code",
   "execution_count": 9,
   "metadata": {},
   "outputs": [],
   "source": [
    "data.dropna(subset=['locality_name'], inplace=True) #удаление строк с отсутсвием значений"
   ]
  },
  {
   "cell_type": "code",
   "execution_count": 10,
   "metadata": {},
   "outputs": [],
   "source": [
    "# заполнение пропущенных данных средними значениями\n",
    "data['floors_total'] = data.groupby('locality_name')['floors_total'].apply(lambda x: x.fillna(x.mean()))\n",
    "data['floors_total'].fillna(data['floors_total'].mean(), inplace=True) \n"
   ]
  },
  {
   "cell_type": "code",
   "execution_count": 11,
   "metadata": {},
   "outputs": [
    {
     "name": "stderr",
     "output_type": "stream",
     "text": [
      "/opt/conda/lib/python3.7/site-packages/numpy/lib/nanfunctions.py:1111: RuntimeWarning: Mean of empty slice\n",
      "  return np.nanmean(a, axis, out=out, keepdims=keepdims)\n"
     ]
    },
    {
     "data": {
      "text/plain": [
       "0    51.00\n",
       "1    18.60\n",
       "2    34.30\n",
       "3    95.00\n",
       "4    32.00\n",
       "5    14.40\n",
       "6    10.60\n",
       "7    44.30\n",
       "8    15.43\n",
       "9    43.60\n",
       "Name: living_area, dtype: float64"
      ]
     },
     "metadata": {},
     "output_type": "display_data"
    }
   ],
   "source": [
    "# заполнение пропущенных значений медианными\n",
    "data['living_area'] = data.groupby('total_area')['living_area'].apply(lambda x: x.fillna(x.median()))\n",
    "data['living_area'].fillna(data['living_area'].median(), inplace=True) \n",
    "display(data['living_area'].head(10))"
   ]
  },
  {
   "cell_type": "code",
   "execution_count": 12,
   "metadata": {
    "scrolled": true
   },
   "outputs": [
    {
     "data": {
      "text/plain": [
       "0    25.00\n",
       "1    11.00\n",
       "2     8.30\n",
       "3    16.10\n",
       "4    41.00\n",
       "5     9.10\n",
       "6    14.40\n",
       "7    18.90\n",
       "8     8.81\n",
       "9     6.50\n",
       "Name: kitchen_area, dtype: float64"
      ]
     },
     "metadata": {},
     "output_type": "display_data"
    }
   ],
   "source": [
    "# заполнение пропущенных данных средними значениями\n",
    "data['kitchen_area'] = data.groupby('total_area')['kitchen_area'].apply(lambda x: x.fillna(x.mean()))\n",
    "data['kitchen_area'].fillna(data['kitchen_area'].mean(), inplace=True)\n",
    "display(data['kitchen_area'].head(10))"
   ]
  },
  {
   "cell_type": "code",
   "execution_count": 13,
   "metadata": {},
   "outputs": [],
   "source": [
    "data['is_apartment'] = data['is_apartment'].fillna(False) # отсутствующие значения заменены на False, \n",
    "                                                          # т.к. очевидно, что это не апартаменты"
   ]
  },
  {
   "cell_type": "code",
   "execution_count": 14,
   "metadata": {},
   "outputs": [],
   "source": [
    "data['balcony'] = data['balcony'].fillna(0) # вероятное отсутствие балконов обозначила 0"
   ]
  },
  {
   "cell_type": "code",
   "execution_count": 15,
   "metadata": {},
   "outputs": [
    {
     "data": {
      "text/plain": [
       "0    2.70\n",
       "1    2.75\n",
       "2    2.55\n",
       "3    2.60\n",
       "4    3.03\n",
       "5    2.65\n",
       "6    2.66\n",
       "7    2.75\n",
       "8    2.70\n",
       "9    2.50\n",
       "Name: ceiling_height, dtype: float64"
      ]
     },
     "metadata": {},
     "output_type": "display_data"
    }
   ],
   "source": [
    "#высоту потолков заполнила медианными значениями \n",
    "data['ceiling_height'] = data.groupby('floors_total')['ceiling_height'].apply(lambda x: x.fillna(x.median()))\n",
    "data['ceiling_height'].fillna(data['ceiling_height'].median(), inplace=True) \n",
    "\n",
    "display(data['ceiling_height'].head(10))"
   ]
  },
  {
   "cell_type": "code",
   "execution_count": 16,
   "metadata": {},
   "outputs": [
    {
     "data": {
      "text/plain": [
       "array(['Санкт-Петербург', 'посёлок Шушары', 'городской посёлок Янино-1',\n",
       "       'посёлок Парголово', 'посёлок Мурино', 'Ломоносов', 'Сертолово',\n",
       "       'Петергоф', 'Пушкин', 'деревня Кудрово', 'Коммунар', 'Колпино',\n",
       "       'поселок городского типа Красный Бор', 'Гатчина', 'поселок Мурино',\n",
       "       'деревня Фёдоровское', 'Выборг', 'Кронштадт', 'Кировск',\n",
       "       'деревня Новое Девяткино', 'посёлок Металлострой',\n",
       "       'посёлок городского типа Лебяжье',\n",
       "       'посёлок городского типа Сиверский', 'поселок Молодцово',\n",
       "       'поселок городского типа Кузьмоловский',\n",
       "       'садовое товарищество Новая Ропша', 'Павловск',\n",
       "       'деревня Пикколово', 'Всеволожск', 'Волхов', 'Кингисепп',\n",
       "       'Приозерск', 'Сестрорецк', 'деревня Куттузи', 'посёлок Аннино',\n",
       "       'поселок городского типа Ефимовский', 'посёлок Плодовое',\n",
       "       'деревня Заклинье', 'поселок Торковичи', 'поселок Первомайское',\n",
       "       'Красное Село', 'посёлок Понтонный', 'Сясьстрой', 'деревня Старая',\n",
       "       'деревня Лесколово', 'посёлок Новый Свет', 'Сланцы',\n",
       "       'село Путилово', 'Ивангород', 'Мурино', 'Шлиссельбург',\n",
       "       'Никольское', 'Зеленогорск', 'Сосновый Бор', 'поселок Новый Свет',\n",
       "       'деревня Оржицы', 'деревня Кальтино', 'Кудрово',\n",
       "       'поселок Романовка', 'посёлок Бугры', 'поселок Бугры',\n",
       "       'поселок городского типа Рощино', 'Кириши', 'Луга', 'Волосово',\n",
       "       'Отрадное', 'село Павлово', 'поселок Оредеж', 'село Копорье',\n",
       "       'посёлок городского типа Красный Бор', 'посёлок Молодёжное',\n",
       "       'Тихвин', 'посёлок Победа', 'деревня Нурма',\n",
       "       'поселок городского типа Синявино', 'Тосно',\n",
       "       'посёлок городского типа Кузьмоловский', 'посёлок Стрельна',\n",
       "       'Бокситогорск', 'посёлок Александровская', 'деревня Лопухинка',\n",
       "       'Пикалёво', 'поселок Терволово',\n",
       "       'поселок городского типа Советский', 'Подпорожье',\n",
       "       'посёлок Петровское', 'посёлок городского типа Токсово',\n",
       "       'поселок Сельцо', 'посёлок городского типа Вырица',\n",
       "       'деревня Кипень', 'деревня Келози', 'деревня Вартемяги',\n",
       "       'посёлок Тельмана', 'поселок Севастьяново',\n",
       "       'городской поселок Большая Ижора', 'городской посёлок Павлово',\n",
       "       'деревня Агалатово', 'посёлок Новогорелово',\n",
       "       'городской посёлок Лесогорский', 'деревня Лаголово',\n",
       "       'поселок Цвелодубово', 'поселок городского типа Рахья',\n",
       "       'поселок городского типа Вырица', 'деревня Белогорка',\n",
       "       'поселок Заводской', 'городской посёлок Новоселье',\n",
       "       'деревня Большие Колпаны', 'деревня Горбунки', 'деревня Батово',\n",
       "       'деревня Заневка', 'деревня Иссад', 'Приморск',\n",
       "       'городской посёлок Фёдоровское', 'деревня Мистолово',\n",
       "       'Новая Ладога', 'поселок Зимитицы', 'поселок Барышево',\n",
       "       'деревня Разметелево', 'поселок городского типа имени Свердлова',\n",
       "       'деревня Пеники', 'поселок Рябово', 'деревня Пудомяги',\n",
       "       'поселок станции Корнево', 'деревня Низино', 'деревня Бегуницы',\n",
       "       'посёлок Поляны', 'городской посёлок Мга', 'поселок Елизаветино',\n",
       "       'посёлок городского типа Кузнечное', 'деревня Колтуши',\n",
       "       'поселок Запорожское', 'посёлок городского типа Рощино',\n",
       "       'деревня Гостилицы', 'деревня Малое Карлино',\n",
       "       'посёлок Мичуринское', 'посёлок городского типа имени Морозова',\n",
       "       'посёлок Песочный', 'посёлок Сосново', 'деревня Аро',\n",
       "       'поселок Ильичёво', 'посёлок городского типа Тайцы',\n",
       "       'деревня Малое Верево', 'деревня Извара', 'поселок станции Вещево',\n",
       "       'село Паша', 'деревня Калитино',\n",
       "       'посёлок городского типа Ульяновка', 'деревня Чудской Бор',\n",
       "       'поселок городского типа Дубровка', 'деревня Мины',\n",
       "       'поселок Войсковицы', 'посёлок городского типа имени Свердлова',\n",
       "       'деревня Коркино', 'посёлок Ропша',\n",
       "       'поселок городского типа Приладожский', 'посёлок Щеглово',\n",
       "       'посёлок Гаврилово', 'Лодейное Поле', 'деревня Рабитицы',\n",
       "       'поселок городского типа Никольский', 'деревня Кузьмолово',\n",
       "       'деревня Малые Колпаны', 'поселок Тельмана',\n",
       "       'посёлок Петро-Славянка', 'городской посёлок Назия',\n",
       "       'посёлок Репино', 'посёлок Ильичёво', 'поселок Углово',\n",
       "       'поселок Старая Малукса', 'садовое товарищество Рахья',\n",
       "       'поселок Аннино', 'поселок Победа', 'деревня Меньково',\n",
       "       'деревня Старые Бегуницы', 'посёлок Сапёрный', 'поселок Семрино',\n",
       "       'поселок Гаврилово', 'поселок Глажево', 'поселок Кобринское',\n",
       "       'деревня Гарболово', 'деревня Юкки',\n",
       "       'поселок станции Приветнинское', 'деревня Мануйлово',\n",
       "       'деревня Пчева', 'поселок Поляны', 'поселок Цвылёво',\n",
       "       'поселок Мельниково', 'посёлок Пудость', 'посёлок Усть-Луга',\n",
       "       'Светогорск', 'Любань', 'поселок Селезнёво',\n",
       "       'поселок городского типа Рябово', 'Каменногорск', 'деревня Кривко',\n",
       "       'поселок Глебычево', 'деревня Парицы', 'поселок Жилпосёлок',\n",
       "       'посёлок городского типа Мга', 'городской поселок Янино-1',\n",
       "       'посёлок Войскорово', 'село Никольское', 'посёлок Терволово',\n",
       "       'поселок Стеклянный', 'посёлок городского типа Важины',\n",
       "       'посёлок Мыза-Ивановка', 'село Русско-Высоцкое',\n",
       "       'поселок городского типа Лебяжье',\n",
       "       'поселок городского типа Форносово', 'село Старая Ладога',\n",
       "       'поселок Житково', 'городской посёлок Виллози', 'деревня Лампово',\n",
       "       'деревня Шпаньково', 'деревня Лаврики', 'посёлок Сумино',\n",
       "       'посёлок Возрождение', 'деревня Старосиверская',\n",
       "       'посёлок Кикерино', 'поселок Возрождение',\n",
       "       'деревня Старое Хинколово', 'посёлок Пригородный',\n",
       "       'посёлок Торфяное', 'городской посёлок Будогощь',\n",
       "       'поселок Суходолье', 'поселок Красная Долина', 'деревня Хапо-Ое',\n",
       "       'поселок городского типа Дружная Горка', 'поселок Лисий Нос',\n",
       "       'деревня Яльгелево', 'посёлок Стеклянный', 'село Рождествено',\n",
       "       'деревня Старополье', 'посёлок Левашово', 'деревня Сяськелево',\n",
       "       'деревня Камышовка',\n",
       "       'садоводческое некоммерческое товарищество Лесная Поляна',\n",
       "       'деревня Хязельки', 'поселок Жилгородок',\n",
       "       'посёлок городского типа Павлово', 'деревня Ялгино',\n",
       "       'поселок Новый Учхоз', 'городской посёлок Рощино',\n",
       "       'поселок Гончарово', 'поселок Почап', 'посёлок Сапёрное',\n",
       "       'посёлок Платформа 69-й километр', 'поселок Каложицы',\n",
       "       'деревня Фалилеево', 'деревня Пельгора',\n",
       "       'поселок городского типа Лесогорский', 'деревня Торошковичи',\n",
       "       'посёлок Белоостров', 'посёлок Алексеевка', 'поселок Серебрянский',\n",
       "       'поселок Лукаши', 'поселок Петровское', 'деревня Щеглово',\n",
       "       'поселок Мичуринское', 'деревня Тарасово', 'поселок Кингисеппский',\n",
       "       'посёлок при железнодорожной станции Вещево', 'поселок Ушаки',\n",
       "       'деревня Котлы', 'деревня Сижно', 'деревня Торосово',\n",
       "       'посёлок Форт Красная Горка', 'поселок городского типа Токсово',\n",
       "       'деревня Новолисино', 'посёлок станции Громово', 'деревня Глинка',\n",
       "       'посёлок Мельниково', 'поселок городского типа Назия',\n",
       "       'деревня Старая Пустошь', 'поселок Коммунары', 'поселок Починок',\n",
       "       'посёлок городского типа Вознесенье', 'деревня Разбегаево',\n",
       "       'посёлок городского типа Рябово', 'поселок Гладкое',\n",
       "       'посёлок при железнодорожной станции Приветнинское',\n",
       "       'поселок Тёсово-4', 'посёлок Жилгородок', 'деревня Бор',\n",
       "       'посёлок Коробицыно', 'деревня Большая Вруда', 'деревня Курковицы',\n",
       "       'посёлок Лисий Нос', 'городской посёлок Советский',\n",
       "       'посёлок Кобралово', 'деревня Суоранда', 'поселок Кобралово',\n",
       "       'поселок городского типа Кондратьево',\n",
       "       'коттеджный поселок Счастье', 'поселок Любань', 'деревня Реброво',\n",
       "       'деревня Зимитицы', 'деревня Тойворово', 'поселок Семиозерье',\n",
       "       'поселок Лесное', 'поселок Совхозный', 'поселок Усть-Луга',\n",
       "       'посёлок Ленинское', 'посёлок Суйда',\n",
       "       'посёлок городского типа Форносово', 'деревня Нижние Осельки',\n",
       "       'посёлок станции Свирь', 'поселок Перово', 'Высоцк',\n",
       "       'поселок Гарболово', 'село Шум', 'поселок Котельский',\n",
       "       'поселок станции Лужайка', 'деревня Большая Пустомержа',\n",
       "       'поселок Красносельское', 'деревня Вахнова Кара', 'деревня Пижма',\n",
       "       'коттеджный поселок Кивеннапа Север', 'поселок Коробицыно',\n",
       "       'поселок Ромашки', 'посёлок Перово', 'деревня Каськово',\n",
       "       'деревня Куровицы', 'посёлок Плоское', 'поселок Сумино',\n",
       "       'поселок городского типа Большая Ижора', 'поселок Кирпичное',\n",
       "       'деревня Ям-Тесово', 'деревня Раздолье', 'деревня Терпилицы',\n",
       "       'посёлок Шугозеро', 'деревня Ваганово', 'поселок Пушное',\n",
       "       'садовое товарищество Садко', 'посёлок Усть-Ижора',\n",
       "       'деревня Выскатка', 'городской посёлок Свирьстрой',\n",
       "       'поселок Громово', 'деревня Кисельня', 'посёлок Старая Малукса',\n",
       "       'деревня Трубников Бор', 'поселок Калитино',\n",
       "       'посёлок Высокоключевой', 'садовое товарищество Приладожский',\n",
       "       'посёлок Пансионат Зелёный Бор', 'деревня Ненимяки',\n",
       "       'поселок Пансионат Зелёный Бор', 'деревня Снегирёвка',\n",
       "       'деревня Рапполово', 'деревня Пустынка', 'поселок Рабитицы',\n",
       "       'деревня Большой Сабск', 'деревня Русско', 'деревня Лупполово',\n",
       "       'деревня Большое Рейзино', 'деревня Малая Романовка',\n",
       "       'поселок Дружноселье', 'поселок Пчевжа', 'поселок Володарское',\n",
       "       'деревня Нижняя', 'коттеджный посёлок Лесное', 'деревня Тихковицы',\n",
       "       'деревня Борисова Грива', 'посёлок Дзержинского'], dtype=object)"
      ]
     },
     "execution_count": 16,
     "metadata": {},
     "output_type": "execute_result"
    }
   ],
   "source": [
    "data['locality_name'].unique() # проверка уникальных значений\n"
   ]
  },
  {
   "cell_type": "code",
   "execution_count": 17,
   "metadata": {
    "scrolled": true
   },
   "outputs": [],
   "source": [
    "# приведение к единобразию\n",
    "data['locality_name'] = data['locality_name'].apply(lambda x: x.replace(\"посёлок \", \"поселок \"))\n"
   ]
  },
  {
   "cell_type": "code",
   "execution_count": 18,
   "metadata": {
    "scrolled": true
   },
   "outputs": [],
   "source": [
    "# замена отсутствующих значений на отрицательную величину \n",
    "data['cityCenters_nearest'] = data['cityCenters_nearest'].fillna(-1)"
   ]
  },
  {
   "cell_type": "code",
   "execution_count": 19,
   "metadata": {},
   "outputs": [],
   "source": [
    "data['last_price'] = round(data['last_price'] / 1000000, 2)"
   ]
  },
  {
   "cell_type": "code",
   "execution_count": 20,
   "metadata": {},
   "outputs": [
    {
     "data": {
      "text/plain": [
       "total_images                0\n",
       "last_price                  0\n",
       "total_area                  0\n",
       "first_day_exposition        0\n",
       "rooms                       0\n",
       "ceiling_height              0\n",
       "floors_total                0\n",
       "living_area                 0\n",
       "floor                       0\n",
       "is_apartment                0\n",
       "studio                      0\n",
       "open_plan                   0\n",
       "kitchen_area                0\n",
       "balcony                     0\n",
       "locality_name               0\n",
       "airports_nearest         5534\n",
       "cityCenters_nearest         0\n",
       "parks_around3000         5510\n",
       "parks_nearest           15586\n",
       "ponds_around3000         5510\n",
       "ponds_nearest           14565\n",
       "days_exposition             0\n",
       "dtype: int64"
      ]
     },
     "execution_count": 20,
     "metadata": {},
     "output_type": "execute_result"
    }
   ],
   "source": [
    "data.isna().sum()"
   ]
  },
  {
   "cell_type": "markdown",
   "metadata": {},
   "source": [
    "### Выводы"
   ]
  },
  {
   "cell_type": "markdown",
   "metadata": {},
   "source": [
    " - Такие отсутствующие значения, как:\n",
    "     - days_exposition заполнила 0, так как данных нет и уточнить нет возможности.\n",
    "     - floors_total заполнила средними значениями исходя из расположения квартиры. Полагаю, что квартиры расположенные рядом имеют схожее количество этажей, поэтому среднее значение будет уместным.\n",
    "     - living_area заполнила медианными значениями, так как разбрас площади большой и крайние значения могут исказить результат.\n",
    "     - kitchen_area заполнила средними значениями в зависимости от общей площади. Предполагаю, что для квартир с одинаковой площадью квартиры кухня будет тоже в одинаковых пределах, поэтому среднее значение наиболее полно отразит площадь кухни.\n",
    "     - ceiling_height заполнены медианными значениями, так как крайние значения сильно отличаются от основной массы.\n",
    " - Строки с отсутствующими значениями в столбце locality_name удалены, так как это важнейший ценообразующий \n",
    "фактор, отсутствие которого может исказить данные.\n",
    " - В столбце locality_name произведена замена слова \"посёлок\" на \"поселок\".\n",
    " - Отсутствующие значения столбца balcony заменены на 0, так как очевидно, что балконы отсутствуют.\n",
    " - Отсутствующие значения в is_apartment заменены на False - вероятно, это не апартаменты.\n",
    " - В cityCenters_nearest отсутствующие значения заменены на -1, чтобы впоследствии можно было отсортировать их         \n",
    "    "
   ]
  },
  {
   "cell_type": "markdown",
   "metadata": {},
   "source": [
    "## Расчёты и добавление результатов в таблицу"
   ]
  },
  {
   "cell_type": "code",
   "execution_count": 21,
   "metadata": {
    "scrolled": true
   },
   "outputs": [
    {
     "data": {
      "text/html": [
       "<div>\n",
       "<style scoped>\n",
       "    .dataframe tbody tr th:only-of-type {\n",
       "        vertical-align: middle;\n",
       "    }\n",
       "\n",
       "    .dataframe tbody tr th {\n",
       "        vertical-align: top;\n",
       "    }\n",
       "\n",
       "    .dataframe thead th {\n",
       "        text-align: right;\n",
       "    }\n",
       "</style>\n",
       "<table border=\"1\" class=\"dataframe\">\n",
       "  <thead>\n",
       "    <tr style=\"text-align: right;\">\n",
       "      <th></th>\n",
       "      <th>total_images</th>\n",
       "      <th>last_price</th>\n",
       "      <th>total_area</th>\n",
       "      <th>first_day_exposition</th>\n",
       "      <th>rooms</th>\n",
       "      <th>ceiling_height</th>\n",
       "      <th>floors_total</th>\n",
       "      <th>living_area</th>\n",
       "      <th>floor</th>\n",
       "      <th>is_apartment</th>\n",
       "      <th>...</th>\n",
       "      <th>balcony</th>\n",
       "      <th>locality_name</th>\n",
       "      <th>airports_nearest</th>\n",
       "      <th>cityCenters_nearest</th>\n",
       "      <th>parks_around3000</th>\n",
       "      <th>parks_nearest</th>\n",
       "      <th>ponds_around3000</th>\n",
       "      <th>ponds_nearest</th>\n",
       "      <th>days_exposition</th>\n",
       "      <th>price_per_m2</th>\n",
       "    </tr>\n",
       "  </thead>\n",
       "  <tbody>\n",
       "    <tr>\n",
       "      <td>0</td>\n",
       "      <td>20</td>\n",
       "      <td>13.00</td>\n",
       "      <td>108.0</td>\n",
       "      <td>2019-03-07</td>\n",
       "      <td>3</td>\n",
       "      <td>2.70</td>\n",
       "      <td>16.0</td>\n",
       "      <td>51.0</td>\n",
       "      <td>8</td>\n",
       "      <td>False</td>\n",
       "      <td>...</td>\n",
       "      <td>0.0</td>\n",
       "      <td>Санкт-Петербург</td>\n",
       "      <td>18863.0</td>\n",
       "      <td>16028.0</td>\n",
       "      <td>1.0</td>\n",
       "      <td>482.0</td>\n",
       "      <td>2.0</td>\n",
       "      <td>755.0</td>\n",
       "      <td>0</td>\n",
       "      <td>0.12</td>\n",
       "    </tr>\n",
       "    <tr>\n",
       "      <td>1</td>\n",
       "      <td>7</td>\n",
       "      <td>3.35</td>\n",
       "      <td>40.4</td>\n",
       "      <td>2018-12-04</td>\n",
       "      <td>1</td>\n",
       "      <td>2.75</td>\n",
       "      <td>11.0</td>\n",
       "      <td>18.6</td>\n",
       "      <td>1</td>\n",
       "      <td>False</td>\n",
       "      <td>...</td>\n",
       "      <td>2.0</td>\n",
       "      <td>поселок Шушары</td>\n",
       "      <td>12817.0</td>\n",
       "      <td>18603.0</td>\n",
       "      <td>0.0</td>\n",
       "      <td>NaN</td>\n",
       "      <td>0.0</td>\n",
       "      <td>NaN</td>\n",
       "      <td>81</td>\n",
       "      <td>0.08</td>\n",
       "    </tr>\n",
       "    <tr>\n",
       "      <td>2</td>\n",
       "      <td>10</td>\n",
       "      <td>5.20</td>\n",
       "      <td>56.0</td>\n",
       "      <td>2015-08-20</td>\n",
       "      <td>2</td>\n",
       "      <td>2.55</td>\n",
       "      <td>5.0</td>\n",
       "      <td>34.3</td>\n",
       "      <td>4</td>\n",
       "      <td>False</td>\n",
       "      <td>...</td>\n",
       "      <td>0.0</td>\n",
       "      <td>Санкт-Петербург</td>\n",
       "      <td>21741.0</td>\n",
       "      <td>13933.0</td>\n",
       "      <td>1.0</td>\n",
       "      <td>90.0</td>\n",
       "      <td>2.0</td>\n",
       "      <td>574.0</td>\n",
       "      <td>558</td>\n",
       "      <td>0.09</td>\n",
       "    </tr>\n",
       "    <tr>\n",
       "      <td>3</td>\n",
       "      <td>0</td>\n",
       "      <td>64.90</td>\n",
       "      <td>159.0</td>\n",
       "      <td>2015-07-24</td>\n",
       "      <td>3</td>\n",
       "      <td>2.60</td>\n",
       "      <td>14.0</td>\n",
       "      <td>95.0</td>\n",
       "      <td>9</td>\n",
       "      <td>False</td>\n",
       "      <td>...</td>\n",
       "      <td>0.0</td>\n",
       "      <td>Санкт-Петербург</td>\n",
       "      <td>28098.0</td>\n",
       "      <td>6800.0</td>\n",
       "      <td>2.0</td>\n",
       "      <td>84.0</td>\n",
       "      <td>3.0</td>\n",
       "      <td>234.0</td>\n",
       "      <td>424</td>\n",
       "      <td>0.41</td>\n",
       "    </tr>\n",
       "    <tr>\n",
       "      <td>4</td>\n",
       "      <td>2</td>\n",
       "      <td>10.00</td>\n",
       "      <td>100.0</td>\n",
       "      <td>2018-06-19</td>\n",
       "      <td>2</td>\n",
       "      <td>3.03</td>\n",
       "      <td>14.0</td>\n",
       "      <td>32.0</td>\n",
       "      <td>13</td>\n",
       "      <td>False</td>\n",
       "      <td>...</td>\n",
       "      <td>0.0</td>\n",
       "      <td>Санкт-Петербург</td>\n",
       "      <td>31856.0</td>\n",
       "      <td>8098.0</td>\n",
       "      <td>2.0</td>\n",
       "      <td>112.0</td>\n",
       "      <td>1.0</td>\n",
       "      <td>48.0</td>\n",
       "      <td>121</td>\n",
       "      <td>0.10</td>\n",
       "    </tr>\n",
       "  </tbody>\n",
       "</table>\n",
       "<p>5 rows × 23 columns</p>\n",
       "</div>"
      ],
      "text/plain": [
       "   total_images  last_price  total_area first_day_exposition  rooms  \\\n",
       "0            20       13.00       108.0           2019-03-07      3   \n",
       "1             7        3.35        40.4           2018-12-04      1   \n",
       "2            10        5.20        56.0           2015-08-20      2   \n",
       "3             0       64.90       159.0           2015-07-24      3   \n",
       "4             2       10.00       100.0           2018-06-19      2   \n",
       "\n",
       "   ceiling_height  floors_total  living_area  floor  is_apartment  ...  \\\n",
       "0            2.70          16.0         51.0      8         False  ...   \n",
       "1            2.75          11.0         18.6      1         False  ...   \n",
       "2            2.55           5.0         34.3      4         False  ...   \n",
       "3            2.60          14.0         95.0      9         False  ...   \n",
       "4            3.03          14.0         32.0     13         False  ...   \n",
       "\n",
       "   balcony    locality_name  airports_nearest  cityCenters_nearest  \\\n",
       "0      0.0  Санкт-Петербург           18863.0              16028.0   \n",
       "1      2.0   поселок Шушары           12817.0              18603.0   \n",
       "2      0.0  Санкт-Петербург           21741.0              13933.0   \n",
       "3      0.0  Санкт-Петербург           28098.0               6800.0   \n",
       "4      0.0  Санкт-Петербург           31856.0               8098.0   \n",
       "\n",
       "  parks_around3000  parks_nearest  ponds_around3000  ponds_nearest  \\\n",
       "0              1.0          482.0               2.0          755.0   \n",
       "1              0.0            NaN               0.0            NaN   \n",
       "2              1.0           90.0               2.0          574.0   \n",
       "3              2.0           84.0               3.0          234.0   \n",
       "4              2.0          112.0               1.0           48.0   \n",
       "\n",
       "   days_exposition  price_per_m2  \n",
       "0                0          0.12  \n",
       "1               81          0.08  \n",
       "2              558          0.09  \n",
       "3              424          0.41  \n",
       "4              121          0.10  \n",
       "\n",
       "[5 rows x 23 columns]"
      ]
     },
     "metadata": {},
     "output_type": "display_data"
    }
   ],
   "source": [
    "# добавления столбца с ценой за квадратный метр\n",
    "data['price_per_m2'] =round(data['last_price'] / data['total_area'], 2)\n",
    "display(data.head())"
   ]
  },
  {
   "cell_type": "code",
   "execution_count": 22,
   "metadata": {},
   "outputs": [
    {
     "data": {
      "text/html": [
       "<div>\n",
       "<style scoped>\n",
       "    .dataframe tbody tr th:only-of-type {\n",
       "        vertical-align: middle;\n",
       "    }\n",
       "\n",
       "    .dataframe tbody tr th {\n",
       "        vertical-align: top;\n",
       "    }\n",
       "\n",
       "    .dataframe thead th {\n",
       "        text-align: right;\n",
       "    }\n",
       "</style>\n",
       "<table border=\"1\" class=\"dataframe\">\n",
       "  <thead>\n",
       "    <tr style=\"text-align: right;\">\n",
       "      <th></th>\n",
       "      <th>total_images</th>\n",
       "      <th>last_price</th>\n",
       "      <th>total_area</th>\n",
       "      <th>first_day_exposition</th>\n",
       "      <th>rooms</th>\n",
       "      <th>ceiling_height</th>\n",
       "      <th>floors_total</th>\n",
       "      <th>living_area</th>\n",
       "      <th>floor</th>\n",
       "      <th>is_apartment</th>\n",
       "      <th>...</th>\n",
       "      <th>cityCenters_nearest</th>\n",
       "      <th>parks_around3000</th>\n",
       "      <th>parks_nearest</th>\n",
       "      <th>ponds_around3000</th>\n",
       "      <th>ponds_nearest</th>\n",
       "      <th>days_exposition</th>\n",
       "      <th>price_per_m2</th>\n",
       "      <th>weekday</th>\n",
       "      <th>month</th>\n",
       "      <th>year</th>\n",
       "    </tr>\n",
       "  </thead>\n",
       "  <tbody>\n",
       "    <tr>\n",
       "      <td>0</td>\n",
       "      <td>20</td>\n",
       "      <td>13.00</td>\n",
       "      <td>108.0</td>\n",
       "      <td>2019-03-07</td>\n",
       "      <td>3</td>\n",
       "      <td>2.70</td>\n",
       "      <td>16.0</td>\n",
       "      <td>51.0</td>\n",
       "      <td>8</td>\n",
       "      <td>False</td>\n",
       "      <td>...</td>\n",
       "      <td>16028.0</td>\n",
       "      <td>1.0</td>\n",
       "      <td>482.0</td>\n",
       "      <td>2.0</td>\n",
       "      <td>755.0</td>\n",
       "      <td>0</td>\n",
       "      <td>0.12</td>\n",
       "      <td>3</td>\n",
       "      <td>3</td>\n",
       "      <td>2019</td>\n",
       "    </tr>\n",
       "    <tr>\n",
       "      <td>1</td>\n",
       "      <td>7</td>\n",
       "      <td>3.35</td>\n",
       "      <td>40.4</td>\n",
       "      <td>2018-12-04</td>\n",
       "      <td>1</td>\n",
       "      <td>2.75</td>\n",
       "      <td>11.0</td>\n",
       "      <td>18.6</td>\n",
       "      <td>1</td>\n",
       "      <td>False</td>\n",
       "      <td>...</td>\n",
       "      <td>18603.0</td>\n",
       "      <td>0.0</td>\n",
       "      <td>NaN</td>\n",
       "      <td>0.0</td>\n",
       "      <td>NaN</td>\n",
       "      <td>81</td>\n",
       "      <td>0.08</td>\n",
       "      <td>1</td>\n",
       "      <td>12</td>\n",
       "      <td>2018</td>\n",
       "    </tr>\n",
       "    <tr>\n",
       "      <td>2</td>\n",
       "      <td>10</td>\n",
       "      <td>5.20</td>\n",
       "      <td>56.0</td>\n",
       "      <td>2015-08-20</td>\n",
       "      <td>2</td>\n",
       "      <td>2.55</td>\n",
       "      <td>5.0</td>\n",
       "      <td>34.3</td>\n",
       "      <td>4</td>\n",
       "      <td>False</td>\n",
       "      <td>...</td>\n",
       "      <td>13933.0</td>\n",
       "      <td>1.0</td>\n",
       "      <td>90.0</td>\n",
       "      <td>2.0</td>\n",
       "      <td>574.0</td>\n",
       "      <td>558</td>\n",
       "      <td>0.09</td>\n",
       "      <td>3</td>\n",
       "      <td>8</td>\n",
       "      <td>2015</td>\n",
       "    </tr>\n",
       "    <tr>\n",
       "      <td>3</td>\n",
       "      <td>0</td>\n",
       "      <td>64.90</td>\n",
       "      <td>159.0</td>\n",
       "      <td>2015-07-24</td>\n",
       "      <td>3</td>\n",
       "      <td>2.60</td>\n",
       "      <td>14.0</td>\n",
       "      <td>95.0</td>\n",
       "      <td>9</td>\n",
       "      <td>False</td>\n",
       "      <td>...</td>\n",
       "      <td>6800.0</td>\n",
       "      <td>2.0</td>\n",
       "      <td>84.0</td>\n",
       "      <td>3.0</td>\n",
       "      <td>234.0</td>\n",
       "      <td>424</td>\n",
       "      <td>0.41</td>\n",
       "      <td>4</td>\n",
       "      <td>7</td>\n",
       "      <td>2015</td>\n",
       "    </tr>\n",
       "    <tr>\n",
       "      <td>4</td>\n",
       "      <td>2</td>\n",
       "      <td>10.00</td>\n",
       "      <td>100.0</td>\n",
       "      <td>2018-06-19</td>\n",
       "      <td>2</td>\n",
       "      <td>3.03</td>\n",
       "      <td>14.0</td>\n",
       "      <td>32.0</td>\n",
       "      <td>13</td>\n",
       "      <td>False</td>\n",
       "      <td>...</td>\n",
       "      <td>8098.0</td>\n",
       "      <td>2.0</td>\n",
       "      <td>112.0</td>\n",
       "      <td>1.0</td>\n",
       "      <td>48.0</td>\n",
       "      <td>121</td>\n",
       "      <td>0.10</td>\n",
       "      <td>1</td>\n",
       "      <td>6</td>\n",
       "      <td>2018</td>\n",
       "    </tr>\n",
       "  </tbody>\n",
       "</table>\n",
       "<p>5 rows × 26 columns</p>\n",
       "</div>"
      ],
      "text/plain": [
       "   total_images  last_price  total_area first_day_exposition  rooms  \\\n",
       "0            20       13.00       108.0           2019-03-07      3   \n",
       "1             7        3.35        40.4           2018-12-04      1   \n",
       "2            10        5.20        56.0           2015-08-20      2   \n",
       "3             0       64.90       159.0           2015-07-24      3   \n",
       "4             2       10.00       100.0           2018-06-19      2   \n",
       "\n",
       "   ceiling_height  floors_total  living_area  floor  is_apartment  ...  \\\n",
       "0            2.70          16.0         51.0      8         False  ...   \n",
       "1            2.75          11.0         18.6      1         False  ...   \n",
       "2            2.55           5.0         34.3      4         False  ...   \n",
       "3            2.60          14.0         95.0      9         False  ...   \n",
       "4            3.03          14.0         32.0     13         False  ...   \n",
       "\n",
       "   cityCenters_nearest  parks_around3000  parks_nearest  ponds_around3000  \\\n",
       "0              16028.0               1.0          482.0               2.0   \n",
       "1              18603.0               0.0            NaN               0.0   \n",
       "2              13933.0               1.0           90.0               2.0   \n",
       "3               6800.0               2.0           84.0               3.0   \n",
       "4               8098.0               2.0          112.0               1.0   \n",
       "\n",
       "  ponds_nearest  days_exposition  price_per_m2  weekday  month  year  \n",
       "0         755.0                0          0.12        3      3  2019  \n",
       "1           NaN               81          0.08        1     12  2018  \n",
       "2         574.0              558          0.09        3      8  2015  \n",
       "3         234.0              424          0.41        4      7  2015  \n",
       "4          48.0              121          0.10        1      6  2018  \n",
       "\n",
       "[5 rows x 26 columns]"
      ]
     },
     "metadata": {},
     "output_type": "display_data"
    }
   ],
   "source": [
    "# добавления столбцов с днем недели, месяцем и годом публикации объявления\n",
    "data['weekday'] = data['first_day_exposition'].dt.weekday\n",
    "data['month'] = data['first_day_exposition'].dt.month\n",
    "data['year'] = data['first_day_exposition'].dt.year\n",
    "display(data.head())\n"
   ]
  },
  {
   "cell_type": "code",
   "execution_count": 23,
   "metadata": {},
   "outputs": [
    {
     "data": {
      "text/html": [
       "<div>\n",
       "<style scoped>\n",
       "    .dataframe tbody tr th:only-of-type {\n",
       "        vertical-align: middle;\n",
       "    }\n",
       "\n",
       "    .dataframe tbody tr th {\n",
       "        vertical-align: top;\n",
       "    }\n",
       "\n",
       "    .dataframe thead th {\n",
       "        text-align: right;\n",
       "    }\n",
       "</style>\n",
       "<table border=\"1\" class=\"dataframe\">\n",
       "  <thead>\n",
       "    <tr style=\"text-align: right;\">\n",
       "      <th></th>\n",
       "      <th>total_images</th>\n",
       "      <th>last_price</th>\n",
       "      <th>total_area</th>\n",
       "      <th>first_day_exposition</th>\n",
       "      <th>rooms</th>\n",
       "      <th>ceiling_height</th>\n",
       "      <th>floors_total</th>\n",
       "      <th>living_area</th>\n",
       "      <th>floor</th>\n",
       "      <th>is_apartment</th>\n",
       "      <th>...</th>\n",
       "      <th>parks_around3000</th>\n",
       "      <th>parks_nearest</th>\n",
       "      <th>ponds_around3000</th>\n",
       "      <th>ponds_nearest</th>\n",
       "      <th>days_exposition</th>\n",
       "      <th>price_per_m2</th>\n",
       "      <th>weekday</th>\n",
       "      <th>month</th>\n",
       "      <th>year</th>\n",
       "      <th>flat_floor</th>\n",
       "    </tr>\n",
       "  </thead>\n",
       "  <tbody>\n",
       "    <tr>\n",
       "      <td>0</td>\n",
       "      <td>20</td>\n",
       "      <td>13.00</td>\n",
       "      <td>108.00</td>\n",
       "      <td>2019-03-07</td>\n",
       "      <td>3</td>\n",
       "      <td>2.70</td>\n",
       "      <td>16.0</td>\n",
       "      <td>51.00</td>\n",
       "      <td>8</td>\n",
       "      <td>False</td>\n",
       "      <td>...</td>\n",
       "      <td>1.0</td>\n",
       "      <td>482.0</td>\n",
       "      <td>2.0</td>\n",
       "      <td>755.0</td>\n",
       "      <td>0</td>\n",
       "      <td>0.12</td>\n",
       "      <td>3</td>\n",
       "      <td>3</td>\n",
       "      <td>2019</td>\n",
       "      <td>другой</td>\n",
       "    </tr>\n",
       "    <tr>\n",
       "      <td>1</td>\n",
       "      <td>7</td>\n",
       "      <td>3.35</td>\n",
       "      <td>40.40</td>\n",
       "      <td>2018-12-04</td>\n",
       "      <td>1</td>\n",
       "      <td>2.75</td>\n",
       "      <td>11.0</td>\n",
       "      <td>18.60</td>\n",
       "      <td>1</td>\n",
       "      <td>False</td>\n",
       "      <td>...</td>\n",
       "      <td>0.0</td>\n",
       "      <td>NaN</td>\n",
       "      <td>0.0</td>\n",
       "      <td>NaN</td>\n",
       "      <td>81</td>\n",
       "      <td>0.08</td>\n",
       "      <td>1</td>\n",
       "      <td>12</td>\n",
       "      <td>2018</td>\n",
       "      <td>первый</td>\n",
       "    </tr>\n",
       "    <tr>\n",
       "      <td>2</td>\n",
       "      <td>10</td>\n",
       "      <td>5.20</td>\n",
       "      <td>56.00</td>\n",
       "      <td>2015-08-20</td>\n",
       "      <td>2</td>\n",
       "      <td>2.55</td>\n",
       "      <td>5.0</td>\n",
       "      <td>34.30</td>\n",
       "      <td>4</td>\n",
       "      <td>False</td>\n",
       "      <td>...</td>\n",
       "      <td>1.0</td>\n",
       "      <td>90.0</td>\n",
       "      <td>2.0</td>\n",
       "      <td>574.0</td>\n",
       "      <td>558</td>\n",
       "      <td>0.09</td>\n",
       "      <td>3</td>\n",
       "      <td>8</td>\n",
       "      <td>2015</td>\n",
       "      <td>другой</td>\n",
       "    </tr>\n",
       "    <tr>\n",
       "      <td>3</td>\n",
       "      <td>0</td>\n",
       "      <td>64.90</td>\n",
       "      <td>159.00</td>\n",
       "      <td>2015-07-24</td>\n",
       "      <td>3</td>\n",
       "      <td>2.60</td>\n",
       "      <td>14.0</td>\n",
       "      <td>95.00</td>\n",
       "      <td>9</td>\n",
       "      <td>False</td>\n",
       "      <td>...</td>\n",
       "      <td>2.0</td>\n",
       "      <td>84.0</td>\n",
       "      <td>3.0</td>\n",
       "      <td>234.0</td>\n",
       "      <td>424</td>\n",
       "      <td>0.41</td>\n",
       "      <td>4</td>\n",
       "      <td>7</td>\n",
       "      <td>2015</td>\n",
       "      <td>другой</td>\n",
       "    </tr>\n",
       "    <tr>\n",
       "      <td>4</td>\n",
       "      <td>2</td>\n",
       "      <td>10.00</td>\n",
       "      <td>100.00</td>\n",
       "      <td>2018-06-19</td>\n",
       "      <td>2</td>\n",
       "      <td>3.03</td>\n",
       "      <td>14.0</td>\n",
       "      <td>32.00</td>\n",
       "      <td>13</td>\n",
       "      <td>False</td>\n",
       "      <td>...</td>\n",
       "      <td>2.0</td>\n",
       "      <td>112.0</td>\n",
       "      <td>1.0</td>\n",
       "      <td>48.0</td>\n",
       "      <td>121</td>\n",
       "      <td>0.10</td>\n",
       "      <td>1</td>\n",
       "      <td>6</td>\n",
       "      <td>2018</td>\n",
       "      <td>другой</td>\n",
       "    </tr>\n",
       "    <tr>\n",
       "      <td>5</td>\n",
       "      <td>10</td>\n",
       "      <td>2.89</td>\n",
       "      <td>30.40</td>\n",
       "      <td>2018-09-10</td>\n",
       "      <td>1</td>\n",
       "      <td>2.65</td>\n",
       "      <td>12.0</td>\n",
       "      <td>14.40</td>\n",
       "      <td>5</td>\n",
       "      <td>False</td>\n",
       "      <td>...</td>\n",
       "      <td>NaN</td>\n",
       "      <td>NaN</td>\n",
       "      <td>NaN</td>\n",
       "      <td>NaN</td>\n",
       "      <td>55</td>\n",
       "      <td>0.10</td>\n",
       "      <td>0</td>\n",
       "      <td>9</td>\n",
       "      <td>2018</td>\n",
       "      <td>другой</td>\n",
       "    </tr>\n",
       "    <tr>\n",
       "      <td>6</td>\n",
       "      <td>6</td>\n",
       "      <td>3.70</td>\n",
       "      <td>37.30</td>\n",
       "      <td>2017-11-02</td>\n",
       "      <td>1</td>\n",
       "      <td>2.66</td>\n",
       "      <td>26.0</td>\n",
       "      <td>10.60</td>\n",
       "      <td>6</td>\n",
       "      <td>False</td>\n",
       "      <td>...</td>\n",
       "      <td>0.0</td>\n",
       "      <td>NaN</td>\n",
       "      <td>0.0</td>\n",
       "      <td>NaN</td>\n",
       "      <td>155</td>\n",
       "      <td>0.10</td>\n",
       "      <td>3</td>\n",
       "      <td>11</td>\n",
       "      <td>2017</td>\n",
       "      <td>другой</td>\n",
       "    </tr>\n",
       "    <tr>\n",
       "      <td>7</td>\n",
       "      <td>5</td>\n",
       "      <td>7.92</td>\n",
       "      <td>71.60</td>\n",
       "      <td>2019-04-18</td>\n",
       "      <td>2</td>\n",
       "      <td>2.75</td>\n",
       "      <td>24.0</td>\n",
       "      <td>44.30</td>\n",
       "      <td>22</td>\n",
       "      <td>False</td>\n",
       "      <td>...</td>\n",
       "      <td>0.0</td>\n",
       "      <td>NaN</td>\n",
       "      <td>0.0</td>\n",
       "      <td>NaN</td>\n",
       "      <td>0</td>\n",
       "      <td>0.11</td>\n",
       "      <td>3</td>\n",
       "      <td>4</td>\n",
       "      <td>2019</td>\n",
       "      <td>другой</td>\n",
       "    </tr>\n",
       "    <tr>\n",
       "      <td>8</td>\n",
       "      <td>20</td>\n",
       "      <td>2.90</td>\n",
       "      <td>33.16</td>\n",
       "      <td>2018-05-23</td>\n",
       "      <td>1</td>\n",
       "      <td>2.70</td>\n",
       "      <td>27.0</td>\n",
       "      <td>15.43</td>\n",
       "      <td>26</td>\n",
       "      <td>False</td>\n",
       "      <td>...</td>\n",
       "      <td>NaN</td>\n",
       "      <td>NaN</td>\n",
       "      <td>NaN</td>\n",
       "      <td>NaN</td>\n",
       "      <td>189</td>\n",
       "      <td>0.09</td>\n",
       "      <td>2</td>\n",
       "      <td>5</td>\n",
       "      <td>2018</td>\n",
       "      <td>другой</td>\n",
       "    </tr>\n",
       "    <tr>\n",
       "      <td>9</td>\n",
       "      <td>18</td>\n",
       "      <td>5.40</td>\n",
       "      <td>61.00</td>\n",
       "      <td>2017-02-26</td>\n",
       "      <td>3</td>\n",
       "      <td>2.50</td>\n",
       "      <td>9.0</td>\n",
       "      <td>43.60</td>\n",
       "      <td>7</td>\n",
       "      <td>False</td>\n",
       "      <td>...</td>\n",
       "      <td>0.0</td>\n",
       "      <td>NaN</td>\n",
       "      <td>0.0</td>\n",
       "      <td>NaN</td>\n",
       "      <td>289</td>\n",
       "      <td>0.09</td>\n",
       "      <td>6</td>\n",
       "      <td>2</td>\n",
       "      <td>2017</td>\n",
       "      <td>другой</td>\n",
       "    </tr>\n",
       "  </tbody>\n",
       "</table>\n",
       "<p>10 rows × 27 columns</p>\n",
       "</div>"
      ],
      "text/plain": [
       "   total_images  last_price  total_area first_day_exposition  rooms  \\\n",
       "0            20       13.00      108.00           2019-03-07      3   \n",
       "1             7        3.35       40.40           2018-12-04      1   \n",
       "2            10        5.20       56.00           2015-08-20      2   \n",
       "3             0       64.90      159.00           2015-07-24      3   \n",
       "4             2       10.00      100.00           2018-06-19      2   \n",
       "5            10        2.89       30.40           2018-09-10      1   \n",
       "6             6        3.70       37.30           2017-11-02      1   \n",
       "7             5        7.92       71.60           2019-04-18      2   \n",
       "8            20        2.90       33.16           2018-05-23      1   \n",
       "9            18        5.40       61.00           2017-02-26      3   \n",
       "\n",
       "   ceiling_height  floors_total  living_area  floor  is_apartment  ...  \\\n",
       "0            2.70          16.0        51.00      8         False  ...   \n",
       "1            2.75          11.0        18.60      1         False  ...   \n",
       "2            2.55           5.0        34.30      4         False  ...   \n",
       "3            2.60          14.0        95.00      9         False  ...   \n",
       "4            3.03          14.0        32.00     13         False  ...   \n",
       "5            2.65          12.0        14.40      5         False  ...   \n",
       "6            2.66          26.0        10.60      6         False  ...   \n",
       "7            2.75          24.0        44.30     22         False  ...   \n",
       "8            2.70          27.0        15.43     26         False  ...   \n",
       "9            2.50           9.0        43.60      7         False  ...   \n",
       "\n",
       "   parks_around3000  parks_nearest  ponds_around3000  ponds_nearest  \\\n",
       "0               1.0          482.0               2.0          755.0   \n",
       "1               0.0            NaN               0.0            NaN   \n",
       "2               1.0           90.0               2.0          574.0   \n",
       "3               2.0           84.0               3.0          234.0   \n",
       "4               2.0          112.0               1.0           48.0   \n",
       "5               NaN            NaN               NaN            NaN   \n",
       "6               0.0            NaN               0.0            NaN   \n",
       "7               0.0            NaN               0.0            NaN   \n",
       "8               NaN            NaN               NaN            NaN   \n",
       "9               0.0            NaN               0.0            NaN   \n",
       "\n",
       "  days_exposition  price_per_m2  weekday  month  year  flat_floor  \n",
       "0               0          0.12        3      3  2019      другой  \n",
       "1              81          0.08        1     12  2018      первый  \n",
       "2             558          0.09        3      8  2015      другой  \n",
       "3             424          0.41        4      7  2015      другой  \n",
       "4             121          0.10        1      6  2018      другой  \n",
       "5              55          0.10        0      9  2018      другой  \n",
       "6             155          0.10        3     11  2017      другой  \n",
       "7               0          0.11        3      4  2019      другой  \n",
       "8             189          0.09        2      5  2018      другой  \n",
       "9             289          0.09        6      2  2017      другой  \n",
       "\n",
       "[10 rows x 27 columns]"
      ]
     },
     "metadata": {},
     "output_type": "display_data"
    }
   ],
   "source": [
    "def flat_floor(row):\n",
    "    ''' разделение этажей расположения квартир на 3 категории: первый, последний, другой'''\n",
    "    floor = row['floor']\n",
    "    total = row['floors_total']\n",
    "\n",
    "    if floor == 1:\n",
    "        return 'первый'\n",
    "    if floor == total:\n",
    "        return 'последний'\n",
    "    return 'другой'\n",
    "data['flat_floor'] = data.apply(flat_floor, axis=1) # добавления столбца с категориями этажей\n",
    "display(data.head(10))"
   ]
  },
  {
   "cell_type": "code",
   "execution_count": 24,
   "metadata": {
    "scrolled": true
   },
   "outputs": [
    {
     "data": {
      "text/html": [
       "<div>\n",
       "<style scoped>\n",
       "    .dataframe tbody tr th:only-of-type {\n",
       "        vertical-align: middle;\n",
       "    }\n",
       "\n",
       "    .dataframe tbody tr th {\n",
       "        vertical-align: top;\n",
       "    }\n",
       "\n",
       "    .dataframe thead th {\n",
       "        text-align: right;\n",
       "    }\n",
       "</style>\n",
       "<table border=\"1\" class=\"dataframe\">\n",
       "  <thead>\n",
       "    <tr style=\"text-align: right;\">\n",
       "      <th></th>\n",
       "      <th>total_images</th>\n",
       "      <th>last_price</th>\n",
       "      <th>total_area</th>\n",
       "      <th>first_day_exposition</th>\n",
       "      <th>rooms</th>\n",
       "      <th>ceiling_height</th>\n",
       "      <th>floors_total</th>\n",
       "      <th>living_area</th>\n",
       "      <th>floor</th>\n",
       "      <th>is_apartment</th>\n",
       "      <th>...</th>\n",
       "      <th>ponds_around3000</th>\n",
       "      <th>ponds_nearest</th>\n",
       "      <th>days_exposition</th>\n",
       "      <th>price_per_m2</th>\n",
       "      <th>weekday</th>\n",
       "      <th>month</th>\n",
       "      <th>year</th>\n",
       "      <th>flat_floor</th>\n",
       "      <th>ratio_living</th>\n",
       "      <th>ratio_kitchen</th>\n",
       "    </tr>\n",
       "  </thead>\n",
       "  <tbody>\n",
       "    <tr>\n",
       "      <td>0</td>\n",
       "      <td>20</td>\n",
       "      <td>13.00</td>\n",
       "      <td>108.0</td>\n",
       "      <td>2019-03-07</td>\n",
       "      <td>3</td>\n",
       "      <td>2.70</td>\n",
       "      <td>16.0</td>\n",
       "      <td>51.0</td>\n",
       "      <td>8</td>\n",
       "      <td>False</td>\n",
       "      <td>...</td>\n",
       "      <td>2.0</td>\n",
       "      <td>755.0</td>\n",
       "      <td>0</td>\n",
       "      <td>0.12</td>\n",
       "      <td>3</td>\n",
       "      <td>3</td>\n",
       "      <td>2019</td>\n",
       "      <td>другой</td>\n",
       "      <td>0.47</td>\n",
       "      <td>0.23</td>\n",
       "    </tr>\n",
       "    <tr>\n",
       "      <td>1</td>\n",
       "      <td>7</td>\n",
       "      <td>3.35</td>\n",
       "      <td>40.4</td>\n",
       "      <td>2018-12-04</td>\n",
       "      <td>1</td>\n",
       "      <td>2.75</td>\n",
       "      <td>11.0</td>\n",
       "      <td>18.6</td>\n",
       "      <td>1</td>\n",
       "      <td>False</td>\n",
       "      <td>...</td>\n",
       "      <td>0.0</td>\n",
       "      <td>NaN</td>\n",
       "      <td>81</td>\n",
       "      <td>0.08</td>\n",
       "      <td>1</td>\n",
       "      <td>12</td>\n",
       "      <td>2018</td>\n",
       "      <td>первый</td>\n",
       "      <td>0.46</td>\n",
       "      <td>0.27</td>\n",
       "    </tr>\n",
       "    <tr>\n",
       "      <td>2</td>\n",
       "      <td>10</td>\n",
       "      <td>5.20</td>\n",
       "      <td>56.0</td>\n",
       "      <td>2015-08-20</td>\n",
       "      <td>2</td>\n",
       "      <td>2.55</td>\n",
       "      <td>5.0</td>\n",
       "      <td>34.3</td>\n",
       "      <td>4</td>\n",
       "      <td>False</td>\n",
       "      <td>...</td>\n",
       "      <td>2.0</td>\n",
       "      <td>574.0</td>\n",
       "      <td>558</td>\n",
       "      <td>0.09</td>\n",
       "      <td>3</td>\n",
       "      <td>8</td>\n",
       "      <td>2015</td>\n",
       "      <td>другой</td>\n",
       "      <td>0.61</td>\n",
       "      <td>0.15</td>\n",
       "    </tr>\n",
       "    <tr>\n",
       "      <td>3</td>\n",
       "      <td>0</td>\n",
       "      <td>64.90</td>\n",
       "      <td>159.0</td>\n",
       "      <td>2015-07-24</td>\n",
       "      <td>3</td>\n",
       "      <td>2.60</td>\n",
       "      <td>14.0</td>\n",
       "      <td>95.0</td>\n",
       "      <td>9</td>\n",
       "      <td>False</td>\n",
       "      <td>...</td>\n",
       "      <td>3.0</td>\n",
       "      <td>234.0</td>\n",
       "      <td>424</td>\n",
       "      <td>0.41</td>\n",
       "      <td>4</td>\n",
       "      <td>7</td>\n",
       "      <td>2015</td>\n",
       "      <td>другой</td>\n",
       "      <td>0.60</td>\n",
       "      <td>0.10</td>\n",
       "    </tr>\n",
       "    <tr>\n",
       "      <td>4</td>\n",
       "      <td>2</td>\n",
       "      <td>10.00</td>\n",
       "      <td>100.0</td>\n",
       "      <td>2018-06-19</td>\n",
       "      <td>2</td>\n",
       "      <td>3.03</td>\n",
       "      <td>14.0</td>\n",
       "      <td>32.0</td>\n",
       "      <td>13</td>\n",
       "      <td>False</td>\n",
       "      <td>...</td>\n",
       "      <td>1.0</td>\n",
       "      <td>48.0</td>\n",
       "      <td>121</td>\n",
       "      <td>0.10</td>\n",
       "      <td>1</td>\n",
       "      <td>6</td>\n",
       "      <td>2018</td>\n",
       "      <td>другой</td>\n",
       "      <td>0.32</td>\n",
       "      <td>0.41</td>\n",
       "    </tr>\n",
       "  </tbody>\n",
       "</table>\n",
       "<p>5 rows × 29 columns</p>\n",
       "</div>"
      ],
      "text/plain": [
       "   total_images  last_price  total_area first_day_exposition  rooms  \\\n",
       "0            20       13.00       108.0           2019-03-07      3   \n",
       "1             7        3.35        40.4           2018-12-04      1   \n",
       "2            10        5.20        56.0           2015-08-20      2   \n",
       "3             0       64.90       159.0           2015-07-24      3   \n",
       "4             2       10.00       100.0           2018-06-19      2   \n",
       "\n",
       "   ceiling_height  floors_total  living_area  floor  is_apartment  ...  \\\n",
       "0            2.70          16.0         51.0      8         False  ...   \n",
       "1            2.75          11.0         18.6      1         False  ...   \n",
       "2            2.55           5.0         34.3      4         False  ...   \n",
       "3            2.60          14.0         95.0      9         False  ...   \n",
       "4            3.03          14.0         32.0     13         False  ...   \n",
       "\n",
       "   ponds_around3000  ponds_nearest  days_exposition  price_per_m2 weekday  \\\n",
       "0               2.0          755.0                0          0.12       3   \n",
       "1               0.0            NaN               81          0.08       1   \n",
       "2               2.0          574.0              558          0.09       3   \n",
       "3               3.0          234.0              424          0.41       4   \n",
       "4               1.0           48.0              121          0.10       1   \n",
       "\n",
       "   month  year  flat_floor  ratio_living  ratio_kitchen  \n",
       "0      3  2019      другой          0.47           0.23  \n",
       "1     12  2018      первый          0.46           0.27  \n",
       "2      8  2015      другой          0.61           0.15  \n",
       "3      7  2015      другой          0.60           0.10  \n",
       "4      6  2018      другой          0.32           0.41  \n",
       "\n",
       "[5 rows x 29 columns]"
      ]
     },
     "metadata": {},
     "output_type": "display_data"
    }
   ],
   "source": [
    "# определение и отражение в таблице доли жилых помещений и площади кухни\n",
    "data['ratio_living'] = round(data['living_area'] / data['total_area'], 2)\n",
    "data['ratio_kitchen'] = round(data['kitchen_area'] / data['total_area'], 2)\n",
    "display(data.head())"
   ]
  },
  {
   "cell_type": "markdown",
   "metadata": {},
   "source": [
    "### Выводы"
   ]
  },
  {
   "cell_type": "markdown",
   "metadata": {},
   "source": [
    "Таблица дополнена данными, отражающими цену 1 квадратного метра, доли жилых помещений и долю кухонной зоны.\n",
    "Проведена категоризация этажей."
   ]
  },
  {
   "cell_type": "markdown",
   "metadata": {},
   "source": [
    "## Исследовательский анализ данных"
   ]
  },
  {
   "cell_type": "markdown",
   "metadata": {},
   "source": [
    "### Изучение параметров квартиры"
   ]
  },
  {
   "cell_type": "markdown",
   "metadata": {},
   "source": [
    "#### Общая площадь"
   ]
  },
  {
   "cell_type": "code",
   "execution_count": 25,
   "metadata": {
    "scrolled": true
   },
   "outputs": [
    {
     "data": {
      "text/plain": [
       "19904     12.0\n",
       "19807     13.0\n",
       "17961     13.0\n",
       "19546     13.0\n",
       "19558     13.2\n",
       "         ...  \n",
       "5358     590.0\n",
       "15651    618.0\n",
       "3117     631.0\n",
       "12859    631.2\n",
       "19540    900.0\n",
       "Name: total_area, Length: 23650, dtype: float64"
      ]
     },
     "execution_count": 25,
     "metadata": {},
     "output_type": "execute_result"
    }
   ],
   "source": [
    "data['total_area'].sort_values()\n"
   ]
  },
  {
   "cell_type": "code",
   "execution_count": 26,
   "metadata": {
    "scrolled": true
   },
   "outputs": [
    {
     "data": {
      "image/png": "[encoded data removed]",
      "text/plain": [
       "<Figure size 432x288 with 1 Axes>"
      ]
     },
     "metadata": {
      "needs_background": "light"
     },
     "output_type": "display_data"
    }
   ],
   "source": [
    "plt.hist(data['total_area'], bins=30, range=(10,200))\n",
    "plt.title('Площадь квартир')\n",
    "plt.xlabel('Квадратные метры')\n",
    "plt.ylabel('Количество квартир')\n",
    "plt.show()"
   ]
  },
  {
   "cell_type": "markdown",
   "metadata": {},
   "source": [
    "Пик приходится на квартиры площадью до 50 кв.м. С увеличением площади, снижается количество оъявлений."
   ]
  },
  {
   "cell_type": "markdown",
   "metadata": {},
   "source": [
    "#### Цена"
   ]
  },
  {
   "cell_type": "code",
   "execution_count": 27,
   "metadata": {
    "scrolled": true
   },
   "outputs": [
    {
     "data": {
      "text/plain": [
       "count    23650.000000\n",
       "mean         6.541175\n",
       "std         10.896397\n",
       "min          0.010000\n",
       "25%          3.400000\n",
       "50%          4.650000\n",
       "75%          6.800000\n",
       "max        763.000000\n",
       "Name: last_price, dtype: float64"
      ]
     },
     "execution_count": 27,
     "metadata": {},
     "output_type": "execute_result"
    }
   ],
   "source": [
    "data['last_price'].describe()"
   ]
  },
  {
   "cell_type": "code",
   "execution_count": 28,
   "metadata": {
    "scrolled": false
   },
   "outputs": [
    {
     "data": {
      "image/png": "[encoded data removed]",
      "text/plain": [
       "<Figure size 432x288 with 1 Axes>"
      ]
     },
     "metadata": {
      "needs_background": "light"
     },
     "output_type": "display_data"
    }
   ],
   "source": [
    "plt.hist(data['last_price'], bins=50, range=(0, 40))\n",
    "plt.title('Цена')\n",
    "plt.xlabel('Стоимось, млн. руб.')\n",
    "plt.ylabel('Кол-во квартир')\n",
    "plt.show()"
   ]
  },
  {
   "cell_type": "markdown",
   "metadata": {},
   "source": [
    "Пик приходится на квартиры стоимостью до 5 млн. рублей. Квартиры стоимостью более 15 млн. совсем немного."
   ]
  },
  {
   "cell_type": "markdown",
   "metadata": {},
   "source": [
    "#### Количество комнат"
   ]
  },
  {
   "cell_type": "code",
   "execution_count": 29,
   "metadata": {
    "scrolled": true
   },
   "outputs": [
    {
     "data": {
      "text/plain": [
       "12130     0\n",
       "19477     0\n",
       "10008     0\n",
       "780       0\n",
       "7237      0\n",
       "         ..\n",
       "866      14\n",
       "20829    14\n",
       "5358     15\n",
       "18848    16\n",
       "14498    19\n",
       "Name: rooms, Length: 23650, dtype: int64"
      ]
     },
     "execution_count": 29,
     "metadata": {},
     "output_type": "execute_result"
    }
   ],
   "source": [
    "data['rooms'].sort_values() # полагаю, что 0 комнат не ошибка, а студии\n"
   ]
  },
  {
   "cell_type": "code",
   "execution_count": 30,
   "metadata": {
    "scrolled": true
   },
   "outputs": [
    {
     "data": {
      "image/png": "[encoded data removed]",
      "text/plain": [
       "<Figure size 432x288 with 1 Axes>"
      ]
     },
     "metadata": {
      "needs_background": "light"
     },
     "output_type": "display_data"
    }
   ],
   "source": [
    "plt.hist(data['rooms'], range=(0, 8), bins=15)\n",
    "plt.title('Комнаты')\n",
    "plt.xlabel('Кол-во комнат')\n",
    "plt.ylabel('Кол-во квартир')\n",
    "plt.show()"
   ]
  },
  {
   "cell_type": "markdown",
   "metadata": {},
   "source": [
    "Налицо преобладание однокомнатных квартир. Немного по количеству уступают двухкомнатные. Трехкомнатные тоже занимаю немалую часть, а дальше значительный спад."
   ]
  },
  {
   "cell_type": "markdown",
   "metadata": {},
   "source": [
    "#### Высота потолков"
   ]
  },
  {
   "cell_type": "code",
   "execution_count": 31,
   "metadata": {
    "scrolled": true
   },
   "outputs": [
    {
     "data": {
      "text/plain": [
       "22590      1.00\n",
       "5712       1.20\n",
       "16934      1.75\n",
       "2572       2.00\n",
       "16446      2.00\n",
       "          ...  \n",
       "5246      27.00\n",
       "21377     27.50\n",
       "22336     32.00\n",
       "3148      32.00\n",
       "22869    100.00\n",
       "Name: ceiling_height, Length: 23650, dtype: float64"
      ]
     },
     "execution_count": 31,
     "metadata": {},
     "output_type": "execute_result"
    }
   ],
   "source": [
    "data['ceiling_height'].sort_values()\n"
   ]
  },
  {
   "cell_type": "code",
   "execution_count": 32,
   "metadata": {
    "scrolled": false
   },
   "outputs": [
    {
     "data": {
      "image/png": "[encoded data removed]",
      "text/plain": [
       "<Figure size 432x288 with 1 Axes>"
      ]
     },
     "metadata": {
      "needs_background": "light"
     },
     "output_type": "display_data"
    }
   ],
   "source": [
    "plt.hist(data['ceiling_height'], range=(1, 5), bins=20)\n",
    "plt.title('Высота потолков')\n",
    "plt.xlabel('Высота потолков, м')\n",
    "plt.ylabel('Кол-во квартир')\n",
    "plt.show()"
   ]
  },
  {
   "cell_type": "markdown",
   "metadata": {},
   "source": [
    "В основном, квартиры имеют высоту потолков примерно от 2,6 до 2,75 метров. После этого значения идет резкий спад"
   ]
  },
  {
   "cell_type": "markdown",
   "metadata": {},
   "source": [
    "#### Количество дней продажи"
   ]
  },
  {
   "cell_type": "code",
   "execution_count": 33,
   "metadata": {
    "scrolled": true
   },
   "outputs": [
    {
     "data": {
      "text/plain": [
       "count    20470.000000\n",
       "mean       180.753200\n",
       "std        219.777916\n",
       "min          1.000000\n",
       "25%         45.000000\n",
       "50%         95.000000\n",
       "75%        231.000000\n",
       "max       1580.000000\n",
       "Name: days_exposition, dtype: float64"
      ]
     },
     "execution_count": 33,
     "metadata": {},
     "output_type": "execute_result"
    }
   ],
   "source": [
    "data.query('days_exposition !=0')['days_exposition'].describe()\n",
    "#убираем данные равные 0"
   ]
  },
  {
   "cell_type": "code",
   "execution_count": 34,
   "metadata": {},
   "outputs": [
    {
     "data": {
      "text/plain": [
       "count    20030.000000\n",
       "mean       168.488018\n",
       "std        187.562108\n",
       "min          4.000000\n",
       "25%         45.000000\n",
       "50%         94.000000\n",
       "75%        223.000000\n",
       "max        999.000000\n",
       "Name: real_days_expositions, dtype: float64"
      ]
     },
     "execution_count": 34,
     "metadata": {},
     "output_type": "execute_result"
    }
   ],
   "source": [
    "data['real_days_expositions'] = data.query('days_exposition > 3 and days_exposition < 1000') ['days_exposition']\n",
    "data['real_days_expositions'].describe()\n",
    "# отсортировываем объявления выставленные меньше 3 дней и больше 1000"
   ]
  },
  {
   "cell_type": "code",
   "execution_count": 35,
   "metadata": {
    "scrolled": true
   },
   "outputs": [
    {
     "data": {
      "image/png": "[encoded data removed]",
      "text/plain": [
       "<Figure size 432x288 with 1 Axes>"
      ]
     },
     "metadata": {
      "needs_background": "light"
     },
     "output_type": "display_data"
    }
   ],
   "source": [
    "plt.hist(data.query('days_exposition !=0')['days_exposition'], bins=25, range=(0, 1000))\n",
    "plt.title('Дни продажи с выбросами')\n",
    "plt.xlabel('Дни продажи')\n",
    "plt.ylabel('Кол-во квартир')\n",
    "plt.show()"
   ]
  },
  {
   "cell_type": "code",
   "execution_count": 36,
   "metadata": {},
   "outputs": [
    {
     "data": {
      "image/png": "[encoded data removed]",
      "text/plain": [
       "<Figure size 432x288 with 1 Axes>"
      ]
     },
     "metadata": {
      "needs_background": "light"
     },
     "output_type": "display_data"
    }
   ],
   "source": [
    "plt.hist(data['real_days_expositions'], bins=25)# \n",
    "plt.title('Дни продаж без выбросов')\n",
    "plt.xlabel('Кол-во дней')\n",
    "plt.ylabel('Кол-во квартир')\n",
    "plt.show()"
   ]
  },
  {
   "cell_type": "markdown",
   "metadata": {},
   "source": [
    "Графики с выбросами и без них идентичны. Среднее значение изменилось незначительно, а медиана почти не изменилась.  Основной объем продаж происходит в пределах 100 дней."
   ]
  },
  {
   "cell_type": "markdown",
   "metadata": {},
   "source": [
    "### Факторы, влияющие на стоимость квартиры"
   ]
  },
  {
   "cell_type": "markdown",
   "metadata": {},
   "source": [
    "#### Влияние общей площади"
   ]
  },
  {
   "cell_type": "code",
   "execution_count": 37,
   "metadata": {
    "scrolled": false
   },
   "outputs": [
    {
     "data": {
      "text/plain": [
       "0.6537428086191814"
      ]
     },
     "execution_count": 37,
     "metadata": {},
     "output_type": "execute_result"
    }
   ],
   "source": [
    "data['last_price'].corr(data['total_area']) # зависимость между ценой и общей площадью наблюдается "
   ]
  },
  {
   "cell_type": "code",
   "execution_count": 38,
   "metadata": {
    "scrolled": true
   },
   "outputs": [
    {
     "data": {
      "text/plain": [
       "<matplotlib.axes._subplots.AxesSubplot at 0x7f057f042b90>"
      ]
     },
     "execution_count": 38,
     "metadata": {},
     "output_type": "execute_result"
    },
    {
     "data": {
      "image/png": "[encoded data removed]",
      "text/plain": [
       "<Figure size 576x288 with 1 Axes>"
      ]
     },
     "metadata": {
      "needs_background": "light"
     },
     "output_type": "display_data"
    }
   ],
   "source": [
    "data.pivot_table(index='total_area', values='last_price').plot(style='o', grid=True, figsize=(8, 4))"
   ]
  },
  {
   "cell_type": "markdown",
   "metadata": {},
   "source": [
    "Между ценой и общай площадью есть прямая положительная зависимость: при увеличении площади увеличивается и стоимость.\n",
    "График эту зависимость отображает."
   ]
  },
  {
   "cell_type": "markdown",
   "metadata": {},
   "source": [
    "#### Влияние количества комнат"
   ]
  },
  {
   "cell_type": "code",
   "execution_count": 39,
   "metadata": {},
   "outputs": [
    {
     "data": {
      "text/plain": [
       "0.3634204789281912"
      ]
     },
     "execution_count": 39,
     "metadata": {},
     "output_type": "execute_result"
    }
   ],
   "source": [
    "data['last_price'].corr(data['rooms'])"
   ]
  },
  {
   "cell_type": "code",
   "execution_count": 40,
   "metadata": {
    "scrolled": false
   },
   "outputs": [
    {
     "data": {
      "text/plain": [
       "<matplotlib.axes._subplots.AxesSubplot at 0x7f057efe4f10>"
      ]
     },
     "execution_count": 40,
     "metadata": {},
     "output_type": "execute_result"
    },
    {
     "data": {
      "image/png": "[encoded data removed]",
      "text/plain": [
       "<Figure size 576x360 with 1 Axes>"
      ]
     },
     "metadata": {
      "needs_background": "light"
     },
     "output_type": "display_data"
    }
   ],
   "source": [
    "data.pivot_table(index='rooms', values='last_price').plot(style='o-', grid=True, figsize=(8, 5))"
   ]
  },
  {
   "cell_type": "markdown",
   "metadata": {},
   "source": [
    "Корреляция между стоимостью и количеством комнат слабо выражена. То есть с увеличением количества комнат, цена увеличивается незначительно. На графике это видно, но виден выброс с количеством комнат 12 и 15. "
   ]
  },
  {
   "cell_type": "code",
   "execution_count": 41,
   "metadata": {},
   "outputs": [],
   "source": [
    "data = data[data['rooms'] != 12] # удалось выяснить, что 2 квартиры с 12  и 15 комнатами искажают всю картину,\n",
    "data = data[data['rooms'] != 15] # удаляю их, как выброс"
   ]
  },
  {
   "cell_type": "code",
   "execution_count": 42,
   "metadata": {
    "scrolled": true
   },
   "outputs": [
    {
     "data": {
      "text/plain": [
       "<matplotlib.axes._subplots.AxesSubplot at 0x7f057efba9d0>"
      ]
     },
     "execution_count": 42,
     "metadata": {},
     "output_type": "execute_result"
    },
    {
     "data": {
      "image/png": "[encoded data removed]",
      "text/plain": [
       "<Figure size 576x360 with 1 Axes>"
      ]
     },
     "metadata": {
      "needs_background": "light"
     },
     "output_type": "display_data"
    }
   ],
   "source": [
    "data.pivot_table(index='rooms', values='last_price').plot(style='o-', grid=True, figsize=(8, 5))"
   ]
  },
  {
   "cell_type": "markdown",
   "metadata": {},
   "source": [
    "Теперь на графике видно, что на стоимость влияет количество комнат. "
   ]
  },
  {
   "cell_type": "markdown",
   "metadata": {},
   "source": [
    "#### Влияние этажа"
   ]
  },
  {
   "cell_type": "code",
   "execution_count": 43,
   "metadata": {},
   "outputs": [
    {
     "data": {
      "text/plain": [
       "<matplotlib.axes._subplots.AxesSubplot at 0x7f057f31bd10>"
      ]
     },
     "execution_count": 43,
     "metadata": {},
     "output_type": "execute_result"
    },
    {
     "data": {
      "image/png": "[encoded data removed]",
      "text/plain": [
       "<Figure size 864x288 with 1 Axes>"
      ]
     },
     "metadata": {
      "needs_background": "light"
     },
     "output_type": "display_data"
    }
   ],
   "source": [
    "data.pivot_table(index='flat_floor', values='last_price').plot(style='o-', grid=True, figsize=(12, 4))"
   ]
  },
  {
   "cell_type": "markdown",
   "metadata": {},
   "source": [
    "Самая низкая стоимость квартир, расположенных на первом этаже. Самые дорогие квартиры расолагаются на последнем этаже. Видимо, вид из окна является фактором, повышающим цену."
   ]
  },
  {
   "cell_type": "markdown",
   "metadata": {},
   "source": [
    "#### Влияние дней недели, месяца и года"
   ]
  },
  {
   "cell_type": "code",
   "execution_count": 44,
   "metadata": {},
   "outputs": [
    {
     "data": {
      "text/plain": [
       "<matplotlib.axes._subplots.AxesSubplot at 0x7f057f3f84d0>"
      ]
     },
     "execution_count": 44,
     "metadata": {},
     "output_type": "execute_result"
    },
    {
     "data": {
      "image/png": "[encoded data removed]",
      "text/plain": [
       "<Figure size 864x360 with 1 Axes>"
      ]
     },
     "metadata": {
      "needs_background": "light"
     },
     "output_type": "display_data"
    }
   ],
   "source": [
    "data.pivot_table(index='weekday', values='last_price').plot(style='o-', grid=True, figsize=(12, 5))"
   ]
  },
  {
   "cell_type": "markdown",
   "metadata": {},
   "source": [
    "Дороже всего стоят квартиры, выставленные на продажу в субботу. Дешевле в воскресенье. "
   ]
  },
  {
   "cell_type": "code",
   "execution_count": 47,
   "metadata": {},
   "outputs": [
    {
     "data": {
      "text/plain": [
       "<matplotlib.axes._subplots.AxesSubplot at 0x7f057f571390>"
      ]
     },
     "execution_count": 47,
     "metadata": {},
     "output_type": "execute_result"
    },
    {
     "data": {
      "image/png": "[encoded data removed]",
      "text/plain": [
       "<Figure size 864x360 with 1 Axes>"
      ]
     },
     "metadata": {
      "needs_background": "light"
     },
     "output_type": "display_data"
    }
   ],
   "source": [
    "data.pivot_table(index='month', values='last_price').plot(style='o-', grid=True, figsize=(12, 5))"
   ]
  },
  {
   "cell_type": "markdown",
   "metadata": {},
   "source": [
    "Самый выгодный месяц продажи - сентябрь. А вот в октябре квартиры дешевле. "
   ]
  },
  {
   "cell_type": "code",
   "execution_count": 48,
   "metadata": {},
   "outputs": [
    {
     "data": {
      "text/plain": [
       "<matplotlib.axes._subplots.AxesSubplot at 0x7f057f4d3a50>"
      ]
     },
     "execution_count": 48,
     "metadata": {},
     "output_type": "execute_result"
    },
    {
     "data": {
      "image/png": "[encoded data removed]",
      "text/plain": [
       "<Figure size 864x360 with 1 Axes>"
      ]
     },
     "metadata": {
      "needs_background": "light"
     },
     "output_type": "display_data"
    }
   ],
   "source": [
    "data.pivot_table(index='year', values='last_price').plot(style='o-', grid=True, figsize=(12, 5))"
   ]
  },
  {
   "cell_type": "markdown",
   "metadata": {},
   "source": [
    "В 2014 году квартиры были дороже всего. Далее стоимость снижалась. В 2019 виден небольшой подъем."
   ]
  },
  {
   "cell_type": "markdown",
   "metadata": {},
   "source": [
    "#### Влияние удаленности от центра"
   ]
  },
  {
   "cell_type": "code",
   "execution_count": 49,
   "metadata": {},
   "outputs": [],
   "source": [
    "data['center_km'] = round(data['cityCenters_nearest'] / 1000, 0) # переводим в км"
   ]
  },
  {
   "cell_type": "code",
   "execution_count": 50,
   "metadata": {
    "scrolled": true
   },
   "outputs": [
    {
     "data": {
      "text/plain": [
       "<matplotlib.axes._subplots.AxesSubplot at 0x7f057f160f90>"
      ]
     },
     "metadata": {},
     "output_type": "display_data"
    },
    {
     "data": {
      "image/png": "[encoded data removed]",
      "text/plain": [
       "<Figure size 864x360 with 1 Axes>"
      ]
     },
     "metadata": {
      "needs_background": "light"
     },
     "output_type": "display_data"
    }
   ],
   "source": [
    "display(data.query('center_km > -1')\n",
    "    .pivot_table(index='center_km', values='last_price')\n",
    "    .plot(style='o-', grid=True, figsize=(12, 5)))"
   ]
  },
  {
   "cell_type": "code",
   "execution_count": 51,
   "metadata": {},
   "outputs": [
    {
     "data": {
      "text/plain": [
       "-0.052351692973269685"
      ]
     },
     "execution_count": 51,
     "metadata": {},
     "output_type": "execute_result"
    }
   ],
   "source": [
    "data['center_km'].corr(data['last_price'])"
   ]
  },
  {
   "cell_type": "markdown",
   "metadata": {},
   "source": [
    "На графике видно, что с удалением от центра, стоимость снижается. Небольшая отрицательная корреляция присутствует."
   ]
  },
  {
   "cell_type": "markdown",
   "metadata": {},
   "source": [
    "### 10 популярных населенных пункта"
   ]
  },
  {
   "cell_type": "code",
   "execution_count": 52,
   "metadata": {},
   "outputs": [
    {
     "data": {
      "text/plain": [
       "Санкт-Петербург      15719\n",
       "поселок Мурино         556\n",
       "поселок Шушары         440\n",
       "Всеволожск             398\n",
       "Пушкин                 369\n",
       "Колпино                338\n",
       "поселок Парголово      327\n",
       "Гатчина                307\n",
       "деревня Кудрово        299\n",
       "Выборг                 237\n",
       "Name: locality_name, dtype: int64"
      ]
     },
     "metadata": {},
     "output_type": "display_data"
    }
   ],
   "source": [
    "top10= data['locality_name'].value_counts().head(10) # определили 10 населенных пунктов\n",
    "                                                     # с наибольшим количеством объявлений\n",
    "display(top10)"
   ]
  },
  {
   "cell_type": "code",
   "execution_count": 53,
   "metadata": {
    "scrolled": false
   },
   "outputs": [
    {
     "data": {
      "text/html": [
       "<div>\n",
       "<style scoped>\n",
       "    .dataframe tbody tr th:only-of-type {\n",
       "        vertical-align: middle;\n",
       "    }\n",
       "\n",
       "    .dataframe tbody tr th {\n",
       "        vertical-align: top;\n",
       "    }\n",
       "\n",
       "    .dataframe thead th {\n",
       "        text-align: right;\n",
       "    }\n",
       "</style>\n",
       "<table border=\"1\" class=\"dataframe\">\n",
       "  <thead>\n",
       "    <tr style=\"text-align: right;\">\n",
       "      <th></th>\n",
       "      <th>total_images</th>\n",
       "      <th>last_price</th>\n",
       "      <th>total_area</th>\n",
       "      <th>first_day_exposition</th>\n",
       "      <th>rooms</th>\n",
       "      <th>ceiling_height</th>\n",
       "      <th>floors_total</th>\n",
       "      <th>living_area</th>\n",
       "      <th>floor</th>\n",
       "      <th>is_apartment</th>\n",
       "      <th>...</th>\n",
       "      <th>days_exposition</th>\n",
       "      <th>price_per_m2</th>\n",
       "      <th>weekday</th>\n",
       "      <th>month</th>\n",
       "      <th>year</th>\n",
       "      <th>flat_floor</th>\n",
       "      <th>ratio_living</th>\n",
       "      <th>ratio_kitchen</th>\n",
       "      <th>real_days_expositions</th>\n",
       "      <th>center_km</th>\n",
       "    </tr>\n",
       "  </thead>\n",
       "  <tbody>\n",
       "    <tr>\n",
       "      <td>0</td>\n",
       "      <td>20</td>\n",
       "      <td>13.00</td>\n",
       "      <td>108.00</td>\n",
       "      <td>2019-03-07</td>\n",
       "      <td>3</td>\n",
       "      <td>2.70</td>\n",
       "      <td>16.0</td>\n",
       "      <td>51.0</td>\n",
       "      <td>8</td>\n",
       "      <td>False</td>\n",
       "      <td>...</td>\n",
       "      <td>0</td>\n",
       "      <td>0.12</td>\n",
       "      <td>3</td>\n",
       "      <td>3</td>\n",
       "      <td>2019</td>\n",
       "      <td>другой</td>\n",
       "      <td>0.47</td>\n",
       "      <td>0.23</td>\n",
       "      <td>NaN</td>\n",
       "      <td>16.0</td>\n",
       "    </tr>\n",
       "    <tr>\n",
       "      <td>1</td>\n",
       "      <td>7</td>\n",
       "      <td>3.35</td>\n",
       "      <td>40.40</td>\n",
       "      <td>2018-12-04</td>\n",
       "      <td>1</td>\n",
       "      <td>2.75</td>\n",
       "      <td>11.0</td>\n",
       "      <td>18.6</td>\n",
       "      <td>1</td>\n",
       "      <td>False</td>\n",
       "      <td>...</td>\n",
       "      <td>81</td>\n",
       "      <td>0.08</td>\n",
       "      <td>1</td>\n",
       "      <td>12</td>\n",
       "      <td>2018</td>\n",
       "      <td>первый</td>\n",
       "      <td>0.46</td>\n",
       "      <td>0.27</td>\n",
       "      <td>81.0</td>\n",
       "      <td>19.0</td>\n",
       "    </tr>\n",
       "    <tr>\n",
       "      <td>2</td>\n",
       "      <td>10</td>\n",
       "      <td>5.20</td>\n",
       "      <td>56.00</td>\n",
       "      <td>2015-08-20</td>\n",
       "      <td>2</td>\n",
       "      <td>2.55</td>\n",
       "      <td>5.0</td>\n",
       "      <td>34.3</td>\n",
       "      <td>4</td>\n",
       "      <td>False</td>\n",
       "      <td>...</td>\n",
       "      <td>558</td>\n",
       "      <td>0.09</td>\n",
       "      <td>3</td>\n",
       "      <td>8</td>\n",
       "      <td>2015</td>\n",
       "      <td>другой</td>\n",
       "      <td>0.61</td>\n",
       "      <td>0.15</td>\n",
       "      <td>558.0</td>\n",
       "      <td>14.0</td>\n",
       "    </tr>\n",
       "    <tr>\n",
       "      <td>3</td>\n",
       "      <td>0</td>\n",
       "      <td>64.90</td>\n",
       "      <td>159.00</td>\n",
       "      <td>2015-07-24</td>\n",
       "      <td>3</td>\n",
       "      <td>2.60</td>\n",
       "      <td>14.0</td>\n",
       "      <td>95.0</td>\n",
       "      <td>9</td>\n",
       "      <td>False</td>\n",
       "      <td>...</td>\n",
       "      <td>424</td>\n",
       "      <td>0.41</td>\n",
       "      <td>4</td>\n",
       "      <td>7</td>\n",
       "      <td>2015</td>\n",
       "      <td>другой</td>\n",
       "      <td>0.60</td>\n",
       "      <td>0.10</td>\n",
       "      <td>424.0</td>\n",
       "      <td>7.0</td>\n",
       "    </tr>\n",
       "    <tr>\n",
       "      <td>4</td>\n",
       "      <td>2</td>\n",
       "      <td>10.00</td>\n",
       "      <td>100.00</td>\n",
       "      <td>2018-06-19</td>\n",
       "      <td>2</td>\n",
       "      <td>3.03</td>\n",
       "      <td>14.0</td>\n",
       "      <td>32.0</td>\n",
       "      <td>13</td>\n",
       "      <td>False</td>\n",
       "      <td>...</td>\n",
       "      <td>121</td>\n",
       "      <td>0.10</td>\n",
       "      <td>1</td>\n",
       "      <td>6</td>\n",
       "      <td>2018</td>\n",
       "      <td>другой</td>\n",
       "      <td>0.32</td>\n",
       "      <td>0.41</td>\n",
       "      <td>121.0</td>\n",
       "      <td>8.0</td>\n",
       "    </tr>\n",
       "    <tr>\n",
       "      <td>...</td>\n",
       "      <td>...</td>\n",
       "      <td>...</td>\n",
       "      <td>...</td>\n",
       "      <td>...</td>\n",
       "      <td>...</td>\n",
       "      <td>...</td>\n",
       "      <td>...</td>\n",
       "      <td>...</td>\n",
       "      <td>...</td>\n",
       "      <td>...</td>\n",
       "      <td>...</td>\n",
       "      <td>...</td>\n",
       "      <td>...</td>\n",
       "      <td>...</td>\n",
       "      <td>...</td>\n",
       "      <td>...</td>\n",
       "      <td>...</td>\n",
       "      <td>...</td>\n",
       "      <td>...</td>\n",
       "      <td>...</td>\n",
       "      <td>...</td>\n",
       "    </tr>\n",
       "    <tr>\n",
       "      <td>23689</td>\n",
       "      <td>13</td>\n",
       "      <td>3.55</td>\n",
       "      <td>35.30</td>\n",
       "      <td>2018-02-28</td>\n",
       "      <td>1</td>\n",
       "      <td>2.86</td>\n",
       "      <td>15.0</td>\n",
       "      <td>16.3</td>\n",
       "      <td>4</td>\n",
       "      <td>False</td>\n",
       "      <td>...</td>\n",
       "      <td>29</td>\n",
       "      <td>0.10</td>\n",
       "      <td>2</td>\n",
       "      <td>2</td>\n",
       "      <td>2018</td>\n",
       "      <td>другой</td>\n",
       "      <td>0.46</td>\n",
       "      <td>0.26</td>\n",
       "      <td>29.0</td>\n",
       "      <td>16.0</td>\n",
       "    </tr>\n",
       "    <tr>\n",
       "      <td>23690</td>\n",
       "      <td>3</td>\n",
       "      <td>5.50</td>\n",
       "      <td>52.00</td>\n",
       "      <td>2018-07-19</td>\n",
       "      <td>2</td>\n",
       "      <td>2.55</td>\n",
       "      <td>5.0</td>\n",
       "      <td>31.0</td>\n",
       "      <td>2</td>\n",
       "      <td>False</td>\n",
       "      <td>...</td>\n",
       "      <td>15</td>\n",
       "      <td>0.11</td>\n",
       "      <td>3</td>\n",
       "      <td>7</td>\n",
       "      <td>2018</td>\n",
       "      <td>другой</td>\n",
       "      <td>0.60</td>\n",
       "      <td>0.12</td>\n",
       "      <td>15.0</td>\n",
       "      <td>6.0</td>\n",
       "    </tr>\n",
       "    <tr>\n",
       "      <td>23691</td>\n",
       "      <td>11</td>\n",
       "      <td>9.47</td>\n",
       "      <td>72.90</td>\n",
       "      <td>2016-10-13</td>\n",
       "      <td>2</td>\n",
       "      <td>2.75</td>\n",
       "      <td>25.0</td>\n",
       "      <td>40.3</td>\n",
       "      <td>7</td>\n",
       "      <td>False</td>\n",
       "      <td>...</td>\n",
       "      <td>519</td>\n",
       "      <td>0.13</td>\n",
       "      <td>3</td>\n",
       "      <td>10</td>\n",
       "      <td>2016</td>\n",
       "      <td>другой</td>\n",
       "      <td>0.55</td>\n",
       "      <td>0.15</td>\n",
       "      <td>519.0</td>\n",
       "      <td>4.0</td>\n",
       "    </tr>\n",
       "    <tr>\n",
       "      <td>23694</td>\n",
       "      <td>9</td>\n",
       "      <td>9.70</td>\n",
       "      <td>133.81</td>\n",
       "      <td>2017-03-21</td>\n",
       "      <td>3</td>\n",
       "      <td>3.70</td>\n",
       "      <td>5.0</td>\n",
       "      <td>73.3</td>\n",
       "      <td>3</td>\n",
       "      <td>False</td>\n",
       "      <td>...</td>\n",
       "      <td>0</td>\n",
       "      <td>0.07</td>\n",
       "      <td>1</td>\n",
       "      <td>3</td>\n",
       "      <td>2017</td>\n",
       "      <td>другой</td>\n",
       "      <td>0.55</td>\n",
       "      <td>0.10</td>\n",
       "      <td>NaN</td>\n",
       "      <td>4.0</td>\n",
       "    </tr>\n",
       "    <tr>\n",
       "      <td>23697</td>\n",
       "      <td>13</td>\n",
       "      <td>11.48</td>\n",
       "      <td>76.75</td>\n",
       "      <td>2017-03-28</td>\n",
       "      <td>2</td>\n",
       "      <td>3.00</td>\n",
       "      <td>17.0</td>\n",
       "      <td>30.0</td>\n",
       "      <td>12</td>\n",
       "      <td>False</td>\n",
       "      <td>...</td>\n",
       "      <td>602</td>\n",
       "      <td>0.15</td>\n",
       "      <td>1</td>\n",
       "      <td>3</td>\n",
       "      <td>2017</td>\n",
       "      <td>другой</td>\n",
       "      <td>0.39</td>\n",
       "      <td>0.30</td>\n",
       "      <td>602.0</td>\n",
       "      <td>10.0</td>\n",
       "    </tr>\n",
       "  </tbody>\n",
       "</table>\n",
       "<p>18990 rows × 31 columns</p>\n",
       "</div>"
      ],
      "text/plain": [
       "       total_images  last_price  total_area first_day_exposition  rooms  \\\n",
       "0                20       13.00      108.00           2019-03-07      3   \n",
       "1                 7        3.35       40.40           2018-12-04      1   \n",
       "2                10        5.20       56.00           2015-08-20      2   \n",
       "3                 0       64.90      159.00           2015-07-24      3   \n",
       "4                 2       10.00      100.00           2018-06-19      2   \n",
       "...             ...         ...         ...                  ...    ...   \n",
       "23689            13        3.55       35.30           2018-02-28      1   \n",
       "23690             3        5.50       52.00           2018-07-19      2   \n",
       "23691            11        9.47       72.90           2016-10-13      2   \n",
       "23694             9        9.70      133.81           2017-03-21      3   \n",
       "23697            13       11.48       76.75           2017-03-28      2   \n",
       "\n",
       "       ceiling_height  floors_total  living_area  floor  is_apartment  ...  \\\n",
       "0                2.70          16.0         51.0      8         False  ...   \n",
       "1                2.75          11.0         18.6      1         False  ...   \n",
       "2                2.55           5.0         34.3      4         False  ...   \n",
       "3                2.60          14.0         95.0      9         False  ...   \n",
       "4                3.03          14.0         32.0     13         False  ...   \n",
       "...               ...           ...          ...    ...           ...  ...   \n",
       "23689            2.86          15.0         16.3      4         False  ...   \n",
       "23690            2.55           5.0         31.0      2         False  ...   \n",
       "23691            2.75          25.0         40.3      7         False  ...   \n",
       "23694            3.70           5.0         73.3      3         False  ...   \n",
       "23697            3.00          17.0         30.0     12         False  ...   \n",
       "\n",
       "       days_exposition  price_per_m2  weekday  month  year  flat_floor  \\\n",
       "0                    0          0.12        3      3  2019      другой   \n",
       "1                   81          0.08        1     12  2018      первый   \n",
       "2                  558          0.09        3      8  2015      другой   \n",
       "3                  424          0.41        4      7  2015      другой   \n",
       "4                  121          0.10        1      6  2018      другой   \n",
       "...                ...           ...      ...    ...   ...         ...   \n",
       "23689               29          0.10        2      2  2018      другой   \n",
       "23690               15          0.11        3      7  2018      другой   \n",
       "23691              519          0.13        3     10  2016      другой   \n",
       "23694                0          0.07        1      3  2017      другой   \n",
       "23697              602          0.15        1      3  2017      другой   \n",
       "\n",
       "       ratio_living  ratio_kitchen  real_days_expositions  center_km  \n",
       "0              0.47           0.23                    NaN       16.0  \n",
       "1              0.46           0.27                   81.0       19.0  \n",
       "2              0.61           0.15                  558.0       14.0  \n",
       "3              0.60           0.10                  424.0        7.0  \n",
       "4              0.32           0.41                  121.0        8.0  \n",
       "...             ...            ...                    ...        ...  \n",
       "23689          0.46           0.26                   29.0       16.0  \n",
       "23690          0.60           0.12                   15.0        6.0  \n",
       "23691          0.55           0.15                  519.0        4.0  \n",
       "23694          0.55           0.10                    NaN        4.0  \n",
       "23697          0.39           0.30                  602.0       10.0  \n",
       "\n",
       "[18990 rows x 31 columns]"
      ]
     },
     "metadata": {},
     "output_type": "display_data"
    }
   ],
   "source": [
    "top10_locality_name = data.query('locality_name in @top10.index') # вынесли в отдельную таблицу квартиры\n",
    "display(top10_locality_name)                                  # расположенные в 10 популярных населенных пунктах"
   ]
  },
  {
   "cell_type": "code",
   "execution_count": 54,
   "metadata": {
    "scrolled": false
   },
   "outputs": [
    {
     "data": {
      "text/html": [
       "<div>\n",
       "<style scoped>\n",
       "    .dataframe tbody tr th:only-of-type {\n",
       "        vertical-align: middle;\n",
       "    }\n",
       "\n",
       "    .dataframe tbody tr th {\n",
       "        vertical-align: top;\n",
       "    }\n",
       "\n",
       "    .dataframe thead th {\n",
       "        text-align: right;\n",
       "    }\n",
       "</style>\n",
       "<table border=\"1\" class=\"dataframe\">\n",
       "  <thead>\n",
       "    <tr style=\"text-align: right;\">\n",
       "      <th></th>\n",
       "      <th>price_per_m2</th>\n",
       "    </tr>\n",
       "    <tr>\n",
       "      <th>locality_name</th>\n",
       "      <th></th>\n",
       "    </tr>\n",
       "  </thead>\n",
       "  <tbody>\n",
       "    <tr>\n",
       "      <td>Выборг</td>\n",
       "      <td>58059.07</td>\n",
       "    </tr>\n",
       "    <tr>\n",
       "      <td>Всеволожск</td>\n",
       "      <td>68793.97</td>\n",
       "    </tr>\n",
       "    <tr>\n",
       "      <td>Гатчина</td>\n",
       "      <td>68957.65</td>\n",
       "    </tr>\n",
       "    <tr>\n",
       "      <td>Колпино</td>\n",
       "      <td>75384.62</td>\n",
       "    </tr>\n",
       "    <tr>\n",
       "      <td>поселок Шушары</td>\n",
       "      <td>78818.18</td>\n",
       "    </tr>\n",
       "    <tr>\n",
       "      <td>поселок Мурино</td>\n",
       "      <td>85827.34</td>\n",
       "    </tr>\n",
       "    <tr>\n",
       "      <td>поселок Парголово</td>\n",
       "      <td>90458.72</td>\n",
       "    </tr>\n",
       "    <tr>\n",
       "      <td>деревня Кудрово</td>\n",
       "      <td>92341.14</td>\n",
       "    </tr>\n",
       "    <tr>\n",
       "      <td>Пушкин</td>\n",
       "      <td>103224.93</td>\n",
       "    </tr>\n",
       "    <tr>\n",
       "      <td>Санкт-Петербург</td>\n",
       "      <td>114833.00</td>\n",
       "    </tr>\n",
       "  </tbody>\n",
       "</table>\n",
       "</div>"
      ],
      "text/plain": [
       "                   price_per_m2\n",
       "locality_name                  \n",
       "Выборг                 58059.07\n",
       "Всеволожск             68793.97\n",
       "Гатчина                68957.65\n",
       "Колпино                75384.62\n",
       "поселок Шушары         78818.18\n",
       "поселок Мурино         85827.34\n",
       "поселок Парголово      90458.72\n",
       "деревня Кудрово        92341.14\n",
       "Пушкин                103224.93\n",
       "Санкт-Петербург       114833.00"
      ]
     },
     "metadata": {},
     "output_type": "display_data"
    }
   ],
   "source": [
    "# определили стоимость 1 квадратного метра в этих пунктах, в рублях\n",
    "display(round(top10_locality_name.pivot_table(index='locality_name', values='price_per_m2', \n",
    "                                            aggfunc='mean') * 1000000, 2).sort_values('price_per_m2'))"
   ]
  },
  {
   "cell_type": "markdown",
   "metadata": {},
   "source": [
    "Самый дорогой город - Спб, самый дешевый - Выборг"
   ]
  },
  {
   "cell_type": "markdown",
   "metadata": {},
   "source": [
    "### Изучение квартир в центре СПб"
   ]
  },
  {
   "cell_type": "code",
   "execution_count": 55,
   "metadata": {},
   "outputs": [
    {
     "data": {
      "text/plain": [
       "<matplotlib.axes._subplots.AxesSubplot at 0x7f057f131c10>"
      ]
     },
     "metadata": {},
     "output_type": "display_data"
    },
    {
     "data": {
      "image/png": "[encoded data removed]",
      "text/plain": [
       "<Figure size 720x432 with 1 Axes>"
      ]
     },
     "metadata": {
      "needs_background": "light"
     },
     "output_type": "display_data"
    }
   ],
   "source": [
    "# выделяем квартиры в Спб\n",
    "display(data.query('locality_name == \"Санкт-Петербург\"')\n",
    "    .pivot_table(index='center_km', values='last_price')\n",
    "    .plot(style='o-', grid=True, figsize=(10,6)))\n"
   ]
  },
  {
   "cell_type": "code",
   "execution_count": 56,
   "metadata": {},
   "outputs": [
    {
     "data": {
      "text/html": [
       "<div>\n",
       "<style scoped>\n",
       "    .dataframe tbody tr th:only-of-type {\n",
       "        vertical-align: middle;\n",
       "    }\n",
       "\n",
       "    .dataframe tbody tr th {\n",
       "        vertical-align: top;\n",
       "    }\n",
       "\n",
       "    .dataframe thead th {\n",
       "        text-align: right;\n",
       "    }\n",
       "</style>\n",
       "<table border=\"1\" class=\"dataframe\">\n",
       "  <thead>\n",
       "    <tr style=\"text-align: right;\">\n",
       "      <th></th>\n",
       "      <th>total_images</th>\n",
       "      <th>last_price</th>\n",
       "      <th>total_area</th>\n",
       "      <th>rooms</th>\n",
       "      <th>ceiling_height</th>\n",
       "      <th>floors_total</th>\n",
       "      <th>living_area</th>\n",
       "      <th>floor</th>\n",
       "      <th>kitchen_area</th>\n",
       "      <th>balcony</th>\n",
       "      <th>...</th>\n",
       "      <th>ponds_nearest</th>\n",
       "      <th>days_exposition</th>\n",
       "      <th>price_per_m2</th>\n",
       "      <th>weekday</th>\n",
       "      <th>month</th>\n",
       "      <th>year</th>\n",
       "      <th>ratio_living</th>\n",
       "      <th>ratio_kitchen</th>\n",
       "      <th>real_days_expositions</th>\n",
       "      <th>center_km</th>\n",
       "    </tr>\n",
       "  </thead>\n",
       "  <tbody>\n",
       "    <tr>\n",
       "      <td>count</td>\n",
       "      <td>9035.000000</td>\n",
       "      <td>9035.000000</td>\n",
       "      <td>9035.000000</td>\n",
       "      <td>9035.000000</td>\n",
       "      <td>9035.000000</td>\n",
       "      <td>9035.000000</td>\n",
       "      <td>9035.000000</td>\n",
       "      <td>9035.000000</td>\n",
       "      <td>9035.000000</td>\n",
       "      <td>9035.000000</td>\n",
       "      <td>...</td>\n",
       "      <td>2554.000000</td>\n",
       "      <td>9035.000000</td>\n",
       "      <td>9035.000000</td>\n",
       "      <td>9035.000000</td>\n",
       "      <td>9035.000000</td>\n",
       "      <td>9035.000000</td>\n",
       "      <td>9035.000000</td>\n",
       "      <td>9035.000000</td>\n",
       "      <td>7411.000000</td>\n",
       "      <td>9035.000000</td>\n",
       "    </tr>\n",
       "    <tr>\n",
       "      <td>mean</td>\n",
       "      <td>9.642612</td>\n",
       "      <td>7.720897</td>\n",
       "      <td>67.024092</td>\n",
       "      <td>2.228666</td>\n",
       "      <td>2.807240</td>\n",
       "      <td>8.291315</td>\n",
       "      <td>38.701522</td>\n",
       "      <td>4.745766</td>\n",
       "      <td>11.249701</td>\n",
       "      <td>0.503044</td>\n",
       "      <td>...</td>\n",
       "      <td>464.063821</td>\n",
       "      <td>170.622690</td>\n",
       "      <td>0.094801</td>\n",
       "      <td>2.559491</td>\n",
       "      <td>6.398893</td>\n",
       "      <td>2017.345877</td>\n",
       "      <td>0.571451</td>\n",
       "      <td>0.187075</td>\n",
       "      <td>188.092565</td>\n",
       "      <td>1.755064</td>\n",
       "    </tr>\n",
       "    <tr>\n",
       "      <td>std</td>\n",
       "      <td>5.678621</td>\n",
       "      <td>16.382841</td>\n",
       "      <td>44.891427</td>\n",
       "      <td>1.227660</td>\n",
       "      <td>0.915508</td>\n",
       "      <td>5.702894</td>\n",
       "      <td>27.626626</td>\n",
       "      <td>4.050995</td>\n",
       "      <td>6.742115</td>\n",
       "      <td>0.888932</td>\n",
       "      <td>...</td>\n",
       "      <td>271.348372</td>\n",
       "      <td>229.985321</td>\n",
       "      <td>0.074331</td>\n",
       "      <td>1.772567</td>\n",
       "      <td>3.513571</td>\n",
       "      <td>1.055895</td>\n",
       "      <td>0.113184</td>\n",
       "      <td>0.079734</td>\n",
       "      <td>202.468351</td>\n",
       "      <td>2.434962</td>\n",
       "    </tr>\n",
       "    <tr>\n",
       "      <td>min</td>\n",
       "      <td>0.000000</td>\n",
       "      <td>0.430000</td>\n",
       "      <td>12.000000</td>\n",
       "      <td>0.000000</td>\n",
       "      <td>1.200000</td>\n",
       "      <td>1.000000</td>\n",
       "      <td>2.000000</td>\n",
       "      <td>1.000000</td>\n",
       "      <td>2.000000</td>\n",
       "      <td>0.000000</td>\n",
       "      <td>...</td>\n",
       "      <td>22.000000</td>\n",
       "      <td>0.000000</td>\n",
       "      <td>0.010000</td>\n",
       "      <td>0.000000</td>\n",
       "      <td>1.000000</td>\n",
       "      <td>2014.000000</td>\n",
       "      <td>0.020000</td>\n",
       "      <td>0.020000</td>\n",
       "      <td>4.000000</td>\n",
       "      <td>-0.000000</td>\n",
       "    </tr>\n",
       "    <tr>\n",
       "      <td>25%</td>\n",
       "      <td>5.000000</td>\n",
       "      <td>2.530000</td>\n",
       "      <td>41.000000</td>\n",
       "      <td>1.000000</td>\n",
       "      <td>2.550000</td>\n",
       "      <td>5.000000</td>\n",
       "      <td>19.350000</td>\n",
       "      <td>2.000000</td>\n",
       "      <td>8.000000</td>\n",
       "      <td>0.000000</td>\n",
       "      <td>...</td>\n",
       "      <td>226.250000</td>\n",
       "      <td>22.000000</td>\n",
       "      <td>0.060000</td>\n",
       "      <td>1.000000</td>\n",
       "      <td>3.000000</td>\n",
       "      <td>2017.000000</td>\n",
       "      <td>0.500000</td>\n",
       "      <td>0.130000</td>\n",
       "      <td>45.000000</td>\n",
       "      <td>-0.000000</td>\n",
       "    </tr>\n",
       "    <tr>\n",
       "      <td>50%</td>\n",
       "      <td>9.000000</td>\n",
       "      <td>4.000000</td>\n",
       "      <td>55.300000</td>\n",
       "      <td>2.000000</td>\n",
       "      <td>2.700000</td>\n",
       "      <td>5.000000</td>\n",
       "      <td>31.100000</td>\n",
       "      <td>4.000000</td>\n",
       "      <td>9.510524</td>\n",
       "      <td>0.000000</td>\n",
       "      <td>...</td>\n",
       "      <td>454.500000</td>\n",
       "      <td>80.000000</td>\n",
       "      <td>0.080000</td>\n",
       "      <td>3.000000</td>\n",
       "      <td>6.000000</td>\n",
       "      <td>2017.000000</td>\n",
       "      <td>0.580000</td>\n",
       "      <td>0.170000</td>\n",
       "      <td>107.000000</td>\n",
       "      <td>-0.000000</td>\n",
       "    </tr>\n",
       "    <tr>\n",
       "      <td>75%</td>\n",
       "      <td>14.000000</td>\n",
       "      <td>7.950000</td>\n",
       "      <td>76.000000</td>\n",
       "      <td>3.000000</td>\n",
       "      <td>3.000000</td>\n",
       "      <td>10.000000</td>\n",
       "      <td>45.875000</td>\n",
       "      <td>6.000000</td>\n",
       "      <td>12.200000</td>\n",
       "      <td>1.000000</td>\n",
       "      <td>...</td>\n",
       "      <td>665.000000</td>\n",
       "      <td>223.000000</td>\n",
       "      <td>0.110000</td>\n",
       "      <td>4.000000</td>\n",
       "      <td>10.000000</td>\n",
       "      <td>2018.000000</td>\n",
       "      <td>0.640000</td>\n",
       "      <td>0.230000</td>\n",
       "      <td>260.000000</td>\n",
       "      <td>4.000000</td>\n",
       "    </tr>\n",
       "    <tr>\n",
       "      <td>max</td>\n",
       "      <td>50.000000</td>\n",
       "      <td>763.000000</td>\n",
       "      <td>631.200000</td>\n",
       "      <td>19.000000</td>\n",
       "      <td>32.000000</td>\n",
       "      <td>28.000000</td>\n",
       "      <td>347.500000</td>\n",
       "      <td>27.000000</td>\n",
       "      <td>107.000000</td>\n",
       "      <td>5.000000</td>\n",
       "      <td>...</td>\n",
       "      <td>1293.000000</td>\n",
       "      <td>1580.000000</td>\n",
       "      <td>1.910000</td>\n",
       "      <td>6.000000</td>\n",
       "      <td>12.000000</td>\n",
       "      <td>2019.000000</td>\n",
       "      <td>2.270000</td>\n",
       "      <td>0.880000</td>\n",
       "      <td>999.000000</td>\n",
       "      <td>7.000000</td>\n",
       "    </tr>\n",
       "  </tbody>\n",
       "</table>\n",
       "<p>8 rows × 25 columns</p>\n",
       "</div>"
      ],
      "text/plain": [
       "       total_images   last_price   total_area        rooms  ceiling_height  \\\n",
       "count   9035.000000  9035.000000  9035.000000  9035.000000     9035.000000   \n",
       "mean       9.642612     7.720897    67.024092     2.228666        2.807240   \n",
       "std        5.678621    16.382841    44.891427     1.227660        0.915508   \n",
       "min        0.000000     0.430000    12.000000     0.000000        1.200000   \n",
       "25%        5.000000     2.530000    41.000000     1.000000        2.550000   \n",
       "50%        9.000000     4.000000    55.300000     2.000000        2.700000   \n",
       "75%       14.000000     7.950000    76.000000     3.000000        3.000000   \n",
       "max       50.000000   763.000000   631.200000    19.000000       32.000000   \n",
       "\n",
       "       floors_total  living_area        floor  kitchen_area      balcony  ...  \\\n",
       "count   9035.000000  9035.000000  9035.000000   9035.000000  9035.000000  ...   \n",
       "mean       8.291315    38.701522     4.745766     11.249701     0.503044  ...   \n",
       "std        5.702894    27.626626     4.050995      6.742115     0.888932  ...   \n",
       "min        1.000000     2.000000     1.000000      2.000000     0.000000  ...   \n",
       "25%        5.000000    19.350000     2.000000      8.000000     0.000000  ...   \n",
       "50%        5.000000    31.100000     4.000000      9.510524     0.000000  ...   \n",
       "75%       10.000000    45.875000     6.000000     12.200000     1.000000  ...   \n",
       "max       28.000000   347.500000    27.000000    107.000000     5.000000  ...   \n",
       "\n",
       "       ponds_nearest  days_exposition  price_per_m2      weekday        month  \\\n",
       "count    2554.000000      9035.000000   9035.000000  9035.000000  9035.000000   \n",
       "mean      464.063821       170.622690      0.094801     2.559491     6.398893   \n",
       "std       271.348372       229.985321      0.074331     1.772567     3.513571   \n",
       "min        22.000000         0.000000      0.010000     0.000000     1.000000   \n",
       "25%       226.250000        22.000000      0.060000     1.000000     3.000000   \n",
       "50%       454.500000        80.000000      0.080000     3.000000     6.000000   \n",
       "75%       665.000000       223.000000      0.110000     4.000000    10.000000   \n",
       "max      1293.000000      1580.000000      1.910000     6.000000    12.000000   \n",
       "\n",
       "              year  ratio_living  ratio_kitchen  real_days_expositions  \\\n",
       "count  9035.000000   9035.000000    9035.000000            7411.000000   \n",
       "mean   2017.345877      0.571451       0.187075             188.092565   \n",
       "std       1.055895      0.113184       0.079734             202.468351   \n",
       "min    2014.000000      0.020000       0.020000               4.000000   \n",
       "25%    2017.000000      0.500000       0.130000              45.000000   \n",
       "50%    2017.000000      0.580000       0.170000             107.000000   \n",
       "75%    2018.000000      0.640000       0.230000             260.000000   \n",
       "max    2019.000000      2.270000       0.880000             999.000000   \n",
       "\n",
       "         center_km  \n",
       "count  9035.000000  \n",
       "mean      1.755064  \n",
       "std       2.434962  \n",
       "min      -0.000000  \n",
       "25%      -0.000000  \n",
       "50%      -0.000000  \n",
       "75%       4.000000  \n",
       "max       7.000000  \n",
       "\n",
       "[8 rows x 25 columns]"
      ]
     },
     "execution_count": 56,
     "metadata": {},
     "output_type": "execute_result"
    }
   ],
   "source": [
    "center_spb = data.query('center_km <= 7 and center_km != -1') \n",
    "center_spb.describe()\n",
    "# на диаграмме видно, что примерно после 7 км стоимость безвозвратно снижается. Это расстояние и бет считаться \n",
    "# границей центра города"
   ]
  },
  {
   "cell_type": "markdown",
   "metadata": {},
   "source": [
    "В центре города средняя цена около 8 млн. рублей. Самая дорогая квартира тоже в центре - 763 млн."
   ]
  },
  {
   "cell_type": "code",
   "execution_count": 57,
   "metadata": {},
   "outputs": [
    {
     "name": "stdout",
     "output_type": "stream",
     "text": [
      "AxesSubplot(0.125,0.125;0.775x0.755)\n"
     ]
    },
    {
     "data": {
      "image/png": "[encoded data removed]",
      "text/plain": [
       "<Figure size 648x432 with 1 Axes>"
      ]
     },
     "metadata": {
      "needs_background": "light"
     },
     "output_type": "display_data"
    }
   ],
   "source": [
    "# толстой оранжевой линией показаны значения для центра города\n",
    "general_rooms = data.pivot_table(index='rooms', values='last_price').plot(style='o-')\n",
    "print(center_spb.pivot_table(index='rooms', values='last_price')\n",
    "      .plot(style='o-', linewidth=7, grid=True, alpha=0.5, ax = general_rooms, figsize=(9, 6)))"
   ]
  },
  {
   "cell_type": "markdown",
   "metadata": {},
   "source": [
    "Влияние количества комнат на стоимось в центре ничем не отличатся от картины в целом"
   ]
  },
  {
   "cell_type": "code",
   "execution_count": 58,
   "metadata": {
    "scrolled": true
   },
   "outputs": [
    {
     "name": "stdout",
     "output_type": "stream",
     "text": [
      "AxesSubplot(0.125,0.125;0.775x0.755)\n"
     ]
    },
    {
     "data": {
      "image/png": "[encoded data removed]",
      "text/plain": [
       "<Figure size 864x288 with 1 Axes>"
      ]
     },
     "metadata": {
      "needs_background": "light"
     },
     "output_type": "display_data"
    }
   ],
   "source": [
    "# толстой оранжевой линией показаны значения для центра города\n",
    "general_floor = data.pivot_table(index='flat_floor', values='last_price').plot(style='o-')\n",
    "print(center_spb.pivot_table(index='flat_floor', values='last_price').plot(style='o-', linewidth=7, grid=True,  ax=general_floor, figsize=(12, 4)))"
   ]
  },
  {
   "cell_type": "markdown",
   "metadata": {},
   "source": [
    "Влияние этажа аналогично"
   ]
  },
  {
   "cell_type": "code",
   "execution_count": 59,
   "metadata": {
    "scrolled": true
   },
   "outputs": [
    {
     "name": "stdout",
     "output_type": "stream",
     "text": [
      "AxesSubplot(0.125,0.125;0.775x0.755)\n"
     ]
    },
    {
     "data": {
      "image/png": "[encoded data removed]",
      "text/plain": [
       "<Figure size 864x288 with 1 Axes>"
      ]
     },
     "metadata": {
      "needs_background": "light"
     },
     "output_type": "display_data"
    }
   ],
   "source": [
    "# толстой оранжевой линией показаны значения для центра города\n",
    "general = data.pivot_table(index='center_km', values='last_price').plot(style='o-')\n",
    "print(center_spb.pivot_table(index='center_km', values='last_price').plot(style='o-', linewidth=7, grid=True, ax=general, figsize=(12, 4)))"
   ]
  },
  {
   "cell_type": "markdown",
   "metadata": {},
   "source": [
    "Самые дорогие квартиры расположены в центре"
   ]
  },
  {
   "cell_type": "code",
   "execution_count": 60,
   "metadata": {
    "scrolled": false
   },
   "outputs": [
    {
     "name": "stdout",
     "output_type": "stream",
     "text": [
      "AxesSubplot(0.125,0.125;0.775x0.755)\n"
     ]
    },
    {
     "data": {
      "image/png": "[encoded data removed]",
      "text/plain": [
       "<Figure size 864x288 with 1 Axes>"
      ]
     },
     "metadata": {
      "needs_background": "light"
     },
     "output_type": "display_data"
    }
   ],
   "source": [
    "# толстой оранжевой линией показаны значения для центра города\n",
    "general_day = data.pivot_table(index='weekday', values='last_price').plot(style='o-')\n",
    "print(center_spb.pivot_table(index='weekday', values='last_price').plot(style='o-', linewidth=7, grid=True, ax=general_day, figsize=(12, 4)))"
   ]
  },
  {
   "cell_type": "markdown",
   "metadata": {},
   "source": [
    "Влияние дня недели: по-прежнему в субботу публиковались самые дорогие квартиры, а в воскресенье самые дешевые"
   ]
  },
  {
   "cell_type": "code",
   "execution_count": 61,
   "metadata": {},
   "outputs": [
    {
     "name": "stdout",
     "output_type": "stream",
     "text": [
      "AxesSubplot(0.125,0.125;0.775x0.755)\n"
     ]
    },
    {
     "data": {
      "image/png": "[encoded data removed]",
      "text/plain": [
       "<Figure size 864x288 with 1 Axes>"
      ]
     },
     "metadata": {
      "needs_background": "light"
     },
     "output_type": "display_data"
    }
   ],
   "source": [
    "# толстой оранжевой линией показаны значения для центра города\n",
    "general_month = data.pivot_table(index='month', values='last_price').plot(style='o-')\n",
    "\n",
    "print(center_spb.pivot_table(index='month', values='last_price').plot(style='o-', \n",
    "                            linewidth=7, grid=True, ax=general_month, figsize=(12, 4)))"
   ]
  },
  {
   "cell_type": "markdown",
   "metadata": {},
   "source": [
    "Все также в сентябре квартиры дороже всего."
   ]
  },
  {
   "cell_type": "code",
   "execution_count": 62,
   "metadata": {},
   "outputs": [
    {
     "name": "stdout",
     "output_type": "stream",
     "text": [
      "AxesSubplot(0.125,0.125;0.775x0.755)\n"
     ]
    },
    {
     "data": {
      "image/png": "[encoded data removed]",
      "text/plain": [
       "<Figure size 864x288 with 1 Axes>"
      ]
     },
     "metadata": {
      "needs_background": "light"
     },
     "output_type": "display_data"
    }
   ],
   "source": [
    "# толстой оранжевой линией показаны значения для центра города\n",
    "general_year = data.pivot_table(index='year', values='last_price').plot(style='o-')\n",
    "print(center_spb.pivot_table(index='year', values='last_price').plot(style='o-', grid=True, \n",
    "                            linewidth=7, ax=general_year, figsize=(12, 4)))"
   ]
  },
  {
   "cell_type": "markdown",
   "metadata": {},
   "source": [
    "в 2014 также квартиры дороже."
   ]
  },
  {
   "cell_type": "markdown",
   "metadata": {},
   "source": [
    "### Выводы"
   ]
  },
  {
   "cell_type": "markdown",
   "metadata": {},
   "source": [
    "- Пик гистограммы стоимости квартир до 5 млн. рублей.\n",
    "- В столбце real_days_expositions обнаружены выбивающиеся значения. Неоправданно длинный срок продажи - более 1000 дней и необычно малый - менее 3 дней исключены. Таким образом, длительность  продаж в среднем занимает 168 дней. Пик приходится на медиану - 94 дня.\n",
    "- Полагаю, что достаточно быстро продаются квартиры, если укладываются в срок до 45 дней. А вот 999 дней - это почти 2,5 года - слишком долго. \n",
    "- Также выбросами посчитала 2 квартиры с 12 и 15 комнатами, которые искжаю картину в целом.\n",
    "- Влияние факторов на стоимость квартир в целом и в центре Спб ничем существенным не отличается."
   ]
  },
  {
   "cell_type": "markdown",
   "metadata": {},
   "source": [
    "## Общий вывод"
   ]
  },
  {
   "cell_type": "markdown",
   "metadata": {},
   "source": [
    " - Обнаружены и заполнены в данных пропущенные значения медианными или средними значениями.\n",
    " - Добавлены столбцы с дополнительными данными: ценой квадратного метра, днем, месяцем и годом.\n",
    " - Выявлено преобладание квартир площадью до 50 кв. метров и стоимостью до 5 млн. рублей.\n",
    " - Большое предложение однокомнатных квартир, чуть меньше 2 и 3-х комнатных.\n",
    " - Дороже продаются квартиры с высотой потолка около 2,6 - 2,75 метров.\n",
    " - Время продажи в большинстве случаев менее 100 дней.\n",
    " - Ожидаемо, что с увеличением площади цена растет.\n",
    " - Стоимость квартир зависит от количества комнат.\n",
    " - Не стало новостью, что квартиры на 1 этаже дешевле. А вот на последнем дороже всего.\n",
    " - Высокая цена приходится на субботу - видимо, продавцы играют ценой, желая подороже продать в первый выходной, а во  второй делаю скидки, стремясь продать побыстрее, так как в воскресенье цена падает.\n",
    " - Рекорд по стоимости принадлежит сентябрю, антирекорд - октябрю.\n",
    " - Пик стоимости приходится на 2014 год. Вероятно, влияние кризиса.\n",
    " - Основной объем продаваемых квартир приходится на центр города.\n",
    " - По количеству объявлений лидирует Санкт-Петербург - более 15 тыс. \n",
    " - Самая высокая стоимость 1 квадратного метра тоже за Санкт-Петербургом. Чуть уступает Пушкин. Самый дешевый квадратный метр из 10 популярных локаций в Выборге - почти вдвое меньше,чем в Спб.\n",
    " - По диаграмме центр города определен в пределах 7 км исходя из цен. Дальше стоимость планомерно падает.\n",
    " - Влияние количества комнат в центральном сегменте такое же, как и по всем объявлениям в целом.\n",
    " - Влияние этажности также не изменилось в центральном сегменте.\n",
    " - Зависимость цены от дня недели, месяца и года аналогична картине в целом.\n",
    " - При удалении от центра, стоимость снижается.\n",
    " В итоге, получается, что дороже всего квартиры, расположенные на последнем этаже и находящиеся близко к центру.\n",
    " "
   ]
  }
 ],
 "metadata": {
  "ExecuteTimeLog": [
   {
    "duration": 1218,
    "start_time": "2021-11-28T13:27:46.879Z"
   },
   {
    "duration": 87,
    "start_time": "2021-11-28T13:27:56.739Z"
   },
   {
    "duration": 82,
    "start_time": "2021-11-28T13:28:49.915Z"
   },
   {
    "duration": 75,
    "start_time": "2021-11-28T13:29:10.250Z"
   },
   {
    "duration": 76,
    "start_time": "2021-11-28T13:37:16.172Z"
   },
   {
    "duration": 75,
    "start_time": "2021-11-28T13:37:24.573Z"
   },
   {
    "duration": 130,
    "start_time": "2021-11-28T13:37:33.325Z"
   },
   {
    "duration": 117,
    "start_time": "2021-11-28T13:37:58.434Z"
   },
   {
    "duration": 74,
    "start_time": "2021-11-28T13:38:07.364Z"
   },
   {
    "duration": 117,
    "start_time": "2021-11-28T13:38:35.846Z"
   },
   {
    "duration": 128,
    "start_time": "2021-11-28T13:38:51.743Z"
   },
   {
    "duration": 78,
    "start_time": "2021-11-28T13:41:33.478Z"
   },
   {
    "duration": 79,
    "start_time": "2021-11-28T13:41:41.838Z"
   },
   {
    "duration": 134,
    "start_time": "2021-11-28T13:41:58.025Z"
   },
   {
    "duration": 113,
    "start_time": "2021-11-28T13:42:12.678Z"
   },
   {
    "duration": 24,
    "start_time": "2021-11-28T13:42:59.052Z"
   },
   {
    "duration": 106,
    "start_time": "2021-11-28T13:44:23.484Z"
   },
   {
    "duration": 12,
    "start_time": "2021-11-28T13:51:32.910Z"
   },
   {
    "duration": 38,
    "start_time": "2021-11-28T15:14:20.615Z"
   },
   {
    "duration": 120,
    "start_time": "2021-11-28T15:16:47.129Z"
   },
   {
    "duration": 410,
    "start_time": "2021-11-28T15:16:59.012Z"
   },
   {
    "duration": 40,
    "start_time": "2021-11-28T15:18:12.135Z"
   },
   {
    "duration": 41,
    "start_time": "2021-11-28T15:27:02.435Z"
   },
   {
    "duration": 44,
    "start_time": "2021-11-28T15:29:00.768Z"
   },
   {
    "duration": 119,
    "start_time": "2021-11-28T15:30:27.246Z"
   },
   {
    "duration": 53,
    "start_time": "2021-11-28T15:30:43.292Z"
   },
   {
    "duration": 4,
    "start_time": "2021-11-28T15:42:19.432Z"
   },
   {
    "duration": 2199,
    "start_time": "2021-11-28T15:42:21.194Z"
   },
   {
    "duration": 3703,
    "start_time": "2021-11-28T15:43:05.845Z"
   },
   {
    "duration": 4,
    "start_time": "2021-11-28T15:45:56.325Z"
   },
   {
    "duration": 2049,
    "start_time": "2021-11-28T15:45:57.927Z"
   },
   {
    "duration": 5,
    "start_time": "2021-11-28T15:47:32.524Z"
   },
   {
    "duration": 54,
    "start_time": "2021-11-28T15:47:34.927Z"
   },
   {
    "duration": 5459,
    "start_time": "2021-11-28T15:47:41.660Z"
   },
   {
    "duration": 38,
    "start_time": "2021-11-28T19:31:37.388Z"
   },
   {
    "duration": 5,
    "start_time": "2021-11-28T19:31:45.201Z"
   },
   {
    "duration": 5926,
    "start_time": "2021-11-28T19:31:48.574Z"
   },
   {
    "duration": 122,
    "start_time": "2021-11-28T19:33:20.900Z"
   },
   {
    "duration": 391,
    "start_time": "2021-11-28T19:35:10.834Z"
   },
   {
    "duration": 1735,
    "start_time": "2021-11-28T19:35:27.806Z"
   },
   {
    "duration": 643,
    "start_time": "2021-11-29T08:06:19.044Z"
   },
   {
    "duration": 9,
    "start_time": "2021-11-29T08:06:19.689Z"
   },
   {
    "duration": 79,
    "start_time": "2021-11-29T08:06:19.700Z"
   },
   {
    "duration": 45,
    "start_time": "2021-11-29T08:06:19.782Z"
   },
   {
    "duration": 21,
    "start_time": "2021-11-29T08:06:19.844Z"
   },
   {
    "duration": 57,
    "start_time": "2021-11-29T08:06:19.880Z"
   },
   {
    "duration": 553,
    "start_time": "2021-11-29T08:06:19.939Z"
   },
   {
    "duration": 467,
    "start_time": "2021-11-29T08:09:10.356Z"
   },
   {
    "duration": 20,
    "start_time": "2021-11-29T08:13:26.549Z"
   },
   {
    "duration": 14,
    "start_time": "2021-11-29T08:17:41.806Z"
   },
   {
    "duration": 820,
    "start_time": "2021-11-29T08:20:10.770Z"
   },
   {
    "duration": 5,
    "start_time": "2021-11-29T08:20:59.179Z"
   },
   {
    "duration": 6,
    "start_time": "2021-11-29T08:36:47.279Z"
   },
   {
    "duration": 7,
    "start_time": "2021-11-29T08:37:40.850Z"
   },
   {
    "duration": 232,
    "start_time": "2021-11-29T08:41:14.193Z"
   },
   {
    "duration": 491,
    "start_time": "2021-11-29T08:41:32.391Z"
   },
   {
    "duration": 104,
    "start_time": "2021-11-29T08:49:47.162Z"
   },
   {
    "duration": 78,
    "start_time": "2021-11-29T08:50:16.651Z"
   },
   {
    "duration": 9,
    "start_time": "2021-11-29T09:04:48.830Z"
   },
   {
    "duration": 14,
    "start_time": "2021-11-29T09:07:48.455Z"
   },
   {
    "duration": 421,
    "start_time": "2021-11-29T09:09:22.596Z"
   },
   {
    "duration": 258,
    "start_time": "2021-11-29T09:10:01.025Z"
   },
   {
    "duration": 1004,
    "start_time": "2021-11-29T09:14:47.183Z"
   },
   {
    "duration": 1250,
    "start_time": "2021-11-29T09:15:07.012Z"
   },
   {
    "duration": 1046,
    "start_time": "2021-11-29T09:18:32.391Z"
   },
   {
    "duration": 1153,
    "start_time": "2021-11-29T09:19:11.938Z"
   },
   {
    "duration": 1279,
    "start_time": "2021-11-29T09:20:36.082Z"
   },
   {
    "duration": 909,
    "start_time": "2021-11-29T09:20:57.401Z"
   },
   {
    "duration": 1183,
    "start_time": "2021-11-29T09:22:24.810Z"
   },
   {
    "duration": 1181,
    "start_time": "2021-11-29T09:24:03.096Z"
   },
   {
    "duration": 1217,
    "start_time": "2021-11-29T09:24:20.964Z"
   },
   {
    "duration": 1322,
    "start_time": "2021-11-29T09:29:03.641Z"
   },
   {
    "duration": 962,
    "start_time": "2021-11-29T09:29:47.154Z"
   },
   {
    "duration": 1513,
    "start_time": "2021-11-29T09:30:58.992Z"
   },
   {
    "duration": 1290,
    "start_time": "2021-11-29T09:31:17.315Z"
   },
   {
    "duration": 247,
    "start_time": "2021-11-29T09:32:31.664Z"
   },
   {
    "duration": 5,
    "start_time": "2021-11-29T09:36:07.793Z"
   },
   {
    "duration": 250,
    "start_time": "2021-11-29T09:36:22.460Z"
   },
   {
    "duration": 1111,
    "start_time": "2021-11-29T09:38:18.265Z"
   },
   {
    "duration": 417,
    "start_time": "2021-11-29T09:39:23.563Z"
   },
   {
    "duration": 407,
    "start_time": "2021-11-29T09:40:42.074Z"
   },
   {
    "duration": 852,
    "start_time": "2021-11-29T09:45:22.741Z"
   },
   {
    "duration": 11,
    "start_time": "2021-11-29T09:45:23.595Z"
   },
   {
    "duration": 82,
    "start_time": "2021-11-29T09:45:23.608Z"
   },
   {
    "duration": 27,
    "start_time": "2021-11-29T09:45:23.692Z"
   },
   {
    "duration": 17,
    "start_time": "2021-11-29T09:45:23.720Z"
   },
   {
    "duration": 31,
    "start_time": "2021-11-29T09:45:23.738Z"
   },
   {
    "duration": 61,
    "start_time": "2021-11-29T09:45:23.770Z"
   },
   {
    "duration": 5,
    "start_time": "2021-11-29T09:45:23.833Z"
   },
   {
    "duration": 347,
    "start_time": "2021-11-29T09:45:23.840Z"
   },
   {
    "duration": 9365,
    "start_time": "2021-11-29T09:45:14.824Z"
   },
   {
    "duration": 16,
    "start_time": "2021-11-29T09:45:49.424Z"
   },
   {
    "duration": 20,
    "start_time": "2021-11-29T09:48:59.223Z"
   },
   {
    "duration": 16,
    "start_time": "2021-11-29T09:49:25.022Z"
   },
   {
    "duration": 11,
    "start_time": "2021-11-29T09:50:56.293Z"
   },
   {
    "duration": 12,
    "start_time": "2021-11-29T10:33:42.782Z"
   },
   {
    "duration": 13,
    "start_time": "2021-11-29T10:35:40.793Z"
   },
   {
    "duration": 655,
    "start_time": "2021-11-29T10:35:50.881Z"
   },
   {
    "duration": 10,
    "start_time": "2021-11-29T10:35:51.538Z"
   },
   {
    "duration": 70,
    "start_time": "2021-11-29T10:35:51.550Z"
   },
   {
    "duration": 24,
    "start_time": "2021-11-29T10:35:51.622Z"
   },
   {
    "duration": 8,
    "start_time": "2021-11-29T10:35:51.647Z"
   },
   {
    "duration": 5,
    "start_time": "2021-11-29T10:35:51.657Z"
   },
   {
    "duration": 44,
    "start_time": "2021-11-29T10:35:51.664Z"
   },
   {
    "duration": 5,
    "start_time": "2021-11-29T10:35:51.710Z"
   },
   {
    "duration": 16,
    "start_time": "2021-11-29T10:35:51.717Z"
   },
   {
    "duration": 430,
    "start_time": "2021-11-29T10:35:51.735Z"
   },
   {
    "duration": 13,
    "start_time": "2021-11-29T10:37:24.437Z"
   },
   {
    "duration": 631,
    "start_time": "2021-11-29T10:37:38.791Z"
   },
   {
    "duration": 10,
    "start_time": "2021-11-29T10:37:39.423Z"
   },
   {
    "duration": 70,
    "start_time": "2021-11-29T10:37:39.434Z"
   },
   {
    "duration": 22,
    "start_time": "2021-11-29T10:37:39.506Z"
   },
   {
    "duration": 7,
    "start_time": "2021-11-29T10:37:39.530Z"
   },
   {
    "duration": 5,
    "start_time": "2021-11-29T10:37:39.538Z"
   },
   {
    "duration": 44,
    "start_time": "2021-11-29T10:37:39.545Z"
   },
   {
    "duration": 5,
    "start_time": "2021-11-29T10:37:39.591Z"
   },
   {
    "duration": 18,
    "start_time": "2021-11-29T10:37:39.598Z"
   },
   {
    "duration": 431,
    "start_time": "2021-11-29T10:37:39.618Z"
   },
   {
    "duration": 5,
    "start_time": "2021-11-29T10:38:34.835Z"
   },
   {
    "duration": 591,
    "start_time": "2021-11-29T10:39:00.143Z"
   },
   {
    "duration": 9,
    "start_time": "2021-11-29T10:39:00.737Z"
   },
   {
    "duration": 67,
    "start_time": "2021-11-29T10:39:00.748Z"
   },
   {
    "duration": 23,
    "start_time": "2021-11-29T10:39:00.817Z"
   },
   {
    "duration": 8,
    "start_time": "2021-11-29T10:39:00.841Z"
   },
   {
    "duration": 8,
    "start_time": "2021-11-29T10:39:00.850Z"
   },
   {
    "duration": 43,
    "start_time": "2021-11-29T10:39:00.859Z"
   },
   {
    "duration": 4,
    "start_time": "2021-11-29T10:39:00.904Z"
   },
   {
    "duration": 35,
    "start_time": "2021-11-29T10:39:00.910Z"
   },
   {
    "duration": 427,
    "start_time": "2021-11-29T10:39:00.947Z"
   },
   {
    "duration": 14,
    "start_time": "2021-11-29T15:07:53.929Z"
   },
   {
    "duration": 428,
    "start_time": "2021-11-29T15:08:35.411Z"
   },
   {
    "duration": 619,
    "start_time": "2021-11-29T15:08:46.353Z"
   },
   {
    "duration": 10,
    "start_time": "2021-11-29T15:08:46.973Z"
   },
   {
    "duration": 62,
    "start_time": "2021-11-29T15:08:46.985Z"
   },
   {
    "duration": 24,
    "start_time": "2021-11-29T15:08:47.049Z"
   },
   {
    "duration": 18,
    "start_time": "2021-11-29T15:08:47.074Z"
   },
   {
    "duration": 7,
    "start_time": "2021-11-29T15:08:47.093Z"
   },
   {
    "duration": 28,
    "start_time": "2021-11-29T15:08:47.102Z"
   },
   {
    "duration": 442,
    "start_time": "2021-11-29T15:08:47.133Z"
   },
   {
    "duration": 17,
    "start_time": "2021-11-29T15:08:47.577Z"
   },
   {
    "duration": 413,
    "start_time": "2021-11-29T15:08:47.595Z"
   },
   {
    "duration": 693,
    "start_time": "2021-11-29T15:09:47.859Z"
   },
   {
    "duration": 10,
    "start_time": "2021-11-29T15:09:48.554Z"
   },
   {
    "duration": 69,
    "start_time": "2021-11-29T15:09:48.566Z"
   },
   {
    "duration": 23,
    "start_time": "2021-11-29T15:09:48.637Z"
   },
   {
    "duration": 8,
    "start_time": "2021-11-29T15:09:48.661Z"
   },
   {
    "duration": 5,
    "start_time": "2021-11-29T15:09:48.688Z"
   },
   {
    "duration": 39,
    "start_time": "2021-11-29T15:09:48.694Z"
   },
   {
    "duration": 425,
    "start_time": "2021-11-29T15:09:48.735Z"
   },
   {
    "duration": 12,
    "start_time": "2021-11-29T15:09:49.162Z"
   },
   {
    "duration": 418,
    "start_time": "2021-11-29T15:09:49.188Z"
   },
   {
    "duration": 806,
    "start_time": "2021-11-29T15:11:22.057Z"
   },
   {
    "duration": 10,
    "start_time": "2021-11-29T15:11:22.865Z"
   },
   {
    "duration": 69,
    "start_time": "2021-11-29T15:11:22.876Z"
   },
   {
    "duration": 23,
    "start_time": "2021-11-29T15:11:22.947Z"
   },
   {
    "duration": 22,
    "start_time": "2021-11-29T15:11:22.971Z"
   },
   {
    "duration": 5,
    "start_time": "2021-11-29T15:11:22.994Z"
   },
   {
    "duration": 30,
    "start_time": "2021-11-29T15:11:23.001Z"
   },
   {
    "duration": 4,
    "start_time": "2021-11-29T15:11:23.032Z"
   },
   {
    "duration": 15,
    "start_time": "2021-11-29T15:11:23.038Z"
   },
   {
    "duration": 446,
    "start_time": "2021-11-29T15:11:23.055Z"
   },
   {
    "duration": 664,
    "start_time": "2021-11-29T15:12:56.653Z"
   },
   {
    "duration": 9,
    "start_time": "2021-11-29T15:12:57.319Z"
   },
   {
    "duration": 75,
    "start_time": "2021-11-29T15:12:57.330Z"
   },
   {
    "duration": 22,
    "start_time": "2021-11-29T15:12:57.407Z"
   },
   {
    "duration": 7,
    "start_time": "2021-11-29T15:12:57.431Z"
   },
   {
    "duration": 12,
    "start_time": "2021-11-29T15:12:57.439Z"
   },
   {
    "duration": 38,
    "start_time": "2021-11-29T15:12:57.452Z"
   },
   {
    "duration": 3,
    "start_time": "2021-11-29T15:12:57.492Z"
   },
   {
    "duration": 15,
    "start_time": "2021-11-29T15:12:57.497Z"
   },
   {
    "duration": 1123,
    "start_time": "2021-11-29T15:12:57.513Z"
   },
   {
    "duration": 33,
    "start_time": "2021-11-29T15:13:49.536Z"
   },
   {
    "duration": 238,
    "start_time": "2021-11-29T15:16:35.584Z"
   },
   {
    "duration": 33,
    "start_time": "2021-11-29T15:16:47.743Z"
   },
   {
    "duration": 35,
    "start_time": "2021-11-29T15:18:10.117Z"
   },
   {
    "duration": 35,
    "start_time": "2021-11-29T15:18:28.184Z"
   },
   {
    "duration": 38,
    "start_time": "2021-11-29T15:19:48.801Z"
   },
   {
    "duration": 23,
    "start_time": "2021-11-29T15:20:54.903Z"
   },
   {
    "duration": 596,
    "start_time": "2021-11-29T15:22:44.243Z"
   },
   {
    "duration": 10,
    "start_time": "2021-11-29T15:22:44.841Z"
   },
   {
    "duration": 70,
    "start_time": "2021-11-29T15:22:44.853Z"
   },
   {
    "duration": 23,
    "start_time": "2021-11-29T15:22:44.924Z"
   },
   {
    "duration": 8,
    "start_time": "2021-11-29T15:22:44.948Z"
   },
   {
    "duration": 6,
    "start_time": "2021-11-29T15:22:44.958Z"
   },
   {
    "duration": 40,
    "start_time": "2021-11-29T15:22:44.965Z"
   },
   {
    "duration": 5,
    "start_time": "2021-11-29T15:22:45.007Z"
   },
   {
    "duration": 940,
    "start_time": "2021-11-29T15:22:45.014Z"
   },
   {
    "duration": 10019,
    "start_time": "2021-11-29T15:22:35.937Z"
   },
   {
    "duration": 16,
    "start_time": "2021-11-29T15:23:57.952Z"
   },
   {
    "duration": 831,
    "start_time": "2021-11-29T15:24:08.709Z"
   },
   {
    "duration": 22,
    "start_time": "2021-11-29T15:24:31.449Z"
   },
   {
    "duration": 2182,
    "start_time": "2021-11-29T15:24:45.786Z"
   },
   {
    "duration": 6754,
    "start_time": "2021-11-29T15:25:52.476Z"
   },
   {
    "duration": 26,
    "start_time": "2021-11-29T15:26:45.010Z"
   },
   {
    "duration": 1103,
    "start_time": "2021-11-29T15:27:43.131Z"
   },
   {
    "duration": 1361,
    "start_time": "2021-11-29T15:28:02.663Z"
   },
   {
    "duration": 1115,
    "start_time": "2021-11-29T15:28:33.756Z"
   },
   {
    "duration": 323,
    "start_time": "2021-11-29T15:30:28.120Z"
   },
   {
    "duration": 635,
    "start_time": "2021-11-29T15:31:01.506Z"
   },
   {
    "duration": 9,
    "start_time": "2021-11-29T15:31:02.142Z"
   },
   {
    "duration": 69,
    "start_time": "2021-11-29T15:31:02.153Z"
   },
   {
    "duration": 23,
    "start_time": "2021-11-29T15:31:02.224Z"
   },
   {
    "duration": 7,
    "start_time": "2021-11-29T15:31:02.249Z"
   },
   {
    "duration": 9,
    "start_time": "2021-11-29T15:31:02.258Z"
   },
   {
    "duration": 40,
    "start_time": "2021-11-29T15:31:02.268Z"
   },
   {
    "duration": 6,
    "start_time": "2021-11-29T15:32:25.118Z"
   },
   {
    "duration": 24,
    "start_time": "2021-11-29T15:32:58.464Z"
   },
   {
    "duration": 6,
    "start_time": "2021-11-29T15:33:08.811Z"
   },
   {
    "duration": 7,
    "start_time": "2021-11-29T15:33:25.429Z"
   },
   {
    "duration": 6,
    "start_time": "2021-11-29T15:33:32.738Z"
   },
   {
    "duration": 670,
    "start_time": "2021-11-29T15:33:40.225Z"
   },
   {
    "duration": 11,
    "start_time": "2021-11-29T15:33:40.898Z"
   },
   {
    "duration": 77,
    "start_time": "2021-11-29T15:33:40.911Z"
   },
   {
    "duration": 25,
    "start_time": "2021-11-29T15:33:40.990Z"
   },
   {
    "duration": 12,
    "start_time": "2021-11-29T15:33:41.017Z"
   },
   {
    "duration": 6,
    "start_time": "2021-11-29T15:33:41.031Z"
   },
   {
    "duration": 12,
    "start_time": "2021-11-29T15:33:41.039Z"
   },
   {
    "duration": 4,
    "start_time": "2021-11-29T15:33:41.053Z"
   },
   {
    "duration": 7,
    "start_time": "2021-11-29T15:33:55.271Z"
   },
   {
    "duration": 5,
    "start_time": "2021-11-29T15:34:03.558Z"
   },
   {
    "duration": 25,
    "start_time": "2021-11-29T15:34:08.784Z"
   },
   {
    "duration": 5,
    "start_time": "2021-11-29T15:34:10.501Z"
   },
   {
    "duration": 25,
    "start_time": "2021-11-29T15:34:14.282Z"
   },
   {
    "duration": 673,
    "start_time": "2021-11-29T15:34:22.977Z"
   },
   {
    "duration": 14,
    "start_time": "2021-11-29T15:34:23.652Z"
   },
   {
    "duration": 82,
    "start_time": "2021-11-29T15:34:23.668Z"
   },
   {
    "duration": 45,
    "start_time": "2021-11-29T15:34:23.752Z"
   },
   {
    "duration": 9,
    "start_time": "2021-11-29T15:34:23.798Z"
   },
   {
    "duration": 6,
    "start_time": "2021-11-29T15:34:23.809Z"
   },
   {
    "duration": 28,
    "start_time": "2021-11-29T15:34:23.817Z"
   },
   {
    "duration": 4,
    "start_time": "2021-11-29T15:34:23.847Z"
   },
   {
    "duration": 25,
    "start_time": "2021-11-29T15:34:32.567Z"
   },
   {
    "duration": 4,
    "start_time": "2021-11-29T15:34:36.441Z"
   },
   {
    "duration": 4,
    "start_time": "2021-11-29T15:36:38.293Z"
   },
   {
    "duration": 792,
    "start_time": "2021-11-29T15:42:33.289Z"
   },
   {
    "duration": 822,
    "start_time": "2021-11-29T15:43:55.488Z"
   },
   {
    "duration": 637,
    "start_time": "2021-11-29T15:44:05.950Z"
   },
   {
    "duration": 10,
    "start_time": "2021-11-29T15:44:06.589Z"
   },
   {
    "duration": 64,
    "start_time": "2021-11-29T15:44:06.601Z"
   },
   {
    "duration": 46,
    "start_time": "2021-11-29T15:44:06.667Z"
   },
   {
    "duration": 10,
    "start_time": "2021-11-29T15:44:06.715Z"
   },
   {
    "duration": 1311,
    "start_time": "2021-11-29T15:44:06.727Z"
   },
   {
    "duration": 8,
    "start_time": "2021-11-29T15:44:08.040Z"
   },
   {
    "duration": 8,
    "start_time": "2021-11-29T15:44:08.049Z"
   },
   {
    "duration": 40,
    "start_time": "2021-11-29T15:44:08.059Z"
   },
   {
    "duration": 4,
    "start_time": "2021-11-29T15:44:08.100Z"
   },
   {
    "duration": 88,
    "start_time": "2021-11-29T15:44:31.089Z"
   },
   {
    "duration": 625,
    "start_time": "2021-11-29T17:03:04.180Z"
   },
   {
    "duration": 847,
    "start_time": "2021-11-29T17:03:30.974Z"
   },
   {
    "duration": 8,
    "start_time": "2021-11-29T17:04:52.346Z"
   },
   {
    "duration": 653,
    "start_time": "2021-11-29T17:08:13.107Z"
   },
   {
    "duration": 9,
    "start_time": "2021-11-29T17:08:13.762Z"
   },
   {
    "duration": 73,
    "start_time": "2021-11-29T17:08:13.775Z"
   },
   {
    "duration": 41,
    "start_time": "2021-11-29T17:08:13.850Z"
   },
   {
    "duration": 12,
    "start_time": "2021-11-29T17:08:13.893Z"
   },
   {
    "duration": 678,
    "start_time": "2021-11-29T17:08:13.906Z"
   },
   {
    "duration": 624,
    "start_time": "2021-11-29T17:08:14.589Z"
   },
   {
    "duration": 7,
    "start_time": "2021-11-29T17:08:15.215Z"
   },
   {
    "duration": 10,
    "start_time": "2021-11-29T17:08:15.223Z"
   },
   {
    "duration": 27,
    "start_time": "2021-11-29T17:08:15.234Z"
   },
   {
    "duration": 5,
    "start_time": "2021-11-29T17:08:15.262Z"
   },
   {
    "duration": 33,
    "start_time": "2021-11-29T17:08:15.268Z"
   },
   {
    "duration": 11,
    "start_time": "2021-11-29T17:10:49.799Z"
   },
   {
    "duration": 12,
    "start_time": "2021-11-29T17:12:01.715Z"
   },
   {
    "duration": 48,
    "start_time": "2021-11-29T17:14:01.510Z"
   },
   {
    "duration": 8,
    "start_time": "2021-11-29T17:14:44.777Z"
   },
   {
    "duration": 300,
    "start_time": "2021-11-29T17:15:25.539Z"
   },
   {
    "duration": 247,
    "start_time": "2021-11-29T17:15:38.174Z"
   },
   {
    "duration": 52,
    "start_time": "2021-11-29T17:16:37.398Z"
   },
   {
    "duration": 17,
    "start_time": "2021-11-29T17:16:52.382Z"
   },
   {
    "duration": 8,
    "start_time": "2021-11-29T17:17:02.032Z"
   },
   {
    "duration": 4,
    "start_time": "2021-11-29T17:19:46.113Z"
   },
   {
    "duration": 5,
    "start_time": "2021-11-29T17:21:44.705Z"
   },
   {
    "duration": 941,
    "start_time": "2021-11-30T08:43:06.846Z"
   },
   {
    "duration": 16,
    "start_time": "2021-11-30T08:43:07.790Z"
   },
   {
    "duration": 126,
    "start_time": "2021-11-30T08:43:07.810Z"
   },
   {
    "duration": 51,
    "start_time": "2021-11-30T08:43:07.939Z"
   },
   {
    "duration": 11,
    "start_time": "2021-11-30T08:43:07.992Z"
   },
   {
    "duration": 394,
    "start_time": "2021-11-30T08:43:08.006Z"
   },
   {
    "duration": 9786,
    "start_time": "2021-11-30T08:42:58.617Z"
   },
   {
    "duration": 9774,
    "start_time": "2021-11-30T08:42:58.630Z"
   },
   {
    "duration": 9765,
    "start_time": "2021-11-30T08:42:58.641Z"
   },
   {
    "duration": 9750,
    "start_time": "2021-11-30T08:42:58.657Z"
   },
   {
    "duration": 9740,
    "start_time": "2021-11-30T08:42:58.668Z"
   },
   {
    "duration": 9727,
    "start_time": "2021-11-30T08:42:58.682Z"
   },
   {
    "duration": 9718,
    "start_time": "2021-11-30T08:42:58.693Z"
   },
   {
    "duration": 9697,
    "start_time": "2021-11-30T08:42:58.715Z"
   },
   {
    "duration": 276,
    "start_time": "2021-11-30T08:46:20.208Z"
   },
   {
    "duration": 308,
    "start_time": "2021-11-30T08:47:39.431Z"
   },
   {
    "duration": 689,
    "start_time": "2021-11-30T08:49:54.652Z"
   },
   {
    "duration": 1326,
    "start_time": "2021-11-30T08:50:29.640Z"
   },
   {
    "duration": 13,
    "start_time": "2021-11-30T08:51:53.768Z"
   },
   {
    "duration": 3,
    "start_time": "2021-11-30T08:52:08.503Z"
   },
   {
    "duration": 2427,
    "start_time": "2021-11-30T08:52:23.969Z"
   },
   {
    "duration": 18,
    "start_time": "2021-11-30T08:52:26.399Z"
   },
   {
    "duration": 150,
    "start_time": "2021-11-30T08:52:26.421Z"
   },
   {
    "duration": 44,
    "start_time": "2021-11-30T08:52:26.575Z"
   },
   {
    "duration": 16,
    "start_time": "2021-11-30T08:52:26.622Z"
   },
   {
    "duration": 36,
    "start_time": "2021-11-30T08:52:26.640Z"
   },
   {
    "duration": 5,
    "start_time": "2021-11-30T08:52:26.679Z"
   },
   {
    "duration": 24,
    "start_time": "2021-11-30T08:52:26.688Z"
   },
   {
    "duration": 1339,
    "start_time": "2021-11-30T08:52:26.714Z"
   },
   {
    "duration": 1288,
    "start_time": "2021-11-30T08:52:28.055Z"
   },
   {
    "duration": 7,
    "start_time": "2021-11-30T08:52:29.346Z"
   },
   {
    "duration": 5,
    "start_time": "2021-11-30T08:52:29.368Z"
   },
   {
    "duration": 49,
    "start_time": "2021-11-30T08:52:29.375Z"
   },
   {
    "duration": 7,
    "start_time": "2021-11-30T08:52:29.426Z"
   },
   {
    "duration": 14,
    "start_time": "2021-11-30T08:52:29.468Z"
   },
   {
    "duration": 56,
    "start_time": "2021-11-30T08:58:24.096Z"
   },
   {
    "duration": 37,
    "start_time": "2021-11-30T08:59:14.646Z"
   },
   {
    "duration": 39,
    "start_time": "2021-11-30T09:00:11.046Z"
   },
   {
    "duration": 220,
    "start_time": "2021-11-30T09:13:48.538Z"
   },
   {
    "duration": 11,
    "start_time": "2021-11-30T09:34:52.991Z"
   },
   {
    "duration": 9,
    "start_time": "2021-11-30T09:36:30.867Z"
   },
   {
    "duration": 17,
    "start_time": "2021-11-30T09:37:23.996Z"
   },
   {
    "duration": 53,
    "start_time": "2021-11-30T13:03:29.580Z"
   },
   {
    "duration": 1313,
    "start_time": "2021-11-30T13:23:31.376Z"
   },
   {
    "duration": 843,
    "start_time": "2021-11-30T13:24:10.848Z"
   },
   {
    "duration": 744,
    "start_time": "2021-11-30T13:28:25.695Z"
   },
   {
    "duration": 6777,
    "start_time": "2021-11-30T13:36:46.879Z"
   },
   {
    "duration": 733,
    "start_time": "2021-11-30T13:48:10.287Z"
   },
   {
    "duration": 1090,
    "start_time": "2021-11-30T19:11:01.930Z"
   },
   {
    "duration": 821,
    "start_time": "2021-11-30T19:12:36.475Z"
   },
   {
    "duration": 932,
    "start_time": "2021-11-30T19:12:51.206Z"
   },
   {
    "duration": 919,
    "start_time": "2021-11-30T19:13:20.089Z"
   },
   {
    "duration": 6774,
    "start_time": "2021-11-30T19:21:05.731Z"
   },
   {
    "duration": 49,
    "start_time": "2021-11-30T19:28:08.180Z"
   },
   {
    "duration": 1553,
    "start_time": "2021-11-30T19:30:34.234Z"
   },
   {
    "duration": 1601,
    "start_time": "2021-11-30T19:30:51.106Z"
   },
   {
    "duration": 967,
    "start_time": "2021-11-30T19:31:08.073Z"
   },
   {
    "duration": 27,
    "start_time": "2021-11-30T19:31:09.042Z"
   },
   {
    "duration": 130,
    "start_time": "2021-11-30T19:31:09.072Z"
   },
   {
    "duration": 40,
    "start_time": "2021-11-30T19:31:09.205Z"
   },
   {
    "duration": 30,
    "start_time": "2021-11-30T19:31:09.247Z"
   },
   {
    "duration": 12,
    "start_time": "2021-11-30T19:31:09.280Z"
   },
   {
    "duration": 5,
    "start_time": "2021-11-30T19:31:09.295Z"
   },
   {
    "duration": 14,
    "start_time": "2021-11-30T19:31:09.305Z"
   },
   {
    "duration": 270,
    "start_time": "2021-11-30T19:31:09.322Z"
   },
   {
    "duration": 1935,
    "start_time": "2021-11-30T19:31:09.595Z"
   },
   {
    "duration": 1297,
    "start_time": "2021-11-30T19:31:11.534Z"
   },
   {
    "duration": 7,
    "start_time": "2021-11-30T19:31:12.834Z"
   },
   {
    "duration": 24,
    "start_time": "2021-11-30T19:31:12.844Z"
   },
   {
    "duration": 61,
    "start_time": "2021-11-30T19:31:12.871Z"
   },
   {
    "duration": 6,
    "start_time": "2021-11-30T19:31:12.934Z"
   },
   {
    "duration": 29,
    "start_time": "2021-11-30T19:31:12.942Z"
   },
   {
    "duration": 41,
    "start_time": "2021-11-30T19:31:12.973Z"
   },
   {
    "duration": 69,
    "start_time": "2021-11-30T19:31:13.016Z"
   },
   {
    "duration": 885,
    "start_time": "2021-11-30T19:31:13.088Z"
   },
   {
    "duration": 39,
    "start_time": "2021-11-30T19:31:13.975Z"
   },
   {
    "duration": 38,
    "start_time": "2021-11-30T19:36:17.292Z"
   },
   {
    "duration": 1012,
    "start_time": "2021-11-30T19:40:59.969Z"
   },
   {
    "duration": 19,
    "start_time": "2021-11-30T19:41:00.984Z"
   },
   {
    "duration": 137,
    "start_time": "2021-11-30T19:41:01.007Z"
   },
   {
    "duration": 56,
    "start_time": "2021-11-30T19:41:01.147Z"
   },
   {
    "duration": 12,
    "start_time": "2021-11-30T19:41:01.206Z"
   },
   {
    "duration": 18,
    "start_time": "2021-11-30T19:41:01.221Z"
   },
   {
    "duration": 29,
    "start_time": "2021-11-30T19:41:01.242Z"
   },
   {
    "duration": 28,
    "start_time": "2021-11-30T19:41:01.276Z"
   },
   {
    "duration": 263,
    "start_time": "2021-11-30T19:41:01.307Z"
   },
   {
    "duration": 1723,
    "start_time": "2021-11-30T19:41:01.572Z"
   },
   {
    "duration": 1375,
    "start_time": "2021-11-30T19:41:03.298Z"
   },
   {
    "duration": 9,
    "start_time": "2021-11-30T19:41:04.675Z"
   },
   {
    "duration": 7,
    "start_time": "2021-11-30T19:41:04.687Z"
   },
   {
    "duration": 87,
    "start_time": "2021-11-30T19:41:04.696Z"
   },
   {
    "duration": 7,
    "start_time": "2021-11-30T19:41:04.786Z"
   },
   {
    "duration": 13,
    "start_time": "2021-11-30T19:41:04.795Z"
   },
   {
    "duration": 69,
    "start_time": "2021-11-30T19:41:04.810Z"
   },
   {
    "duration": 47,
    "start_time": "2021-11-30T19:41:04.882Z"
   },
   {
    "duration": 1112,
    "start_time": "2021-11-30T19:41:04.932Z"
   },
   {
    "duration": 52,
    "start_time": "2021-11-30T19:41:06.046Z"
   },
   {
    "duration": 455,
    "start_time": "2021-11-30T19:42:41.219Z"
   },
   {
    "duration": 10,
    "start_time": "2021-11-30T19:44:46.398Z"
   },
   {
    "duration": 11,
    "start_time": "2021-11-30T19:45:20.420Z"
   },
   {
    "duration": 9,
    "start_time": "2021-11-30T19:46:03.101Z"
   },
   {
    "duration": 397,
    "start_time": "2021-11-30T19:46:23.668Z"
   },
   {
    "duration": 346,
    "start_time": "2021-11-30T19:46:42.146Z"
   },
   {
    "duration": 11,
    "start_time": "2021-11-30T19:46:56.685Z"
   },
   {
    "duration": 321,
    "start_time": "2021-11-30T19:49:40.787Z"
   },
   {
    "duration": 325,
    "start_time": "2021-11-30T19:49:56.307Z"
   },
   {
    "duration": 340,
    "start_time": "2021-11-30T19:50:35.298Z"
   },
   {
    "duration": 353,
    "start_time": "2021-11-30T19:51:47.776Z"
   },
   {
    "duration": 393,
    "start_time": "2021-11-30T19:52:24.348Z"
   },
   {
    "duration": 348,
    "start_time": "2021-11-30T19:52:31.999Z"
   },
   {
    "duration": 328,
    "start_time": "2021-11-30T19:53:19.200Z"
   },
   {
    "duration": 11,
    "start_time": "2021-11-30T19:53:26.084Z"
   },
   {
    "duration": 490,
    "start_time": "2021-11-30T19:54:18.181Z"
   },
   {
    "duration": 324,
    "start_time": "2021-11-30T19:54:45.482Z"
   },
   {
    "duration": 293,
    "start_time": "2021-11-30T19:55:50.212Z"
   },
   {
    "duration": 311,
    "start_time": "2021-11-30T19:56:11.538Z"
   },
   {
    "duration": 304,
    "start_time": "2021-11-30T19:56:20.514Z"
   },
   {
    "duration": 329,
    "start_time": "2021-11-30T19:56:45.587Z"
   },
   {
    "duration": 339,
    "start_time": "2021-11-30T19:57:25.254Z"
   },
   {
    "duration": 9,
    "start_time": "2021-11-30T19:58:53.006Z"
   },
   {
    "duration": 335,
    "start_time": "2021-11-30T19:59:47.737Z"
   },
   {
    "duration": 435,
    "start_time": "2021-11-30T20:00:03.961Z"
   },
   {
    "duration": 357,
    "start_time": "2021-11-30T20:00:38.414Z"
   },
   {
    "duration": 420,
    "start_time": "2021-11-30T20:00:49.059Z"
   },
   {
    "duration": 371,
    "start_time": "2021-11-30T20:00:57.543Z"
   },
   {
    "duration": 10,
    "start_time": "2021-11-30T20:02:40.599Z"
   },
   {
    "duration": 339,
    "start_time": "2021-11-30T20:03:31.285Z"
   },
   {
    "duration": 331,
    "start_time": "2021-11-30T20:04:00.516Z"
   },
   {
    "duration": 343,
    "start_time": "2021-11-30T20:04:10.816Z"
   },
   {
    "duration": 339,
    "start_time": "2021-11-30T20:04:31.887Z"
   },
   {
    "duration": 10,
    "start_time": "2021-11-30T20:05:46.983Z"
   },
   {
    "duration": 298,
    "start_time": "2021-11-30T20:06:15.159Z"
   },
   {
    "duration": 343,
    "start_time": "2021-11-30T20:06:46.469Z"
   },
   {
    "duration": 382,
    "start_time": "2021-11-30T20:07:09.751Z"
   },
   {
    "duration": 34,
    "start_time": "2021-11-30T20:08:34.512Z"
   },
   {
    "duration": 36,
    "start_time": "2021-11-30T20:10:57.842Z"
   },
   {
    "duration": 9,
    "start_time": "2021-11-30T20:12:21.523Z"
   },
   {
    "duration": 280,
    "start_time": "2021-11-30T20:12:48.232Z"
   },
   {
    "duration": 35,
    "start_time": "2021-11-30T20:12:58.861Z"
   },
   {
    "duration": 131,
    "start_time": "2021-11-30T20:14:40.353Z"
   },
   {
    "duration": 650,
    "start_time": "2021-12-01T10:50:08.548Z"
   },
   {
    "duration": 9,
    "start_time": "2021-12-01T10:50:09.200Z"
   },
   {
    "duration": 59,
    "start_time": "2021-12-01T10:50:09.211Z"
   },
   {
    "duration": 35,
    "start_time": "2021-12-01T10:50:09.272Z"
   },
   {
    "duration": 7,
    "start_time": "2021-12-01T10:50:09.309Z"
   },
   {
    "duration": 8,
    "start_time": "2021-12-01T10:50:09.317Z"
   },
   {
    "duration": 10,
    "start_time": "2021-12-01T10:50:09.327Z"
   },
   {
    "duration": 9,
    "start_time": "2021-12-01T10:50:09.340Z"
   },
   {
    "duration": 124,
    "start_time": "2021-12-01T10:50:09.351Z"
   },
   {
    "duration": 793,
    "start_time": "2021-12-01T10:50:09.477Z"
   },
   {
    "duration": 639,
    "start_time": "2021-12-01T10:50:10.271Z"
   },
   {
    "duration": 4,
    "start_time": "2021-12-01T10:50:10.912Z"
   },
   {
    "duration": 15,
    "start_time": "2021-12-01T10:50:10.918Z"
   },
   {
    "duration": 61,
    "start_time": "2021-12-01T10:50:10.934Z"
   },
   {
    "duration": 3,
    "start_time": "2021-12-01T10:50:10.997Z"
   },
   {
    "duration": 18,
    "start_time": "2021-12-01T10:50:11.002Z"
   },
   {
    "duration": 39,
    "start_time": "2021-12-01T10:50:11.021Z"
   },
   {
    "duration": 27,
    "start_time": "2021-12-01T10:50:11.062Z"
   },
   {
    "duration": 450,
    "start_time": "2021-12-01T10:50:11.090Z"
   },
   {
    "duration": 21,
    "start_time": "2021-12-01T10:50:11.541Z"
   },
   {
    "duration": 27,
    "start_time": "2021-12-01T10:50:11.563Z"
   },
   {
    "duration": 182,
    "start_time": "2021-12-01T10:50:11.592Z"
   },
   {
    "duration": 11,
    "start_time": "2021-12-01T10:50:11.777Z"
   },
   {
    "duration": 190,
    "start_time": "2021-12-01T10:50:11.790Z"
   },
   {
    "duration": 10,
    "start_time": "2021-12-01T10:50:11.981Z"
   },
   {
    "duration": 181,
    "start_time": "2021-12-01T10:50:11.992Z"
   },
   {
    "duration": 13,
    "start_time": "2021-12-01T10:50:12.175Z"
   },
   {
    "duration": 186,
    "start_time": "2021-12-01T10:50:12.190Z"
   },
   {
    "duration": 183,
    "start_time": "2021-12-01T10:51:20.264Z"
   },
   {
    "duration": 215,
    "start_time": "2021-12-01T10:51:38.109Z"
   },
   {
    "duration": 178,
    "start_time": "2021-12-01T10:51:48.055Z"
   },
   {
    "duration": 308,
    "start_time": "2021-12-01T10:51:56.261Z"
   },
   {
    "duration": 173,
    "start_time": "2021-12-01T10:52:08.196Z"
   },
   {
    "duration": 458,
    "start_time": "2021-12-01T10:56:16.506Z"
   },
   {
    "duration": 451,
    "start_time": "2021-12-01T10:58:21.339Z"
   },
   {
    "duration": 7,
    "start_time": "2021-12-01T10:59:20.270Z"
   },
   {
    "duration": 8,
    "start_time": "2021-12-01T11:01:10.037Z"
   },
   {
    "duration": 6,
    "start_time": "2021-12-01T11:01:37.543Z"
   },
   {
    "duration": 6,
    "start_time": "2021-12-01T11:01:55.333Z"
   },
   {
    "duration": 171,
    "start_time": "2021-12-01T11:04:52.658Z"
   },
   {
    "duration": 198,
    "start_time": "2021-12-01T11:05:06.484Z"
   },
   {
    "duration": 190,
    "start_time": "2021-12-01T11:05:36.924Z"
   },
   {
    "duration": 702,
    "start_time": "2021-12-02T09:23:08.158Z"
   },
   {
    "duration": 10,
    "start_time": "2021-12-02T09:23:08.863Z"
   },
   {
    "duration": 64,
    "start_time": "2021-12-02T09:23:08.874Z"
   },
   {
    "duration": 22,
    "start_time": "2021-12-02T09:23:08.940Z"
   },
   {
    "duration": 7,
    "start_time": "2021-12-02T09:23:08.963Z"
   },
   {
    "duration": 6,
    "start_time": "2021-12-02T09:23:08.988Z"
   },
   {
    "duration": 4,
    "start_time": "2021-12-02T09:23:08.996Z"
   },
   {
    "duration": 9,
    "start_time": "2021-12-02T09:23:09.002Z"
   },
   {
    "duration": 115,
    "start_time": "2021-12-02T09:23:09.012Z"
   },
   {
    "duration": 768,
    "start_time": "2021-12-02T09:23:09.129Z"
   },
   {
    "duration": 633,
    "start_time": "2021-12-02T09:23:09.898Z"
   },
   {
    "duration": 4,
    "start_time": "2021-12-02T09:23:10.533Z"
   },
   {
    "duration": 6,
    "start_time": "2021-12-02T09:23:10.538Z"
   },
   {
    "duration": 27,
    "start_time": "2021-12-02T09:23:10.546Z"
   },
   {
    "duration": 14,
    "start_time": "2021-12-02T09:23:10.575Z"
   },
   {
    "duration": 7,
    "start_time": "2021-12-02T09:23:10.591Z"
   },
   {
    "duration": 22,
    "start_time": "2021-12-02T09:23:10.599Z"
   },
   {
    "duration": 25,
    "start_time": "2021-12-02T09:23:10.622Z"
   },
   {
    "duration": 463,
    "start_time": "2021-12-02T09:23:10.649Z"
   },
   {
    "duration": 20,
    "start_time": "2021-12-02T09:23:11.114Z"
   },
   {
    "duration": 6,
    "start_time": "2021-12-02T09:23:11.136Z"
   },
   {
    "duration": 204,
    "start_time": "2021-12-02T09:23:11.144Z"
   },
   {
    "duration": 7,
    "start_time": "2021-12-02T09:23:11.350Z"
   },
   {
    "duration": 179,
    "start_time": "2021-12-02T09:23:11.358Z"
   },
   {
    "duration": 6,
    "start_time": "2021-12-02T09:23:11.538Z"
   },
   {
    "duration": 163,
    "start_time": "2021-12-02T09:23:11.546Z"
   },
   {
    "duration": 6,
    "start_time": "2021-12-02T09:23:11.710Z"
   },
   {
    "duration": 193,
    "start_time": "2021-12-02T09:23:11.718Z"
   },
   {
    "duration": 6061,
    "start_time": "2021-12-02T09:23:11.912Z"
   },
   {
    "duration": 308,
    "start_time": "2021-12-02T09:24:05.121Z"
   },
   {
    "duration": 8,
    "start_time": "2021-12-02T09:24:13.690Z"
   },
   {
    "duration": 81,
    "start_time": "2021-12-02T09:26:11.483Z"
   },
   {
    "duration": 258,
    "start_time": "2021-12-02T09:26:19.020Z"
   },
   {
    "duration": 264,
    "start_time": "2021-12-02T09:26:46.577Z"
   },
   {
    "duration": 721,
    "start_time": "2021-12-02T09:28:54.367Z"
   },
   {
    "duration": 10,
    "start_time": "2021-12-02T09:28:55.090Z"
   },
   {
    "duration": 59,
    "start_time": "2021-12-02T09:28:55.101Z"
   },
   {
    "duration": 40,
    "start_time": "2021-12-02T09:28:55.161Z"
   },
   {
    "duration": 8,
    "start_time": "2021-12-02T09:28:55.202Z"
   },
   {
    "duration": 7,
    "start_time": "2021-12-02T09:28:55.212Z"
   },
   {
    "duration": 7,
    "start_time": "2021-12-02T09:28:55.220Z"
   },
   {
    "duration": 8,
    "start_time": "2021-12-02T09:28:55.231Z"
   },
   {
    "duration": 134,
    "start_time": "2021-12-02T09:28:55.241Z"
   },
   {
    "duration": 848,
    "start_time": "2021-12-02T09:28:55.376Z"
   },
   {
    "duration": 663,
    "start_time": "2021-12-02T09:28:56.225Z"
   },
   {
    "duration": 4,
    "start_time": "2021-12-02T09:28:56.890Z"
   },
   {
    "duration": 7,
    "start_time": "2021-12-02T09:28:56.896Z"
   },
   {
    "duration": 28,
    "start_time": "2021-12-02T09:28:56.904Z"
   },
   {
    "duration": 3,
    "start_time": "2021-12-02T09:28:56.933Z"
   },
   {
    "duration": 8,
    "start_time": "2021-12-02T09:28:56.938Z"
   },
   {
    "duration": 44,
    "start_time": "2021-12-02T09:28:56.947Z"
   },
   {
    "duration": 25,
    "start_time": "2021-12-02T09:28:56.992Z"
   },
   {
    "duration": 459,
    "start_time": "2021-12-02T09:28:57.019Z"
   },
   {
    "duration": 25,
    "start_time": "2021-12-02T09:28:57.480Z"
   },
   {
    "duration": 6,
    "start_time": "2021-12-02T09:28:57.507Z"
   },
   {
    "duration": 196,
    "start_time": "2021-12-02T09:28:57.514Z"
   },
   {
    "duration": 7,
    "start_time": "2021-12-02T09:28:57.713Z"
   },
   {
    "duration": 191,
    "start_time": "2021-12-02T09:28:57.722Z"
   },
   {
    "duration": 5,
    "start_time": "2021-12-02T09:28:57.915Z"
   },
   {
    "duration": 170,
    "start_time": "2021-12-02T09:28:57.922Z"
   },
   {
    "duration": 6,
    "start_time": "2021-12-02T09:28:58.093Z"
   },
   {
    "duration": 215,
    "start_time": "2021-12-02T09:28:58.101Z"
   },
   {
    "duration": 484,
    "start_time": "2021-12-02T09:28:58.317Z"
   },
   {
    "duration": 7,
    "start_time": "2021-12-02T09:30:26.446Z"
   },
   {
    "duration": 1222,
    "start_time": "2021-12-02T09:31:23.119Z"
   },
   {
    "duration": 11,
    "start_time": "2021-12-02T09:33:41.464Z"
   },
   {
    "duration": 1091,
    "start_time": "2021-12-02T09:33:47.906Z"
   },
   {
    "duration": 21,
    "start_time": "2021-12-02T09:34:25.135Z"
   },
   {
    "duration": 736,
    "start_time": "2021-12-02T09:35:48.778Z"
   },
   {
    "duration": 10,
    "start_time": "2021-12-02T09:35:49.516Z"
   },
   {
    "duration": 73,
    "start_time": "2021-12-02T09:35:49.528Z"
   },
   {
    "duration": 24,
    "start_time": "2021-12-02T09:35:49.603Z"
   },
   {
    "duration": 8,
    "start_time": "2021-12-02T09:35:49.628Z"
   },
   {
    "duration": 9,
    "start_time": "2021-12-02T09:35:49.637Z"
   },
   {
    "duration": 7,
    "start_time": "2021-12-02T09:35:49.648Z"
   },
   {
    "duration": 30,
    "start_time": "2021-12-02T09:35:49.658Z"
   },
   {
    "duration": 117,
    "start_time": "2021-12-02T09:35:49.690Z"
   },
   {
    "duration": 808,
    "start_time": "2021-12-02T09:35:49.809Z"
   },
   {
    "duration": 751,
    "start_time": "2021-12-02T09:35:50.619Z"
   },
   {
    "duration": 5,
    "start_time": "2021-12-02T09:35:51.371Z"
   },
   {
    "duration": 12,
    "start_time": "2021-12-02T09:35:51.378Z"
   },
   {
    "duration": 29,
    "start_time": "2021-12-02T09:35:51.391Z"
   },
   {
    "duration": 5,
    "start_time": "2021-12-02T09:35:51.422Z"
   },
   {
    "duration": 8,
    "start_time": "2021-12-02T09:35:51.428Z"
   },
   {
    "duration": 24,
    "start_time": "2021-12-02T09:35:51.438Z"
   },
   {
    "duration": 26,
    "start_time": "2021-12-02T09:35:51.488Z"
   },
   {
    "duration": 582,
    "start_time": "2021-12-02T09:35:51.516Z"
   },
   {
    "duration": 21,
    "start_time": "2021-12-02T09:35:52.099Z"
   },
   {
    "duration": 7,
    "start_time": "2021-12-02T09:35:52.122Z"
   },
   {
    "duration": 206,
    "start_time": "2021-12-02T09:35:52.130Z"
   },
   {
    "duration": 8,
    "start_time": "2021-12-02T09:35:52.338Z"
   },
   {
    "duration": 202,
    "start_time": "2021-12-02T09:35:52.348Z"
   },
   {
    "duration": 6,
    "start_time": "2021-12-02T09:35:52.552Z"
   },
   {
    "duration": 175,
    "start_time": "2021-12-02T09:35:52.559Z"
   },
   {
    "duration": 7,
    "start_time": "2021-12-02T09:35:52.735Z"
   },
   {
    "duration": 214,
    "start_time": "2021-12-02T09:35:52.744Z"
   },
   {
    "duration": 33,
    "start_time": "2021-12-02T09:35:52.960Z"
   },
   {
    "duration": 1178,
    "start_time": "2021-12-02T09:35:52.994Z"
   },
   {
    "duration": 736,
    "start_time": "2021-12-02T09:36:40.790Z"
   },
   {
    "duration": 9,
    "start_time": "2021-12-02T09:36:41.528Z"
   },
   {
    "duration": 73,
    "start_time": "2021-12-02T09:36:41.540Z"
   },
   {
    "duration": 24,
    "start_time": "2021-12-02T09:36:41.614Z"
   },
   {
    "duration": 8,
    "start_time": "2021-12-02T09:36:41.640Z"
   },
   {
    "duration": 8,
    "start_time": "2021-12-02T09:36:41.650Z"
   },
   {
    "duration": 29,
    "start_time": "2021-12-02T09:36:41.659Z"
   },
   {
    "duration": 10,
    "start_time": "2021-12-02T09:36:41.690Z"
   },
   {
    "duration": 119,
    "start_time": "2021-12-02T09:36:41.702Z"
   },
   {
    "duration": 790,
    "start_time": "2021-12-02T09:36:41.823Z"
   },
   {
    "duration": 620,
    "start_time": "2021-12-02T09:36:42.614Z"
   },
   {
    "duration": 5,
    "start_time": "2021-12-02T09:36:43.235Z"
   },
   {
    "duration": 10,
    "start_time": "2021-12-02T09:36:43.242Z"
   },
   {
    "duration": 40,
    "start_time": "2021-12-02T09:36:43.253Z"
   },
   {
    "duration": 4,
    "start_time": "2021-12-02T09:36:43.295Z"
   },
   {
    "duration": 11,
    "start_time": "2021-12-02T09:36:43.301Z"
   },
   {
    "duration": 30,
    "start_time": "2021-12-02T09:36:43.314Z"
   },
   {
    "duration": 42,
    "start_time": "2021-12-02T09:36:43.346Z"
   },
   {
    "duration": 459,
    "start_time": "2021-12-02T09:36:43.389Z"
   },
   {
    "duration": 23,
    "start_time": "2021-12-02T09:36:43.850Z"
   },
   {
    "duration": 8,
    "start_time": "2021-12-02T09:36:43.888Z"
   },
   {
    "duration": 202,
    "start_time": "2021-12-02T09:36:43.898Z"
   },
   {
    "duration": 8,
    "start_time": "2021-12-02T09:36:44.102Z"
   },
   {
    "duration": 188,
    "start_time": "2021-12-02T09:36:44.111Z"
   },
   {
    "duration": 6,
    "start_time": "2021-12-02T09:36:44.301Z"
   },
   {
    "duration": 182,
    "start_time": "2021-12-02T09:36:44.309Z"
   },
   {
    "duration": 8,
    "start_time": "2021-12-02T09:36:44.493Z"
   },
   {
    "duration": 205,
    "start_time": "2021-12-02T09:36:44.503Z"
   },
   {
    "duration": 25,
    "start_time": "2021-12-02T09:36:44.710Z"
   },
   {
    "duration": 1072,
    "start_time": "2021-12-02T09:36:44.736Z"
   },
   {
    "duration": 10,
    "start_time": "2021-12-02T10:03:10.139Z"
   },
   {
    "duration": 9,
    "start_time": "2021-12-02T10:04:49.367Z"
   },
   {
    "duration": 728,
    "start_time": "2021-12-02T15:23:50.712Z"
   },
   {
    "duration": 10,
    "start_time": "2021-12-02T15:23:51.442Z"
   },
   {
    "duration": 74,
    "start_time": "2021-12-02T15:23:51.454Z"
   },
   {
    "duration": 38,
    "start_time": "2021-12-02T15:23:51.530Z"
   },
   {
    "duration": 9,
    "start_time": "2021-12-02T15:23:51.570Z"
   },
   {
    "duration": 11,
    "start_time": "2021-12-02T15:23:51.581Z"
   },
   {
    "duration": 4,
    "start_time": "2021-12-02T15:23:51.594Z"
   },
   {
    "duration": 10,
    "start_time": "2021-12-02T15:23:51.600Z"
   },
   {
    "duration": 143,
    "start_time": "2021-12-02T15:23:51.612Z"
   },
   {
    "duration": 869,
    "start_time": "2021-12-02T15:23:51.758Z"
   },
   {
    "duration": 752,
    "start_time": "2021-12-02T15:23:52.629Z"
   },
   {
    "duration": 5,
    "start_time": "2021-12-02T15:23:53.383Z"
   },
   {
    "duration": 12,
    "start_time": "2021-12-02T15:23:53.389Z"
   },
   {
    "duration": 33,
    "start_time": "2021-12-02T15:23:53.403Z"
   },
   {
    "duration": 5,
    "start_time": "2021-12-02T15:23:53.437Z"
   },
   {
    "duration": 7,
    "start_time": "2021-12-02T15:23:53.464Z"
   },
   {
    "duration": 34,
    "start_time": "2021-12-02T15:23:53.473Z"
   },
   {
    "duration": 30,
    "start_time": "2021-12-02T15:23:53.509Z"
   },
   {
    "duration": 575,
    "start_time": "2021-12-02T15:23:53.541Z"
   },
   {
    "duration": 24,
    "start_time": "2021-12-02T15:23:54.118Z"
   },
   {
    "duration": 21,
    "start_time": "2021-12-02T15:23:54.143Z"
   },
   {
    "duration": 221,
    "start_time": "2021-12-02T15:23:54.166Z"
   },
   {
    "duration": 7,
    "start_time": "2021-12-02T15:23:54.389Z"
   },
   {
    "duration": 212,
    "start_time": "2021-12-02T15:23:54.398Z"
   },
   {
    "duration": 8,
    "start_time": "2021-12-02T15:23:54.612Z"
   },
   {
    "duration": 204,
    "start_time": "2021-12-02T15:23:54.622Z"
   },
   {
    "duration": 8,
    "start_time": "2021-12-02T15:23:54.830Z"
   },
   {
    "duration": 234,
    "start_time": "2021-12-02T15:23:54.840Z"
   },
   {
    "duration": 11,
    "start_time": "2021-12-02T15:23:55.077Z"
   },
   {
    "duration": 325,
    "start_time": "2021-12-02T15:23:55.090Z"
   },
   {
    "duration": 14,
    "start_time": "2021-12-02T15:25:36.446Z"
   },
   {
    "duration": 220,
    "start_time": "2021-12-02T15:26:17.613Z"
   },
   {
    "duration": 1100,
    "start_time": "2021-12-02T15:26:48.823Z"
   },
   {
    "duration": 262,
    "start_time": "2021-12-02T15:26:58.914Z"
   },
   {
    "duration": 17,
    "start_time": "2021-12-02T15:27:36.163Z"
   },
   {
    "duration": 13,
    "start_time": "2021-12-02T15:28:05.335Z"
   },
   {
    "duration": 766,
    "start_time": "2021-12-03T08:09:54.159Z"
   },
   {
    "duration": 16,
    "start_time": "2021-12-03T08:09:54.928Z"
   },
   {
    "duration": 65,
    "start_time": "2021-12-03T08:09:54.947Z"
   },
   {
    "duration": 43,
    "start_time": "2021-12-03T08:09:55.014Z"
   },
   {
    "duration": 8,
    "start_time": "2021-12-03T08:09:55.059Z"
   },
   {
    "duration": 9,
    "start_time": "2021-12-03T08:09:55.069Z"
   },
   {
    "duration": 4,
    "start_time": "2021-12-03T08:09:55.079Z"
   },
   {
    "duration": 13,
    "start_time": "2021-12-03T08:09:55.084Z"
   },
   {
    "duration": 138,
    "start_time": "2021-12-03T08:09:55.100Z"
   },
   {
    "duration": 848,
    "start_time": "2021-12-03T08:09:55.240Z"
   },
   {
    "duration": 654,
    "start_time": "2021-12-03T08:09:56.090Z"
   },
   {
    "duration": 5,
    "start_time": "2021-12-03T08:09:56.746Z"
   },
   {
    "duration": 7,
    "start_time": "2021-12-03T08:09:56.753Z"
   },
   {
    "duration": 34,
    "start_time": "2021-12-03T08:09:56.762Z"
   },
   {
    "duration": 4,
    "start_time": "2021-12-03T08:09:56.798Z"
   },
   {
    "duration": 10,
    "start_time": "2021-12-03T08:09:56.804Z"
   },
   {
    "duration": 49,
    "start_time": "2021-12-03T08:09:56.815Z"
   },
   {
    "duration": 30,
    "start_time": "2021-12-03T08:09:56.866Z"
   },
   {
    "duration": 512,
    "start_time": "2021-12-03T08:09:56.897Z"
   },
   {
    "duration": 34,
    "start_time": "2021-12-03T08:09:57.411Z"
   },
   {
    "duration": 7,
    "start_time": "2021-12-03T08:09:57.447Z"
   },
   {
    "duration": 216,
    "start_time": "2021-12-03T08:09:57.456Z"
   },
   {
    "duration": 8,
    "start_time": "2021-12-03T08:09:57.673Z"
   },
   {
    "duration": 197,
    "start_time": "2021-12-03T08:09:57.682Z"
   },
   {
    "duration": 6,
    "start_time": "2021-12-03T08:09:57.881Z"
   },
   {
    "duration": 192,
    "start_time": "2021-12-03T08:09:57.889Z"
   },
   {
    "duration": 7,
    "start_time": "2021-12-03T08:09:58.084Z"
   },
   {
    "duration": 215,
    "start_time": "2021-12-03T08:09:58.093Z"
   },
   {
    "duration": 14,
    "start_time": "2021-12-03T08:09:58.309Z"
   },
   {
    "duration": 223,
    "start_time": "2021-12-03T08:09:58.324Z"
   },
   {
    "duration": 18,
    "start_time": "2021-12-03T08:15:40.919Z"
   },
   {
    "duration": 18,
    "start_time": "2021-12-03T08:15:55.583Z"
   },
   {
    "duration": 19,
    "start_time": "2021-12-03T08:16:24.240Z"
   },
   {
    "duration": 19,
    "start_time": "2021-12-03T08:16:51.062Z"
   },
   {
    "duration": 20,
    "start_time": "2021-12-03T08:17:17.414Z"
   },
   {
    "duration": 17,
    "start_time": "2021-12-03T08:17:57.969Z"
   },
   {
    "duration": 18,
    "start_time": "2021-12-03T08:19:45.260Z"
   },
   {
    "duration": 19,
    "start_time": "2021-12-03T08:20:54.104Z"
   },
   {
    "duration": 19,
    "start_time": "2021-12-03T08:22:27.857Z"
   },
   {
    "duration": 61,
    "start_time": "2021-12-03T08:22:43.594Z"
   },
   {
    "duration": 18,
    "start_time": "2021-12-03T08:26:24.114Z"
   },
   {
    "duration": 818,
    "start_time": "2021-12-03T08:27:58.222Z"
   },
   {
    "duration": 10,
    "start_time": "2021-12-03T08:27:59.042Z"
   },
   {
    "duration": 63,
    "start_time": "2021-12-03T08:27:59.057Z"
   },
   {
    "duration": 41,
    "start_time": "2021-12-03T08:27:59.121Z"
   },
   {
    "duration": 8,
    "start_time": "2021-12-03T08:27:59.164Z"
   },
   {
    "duration": 8,
    "start_time": "2021-12-03T08:27:59.173Z"
   },
   {
    "duration": 5,
    "start_time": "2021-12-03T08:27:59.183Z"
   },
   {
    "duration": 5,
    "start_time": "2021-12-03T08:27:59.190Z"
   },
   {
    "duration": 11,
    "start_time": "2021-12-03T08:27:59.197Z"
   },
   {
    "duration": 138,
    "start_time": "2021-12-03T08:27:59.210Z"
   },
   {
    "duration": 1064,
    "start_time": "2021-12-03T08:27:59.349Z"
   },
   {
    "duration": 652,
    "start_time": "2021-12-03T08:28:00.414Z"
   },
   {
    "duration": 5,
    "start_time": "2021-12-03T08:28:01.068Z"
   },
   {
    "duration": 19,
    "start_time": "2021-12-03T08:28:01.074Z"
   },
   {
    "duration": 32,
    "start_time": "2021-12-03T08:28:01.095Z"
   },
   {
    "duration": 4,
    "start_time": "2021-12-03T08:28:01.129Z"
   },
   {
    "duration": 16,
    "start_time": "2021-12-03T08:28:01.134Z"
   },
   {
    "duration": 26,
    "start_time": "2021-12-03T08:28:01.151Z"
   },
   {
    "duration": 30,
    "start_time": "2021-12-03T08:28:01.179Z"
   },
   {
    "duration": 500,
    "start_time": "2021-12-03T08:28:01.211Z"
   },
   {
    "duration": 35,
    "start_time": "2021-12-03T08:28:01.713Z"
   },
   {
    "duration": 8,
    "start_time": "2021-12-03T08:28:01.750Z"
   },
   {
    "duration": 214,
    "start_time": "2021-12-03T08:28:01.760Z"
   },
   {
    "duration": 8,
    "start_time": "2021-12-03T08:28:01.975Z"
   },
   {
    "duration": 213,
    "start_time": "2021-12-03T08:28:01.984Z"
   },
   {
    "duration": 12,
    "start_time": "2021-12-03T08:28:02.201Z"
   },
   {
    "duration": 197,
    "start_time": "2021-12-03T08:28:02.215Z"
   },
   {
    "duration": 7,
    "start_time": "2021-12-03T08:28:02.413Z"
   },
   {
    "duration": 222,
    "start_time": "2021-12-03T08:28:02.422Z"
   },
   {
    "duration": 19,
    "start_time": "2021-12-03T08:28:02.646Z"
   },
   {
    "duration": 216,
    "start_time": "2021-12-03T08:28:02.666Z"
   },
   {
    "duration": 16,
    "start_time": "2021-12-03T08:28:44.218Z"
   },
   {
    "duration": 15,
    "start_time": "2021-12-03T08:29:07.050Z"
   },
   {
    "duration": 16,
    "start_time": "2021-12-03T08:29:18.270Z"
   },
   {
    "duration": 233,
    "start_time": "2021-12-03T08:30:44.817Z"
   },
   {
    "duration": 155,
    "start_time": "2021-12-03T08:31:05.127Z"
   },
   {
    "duration": 165,
    "start_time": "2021-12-03T08:31:20.492Z"
   },
   {
    "duration": 157,
    "start_time": "2021-12-03T08:31:49.599Z"
   },
   {
    "duration": 180,
    "start_time": "2021-12-03T08:32:29.473Z"
   },
   {
    "duration": 522,
    "start_time": "2021-12-03T08:33:00.230Z"
   },
   {
    "duration": 194,
    "start_time": "2021-12-03T08:33:09.808Z"
   },
   {
    "duration": 11,
    "start_time": "2021-12-03T08:34:17.626Z"
   },
   {
    "duration": 13,
    "start_time": "2021-12-03T08:34:36.523Z"
   },
   {
    "duration": 15,
    "start_time": "2021-12-03T08:39:47.053Z"
   },
   {
    "duration": 196,
    "start_time": "2021-12-03T08:40:04.741Z"
   },
   {
    "duration": 6,
    "start_time": "2021-12-03T08:41:59.410Z"
   },
   {
    "duration": 1066,
    "start_time": "2021-12-03T12:24:26.976Z"
   },
   {
    "duration": 15,
    "start_time": "2021-12-03T12:24:28.044Z"
   },
   {
    "duration": 123,
    "start_time": "2021-12-03T12:24:28.062Z"
   },
   {
    "duration": 52,
    "start_time": "2021-12-03T12:24:28.188Z"
   },
   {
    "duration": 13,
    "start_time": "2021-12-03T12:24:28.243Z"
   },
   {
    "duration": 14,
    "start_time": "2021-12-03T12:24:28.259Z"
   },
   {
    "duration": 6,
    "start_time": "2021-12-03T12:24:28.275Z"
   },
   {
    "duration": 45,
    "start_time": "2021-12-03T12:24:28.287Z"
   },
   {
    "duration": 16,
    "start_time": "2021-12-03T12:24:28.336Z"
   },
   {
    "duration": 241,
    "start_time": "2021-12-03T12:24:28.355Z"
   },
   {
    "duration": 1545,
    "start_time": "2021-12-03T12:24:28.598Z"
   },
   {
    "duration": 1317,
    "start_time": "2021-12-03T12:24:30.145Z"
   },
   {
    "duration": 10,
    "start_time": "2021-12-03T12:24:31.464Z"
   },
   {
    "duration": 18,
    "start_time": "2021-12-03T12:24:31.476Z"
   },
   {
    "duration": 64,
    "start_time": "2021-12-03T12:24:31.496Z"
   },
   {
    "duration": 5,
    "start_time": "2021-12-03T12:24:31.563Z"
   },
   {
    "duration": 17,
    "start_time": "2021-12-03T12:24:31.570Z"
   },
   {
    "duration": 63,
    "start_time": "2021-12-03T12:24:31.589Z"
   },
   {
    "duration": 47,
    "start_time": "2021-12-03T12:24:31.655Z"
   },
   {
    "duration": 854,
    "start_time": "2021-12-03T12:24:31.704Z"
   },
   {
    "duration": 38,
    "start_time": "2021-12-03T12:24:32.560Z"
   },
   {
    "duration": 31,
    "start_time": "2021-12-03T12:24:32.600Z"
   },
   {
    "duration": 465,
    "start_time": "2021-12-03T12:24:32.635Z"
   },
   {
    "duration": 11,
    "start_time": "2021-12-03T12:24:33.102Z"
   },
   {
    "duration": 339,
    "start_time": "2021-12-03T12:24:33.129Z"
   },
   {
    "duration": 9,
    "start_time": "2021-12-03T12:24:33.471Z"
   },
   {
    "duration": 315,
    "start_time": "2021-12-03T12:24:33.482Z"
   },
   {
    "duration": 10,
    "start_time": "2021-12-03T12:24:33.799Z"
   },
   {
    "duration": 367,
    "start_time": "2021-12-03T12:24:33.812Z"
   },
   {
    "duration": 19,
    "start_time": "2021-12-03T12:24:34.182Z"
   },
   {
    "duration": 36,
    "start_time": "2021-12-03T12:24:34.203Z"
   },
   {
    "duration": 370,
    "start_time": "2021-12-03T12:24:34.242Z"
   },
   {
    "duration": 382,
    "start_time": "2021-12-03T12:24:34.614Z"
   },
   {
    "duration": 6,
    "start_time": "2021-12-03T12:24:34.999Z"
   },
   {
    "duration": 365,
    "start_time": "2021-12-03T12:24:51.725Z"
   },
   {
    "duration": 88,
    "start_time": "2021-12-03T12:31:18.371Z"
   },
   {
    "duration": 88,
    "start_time": "2021-12-03T12:31:42.255Z"
   },
   {
    "duration": 355,
    "start_time": "2021-12-03T12:32:23.353Z"
   },
   {
    "duration": 331,
    "start_time": "2021-12-03T12:32:49.615Z"
   },
   {
    "duration": 716,
    "start_time": "2021-12-03T12:33:10.752Z"
   },
   {
    "duration": 326,
    "start_time": "2021-12-03T12:33:35.706Z"
   },
   {
    "duration": 265,
    "start_time": "2021-12-03T12:33:58.693Z"
   },
   {
    "duration": 363,
    "start_time": "2021-12-03T12:34:10.627Z"
   },
   {
    "duration": 327,
    "start_time": "2021-12-03T12:36:29.659Z"
   },
   {
    "duration": 7,
    "start_time": "2021-12-03T12:36:36.668Z"
   },
   {
    "duration": 417,
    "start_time": "2021-12-03T12:36:43.643Z"
   },
   {
    "duration": 298,
    "start_time": "2021-12-03T12:39:41.211Z"
   },
   {
    "duration": 1121,
    "start_time": "2021-12-03T12:39:45.032Z"
   },
   {
    "duration": 3,
    "start_time": "2021-12-03T12:40:29.997Z"
   },
   {
    "duration": 334,
    "start_time": "2021-12-03T12:40:56.695Z"
   },
   {
    "duration": 10,
    "start_time": "2021-12-03T12:57:25.727Z"
   },
   {
    "duration": 9,
    "start_time": "2021-12-03T13:04:35.009Z"
   },
   {
    "duration": 9,
    "start_time": "2021-12-03T13:05:14.857Z"
   },
   {
    "duration": 304,
    "start_time": "2021-12-03T13:08:05.234Z"
   },
   {
    "duration": 12,
    "start_time": "2021-12-03T13:08:11.003Z"
   },
   {
    "duration": 5685,
    "start_time": "2021-12-03T13:09:13.750Z"
   },
   {
    "duration": 7025,
    "start_time": "2021-12-03T13:09:40.696Z"
   },
   {
    "duration": 229,
    "start_time": "2021-12-03T13:10:33.743Z"
   },
   {
    "duration": 222,
    "start_time": "2021-12-03T13:12:23.013Z"
   },
   {
    "duration": 232,
    "start_time": "2021-12-03T13:12:48.055Z"
   },
   {
    "duration": 227,
    "start_time": "2021-12-03T13:13:11.084Z"
   },
   {
    "duration": 223,
    "start_time": "2021-12-03T13:13:42.243Z"
   },
   {
    "duration": 226,
    "start_time": "2021-12-03T13:14:14.301Z"
   },
   {
    "duration": 228,
    "start_time": "2021-12-03T13:15:11.009Z"
   },
   {
    "duration": 25,
    "start_time": "2021-12-03T13:18:00.858Z"
   },
   {
    "duration": 24,
    "start_time": "2021-12-03T13:18:33.209Z"
   },
   {
    "duration": 8,
    "start_time": "2021-12-03T13:19:03.869Z"
   },
   {
    "duration": 61,
    "start_time": "2021-12-03T13:19:41.306Z"
   },
   {
    "duration": 12,
    "start_time": "2021-12-03T13:21:14.773Z"
   },
   {
    "duration": 4240,
    "start_time": "2021-12-03T13:22:00.216Z"
   },
   {
    "duration": 11,
    "start_time": "2021-12-03T13:22:42.586Z"
   },
   {
    "duration": 12,
    "start_time": "2021-12-03T13:23:26.210Z"
   },
   {
    "duration": 12,
    "start_time": "2021-12-03T13:23:57.763Z"
   },
   {
    "duration": 10,
    "start_time": "2021-12-03T13:24:28.737Z"
   },
   {
    "duration": 6,
    "start_time": "2021-12-03T13:26:45.573Z"
   },
   {
    "duration": 228,
    "start_time": "2021-12-03T13:26:49.748Z"
   },
   {
    "duration": 1115,
    "start_time": "2021-12-03T13:27:12.993Z"
   },
   {
    "duration": 23,
    "start_time": "2021-12-03T13:27:14.111Z"
   },
   {
    "duration": 123,
    "start_time": "2021-12-03T13:27:14.137Z"
   },
   {
    "duration": 40,
    "start_time": "2021-12-03T13:27:14.263Z"
   },
   {
    "duration": 26,
    "start_time": "2021-12-03T13:27:14.306Z"
   },
   {
    "duration": 12,
    "start_time": "2021-12-03T13:27:14.335Z"
   },
   {
    "duration": 16,
    "start_time": "2021-12-03T13:27:14.349Z"
   },
   {
    "duration": 13,
    "start_time": "2021-12-03T13:27:14.369Z"
   },
   {
    "duration": 18,
    "start_time": "2021-12-03T13:27:14.385Z"
   },
   {
    "duration": 250,
    "start_time": "2021-12-03T13:27:14.405Z"
   },
   {
    "duration": 1592,
    "start_time": "2021-12-03T13:27:14.657Z"
   },
   {
    "duration": 1741,
    "start_time": "2021-12-03T13:27:16.251Z"
   },
   {
    "duration": 8,
    "start_time": "2021-12-03T13:27:17.994Z"
   },
   {
    "duration": 24,
    "start_time": "2021-12-03T13:27:18.005Z"
   },
   {
    "duration": 63,
    "start_time": "2021-12-03T13:27:18.031Z"
   },
   {
    "duration": 7,
    "start_time": "2021-12-03T13:27:18.096Z"
   },
   {
    "duration": 9,
    "start_time": "2021-12-03T13:27:18.129Z"
   },
   {
    "duration": 7,
    "start_time": "2021-12-03T13:27:18.141Z"
   },
   {
    "duration": 417,
    "start_time": "2021-12-03T13:27:18.152Z"
   },
   {
    "duration": 12,
    "start_time": "2021-12-03T13:27:18.572Z"
   },
   {
    "duration": 13,
    "start_time": "2021-12-03T13:27:18.587Z"
   },
   {
    "duration": 45,
    "start_time": "2021-12-03T13:27:18.629Z"
   },
   {
    "duration": 64,
    "start_time": "2021-12-03T13:27:18.679Z"
   },
   {
    "duration": 889,
    "start_time": "2021-12-03T13:27:18.746Z"
   },
   {
    "duration": 39,
    "start_time": "2021-12-03T13:27:19.637Z"
   },
   {
    "duration": 11,
    "start_time": "2021-12-03T13:27:19.678Z"
   },
   {
    "duration": 389,
    "start_time": "2021-12-03T13:27:19.692Z"
   },
   {
    "duration": 12,
    "start_time": "2021-12-03T13:27:20.084Z"
   },
   {
    "duration": 529,
    "start_time": "2021-12-03T13:27:20.099Z"
   },
   {
    "duration": 13,
    "start_time": "2021-12-03T13:27:20.632Z"
   },
   {
    "duration": 356,
    "start_time": "2021-12-03T13:27:20.647Z"
   },
   {
    "duration": 26,
    "start_time": "2021-12-03T13:27:21.007Z"
   },
   {
    "duration": 401,
    "start_time": "2021-12-03T13:27:21.037Z"
   },
   {
    "duration": 23,
    "start_time": "2021-12-03T13:27:21.440Z"
   },
   {
    "duration": 106,
    "start_time": "2021-12-03T13:27:21.466Z"
   },
   {
    "duration": 388,
    "start_time": "2021-12-03T13:27:21.576Z"
   },
   {
    "duration": 355,
    "start_time": "2021-12-03T13:27:21.966Z"
   },
   {
    "duration": 9,
    "start_time": "2021-12-03T13:27:22.324Z"
   },
   {
    "duration": 388,
    "start_time": "2021-12-03T13:27:22.335Z"
   },
   {
    "duration": 8,
    "start_time": "2021-12-03T13:27:22.730Z"
   },
   {
    "duration": 351,
    "start_time": "2021-12-03T13:27:22.740Z"
   },
   {
    "duration": 366,
    "start_time": "2021-12-03T13:27:23.094Z"
   },
   {
    "duration": 9,
    "start_time": "2021-12-03T13:29:28.430Z"
   },
   {
    "duration": 7,
    "start_time": "2021-12-03T13:30:06.888Z"
   },
   {
    "duration": 14,
    "start_time": "2021-12-03T13:30:35.970Z"
   },
   {
    "duration": 15,
    "start_time": "2021-12-03T13:33:41.245Z"
   },
   {
    "duration": 12,
    "start_time": "2021-12-03T13:34:14.094Z"
   },
   {
    "duration": 24,
    "start_time": "2021-12-03T13:41:12.414Z"
   },
   {
    "duration": 209,
    "start_time": "2021-12-03T13:41:52.748Z"
   },
   {
    "duration": 12,
    "start_time": "2021-12-03T13:42:07.365Z"
   },
   {
    "duration": 12,
    "start_time": "2021-12-03T13:42:27.723Z"
   },
   {
    "duration": 1019,
    "start_time": "2021-12-04T08:49:34.083Z"
   },
   {
    "duration": 16,
    "start_time": "2021-12-04T08:49:35.104Z"
   },
   {
    "duration": 116,
    "start_time": "2021-12-04T08:49:35.123Z"
   },
   {
    "duration": 50,
    "start_time": "2021-12-04T08:49:35.242Z"
   },
   {
    "duration": 13,
    "start_time": "2021-12-04T08:49:35.295Z"
   },
   {
    "duration": 14,
    "start_time": "2021-12-04T08:49:35.311Z"
   },
   {
    "duration": 33,
    "start_time": "2021-12-04T08:49:35.327Z"
   },
   {
    "duration": 6,
    "start_time": "2021-12-04T08:49:35.364Z"
   },
   {
    "duration": 15,
    "start_time": "2021-12-04T08:49:35.373Z"
   },
   {
    "duration": 233,
    "start_time": "2021-12-04T08:49:35.390Z"
   },
   {
    "duration": 1521,
    "start_time": "2021-12-04T08:49:35.625Z"
   },
   {
    "duration": 1204,
    "start_time": "2021-12-04T08:49:37.149Z"
   },
   {
    "duration": 7,
    "start_time": "2021-12-04T08:49:38.360Z"
   },
   {
    "duration": 11,
    "start_time": "2021-12-04T08:49:38.370Z"
   },
   {
    "duration": 54,
    "start_time": "2021-12-04T08:49:38.383Z"
   },
   {
    "duration": 21,
    "start_time": "2021-12-04T08:49:38.440Z"
   },
   {
    "duration": 11,
    "start_time": "2021-12-04T08:49:38.463Z"
   },
   {
    "duration": 21,
    "start_time": "2021-12-04T08:49:38.477Z"
   },
   {
    "duration": 239,
    "start_time": "2021-12-04T08:49:38.500Z"
   },
   {
    "duration": 20,
    "start_time": "2021-12-04T08:49:38.741Z"
   },
   {
    "duration": 10,
    "start_time": "2021-12-04T08:49:38.763Z"
   },
   {
    "duration": 41,
    "start_time": "2021-12-04T08:49:38.776Z"
   },
   {
    "duration": 75,
    "start_time": "2021-12-04T08:49:38.822Z"
   },
   {
    "duration": 829,
    "start_time": "2021-12-04T08:49:38.899Z"
   },
   {
    "duration": 49,
    "start_time": "2021-12-04T08:49:39.730Z"
   },
   {
    "duration": 10,
    "start_time": "2021-12-04T08:49:39.782Z"
   },
   {
    "duration": 357,
    "start_time": "2021-12-04T08:49:39.794Z"
   },
   {
    "duration": 15,
    "start_time": "2021-12-04T08:49:40.153Z"
   },
   {
    "duration": 331,
    "start_time": "2021-12-04T08:49:40.170Z"
   },
   {
    "duration": 9,
    "start_time": "2021-12-04T08:49:40.503Z"
   },
   {
    "duration": 309,
    "start_time": "2021-12-04T08:49:40.514Z"
   },
   {
    "duration": 10,
    "start_time": "2021-12-04T08:49:40.825Z"
   },
   {
    "duration": 364,
    "start_time": "2021-12-04T08:49:40.837Z"
   },
   {
    "duration": 19,
    "start_time": "2021-12-04T08:49:41.204Z"
   },
   {
    "duration": 77,
    "start_time": "2021-12-04T08:49:41.225Z"
   },
   {
    "duration": 361,
    "start_time": "2021-12-04T08:49:41.305Z"
   },
   {
    "duration": 323,
    "start_time": "2021-12-04T08:49:41.669Z"
   },
   {
    "duration": 6,
    "start_time": "2021-12-04T08:49:41.995Z"
   },
   {
    "duration": 372,
    "start_time": "2021-12-04T08:49:42.003Z"
   },
   {
    "duration": 7,
    "start_time": "2021-12-04T08:49:42.377Z"
   },
   {
    "duration": 347,
    "start_time": "2021-12-04T08:49:42.386Z"
   },
   {
    "duration": 329,
    "start_time": "2021-12-04T08:49:42.735Z"
   },
   {
    "duration": 15,
    "start_time": "2021-12-04T08:51:30.997Z"
   },
   {
    "duration": 193,
    "start_time": "2021-12-04T08:52:14.484Z"
   },
   {
    "duration": 12,
    "start_time": "2021-12-04T08:53:14.359Z"
   },
   {
    "duration": 956,
    "start_time": "2021-12-04T08:53:26.495Z"
   },
   {
    "duration": 16,
    "start_time": "2021-12-04T08:53:27.461Z"
   },
   {
    "duration": 115,
    "start_time": "2021-12-04T08:53:27.480Z"
   },
   {
    "duration": 36,
    "start_time": "2021-12-04T08:53:27.599Z"
   },
   {
    "duration": 31,
    "start_time": "2021-12-04T08:53:27.638Z"
   },
   {
    "duration": 11,
    "start_time": "2021-12-04T08:53:27.671Z"
   },
   {
    "duration": 6,
    "start_time": "2021-12-04T08:53:27.684Z"
   },
   {
    "duration": 5,
    "start_time": "2021-12-04T08:53:27.694Z"
   },
   {
    "duration": 12,
    "start_time": "2021-12-04T08:53:27.701Z"
   },
   {
    "duration": 248,
    "start_time": "2021-12-04T08:53:27.716Z"
   },
   {
    "duration": 1493,
    "start_time": "2021-12-04T08:53:27.967Z"
   },
   {
    "duration": 1363,
    "start_time": "2021-12-04T08:53:29.463Z"
   },
   {
    "duration": 8,
    "start_time": "2021-12-04T08:53:30.828Z"
   },
   {
    "duration": 21,
    "start_time": "2021-12-04T08:53:30.838Z"
   },
   {
    "duration": 63,
    "start_time": "2021-12-04T08:53:30.862Z"
   },
   {
    "duration": 6,
    "start_time": "2021-12-04T08:53:30.927Z"
   },
   {
    "duration": 39,
    "start_time": "2021-12-04T08:53:30.936Z"
   },
   {
    "duration": 24,
    "start_time": "2021-12-04T08:53:30.977Z"
   },
   {
    "duration": 12,
    "start_time": "2021-12-04T08:53:31.003Z"
   },
   {
    "duration": 226,
    "start_time": "2021-12-04T08:53:31.017Z"
   },
   {
    "duration": 16,
    "start_time": "2021-12-04T08:53:31.245Z"
   },
   {
    "duration": 10,
    "start_time": "2021-12-04T08:53:31.264Z"
   },
   {
    "duration": 41,
    "start_time": "2021-12-04T08:53:31.279Z"
   },
   {
    "duration": 69,
    "start_time": "2021-12-04T08:53:31.323Z"
   },
   {
    "duration": 831,
    "start_time": "2021-12-04T08:53:31.394Z"
   },
   {
    "duration": 48,
    "start_time": "2021-12-04T08:53:32.228Z"
   },
   {
    "duration": 10,
    "start_time": "2021-12-04T08:53:32.279Z"
   },
   {
    "duration": 362,
    "start_time": "2021-12-04T08:53:32.291Z"
   },
   {
    "duration": 11,
    "start_time": "2021-12-04T08:53:32.659Z"
   },
   {
    "duration": 357,
    "start_time": "2021-12-04T08:53:32.672Z"
   },
   {
    "duration": 9,
    "start_time": "2021-12-04T08:53:33.031Z"
   },
   {
    "duration": 279,
    "start_time": "2021-12-04T08:53:33.058Z"
   },
   {
    "duration": 22,
    "start_time": "2021-12-04T08:53:33.339Z"
   },
   {
    "duration": 347,
    "start_time": "2021-12-04T08:53:33.363Z"
   },
   {
    "duration": 18,
    "start_time": "2021-12-04T08:53:33.712Z"
   },
   {
    "duration": 81,
    "start_time": "2021-12-04T08:53:33.732Z"
   },
   {
    "duration": 357,
    "start_time": "2021-12-04T08:53:33.816Z"
   },
   {
    "duration": 347,
    "start_time": "2021-12-04T08:53:34.175Z"
   },
   {
    "duration": 6,
    "start_time": "2021-12-04T08:53:34.524Z"
   },
   {
    "duration": 670,
    "start_time": "2021-12-04T08:53:34.533Z"
   },
   {
    "duration": 58,
    "start_time": "2021-12-04T08:53:35.205Z"
   },
   {
    "duration": 368,
    "start_time": "2021-12-04T08:53:35.265Z"
   },
   {
    "duration": 331,
    "start_time": "2021-12-04T08:53:35.635Z"
   },
   {
    "duration": 10,
    "start_time": "2021-12-04T08:55:00.523Z"
   },
   {
    "duration": 10,
    "start_time": "2021-12-04T08:55:27.763Z"
   },
   {
    "duration": 6,
    "start_time": "2021-12-04T08:57:33.873Z"
   },
   {
    "duration": 12,
    "start_time": "2021-12-04T08:57:39.756Z"
   },
   {
    "duration": 1027,
    "start_time": "2021-12-04T08:58:07.432Z"
   },
   {
    "duration": 15,
    "start_time": "2021-12-04T08:58:08.461Z"
   },
   {
    "duration": 120,
    "start_time": "2021-12-04T08:58:08.478Z"
   },
   {
    "duration": 36,
    "start_time": "2021-12-04T08:58:08.601Z"
   },
   {
    "duration": 24,
    "start_time": "2021-12-04T08:58:08.640Z"
   },
   {
    "duration": 10,
    "start_time": "2021-12-04T08:58:08.667Z"
   },
   {
    "duration": 6,
    "start_time": "2021-12-04T08:58:08.679Z"
   },
   {
    "duration": 5,
    "start_time": "2021-12-04T08:58:08.688Z"
   },
   {
    "duration": 14,
    "start_time": "2021-12-04T08:58:08.696Z"
   },
   {
    "duration": 247,
    "start_time": "2021-12-04T08:58:08.712Z"
   },
   {
    "duration": 1489,
    "start_time": "2021-12-04T08:58:08.961Z"
   },
   {
    "duration": 1233,
    "start_time": "2021-12-04T08:58:10.453Z"
   },
   {
    "duration": 7,
    "start_time": "2021-12-04T08:58:11.688Z"
   },
   {
    "duration": 8,
    "start_time": "2021-12-04T08:58:11.697Z"
   },
   {
    "duration": 73,
    "start_time": "2021-12-04T08:58:11.707Z"
   },
   {
    "duration": 6,
    "start_time": "2021-12-04T08:58:11.782Z"
   },
   {
    "duration": 10,
    "start_time": "2021-12-04T08:58:11.790Z"
   },
   {
    "duration": 13,
    "start_time": "2021-12-04T08:58:11.802Z"
   },
   {
    "duration": 4,
    "start_time": "2021-12-04T08:58:11.818Z"
   },
   {
    "duration": 10,
    "start_time": "2021-12-04T08:58:11.859Z"
   },
   {
    "duration": 41,
    "start_time": "2021-12-04T08:58:11.872Z"
   },
   {
    "duration": 70,
    "start_time": "2021-12-04T08:58:11.916Z"
   },
   {
    "duration": 1071,
    "start_time": "2021-12-04T08:58:11.990Z"
   },
   {
    "duration": 37,
    "start_time": "2021-12-04T08:58:13.064Z"
   },
   {
    "duration": 64,
    "start_time": "2021-12-04T08:58:13.103Z"
   },
   {
    "duration": 425,
    "start_time": "2021-12-04T08:58:13.170Z"
   },
   {
    "duration": 10,
    "start_time": "2021-12-04T08:58:13.598Z"
   },
   {
    "duration": 340,
    "start_time": "2021-12-04T08:58:13.610Z"
   },
   {
    "duration": 13,
    "start_time": "2021-12-04T08:58:13.960Z"
   },
   {
    "duration": 311,
    "start_time": "2021-12-04T08:58:13.975Z"
   },
   {
    "duration": 9,
    "start_time": "2021-12-04T08:58:14.289Z"
   },
   {
    "duration": 352,
    "start_time": "2021-12-04T08:58:14.300Z"
   },
   {
    "duration": 19,
    "start_time": "2021-12-04T08:58:14.659Z"
   },
   {
    "duration": 20,
    "start_time": "2021-12-04T08:58:14.680Z"
   },
   {
    "duration": 374,
    "start_time": "2021-12-04T08:58:14.702Z"
   },
   {
    "duration": 394,
    "start_time": "2021-12-04T08:58:15.079Z"
   },
   {
    "duration": 6,
    "start_time": "2021-12-04T08:58:15.475Z"
   },
   {
    "duration": 375,
    "start_time": "2021-12-04T08:58:15.484Z"
   },
   {
    "duration": 7,
    "start_time": "2021-12-04T08:58:15.861Z"
   },
   {
    "duration": 354,
    "start_time": "2021-12-04T08:58:15.871Z"
   },
   {
    "duration": 343,
    "start_time": "2021-12-04T08:58:16.227Z"
   },
   {
    "duration": 384,
    "start_time": "2021-12-04T08:59:06.078Z"
   },
   {
    "duration": 374,
    "start_time": "2021-12-04T09:00:32.121Z"
   },
   {
    "duration": 367,
    "start_time": "2021-12-04T09:01:11.495Z"
   },
   {
    "duration": 345,
    "start_time": "2021-12-04T09:01:50.027Z"
   },
   {
    "duration": 417,
    "start_time": "2021-12-04T09:03:23.242Z"
   },
   {
    "duration": 395,
    "start_time": "2021-12-04T09:03:32.234Z"
   },
   {
    "duration": 484,
    "start_time": "2021-12-04T09:05:51.289Z"
   },
   {
    "duration": 12,
    "start_time": "2021-12-04T09:06:24.468Z"
   },
   {
    "duration": 12,
    "start_time": "2021-12-04T09:07:05.670Z"
   },
   {
    "duration": 12,
    "start_time": "2021-12-04T09:09:54.427Z"
   },
   {
    "duration": 11,
    "start_time": "2021-12-04T09:10:16.832Z"
   },
   {
    "duration": 409,
    "start_time": "2021-12-04T09:11:20.073Z"
   },
   {
    "duration": 401,
    "start_time": "2021-12-04T09:11:30.273Z"
   },
   {
    "duration": 35,
    "start_time": "2021-12-04T09:12:59.781Z"
   },
   {
    "duration": 8,
    "start_time": "2021-12-04T09:13:17.121Z"
   },
   {
    "duration": 26,
    "start_time": "2021-12-04T09:13:18.740Z"
   },
   {
    "duration": 12,
    "start_time": "2021-12-04T09:13:39.037Z"
   },
   {
    "duration": 400,
    "start_time": "2021-12-04T09:14:29.732Z"
   },
   {
    "duration": 27,
    "start_time": "2021-12-04T09:17:30.515Z"
   },
   {
    "duration": 66,
    "start_time": "2021-12-04T09:17:58.964Z"
   },
   {
    "duration": 1073,
    "start_time": "2021-12-05T13:44:02.240Z"
   },
   {
    "duration": 15,
    "start_time": "2021-12-05T13:44:03.315Z"
   },
   {
    "duration": 140,
    "start_time": "2021-12-05T13:44:03.333Z"
   },
   {
    "duration": 48,
    "start_time": "2021-12-05T13:44:03.476Z"
   },
   {
    "duration": 13,
    "start_time": "2021-12-05T13:44:03.527Z"
   },
   {
    "duration": 21,
    "start_time": "2021-12-05T13:44:03.568Z"
   },
   {
    "duration": 7,
    "start_time": "2021-12-05T13:44:03.592Z"
   },
   {
    "duration": 6,
    "start_time": "2021-12-05T13:44:03.603Z"
   },
   {
    "duration": 15,
    "start_time": "2021-12-05T13:44:03.612Z"
   },
   {
    "duration": 259,
    "start_time": "2021-12-05T13:44:03.630Z"
   },
   {
    "duration": 1593,
    "start_time": "2021-12-05T13:44:03.891Z"
   },
   {
    "duration": 1280,
    "start_time": "2021-12-05T13:44:05.488Z"
   },
   {
    "duration": 7,
    "start_time": "2021-12-05T13:44:06.770Z"
   },
   {
    "duration": 7,
    "start_time": "2021-12-05T13:44:06.779Z"
   },
   {
    "duration": 53,
    "start_time": "2021-12-05T13:44:06.788Z"
   },
   {
    "duration": 27,
    "start_time": "2021-12-05T13:44:06.843Z"
   },
   {
    "duration": 15,
    "start_time": "2021-12-05T13:44:06.872Z"
   },
   {
    "duration": 13,
    "start_time": "2021-12-05T13:44:06.890Z"
   },
   {
    "duration": 10,
    "start_time": "2021-12-05T13:44:06.906Z"
   },
   {
    "duration": 15,
    "start_time": "2021-12-05T13:44:06.918Z"
   },
   {
    "duration": 72,
    "start_time": "2021-12-05T13:44:06.935Z"
   },
   {
    "duration": 59,
    "start_time": "2021-12-05T13:44:07.009Z"
   },
   {
    "duration": 867,
    "start_time": "2021-12-05T13:44:07.073Z"
   },
   {
    "duration": 55,
    "start_time": "2021-12-05T13:44:07.944Z"
   },
   {
    "duration": 12,
    "start_time": "2021-12-05T13:44:08.002Z"
   },
   {
    "duration": 383,
    "start_time": "2021-12-05T13:44:08.017Z"
   },
   {
    "duration": 12,
    "start_time": "2021-12-05T13:44:08.403Z"
   },
   {
    "duration": 362,
    "start_time": "2021-12-05T13:44:08.418Z"
   },
   {
    "duration": 11,
    "start_time": "2021-12-05T13:44:08.783Z"
   },
   {
    "duration": 330,
    "start_time": "2021-12-05T13:44:08.797Z"
   },
   {
    "duration": 12,
    "start_time": "2021-12-05T13:44:09.130Z"
   },
   {
    "duration": 402,
    "start_time": "2021-12-05T13:44:09.144Z"
   },
   {
    "duration": 28,
    "start_time": "2021-12-05T13:44:09.549Z"
   },
   {
    "duration": 21,
    "start_time": "2021-12-05T13:44:09.580Z"
   },
   {
    "duration": 399,
    "start_time": "2021-12-05T13:44:09.604Z"
   },
   {
    "duration": 404,
    "start_time": "2021-12-05T13:44:10.006Z"
   },
   {
    "duration": 9,
    "start_time": "2021-12-05T13:44:10.413Z"
   },
   {
    "duration": 391,
    "start_time": "2021-12-05T13:44:10.424Z"
   },
   {
    "duration": 7,
    "start_time": "2021-12-05T13:44:10.817Z"
   },
   {
    "duration": 357,
    "start_time": "2021-12-05T13:44:10.827Z"
   },
   {
    "duration": 348,
    "start_time": "2021-12-05T13:44:11.186Z"
   },
   {
    "duration": 407,
    "start_time": "2021-12-05T13:44:11.537Z"
   },
   {
    "duration": 399,
    "start_time": "2021-12-05T13:44:11.947Z"
   },
   {
    "duration": 365,
    "start_time": "2021-12-05T13:44:12.348Z"
   },
   {
    "duration": 440,
    "start_time": "2021-12-05T13:44:12.716Z"
   },
   {
    "duration": 16,
    "start_time": "2021-12-05T13:44:13.159Z"
   },
   {
    "duration": 65,
    "start_time": "2021-12-05T13:44:13.177Z"
   },
   {
    "duration": 65,
    "start_time": "2021-12-05T13:46:00.470Z"
   },
   {
    "duration": 18,
    "start_time": "2021-12-05T13:48:52.265Z"
   },
   {
    "duration": 461,
    "start_time": "2021-12-05T13:50:10.149Z"
   },
   {
    "duration": 18,
    "start_time": "2021-12-05T13:50:29.217Z"
   },
   {
    "duration": 94,
    "start_time": "2021-12-05T13:52:32.469Z"
   },
   {
    "duration": 21,
    "start_time": "2021-12-05T13:52:50.342Z"
   },
   {
    "duration": 20,
    "start_time": "2021-12-05T13:54:20.747Z"
   },
   {
    "duration": 23,
    "start_time": "2021-12-05T13:54:41.259Z"
   },
   {
    "duration": 25,
    "start_time": "2021-12-05T13:56:49.113Z"
   },
   {
    "duration": 23,
    "start_time": "2021-12-05T13:57:24.479Z"
   },
   {
    "duration": 25,
    "start_time": "2021-12-05T13:57:55.016Z"
   },
   {
    "duration": 23,
    "start_time": "2021-12-05T13:59:28.532Z"
   },
   {
    "duration": 25,
    "start_time": "2021-12-05T13:59:57.101Z"
   },
   {
    "duration": 85,
    "start_time": "2021-12-05T14:02:33.794Z"
   },
   {
    "duration": 326,
    "start_time": "2021-12-05T14:02:51.819Z"
   },
   {
    "duration": 439,
    "start_time": "2021-12-05T14:03:27.673Z"
   },
   {
    "duration": 321,
    "start_time": "2021-12-05T14:03:43.466Z"
   },
   {
    "duration": 64,
    "start_time": "2021-12-05T14:04:32.739Z"
   },
   {
    "duration": 47,
    "start_time": "2021-12-05T14:05:09.628Z"
   },
   {
    "duration": 288,
    "start_time": "2021-12-05T14:05:44.169Z"
   },
   {
    "duration": 50,
    "start_time": "2021-12-05T14:05:57.381Z"
   },
   {
    "duration": 2148,
    "start_time": "2021-12-05T14:09:17.578Z"
   },
   {
    "duration": 30,
    "start_time": "2021-12-05T14:10:08.421Z"
   },
   {
    "duration": 300,
    "start_time": "2021-12-05T14:14:14.634Z"
   },
   {
    "duration": 296,
    "start_time": "2021-12-05T14:14:44.883Z"
   },
   {
    "duration": 283,
    "start_time": "2021-12-05T14:23:30.854Z"
   },
   {
    "duration": 280,
    "start_time": "2021-12-05T14:24:01.931Z"
   },
   {
    "duration": 29,
    "start_time": "2021-12-05T14:24:40.649Z"
   },
   {
    "duration": 27,
    "start_time": "2021-12-05T14:25:23.554Z"
   },
   {
    "duration": 8410,
    "start_time": "2021-12-05T14:25:40.837Z"
   },
   {
    "duration": 355,
    "start_time": "2021-12-05T14:26:37.763Z"
   },
   {
    "duration": 33,
    "start_time": "2021-12-05T14:27:31.391Z"
   },
   {
    "duration": 28,
    "start_time": "2021-12-05T14:29:11.336Z"
   },
   {
    "duration": 24,
    "start_time": "2021-12-05T14:29:34.433Z"
   },
   {
    "duration": 290,
    "start_time": "2021-12-05T14:29:57.753Z"
   },
   {
    "duration": 284,
    "start_time": "2021-12-05T14:30:06.518Z"
   },
   {
    "duration": 357,
    "start_time": "2021-12-05T14:30:48.259Z"
   },
   {
    "duration": 102,
    "start_time": "2021-12-05T14:36:03.768Z"
   },
   {
    "duration": 102,
    "start_time": "2021-12-05T14:36:38.123Z"
   },
   {
    "duration": 91,
    "start_time": "2021-12-05T14:37:41.120Z"
   },
   {
    "duration": 506,
    "start_time": "2021-12-05T14:37:48.225Z"
   },
   {
    "duration": 88,
    "start_time": "2021-12-05T14:38:23.709Z"
   },
   {
    "duration": 310,
    "start_time": "2021-12-05T14:38:34.074Z"
   },
   {
    "duration": 370,
    "start_time": "2021-12-05T14:39:14.429Z"
   },
   {
    "duration": 462,
    "start_time": "2021-12-05T14:43:34.681Z"
   },
   {
    "duration": 332,
    "start_time": "2021-12-05T14:47:00.440Z"
   },
   {
    "duration": 65,
    "start_time": "2021-12-05T14:47:15.167Z"
   },
   {
    "duration": 44,
    "start_time": "2021-12-05T14:54:47.619Z"
   },
   {
    "duration": 103,
    "start_time": "2021-12-05T14:57:38.323Z"
   },
   {
    "duration": 117,
    "start_time": "2021-12-05T14:57:54.384Z"
   },
   {
    "duration": 251,
    "start_time": "2021-12-05T15:03:50.368Z"
   },
   {
    "duration": 189,
    "start_time": "2021-12-05T15:04:50.844Z"
   },
   {
    "duration": 25,
    "start_time": "2021-12-05T15:05:01.394Z"
   },
   {
    "duration": 139,
    "start_time": "2021-12-05T15:07:10.885Z"
   },
   {
    "duration": 781,
    "start_time": "2021-12-06T12:17:01.860Z"
   },
   {
    "duration": 12,
    "start_time": "2021-12-06T12:17:02.643Z"
   },
   {
    "duration": 92,
    "start_time": "2021-12-06T12:17:02.657Z"
   },
   {
    "duration": 27,
    "start_time": "2021-12-06T12:17:02.751Z"
   },
   {
    "duration": 9,
    "start_time": "2021-12-06T12:17:02.779Z"
   },
   {
    "duration": 9,
    "start_time": "2021-12-06T12:17:02.806Z"
   },
   {
    "duration": 7,
    "start_time": "2021-12-06T12:17:02.816Z"
   },
   {
    "duration": 8,
    "start_time": "2021-12-06T12:17:02.826Z"
   },
   {
    "duration": 12,
    "start_time": "2021-12-06T12:17:02.836Z"
   },
   {
    "duration": 134,
    "start_time": "2021-12-06T12:17:02.850Z"
   },
   {
    "duration": 903,
    "start_time": "2021-12-06T12:17:02.986Z"
   },
   {
    "duration": 722,
    "start_time": "2021-12-06T12:17:03.891Z"
   },
   {
    "duration": 6,
    "start_time": "2021-12-06T12:17:04.615Z"
   },
   {
    "duration": 22,
    "start_time": "2021-12-06T12:17:04.622Z"
   },
   {
    "duration": 47,
    "start_time": "2021-12-06T12:17:04.646Z"
   },
   {
    "duration": 4,
    "start_time": "2021-12-06T12:17:04.695Z"
   },
   {
    "duration": 11,
    "start_time": "2021-12-06T12:17:04.701Z"
   },
   {
    "duration": 24,
    "start_time": "2021-12-06T12:17:04.714Z"
   },
   {
    "duration": 14,
    "start_time": "2021-12-06T12:17:04.739Z"
   },
   {
    "duration": 24,
    "start_time": "2021-12-06T12:17:04.755Z"
   },
   {
    "duration": 45,
    "start_time": "2021-12-06T12:17:04.780Z"
   },
   {
    "duration": 31,
    "start_time": "2021-12-06T12:17:04.827Z"
   },
   {
    "duration": 517,
    "start_time": "2021-12-06T12:17:04.861Z"
   },
   {
    "duration": 32,
    "start_time": "2021-12-06T12:17:05.380Z"
   },
   {
    "duration": 8,
    "start_time": "2021-12-06T12:17:05.414Z"
   },
   {
    "duration": 228,
    "start_time": "2021-12-06T12:17:05.424Z"
   },
   {
    "duration": 8,
    "start_time": "2021-12-06T12:17:05.655Z"
   },
   {
    "duration": 223,
    "start_time": "2021-12-06T12:17:05.665Z"
   },
   {
    "duration": 20,
    "start_time": "2021-12-06T12:17:05.890Z"
   },
   {
    "duration": 203,
    "start_time": "2021-12-06T12:17:05.912Z"
   },
   {
    "duration": 9,
    "start_time": "2021-12-06T12:17:06.118Z"
   },
   {
    "duration": 244,
    "start_time": "2021-12-06T12:17:06.129Z"
   },
   {
    "duration": 13,
    "start_time": "2021-12-06T12:17:06.375Z"
   },
   {
    "duration": 29,
    "start_time": "2021-12-06T12:17:06.389Z"
   },
   {
    "duration": 240,
    "start_time": "2021-12-06T12:17:06.420Z"
   },
   {
    "duration": 265,
    "start_time": "2021-12-06T12:17:06.662Z"
   },
   {
    "duration": 5,
    "start_time": "2021-12-06T12:17:06.929Z"
   },
   {
    "duration": 240,
    "start_time": "2021-12-06T12:17:06.936Z"
   },
   {
    "duration": 5,
    "start_time": "2021-12-06T12:17:07.178Z"
   },
   {
    "duration": 225,
    "start_time": "2021-12-06T12:17:07.185Z"
   },
   {
    "duration": 219,
    "start_time": "2021-12-06T12:17:07.412Z"
   },
   {
    "duration": 251,
    "start_time": "2021-12-06T12:17:07.634Z"
   },
   {
    "duration": 259,
    "start_time": "2021-12-06T12:17:07.887Z"
   },
   {
    "duration": 241,
    "start_time": "2021-12-06T12:17:08.148Z"
   },
   {
    "duration": 271,
    "start_time": "2021-12-06T12:17:08.391Z"
   },
   {
    "duration": 9,
    "start_time": "2021-12-06T12:17:08.663Z"
   },
   {
    "duration": 61,
    "start_time": "2021-12-06T12:17:08.674Z"
   },
   {
    "duration": 17,
    "start_time": "2021-12-06T12:17:08.738Z"
   },
   {
    "duration": 266,
    "start_time": "2021-12-06T12:17:08.757Z"
   },
   {
    "duration": 96,
    "start_time": "2021-12-06T12:17:09.026Z"
   },
   {
    "duration": 199,
    "start_time": "2021-12-06T12:17:44.964Z"
   },
   {
    "duration": 195,
    "start_time": "2021-12-06T12:17:58.735Z"
   },
   {
    "duration": 468,
    "start_time": "2021-12-06T12:26:33.199Z"
   },
   {
    "duration": 392,
    "start_time": "2021-12-06T12:47:22.565Z"
   },
   {
    "duration": 322,
    "start_time": "2021-12-06T12:48:12.739Z"
   },
   {
    "duration": 236,
    "start_time": "2021-12-06T12:49:11.080Z"
   },
   {
    "duration": 210,
    "start_time": "2021-12-06T12:49:28.339Z"
   },
   {
    "duration": 579,
    "start_time": "2021-12-06T12:50:08.598Z"
   },
   {
    "duration": 211,
    "start_time": "2021-12-06T12:50:18.553Z"
   },
   {
    "duration": 214,
    "start_time": "2021-12-06T12:51:51.929Z"
   },
   {
    "duration": 202,
    "start_time": "2021-12-06T12:56:51.914Z"
   },
   {
    "duration": 224,
    "start_time": "2021-12-06T13:00:34.239Z"
   },
   {
    "duration": 409,
    "start_time": "2021-12-06T13:04:36.278Z"
   },
   {
    "duration": 204,
    "start_time": "2021-12-06T13:06:46.757Z"
   },
   {
    "duration": 604,
    "start_time": "2021-12-06T13:07:41.005Z"
   },
   {
    "duration": 232,
    "start_time": "2021-12-06T13:08:10.558Z"
   },
   {
    "duration": 242,
    "start_time": "2021-12-06T13:08:47.042Z"
   },
   {
    "duration": 318,
    "start_time": "2021-12-06T13:09:07.260Z"
   },
   {
    "duration": 1913,
    "start_time": "2021-12-06T15:55:06.409Z"
   },
   {
    "duration": 36,
    "start_time": "2021-12-06T15:55:08.324Z"
   },
   {
    "duration": 118,
    "start_time": "2021-12-06T15:55:08.363Z"
   },
   {
    "duration": 39,
    "start_time": "2021-12-06T15:55:08.484Z"
   },
   {
    "duration": 35,
    "start_time": "2021-12-06T15:55:08.525Z"
   },
   {
    "duration": 12,
    "start_time": "2021-12-06T15:55:08.563Z"
   },
   {
    "duration": 9,
    "start_time": "2021-12-06T15:55:08.577Z"
   },
   {
    "duration": 7,
    "start_time": "2021-12-06T15:55:08.588Z"
   },
   {
    "duration": 14,
    "start_time": "2021-12-06T15:55:08.599Z"
   },
   {
    "duration": 263,
    "start_time": "2021-12-06T15:55:08.617Z"
   },
   {
    "duration": 1570,
    "start_time": "2021-12-06T15:55:08.883Z"
   },
   {
    "duration": 1378,
    "start_time": "2021-12-06T15:55:10.459Z"
   },
   {
    "duration": 19,
    "start_time": "2021-12-06T15:55:11.840Z"
   },
   {
    "duration": 5,
    "start_time": "2021-12-06T15:55:11.861Z"
   },
   {
    "duration": 56,
    "start_time": "2021-12-06T15:55:11.868Z"
   },
   {
    "duration": 6,
    "start_time": "2021-12-06T15:55:11.927Z"
   },
   {
    "duration": 9,
    "start_time": "2021-12-06T15:55:11.960Z"
   },
   {
    "duration": 18,
    "start_time": "2021-12-06T15:55:11.972Z"
   },
   {
    "duration": 12,
    "start_time": "2021-12-06T15:55:11.993Z"
   },
   {
    "duration": 11,
    "start_time": "2021-12-06T15:55:12.007Z"
   },
   {
    "duration": 78,
    "start_time": "2021-12-06T15:55:12.020Z"
   },
   {
    "duration": 86,
    "start_time": "2021-12-06T15:55:12.101Z"
   },
   {
    "duration": 856,
    "start_time": "2021-12-06T15:55:12.190Z"
   },
   {
    "duration": 42,
    "start_time": "2021-12-06T15:55:13.048Z"
   },
   {
    "duration": 10,
    "start_time": "2021-12-06T15:55:13.092Z"
   },
   {
    "duration": 381,
    "start_time": "2021-12-06T15:55:13.104Z"
   },
   {
    "duration": 12,
    "start_time": "2021-12-06T15:55:13.490Z"
   },
   {
    "duration": 368,
    "start_time": "2021-12-06T15:55:13.505Z"
   },
   {
    "duration": 11,
    "start_time": "2021-12-06T15:55:13.876Z"
   },
   {
    "duration": 322,
    "start_time": "2021-12-06T15:55:13.889Z"
   },
   {
    "duration": 13,
    "start_time": "2021-12-06T15:55:14.214Z"
   },
   {
    "duration": 556,
    "start_time": "2021-12-06T15:55:14.230Z"
   },
   {
    "duration": 22,
    "start_time": "2021-12-06T15:55:14.788Z"
   },
   {
    "duration": 56,
    "start_time": "2021-12-06T15:55:14.813Z"
   },
   {
    "duration": 539,
    "start_time": "2021-12-06T15:55:14.872Z"
   },
   {
    "duration": 401,
    "start_time": "2021-12-06T15:55:15.414Z"
   },
   {
    "duration": 7,
    "start_time": "2021-12-06T15:55:15.817Z"
   },
   {
    "duration": 553,
    "start_time": "2021-12-06T15:55:15.827Z"
   },
   {
    "duration": 7,
    "start_time": "2021-12-06T15:55:16.383Z"
   },
   {
    "duration": 351,
    "start_time": "2021-12-06T15:55:16.392Z"
   },
   {
    "duration": 317,
    "start_time": "2021-12-06T15:55:16.745Z"
   },
   {
    "duration": 420,
    "start_time": "2021-12-06T15:55:17.065Z"
   },
   {
    "duration": 606,
    "start_time": "2021-12-06T15:55:17.489Z"
   },
   {
    "duration": 495,
    "start_time": "2021-12-06T15:55:18.098Z"
   },
   {
    "duration": 410,
    "start_time": "2021-12-06T15:55:18.596Z"
   },
   {
    "duration": 10,
    "start_time": "2021-12-06T15:55:19.008Z"
   },
   {
    "duration": 89,
    "start_time": "2021-12-06T15:55:19.021Z"
   },
   {
    "duration": 23,
    "start_time": "2021-12-06T15:55:19.112Z"
   },
   {
    "duration": 774,
    "start_time": "2021-12-06T15:55:19.137Z"
   },
   {
    "duration": 155,
    "start_time": "2021-12-06T15:55:19.913Z"
   },
   {
    "duration": 391,
    "start_time": "2021-12-06T15:55:20.071Z"
   },
   {
    "duration": 818,
    "start_time": "2021-12-06T15:55:20.464Z"
   },
   {
    "duration": 129,
    "start_time": "2021-12-06T16:24:28.911Z"
   },
   {
    "duration": 371,
    "start_time": "2021-12-06T17:21:26.370Z"
   },
   {
    "duration": 598,
    "start_time": "2021-12-06T17:21:40.225Z"
   },
   {
    "duration": 624,
    "start_time": "2021-12-06T17:21:54.243Z"
   },
   {
    "duration": 707,
    "start_time": "2021-12-07T07:19:59.096Z"
   },
   {
    "duration": 9,
    "start_time": "2021-12-07T07:19:59.805Z"
   },
   {
    "duration": 72,
    "start_time": "2021-12-07T07:19:59.816Z"
   },
   {
    "duration": 23,
    "start_time": "2021-12-07T07:19:59.890Z"
   },
   {
    "duration": 8,
    "start_time": "2021-12-07T07:19:59.915Z"
   },
   {
    "duration": 7,
    "start_time": "2021-12-07T07:19:59.924Z"
   },
   {
    "duration": 4,
    "start_time": "2021-12-07T07:19:59.933Z"
   },
   {
    "duration": 4,
    "start_time": "2021-12-07T07:19:59.940Z"
   },
   {
    "duration": 15,
    "start_time": "2021-12-07T07:19:59.946Z"
   },
   {
    "duration": 134,
    "start_time": "2021-12-07T07:19:59.962Z"
   },
   {
    "duration": 797,
    "start_time": "2021-12-07T07:20:00.097Z"
   },
   {
    "duration": 625,
    "start_time": "2021-12-07T07:20:00.895Z"
   },
   {
    "duration": 4,
    "start_time": "2021-12-07T07:20:01.522Z"
   },
   {
    "duration": 11,
    "start_time": "2021-12-07T07:20:01.528Z"
   },
   {
    "duration": 33,
    "start_time": "2021-12-07T07:20:01.541Z"
   },
   {
    "duration": 14,
    "start_time": "2021-12-07T07:20:01.576Z"
   },
   {
    "duration": 8,
    "start_time": "2021-12-07T07:20:01.591Z"
   },
   {
    "duration": 16,
    "start_time": "2021-12-07T07:20:01.601Z"
   },
   {
    "duration": 23,
    "start_time": "2021-12-07T07:20:01.619Z"
   },
   {
    "duration": 33,
    "start_time": "2021-12-07T07:20:01.643Z"
   },
   {
    "duration": 30,
    "start_time": "2021-12-07T07:20:01.677Z"
   },
   {
    "duration": 461,
    "start_time": "2021-12-07T07:20:01.709Z"
   },
   {
    "duration": 28,
    "start_time": "2021-12-07T07:20:02.174Z"
   },
   {
    "duration": 6,
    "start_time": "2021-12-07T07:20:02.204Z"
   },
   {
    "duration": 196,
    "start_time": "2021-12-07T07:20:02.212Z"
   },
   {
    "duration": 7,
    "start_time": "2021-12-07T07:20:02.409Z"
   },
   {
    "duration": 205,
    "start_time": "2021-12-07T07:20:02.417Z"
   },
   {
    "duration": 6,
    "start_time": "2021-12-07T07:20:02.624Z"
   },
   {
    "duration": 170,
    "start_time": "2021-12-07T07:20:02.631Z"
   },
   {
    "duration": 6,
    "start_time": "2021-12-07T07:20:02.803Z"
   },
   {
    "duration": 195,
    "start_time": "2021-12-07T07:20:02.810Z"
   },
   {
    "duration": 12,
    "start_time": "2021-12-07T07:20:03.007Z"
   },
   {
    "duration": 12,
    "start_time": "2021-12-07T07:20:03.020Z"
   },
   {
    "duration": 210,
    "start_time": "2021-12-07T07:20:03.033Z"
   },
   {
    "duration": 222,
    "start_time": "2021-12-07T07:20:03.245Z"
   },
   {
    "duration": 5,
    "start_time": "2021-12-07T07:20:03.468Z"
   },
   {
    "duration": 208,
    "start_time": "2021-12-07T07:20:03.474Z"
   },
   {
    "duration": 6,
    "start_time": "2021-12-07T07:20:03.684Z"
   },
   {
    "duration": 176,
    "start_time": "2021-12-07T07:20:03.691Z"
   },
   {
    "duration": 169,
    "start_time": "2021-12-07T07:20:03.869Z"
   },
   {
    "duration": 213,
    "start_time": "2021-12-07T07:20:04.039Z"
   },
   {
    "duration": 216,
    "start_time": "2021-12-07T07:20:04.254Z"
   },
   {
    "duration": 203,
    "start_time": "2021-12-07T07:20:04.471Z"
   },
   {
    "duration": 233,
    "start_time": "2021-12-07T07:20:04.676Z"
   },
   {
    "duration": 7,
    "start_time": "2021-12-07T07:20:04.910Z"
   },
   {
    "duration": 45,
    "start_time": "2021-12-07T07:20:04.918Z"
   },
   {
    "duration": 25,
    "start_time": "2021-12-07T07:20:04.964Z"
   },
   {
    "duration": 207,
    "start_time": "2021-12-07T07:20:04.990Z"
   },
   {
    "duration": 76,
    "start_time": "2021-12-07T07:20:05.198Z"
   },
   {
    "duration": 214,
    "start_time": "2021-12-07T07:20:05.275Z"
   },
   {
    "duration": 310,
    "start_time": "2021-12-07T07:20:05.491Z"
   },
   {
    "duration": 129,
    "start_time": "2021-12-07T07:20:48.794Z"
   },
   {
    "duration": 228,
    "start_time": "2021-12-07T07:20:56.370Z"
   },
   {
    "duration": 85,
    "start_time": "2021-12-07T07:23:13.122Z"
   },
   {
    "duration": 76,
    "start_time": "2021-12-07T07:23:20.186Z"
   },
   {
    "duration": 174,
    "start_time": "2021-12-07T07:23:35.668Z"
   },
   {
    "duration": 177,
    "start_time": "2021-12-07T07:23:43.445Z"
   },
   {
    "duration": 71,
    "start_time": "2021-12-07T07:29:16.053Z"
   },
   {
    "duration": 200,
    "start_time": "2021-12-07T07:29:32.563Z"
   },
   {
    "duration": 180,
    "start_time": "2021-12-07T07:29:49.930Z"
   },
   {
    "duration": 216,
    "start_time": "2021-12-07T07:30:34.976Z"
   },
   {
    "duration": 195,
    "start_time": "2021-12-07T07:31:42.405Z"
   },
   {
    "duration": 201,
    "start_time": "2021-12-07T07:32:55.009Z"
   },
   {
    "duration": 204,
    "start_time": "2021-12-07T07:33:11.283Z"
   },
   {
    "duration": 199,
    "start_time": "2021-12-07T07:33:22.869Z"
   },
   {
    "duration": 575,
    "start_time": "2021-12-07T07:33:44.015Z"
   },
   {
    "duration": 300,
    "start_time": "2021-12-07T07:33:55.702Z"
   },
   {
    "duration": 262,
    "start_time": "2021-12-07T07:34:37.560Z"
   },
   {
    "duration": 195,
    "start_time": "2021-12-07T07:35:17.532Z"
   },
   {
    "duration": 199,
    "start_time": "2021-12-07T07:35:49.934Z"
   },
   {
    "duration": 204,
    "start_time": "2021-12-07T07:36:53.184Z"
   },
   {
    "duration": 1058,
    "start_time": "2021-12-07T09:53:53.040Z"
   },
   {
    "duration": 24,
    "start_time": "2021-12-07T09:53:54.102Z"
   },
   {
    "duration": 127,
    "start_time": "2021-12-07T09:53:54.129Z"
   },
   {
    "duration": 37,
    "start_time": "2021-12-07T09:53:54.259Z"
   },
   {
    "duration": 33,
    "start_time": "2021-12-07T09:53:54.300Z"
   },
   {
    "duration": 16,
    "start_time": "2021-12-07T09:53:54.335Z"
   },
   {
    "duration": 5,
    "start_time": "2021-12-07T09:53:54.353Z"
   },
   {
    "duration": 6,
    "start_time": "2021-12-07T09:53:54.361Z"
   },
   {
    "duration": 13,
    "start_time": "2021-12-07T09:53:54.369Z"
   },
   {
    "duration": 225,
    "start_time": "2021-12-07T09:53:54.422Z"
   },
   {
    "duration": 1530,
    "start_time": "2021-12-07T09:53:54.650Z"
   },
   {
    "duration": 1279,
    "start_time": "2021-12-07T09:53:56.183Z"
   },
   {
    "duration": 8,
    "start_time": "2021-12-07T09:53:57.465Z"
   },
   {
    "duration": 24,
    "start_time": "2021-12-07T09:53:57.475Z"
   },
   {
    "duration": 100,
    "start_time": "2021-12-07T09:53:57.502Z"
   },
   {
    "duration": 12,
    "start_time": "2021-12-07T09:53:57.606Z"
   },
   {
    "duration": 21,
    "start_time": "2021-12-07T09:53:57.624Z"
   },
   {
    "duration": 17,
    "start_time": "2021-12-07T09:53:57.647Z"
   },
   {
    "duration": 31,
    "start_time": "2021-12-07T09:53:57.666Z"
   },
   {
    "duration": 56,
    "start_time": "2021-12-07T09:53:57.699Z"
   },
   {
    "duration": 80,
    "start_time": "2021-12-07T09:53:57.758Z"
   },
   {
    "duration": 853,
    "start_time": "2021-12-07T09:53:57.840Z"
   },
   {
    "duration": 59,
    "start_time": "2021-12-07T09:53:58.700Z"
   },
   {
    "duration": 14,
    "start_time": "2021-12-07T09:53:58.763Z"
   },
   {
    "duration": 563,
    "start_time": "2021-12-07T09:53:58.780Z"
   },
   {
    "duration": 11,
    "start_time": "2021-12-07T09:53:59.346Z"
   },
   {
    "duration": 398,
    "start_time": "2021-12-07T09:53:59.360Z"
   },
   {
    "duration": 9,
    "start_time": "2021-12-07T09:53:59.761Z"
   },
   {
    "duration": 322,
    "start_time": "2021-12-07T09:53:59.772Z"
   },
   {
    "duration": 11,
    "start_time": "2021-12-07T09:54:00.097Z"
   },
   {
    "duration": 378,
    "start_time": "2021-12-07T09:54:00.123Z"
   },
   {
    "duration": 33,
    "start_time": "2021-12-07T09:54:00.504Z"
   },
   {
    "duration": 30,
    "start_time": "2021-12-07T09:54:00.539Z"
   },
   {
    "duration": 394,
    "start_time": "2021-12-07T09:54:00.572Z"
   },
   {
    "duration": 385,
    "start_time": "2021-12-07T09:54:00.968Z"
   },
   {
    "duration": 6,
    "start_time": "2021-12-07T09:54:01.356Z"
   },
   {
    "duration": 399,
    "start_time": "2021-12-07T09:54:01.364Z"
   },
   {
    "duration": 7,
    "start_time": "2021-12-07T09:54:01.765Z"
   },
   {
    "duration": 356,
    "start_time": "2021-12-07T09:54:01.774Z"
   },
   {
    "duration": 344,
    "start_time": "2021-12-07T09:54:02.133Z"
   },
   {
    "duration": 406,
    "start_time": "2021-12-07T09:54:02.479Z"
   },
   {
    "duration": 410,
    "start_time": "2021-12-07T09:54:02.888Z"
   },
   {
    "duration": 379,
    "start_time": "2021-12-07T09:54:03.301Z"
   },
   {
    "duration": 431,
    "start_time": "2021-12-07T09:54:03.682Z"
   },
   {
    "duration": 14,
    "start_time": "2021-12-07T09:54:04.123Z"
   },
   {
    "duration": 66,
    "start_time": "2021-12-07T09:54:04.139Z"
   },
   {
    "duration": 38,
    "start_time": "2021-12-07T09:54:04.207Z"
   },
   {
    "duration": 407,
    "start_time": "2021-12-07T09:54:04.248Z"
   },
   {
    "duration": 145,
    "start_time": "2021-12-07T09:54:04.658Z"
   },
   {
    "duration": 432,
    "start_time": "2021-12-07T09:54:04.805Z"
   },
   {
    "duration": 365,
    "start_time": "2021-12-07T09:54:05.240Z"
   },
   {
    "duration": 488,
    "start_time": "2021-12-07T09:54:05.607Z"
   },
   {
    "duration": 391,
    "start_time": "2021-12-07T09:54:06.099Z"
   },
   {
    "duration": 389,
    "start_time": "2021-12-07T09:54:06.492Z"
   },
   {
    "duration": 405,
    "start_time": "2021-12-07T09:54:06.885Z"
   },
   {
    "duration": 12,
    "start_time": "2021-12-07T09:57:17.038Z"
   },
   {
    "duration": 398,
    "start_time": "2021-12-07T09:57:57.791Z"
   },
   {
    "duration": 364,
    "start_time": "2021-12-07T09:58:14.159Z"
   },
   {
    "duration": 291,
    "start_time": "2021-12-07T09:59:28.772Z"
   },
   {
    "duration": 336,
    "start_time": "2021-12-07T10:03:55.171Z"
   },
   {
    "duration": 346,
    "start_time": "2021-12-07T10:04:05.979Z"
   },
   {
    "duration": 322,
    "start_time": "2021-12-07T10:08:22.996Z"
   },
   {
    "duration": 329,
    "start_time": "2021-12-07T10:10:57.131Z"
   },
   {
    "duration": 331,
    "start_time": "2021-12-07T10:11:04.211Z"
   },
   {
    "duration": 699,
    "start_time": "2021-12-07T10:14:49.674Z"
   },
   {
    "duration": 315,
    "start_time": "2021-12-07T10:14:57.902Z"
   },
   {
    "duration": 137,
    "start_time": "2021-12-07T11:17:29.845Z"
   },
   {
    "duration": 363,
    "start_time": "2021-12-07T11:17:34.179Z"
   },
   {
    "duration": 356,
    "start_time": "2021-12-07T11:18:11.447Z"
   },
   {
    "duration": 137,
    "start_time": "2021-12-07T11:20:34.819Z"
   },
   {
    "duration": 360,
    "start_time": "2021-12-07T11:20:50.904Z"
   },
   {
    "duration": 299,
    "start_time": "2021-12-07T11:24:42.701Z"
   },
   {
    "duration": 311,
    "start_time": "2021-12-07T11:25:22.132Z"
   },
   {
    "duration": 356,
    "start_time": "2021-12-07T11:26:45.154Z"
   },
   {
    "duration": 353,
    "start_time": "2021-12-07T11:27:58.317Z"
   },
   {
    "duration": 354,
    "start_time": "2021-12-07T11:28:56.431Z"
   },
   {
    "duration": 721,
    "start_time": "2021-12-07T11:29:20.443Z"
   },
   {
    "duration": 771,
    "start_time": "2021-12-07T11:29:33.359Z"
   },
   {
    "duration": 739,
    "start_time": "2021-12-07T11:30:18.057Z"
   },
   {
    "duration": 351,
    "start_time": "2021-12-07T11:30:31.707Z"
   },
   {
    "duration": 359,
    "start_time": "2021-12-07T11:30:43.331Z"
   },
   {
    "duration": 1065,
    "start_time": "2021-12-07T12:56:26.042Z"
   },
   {
    "duration": 15,
    "start_time": "2021-12-07T12:56:27.122Z"
   },
   {
    "duration": 127,
    "start_time": "2021-12-07T12:56:27.141Z"
   },
   {
    "duration": 53,
    "start_time": "2021-12-07T12:56:27.271Z"
   },
   {
    "duration": 14,
    "start_time": "2021-12-07T12:56:27.328Z"
   },
   {
    "duration": 35,
    "start_time": "2021-12-07T12:56:27.345Z"
   },
   {
    "duration": 15,
    "start_time": "2021-12-07T12:56:27.383Z"
   },
   {
    "duration": 12,
    "start_time": "2021-12-07T12:56:27.403Z"
   },
   {
    "duration": 28,
    "start_time": "2021-12-07T12:56:27.425Z"
   },
   {
    "duration": 325,
    "start_time": "2021-12-07T12:56:27.457Z"
   },
   {
    "duration": 2112,
    "start_time": "2021-12-07T12:56:27.785Z"
   },
   {
    "duration": 1257,
    "start_time": "2021-12-07T12:56:29.899Z"
   },
   {
    "duration": 7,
    "start_time": "2021-12-07T12:56:31.158Z"
   },
   {
    "duration": 14,
    "start_time": "2021-12-07T12:56:31.168Z"
   },
   {
    "duration": 64,
    "start_time": "2021-12-07T12:56:31.184Z"
   },
   {
    "duration": 9,
    "start_time": "2021-12-07T12:56:31.251Z"
   },
   {
    "duration": 13,
    "start_time": "2021-12-07T12:56:31.262Z"
   },
   {
    "duration": 7,
    "start_time": "2021-12-07T12:56:31.278Z"
   },
   {
    "duration": 43,
    "start_time": "2021-12-07T12:56:31.288Z"
   },
   {
    "duration": 52,
    "start_time": "2021-12-07T12:56:31.334Z"
   },
   {
    "duration": 55,
    "start_time": "2021-12-07T12:56:31.390Z"
   },
   {
    "duration": 853,
    "start_time": "2021-12-07T12:56:31.447Z"
   },
   {
    "duration": 52,
    "start_time": "2021-12-07T12:56:32.306Z"
   },
   {
    "duration": 10,
    "start_time": "2021-12-07T12:56:32.361Z"
   },
   {
    "duration": 356,
    "start_time": "2021-12-07T12:56:32.373Z"
   },
   {
    "duration": 12,
    "start_time": "2021-12-07T12:56:32.731Z"
   },
   {
    "duration": 386,
    "start_time": "2021-12-07T12:56:32.745Z"
   },
   {
    "duration": 11,
    "start_time": "2021-12-07T12:56:33.133Z"
   },
   {
    "duration": 320,
    "start_time": "2021-12-07T12:56:33.147Z"
   },
   {
    "duration": 10,
    "start_time": "2021-12-07T12:56:33.469Z"
   },
   {
    "duration": 364,
    "start_time": "2021-12-07T12:56:33.482Z"
   },
   {
    "duration": 21,
    "start_time": "2021-12-07T12:56:33.848Z"
   },
   {
    "duration": 19,
    "start_time": "2021-12-07T12:56:33.871Z"
   },
   {
    "duration": 378,
    "start_time": "2021-12-07T12:56:33.892Z"
   },
   {
    "duration": 379,
    "start_time": "2021-12-07T12:56:34.273Z"
   },
   {
    "duration": 6,
    "start_time": "2021-12-07T12:56:34.655Z"
   },
   {
    "duration": 350,
    "start_time": "2021-12-07T12:56:34.663Z"
   },
   {
    "duration": 13,
    "start_time": "2021-12-07T12:56:35.016Z"
   },
   {
    "duration": 346,
    "start_time": "2021-12-07T12:56:35.033Z"
   },
   {
    "duration": 318,
    "start_time": "2021-12-07T12:56:35.381Z"
   },
   {
    "duration": 381,
    "start_time": "2021-12-07T12:56:35.701Z"
   },
   {
    "duration": 411,
    "start_time": "2021-12-07T12:56:36.084Z"
   },
   {
    "duration": 381,
    "start_time": "2021-12-07T12:56:36.497Z"
   },
   {
    "duration": 414,
    "start_time": "2021-12-07T12:56:36.880Z"
   },
   {
    "duration": 26,
    "start_time": "2021-12-07T12:56:37.297Z"
   },
   {
    "duration": 72,
    "start_time": "2021-12-07T12:56:37.325Z"
   },
   {
    "duration": 43,
    "start_time": "2021-12-07T12:56:37.399Z"
   },
   {
    "duration": 372,
    "start_time": "2021-12-07T12:56:37.444Z"
   },
   {
    "duration": 131,
    "start_time": "2021-12-07T12:56:37.818Z"
   },
   {
    "duration": 377,
    "start_time": "2021-12-07T12:56:37.951Z"
   },
   {
    "duration": 323,
    "start_time": "2021-12-07T12:56:38.331Z"
   },
   {
    "duration": 427,
    "start_time": "2021-12-07T12:56:38.657Z"
   },
   {
    "duration": 359,
    "start_time": "2021-12-07T12:56:39.086Z"
   },
   {
    "duration": 397,
    "start_time": "2021-12-07T12:56:39.448Z"
   },
   {
    "duration": 363,
    "start_time": "2021-12-07T12:56:39.847Z"
   },
   {
    "duration": 440,
    "start_time": "2021-12-08T06:02:56.415Z"
   },
   {
    "duration": 999,
    "start_time": "2021-12-08T08:56:49.479Z"
   },
   {
    "duration": 15,
    "start_time": "2021-12-08T08:56:50.480Z"
   },
   {
    "duration": 127,
    "start_time": "2021-12-08T08:56:50.498Z"
   },
   {
    "duration": 34,
    "start_time": "2021-12-08T08:56:50.627Z"
   },
   {
    "duration": 10,
    "start_time": "2021-12-08T08:56:50.664Z"
   },
   {
    "duration": 10,
    "start_time": "2021-12-08T08:56:50.677Z"
   },
   {
    "duration": 37,
    "start_time": "2021-12-08T08:56:50.689Z"
   },
   {
    "duration": 11,
    "start_time": "2021-12-08T08:56:50.730Z"
   },
   {
    "duration": 14,
    "start_time": "2021-12-08T08:56:50.744Z"
   },
   {
    "duration": 232,
    "start_time": "2021-12-08T08:56:50.760Z"
   },
   {
    "duration": 1498,
    "start_time": "2021-12-08T08:56:50.994Z"
   },
   {
    "duration": 1245,
    "start_time": "2021-12-08T08:56:52.494Z"
   },
   {
    "duration": 6,
    "start_time": "2021-12-08T08:56:53.742Z"
   },
   {
    "duration": 11,
    "start_time": "2021-12-08T08:56:53.751Z"
   },
   {
    "duration": 67,
    "start_time": "2021-12-08T08:56:53.765Z"
   },
   {
    "duration": 10,
    "start_time": "2021-12-08T08:56:53.835Z"
   },
   {
    "duration": 14,
    "start_time": "2021-12-08T08:56:53.847Z"
   },
   {
    "duration": 9,
    "start_time": "2021-12-08T08:56:53.864Z"
   },
   {
    "duration": 52,
    "start_time": "2021-12-08T08:56:53.875Z"
   },
   {
    "duration": 41,
    "start_time": "2021-12-08T08:56:53.930Z"
   },
   {
    "duration": 70,
    "start_time": "2021-12-08T08:56:53.974Z"
   },
   {
    "duration": 781,
    "start_time": "2021-12-08T08:56:54.046Z"
   },
   {
    "duration": 36,
    "start_time": "2021-12-08T08:56:54.832Z"
   },
   {
    "duration": 11,
    "start_time": "2021-12-08T08:56:54.871Z"
   },
   {
    "duration": 372,
    "start_time": "2021-12-08T08:56:54.884Z"
   },
   {
    "duration": 13,
    "start_time": "2021-12-08T08:56:55.259Z"
   },
   {
    "duration": 390,
    "start_time": "2021-12-08T08:56:55.274Z"
   },
   {
    "duration": 9,
    "start_time": "2021-12-08T08:56:55.667Z"
   },
   {
    "duration": 306,
    "start_time": "2021-12-08T08:56:55.678Z"
   },
   {
    "duration": 9,
    "start_time": "2021-12-08T08:56:55.987Z"
   },
   {
    "duration": 374,
    "start_time": "2021-12-08T08:56:55.999Z"
   },
   {
    "duration": 19,
    "start_time": "2021-12-08T08:56:56.376Z"
   },
   {
    "duration": 35,
    "start_time": "2021-12-08T08:56:56.398Z"
   },
   {
    "duration": 358,
    "start_time": "2021-12-08T08:56:56.435Z"
   },
   {
    "duration": 369,
    "start_time": "2021-12-08T08:56:56.795Z"
   },
   {
    "duration": 7,
    "start_time": "2021-12-08T08:56:57.167Z"
   },
   {
    "duration": 347,
    "start_time": "2021-12-08T08:56:57.176Z"
   },
   {
    "duration": 6,
    "start_time": "2021-12-08T08:56:57.525Z"
   },
   {
    "duration": 325,
    "start_time": "2021-12-08T08:56:57.533Z"
   },
   {
    "duration": 322,
    "start_time": "2021-12-08T08:56:57.860Z"
   },
   {
    "duration": 388,
    "start_time": "2021-12-08T08:56:58.185Z"
   },
   {
    "duration": 384,
    "start_time": "2021-12-08T08:56:58.575Z"
   },
   {
    "duration": 363,
    "start_time": "2021-12-08T08:56:58.962Z"
   },
   {
    "duration": 398,
    "start_time": "2021-12-08T08:56:59.328Z"
   },
   {
    "duration": 10,
    "start_time": "2021-12-08T08:56:59.729Z"
   },
   {
    "duration": 83,
    "start_time": "2021-12-08T08:56:59.742Z"
   },
   {
    "duration": 36,
    "start_time": "2021-12-08T08:56:59.827Z"
   },
   {
    "duration": 399,
    "start_time": "2021-12-08T08:56:59.866Z"
   },
   {
    "duration": 144,
    "start_time": "2021-12-08T08:57:00.268Z"
   },
   {
    "duration": 390,
    "start_time": "2021-12-08T08:57:00.415Z"
   },
   {
    "duration": 332,
    "start_time": "2021-12-08T08:57:00.808Z"
   },
   {
    "duration": 533,
    "start_time": "2021-12-08T08:57:01.143Z"
   },
   {
    "duration": 378,
    "start_time": "2021-12-08T08:57:01.679Z"
   },
   {
    "duration": 406,
    "start_time": "2021-12-08T08:57:02.059Z"
   },
   {
    "duration": 366,
    "start_time": "2021-12-08T08:57:02.467Z"
   },
   {
    "duration": 5,
    "start_time": "2021-12-08T08:59:40.771Z"
   },
   {
    "duration": 946,
    "start_time": "2021-12-08T08:59:52.127Z"
   },
   {
    "duration": 16,
    "start_time": "2021-12-08T08:59:53.075Z"
   },
   {
    "duration": 129,
    "start_time": "2021-12-08T08:59:53.094Z"
   },
   {
    "duration": 40,
    "start_time": "2021-12-08T08:59:53.227Z"
   },
   {
    "duration": 12,
    "start_time": "2021-12-08T08:59:53.269Z"
   },
   {
    "duration": 41,
    "start_time": "2021-12-08T08:59:53.283Z"
   },
   {
    "duration": 6,
    "start_time": "2021-12-08T08:59:53.327Z"
   },
   {
    "duration": 12,
    "start_time": "2021-12-08T08:59:53.335Z"
   },
   {
    "duration": 14,
    "start_time": "2021-12-08T08:59:53.351Z"
   },
   {
    "duration": 229,
    "start_time": "2021-12-08T08:59:53.367Z"
   },
   {
    "duration": 1515,
    "start_time": "2021-12-08T08:59:53.598Z"
   },
   {
    "duration": 1185,
    "start_time": "2021-12-08T08:59:55.124Z"
   },
   {
    "duration": 15,
    "start_time": "2021-12-08T08:59:56.311Z"
   },
   {
    "duration": 8,
    "start_time": "2021-12-08T08:59:56.328Z"
   },
   {
    "duration": 50,
    "start_time": "2021-12-08T08:59:56.338Z"
   },
   {
    "duration": 40,
    "start_time": "2021-12-08T08:59:56.390Z"
   },
   {
    "duration": 12,
    "start_time": "2021-12-08T08:59:56.433Z"
   },
   {
    "duration": 10,
    "start_time": "2021-12-08T08:59:56.448Z"
   },
   {
    "duration": 15,
    "start_time": "2021-12-08T08:59:56.460Z"
   },
   {
    "duration": 10,
    "start_time": "2021-12-08T08:59:56.523Z"
   },
   {
    "duration": 89,
    "start_time": "2021-12-08T08:59:56.536Z"
   },
   {
    "duration": 105,
    "start_time": "2021-12-08T08:59:56.627Z"
   },
   {
    "duration": 1005,
    "start_time": "2021-12-08T08:59:56.734Z"
   },
   {
    "duration": 38,
    "start_time": "2021-12-08T08:59:57.741Z"
   },
   {
    "duration": 10,
    "start_time": "2021-12-08T08:59:57.781Z"
   },
   {
    "duration": 367,
    "start_time": "2021-12-08T08:59:57.793Z"
   },
   {
    "duration": 12,
    "start_time": "2021-12-08T08:59:58.166Z"
   },
   {
    "duration": 393,
    "start_time": "2021-12-08T08:59:58.181Z"
   },
   {
    "duration": 9,
    "start_time": "2021-12-08T08:59:58.576Z"
   },
   {
    "duration": 309,
    "start_time": "2021-12-08T08:59:58.587Z"
   },
   {
    "duration": 25,
    "start_time": "2021-12-08T08:59:58.899Z"
   },
   {
    "duration": 351,
    "start_time": "2021-12-08T08:59:58.926Z"
   },
   {
    "duration": 18,
    "start_time": "2021-12-08T08:59:59.280Z"
   },
   {
    "duration": 37,
    "start_time": "2021-12-08T08:59:59.301Z"
   },
   {
    "duration": 361,
    "start_time": "2021-12-08T08:59:59.340Z"
   },
   {
    "duration": 377,
    "start_time": "2021-12-08T08:59:59.704Z"
   },
   {
    "duration": 7,
    "start_time": "2021-12-08T09:00:00.083Z"
   },
   {
    "duration": 326,
    "start_time": "2021-12-08T09:00:00.092Z"
   },
   {
    "duration": 6,
    "start_time": "2021-12-08T09:00:00.420Z"
   },
   {
    "duration": 310,
    "start_time": "2021-12-08T09:00:00.429Z"
   },
   {
    "duration": 300,
    "start_time": "2021-12-08T09:00:00.741Z"
   },
   {
    "duration": 374,
    "start_time": "2021-12-08T09:00:01.043Z"
   },
   {
    "duration": 378,
    "start_time": "2021-12-08T09:00:01.420Z"
   },
   {
    "duration": 358,
    "start_time": "2021-12-08T09:00:01.801Z"
   },
   {
    "duration": 392,
    "start_time": "2021-12-08T09:00:02.161Z"
   },
   {
    "duration": 10,
    "start_time": "2021-12-08T09:00:02.555Z"
   },
   {
    "duration": 84,
    "start_time": "2021-12-08T09:00:02.568Z"
   },
   {
    "duration": 20,
    "start_time": "2021-12-08T09:00:02.655Z"
   },
   {
    "duration": 358,
    "start_time": "2021-12-08T09:00:02.677Z"
   },
   {
    "duration": 144,
    "start_time": "2021-12-08T09:00:03.037Z"
   },
   {
    "duration": 396,
    "start_time": "2021-12-08T09:00:03.184Z"
   },
   {
    "duration": 317,
    "start_time": "2021-12-08T09:00:03.583Z"
   },
   {
    "duration": 454,
    "start_time": "2021-12-08T09:00:03.903Z"
   },
   {
    "duration": 381,
    "start_time": "2021-12-08T09:00:04.360Z"
   },
   {
    "duration": 427,
    "start_time": "2021-12-08T09:00:04.743Z"
   },
   {
    "duration": 394,
    "start_time": "2021-12-08T09:00:05.174Z"
   },
   {
    "duration": 734,
    "start_time": "2021-12-08T09:18:05.893Z"
   },
   {
    "duration": 737,
    "start_time": "2021-12-08T09:18:45.166Z"
   },
   {
    "duration": 385,
    "start_time": "2021-12-08T09:32:14.362Z"
   },
   {
    "duration": 784,
    "start_time": "2021-12-08T09:32:33.576Z"
   },
   {
    "duration": 435,
    "start_time": "2021-12-08T09:32:46.315Z"
   },
   {
    "duration": 111,
    "start_time": "2021-12-08T09:34:13.734Z"
   },
   {
    "duration": 99,
    "start_time": "2021-12-08T09:34:54.481Z"
   },
   {
    "duration": 102,
    "start_time": "2021-12-08T09:35:24.968Z"
   },
   {
    "duration": 100,
    "start_time": "2021-12-08T09:36:19.849Z"
   },
   {
    "duration": 95,
    "start_time": "2021-12-08T09:37:04.059Z"
   },
   {
    "duration": 349,
    "start_time": "2021-12-08T09:39:24.199Z"
   },
   {
    "duration": 353,
    "start_time": "2021-12-08T09:39:40.960Z"
   },
   {
    "duration": 370,
    "start_time": "2021-12-08T09:40:03.018Z"
   },
   {
    "duration": 431,
    "start_time": "2021-12-08T09:40:28.222Z"
   },
   {
    "duration": 515,
    "start_time": "2021-12-08T09:41:02.379Z"
   },
   {
    "duration": 410,
    "start_time": "2021-12-08T09:41:18.723Z"
   },
   {
    "duration": 409,
    "start_time": "2021-12-08T09:41:33.656Z"
   },
   {
    "duration": 427,
    "start_time": "2021-12-08T09:41:50.971Z"
   },
   {
    "duration": 289,
    "start_time": "2021-12-08T13:13:30.282Z"
   },
   {
    "duration": 792,
    "start_time": "2021-12-08T13:13:38.872Z"
   },
   {
    "duration": 10,
    "start_time": "2021-12-08T13:13:39.666Z"
   },
   {
    "duration": 85,
    "start_time": "2021-12-08T13:13:39.679Z"
   },
   {
    "duration": 29,
    "start_time": "2021-12-08T13:13:39.766Z"
   },
   {
    "duration": 9,
    "start_time": "2021-12-08T13:13:39.797Z"
   },
   {
    "duration": 10,
    "start_time": "2021-12-08T13:13:39.808Z"
   },
   {
    "duration": 6,
    "start_time": "2021-12-08T13:13:39.819Z"
   },
   {
    "duration": 36,
    "start_time": "2021-12-08T13:13:39.827Z"
   },
   {
    "duration": 10,
    "start_time": "2021-12-08T13:13:39.866Z"
   },
   {
    "duration": 126,
    "start_time": "2021-12-08T13:13:39.878Z"
   },
   {
    "duration": 871,
    "start_time": "2021-12-08T13:13:40.006Z"
   },
   {
    "duration": 684,
    "start_time": "2021-12-08T13:13:40.879Z"
   },
   {
    "duration": 5,
    "start_time": "2021-12-08T13:13:41.565Z"
   },
   {
    "duration": 13,
    "start_time": "2021-12-08T13:13:41.572Z"
   },
   {
    "duration": 36,
    "start_time": "2021-12-08T13:13:41.586Z"
   },
   {
    "duration": 7,
    "start_time": "2021-12-08T13:13:41.624Z"
   },
   {
    "duration": 32,
    "start_time": "2021-12-08T13:13:41.632Z"
   },
   {
    "duration": 4,
    "start_time": "2021-12-08T13:13:41.666Z"
   },
   {
    "duration": 10,
    "start_time": "2021-12-08T13:13:41.671Z"
   },
   {
    "duration": 7,
    "start_time": "2021-12-08T13:13:41.683Z"
   },
   {
    "duration": 23,
    "start_time": "2021-12-08T13:13:41.692Z"
   },
   {
    "duration": 50,
    "start_time": "2021-12-08T13:13:41.717Z"
   },
   {
    "duration": 597,
    "start_time": "2021-12-08T13:13:41.769Z"
   },
   {
    "duration": 23,
    "start_time": "2021-12-08T13:13:42.368Z"
   },
   {
    "duration": 8,
    "start_time": "2021-12-08T13:13:42.393Z"
   },
   {
    "duration": 9261,
    "start_time": "2021-12-08T13:13:42.402Z"
   },
   {
    "duration": 3054,
    "start_time": "2021-12-08T13:13:48.612Z"
   },
   {
    "duration": 3041,
    "start_time": "2021-12-08T13:13:48.626Z"
   },
   {
    "duration": 3031,
    "start_time": "2021-12-08T13:13:48.637Z"
   },
   {
    "duration": 3018,
    "start_time": "2021-12-08T13:13:48.650Z"
   },
   {
    "duration": 3007,
    "start_time": "2021-12-08T13:13:48.662Z"
   },
   {
    "duration": 2977,
    "start_time": "2021-12-08T13:13:48.693Z"
   },
   {
    "duration": 2966,
    "start_time": "2021-12-08T13:13:48.705Z"
   },
   {
    "duration": 2954,
    "start_time": "2021-12-08T13:13:48.718Z"
   },
   {
    "duration": 2935,
    "start_time": "2021-12-08T13:13:48.738Z"
   },
   {
    "duration": 2922,
    "start_time": "2021-12-08T13:13:48.751Z"
   },
   {
    "duration": 2911,
    "start_time": "2021-12-08T13:13:48.763Z"
   },
   {
    "duration": 2897,
    "start_time": "2021-12-08T13:13:48.778Z"
   },
   {
    "duration": 2885,
    "start_time": "2021-12-08T13:13:48.791Z"
   },
   {
    "duration": 2857,
    "start_time": "2021-12-08T13:13:48.820Z"
   },
   {
    "duration": 2848,
    "start_time": "2021-12-08T13:13:48.831Z"
   },
   {
    "duration": 2837,
    "start_time": "2021-12-08T13:13:48.843Z"
   },
   {
    "duration": 2827,
    "start_time": "2021-12-08T13:13:48.854Z"
   },
   {
    "duration": 2816,
    "start_time": "2021-12-08T13:13:48.866Z"
   },
   {
    "duration": 2806,
    "start_time": "2021-12-08T13:13:48.877Z"
   },
   {
    "duration": 2791,
    "start_time": "2021-12-08T13:13:48.893Z"
   },
   {
    "duration": 2738,
    "start_time": "2021-12-08T13:13:48.947Z"
   },
   {
    "duration": 2725,
    "start_time": "2021-12-08T13:13:48.961Z"
   },
   {
    "duration": 2712,
    "start_time": "2021-12-08T13:13:48.975Z"
   },
   {
    "duration": 2676,
    "start_time": "2021-12-08T13:13:49.013Z"
   },
   {
    "duration": 2665,
    "start_time": "2021-12-08T13:13:49.025Z"
   },
   {
    "duration": 2654,
    "start_time": "2021-12-08T13:13:49.038Z"
   },
   {
    "duration": 2616,
    "start_time": "2021-12-08T13:13:49.077Z"
   },
   {
    "duration": 2595,
    "start_time": "2021-12-08T13:13:49.100Z"
   },
   {
    "duration": 2586,
    "start_time": "2021-12-08T13:13:49.110Z"
   },
   {
    "duration": 2577,
    "start_time": "2021-12-08T13:13:49.121Z"
   },
   {
    "duration": 453,
    "start_time": "2021-12-08T13:14:21.601Z"
   },
   {
    "duration": 498,
    "start_time": "2021-12-08T13:14:37.367Z"
   },
   {
    "duration": 467,
    "start_time": "2021-12-08T13:14:43.947Z"
   },
   {
    "duration": 9507,
    "start_time": "2021-12-08T13:15:16.000Z"
   },
   {
    "duration": 285,
    "start_time": "2021-12-08T13:17:19.434Z"
   },
   {
    "duration": 478,
    "start_time": "2021-12-08T13:18:05.678Z"
   },
   {
    "duration": 222,
    "start_time": "2021-12-08T13:18:22.206Z"
   },
   {
    "duration": 864,
    "start_time": "2021-12-08T13:25:52.234Z"
   },
   {
    "duration": 14,
    "start_time": "2021-12-08T13:25:53.100Z"
   },
   {
    "duration": 103,
    "start_time": "2021-12-08T13:25:53.117Z"
   },
   {
    "duration": 54,
    "start_time": "2021-12-08T13:25:53.222Z"
   },
   {
    "duration": 10,
    "start_time": "2021-12-08T13:25:53.278Z"
   },
   {
    "duration": 18,
    "start_time": "2021-12-08T13:25:53.290Z"
   },
   {
    "duration": 26,
    "start_time": "2021-12-08T13:25:53.310Z"
   },
   {
    "duration": 23,
    "start_time": "2021-12-08T13:25:53.340Z"
   },
   {
    "duration": 31,
    "start_time": "2021-12-08T13:25:53.365Z"
   },
   {
    "duration": 130,
    "start_time": "2021-12-08T13:25:53.398Z"
   },
   {
    "duration": 862,
    "start_time": "2021-12-08T13:25:53.529Z"
   },
   {
    "duration": 757,
    "start_time": "2021-12-08T13:25:54.393Z"
   },
   {
    "duration": 12,
    "start_time": "2021-12-08T13:25:55.152Z"
   },
   {
    "duration": 32,
    "start_time": "2021-12-08T13:25:55.166Z"
   },
   {
    "duration": 54,
    "start_time": "2021-12-08T13:25:55.200Z"
   },
   {
    "duration": 8,
    "start_time": "2021-12-08T13:25:55.256Z"
   },
   {
    "duration": 28,
    "start_time": "2021-12-08T13:25:55.265Z"
   },
   {
    "duration": 15,
    "start_time": "2021-12-08T13:25:55.296Z"
   },
   {
    "duration": 40,
    "start_time": "2021-12-08T13:25:55.313Z"
   },
   {
    "duration": 33,
    "start_time": "2021-12-08T13:25:55.354Z"
   },
   {
    "duration": 33,
    "start_time": "2021-12-08T13:25:55.388Z"
   },
   {
    "duration": 33,
    "start_time": "2021-12-08T13:25:55.424Z"
   },
   {
    "duration": 511,
    "start_time": "2021-12-08T13:25:55.461Z"
   },
   {
    "duration": 28,
    "start_time": "2021-12-08T13:25:55.974Z"
   },
   {
    "duration": 8,
    "start_time": "2021-12-08T13:25:56.004Z"
   },
   {
    "duration": 250,
    "start_time": "2021-12-08T13:25:56.014Z"
   },
   {
    "duration": 9,
    "start_time": "2021-12-08T13:25:56.266Z"
   },
   {
    "duration": 257,
    "start_time": "2021-12-08T13:25:56.276Z"
   },
   {
    "duration": 7,
    "start_time": "2021-12-08T13:25:56.535Z"
   },
   {
    "duration": 211,
    "start_time": "2021-12-08T13:25:56.544Z"
   },
   {
    "duration": 11,
    "start_time": "2021-12-08T13:25:56.757Z"
   },
   {
    "duration": 235,
    "start_time": "2021-12-08T13:25:56.770Z"
   },
   {
    "duration": 16,
    "start_time": "2021-12-08T13:25:57.006Z"
   },
   {
    "duration": 17,
    "start_time": "2021-12-08T13:25:57.024Z"
   },
   {
    "duration": 265,
    "start_time": "2021-12-08T13:25:57.043Z"
   },
   {
    "duration": 274,
    "start_time": "2021-12-08T13:25:57.310Z"
   },
   {
    "duration": 5,
    "start_time": "2021-12-08T13:25:57.586Z"
   },
   {
    "duration": 236,
    "start_time": "2021-12-08T13:25:57.593Z"
   },
   {
    "duration": 5,
    "start_time": "2021-12-08T13:25:57.831Z"
   },
   {
    "duration": 354,
    "start_time": "2021-12-08T13:25:57.838Z"
   },
   {
    "duration": 309,
    "start_time": "2021-12-08T13:25:58.194Z"
   },
   {
    "duration": 241,
    "start_time": "2021-12-08T13:25:58.505Z"
   },
   {
    "duration": 249,
    "start_time": "2021-12-08T13:25:58.748Z"
   },
   {
    "duration": 249,
    "start_time": "2021-12-08T13:25:58.999Z"
   },
   {
    "duration": 279,
    "start_time": "2021-12-08T13:25:59.250Z"
   },
   {
    "duration": 8,
    "start_time": "2021-12-08T13:25:59.531Z"
   },
   {
    "duration": 58,
    "start_time": "2021-12-08T13:25:59.542Z"
   },
   {
    "duration": 17,
    "start_time": "2021-12-08T13:25:59.603Z"
   },
   {
    "duration": 243,
    "start_time": "2021-12-08T13:25:59.622Z"
   },
   {
    "duration": 82,
    "start_time": "2021-12-08T13:25:59.867Z"
   },
   {
    "duration": 250,
    "start_time": "2021-12-08T13:25:59.964Z"
   },
   {
    "duration": 229,
    "start_time": "2021-12-08T13:26:00.216Z"
   },
   {
    "duration": 325,
    "start_time": "2021-12-08T13:26:00.448Z"
   },
   {
    "duration": 265,
    "start_time": "2021-12-08T13:26:00.775Z"
   },
   {
    "duration": 264,
    "start_time": "2021-12-08T13:26:01.042Z"
   },
   {
    "duration": 238,
    "start_time": "2021-12-08T13:26:01.308Z"
   },
   {
    "duration": 543,
    "start_time": "2021-12-08T13:31:01.716Z"
   },
   {
    "duration": 225,
    "start_time": "2021-12-08T13:31:20.723Z"
   },
   {
    "duration": 233,
    "start_time": "2021-12-08T13:32:11.423Z"
   },
   {
    "duration": 239,
    "start_time": "2021-12-08T13:32:18.691Z"
   },
   {
    "duration": 253,
    "start_time": "2021-12-08T13:32:30.743Z"
   },
   {
    "duration": 1403,
    "start_time": "2021-12-08T15:39:24.613Z"
   },
   {
    "duration": 26,
    "start_time": "2021-12-08T15:39:26.019Z"
   },
   {
    "duration": 125,
    "start_time": "2021-12-08T15:39:26.061Z"
   },
   {
    "duration": 40,
    "start_time": "2021-12-08T15:39:26.189Z"
   },
   {
    "duration": 35,
    "start_time": "2021-12-08T15:39:26.232Z"
   },
   {
    "duration": 16,
    "start_time": "2021-12-08T15:39:26.270Z"
   },
   {
    "duration": 5,
    "start_time": "2021-12-08T15:39:26.288Z"
   },
   {
    "duration": 6,
    "start_time": "2021-12-08T15:39:26.297Z"
   },
   {
    "duration": 54,
    "start_time": "2021-12-08T15:39:26.306Z"
   },
   {
    "duration": 237,
    "start_time": "2021-12-08T15:39:26.363Z"
   },
   {
    "duration": 1609,
    "start_time": "2021-12-08T15:39:26.602Z"
   },
   {
    "duration": 1274,
    "start_time": "2021-12-08T15:39:28.213Z"
   },
   {
    "duration": 7,
    "start_time": "2021-12-08T15:39:29.489Z"
   },
   {
    "duration": 7,
    "start_time": "2021-12-08T15:39:29.499Z"
   },
   {
    "duration": 79,
    "start_time": "2021-12-08T15:39:29.508Z"
   },
   {
    "duration": 9,
    "start_time": "2021-12-08T15:39:29.591Z"
   },
   {
    "duration": 13,
    "start_time": "2021-12-08T15:39:29.603Z"
   },
   {
    "duration": 5,
    "start_time": "2021-12-08T15:39:29.620Z"
   },
   {
    "duration": 13,
    "start_time": "2021-12-08T15:39:29.661Z"
   },
   {
    "duration": 13,
    "start_time": "2021-12-08T15:39:29.677Z"
   },
   {
    "duration": 75,
    "start_time": "2021-12-08T15:39:29.693Z"
   },
   {
    "duration": 48,
    "start_time": "2021-12-08T15:39:29.770Z"
   },
   {
    "duration": 1413,
    "start_time": "2021-12-08T15:39:29.823Z"
   },
   {
    "duration": 65,
    "start_time": "2021-12-08T15:39:31.240Z"
   },
   {
    "duration": 14,
    "start_time": "2021-12-08T15:39:31.308Z"
   },
   {
    "duration": 563,
    "start_time": "2021-12-08T15:39:31.325Z"
   },
   {
    "duration": 16,
    "start_time": "2021-12-08T15:39:31.891Z"
   },
   {
    "duration": 658,
    "start_time": "2021-12-08T15:39:31.910Z"
   },
   {
    "duration": 12,
    "start_time": "2021-12-08T15:39:32.571Z"
   },
   {
    "duration": 445,
    "start_time": "2021-12-08T15:39:32.586Z"
   },
   {
    "duration": 26,
    "start_time": "2021-12-08T15:39:33.034Z"
   },
   {
    "duration": 537,
    "start_time": "2021-12-08T15:39:33.064Z"
   },
   {
    "duration": 27,
    "start_time": "2021-12-08T15:39:33.604Z"
   },
   {
    "duration": 109,
    "start_time": "2021-12-08T15:39:33.634Z"
   },
   {
    "duration": 369,
    "start_time": "2021-12-08T15:39:33.745Z"
   },
   {
    "duration": 344,
    "start_time": "2021-12-08T15:39:34.117Z"
   },
   {
    "duration": 6,
    "start_time": "2021-12-08T15:39:34.464Z"
   },
   {
    "duration": 346,
    "start_time": "2021-12-08T15:39:34.472Z"
   },
   {
    "duration": 7,
    "start_time": "2021-12-08T15:39:34.821Z"
   },
   {
    "duration": 370,
    "start_time": "2021-12-08T15:39:34.830Z"
   },
   {
    "duration": 326,
    "start_time": "2021-12-08T15:39:35.202Z"
   },
   {
    "duration": 389,
    "start_time": "2021-12-08T15:39:35.531Z"
   },
   {
    "duration": 379,
    "start_time": "2021-12-08T15:39:35.923Z"
   },
   {
    "duration": 360,
    "start_time": "2021-12-08T15:39:36.306Z"
   },
   {
    "duration": 585,
    "start_time": "2021-12-08T15:39:36.670Z"
   },
   {
    "duration": 13,
    "start_time": "2021-12-08T15:39:37.259Z"
   },
   {
    "duration": 86,
    "start_time": "2021-12-08T15:39:37.274Z"
   },
   {
    "duration": 22,
    "start_time": "2021-12-08T15:39:37.362Z"
   },
   {
    "duration": 402,
    "start_time": "2021-12-08T15:39:37.387Z"
   },
   {
    "duration": 147,
    "start_time": "2021-12-08T15:39:37.792Z"
   },
   {
    "duration": 502,
    "start_time": "2021-12-08T15:39:37.942Z"
   },
   {
    "duration": 573,
    "start_time": "2021-12-08T15:39:38.447Z"
   },
   {
    "duration": 568,
    "start_time": "2021-12-08T15:39:39.023Z"
   },
   {
    "duration": 547,
    "start_time": "2021-12-08T15:39:39.594Z"
   },
   {
    "duration": 572,
    "start_time": "2021-12-08T15:39:40.144Z"
   },
   {
    "duration": 579,
    "start_time": "2021-12-08T15:39:40.719Z"
   },
   {
    "duration": 295,
    "start_time": "2021-12-08T15:41:32.480Z"
   },
   {
    "duration": 300,
    "start_time": "2021-12-08T15:42:11.964Z"
   },
   {
    "duration": 307,
    "start_time": "2021-12-08T15:42:29.623Z"
   },
   {
    "duration": 324,
    "start_time": "2021-12-08T15:42:51.458Z"
   },
   {
    "duration": 494,
    "start_time": "2021-12-08T15:52:16.217Z"
   },
   {
    "duration": 361,
    "start_time": "2021-12-08T15:52:29.902Z"
   },
   {
    "duration": 410,
    "start_time": "2021-12-08T15:52:36.937Z"
   },
   {
    "duration": 340,
    "start_time": "2021-12-08T15:52:44.604Z"
   },
   {
    "duration": 441,
    "start_time": "2021-12-08T15:52:59.190Z"
   },
   {
    "duration": 341,
    "start_time": "2021-12-08T15:53:07.808Z"
   },
   {
    "duration": 127,
    "start_time": "2021-12-08T16:03:43.118Z"
   },
   {
    "duration": 132,
    "start_time": "2021-12-08T16:04:38.088Z"
   },
   {
    "duration": 368,
    "start_time": "2021-12-08T16:04:49.262Z"
   },
   {
    "duration": 309,
    "start_time": "2021-12-08T16:16:36.903Z"
   },
   {
    "duration": 319,
    "start_time": "2021-12-08T16:19:09.240Z"
   },
   {
    "duration": 804,
    "start_time": "2021-12-08T16:29:50.741Z"
   },
   {
    "duration": 341,
    "start_time": "2021-12-08T16:30:01.958Z"
   },
   {
    "duration": 684,
    "start_time": "2021-12-08T16:30:38.197Z"
   },
   {
    "duration": 337,
    "start_time": "2021-12-08T16:31:08.167Z"
   },
   {
    "duration": 1028,
    "start_time": "2021-12-08T18:57:21.836Z"
   },
   {
    "duration": 14,
    "start_time": "2021-12-08T18:57:22.867Z"
   },
   {
    "duration": 118,
    "start_time": "2021-12-08T18:57:22.884Z"
   },
   {
    "duration": 45,
    "start_time": "2021-12-08T18:57:23.005Z"
   },
   {
    "duration": 11,
    "start_time": "2021-12-08T18:57:23.053Z"
   },
   {
    "duration": 12,
    "start_time": "2021-12-08T18:57:23.067Z"
   },
   {
    "duration": 36,
    "start_time": "2021-12-08T18:57:23.081Z"
   },
   {
    "duration": 5,
    "start_time": "2021-12-08T18:57:23.121Z"
   },
   {
    "duration": 14,
    "start_time": "2021-12-08T18:57:23.129Z"
   },
   {
    "duration": 233,
    "start_time": "2021-12-08T18:57:23.146Z"
   },
   {
    "duration": 1612,
    "start_time": "2021-12-08T18:57:23.382Z"
   },
   {
    "duration": 1201,
    "start_time": "2021-12-08T18:57:24.997Z"
   },
   {
    "duration": 17,
    "start_time": "2021-12-08T18:57:26.201Z"
   },
   {
    "duration": 6,
    "start_time": "2021-12-08T18:57:26.220Z"
   },
   {
    "duration": 52,
    "start_time": "2021-12-08T18:57:26.229Z"
   },
   {
    "duration": 9,
    "start_time": "2021-12-08T18:57:26.284Z"
   },
   {
    "duration": 14,
    "start_time": "2021-12-08T18:57:26.318Z"
   },
   {
    "duration": 6,
    "start_time": "2021-12-08T18:57:26.334Z"
   },
   {
    "duration": 11,
    "start_time": "2021-12-08T18:57:26.343Z"
   },
   {
    "duration": 11,
    "start_time": "2021-12-08T18:57:26.356Z"
   },
   {
    "duration": 75,
    "start_time": "2021-12-08T18:57:26.369Z"
   },
   {
    "duration": 45,
    "start_time": "2021-12-08T18:57:26.447Z"
   },
   {
    "duration": 851,
    "start_time": "2021-12-08T18:57:26.498Z"
   },
   {
    "duration": 37,
    "start_time": "2021-12-08T18:57:27.352Z"
   },
   {
    "duration": 32,
    "start_time": "2021-12-08T18:57:27.391Z"
   },
   {
    "duration": 370,
    "start_time": "2021-12-08T18:57:27.425Z"
   },
   {
    "duration": 21,
    "start_time": "2021-12-08T18:57:27.797Z"
   },
   {
    "duration": 419,
    "start_time": "2021-12-08T18:57:27.820Z"
   },
   {
    "duration": 8,
    "start_time": "2021-12-08T18:57:28.241Z"
   },
   {
    "duration": 335,
    "start_time": "2021-12-08T18:57:28.252Z"
   },
   {
    "duration": 10,
    "start_time": "2021-12-08T18:57:28.589Z"
   },
   {
    "duration": 335,
    "start_time": "2021-12-08T18:57:28.617Z"
   },
   {
    "duration": 22,
    "start_time": "2021-12-08T18:57:28.954Z"
   },
   {
    "duration": 42,
    "start_time": "2021-12-08T18:57:28.979Z"
   },
   {
    "duration": 385,
    "start_time": "2021-12-08T18:57:29.024Z"
   },
   {
    "duration": 333,
    "start_time": "2021-12-08T18:57:29.411Z"
   },
   {
    "duration": 9,
    "start_time": "2021-12-08T18:57:29.747Z"
   },
   {
    "duration": 343,
    "start_time": "2021-12-08T18:57:29.759Z"
   },
   {
    "duration": 17,
    "start_time": "2021-12-08T18:57:30.104Z"
   },
   {
    "duration": 353,
    "start_time": "2021-12-08T18:57:30.123Z"
   },
   {
    "duration": 319,
    "start_time": "2021-12-08T18:57:30.478Z"
   },
   {
    "duration": 387,
    "start_time": "2021-12-08T18:57:30.799Z"
   },
   {
    "duration": 392,
    "start_time": "2021-12-08T18:57:31.189Z"
   },
   {
    "duration": 365,
    "start_time": "2021-12-08T18:57:31.583Z"
   },
   {
    "duration": 711,
    "start_time": "2021-12-08T18:57:31.950Z"
   },
   {
    "duration": 64,
    "start_time": "2021-12-08T18:57:32.663Z"
   },
   {
    "duration": 106,
    "start_time": "2021-12-08T18:57:32.729Z"
   },
   {
    "duration": 22,
    "start_time": "2021-12-08T18:57:32.837Z"
   },
   {
    "duration": 406,
    "start_time": "2021-12-08T18:57:32.861Z"
   },
   {
    "duration": 149,
    "start_time": "2021-12-08T18:57:33.269Z"
   },
   {
    "duration": 397,
    "start_time": "2021-12-08T18:57:33.420Z"
   },
   {
    "duration": 401,
    "start_time": "2021-12-08T18:57:33.819Z"
   },
   {
    "duration": 384,
    "start_time": "2021-12-08T18:57:34.223Z"
   },
   {
    "duration": 380,
    "start_time": "2021-12-08T18:57:34.610Z"
   },
   {
    "duration": 399,
    "start_time": "2021-12-08T18:57:34.992Z"
   },
   {
    "duration": 367,
    "start_time": "2021-12-08T18:57:35.394Z"
   },
   {
    "duration": 284,
    "start_time": "2021-12-08T19:07:54.660Z"
   },
   {
    "duration": 316,
    "start_time": "2021-12-08T19:08:07.045Z"
   },
   {
    "duration": 37,
    "start_time": "2021-12-08T19:15:20.365Z"
   },
   {
    "duration": 351,
    "start_time": "2021-12-08T19:17:33.206Z"
   },
   {
    "duration": 323,
    "start_time": "2021-12-08T19:18:01.666Z"
   },
   {
    "duration": 440,
    "start_time": "2021-12-08T19:19:35.316Z"
   },
   {
    "duration": 1099,
    "start_time": "2021-12-08T19:25:51.935Z"
   },
   {
    "duration": 20,
    "start_time": "2021-12-08T19:25:53.037Z"
   },
   {
    "duration": 129,
    "start_time": "2021-12-08T19:25:53.060Z"
   },
   {
    "duration": 50,
    "start_time": "2021-12-08T19:25:53.192Z"
   },
   {
    "duration": 15,
    "start_time": "2021-12-08T19:25:53.245Z"
   },
   {
    "duration": 13,
    "start_time": "2021-12-08T19:25:53.263Z"
   },
   {
    "duration": 39,
    "start_time": "2021-12-08T19:25:53.278Z"
   },
   {
    "duration": 6,
    "start_time": "2021-12-08T19:25:53.321Z"
   },
   {
    "duration": 15,
    "start_time": "2021-12-08T19:25:53.330Z"
   },
   {
    "duration": 252,
    "start_time": "2021-12-08T19:25:53.348Z"
   },
   {
    "duration": 1630,
    "start_time": "2021-12-08T19:25:53.602Z"
   },
   {
    "duration": 1274,
    "start_time": "2021-12-08T19:25:55.234Z"
   },
   {
    "duration": 11,
    "start_time": "2021-12-08T19:25:56.510Z"
   },
   {
    "duration": 9,
    "start_time": "2021-12-08T19:25:56.523Z"
   },
   {
    "duration": 61,
    "start_time": "2021-12-08T19:25:56.534Z"
   },
   {
    "duration": 10,
    "start_time": "2021-12-08T19:25:56.617Z"
   },
   {
    "duration": 13,
    "start_time": "2021-12-08T19:25:56.630Z"
   },
   {
    "duration": 7,
    "start_time": "2021-12-08T19:25:56.646Z"
   },
   {
    "duration": 14,
    "start_time": "2021-12-08T19:25:56.655Z"
   },
   {
    "duration": 9,
    "start_time": "2021-12-08T19:25:56.671Z"
   },
   {
    "duration": 38,
    "start_time": "2021-12-08T19:25:56.716Z"
   },
   {
    "duration": 66,
    "start_time": "2021-12-08T19:25:56.757Z"
   },
   {
    "duration": 840,
    "start_time": "2021-12-08T19:25:56.829Z"
   },
   {
    "duration": 51,
    "start_time": "2021-12-08T19:25:57.674Z"
   },
   {
    "duration": 11,
    "start_time": "2021-12-08T19:25:57.728Z"
   },
   {
    "duration": 393,
    "start_time": "2021-12-08T19:25:57.741Z"
   },
   {
    "duration": 12,
    "start_time": "2021-12-08T19:25:58.136Z"
   },
   {
    "duration": 455,
    "start_time": "2021-12-08T19:25:58.150Z"
   },
   {
    "duration": 17,
    "start_time": "2021-12-08T19:25:58.608Z"
   },
   {
    "duration": 355,
    "start_time": "2021-12-08T19:25:58.628Z"
   },
   {
    "duration": 12,
    "start_time": "2021-12-08T19:25:58.986Z"
   },
   {
    "duration": 360,
    "start_time": "2021-12-08T19:25:59.018Z"
   },
   {
    "duration": 39,
    "start_time": "2021-12-08T19:25:59.381Z"
   },
   {
    "duration": 23,
    "start_time": "2021-12-08T19:25:59.423Z"
   },
   {
    "duration": 423,
    "start_time": "2021-12-08T19:25:59.449Z"
   },
   {
    "duration": 349,
    "start_time": "2021-12-08T19:25:59.875Z"
   },
   {
    "duration": 7,
    "start_time": "2021-12-08T19:26:00.227Z"
   },
   {
    "duration": 385,
    "start_time": "2021-12-08T19:26:00.237Z"
   },
   {
    "duration": 7,
    "start_time": "2021-12-08T19:26:00.625Z"
   },
   {
    "duration": 375,
    "start_time": "2021-12-08T19:26:00.634Z"
   },
   {
    "duration": 8,
    "start_time": "2021-12-08T19:26:01.016Z"
   },
   {
    "duration": 373,
    "start_time": "2021-12-08T19:26:01.027Z"
   },
   {
    "duration": 434,
    "start_time": "2021-12-08T19:26:01.402Z"
   },
   {
    "duration": 394,
    "start_time": "2021-12-08T19:26:01.838Z"
   },
   {
    "duration": 382,
    "start_time": "2021-12-08T19:26:02.235Z"
   },
   {
    "duration": 398,
    "start_time": "2021-12-08T19:26:02.619Z"
   },
   {
    "duration": 421,
    "start_time": "2021-12-08T19:26:03.019Z"
   },
   {
    "duration": 10,
    "start_time": "2021-12-08T19:26:03.442Z"
   },
   {
    "duration": 85,
    "start_time": "2021-12-08T19:26:03.454Z"
   },
   {
    "duration": 21,
    "start_time": "2021-12-08T19:26:03.541Z"
   },
   {
    "duration": 403,
    "start_time": "2021-12-08T19:26:03.565Z"
   },
   {
    "duration": 208,
    "start_time": "2021-12-08T19:26:03.971Z"
   },
   {
    "duration": 401,
    "start_time": "2021-12-08T19:26:04.181Z"
   },
   {
    "duration": 658,
    "start_time": "2021-12-08T19:26:04.585Z"
   },
   {
    "duration": 435,
    "start_time": "2021-12-08T19:26:05.245Z"
   },
   {
    "duration": 380,
    "start_time": "2021-12-08T19:26:05.683Z"
   },
   {
    "duration": 425,
    "start_time": "2021-12-08T19:26:06.065Z"
   },
   {
    "duration": 378,
    "start_time": "2021-12-08T19:26:06.492Z"
   },
   {
    "duration": 44,
    "start_time": "2021-12-08T19:27:27.654Z"
   },
   {
    "duration": 33,
    "start_time": "2021-12-08T19:27:45.049Z"
   },
   {
    "duration": 345,
    "start_time": "2021-12-08T19:27:46.820Z"
   },
   {
    "duration": 40,
    "start_time": "2021-12-08T19:29:00.996Z"
   },
   {
    "duration": 34,
    "start_time": "2021-12-08T19:29:37.570Z"
   },
   {
    "duration": 328,
    "start_time": "2021-12-08T19:29:44.025Z"
   },
   {
    "duration": 66,
    "start_time": "2021-12-08T19:31:16.922Z"
   },
   {
    "duration": 8,
    "start_time": "2021-12-08T19:37:18.165Z"
   },
   {
    "duration": 421,
    "start_time": "2021-12-08T19:52:49.464Z"
   },
   {
    "duration": 5,
    "start_time": "2021-12-08T19:56:31.918Z"
   },
   {
    "duration": 382,
    "start_time": "2021-12-08T19:56:33.899Z"
   },
   {
    "duration": 385,
    "start_time": "2021-12-08T19:56:50.308Z"
   },
   {
    "duration": 415,
    "start_time": "2021-12-08T19:58:34.921Z"
   },
   {
    "duration": 7,
    "start_time": "2021-12-08T19:59:29.560Z"
   },
   {
    "duration": 7,
    "start_time": "2021-12-08T20:01:03.746Z"
   },
   {
    "duration": 8,
    "start_time": "2021-12-08T20:01:38.741Z"
   },
   {
    "duration": 7,
    "start_time": "2021-12-08T20:02:20.632Z"
   },
   {
    "duration": 25,
    "start_time": "2021-12-08T20:10:00.871Z"
   },
   {
    "duration": 453,
    "start_time": "2021-12-08T20:39:41.829Z"
   },
   {
    "duration": 125,
    "start_time": "2021-12-08T20:40:04.928Z"
   },
   {
    "duration": 382,
    "start_time": "2021-12-08T20:40:16.524Z"
   },
   {
    "duration": 322,
    "start_time": "2021-12-08T20:41:36.464Z"
   },
   {
    "duration": 393,
    "start_time": "2021-12-08T20:45:30.555Z"
   },
   {
    "duration": 364,
    "start_time": "2021-12-08T20:46:06.772Z"
   },
   {
    "duration": 1082,
    "start_time": "2021-12-08T20:47:09.100Z"
   },
   {
    "duration": 18,
    "start_time": "2021-12-08T20:47:10.185Z"
   },
   {
    "duration": 109,
    "start_time": "2021-12-08T20:47:10.218Z"
   },
   {
    "duration": 37,
    "start_time": "2021-12-08T20:47:10.330Z"
   },
   {
    "duration": 11,
    "start_time": "2021-12-08T20:47:10.369Z"
   },
   {
    "duration": 36,
    "start_time": "2021-12-08T20:47:10.383Z"
   },
   {
    "duration": 5,
    "start_time": "2021-12-08T20:47:10.421Z"
   },
   {
    "duration": 9,
    "start_time": "2021-12-08T20:47:10.430Z"
   },
   {
    "duration": 15,
    "start_time": "2021-12-08T20:47:10.442Z"
   },
   {
    "duration": 242,
    "start_time": "2021-12-08T20:47:10.459Z"
   },
   {
    "duration": 1501,
    "start_time": "2021-12-08T20:47:10.703Z"
   },
   {
    "duration": 1252,
    "start_time": "2021-12-08T20:47:12.207Z"
   },
   {
    "duration": 7,
    "start_time": "2021-12-08T20:47:13.461Z"
   },
   {
    "duration": 6,
    "start_time": "2021-12-08T20:47:13.470Z"
   },
   {
    "duration": 73,
    "start_time": "2021-12-08T20:47:13.479Z"
   },
   {
    "duration": 8,
    "start_time": "2021-12-08T20:47:13.554Z"
   },
   {
    "duration": 13,
    "start_time": "2021-12-08T20:47:13.565Z"
   },
   {
    "duration": 4,
    "start_time": "2021-12-08T20:47:13.580Z"
   },
   {
    "duration": 31,
    "start_time": "2021-12-08T20:47:13.586Z"
   },
   {
    "duration": 10,
    "start_time": "2021-12-08T20:47:13.619Z"
   },
   {
    "duration": 36,
    "start_time": "2021-12-08T20:47:13.632Z"
   },
   {
    "duration": 82,
    "start_time": "2021-12-08T20:47:13.671Z"
   },
   {
    "duration": 831,
    "start_time": "2021-12-08T20:47:13.758Z"
   },
   {
    "duration": 47,
    "start_time": "2021-12-08T20:47:14.593Z"
   },
   {
    "duration": 13,
    "start_time": "2021-12-08T20:47:14.643Z"
   },
   {
    "duration": 393,
    "start_time": "2021-12-08T20:47:14.658Z"
   },
   {
    "duration": 13,
    "start_time": "2021-12-08T20:47:15.054Z"
   },
   {
    "duration": 464,
    "start_time": "2021-12-08T20:47:15.070Z"
   },
   {
    "duration": 11,
    "start_time": "2021-12-08T20:47:15.537Z"
   },
   {
    "duration": 342,
    "start_time": "2021-12-08T20:47:15.550Z"
   },
   {
    "duration": 23,
    "start_time": "2021-12-08T20:47:15.895Z"
   },
   {
    "duration": 344,
    "start_time": "2021-12-08T20:47:15.921Z"
   },
   {
    "duration": 26,
    "start_time": "2021-12-08T20:47:16.268Z"
   },
   {
    "duration": 41,
    "start_time": "2021-12-08T20:47:16.297Z"
   },
   {
    "duration": 407,
    "start_time": "2021-12-08T20:47:16.341Z"
   },
   {
    "duration": 341,
    "start_time": "2021-12-08T20:47:16.751Z"
   },
   {
    "duration": 8,
    "start_time": "2021-12-08T20:47:17.095Z"
   },
   {
    "duration": 384,
    "start_time": "2021-12-08T20:47:17.105Z"
   },
   {
    "duration": 7,
    "start_time": "2021-12-08T20:47:17.491Z"
   },
   {
    "duration": 349,
    "start_time": "2021-12-08T20:47:17.500Z"
   },
   {
    "duration": 12,
    "start_time": "2021-12-08T20:47:17.852Z"
   },
   {
    "duration": 329,
    "start_time": "2021-12-08T20:47:17.866Z"
   },
   {
    "duration": 322,
    "start_time": "2021-12-08T20:47:18.197Z"
   },
   {
    "duration": 400,
    "start_time": "2021-12-08T20:47:18.522Z"
   },
   {
    "duration": 8,
    "start_time": "2021-12-08T20:47:18.924Z"
   },
   {
    "duration": 389,
    "start_time": "2021-12-08T20:47:18.934Z"
   },
   {
    "duration": 7,
    "start_time": "2021-12-08T20:47:19.325Z"
   },
   {
    "duration": 384,
    "start_time": "2021-12-08T20:47:19.335Z"
   },
   {
    "duration": 7,
    "start_time": "2021-12-08T20:47:19.725Z"
   },
   {
    "duration": 10,
    "start_time": "2021-12-08T20:47:19.734Z"
   },
   {
    "duration": 396,
    "start_time": "2021-12-08T20:47:19.746Z"
   },
   {
    "duration": 6,
    "start_time": "2021-12-08T20:47:20.145Z"
   },
   {
    "duration": 11,
    "start_time": "2021-12-08T20:47:20.153Z"
   },
   {
    "duration": 91,
    "start_time": "2021-12-08T20:47:20.166Z"
   },
   {
    "duration": 22,
    "start_time": "2021-12-08T20:47:20.260Z"
   },
   {
    "duration": 377,
    "start_time": "2021-12-08T20:47:20.284Z"
   },
   {
    "duration": 200,
    "start_time": "2021-12-08T20:47:20.663Z"
   },
   {
    "duration": 388,
    "start_time": "2021-12-08T20:47:20.865Z"
   },
   {
    "duration": 451,
    "start_time": "2021-12-08T20:47:21.256Z"
   },
   {
    "duration": 391,
    "start_time": "2021-12-08T20:47:21.717Z"
   },
   {
    "duration": 376,
    "start_time": "2021-12-08T20:47:22.110Z"
   },
   {
    "duration": 402,
    "start_time": "2021-12-08T20:47:22.489Z"
   },
   {
    "duration": 383,
    "start_time": "2021-12-08T20:47:22.896Z"
   },
   {
    "duration": 984,
    "start_time": "2021-12-08T21:02:13.043Z"
   },
   {
    "duration": 15,
    "start_time": "2021-12-08T21:02:14.030Z"
   },
   {
    "duration": 126,
    "start_time": "2021-12-08T21:02:14.048Z"
   },
   {
    "duration": 50,
    "start_time": "2021-12-08T21:02:14.176Z"
   },
   {
    "duration": 12,
    "start_time": "2021-12-08T21:02:14.228Z"
   },
   {
    "duration": 20,
    "start_time": "2021-12-08T21:02:14.242Z"
   },
   {
    "duration": 15,
    "start_time": "2021-12-08T21:02:14.264Z"
   },
   {
    "duration": 17,
    "start_time": "2021-12-08T21:02:14.282Z"
   },
   {
    "duration": 30,
    "start_time": "2021-12-08T21:02:14.302Z"
   },
   {
    "duration": 214,
    "start_time": "2021-12-08T21:02:14.335Z"
   },
   {
    "duration": 1587,
    "start_time": "2021-12-08T21:02:14.551Z"
   },
   {
    "duration": 1277,
    "start_time": "2021-12-08T21:02:16.140Z"
   },
   {
    "duration": 7,
    "start_time": "2021-12-08T21:02:17.419Z"
   },
   {
    "duration": 14,
    "start_time": "2021-12-08T21:02:17.429Z"
   },
   {
    "duration": 53,
    "start_time": "2021-12-08T21:02:17.446Z"
   },
   {
    "duration": 10,
    "start_time": "2021-12-08T21:02:17.517Z"
   },
   {
    "duration": 14,
    "start_time": "2021-12-08T21:02:17.529Z"
   },
   {
    "duration": 8,
    "start_time": "2021-12-08T21:02:17.546Z"
   },
   {
    "duration": 14,
    "start_time": "2021-12-08T21:02:17.556Z"
   },
   {
    "duration": 10,
    "start_time": "2021-12-08T21:02:17.573Z"
   },
   {
    "duration": 39,
    "start_time": "2021-12-08T21:02:17.617Z"
   },
   {
    "duration": 68,
    "start_time": "2021-12-08T21:02:17.659Z"
   },
   {
    "duration": 835,
    "start_time": "2021-12-08T21:02:17.732Z"
   },
   {
    "duration": 49,
    "start_time": "2021-12-08T21:02:18.570Z"
   },
   {
    "duration": 10,
    "start_time": "2021-12-08T21:02:18.621Z"
   },
   {
    "duration": 378,
    "start_time": "2021-12-08T21:02:18.634Z"
   },
   {
    "duration": 12,
    "start_time": "2021-12-08T21:02:19.014Z"
   },
   {
    "duration": 458,
    "start_time": "2021-12-08T21:02:19.028Z"
   },
   {
    "duration": 9,
    "start_time": "2021-12-08T21:02:19.489Z"
   },
   {
    "duration": 343,
    "start_time": "2021-12-08T21:02:19.500Z"
   },
   {
    "duration": 10,
    "start_time": "2021-12-08T21:02:19.846Z"
   },
   {
    "duration": 353,
    "start_time": "2021-12-08T21:02:19.858Z"
   },
   {
    "duration": 22,
    "start_time": "2021-12-08T21:02:20.218Z"
   },
   {
    "duration": 27,
    "start_time": "2021-12-08T21:02:20.242Z"
   },
   {
    "duration": 391,
    "start_time": "2021-12-08T21:02:20.272Z"
   },
   {
    "duration": 337,
    "start_time": "2021-12-08T21:02:20.665Z"
   },
   {
    "duration": 16,
    "start_time": "2021-12-08T21:02:21.005Z"
   },
   {
    "duration": 345,
    "start_time": "2021-12-08T21:02:21.023Z"
   },
   {
    "duration": 8,
    "start_time": "2021-12-08T21:02:21.370Z"
   },
   {
    "duration": 349,
    "start_time": "2021-12-08T21:02:21.380Z"
   },
   {
    "duration": 13,
    "start_time": "2021-12-08T21:02:21.732Z"
   },
   {
    "duration": 337,
    "start_time": "2021-12-08T21:02:21.747Z"
   },
   {
    "duration": 334,
    "start_time": "2021-12-08T21:02:22.087Z"
   },
   {
    "duration": 389,
    "start_time": "2021-12-08T21:02:22.423Z"
   },
   {
    "duration": 7,
    "start_time": "2021-12-08T21:02:22.814Z"
   },
   {
    "duration": 373,
    "start_time": "2021-12-08T21:02:22.824Z"
   },
   {
    "duration": 17,
    "start_time": "2021-12-08T21:02:23.200Z"
   },
   {
    "duration": 358,
    "start_time": "2021-12-08T21:02:23.220Z"
   },
   {
    "duration": 8,
    "start_time": "2021-12-08T21:02:23.581Z"
   },
   {
    "duration": 26,
    "start_time": "2021-12-08T21:02:23.592Z"
   },
   {
    "duration": 382,
    "start_time": "2021-12-08T21:02:23.620Z"
   },
   {
    "duration": 17,
    "start_time": "2021-12-08T21:02:24.004Z"
   },
   {
    "duration": 11,
    "start_time": "2021-12-08T21:02:24.024Z"
   },
   {
    "duration": 93,
    "start_time": "2021-12-08T21:02:24.037Z"
   },
   {
    "duration": 31,
    "start_time": "2021-12-08T21:02:24.132Z"
   },
   {
    "duration": 408,
    "start_time": "2021-12-08T21:02:24.166Z"
   },
   {
    "duration": 199,
    "start_time": "2021-12-08T21:02:24.618Z"
   },
   {
    "duration": 378,
    "start_time": "2021-12-08T21:02:24.819Z"
   },
   {
    "duration": 335,
    "start_time": "2021-12-08T21:02:25.200Z"
   },
   {
    "duration": 419,
    "start_time": "2021-12-08T21:02:25.537Z"
   },
   {
    "duration": 576,
    "start_time": "2021-12-08T21:02:25.960Z"
   },
   {
    "duration": 411,
    "start_time": "2021-12-08T21:02:26.538Z"
   },
   {
    "duration": 375,
    "start_time": "2021-12-08T21:02:26.952Z"
   },
   {
    "duration": 1121,
    "start_time": "2021-12-09T08:01:23.784Z"
   },
   {
    "duration": 18,
    "start_time": "2021-12-09T08:01:24.907Z"
   },
   {
    "duration": 120,
    "start_time": "2021-12-09T08:01:24.928Z"
   },
   {
    "duration": 38,
    "start_time": "2021-12-09T08:01:25.051Z"
   },
   {
    "duration": 32,
    "start_time": "2021-12-09T08:01:25.091Z"
   },
   {
    "duration": 12,
    "start_time": "2021-12-09T08:01:25.126Z"
   },
   {
    "duration": 16,
    "start_time": "2021-12-09T08:01:25.140Z"
   },
   {
    "duration": 13,
    "start_time": "2021-12-09T08:01:25.160Z"
   },
   {
    "duration": 26,
    "start_time": "2021-12-09T08:01:25.176Z"
   },
   {
    "duration": 232,
    "start_time": "2021-12-09T08:01:25.205Z"
   },
   {
    "duration": 1622,
    "start_time": "2021-12-09T08:01:25.440Z"
   },
   {
    "duration": 1513,
    "start_time": "2021-12-09T08:01:27.065Z"
   },
   {
    "duration": 7,
    "start_time": "2021-12-09T08:01:28.580Z"
   },
   {
    "duration": 15,
    "start_time": "2021-12-09T08:01:28.589Z"
   },
   {
    "duration": 60,
    "start_time": "2021-12-09T08:01:28.606Z"
   },
   {
    "duration": 8,
    "start_time": "2021-12-09T08:01:28.668Z"
   },
   {
    "duration": 14,
    "start_time": "2021-12-09T08:01:28.679Z"
   },
   {
    "duration": 25,
    "start_time": "2021-12-09T08:01:28.695Z"
   },
   {
    "duration": 13,
    "start_time": "2021-12-09T08:01:28.723Z"
   },
   {
    "duration": 9,
    "start_time": "2021-12-09T08:01:28.739Z"
   },
   {
    "duration": 66,
    "start_time": "2021-12-09T08:01:28.751Z"
   },
   {
    "duration": 46,
    "start_time": "2021-12-09T08:01:28.820Z"
   },
   {
    "duration": 953,
    "start_time": "2021-12-09T08:01:28.871Z"
   },
   {
    "duration": 39,
    "start_time": "2021-12-09T08:01:29.827Z"
   },
   {
    "duration": 10,
    "start_time": "2021-12-09T08:01:29.868Z"
   },
   {
    "duration": 499,
    "start_time": "2021-12-09T08:01:29.880Z"
   },
   {
    "duration": 12,
    "start_time": "2021-12-09T08:01:30.381Z"
   },
   {
    "duration": 427,
    "start_time": "2021-12-09T08:01:30.395Z"
   },
   {
    "duration": 9,
    "start_time": "2021-12-09T08:01:30.824Z"
   },
   {
    "duration": 343,
    "start_time": "2021-12-09T08:01:30.836Z"
   },
   {
    "duration": 10,
    "start_time": "2021-12-09T08:01:31.181Z"
   },
   {
    "duration": 339,
    "start_time": "2021-12-09T08:01:31.194Z"
   },
   {
    "duration": 21,
    "start_time": "2021-12-09T08:01:31.535Z"
   },
   {
    "duration": 22,
    "start_time": "2021-12-09T08:01:31.559Z"
   },
   {
    "duration": 420,
    "start_time": "2021-12-09T08:01:31.583Z"
   },
   {
    "duration": 341,
    "start_time": "2021-12-09T08:01:32.006Z"
   },
   {
    "duration": 8,
    "start_time": "2021-12-09T08:01:32.349Z"
   },
   {
    "duration": 347,
    "start_time": "2021-12-09T08:01:32.359Z"
   },
   {
    "duration": 12,
    "start_time": "2021-12-09T08:01:32.708Z"
   },
   {
    "duration": 335,
    "start_time": "2021-12-09T08:01:32.723Z"
   },
   {
    "duration": 12,
    "start_time": "2021-12-09T08:01:33.060Z"
   },
   {
    "duration": 342,
    "start_time": "2021-12-09T08:01:33.075Z"
   },
   {
    "duration": 312,
    "start_time": "2021-12-09T08:01:33.419Z"
   },
   {
    "duration": 395,
    "start_time": "2021-12-09T08:01:33.735Z"
   },
   {
    "duration": 19,
    "start_time": "2021-12-09T08:01:34.132Z"
   },
   {
    "duration": 483,
    "start_time": "2021-12-09T08:01:34.153Z"
   },
   {
    "duration": 120,
    "start_time": "2021-12-09T08:01:34.519Z"
   },
   {
    "duration": 109,
    "start_time": "2021-12-09T08:01:34.531Z"
   },
   {
    "duration": 96,
    "start_time": "2021-12-09T08:01:34.545Z"
   },
   {
    "duration": 86,
    "start_time": "2021-12-09T08:01:34.557Z"
   },
   {
    "duration": 74,
    "start_time": "2021-12-09T08:01:34.571Z"
   },
   {
    "duration": 63,
    "start_time": "2021-12-09T08:01:34.583Z"
   },
   {
    "duration": 37,
    "start_time": "2021-12-09T08:01:34.611Z"
   },
   {
    "duration": 25,
    "start_time": "2021-12-09T08:01:34.624Z"
   },
   {
    "duration": 13,
    "start_time": "2021-12-09T08:01:34.637Z"
   },
   {
    "duration": 2,
    "start_time": "2021-12-09T08:01:34.649Z"
   },
   {
    "duration": -11,
    "start_time": "2021-12-09T08:01:34.664Z"
   },
   {
    "duration": -22,
    "start_time": "2021-12-09T08:01:34.676Z"
   },
   {
    "duration": -34,
    "start_time": "2021-12-09T08:01:34.689Z"
   },
   {
    "duration": -45,
    "start_time": "2021-12-09T08:01:34.701Z"
   },
   {
    "duration": -72,
    "start_time": "2021-12-09T08:01:34.729Z"
   },
   {
    "duration": -82,
    "start_time": "2021-12-09T08:01:34.741Z"
   },
   {
    "duration": 1615,
    "start_time": "2021-12-09T08:04:13.358Z"
   },
   {
    "duration": 18,
    "start_time": "2021-12-09T08:04:14.976Z"
   },
   {
    "duration": 125,
    "start_time": "2021-12-09T08:04:14.997Z"
   },
   {
    "duration": 39,
    "start_time": "2021-12-09T08:04:15.124Z"
   },
   {
    "duration": 14,
    "start_time": "2021-12-09T08:04:15.165Z"
   },
   {
    "duration": 46,
    "start_time": "2021-12-09T08:04:15.182Z"
   },
   {
    "duration": 6,
    "start_time": "2021-12-09T08:04:15.231Z"
   },
   {
    "duration": 7,
    "start_time": "2021-12-09T08:04:15.242Z"
   },
   {
    "duration": 17,
    "start_time": "2021-12-09T08:04:15.252Z"
   },
   {
    "duration": 265,
    "start_time": "2021-12-09T08:04:15.271Z"
   },
   {
    "duration": 1516,
    "start_time": "2021-12-09T08:04:15.538Z"
   },
   {
    "duration": 1223,
    "start_time": "2021-12-09T08:04:17.057Z"
   },
   {
    "duration": 9,
    "start_time": "2021-12-09T08:04:18.283Z"
   },
   {
    "duration": 28,
    "start_time": "2021-12-09T08:04:18.294Z"
   },
   {
    "duration": 51,
    "start_time": "2021-12-09T08:04:18.324Z"
   },
   {
    "duration": 8,
    "start_time": "2021-12-09T08:04:18.377Z"
   },
   {
    "duration": 16,
    "start_time": "2021-12-09T08:04:18.416Z"
   },
   {
    "duration": 11,
    "start_time": "2021-12-09T08:04:18.434Z"
   },
   {
    "duration": 24,
    "start_time": "2021-12-09T08:04:18.447Z"
   },
   {
    "duration": 11,
    "start_time": "2021-12-09T08:04:18.474Z"
   },
   {
    "duration": 54,
    "start_time": "2021-12-09T08:04:18.487Z"
   },
   {
    "duration": 54,
    "start_time": "2021-12-09T08:04:18.543Z"
   },
   {
    "duration": 968,
    "start_time": "2021-12-09T08:04:18.619Z"
   },
   {
    "duration": 50,
    "start_time": "2021-12-09T08:04:19.591Z"
   },
   {
    "duration": 10,
    "start_time": "2021-12-09T08:04:19.643Z"
   },
   {
    "duration": 381,
    "start_time": "2021-12-09T08:04:19.656Z"
   },
   {
    "duration": 12,
    "start_time": "2021-12-09T08:04:20.040Z"
   },
   {
    "duration": 568,
    "start_time": "2021-12-09T08:04:20.054Z"
   },
   {
    "duration": 9,
    "start_time": "2021-12-09T08:04:20.625Z"
   },
   {
    "duration": 351,
    "start_time": "2021-12-09T08:04:20.636Z"
   },
   {
    "duration": 11,
    "start_time": "2021-12-09T08:04:20.989Z"
   },
   {
    "duration": 361,
    "start_time": "2021-12-09T08:04:21.018Z"
   },
   {
    "duration": 43,
    "start_time": "2021-12-09T08:04:21.382Z"
   },
   {
    "duration": 22,
    "start_time": "2021-12-09T08:04:21.428Z"
   },
   {
    "duration": 350,
    "start_time": "2021-12-09T08:04:21.453Z"
   },
   {
    "duration": 326,
    "start_time": "2021-12-09T08:04:21.806Z"
   },
   {
    "duration": 7,
    "start_time": "2021-12-09T08:04:22.134Z"
   },
   {
    "duration": 349,
    "start_time": "2021-12-09T08:04:22.143Z"
   },
   {
    "duration": 6,
    "start_time": "2021-12-09T08:04:22.494Z"
   },
   {
    "duration": 422,
    "start_time": "2021-12-09T08:04:22.503Z"
   },
   {
    "duration": 12,
    "start_time": "2021-12-09T08:04:22.928Z"
   },
   {
    "duration": 352,
    "start_time": "2021-12-09T08:04:22.942Z"
   },
   {
    "duration": 329,
    "start_time": "2021-12-09T08:04:23.297Z"
   },
   {
    "duration": 392,
    "start_time": "2021-12-09T08:04:23.628Z"
   },
   {
    "duration": 19,
    "start_time": "2021-12-09T08:04:24.022Z"
   },
   {
    "duration": 429,
    "start_time": "2021-12-09T08:04:24.043Z"
   },
   {
    "duration": 142,
    "start_time": "2021-12-09T08:04:24.332Z"
   },
   {
    "duration": 125,
    "start_time": "2021-12-09T08:04:24.350Z"
   },
   {
    "duration": 112,
    "start_time": "2021-12-09T08:04:24.365Z"
   },
   {
    "duration": 97,
    "start_time": "2021-12-09T08:04:24.381Z"
   },
   {
    "duration": 82,
    "start_time": "2021-12-09T08:04:24.398Z"
   },
   {
    "duration": 45,
    "start_time": "2021-12-09T08:04:24.436Z"
   },
   {
    "duration": 29,
    "start_time": "2021-12-09T08:04:24.453Z"
   },
   {
    "duration": 5,
    "start_time": "2021-12-09T08:04:24.479Z"
   },
   {
    "duration": -9,
    "start_time": "2021-12-09T08:04:24.494Z"
   },
   {
    "duration": -34,
    "start_time": "2021-12-09T08:04:24.521Z"
   },
   {
    "duration": -76,
    "start_time": "2021-12-09T08:04:24.564Z"
   },
   {
    "duration": -88,
    "start_time": "2021-12-09T08:04:24.578Z"
   },
   {
    "duration": -100,
    "start_time": "2021-12-09T08:04:24.591Z"
   },
   {
    "duration": -116,
    "start_time": "2021-12-09T08:04:24.609Z"
   },
   {
    "duration": -130,
    "start_time": "2021-12-09T08:04:24.624Z"
   },
   {
    "duration": -142,
    "start_time": "2021-12-09T08:04:24.638Z"
   },
   {
    "duration": 18140,
    "start_time": "2021-12-09T08:05:00.013Z"
   },
   {
    "duration": 1660,
    "start_time": "2021-12-09T08:11:34.966Z"
   },
   {
    "duration": 16,
    "start_time": "2021-12-09T08:11:36.628Z"
   },
   {
    "duration": 124,
    "start_time": "2021-12-09T08:11:36.646Z"
   },
   {
    "duration": 53,
    "start_time": "2021-12-09T08:11:36.773Z"
   },
   {
    "duration": 11,
    "start_time": "2021-12-09T08:11:36.828Z"
   },
   {
    "duration": 12,
    "start_time": "2021-12-09T08:11:36.841Z"
   },
   {
    "duration": 6,
    "start_time": "2021-12-09T08:11:36.856Z"
   },
   {
    "duration": 7,
    "start_time": "2021-12-09T08:11:36.865Z"
   },
   {
    "duration": 52,
    "start_time": "2021-12-09T08:11:36.875Z"
   },
   {
    "duration": 222,
    "start_time": "2021-12-09T08:11:36.930Z"
   },
   {
    "duration": 1599,
    "start_time": "2021-12-09T08:11:37.155Z"
   },
   {
    "duration": 1277,
    "start_time": "2021-12-09T08:11:38.756Z"
   },
   {
    "duration": 8,
    "start_time": "2021-12-09T08:11:40.035Z"
   },
   {
    "duration": 9,
    "start_time": "2021-12-09T08:11:40.046Z"
   },
   {
    "duration": 75,
    "start_time": "2021-12-09T08:11:40.057Z"
   },
   {
    "duration": 8,
    "start_time": "2021-12-09T08:11:40.135Z"
   },
   {
    "duration": 14,
    "start_time": "2021-12-09T08:11:40.146Z"
   },
   {
    "duration": 5,
    "start_time": "2021-12-09T08:11:40.163Z"
   },
   {
    "duration": 13,
    "start_time": "2021-12-09T08:11:40.170Z"
   },
   {
    "duration": 38,
    "start_time": "2021-12-09T08:11:40.185Z"
   },
   {
    "duration": 38,
    "start_time": "2021-12-09T08:11:40.225Z"
   },
   {
    "duration": 76,
    "start_time": "2021-12-09T08:11:40.265Z"
   },
   {
    "duration": 906,
    "start_time": "2021-12-09T08:11:40.346Z"
   },
   {
    "duration": 39,
    "start_time": "2021-12-09T08:11:41.255Z"
   },
   {
    "duration": 28,
    "start_time": "2021-12-09T08:11:41.297Z"
   },
   {
    "duration": 387,
    "start_time": "2021-12-09T08:11:41.328Z"
   },
   {
    "duration": 13,
    "start_time": "2021-12-09T08:11:41.717Z"
   },
   {
    "duration": 440,
    "start_time": "2021-12-09T08:11:41.732Z"
   },
   {
    "duration": 10,
    "start_time": "2021-12-09T08:11:42.175Z"
   },
   {
    "duration": 358,
    "start_time": "2021-12-09T08:11:42.188Z"
   },
   {
    "duration": 12,
    "start_time": "2021-12-09T08:11:42.549Z"
   },
   {
    "duration": 359,
    "start_time": "2021-12-09T08:11:42.563Z"
   },
   {
    "duration": 28,
    "start_time": "2021-12-09T08:11:42.924Z"
   },
   {
    "duration": 23,
    "start_time": "2021-12-09T08:11:42.955Z"
   },
   {
    "duration": 370,
    "start_time": "2021-12-09T08:11:42.981Z"
   },
   {
    "duration": 383,
    "start_time": "2021-12-09T08:11:43.353Z"
   },
   {
    "duration": 7,
    "start_time": "2021-12-09T08:11:43.738Z"
   },
   {
    "duration": 354,
    "start_time": "2021-12-09T08:11:43.748Z"
   },
   {
    "duration": 13,
    "start_time": "2021-12-09T08:11:44.104Z"
   },
   {
    "duration": 418,
    "start_time": "2021-12-09T08:11:44.119Z"
   },
   {
    "duration": 13,
    "start_time": "2021-12-09T08:11:44.540Z"
   },
   {
    "duration": 639,
    "start_time": "2021-12-09T08:11:44.556Z"
   },
   {
    "duration": 420,
    "start_time": "2021-12-09T08:11:45.197Z"
   },
   {
    "duration": 389,
    "start_time": "2021-12-09T08:11:45.620Z"
   },
   {
    "duration": 108,
    "start_time": "2021-12-09T08:11:46.011Z"
   },
   {
    "duration": -87,
    "start_time": "2021-12-09T08:11:46.209Z"
   },
   {
    "duration": -151,
    "start_time": "2021-12-09T08:11:46.275Z"
   },
   {
    "duration": -168,
    "start_time": "2021-12-09T08:11:46.294Z"
   },
   {
    "duration": -181,
    "start_time": "2021-12-09T08:11:46.309Z"
   },
   {
    "duration": -191,
    "start_time": "2021-12-09T08:11:46.322Z"
   },
   {
    "duration": -200,
    "start_time": "2021-12-09T08:11:46.333Z"
   },
   {
    "duration": -211,
    "start_time": "2021-12-09T08:11:46.346Z"
   },
   {
    "duration": -222,
    "start_time": "2021-12-09T08:11:46.359Z"
   },
   {
    "duration": -248,
    "start_time": "2021-12-09T08:11:46.387Z"
   },
   {
    "duration": -257,
    "start_time": "2021-12-09T08:11:46.399Z"
   },
   {
    "duration": -274,
    "start_time": "2021-12-09T08:11:46.418Z"
   },
   {
    "duration": -284,
    "start_time": "2021-12-09T08:11:46.430Z"
   },
   {
    "duration": -295,
    "start_time": "2021-12-09T08:11:46.443Z"
   },
   {
    "duration": -305,
    "start_time": "2021-12-09T08:11:46.455Z"
   },
   {
    "duration": -317,
    "start_time": "2021-12-09T08:11:46.470Z"
   },
   {
    "duration": -329,
    "start_time": "2021-12-09T08:11:46.484Z"
   },
   {
    "duration": -359,
    "start_time": "2021-12-09T08:11:46.516Z"
   },
   {
    "duration": -372,
    "start_time": "2021-12-09T08:11:46.531Z"
   },
   {
    "duration": 103,
    "start_time": "2021-12-09T08:13:18.712Z"
   },
   {
    "duration": 1695,
    "start_time": "2021-12-09T08:14:02.441Z"
   },
   {
    "duration": 15,
    "start_time": "2021-12-09T08:14:04.138Z"
   },
   {
    "duration": 123,
    "start_time": "2021-12-09T08:14:04.156Z"
   },
   {
    "duration": 58,
    "start_time": "2021-12-09T08:14:04.283Z"
   },
   {
    "duration": 14,
    "start_time": "2021-12-09T08:14:04.344Z"
   },
   {
    "duration": 14,
    "start_time": "2021-12-09T08:14:04.360Z"
   },
   {
    "duration": 11,
    "start_time": "2021-12-09T08:14:04.376Z"
   },
   {
    "duration": 6,
    "start_time": "2021-12-09T08:14:04.419Z"
   },
   {
    "duration": 18,
    "start_time": "2021-12-09T08:14:04.429Z"
   },
   {
    "duration": 243,
    "start_time": "2021-12-09T08:14:04.450Z"
   },
   {
    "duration": 1676,
    "start_time": "2021-12-09T08:14:04.695Z"
   },
   {
    "duration": 1221,
    "start_time": "2021-12-09T08:14:06.374Z"
   },
   {
    "duration": 7,
    "start_time": "2021-12-09T08:14:07.597Z"
   },
   {
    "duration": 30,
    "start_time": "2021-12-09T08:14:07.606Z"
   },
   {
    "duration": 51,
    "start_time": "2021-12-09T08:14:07.638Z"
   },
   {
    "duration": 11,
    "start_time": "2021-12-09T08:14:07.691Z"
   },
   {
    "duration": 15,
    "start_time": "2021-12-09T08:14:07.718Z"
   },
   {
    "duration": 8,
    "start_time": "2021-12-09T08:14:07.736Z"
   },
   {
    "duration": 17,
    "start_time": "2021-12-09T08:14:07.747Z"
   },
   {
    "duration": 12,
    "start_time": "2021-12-09T08:14:07.767Z"
   },
   {
    "duration": 72,
    "start_time": "2021-12-09T08:14:07.782Z"
   },
   {
    "duration": 69,
    "start_time": "2021-12-09T08:14:07.857Z"
   },
   {
    "duration": 924,
    "start_time": "2021-12-09T08:14:07.933Z"
   },
   {
    "duration": 38,
    "start_time": "2021-12-09T08:14:08.861Z"
   },
   {
    "duration": 11,
    "start_time": "2021-12-09T08:14:08.917Z"
   },
   {
    "duration": 514,
    "start_time": "2021-12-09T08:14:08.931Z"
   },
   {
    "duration": 12,
    "start_time": "2021-12-09T08:14:09.448Z"
   },
   {
    "duration": 446,
    "start_time": "2021-12-09T08:14:09.462Z"
   },
   {
    "duration": 16,
    "start_time": "2021-12-09T08:14:09.911Z"
   },
   {
    "duration": 349,
    "start_time": "2021-12-09T08:14:09.929Z"
   },
   {
    "duration": 12,
    "start_time": "2021-12-09T08:14:10.280Z"
   },
   {
    "duration": 360,
    "start_time": "2021-12-09T08:14:10.295Z"
   },
   {
    "duration": 27,
    "start_time": "2021-12-09T08:14:10.658Z"
   },
   {
    "duration": 44,
    "start_time": "2021-12-09T08:14:10.687Z"
   },
   {
    "duration": 344,
    "start_time": "2021-12-09T08:14:10.734Z"
   },
   {
    "duration": 339,
    "start_time": "2021-12-09T08:14:11.081Z"
   },
   {
    "duration": 8,
    "start_time": "2021-12-09T08:14:11.422Z"
   },
   {
    "duration": 348,
    "start_time": "2021-12-09T08:14:11.432Z"
   },
   {
    "duration": 8,
    "start_time": "2021-12-09T08:14:11.782Z"
   },
   {
    "duration": 437,
    "start_time": "2021-12-09T08:14:11.792Z"
   },
   {
    "duration": 15,
    "start_time": "2021-12-09T08:14:12.231Z"
   },
   {
    "duration": 351,
    "start_time": "2021-12-09T08:14:12.248Z"
   },
   {
    "duration": 342,
    "start_time": "2021-12-09T08:14:12.603Z"
   },
   {
    "duration": 402,
    "start_time": "2021-12-09T08:14:12.948Z"
   },
   {
    "duration": 20,
    "start_time": "2021-12-09T08:14:13.353Z"
   },
   {
    "duration": 17497,
    "start_time": "2021-12-09T08:14:13.376Z"
   },
   {
    "duration": 376,
    "start_time": "2021-12-09T08:14:30.875Z"
   },
   {
    "duration": 368,
    "start_time": "2021-12-09T08:14:31.253Z"
   },
   {
    "duration": 6,
    "start_time": "2021-12-09T08:14:31.624Z"
   },
   {
    "duration": 439,
    "start_time": "2021-12-09T08:14:31.632Z"
   },
   {
    "duration": 7,
    "start_time": "2021-12-09T08:14:32.074Z"
   },
   {
    "duration": 36,
    "start_time": "2021-12-09T08:14:32.083Z"
   },
   {
    "duration": 82,
    "start_time": "2021-12-09T08:14:32.121Z"
   },
   {
    "duration": 22,
    "start_time": "2021-12-09T08:14:32.205Z"
   },
   {
    "duration": 378,
    "start_time": "2021-12-09T08:14:32.230Z"
   },
   {
    "duration": 135,
    "start_time": "2021-12-09T08:14:32.617Z"
   },
   {
    "duration": 391,
    "start_time": "2021-12-09T08:14:32.754Z"
   },
   {
    "duration": 540,
    "start_time": "2021-12-09T08:14:33.147Z"
   },
   {
    "duration": 402,
    "start_time": "2021-12-09T08:14:33.689Z"
   },
   {
    "duration": 387,
    "start_time": "2021-12-09T08:14:34.094Z"
   },
   {
    "duration": 408,
    "start_time": "2021-12-09T08:14:34.484Z"
   },
   {
    "duration": 364,
    "start_time": "2021-12-09T08:14:34.894Z"
   },
   {
    "duration": 1612,
    "start_time": "2021-12-09T08:16:42.609Z"
   },
   {
    "duration": 15,
    "start_time": "2021-12-09T08:16:44.224Z"
   },
   {
    "duration": 117,
    "start_time": "2021-12-09T08:16:44.242Z"
   },
   {
    "duration": 38,
    "start_time": "2021-12-09T08:16:44.362Z"
   },
   {
    "duration": 26,
    "start_time": "2021-12-09T08:16:44.402Z"
   },
   {
    "duration": 12,
    "start_time": "2021-12-09T08:16:44.431Z"
   },
   {
    "duration": 6,
    "start_time": "2021-12-09T08:16:44.446Z"
   },
   {
    "duration": 6,
    "start_time": "2021-12-09T08:16:44.457Z"
   },
   {
    "duration": 64,
    "start_time": "2021-12-09T08:16:44.467Z"
   },
   {
    "duration": 234,
    "start_time": "2021-12-09T08:16:44.534Z"
   },
   {
    "duration": 1660,
    "start_time": "2021-12-09T08:16:44.770Z"
   },
   {
    "duration": 1233,
    "start_time": "2021-12-09T08:16:46.432Z"
   },
   {
    "duration": 7,
    "start_time": "2021-12-09T08:16:47.668Z"
   },
   {
    "duration": 8,
    "start_time": "2021-12-09T08:16:47.677Z"
   },
   {
    "duration": 66,
    "start_time": "2021-12-09T08:16:47.687Z"
   },
   {
    "duration": 9,
    "start_time": "2021-12-09T08:16:47.755Z"
   },
   {
    "duration": 14,
    "start_time": "2021-12-09T08:16:47.766Z"
   },
   {
    "duration": 36,
    "start_time": "2021-12-09T08:16:47.783Z"
   },
   {
    "duration": 11,
    "start_time": "2021-12-09T08:16:47.822Z"
   },
   {
    "duration": 10,
    "start_time": "2021-12-09T08:16:47.835Z"
   },
   {
    "duration": 39,
    "start_time": "2021-12-09T08:16:47.847Z"
   },
   {
    "duration": 70,
    "start_time": "2021-12-09T08:16:47.889Z"
   },
   {
    "duration": 885,
    "start_time": "2021-12-09T08:16:47.965Z"
   },
   {
    "duration": 39,
    "start_time": "2021-12-09T08:16:48.853Z"
   },
   {
    "duration": 27,
    "start_time": "2021-12-09T08:16:48.895Z"
   },
   {
    "duration": 385,
    "start_time": "2021-12-09T08:16:48.924Z"
   },
   {
    "duration": 13,
    "start_time": "2021-12-09T08:16:49.312Z"
   },
   {
    "duration": 451,
    "start_time": "2021-12-09T08:16:49.328Z"
   },
   {
    "duration": 9,
    "start_time": "2021-12-09T08:16:49.781Z"
   },
   {
    "duration": 363,
    "start_time": "2021-12-09T08:16:49.793Z"
   },
   {
    "duration": 11,
    "start_time": "2021-12-09T08:16:50.158Z"
   },
   {
    "duration": 359,
    "start_time": "2021-12-09T08:16:50.172Z"
   },
   {
    "duration": 29,
    "start_time": "2021-12-09T08:16:50.535Z"
   },
   {
    "duration": 56,
    "start_time": "2021-12-09T08:16:50.567Z"
   },
   {
    "duration": 373,
    "start_time": "2021-12-09T08:16:50.625Z"
   },
   {
    "duration": 348,
    "start_time": "2021-12-09T08:16:51.001Z"
   },
   {
    "duration": 6,
    "start_time": "2021-12-09T08:16:51.351Z"
   },
   {
    "duration": 375,
    "start_time": "2021-12-09T08:16:51.359Z"
   },
   {
    "duration": 7,
    "start_time": "2021-12-09T08:16:51.736Z"
   },
   {
    "duration": 420,
    "start_time": "2021-12-09T08:16:51.745Z"
   },
   {
    "duration": 13,
    "start_time": "2021-12-09T08:16:52.167Z"
   },
   {
    "duration": 356,
    "start_time": "2021-12-09T08:16:52.182Z"
   },
   {
    "duration": 331,
    "start_time": "2021-12-09T08:16:52.541Z"
   },
   {
    "duration": 383,
    "start_time": "2021-12-09T08:16:52.874Z"
   },
   {
    "duration": 17,
    "start_time": "2021-12-09T08:16:53.260Z"
   },
   {
    "duration": 18326,
    "start_time": "2021-12-09T08:16:53.279Z"
   },
   {
    "duration": 383,
    "start_time": "2021-12-09T08:17:11.607Z"
   },
   {
    "duration": 365,
    "start_time": "2021-12-09T08:17:11.992Z"
   },
   {
    "duration": 5,
    "start_time": "2021-12-09T08:17:12.360Z"
   },
   {
    "duration": 403,
    "start_time": "2021-12-09T08:17:12.367Z"
   },
   {
    "duration": 6,
    "start_time": "2021-12-09T08:17:12.773Z"
   },
   {
    "duration": 35,
    "start_time": "2021-12-09T08:17:12.782Z"
   },
   {
    "duration": 64,
    "start_time": "2021-12-09T08:17:12.820Z"
   },
   {
    "duration": 43,
    "start_time": "2021-12-09T08:17:12.886Z"
   },
   {
    "duration": 371,
    "start_time": "2021-12-09T08:17:12.932Z"
   },
   {
    "duration": 140,
    "start_time": "2021-12-09T08:17:13.306Z"
   },
   {
    "duration": 391,
    "start_time": "2021-12-09T08:17:13.449Z"
   },
   {
    "duration": 447,
    "start_time": "2021-12-09T08:17:13.843Z"
   },
   {
    "duration": 399,
    "start_time": "2021-12-09T08:17:14.293Z"
   },
   {
    "duration": 389,
    "start_time": "2021-12-09T08:17:14.694Z"
   },
   {
    "duration": 415,
    "start_time": "2021-12-09T08:17:15.086Z"
   },
   {
    "duration": 391,
    "start_time": "2021-12-09T08:17:15.503Z"
   },
   {
    "duration": 18,
    "start_time": "2021-12-09T08:18:50.684Z"
   },
   {
    "duration": 1652,
    "start_time": "2021-12-09T08:19:33.180Z"
   },
   {
    "duration": 16,
    "start_time": "2021-12-09T08:19:34.835Z"
   },
   {
    "duration": 128,
    "start_time": "2021-12-09T08:19:34.854Z"
   },
   {
    "duration": 51,
    "start_time": "2021-12-09T08:19:34.984Z"
   },
   {
    "duration": 12,
    "start_time": "2021-12-09T08:19:35.038Z"
   },
   {
    "duration": 17,
    "start_time": "2021-12-09T08:19:35.052Z"
   },
   {
    "duration": 9,
    "start_time": "2021-12-09T08:19:35.071Z"
   },
   {
    "duration": 17,
    "start_time": "2021-12-09T08:19:35.083Z"
   },
   {
    "duration": 17,
    "start_time": "2021-12-09T08:19:35.118Z"
   },
   {
    "duration": 227,
    "start_time": "2021-12-09T08:19:35.137Z"
   },
   {
    "duration": 1524,
    "start_time": "2021-12-09T08:19:35.367Z"
   },
   {
    "duration": 1197,
    "start_time": "2021-12-09T08:19:36.894Z"
   },
   {
    "duration": 8,
    "start_time": "2021-12-09T08:19:38.094Z"
   },
   {
    "duration": 16,
    "start_time": "2021-12-09T08:19:38.104Z"
   },
   {
    "duration": 52,
    "start_time": "2021-12-09T08:19:38.123Z"
   },
   {
    "duration": 41,
    "start_time": "2021-12-09T08:19:38.178Z"
   },
   {
    "duration": 13,
    "start_time": "2021-12-09T08:19:38.222Z"
   },
   {
    "duration": 6,
    "start_time": "2021-12-09T08:19:38.237Z"
   },
   {
    "duration": 13,
    "start_time": "2021-12-09T08:19:38.245Z"
   },
   {
    "duration": 10,
    "start_time": "2021-12-09T08:19:38.260Z"
   },
   {
    "duration": 68,
    "start_time": "2021-12-09T08:19:38.272Z"
   },
   {
    "duration": 45,
    "start_time": "2021-12-09T08:19:38.343Z"
   },
   {
    "duration": 1015,
    "start_time": "2021-12-09T08:19:38.393Z"
   },
   {
    "duration": 38,
    "start_time": "2021-12-09T08:19:39.416Z"
   },
   {
    "duration": 11,
    "start_time": "2021-12-09T08:19:39.456Z"
   },
   {
    "duration": 387,
    "start_time": "2021-12-09T08:19:39.470Z"
   },
   {
    "duration": 13,
    "start_time": "2021-12-09T08:19:39.860Z"
   },
   {
    "duration": 436,
    "start_time": "2021-12-09T08:19:39.876Z"
   },
   {
    "duration": 9,
    "start_time": "2021-12-09T08:19:40.314Z"
   },
   {
    "duration": 340,
    "start_time": "2021-12-09T08:19:40.325Z"
   },
   {
    "duration": 10,
    "start_time": "2021-12-09T08:19:40.668Z"
   },
   {
    "duration": 343,
    "start_time": "2021-12-09T08:19:40.680Z"
   },
   {
    "duration": 26,
    "start_time": "2021-12-09T08:19:41.025Z"
   },
   {
    "duration": 22,
    "start_time": "2021-12-09T08:19:41.053Z"
   },
   {
    "duration": 353,
    "start_time": "2021-12-09T08:19:41.077Z"
   },
   {
    "duration": 334,
    "start_time": "2021-12-09T08:19:41.432Z"
   },
   {
    "duration": 8,
    "start_time": "2021-12-09T08:19:41.769Z"
   },
   {
    "duration": 361,
    "start_time": "2021-12-09T08:19:41.779Z"
   },
   {
    "duration": 7,
    "start_time": "2021-12-09T08:19:42.143Z"
   },
   {
    "duration": 430,
    "start_time": "2021-12-09T08:19:42.152Z"
   },
   {
    "duration": 14,
    "start_time": "2021-12-09T08:19:42.584Z"
   },
   {
    "duration": 336,
    "start_time": "2021-12-09T08:19:42.618Z"
   },
   {
    "duration": 371,
    "start_time": "2021-12-09T08:19:42.957Z"
   },
   {
    "duration": 374,
    "start_time": "2021-12-09T08:19:43.331Z"
   },
   {
    "duration": 3,
    "start_time": "2021-12-09T08:19:43.707Z"
   },
   {
    "duration": 3,
    "start_time": "2021-12-09T08:19:43.717Z"
   },
   {
    "duration": 378,
    "start_time": "2021-12-09T08:19:43.722Z"
   },
   {
    "duration": 371,
    "start_time": "2021-12-09T08:19:44.103Z"
   },
   {
    "duration": 6,
    "start_time": "2021-12-09T08:19:44.476Z"
   },
   {
    "duration": 386,
    "start_time": "2021-12-09T08:19:44.484Z"
   },
   {
    "duration": 6,
    "start_time": "2021-12-09T08:19:44.872Z"
   },
   {
    "duration": 10,
    "start_time": "2021-12-09T08:19:44.881Z"
   },
   {
    "duration": 73,
    "start_time": "2021-12-09T08:19:44.893Z"
   },
   {
    "duration": 64,
    "start_time": "2021-12-09T08:19:44.969Z"
   },
   {
    "duration": 532,
    "start_time": "2021-12-09T08:19:45.036Z"
   },
   {
    "duration": 221,
    "start_time": "2021-12-09T08:19:45.570Z"
   },
   {
    "duration": 385,
    "start_time": "2021-12-09T08:19:45.817Z"
   },
   {
    "duration": 328,
    "start_time": "2021-12-09T08:19:46.204Z"
   },
   {
    "duration": 387,
    "start_time": "2021-12-09T08:19:46.534Z"
   },
   {
    "duration": 447,
    "start_time": "2021-12-09T08:19:46.924Z"
   },
   {
    "duration": 392,
    "start_time": "2021-12-09T08:19:47.373Z"
   },
   {
    "duration": 368,
    "start_time": "2021-12-09T08:19:47.767Z"
   }
  ],
  "kernelspec": {
   "display_name": "Python 3",
   "language": "python",
   "name": "python3"
  },
  "language_info": {
   "codemirror_mode": {
    "name": "ipython",
    "version": 3
   },
   "file_extension": ".py",
   "mimetype": "text/x-python",
   "name": "python",
   "nbconvert_exporter": "python",
   "pygments_lexer": "ipython3",
   "version": "3.8.8"
  },
  "toc": {
   "base_numbering": 1,
   "nav_menu": {},
   "number_sections": true,
   "sideBar": true,
   "skip_h1_title": true,
   "title_cell": "Содержание",
   "title_sidebar": "Contents",
   "toc_cell": true,
   "toc_position": {
    "height": "calc(100% - 180px)",
    "left": "10px",
    "top": "150px",
    "width": "165px"
   },
   "toc_section_display": true,
   "toc_window_display": true
  }
 },
 "nbformat": 4,
 "nbformat_minor": 2
}
