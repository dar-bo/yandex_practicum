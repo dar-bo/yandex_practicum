{
 "cells": [
  {
   "cell_type": "markdown",
   "metadata": {},
   "source": [
    "# Определение стоимости автомобилей"
   ]
  },
  {
   "cell_type": "markdown",
   "metadata": {},
   "source": [
    "**Признаки:**\n",
    "* DateCrawled — дата скачивания анкеты из базы\n",
    "* VehicleType — тип автомобильного кузова\n",
    "* RegistrationYear — год регистрации автомобиля\n",
    "* Gearbox — тип коробки передач\n",
    "* Power — мощность (л. с.)\n",
    "* Model — модель автомобиля\n",
    "* Kilometer — пробег (км)\n",
    "* RegistrationMonth — месяц регистрации автомобиля\n",
    "* FuelType — тип топлива\n",
    "* Brand — марка автомобиля\n",
    "* NotRepaired — была машина в ремонте или нет\n",
    "* DateCreated — дата создания анкеты\n",
    "* NumberOfPictures — количество фотографий автомобиля\n",
    "* PostalCode — почтовый индекс владельца анкеты (пользователя)\n",
    "* LastSeen — дата последней активности пользователя\n",
    "\n",
    "**Целевой признак:**\n",
    "* Price — цена (евро)"
   ]
  },
  {
   "cell_type": "markdown",
   "metadata": {},
   "source": [
    "**Для оценки качества моделей применяется метрика RMSE.**"
   ]
  },
  {
   "cell_type": "markdown",
   "metadata": {},
   "source": [
    "## Подготовка данных"
   ]
  },
  {
   "cell_type": "code",
   "execution_count": 1,
   "metadata": {},
   "outputs": [],
   "source": [
    "import pandas as pd\n",
    "from sklearn.preprocessing import StandardScaler\n",
    "from sklearn.model_selection import train_test_split\n",
    "from sklearn.metrics import mean_squared_error, make_scorer\n",
    "from catboost import CatBoostRegressor\n",
    "from sklearn.preprocessing import OrdinalEncoder\n",
    "from lightgbm import LGBMRegressor\n",
    "from sklearn.ensemble import RandomForestRegressor\n",
    "from sklearn.linear_model import LinearRegression\n",
    "\n"
   ]
  },
  {
   "cell_type": "code",
   "execution_count": 2,
   "metadata": {},
   "outputs": [],
   "source": [
    "df = pd.read_csv('/datasets/autos.csv')"
   ]
  },
  {
   "cell_type": "code",
   "execution_count": 3,
   "metadata": {},
   "outputs": [
    {
     "data": {
      "text/html": [
       "<div>\n",
       "<style scoped>\n",
       "    .dataframe tbody tr th:only-of-type {\n",
       "        vertical-align: middle;\n",
       "    }\n",
       "\n",
       "    .dataframe tbody tr th {\n",
       "        vertical-align: top;\n",
       "    }\n",
       "\n",
       "    .dataframe thead th {\n",
       "        text-align: right;\n",
       "    }\n",
       "</style>\n",
       "<table border=\"1\" class=\"dataframe\">\n",
       "  <thead>\n",
       "    <tr style=\"text-align: right;\">\n",
       "      <th></th>\n",
       "      <th>DateCrawled</th>\n",
       "      <th>Price</th>\n",
       "      <th>VehicleType</th>\n",
       "      <th>RegistrationYear</th>\n",
       "      <th>Gearbox</th>\n",
       "      <th>Power</th>\n",
       "      <th>Model</th>\n",
       "      <th>Kilometer</th>\n",
       "      <th>RegistrationMonth</th>\n",
       "      <th>FuelType</th>\n",
       "      <th>Brand</th>\n",
       "      <th>NotRepaired</th>\n",
       "      <th>DateCreated</th>\n",
       "      <th>NumberOfPictures</th>\n",
       "      <th>PostalCode</th>\n",
       "      <th>LastSeen</th>\n",
       "    </tr>\n",
       "  </thead>\n",
       "  <tbody>\n",
       "    <tr>\n",
       "      <th>0</th>\n",
       "      <td>2016-03-24 11:52:17</td>\n",
       "      <td>480</td>\n",
       "      <td>NaN</td>\n",
       "      <td>1993</td>\n",
       "      <td>manual</td>\n",
       "      <td>0</td>\n",
       "      <td>golf</td>\n",
       "      <td>150000</td>\n",
       "      <td>0</td>\n",
       "      <td>petrol</td>\n",
       "      <td>volkswagen</td>\n",
       "      <td>NaN</td>\n",
       "      <td>2016-03-24 00:00:00</td>\n",
       "      <td>0</td>\n",
       "      <td>70435</td>\n",
       "      <td>2016-04-07 03:16:57</td>\n",
       "    </tr>\n",
       "    <tr>\n",
       "      <th>1</th>\n",
       "      <td>2016-03-24 10:58:45</td>\n",
       "      <td>18300</td>\n",
       "      <td>coupe</td>\n",
       "      <td>2011</td>\n",
       "      <td>manual</td>\n",
       "      <td>190</td>\n",
       "      <td>NaN</td>\n",
       "      <td>125000</td>\n",
       "      <td>5</td>\n",
       "      <td>gasoline</td>\n",
       "      <td>audi</td>\n",
       "      <td>yes</td>\n",
       "      <td>2016-03-24 00:00:00</td>\n",
       "      <td>0</td>\n",
       "      <td>66954</td>\n",
       "      <td>2016-04-07 01:46:50</td>\n",
       "    </tr>\n",
       "    <tr>\n",
       "      <th>2</th>\n",
       "      <td>2016-03-14 12:52:21</td>\n",
       "      <td>9800</td>\n",
       "      <td>suv</td>\n",
       "      <td>2004</td>\n",
       "      <td>auto</td>\n",
       "      <td>163</td>\n",
       "      <td>grand</td>\n",
       "      <td>125000</td>\n",
       "      <td>8</td>\n",
       "      <td>gasoline</td>\n",
       "      <td>jeep</td>\n",
       "      <td>NaN</td>\n",
       "      <td>2016-03-14 00:00:00</td>\n",
       "      <td>0</td>\n",
       "      <td>90480</td>\n",
       "      <td>2016-04-05 12:47:46</td>\n",
       "    </tr>\n",
       "    <tr>\n",
       "      <th>3</th>\n",
       "      <td>2016-03-17 16:54:04</td>\n",
       "      <td>1500</td>\n",
       "      <td>small</td>\n",
       "      <td>2001</td>\n",
       "      <td>manual</td>\n",
       "      <td>75</td>\n",
       "      <td>golf</td>\n",
       "      <td>150000</td>\n",
       "      <td>6</td>\n",
       "      <td>petrol</td>\n",
       "      <td>volkswagen</td>\n",
       "      <td>no</td>\n",
       "      <td>2016-03-17 00:00:00</td>\n",
       "      <td>0</td>\n",
       "      <td>91074</td>\n",
       "      <td>2016-03-17 17:40:17</td>\n",
       "    </tr>\n",
       "    <tr>\n",
       "      <th>4</th>\n",
       "      <td>2016-03-31 17:25:20</td>\n",
       "      <td>3600</td>\n",
       "      <td>small</td>\n",
       "      <td>2008</td>\n",
       "      <td>manual</td>\n",
       "      <td>69</td>\n",
       "      <td>fabia</td>\n",
       "      <td>90000</td>\n",
       "      <td>7</td>\n",
       "      <td>gasoline</td>\n",
       "      <td>skoda</td>\n",
       "      <td>no</td>\n",
       "      <td>2016-03-31 00:00:00</td>\n",
       "      <td>0</td>\n",
       "      <td>60437</td>\n",
       "      <td>2016-04-06 10:17:21</td>\n",
       "    </tr>\n",
       "  </tbody>\n",
       "</table>\n",
       "</div>"
      ],
      "text/plain": [
       "           DateCrawled  Price VehicleType  RegistrationYear Gearbox  Power  \\\n",
       "0  2016-03-24 11:52:17    480         NaN              1993  manual      0   \n",
       "1  2016-03-24 10:58:45  18300       coupe              2011  manual    190   \n",
       "2  2016-03-14 12:52:21   9800         suv              2004    auto    163   \n",
       "3  2016-03-17 16:54:04   1500       small              2001  manual     75   \n",
       "4  2016-03-31 17:25:20   3600       small              2008  manual     69   \n",
       "\n",
       "   Model  Kilometer  RegistrationMonth  FuelType       Brand NotRepaired  \\\n",
       "0   golf     150000                  0    petrol  volkswagen         NaN   \n",
       "1    NaN     125000                  5  gasoline        audi         yes   \n",
       "2  grand     125000                  8  gasoline        jeep         NaN   \n",
       "3   golf     150000                  6    petrol  volkswagen          no   \n",
       "4  fabia      90000                  7  gasoline       skoda          no   \n",
       "\n",
       "           DateCreated  NumberOfPictures  PostalCode             LastSeen  \n",
       "0  2016-03-24 00:00:00                 0       70435  2016-04-07 03:16:57  \n",
       "1  2016-03-24 00:00:00                 0       66954  2016-04-07 01:46:50  \n",
       "2  2016-03-14 00:00:00                 0       90480  2016-04-05 12:47:46  \n",
       "3  2016-03-17 00:00:00                 0       91074  2016-03-17 17:40:17  \n",
       "4  2016-03-31 00:00:00                 0       60437  2016-04-06 10:17:21  "
      ]
     },
     "execution_count": 3,
     "metadata": {},
     "output_type": "execute_result"
    }
   ],
   "source": [
    "df.head()"
   ]
  },
  {
   "cell_type": "code",
   "execution_count": 4,
   "metadata": {},
   "outputs": [
    {
     "name": "stdout",
     "output_type": "stream",
     "text": [
      "<class 'pandas.core.frame.DataFrame'>\n",
      "RangeIndex: 354369 entries, 0 to 354368\n",
      "Data columns (total 16 columns):\n",
      " #   Column             Non-Null Count   Dtype \n",
      "---  ------             --------------   ----- \n",
      " 0   DateCrawled        354369 non-null  object\n",
      " 1   Price              354369 non-null  int64 \n",
      " 2   VehicleType        316879 non-null  object\n",
      " 3   RegistrationYear   354369 non-null  int64 \n",
      " 4   Gearbox            334536 non-null  object\n",
      " 5   Power              354369 non-null  int64 \n",
      " 6   Model              334664 non-null  object\n",
      " 7   Kilometer          354369 non-null  int64 \n",
      " 8   RegistrationMonth  354369 non-null  int64 \n",
      " 9   FuelType           321474 non-null  object\n",
      " 10  Brand              354369 non-null  object\n",
      " 11  NotRepaired        283215 non-null  object\n",
      " 12  DateCreated        354369 non-null  object\n",
      " 13  NumberOfPictures   354369 non-null  int64 \n",
      " 14  PostalCode         354369 non-null  int64 \n",
      " 15  LastSeen           354369 non-null  object\n",
      "dtypes: int64(7), object(9)\n",
      "memory usage: 43.3+ MB\n"
     ]
    }
   ],
   "source": [
    "df.info()"
   ]
  },
  {
   "cell_type": "code",
   "execution_count": 5,
   "metadata": {},
   "outputs": [
    {
     "data": {
      "text/plain": [
       "4"
      ]
     },
     "execution_count": 5,
     "metadata": {},
     "output_type": "execute_result"
    }
   ],
   "source": [
    "df.duplicated().sum()"
   ]
  },
  {
   "cell_type": "code",
   "execution_count": 6,
   "metadata": {},
   "outputs": [
    {
     "data": {
      "text/html": [
       "<div>\n",
       "<style scoped>\n",
       "    .dataframe tbody tr th:only-of-type {\n",
       "        vertical-align: middle;\n",
       "    }\n",
       "\n",
       "    .dataframe tbody tr th {\n",
       "        vertical-align: top;\n",
       "    }\n",
       "\n",
       "    .dataframe thead th {\n",
       "        text-align: right;\n",
       "    }\n",
       "</style>\n",
       "<table border=\"1\" class=\"dataframe\">\n",
       "  <thead>\n",
       "    <tr style=\"text-align: right;\">\n",
       "      <th></th>\n",
       "      <th>DateCrawled</th>\n",
       "      <th>Price</th>\n",
       "      <th>VehicleType</th>\n",
       "      <th>RegistrationYear</th>\n",
       "      <th>Gearbox</th>\n",
       "      <th>Power</th>\n",
       "      <th>Model</th>\n",
       "      <th>Kilometer</th>\n",
       "      <th>RegistrationMonth</th>\n",
       "      <th>FuelType</th>\n",
       "      <th>Brand</th>\n",
       "      <th>NotRepaired</th>\n",
       "      <th>DateCreated</th>\n",
       "      <th>NumberOfPictures</th>\n",
       "      <th>PostalCode</th>\n",
       "      <th>LastSeen</th>\n",
       "    </tr>\n",
       "  </thead>\n",
       "  <tbody>\n",
       "    <tr>\n",
       "      <th>0</th>\n",
       "      <td>2016-03-24 11:52:17</td>\n",
       "      <td>480</td>\n",
       "      <td>NaN</td>\n",
       "      <td>1993</td>\n",
       "      <td>manual</td>\n",
       "      <td>0</td>\n",
       "      <td>golf</td>\n",
       "      <td>150000</td>\n",
       "      <td>0</td>\n",
       "      <td>petrol</td>\n",
       "      <td>volkswagen</td>\n",
       "      <td>NaN</td>\n",
       "      <td>2016-03-24 00:00:00</td>\n",
       "      <td>0</td>\n",
       "      <td>70435</td>\n",
       "      <td>2016-04-07 03:16:57</td>\n",
       "    </tr>\n",
       "    <tr>\n",
       "      <th>1</th>\n",
       "      <td>2016-03-24 10:58:45</td>\n",
       "      <td>18300</td>\n",
       "      <td>coupe</td>\n",
       "      <td>2011</td>\n",
       "      <td>manual</td>\n",
       "      <td>190</td>\n",
       "      <td>NaN</td>\n",
       "      <td>125000</td>\n",
       "      <td>5</td>\n",
       "      <td>gasoline</td>\n",
       "      <td>audi</td>\n",
       "      <td>yes</td>\n",
       "      <td>2016-03-24 00:00:00</td>\n",
       "      <td>0</td>\n",
       "      <td>66954</td>\n",
       "      <td>2016-04-07 01:46:50</td>\n",
       "    </tr>\n",
       "    <tr>\n",
       "      <th>2</th>\n",
       "      <td>2016-03-14 12:52:21</td>\n",
       "      <td>9800</td>\n",
       "      <td>suv</td>\n",
       "      <td>2004</td>\n",
       "      <td>auto</td>\n",
       "      <td>163</td>\n",
       "      <td>grand</td>\n",
       "      <td>125000</td>\n",
       "      <td>8</td>\n",
       "      <td>gasoline</td>\n",
       "      <td>jeep</td>\n",
       "      <td>NaN</td>\n",
       "      <td>2016-03-14 00:00:00</td>\n",
       "      <td>0</td>\n",
       "      <td>90480</td>\n",
       "      <td>2016-04-05 12:47:46</td>\n",
       "    </tr>\n",
       "    <tr>\n",
       "      <th>3</th>\n",
       "      <td>2016-03-17 16:54:04</td>\n",
       "      <td>1500</td>\n",
       "      <td>small</td>\n",
       "      <td>2001</td>\n",
       "      <td>manual</td>\n",
       "      <td>75</td>\n",
       "      <td>golf</td>\n",
       "      <td>150000</td>\n",
       "      <td>6</td>\n",
       "      <td>petrol</td>\n",
       "      <td>volkswagen</td>\n",
       "      <td>no</td>\n",
       "      <td>2016-03-17 00:00:00</td>\n",
       "      <td>0</td>\n",
       "      <td>91074</td>\n",
       "      <td>2016-03-17 17:40:17</td>\n",
       "    </tr>\n",
       "    <tr>\n",
       "      <th>4</th>\n",
       "      <td>2016-03-31 17:25:20</td>\n",
       "      <td>3600</td>\n",
       "      <td>small</td>\n",
       "      <td>2008</td>\n",
       "      <td>manual</td>\n",
       "      <td>69</td>\n",
       "      <td>fabia</td>\n",
       "      <td>90000</td>\n",
       "      <td>7</td>\n",
       "      <td>gasoline</td>\n",
       "      <td>skoda</td>\n",
       "      <td>no</td>\n",
       "      <td>2016-03-31 00:00:00</td>\n",
       "      <td>0</td>\n",
       "      <td>60437</td>\n",
       "      <td>2016-04-06 10:17:21</td>\n",
       "    </tr>\n",
       "  </tbody>\n",
       "</table>\n",
       "</div>"
      ],
      "text/plain": [
       "           DateCrawled  Price VehicleType  RegistrationYear Gearbox  Power  \\\n",
       "0  2016-03-24 11:52:17    480         NaN              1993  manual      0   \n",
       "1  2016-03-24 10:58:45  18300       coupe              2011  manual    190   \n",
       "2  2016-03-14 12:52:21   9800         suv              2004    auto    163   \n",
       "3  2016-03-17 16:54:04   1500       small              2001  manual     75   \n",
       "4  2016-03-31 17:25:20   3600       small              2008  manual     69   \n",
       "\n",
       "   Model  Kilometer  RegistrationMonth  FuelType       Brand NotRepaired  \\\n",
       "0   golf     150000                  0    petrol  volkswagen         NaN   \n",
       "1    NaN     125000                  5  gasoline        audi         yes   \n",
       "2  grand     125000                  8  gasoline        jeep         NaN   \n",
       "3   golf     150000                  6    petrol  volkswagen          no   \n",
       "4  fabia      90000                  7  gasoline       skoda          no   \n",
       "\n",
       "           DateCreated  NumberOfPictures  PostalCode             LastSeen  \n",
       "0  2016-03-24 00:00:00                 0       70435  2016-04-07 03:16:57  \n",
       "1  2016-03-24 00:00:00                 0       66954  2016-04-07 01:46:50  \n",
       "2  2016-03-14 00:00:00                 0       90480  2016-04-05 12:47:46  \n",
       "3  2016-03-17 00:00:00                 0       91074  2016-03-17 17:40:17  \n",
       "4  2016-03-31 00:00:00                 0       60437  2016-04-06 10:17:21  "
      ]
     },
     "metadata": {},
     "output_type": "display_data"
    }
   ],
   "source": [
    "df = df.drop_duplicates()\n",
    "display(df.head())"
   ]
  },
  {
   "cell_type": "code",
   "execution_count": 7,
   "metadata": {
    "scrolled": true
   },
   "outputs": [
    {
     "data": {
      "text/plain": [
       "DateCrawled              0\n",
       "Price                    0\n",
       "VehicleType          37490\n",
       "RegistrationYear         0\n",
       "Gearbox              19833\n",
       "Power                    0\n",
       "Model                19705\n",
       "Kilometer                0\n",
       "RegistrationMonth        0\n",
       "FuelType             32895\n",
       "Brand                    0\n",
       "NotRepaired          71154\n",
       "DateCreated              0\n",
       "NumberOfPictures         0\n",
       "PostalCode               0\n",
       "LastSeen                 0\n",
       "dtype: int64"
      ]
     },
     "execution_count": 7,
     "metadata": {},
     "output_type": "execute_result"
    }
   ],
   "source": [
    "df.isna().sum()"
   ]
  },
  {
   "cell_type": "code",
   "execution_count": 8,
   "metadata": {},
   "outputs": [],
   "source": [
    "# так как эти параметры имеюют важное значения для ценообразования, поэтому пропуски с ними удаляем\n",
    "df.dropna(subset=['Model', 'VehicleType', 'Gearbox', 'FuelType'], inplace=True)"
   ]
  },
  {
   "cell_type": "code",
   "execution_count": 9,
   "metadata": {},
   "outputs": [],
   "source": [
    "# данные не имеют отношения к техническим характеристикам, поэтому не влияют на стоимось. Необходимости в них нет\n",
    "df.drop(['DateCrawled', 'RegistrationMonth', 'DateCreated', 'NumberOfPictures', 'PostalCode', 'LastSeen'], axis=1, inplace=True)"
   ]
  },
  {
   "cell_type": "code",
   "execution_count": 10,
   "metadata": {},
   "outputs": [],
   "source": [
    "# пропуски в столбце с большой долей вероятности могут означать, что машина не была в ремонте, поэтому заполняю соответствующе\n",
    "df['NotRepaired'] = df['NotRepaired'].fillna('No')"
   ]
  },
  {
   "cell_type": "code",
   "execution_count": 11,
   "metadata": {},
   "outputs": [
    {
     "name": "stdout",
     "output_type": "stream",
     "text": [
      "<class 'pandas.core.frame.DataFrame'>\n",
      "Int64Index: 284122 entries, 2 to 354368\n",
      "Data columns (total 10 columns):\n",
      " #   Column            Non-Null Count   Dtype \n",
      "---  ------            --------------   ----- \n",
      " 0   Price             284122 non-null  int64 \n",
      " 1   VehicleType       284122 non-null  object\n",
      " 2   RegistrationYear  284122 non-null  int64 \n",
      " 3   Gearbox           284122 non-null  object\n",
      " 4   Power             284122 non-null  int64 \n",
      " 5   Model             284122 non-null  object\n",
      " 6   Kilometer         284122 non-null  int64 \n",
      " 7   FuelType          284122 non-null  object\n",
      " 8   Brand             284122 non-null  object\n",
      " 9   NotRepaired       284122 non-null  object\n",
      "dtypes: int64(4), object(6)\n",
      "memory usage: 23.8+ MB\n"
     ]
    }
   ],
   "source": [
    "df.info()"
   ]
  },
  {
   "cell_type": "code",
   "execution_count": 12,
   "metadata": {},
   "outputs": [
    {
     "data": {
      "text/html": [
       "<div>\n",
       "<style scoped>\n",
       "    .dataframe tbody tr th:only-of-type {\n",
       "        vertical-align: middle;\n",
       "    }\n",
       "\n",
       "    .dataframe tbody tr th {\n",
       "        vertical-align: top;\n",
       "    }\n",
       "\n",
       "    .dataframe thead th {\n",
       "        text-align: right;\n",
       "    }\n",
       "</style>\n",
       "<table border=\"1\" class=\"dataframe\">\n",
       "  <thead>\n",
       "    <tr style=\"text-align: right;\">\n",
       "      <th></th>\n",
       "      <th>Price</th>\n",
       "      <th>RegistrationYear</th>\n",
       "      <th>Power</th>\n",
       "      <th>Kilometer</th>\n",
       "    </tr>\n",
       "  </thead>\n",
       "  <tbody>\n",
       "    <tr>\n",
       "      <th>Price</th>\n",
       "      <td>1.000000</td>\n",
       "      <td>0.548496</td>\n",
       "      <td>0.167917</td>\n",
       "      <td>-0.386358</td>\n",
       "    </tr>\n",
       "    <tr>\n",
       "      <th>RegistrationYear</th>\n",
       "      <td>0.548496</td>\n",
       "      <td>1.000000</td>\n",
       "      <td>0.063803</td>\n",
       "      <td>-0.325723</td>\n",
       "    </tr>\n",
       "    <tr>\n",
       "      <th>Power</th>\n",
       "      <td>0.167917</td>\n",
       "      <td>0.063803</td>\n",
       "      <td>1.000000</td>\n",
       "      <td>0.022887</td>\n",
       "    </tr>\n",
       "    <tr>\n",
       "      <th>Kilometer</th>\n",
       "      <td>-0.386358</td>\n",
       "      <td>-0.325723</td>\n",
       "      <td>0.022887</td>\n",
       "      <td>1.000000</td>\n",
       "    </tr>\n",
       "  </tbody>\n",
       "</table>\n",
       "</div>"
      ],
      "text/plain": [
       "                     Price  RegistrationYear     Power  Kilometer\n",
       "Price             1.000000          0.548496  0.167917  -0.386358\n",
       "RegistrationYear  0.548496          1.000000  0.063803  -0.325723\n",
       "Power             0.167917          0.063803  1.000000   0.022887\n",
       "Kilometer        -0.386358         -0.325723  0.022887   1.000000"
      ]
     },
     "execution_count": 12,
     "metadata": {},
     "output_type": "execute_result"
    }
   ],
   "source": [
    "df.corr()"
   ]
  },
  {
   "cell_type": "code",
   "execution_count": 13,
   "metadata": {},
   "outputs": [
    {
     "data": {
      "text/html": [
       "<div>\n",
       "<style scoped>\n",
       "    .dataframe tbody tr th:only-of-type {\n",
       "        vertical-align: middle;\n",
       "    }\n",
       "\n",
       "    .dataframe tbody tr th {\n",
       "        vertical-align: top;\n",
       "    }\n",
       "\n",
       "    .dataframe thead th {\n",
       "        text-align: right;\n",
       "    }\n",
       "</style>\n",
       "<table border=\"1\" class=\"dataframe\">\n",
       "  <thead>\n",
       "    <tr style=\"text-align: right;\">\n",
       "      <th></th>\n",
       "      <th>Price</th>\n",
       "      <th>VehicleType</th>\n",
       "      <th>RegistrationYear</th>\n",
       "      <th>Gearbox</th>\n",
       "      <th>Power</th>\n",
       "      <th>Model</th>\n",
       "      <th>Kilometer</th>\n",
       "      <th>FuelType</th>\n",
       "      <th>Brand</th>\n",
       "      <th>NotRepaired</th>\n",
       "    </tr>\n",
       "  </thead>\n",
       "  <tbody>\n",
       "    <tr>\n",
       "      <th>2</th>\n",
       "      <td>9800</td>\n",
       "      <td>suv</td>\n",
       "      <td>2004</td>\n",
       "      <td>auto</td>\n",
       "      <td>163</td>\n",
       "      <td>grand</td>\n",
       "      <td>125000</td>\n",
       "      <td>gasoline</td>\n",
       "      <td>jeep</td>\n",
       "      <td>No</td>\n",
       "    </tr>\n",
       "    <tr>\n",
       "      <th>3</th>\n",
       "      <td>1500</td>\n",
       "      <td>small</td>\n",
       "      <td>2001</td>\n",
       "      <td>manual</td>\n",
       "      <td>75</td>\n",
       "      <td>golf</td>\n",
       "      <td>150000</td>\n",
       "      <td>petrol</td>\n",
       "      <td>volkswagen</td>\n",
       "      <td>no</td>\n",
       "    </tr>\n",
       "    <tr>\n",
       "      <th>4</th>\n",
       "      <td>3600</td>\n",
       "      <td>small</td>\n",
       "      <td>2008</td>\n",
       "      <td>manual</td>\n",
       "      <td>69</td>\n",
       "      <td>fabia</td>\n",
       "      <td>90000</td>\n",
       "      <td>gasoline</td>\n",
       "      <td>skoda</td>\n",
       "      <td>no</td>\n",
       "    </tr>\n",
       "    <tr>\n",
       "      <th>5</th>\n",
       "      <td>650</td>\n",
       "      <td>sedan</td>\n",
       "      <td>1995</td>\n",
       "      <td>manual</td>\n",
       "      <td>102</td>\n",
       "      <td>3er</td>\n",
       "      <td>150000</td>\n",
       "      <td>petrol</td>\n",
       "      <td>bmw</td>\n",
       "      <td>yes</td>\n",
       "    </tr>\n",
       "    <tr>\n",
       "      <th>6</th>\n",
       "      <td>2200</td>\n",
       "      <td>convertible</td>\n",
       "      <td>2004</td>\n",
       "      <td>manual</td>\n",
       "      <td>109</td>\n",
       "      <td>2_reihe</td>\n",
       "      <td>150000</td>\n",
       "      <td>petrol</td>\n",
       "      <td>peugeot</td>\n",
       "      <td>no</td>\n",
       "    </tr>\n",
       "  </tbody>\n",
       "</table>\n",
       "</div>"
      ],
      "text/plain": [
       "   Price  VehicleType  RegistrationYear Gearbox  Power    Model  Kilometer  \\\n",
       "2   9800          suv              2004    auto    163    grand     125000   \n",
       "3   1500        small              2001  manual     75     golf     150000   \n",
       "4   3600        small              2008  manual     69    fabia      90000   \n",
       "5    650        sedan              1995  manual    102      3er     150000   \n",
       "6   2200  convertible              2004  manual    109  2_reihe     150000   \n",
       "\n",
       "   FuelType       Brand NotRepaired  \n",
       "2  gasoline        jeep          No  \n",
       "3    petrol  volkswagen          no  \n",
       "4  gasoline       skoda          no  \n",
       "5    petrol         bmw         yes  \n",
       "6    petrol     peugeot          no  "
      ]
     },
     "execution_count": 13,
     "metadata": {},
     "output_type": "execute_result"
    }
   ],
   "source": [
    "df.head()"
   ]
  },
  {
   "cell_type": "code",
   "execution_count": 14,
   "metadata": {},
   "outputs": [
    {
     "data": {
      "text/html": [
       "<div>\n",
       "<style scoped>\n",
       "    .dataframe tbody tr th:only-of-type {\n",
       "        vertical-align: middle;\n",
       "    }\n",
       "\n",
       "    .dataframe tbody tr th {\n",
       "        vertical-align: top;\n",
       "    }\n",
       "\n",
       "    .dataframe thead th {\n",
       "        text-align: right;\n",
       "    }\n",
       "</style>\n",
       "<table border=\"1\" class=\"dataframe\">\n",
       "  <thead>\n",
       "    <tr style=\"text-align: right;\">\n",
       "      <th></th>\n",
       "      <th>Price</th>\n",
       "      <th>VehicleType</th>\n",
       "      <th>RegistrationYear</th>\n",
       "      <th>Gearbox</th>\n",
       "      <th>Power</th>\n",
       "      <th>Model</th>\n",
       "      <th>Kilometer</th>\n",
       "      <th>FuelType</th>\n",
       "      <th>Brand</th>\n",
       "      <th>NotRepaired</th>\n",
       "    </tr>\n",
       "  </thead>\n",
       "  <tbody>\n",
       "    <tr>\n",
       "      <th>187514</th>\n",
       "      <td>1200</td>\n",
       "      <td>small</td>\n",
       "      <td>2003</td>\n",
       "      <td>manual</td>\n",
       "      <td>0</td>\n",
       "      <td>clio</td>\n",
       "      <td>150000</td>\n",
       "      <td>petrol</td>\n",
       "      <td>renault</td>\n",
       "      <td>no</td>\n",
       "    </tr>\n",
       "    <tr>\n",
       "      <th>57562</th>\n",
       "      <td>1700</td>\n",
       "      <td>wagon</td>\n",
       "      <td>1998</td>\n",
       "      <td>manual</td>\n",
       "      <td>0</td>\n",
       "      <td>passat</td>\n",
       "      <td>150000</td>\n",
       "      <td>petrol</td>\n",
       "      <td>volkswagen</td>\n",
       "      <td>no</td>\n",
       "    </tr>\n",
       "    <tr>\n",
       "      <th>57558</th>\n",
       "      <td>2950</td>\n",
       "      <td>small</td>\n",
       "      <td>2007</td>\n",
       "      <td>manual</td>\n",
       "      <td>0</td>\n",
       "      <td>note</td>\n",
       "      <td>100000</td>\n",
       "      <td>petrol</td>\n",
       "      <td>nissan</td>\n",
       "      <td>yes</td>\n",
       "    </tr>\n",
       "    <tr>\n",
       "      <th>57547</th>\n",
       "      <td>700</td>\n",
       "      <td>sedan</td>\n",
       "      <td>1999</td>\n",
       "      <td>manual</td>\n",
       "      <td>0</td>\n",
       "      <td>octavia</td>\n",
       "      <td>150000</td>\n",
       "      <td>petrol</td>\n",
       "      <td>skoda</td>\n",
       "      <td>no</td>\n",
       "    </tr>\n",
       "    <tr>\n",
       "      <th>166074</th>\n",
       "      <td>1800</td>\n",
       "      <td>sedan</td>\n",
       "      <td>1993</td>\n",
       "      <td>manual</td>\n",
       "      <td>0</td>\n",
       "      <td>3er</td>\n",
       "      <td>150000</td>\n",
       "      <td>petrol</td>\n",
       "      <td>bmw</td>\n",
       "      <td>No</td>\n",
       "    </tr>\n",
       "    <tr>\n",
       "      <th>57535</th>\n",
       "      <td>2600</td>\n",
       "      <td>bus</td>\n",
       "      <td>2005</td>\n",
       "      <td>manual</td>\n",
       "      <td>0</td>\n",
       "      <td>golf</td>\n",
       "      <td>150000</td>\n",
       "      <td>gasoline</td>\n",
       "      <td>volkswagen</td>\n",
       "      <td>yes</td>\n",
       "    </tr>\n",
       "    <tr>\n",
       "      <th>166082</th>\n",
       "      <td>700</td>\n",
       "      <td>small</td>\n",
       "      <td>1999</td>\n",
       "      <td>manual</td>\n",
       "      <td>0</td>\n",
       "      <td>2_reihe</td>\n",
       "      <td>150000</td>\n",
       "      <td>petrol</td>\n",
       "      <td>peugeot</td>\n",
       "      <td>no</td>\n",
       "    </tr>\n",
       "    <tr>\n",
       "      <th>303459</th>\n",
       "      <td>1450</td>\n",
       "      <td>wagon</td>\n",
       "      <td>1998</td>\n",
       "      <td>auto</td>\n",
       "      <td>0</td>\n",
       "      <td>vectra</td>\n",
       "      <td>150000</td>\n",
       "      <td>petrol</td>\n",
       "      <td>opel</td>\n",
       "      <td>no</td>\n",
       "    </tr>\n",
       "    <tr>\n",
       "      <th>303460</th>\n",
       "      <td>2900</td>\n",
       "      <td>bus</td>\n",
       "      <td>2006</td>\n",
       "      <td>manual</td>\n",
       "      <td>0</td>\n",
       "      <td>modus</td>\n",
       "      <td>80000</td>\n",
       "      <td>petrol</td>\n",
       "      <td>renault</td>\n",
       "      <td>no</td>\n",
       "    </tr>\n",
       "    <tr>\n",
       "      <th>57521</th>\n",
       "      <td>1100</td>\n",
       "      <td>small</td>\n",
       "      <td>1998</td>\n",
       "      <td>manual</td>\n",
       "      <td>0</td>\n",
       "      <td>corsa</td>\n",
       "      <td>150000</td>\n",
       "      <td>petrol</td>\n",
       "      <td>opel</td>\n",
       "      <td>no</td>\n",
       "    </tr>\n",
       "    <tr>\n",
       "      <th>57516</th>\n",
       "      <td>2900</td>\n",
       "      <td>wagon</td>\n",
       "      <td>2010</td>\n",
       "      <td>manual</td>\n",
       "      <td>0</td>\n",
       "      <td>matiz</td>\n",
       "      <td>80000</td>\n",
       "      <td>petrol</td>\n",
       "      <td>chevrolet</td>\n",
       "      <td>no</td>\n",
       "    </tr>\n",
       "    <tr>\n",
       "      <th>206626</th>\n",
       "      <td>4800</td>\n",
       "      <td>wagon</td>\n",
       "      <td>2007</td>\n",
       "      <td>auto</td>\n",
       "      <td>0</td>\n",
       "      <td>a4</td>\n",
       "      <td>150000</td>\n",
       "      <td>gasoline</td>\n",
       "      <td>audi</td>\n",
       "      <td>No</td>\n",
       "    </tr>\n",
       "    <tr>\n",
       "      <th>206615</th>\n",
       "      <td>990</td>\n",
       "      <td>wagon</td>\n",
       "      <td>1988</td>\n",
       "      <td>manual</td>\n",
       "      <td>0</td>\n",
       "      <td>e_klasse</td>\n",
       "      <td>150000</td>\n",
       "      <td>petrol</td>\n",
       "      <td>mercedes_benz</td>\n",
       "      <td>No</td>\n",
       "    </tr>\n",
       "    <tr>\n",
       "      <th>206614</th>\n",
       "      <td>500</td>\n",
       "      <td>small</td>\n",
       "      <td>2004</td>\n",
       "      <td>manual</td>\n",
       "      <td>0</td>\n",
       "      <td>micra</td>\n",
       "      <td>150000</td>\n",
       "      <td>petrol</td>\n",
       "      <td>nissan</td>\n",
       "      <td>yes</td>\n",
       "    </tr>\n",
       "    <tr>\n",
       "      <th>303488</th>\n",
       "      <td>1499</td>\n",
       "      <td>bus</td>\n",
       "      <td>2004</td>\n",
       "      <td>manual</td>\n",
       "      <td>0</td>\n",
       "      <td>transit</td>\n",
       "      <td>150000</td>\n",
       "      <td>gasoline</td>\n",
       "      <td>ford</td>\n",
       "      <td>yes</td>\n",
       "    </tr>\n",
       "    <tr>\n",
       "      <th>166098</th>\n",
       "      <td>500</td>\n",
       "      <td>small</td>\n",
       "      <td>1998</td>\n",
       "      <td>manual</td>\n",
       "      <td>0</td>\n",
       "      <td>golf</td>\n",
       "      <td>150000</td>\n",
       "      <td>petrol</td>\n",
       "      <td>volkswagen</td>\n",
       "      <td>No</td>\n",
       "    </tr>\n",
       "    <tr>\n",
       "      <th>206610</th>\n",
       "      <td>1200</td>\n",
       "      <td>small</td>\n",
       "      <td>2003</td>\n",
       "      <td>manual</td>\n",
       "      <td>0</td>\n",
       "      <td>megane</td>\n",
       "      <td>150000</td>\n",
       "      <td>petrol</td>\n",
       "      <td>renault</td>\n",
       "      <td>no</td>\n",
       "    </tr>\n",
       "    <tr>\n",
       "      <th>166100</th>\n",
       "      <td>900</td>\n",
       "      <td>convertible</td>\n",
       "      <td>1998</td>\n",
       "      <td>manual</td>\n",
       "      <td>0</td>\n",
       "      <td>megane</td>\n",
       "      <td>150000</td>\n",
       "      <td>petrol</td>\n",
       "      <td>renault</td>\n",
       "      <td>No</td>\n",
       "    </tr>\n",
       "    <tr>\n",
       "      <th>303495</th>\n",
       "      <td>850</td>\n",
       "      <td>bus</td>\n",
       "      <td>1987</td>\n",
       "      <td>auto</td>\n",
       "      <td>0</td>\n",
       "      <td>other</td>\n",
       "      <td>150000</td>\n",
       "      <td>gasoline</td>\n",
       "      <td>chevrolet</td>\n",
       "      <td>yes</td>\n",
       "    </tr>\n",
       "    <tr>\n",
       "      <th>57430</th>\n",
       "      <td>500</td>\n",
       "      <td>small</td>\n",
       "      <td>1998</td>\n",
       "      <td>manual</td>\n",
       "      <td>0</td>\n",
       "      <td>polo</td>\n",
       "      <td>150000</td>\n",
       "      <td>petrol</td>\n",
       "      <td>volkswagen</td>\n",
       "      <td>No</td>\n",
       "    </tr>\n",
       "    <tr>\n",
       "      <th>303511</th>\n",
       "      <td>1700</td>\n",
       "      <td>sedan</td>\n",
       "      <td>2000</td>\n",
       "      <td>manual</td>\n",
       "      <td>0</td>\n",
       "      <td>c_klasse</td>\n",
       "      <td>150000</td>\n",
       "      <td>petrol</td>\n",
       "      <td>mercedes_benz</td>\n",
       "      <td>No</td>\n",
       "    </tr>\n",
       "    <tr>\n",
       "      <th>303519</th>\n",
       "      <td>4950</td>\n",
       "      <td>bus</td>\n",
       "      <td>1998</td>\n",
       "      <td>manual</td>\n",
       "      <td>0</td>\n",
       "      <td>v_klasse</td>\n",
       "      <td>150000</td>\n",
       "      <td>petrol</td>\n",
       "      <td>mercedes_benz</td>\n",
       "      <td>No</td>\n",
       "    </tr>\n",
       "    <tr>\n",
       "      <th>303539</th>\n",
       "      <td>2800</td>\n",
       "      <td>wagon</td>\n",
       "      <td>2006</td>\n",
       "      <td>manual</td>\n",
       "      <td>0</td>\n",
       "      <td>mondeo</td>\n",
       "      <td>150000</td>\n",
       "      <td>gasoline</td>\n",
       "      <td>ford</td>\n",
       "      <td>no</td>\n",
       "    </tr>\n",
       "    <tr>\n",
       "      <th>206591</th>\n",
       "      <td>130</td>\n",
       "      <td>small</td>\n",
       "      <td>1996</td>\n",
       "      <td>manual</td>\n",
       "      <td>0</td>\n",
       "      <td>twingo</td>\n",
       "      <td>150000</td>\n",
       "      <td>petrol</td>\n",
       "      <td>renault</td>\n",
       "      <td>No</td>\n",
       "    </tr>\n",
       "    <tr>\n",
       "      <th>303405</th>\n",
       "      <td>3800</td>\n",
       "      <td>wagon</td>\n",
       "      <td>2008</td>\n",
       "      <td>manual</td>\n",
       "      <td>0</td>\n",
       "      <td>octavia</td>\n",
       "      <td>150000</td>\n",
       "      <td>gasoline</td>\n",
       "      <td>skoda</td>\n",
       "      <td>No</td>\n",
       "    </tr>\n",
       "  </tbody>\n",
       "</table>\n",
       "</div>"
      ],
      "text/plain": [
       "        Price  VehicleType  RegistrationYear Gearbox  Power     Model  \\\n",
       "187514   1200        small              2003  manual      0      clio   \n",
       "57562    1700        wagon              1998  manual      0    passat   \n",
       "57558    2950        small              2007  manual      0      note   \n",
       "57547     700        sedan              1999  manual      0   octavia   \n",
       "166074   1800        sedan              1993  manual      0       3er   \n",
       "57535    2600          bus              2005  manual      0      golf   \n",
       "166082    700        small              1999  manual      0   2_reihe   \n",
       "303459   1450        wagon              1998    auto      0    vectra   \n",
       "303460   2900          bus              2006  manual      0     modus   \n",
       "57521    1100        small              1998  manual      0     corsa   \n",
       "57516    2900        wagon              2010  manual      0     matiz   \n",
       "206626   4800        wagon              2007    auto      0        a4   \n",
       "206615    990        wagon              1988  manual      0  e_klasse   \n",
       "206614    500        small              2004  manual      0     micra   \n",
       "303488   1499          bus              2004  manual      0   transit   \n",
       "166098    500        small              1998  manual      0      golf   \n",
       "206610   1200        small              2003  manual      0    megane   \n",
       "166100    900  convertible              1998  manual      0    megane   \n",
       "303495    850          bus              1987    auto      0     other   \n",
       "57430     500        small              1998  manual      0      polo   \n",
       "303511   1700        sedan              2000  manual      0  c_klasse   \n",
       "303519   4950          bus              1998  manual      0  v_klasse   \n",
       "303539   2800        wagon              2006  manual      0    mondeo   \n",
       "206591    130        small              1996  manual      0    twingo   \n",
       "303405   3800        wagon              2008  manual      0   octavia   \n",
       "\n",
       "        Kilometer  FuelType          Brand NotRepaired  \n",
       "187514     150000    petrol        renault          no  \n",
       "57562      150000    petrol     volkswagen          no  \n",
       "57558      100000    petrol         nissan         yes  \n",
       "57547      150000    petrol          skoda          no  \n",
       "166074     150000    petrol            bmw          No  \n",
       "57535      150000  gasoline     volkswagen         yes  \n",
       "166082     150000    petrol        peugeot          no  \n",
       "303459     150000    petrol           opel          no  \n",
       "303460      80000    petrol        renault          no  \n",
       "57521      150000    petrol           opel          no  \n",
       "57516       80000    petrol      chevrolet          no  \n",
       "206626     150000  gasoline           audi          No  \n",
       "206615     150000    petrol  mercedes_benz          No  \n",
       "206614     150000    petrol         nissan         yes  \n",
       "303488     150000  gasoline           ford         yes  \n",
       "166098     150000    petrol     volkswagen          No  \n",
       "206610     150000    petrol        renault          no  \n",
       "166100     150000    petrol        renault          No  \n",
       "303495     150000  gasoline      chevrolet         yes  \n",
       "57430      150000    petrol     volkswagen          No  \n",
       "303511     150000    petrol  mercedes_benz          No  \n",
       "303519     150000    petrol  mercedes_benz          No  \n",
       "303539     150000  gasoline           ford          no  \n",
       "206591     150000    petrol        renault          No  \n",
       "303405     150000  gasoline          skoda          No  "
      ]
     },
     "execution_count": 14,
     "metadata": {},
     "output_type": "execute_result"
    }
   ],
   "source": [
    "df.sort_values(by=['Power']).head(25)"
   ]
  },
  {
   "cell_type": "code",
   "execution_count": 15,
   "metadata": {
    "scrolled": true
   },
   "outputs": [],
   "source": [
    "drop_index = df[(df['Power'] <= 5.0)].index"
   ]
  },
  {
   "cell_type": "code",
   "execution_count": 16,
   "metadata": {},
   "outputs": [],
   "source": [
    "#удаляю строки, где мощность автомобиля меньше или равна 5 л.с.\n",
    "df = df.drop(drop_index, axis=0)"
   ]
  },
  {
   "cell_type": "code",
   "execution_count": 17,
   "metadata": {},
   "outputs": [],
   "source": [
    "cat_features = ['VehicleType', 'RegistrationYear', 'Gearbox', 'Model', 'FuelType', 'Brand', 'NotRepaired']\n",
    "for feature in cat_features:\n",
    "    df[feature] = df[feature].astype('category')"
   ]
  },
  {
   "cell_type": "code",
   "execution_count": 19,
   "metadata": {},
   "outputs": [],
   "source": [
    "features = df.drop(['Price'], axis=1)"
   ]
  },
  {
   "cell_type": "code",
   "execution_count": 20,
   "metadata": {},
   "outputs": [],
   "source": [
    "target = df['Price']"
   ]
  },
  {
   "cell_type": "code",
   "execution_count": 21,
   "metadata": {},
   "outputs": [],
   "source": [
    "features_train, features_valid, target_train, target_valid = train_test_split(features, target, test_size=0.4,\n",
    "                                                                              random_state=12345)"
   ]
  },
  {
   "cell_type": "code",
   "execution_count": 22,
   "metadata": {},
   "outputs": [],
   "source": [
    "features_valid, features_test, target_valid, target_test = train_test_split(features_valid, target_valid, test_size=0.5, \n",
    "                                                                            random_state=12345)"
   ]
  },
  {
   "cell_type": "code",
   "execution_count": 23,
   "metadata": {},
   "outputs": [
    {
     "name": "stdout",
     "output_type": "stream",
     "text": [
      "(53603, 9) (53603, 9) (160807, 9)\n"
     ]
    }
   ],
   "source": [
    "print(features_valid.shape, features_test.shape, features_train.shape)"
   ]
  },
  {
   "cell_type": "markdown",
   "metadata": {},
   "source": [
    "**Выводы:**\n",
    "* данные загружены \n",
    "* выявлены пропуски в столбцах с техническими характеристиками. Так как заполнить их не представляется возможным, и к тому же  объем данных позволяет, поэтому принято решение их удалить.\n",
    "* пропуски в столбце с информацией о ремонте заполнены отрицательно, основываясь на предположении, что данные об отсутствие ремонта просто не вносили в анкету. \n",
    "* удалены выбросы по мощности\n",
    "* есть небольшая корреляция между ценой и датой регистрации авто.\n",
    "* котегориальные признаки выделены в отдельный список.\n",
    "* данные разделены на обучающиеб валидационные и тестовые в пропорции 60:20:20."
   ]
  },
  {
   "cell_type": "markdown",
   "metadata": {},
   "source": [
    "## Обучение моделей"
   ]
  },
  {
   "cell_type": "markdown",
   "metadata": {},
   "source": [
    "### CatBoost"
   ]
  },
  {
   "cell_type": "code",
   "execution_count": 24,
   "metadata": {},
   "outputs": [],
   "source": [
    "#cat_features = ['VehicleType', 'RegistrationYear', 'Gearbox', 'Model', 'FuelType', 'Brand', 'NotRepaired']\n",
    "cat_model = CatBoostRegressor(loss_function='RMSE', iterations=300, depth=15)"
   ]
  },
  {
   "cell_type": "code",
   "execution_count": 25,
   "metadata": {},
   "outputs": [
    {
     "name": "stdout",
     "output_type": "stream",
     "text": [
      "CPU times: user 7min 49s, sys: 29.6 s, total: 8min 19s\n",
      "Wall time: 8min 19s\n"
     ]
    },
    {
     "data": {
      "text/plain": [
       "<catboost.core.CatBoostRegressor at 0x7fbc4d197940>"
      ]
     },
     "execution_count": 25,
     "metadata": {},
     "output_type": "execute_result"
    }
   ],
   "source": [
    "%%time\n",
    "cat_model.fit(features_train, target_train, cat_features=cat_features, verbose=False)"
   ]
  },
  {
   "cell_type": "code",
   "execution_count": 26,
   "metadata": {},
   "outputs": [
    {
     "name": "stdout",
     "output_type": "stream",
     "text": [
      "CPU times: user 671 ms, sys: 211 µs, total: 671 ms\n",
      "Wall time: 678 ms\n"
     ]
    }
   ],
   "source": [
    "%%time\n",
    "predicted_cat = cat_model.predict(features_valid)\n",
    "result_cb = mean_squared_error(target_valid, predicted_cat) ** 0.5"
   ]
  },
  {
   "cell_type": "code",
   "execution_count": 27,
   "metadata": {},
   "outputs": [
    {
     "name": "stdout",
     "output_type": "stream",
     "text": [
      "RMSE cat_model: 1617.5880026512905\n"
     ]
    }
   ],
   "source": [
    "print('RMSE cat_model:', result_cb)"
   ]
  },
  {
   "cell_type": "markdown",
   "metadata": {},
   "source": [
    "Данная модель показала хороший результат, и времени для обучения требуется немного."
   ]
  },
  {
   "cell_type": "markdown",
   "metadata": {},
   "source": [
    "### LigthGBM"
   ]
  },
  {
   "cell_type": "code",
   "execution_count": 28,
   "metadata": {
    "scrolled": true
   },
   "outputs": [
    {
     "name": "stdout",
     "output_type": "stream",
     "text": [
      "RMSE LGBMRegressor: 1607.677012734649\n",
      "CPU times: user 23min 40s, sys: 8.77 s, total: 23min 49s\n",
      "Wall time: 24min 16s\n"
     ]
    }
   ],
   "source": [
    "%%time\n",
    "from sklearn.model_selection import GridSearchCV\n",
    "\n",
    "score_func = make_scorer(mean_squared_error, greater_is_better=False)\n",
    "\n",
    "model_lg = LGBMRegressor()#n_estimators=500, max_depth=30, random_state=12345)\n",
    "params = {'n_estimators': range(50, 500, 50), 'max_depth': range(20, 60,10)}\n",
    "gridSearchCV = GridSearchCV(estimator = model_lg, \n",
    "    param_grid = params, \n",
    "    scoring=score_func)\n",
    "gridSearchCV.fit(features_train,target_train)\n",
    "predicted_lg = gridSearchCV.predict(features_valid)\n",
    "\n",
    "result_lg = (mean_squared_error(target_valid, predicted_lg) ** 0.5)\n",
    "\n",
    "print('RMSE LGBMRegressor:', result_lg)"
   ]
  },
  {
   "cell_type": "code",
   "execution_count": 29,
   "metadata": {},
   "outputs": [
    {
     "data": {
      "text/plain": [
       "{'max_depth': 20, 'n_estimators': 450}"
      ]
     },
     "execution_count": 29,
     "metadata": {},
     "output_type": "execute_result"
    }
   ],
   "source": [
    "gridSearchCV.best_params_\n"
   ]
  },
  {
   "cell_type": "markdown",
   "metadata": {},
   "source": [
    "Результат этой модели лучше, но зато времени требуется в несколько раз больше"
   ]
  },
  {
   "cell_type": "markdown",
   "metadata": {},
   "source": [
    "### Random Forest"
   ]
  },
  {
   "cell_type": "code",
   "execution_count": 30,
   "metadata": {},
   "outputs": [],
   "source": [
    "#кодирую категориальные признаки и объединяю с оставшимися\n",
    "train_ohe = pd.get_dummies(features_train[cat_features], drop_first=True)\n",
    "features_train_ohe = pd.concat([train_ohe, features_train['Power'], features_train['Kilometer']], axis=1)\n",
    "\n",
    "valid_ohe = pd.get_dummies(features_valid[cat_features], drop_first=True)\n",
    "features_valid_ohe = pd.concat([valid_ohe, features_valid['Power'], features_valid['Kilometer']], axis=1)\n",
    "\n",
    "test_ohe = pd.get_dummies(features_test[cat_features], drop_first=True)\n",
    "features_test_ohe = pd.concat([test_ohe, features_test['Power'], features_test['Kilometer']], axis=1)"
   ]
  },
  {
   "cell_type": "code",
   "execution_count": 31,
   "metadata": {
    "scrolled": true
   },
   "outputs": [
    {
     "name": "stdout",
     "output_type": "stream",
     "text": [
      "RMSE RandomForestRegressor: 1947.5373248915218\n",
      "CPU times: user 14min 53s, sys: 798 ms, total: 14min 54s\n",
      "Wall time: 14min 54s\n"
     ]
    }
   ],
   "source": [
    "%%time\n",
    "model_rf = RandomForestRegressor(n_estimators = 300, max_depth=15, random_state=12345)\n",
    "#grid_SCV = GridSearchCV(estimator = model_rf, \n",
    "#    param_grid = params, \n",
    "#    scoring=score_func)   \n",
    "model_rf.fit(features_train_ohe, target_train)\n",
    "predicted_rf = model_rf.predict(features_valid_ohe)\n",
    "result_rf = (mean_squared_error(target_valid, predicted_rf) ** 0.5)\n",
    "\n",
    "print('RMSE RandomForestRegressor:', result_rf)"
   ]
  },
  {
   "cell_type": "markdown",
   "metadata": {},
   "source": [
    "Результат гораздо хуже, и по времени тоже"
   ]
  },
  {
   "cell_type": "markdown",
   "metadata": {},
   "source": [
    "## Анализ моделей"
   ]
  },
  {
   "cell_type": "code",
   "execution_count": 32,
   "metadata": {},
   "outputs": [
    {
     "name": "stdout",
     "output_type": "stream",
     "text": [
      "RMSE: 1634.161100\n"
     ]
    }
   ],
   "source": [
    "predict = cat_model.predict(features_test)\n",
    "best_result = mean_squared_error(target_test, predict) ** 0.5\n",
    "print('RMSE: {:2f}'.format(best_result))\n"
   ]
  },
  {
   "cell_type": "code",
   "execution_count": 34,
   "metadata": {
    "scrolled": true
   },
   "outputs": [
    {
     "data": {
      "text/html": [
       "<div>\n",
       "<style scoped>\n",
       "    .dataframe tbody tr th:only-of-type {\n",
       "        vertical-align: middle;\n",
       "    }\n",
       "\n",
       "    .dataframe tbody tr th {\n",
       "        vertical-align: top;\n",
       "    }\n",
       "\n",
       "    .dataframe thead th {\n",
       "        text-align: right;\n",
       "    }\n",
       "</style>\n",
       "<table border=\"1\" class=\"dataframe\">\n",
       "  <thead>\n",
       "    <tr style=\"text-align: right;\">\n",
       "      <th></th>\n",
       "      <th>model</th>\n",
       "      <th>RMSE</th>\n",
       "      <th>time to learn</th>\n",
       "    </tr>\n",
       "  </thead>\n",
       "  <tbody>\n",
       "    <tr>\n",
       "      <th>0</th>\n",
       "      <td>catboost</td>\n",
       "      <td>1617.588003</td>\n",
       "      <td>8min 19s</td>\n",
       "    </tr>\n",
       "    <tr>\n",
       "      <th>1</th>\n",
       "      <td>LigthGBM</td>\n",
       "      <td>1607.677013</td>\n",
       "      <td>24min 16s</td>\n",
       "    </tr>\n",
       "    <tr>\n",
       "      <th>2</th>\n",
       "      <td>random_forest</td>\n",
       "      <td>1947.537325</td>\n",
       "      <td>14min 54s</td>\n",
       "    </tr>\n",
       "  </tbody>\n",
       "</table>\n",
       "</div>"
      ],
      "text/plain": [
       "           model         RMSE time to learn\n",
       "0       catboost  1617.588003      8min 19s\n",
       "1       LigthGBM  1607.677013     24min 16s\n",
       "2  random_forest  1947.537325     14min 54s"
      ]
     },
     "metadata": {},
     "output_type": "display_data"
    }
   ],
   "source": [
    "# результаты обучения разных моделей\n",
    "r = pd.DataFrame([['catboost', result_cb, '8min 19s'],\n",
    "                 ['LigthGBM', result_lg, '24min 16s'],\n",
    "                 ['random_forest', result_rf, '14min 54s'],\n",
    "                 ], \n",
    "                columns=['model', 'RMSE', 'time to learn'])\n",
    "display(r)"
   ]
  },
  {
   "cell_type": "markdown",
   "metadata": {},
   "source": [
    "Самый оптимальный результат, на мой взгляд, у модели CatBoost - лучшее соотношение RMSE и времени для обучения."
   ]
  },
  {
   "cell_type": "markdown",
   "metadata": {},
   "source": [
    "## Выводы:\n",
    "* данные загружены\n",
    "* удалены пропуски в столбцах с техническими характеристиками. \n",
    "* пропуски в столбце с информацией о ремонте заполнены.\n",
    "* применено порядковое кодирование категориальных признаков.\n",
    "* данные разделены на обучающие, валидационные и тестовые в пропорции 60:20:20.\n",
    "* обучены несколько моделей.\n",
    "* проанализированы результаты и выбрана лучшая модель - LigthGBM с лучшим соотношение качества и времени."
   ]
  }
 ],
 "metadata": {
  "ExecuteTimeLog": [
   {
    "duration": 474,
    "start_time": "2022-03-29T09:28:17.767Z"
   },
   {
    "duration": 1071,
    "start_time": "2022-03-29T09:28:18.559Z"
   },
   {
    "duration": 19,
    "start_time": "2022-03-29T09:28:44.499Z"
   },
   {
    "duration": 145,
    "start_time": "2022-03-29T09:28:44.923Z"
   },
   {
    "duration": 122,
    "start_time": "2022-03-29T09:29:53.556Z"
   },
   {
    "duration": 467,
    "start_time": "2022-03-29T09:33:45.853Z"
   },
   {
    "duration": 497,
    "start_time": "2022-03-29T09:33:54.566Z"
   },
   {
    "duration": 71,
    "start_time": "2022-03-29T10:26:50.360Z"
   },
   {
    "duration": 614,
    "start_time": "2022-03-29T10:27:04.574Z"
   },
   {
    "duration": 1486,
    "start_time": "2022-03-29T10:27:05.192Z"
   },
   {
    "duration": 42,
    "start_time": "2022-03-29T10:27:06.681Z"
   },
   {
    "duration": 303,
    "start_time": "2022-03-29T10:27:06.727Z"
   },
   {
    "duration": 942,
    "start_time": "2022-03-29T10:27:07.033Z"
   },
   {
    "duration": 292,
    "start_time": "2022-03-29T10:27:07.978Z"
   },
   {
    "duration": 40,
    "start_time": "2022-03-29T10:27:08.272Z"
   },
   {
    "duration": 34,
    "start_time": "2022-03-29T10:27:15.969Z"
   },
   {
    "duration": 510,
    "start_time": "2022-03-29T10:29:58.426Z"
   },
   {
    "duration": 1019,
    "start_time": "2022-03-29T10:29:58.938Z"
   },
   {
    "duration": 29,
    "start_time": "2022-03-29T10:29:59.963Z"
   },
   {
    "duration": 191,
    "start_time": "2022-03-29T10:29:59.994Z"
   },
   {
    "duration": 694,
    "start_time": "2022-03-29T10:30:00.187Z"
   },
   {
    "duration": 174,
    "start_time": "2022-03-29T10:30:00.883Z"
   },
   {
    "duration": 113,
    "start_time": "2022-03-29T10:30:01.059Z"
   },
   {
    "duration": 141,
    "start_time": "2022-03-29T10:31:01.279Z"
   },
   {
    "duration": 155,
    "start_time": "2022-03-29T10:37:16.000Z"
   },
   {
    "duration": 419,
    "start_time": "2022-03-30T09:09:35.658Z"
   },
   {
    "duration": 745,
    "start_time": "2022-03-30T09:09:36.078Z"
   },
   {
    "duration": 19,
    "start_time": "2022-03-30T09:09:36.825Z"
   },
   {
    "duration": 138,
    "start_time": "2022-03-30T09:09:36.847Z"
   },
   {
    "duration": 429,
    "start_time": "2022-03-30T09:09:36.986Z"
   },
   {
    "duration": 123,
    "start_time": "2022-03-30T09:09:37.417Z"
   },
   {
    "duration": 115,
    "start_time": "2022-03-30T09:09:37.541Z"
   },
   {
    "duration": 320,
    "start_time": "2022-03-30T09:12:45.057Z"
   },
   {
    "duration": 93,
    "start_time": "2022-03-30T09:13:07.269Z"
   },
   {
    "duration": 23,
    "start_time": "2022-03-30T09:13:53.492Z"
   },
   {
    "duration": 14,
    "start_time": "2022-03-30T09:13:59.970Z"
   },
   {
    "duration": 61,
    "start_time": "2022-03-30T09:14:18.971Z"
   },
   {
    "duration": 493,
    "start_time": "2022-03-30T09:14:54.882Z"
   },
   {
    "duration": 1182,
    "start_time": "2022-03-30T09:14:55.380Z"
   },
   {
    "duration": 31,
    "start_time": "2022-03-30T09:14:56.564Z"
   },
   {
    "duration": 247,
    "start_time": "2022-03-30T09:14:56.598Z"
   },
   {
    "duration": 696,
    "start_time": "2022-03-30T09:14:56.847Z"
   },
   {
    "duration": 245,
    "start_time": "2022-03-30T09:14:57.545Z"
   },
   {
    "duration": 184,
    "start_time": "2022-03-30T09:14:57.791Z"
   },
   {
    "duration": 27,
    "start_time": "2022-03-30T09:14:57.980Z"
   },
   {
    "duration": 199,
    "start_time": "2022-03-30T09:14:58.009Z"
   },
   {
    "duration": 922,
    "start_time": "2022-03-30T09:28:20.436Z"
   },
   {
    "duration": 30,
    "start_time": "2022-03-30T09:30:13.696Z"
   },
   {
    "duration": 147,
    "start_time": "2022-03-30T09:39:54.347Z"
   },
   {
    "duration": 3,
    "start_time": "2022-03-30T09:40:00.359Z"
   },
   {
    "duration": 208,
    "start_time": "2022-03-30T09:40:01.160Z"
   },
   {
    "duration": 51,
    "start_time": "2022-03-30T09:56:59.599Z"
   },
   {
    "duration": 3,
    "start_time": "2022-03-30T10:01:50.093Z"
   },
   {
    "duration": 7719,
    "start_time": "2022-03-30T10:02:43.205Z"
   },
   {
    "duration": 1119,
    "start_time": "2022-03-30T10:09:14.406Z"
   },
   {
    "duration": 739,
    "start_time": "2022-03-30T10:09:15.527Z"
   },
   {
    "duration": 24,
    "start_time": "2022-03-30T10:09:16.268Z"
   },
   {
    "duration": 133,
    "start_time": "2022-03-30T10:09:16.294Z"
   },
   {
    "duration": 440,
    "start_time": "2022-03-30T10:09:16.428Z"
   },
   {
    "duration": 125,
    "start_time": "2022-03-30T10:09:16.870Z"
   },
   {
    "duration": 114,
    "start_time": "2022-03-30T10:09:16.997Z"
   },
   {
    "duration": 99,
    "start_time": "2022-03-30T10:09:17.113Z"
   },
   {
    "duration": 0,
    "start_time": "2022-03-30T10:09:17.214Z"
   },
   {
    "duration": 0,
    "start_time": "2022-03-30T10:09:17.215Z"
   },
   {
    "duration": 0,
    "start_time": "2022-03-30T10:09:17.216Z"
   },
   {
    "duration": 0,
    "start_time": "2022-03-30T10:09:17.217Z"
   },
   {
    "duration": 0,
    "start_time": "2022-03-30T10:09:17.218Z"
   },
   {
    "duration": 0,
    "start_time": "2022-03-30T10:09:17.219Z"
   },
   {
    "duration": 0,
    "start_time": "2022-03-30T10:09:17.220Z"
   },
   {
    "duration": 46,
    "start_time": "2022-03-30T10:09:32.479Z"
   },
   {
    "duration": 26,
    "start_time": "2022-03-30T10:09:56.555Z"
   },
   {
    "duration": 22,
    "start_time": "2022-03-30T10:09:59.988Z"
   },
   {
    "duration": 67,
    "start_time": "2022-03-30T10:10:00.888Z"
   },
   {
    "duration": 18,
    "start_time": "2022-03-30T10:10:12.971Z"
   },
   {
    "duration": 3,
    "start_time": "2022-03-30T10:10:16.298Z"
   },
   {
    "duration": 60,
    "start_time": "2022-03-30T10:10:17.238Z"
   },
   {
    "duration": 3,
    "start_time": "2022-03-30T10:10:19.719Z"
   },
   {
    "duration": 7603,
    "start_time": "2022-03-30T10:10:20.591Z"
   },
   {
    "duration": 2,
    "start_time": "2022-03-30T10:12:00.762Z"
   },
   {
    "duration": 1340,
    "start_time": "2022-03-30T12:00:08.223Z"
   },
   {
    "duration": 1223,
    "start_time": "2022-03-30T12:02:07.331Z"
   },
   {
    "duration": 839,
    "start_time": "2022-03-30T12:02:08.556Z"
   },
   {
    "duration": 22,
    "start_time": "2022-03-30T12:02:09.396Z"
   },
   {
    "duration": 144,
    "start_time": "2022-03-30T12:02:09.420Z"
   },
   {
    "duration": 512,
    "start_time": "2022-03-30T12:02:09.566Z"
   },
   {
    "duration": 141,
    "start_time": "2022-03-30T12:02:10.080Z"
   },
   {
    "duration": 127,
    "start_time": "2022-03-30T12:02:10.223Z"
   },
   {
    "duration": 28,
    "start_time": "2022-03-30T12:02:10.352Z"
   },
   {
    "duration": 37,
    "start_time": "2022-03-30T12:02:10.382Z"
   },
   {
    "duration": 81,
    "start_time": "2022-03-30T12:02:10.422Z"
   },
   {
    "duration": 614,
    "start_time": "2022-03-30T12:02:10.504Z"
   },
   {
    "duration": 19,
    "start_time": "2022-03-30T12:02:11.120Z"
   },
   {
    "duration": 3,
    "start_time": "2022-03-30T12:02:11.141Z"
   },
   {
    "duration": 89,
    "start_time": "2022-03-30T12:02:11.146Z"
   },
   {
    "duration": 2,
    "start_time": "2022-03-30T12:02:11.238Z"
   },
   {
    "duration": 5628,
    "start_time": "2022-03-30T12:02:11.242Z"
   },
   {
    "duration": 16,
    "start_time": "2022-03-30T12:02:31.591Z"
   },
   {
    "duration": 4,
    "start_time": "2022-03-30T12:02:39.563Z"
   },
   {
    "duration": 43,
    "start_time": "2022-03-30T12:02:47.106Z"
   },
   {
    "duration": 3,
    "start_time": "2022-03-30T12:02:50.228Z"
   },
   {
    "duration": 3051,
    "start_time": "2022-03-30T12:02:51.359Z"
   },
   {
    "duration": 1236,
    "start_time": "2022-03-30T12:03:26.167Z"
   },
   {
    "duration": 15,
    "start_time": "2022-03-30T12:04:27.483Z"
   },
   {
    "duration": 9,
    "start_time": "2022-03-30T12:06:45.379Z"
   },
   {
    "duration": 11,
    "start_time": "2022-03-30T12:07:33.304Z"
   },
   {
    "duration": 10,
    "start_time": "2022-03-30T12:08:14.049Z"
   },
   {
    "duration": 3,
    "start_time": "2022-03-30T12:08:32.836Z"
   },
   {
    "duration": 13,
    "start_time": "2022-03-30T12:08:43.997Z"
   },
   {
    "duration": 13,
    "start_time": "2022-03-30T12:08:52.659Z"
   },
   {
    "duration": 10,
    "start_time": "2022-03-30T12:08:53.576Z"
   },
   {
    "duration": 5,
    "start_time": "2022-03-30T12:09:11.551Z"
   },
   {
    "duration": 5,
    "start_time": "2022-03-30T12:09:55.179Z"
   },
   {
    "duration": 9,
    "start_time": "2022-03-30T12:13:42.689Z"
   },
   {
    "duration": 46,
    "start_time": "2022-03-30T12:14:02.758Z"
   },
   {
    "duration": 61,
    "start_time": "2022-03-30T12:14:14.615Z"
   },
   {
    "duration": 88,
    "start_time": "2022-03-30T12:16:31.817Z"
   },
   {
    "duration": 1885,
    "start_time": "2022-03-30T12:17:18.738Z"
   },
   {
    "duration": 85,
    "start_time": "2022-03-30T12:35:32.074Z"
   },
   {
    "duration": 1858,
    "start_time": "2022-03-30T12:35:33.861Z"
   },
   {
    "duration": 3,
    "start_time": "2022-03-30T12:35:57.540Z"
   },
   {
    "duration": 1404,
    "start_time": "2022-03-30T12:35:59.146Z"
   },
   {
    "duration": 15,
    "start_time": "2022-03-30T12:36:02.650Z"
   },
   {
    "duration": 5,
    "start_time": "2022-03-30T12:36:05.212Z"
   },
   {
    "duration": 3,
    "start_time": "2022-03-30T12:36:24.758Z"
   },
   {
    "duration": 1690,
    "start_time": "2022-03-30T12:36:55.369Z"
   },
   {
    "duration": 15,
    "start_time": "2022-03-30T12:36:58.039Z"
   },
   {
    "duration": 5,
    "start_time": "2022-03-30T12:36:59.207Z"
   },
   {
    "duration": 3,
    "start_time": "2022-03-30T12:37:10.462Z"
   },
   {
    "duration": 2496,
    "start_time": "2022-03-30T12:37:12.722Z"
   },
   {
    "duration": 19,
    "start_time": "2022-03-30T12:37:18.043Z"
   },
   {
    "duration": 5,
    "start_time": "2022-03-30T12:37:19.074Z"
   },
   {
    "duration": 3,
    "start_time": "2022-03-30T12:37:35.457Z"
   },
   {
    "duration": 3447,
    "start_time": "2022-03-30T12:37:36.226Z"
   },
   {
    "duration": 20,
    "start_time": "2022-03-30T12:37:42.153Z"
   },
   {
    "duration": 5,
    "start_time": "2022-03-30T12:37:43.140Z"
   },
   {
    "duration": 3,
    "start_time": "2022-03-30T12:37:52.219Z"
   },
   {
    "duration": 3472,
    "start_time": "2022-03-30T12:37:53.358Z"
   },
   {
    "duration": 21,
    "start_time": "2022-03-30T12:37:57.749Z"
   },
   {
    "duration": 4,
    "start_time": "2022-03-30T12:37:58.756Z"
   },
   {
    "duration": 3,
    "start_time": "2022-03-30T12:38:06.962Z"
   },
   {
    "duration": 5387,
    "start_time": "2022-03-30T12:38:07.973Z"
   },
   {
    "duration": 37,
    "start_time": "2022-03-30T12:38:13.362Z"
   },
   {
    "duration": 5,
    "start_time": "2022-03-30T12:38:13.401Z"
   },
   {
    "duration": 3,
    "start_time": "2022-03-30T12:39:00.084Z"
   },
   {
    "duration": 53735,
    "start_time": "2022-03-30T12:39:00.944Z"
   },
   {
    "duration": 85,
    "start_time": "2022-03-30T12:39:54.681Z"
   },
   {
    "duration": 5,
    "start_time": "2022-03-30T12:39:54.768Z"
   },
   {
    "duration": 1156,
    "start_time": "2022-03-30T17:28:34.327Z"
   },
   {
    "duration": 804,
    "start_time": "2022-03-30T17:28:35.485Z"
   },
   {
    "duration": 19,
    "start_time": "2022-03-30T17:28:36.293Z"
   },
   {
    "duration": 157,
    "start_time": "2022-03-30T17:28:36.315Z"
   },
   {
    "duration": 495,
    "start_time": "2022-03-30T17:28:36.474Z"
   },
   {
    "duration": 131,
    "start_time": "2022-03-30T17:28:36.971Z"
   },
   {
    "duration": 123,
    "start_time": "2022-03-30T17:28:37.103Z"
   },
   {
    "duration": 31,
    "start_time": "2022-03-30T17:28:37.238Z"
   },
   {
    "duration": 21,
    "start_time": "2022-03-30T17:28:37.270Z"
   },
   {
    "duration": 91,
    "start_time": "2022-03-30T17:28:37.294Z"
   },
   {
    "duration": 566,
    "start_time": "2022-03-30T17:28:37.386Z"
   },
   {
    "duration": 13,
    "start_time": "2022-03-30T17:28:37.954Z"
   },
   {
    "duration": 5,
    "start_time": "2022-03-30T17:28:37.969Z"
   },
   {
    "duration": 51,
    "start_time": "2022-03-30T17:28:37.975Z"
   },
   {
    "duration": 9,
    "start_time": "2022-03-30T17:28:38.028Z"
   },
   {
    "duration": 56523,
    "start_time": "2022-03-30T17:28:38.042Z"
   },
   {
    "duration": 94,
    "start_time": "2022-03-30T17:29:34.567Z"
   },
   {
    "duration": 6,
    "start_time": "2022-03-30T17:29:34.663Z"
   },
   {
    "duration": 104,
    "start_time": "2022-03-30T17:29:34.671Z"
   },
   {
    "duration": 1621,
    "start_time": "2022-03-30T17:29:34.777Z"
   },
   {
    "duration": 110,
    "start_time": "2022-03-30T17:34:56.920Z"
   },
   {
    "duration": 5298,
    "start_time": "2022-03-30T17:40:57.947Z"
   },
   {
    "duration": 22321,
    "start_time": "2022-03-30T17:41:30.129Z"
   },
   {
    "duration": 56746,
    "start_time": "2022-03-30T17:50:40.125Z"
   },
   {
    "duration": 385877,
    "start_time": "2022-03-30T17:52:39.376Z"
   },
   {
    "duration": 157924,
    "start_time": "2022-03-30T18:08:14.529Z"
   },
   {
    "duration": 4,
    "start_time": "2022-03-30T18:14:31.608Z"
   },
   {
    "duration": 9,
    "start_time": "2022-03-30T18:20:47.071Z"
   },
   {
    "duration": 106,
    "start_time": "2022-03-30T18:22:19.141Z"
   },
   {
    "duration": 19719,
    "start_time": "2022-03-30T18:22:29.968Z"
   },
   {
    "duration": 131,
    "start_time": "2022-03-30T18:23:37.741Z"
   },
   {
    "duration": 19162,
    "start_time": "2022-03-30T18:23:39.036Z"
   },
   {
    "duration": 9,
    "start_time": "2022-03-30T18:24:18.622Z"
   },
   {
    "duration": 108,
    "start_time": "2022-03-30T18:26:10.530Z"
   },
   {
    "duration": 10,
    "start_time": "2022-03-30T18:26:11.549Z"
   },
   {
    "duration": 4,
    "start_time": "2022-03-30T18:27:28.135Z"
   },
   {
    "duration": 24747,
    "start_time": "2022-03-30T18:27:44.337Z"
   },
   {
    "duration": 1740,
    "start_time": "2022-03-31T09:19:11.280Z"
   },
   {
    "duration": 1029,
    "start_time": "2022-03-31T09:19:13.023Z"
   },
   {
    "duration": 37,
    "start_time": "2022-03-31T09:19:14.055Z"
   },
   {
    "duration": 182,
    "start_time": "2022-03-31T09:19:14.095Z"
   },
   {
    "duration": 628,
    "start_time": "2022-03-31T09:19:14.279Z"
   },
   {
    "duration": 169,
    "start_time": "2022-03-31T09:19:14.909Z"
   },
   {
    "duration": 158,
    "start_time": "2022-03-31T09:19:15.080Z"
   },
   {
    "duration": 48,
    "start_time": "2022-03-31T09:19:15.240Z"
   },
   {
    "duration": 27,
    "start_time": "2022-03-31T09:19:15.290Z"
   },
   {
    "duration": 107,
    "start_time": "2022-03-31T09:19:15.322Z"
   },
   {
    "duration": 770,
    "start_time": "2022-03-31T09:19:15.432Z"
   },
   {
    "duration": 21,
    "start_time": "2022-03-31T09:19:16.204Z"
   },
   {
    "duration": 5,
    "start_time": "2022-03-31T09:19:16.228Z"
   },
   {
    "duration": 74,
    "start_time": "2022-03-31T09:19:16.235Z"
   },
   {
    "duration": 5,
    "start_time": "2022-03-31T09:19:16.312Z"
   },
   {
    "duration": 76976,
    "start_time": "2022-03-31T09:19:16.319Z"
   },
   {
    "duration": 113,
    "start_time": "2022-03-31T09:20:33.297Z"
   },
   {
    "duration": 7,
    "start_time": "2022-03-31T09:20:33.412Z"
   },
   {
    "duration": 15,
    "start_time": "2022-03-31T09:20:33.421Z"
   },
   {
    "duration": 0,
    "start_time": "2022-03-31T09:20:33.438Z"
   },
   {
    "duration": 243,
    "start_time": "2022-03-31T09:20:43.153Z"
   },
   {
    "duration": 26054,
    "start_time": "2022-03-31T09:22:15.841Z"
   },
   {
    "duration": 897003,
    "start_time": "2022-03-31T09:23:20.262Z"
   },
   {
    "duration": 42,
    "start_time": "2022-03-31T09:38:17.274Z"
   },
   {
    "duration": 18290,
    "start_time": "2022-03-31T09:43:46.796Z"
   },
   {
    "duration": 2556,
    "start_time": "2022-03-31T09:46:22.514Z"
   },
   {
    "duration": 1649,
    "start_time": "2022-03-31T09:46:25.073Z"
   },
   {
    "duration": 53,
    "start_time": "2022-03-31T09:46:26.726Z"
   },
   {
    "duration": 187,
    "start_time": "2022-03-31T09:46:26.782Z"
   },
   {
    "duration": 687,
    "start_time": "2022-03-31T09:46:26.974Z"
   },
   {
    "duration": 167,
    "start_time": "2022-03-31T09:46:27.663Z"
   },
   {
    "duration": 0,
    "start_time": "2022-03-31T09:46:27.833Z"
   },
   {
    "duration": 0,
    "start_time": "2022-03-31T09:46:27.835Z"
   },
   {
    "duration": 0,
    "start_time": "2022-03-31T09:46:27.836Z"
   },
   {
    "duration": 0,
    "start_time": "2022-03-31T09:46:27.838Z"
   },
   {
    "duration": 0,
    "start_time": "2022-03-31T09:46:27.839Z"
   },
   {
    "duration": 0,
    "start_time": "2022-03-31T09:46:27.840Z"
   },
   {
    "duration": 0,
    "start_time": "2022-03-31T09:46:27.841Z"
   },
   {
    "duration": 0,
    "start_time": "2022-03-31T09:46:27.842Z"
   },
   {
    "duration": 0,
    "start_time": "2022-03-31T09:46:27.843Z"
   },
   {
    "duration": 0,
    "start_time": "2022-03-31T09:46:27.845Z"
   },
   {
    "duration": 0,
    "start_time": "2022-03-31T09:46:27.846Z"
   },
   {
    "duration": 0,
    "start_time": "2022-03-31T09:46:27.874Z"
   },
   {
    "duration": 0,
    "start_time": "2022-03-31T09:46:27.876Z"
   },
   {
    "duration": 0,
    "start_time": "2022-03-31T09:46:27.877Z"
   },
   {
    "duration": 0,
    "start_time": "2022-03-31T09:46:27.878Z"
   },
   {
    "duration": 0,
    "start_time": "2022-03-31T09:46:27.880Z"
   },
   {
    "duration": 1926,
    "start_time": "2022-03-31T09:46:46.173Z"
   },
   {
    "duration": 1058,
    "start_time": "2022-03-31T09:46:48.101Z"
   },
   {
    "duration": 35,
    "start_time": "2022-03-31T09:46:49.165Z"
   },
   {
    "duration": 197,
    "start_time": "2022-03-31T09:46:49.202Z"
   },
   {
    "duration": 706,
    "start_time": "2022-03-31T09:46:49.401Z"
   },
   {
    "duration": 803,
    "start_time": "2022-03-31T09:46:50.109Z"
   },
   {
    "duration": 178,
    "start_time": "2022-03-31T09:46:50.914Z"
   },
   {
    "duration": 172,
    "start_time": "2022-03-31T09:46:51.094Z"
   },
   {
    "duration": 45,
    "start_time": "2022-03-31T09:46:51.275Z"
   },
   {
    "duration": 31,
    "start_time": "2022-03-31T09:46:51.322Z"
   },
   {
    "duration": 104,
    "start_time": "2022-03-31T09:46:51.355Z"
   },
   {
    "duration": 47,
    "start_time": "2022-03-31T09:46:51.461Z"
   },
   {
    "duration": 799,
    "start_time": "2022-03-31T09:46:51.511Z"
   },
   {
    "duration": 16,
    "start_time": "2022-03-31T09:46:52.312Z"
   },
   {
    "duration": 8,
    "start_time": "2022-03-31T09:46:52.331Z"
   },
   {
    "duration": 73,
    "start_time": "2022-03-31T09:46:52.341Z"
   },
   {
    "duration": 4,
    "start_time": "2022-03-31T09:46:52.417Z"
   },
   {
    "duration": 1398,
    "start_time": "2022-03-31T09:46:52.423Z"
   },
   {
    "duration": 99,
    "start_time": "2022-03-31T09:46:53.824Z"
   },
   {
    "duration": 12,
    "start_time": "2022-03-31T09:46:53.925Z"
   },
   {
    "duration": 0,
    "start_time": "2022-03-31T09:46:53.940Z"
   },
   {
    "duration": 0,
    "start_time": "2022-03-31T09:46:53.942Z"
   },
   {
    "duration": 5,
    "start_time": "2022-03-31T09:48:58.257Z"
   },
   {
    "duration": 1762,
    "start_time": "2022-03-31T10:13:25.827Z"
   },
   {
    "duration": 1129,
    "start_time": "2022-03-31T10:13:27.591Z"
   },
   {
    "duration": 30,
    "start_time": "2022-03-31T10:13:28.722Z"
   },
   {
    "duration": 202,
    "start_time": "2022-03-31T10:13:28.755Z"
   },
   {
    "duration": 720,
    "start_time": "2022-03-31T10:13:28.959Z"
   },
   {
    "duration": 819,
    "start_time": "2022-03-31T10:13:29.681Z"
   },
   {
    "duration": 180,
    "start_time": "2022-03-31T10:13:30.502Z"
   },
   {
    "duration": 174,
    "start_time": "2022-03-31T10:13:30.685Z"
   },
   {
    "duration": 49,
    "start_time": "2022-03-31T10:13:30.861Z"
   },
   {
    "duration": 24,
    "start_time": "2022-03-31T10:13:30.914Z"
   },
   {
    "duration": 115,
    "start_time": "2022-03-31T10:13:30.941Z"
   },
   {
    "duration": 51,
    "start_time": "2022-03-31T10:13:31.059Z"
   },
   {
    "duration": 822,
    "start_time": "2022-03-31T10:13:31.112Z"
   },
   {
    "duration": 16,
    "start_time": "2022-03-31T10:13:31.937Z"
   },
   {
    "duration": 22,
    "start_time": "2022-03-31T10:13:31.955Z"
   },
   {
    "duration": 71,
    "start_time": "2022-03-31T10:13:31.980Z"
   },
   {
    "duration": 4,
    "start_time": "2022-03-31T10:13:32.053Z"
   },
   {
    "duration": 248566,
    "start_time": "2022-03-31T10:13:32.058Z"
   },
   {
    "duration": 323,
    "start_time": "2022-03-31T10:17:40.626Z"
   },
   {
    "duration": 5,
    "start_time": "2022-03-31T10:17:40.952Z"
   },
   {
    "duration": 111126,
    "start_time": "2022-03-31T10:17:40.982Z"
   },
   {
    "duration": 184811,
    "start_time": "2022-03-31T10:19:32.174Z"
   },
   {
    "duration": 1956,
    "start_time": "2022-04-04T10:46:32.544Z"
   },
   {
    "duration": 4,
    "start_time": "2022-04-04T10:50:04.050Z"
   },
   {
    "duration": 1766,
    "start_time": "2022-04-04T10:56:04.915Z"
   },
   {
    "duration": 1036,
    "start_time": "2022-04-04T10:56:06.684Z"
   },
   {
    "duration": 29,
    "start_time": "2022-04-04T10:56:07.723Z"
   },
   {
    "duration": 190,
    "start_time": "2022-04-04T10:56:07.756Z"
   },
   {
    "duration": 656,
    "start_time": "2022-04-04T10:56:07.948Z"
   },
   {
    "duration": 741,
    "start_time": "2022-04-04T10:56:08.606Z"
   },
   {
    "duration": 167,
    "start_time": "2022-04-04T10:56:09.349Z"
   },
   {
    "duration": 169,
    "start_time": "2022-04-04T10:56:09.518Z"
   },
   {
    "duration": 45,
    "start_time": "2022-04-04T10:56:09.689Z"
   },
   {
    "duration": 42,
    "start_time": "2022-04-04T10:56:09.740Z"
   },
   {
    "duration": 102,
    "start_time": "2022-04-04T10:56:09.785Z"
   },
   {
    "duration": 41,
    "start_time": "2022-04-04T10:56:09.890Z"
   },
   {
    "duration": 788,
    "start_time": "2022-04-04T10:56:09.933Z"
   },
   {
    "duration": 16,
    "start_time": "2022-04-04T10:56:10.723Z"
   },
   {
    "duration": 12,
    "start_time": "2022-04-04T10:56:10.741Z"
   },
   {
    "duration": 66,
    "start_time": "2022-04-04T10:56:10.755Z"
   },
   {
    "duration": 4,
    "start_time": "2022-04-04T10:56:10.823Z"
   },
   {
    "duration": 241686,
    "start_time": "2022-04-04T10:56:10.829Z"
   },
   {
    "duration": 320,
    "start_time": "2022-04-04T11:00:12.518Z"
   },
   {
    "duration": 5,
    "start_time": "2022-04-04T11:00:12.840Z"
   },
   {
    "duration": 27414,
    "start_time": "2022-04-04T11:00:12.848Z"
   },
   {
    "duration": 130060,
    "start_time": "2022-04-04T11:00:40.265Z"
   },
   {
    "duration": 175,
    "start_time": "2022-04-04T11:02:50.327Z"
   },
   {
    "duration": 65983,
    "start_time": "2022-04-04T11:02:50.505Z"
   },
   {
    "duration": 116,
    "start_time": "2022-04-04T11:03:56.490Z"
   },
   {
    "duration": 6,
    "start_time": "2022-04-04T11:07:22.104Z"
   },
   {
    "duration": 12,
    "start_time": "2022-04-04T11:07:34.457Z"
   },
   {
    "duration": 13,
    "start_time": "2022-04-04T11:08:09.137Z"
   },
   {
    "duration": 13,
    "start_time": "2022-04-04T11:08:22.607Z"
   },
   {
    "duration": 670,
    "start_time": "2022-04-04T11:16:10.265Z"
   },
   {
    "duration": 199,
    "start_time": "2022-04-04T11:16:34.394Z"
   },
   {
    "duration": 1770,
    "start_time": "2022-04-04T11:27:05.551Z"
   },
   {
    "duration": 1042,
    "start_time": "2022-04-04T11:27:07.323Z"
   },
   {
    "duration": 34,
    "start_time": "2022-04-04T11:27:08.367Z"
   },
   {
    "duration": 182,
    "start_time": "2022-04-04T11:27:08.404Z"
   },
   {
    "duration": 647,
    "start_time": "2022-04-04T11:27:08.589Z"
   },
   {
    "duration": 732,
    "start_time": "2022-04-04T11:27:09.238Z"
   },
   {
    "duration": 158,
    "start_time": "2022-04-04T11:27:09.974Z"
   },
   {
    "duration": 167,
    "start_time": "2022-04-04T11:27:10.135Z"
   },
   {
    "duration": 44,
    "start_time": "2022-04-04T11:27:10.304Z"
   },
   {
    "duration": 36,
    "start_time": "2022-04-04T11:27:10.353Z"
   },
   {
    "duration": 101,
    "start_time": "2022-04-04T11:27:10.391Z"
   },
   {
    "duration": 36,
    "start_time": "2022-04-04T11:27:10.494Z"
   },
   {
    "duration": 779,
    "start_time": "2022-04-04T11:27:10.532Z"
   },
   {
    "duration": 15,
    "start_time": "2022-04-04T11:27:11.314Z"
   },
   {
    "duration": 6,
    "start_time": "2022-04-04T11:27:11.331Z"
   },
   {
    "duration": 67,
    "start_time": "2022-04-04T11:27:11.339Z"
   },
   {
    "duration": 4,
    "start_time": "2022-04-04T11:27:11.408Z"
   },
   {
    "duration": 236754,
    "start_time": "2022-04-04T11:27:11.414Z"
   },
   {
    "duration": 293,
    "start_time": "2022-04-04T11:31:08.174Z"
   },
   {
    "duration": 3,
    "start_time": "2022-04-04T11:31:08.474Z"
   },
   {
    "duration": 59307,
    "start_time": "2022-04-04T11:31:08.479Z"
   },
   {
    "duration": 133118,
    "start_time": "2022-04-04T11:32:07.788Z"
   },
   {
    "duration": 86,
    "start_time": "2022-04-04T11:34:20.908Z"
   },
   {
    "duration": 104,
    "start_time": "2022-04-04T11:34:21.076Z"
   },
   {
    "duration": 1658,
    "start_time": "2022-04-04T20:58:07.904Z"
   },
   {
    "duration": 976,
    "start_time": "2022-04-04T20:58:09.565Z"
   },
   {
    "duration": 40,
    "start_time": "2022-04-04T20:58:10.543Z"
   },
   {
    "duration": 172,
    "start_time": "2022-04-04T20:58:10.587Z"
   },
   {
    "duration": 607,
    "start_time": "2022-04-04T20:58:10.761Z"
   },
   {
    "duration": 680,
    "start_time": "2022-04-04T20:58:11.370Z"
   },
   {
    "duration": 160,
    "start_time": "2022-04-04T20:58:12.052Z"
   },
   {
    "duration": 157,
    "start_time": "2022-04-04T20:58:12.215Z"
   },
   {
    "duration": 40,
    "start_time": "2022-04-04T20:58:12.374Z"
   },
   {
    "duration": 29,
    "start_time": "2022-04-04T20:58:12.419Z"
   },
   {
    "duration": 103,
    "start_time": "2022-04-04T20:58:12.451Z"
   },
   {
    "duration": 47,
    "start_time": "2022-04-04T20:58:12.556Z"
   },
   {
    "duration": 704,
    "start_time": "2022-04-04T20:58:12.605Z"
   },
   {
    "duration": 15,
    "start_time": "2022-04-04T20:58:13.312Z"
   },
   {
    "duration": 6,
    "start_time": "2022-04-04T20:58:13.329Z"
   },
   {
    "duration": 82,
    "start_time": "2022-04-04T20:58:13.337Z"
   },
   {
    "duration": 4,
    "start_time": "2022-04-04T20:58:13.421Z"
   },
   {
    "duration": 223127,
    "start_time": "2022-04-04T20:58:13.427Z"
   },
   {
    "duration": 285,
    "start_time": "2022-04-04T21:01:56.556Z"
   },
   {
    "duration": 4,
    "start_time": "2022-04-04T21:01:56.844Z"
   },
   {
    "duration": 35783,
    "start_time": "2022-04-04T21:01:56.850Z"
   },
   {
    "duration": 121121,
    "start_time": "2022-04-04T21:02:32.683Z"
   },
   {
    "duration": 90,
    "start_time": "2022-04-04T21:04:33.807Z"
   },
   {
    "duration": 184,
    "start_time": "2022-04-04T21:04:33.900Z"
   },
   {
    "duration": 82,
    "start_time": "2022-04-04T21:07:07.105Z"
   },
   {
    "duration": 23,
    "start_time": "2022-04-04T21:07:30.453Z"
   },
   {
    "duration": 21,
    "start_time": "2022-04-04T21:08:18.409Z"
   },
   {
    "duration": 22,
    "start_time": "2022-04-04T21:11:07.552Z"
   },
   {
    "duration": 2513,
    "start_time": "2022-04-05T10:37:55.392Z"
   },
   {
    "duration": 1603,
    "start_time": "2022-04-05T10:37:57.909Z"
   },
   {
    "duration": 59,
    "start_time": "2022-04-05T10:37:59.515Z"
   },
   {
    "duration": 334,
    "start_time": "2022-04-05T10:37:59.578Z"
   },
   {
    "duration": 918,
    "start_time": "2022-04-05T10:37:59.914Z"
   },
   {
    "duration": 1075,
    "start_time": "2022-04-05T10:38:00.834Z"
   },
   {
    "duration": 199,
    "start_time": "2022-04-05T10:38:01.911Z"
   },
   {
    "duration": 209,
    "start_time": "2022-04-05T10:38:02.114Z"
   },
   {
    "duration": 59,
    "start_time": "2022-04-05T10:38:02.326Z"
   },
   {
    "duration": 38,
    "start_time": "2022-04-05T10:38:02.389Z"
   },
   {
    "duration": 123,
    "start_time": "2022-04-05T10:38:02.430Z"
   },
   {
    "duration": 48,
    "start_time": "2022-04-05T10:38:02.556Z"
   },
   {
    "duration": 946,
    "start_time": "2022-04-05T10:38:02.606Z"
   },
   {
    "duration": 23,
    "start_time": "2022-04-05T10:38:03.555Z"
   },
   {
    "duration": 3,
    "start_time": "2022-04-05T10:38:03.580Z"
   },
   {
    "duration": 179,
    "start_time": "2022-04-05T10:38:03.589Z"
   },
   {
    "duration": 4,
    "start_time": "2022-04-05T10:38:03.771Z"
   },
   {
    "duration": 14612,
    "start_time": "2022-04-05T10:38:03.779Z"
   },
   {
    "duration": 339,
    "start_time": "2022-04-05T10:38:18.393Z"
   },
   {
    "duration": 12,
    "start_time": "2022-04-05T10:38:18.734Z"
   },
   {
    "duration": 0,
    "start_time": "2022-04-05T10:38:18.748Z"
   },
   {
    "duration": 0,
    "start_time": "2022-04-05T10:38:18.749Z"
   },
   {
    "duration": 0,
    "start_time": "2022-04-05T10:38:18.751Z"
   },
   {
    "duration": 0,
    "start_time": "2022-04-05T10:38:18.752Z"
   },
   {
    "duration": 15,
    "start_time": "2022-04-05T11:18:14.144Z"
   },
   {
    "duration": 4,
    "start_time": "2022-04-05T11:20:06.803Z"
   },
   {
    "duration": 1099100,
    "start_time": "2022-04-05T11:20:32.722Z"
   },
   {
    "duration": 1345,
    "start_time": "2022-04-05T11:38:51.825Z"
   },
   {
    "duration": 1302,
    "start_time": "2022-04-05T11:41:05.586Z"
   },
   {
    "duration": 4,
    "start_time": "2022-04-05T11:41:09.471Z"
   },
   {
    "duration": 1439,
    "start_time": "2022-04-06T11:12:03.684Z"
   },
   {
    "duration": 837,
    "start_time": "2022-04-06T11:12:05.125Z"
   },
   {
    "duration": 21,
    "start_time": "2022-04-06T11:12:05.964Z"
   },
   {
    "duration": 146,
    "start_time": "2022-04-06T11:12:05.987Z"
   },
   {
    "duration": 498,
    "start_time": "2022-04-06T11:12:06.135Z"
   },
   {
    "duration": 551,
    "start_time": "2022-04-06T11:12:06.634Z"
   },
   {
    "duration": 127,
    "start_time": "2022-04-06T11:12:07.187Z"
   },
   {
    "duration": 134,
    "start_time": "2022-04-06T11:12:07.315Z"
   },
   {
    "duration": 31,
    "start_time": "2022-04-06T11:12:07.451Z"
   },
   {
    "duration": 36,
    "start_time": "2022-04-06T11:12:07.485Z"
   },
   {
    "duration": 77,
    "start_time": "2022-04-06T11:12:07.522Z"
   },
   {
    "duration": 50,
    "start_time": "2022-04-06T11:12:07.601Z"
   },
   {
    "duration": 11,
    "start_time": "2022-04-06T11:12:07.653Z"
   },
   {
    "duration": 578,
    "start_time": "2022-04-06T11:12:07.667Z"
   },
   {
    "duration": 14,
    "start_time": "2022-04-06T11:12:08.247Z"
   },
   {
    "duration": 25,
    "start_time": "2022-04-06T11:12:08.264Z"
   },
   {
    "duration": 85,
    "start_time": "2022-04-06T11:12:08.291Z"
   },
   {
    "duration": 4,
    "start_time": "2022-04-06T11:12:08.378Z"
   },
   {
    "duration": 577262,
    "start_time": "2022-04-06T11:12:08.384Z"
   },
   {
    "duration": 1116,
    "start_time": "2022-04-06T11:21:45.648Z"
   },
   {
    "duration": 4,
    "start_time": "2022-04-06T11:21:46.766Z"
   },
   {
    "duration": 308,
    "start_time": "2022-04-06T11:21:46.772Z"
   },
   {
    "duration": 281,
    "start_time": "2022-04-06T11:21:47.082Z"
   },
   {
    "duration": 215,
    "start_time": "2022-04-06T11:21:47.365Z"
   },
   {
    "duration": 11,
    "start_time": "2022-04-06T11:21:47.581Z"
   },
   {
    "duration": 18246,
    "start_time": "2022-04-06T11:34:35.462Z"
   },
   {
    "duration": 19149,
    "start_time": "2022-04-06T11:36:08.255Z"
   },
   {
    "duration": 1049,
    "start_time": "2022-04-06T11:40:21.430Z"
   },
   {
    "duration": 198,
    "start_time": "2022-04-06T11:42:32.004Z"
   },
   {
    "duration": 17288,
    "start_time": "2022-04-06T11:43:37.142Z"
   },
   {
    "duration": 1450,
    "start_time": "2022-04-06T11:47:10.549Z"
   },
   {
    "duration": 857,
    "start_time": "2022-04-06T11:47:12.002Z"
   },
   {
    "duration": 21,
    "start_time": "2022-04-06T11:47:12.861Z"
   },
   {
    "duration": 151,
    "start_time": "2022-04-06T11:47:12.884Z"
   },
   {
    "duration": 523,
    "start_time": "2022-04-06T11:47:13.037Z"
   },
   {
    "duration": 561,
    "start_time": "2022-04-06T11:47:13.562Z"
   },
   {
    "duration": 140,
    "start_time": "2022-04-06T11:47:14.125Z"
   },
   {
    "duration": 133,
    "start_time": "2022-04-06T11:47:14.268Z"
   },
   {
    "duration": 43,
    "start_time": "2022-04-06T11:47:14.403Z"
   },
   {
    "duration": 24,
    "start_time": "2022-04-06T11:47:14.449Z"
   },
   {
    "duration": 82,
    "start_time": "2022-04-06T11:47:14.475Z"
   },
   {
    "duration": 34,
    "start_time": "2022-04-06T11:47:14.559Z"
   },
   {
    "duration": 10,
    "start_time": "2022-04-06T11:47:14.595Z"
   },
   {
    "duration": 173,
    "start_time": "2022-04-06T11:47:14.607Z"
   },
   {
    "duration": 574,
    "start_time": "2022-04-06T11:47:14.782Z"
   },
   {
    "duration": 5,
    "start_time": "2022-04-06T11:47:15.358Z"
   },
   {
    "duration": 7,
    "start_time": "2022-04-06T11:47:15.365Z"
   },
   {
    "duration": 34,
    "start_time": "2022-04-06T11:47:15.374Z"
   },
   {
    "duration": 3,
    "start_time": "2022-04-06T11:47:15.410Z"
   },
   {
    "duration": 585785,
    "start_time": "2022-04-06T11:47:15.432Z"
   },
   {
    "duration": 1141,
    "start_time": "2022-04-06T11:57:01.219Z"
   },
   {
    "duration": 3,
    "start_time": "2022-04-06T11:57:02.362Z"
   },
   {
    "duration": 21696,
    "start_time": "2022-04-06T11:57:02.367Z"
   },
   {
    "duration": 385,
    "start_time": "2022-04-06T11:57:24.065Z"
   },
   {
    "duration": 200,
    "start_time": "2022-04-06T11:57:24.452Z"
   },
   {
    "duration": 17,
    "start_time": "2022-04-06T11:57:24.654Z"
   },
   {
    "duration": 11,
    "start_time": "2022-04-06T12:10:00.393Z"
   },
   {
    "duration": 2690,
    "start_time": "2022-04-06T12:10:21.472Z"
   },
   {
    "duration": 1189,
    "start_time": "2022-04-06T12:26:17.960Z"
   },
   {
    "duration": 390,
    "start_time": "2022-04-06T12:26:30.888Z"
   },
   {
    "duration": 527,
    "start_time": "2022-04-06T12:27:03.635Z"
   },
   {
    "duration": 1279258,
    "start_time": "2022-04-06T12:27:04.930Z"
   },
   {
    "duration": 4,
    "start_time": "2022-04-06T12:48:24.189Z"
   },
   {
    "duration": 23606,
    "start_time": "2022-04-06T12:50:00.827Z"
   },
   {
    "duration": 193,
    "start_time": "2022-04-06T13:26:25.761Z"
   },
   {
    "duration": 93,
    "start_time": "2022-04-06T13:28:30.623Z"
   },
   {
    "duration": 1866297,
    "start_time": "2022-04-06T13:28:45.839Z"
   },
   {
    "duration": 4,
    "start_time": "2022-04-06T14:22:13.237Z"
   },
   {
    "duration": 4,
    "start_time": "2022-04-06T14:22:23.758Z"
   },
   {
    "duration": 4,
    "start_time": "2022-04-06T14:22:42.606Z"
   },
   {
    "duration": 10,
    "start_time": "2022-04-06T14:23:42.350Z"
   },
   {
    "duration": 1807233,
    "start_time": "2022-04-06T14:23:51.411Z"
   },
   {
    "duration": 10,
    "start_time": "2022-04-06T15:46:22.411Z"
   },
   {
    "duration": 3,
    "start_time": "2022-04-06T15:46:43.886Z"
   },
   {
    "duration": 1683,
    "start_time": "2022-04-07T15:00:51.804Z"
   },
   {
    "duration": 1125,
    "start_time": "2022-04-07T15:00:53.490Z"
   },
   {
    "duration": 32,
    "start_time": "2022-04-07T15:00:54.617Z"
   },
   {
    "duration": 165,
    "start_time": "2022-04-07T15:00:56.030Z"
   },
   {
    "duration": 658,
    "start_time": "2022-04-07T15:01:01.669Z"
   },
   {
    "duration": 727,
    "start_time": "2022-04-07T15:01:02.678Z"
   },
   {
    "duration": 150,
    "start_time": "2022-04-07T15:01:10.625Z"
   },
   {
    "duration": 166,
    "start_time": "2022-04-07T15:01:14.212Z"
   },
   {
    "duration": 43,
    "start_time": "2022-04-07T15:01:15.209Z"
   },
   {
    "duration": 24,
    "start_time": "2022-04-07T15:01:16.197Z"
   },
   {
    "duration": 84,
    "start_time": "2022-04-07T15:01:31.339Z"
   },
   {
    "duration": 40,
    "start_time": "2022-04-07T15:01:34.730Z"
   },
   {
    "duration": 16,
    "start_time": "2022-04-07T15:01:35.905Z"
   },
   {
    "duration": 169,
    "start_time": "2022-04-07T15:03:14.859Z"
   },
   {
    "duration": 32,
    "start_time": "2022-04-07T15:03:25.550Z"
   },
   {
    "duration": 30,
    "start_time": "2022-04-07T15:04:31.289Z"
   },
   {
    "duration": 29,
    "start_time": "2022-04-07T15:06:40.943Z"
   },
   {
    "duration": 21,
    "start_time": "2022-04-07T15:08:04.245Z"
   },
   {
    "duration": 22,
    "start_time": "2022-04-07T15:08:22.710Z"
   },
   {
    "duration": 42,
    "start_time": "2022-04-07T15:09:02.660Z"
   },
   {
    "duration": 36,
    "start_time": "2022-04-07T15:09:11.115Z"
   },
   {
    "duration": 18,
    "start_time": "2022-04-07T15:10:25.827Z"
   },
   {
    "duration": 515,
    "start_time": "2022-04-07T15:12:46.014Z"
   },
   {
    "duration": 394,
    "start_time": "2022-04-07T15:15:38.604Z"
   },
   {
    "duration": 40,
    "start_time": "2022-04-07T15:15:47.769Z"
   },
   {
    "duration": 384,
    "start_time": "2022-04-07T15:15:56.047Z"
   },
   {
    "duration": 43,
    "start_time": "2022-04-07T15:15:59.908Z"
   },
   {
    "duration": 6,
    "start_time": "2022-04-07T15:16:43.117Z"
   },
   {
    "duration": 48,
    "start_time": "2022-04-07T15:17:35.290Z"
   },
   {
    "duration": 36,
    "start_time": "2022-04-07T15:17:39.317Z"
   },
   {
    "duration": 6,
    "start_time": "2022-04-07T15:17:51.906Z"
   },
   {
    "duration": 8,
    "start_time": "2022-04-07T15:21:57.977Z"
   },
   {
    "duration": 94,
    "start_time": "2022-04-07T15:22:02.516Z"
   },
   {
    "duration": 36,
    "start_time": "2022-04-07T15:22:07.247Z"
   },
   {
    "duration": 28,
    "start_time": "2022-04-07T15:22:15.312Z"
   },
   {
    "duration": 26,
    "start_time": "2022-04-07T15:26:57.849Z"
   },
   {
    "duration": 120,
    "start_time": "2022-04-07T15:28:05.842Z"
   },
   {
    "duration": 80,
    "start_time": "2022-04-07T15:29:13.997Z"
   },
   {
    "duration": 1720,
    "start_time": "2022-04-07T15:30:57.999Z"
   },
   {
    "duration": 1098,
    "start_time": "2022-04-07T15:30:59.722Z"
   },
   {
    "duration": 45,
    "start_time": "2022-04-07T15:31:00.822Z"
   },
   {
    "duration": 185,
    "start_time": "2022-04-07T15:31:00.870Z"
   },
   {
    "duration": 684,
    "start_time": "2022-04-07T15:31:01.067Z"
   },
   {
    "duration": 762,
    "start_time": "2022-04-07T15:31:01.754Z"
   },
   {
    "duration": 164,
    "start_time": "2022-04-07T15:31:02.518Z"
   },
   {
    "duration": 180,
    "start_time": "2022-04-07T15:31:02.684Z"
   },
   {
    "duration": 45,
    "start_time": "2022-04-07T15:31:02.868Z"
   },
   {
    "duration": 27,
    "start_time": "2022-04-07T15:31:02.918Z"
   },
   {
    "duration": 103,
    "start_time": "2022-04-07T15:31:02.947Z"
   },
   {
    "duration": 51,
    "start_time": "2022-04-07T15:31:03.052Z"
   },
   {
    "duration": 16,
    "start_time": "2022-04-07T15:31:03.107Z"
   },
   {
    "duration": 145,
    "start_time": "2022-04-07T15:31:03.126Z"
   },
   {
    "duration": 199,
    "start_time": "2022-04-07T15:31:03.273Z"
   },
   {
    "duration": 0,
    "start_time": "2022-04-07T15:31:03.474Z"
   },
   {
    "duration": 0,
    "start_time": "2022-04-07T15:31:03.476Z"
   },
   {
    "duration": 0,
    "start_time": "2022-04-07T15:31:03.478Z"
   },
   {
    "duration": 0,
    "start_time": "2022-04-07T15:31:03.480Z"
   },
   {
    "duration": 0,
    "start_time": "2022-04-07T15:31:03.481Z"
   },
   {
    "duration": 0,
    "start_time": "2022-04-07T15:31:03.482Z"
   },
   {
    "duration": 0,
    "start_time": "2022-04-07T15:31:03.484Z"
   },
   {
    "duration": 0,
    "start_time": "2022-04-07T15:31:03.487Z"
   },
   {
    "duration": 0,
    "start_time": "2022-04-07T15:31:03.488Z"
   },
   {
    "duration": 0,
    "start_time": "2022-04-07T15:31:03.490Z"
   },
   {
    "duration": 0,
    "start_time": "2022-04-07T15:31:03.493Z"
   },
   {
    "duration": 0,
    "start_time": "2022-04-07T15:31:03.495Z"
   },
   {
    "duration": 0,
    "start_time": "2022-04-07T15:31:03.497Z"
   },
   {
    "duration": 0,
    "start_time": "2022-04-07T15:31:03.499Z"
   },
   {
    "duration": 0,
    "start_time": "2022-04-07T15:31:03.500Z"
   },
   {
    "duration": 0,
    "start_time": "2022-04-07T15:31:03.502Z"
   },
   {
    "duration": 0,
    "start_time": "2022-04-07T15:31:03.504Z"
   },
   {
    "duration": 0,
    "start_time": "2022-04-07T15:31:03.505Z"
   },
   {
    "duration": 1,
    "start_time": "2022-04-07T15:31:03.506Z"
   },
   {
    "duration": 116,
    "start_time": "2022-04-07T15:31:34.411Z"
   },
   {
    "duration": 1418,
    "start_time": "2022-04-08T06:29:54.266Z"
   },
   {
    "duration": 822,
    "start_time": "2022-04-08T06:29:55.686Z"
   },
   {
    "duration": 28,
    "start_time": "2022-04-08T06:29:56.510Z"
   },
   {
    "duration": 145,
    "start_time": "2022-04-08T06:29:56.540Z"
   },
   {
    "duration": 473,
    "start_time": "2022-04-08T06:29:56.687Z"
   },
   {
    "duration": 535,
    "start_time": "2022-04-08T06:29:57.161Z"
   },
   {
    "duration": 121,
    "start_time": "2022-04-08T06:29:57.697Z"
   },
   {
    "duration": 126,
    "start_time": "2022-04-08T06:29:57.831Z"
   },
   {
    "duration": 32,
    "start_time": "2022-04-08T06:29:57.959Z"
   },
   {
    "duration": 20,
    "start_time": "2022-04-08T06:29:57.995Z"
   },
   {
    "duration": 74,
    "start_time": "2022-04-08T06:29:58.031Z"
   },
   {
    "duration": 54,
    "start_time": "2022-04-08T06:29:58.107Z"
   },
   {
    "duration": 11,
    "start_time": "2022-04-08T06:29:58.163Z"
   },
   {
    "duration": 80,
    "start_time": "2022-04-08T06:29:58.176Z"
   },
   {
    "duration": 118,
    "start_time": "2022-04-08T06:29:58.258Z"
   },
   {
    "duration": 0,
    "start_time": "2022-04-08T06:29:58.378Z"
   },
   {
    "duration": 1,
    "start_time": "2022-04-08T06:29:58.379Z"
   },
   {
    "duration": 0,
    "start_time": "2022-04-08T06:29:58.381Z"
   },
   {
    "duration": 0,
    "start_time": "2022-04-08T06:29:58.382Z"
   },
   {
    "duration": 0,
    "start_time": "2022-04-08T06:29:58.384Z"
   },
   {
    "duration": 0,
    "start_time": "2022-04-08T06:29:58.385Z"
   },
   {
    "duration": 0,
    "start_time": "2022-04-08T06:29:58.387Z"
   },
   {
    "duration": 0,
    "start_time": "2022-04-08T06:29:58.388Z"
   },
   {
    "duration": 0,
    "start_time": "2022-04-08T06:29:58.390Z"
   },
   {
    "duration": 0,
    "start_time": "2022-04-08T06:29:58.391Z"
   },
   {
    "duration": 0,
    "start_time": "2022-04-08T06:29:58.393Z"
   },
   {
    "duration": 0,
    "start_time": "2022-04-08T06:29:58.394Z"
   },
   {
    "duration": 0,
    "start_time": "2022-04-08T06:29:58.396Z"
   },
   {
    "duration": 0,
    "start_time": "2022-04-08T06:29:58.432Z"
   },
   {
    "duration": 0,
    "start_time": "2022-04-08T06:29:58.434Z"
   },
   {
    "duration": 0,
    "start_time": "2022-04-08T06:29:58.436Z"
   },
   {
    "duration": 0,
    "start_time": "2022-04-08T06:29:58.437Z"
   },
   {
    "duration": 0,
    "start_time": "2022-04-08T06:29:58.438Z"
   },
   {
    "duration": 0,
    "start_time": "2022-04-08T06:29:58.440Z"
   },
   {
    "duration": 9,
    "start_time": "2022-04-08T06:31:36.526Z"
   },
   {
    "duration": 69,
    "start_time": "2022-04-08T06:31:41.788Z"
   },
   {
    "duration": 41,
    "start_time": "2022-04-08T06:31:50.520Z"
   },
   {
    "duration": 61,
    "start_time": "2022-04-08T06:31:54.115Z"
   },
   {
    "duration": 19,
    "start_time": "2022-04-08T06:35:14.297Z"
   },
   {
    "duration": 3,
    "start_time": "2022-04-08T06:35:15.170Z"
   },
   {
    "duration": 63,
    "start_time": "2022-04-08T06:41:24.269Z"
   },
   {
    "duration": 9,
    "start_time": "2022-04-08T06:43:05.818Z"
   },
   {
    "duration": 65,
    "start_time": "2022-04-08T06:44:09.307Z"
   },
   {
    "duration": 24,
    "start_time": "2022-04-08T06:44:10.138Z"
   },
   {
    "duration": 4,
    "start_time": "2022-04-08T06:44:55.498Z"
   },
   {
    "duration": 1414,
    "start_time": "2022-04-08T06:57:11.368Z"
   },
   {
    "duration": 831,
    "start_time": "2022-04-08T06:57:12.784Z"
   },
   {
    "duration": 26,
    "start_time": "2022-04-08T06:57:13.617Z"
   },
   {
    "duration": 144,
    "start_time": "2022-04-08T06:57:13.646Z"
   },
   {
    "duration": 502,
    "start_time": "2022-04-08T06:57:13.792Z"
   },
   {
    "duration": 538,
    "start_time": "2022-04-08T06:57:14.295Z"
   },
   {
    "duration": 132,
    "start_time": "2022-04-08T06:57:14.835Z"
   },
   {
    "duration": 136,
    "start_time": "2022-04-08T06:57:14.968Z"
   },
   {
    "duration": 37,
    "start_time": "2022-04-08T06:57:15.106Z"
   },
   {
    "duration": 21,
    "start_time": "2022-04-08T06:57:15.146Z"
   },
   {
    "duration": 94,
    "start_time": "2022-04-08T06:57:15.169Z"
   },
   {
    "duration": 36,
    "start_time": "2022-04-08T06:57:15.265Z"
   },
   {
    "duration": 29,
    "start_time": "2022-04-08T06:57:15.303Z"
   },
   {
    "duration": 65,
    "start_time": "2022-04-08T06:57:15.334Z"
   },
   {
    "duration": 9,
    "start_time": "2022-04-08T06:57:15.400Z"
   },
   {
    "duration": 63,
    "start_time": "2022-04-08T06:57:15.410Z"
   },
   {
    "duration": 149,
    "start_time": "2022-04-08T06:57:15.475Z"
   },
   {
    "duration": 5,
    "start_time": "2022-04-08T06:57:15.626Z"
   },
   {
    "duration": 6,
    "start_time": "2022-04-08T06:57:15.633Z"
   },
   {
    "duration": 8,
    "start_time": "2022-04-08T06:57:15.641Z"
   },
   {
    "duration": 35,
    "start_time": "2022-04-08T06:57:15.651Z"
   },
   {
    "duration": 16,
    "start_time": "2022-04-08T06:57:15.688Z"
   },
   {
    "duration": 26,
    "start_time": "2022-04-08T06:57:15.706Z"
   },
   {
    "duration": 7,
    "start_time": "2022-04-08T06:57:15.734Z"
   },
   {
    "duration": 519616,
    "start_time": "2022-04-08T06:57:15.743Z"
   },
   {
    "duration": 663,
    "start_time": "2022-04-08T07:05:55.361Z"
   },
   {
    "duration": 8,
    "start_time": "2022-04-08T07:05:56.025Z"
   },
   {
    "duration": 1522497,
    "start_time": "2022-04-08T07:05:56.036Z"
   },
   {
    "duration": 4,
    "start_time": "2022-04-08T07:31:18.535Z"
   },
   {
    "duration": 523,
    "start_time": "2022-04-08T07:31:18.541Z"
   },
   {
    "duration": 176,
    "start_time": "2022-04-08T11:05:07.924Z"
   },
   {
    "duration": 1402,
    "start_time": "2022-04-08T11:05:54.961Z"
   },
   {
    "duration": 720,
    "start_time": "2022-04-08T11:05:56.365Z"
   },
   {
    "duration": 18,
    "start_time": "2022-04-08T11:05:57.086Z"
   },
   {
    "duration": 141,
    "start_time": "2022-04-08T11:05:57.106Z"
   },
   {
    "duration": 439,
    "start_time": "2022-04-08T11:05:57.248Z"
   },
   {
    "duration": 465,
    "start_time": "2022-04-08T11:05:57.689Z"
   },
   {
    "duration": 120,
    "start_time": "2022-04-08T11:05:58.156Z"
   },
   {
    "duration": 120,
    "start_time": "2022-04-08T11:05:58.277Z"
   },
   {
    "duration": 28,
    "start_time": "2022-04-08T11:05:58.399Z"
   },
   {
    "duration": 26,
    "start_time": "2022-04-08T11:05:58.429Z"
   },
   {
    "duration": 83,
    "start_time": "2022-04-08T11:05:58.456Z"
   },
   {
    "duration": 35,
    "start_time": "2022-04-08T11:05:58.541Z"
   },
   {
    "duration": 10,
    "start_time": "2022-04-08T11:05:58.578Z"
   },
   {
    "duration": 77,
    "start_time": "2022-04-08T11:05:58.590Z"
   },
   {
    "duration": 7,
    "start_time": "2022-04-08T11:05:58.668Z"
   },
   {
    "duration": 36,
    "start_time": "2022-04-08T11:05:58.677Z"
   },
   {
    "duration": 138,
    "start_time": "2022-04-08T11:05:58.715Z"
   },
   {
    "duration": 2,
    "start_time": "2022-04-08T11:05:58.854Z"
   },
   {
    "duration": 7,
    "start_time": "2022-04-08T11:05:58.857Z"
   },
   {
    "duration": 5,
    "start_time": "2022-04-08T11:05:58.865Z"
   },
   {
    "duration": 27,
    "start_time": "2022-04-08T11:05:58.871Z"
   },
   {
    "duration": 13,
    "start_time": "2022-04-08T11:05:58.899Z"
   },
   {
    "duration": 3,
    "start_time": "2022-04-08T11:05:58.913Z"
   },
   {
    "duration": 117,
    "start_time": "2022-04-08T11:05:58.917Z"
   },
   {
    "duration": 0,
    "start_time": "2022-04-08T11:05:59.035Z"
   },
   {
    "duration": 0,
    "start_time": "2022-04-08T11:05:59.037Z"
   },
   {
    "duration": 0,
    "start_time": "2022-04-08T11:05:59.038Z"
   },
   {
    "duration": 0,
    "start_time": "2022-04-08T11:05:59.039Z"
   },
   {
    "duration": 0,
    "start_time": "2022-04-08T11:05:59.040Z"
   },
   {
    "duration": 0,
    "start_time": "2022-04-08T11:05:59.041Z"
   },
   {
    "duration": 0,
    "start_time": "2022-04-08T11:05:59.042Z"
   },
   {
    "duration": 0,
    "start_time": "2022-04-08T11:05:59.043Z"
   },
   {
    "duration": 0,
    "start_time": "2022-04-08T11:05:59.044Z"
   },
   {
    "duration": 0,
    "start_time": "2022-04-08T11:05:59.045Z"
   },
   {
    "duration": 3,
    "start_time": "2022-04-08T11:06:30.035Z"
   },
   {
    "duration": 486645,
    "start_time": "2022-04-08T11:06:31.255Z"
   },
   {
    "duration": 634,
    "start_time": "2022-04-08T11:15:01.087Z"
   },
   {
    "duration": 3,
    "start_time": "2022-04-08T11:15:08.727Z"
   },
   {
    "duration": 161,
    "start_time": "2022-04-08T11:15:29.289Z"
   },
   {
    "duration": 3,
    "start_time": "2022-04-08T11:15:39.766Z"
   },
   {
    "duration": 740,
    "start_time": "2022-04-08T11:15:41.074Z"
   },
   {
    "duration": 2,
    "start_time": "2022-04-08T11:15:56.687Z"
   },
   {
    "duration": 730,
    "start_time": "2022-04-08T11:15:57.727Z"
   },
   {
    "duration": 3,
    "start_time": "2022-04-08T11:17:29.803Z"
   },
   {
    "duration": 774,
    "start_time": "2022-04-08T11:17:31.232Z"
   },
   {
    "duration": 3,
    "start_time": "2022-04-08T11:18:59.280Z"
   },
   {
    "duration": 616,
    "start_time": "2022-04-08T11:19:00.082Z"
   },
   {
    "duration": 3,
    "start_time": "2022-04-08T11:19:48.074Z"
   },
   {
    "duration": 624,
    "start_time": "2022-04-08T11:19:48.973Z"
   },
   {
    "duration": 1634233,
    "start_time": "2022-04-08T11:20:56.731Z"
   },
   {
    "duration": 7,
    "start_time": "2022-04-08T11:50:47.044Z"
   },
   {
    "duration": 433,
    "start_time": "2022-04-08T11:50:55.948Z"
   },
   {
    "duration": 1651146,
    "start_time": "2022-04-08T11:51:01.547Z"
   },
   {
    "duration": 139,
    "start_time": "2022-04-08T12:18:32.696Z"
   },
   {
    "duration": 1921,
    "start_time": "2022-04-09T11:34:28.149Z"
   },
   {
    "duration": 1067,
    "start_time": "2022-04-09T11:34:30.073Z"
   },
   {
    "duration": 44,
    "start_time": "2022-04-09T11:34:31.143Z"
   },
   {
    "duration": 187,
    "start_time": "2022-04-09T11:34:31.190Z"
   },
   {
    "duration": 636,
    "start_time": "2022-04-09T11:34:31.380Z"
   },
   {
    "duration": 717,
    "start_time": "2022-04-09T11:34:32.018Z"
   },
   {
    "duration": 156,
    "start_time": "2022-04-09T11:34:32.737Z"
   },
   {
    "duration": 193,
    "start_time": "2022-04-09T11:34:32.895Z"
   },
   {
    "duration": 46,
    "start_time": "2022-04-09T11:34:33.090Z"
   },
   {
    "duration": 37,
    "start_time": "2022-04-09T11:34:33.142Z"
   },
   {
    "duration": 105,
    "start_time": "2022-04-09T11:34:33.182Z"
   },
   {
    "duration": 40,
    "start_time": "2022-04-09T11:34:33.290Z"
   },
   {
    "duration": 40,
    "start_time": "2022-04-09T11:34:33.332Z"
   },
   {
    "duration": 136,
    "start_time": "2022-04-09T11:34:33.375Z"
   },
   {
    "duration": 12,
    "start_time": "2022-04-09T11:34:33.513Z"
   },
   {
    "duration": 95,
    "start_time": "2022-04-09T11:34:33.527Z"
   },
   {
    "duration": 205,
    "start_time": "2022-04-09T11:34:33.624Z"
   },
   {
    "duration": 3,
    "start_time": "2022-04-09T11:34:33.832Z"
   },
   {
    "duration": 11,
    "start_time": "2022-04-09T11:34:33.836Z"
   },
   {
    "duration": 19,
    "start_time": "2022-04-09T11:34:33.848Z"
   },
   {
    "duration": 37,
    "start_time": "2022-04-09T11:34:33.869Z"
   },
   {
    "duration": 18,
    "start_time": "2022-04-09T11:34:33.908Z"
   },
   {
    "duration": 5,
    "start_time": "2022-04-09T11:34:33.928Z"
   },
   {
    "duration": 184,
    "start_time": "2022-04-09T11:34:33.935Z"
   },
   {
    "duration": 0,
    "start_time": "2022-04-09T11:34:34.122Z"
   },
   {
    "duration": 0,
    "start_time": "2022-04-09T11:34:34.124Z"
   },
   {
    "duration": 0,
    "start_time": "2022-04-09T11:34:34.125Z"
   },
   {
    "duration": 0,
    "start_time": "2022-04-09T11:34:34.126Z"
   },
   {
    "duration": 0,
    "start_time": "2022-04-09T11:34:34.128Z"
   },
   {
    "duration": 0,
    "start_time": "2022-04-09T11:34:34.129Z"
   },
   {
    "duration": 0,
    "start_time": "2022-04-09T11:34:34.130Z"
   },
   {
    "duration": 0,
    "start_time": "2022-04-09T11:34:34.131Z"
   },
   {
    "duration": 0,
    "start_time": "2022-04-09T11:34:34.133Z"
   },
   {
    "duration": 0,
    "start_time": "2022-04-09T11:34:34.134Z"
   },
   {
    "duration": 0,
    "start_time": "2022-04-09T11:34:34.136Z"
   },
   {
    "duration": 0,
    "start_time": "2022-04-09T11:34:34.137Z"
   },
   {
    "duration": 0,
    "start_time": "2022-04-09T11:34:34.138Z"
   },
   {
    "duration": 544,
    "start_time": "2022-04-09T11:44:51.729Z"
   },
   {
    "duration": 101,
    "start_time": "2022-04-09T11:46:04.172Z"
   },
   {
    "duration": 107,
    "start_time": "2022-04-09T11:46:17.849Z"
   },
   {
    "duration": 5287,
    "start_time": "2022-04-09T11:46:25.171Z"
   },
   {
    "duration": 30,
    "start_time": "2022-04-09T11:47:18.576Z"
   },
   {
    "duration": 4,
    "start_time": "2022-04-09T11:48:27.483Z"
   },
   {
    "duration": 1865,
    "start_time": "2022-04-09T11:49:45.195Z"
   },
   {
    "duration": 343,
    "start_time": "2022-04-09T11:53:12.590Z"
   },
   {
    "duration": 23,
    "start_time": "2022-04-09T11:53:22.225Z"
   },
   {
    "duration": 2063,
    "start_time": "2022-04-09T11:54:02.720Z"
   },
   {
    "duration": 272290,
    "start_time": "2022-04-09T11:54:13.114Z"
   },
   {
    "duration": 1697,
    "start_time": "2022-04-09T11:59:22.206Z"
   },
   {
    "duration": 1033,
    "start_time": "2022-04-09T11:59:23.906Z"
   },
   {
    "duration": 40,
    "start_time": "2022-04-09T11:59:24.941Z"
   },
   {
    "duration": 182,
    "start_time": "2022-04-09T11:59:24.985Z"
   },
   {
    "duration": 658,
    "start_time": "2022-04-09T11:59:25.171Z"
   },
   {
    "duration": 757,
    "start_time": "2022-04-09T11:59:25.832Z"
   },
   {
    "duration": 157,
    "start_time": "2022-04-09T11:59:26.591Z"
   },
   {
    "duration": 182,
    "start_time": "2022-04-09T11:59:26.750Z"
   },
   {
    "duration": 46,
    "start_time": "2022-04-09T11:59:26.935Z"
   },
   {
    "duration": 35,
    "start_time": "2022-04-09T11:59:26.985Z"
   },
   {
    "duration": 92,
    "start_time": "2022-04-09T11:59:27.023Z"
   },
   {
    "duration": 57,
    "start_time": "2022-04-09T11:59:27.117Z"
   },
   {
    "duration": 15,
    "start_time": "2022-04-09T11:59:27.176Z"
   },
   {
    "duration": 133,
    "start_time": "2022-04-09T11:59:27.193Z"
   },
   {
    "duration": 12,
    "start_time": "2022-04-09T11:59:27.328Z"
   },
   {
    "duration": 86,
    "start_time": "2022-04-09T11:59:27.342Z"
   },
   {
    "duration": 220,
    "start_time": "2022-04-09T11:59:27.430Z"
   },
   {
    "duration": 3,
    "start_time": "2022-04-09T11:59:27.652Z"
   },
   {
    "duration": 15,
    "start_time": "2022-04-09T11:59:27.657Z"
   },
   {
    "duration": 8,
    "start_time": "2022-04-09T11:59:27.674Z"
   },
   {
    "duration": 39,
    "start_time": "2022-04-09T11:59:27.685Z"
   },
   {
    "duration": 42,
    "start_time": "2022-04-09T11:59:27.726Z"
   },
   {
    "duration": 6,
    "start_time": "2022-04-09T11:59:27.770Z"
   },
   {
    "duration": 10,
    "start_time": "2022-04-09T11:59:27.778Z"
   },
   {
    "duration": 1081444,
    "start_time": "2022-04-09T11:59:27.791Z"
   },
   {
    "duration": 794,
    "start_time": "2022-04-09T12:17:29.237Z"
   },
   {
    "duration": 5,
    "start_time": "2022-04-09T12:17:30.034Z"
   },
   {
    "duration": 9817028,
    "start_time": "2022-04-09T12:17:30.044Z"
   },
   {
    "duration": 5,
    "start_time": "2022-04-09T15:01:07.075Z"
   },
   {
    "duration": 2066,
    "start_time": "2022-04-09T15:01:07.082Z"
   },
   {
    "duration": 181,
    "start_time": "2022-04-09T15:38:40.553Z"
   },
   {
    "duration": 1810,
    "start_time": "2022-04-09T15:39:19.276Z"
   },
   {
    "duration": 1366,
    "start_time": "2022-04-09T15:39:22.210Z"
   },
   {
    "duration": 46,
    "start_time": "2022-04-09T15:39:23.579Z"
   },
   {
    "duration": 169,
    "start_time": "2022-04-09T15:39:24.057Z"
   },
   {
    "duration": 660,
    "start_time": "2022-04-09T15:39:24.654Z"
   },
   {
    "duration": 702,
    "start_time": "2022-04-09T15:39:25.392Z"
   },
   {
    "duration": 274,
    "start_time": "2022-04-09T15:39:27.635Z"
   },
   {
    "duration": 170,
    "start_time": "2022-04-09T15:39:28.362Z"
   },
   {
    "duration": 39,
    "start_time": "2022-04-09T15:39:29.144Z"
   },
   {
    "duration": 25,
    "start_time": "2022-04-09T15:39:29.871Z"
   },
   {
    "duration": 87,
    "start_time": "2022-04-09T15:39:31.220Z"
   },
   {
    "duration": 38,
    "start_time": "2022-04-09T15:39:32.071Z"
   },
   {
    "duration": 16,
    "start_time": "2022-04-09T15:39:32.825Z"
   },
   {
    "duration": 119,
    "start_time": "2022-04-09T15:39:34.715Z"
   },
   {
    "duration": 14,
    "start_time": "2022-04-09T15:39:39.439Z"
   },
   {
    "duration": 75,
    "start_time": "2022-04-09T15:39:40.277Z"
   },
   {
    "duration": 199,
    "start_time": "2022-04-09T15:39:41.091Z"
   },
   {
    "duration": 4,
    "start_time": "2022-04-09T15:39:41.867Z"
   },
   {
    "duration": 5,
    "start_time": "2022-04-09T15:39:45.054Z"
   },
   {
    "duration": 4,
    "start_time": "2022-04-09T15:39:45.823Z"
   },
   {
    "duration": 35,
    "start_time": "2022-04-09T15:39:46.866Z"
   },
   {
    "duration": 19,
    "start_time": "2022-04-09T15:39:47.592Z"
   },
   {
    "duration": 5,
    "start_time": "2022-04-09T15:39:48.942Z"
   },
   {
    "duration": 190,
    "start_time": "2022-04-09T15:40:01.788Z"
   },
   {
    "duration": 2055,
    "start_time": "2022-04-09T15:40:07.596Z"
   },
   {
    "duration": 1102523,
    "start_time": "2022-04-09T15:40:10.687Z"
   },
   {
    "duration": 109,
    "start_time": "2022-04-09T16:45:57.605Z"
   },
   {
    "duration": 110,
    "start_time": "2022-04-09T16:46:09.996Z"
   },
   {
    "duration": 207,
    "start_time": "2022-04-09T16:46:22.284Z"
   },
   {
    "duration": 508,
    "start_time": "2022-04-09T16:46:56.849Z"
   },
   {
    "duration": 38,
    "start_time": "2022-04-09T16:46:58.315Z"
   },
   {
    "duration": 1232751,
    "start_time": "2022-04-09T16:47:08.796Z"
   },
   {
    "duration": 1879,
    "start_time": "2022-04-10T11:24:19.997Z"
   },
   {
    "duration": 1524,
    "start_time": "2022-04-10T11:24:21.879Z"
   },
   {
    "duration": 50,
    "start_time": "2022-04-10T11:24:23.405Z"
   },
   {
    "duration": 187,
    "start_time": "2022-04-10T11:24:23.459Z"
   },
   {
    "duration": 841,
    "start_time": "2022-04-10T11:24:23.649Z"
   },
   {
    "duration": 1080,
    "start_time": "2022-04-10T11:24:24.493Z"
   },
   {
    "duration": 273,
    "start_time": "2022-04-10T11:24:25.576Z"
   },
   {
    "duration": 225,
    "start_time": "2022-04-10T11:24:25.852Z"
   },
   {
    "duration": 44,
    "start_time": "2022-04-10T11:24:26.083Z"
   },
   {
    "duration": 26,
    "start_time": "2022-04-10T11:24:26.131Z"
   },
   {
    "duration": 183,
    "start_time": "2022-04-10T11:24:26.160Z"
   },
   {
    "duration": 80,
    "start_time": "2022-04-10T11:24:26.345Z"
   },
   {
    "duration": 22,
    "start_time": "2022-04-10T11:24:26.428Z"
   },
   {
    "duration": 181,
    "start_time": "2022-04-10T11:24:26.452Z"
   },
   {
    "duration": 15,
    "start_time": "2022-04-10T11:24:26.636Z"
   },
   {
    "duration": 113,
    "start_time": "2022-04-10T11:24:26.653Z"
   },
   {
    "duration": 224,
    "start_time": "2022-04-10T11:24:26.768Z"
   },
   {
    "duration": 3,
    "start_time": "2022-04-10T11:24:26.994Z"
   },
   {
    "duration": 13,
    "start_time": "2022-04-10T11:24:27.000Z"
   },
   {
    "duration": 7,
    "start_time": "2022-04-10T11:24:27.015Z"
   },
   {
    "duration": 72,
    "start_time": "2022-04-10T11:24:27.025Z"
   },
   {
    "duration": 25,
    "start_time": "2022-04-10T11:24:27.099Z"
   },
   {
    "duration": 6,
    "start_time": "2022-04-10T11:24:27.126Z"
   },
   {
    "duration": 14,
    "start_time": "2022-04-10T11:24:27.135Z"
   },
   {
    "duration": 1070396,
    "start_time": "2022-04-10T11:24:27.151Z"
   },
   {
    "duration": 881,
    "start_time": "2022-04-10T11:42:17.549Z"
   },
   {
    "duration": 4,
    "start_time": "2022-04-10T11:42:18.433Z"
   },
   {
    "duration": 6509661,
    "start_time": "2022-04-10T11:42:18.442Z"
   },
   {
    "duration": 6,
    "start_time": "2022-04-10T13:30:48.106Z"
   },
   {
    "duration": 638,
    "start_time": "2022-04-10T13:30:48.114Z"
   },
   {
    "duration": 1248913,
    "start_time": "2022-04-10T13:30:48.755Z"
   },
   {
    "duration": 24514,
    "start_time": "2022-04-10T13:51:37.670Z"
   },
   {
    "duration": 96,
    "start_time": "2022-04-10T13:52:02.188Z"
   },
   {
    "duration": 935,
    "start_time": "2022-04-10T13:52:02.287Z"
   },
   {
    "duration": 264,
    "start_time": "2022-04-10T13:52:03.225Z"
   },
   {
    "duration": 165,
    "start_time": "2022-04-10T13:52:03.491Z"
   },
   {
    "duration": 141,
    "start_time": "2022-04-10T13:52:03.658Z"
   },
   {
    "duration": 14,
    "start_time": "2022-04-10T13:52:03.801Z"
   },
   {
    "duration": 196,
    "start_time": "2022-04-10T14:27:15.614Z"
   },
   {
    "duration": 35789,
    "start_time": "2022-04-10T14:35:19.009Z"
   },
   {
    "duration": 4144,
    "start_time": "2022-04-10T14:35:54.801Z"
   },
   {
    "duration": 33859,
    "start_time": "2022-04-10T14:36:36.027Z"
   },
   {
    "duration": 144,
    "start_time": "2022-04-10T14:39:02.832Z"
   },
   {
    "duration": 3469,
    "start_time": "2022-04-10T14:42:31.583Z"
   },
   {
    "duration": 3286,
    "start_time": "2022-04-10T14:42:45.549Z"
   },
   {
    "duration": 14,
    "start_time": "2022-04-10T14:46:07.953Z"
   },
   {
    "duration": 1323,
    "start_time": "2022-04-12T05:13:59.911Z"
   },
   {
    "duration": 813,
    "start_time": "2022-04-12T05:14:01.236Z"
   },
   {
    "duration": 24,
    "start_time": "2022-04-12T05:14:02.050Z"
   },
   {
    "duration": 141,
    "start_time": "2022-04-12T05:14:02.076Z"
   },
   {
    "duration": 477,
    "start_time": "2022-04-12T05:14:02.219Z"
   },
   {
    "duration": 488,
    "start_time": "2022-04-12T05:14:02.698Z"
   },
   {
    "duration": 128,
    "start_time": "2022-04-12T05:14:03.187Z"
   },
   {
    "duration": 121,
    "start_time": "2022-04-12T05:14:03.317Z"
   },
   {
    "duration": 29,
    "start_time": "2022-04-12T05:14:03.439Z"
   },
   {
    "duration": 18,
    "start_time": "2022-04-12T05:14:03.471Z"
   },
   {
    "duration": 85,
    "start_time": "2022-04-12T05:14:03.491Z"
   },
   {
    "duration": 46,
    "start_time": "2022-04-12T05:14:03.578Z"
   },
   {
    "duration": 11,
    "start_time": "2022-04-12T05:14:03.626Z"
   },
   {
    "duration": 79,
    "start_time": "2022-04-12T05:14:03.638Z"
   },
   {
    "duration": 7,
    "start_time": "2022-04-12T05:14:03.719Z"
   },
   {
    "duration": 42,
    "start_time": "2022-04-12T05:14:03.728Z"
   },
   {
    "duration": 160,
    "start_time": "2022-04-12T05:14:03.772Z"
   },
   {
    "duration": 3,
    "start_time": "2022-04-12T05:14:03.934Z"
   },
   {
    "duration": 9,
    "start_time": "2022-04-12T05:14:03.938Z"
   },
   {
    "duration": 4,
    "start_time": "2022-04-12T05:14:03.949Z"
   },
   {
    "duration": 30,
    "start_time": "2022-04-12T05:14:03.955Z"
   },
   {
    "duration": 31,
    "start_time": "2022-04-12T05:14:03.987Z"
   },
   {
    "duration": 3,
    "start_time": "2022-04-12T05:14:04.020Z"
   },
   {
    "duration": 5,
    "start_time": "2022-04-12T05:14:04.025Z"
   },
   {
    "duration": 499967,
    "start_time": "2022-04-12T05:14:04.032Z"
   },
   {
    "duration": 687,
    "start_time": "2022-04-12T05:22:24.001Z"
   },
   {
    "duration": 3,
    "start_time": "2022-04-12T05:22:24.690Z"
   },
   {
    "duration": 1456735,
    "start_time": "2022-04-12T05:22:24.697Z"
   },
   {
    "duration": 4,
    "start_time": "2022-04-12T05:46:41.510Z"
   },
   {
    "duration": 562,
    "start_time": "2022-04-12T05:46:41.516Z"
   },
   {
    "duration": 894987,
    "start_time": "2022-04-12T05:46:42.080Z"
   },
   {
    "duration": 662,
    "start_time": "2022-04-12T06:01:37.069Z"
   },
   {
    "duration": 8,
    "start_time": "2022-04-12T06:01:37.733Z"
   },
   {
    "duration": 8,
    "start_time": "2022-04-12T06:37:40.045Z"
   }
  ],
  "kernelspec": {
   "display_name": "Python 3",
   "language": "python",
   "name": "python3"
  },
  "language_info": {
   "codemirror_mode": {
    "name": "ipython",
    "version": 3
   },
   "file_extension": ".py",
   "mimetype": "text/x-python",
   "name": "python",
   "nbconvert_exporter": "python",
   "pygments_lexer": "ipython3",
   "version": "3.8.8"
  },
  "toc": {
   "base_numbering": 1,
   "nav_menu": {},
   "number_sections": true,
   "sideBar": true,
   "skip_h1_title": true,
   "title_cell": "Table of Contents",
   "title_sidebar": "Contents",
   "toc_cell": false,
   "toc_position": {},
   "toc_section_display": true,
   "toc_window_display": false
  }
 },
 "nbformat": 4,
 "nbformat_minor": 2
}
