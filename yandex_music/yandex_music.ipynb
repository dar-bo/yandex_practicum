{
 "cells": [
  {
   "cell_type": "markdown",
   "metadata": {
    "id": "E0vqbgi9ay0H"
   },
   "source": [
    "# Яндекс.Музыка"
   ]
  },
  {
   "cell_type": "code",
   "execution_count": 1,
   "metadata": {
    "id": "AXN7PHPN_Zcs"
   },
   "outputs": [],
   "source": [
    "import pandas as pd # импорт библиотеки pandas"
   ]
  },
  {
   "cell_type": "code",
   "execution_count": 2,
   "metadata": {},
   "outputs": [],
   "source": [
    "df = pd.read_csv(r\"C:\\Users\\User\\PycharmProjects\\Downloads\\yandex_music_project.csv\")"
   ]
  },
  {
   "cell_type": "code",
   "execution_count": 3,
   "metadata": {
    "id": "oWTVX3gW_Zct"
   },
   "outputs": [
    {
     "data": {
      "text/html": [
       "<div>\n",
       "<style scoped>\n",
       "    .dataframe tbody tr th:only-of-type {\n",
       "        vertical-align: middle;\n",
       "    }\n",
       "\n",
       "    .dataframe tbody tr th {\n",
       "        vertical-align: top;\n",
       "    }\n",
       "\n",
       "    .dataframe thead th {\n",
       "        text-align: right;\n",
       "    }\n",
       "</style>\n",
       "<table border=\"1\" class=\"dataframe\">\n",
       "  <thead>\n",
       "    <tr style=\"text-align: right;\">\n",
       "      <th></th>\n",
       "      <th>userID</th>\n",
       "      <th>Track</th>\n",
       "      <th>artist</th>\n",
       "      <th>genre</th>\n",
       "      <th>City</th>\n",
       "      <th>time</th>\n",
       "      <th>Day</th>\n",
       "    </tr>\n",
       "  </thead>\n",
       "  <tbody>\n",
       "    <tr>\n",
       "      <th>0</th>\n",
       "      <td>FFB692EC</td>\n",
       "      <td>Kamigata To Boots</td>\n",
       "      <td>The Mass Missile</td>\n",
       "      <td>rock</td>\n",
       "      <td>Saint-Petersburg</td>\n",
       "      <td>20:28:33</td>\n",
       "      <td>Wednesday</td>\n",
       "    </tr>\n",
       "    <tr>\n",
       "      <th>1</th>\n",
       "      <td>55204538</td>\n",
       "      <td>Delayed Because of Accident</td>\n",
       "      <td>Andreas Rönnberg</td>\n",
       "      <td>rock</td>\n",
       "      <td>Moscow</td>\n",
       "      <td>14:07:09</td>\n",
       "      <td>Friday</td>\n",
       "    </tr>\n",
       "    <tr>\n",
       "      <th>2</th>\n",
       "      <td>20EC38</td>\n",
       "      <td>Funiculì funiculà</td>\n",
       "      <td>Mario Lanza</td>\n",
       "      <td>pop</td>\n",
       "      <td>Saint-Petersburg</td>\n",
       "      <td>20:58:07</td>\n",
       "      <td>Wednesday</td>\n",
       "    </tr>\n",
       "    <tr>\n",
       "      <th>3</th>\n",
       "      <td>A3DD03C9</td>\n",
       "      <td>Dragons in the Sunset</td>\n",
       "      <td>Fire + Ice</td>\n",
       "      <td>folk</td>\n",
       "      <td>Saint-Petersburg</td>\n",
       "      <td>08:37:09</td>\n",
       "      <td>Monday</td>\n",
       "    </tr>\n",
       "    <tr>\n",
       "      <th>4</th>\n",
       "      <td>E2DC1FAE</td>\n",
       "      <td>Soul People</td>\n",
       "      <td>Space Echo</td>\n",
       "      <td>dance</td>\n",
       "      <td>Moscow</td>\n",
       "      <td>08:34:34</td>\n",
       "      <td>Monday</td>\n",
       "    </tr>\n",
       "    <tr>\n",
       "      <th>5</th>\n",
       "      <td>842029A1</td>\n",
       "      <td>Преданная</td>\n",
       "      <td>IMPERVTOR</td>\n",
       "      <td>rusrap</td>\n",
       "      <td>Saint-Petersburg</td>\n",
       "      <td>13:09:41</td>\n",
       "      <td>Friday</td>\n",
       "    </tr>\n",
       "    <tr>\n",
       "      <th>6</th>\n",
       "      <td>4CB90AA5</td>\n",
       "      <td>True</td>\n",
       "      <td>Roman Messer</td>\n",
       "      <td>dance</td>\n",
       "      <td>Moscow</td>\n",
       "      <td>13:00:07</td>\n",
       "      <td>Wednesday</td>\n",
       "    </tr>\n",
       "    <tr>\n",
       "      <th>7</th>\n",
       "      <td>F03E1C1F</td>\n",
       "      <td>Feeling This Way</td>\n",
       "      <td>Polina Griffith</td>\n",
       "      <td>dance</td>\n",
       "      <td>Moscow</td>\n",
       "      <td>20:47:49</td>\n",
       "      <td>Wednesday</td>\n",
       "    </tr>\n",
       "    <tr>\n",
       "      <th>8</th>\n",
       "      <td>8FA1D3BE</td>\n",
       "      <td>И вновь продолжается бой</td>\n",
       "      <td>NaN</td>\n",
       "      <td>ruspop</td>\n",
       "      <td>Moscow</td>\n",
       "      <td>09:17:40</td>\n",
       "      <td>Friday</td>\n",
       "    </tr>\n",
       "    <tr>\n",
       "      <th>9</th>\n",
       "      <td>E772D5C0</td>\n",
       "      <td>Pessimist</td>\n",
       "      <td>NaN</td>\n",
       "      <td>dance</td>\n",
       "      <td>Saint-Petersburg</td>\n",
       "      <td>21:20:49</td>\n",
       "      <td>Wednesday</td>\n",
       "    </tr>\n",
       "  </tbody>\n",
       "</table>\n",
       "</div>"
      ],
      "text/plain": [
       "     userID                        Track            artist   genre  \\\n",
       "0  FFB692EC            Kamigata To Boots  The Mass Missile    rock   \n",
       "1  55204538  Delayed Because of Accident  Andreas Rönnberg    rock   \n",
       "2    20EC38            Funiculì funiculà       Mario Lanza     pop   \n",
       "3  A3DD03C9        Dragons in the Sunset        Fire + Ice    folk   \n",
       "4  E2DC1FAE                  Soul People        Space Echo   dance   \n",
       "5  842029A1                    Преданная         IMPERVTOR  rusrap   \n",
       "6  4CB90AA5                         True      Roman Messer   dance   \n",
       "7  F03E1C1F             Feeling This Way   Polina Griffith   dance   \n",
       "8  8FA1D3BE     И вновь продолжается бой               NaN  ruspop   \n",
       "9  E772D5C0                    Pessimist               NaN   dance   \n",
       "\n",
       "             City        time        Day  \n",
       "0  Saint-Petersburg  20:28:33  Wednesday  \n",
       "1            Moscow  14:07:09     Friday  \n",
       "2  Saint-Petersburg  20:58:07  Wednesday  \n",
       "3  Saint-Petersburg  08:37:09     Monday  \n",
       "4            Moscow  08:34:34     Monday  \n",
       "5  Saint-Petersburg  13:09:41     Friday  \n",
       "6            Moscow  13:00:07  Wednesday  \n",
       "7            Moscow  20:47:49  Wednesday  \n",
       "8            Moscow  09:17:40     Friday  \n",
       "9  Saint-Petersburg  21:20:49  Wednesday  "
      ]
     },
     "execution_count": 3,
     "metadata": {},
     "output_type": "execute_result"
    }
   ],
   "source": [
    "df.head(10) # получение первых 10 строк таблицы df"
   ]
  },
  {
   "cell_type": "markdown",
   "metadata": {
    "id": "EO73Kwic_Zct"
   },
   "source": [
    "Одной командой получить общую информацию о таблице:"
   ]
  },
  {
   "cell_type": "code",
   "execution_count": 4,
   "metadata": {
    "id": "DSf2kIb-_Zct"
   },
   "outputs": [
    {
     "name": "stdout",
     "output_type": "stream",
     "text": [
      "<class 'pandas.core.frame.DataFrame'>\n",
      "RangeIndex: 65079 entries, 0 to 65078\n",
      "Data columns (total 7 columns):\n",
      " #   Column    Non-Null Count  Dtype \n",
      "---  ------    --------------  ----- \n",
      " 0     userID  65079 non-null  object\n",
      " 1   Track     63848 non-null  object\n",
      " 2   artist    57876 non-null  object\n",
      " 3   genre     63881 non-null  object\n",
      " 4     City    65079 non-null  object\n",
      " 5   time      65079 non-null  object\n",
      " 6   Day       65079 non-null  object\n",
      "dtypes: object(7)\n",
      "memory usage: 3.5+ MB\n"
     ]
    }
   ],
   "source": [
    "df.info() # получение общей информации о данных в таблице df"
   ]
  },
  {
   "cell_type": "markdown",
   "metadata": {
    "id": "TaQ2Iwbr_Zct"
   },
   "source": [
    "Итак, в таблице семь столбцов. Тип данных во всех столбцах — `object`.\n",
    "\n",
    "Согласно документации к данным:\n",
    "* `userID` — идентификатор пользователя;\n",
    "* `Track` — название трека;  \n",
    "* `artist` — имя исполнителя;\n",
    "* `genre` — название жанра;\n",
    "* `City` — город пользователя;\n",
    "* `time` — время начала прослушивания;\n",
    "* `Day` — день недели.\n",
    "\n",
    "В названиях колонок видны три нарушения стиля:\n",
    "1. Строчные буквы сочетаются с прописными.\n",
    "2. Встречаются пробелы.\n",
    "3. Верблюжий регистр используется не по(Найдите ещё одну проблему в названии колонок и опишите её в этом пункте.)\n",
    "\n",
    "\n",
    "\n",
    "Количество значений в столбцах различается. Значит, в данных есть пропущенные значения.\n"
   ]
  },
  {
   "cell_type": "markdown",
   "metadata": {
    "id": "MCB6-dXG_Zct"
   },
   "source": [
    "**Выводы**\n",
    "\n",
    "В каждой строке таблицы — данные о прослушанном треке. Часть колонок описывает саму композицию: название, исполнителя и жанр. Остальные данные рассказывают о пользователе: из какого он города, когда он слушал музыку. \n",
    "\n",
    "Предварительно можно утверждать, что, данных достаточно для проверки гипотез. Но встречаются пропуски в данных, а в названиях колонок — расхождения с хорошим стилем.\n",
    "\n",
    "Чтобы двигаться дальше, нужно устранить проблемы в данных."
   ]
  },
  {
   "cell_type": "markdown",
   "metadata": {
    "id": "SjYF6Ub9_Zct"
   },
   "source": [
    "## Предобработка данных\n",
    "Исправьте стиль в заголовках столбцов, исключите пропуски. Затем проверьте данные на дубликаты."
   ]
  },
  {
   "cell_type": "markdown",
   "metadata": {
    "id": "dIaKXr29_Zct"
   },
   "source": [
    "### Стиль заголовков\n",
    "Выведите на экран названия столбцов:"
   ]
  },
  {
   "cell_type": "code",
   "execution_count": 5,
   "metadata": {
    "id": "oKOTdF_Q_Zct"
   },
   "outputs": [
    {
     "data": {
      "text/plain": [
       "Index(['  userID', 'Track', 'artist', 'genre', '  City  ', 'time', 'Day'], dtype='object')"
      ]
     },
     "execution_count": 5,
     "metadata": {},
     "output_type": "execute_result"
    }
   ],
   "source": [
    "df.columns # перечень названий столбцов таблицы df"
   ]
  },
  {
   "cell_type": "markdown",
   "metadata": {
    "id": "FPZA3ki8xe7T"
   },
   "source": []
  },
  {
   "cell_type": "markdown",
   "metadata": {
    "id": "zj5534cv_Zct"
   },
   "source": [
    "Приведите названия в соответствие с хорошим стилем:\n",
    "* несколько слов в названии запишите в «змеином_регистре»,\n",
    "* все символы сделайте строчными,\n",
    "* устраните пробелы.\n",
    "\n",
    "Для этого переименуйте колонки так:\n",
    "* `'  userID'` → `'user_id'`;\n",
    "* `'Track'` → `'track'`;\n",
    "* `'  City  '` → `'city'`;\n",
    "* `'Day'` → `'day'`."
   ]
  },
  {
   "cell_type": "code",
   "execution_count": 6,
   "metadata": {
    "id": "ISlFqs5y_Zct"
   },
   "outputs": [],
   "source": [
    "df = df.rename(columns={'  userID':'user_id', 'Track':'track', '  City  ':'city', 'Day':'day'}) #переименование столбцов"
   ]
  },
  {
   "cell_type": "markdown",
   "metadata": {
    "id": "1dqbh00J_Zct"
   },
   "source": [
    "Проверьте результат. Для этого ещё раз выведите на экран названия столбцов:"
   ]
  },
  {
   "cell_type": "code",
   "execution_count": 7,
   "metadata": {
    "id": "d4NOAmTW_Zct"
   },
   "outputs": [
    {
     "data": {
      "text/plain": [
       "Index(['user_id', 'track', 'artist', 'genre', 'city', 'time', 'day'], dtype='object')"
      ]
     },
     "execution_count": 7,
     "metadata": {},
     "output_type": "execute_result"
    }
   ],
   "source": [
    "df.columns # проверка результатов - перечень названий столбцов"
   ]
  },
  {
   "cell_type": "code",
   "execution_count": 8,
   "metadata": {
    "id": "RskX29qr_Zct"
   },
   "outputs": [
    {
     "data": {
      "text/plain": [
       "user_id       0\n",
       "track      1231\n",
       "artist     7203\n",
       "genre      1198\n",
       "city          0\n",
       "time          0\n",
       "day           0\n",
       "dtype: int64"
      ]
     },
     "execution_count": 8,
     "metadata": {},
     "output_type": "execute_result"
    }
   ],
   "source": [
    "df.isna().sum() # подсчёт пропусков"
   ]
  },
  {
   "cell_type": "markdown",
   "metadata": {
    "id": "qubhgnlO_Zct"
   },
   "source": [
    "Не все пропущенные значения влияют на исследование. Так в `track` и `artist` пропуски не важны для вашей работы. Достаточно заменить их явными обозначениями.\n",
    "\n",
    "Но пропуски в `genre` могут помешать сравнению музыкальных вкусов в Москве и Санкт-Петербурге. На практике было бы правильно установить причину пропусков и восстановить данные. Такой возможности нет в учебном проекте. Придётся:\n",
    "* заполнить и эти пропуски явными обозначениями,\n",
    "* оценить, насколько они повредят расчётам. "
   ]
  },
  {
   "cell_type": "markdown",
   "metadata": {
    "id": "fSv2laPA_Zct"
   },
   "source": [
    "Замените пропущенные значения в столбцах `track`, `artist` и `genre` на строку `'unknown'`. Для этого создайте список `columns_to_replace`, переберите его элементы циклом `for` и для каждого столбца выполните замену пропущенных значений:"
   ]
  },
  {
   "cell_type": "code",
   "execution_count": 9,
   "metadata": {
    "id": "KplB5qWs_Zct"
   },
   "outputs": [],
   "source": [
    "columns_to_replace = ['track', 'artist', 'genre'] \n",
    "for column in columns_to_replace: # перебор названий столбцов в цикле и замена пропущенных значений на 'unknown'\n",
    "    df[column] = df[column].fillna('unknown')"
   ]
  },
  {
   "cell_type": "code",
   "execution_count": 10,
   "metadata": {
    "id": "Tq4nYRX4_Zct"
   },
   "outputs": [
    {
     "data": {
      "text/plain": [
       "user_id    0\n",
       "track      0\n",
       "artist     0\n",
       "genre      0\n",
       "city       0\n",
       "time       0\n",
       "day        0\n",
       "dtype: int64"
      ]
     },
     "execution_count": 10,
     "metadata": {},
     "output_type": "execute_result"
    }
   ],
   "source": [
    "df.isna().sum()# подсчёт пропусков"
   ]
  },
  {
   "cell_type": "markdown",
   "metadata": {
    "id": "BWKRtBJ3_Zct"
   },
   "source": [
    "### Дубликаты\n",
    "Посчитайте явные дубликаты в таблице одной командой:"
   ]
  },
  {
   "cell_type": "code",
   "execution_count": 11,
   "metadata": {
    "id": "36eES_S0_Zct"
   },
   "outputs": [
    {
     "data": {
      "text/plain": [
       "3826"
      ]
     },
     "execution_count": 11,
     "metadata": {},
     "output_type": "execute_result"
    }
   ],
   "source": [
    "df.duplicated().sum() # подсчёт явных дубликатов"
   ]
  },
  {
   "cell_type": "markdown",
   "metadata": {
    "id": "Ot25h6XR_Zct"
   },
   "source": [
    "Вызовите специальный метод `pandas`, чтобы удалить явные дубликаты:"
   ]
  },
  {
   "cell_type": "code",
   "execution_count": 12,
   "metadata": {
    "id": "exFHq6tt_Zct"
   },
   "outputs": [],
   "source": [
    "df = df.drop_duplicates().reset_index(drop=True) # удаление явных дубликатов (с удалением старых индексов и формированием новых)\n",
    "  "
   ]
  },
  {
   "cell_type": "markdown",
   "metadata": {
    "id": "Im2YwBEG_Zct"
   },
   "source": [
    "Ещё раз посчитайте явные дубликаты в таблице — убедитесь, что полностью от них избавились:"
   ]
  },
  {
   "cell_type": "code",
   "execution_count": 13,
   "metadata": {
    "id": "-8PuNWQ0_Zct"
   },
   "outputs": [
    {
     "data": {
      "text/plain": [
       "0"
      ]
     },
     "execution_count": 13,
     "metadata": {},
     "output_type": "execute_result"
    }
   ],
   "source": [
    "df.duplicated().sum() # проверка на отсутствие дубликатов\n"
   ]
  },
  {
   "cell_type": "code",
   "execution_count": 14,
   "metadata": {
    "id": "JIUcqzZN_Zct"
   },
   "outputs": [
    {
     "data": {
      "text/plain": [
       "array(['acid', 'acoustic', 'action', 'adult', 'africa', 'afrikaans',\n",
       "       'alternative', 'alternativepunk', 'ambient', 'americana',\n",
       "       'animated', 'anime', 'arabesk', 'arabic', 'arena',\n",
       "       'argentinetango', 'art', 'audiobook', 'author', 'avantgarde',\n",
       "       'axé', 'baile', 'balkan', 'beats', 'bigroom', 'black', 'bluegrass',\n",
       "       'blues', 'bollywood', 'bossa', 'brazilian', 'breakbeat', 'breaks',\n",
       "       'broadway', 'cantautori', 'cantopop', 'canzone', 'caribbean',\n",
       "       'caucasian', 'celtic', 'chamber', 'chanson', 'children', 'chill',\n",
       "       'chinese', 'choral', 'christian', 'christmas', 'classical',\n",
       "       'classicmetal', 'club', 'colombian', 'comedy', 'conjazz',\n",
       "       'contemporary', 'country', 'cuban', 'dance', 'dancehall',\n",
       "       'dancepop', 'dark', 'death', 'deep', 'deutschrock', 'deutschspr',\n",
       "       'dirty', 'disco', 'dnb', 'documentary', 'downbeat', 'downtempo',\n",
       "       'drum', 'dub', 'dubstep', 'eastern', 'easy', 'electronic',\n",
       "       'electropop', 'emo', 'entehno', 'epicmetal', 'estrada', 'ethnic',\n",
       "       'eurofolk', 'european', 'experimental', 'extrememetal', 'fado',\n",
       "       'fairytail', 'film', 'fitness', 'flamenco', 'folk', 'folklore',\n",
       "       'folkmetal', 'folkrock', 'folktronica', 'forró', 'frankreich',\n",
       "       'französisch', 'french', 'funk', 'future', 'gangsta', 'garage',\n",
       "       'german', 'ghazal', 'gitarre', 'glitch', 'gospel', 'gothic',\n",
       "       'grime', 'grunge', 'gypsy', 'handsup', \"hard'n'heavy\", 'hardcore',\n",
       "       'hardstyle', 'hardtechno', 'hip', 'hip-hop', 'hiphop',\n",
       "       'historisch', 'holiday', 'hop', 'horror', 'house', 'hymn', 'idm',\n",
       "       'independent', 'indian', 'indie', 'indipop', 'industrial',\n",
       "       'inspirational', 'instrumental', 'international', 'irish', 'jam',\n",
       "       'japanese', 'jazz', 'jewish', 'jpop', 'jungle', 'k-pop',\n",
       "       'karadeniz', 'karaoke', 'kayokyoku', 'korean', 'laiko', 'latin',\n",
       "       'latino', 'leftfield', 'local', 'lounge', 'loungeelectronic',\n",
       "       'lovers', 'malaysian', 'mandopop', 'marschmusik', 'meditative',\n",
       "       'mediterranean', 'melodic', 'metal', 'metalcore', 'mexican',\n",
       "       'middle', 'minimal', 'miscellaneous', 'modern', 'mood', 'mpb',\n",
       "       'muslim', 'native', 'neoklassik', 'neue', 'new', 'newage',\n",
       "       'newwave', 'nu', 'nujazz', 'numetal', 'oceania', 'old', 'opera',\n",
       "       'orchestral', 'other', 'piano', 'podcasts', 'pop', 'popdance',\n",
       "       'popelectronic', 'popeurodance', 'poprussian', 'post',\n",
       "       'posthardcore', 'postrock', 'power', 'progmetal', 'progressive',\n",
       "       'psychedelic', 'punjabi', 'punk', 'quebecois', 'ragga', 'ram',\n",
       "       'rancheras', 'rap', 'rave', 'reggae', 'reggaeton', 'regional',\n",
       "       'relax', 'religious', 'retro', 'rhythm', 'rnb', 'rnr', 'rock',\n",
       "       'rockabilly', 'rockalternative', 'rockindie', 'rockother',\n",
       "       'romance', 'roots', 'ruspop', 'rusrap', 'rusrock', 'russian',\n",
       "       'salsa', 'samba', 'scenic', 'schlager', 'self', 'sertanejo',\n",
       "       'shanson', 'shoegazing', 'showtunes', 'singer', 'ska', 'skarock',\n",
       "       'slow', 'smooth', 'soft', 'soul', 'soulful', 'sound', 'soundtrack',\n",
       "       'southern', 'specialty', 'speech', 'spiritual', 'sport',\n",
       "       'stonerrock', 'surf', 'swing', 'synthpop', 'synthrock',\n",
       "       'sängerportrait', 'tango', 'tanzorchester', 'taraftar', 'tatar',\n",
       "       'tech', 'techno', 'teen', 'thrash', 'top', 'traditional',\n",
       "       'tradjazz', 'trance', 'tribal', 'trip', 'triphop', 'tropical',\n",
       "       'türk', 'türkçe', 'ukrrock', 'unknown', 'urban', 'uzbek',\n",
       "       'variété', 'vi', 'videogame', 'vocal', 'western', 'world',\n",
       "       'worldbeat', 'ïîï', 'электроника'], dtype=object)"
      ]
     },
     "execution_count": 14,
     "metadata": {},
     "output_type": "execute_result"
    }
   ],
   "source": [
    "df['genre'].sort_values().unique()# Просмотр уникальных названий жанров\n"
   ]
  },
  {
   "cell_type": "code",
   "execution_count": 15,
   "metadata": {
    "id": "ErNDkmns_Zct"
   },
   "outputs": [],
   "source": [
    "def replace_wrong_genres(wrong_genres, correct_genre): # Функция для замены неявных дубликатов\n",
    "    df['genre'] = df['genre'].replace(wrong_genres, correct_genre)\n",
    "    \n",
    "        "
   ]
  },
  {
   "cell_type": "code",
   "execution_count": 16,
   "metadata": {
    "id": "YN5i2hpmSo09"
   },
   "outputs": [],
   "source": [
    "wrong_genres = ['hip', 'hop', 'hip-hop'] \n",
    "correct_genre = 'hiphop'\n",
    "replace_wrong_genres(wrong_genres, correct_genre) \n",
    "df['genre'] = df['genre'].replace('электроника', 'electronic')# Устранение неявных дубликатов\n"
   ]
  },
  {
   "cell_type": "code",
   "execution_count": 17,
   "metadata": {
    "id": "wvixALnFG15m"
   },
   "outputs": [
    {
     "data": {
      "text/plain": [
       "array(['acid', 'acoustic', 'action', 'adult', 'africa', 'afrikaans',\n",
       "       'alternative', 'alternativepunk', 'ambient', 'americana',\n",
       "       'animated', 'anime', 'arabesk', 'arabic', 'arena',\n",
       "       'argentinetango', 'art', 'audiobook', 'author', 'avantgarde',\n",
       "       'axé', 'baile', 'balkan', 'beats', 'bigroom', 'black', 'bluegrass',\n",
       "       'blues', 'bollywood', 'bossa', 'brazilian', 'breakbeat', 'breaks',\n",
       "       'broadway', 'cantautori', 'cantopop', 'canzone', 'caribbean',\n",
       "       'caucasian', 'celtic', 'chamber', 'chanson', 'children', 'chill',\n",
       "       'chinese', 'choral', 'christian', 'christmas', 'classical',\n",
       "       'classicmetal', 'club', 'colombian', 'comedy', 'conjazz',\n",
       "       'contemporary', 'country', 'cuban', 'dance', 'dancehall',\n",
       "       'dancepop', 'dark', 'death', 'deep', 'deutschrock', 'deutschspr',\n",
       "       'dirty', 'disco', 'dnb', 'documentary', 'downbeat', 'downtempo',\n",
       "       'drum', 'dub', 'dubstep', 'eastern', 'easy', 'electronic',\n",
       "       'electropop', 'emo', 'entehno', 'epicmetal', 'estrada', 'ethnic',\n",
       "       'eurofolk', 'european', 'experimental', 'extrememetal', 'fado',\n",
       "       'fairytail', 'film', 'fitness', 'flamenco', 'folk', 'folklore',\n",
       "       'folkmetal', 'folkrock', 'folktronica', 'forró', 'frankreich',\n",
       "       'französisch', 'french', 'funk', 'future', 'gangsta', 'garage',\n",
       "       'german', 'ghazal', 'gitarre', 'glitch', 'gospel', 'gothic',\n",
       "       'grime', 'grunge', 'gypsy', 'handsup', \"hard'n'heavy\", 'hardcore',\n",
       "       'hardstyle', 'hardtechno', 'hiphop', 'historisch', 'holiday',\n",
       "       'horror', 'house', 'hymn', 'idm', 'independent', 'indian', 'indie',\n",
       "       'indipop', 'industrial', 'inspirational', 'instrumental',\n",
       "       'international', 'irish', 'jam', 'japanese', 'jazz', 'jewish',\n",
       "       'jpop', 'jungle', 'k-pop', 'karadeniz', 'karaoke', 'kayokyoku',\n",
       "       'korean', 'laiko', 'latin', 'latino', 'leftfield', 'local',\n",
       "       'lounge', 'loungeelectronic', 'lovers', 'malaysian', 'mandopop',\n",
       "       'marschmusik', 'meditative', 'mediterranean', 'melodic', 'metal',\n",
       "       'metalcore', 'mexican', 'middle', 'minimal', 'miscellaneous',\n",
       "       'modern', 'mood', 'mpb', 'muslim', 'native', 'neoklassik', 'neue',\n",
       "       'new', 'newage', 'newwave', 'nu', 'nujazz', 'numetal', 'oceania',\n",
       "       'old', 'opera', 'orchestral', 'other', 'piano', 'podcasts', 'pop',\n",
       "       'popdance', 'popelectronic', 'popeurodance', 'poprussian', 'post',\n",
       "       'posthardcore', 'postrock', 'power', 'progmetal', 'progressive',\n",
       "       'psychedelic', 'punjabi', 'punk', 'quebecois', 'ragga', 'ram',\n",
       "       'rancheras', 'rap', 'rave', 'reggae', 'reggaeton', 'regional',\n",
       "       'relax', 'religious', 'retro', 'rhythm', 'rnb', 'rnr', 'rock',\n",
       "       'rockabilly', 'rockalternative', 'rockindie', 'rockother',\n",
       "       'romance', 'roots', 'ruspop', 'rusrap', 'rusrock', 'russian',\n",
       "       'salsa', 'samba', 'scenic', 'schlager', 'self', 'sertanejo',\n",
       "       'shanson', 'shoegazing', 'showtunes', 'singer', 'ska', 'skarock',\n",
       "       'slow', 'smooth', 'soft', 'soul', 'soulful', 'sound', 'soundtrack',\n",
       "       'southern', 'specialty', 'speech', 'spiritual', 'sport',\n",
       "       'stonerrock', 'surf', 'swing', 'synthpop', 'synthrock',\n",
       "       'sängerportrait', 'tango', 'tanzorchester', 'taraftar', 'tatar',\n",
       "       'tech', 'techno', 'teen', 'thrash', 'top', 'traditional',\n",
       "       'tradjazz', 'trance', 'tribal', 'trip', 'triphop', 'tropical',\n",
       "       'türk', 'türkçe', 'ukrrock', 'unknown', 'urban', 'uzbek',\n",
       "       'variété', 'vi', 'videogame', 'vocal', 'western', 'world',\n",
       "       'worldbeat', 'ïîï'], dtype=object)"
      ]
     },
     "execution_count": 17,
     "metadata": {},
     "output_type": "execute_result"
    }
   ],
   "source": [
    "df['genre'].sort_values().unique() # Проверка на неявные дубликаты\n"
   ]
  },
  {
   "cell_type": "markdown",
   "metadata": {
    "id": "jz6a9-7HQUDd"
   },
   "source": [
    "**Выводы**\n",
    "\n",
    "Предобработка обнаружила три проблемы в данных:\n",
    "\n",
    "- нарушения в стиле заголовков,\n",
    "- пропущенные значения,\n",
    "- дубликаты — явные и неявные.\n",
    "\n",
    "Вы исправили заголовки, чтобы упростить работу с таблицей. Без дубликатов исследование станет более точным.\n",
    "\n",
    "Пропущенные значения вы заменили на `'unknown'`. Ещё предстоит увидеть, не повредят ли исследованию пропуски в колонке `genre`.\n",
    "\n",
    "Теперь можно перейти к проверке гипотез. "
   ]
  },
  {
   "cell_type": "markdown",
   "metadata": {
    "id": "WttZHXH0SqKk"
   },
   "source": [
    "## Проверка гипотез"
   ]
  },
  {
   "cell_type": "markdown",
   "metadata": {
    "id": "Im936VVi_Zcu"
   },
   "source": [
    "### Сравнение поведения пользователей двух столиц"
   ]
  },
  {
   "cell_type": "markdown",
   "metadata": {
    "id": "nwt_MuaL_Zcu"
   },
   "source": [
    "Первая гипотеза утверждает, что пользователи по-разному слушают музыку в Москве и Санкт-Петербурге. Проверьте это предположение по данным о трёх днях недели — понедельнике, среде и пятнице. Для этого:\n",
    "\n",
    "* Разделите пользователей Москвы и Санкт-Петербурга\n",
    "* Сравните, сколько треков послушала каждая группа пользователей в понедельник, среду и пятницу.\n"
   ]
  },
  {
   "cell_type": "markdown",
   "metadata": {
    "id": "8Dw_YMmT_Zcu"
   },
   "source": [
    "Для тренировки сначала выполните каждый из расчётов по отдельности. \n",
    "\n",
    "Оцените активность пользователей в каждом городе. Сгруппируйте данные по городу и посчитайте прослушивания в каждой группе.\n",
    "\n"
   ]
  },
  {
   "cell_type": "code",
   "execution_count": 18,
   "metadata": {
    "id": "0_Qs96oh_Zcu"
   },
   "outputs": [
    {
     "data": {
      "text/plain": [
       "city\n",
       "Moscow              42741\n",
       "Saint-Petersburg    18512\n",
       "Name: city, dtype: int64"
      ]
     },
     "metadata": {},
     "output_type": "display_data"
    }
   ],
   "source": [
    "auditions_city = df.groupby('city')['city'].count() # Подсчёт прослушиваний в каждом городе\n",
    "display(auditions_city)"
   ]
  },
  {
   "cell_type": "markdown",
   "metadata": {
    "id": "dzli3w8o_Zcu"
   },
   "source": [
    "В Москве прослушиваний больше, чем в Петербурге. Из этого не следует, что московские пользователи чаще слушают музыку. Просто самих пользователей в Москве больше.\n",
    "\n"
   ]
  },
  {
   "cell_type": "code",
   "execution_count": 19,
   "metadata": {
    "id": "uZMKjiJz_Zcu"
   },
   "outputs": [
    {
     "name": "stdout",
     "output_type": "stream",
     "text": [
      "day\n",
      "Friday       21840\n",
      "Monday       21354\n",
      "Wednesday    18059\n",
      "Name: day, dtype: int64\n"
     ]
    }
   ],
   "source": [
    "auditions_weekday = df.groupby('day')['day'].count() # Подсчёт прослушиваний в каждый из трёх дней\n",
    "print(auditions_weekday)"
   ]
  },
  {
   "cell_type": "markdown",
   "metadata": {
    "id": "cC2tNrlL_Zcu"
   },
   "source": [
    "В среднем пользователи из двух городов менее активны по средам. Но картина может измениться, если рассмотреть каждый город в отдельности."
   ]
  },
  {
   "cell_type": "code",
   "execution_count": 20,
   "metadata": {
    "id": "Nz3GdQB1_Zcu"
   },
   "outputs": [],
   "source": [
    "def number_tracks(day, city): # <создание функции number_tracks()>\n",
    "    track_list = df[df['day'] == day]\n",
    "    track_list = track_list[track_list['city'] == city]\n",
    "    track_list_count = track_list['user_id'].count()\n",
    "    return track_list_count\n",
    "\n",
    "# Объявляется функция с двумя параметрами: day, city.\n",
    "# В переменной track_list сохраняются те строки таблицы df, для которых \n",
    "# значение в столбце 'day' равно параметру day и одновременно значение\n",
    "# в столбце 'city' равно параметру city (используйте последовательную фильтрацию\n",
    "# с помощью логической индексации).\n",
    "# В переменной track_list_count сохраняется число значений столбца 'user_id',\n",
    "# рассчитанное методом count() для таблицы track_list.\n",
    "# Функция возвращает число - значение track_list_count.\n",
    "\n",
    "# Функция для подсчёта прослушиваний для конкретного города и дня.\n",
    "# С помощью последовательной фильтрации с логической индексацией она \n",
    "# сначала получит из исходной таблицы строки с нужным днём,\n",
    "# затем из результата отфильтрует строки с нужным городом,\n",
    "# методом count() посчитает количество значений в колонке user_id. \n",
    "# Это количество функция вернёт в качестве результата"
   ]
  },
  {
   "cell_type": "markdown",
   "metadata": {
    "id": "ytf7xFrFJQ2r"
   },
   "source": [
    "Вызовите `number_tracks()` шесть раз, меняя значение параметров — так, чтобы получить данные для каждого города в каждый из трёх дней."
   ]
  },
  {
   "cell_type": "code",
   "execution_count": 21,
   "metadata": {
    "id": "rJcRATNQ_Zcu"
   },
   "outputs": [],
   "source": [
    "msk_monday_auditions = number_tracks('Monday', 'Moscow') # количество прослушиваний в Москве по понедельникам"
   ]
  },
  {
   "cell_type": "code",
   "execution_count": 22,
   "metadata": {
    "id": "hq_ncZ5T_Zcu"
   },
   "outputs": [],
   "source": [
    "spb_monday_auditions = number_tracks('Monday', 'Saint-Petersburg') # количество прослушиваний в Санкт-Петербурге по понедельникам"
   ]
  },
  {
   "cell_type": "code",
   "execution_count": 23,
   "metadata": {
    "id": "_NTy2VPU_Zcu"
   },
   "outputs": [],
   "source": [
    "msk_wednesday_auditions = number_tracks('Wednesday', 'Moscow') # количество прослушиваний в Москве по средам"
   ]
  },
  {
   "cell_type": "code",
   "execution_count": 24,
   "metadata": {
    "id": "j2y3TAwo_Zcu"
   },
   "outputs": [],
   "source": [
    "spb_wednesday_auditions = number_tracks('Wednesday', 'Saint-Petersburg') # количество прослушиваний в Санкт-Петербурге по средам"
   ]
  },
  {
   "cell_type": "code",
   "execution_count": 25,
   "metadata": {
    "id": "vYDw5u_K_Zcu"
   },
   "outputs": [],
   "source": [
    "msk_friday_auditions = number_tracks('Friday', 'Moscow') # количество прослушиваний в Москве по пятницам"
   ]
  },
  {
   "cell_type": "code",
   "execution_count": 26,
   "metadata": {
    "id": "8_yzFtW3_Zcu"
   },
   "outputs": [],
   "source": [
    "spb_friday_auditions = number_tracks('Friday', 'Saint-Petersburg') # количество прослушиваний в Санкт-Петербурге по пятницам"
   ]
  },
  {
   "cell_type": "code",
   "execution_count": 27,
   "metadata": {
    "id": "APAcLpOr_Zcu"
   },
   "outputs": [
    {
     "data": {
      "text/html": [
       "<div>\n",
       "<style scoped>\n",
       "    .dataframe tbody tr th:only-of-type {\n",
       "        vertical-align: middle;\n",
       "    }\n",
       "\n",
       "    .dataframe tbody tr th {\n",
       "        vertical-align: top;\n",
       "    }\n",
       "\n",
       "    .dataframe thead th {\n",
       "        text-align: right;\n",
       "    }\n",
       "</style>\n",
       "<table border=\"1\" class=\"dataframe\">\n",
       "  <thead>\n",
       "    <tr style=\"text-align: right;\">\n",
       "      <th></th>\n",
       "      <th>city</th>\n",
       "      <th>monday</th>\n",
       "      <th>wednesday</th>\n",
       "      <th>friday</th>\n",
       "    </tr>\n",
       "  </thead>\n",
       "  <tbody>\n",
       "    <tr>\n",
       "      <th>0</th>\n",
       "      <td>Moscow</td>\n",
       "      <td>15740</td>\n",
       "      <td>11056</td>\n",
       "      <td>15945</td>\n",
       "    </tr>\n",
       "    <tr>\n",
       "      <th>1</th>\n",
       "      <td>Saint-Petersburg</td>\n",
       "      <td>5614</td>\n",
       "      <td>7003</td>\n",
       "      <td>5895</td>\n",
       "    </tr>\n",
       "  </tbody>\n",
       "</table>\n",
       "</div>"
      ],
      "text/plain": [
       "               city  monday  wednesday  friday\n",
       "0            Moscow   15740      11056   15945\n",
       "1  Saint-Petersburg    5614       7003    5895"
      ]
     },
     "metadata": {},
     "output_type": "display_data"
    }
   ],
   "source": [
    "data = [\n",
    "    ['Moscow', msk_monday_auditions, msk_wednesday_auditions, msk_friday_auditions],\n",
    "    ['Saint-Petersburg', spb_monday_auditions, spb_wednesday_auditions, spb_friday_auditions]\n",
    "]\n",
    "\n",
    "columns = ['city', 'monday', 'wednesday', 'friday']\n",
    "\n",
    "city_day_tracks = pd.DataFrame(data=data, columns=columns) # Таблица с результатами\n",
    "display(city_day_tracks) # количество прослушиваний в каждом городе в разные дни недели"
   ]
  },
  {
   "cell_type": "markdown",
   "metadata": {
    "id": "-EgPIHYu_Zcu"
   },
   "source": [
    "**Выводы**\n",
    "\n",
    "Данные показывают разницу поведения пользователей:\n",
    "\n",
    "- В Москве пик прослушиваний приходится на понедельник и пятницу, а в среду заметен спад.\n",
    "- В Петербурге, наоборот, больше слушают музыку по средам. Активность в понедельник и пятницу здесь почти в равной мере уступает среде.\n",
    "\n",
    "Значит, данные говорят в пользу первой гипотезы."
   ]
  },
  {
   "cell_type": "markdown",
   "metadata": {
    "id": "atZAxtq4_Zcu"
   },
   "source": [
    "### Музыка в начале и в конце недели"
   ]
  },
  {
   "cell_type": "markdown",
   "metadata": {
    "id": "eXrQqXFH_Zcu"
   },
   "source": [
    "Согласно второй гипотезе, утром в понедельник в Москве преобладают одни жанры, а в Петербурге — другие. Так же и вечером пятницы преобладают разные жанры — в зависимости от города."
   ]
  },
  {
   "cell_type": "code",
   "execution_count": 28,
   "metadata": {
    "id": "qeaFfM_P_Zcu"
   },
   "outputs": [
    {
     "data": {
      "text/html": [
       "<div>\n",
       "<style scoped>\n",
       "    .dataframe tbody tr th:only-of-type {\n",
       "        vertical-align: middle;\n",
       "    }\n",
       "\n",
       "    .dataframe tbody tr th {\n",
       "        vertical-align: top;\n",
       "    }\n",
       "\n",
       "    .dataframe thead th {\n",
       "        text-align: right;\n",
       "    }\n",
       "</style>\n",
       "<table border=\"1\" class=\"dataframe\">\n",
       "  <thead>\n",
       "    <tr style=\"text-align: right;\">\n",
       "      <th></th>\n",
       "      <th>user_id</th>\n",
       "      <th>track</th>\n",
       "      <th>artist</th>\n",
       "      <th>genre</th>\n",
       "      <th>city</th>\n",
       "      <th>time</th>\n",
       "      <th>day</th>\n",
       "    </tr>\n",
       "  </thead>\n",
       "  <tbody>\n",
       "    <tr>\n",
       "      <th>1</th>\n",
       "      <td>55204538</td>\n",
       "      <td>Delayed Because of Accident</td>\n",
       "      <td>Andreas Rönnberg</td>\n",
       "      <td>rock</td>\n",
       "      <td>Moscow</td>\n",
       "      <td>14:07:09</td>\n",
       "      <td>Friday</td>\n",
       "    </tr>\n",
       "    <tr>\n",
       "      <th>4</th>\n",
       "      <td>E2DC1FAE</td>\n",
       "      <td>Soul People</td>\n",
       "      <td>Space Echo</td>\n",
       "      <td>dance</td>\n",
       "      <td>Moscow</td>\n",
       "      <td>08:34:34</td>\n",
       "      <td>Monday</td>\n",
       "    </tr>\n",
       "    <tr>\n",
       "      <th>6</th>\n",
       "      <td>4CB90AA5</td>\n",
       "      <td>True</td>\n",
       "      <td>Roman Messer</td>\n",
       "      <td>dance</td>\n",
       "      <td>Moscow</td>\n",
       "      <td>13:00:07</td>\n",
       "      <td>Wednesday</td>\n",
       "    </tr>\n",
       "    <tr>\n",
       "      <th>7</th>\n",
       "      <td>F03E1C1F</td>\n",
       "      <td>Feeling This Way</td>\n",
       "      <td>Polina Griffith</td>\n",
       "      <td>dance</td>\n",
       "      <td>Moscow</td>\n",
       "      <td>20:47:49</td>\n",
       "      <td>Wednesday</td>\n",
       "    </tr>\n",
       "    <tr>\n",
       "      <th>8</th>\n",
       "      <td>8FA1D3BE</td>\n",
       "      <td>И вновь продолжается бой</td>\n",
       "      <td>unknown</td>\n",
       "      <td>ruspop</td>\n",
       "      <td>Moscow</td>\n",
       "      <td>09:17:40</td>\n",
       "      <td>Friday</td>\n",
       "    </tr>\n",
       "  </tbody>\n",
       "</table>\n",
       "</div>"
      ],
      "text/plain": [
       "    user_id                        track            artist   genre    city  \\\n",
       "1  55204538  Delayed Because of Accident  Andreas Rönnberg    rock  Moscow   \n",
       "4  E2DC1FAE                  Soul People        Space Echo   dance  Moscow   \n",
       "6  4CB90AA5                         True      Roman Messer   dance  Moscow   \n",
       "7  F03E1C1F             Feeling This Way   Polina Griffith   dance  Moscow   \n",
       "8  8FA1D3BE     И вновь продолжается бой           unknown  ruspop  Moscow   \n",
       "\n",
       "       time        day  \n",
       "1  14:07:09     Friday  \n",
       "4  08:34:34     Monday  \n",
       "6  13:00:07  Wednesday  \n",
       "7  20:47:49  Wednesday  \n",
       "8  09:17:40     Friday  "
      ]
     },
     "metadata": {},
     "output_type": "display_data"
    }
   ],
   "source": [
    "moscow_general = df[df['city'] == 'Moscow'] # получение таблицы moscow_general из тех строк таблицы df, \n",
    "# для которых значение в столбце 'city' равно 'Moscow'\n",
    "display(moscow_general.head())"
   ]
  },
  {
   "cell_type": "code",
   "execution_count": 29,
   "metadata": {
    "id": "ORaVRKto_Zcu"
   },
   "outputs": [
    {
     "data": {
      "text/html": [
       "<div>\n",
       "<style scoped>\n",
       "    .dataframe tbody tr th:only-of-type {\n",
       "        vertical-align: middle;\n",
       "    }\n",
       "\n",
       "    .dataframe tbody tr th {\n",
       "        vertical-align: top;\n",
       "    }\n",
       "\n",
       "    .dataframe thead th {\n",
       "        text-align: right;\n",
       "    }\n",
       "</style>\n",
       "<table border=\"1\" class=\"dataframe\">\n",
       "  <thead>\n",
       "    <tr style=\"text-align: right;\">\n",
       "      <th></th>\n",
       "      <th>user_id</th>\n",
       "      <th>track</th>\n",
       "      <th>artist</th>\n",
       "      <th>genre</th>\n",
       "      <th>city</th>\n",
       "      <th>time</th>\n",
       "      <th>day</th>\n",
       "    </tr>\n",
       "  </thead>\n",
       "  <tbody>\n",
       "    <tr>\n",
       "      <th>0</th>\n",
       "      <td>FFB692EC</td>\n",
       "      <td>Kamigata To Boots</td>\n",
       "      <td>The Mass Missile</td>\n",
       "      <td>rock</td>\n",
       "      <td>Saint-Petersburg</td>\n",
       "      <td>20:28:33</td>\n",
       "      <td>Wednesday</td>\n",
       "    </tr>\n",
       "    <tr>\n",
       "      <th>2</th>\n",
       "      <td>20EC38</td>\n",
       "      <td>Funiculì funiculà</td>\n",
       "      <td>Mario Lanza</td>\n",
       "      <td>pop</td>\n",
       "      <td>Saint-Petersburg</td>\n",
       "      <td>20:58:07</td>\n",
       "      <td>Wednesday</td>\n",
       "    </tr>\n",
       "    <tr>\n",
       "      <th>3</th>\n",
       "      <td>A3DD03C9</td>\n",
       "      <td>Dragons in the Sunset</td>\n",
       "      <td>Fire + Ice</td>\n",
       "      <td>folk</td>\n",
       "      <td>Saint-Petersburg</td>\n",
       "      <td>08:37:09</td>\n",
       "      <td>Monday</td>\n",
       "    </tr>\n",
       "    <tr>\n",
       "      <th>5</th>\n",
       "      <td>842029A1</td>\n",
       "      <td>Преданная</td>\n",
       "      <td>IMPERVTOR</td>\n",
       "      <td>rusrap</td>\n",
       "      <td>Saint-Petersburg</td>\n",
       "      <td>13:09:41</td>\n",
       "      <td>Friday</td>\n",
       "    </tr>\n",
       "    <tr>\n",
       "      <th>9</th>\n",
       "      <td>E772D5C0</td>\n",
       "      <td>Pessimist</td>\n",
       "      <td>unknown</td>\n",
       "      <td>dance</td>\n",
       "      <td>Saint-Petersburg</td>\n",
       "      <td>21:20:49</td>\n",
       "      <td>Wednesday</td>\n",
       "    </tr>\n",
       "  </tbody>\n",
       "</table>\n",
       "</div>"
      ],
      "text/plain": [
       "    user_id                  track            artist   genre  \\\n",
       "0  FFB692EC      Kamigata To Boots  The Mass Missile    rock   \n",
       "2    20EC38      Funiculì funiculà       Mario Lanza     pop   \n",
       "3  A3DD03C9  Dragons in the Sunset        Fire + Ice    folk   \n",
       "5  842029A1              Преданная         IMPERVTOR  rusrap   \n",
       "9  E772D5C0              Pessimist           unknown   dance   \n",
       "\n",
       "               city      time        day  \n",
       "0  Saint-Petersburg  20:28:33  Wednesday  \n",
       "2  Saint-Petersburg  20:58:07  Wednesday  \n",
       "3  Saint-Petersburg  08:37:09     Monday  \n",
       "5  Saint-Petersburg  13:09:41     Friday  \n",
       "9  Saint-Petersburg  21:20:49  Wednesday  "
      ]
     },
     "metadata": {},
     "output_type": "display_data"
    }
   ],
   "source": [
    "spb_general = df[df['city'] == 'Saint-Petersburg']# получение таблицы spb_general из тех строк таблицы df,\n",
    "display(spb_general.head())                                           # для которых значение в столбце 'city' равно 'Saint-Petersburg'\n"
   ]
  },
  {
   "cell_type": "code",
   "execution_count": 30,
   "metadata": {
    "id": "laJT9BYl_Zcu"
   },
   "outputs": [],
   "source": [
    "def genre_weekday(table, day, time1, time2):\n",
    "    genre_df = table[table['day'] == day]\n",
    "    genre_df = genre_df[genre_df['time'] > time1]\n",
    "    genre_df = genre_df[genre_df['time'] < time2]\n",
    "    genre_df_count = genre_df.groupby('genre')['genre'].count()\n",
    "    genre_df_sorted = genre_df_count.sort_values(ascending=False)\n",
    "    return genre_df_sorted.head(10)\n",
    "\n",
    "# Объявление функции genre_weekday() с параметрами table, day, time1, time2,\n",
    "# которая возвращает информацию о самых популярных жанрах в указанный день в\n",
    "# заданное время:\n",
    "# 1) в переменную genre_df сохраняются те строки переданного датафрейма table, для\n",
    "#    которых одновременно:\n",
    "#    - значение в столбце day равно значению аргумента day\n",
    "#    - значение в столбце time больше значения аргумента time1\n",
    "#    - значение в столбце time меньше значения аргумента time2\n",
    "#    Используйте последовательную фильтрацию с помощью логической индексации.\n",
    "# 2) сгруппировать датафрейм genre_df по столбцу genre, взять один из его\n",
    "#    столбцов и посчитать методом count() количество записей для каждого из\n",
    "#    присутствующих жанров, получившийся Series записать в переменную\n",
    "#    genre_df_count\n",
    "# 3) отсортировать genre_df_count по убыванию встречаемости и сохранить\n",
    "#    в переменную genre_df_sorted\n",
    "# 4) вернуть Series из 10 первых значений genre_df_sorted, это будут топ-10\n",
    "#    популярных жанров (в указанный день, в заданное время)"
   ]
  },
  {
   "cell_type": "markdown",
   "metadata": {
    "id": "la2s2_PF_Zcu"
   },
   "source": [
    "Cравните результаты функции `genre_weekday()` для Москвы и Санкт-Петербурга в понедельник утром (с 7:00 до 11:00) и в пятницу вечером (с 17:00 до 23:00):"
   ]
  },
  {
   "cell_type": "code",
   "execution_count": 31,
   "metadata": {
    "id": "yz7itPUQ_Zcu"
   },
   "outputs": [
    {
     "name": "stdout",
     "output_type": "stream",
     "text": [
      "10 самых популярных жанров тех треков, которые прослушивали в Москве с 07:00 до 11:00 в понедельник:\n",
      "genre\n",
      "pop            781\n",
      "dance          549\n",
      "electronic     480\n",
      "rock           474\n",
      "hiphop         286\n",
      "ruspop         186\n",
      "world          181\n",
      "rusrap         175\n",
      "alternative    164\n",
      "unknown        161\n",
      "Name: genre, dtype: int64\n"
     ]
    }
   ],
   "source": [
    "genre_msk_monday_am = genre_weekday(moscow_general, 'Monday', '07:00', '11:00') # вызов функции для утра понедельника в Москве (вместо df — таблица moscow_general)\n",
    "print('10 самых популярных жанров тех треков, которые прослушивали в Москве с 07:00 до 11:00 в понедельник:', genre_msk_monday_am, sep='\\n')\n",
    "# объекты, хранящие время, являются строками и сравниваются как строки\n",
    "# пример вызова: genre_weekday(moscow_general, 'Monday', '07:00', '11:00')"
   ]
  },
  {
   "cell_type": "code",
   "execution_count": 32,
   "metadata": {
    "id": "kwUcHPdy_Zcu"
   },
   "outputs": [
    {
     "name": "stdout",
     "output_type": "stream",
     "text": [
      "10 самых популярных жанров тех треков, которые прослушивали в Санкт-Петербурге с 07:00 до 11:00 в понедельник:\n",
      "genre\n",
      "pop            218\n",
      "dance          182\n",
      "rock           162\n",
      "electronic     147\n",
      "hiphop          80\n",
      "ruspop          64\n",
      "alternative     58\n",
      "rusrap          55\n",
      "jazz            44\n",
      "classical       40\n",
      "Name: genre, dtype: int64\n"
     ]
    }
   ],
   "source": [
    "genre_spb_monday_am = genre_weekday(spb_general, 'Monday', '07:00', '11:00') # вызов функции для утра понедельника в Петербурге (вместо df — таблица spb_general)\n",
    "print('10 самых популярных жанров тех треков, которые прослушивали в Санкт-Петербурге с 07:00 до 11:00 в понедельник:', genre_spb_monday_am, sep='\\n')"
   ]
  },
  {
   "cell_type": "code",
   "execution_count": 33,
   "metadata": {
    "id": "EzXVRE1o_Zcu"
   },
   "outputs": [
    {
     "name": "stdout",
     "output_type": "stream",
     "text": [
      "10 самых популярных жанров тех треков, которые прослушивали в Москве с 17:00 до 23:00 в пятницу:\n",
      "genre\n",
      "pop            713\n",
      "rock           517\n",
      "dance          495\n",
      "electronic     482\n",
      "hiphop         273\n",
      "world          208\n",
      "ruspop         170\n",
      "alternative    163\n",
      "classical      163\n",
      "rusrap         142\n",
      "Name: genre, dtype: int64\n"
     ]
    }
   ],
   "source": [
    "genre_msk_friday_pm = genre_weekday(moscow_general, 'Friday', '17:00', '23:00') # вызов функции для вечера пятницы в Москве\n",
    "print('10 самых популярных жанров тех треков, которые прослушивали в Москве с 17:00 до 23:00 в пятницу:', genre_msk_friday_pm, sep='\\n')"
   ]
  },
  {
   "cell_type": "code",
   "execution_count": 34,
   "metadata": {
    "id": "JZaEKu5v_Zcu"
   },
   "outputs": [
    {
     "name": "stdout",
     "output_type": "stream",
     "text": [
      "10 самых популярных жанров тех треков, которые прослушивали в Санкт-Петербурге с 17:00 до 23:00 в пятницу:\n",
      "genre\n",
      "pop            256\n",
      "electronic     216\n",
      "rock           216\n",
      "dance          210\n",
      "hiphop          97\n",
      "alternative     63\n",
      "jazz            61\n",
      "classical       60\n",
      "rusrap          59\n",
      "world           54\n",
      "Name: genre, dtype: int64\n"
     ]
    }
   ],
   "source": [
    "genre_spb_friday_pm = genre_weekday(spb_general, 'Friday', '17:00', '23:00')# вызов функции для вечера пятницы в Петербурге\n",
    "print('10 самых популярных жанров тех треков, которые прослушивали в Санкт-Петербурге с 17:00 до 23:00 в пятницу:', genre_spb_friday_pm, sep='\\n')"
   ]
  },
  {
   "cell_type": "markdown",
   "metadata": {
    "id": "wrCe4MNX_Zcu"
   },
   "source": [
    "**Выводы**\n",
    "\n",
    "Если сравнить топ-10 жанров в понедельник утром, можно сделать такие выводы:\n",
    "\n",
    "1. В Москве и Петербурге слушают похожую музыку. Единственное отличие — в московский рейтинг вошёл жанр “world”, а в петербургский — джаз и классика.\n",
    "\n",
    "2. В Москве пропущенных значений оказалось так много, что значение `'unknown'` заняло десятое место среди самых популярных жанров. Значит, пропущенные значения занимают существенную долю в данных и угрожают достоверности исследования.\n",
    "\n",
    "Вечер пятницы не меняет эту картину. Некоторые жанры поднимаются немного выше, другие спускаются, но в целом топ-10 остаётся тем же самым.\n",
    "\n",
    "Таким образом, вторая гипотеза подтвердилась лишь частично:\n",
    "* Пользователи слушают похожую музыку в начале недели и в конце.\n",
    "* Разница между Москвой и Петербургом не слишком выражена. В Москве чаще слушают русскую популярную музыку, в Петербурге — джаз.\n",
    "\n",
    "Однако пропуски в данных ставят под сомнение этот результат. В Москве их так много, что рейтинг топ-10 мог бы выглядеть иначе, если бы не утерянные  данные о жанрах."
   ]
  },
  {
   "cell_type": "markdown",
   "metadata": {
    "id": "JolODAqr_Zcu"
   },
   "source": [
    "### Жанровые предпочтения в Москве и Петербурге\n",
    "\n",
    "Гипотеза: Петербург — столица рэпа, музыку этого жанра там слушают чаще, чем в Москве.  А Москва — город контрастов, в котором, тем не менее, преобладает поп-музыка."
   ]
  },
  {
   "cell_type": "markdown",
   "metadata": {
    "id": "DlegSvaT_Zcu"
   },
   "source": [
    "Сгруппируйте таблицу `moscow_general` по жанру и посчитайте прослушивания треков каждого жанра методом `count()`. Затем отсортируйте результат в порядке убывания и сохраните его в таблице `moscow_genres`."
   ]
  },
  {
   "cell_type": "code",
   "execution_count": 35,
   "metadata": {
    "id": "r19lIPke_Zcu"
   },
   "outputs": [],
   "source": [
    "moscow_genres = moscow_general.groupby('genre')['track']# одной строкой: группировка таблицы moscow_general по столбцу 'genre', \n",
    "moscow_genres = moscow_genres.count() # подсчёт числа значений 'genre' в этой группировке методом count(), \n",
    "moscow_genres = moscow_genres.sort_values(ascending=False) # сортировка получившегося Series в порядке убывания и сохранение в moscow_genres\n"
   ]
  },
  {
   "cell_type": "markdown",
   "metadata": {
    "id": "6kMuomxTiIr8"
   },
   "source": [
    "Выведите на экран первые десять строк `moscow_genres`:"
   ]
  },
  {
   "cell_type": "code",
   "execution_count": 36,
   "metadata": {
    "id": "WhCSooF8_Zcv"
   },
   "outputs": [
    {
     "name": "stdout",
     "output_type": "stream",
     "text": [
      "10 популярных жанров по количеству прослушанных треков в Москве:\n",
      "genre\n",
      "pop            5892\n",
      "dance          4435\n",
      "rock           3965\n",
      "electronic     3786\n",
      "hiphop         2096\n",
      "classical      1616\n",
      "world          1432\n",
      "alternative    1379\n",
      "ruspop         1372\n",
      "rusrap         1161\n",
      "Name: track, dtype: int64\n"
     ]
    }
   ],
   "source": [
    "print('10 популярных жанров по количеству прослушанных треков в Москве:', moscow_genres.head(10), sep='\\n')# просмотр первых 10 строк moscow_genres"
   ]
  },
  {
   "cell_type": "markdown",
   "metadata": {
    "id": "cnPG2vnN_Zcv"
   },
   "source": [
    "Теперь повторите то же и для Петербурга.\n",
    "\n",
    "Сгруппируйте таблицу `spb_general` по жанру. Посчитайте прослушивания треков каждого жанра. Результат отсортируйте в порядке убывания и сохраните в таблице `spb_genres`:\n"
   ]
  },
  {
   "cell_type": "code",
   "execution_count": 37,
   "metadata": {
    "id": "gluLIpE7_Zcv"
   },
   "outputs": [],
   "source": [
    "spb_genres = spb_general.groupby('genre')['track']# одной строкой: группировка таблицы spb_general по столбцу 'genre', \n",
    "spb_genres = spb_genres.count() # подсчёт числа значений 'genre' в этой группировке методом count(), \n",
    "spb_genres = spb_genres.sort_values(ascending=False)# сортировка получившегося Series в порядке убывания и сохранение в spb_genres"
   ]
  },
  {
   "cell_type": "markdown",
   "metadata": {
    "id": "5Doha_ODgyQ8"
   },
   "source": [
    "Выведите на экран первые десять строк `spb_genres`:"
   ]
  },
  {
   "cell_type": "code",
   "execution_count": 38,
   "metadata": {
    "id": "uaGJHjVU_Zcv"
   },
   "outputs": [
    {
     "name": "stdout",
     "output_type": "stream",
     "text": [
      "10 популярных жанров по количеству прослушанных треков в Санкт-Петербурге:\n",
      "genre\n",
      "pop            2431\n",
      "dance          1932\n",
      "rock           1879\n",
      "electronic     1737\n",
      "hiphop          960\n",
      "alternative     649\n",
      "classical       646\n",
      "rusrap          564\n",
      "ruspop          538\n",
      "world           515\n",
      "Name: track, dtype: int64\n"
     ]
    }
   ],
   "source": [
    "print('10 популярных жанров по количеству прослушанных треков в Санкт-Петербурге:', spb_genres.head(10), sep='\\n') # просмотр первых 10 строк spb_genres"
   ]
  },
  {
   "cell_type": "markdown",
   "metadata": {
    "id": "RY51YJYu_Zcv"
   },
   "source": [
    "**Выводы**"
   ]
  },
  {
   "cell_type": "markdown",
   "metadata": {
    "id": "nVhnJEm__Zcv"
   },
   "source": [
    "Гипотеза частично подтвердилась:\n",
    "* Поп-музыка — самый популярный жанр в Москве, как и предполагала гипотеза. Более того, в топ-10 жанров встречается близкий жанр — русская популярная музыка.\n",
    "* Вопреки ожиданиям, рэп одинаково популярен в Москве и Петербурге. \n"
   ]
  },
  {
   "cell_type": "markdown",
   "metadata": {
    "id": "ykKQ0N65_Zcv"
   },
   "source": [
    "## Итоги исследования"
   ]
  },
  {
   "cell_type": "markdown",
   "metadata": {
    "id": "tjUwbHb3_Zcv"
   },
   "source": [
    "Вы проверили три гипотезы и установили:\n",
    "\n",
    "1. День недели по-разному влияет на активность пользователей в Москве и Петербурге. \n",
    "\n",
    "Первая гипотеза полностью подтвердилась.\n",
    "\n",
    "2. Музыкальные предпочтения не сильно меняются в течение недели — будь то Москва или Петербург. Небольшие различия заметны в начале недели, по понедельникам:\n",
    "* в Москве слушают музыку жанра “world”,\n",
    "* в Петербурге — джаз и классику.\n",
    "\n",
    "Таким образом, вторая гипотеза подтвердилась лишь отчасти. Этот результат мог оказаться иным, если бы не пропуски в данных.\n",
    "\n",
    "3. Во вкусах пользователей Москвы и Петербурга больше общего чем различий. Вопреки ожиданиям, предпочтения жанров в Петербурге напоминают московские.\n",
    "\n",
    "Третья гипотеза не подтвердилась. Если различия в предпочтениях и существуют, на основной массе пользователей они незаметны.\n",
    "\n"
   ]
  },
  {
   "cell_type": "code",
   "execution_count": null,
   "metadata": {},
   "outputs": [],
   "source": []
  }
 ],
 "metadata": {
  "ExecuteTimeLog": [
   {
    "duration": 486,
    "start_time": "2021-11-02T12:30:27.751Z"
   },
   {
    "duration": 61,
    "start_time": "2021-11-02T12:30:33.131Z"
   },
   {
    "duration": 66,
    "start_time": "2021-11-02T12:31:22.729Z"
   },
   {
    "duration": 63,
    "start_time": "2021-11-02T12:31:57.051Z"
   },
   {
    "duration": 1917,
    "start_time": "2021-11-02T12:42:44.031Z"
   },
   {
    "duration": 133,
    "start_time": "2021-11-02T12:44:11.330Z"
   },
   {
    "duration": 16,
    "start_time": "2021-11-02T12:44:23.369Z"
   },
   {
    "duration": 9,
    "start_time": "2021-11-02T12:44:53.987Z"
   },
   {
    "duration": 4,
    "start_time": "2021-11-02T13:00:01.730Z"
   },
   {
    "duration": 54,
    "start_time": "2021-11-02T13:23:18.862Z"
   },
   {
    "duration": 22,
    "start_time": "2021-11-02T13:23:30.569Z"
   },
   {
    "duration": 5,
    "start_time": "2021-11-02T13:23:54.308Z"
   },
   {
    "duration": 27,
    "start_time": "2021-11-02T13:25:55.350Z"
   },
   {
    "duration": 22,
    "start_time": "2021-11-02T13:26:17.861Z"
   },
   {
    "duration": 23,
    "start_time": "2021-11-02T13:27:08.464Z"
   },
   {
    "duration": 4558,
    "start_time": "2021-11-02T13:31:55.997Z"
   },
   {
    "duration": 3656,
    "start_time": "2021-11-02T13:31:56.901Z"
   },
   {
    "duration": 18,
    "start_time": "2021-11-02T13:32:37.100Z"
   },
   {
    "duration": 23,
    "start_time": "2021-11-02T13:32:44.291Z"
   },
   {
    "duration": 62,
    "start_time": "2021-11-02T13:33:45.513Z"
   },
   {
    "duration": 371,
    "start_time": "2021-11-04T12:14:37.165Z"
   },
   {
    "duration": 825,
    "start_time": "2021-11-04T12:15:29.343Z"
   },
   {
    "duration": 206,
    "start_time": "2021-11-04T12:15:30.171Z"
   },
   {
    "duration": 27,
    "start_time": "2021-11-04T12:15:30.380Z"
   },
   {
    "duration": 23,
    "start_time": "2021-11-04T12:15:30.410Z"
   },
   {
    "duration": 33,
    "start_time": "2021-11-04T12:15:30.437Z"
   },
   {
    "duration": 58,
    "start_time": "2021-11-04T12:15:30.474Z"
   },
   {
    "duration": 8,
    "start_time": "2021-11-04T12:15:30.536Z"
   },
   {
    "duration": 39,
    "start_time": "2021-11-04T12:15:30.570Z"
   },
   {
    "duration": 30,
    "start_time": "2021-11-04T12:15:30.611Z"
   },
   {
    "duration": 51,
    "start_time": "2021-11-04T12:15:30.643Z"
   },
   {
    "duration": 112,
    "start_time": "2021-11-04T12:15:30.697Z"
   },
   {
    "duration": 115,
    "start_time": "2021-11-04T12:15:36.775Z"
   },
   {
    "duration": 102,
    "start_time": "2021-11-04T12:16:11.406Z"
   },
   {
    "duration": 126,
    "start_time": "2021-11-04T12:16:36.715Z"
   },
   {
    "duration": 97,
    "start_time": "2021-11-04T12:17:03.932Z"
   },
   {
    "duration": 81,
    "start_time": "2021-11-04T12:18:45.145Z"
   },
   {
    "duration": 344,
    "start_time": "2021-11-04T12:21:32.361Z"
   },
   {
    "duration": 93,
    "start_time": "2021-11-04T12:21:54.220Z"
   },
   {
    "duration": 85,
    "start_time": "2021-11-04T12:23:16.163Z"
   },
   {
    "duration": 90,
    "start_time": "2021-11-04T12:29:02.252Z"
   },
   {
    "duration": 95,
    "start_time": "2021-11-04T12:29:11.605Z"
   },
   {
    "duration": 101,
    "start_time": "2021-11-04T12:29:26.647Z"
   },
   {
    "duration": 82,
    "start_time": "2021-11-04T12:29:46.868Z"
   },
   {
    "duration": 58,
    "start_time": "2021-11-04T12:30:09.208Z"
   },
   {
    "duration": 62,
    "start_time": "2021-11-04T12:31:15.072Z"
   },
   {
    "duration": 291,
    "start_time": "2021-11-04T13:36:36.007Z"
   },
   {
    "duration": 323,
    "start_time": "2021-11-04T13:36:49.313Z"
   },
   {
    "duration": 4,
    "start_time": "2021-11-04T13:36:58.843Z"
   },
   {
    "duration": 189,
    "start_time": "2021-11-04T13:37:03.130Z"
   },
   {
    "duration": 9,
    "start_time": "2021-11-04T13:37:59.466Z"
   },
   {
    "duration": 147,
    "start_time": "2021-11-04T13:42:10.016Z"
   },
   {
    "duration": 11,
    "start_time": "2021-11-04T13:42:15.773Z"
   },
   {
    "duration": 4,
    "start_time": "2021-11-04T13:57:17.972Z"
   },
   {
    "duration": 4128,
    "start_time": "2021-11-04T13:57:24.718Z"
   },
   {
    "duration": 9,
    "start_time": "2021-11-04T13:57:31.201Z"
   },
   {
    "duration": 4434,
    "start_time": "2021-11-04T13:58:00.138Z"
   },
   {
    "duration": 5,
    "start_time": "2021-11-04T14:06:05.102Z"
   },
   {
    "duration": 582,
    "start_time": "2021-11-04T14:06:17.297Z"
   },
   {
    "duration": 5,
    "start_time": "2021-11-04T14:10:43.976Z"
   },
   {
    "duration": 4,
    "start_time": "2021-11-04T14:10:48.463Z"
   },
   {
    "duration": 9,
    "start_time": "2021-11-04T14:11:02.389Z"
   },
   {
    "duration": 5,
    "start_time": "2021-11-04T14:13:57.889Z"
   },
   {
    "duration": 11,
    "start_time": "2021-11-04T14:14:02.308Z"
   },
   {
    "duration": 11,
    "start_time": "2021-11-04T14:14:08.587Z"
   },
   {
    "duration": 10,
    "start_time": "2021-11-04T14:14:15.589Z"
   },
   {
    "duration": 6,
    "start_time": "2021-11-04T14:15:03.875Z"
   },
   {
    "duration": 10,
    "start_time": "2021-11-04T14:15:08.926Z"
   },
   {
    "duration": 10,
    "start_time": "2021-11-04T14:15:15.572Z"
   },
   {
    "duration": 4,
    "start_time": "2021-11-04T14:28:34.883Z"
   },
   {
    "duration": 32,
    "start_time": "2021-11-04T14:28:42.527Z"
   },
   {
    "duration": 9,
    "start_time": "2021-11-04T14:28:49.222Z"
   },
   {
    "duration": 58,
    "start_time": "2021-11-04T14:43:38.966Z"
   },
   {
    "duration": 4,
    "start_time": "2021-11-04T14:45:09.382Z"
   },
   {
    "duration": 262,
    "start_time": "2021-11-04T14:45:14.005Z"
   },
   {
    "duration": 10,
    "start_time": "2021-11-04T14:45:22.966Z"
   },
   {
    "duration": 4,
    "start_time": "2021-11-04T14:47:04.154Z"
   },
   {
    "duration": 31,
    "start_time": "2021-11-04T14:47:09.994Z"
   },
   {
    "duration": 9,
    "start_time": "2021-11-04T14:47:17.472Z"
   },
   {
    "duration": 5,
    "start_time": "2021-11-04T14:48:20.181Z"
   },
   {
    "duration": 33,
    "start_time": "2021-11-04T14:48:24.849Z"
   },
   {
    "duration": 9,
    "start_time": "2021-11-04T14:48:31.906Z"
   },
   {
    "duration": 10,
    "start_time": "2021-11-04T14:48:57.310Z"
   },
   {
    "duration": 67,
    "start_time": "2021-11-04T14:50:51.764Z"
   },
   {
    "duration": 87,
    "start_time": "2021-11-04T14:51:30.276Z"
   },
   {
    "duration": 33,
    "start_time": "2021-11-04T14:53:02.628Z"
   },
   {
    "duration": 49,
    "start_time": "2021-11-04T14:53:06.517Z"
   },
   {
    "duration": 4,
    "start_time": "2021-11-04T14:54:44.938Z"
   },
   {
    "duration": 21,
    "start_time": "2021-11-04T14:54:48.540Z"
   },
   {
    "duration": 50,
    "start_time": "2021-11-04T14:54:54.692Z"
   },
   {
    "duration": 4,
    "start_time": "2021-11-04T14:55:59.920Z"
   },
   {
    "duration": 570,
    "start_time": "2021-11-04T14:56:08.247Z"
   },
   {
    "duration": 57,
    "start_time": "2021-11-04T14:56:32.293Z"
   },
   {
    "duration": 592,
    "start_time": "2021-11-04T14:56:48.911Z"
   },
   {
    "duration": 62,
    "start_time": "2021-11-04T14:58:46.421Z"
   },
   {
    "duration": 60,
    "start_time": "2021-11-04T14:59:31.809Z"
   },
   {
    "duration": 4,
    "start_time": "2021-11-04T14:59:53.546Z"
   },
   {
    "duration": 588,
    "start_time": "2021-11-04T14:59:57.524Z"
   },
   {
    "duration": 4,
    "start_time": "2021-11-04T15:00:43.137Z"
   },
   {
    "duration": 58,
    "start_time": "2021-11-04T15:00:49.944Z"
   },
   {
    "duration": 4,
    "start_time": "2021-11-04T15:01:24.443Z"
   },
   {
    "duration": 22,
    "start_time": "2021-11-04T15:01:29.079Z"
   },
   {
    "duration": 50,
    "start_time": "2021-11-04T15:01:34.053Z"
   },
   {
    "duration": 60,
    "start_time": "2021-11-04T15:01:58.356Z"
   },
   {
    "duration": 76,
    "start_time": "2021-11-04T15:02:20.364Z"
   },
   {
    "duration": 57,
    "start_time": "2021-11-04T15:02:40.330Z"
   },
   {
    "duration": 75,
    "start_time": "2021-11-04T15:03:34.536Z"
   },
   {
    "duration": 83,
    "start_time": "2021-11-04T15:04:01.003Z"
   },
   {
    "duration": 450,
    "start_time": "2021-11-04T15:04:49.168Z"
   },
   {
    "duration": 86,
    "start_time": "2021-11-04T15:05:01.569Z"
   },
   {
    "duration": 82,
    "start_time": "2021-11-04T15:05:15.252Z"
   },
   {
    "duration": 78,
    "start_time": "2021-11-04T15:06:23.245Z"
   },
   {
    "duration": 60,
    "start_time": "2021-11-04T15:06:32.351Z"
   },
   {
    "duration": 100,
    "start_time": "2021-11-04T15:07:31.328Z"
   },
   {
    "duration": 81,
    "start_time": "2021-11-04T15:07:36.450Z"
   },
   {
    "duration": 63,
    "start_time": "2021-11-04T15:07:46.613Z"
   },
   {
    "duration": 4,
    "start_time": "2021-11-04T15:08:52.430Z"
   },
   {
    "duration": 22,
    "start_time": "2021-11-04T15:08:58.051Z"
   },
   {
    "duration": 51,
    "start_time": "2021-11-04T15:09:15.582Z"
   },
   {
    "duration": 68,
    "start_time": "2021-11-04T15:09:44.087Z"
   },
   {
    "duration": 59,
    "start_time": "2021-11-04T15:14:19.452Z"
   },
   {
    "duration": 4,
    "start_time": "2021-11-04T15:14:39.055Z"
   },
   {
    "duration": 21,
    "start_time": "2021-11-04T15:14:45.579Z"
   },
   {
    "duration": 59,
    "start_time": "2021-11-04T15:14:51.689Z"
   },
   {
    "duration": 47,
    "start_time": "2021-11-04T15:15:38.550Z"
   },
   {
    "duration": 25,
    "start_time": "2021-11-04T15:20:37.079Z"
   },
   {
    "duration": 49,
    "start_time": "2021-11-04T15:20:40.755Z"
   },
   {
    "duration": 26,
    "start_time": "2021-11-04T15:21:23.223Z"
   },
   {
    "duration": 49,
    "start_time": "2021-11-04T15:21:26.750Z"
   },
   {
    "duration": 4,
    "start_time": "2021-11-04T15:21:44.611Z"
   },
   {
    "duration": 27,
    "start_time": "2021-11-04T15:21:48.148Z"
   },
   {
    "duration": 52,
    "start_time": "2021-11-04T15:22:05.649Z"
   },
   {
    "duration": 25,
    "start_time": "2021-11-04T15:23:13.936Z"
   },
   {
    "duration": 50,
    "start_time": "2021-11-04T15:23:29.992Z"
   },
   {
    "duration": 72,
    "start_time": "2021-11-04T15:24:25.095Z"
   },
   {
    "duration": 69,
    "start_time": "2021-11-04T15:24:53.622Z"
   },
   {
    "duration": 68,
    "start_time": "2021-11-04T15:24:59.784Z"
   },
   {
    "duration": 62,
    "start_time": "2021-11-04T15:25:47.373Z"
   },
   {
    "duration": 4,
    "start_time": "2021-11-04T15:26:01.632Z"
   },
   {
    "duration": 25,
    "start_time": "2021-11-04T15:26:05.455Z"
   },
   {
    "duration": 49,
    "start_time": "2021-11-04T15:26:13.169Z"
   },
   {
    "duration": 21,
    "start_time": "2021-11-04T15:33:31.576Z"
   },
   {
    "duration": 19,
    "start_time": "2021-11-04T15:33:37.193Z"
   },
   {
    "duration": 21,
    "start_time": "2021-11-04T15:34:00.697Z"
   },
   {
    "duration": 30,
    "start_time": "2021-11-04T15:34:52.336Z"
   },
   {
    "duration": 32,
    "start_time": "2021-11-04T15:35:11.201Z"
   },
   {
    "duration": 30,
    "start_time": "2021-11-04T15:38:14.128Z"
   },
   {
    "duration": 39,
    "start_time": "2021-11-04T15:48:29.053Z"
   },
   {
    "duration": 7595,
    "start_time": "2021-11-04T16:05:22.089Z"
   },
   {
    "duration": 838,
    "start_time": "2021-11-04T18:11:38.278Z"
   },
   {
    "duration": 416,
    "start_time": "2021-11-04T18:11:56.608Z"
   },
   {
    "duration": 270,
    "start_time": "2021-11-04T18:12:37.195Z"
   },
   {
    "duration": 734,
    "start_time": "2021-11-04T18:12:57.055Z"
   },
   {
    "duration": 190,
    "start_time": "2021-11-04T18:12:57.792Z"
   },
   {
    "duration": 25,
    "start_time": "2021-11-04T18:12:57.985Z"
   },
   {
    "duration": 24,
    "start_time": "2021-11-04T18:12:58.012Z"
   },
   {
    "duration": 8,
    "start_time": "2021-11-04T18:12:58.038Z"
   },
   {
    "duration": 27,
    "start_time": "2021-11-04T18:12:58.048Z"
   },
   {
    "duration": 5,
    "start_time": "2021-11-04T18:12:58.078Z"
   },
   {
    "duration": 67,
    "start_time": "2021-11-04T18:12:58.086Z"
   },
   {
    "duration": 33,
    "start_time": "2021-11-04T18:12:58.157Z"
   },
   {
    "duration": 70,
    "start_time": "2021-11-04T18:12:58.193Z"
   },
   {
    "duration": 133,
    "start_time": "2021-11-04T18:12:58.266Z"
   },
   {
    "duration": 147,
    "start_time": "2021-11-04T18:12:58.402Z"
   },
   {
    "duration": 118,
    "start_time": "2021-11-04T18:12:58.552Z"
   },
   {
    "duration": 69,
    "start_time": "2021-11-04T18:12:58.672Z"
   },
   {
    "duration": 13,
    "start_time": "2021-11-04T18:12:58.743Z"
   },
   {
    "duration": 94,
    "start_time": "2021-11-04T18:12:58.759Z"
   },
   {
    "duration": 49,
    "start_time": "2021-11-04T18:12:58.856Z"
   },
   {
    "duration": 310,
    "start_time": "2021-11-04T18:12:58.908Z"
   },
   {
    "duration": 58,
    "start_time": "2021-11-04T18:13:55.889Z"
   },
   {
    "duration": 4,
    "start_time": "2021-11-04T18:14:23.954Z"
   },
   {
    "duration": 24,
    "start_time": "2021-11-04T18:14:32.836Z"
   },
   {
    "duration": 48,
    "start_time": "2021-11-04T18:14:39.683Z"
   },
   {
    "duration": 276,
    "start_time": "2021-11-04T18:14:52.582Z"
   },
   {
    "duration": 33,
    "start_time": "2021-11-04T18:15:39.806Z"
   },
   {
    "duration": 40,
    "start_time": "2021-11-04T18:15:47.725Z"
   },
   {
    "duration": 6442,
    "start_time": "2021-11-04T18:18:45.809Z"
   },
   {
    "duration": 6913,
    "start_time": "2021-11-04T18:18:52.406Z"
   },
   {
    "duration": 269,
    "start_time": "2021-11-04T18:22:57.410Z"
   },
   {
    "duration": 40,
    "start_time": "2021-11-04T18:23:35.478Z"
   },
   {
    "duration": 7017,
    "start_time": "2021-11-04T18:25:25.409Z"
   },
   {
    "duration": 6498,
    "start_time": "2021-11-04T18:26:43.903Z"
   },
   {
    "duration": 16,
    "start_time": "2021-11-04T18:48:04.719Z"
   },
   {
    "duration": 16,
    "start_time": "2021-11-04T18:48:47.587Z"
   },
   {
    "duration": 6242,
    "start_time": "2021-11-04T18:49:09.248Z"
   },
   {
    "duration": 3509,
    "start_time": "2021-11-04T18:50:13.233Z"
   },
   {
    "duration": 3455,
    "start_time": "2021-11-04T18:53:06.322Z"
   },
   {
    "duration": 3547,
    "start_time": "2021-11-04T19:19:34.900Z"
   },
   {
    "duration": 3503,
    "start_time": "2021-11-04T19:20:22.748Z"
   },
   {
    "duration": 3308,
    "start_time": "2021-11-04T19:21:01.112Z"
   },
   {
    "duration": 315,
    "start_time": "2021-11-05T07:23:23.474Z"
   },
   {
    "duration": 489,
    "start_time": "2021-11-05T07:23:42.820Z"
   },
   {
    "duration": 749,
    "start_time": "2021-11-05T07:24:09.911Z"
   },
   {
    "duration": 194,
    "start_time": "2021-11-05T07:24:10.663Z"
   },
   {
    "duration": 26,
    "start_time": "2021-11-05T07:24:10.861Z"
   },
   {
    "duration": 12,
    "start_time": "2021-11-05T07:24:10.890Z"
   },
   {
    "duration": 6,
    "start_time": "2021-11-05T07:24:10.924Z"
   },
   {
    "duration": 30,
    "start_time": "2021-11-05T07:24:10.932Z"
   },
   {
    "duration": 6,
    "start_time": "2021-11-05T07:24:10.964Z"
   },
   {
    "duration": 64,
    "start_time": "2021-11-05T07:24:10.975Z"
   },
   {
    "duration": 23,
    "start_time": "2021-11-05T07:24:11.042Z"
   },
   {
    "duration": 55,
    "start_time": "2021-11-05T07:24:11.067Z"
   },
   {
    "duration": 98,
    "start_time": "2021-11-05T07:24:11.125Z"
   },
   {
    "duration": 113,
    "start_time": "2021-11-05T07:24:11.226Z"
   },
   {
    "duration": 82,
    "start_time": "2021-11-05T07:24:11.341Z"
   },
   {
    "duration": 57,
    "start_time": "2021-11-05T07:24:11.425Z"
   },
   {
    "duration": 3,
    "start_time": "2021-11-05T07:24:11.485Z"
   },
   {
    "duration": 49,
    "start_time": "2021-11-05T07:24:11.491Z"
   },
   {
    "duration": 47,
    "start_time": "2021-11-05T07:24:11.543Z"
   },
   {
    "duration": 50,
    "start_time": "2021-11-05T07:24:11.593Z"
   },
   {
    "duration": 37,
    "start_time": "2021-11-05T07:24:11.646Z"
   },
   {
    "duration": 4660,
    "start_time": "2021-11-05T07:24:18.010Z"
   },
   {
    "duration": 3515,
    "start_time": "2021-11-05T07:25:13.676Z"
   },
   {
    "duration": 27,
    "start_time": "2021-11-05T07:26:00.965Z"
   },
   {
    "duration": 456,
    "start_time": "2021-11-05T07:30:09.669Z"
   },
   {
    "duration": 27,
    "start_time": "2021-11-05T07:30:31.234Z"
   },
   {
    "duration": 22,
    "start_time": "2021-11-05T08:40:02.351Z"
   },
   {
    "duration": 19,
    "start_time": "2021-11-05T08:40:03.876Z"
   },
   {
    "duration": 17,
    "start_time": "2021-11-05T08:40:04.769Z"
   },
   {
    "duration": 17,
    "start_time": "2021-11-05T08:40:05.820Z"
   },
   {
    "duration": 21,
    "start_time": "2021-11-05T08:40:06.600Z"
   },
   {
    "duration": 18,
    "start_time": "2021-11-05T08:40:07.431Z"
   },
   {
    "duration": 331,
    "start_time": "2021-11-05T08:40:11.415Z"
   },
   {
    "duration": 5,
    "start_time": "2021-11-05T09:56:47.107Z"
   },
   {
    "duration": 399,
    "start_time": "2021-11-05T09:57:30.504Z"
   },
   {
    "duration": 7,
    "start_time": "2021-11-05T10:09:43.153Z"
   },
   {
    "duration": 6,
    "start_time": "2021-11-05T10:10:07.171Z"
   },
   {
    "duration": 6,
    "start_time": "2021-11-05T10:11:06.578Z"
   },
   {
    "duration": 6,
    "start_time": "2021-11-05T10:11:15.269Z"
   },
   {
    "duration": 10,
    "start_time": "2021-11-05T10:12:55.619Z"
   },
   {
    "duration": 11,
    "start_time": "2021-11-05T10:13:25.960Z"
   },
   {
    "duration": 9,
    "start_time": "2021-11-05T10:13:50.870Z"
   },
   {
    "duration": 12,
    "start_time": "2021-11-05T10:15:31.815Z"
   },
   {
    "duration": 23,
    "start_time": "2021-11-05T10:17:33.002Z"
   },
   {
    "duration": 846,
    "start_time": "2021-11-05T13:57:42.799Z"
   },
   {
    "duration": 187,
    "start_time": "2021-11-05T13:57:43.647Z"
   },
   {
    "duration": 26,
    "start_time": "2021-11-05T13:57:43.837Z"
   },
   {
    "duration": 19,
    "start_time": "2021-11-05T13:57:43.866Z"
   },
   {
    "duration": 18,
    "start_time": "2021-11-05T13:57:43.887Z"
   },
   {
    "duration": 26,
    "start_time": "2021-11-05T13:57:43.907Z"
   },
   {
    "duration": 8,
    "start_time": "2021-11-05T13:57:43.936Z"
   },
   {
    "duration": 65,
    "start_time": "2021-11-05T13:57:43.948Z"
   },
   {
    "duration": 23,
    "start_time": "2021-11-05T13:57:44.016Z"
   },
   {
    "duration": 30,
    "start_time": "2021-11-05T13:57:44.041Z"
   },
   {
    "duration": 109,
    "start_time": "2021-11-05T13:57:44.074Z"
   },
   {
    "duration": 101,
    "start_time": "2021-11-05T13:57:44.200Z"
   },
   {
    "duration": 78,
    "start_time": "2021-11-05T13:57:44.303Z"
   },
   {
    "duration": 71,
    "start_time": "2021-11-05T13:57:44.383Z"
   },
   {
    "duration": 4,
    "start_time": "2021-11-05T13:57:44.456Z"
   },
   {
    "duration": 56,
    "start_time": "2021-11-05T13:57:44.462Z"
   },
   {
    "duration": 88,
    "start_time": "2021-11-05T13:57:44.520Z"
   },
   {
    "duration": 31,
    "start_time": "2021-11-05T13:57:44.611Z"
   },
   {
    "duration": 72,
    "start_time": "2021-11-05T13:57:44.644Z"
   },
   {
    "duration": 4,
    "start_time": "2021-11-05T13:57:44.719Z"
   },
   {
    "duration": 32,
    "start_time": "2021-11-05T13:57:44.726Z"
   },
   {
    "duration": 17,
    "start_time": "2021-11-05T13:57:44.760Z"
   },
   {
    "duration": 18,
    "start_time": "2021-11-05T13:57:44.805Z"
   },
   {
    "duration": 18,
    "start_time": "2021-11-05T13:57:44.826Z"
   },
   {
    "duration": 22,
    "start_time": "2021-11-05T13:57:44.847Z"
   },
   {
    "duration": 48,
    "start_time": "2021-11-05T13:57:44.871Z"
   },
   {
    "duration": 13,
    "start_time": "2021-11-05T13:57:44.922Z"
   },
   {
    "duration": 20,
    "start_time": "2021-11-05T13:59:22.246Z"
   },
   {
    "duration": 5,
    "start_time": "2021-11-05T15:31:18.747Z"
   },
   {
    "duration": 453,
    "start_time": "2021-11-05T15:31:29.780Z"
   },
   {
    "duration": 22,
    "start_time": "2021-11-05T15:31:57.149Z"
   },
   {
    "duration": 25,
    "start_time": "2021-11-05T15:32:21.822Z"
   },
   {
    "duration": 25,
    "start_time": "2021-11-05T15:32:37.756Z"
   },
   {
    "duration": 20,
    "start_time": "2021-11-05T15:32:39.606Z"
   },
   {
    "duration": 6,
    "start_time": "2021-11-05T15:32:54.827Z"
   },
   {
    "duration": 823,
    "start_time": "2021-11-05T15:35:44.148Z"
   },
   {
    "duration": 5,
    "start_time": "2021-11-05T15:36:15.016Z"
   },
   {
    "duration": 796,
    "start_time": "2021-11-05T15:36:19.808Z"
   },
   {
    "duration": 6,
    "start_time": "2021-11-05T15:36:50.457Z"
   },
   {
    "duration": 22,
    "start_time": "2021-11-05T15:36:57.148Z"
   },
   {
    "duration": 24,
    "start_time": "2021-11-05T15:37:18.774Z"
   },
   {
    "duration": 6,
    "start_time": "2021-11-05T15:38:02.297Z"
   },
   {
    "duration": 30,
    "start_time": "2021-11-05T15:38:13.939Z"
   },
   {
    "duration": 8,
    "start_time": "2021-11-05T15:38:55.695Z"
   },
   {
    "duration": 24,
    "start_time": "2021-11-05T15:39:03.670Z"
   },
   {
    "duration": 6,
    "start_time": "2021-11-05T15:42:27.012Z"
   },
   {
    "duration": 774,
    "start_time": "2021-11-05T15:42:30.327Z"
   },
   {
    "duration": 6,
    "start_time": "2021-11-05T15:43:22.427Z"
   },
   {
    "duration": 30,
    "start_time": "2021-11-05T15:43:31.039Z"
   },
   {
    "duration": 8,
    "start_time": "2021-11-05T15:45:29.523Z"
   },
   {
    "duration": 735,
    "start_time": "2021-11-05T15:45:36.596Z"
   },
   {
    "duration": 7,
    "start_time": "2021-11-05T15:45:59.840Z"
   },
   {
    "duration": 35,
    "start_time": "2021-11-05T15:46:05.167Z"
   },
   {
    "duration": 34,
    "start_time": "2021-11-05T15:48:27.148Z"
   },
   {
    "duration": 16,
    "start_time": "2021-11-05T15:52:27.473Z"
   },
   {
    "duration": 20,
    "start_time": "2021-11-05T15:59:08.505Z"
   },
   {
    "duration": 412,
    "start_time": "2021-11-05T16:05:21.806Z"
   },
   {
    "duration": 373,
    "start_time": "2021-11-05T16:05:49.168Z"
   },
   {
    "duration": 423,
    "start_time": "2021-11-05T19:15:37.260Z"
   },
   {
    "duration": 807,
    "start_time": "2021-11-05T19:15:44.532Z"
   },
   {
    "duration": 166,
    "start_time": "2021-11-05T19:15:45.341Z"
   },
   {
    "duration": 24,
    "start_time": "2021-11-05T19:15:45.510Z"
   },
   {
    "duration": 24,
    "start_time": "2021-11-05T19:15:45.537Z"
   },
   {
    "duration": 9,
    "start_time": "2021-11-05T19:15:45.563Z"
   },
   {
    "duration": 26,
    "start_time": "2021-11-05T19:15:45.574Z"
   },
   {
    "duration": 7,
    "start_time": "2021-11-05T19:15:45.603Z"
   },
   {
    "duration": 60,
    "start_time": "2021-11-05T19:15:45.615Z"
   },
   {
    "duration": 24,
    "start_time": "2021-11-05T19:15:45.679Z"
   },
   {
    "duration": 57,
    "start_time": "2021-11-05T19:15:45.706Z"
   },
   {
    "duration": 94,
    "start_time": "2021-11-05T19:15:45.766Z"
   },
   {
    "duration": 108,
    "start_time": "2021-11-05T19:15:45.863Z"
   },
   {
    "duration": 117,
    "start_time": "2021-11-05T19:15:45.973Z"
   },
   {
    "duration": 94,
    "start_time": "2021-11-05T19:15:46.094Z"
   },
   {
    "duration": 6,
    "start_time": "2021-11-05T19:15:46.191Z"
   },
   {
    "duration": 39,
    "start_time": "2021-11-05T19:15:46.200Z"
   },
   {
    "duration": 57,
    "start_time": "2021-11-05T19:15:46.258Z"
   },
   {
    "duration": 56,
    "start_time": "2021-11-05T19:15:46.318Z"
   },
   {
    "duration": 40,
    "start_time": "2021-11-05T19:15:46.377Z"
   },
   {
    "duration": 5,
    "start_time": "2021-11-05T19:15:46.420Z"
   },
   {
    "duration": 49,
    "start_time": "2021-11-05T19:15:46.427Z"
   },
   {
    "duration": 17,
    "start_time": "2021-11-05T19:15:46.479Z"
   },
   {
    "duration": 21,
    "start_time": "2021-11-05T19:15:46.501Z"
   },
   {
    "duration": 42,
    "start_time": "2021-11-05T19:15:46.525Z"
   },
   {
    "duration": 19,
    "start_time": "2021-11-05T19:15:46.569Z"
   },
   {
    "duration": 17,
    "start_time": "2021-11-05T19:15:46.591Z"
   },
   {
    "duration": 12,
    "start_time": "2021-11-05T19:15:46.611Z"
   },
   {
    "duration": 52,
    "start_time": "2021-11-05T19:15:46.626Z"
   },
   {
    "duration": 21,
    "start_time": "2021-11-05T19:15:46.681Z"
   },
   {
    "duration": 7,
    "start_time": "2021-11-05T19:15:46.705Z"
   },
   {
    "duration": 62,
    "start_time": "2021-11-05T19:15:46.715Z"
   },
   {
    "duration": 17,
    "start_time": "2021-11-05T19:15:46.779Z"
   },
   {
    "duration": 22,
    "start_time": "2021-11-05T19:15:46.798Z"
   },
   {
    "duration": 48,
    "start_time": "2021-11-05T19:15:46.822Z"
   },
   {
    "duration": 415,
    "start_time": "2021-11-05T19:15:46.873Z"
   },
   {
    "duration": 387,
    "start_time": "2021-11-05T19:16:00.801Z"
   },
   {
    "duration": 498,
    "start_time": "2021-11-05T19:17:54.569Z"
   },
   {
    "duration": 544,
    "start_time": "2021-11-05T19:19:07.956Z"
   },
   {
    "duration": 387,
    "start_time": "2021-11-05T19:19:52.060Z"
   },
   {
    "duration": 806,
    "start_time": "2021-11-05T19:22:59.605Z"
   },
   {
    "duration": 399,
    "start_time": "2021-11-05T19:23:07.640Z"
   },
   {
    "duration": 381,
    "start_time": "2021-11-05T19:23:40.687Z"
   },
   {
    "duration": 399,
    "start_time": "2021-11-05T19:24:11.787Z"
   },
   {
    "duration": 375,
    "start_time": "2021-11-05T19:24:40.456Z"
   },
   {
    "duration": 513,
    "start_time": "2021-11-05T19:25:07.123Z"
   },
   {
    "duration": 6,
    "start_time": "2021-11-05T19:25:14.446Z"
   },
   {
    "duration": 5,
    "start_time": "2021-11-05T19:25:49.124Z"
   },
   {
    "duration": 23,
    "start_time": "2021-11-05T19:31:58.588Z"
   },
   {
    "duration": 11,
    "start_time": "2021-11-05T19:33:04.309Z"
   },
   {
    "duration": 4,
    "start_time": "2021-11-05T19:33:29.818Z"
   },
   {
    "duration": 12,
    "start_time": "2021-11-05T19:34:07.736Z"
   },
   {
    "duration": 14,
    "start_time": "2021-11-05T19:34:47.485Z"
   },
   {
    "duration": 15,
    "start_time": "2021-11-05T19:35:26.995Z"
   },
   {
    "duration": 813,
    "start_time": "2021-11-05T19:35:57.869Z"
   },
   {
    "duration": 20,
    "start_time": "2021-11-05T19:36:17.661Z"
   },
   {
    "duration": 391,
    "start_time": "2021-11-05T19:37:18.843Z"
   },
   {
    "duration": 395,
    "start_time": "2021-11-05T19:40:07.965Z"
   },
   {
    "duration": 33,
    "start_time": "2021-11-05T19:40:18.273Z"
   },
   {
    "duration": 82,
    "start_time": "2021-11-05T19:40:53.203Z"
   },
   {
    "duration": 13,
    "start_time": "2021-11-05T19:41:10.955Z"
   },
   {
    "duration": 14,
    "start_time": "2021-11-05T19:41:24.203Z"
   },
   {
    "duration": 16,
    "start_time": "2021-11-05T19:41:42.561Z"
   },
   {
    "duration": 15,
    "start_time": "2021-11-05T19:43:14.747Z"
   },
   {
    "duration": 15,
    "start_time": "2021-11-05T19:43:54.357Z"
   },
   {
    "duration": 16,
    "start_time": "2021-11-05T19:44:30.287Z"
   },
   {
    "duration": 764,
    "start_time": "2021-11-06T13:18:59.822Z"
   },
   {
    "duration": 190,
    "start_time": "2021-11-06T13:19:00.589Z"
   },
   {
    "duration": 26,
    "start_time": "2021-11-06T13:19:00.783Z"
   },
   {
    "duration": 27,
    "start_time": "2021-11-06T13:19:00.812Z"
   },
   {
    "duration": 20,
    "start_time": "2021-11-06T13:19:00.842Z"
   },
   {
    "duration": 46,
    "start_time": "2021-11-06T13:19:00.864Z"
   },
   {
    "duration": 12,
    "start_time": "2021-11-06T13:19:00.912Z"
   },
   {
    "duration": 50,
    "start_time": "2021-11-06T13:19:00.927Z"
   },
   {
    "duration": 28,
    "start_time": "2021-11-06T13:19:00.980Z"
   },
   {
    "duration": 41,
    "start_time": "2021-11-06T13:19:01.010Z"
   },
   {
    "duration": 105,
    "start_time": "2021-11-06T13:19:01.053Z"
   },
   {
    "duration": 111,
    "start_time": "2021-11-06T13:19:01.160Z"
   },
   {
    "duration": 85,
    "start_time": "2021-11-06T13:19:01.274Z"
   },
   {
    "duration": 71,
    "start_time": "2021-11-06T13:19:01.361Z"
   },
   {
    "duration": 5,
    "start_time": "2021-11-06T13:19:01.434Z"
   },
   {
    "duration": 34,
    "start_time": "2021-11-06T13:19:01.442Z"
   },
   {
    "duration": 83,
    "start_time": "2021-11-06T13:19:01.479Z"
   },
   {
    "duration": 33,
    "start_time": "2021-11-06T13:19:01.564Z"
   },
   {
    "duration": 62,
    "start_time": "2021-11-06T13:19:01.600Z"
   },
   {
    "duration": 5,
    "start_time": "2021-11-06T13:19:01.665Z"
   },
   {
    "duration": 40,
    "start_time": "2021-11-06T13:19:01.673Z"
   },
   {
    "duration": 27,
    "start_time": "2021-11-06T13:19:01.716Z"
   },
   {
    "duration": 19,
    "start_time": "2021-11-06T13:19:01.747Z"
   },
   {
    "duration": 18,
    "start_time": "2021-11-06T13:19:01.769Z"
   },
   {
    "duration": 52,
    "start_time": "2021-11-06T13:19:01.789Z"
   },
   {
    "duration": 19,
    "start_time": "2021-11-06T13:19:01.844Z"
   },
   {
    "duration": 24,
    "start_time": "2021-11-06T13:19:01.865Z"
   },
   {
    "duration": 44,
    "start_time": "2021-11-06T13:19:01.892Z"
   },
   {
    "duration": 19,
    "start_time": "2021-11-06T13:19:01.938Z"
   },
   {
    "duration": 5,
    "start_time": "2021-11-06T13:19:01.959Z"
   },
   {
    "duration": 40,
    "start_time": "2021-11-06T13:19:01.967Z"
   },
   {
    "duration": 29,
    "start_time": "2021-11-06T13:19:02.010Z"
   },
   {
    "duration": 21,
    "start_time": "2021-11-06T13:19:02.041Z"
   },
   {
    "duration": 17,
    "start_time": "2021-11-06T13:19:02.064Z"
   },
   {
    "duration": 14,
    "start_time": "2021-11-06T13:19:07.367Z"
   },
   {
    "duration": 357,
    "start_time": "2021-11-06T13:19:50.803Z"
   },
   {
    "duration": 257,
    "start_time": "2021-11-06T13:20:03.366Z"
   },
   {
    "duration": 16,
    "start_time": "2021-11-06T13:20:33.014Z"
   },
   {
    "duration": 291,
    "start_time": "2021-11-06T13:22:53.053Z"
   },
   {
    "duration": 38,
    "start_time": "2021-11-06T13:23:12.251Z"
   },
   {
    "duration": 102,
    "start_time": "2021-11-06T13:25:09.756Z"
   },
   {
    "duration": 161,
    "start_time": "2021-11-06T13:25:38.449Z"
   },
   {
    "duration": 96,
    "start_time": "2021-11-06T13:26:26.639Z"
   },
   {
    "duration": 81,
    "start_time": "2021-11-06T13:26:53.494Z"
   },
   {
    "duration": 89,
    "start_time": "2021-11-06T13:27:22.760Z"
   },
   {
    "duration": 100,
    "start_time": "2021-11-06T13:27:43.471Z"
   },
   {
    "duration": 81,
    "start_time": "2021-11-06T13:28:05.810Z"
   },
   {
    "duration": 78,
    "start_time": "2021-11-06T13:28:15.585Z"
   },
   {
    "duration": 14,
    "start_time": "2021-11-06T13:28:44.800Z"
   },
   {
    "duration": 26,
    "start_time": "2021-11-06T13:29:27.439Z"
   },
   {
    "duration": 109,
    "start_time": "2021-11-06T13:31:11.077Z"
   },
   {
    "duration": 264,
    "start_time": "2021-11-06T13:31:26.150Z"
   },
   {
    "duration": 326,
    "start_time": "2021-11-06T13:31:51.494Z"
   },
   {
    "duration": 14,
    "start_time": "2021-11-06T13:32:23.029Z"
   },
   {
    "duration": 15,
    "start_time": "2021-11-06T13:32:48.130Z"
   },
   {
    "duration": 14,
    "start_time": "2021-11-06T13:33:16.754Z"
   },
   {
    "duration": 5,
    "start_time": "2021-11-06T13:33:21.098Z"
   },
   {
    "duration": 757,
    "start_time": "2021-11-07T12:27:20.192Z"
   },
   {
    "duration": 180,
    "start_time": "2021-11-07T12:27:23.004Z"
   },
   {
    "duration": 27,
    "start_time": "2021-11-07T12:27:25.899Z"
   },
   {
    "duration": 12,
    "start_time": "2021-11-07T12:28:50.030Z"
   },
   {
    "duration": 6,
    "start_time": "2021-11-07T12:29:56.063Z"
   },
   {
    "duration": 19,
    "start_time": "2021-11-07T12:42:45.156Z"
   },
   {
    "duration": 8,
    "start_time": "2021-11-07T12:42:50.846Z"
   },
   {
    "duration": 24,
    "start_time": "2021-11-07T12:42:54.306Z"
   },
   {
    "duration": 5,
    "start_time": "2021-11-07T12:42:56.896Z"
   },
   {
    "duration": 32,
    "start_time": "2021-11-07T12:43:00.525Z"
   },
   {
    "duration": 24,
    "start_time": "2021-11-07T12:43:10.365Z"
   },
   {
    "duration": 20,
    "start_time": "2021-11-07T12:44:28.146Z"
   },
   {
    "duration": 31,
    "start_time": "2021-11-07T12:44:32.704Z"
   },
   {
    "duration": 82,
    "start_time": "2021-11-07T12:45:56.255Z"
   },
   {
    "duration": 91,
    "start_time": "2021-11-07T12:47:10.196Z"
   },
   {
    "duration": 70,
    "start_time": "2021-11-07T12:47:13.165Z"
   },
   {
    "duration": 72,
    "start_time": "2021-11-07T12:47:28.976Z"
   },
   {
    "duration": 4,
    "start_time": "2021-11-07T12:52:20.588Z"
   },
   {
    "duration": 25,
    "start_time": "2021-11-07T12:52:41.095Z"
   },
   {
    "duration": 47,
    "start_time": "2021-11-07T12:52:46.955Z"
   },
   {
    "duration": 50,
    "start_time": "2021-11-07T12:53:02.308Z"
   },
   {
    "duration": 6,
    "start_time": "2021-11-07T12:53:23.717Z"
   },
   {
    "duration": 34,
    "start_time": "2021-11-07T12:53:26.577Z"
   },
   {
    "duration": 67,
    "start_time": "2021-11-07T12:53:30.188Z"
   },
   {
    "duration": 4,
    "start_time": "2021-11-07T13:37:01.602Z"
   },
   {
    "duration": 181,
    "start_time": "2021-11-07T13:37:01.621Z"
   },
   {
    "duration": 15,
    "start_time": "2021-11-07T13:37:01.804Z"
   },
   {
    "duration": 36,
    "start_time": "2021-11-07T13:37:01.823Z"
   },
   {
    "duration": 6,
    "start_time": "2021-11-07T13:37:01.862Z"
   },
   {
    "duration": 21,
    "start_time": "2021-11-07T13:37:01.870Z"
   },
   {
    "duration": 12,
    "start_time": "2021-11-07T13:37:01.893Z"
   },
   {
    "duration": 69,
    "start_time": "2021-11-07T13:37:01.907Z"
   },
   {
    "duration": 38,
    "start_time": "2021-11-07T13:37:01.982Z"
   },
   {
    "duration": 59,
    "start_time": "2021-11-07T13:37:02.024Z"
   },
   {
    "duration": 141,
    "start_time": "2021-11-07T13:37:02.087Z"
   },
   {
    "duration": 149,
    "start_time": "2021-11-07T13:37:02.232Z"
   },
   {
    "duration": 122,
    "start_time": "2021-11-07T13:37:05.633Z"
   },
   {
    "duration": 86,
    "start_time": "2021-11-07T13:37:24.823Z"
   },
   {
    "duration": 6,
    "start_time": "2021-11-07T13:37:51.015Z"
   },
   {
    "duration": 35,
    "start_time": "2021-11-07T13:37:59.173Z"
   },
   {
    "duration": 28,
    "start_time": "2021-11-07T13:39:04.394Z"
   },
   {
    "duration": 55,
    "start_time": "2021-11-07T13:39:19.771Z"
   },
   {
    "duration": 59,
    "start_time": "2021-11-07T13:40:13.831Z"
   },
   {
    "duration": 59,
    "start_time": "2021-11-07T13:42:05.442Z"
   },
   {
    "duration": 58,
    "start_time": "2021-11-07T13:42:20.453Z"
   },
   {
    "duration": 50,
    "start_time": "2021-11-07T13:45:29.614Z"
   },
   {
    "duration": 41,
    "start_time": "2021-11-07T13:48:58.621Z"
   },
   {
    "duration": 37,
    "start_time": "2021-11-07T13:49:19.811Z"
   },
   {
    "duration": 5,
    "start_time": "2021-11-07T13:50:00.325Z"
   },
   {
    "duration": 19,
    "start_time": "2021-11-07T13:52:32.453Z"
   },
   {
    "duration": 17,
    "start_time": "2021-11-07T13:52:33.203Z"
   },
   {
    "duration": 17,
    "start_time": "2021-11-07T13:52:33.752Z"
   },
   {
    "duration": 17,
    "start_time": "2021-11-07T13:52:34.337Z"
   },
   {
    "duration": 19,
    "start_time": "2021-11-07T13:52:34.945Z"
   },
   {
    "duration": 18,
    "start_time": "2021-11-07T13:52:36.313Z"
   },
   {
    "duration": 12,
    "start_time": "2021-11-07T13:53:01.863Z"
   },
   {
    "duration": 31,
    "start_time": "2021-11-07T13:54:40.113Z"
   },
   {
    "duration": 30,
    "start_time": "2021-11-07T13:55:02.854Z"
   },
   {
    "duration": 27,
    "start_time": "2021-11-07T13:55:40.597Z"
   },
   {
    "duration": 6,
    "start_time": "2021-11-07T13:56:11.681Z"
   },
   {
    "duration": 34,
    "start_time": "2021-11-07T13:56:36.148Z"
   },
   {
    "duration": 35,
    "start_time": "2021-11-07T13:56:50.845Z"
   },
   {
    "duration": 24,
    "start_time": "2021-11-07T13:59:01.525Z"
   },
   {
    "duration": 26,
    "start_time": "2021-11-07T13:59:34.401Z"
   },
   {
    "duration": 30,
    "start_time": "2021-11-07T14:00:16.886Z"
   },
   {
    "duration": 30,
    "start_time": "2021-11-07T14:00:59.153Z"
   },
   {
    "duration": 25,
    "start_time": "2021-11-07T14:01:50.393Z"
   },
   {
    "duration": 26,
    "start_time": "2021-11-07T14:02:00.993Z"
   },
   {
    "duration": 23,
    "start_time": "2021-11-07T14:03:44.333Z"
   },
   {
    "duration": 21,
    "start_time": "2021-11-07T14:05:18.912Z"
   },
   {
    "duration": 115,
    "start_time": "2021-11-07T14:06:27.763Z"
   },
   {
    "duration": 124,
    "start_time": "2021-11-07T14:06:38.253Z"
   },
   {
    "duration": 16,
    "start_time": "2021-11-07T14:07:10.233Z"
   },
   {
    "duration": 12,
    "start_time": "2021-11-07T14:09:52.547Z"
   },
   {
    "duration": 5,
    "start_time": "2021-11-07T14:10:10.123Z"
   },
   {
    "duration": 13,
    "start_time": "2021-11-07T14:10:40.873Z"
   },
   {
    "duration": 6,
    "start_time": "2021-11-07T14:10:44.633Z"
   },
   {
    "duration": 5,
    "start_time": "2021-11-07T14:10:56.591Z"
   },
   {
    "duration": 5,
    "start_time": "2021-11-07T14:12:42.152Z"
   },
   {
    "duration": 532,
    "start_time": "2021-11-07T14:13:32.462Z"
   },
   {
    "duration": 373,
    "start_time": "2021-11-07T14:14:07.401Z"
   },
   {
    "duration": 9,
    "start_time": "2021-11-07T14:14:19.601Z"
   },
   {
    "duration": 6,
    "start_time": "2021-11-07T14:15:21.992Z"
   },
   {
    "duration": 5,
    "start_time": "2021-11-07T14:15:40.391Z"
   },
   {
    "duration": 12,
    "start_time": "2021-11-07T14:35:55.302Z"
   },
   {
    "duration": 30,
    "start_time": "2021-11-07T14:37:11.384Z"
   },
   {
    "duration": 26,
    "start_time": "2021-11-07T14:37:13.312Z"
   },
   {
    "duration": 5,
    "start_time": "2021-11-07T14:40:56.904Z"
   },
   {
    "duration": 25,
    "start_time": "2021-11-07T14:41:03.523Z"
   },
   {
    "duration": 24,
    "start_time": "2021-11-07T14:42:09.478Z"
   },
   {
    "duration": 17,
    "start_time": "2021-11-07T14:42:11.719Z"
   },
   {
    "duration": 23,
    "start_time": "2021-11-07T14:42:14.604Z"
   },
   {
    "duration": 18,
    "start_time": "2021-11-07T14:42:15.971Z"
   },
   {
    "duration": 12,
    "start_time": "2021-11-07T14:43:35.573Z"
   },
   {
    "duration": 6,
    "start_time": "2021-11-07T14:43:38.591Z"
   },
   {
    "duration": 11,
    "start_time": "2021-11-07T14:43:43.533Z"
   },
   {
    "duration": 5,
    "start_time": "2021-11-07T14:43:47.593Z"
   },
   {
    "duration": 809,
    "start_time": "2021-11-08T08:59:18.737Z"
   },
   {
    "duration": 181,
    "start_time": "2021-11-08T08:59:19.548Z"
   },
   {
    "duration": 28,
    "start_time": "2021-11-08T08:59:19.733Z"
   },
   {
    "duration": 14,
    "start_time": "2021-11-08T08:59:19.765Z"
   },
   {
    "duration": 7,
    "start_time": "2021-11-08T08:59:19.782Z"
   },
   {
    "duration": 63,
    "start_time": "2021-11-08T08:59:19.791Z"
   },
   {
    "duration": 8,
    "start_time": "2021-11-08T08:59:19.857Z"
   },
   {
    "duration": 47,
    "start_time": "2021-11-08T08:59:19.867Z"
   },
   {
    "duration": 30,
    "start_time": "2021-11-08T08:59:19.918Z"
   },
   {
    "duration": 30,
    "start_time": "2021-11-08T08:59:19.951Z"
   },
   {
    "duration": 120,
    "start_time": "2021-11-08T08:59:19.983Z"
   },
   {
    "duration": 104,
    "start_time": "2021-11-08T08:59:20.105Z"
   },
   {
    "duration": 81,
    "start_time": "2021-11-08T08:59:20.212Z"
   },
   {
    "duration": 70,
    "start_time": "2021-11-08T08:59:20.296Z"
   },
   {
    "duration": 4,
    "start_time": "2021-11-08T08:59:20.370Z"
   },
   {
    "duration": 53,
    "start_time": "2021-11-08T08:59:20.377Z"
   },
   {
    "duration": 60,
    "start_time": "2021-11-08T08:59:20.432Z"
   },
   {
    "duration": 56,
    "start_time": "2021-11-08T08:59:20.495Z"
   },
   {
    "duration": 43,
    "start_time": "2021-11-08T08:59:20.554Z"
   },
   {
    "duration": 5,
    "start_time": "2021-11-08T08:59:20.628Z"
   },
   {
    "duration": 32,
    "start_time": "2021-11-08T08:59:20.636Z"
   },
   {
    "duration": 19,
    "start_time": "2021-11-08T08:59:20.670Z"
   },
   {
    "duration": 48,
    "start_time": "2021-11-08T08:59:20.692Z"
   },
   {
    "duration": 16,
    "start_time": "2021-11-08T08:59:20.743Z"
   },
   {
    "duration": 21,
    "start_time": "2021-11-08T08:59:20.762Z"
   },
   {
    "duration": 43,
    "start_time": "2021-11-08T08:59:20.785Z"
   },
   {
    "duration": 12,
    "start_time": "2021-11-08T08:59:20.834Z"
   },
   {
    "duration": 42,
    "start_time": "2021-11-08T08:59:20.848Z"
   },
   {
    "duration": 41,
    "start_time": "2021-11-08T08:59:20.893Z"
   },
   {
    "duration": 5,
    "start_time": "2021-11-08T08:59:20.937Z"
   },
   {
    "duration": 37,
    "start_time": "2021-11-08T08:59:20.944Z"
   },
   {
    "duration": 16,
    "start_time": "2021-11-08T08:59:20.983Z"
   },
   {
    "duration": 42,
    "start_time": "2021-11-08T08:59:21.001Z"
   },
   {
    "duration": 16,
    "start_time": "2021-11-08T08:59:21.045Z"
   },
   {
    "duration": 12,
    "start_time": "2021-11-08T08:59:21.063Z"
   },
   {
    "duration": 7,
    "start_time": "2021-11-08T08:59:21.077Z"
   },
   {
    "duration": 49,
    "start_time": "2021-11-08T08:59:21.086Z"
   },
   {
    "duration": 6,
    "start_time": "2021-11-08T08:59:21.137Z"
   },
   {
    "duration": 626,
    "start_time": "2021-11-08T11:44:23.342Z"
   },
   {
    "duration": 147,
    "start_time": "2021-11-08T11:44:23.970Z"
   },
   {
    "duration": 16,
    "start_time": "2021-11-08T11:44:24.119Z"
   },
   {
    "duration": 25,
    "start_time": "2021-11-08T11:44:27.077Z"
   },
   {
    "duration": 2,
    "start_time": "2021-11-08T12:37:56.801Z"
   },
   {
    "duration": 149,
    "start_time": "2021-11-08T12:37:56.806Z"
   },
   {
    "duration": 10,
    "start_time": "2021-11-08T12:37:56.957Z"
   },
   {
    "duration": 28,
    "start_time": "2021-11-08T12:37:56.969Z"
   },
   {
    "duration": 4,
    "start_time": "2021-11-08T12:37:56.999Z"
   },
   {
    "duration": 24,
    "start_time": "2021-11-08T12:37:57.005Z"
   },
   {
    "duration": 3,
    "start_time": "2021-11-08T12:37:57.031Z"
   },
   {
    "duration": 23,
    "start_time": "2021-11-08T12:37:57.064Z"
   },
   {
    "duration": 17,
    "start_time": "2021-11-08T12:37:57.089Z"
   },
   {
    "duration": 23,
    "start_time": "2021-11-08T12:37:57.108Z"
   },
   {
    "duration": 87,
    "start_time": "2021-11-08T12:37:57.132Z"
   },
   {
    "duration": 75,
    "start_time": "2021-11-08T12:37:57.221Z"
   },
   {
    "duration": 49,
    "start_time": "2021-11-08T12:37:57.297Z"
   },
   {
    "duration": 50,
    "start_time": "2021-11-08T12:37:57.348Z"
   },
   {
    "duration": 4,
    "start_time": "2021-11-08T12:38:01.727Z"
   },
   {
    "duration": 7,
    "start_time": "2021-11-08T12:38:10.885Z"
   },
   {
    "duration": 42,
    "start_time": "2021-11-08T12:38:19.971Z"
   },
   {
    "duration": 3,
    "start_time": "2021-11-08T12:40:12.572Z"
   },
   {
    "duration": 10,
    "start_time": "2021-11-08T12:40:18.348Z"
   },
   {
    "duration": 39,
    "start_time": "2021-11-08T12:40:26.155Z"
   },
   {
    "duration": 43,
    "start_time": "2021-11-08T12:42:33.351Z"
   },
   {
    "duration": 3,
    "start_time": "2021-11-08T12:43:11.495Z"
   },
   {
    "duration": 10,
    "start_time": "2021-11-08T12:43:18.104Z"
   },
   {
    "duration": 43,
    "start_time": "2021-11-08T12:43:24.081Z"
   },
   {
    "duration": 3,
    "start_time": "2021-11-08T12:43:56.907Z"
   },
   {
    "duration": 11,
    "start_time": "2021-11-08T12:44:03.566Z"
   },
   {
    "duration": 40,
    "start_time": "2021-11-08T12:44:10.221Z"
   },
   {
    "duration": 11,
    "start_time": "2021-11-08T12:47:59.589Z"
   },
   {
    "duration": 23,
    "start_time": "2021-11-08T13:08:13.182Z"
   },
   {
    "duration": 290,
    "start_time": "2021-11-08T13:08:31.808Z"
   },
   {
    "duration": 259,
    "start_time": "2021-11-08T13:09:12.002Z"
   },
   {
    "duration": 22,
    "start_time": "2021-11-08T13:10:51.673Z"
   },
   {
    "duration": 9,
    "start_time": "2021-11-08T13:17:19.596Z"
   },
   {
    "duration": 8,
    "start_time": "2021-11-08T13:17:23.501Z"
   },
   {
    "duration": 12,
    "start_time": "2021-11-08T13:18:06.518Z"
   },
   {
    "duration": 10,
    "start_time": "2021-11-08T13:18:24.047Z"
   },
   {
    "duration": 11,
    "start_time": "2021-11-08T13:18:38.492Z"
   },
   {
    "duration": 23,
    "start_time": "2021-11-08T13:21:43.656Z"
   },
   {
    "duration": 28,
    "start_time": "2021-11-08T13:21:58.173Z"
   },
   {
    "duration": 20,
    "start_time": "2021-11-08T13:22:50.970Z"
   },
   {
    "duration": 20,
    "start_time": "2021-11-08T13:25:02.892Z"
   },
   {
    "duration": 18,
    "start_time": "2021-11-08T13:25:27.639Z"
   },
   {
    "duration": 3,
    "start_time": "2021-11-08T13:36:05.951Z"
   },
   {
    "duration": 145,
    "start_time": "2021-11-08T13:36:05.962Z"
   },
   {
    "duration": 11,
    "start_time": "2021-11-08T13:36:06.109Z"
   },
   {
    "duration": 44,
    "start_time": "2021-11-08T13:36:06.123Z"
   },
   {
    "duration": 4,
    "start_time": "2021-11-08T13:36:06.170Z"
   },
   {
    "duration": 26,
    "start_time": "2021-11-08T13:36:06.176Z"
   },
   {
    "duration": 4,
    "start_time": "2021-11-08T13:36:06.204Z"
   },
   {
    "duration": 28,
    "start_time": "2021-11-08T13:36:06.209Z"
   },
   {
    "duration": 40,
    "start_time": "2021-11-08T13:36:06.240Z"
   },
   {
    "duration": 23,
    "start_time": "2021-11-08T13:36:06.282Z"
   },
   {
    "duration": 84,
    "start_time": "2021-11-08T13:36:06.307Z"
   },
   {
    "duration": 83,
    "start_time": "2021-11-08T13:36:06.393Z"
   },
   {
    "duration": 50,
    "start_time": "2021-11-08T13:36:06.478Z"
   },
   {
    "duration": 47,
    "start_time": "2021-11-08T13:36:06.529Z"
   },
   {
    "duration": 3,
    "start_time": "2021-11-08T13:36:06.578Z"
   },
   {
    "duration": 20,
    "start_time": "2021-11-08T13:36:06.583Z"
   },
   {
    "duration": 38,
    "start_time": "2021-11-08T13:36:06.605Z"
   },
   {
    "duration": 27,
    "start_time": "2021-11-08T13:36:06.645Z"
   },
   {
    "duration": 11,
    "start_time": "2021-11-08T13:36:06.673Z"
   },
   {
    "duration": 5,
    "start_time": "2021-11-08T13:36:06.685Z"
   },
   {
    "duration": 19,
    "start_time": "2021-11-08T13:36:06.692Z"
   },
   {
    "duration": 13,
    "start_time": "2021-11-08T13:36:06.714Z"
   },
   {
    "duration": 39,
    "start_time": "2021-11-08T13:36:06.729Z"
   },
   {
    "duration": 14,
    "start_time": "2021-11-08T13:36:06.769Z"
   },
   {
    "duration": 19,
    "start_time": "2021-11-08T13:36:06.785Z"
   },
   {
    "duration": 17,
    "start_time": "2021-11-08T13:36:06.806Z"
   },
   {
    "duration": 8,
    "start_time": "2021-11-08T13:36:06.824Z"
   },
   {
    "duration": 40,
    "start_time": "2021-11-08T13:36:06.834Z"
   },
   {
    "duration": 18,
    "start_time": "2021-11-08T13:36:06.876Z"
   },
   {
    "duration": 3,
    "start_time": "2021-11-08T13:36:06.896Z"
   },
   {
    "duration": 33,
    "start_time": "2021-11-08T13:36:06.901Z"
   },
   {
    "duration": 28,
    "start_time": "2021-11-08T13:36:06.936Z"
   },
   {
    "duration": 16,
    "start_time": "2021-11-08T13:36:06.966Z"
   },
   {
    "duration": 12,
    "start_time": "2021-11-08T13:36:06.984Z"
   },
   {
    "duration": 14,
    "start_time": "2021-11-08T13:36:06.998Z"
   },
   {
    "duration": 8,
    "start_time": "2021-11-08T13:36:07.013Z"
   },
   {
    "duration": 12,
    "start_time": "2021-11-08T13:36:07.023Z"
   },
   {
    "duration": 6,
    "start_time": "2021-11-08T13:36:07.037Z"
   },
   {
    "duration": 633,
    "start_time": "2021-11-08T13:36:37.644Z"
   },
   {
    "duration": 142,
    "start_time": "2021-11-08T13:36:38.279Z"
   },
   {
    "duration": 17,
    "start_time": "2021-11-08T13:36:38.423Z"
   },
   {
    "duration": 36,
    "start_time": "2021-11-08T13:36:38.442Z"
   },
   {
    "duration": 4,
    "start_time": "2021-11-08T13:36:38.480Z"
   },
   {
    "duration": 22,
    "start_time": "2021-11-08T13:36:38.485Z"
   },
   {
    "duration": 8,
    "start_time": "2021-11-08T13:36:38.509Z"
   },
   {
    "duration": 27,
    "start_time": "2021-11-08T13:36:38.519Z"
   },
   {
    "duration": 31,
    "start_time": "2021-11-08T13:36:38.548Z"
   },
   {
    "duration": 24,
    "start_time": "2021-11-08T13:36:38.581Z"
   },
   {
    "duration": 79,
    "start_time": "2021-11-08T13:36:38.607Z"
   },
   {
    "duration": 81,
    "start_time": "2021-11-08T13:36:38.688Z"
   },
   {
    "duration": 52,
    "start_time": "2021-11-08T13:36:38.770Z"
   },
   {
    "duration": 51,
    "start_time": "2021-11-08T13:36:38.824Z"
   },
   {
    "duration": 2,
    "start_time": "2021-11-08T13:36:38.877Z"
   },
   {
    "duration": 16,
    "start_time": "2021-11-08T13:36:38.881Z"
   },
   {
    "duration": 39,
    "start_time": "2021-11-08T13:36:38.899Z"
   },
   {
    "duration": 27,
    "start_time": "2021-11-08T13:36:38.939Z"
   },
   {
    "duration": 10,
    "start_time": "2021-11-08T13:36:38.968Z"
   },
   {
    "duration": 3,
    "start_time": "2021-11-08T13:36:38.980Z"
   },
   {
    "duration": 21,
    "start_time": "2021-11-08T13:36:38.985Z"
   },
   {
    "duration": 12,
    "start_time": "2021-11-08T13:36:39.008Z"
   },
   {
    "duration": 43,
    "start_time": "2021-11-08T13:36:39.023Z"
   },
   {
    "duration": 14,
    "start_time": "2021-11-08T13:36:39.068Z"
   },
   {
    "duration": 16,
    "start_time": "2021-11-08T13:36:39.083Z"
   },
   {
    "duration": 12,
    "start_time": "2021-11-08T13:36:39.101Z"
   },
   {
    "duration": 8,
    "start_time": "2021-11-08T13:36:39.115Z"
   },
   {
    "duration": 44,
    "start_time": "2021-11-08T13:36:39.124Z"
   },
   {
    "duration": 17,
    "start_time": "2021-11-08T13:36:39.169Z"
   },
   {
    "duration": 4,
    "start_time": "2021-11-08T13:36:39.187Z"
   },
   {
    "duration": 30,
    "start_time": "2021-11-08T13:36:39.193Z"
   },
   {
    "duration": 13,
    "start_time": "2021-11-08T13:36:39.224Z"
   },
   {
    "duration": 35,
    "start_time": "2021-11-08T13:36:39.239Z"
   },
   {
    "duration": 12,
    "start_time": "2021-11-08T13:36:39.276Z"
   },
   {
    "duration": 9,
    "start_time": "2021-11-08T13:36:39.289Z"
   },
   {
    "duration": 6,
    "start_time": "2021-11-08T13:36:39.300Z"
   },
   {
    "duration": 12,
    "start_time": "2021-11-08T13:36:39.308Z"
   },
   {
    "duration": 6,
    "start_time": "2021-11-08T13:36:39.321Z"
   }
  ],
  "colab": {
   "collapsed_sections": [
    "E0vqbgi9ay0H",
    "VUC88oWjTJw2"
   ],
   "name": "yandex_music_project_2021.2.ipynb",
   "provenance": []
  },
  "kernelspec": {
   "display_name": "Python 3",
   "language": "python",
   "name": "python3"
  },
  "language_info": {
   "codemirror_mode": {
    "name": "ipython",
    "version": 3
   },
   "file_extension": ".py",
   "mimetype": "text/x-python",
   "name": "python",
   "nbconvert_exporter": "python",
   "pygments_lexer": "ipython3",
   "version": "3.8.8"
  },
  "toc": {
   "base_numbering": 1,
   "nav_menu": {},
   "number_sections": true,
   "sideBar": true,
   "skip_h1_title": true,
   "title_cell": "Table of Contents",
   "title_sidebar": "Contents",
   "toc_cell": false,
   "toc_position": {},
   "toc_section_display": true,
   "toc_window_display": true
  }
 },
 "nbformat": 4,
 "nbformat_minor": 1
}
