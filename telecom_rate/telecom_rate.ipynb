{
 "cells": [
  {
   "cell_type": "markdown",
   "metadata": {},
   "source": [
    "# Определение перспективного тарифа для телеком-компании"
   ]
  },
  {
   "cell_type": "markdown",
   "metadata": {},
   "source": [
    "# Содержание"
   ]
  },
  {
   "cell_type": "markdown",
   "metadata": {},
   "source": [
    "[Общая информация  и предобработка данных](#Общая-информация-и-предобработка-данных)\n"
   ]
  },
  {
   "cell_type": "markdown",
   "metadata": {},
   "source": [
    "* [Таблица со звонками](#Таблица-со-звонками)"
   ]
  },
  {
   "cell_type": "markdown",
   "metadata": {},
   "source": [
    "* [Таблица с интернетом](#Таблица-с-интернетом)"
   ]
  },
  {
   "cell_type": "markdown",
   "metadata": {},
   "source": [
    "* [Таблица с сообщениями](#Таблица-с-сообщениями)"
   ]
  },
  {
   "cell_type": "markdown",
   "metadata": {},
   "source": [
    "* [Таблица с тарифом](#Таблица-с-тарифом)"
   ]
  },
  {
   "cell_type": "markdown",
   "metadata": {},
   "source": [
    "* [Таблица с пользователями](#Таблица-с-пользователями)\n"
   ]
  },
  {
   "cell_type": "markdown",
   "metadata": {},
   "source": [
    "[Группировка данных](#Группировка-данных)"
   ]
  },
  {
   "cell_type": "markdown",
   "metadata": {},
   "source": [
    "* [Количество звонков и израсходованных минут по месяцам](#Количество-звонков-и-израсходованных-минут-по-месяцам)"
   ]
  },
  {
   "cell_type": "markdown",
   "metadata": {},
   "source": [
    "* [Количество сообщений по месяцам](#Количество-сообщений-по-месяцам)"
   ]
  },
  {
   "cell_type": "markdown",
   "metadata": {},
   "source": [
    "* [ Интернет по месяцам](#Интернет-по-месяцам)"
   ]
  },
  {
   "cell_type": "markdown",
   "metadata": {},
   "source": [
    "* [Помесячная выручка с каждого пользователя](#Помесячная-выручка-с-каждого-пользователя)"
   ]
  },
  {
   "cell_type": "markdown",
   "metadata": {},
   "source": [
    "[Изучение данных](#Изучение-данных)"
   ]
  },
  {
   "cell_type": "markdown",
   "metadata": {},
   "source": [
    "[Проверка гипотез](#Проверка-гипотез)"
   ]
  },
  {
   "cell_type": "markdown",
   "metadata": {},
   "source": [
    "[Общие выводы](#Общие-выводы)"
   ]
  },
  {
   "cell_type": "code",
   "execution_count": 1,
   "metadata": {},
   "outputs": [],
   "source": [
    "import pandas as pd\n",
    "import matplotlib.pyplot as plt\n",
    "from scipy import stats as st\n",
    "import numpy as np\n",
    "from datetime import datetime\n",
    "import seaborn as sns"
   ]
  },
  {
   "cell_type": "code",
   "execution_count": 2,
   "metadata": {},
   "outputs": [],
   "source": [
    "calls = pd.read_csv('/datasets/calls.csv')\n",
    "internet = pd.read_csv('/datasets/internet.csv')\n",
    "messages = pd.read_csv('/datasets/messages.csv')\n",
    "tariffs = pd.read_csv('/datasets/tariffs.csv')\n",
    "users = pd.read_csv('/datasets/users.csv')"
   ]
  },
  {
   "cell_type": "markdown",
   "metadata": {},
   "source": [
    "## Общая информация  и предобработка данных\n"
   ]
  },
  {
   "cell_type": "markdown",
   "metadata": {},
   "source": [
    "### Таблица со звонками<a class=\"anchor\" id=\"first-bullet\"></a>\n"
   ]
  },
  {
   "cell_type": "code",
   "execution_count": 3,
   "metadata": {},
   "outputs": [
    {
     "data": {
      "text/html": [
       "<div>\n",
       "<style scoped>\n",
       "    .dataframe tbody tr th:only-of-type {\n",
       "        vertical-align: middle;\n",
       "    }\n",
       "\n",
       "    .dataframe tbody tr th {\n",
       "        vertical-align: top;\n",
       "    }\n",
       "\n",
       "    .dataframe thead th {\n",
       "        text-align: right;\n",
       "    }\n",
       "</style>\n",
       "<table border=\"1\" class=\"dataframe\">\n",
       "  <thead>\n",
       "    <tr style=\"text-align: right;\">\n",
       "      <th></th>\n",
       "      <th>id</th>\n",
       "      <th>call_date</th>\n",
       "      <th>duration</th>\n",
       "      <th>user_id</th>\n",
       "    </tr>\n",
       "  </thead>\n",
       "  <tbody>\n",
       "    <tr>\n",
       "      <td>0</td>\n",
       "      <td>1000_0</td>\n",
       "      <td>2018-07-25</td>\n",
       "      <td>0.00</td>\n",
       "      <td>1000</td>\n",
       "    </tr>\n",
       "    <tr>\n",
       "      <td>1</td>\n",
       "      <td>1000_1</td>\n",
       "      <td>2018-08-17</td>\n",
       "      <td>0.00</td>\n",
       "      <td>1000</td>\n",
       "    </tr>\n",
       "    <tr>\n",
       "      <td>2</td>\n",
       "      <td>1000_2</td>\n",
       "      <td>2018-06-11</td>\n",
       "      <td>2.85</td>\n",
       "      <td>1000</td>\n",
       "    </tr>\n",
       "    <tr>\n",
       "      <td>3</td>\n",
       "      <td>1000_3</td>\n",
       "      <td>2018-09-21</td>\n",
       "      <td>13.80</td>\n",
       "      <td>1000</td>\n",
       "    </tr>\n",
       "    <tr>\n",
       "      <td>4</td>\n",
       "      <td>1000_4</td>\n",
       "      <td>2018-12-15</td>\n",
       "      <td>5.18</td>\n",
       "      <td>1000</td>\n",
       "    </tr>\n",
       "  </tbody>\n",
       "</table>\n",
       "</div>"
      ],
      "text/plain": [
       "       id   call_date  duration  user_id\n",
       "0  1000_0  2018-07-25      0.00     1000\n",
       "1  1000_1  2018-08-17      0.00     1000\n",
       "2  1000_2  2018-06-11      2.85     1000\n",
       "3  1000_3  2018-09-21     13.80     1000\n",
       "4  1000_4  2018-12-15      5.18     1000"
      ]
     },
     "execution_count": 3,
     "metadata": {},
     "output_type": "execute_result"
    }
   ],
   "source": [
    "calls.head()"
   ]
  },
  {
   "cell_type": "code",
   "execution_count": 4,
   "metadata": {},
   "outputs": [
    {
     "data": {
      "text/html": [
       "<div>\n",
       "<style scoped>\n",
       "    .dataframe tbody tr th:only-of-type {\n",
       "        vertical-align: middle;\n",
       "    }\n",
       "\n",
       "    .dataframe tbody tr th {\n",
       "        vertical-align: top;\n",
       "    }\n",
       "\n",
       "    .dataframe thead th {\n",
       "        text-align: right;\n",
       "    }\n",
       "</style>\n",
       "<table border=\"1\" class=\"dataframe\">\n",
       "  <thead>\n",
       "    <tr style=\"text-align: right;\">\n",
       "      <th></th>\n",
       "      <th>duration</th>\n",
       "      <th>user_id</th>\n",
       "    </tr>\n",
       "  </thead>\n",
       "  <tbody>\n",
       "    <tr>\n",
       "      <td>count</td>\n",
       "      <td>202607.000000</td>\n",
       "      <td>202607.000000</td>\n",
       "    </tr>\n",
       "    <tr>\n",
       "      <td>mean</td>\n",
       "      <td>6.755887</td>\n",
       "      <td>1253.940619</td>\n",
       "    </tr>\n",
       "    <tr>\n",
       "      <td>std</td>\n",
       "      <td>5.843365</td>\n",
       "      <td>144.722751</td>\n",
       "    </tr>\n",
       "    <tr>\n",
       "      <td>min</td>\n",
       "      <td>0.000000</td>\n",
       "      <td>1000.000000</td>\n",
       "    </tr>\n",
       "    <tr>\n",
       "      <td>25%</td>\n",
       "      <td>1.300000</td>\n",
       "      <td>1126.000000</td>\n",
       "    </tr>\n",
       "    <tr>\n",
       "      <td>50%</td>\n",
       "      <td>6.000000</td>\n",
       "      <td>1260.000000</td>\n",
       "    </tr>\n",
       "    <tr>\n",
       "      <td>75%</td>\n",
       "      <td>10.700000</td>\n",
       "      <td>1379.000000</td>\n",
       "    </tr>\n",
       "    <tr>\n",
       "      <td>max</td>\n",
       "      <td>38.000000</td>\n",
       "      <td>1499.000000</td>\n",
       "    </tr>\n",
       "  </tbody>\n",
       "</table>\n",
       "</div>"
      ],
      "text/plain": [
       "            duration        user_id\n",
       "count  202607.000000  202607.000000\n",
       "mean        6.755887    1253.940619\n",
       "std         5.843365     144.722751\n",
       "min         0.000000    1000.000000\n",
       "25%         1.300000    1126.000000\n",
       "50%         6.000000    1260.000000\n",
       "75%        10.700000    1379.000000\n",
       "max        38.000000    1499.000000"
      ]
     },
     "execution_count": 4,
     "metadata": {},
     "output_type": "execute_result"
    }
   ],
   "source": [
    "calls.describe()"
   ]
  },
  {
   "cell_type": "code",
   "execution_count": 5,
   "metadata": {},
   "outputs": [
    {
     "name": "stdout",
     "output_type": "stream",
     "text": [
      "<class 'pandas.core.frame.DataFrame'>\n",
      "RangeIndex: 202607 entries, 0 to 202606\n",
      "Data columns (total 4 columns):\n",
      "id           202607 non-null object\n",
      "call_date    202607 non-null object\n",
      "duration     202607 non-null float64\n",
      "user_id      202607 non-null int64\n",
      "dtypes: float64(1), int64(1), object(2)\n",
      "memory usage: 6.2+ MB\n"
     ]
    }
   ],
   "source": [
    "calls.info()"
   ]
  },
  {
   "cell_type": "code",
   "execution_count": 6,
   "metadata": {},
   "outputs": [],
   "source": [
    "calls['call_date'] = pd.to_datetime(calls['call_date'], format=\"%Y-%m-%d\") # приводим к нужному типу данных"
   ]
  },
  {
   "cell_type": "code",
   "execution_count": 7,
   "metadata": {},
   "outputs": [],
   "source": [
    "calls['duration'] = np.ceil(calls['duration']).astype('int') # в соответствии с политикой оператора округляем все звонки"
   ]
  },
  {
   "cell_type": "code",
   "execution_count": 8,
   "metadata": {},
   "outputs": [
    {
     "data": {
      "text/html": [
       "<div>\n",
       "<style scoped>\n",
       "    .dataframe tbody tr th:only-of-type {\n",
       "        vertical-align: middle;\n",
       "    }\n",
       "\n",
       "    .dataframe tbody tr th {\n",
       "        vertical-align: top;\n",
       "    }\n",
       "\n",
       "    .dataframe thead th {\n",
       "        text-align: right;\n",
       "    }\n",
       "</style>\n",
       "<table border=\"1\" class=\"dataframe\">\n",
       "  <thead>\n",
       "    <tr style=\"text-align: right;\">\n",
       "      <th></th>\n",
       "      <th>id</th>\n",
       "      <th>call_date</th>\n",
       "      <th>duration</th>\n",
       "      <th>user_id</th>\n",
       "    </tr>\n",
       "  </thead>\n",
       "  <tbody>\n",
       "    <tr>\n",
       "      <td>0</td>\n",
       "      <td>1000_0</td>\n",
       "      <td>2018-07-25</td>\n",
       "      <td>0</td>\n",
       "      <td>1000</td>\n",
       "    </tr>\n",
       "    <tr>\n",
       "      <td>1</td>\n",
       "      <td>1000_1</td>\n",
       "      <td>2018-08-17</td>\n",
       "      <td>0</td>\n",
       "      <td>1000</td>\n",
       "    </tr>\n",
       "    <tr>\n",
       "      <td>2</td>\n",
       "      <td>1000_2</td>\n",
       "      <td>2018-06-11</td>\n",
       "      <td>3</td>\n",
       "      <td>1000</td>\n",
       "    </tr>\n",
       "    <tr>\n",
       "      <td>3</td>\n",
       "      <td>1000_3</td>\n",
       "      <td>2018-09-21</td>\n",
       "      <td>14</td>\n",
       "      <td>1000</td>\n",
       "    </tr>\n",
       "    <tr>\n",
       "      <td>4</td>\n",
       "      <td>1000_4</td>\n",
       "      <td>2018-12-15</td>\n",
       "      <td>6</td>\n",
       "      <td>1000</td>\n",
       "    </tr>\n",
       "  </tbody>\n",
       "</table>\n",
       "</div>"
      ],
      "text/plain": [
       "       id  call_date  duration  user_id\n",
       "0  1000_0 2018-07-25         0     1000\n",
       "1  1000_1 2018-08-17         0     1000\n",
       "2  1000_2 2018-06-11         3     1000\n",
       "3  1000_3 2018-09-21        14     1000\n",
       "4  1000_4 2018-12-15         6     1000"
      ]
     },
     "execution_count": 8,
     "metadata": {},
     "output_type": "execute_result"
    }
   ],
   "source": [
    "calls.head()"
   ]
  },
  {
   "cell_type": "markdown",
   "metadata": {},
   "source": [
    "#### Выводы\n",
    " - столбец call_date приведен к формату даты\n",
    " - данные в столбце duration приведены к типу int и округлены в большую сторону\n",
    " - звонки, длительностью 0 оставлены без изменений, так как это пропущенные"
   ]
  },
  {
   "cell_type": "markdown",
   "metadata": {},
   "source": [
    "### Таблица с интернетом"
   ]
  },
  {
   "cell_type": "code",
   "execution_count": 9,
   "metadata": {
    "scrolled": false
   },
   "outputs": [
    {
     "data": {
      "text/html": [
       "<div>\n",
       "<style scoped>\n",
       "    .dataframe tbody tr th:only-of-type {\n",
       "        vertical-align: middle;\n",
       "    }\n",
       "\n",
       "    .dataframe tbody tr th {\n",
       "        vertical-align: top;\n",
       "    }\n",
       "\n",
       "    .dataframe thead th {\n",
       "        text-align: right;\n",
       "    }\n",
       "</style>\n",
       "<table border=\"1\" class=\"dataframe\">\n",
       "  <thead>\n",
       "    <tr style=\"text-align: right;\">\n",
       "      <th></th>\n",
       "      <th>Unnamed: 0</th>\n",
       "      <th>id</th>\n",
       "      <th>mb_used</th>\n",
       "      <th>session_date</th>\n",
       "      <th>user_id</th>\n",
       "    </tr>\n",
       "  </thead>\n",
       "  <tbody>\n",
       "    <tr>\n",
       "      <td>0</td>\n",
       "      <td>0</td>\n",
       "      <td>1000_0</td>\n",
       "      <td>112.95</td>\n",
       "      <td>2018-11-25</td>\n",
       "      <td>1000</td>\n",
       "    </tr>\n",
       "    <tr>\n",
       "      <td>1</td>\n",
       "      <td>1</td>\n",
       "      <td>1000_1</td>\n",
       "      <td>1052.81</td>\n",
       "      <td>2018-09-07</td>\n",
       "      <td>1000</td>\n",
       "    </tr>\n",
       "    <tr>\n",
       "      <td>2</td>\n",
       "      <td>2</td>\n",
       "      <td>1000_2</td>\n",
       "      <td>1197.26</td>\n",
       "      <td>2018-06-25</td>\n",
       "      <td>1000</td>\n",
       "    </tr>\n",
       "    <tr>\n",
       "      <td>3</td>\n",
       "      <td>3</td>\n",
       "      <td>1000_3</td>\n",
       "      <td>550.27</td>\n",
       "      <td>2018-08-22</td>\n",
       "      <td>1000</td>\n",
       "    </tr>\n",
       "    <tr>\n",
       "      <td>4</td>\n",
       "      <td>4</td>\n",
       "      <td>1000_4</td>\n",
       "      <td>302.56</td>\n",
       "      <td>2018-09-24</td>\n",
       "      <td>1000</td>\n",
       "    </tr>\n",
       "  </tbody>\n",
       "</table>\n",
       "</div>"
      ],
      "text/plain": [
       "   Unnamed: 0      id  mb_used session_date  user_id\n",
       "0           0  1000_0   112.95   2018-11-25     1000\n",
       "1           1  1000_1  1052.81   2018-09-07     1000\n",
       "2           2  1000_2  1197.26   2018-06-25     1000\n",
       "3           3  1000_3   550.27   2018-08-22     1000\n",
       "4           4  1000_4   302.56   2018-09-24     1000"
      ]
     },
     "execution_count": 9,
     "metadata": {},
     "output_type": "execute_result"
    }
   ],
   "source": [
    "internet.head()"
   ]
  },
  {
   "cell_type": "code",
   "execution_count": 10,
   "metadata": {},
   "outputs": [
    {
     "data": {
      "text/html": [
       "<div>\n",
       "<style scoped>\n",
       "    .dataframe tbody tr th:only-of-type {\n",
       "        vertical-align: middle;\n",
       "    }\n",
       "\n",
       "    .dataframe tbody tr th {\n",
       "        vertical-align: top;\n",
       "    }\n",
       "\n",
       "    .dataframe thead th {\n",
       "        text-align: right;\n",
       "    }\n",
       "</style>\n",
       "<table border=\"1\" class=\"dataframe\">\n",
       "  <thead>\n",
       "    <tr style=\"text-align: right;\">\n",
       "      <th></th>\n",
       "      <th>Unnamed: 0</th>\n",
       "      <th>mb_used</th>\n",
       "      <th>user_id</th>\n",
       "    </tr>\n",
       "  </thead>\n",
       "  <tbody>\n",
       "    <tr>\n",
       "      <td>count</td>\n",
       "      <td>149396.000000</td>\n",
       "      <td>149396.000000</td>\n",
       "      <td>149396.000000</td>\n",
       "    </tr>\n",
       "    <tr>\n",
       "      <td>mean</td>\n",
       "      <td>74697.500000</td>\n",
       "      <td>370.192426</td>\n",
       "      <td>1252.099842</td>\n",
       "    </tr>\n",
       "    <tr>\n",
       "      <td>std</td>\n",
       "      <td>43127.054745</td>\n",
       "      <td>278.300951</td>\n",
       "      <td>144.050823</td>\n",
       "    </tr>\n",
       "    <tr>\n",
       "      <td>min</td>\n",
       "      <td>0.000000</td>\n",
       "      <td>0.000000</td>\n",
       "      <td>1000.000000</td>\n",
       "    </tr>\n",
       "    <tr>\n",
       "      <td>25%</td>\n",
       "      <td>37348.750000</td>\n",
       "      <td>138.187500</td>\n",
       "      <td>1130.000000</td>\n",
       "    </tr>\n",
       "    <tr>\n",
       "      <td>50%</td>\n",
       "      <td>74697.500000</td>\n",
       "      <td>348.015000</td>\n",
       "      <td>1251.000000</td>\n",
       "    </tr>\n",
       "    <tr>\n",
       "      <td>75%</td>\n",
       "      <td>112046.250000</td>\n",
       "      <td>559.552500</td>\n",
       "      <td>1380.000000</td>\n",
       "    </tr>\n",
       "    <tr>\n",
       "      <td>max</td>\n",
       "      <td>149395.000000</td>\n",
       "      <td>1724.830000</td>\n",
       "      <td>1499.000000</td>\n",
       "    </tr>\n",
       "  </tbody>\n",
       "</table>\n",
       "</div>"
      ],
      "text/plain": [
       "          Unnamed: 0        mb_used        user_id\n",
       "count  149396.000000  149396.000000  149396.000000\n",
       "mean    74697.500000     370.192426    1252.099842\n",
       "std     43127.054745     278.300951     144.050823\n",
       "min         0.000000       0.000000    1000.000000\n",
       "25%     37348.750000     138.187500    1130.000000\n",
       "50%     74697.500000     348.015000    1251.000000\n",
       "75%    112046.250000     559.552500    1380.000000\n",
       "max    149395.000000    1724.830000    1499.000000"
      ]
     },
     "execution_count": 10,
     "metadata": {},
     "output_type": "execute_result"
    }
   ],
   "source": [
    "internet.describe()"
   ]
  },
  {
   "cell_type": "code",
   "execution_count": 11,
   "metadata": {},
   "outputs": [
    {
     "name": "stdout",
     "output_type": "stream",
     "text": [
      "<class 'pandas.core.frame.DataFrame'>\n",
      "RangeIndex: 149396 entries, 0 to 149395\n",
      "Data columns (total 5 columns):\n",
      "Unnamed: 0      149396 non-null int64\n",
      "id              149396 non-null object\n",
      "mb_used         149396 non-null float64\n",
      "session_date    149396 non-null object\n",
      "user_id         149396 non-null int64\n",
      "dtypes: float64(1), int64(2), object(2)\n",
      "memory usage: 5.7+ MB\n"
     ]
    }
   ],
   "source": [
    "internet.info()"
   ]
  },
  {
   "cell_type": "code",
   "execution_count": 12,
   "metadata": {},
   "outputs": [],
   "source": [
    "internet['session_date'] = pd.to_datetime(internet['session_date'], format=\"%Y-%m-%d\")"
   ]
  },
  {
   "cell_type": "code",
   "execution_count": 13,
   "metadata": {},
   "outputs": [
    {
     "data": {
      "text/plain": [
       "0              0\n",
       "1              1\n",
       "2              2\n",
       "3              3\n",
       "4              4\n",
       "           ...  \n",
       "149391    149391\n",
       "149392    149392\n",
       "149393    149393\n",
       "149394    149394\n",
       "149395    149395\n",
       "Name: Unnamed: 0, Length: 149396, dtype: int64"
      ]
     },
     "execution_count": 13,
     "metadata": {},
     "output_type": "execute_result"
    }
   ],
   "source": [
    "internet.pop('Unnamed: 0')"
   ]
  },
  {
   "cell_type": "markdown",
   "metadata": {},
   "source": [
    "#### Выводы\n",
    "- столбец session_date приведен к формату даты\n",
    "- удаляем столбец Unnamed: 0, так как он не содержит полезной информации"
   ]
  },
  {
   "cell_type": "markdown",
   "metadata": {},
   "source": [
    "### Таблица с сообщениями"
   ]
  },
  {
   "cell_type": "code",
   "execution_count": 14,
   "metadata": {},
   "outputs": [
    {
     "data": {
      "text/html": [
       "<div>\n",
       "<style scoped>\n",
       "    .dataframe tbody tr th:only-of-type {\n",
       "        vertical-align: middle;\n",
       "    }\n",
       "\n",
       "    .dataframe tbody tr th {\n",
       "        vertical-align: top;\n",
       "    }\n",
       "\n",
       "    .dataframe thead th {\n",
       "        text-align: right;\n",
       "    }\n",
       "</style>\n",
       "<table border=\"1\" class=\"dataframe\">\n",
       "  <thead>\n",
       "    <tr style=\"text-align: right;\">\n",
       "      <th></th>\n",
       "      <th>id</th>\n",
       "      <th>message_date</th>\n",
       "      <th>user_id</th>\n",
       "    </tr>\n",
       "  </thead>\n",
       "  <tbody>\n",
       "    <tr>\n",
       "      <td>0</td>\n",
       "      <td>1000_0</td>\n",
       "      <td>2018-06-27</td>\n",
       "      <td>1000</td>\n",
       "    </tr>\n",
       "    <tr>\n",
       "      <td>1</td>\n",
       "      <td>1000_1</td>\n",
       "      <td>2018-10-08</td>\n",
       "      <td>1000</td>\n",
       "    </tr>\n",
       "    <tr>\n",
       "      <td>2</td>\n",
       "      <td>1000_2</td>\n",
       "      <td>2018-08-04</td>\n",
       "      <td>1000</td>\n",
       "    </tr>\n",
       "    <tr>\n",
       "      <td>3</td>\n",
       "      <td>1000_3</td>\n",
       "      <td>2018-06-16</td>\n",
       "      <td>1000</td>\n",
       "    </tr>\n",
       "    <tr>\n",
       "      <td>4</td>\n",
       "      <td>1000_4</td>\n",
       "      <td>2018-12-05</td>\n",
       "      <td>1000</td>\n",
       "    </tr>\n",
       "  </tbody>\n",
       "</table>\n",
       "</div>"
      ],
      "text/plain": [
       "       id message_date  user_id\n",
       "0  1000_0   2018-06-27     1000\n",
       "1  1000_1   2018-10-08     1000\n",
       "2  1000_2   2018-08-04     1000\n",
       "3  1000_3   2018-06-16     1000\n",
       "4  1000_4   2018-12-05     1000"
      ]
     },
     "execution_count": 14,
     "metadata": {},
     "output_type": "execute_result"
    }
   ],
   "source": [
    "messages.head()"
   ]
  },
  {
   "cell_type": "code",
   "execution_count": 15,
   "metadata": {},
   "outputs": [
    {
     "data": {
      "text/html": [
       "<div>\n",
       "<style scoped>\n",
       "    .dataframe tbody tr th:only-of-type {\n",
       "        vertical-align: middle;\n",
       "    }\n",
       "\n",
       "    .dataframe tbody tr th {\n",
       "        vertical-align: top;\n",
       "    }\n",
       "\n",
       "    .dataframe thead th {\n",
       "        text-align: right;\n",
       "    }\n",
       "</style>\n",
       "<table border=\"1\" class=\"dataframe\">\n",
       "  <thead>\n",
       "    <tr style=\"text-align: right;\">\n",
       "      <th></th>\n",
       "      <th>user_id</th>\n",
       "    </tr>\n",
       "  </thead>\n",
       "  <tbody>\n",
       "    <tr>\n",
       "      <td>count</td>\n",
       "      <td>123036.000000</td>\n",
       "    </tr>\n",
       "    <tr>\n",
       "      <td>mean</td>\n",
       "      <td>1256.989410</td>\n",
       "    </tr>\n",
       "    <tr>\n",
       "      <td>std</td>\n",
       "      <td>143.523967</td>\n",
       "    </tr>\n",
       "    <tr>\n",
       "      <td>min</td>\n",
       "      <td>1000.000000</td>\n",
       "    </tr>\n",
       "    <tr>\n",
       "      <td>25%</td>\n",
       "      <td>1134.000000</td>\n",
       "    </tr>\n",
       "    <tr>\n",
       "      <td>50%</td>\n",
       "      <td>1271.000000</td>\n",
       "    </tr>\n",
       "    <tr>\n",
       "      <td>75%</td>\n",
       "      <td>1381.000000</td>\n",
       "    </tr>\n",
       "    <tr>\n",
       "      <td>max</td>\n",
       "      <td>1499.000000</td>\n",
       "    </tr>\n",
       "  </tbody>\n",
       "</table>\n",
       "</div>"
      ],
      "text/plain": [
       "             user_id\n",
       "count  123036.000000\n",
       "mean     1256.989410\n",
       "std       143.523967\n",
       "min      1000.000000\n",
       "25%      1134.000000\n",
       "50%      1271.000000\n",
       "75%      1381.000000\n",
       "max      1499.000000"
      ]
     },
     "execution_count": 15,
     "metadata": {},
     "output_type": "execute_result"
    }
   ],
   "source": [
    "messages.describe()"
   ]
  },
  {
   "cell_type": "code",
   "execution_count": 16,
   "metadata": {},
   "outputs": [
    {
     "name": "stdout",
     "output_type": "stream",
     "text": [
      "<class 'pandas.core.frame.DataFrame'>\n",
      "RangeIndex: 123036 entries, 0 to 123035\n",
      "Data columns (total 3 columns):\n",
      "id              123036 non-null object\n",
      "message_date    123036 non-null object\n",
      "user_id         123036 non-null int64\n",
      "dtypes: int64(1), object(2)\n",
      "memory usage: 2.8+ MB\n"
     ]
    }
   ],
   "source": [
    "messages.info()"
   ]
  },
  {
   "cell_type": "code",
   "execution_count": 17,
   "metadata": {},
   "outputs": [],
   "source": [
    "messages['message_date'] = pd.to_datetime(messages['message_date'], format=\"%Y-%m-%d\")\n"
   ]
  },
  {
   "cell_type": "markdown",
   "metadata": {},
   "source": [
    "#### Выводы\n",
    "- столбец message_date приведен к типу даты"
   ]
  },
  {
   "cell_type": "markdown",
   "metadata": {},
   "source": [
    "### Таблица с тарифом"
   ]
  },
  {
   "cell_type": "code",
   "execution_count": 18,
   "metadata": {},
   "outputs": [
    {
     "data": {
      "text/html": [
       "<div>\n",
       "<style scoped>\n",
       "    .dataframe tbody tr th:only-of-type {\n",
       "        vertical-align: middle;\n",
       "    }\n",
       "\n",
       "    .dataframe tbody tr th {\n",
       "        vertical-align: top;\n",
       "    }\n",
       "\n",
       "    .dataframe thead th {\n",
       "        text-align: right;\n",
       "    }\n",
       "</style>\n",
       "<table border=\"1\" class=\"dataframe\">\n",
       "  <thead>\n",
       "    <tr style=\"text-align: right;\">\n",
       "      <th></th>\n",
       "      <th>messages_included</th>\n",
       "      <th>mb_per_month_included</th>\n",
       "      <th>minutes_included</th>\n",
       "      <th>rub_monthly_fee</th>\n",
       "      <th>rub_per_gb</th>\n",
       "      <th>rub_per_message</th>\n",
       "      <th>rub_per_minute</th>\n",
       "      <th>tariff_name</th>\n",
       "    </tr>\n",
       "  </thead>\n",
       "  <tbody>\n",
       "    <tr>\n",
       "      <td>0</td>\n",
       "      <td>50</td>\n",
       "      <td>15360</td>\n",
       "      <td>500</td>\n",
       "      <td>550</td>\n",
       "      <td>200</td>\n",
       "      <td>3</td>\n",
       "      <td>3</td>\n",
       "      <td>smart</td>\n",
       "    </tr>\n",
       "    <tr>\n",
       "      <td>1</td>\n",
       "      <td>1000</td>\n",
       "      <td>30720</td>\n",
       "      <td>3000</td>\n",
       "      <td>1950</td>\n",
       "      <td>150</td>\n",
       "      <td>1</td>\n",
       "      <td>1</td>\n",
       "      <td>ultra</td>\n",
       "    </tr>\n",
       "  </tbody>\n",
       "</table>\n",
       "</div>"
      ],
      "text/plain": [
       "   messages_included  mb_per_month_included  minutes_included  \\\n",
       "0                 50                  15360               500   \n",
       "1               1000                  30720              3000   \n",
       "\n",
       "   rub_monthly_fee  rub_per_gb  rub_per_message  rub_per_minute tariff_name  \n",
       "0              550         200                3               3       smart  \n",
       "1             1950         150                1               1       ultra  "
      ]
     },
     "execution_count": 18,
     "metadata": {},
     "output_type": "execute_result"
    }
   ],
   "source": [
    "tariffs.head()"
   ]
  },
  {
   "cell_type": "code",
   "execution_count": 19,
   "metadata": {},
   "outputs": [
    {
     "data": {
      "text/html": [
       "<div>\n",
       "<style scoped>\n",
       "    .dataframe tbody tr th:only-of-type {\n",
       "        vertical-align: middle;\n",
       "    }\n",
       "\n",
       "    .dataframe tbody tr th {\n",
       "        vertical-align: top;\n",
       "    }\n",
       "\n",
       "    .dataframe thead th {\n",
       "        text-align: right;\n",
       "    }\n",
       "</style>\n",
       "<table border=\"1\" class=\"dataframe\">\n",
       "  <thead>\n",
       "    <tr style=\"text-align: right;\">\n",
       "      <th></th>\n",
       "      <th>messages_included</th>\n",
       "      <th>mb_per_month_included</th>\n",
       "      <th>minutes_included</th>\n",
       "      <th>rub_monthly_fee</th>\n",
       "      <th>rub_per_gb</th>\n",
       "      <th>rub_per_message</th>\n",
       "      <th>rub_per_minute</th>\n",
       "    </tr>\n",
       "  </thead>\n",
       "  <tbody>\n",
       "    <tr>\n",
       "      <td>count</td>\n",
       "      <td>2.000000</td>\n",
       "      <td>2.000000</td>\n",
       "      <td>2.000000</td>\n",
       "      <td>2.000000</td>\n",
       "      <td>2.000000</td>\n",
       "      <td>2.000000</td>\n",
       "      <td>2.000000</td>\n",
       "    </tr>\n",
       "    <tr>\n",
       "      <td>mean</td>\n",
       "      <td>525.000000</td>\n",
       "      <td>23040.000000</td>\n",
       "      <td>1750.000000</td>\n",
       "      <td>1250.000000</td>\n",
       "      <td>175.000000</td>\n",
       "      <td>2.000000</td>\n",
       "      <td>2.000000</td>\n",
       "    </tr>\n",
       "    <tr>\n",
       "      <td>std</td>\n",
       "      <td>671.751442</td>\n",
       "      <td>10861.160159</td>\n",
       "      <td>1767.766953</td>\n",
       "      <td>989.949494</td>\n",
       "      <td>35.355339</td>\n",
       "      <td>1.414214</td>\n",
       "      <td>1.414214</td>\n",
       "    </tr>\n",
       "    <tr>\n",
       "      <td>min</td>\n",
       "      <td>50.000000</td>\n",
       "      <td>15360.000000</td>\n",
       "      <td>500.000000</td>\n",
       "      <td>550.000000</td>\n",
       "      <td>150.000000</td>\n",
       "      <td>1.000000</td>\n",
       "      <td>1.000000</td>\n",
       "    </tr>\n",
       "    <tr>\n",
       "      <td>25%</td>\n",
       "      <td>287.500000</td>\n",
       "      <td>19200.000000</td>\n",
       "      <td>1125.000000</td>\n",
       "      <td>900.000000</td>\n",
       "      <td>162.500000</td>\n",
       "      <td>1.500000</td>\n",
       "      <td>1.500000</td>\n",
       "    </tr>\n",
       "    <tr>\n",
       "      <td>50%</td>\n",
       "      <td>525.000000</td>\n",
       "      <td>23040.000000</td>\n",
       "      <td>1750.000000</td>\n",
       "      <td>1250.000000</td>\n",
       "      <td>175.000000</td>\n",
       "      <td>2.000000</td>\n",
       "      <td>2.000000</td>\n",
       "    </tr>\n",
       "    <tr>\n",
       "      <td>75%</td>\n",
       "      <td>762.500000</td>\n",
       "      <td>26880.000000</td>\n",
       "      <td>2375.000000</td>\n",
       "      <td>1600.000000</td>\n",
       "      <td>187.500000</td>\n",
       "      <td>2.500000</td>\n",
       "      <td>2.500000</td>\n",
       "    </tr>\n",
       "    <tr>\n",
       "      <td>max</td>\n",
       "      <td>1000.000000</td>\n",
       "      <td>30720.000000</td>\n",
       "      <td>3000.000000</td>\n",
       "      <td>1950.000000</td>\n",
       "      <td>200.000000</td>\n",
       "      <td>3.000000</td>\n",
       "      <td>3.000000</td>\n",
       "    </tr>\n",
       "  </tbody>\n",
       "</table>\n",
       "</div>"
      ],
      "text/plain": [
       "       messages_included  mb_per_month_included  minutes_included  \\\n",
       "count           2.000000               2.000000          2.000000   \n",
       "mean          525.000000           23040.000000       1750.000000   \n",
       "std           671.751442           10861.160159       1767.766953   \n",
       "min            50.000000           15360.000000        500.000000   \n",
       "25%           287.500000           19200.000000       1125.000000   \n",
       "50%           525.000000           23040.000000       1750.000000   \n",
       "75%           762.500000           26880.000000       2375.000000   \n",
       "max          1000.000000           30720.000000       3000.000000   \n",
       "\n",
       "       rub_monthly_fee  rub_per_gb  rub_per_message  rub_per_minute  \n",
       "count         2.000000    2.000000         2.000000        2.000000  \n",
       "mean       1250.000000  175.000000         2.000000        2.000000  \n",
       "std         989.949494   35.355339         1.414214        1.414214  \n",
       "min         550.000000  150.000000         1.000000        1.000000  \n",
       "25%         900.000000  162.500000         1.500000        1.500000  \n",
       "50%        1250.000000  175.000000         2.000000        2.000000  \n",
       "75%        1600.000000  187.500000         2.500000        2.500000  \n",
       "max        1950.000000  200.000000         3.000000        3.000000  "
      ]
     },
     "execution_count": 19,
     "metadata": {},
     "output_type": "execute_result"
    }
   ],
   "source": [
    "tariffs.describe()"
   ]
  },
  {
   "cell_type": "code",
   "execution_count": 20,
   "metadata": {
    "scrolled": true
   },
   "outputs": [
    {
     "name": "stdout",
     "output_type": "stream",
     "text": [
      "<class 'pandas.core.frame.DataFrame'>\n",
      "RangeIndex: 2 entries, 0 to 1\n",
      "Data columns (total 8 columns):\n",
      "messages_included        2 non-null int64\n",
      "mb_per_month_included    2 non-null int64\n",
      "minutes_included         2 non-null int64\n",
      "rub_monthly_fee          2 non-null int64\n",
      "rub_per_gb               2 non-null int64\n",
      "rub_per_message          2 non-null int64\n",
      "rub_per_minute           2 non-null int64\n",
      "tariff_name              2 non-null object\n",
      "dtypes: int64(7), object(1)\n",
      "memory usage: 256.0+ bytes\n"
     ]
    }
   ],
   "source": [
    "tariffs.info()"
   ]
  },
  {
   "cell_type": "code",
   "execution_count": 21,
   "metadata": {},
   "outputs": [],
   "source": [
    "tariffs = tariffs.rename(columns={'tariff_name':'tariff'})\n"
   ]
  },
  {
   "cell_type": "markdown",
   "metadata": {},
   "source": [
    "#### Выводы\n",
    "- С этой таблицей все хорошо. Переименовываю только колонку с названием тарифа"
   ]
  },
  {
   "cell_type": "markdown",
   "metadata": {},
   "source": [
    "### Таблица с пользователями"
   ]
  },
  {
   "cell_type": "code",
   "execution_count": 22,
   "metadata": {},
   "outputs": [
    {
     "data": {
      "text/html": [
       "<div>\n",
       "<style scoped>\n",
       "    .dataframe tbody tr th:only-of-type {\n",
       "        vertical-align: middle;\n",
       "    }\n",
       "\n",
       "    .dataframe tbody tr th {\n",
       "        vertical-align: top;\n",
       "    }\n",
       "\n",
       "    .dataframe thead th {\n",
       "        text-align: right;\n",
       "    }\n",
       "</style>\n",
       "<table border=\"1\" class=\"dataframe\">\n",
       "  <thead>\n",
       "    <tr style=\"text-align: right;\">\n",
       "      <th></th>\n",
       "      <th>user_id</th>\n",
       "      <th>age</th>\n",
       "      <th>churn_date</th>\n",
       "      <th>city</th>\n",
       "      <th>first_name</th>\n",
       "      <th>last_name</th>\n",
       "      <th>reg_date</th>\n",
       "      <th>tariff</th>\n",
       "    </tr>\n",
       "  </thead>\n",
       "  <tbody>\n",
       "    <tr>\n",
       "      <td>0</td>\n",
       "      <td>1000</td>\n",
       "      <td>52</td>\n",
       "      <td>NaN</td>\n",
       "      <td>Краснодар</td>\n",
       "      <td>Рафаил</td>\n",
       "      <td>Верещагин</td>\n",
       "      <td>2018-05-25</td>\n",
       "      <td>ultra</td>\n",
       "    </tr>\n",
       "    <tr>\n",
       "      <td>1</td>\n",
       "      <td>1001</td>\n",
       "      <td>41</td>\n",
       "      <td>NaN</td>\n",
       "      <td>Москва</td>\n",
       "      <td>Иван</td>\n",
       "      <td>Ежов</td>\n",
       "      <td>2018-11-01</td>\n",
       "      <td>smart</td>\n",
       "    </tr>\n",
       "    <tr>\n",
       "      <td>2</td>\n",
       "      <td>1002</td>\n",
       "      <td>59</td>\n",
       "      <td>NaN</td>\n",
       "      <td>Стерлитамак</td>\n",
       "      <td>Евгений</td>\n",
       "      <td>Абрамович</td>\n",
       "      <td>2018-06-17</td>\n",
       "      <td>smart</td>\n",
       "    </tr>\n",
       "    <tr>\n",
       "      <td>3</td>\n",
       "      <td>1003</td>\n",
       "      <td>23</td>\n",
       "      <td>NaN</td>\n",
       "      <td>Москва</td>\n",
       "      <td>Белла</td>\n",
       "      <td>Белякова</td>\n",
       "      <td>2018-08-17</td>\n",
       "      <td>ultra</td>\n",
       "    </tr>\n",
       "    <tr>\n",
       "      <td>4</td>\n",
       "      <td>1004</td>\n",
       "      <td>68</td>\n",
       "      <td>NaN</td>\n",
       "      <td>Новокузнецк</td>\n",
       "      <td>Татьяна</td>\n",
       "      <td>Авдеенко</td>\n",
       "      <td>2018-05-14</td>\n",
       "      <td>ultra</td>\n",
       "    </tr>\n",
       "  </tbody>\n",
       "</table>\n",
       "</div>"
      ],
      "text/plain": [
       "   user_id  age churn_date         city first_name  last_name    reg_date  \\\n",
       "0     1000   52        NaN    Краснодар     Рафаил  Верещагин  2018-05-25   \n",
       "1     1001   41        NaN       Москва       Иван       Ежов  2018-11-01   \n",
       "2     1002   59        NaN  Стерлитамак    Евгений  Абрамович  2018-06-17   \n",
       "3     1003   23        NaN       Москва      Белла   Белякова  2018-08-17   \n",
       "4     1004   68        NaN  Новокузнецк    Татьяна   Авдеенко  2018-05-14   \n",
       "\n",
       "  tariff  \n",
       "0  ultra  \n",
       "1  smart  \n",
       "2  smart  \n",
       "3  ultra  \n",
       "4  ultra  "
      ]
     },
     "execution_count": 22,
     "metadata": {},
     "output_type": "execute_result"
    }
   ],
   "source": [
    "users.head()"
   ]
  },
  {
   "cell_type": "code",
   "execution_count": 23,
   "metadata": {},
   "outputs": [
    {
     "data": {
      "text/html": [
       "<div>\n",
       "<style scoped>\n",
       "    .dataframe tbody tr th:only-of-type {\n",
       "        vertical-align: middle;\n",
       "    }\n",
       "\n",
       "    .dataframe tbody tr th {\n",
       "        vertical-align: top;\n",
       "    }\n",
       "\n",
       "    .dataframe thead th {\n",
       "        text-align: right;\n",
       "    }\n",
       "</style>\n",
       "<table border=\"1\" class=\"dataframe\">\n",
       "  <thead>\n",
       "    <tr style=\"text-align: right;\">\n",
       "      <th></th>\n",
       "      <th>user_id</th>\n",
       "      <th>age</th>\n",
       "    </tr>\n",
       "  </thead>\n",
       "  <tbody>\n",
       "    <tr>\n",
       "      <td>count</td>\n",
       "      <td>500.000000</td>\n",
       "      <td>500.00000</td>\n",
       "    </tr>\n",
       "    <tr>\n",
       "      <td>mean</td>\n",
       "      <td>1249.500000</td>\n",
       "      <td>46.58800</td>\n",
       "    </tr>\n",
       "    <tr>\n",
       "      <td>std</td>\n",
       "      <td>144.481833</td>\n",
       "      <td>16.66763</td>\n",
       "    </tr>\n",
       "    <tr>\n",
       "      <td>min</td>\n",
       "      <td>1000.000000</td>\n",
       "      <td>18.00000</td>\n",
       "    </tr>\n",
       "    <tr>\n",
       "      <td>25%</td>\n",
       "      <td>1124.750000</td>\n",
       "      <td>32.00000</td>\n",
       "    </tr>\n",
       "    <tr>\n",
       "      <td>50%</td>\n",
       "      <td>1249.500000</td>\n",
       "      <td>46.00000</td>\n",
       "    </tr>\n",
       "    <tr>\n",
       "      <td>75%</td>\n",
       "      <td>1374.250000</td>\n",
       "      <td>62.00000</td>\n",
       "    </tr>\n",
       "    <tr>\n",
       "      <td>max</td>\n",
       "      <td>1499.000000</td>\n",
       "      <td>75.00000</td>\n",
       "    </tr>\n",
       "  </tbody>\n",
       "</table>\n",
       "</div>"
      ],
      "text/plain": [
       "           user_id        age\n",
       "count   500.000000  500.00000\n",
       "mean   1249.500000   46.58800\n",
       "std     144.481833   16.66763\n",
       "min    1000.000000   18.00000\n",
       "25%    1124.750000   32.00000\n",
       "50%    1249.500000   46.00000\n",
       "75%    1374.250000   62.00000\n",
       "max    1499.000000   75.00000"
      ]
     },
     "execution_count": 23,
     "metadata": {},
     "output_type": "execute_result"
    }
   ],
   "source": [
    "users.describe()"
   ]
  },
  {
   "cell_type": "code",
   "execution_count": 24,
   "metadata": {},
   "outputs": [
    {
     "name": "stdout",
     "output_type": "stream",
     "text": [
      "<class 'pandas.core.frame.DataFrame'>\n",
      "RangeIndex: 500 entries, 0 to 499\n",
      "Data columns (total 8 columns):\n",
      "user_id       500 non-null int64\n",
      "age           500 non-null int64\n",
      "churn_date    38 non-null object\n",
      "city          500 non-null object\n",
      "first_name    500 non-null object\n",
      "last_name     500 non-null object\n",
      "reg_date      500 non-null object\n",
      "tariff        500 non-null object\n",
      "dtypes: int64(2), object(6)\n",
      "memory usage: 31.4+ KB\n"
     ]
    }
   ],
   "source": [
    "users.info()"
   ]
  },
  {
   "cell_type": "code",
   "execution_count": 25,
   "metadata": {},
   "outputs": [],
   "source": [
    "users['churn_date'] = pd.to_datetime(users['churn_date'], format=\"%Y-%m-%d\")\n",
    "users['reg_date'] = pd.to_datetime(users['reg_date'], format=\"%Y-%m-%d\")"
   ]
  },
  {
   "cell_type": "code",
   "execution_count": 26,
   "metadata": {},
   "outputs": [
    {
     "data": {
      "text/plain": [
       "0                        0\n",
       "1                        0\n",
       "2                        0\n",
       "3                        0\n",
       "4                        0\n",
       "              ...         \n",
       "495                      0\n",
       "496                      0\n",
       "497                      0\n",
       "498    2018-10-25 00:00:00\n",
       "499                      0\n",
       "Name: churn_date, Length: 500, dtype: object"
      ]
     },
     "execution_count": 26,
     "metadata": {},
     "output_type": "execute_result"
    }
   ],
   "source": [
    "users['churn_date'].fillna(0)"
   ]
  },
  {
   "cell_type": "markdown",
   "metadata": {},
   "source": [
    "#### Выводы\n",
    "- столбцы churn_date и reg_date приведены к нужному типу данных \n",
    "- отсутствующие значения в столбце churn_date заменены на 0 "
   ]
  },
  {
   "cell_type": "markdown",
   "metadata": {},
   "source": [
    "## Группировка данных"
   ]
  },
  {
   "cell_type": "markdown",
   "metadata": {},
   "source": [
    "### Количество звонков и израсходованных минут по месяцам"
   ]
  },
  {
   "cell_type": "code",
   "execution_count": 27,
   "metadata": {},
   "outputs": [],
   "source": [
    "calls['month'] = calls['call_date'].dt.month # оставляем только месяц"
   ]
  },
  {
   "cell_type": "code",
   "execution_count": 28,
   "metadata": {},
   "outputs": [],
   "source": [
    "calls_in_month = calls.groupby(['user_id', 'month']).agg({'duration':'sum', 'id':'count'}).reset_index() # группировка \n"
   ]
  },
  {
   "cell_type": "code",
   "execution_count": 29,
   "metadata": {},
   "outputs": [],
   "source": [
    "# замена наименований столбцов\n",
    "calls_in_month.columns = ['user_id', 'month', 'calls_duration_month', 'calls_count_month']"
   ]
  },
  {
   "cell_type": "code",
   "execution_count": 30,
   "metadata": {},
   "outputs": [
    {
     "data": {
      "text/html": [
       "<div>\n",
       "<style scoped>\n",
       "    .dataframe tbody tr th:only-of-type {\n",
       "        vertical-align: middle;\n",
       "    }\n",
       "\n",
       "    .dataframe tbody tr th {\n",
       "        vertical-align: top;\n",
       "    }\n",
       "\n",
       "    .dataframe thead th {\n",
       "        text-align: right;\n",
       "    }\n",
       "</style>\n",
       "<table border=\"1\" class=\"dataframe\">\n",
       "  <thead>\n",
       "    <tr style=\"text-align: right;\">\n",
       "      <th></th>\n",
       "      <th>user_id</th>\n",
       "      <th>month</th>\n",
       "      <th>calls_duration_month</th>\n",
       "      <th>calls_count_month</th>\n",
       "    </tr>\n",
       "  </thead>\n",
       "  <tbody>\n",
       "    <tr>\n",
       "      <td>0</td>\n",
       "      <td>1000</td>\n",
       "      <td>5</td>\n",
       "      <td>159</td>\n",
       "      <td>22</td>\n",
       "    </tr>\n",
       "    <tr>\n",
       "      <td>1</td>\n",
       "      <td>1000</td>\n",
       "      <td>6</td>\n",
       "      <td>172</td>\n",
       "      <td>43</td>\n",
       "    </tr>\n",
       "    <tr>\n",
       "      <td>2</td>\n",
       "      <td>1000</td>\n",
       "      <td>7</td>\n",
       "      <td>340</td>\n",
       "      <td>47</td>\n",
       "    </tr>\n",
       "    <tr>\n",
       "      <td>3</td>\n",
       "      <td>1000</td>\n",
       "      <td>8</td>\n",
       "      <td>408</td>\n",
       "      <td>52</td>\n",
       "    </tr>\n",
       "    <tr>\n",
       "      <td>4</td>\n",
       "      <td>1000</td>\n",
       "      <td>9</td>\n",
       "      <td>466</td>\n",
       "      <td>58</td>\n",
       "    </tr>\n",
       "  </tbody>\n",
       "</table>\n",
       "</div>"
      ],
      "text/plain": [
       "   user_id  month  calls_duration_month  calls_count_month\n",
       "0     1000      5                   159                 22\n",
       "1     1000      6                   172                 43\n",
       "2     1000      7                   340                 47\n",
       "3     1000      8                   408                 52\n",
       "4     1000      9                   466                 58"
      ]
     },
     "execution_count": 30,
     "metadata": {},
     "output_type": "execute_result"
    }
   ],
   "source": [
    "calls_in_month.head()"
   ]
  },
  {
   "cell_type": "markdown",
   "metadata": {},
   "source": [
    "### Количество сообщений по месяцам"
   ]
  },
  {
   "cell_type": "code",
   "execution_count": 31,
   "metadata": {},
   "outputs": [],
   "source": [
    "messages['month'] = messages['message_date'].dt.month "
   ]
  },
  {
   "cell_type": "code",
   "execution_count": 32,
   "metadata": {
    "scrolled": true
   },
   "outputs": [],
   "source": [
    "#группировка по месяцам \n",
    "messages_in_month = messages.groupby(['user_id', 'month']).agg({'id':'count'}).reset_index()\n"
   ]
  },
  {
   "cell_type": "code",
   "execution_count": 33,
   "metadata": {},
   "outputs": [
    {
     "data": {
      "text/html": [
       "<div>\n",
       "<style scoped>\n",
       "    .dataframe tbody tr th:only-of-type {\n",
       "        vertical-align: middle;\n",
       "    }\n",
       "\n",
       "    .dataframe tbody tr th {\n",
       "        vertical-align: top;\n",
       "    }\n",
       "\n",
       "    .dataframe thead th {\n",
       "        text-align: right;\n",
       "    }\n",
       "</style>\n",
       "<table border=\"1\" class=\"dataframe\">\n",
       "  <thead>\n",
       "    <tr style=\"text-align: right;\">\n",
       "      <th></th>\n",
       "      <th>user_id</th>\n",
       "      <th>month</th>\n",
       "      <th>message_count</th>\n",
       "    </tr>\n",
       "  </thead>\n",
       "  <tbody>\n",
       "    <tr>\n",
       "      <td>0</td>\n",
       "      <td>1000</td>\n",
       "      <td>5</td>\n",
       "      <td>22</td>\n",
       "    </tr>\n",
       "    <tr>\n",
       "      <td>1</td>\n",
       "      <td>1000</td>\n",
       "      <td>6</td>\n",
       "      <td>60</td>\n",
       "    </tr>\n",
       "    <tr>\n",
       "      <td>2</td>\n",
       "      <td>1000</td>\n",
       "      <td>7</td>\n",
       "      <td>75</td>\n",
       "    </tr>\n",
       "    <tr>\n",
       "      <td>3</td>\n",
       "      <td>1000</td>\n",
       "      <td>8</td>\n",
       "      <td>81</td>\n",
       "    </tr>\n",
       "    <tr>\n",
       "      <td>4</td>\n",
       "      <td>1000</td>\n",
       "      <td>9</td>\n",
       "      <td>57</td>\n",
       "    </tr>\n",
       "  </tbody>\n",
       "</table>\n",
       "</div>"
      ],
      "text/plain": [
       "   user_id  month  message_count\n",
       "0     1000      5             22\n",
       "1     1000      6             60\n",
       "2     1000      7             75\n",
       "3     1000      8             81\n",
       "4     1000      9             57"
      ]
     },
     "execution_count": 33,
     "metadata": {},
     "output_type": "execute_result"
    }
   ],
   "source": [
    "messages_in_month = messages_in_month.rename(columns={'id': 'message_count'})\n",
    "messages_in_month.head()"
   ]
  },
  {
   "cell_type": "markdown",
   "metadata": {},
   "source": [
    "### Интернет по месяцам"
   ]
  },
  {
   "cell_type": "code",
   "execution_count": 34,
   "metadata": {},
   "outputs": [],
   "source": [
    "internet['month'] = internet['session_date'].dt.month"
   ]
  },
  {
   "cell_type": "code",
   "execution_count": 35,
   "metadata": {},
   "outputs": [],
   "source": [
    "internet_month = internet.groupby(['user_id', 'month']).agg({'mb_used':'sum'})#.reset_index()\n"
   ]
  },
  {
   "cell_type": "code",
   "execution_count": 36,
   "metadata": {},
   "outputs": [],
   "source": [
    "internet_month = internet_month.rename(columns={'mb_used': 'mb_used_month'})"
   ]
  },
  {
   "cell_type": "code",
   "execution_count": 37,
   "metadata": {},
   "outputs": [],
   "source": [
    "# добавления столбца с исползованным интернетом в Гб\n",
    "internet_month['gb_used_month'] = np.ceil(internet_month['mb_used_month'] / 1024) "
   ]
  },
  {
   "cell_type": "code",
   "execution_count": 38,
   "metadata": {
    "scrolled": false
   },
   "outputs": [
    {
     "data": {
      "text/html": [
       "<div>\n",
       "<style scoped>\n",
       "    .dataframe tbody tr th:only-of-type {\n",
       "        vertical-align: middle;\n",
       "    }\n",
       "\n",
       "    .dataframe tbody tr th {\n",
       "        vertical-align: top;\n",
       "    }\n",
       "\n",
       "    .dataframe thead th {\n",
       "        text-align: right;\n",
       "    }\n",
       "</style>\n",
       "<table border=\"1\" class=\"dataframe\">\n",
       "  <thead>\n",
       "    <tr style=\"text-align: right;\">\n",
       "      <th></th>\n",
       "      <th></th>\n",
       "      <th>mb_used_month</th>\n",
       "      <th>gb_used_month</th>\n",
       "    </tr>\n",
       "    <tr>\n",
       "      <th>user_id</th>\n",
       "      <th>month</th>\n",
       "      <th></th>\n",
       "      <th></th>\n",
       "    </tr>\n",
       "  </thead>\n",
       "  <tbody>\n",
       "    <tr>\n",
       "      <td rowspan=\"5\" valign=\"top\">1000</td>\n",
       "      <td>5</td>\n",
       "      <td>2253.49</td>\n",
       "      <td>3.0</td>\n",
       "    </tr>\n",
       "    <tr>\n",
       "      <td>6</td>\n",
       "      <td>23233.77</td>\n",
       "      <td>23.0</td>\n",
       "    </tr>\n",
       "    <tr>\n",
       "      <td>7</td>\n",
       "      <td>14003.64</td>\n",
       "      <td>14.0</td>\n",
       "    </tr>\n",
       "    <tr>\n",
       "      <td>8</td>\n",
       "      <td>14055.93</td>\n",
       "      <td>14.0</td>\n",
       "    </tr>\n",
       "    <tr>\n",
       "      <td>9</td>\n",
       "      <td>14568.91</td>\n",
       "      <td>15.0</td>\n",
       "    </tr>\n",
       "  </tbody>\n",
       "</table>\n",
       "</div>"
      ],
      "text/plain": [
       "               mb_used_month  gb_used_month\n",
       "user_id month                              \n",
       "1000    5            2253.49            3.0\n",
       "        6           23233.77           23.0\n",
       "        7           14003.64           14.0\n",
       "        8           14055.93           14.0\n",
       "        9           14568.91           15.0"
      ]
     },
     "execution_count": 38,
     "metadata": {},
     "output_type": "execute_result"
    }
   ],
   "source": [
    "internet_month.head()"
   ]
  },
  {
   "cell_type": "markdown",
   "metadata": {},
   "source": [
    "### Помесячная выручка с каждого пользователя"
   ]
  },
  {
   "cell_type": "markdown",
   "metadata": {},
   "source": [
    "#### Объединение таблиц "
   ]
  },
  {
   "cell_type": "code",
   "execution_count": 39,
   "metadata": {},
   "outputs": [
    {
     "data": {
      "text/html": [
       "<div>\n",
       "<style scoped>\n",
       "    .dataframe tbody tr th:only-of-type {\n",
       "        vertical-align: middle;\n",
       "    }\n",
       "\n",
       "    .dataframe tbody tr th {\n",
       "        vertical-align: top;\n",
       "    }\n",
       "\n",
       "    .dataframe thead th {\n",
       "        text-align: right;\n",
       "    }\n",
       "</style>\n",
       "<table border=\"1\" class=\"dataframe\">\n",
       "  <thead>\n",
       "    <tr style=\"text-align: right;\">\n",
       "      <th></th>\n",
       "      <th>user_id</th>\n",
       "      <th>month</th>\n",
       "      <th>calls_duration_month</th>\n",
       "      <th>calls_count_month</th>\n",
       "      <th>mb_used_month</th>\n",
       "      <th>gb_used_month</th>\n",
       "      <th>message_count</th>\n",
       "      <th>city</th>\n",
       "      <th>tariff</th>\n",
       "      <th>messages_included</th>\n",
       "      <th>mb_per_month_included</th>\n",
       "      <th>minutes_included</th>\n",
       "      <th>rub_monthly_fee</th>\n",
       "      <th>rub_per_gb</th>\n",
       "      <th>rub_per_message</th>\n",
       "      <th>rub_per_minute</th>\n",
       "    </tr>\n",
       "  </thead>\n",
       "  <tbody>\n",
       "    <tr>\n",
       "      <td>0</td>\n",
       "      <td>1000</td>\n",
       "      <td>5</td>\n",
       "      <td>159.0</td>\n",
       "      <td>22.0</td>\n",
       "      <td>2253.49</td>\n",
       "      <td>3.0</td>\n",
       "      <td>22.0</td>\n",
       "      <td>Краснодар</td>\n",
       "      <td>ultra</td>\n",
       "      <td>1000</td>\n",
       "      <td>30720</td>\n",
       "      <td>3000</td>\n",
       "      <td>1950</td>\n",
       "      <td>150</td>\n",
       "      <td>1</td>\n",
       "      <td>1</td>\n",
       "    </tr>\n",
       "    <tr>\n",
       "      <td>1</td>\n",
       "      <td>1000</td>\n",
       "      <td>6</td>\n",
       "      <td>172.0</td>\n",
       "      <td>43.0</td>\n",
       "      <td>23233.77</td>\n",
       "      <td>23.0</td>\n",
       "      <td>60.0</td>\n",
       "      <td>Краснодар</td>\n",
       "      <td>ultra</td>\n",
       "      <td>1000</td>\n",
       "      <td>30720</td>\n",
       "      <td>3000</td>\n",
       "      <td>1950</td>\n",
       "      <td>150</td>\n",
       "      <td>1</td>\n",
       "      <td>1</td>\n",
       "    </tr>\n",
       "    <tr>\n",
       "      <td>2</td>\n",
       "      <td>1000</td>\n",
       "      <td>7</td>\n",
       "      <td>340.0</td>\n",
       "      <td>47.0</td>\n",
       "      <td>14003.64</td>\n",
       "      <td>14.0</td>\n",
       "      <td>75.0</td>\n",
       "      <td>Краснодар</td>\n",
       "      <td>ultra</td>\n",
       "      <td>1000</td>\n",
       "      <td>30720</td>\n",
       "      <td>3000</td>\n",
       "      <td>1950</td>\n",
       "      <td>150</td>\n",
       "      <td>1</td>\n",
       "      <td>1</td>\n",
       "    </tr>\n",
       "    <tr>\n",
       "      <td>3</td>\n",
       "      <td>1000</td>\n",
       "      <td>8</td>\n",
       "      <td>408.0</td>\n",
       "      <td>52.0</td>\n",
       "      <td>14055.93</td>\n",
       "      <td>14.0</td>\n",
       "      <td>81.0</td>\n",
       "      <td>Краснодар</td>\n",
       "      <td>ultra</td>\n",
       "      <td>1000</td>\n",
       "      <td>30720</td>\n",
       "      <td>3000</td>\n",
       "      <td>1950</td>\n",
       "      <td>150</td>\n",
       "      <td>1</td>\n",
       "      <td>1</td>\n",
       "    </tr>\n",
       "    <tr>\n",
       "      <td>4</td>\n",
       "      <td>1000</td>\n",
       "      <td>9</td>\n",
       "      <td>466.0</td>\n",
       "      <td>58.0</td>\n",
       "      <td>14568.91</td>\n",
       "      <td>15.0</td>\n",
       "      <td>57.0</td>\n",
       "      <td>Краснодар</td>\n",
       "      <td>ultra</td>\n",
       "      <td>1000</td>\n",
       "      <td>30720</td>\n",
       "      <td>3000</td>\n",
       "      <td>1950</td>\n",
       "      <td>150</td>\n",
       "      <td>1</td>\n",
       "      <td>1</td>\n",
       "    </tr>\n",
       "  </tbody>\n",
       "</table>\n",
       "</div>"
      ],
      "text/plain": [
       "   user_id  month  calls_duration_month  calls_count_month  mb_used_month  \\\n",
       "0     1000      5                 159.0               22.0        2253.49   \n",
       "1     1000      6                 172.0               43.0       23233.77   \n",
       "2     1000      7                 340.0               47.0       14003.64   \n",
       "3     1000      8                 408.0               52.0       14055.93   \n",
       "4     1000      9                 466.0               58.0       14568.91   \n",
       "\n",
       "   gb_used_month  message_count       city tariff  messages_included  \\\n",
       "0            3.0           22.0  Краснодар  ultra               1000   \n",
       "1           23.0           60.0  Краснодар  ultra               1000   \n",
       "2           14.0           75.0  Краснодар  ultra               1000   \n",
       "3           14.0           81.0  Краснодар  ultra               1000   \n",
       "4           15.0           57.0  Краснодар  ultra               1000   \n",
       "\n",
       "   mb_per_month_included  minutes_included  rub_monthly_fee  rub_per_gb  \\\n",
       "0                  30720              3000             1950         150   \n",
       "1                  30720              3000             1950         150   \n",
       "2                  30720              3000             1950         150   \n",
       "3                  30720              3000             1950         150   \n",
       "4                  30720              3000             1950         150   \n",
       "\n",
       "   rub_per_message  rub_per_minute  \n",
       "0                1               1  \n",
       "1                1               1  \n",
       "2                1               1  \n",
       "3                1               1  \n",
       "4                1               1  "
      ]
     },
     "execution_count": 39,
     "metadata": {},
     "output_type": "execute_result"
    }
   ],
   "source": [
    "data = calls_in_month.merge(internet_month, on=['user_id', 'month'], how='outer') #объединяем звонки и интернет\n",
    "data = data.merge(messages_in_month, on=['user_id', 'month'], how='outer') # добавляем сообщения\n",
    "data = data.merge(users[['user_id', 'city', 'tariff']], on='user_id', how='left') # данные пользователей\n",
    "data = data.merge(tariffs, on='tariff', how='left') # условий тарифов\n",
    "\n",
    "data.head()"
   ]
  },
  {
   "cell_type": "code",
   "execution_count": 40,
   "metadata": {},
   "outputs": [
    {
     "data": {
      "text/plain": [
       "user_id                    0\n",
       "month                      0\n",
       "calls_duration_month      40\n",
       "calls_count_month         40\n",
       "mb_used_month             11\n",
       "gb_used_month             11\n",
       "message_count            497\n",
       "city                       0\n",
       "tariff                     0\n",
       "messages_included          0\n",
       "mb_per_month_included      0\n",
       "minutes_included           0\n",
       "rub_monthly_fee            0\n",
       "rub_per_gb                 0\n",
       "rub_per_message            0\n",
       "rub_per_minute             0\n",
       "dtype: int64"
      ]
     },
     "execution_count": 40,
     "metadata": {},
     "output_type": "execute_result"
    }
   ],
   "source": [
    "data.isna().sum()"
   ]
  },
  {
   "cell_type": "code",
   "execution_count": 41,
   "metadata": {},
   "outputs": [],
   "source": [
    "# заполняем пропуски нулями\n",
    "data['mb_used_month'] = data['mb_used_month'].fillna(0)\n",
    "data['gb_used_month'] = data['gb_used_month'].fillna(0)\n",
    "data['message_count'] = data['message_count'].fillna(0)\n"
   ]
  },
  {
   "cell_type": "markdown",
   "metadata": {},
   "source": [
    "#### Вычисление сумм, уплаченных пользователями сверх тарифов"
   ]
  },
  {
   "cell_type": "code",
   "execution_count": 42,
   "metadata": {},
   "outputs": [],
   "source": [
    "def income_month(used, included, above):\n",
    "    '''позволяет вычислить количество израсходованных минут, сообщений и интернета сверх тарифа и их стоимость '''\n",
    "    income = 0\n",
    "    if used > included:\n",
    "        income = (used - included) * above\n",
    "        return income\n",
    "    return income\n"
   ]
  },
  {
   "cell_type": "code",
   "execution_count": 43,
   "metadata": {},
   "outputs": [],
   "source": [
    "income_calls = data.apply(lambda row: income_month(row['calls_duration_month'], # вычисление стоимости дополнительных минут \n",
    "                                                   row['minutes_included'], \n",
    "                                                   row['rub_per_minute']), axis=1)\n"
   ]
  },
  {
   "cell_type": "code",
   "execution_count": 44,
   "metadata": {},
   "outputs": [],
   "source": [
    "income_messages = data.apply(lambda row: income_month(row['message_count'], # вычисление стоимости дополнительных сообщений\n",
    "                                                      row['messages_included'], \n",
    "                                                      row['rub_per_message']), axis=1)\n"
   ]
  },
  {
   "cell_type": "code",
   "execution_count": 45,
   "metadata": {},
   "outputs": [],
   "source": [
    "income_internet = data.apply(lambda row: income_month(row['gb_used_month'], # вычисление стоимости дополнительного \n",
    "                                                     (row['mb_per_month_included'] / 1024), #   трафика интернета \n",
    "                                                      row['rub_per_gb']), axis=1)\n"
   ]
  },
  {
   "cell_type": "code",
   "execution_count": 46,
   "metadata": {},
   "outputs": [
    {
     "data": {
      "text/html": [
       "<div>\n",
       "<style scoped>\n",
       "    .dataframe tbody tr th:only-of-type {\n",
       "        vertical-align: middle;\n",
       "    }\n",
       "\n",
       "    .dataframe tbody tr th {\n",
       "        vertical-align: top;\n",
       "    }\n",
       "\n",
       "    .dataframe thead th {\n",
       "        text-align: right;\n",
       "    }\n",
       "</style>\n",
       "<table border=\"1\" class=\"dataframe\">\n",
       "  <thead>\n",
       "    <tr style=\"text-align: right;\">\n",
       "      <th></th>\n",
       "      <th>user_id</th>\n",
       "      <th>month</th>\n",
       "      <th>calls_duration_month</th>\n",
       "      <th>calls_count_month</th>\n",
       "      <th>mb_used_month</th>\n",
       "      <th>gb_used_month</th>\n",
       "      <th>message_count</th>\n",
       "      <th>city</th>\n",
       "      <th>tariff</th>\n",
       "      <th>messages_included</th>\n",
       "      <th>mb_per_month_included</th>\n",
       "      <th>minutes_included</th>\n",
       "      <th>rub_monthly_fee</th>\n",
       "      <th>rub_per_gb</th>\n",
       "      <th>rub_per_message</th>\n",
       "      <th>rub_per_minute</th>\n",
       "      <th>income</th>\n",
       "    </tr>\n",
       "  </thead>\n",
       "  <tbody>\n",
       "    <tr>\n",
       "      <td>0</td>\n",
       "      <td>1000</td>\n",
       "      <td>5</td>\n",
       "      <td>159.0</td>\n",
       "      <td>22.0</td>\n",
       "      <td>2253.49</td>\n",
       "      <td>3.0</td>\n",
       "      <td>22.0</td>\n",
       "      <td>Краснодар</td>\n",
       "      <td>ultra</td>\n",
       "      <td>1000</td>\n",
       "      <td>30720</td>\n",
       "      <td>3000</td>\n",
       "      <td>1950</td>\n",
       "      <td>150</td>\n",
       "      <td>1</td>\n",
       "      <td>1</td>\n",
       "      <td>1950.0</td>\n",
       "    </tr>\n",
       "    <tr>\n",
       "      <td>1</td>\n",
       "      <td>1000</td>\n",
       "      <td>6</td>\n",
       "      <td>172.0</td>\n",
       "      <td>43.0</td>\n",
       "      <td>23233.77</td>\n",
       "      <td>23.0</td>\n",
       "      <td>60.0</td>\n",
       "      <td>Краснодар</td>\n",
       "      <td>ultra</td>\n",
       "      <td>1000</td>\n",
       "      <td>30720</td>\n",
       "      <td>3000</td>\n",
       "      <td>1950</td>\n",
       "      <td>150</td>\n",
       "      <td>1</td>\n",
       "      <td>1</td>\n",
       "      <td>1950.0</td>\n",
       "    </tr>\n",
       "    <tr>\n",
       "      <td>2</td>\n",
       "      <td>1000</td>\n",
       "      <td>7</td>\n",
       "      <td>340.0</td>\n",
       "      <td>47.0</td>\n",
       "      <td>14003.64</td>\n",
       "      <td>14.0</td>\n",
       "      <td>75.0</td>\n",
       "      <td>Краснодар</td>\n",
       "      <td>ultra</td>\n",
       "      <td>1000</td>\n",
       "      <td>30720</td>\n",
       "      <td>3000</td>\n",
       "      <td>1950</td>\n",
       "      <td>150</td>\n",
       "      <td>1</td>\n",
       "      <td>1</td>\n",
       "      <td>1950.0</td>\n",
       "    </tr>\n",
       "    <tr>\n",
       "      <td>3</td>\n",
       "      <td>1000</td>\n",
       "      <td>8</td>\n",
       "      <td>408.0</td>\n",
       "      <td>52.0</td>\n",
       "      <td>14055.93</td>\n",
       "      <td>14.0</td>\n",
       "      <td>81.0</td>\n",
       "      <td>Краснодар</td>\n",
       "      <td>ultra</td>\n",
       "      <td>1000</td>\n",
       "      <td>30720</td>\n",
       "      <td>3000</td>\n",
       "      <td>1950</td>\n",
       "      <td>150</td>\n",
       "      <td>1</td>\n",
       "      <td>1</td>\n",
       "      <td>1950.0</td>\n",
       "    </tr>\n",
       "    <tr>\n",
       "      <td>4</td>\n",
       "      <td>1000</td>\n",
       "      <td>9</td>\n",
       "      <td>466.0</td>\n",
       "      <td>58.0</td>\n",
       "      <td>14568.91</td>\n",
       "      <td>15.0</td>\n",
       "      <td>57.0</td>\n",
       "      <td>Краснодар</td>\n",
       "      <td>ultra</td>\n",
       "      <td>1000</td>\n",
       "      <td>30720</td>\n",
       "      <td>3000</td>\n",
       "      <td>1950</td>\n",
       "      <td>150</td>\n",
       "      <td>1</td>\n",
       "      <td>1</td>\n",
       "      <td>1950.0</td>\n",
       "    </tr>\n",
       "    <tr>\n",
       "      <td>5</td>\n",
       "      <td>1000</td>\n",
       "      <td>10</td>\n",
       "      <td>350.0</td>\n",
       "      <td>57.0</td>\n",
       "      <td>14702.49</td>\n",
       "      <td>15.0</td>\n",
       "      <td>73.0</td>\n",
       "      <td>Краснодар</td>\n",
       "      <td>ultra</td>\n",
       "      <td>1000</td>\n",
       "      <td>30720</td>\n",
       "      <td>3000</td>\n",
       "      <td>1950</td>\n",
       "      <td>150</td>\n",
       "      <td>1</td>\n",
       "      <td>1</td>\n",
       "      <td>1950.0</td>\n",
       "    </tr>\n",
       "    <tr>\n",
       "      <td>6</td>\n",
       "      <td>1000</td>\n",
       "      <td>11</td>\n",
       "      <td>338.0</td>\n",
       "      <td>43.0</td>\n",
       "      <td>14756.47</td>\n",
       "      <td>15.0</td>\n",
       "      <td>58.0</td>\n",
       "      <td>Краснодар</td>\n",
       "      <td>ultra</td>\n",
       "      <td>1000</td>\n",
       "      <td>30720</td>\n",
       "      <td>3000</td>\n",
       "      <td>1950</td>\n",
       "      <td>150</td>\n",
       "      <td>1</td>\n",
       "      <td>1</td>\n",
       "      <td>1950.0</td>\n",
       "    </tr>\n",
       "    <tr>\n",
       "      <td>7</td>\n",
       "      <td>1000</td>\n",
       "      <td>12</td>\n",
       "      <td>333.0</td>\n",
       "      <td>46.0</td>\n",
       "      <td>9817.61</td>\n",
       "      <td>10.0</td>\n",
       "      <td>70.0</td>\n",
       "      <td>Краснодар</td>\n",
       "      <td>ultra</td>\n",
       "      <td>1000</td>\n",
       "      <td>30720</td>\n",
       "      <td>3000</td>\n",
       "      <td>1950</td>\n",
       "      <td>150</td>\n",
       "      <td>1</td>\n",
       "      <td>1</td>\n",
       "      <td>1950.0</td>\n",
       "    </tr>\n",
       "    <tr>\n",
       "      <td>8</td>\n",
       "      <td>1001</td>\n",
       "      <td>11</td>\n",
       "      <td>430.0</td>\n",
       "      <td>59.0</td>\n",
       "      <td>18429.34</td>\n",
       "      <td>18.0</td>\n",
       "      <td>0.0</td>\n",
       "      <td>Москва</td>\n",
       "      <td>smart</td>\n",
       "      <td>50</td>\n",
       "      <td>15360</td>\n",
       "      <td>500</td>\n",
       "      <td>550</td>\n",
       "      <td>200</td>\n",
       "      <td>3</td>\n",
       "      <td>3</td>\n",
       "      <td>1150.0</td>\n",
       "    </tr>\n",
       "    <tr>\n",
       "      <td>9</td>\n",
       "      <td>1001</td>\n",
       "      <td>12</td>\n",
       "      <td>414.0</td>\n",
       "      <td>63.0</td>\n",
       "      <td>14036.66</td>\n",
       "      <td>14.0</td>\n",
       "      <td>0.0</td>\n",
       "      <td>Москва</td>\n",
       "      <td>smart</td>\n",
       "      <td>50</td>\n",
       "      <td>15360</td>\n",
       "      <td>500</td>\n",
       "      <td>550</td>\n",
       "      <td>200</td>\n",
       "      <td>3</td>\n",
       "      <td>3</td>\n",
       "      <td>550.0</td>\n",
       "    </tr>\n",
       "    <tr>\n",
       "      <td>10</td>\n",
       "      <td>1002</td>\n",
       "      <td>6</td>\n",
       "      <td>117.0</td>\n",
       "      <td>15.0</td>\n",
       "      <td>10856.82</td>\n",
       "      <td>11.0</td>\n",
       "      <td>4.0</td>\n",
       "      <td>Стерлитамак</td>\n",
       "      <td>smart</td>\n",
       "      <td>50</td>\n",
       "      <td>15360</td>\n",
       "      <td>500</td>\n",
       "      <td>550</td>\n",
       "      <td>200</td>\n",
       "      <td>3</td>\n",
       "      <td>3</td>\n",
       "      <td>550.0</td>\n",
       "    </tr>\n",
       "    <tr>\n",
       "      <td>11</td>\n",
       "      <td>1002</td>\n",
       "      <td>7</td>\n",
       "      <td>214.0</td>\n",
       "      <td>26.0</td>\n",
       "      <td>17580.10</td>\n",
       "      <td>18.0</td>\n",
       "      <td>11.0</td>\n",
       "      <td>Стерлитамак</td>\n",
       "      <td>smart</td>\n",
       "      <td>50</td>\n",
       "      <td>15360</td>\n",
       "      <td>500</td>\n",
       "      <td>550</td>\n",
       "      <td>200</td>\n",
       "      <td>3</td>\n",
       "      <td>3</td>\n",
       "      <td>1150.0</td>\n",
       "    </tr>\n",
       "    <tr>\n",
       "      <td>12</td>\n",
       "      <td>1002</td>\n",
       "      <td>8</td>\n",
       "      <td>289.0</td>\n",
       "      <td>42.0</td>\n",
       "      <td>20319.26</td>\n",
       "      <td>20.0</td>\n",
       "      <td>13.0</td>\n",
       "      <td>Стерлитамак</td>\n",
       "      <td>smart</td>\n",
       "      <td>50</td>\n",
       "      <td>15360</td>\n",
       "      <td>500</td>\n",
       "      <td>550</td>\n",
       "      <td>200</td>\n",
       "      <td>3</td>\n",
       "      <td>3</td>\n",
       "      <td>1550.0</td>\n",
       "    </tr>\n",
       "    <tr>\n",
       "      <td>13</td>\n",
       "      <td>1002</td>\n",
       "      <td>9</td>\n",
       "      <td>206.0</td>\n",
       "      <td>36.0</td>\n",
       "      <td>16691.08</td>\n",
       "      <td>17.0</td>\n",
       "      <td>4.0</td>\n",
       "      <td>Стерлитамак</td>\n",
       "      <td>smart</td>\n",
       "      <td>50</td>\n",
       "      <td>15360</td>\n",
       "      <td>500</td>\n",
       "      <td>550</td>\n",
       "      <td>200</td>\n",
       "      <td>3</td>\n",
       "      <td>3</td>\n",
       "      <td>950.0</td>\n",
       "    </tr>\n",
       "    <tr>\n",
       "      <td>14</td>\n",
       "      <td>1002</td>\n",
       "      <td>10</td>\n",
       "      <td>212.0</td>\n",
       "      <td>33.0</td>\n",
       "      <td>13888.25</td>\n",
       "      <td>14.0</td>\n",
       "      <td>10.0</td>\n",
       "      <td>Стерлитамак</td>\n",
       "      <td>smart</td>\n",
       "      <td>50</td>\n",
       "      <td>15360</td>\n",
       "      <td>500</td>\n",
       "      <td>550</td>\n",
       "      <td>200</td>\n",
       "      <td>3</td>\n",
       "      <td>3</td>\n",
       "      <td>550.0</td>\n",
       "    </tr>\n",
       "  </tbody>\n",
       "</table>\n",
       "</div>"
      ],
      "text/plain": [
       "    user_id  month  calls_duration_month  calls_count_month  mb_used_month  \\\n",
       "0      1000      5                 159.0               22.0        2253.49   \n",
       "1      1000      6                 172.0               43.0       23233.77   \n",
       "2      1000      7                 340.0               47.0       14003.64   \n",
       "3      1000      8                 408.0               52.0       14055.93   \n",
       "4      1000      9                 466.0               58.0       14568.91   \n",
       "5      1000     10                 350.0               57.0       14702.49   \n",
       "6      1000     11                 338.0               43.0       14756.47   \n",
       "7      1000     12                 333.0               46.0        9817.61   \n",
       "8      1001     11                 430.0               59.0       18429.34   \n",
       "9      1001     12                 414.0               63.0       14036.66   \n",
       "10     1002      6                 117.0               15.0       10856.82   \n",
       "11     1002      7                 214.0               26.0       17580.10   \n",
       "12     1002      8                 289.0               42.0       20319.26   \n",
       "13     1002      9                 206.0               36.0       16691.08   \n",
       "14     1002     10                 212.0               33.0       13888.25   \n",
       "\n",
       "    gb_used_month  message_count         city tariff  messages_included  \\\n",
       "0             3.0           22.0    Краснодар  ultra               1000   \n",
       "1            23.0           60.0    Краснодар  ultra               1000   \n",
       "2            14.0           75.0    Краснодар  ultra               1000   \n",
       "3            14.0           81.0    Краснодар  ultra               1000   \n",
       "4            15.0           57.0    Краснодар  ultra               1000   \n",
       "5            15.0           73.0    Краснодар  ultra               1000   \n",
       "6            15.0           58.0    Краснодар  ultra               1000   \n",
       "7            10.0           70.0    Краснодар  ultra               1000   \n",
       "8            18.0            0.0       Москва  smart                 50   \n",
       "9            14.0            0.0       Москва  smart                 50   \n",
       "10           11.0            4.0  Стерлитамак  smart                 50   \n",
       "11           18.0           11.0  Стерлитамак  smart                 50   \n",
       "12           20.0           13.0  Стерлитамак  smart                 50   \n",
       "13           17.0            4.0  Стерлитамак  smart                 50   \n",
       "14           14.0           10.0  Стерлитамак  smart                 50   \n",
       "\n",
       "    mb_per_month_included  minutes_included  rub_monthly_fee  rub_per_gb  \\\n",
       "0                   30720              3000             1950         150   \n",
       "1                   30720              3000             1950         150   \n",
       "2                   30720              3000             1950         150   \n",
       "3                   30720              3000             1950         150   \n",
       "4                   30720              3000             1950         150   \n",
       "5                   30720              3000             1950         150   \n",
       "6                   30720              3000             1950         150   \n",
       "7                   30720              3000             1950         150   \n",
       "8                   15360               500              550         200   \n",
       "9                   15360               500              550         200   \n",
       "10                  15360               500              550         200   \n",
       "11                  15360               500              550         200   \n",
       "12                  15360               500              550         200   \n",
       "13                  15360               500              550         200   \n",
       "14                  15360               500              550         200   \n",
       "\n",
       "    rub_per_message  rub_per_minute  income  \n",
       "0                 1               1  1950.0  \n",
       "1                 1               1  1950.0  \n",
       "2                 1               1  1950.0  \n",
       "3                 1               1  1950.0  \n",
       "4                 1               1  1950.0  \n",
       "5                 1               1  1950.0  \n",
       "6                 1               1  1950.0  \n",
       "7                 1               1  1950.0  \n",
       "8                 3               3  1150.0  \n",
       "9                 3               3   550.0  \n",
       "10                3               3   550.0  \n",
       "11                3               3  1150.0  \n",
       "12                3               3  1550.0  \n",
       "13                3               3   950.0  \n",
       "14                3               3   550.0  "
      ]
     },
     "execution_count": 46,
     "metadata": {},
     "output_type": "execute_result"
    }
   ],
   "source": [
    "#добавление столбца с суммой ежемесячной оплаты использованных услуг связи\n",
    "data['income'] = income_internet + income_messages + income_calls + data['rub_monthly_fee'] \n",
    "data.head(15)"
   ]
  },
  {
   "cell_type": "markdown",
   "metadata": {},
   "source": [
    "### Выводы\n",
    " - Сгруппированы данные по длительности звонков, количеству сообщений и использованных Гб интернета по месяцам в разрезе пользователей\n",
    " - Сгруппированные данные объединены в таблицу\n",
    " - В полученной таблице отсутсвующие данные заполнены 0, так как это неиспользованные остатки от тарифов\n",
    " - Расчитана ежемесячная сумма оплаты пользователем за услуги связи, включающая стоимость дополнительно использованных минут и интернета и абонентской платы \n"
   ]
  },
  {
   "cell_type": "markdown",
   "metadata": {},
   "source": [
    "## Изучение данных"
   ]
  },
  {
   "cell_type": "code",
   "execution_count": 47,
   "metadata": {
    "scrolled": false
   },
   "outputs": [
    {
     "data": {
      "image/png": "[encoded data removed]",
      "text/plain": [
       "<Figure size 432x288 with 1 Axes>"
      ]
     },
     "metadata": {
      "needs_background": "light"
     },
     "output_type": "display_data"
    }
   ],
   "source": [
    "plt.hist(data[data['tariff'] == 'smart']['calls_duration_month'], label='звонки тарифа Смарт', bins=15, alpha=0.7) # выбраны данные по звонкам тарифа смарт\n",
    "plt.hist(data[data['tariff'] == 'ultra']['calls_duration_month'], label='звонки тарифа Ультра', bins=15, alpha=0.5) # выбраны данные по звонкам тарифа ультра\n",
    "plt.title('Сравнение длительности звонков в месяц')\n",
    "plt.xlabel('минуты')\n",
    "plt.ylabel('количество')\n",
    "plt.legend()\n",
    "plt.show()"
   ]
  },
  {
   "cell_type": "markdown",
   "metadata": {
    "scrolled": true
   },
   "source": [
    "По графику видно, что пользователи тарифа смарт, имеющие 500 минут ежемесячно, чаще всего превышают лимит в среднем на 100-250 минут.\n",
    "Пользователи тарифа ультра не выговаривают положенные им 3000 минут."
   ]
  },
  {
   "cell_type": "code",
   "execution_count": 48,
   "metadata": {
    "scrolled": false
   },
   "outputs": [
    {
     "data": {
      "image/png": "[encoded data removed]",
      "text/plain": [
       "<Figure size 432x288 with 1 Axes>"
      ]
     },
     "metadata": {
      "needs_background": "light"
     },
     "output_type": "display_data"
    }
   ],
   "source": [
    "plt.hist(data[data['tariff'] == 'smart']['gb_used_month'], bins=15, label='Гб тарифа смарт', alpha=0.7) #данные по использованным Гб тарифа смарт\n",
    "plt.hist(data[data['tariff'] == 'ultra']['gb_used_month'], bins=15, label='Гб тарифа Ультра', alpha=0.5) #данные по использованным Гб тарифа ультра\n",
    "plt.title('Сравнение потраченных Гб в месяц')\n",
    "plt.xlabel('гб')\n",
    "plt.ylabel('количество')\n",
    "plt.legend()\n",
    "plt.show()"
   ]
  },
  {
   "cell_type": "markdown",
   "metadata": {},
   "source": [
    "Пользователи тарифа смарт опять же сильно превышают лимит в 15 Гб. Пик использования приходится на 18-20 Гб.\n",
    "А обладатели тарифа ультра в основном используют от 10 до 30 Гб ежемесячно. Первышения лимита по интернету незначительно."
   ]
  },
  {
   "cell_type": "code",
   "execution_count": 49,
   "metadata": {
    "scrolled": true
   },
   "outputs": [
    {
     "data": {
      "image/png": "[encoded data removed]",
      "text/plain": [
       "<Figure size 432x288 with 1 Axes>"
      ]
     },
     "metadata": {
      "needs_background": "light"
     },
     "output_type": "display_data"
    }
   ],
   "source": [
    "plt.hist(data[data['tariff'] == 'smart']['message_count'], label='Сообщения тарифа Смарт', bins=10, alpha=0.7) # данные по сообщениям тарифа смарт\n",
    "plt.hist(data[data['tariff'] == 'ultra']['message_count'], label='Сообщения тарифа Ультра', bins=10, alpha=0.5) # данные по сообщениям тарифа ультра\n",
    "plt.title('Сравнение количества сообщений в месяц')\n",
    "plt.xlabel('сообщения')\n",
    "plt.ylabel('количество')\n",
    "plt.legend()\n",
    "plt.show()"
   ]
  },
  {
   "cell_type": "markdown",
   "metadata": {},
   "source": [
    "Пользователи тарифа смарт имеют лимит сообщений в 50 шт ежемесячно. Большинство пользователей ограничивается 10 сообщениями. Но некоторым лимита не хватает.\n",
    "Пользователи тарифа ультра имеют лимит в 1000 сообщений. И ни один пользователь даже половину лимита не использовал. Пик также приходится на 10-15 сообщений."
   ]
  },
  {
   "cell_type": "code",
   "execution_count": 50,
   "metadata": {},
   "outputs": [
    {
     "data": {
      "image/png": "[encoded data removed]",
      "text/plain": [
       "<Figure size 432x288 with 1 Axes>"
      ]
     },
     "metadata": {
      "needs_background": "light"
     },
     "output_type": "display_data"
    }
   ],
   "source": [
    "plt.hist(data[data['tariff'] == 'smart']['income'], bins=20, label='Соимость услуг тарифа Смарт', alpha=0.7) # данные по сообщениям тарифа смарт\n",
    "plt.hist(data[data['tariff'] == 'ultra']['income'], bins=20, label='Стоимость услуг тарифа Ультра', alpha=0.5) # данные по сообщениям тарифа ультра\n",
    "plt.title('Сравнение тарифов')\n",
    "plt.xlabel('стоимость')\n",
    "plt.ylabel('количество')\n",
    "plt.legend()\n",
    "plt.show()"
   ]
  },
  {
   "cell_type": "markdown",
   "metadata": {},
   "source": [
    "Пользователи тарифа смарт при абонетской плате в 550 руб. значительно превышают ежемесячный платеж. Но основная часть абонентов стараются придерживаться лимитов.\n",
    "У пользователей тарифа ультра все более менее в пределах 2000, при абонентской плате в 1950 руб."
   ]
  },
  {
   "cell_type": "code",
   "execution_count": 51,
   "metadata": {},
   "outputs": [],
   "source": [
    "data_grouped = data.groupby('tariff').agg({'income': ['mean', 'var', 'std']}).style.format(\"{:.2f}\")                                    "
   ]
  },
  {
   "cell_type": "code",
   "execution_count": 52,
   "metadata": {
    "scrolled": true
   },
   "outputs": [
    {
     "data": {
      "text/html": [
       "<style  type=\"text/css\" >\n",
       "</style><table id=\"T_5ae743fc_632c_11ec_990c_02420a39897f\" ><thead>    <tr>        <th class=\"blank level0\" ></th>        <th class=\"col_heading level0 col0\" colspan=3>income</th>    </tr>    <tr>        <th class=\"blank level1\" ></th>        <th class=\"col_heading level1 col0\" >mean</th>        <th class=\"col_heading level1 col1\" >var</th>        <th class=\"col_heading level1 col2\" >std</th>    </tr>    <tr>        <th class=\"index_name level0\" >tariff</th>        <th class=\"blank\" ></th>        <th class=\"blank\" ></th>        <th class=\"blank\" ></th>    </tr></thead><tbody>\n",
       "                <tr>\n",
       "                        <th id=\"T_5ae743fc_632c_11ec_990c_02420a39897flevel0_row0\" class=\"row_heading level0 row0\" >smart</th>\n",
       "                        <td id=\"T_5ae743fc_632c_11ec_990c_02420a39897frow0_col0\" class=\"data row0 col0\" >1289.97</td>\n",
       "                        <td id=\"T_5ae743fc_632c_11ec_990c_02420a39897frow0_col1\" class=\"data row0 col1\" >669785.71</td>\n",
       "                        <td id=\"T_5ae743fc_632c_11ec_990c_02420a39897frow0_col2\" class=\"data row0 col2\" >818.40</td>\n",
       "            </tr>\n",
       "            <tr>\n",
       "                        <th id=\"T_5ae743fc_632c_11ec_990c_02420a39897flevel0_row1\" class=\"row_heading level0 row1\" >ultra</th>\n",
       "                        <td id=\"T_5ae743fc_632c_11ec_990c_02420a39897frow1_col0\" class=\"data row1 col0\" >2070.15</td>\n",
       "                        <td id=\"T_5ae743fc_632c_11ec_990c_02420a39897frow1_col1\" class=\"data row1 col1\" >141516.75</td>\n",
       "                        <td id=\"T_5ae743fc_632c_11ec_990c_02420a39897frow1_col2\" class=\"data row1 col2\" >376.19</td>\n",
       "            </tr>\n",
       "    </tbody></table>"
      ],
      "text/plain": [
       "<pandas.io.formats.style.Styler at 0x7fb984912650>"
      ]
     },
     "metadata": {},
     "output_type": "display_data"
    }
   ],
   "source": [
    "display(data_grouped)"
   ]
  },
  {
   "cell_type": "markdown",
   "metadata": {},
   "source": [
    "У пользователей смарта средняя ежесямесячная сумма - 1290 руб. Это неоправданно выше тарифа. Дисперсия равна 670 957 - это очень большой разброс в данных.\n",
    "Пользователи тарифа ультра в среднем укладываются в стоимость тарифа. Но разброс данных тоже имеется."
   ]
  },
  {
   "cell_type": "markdown",
   "metadata": {},
   "source": [
    "### Выводы\n",
    "Пользователи тарифа смарт чаще и больше платят свех тарифа. В основном перерасход в звонках и интернете.\n",
    "Пользователи тарифа ультра в целом придерживаются тарифа"
   ]
  },
  {
   "cell_type": "markdown",
   "metadata": {},
   "source": [
    "## Проверка гипотез"
   ]
  },
  {
   "cell_type": "markdown",
   "metadata": {},
   "source": [
    "Н0: средняя выручка пользователей тарифов «Ультра» и «Смарт» не различаются\n",
    "Н1: средняя выручка пользователей тарифов «Ультра» и «Смарт» различаются"
   ]
  },
  {
   "cell_type": "markdown",
   "metadata": {},
   "source": [
    "Cравниваемые выборки независимы между собой. \n",
    "Проверяем гипотезы о равенстве среднего для двух генеральных совокупностей по выборкам."
   ]
  },
  {
   "cell_type": "code",
   "execution_count": 53,
   "metadata": {},
   "outputs": [],
   "source": [
    "smart = data[data['tariff'] == 'smart']\n",
    "ultra = data[data['tariff'] == 'ultra']\n"
   ]
  },
  {
   "cell_type": "code",
   "execution_count": 54,
   "metadata": {},
   "outputs": [
    {
     "name": "stdout",
     "output_type": "stream",
     "text": [
      "р-значение: 1.4229814360764067e-160\n",
      "Нулевую гипотезу отвергаем\n"
     ]
    }
   ],
   "source": [
    "result = st.ttest_ind(smart['income'], ultra['income'])\n",
    "alpha = 0.05\n",
    "print('р-значение:', result.pvalue)\n",
    "\n",
    "if result.pvalue < alpha:\n",
    "    print('Нулевую гипотезу отвергаем')\n",
    "else:\n",
    "    print('Не можем отвергнуть нулевую гипотезу')"
   ]
  },
  {
   "cell_type": "markdown",
   "metadata": {},
   "source": [
    "Таким образом, получается, что средняя выручка пользователей тарифов «Ультра» и «Смарт» различаются"
   ]
  },
  {
   "cell_type": "markdown",
   "metadata": {},
   "source": [
    "Н0: средняя выручка пользователей из Москвы не отличается от выручки пользователей из других регионов.\n",
    "Н1: средняя выручка пользователей из Москвы отличается от выручки пользователей из других регионов."
   ]
  },
  {
   "cell_type": "code",
   "execution_count": 55,
   "metadata": {},
   "outputs": [],
   "source": [
    "# делим данные на Москву и другие регионы.\n",
    "data['region'] = np.where(data['city'] == 'Москва', 'Москва','Другие регионы')"
   ]
  },
  {
   "cell_type": "code",
   "execution_count": 56,
   "metadata": {},
   "outputs": [],
   "source": [
    "msk = data[data['region'] == 'Москва']\n",
    "other_region = data[data['region'] == 'Другие регионы']"
   ]
  },
  {
   "cell_type": "code",
   "execution_count": 57,
   "metadata": {},
   "outputs": [
    {
     "name": "stdout",
     "output_type": "stream",
     "text": [
      "р-значение: 0.5440152911670224\n",
      "Не можем отвергнуть нулевую гипотезу\n"
     ]
    }
   ],
   "source": [
    "result = st.ttest_ind(msk['income'], other_region['income'])\n",
    "alpha = 0.05\n",
    "print('р-значение:', result.pvalue)\n",
    "\n",
    "if result.pvalue < alpha:\n",
    "    print('Нулевую гипотезу отвергаем')\n",
    "else:\n",
    "    print('Не можем отвергнуть нулевую гипотезу')\n"
   ]
  },
  {
   "cell_type": "markdown",
   "metadata": {},
   "source": [
    "средняя выручка пользователей из Москвы не отличается от выручки пользователей из других регионов."
   ]
  },
  {
   "cell_type": "markdown",
   "metadata": {},
   "source": [
    "## Общие выводы\n",
    "- исходные таблицы изучены, данные в столбцах приведены к нужным типам данных и округлены в большую сторону, как требует того тарифные условия\n",
    "-  Сгруппированы данные по длительности звонков, количеству сообщений и использованных Гб интернета по месяцам в разрезе пользователей\n",
    "- Сгруппированные данные объединены в таблицу\n",
    "- В полученной таблице отсутсвующие данные заполнены 0, так как это неиспользованные остатки от тарифов\n",
    "- Расчитана ежемесячная сумма оплаты пользователем за услуги связи, включающая стоимость дополнительно использованных минут и интернета и абонентской платы \n",
    "- произведено сравнение поведения пользователей разных тарифов\n",
    "- пользователи тарифа смарт превышают лимит по звонкам в среднем на 100-250 минут, а пользователи тарифа ультра не выговаривают положенные им 3000 минут.\n",
    "- Пользователи тарифа смарт опять же сильно превышают лимит в 15 Гб. Пик использования приходится на 18-20 Гб.\n",
    "А обладатели тарифа ультра в основном используют от 10 до 30 Гб ежемесячно. Первышения лимита по интернету незначительно.\n",
    "- данные по сообщениям незначительны и на общую картину не влияют.\n",
    "- Cравниваемые выборки независимы между собой. Проверяем гипотезы о равенстве среднего для двух генеральных совокупностей по выборкам.\n",
    "- Нулевую гипотезу о том, что средняя выручка пользователей тарифов «Ультра» и «Смарт» не различаются, отвергаем.\n",
    "- А нулевая гипотеза о том, что средняя выручка пользователей из Москвы не отличается от выручки пользователей из других регионов, отвергнуть не получилось."
   ]
  },
  {
   "cell_type": "code",
   "execution_count": null,
   "metadata": {},
   "outputs": [],
   "source": []
  }
 ],
 "metadata": {
  "ExecuteTimeLog": [
   {
    "duration": 1471,
    "start_time": "2021-12-14T07:22:18.066Z"
   },
   {
    "duration": 2183,
    "start_time": "2021-12-14T07:28:40.264Z"
   },
   {
    "duration": 555,
    "start_time": "2021-12-14T07:29:34.026Z"
   },
   {
    "duration": 593,
    "start_time": "2021-12-14T07:29:39.685Z"
   },
   {
    "duration": 16,
    "start_time": "2021-12-14T07:32:07.765Z"
   },
   {
    "duration": 13,
    "start_time": "2021-12-14T07:32:28.855Z"
   },
   {
    "duration": 285,
    "start_time": "2021-12-14T07:32:54.576Z"
   },
   {
    "duration": 510,
    "start_time": "2021-12-14T07:33:01.877Z"
   },
   {
    "duration": 10,
    "start_time": "2021-12-14T07:33:05.849Z"
   },
   {
    "duration": 12,
    "start_time": "2021-12-14T07:33:14.796Z"
   },
   {
    "duration": 15,
    "start_time": "2021-12-14T07:33:22.251Z"
   },
   {
    "duration": 4,
    "start_time": "2021-12-14T07:57:17.950Z"
   },
   {
    "duration": 550,
    "start_time": "2021-12-14T07:57:18.560Z"
   },
   {
    "duration": 12,
    "start_time": "2021-12-14T07:57:19.164Z"
   },
   {
    "duration": 12,
    "start_time": "2021-12-14T07:57:20.516Z"
   },
   {
    "duration": 3,
    "start_time": "2021-12-14T07:57:21.855Z"
   },
   {
    "duration": 3,
    "start_time": "2021-12-14T07:57:26.396Z"
   },
   {
    "duration": 3,
    "start_time": "2021-12-14T07:57:27.519Z"
   },
   {
    "duration": 297,
    "start_time": "2021-12-14T07:57:29.217Z"
   },
   {
    "duration": 358,
    "start_time": "2021-12-14T08:03:40.423Z"
   },
   {
    "duration": 280,
    "start_time": "2021-12-14T08:04:41.077Z"
   },
   {
    "duration": 328,
    "start_time": "2021-12-14T08:04:57.041Z"
   },
   {
    "duration": 284,
    "start_time": "2021-12-14T08:05:06.078Z"
   },
   {
    "duration": 285,
    "start_time": "2021-12-14T08:13:06.867Z"
   },
   {
    "duration": 377,
    "start_time": "2021-12-14T08:23:02.670Z"
   },
   {
    "duration": 1377,
    "start_time": "2021-12-17T11:29:22.766Z"
   },
   {
    "duration": 511,
    "start_time": "2021-12-17T11:29:24.145Z"
   },
   {
    "duration": 19,
    "start_time": "2021-12-17T11:29:24.660Z"
   },
   {
    "duration": 15,
    "start_time": "2021-12-17T11:29:24.683Z"
   },
   {
    "duration": 4,
    "start_time": "2021-12-17T11:29:24.701Z"
   },
   {
    "duration": 4,
    "start_time": "2021-12-17T11:29:24.707Z"
   },
   {
    "duration": 4,
    "start_time": "2021-12-17T11:29:24.713Z"
   },
   {
    "duration": 580,
    "start_time": "2021-12-17T11:29:24.720Z"
   },
   {
    "duration": 39,
    "start_time": "2021-12-17T11:30:14.654Z"
   },
   {
    "duration": 29,
    "start_time": "2021-12-17T11:30:22.672Z"
   },
   {
    "duration": 1563,
    "start_time": "2021-12-17T11:39:09.898Z"
   },
   {
    "duration": 520,
    "start_time": "2021-12-17T11:39:11.464Z"
   },
   {
    "duration": 16,
    "start_time": "2021-12-17T11:39:11.986Z"
   },
   {
    "duration": 34,
    "start_time": "2021-12-17T11:39:12.004Z"
   },
   {
    "duration": 31,
    "start_time": "2021-12-17T11:39:12.041Z"
   },
   {
    "duration": 44,
    "start_time": "2021-12-17T11:39:12.075Z"
   },
   {
    "duration": 7,
    "start_time": "2021-12-17T11:39:12.121Z"
   },
   {
    "duration": 37,
    "start_time": "2021-12-17T11:39:12.130Z"
   },
   {
    "duration": 3,
    "start_time": "2021-12-17T11:39:12.170Z"
   },
   {
    "duration": 7,
    "start_time": "2021-12-17T11:39:12.175Z"
   },
   {
    "duration": 7,
    "start_time": "2021-12-17T11:39:12.184Z"
   },
   {
    "duration": 514,
    "start_time": "2021-12-17T11:39:12.193Z"
   },
   {
    "duration": 12,
    "start_time": "2021-12-17T11:45:33.385Z"
   },
   {
    "duration": 23,
    "start_time": "2021-12-17T11:52:05.264Z"
   },
   {
    "duration": 123,
    "start_time": "2021-12-17T11:52:20.889Z"
   },
   {
    "duration": 12,
    "start_time": "2021-12-17T11:54:09.290Z"
   },
   {
    "duration": 36,
    "start_time": "2021-12-17T11:54:48.315Z"
   },
   {
    "duration": 33,
    "start_time": "2021-12-17T11:55:20.074Z"
   },
   {
    "duration": 15,
    "start_time": "2021-12-17T11:57:35.785Z"
   },
   {
    "duration": 13,
    "start_time": "2021-12-17T11:57:44.399Z"
   },
   {
    "duration": 10,
    "start_time": "2021-12-17T12:02:29.359Z"
   },
   {
    "duration": 20,
    "start_time": "2021-12-17T12:03:20.263Z"
   },
   {
    "duration": 30,
    "start_time": "2021-12-17T12:03:28.822Z"
   },
   {
    "duration": 12,
    "start_time": "2021-12-17T12:38:54.091Z"
   },
   {
    "duration": 42,
    "start_time": "2021-12-17T12:39:10.051Z"
   },
   {
    "duration": 9,
    "start_time": "2021-12-17T12:39:15.702Z"
   },
   {
    "duration": 15,
    "start_time": "2021-12-17T12:42:16.469Z"
   },
   {
    "duration": 22,
    "start_time": "2021-12-17T12:42:31.131Z"
   },
   {
    "duration": 10,
    "start_time": "2021-12-17T12:42:37.700Z"
   },
   {
    "duration": 8,
    "start_time": "2021-12-17T12:44:30.480Z"
   },
   {
    "duration": 392,
    "start_time": "2021-12-17T12:50:10.715Z"
   },
   {
    "duration": 388,
    "start_time": "2021-12-17T12:50:24.964Z"
   },
   {
    "duration": 261,
    "start_time": "2021-12-17T12:50:35.056Z"
   },
   {
    "duration": 9552,
    "start_time": "2021-12-17T12:58:13.598Z"
   },
   {
    "duration": 8,
    "start_time": "2021-12-17T12:59:31.317Z"
   },
   {
    "duration": 306,
    "start_time": "2021-12-17T12:59:51.359Z"
   },
   {
    "duration": 11,
    "start_time": "2021-12-17T13:02:51.623Z"
   },
   {
    "duration": 8,
    "start_time": "2021-12-17T13:18:46.667Z"
   },
   {
    "duration": 827,
    "start_time": "2021-12-17T13:23:58.883Z"
   },
   {
    "duration": 660,
    "start_time": "2021-12-17T13:24:31.724Z"
   },
   {
    "duration": 583,
    "start_time": "2021-12-17T13:27:51.139Z"
   },
   {
    "duration": 545,
    "start_time": "2021-12-17T13:28:21.954Z"
   },
   {
    "duration": 93,
    "start_time": "2021-12-17T13:30:03.752Z"
   },
   {
    "duration": 1489,
    "start_time": "2021-12-17T13:31:10.275Z"
   },
   {
    "duration": 1548,
    "start_time": "2021-12-17T13:31:27.230Z"
   },
   {
    "duration": 41,
    "start_time": "2021-12-17T13:31:52.326Z"
   },
   {
    "duration": 131,
    "start_time": "2021-12-17T20:40:01.907Z"
   },
   {
    "duration": 131,
    "start_time": "2021-12-17T20:40:29.489Z"
   },
   {
    "duration": 159,
    "start_time": "2021-12-17T20:40:40.695Z"
   },
   {
    "duration": 15,
    "start_time": "2021-12-17T20:40:59.885Z"
   },
   {
    "duration": 6,
    "start_time": "2021-12-17T20:44:49.064Z"
   },
   {
    "duration": 11,
    "start_time": "2021-12-17T20:44:50.680Z"
   },
   {
    "duration": 9614,
    "start_time": "2021-12-17T20:47:35.405Z"
   },
   {
    "duration": 948,
    "start_time": "2021-12-17T20:48:00.935Z"
   },
   {
    "duration": 32,
    "start_time": "2021-12-17T20:50:42.861Z"
   },
   {
    "duration": 118,
    "start_time": "2021-12-17T21:09:28.149Z"
   },
   {
    "duration": 383,
    "start_time": "2021-12-17T21:09:41.317Z"
   },
   {
    "duration": 27,
    "start_time": "2021-12-17T21:09:51.478Z"
   },
   {
    "duration": 10,
    "start_time": "2021-12-17T21:10:19.878Z"
   },
   {
    "duration": 17,
    "start_time": "2021-12-17T21:12:40.690Z"
   },
   {
    "duration": 28,
    "start_time": "2021-12-17T21:14:09.548Z"
   },
   {
    "duration": 16,
    "start_time": "2021-12-17T21:14:10.998Z"
   },
   {
    "duration": 375,
    "start_time": "2021-12-17T21:14:54.585Z"
   },
   {
    "duration": 396,
    "start_time": "2021-12-17T21:15:25.759Z"
   },
   {
    "duration": 1044,
    "start_time": "2021-12-18T10:11:28.446Z"
   },
   {
    "duration": 501,
    "start_time": "2021-12-18T10:11:29.492Z"
   },
   {
    "duration": 13,
    "start_time": "2021-12-18T10:11:29.995Z"
   },
   {
    "duration": 31,
    "start_time": "2021-12-18T10:11:30.011Z"
   },
   {
    "duration": 22,
    "start_time": "2021-12-18T10:11:30.044Z"
   },
   {
    "duration": 66,
    "start_time": "2021-12-18T10:11:30.068Z"
   },
   {
    "duration": 7,
    "start_time": "2021-12-18T10:11:30.136Z"
   },
   {
    "duration": 10,
    "start_time": "2021-12-18T10:11:30.144Z"
   },
   {
    "duration": 13,
    "start_time": "2021-12-18T10:11:30.158Z"
   },
   {
    "duration": 53,
    "start_time": "2021-12-18T10:11:30.174Z"
   },
   {
    "duration": 17,
    "start_time": "2021-12-18T10:11:30.229Z"
   },
   {
    "duration": 26,
    "start_time": "2021-12-18T10:11:30.248Z"
   },
   {
    "duration": 6,
    "start_time": "2021-12-18T10:11:30.276Z"
   },
   {
    "duration": 24,
    "start_time": "2021-12-18T10:11:30.283Z"
   },
   {
    "duration": 15,
    "start_time": "2021-12-18T10:11:30.309Z"
   },
   {
    "duration": 19,
    "start_time": "2021-12-18T10:11:30.325Z"
   },
   {
    "duration": 19,
    "start_time": "2021-12-18T10:11:30.346Z"
   },
   {
    "duration": 8,
    "start_time": "2021-12-18T10:11:30.367Z"
   },
   {
    "duration": 56,
    "start_time": "2021-12-18T10:11:30.377Z"
   },
   {
    "duration": 9,
    "start_time": "2021-12-18T10:11:30.435Z"
   },
   {
    "duration": 17,
    "start_time": "2021-12-18T10:11:30.446Z"
   },
   {
    "duration": 16,
    "start_time": "2021-12-18T10:11:30.465Z"
   },
   {
    "duration": 25,
    "start_time": "2021-12-18T10:11:30.483Z"
   },
   {
    "duration": 17,
    "start_time": "2021-12-18T10:11:30.510Z"
   },
   {
    "duration": 11,
    "start_time": "2021-12-18T10:11:30.529Z"
   },
   {
    "duration": 11,
    "start_time": "2021-12-18T10:11:30.542Z"
   },
   {
    "duration": 35,
    "start_time": "2021-12-18T10:11:30.557Z"
   },
   {
    "duration": 32,
    "start_time": "2021-12-18T10:11:30.594Z"
   },
   {
    "duration": 3,
    "start_time": "2021-12-18T10:11:30.628Z"
   },
   {
    "duration": 9,
    "start_time": "2021-12-18T10:11:30.633Z"
   },
   {
    "duration": 17,
    "start_time": "2021-12-18T10:11:30.644Z"
   },
   {
    "duration": 21,
    "start_time": "2021-12-18T10:11:30.663Z"
   },
   {
    "duration": 27,
    "start_time": "2021-12-18T10:11:30.686Z"
   },
   {
    "duration": 8,
    "start_time": "2021-12-18T10:12:10.050Z"
   },
   {
    "duration": 7,
    "start_time": "2021-12-18T10:12:42.105Z"
   },
   {
    "duration": 15,
    "start_time": "2021-12-18T10:12:45.574Z"
   },
   {
    "duration": 7,
    "start_time": "2021-12-18T10:12:48.198Z"
   },
   {
    "duration": 11,
    "start_time": "2021-12-18T10:18:51.226Z"
   },
   {
    "duration": 18,
    "start_time": "2021-12-18T10:21:24.035Z"
   },
   {
    "duration": 9818,
    "start_time": "2021-12-18T10:21:24.682Z"
   },
   {
    "duration": 5667,
    "start_time": "2021-12-18T10:21:28.835Z"
   },
   {
    "duration": 13,
    "start_time": "2021-12-18T10:21:42.166Z"
   },
   {
    "duration": 9,
    "start_time": "2021-12-18T10:21:50.966Z"
   },
   {
    "duration": 5,
    "start_time": "2021-12-18T10:24:16.020Z"
   },
   {
    "duration": 8,
    "start_time": "2021-12-18T10:24:16.819Z"
   },
   {
    "duration": 7,
    "start_time": "2021-12-18T10:28:15.101Z"
   },
   {
    "duration": 34,
    "start_time": "2021-12-18T10:28:54.782Z"
   },
   {
    "duration": 17,
    "start_time": "2021-12-18T10:30:48.373Z"
   },
   {
    "duration": 19,
    "start_time": "2021-12-18T10:34:07.645Z"
   },
   {
    "duration": 26,
    "start_time": "2021-12-18T11:21:06.708Z"
   },
   {
    "duration": 1747,
    "start_time": "2021-12-18T11:22:06.556Z"
   },
   {
    "duration": 1372,
    "start_time": "2021-12-18T11:22:21.392Z"
   },
   {
    "duration": 3,
    "start_time": "2021-12-18T11:37:04.782Z"
   },
   {
    "duration": 32,
    "start_time": "2021-12-18T11:37:13.120Z"
   },
   {
    "duration": 7,
    "start_time": "2021-12-18T11:40:00.745Z"
   },
   {
    "duration": 11,
    "start_time": "2021-12-18T11:42:20.256Z"
   },
   {
    "duration": 84,
    "start_time": "2021-12-18T11:50:05.508Z"
   },
   {
    "duration": 8,
    "start_time": "2021-12-18T11:58:53.962Z"
   },
   {
    "duration": 4,
    "start_time": "2021-12-18T11:58:59.271Z"
   },
   {
    "duration": 8,
    "start_time": "2021-12-18T11:59:00.714Z"
   },
   {
    "duration": 33,
    "start_time": "2021-12-18T11:59:28.041Z"
   },
   {
    "duration": 8,
    "start_time": "2021-12-18T11:59:34.417Z"
   },
   {
    "duration": 12,
    "start_time": "2021-12-18T12:00:10.873Z"
   },
   {
    "duration": 4,
    "start_time": "2021-12-18T12:11:21.703Z"
   },
   {
    "duration": 17,
    "start_time": "2021-12-18T12:11:38.018Z"
   },
   {
    "duration": 4,
    "start_time": "2021-12-18T12:12:34.057Z"
   },
   {
    "duration": 18,
    "start_time": "2021-12-18T12:12:35.077Z"
   },
   {
    "duration": 4,
    "start_time": "2021-12-18T12:13:17.071Z"
   },
   {
    "duration": 19,
    "start_time": "2021-12-18T12:13:18.000Z"
   },
   {
    "duration": 3,
    "start_time": "2021-12-18T12:18:12.551Z"
   },
   {
    "duration": 382,
    "start_time": "2021-12-18T12:48:33.358Z"
   },
   {
    "duration": 353,
    "start_time": "2021-12-18T12:49:13.661Z"
   },
   {
    "duration": 4,
    "start_time": "2021-12-18T12:50:15.964Z"
   },
   {
    "duration": 20,
    "start_time": "2021-12-18T12:50:18.301Z"
   },
   {
    "duration": 4,
    "start_time": "2021-12-18T12:52:33.608Z"
   },
   {
    "duration": 17,
    "start_time": "2021-12-18T12:52:35.075Z"
   },
   {
    "duration": 1118,
    "start_time": "2021-12-18T12:52:46.735Z"
   },
   {
    "duration": 438,
    "start_time": "2021-12-18T12:52:47.855Z"
   },
   {
    "duration": 12,
    "start_time": "2021-12-18T12:52:48.295Z"
   },
   {
    "duration": 33,
    "start_time": "2021-12-18T12:52:48.309Z"
   },
   {
    "duration": 21,
    "start_time": "2021-12-18T12:52:48.343Z"
   },
   {
    "duration": 54,
    "start_time": "2021-12-18T12:52:48.366Z"
   },
   {
    "duration": 6,
    "start_time": "2021-12-18T12:52:48.422Z"
   },
   {
    "duration": 9,
    "start_time": "2021-12-18T12:52:48.431Z"
   },
   {
    "duration": 9,
    "start_time": "2021-12-18T12:52:48.442Z"
   },
   {
    "duration": 56,
    "start_time": "2021-12-18T12:52:48.453Z"
   },
   {
    "duration": 18,
    "start_time": "2021-12-18T12:52:48.510Z"
   },
   {
    "duration": 25,
    "start_time": "2021-12-18T12:52:48.530Z"
   },
   {
    "duration": 6,
    "start_time": "2021-12-18T12:52:48.557Z"
   },
   {
    "duration": 8,
    "start_time": "2021-12-18T12:52:48.564Z"
   },
   {
    "duration": 15,
    "start_time": "2021-12-18T12:52:48.573Z"
   },
   {
    "duration": 27,
    "start_time": "2021-12-18T12:52:48.589Z"
   },
   {
    "duration": 19,
    "start_time": "2021-12-18T12:52:48.618Z"
   },
   {
    "duration": 8,
    "start_time": "2021-12-18T12:52:48.639Z"
   },
   {
    "duration": 30,
    "start_time": "2021-12-18T12:52:48.648Z"
   },
   {
    "duration": 6,
    "start_time": "2021-12-18T12:52:48.680Z"
   },
   {
    "duration": 6,
    "start_time": "2021-12-18T12:52:48.688Z"
   },
   {
    "duration": 19,
    "start_time": "2021-12-18T12:52:48.696Z"
   },
   {
    "duration": 16,
    "start_time": "2021-12-18T12:52:48.718Z"
   },
   {
    "duration": 7,
    "start_time": "2021-12-18T12:52:48.737Z"
   },
   {
    "duration": 7,
    "start_time": "2021-12-18T12:52:48.746Z"
   },
   {
    "duration": 10,
    "start_time": "2021-12-18T12:52:48.754Z"
   },
   {
    "duration": 29,
    "start_time": "2021-12-18T12:52:48.766Z"
   },
   {
    "duration": 34,
    "start_time": "2021-12-18T12:52:48.796Z"
   },
   {
    "duration": 3,
    "start_time": "2021-12-18T12:52:48.832Z"
   },
   {
    "duration": 9,
    "start_time": "2021-12-18T12:52:48.837Z"
   },
   {
    "duration": 16,
    "start_time": "2021-12-18T12:52:48.848Z"
   },
   {
    "duration": 22,
    "start_time": "2021-12-18T12:52:48.866Z"
   },
   {
    "duration": 8,
    "start_time": "2021-12-18T12:52:48.889Z"
   },
   {
    "duration": 24,
    "start_time": "2021-12-18T12:52:48.899Z"
   },
   {
    "duration": 16,
    "start_time": "2021-12-18T12:52:48.925Z"
   },
   {
    "duration": 3,
    "start_time": "2021-12-18T12:52:48.943Z"
   },
   {
    "duration": 19,
    "start_time": "2021-12-18T12:52:48.948Z"
   },
   {
    "duration": 9,
    "start_time": "2021-12-18T12:52:48.969Z"
   },
   {
    "duration": 36,
    "start_time": "2021-12-18T12:52:48.979Z"
   },
   {
    "duration": 7,
    "start_time": "2021-12-18T12:52:49.017Z"
   },
   {
    "duration": 12,
    "start_time": "2021-12-18T12:52:49.025Z"
   },
   {
    "duration": 7,
    "start_time": "2021-12-18T12:52:49.039Z"
   },
   {
    "duration": 25,
    "start_time": "2021-12-18T12:52:49.047Z"
   },
   {
    "duration": 753,
    "start_time": "2021-12-18T12:54:33.098Z"
   },
   {
    "duration": 4,
    "start_time": "2021-12-18T15:44:48.452Z"
   },
   {
    "duration": 148,
    "start_time": "2021-12-18T15:44:50.524Z"
   },
   {
    "duration": 540,
    "start_time": "2021-12-18T15:55:31.411Z"
   },
   {
    "duration": 6,
    "start_time": "2021-12-18T15:55:55.213Z"
   },
   {
    "duration": 967,
    "start_time": "2021-12-18T15:55:57.085Z"
   },
   {
    "duration": 4,
    "start_time": "2021-12-18T16:01:51.460Z"
   },
   {
    "duration": 983,
    "start_time": "2021-12-18T16:01:52.723Z"
   },
   {
    "duration": 115,
    "start_time": "2021-12-18T16:02:08.942Z"
   },
   {
    "duration": 956,
    "start_time": "2021-12-18T16:02:10.152Z"
   },
   {
    "duration": 114,
    "start_time": "2021-12-18T16:02:21.484Z"
   },
   {
    "duration": 121,
    "start_time": "2021-12-18T16:02:30.213Z"
   },
   {
    "duration": 3,
    "start_time": "2021-12-18T16:03:15.747Z"
   },
   {
    "duration": 155,
    "start_time": "2021-12-18T16:03:20.652Z"
   },
   {
    "duration": 3,
    "start_time": "2021-12-18T16:04:55.275Z"
   },
   {
    "duration": 132,
    "start_time": "2021-12-18T16:04:56.367Z"
   },
   {
    "duration": 4,
    "start_time": "2021-12-18T16:06:08.035Z"
   },
   {
    "duration": 149,
    "start_time": "2021-12-18T16:06:09.623Z"
   },
   {
    "duration": 4,
    "start_time": "2021-12-18T16:06:28.532Z"
   },
   {
    "duration": 143,
    "start_time": "2021-12-18T16:06:29.550Z"
   },
   {
    "duration": 252,
    "start_time": "2021-12-18T16:06:41.134Z"
   },
   {
    "duration": 151,
    "start_time": "2021-12-18T16:14:14.783Z"
   },
   {
    "duration": 143,
    "start_time": "2021-12-18T16:18:13.773Z"
   },
   {
    "duration": 154,
    "start_time": "2021-12-18T16:18:39.113Z"
   },
   {
    "duration": 4,
    "start_time": "2021-12-18T16:20:31.128Z"
   },
   {
    "duration": 151,
    "start_time": "2021-12-18T16:20:33.599Z"
   },
   {
    "duration": 121,
    "start_time": "2021-12-18T16:21:51.409Z"
   },
   {
    "duration": 149,
    "start_time": "2021-12-18T16:21:53.115Z"
   },
   {
    "duration": 183,
    "start_time": "2021-12-18T16:22:01.245Z"
   },
   {
    "duration": 148,
    "start_time": "2021-12-18T16:22:02.405Z"
   },
   {
    "duration": 3,
    "start_time": "2021-12-18T16:24:24.348Z"
   },
   {
    "duration": 146,
    "start_time": "2021-12-18T16:24:25.823Z"
   },
   {
    "duration": 4,
    "start_time": "2021-12-18T16:30:09.167Z"
   },
   {
    "duration": 166,
    "start_time": "2021-12-18T16:30:11.975Z"
   },
   {
    "duration": 7,
    "start_time": "2021-12-19T10:36:27.904Z"
   },
   {
    "duration": 1336,
    "start_time": "2021-12-19T10:39:15.374Z"
   },
   {
    "duration": 523,
    "start_time": "2021-12-19T10:39:16.714Z"
   },
   {
    "duration": 17,
    "start_time": "2021-12-19T10:39:17.243Z"
   },
   {
    "duration": 58,
    "start_time": "2021-12-19T10:39:17.263Z"
   },
   {
    "duration": 44,
    "start_time": "2021-12-19T10:39:17.324Z"
   },
   {
    "duration": 60,
    "start_time": "2021-12-19T10:39:17.372Z"
   },
   {
    "duration": 6,
    "start_time": "2021-12-19T10:39:17.435Z"
   },
   {
    "duration": 13,
    "start_time": "2021-12-19T10:39:17.464Z"
   },
   {
    "duration": 14,
    "start_time": "2021-12-19T10:39:17.481Z"
   },
   {
    "duration": 72,
    "start_time": "2021-12-19T10:39:17.498Z"
   },
   {
    "duration": 24,
    "start_time": "2021-12-19T10:39:17.574Z"
   },
   {
    "duration": 49,
    "start_time": "2021-12-19T10:39:17.601Z"
   },
   {
    "duration": 15,
    "start_time": "2021-12-19T10:39:17.653Z"
   },
   {
    "duration": 19,
    "start_time": "2021-12-19T10:39:17.670Z"
   },
   {
    "duration": 32,
    "start_time": "2021-12-19T10:39:17.692Z"
   },
   {
    "duration": 18,
    "start_time": "2021-12-19T10:39:17.727Z"
   },
   {
    "duration": 27,
    "start_time": "2021-12-19T10:39:17.764Z"
   },
   {
    "duration": 12,
    "start_time": "2021-12-19T10:39:17.793Z"
   },
   {
    "duration": 68,
    "start_time": "2021-12-19T10:39:17.808Z"
   },
   {
    "duration": 9,
    "start_time": "2021-12-19T10:39:17.879Z"
   },
   {
    "duration": 16,
    "start_time": "2021-12-19T10:39:17.890Z"
   },
   {
    "duration": 24,
    "start_time": "2021-12-19T10:39:17.908Z"
   },
   {
    "duration": 40,
    "start_time": "2021-12-19T10:39:17.937Z"
   },
   {
    "duration": 8,
    "start_time": "2021-12-19T10:39:17.980Z"
   },
   {
    "duration": 12,
    "start_time": "2021-12-19T10:39:17.992Z"
   },
   {
    "duration": 16,
    "start_time": "2021-12-19T10:39:18.006Z"
   },
   {
    "duration": 59,
    "start_time": "2021-12-19T10:39:18.025Z"
   },
   {
    "duration": 42,
    "start_time": "2021-12-19T10:39:18.086Z"
   },
   {
    "duration": 3,
    "start_time": "2021-12-19T10:39:18.131Z"
   },
   {
    "duration": 33,
    "start_time": "2021-12-19T10:39:18.138Z"
   },
   {
    "duration": 29,
    "start_time": "2021-12-19T10:39:18.174Z"
   },
   {
    "duration": 28,
    "start_time": "2021-12-19T10:39:18.205Z"
   },
   {
    "duration": 37,
    "start_time": "2021-12-19T10:39:18.236Z"
   },
   {
    "duration": 24,
    "start_time": "2021-12-19T10:39:18.276Z"
   },
   {
    "duration": 18,
    "start_time": "2021-12-19T10:39:18.303Z"
   },
   {
    "duration": 5,
    "start_time": "2021-12-19T10:39:18.324Z"
   },
   {
    "duration": 11,
    "start_time": "2021-12-19T10:39:18.363Z"
   },
   {
    "duration": 24,
    "start_time": "2021-12-19T10:39:18.376Z"
   },
   {
    "duration": 63,
    "start_time": "2021-12-19T10:39:18.403Z"
   },
   {
    "duration": 10,
    "start_time": "2021-12-19T10:39:18.468Z"
   },
   {
    "duration": 17,
    "start_time": "2021-12-19T10:39:18.480Z"
   },
   {
    "duration": 5,
    "start_time": "2021-12-19T10:39:18.499Z"
   },
   {
    "duration": 970,
    "start_time": "2021-12-19T10:39:18.506Z"
   },
   {
    "duration": 7617,
    "start_time": "2021-12-19T10:39:11.862Z"
   },
   {
    "duration": 703,
    "start_time": "2021-12-19T10:42:52.217Z"
   },
   {
    "duration": 1440,
    "start_time": "2021-12-19T10:46:38.932Z"
   },
   {
    "duration": 505,
    "start_time": "2021-12-19T10:46:40.375Z"
   },
   {
    "duration": 15,
    "start_time": "2021-12-19T10:46:40.883Z"
   },
   {
    "duration": 38,
    "start_time": "2021-12-19T10:46:40.901Z"
   },
   {
    "duration": 39,
    "start_time": "2021-12-19T10:46:40.942Z"
   },
   {
    "duration": 44,
    "start_time": "2021-12-19T10:46:40.984Z"
   },
   {
    "duration": 7,
    "start_time": "2021-12-19T10:46:41.030Z"
   },
   {
    "duration": 11,
    "start_time": "2021-12-19T10:46:41.064Z"
   },
   {
    "duration": 16,
    "start_time": "2021-12-19T10:46:41.079Z"
   },
   {
    "duration": 69,
    "start_time": "2021-12-19T10:46:41.098Z"
   },
   {
    "duration": 24,
    "start_time": "2021-12-19T10:46:41.170Z"
   },
   {
    "duration": 32,
    "start_time": "2021-12-19T10:46:41.196Z"
   },
   {
    "duration": 39,
    "start_time": "2021-12-19T10:46:41.231Z"
   },
   {
    "duration": 14,
    "start_time": "2021-12-19T10:46:41.273Z"
   },
   {
    "duration": 29,
    "start_time": "2021-12-19T10:46:41.290Z"
   },
   {
    "duration": 65,
    "start_time": "2021-12-19T10:46:41.322Z"
   },
   {
    "duration": 38,
    "start_time": "2021-12-19T10:46:41.390Z"
   },
   {
    "duration": 41,
    "start_time": "2021-12-19T10:46:41.431Z"
   },
   {
    "duration": 48,
    "start_time": "2021-12-19T10:46:41.475Z"
   },
   {
    "duration": 36,
    "start_time": "2021-12-19T10:46:41.526Z"
   },
   {
    "duration": 10,
    "start_time": "2021-12-19T10:46:41.565Z"
   },
   {
    "duration": 20,
    "start_time": "2021-12-19T10:46:41.577Z"
   },
   {
    "duration": 21,
    "start_time": "2021-12-19T10:46:41.603Z"
   },
   {
    "duration": 42,
    "start_time": "2021-12-19T10:46:41.628Z"
   },
   {
    "duration": 9,
    "start_time": "2021-12-19T10:46:41.672Z"
   },
   {
    "duration": 13,
    "start_time": "2021-12-19T10:46:41.684Z"
   },
   {
    "duration": 78,
    "start_time": "2021-12-19T10:46:41.700Z"
   },
   {
    "duration": 44,
    "start_time": "2021-12-19T10:46:41.781Z"
   },
   {
    "duration": 4,
    "start_time": "2021-12-19T10:46:41.827Z"
   },
   {
    "duration": 33,
    "start_time": "2021-12-19T10:46:41.834Z"
   },
   {
    "duration": 20,
    "start_time": "2021-12-19T10:46:41.869Z"
   },
   {
    "duration": 26,
    "start_time": "2021-12-19T10:46:41.891Z"
   },
   {
    "duration": 50,
    "start_time": "2021-12-19T10:46:41.919Z"
   },
   {
    "duration": 24,
    "start_time": "2021-12-19T10:46:41.971Z"
   },
   {
    "duration": 20,
    "start_time": "2021-12-19T10:46:41.997Z"
   },
   {
    "duration": 5,
    "start_time": "2021-12-19T10:46:42.019Z"
   },
   {
    "duration": 46,
    "start_time": "2021-12-19T10:46:42.026Z"
   },
   {
    "duration": 13,
    "start_time": "2021-12-19T10:46:42.074Z"
   },
   {
    "duration": 85,
    "start_time": "2021-12-19T10:46:42.090Z"
   },
   {
    "duration": 9,
    "start_time": "2021-12-19T10:46:42.178Z"
   },
   {
    "duration": 18,
    "start_time": "2021-12-19T10:46:42.190Z"
   },
   {
    "duration": 3,
    "start_time": "2021-12-19T10:46:42.210Z"
   },
   {
    "duration": 863,
    "start_time": "2021-12-19T10:46:42.215Z"
   },
   {
    "duration": 7724,
    "start_time": "2021-12-19T10:46:35.357Z"
   },
   {
    "duration": 286,
    "start_time": "2021-12-19T10:55:26.603Z"
   },
   {
    "duration": 46,
    "start_time": "2021-12-19T10:55:33.521Z"
   },
   {
    "duration": 201,
    "start_time": "2021-12-19T10:58:51.513Z"
   },
   {
    "duration": 303,
    "start_time": "2021-12-19T10:59:18.004Z"
   },
   {
    "duration": 44,
    "start_time": "2021-12-19T10:59:18.992Z"
   },
   {
    "duration": 183,
    "start_time": "2021-12-19T11:57:42.991Z"
   },
   {
    "duration": 8,
    "start_time": "2021-12-19T11:58:36.096Z"
   },
   {
    "duration": 873,
    "start_time": "2021-12-19T11:58:37.293Z"
   },
   {
    "duration": 5,
    "start_time": "2021-12-19T11:59:01.438Z"
   },
   {
    "duration": 254,
    "start_time": "2021-12-19T11:59:02.856Z"
   },
   {
    "duration": 306,
    "start_time": "2021-12-19T11:59:47.330Z"
   },
   {
    "duration": 316,
    "start_time": "2021-12-19T12:01:03.501Z"
   },
   {
    "duration": 314,
    "start_time": "2021-12-19T12:01:58.844Z"
   },
   {
    "duration": 424,
    "start_time": "2021-12-19T12:04:55.303Z"
   },
   {
    "duration": 485,
    "start_time": "2021-12-19T12:06:06.798Z"
   },
   {
    "duration": 475,
    "start_time": "2021-12-19T12:06:59.972Z"
   },
   {
    "duration": 7,
    "start_time": "2021-12-19T12:19:53.729Z"
   },
   {
    "duration": 197,
    "start_time": "2021-12-19T12:21:17.389Z"
   },
   {
    "duration": 6,
    "start_time": "2021-12-19T12:21:24.150Z"
   },
   {
    "duration": 31,
    "start_time": "2021-12-19T12:24:16.953Z"
   },
   {
    "duration": 11,
    "start_time": "2021-12-19T12:27:58.297Z"
   },
   {
    "duration": 28,
    "start_time": "2021-12-19T12:29:46.322Z"
   },
   {
    "duration": 7,
    "start_time": "2021-12-19T16:51:07.148Z"
   },
   {
    "duration": 1540,
    "start_time": "2021-12-19T19:20:06.581Z"
   },
   {
    "duration": 521,
    "start_time": "2021-12-19T19:20:08.124Z"
   },
   {
    "duration": 15,
    "start_time": "2021-12-19T19:20:08.648Z"
   },
   {
    "duration": 45,
    "start_time": "2021-12-19T19:20:08.667Z"
   },
   {
    "duration": 52,
    "start_time": "2021-12-19T19:20:08.715Z"
   },
   {
    "duration": 51,
    "start_time": "2021-12-19T19:20:08.769Z"
   },
   {
    "duration": 7,
    "start_time": "2021-12-19T19:20:08.823Z"
   },
   {
    "duration": 35,
    "start_time": "2021-12-19T19:20:08.835Z"
   },
   {
    "duration": 12,
    "start_time": "2021-12-19T19:20:08.874Z"
   },
   {
    "duration": 75,
    "start_time": "2021-12-19T19:20:08.889Z"
   },
   {
    "duration": 23,
    "start_time": "2021-12-19T19:20:08.967Z"
   },
   {
    "duration": 29,
    "start_time": "2021-12-19T19:20:08.993Z"
   },
   {
    "duration": 40,
    "start_time": "2021-12-19T19:20:09.024Z"
   },
   {
    "duration": 10,
    "start_time": "2021-12-19T19:20:09.068Z"
   },
   {
    "duration": 25,
    "start_time": "2021-12-19T19:20:09.082Z"
   },
   {
    "duration": 62,
    "start_time": "2021-12-19T19:20:09.110Z"
   },
   {
    "duration": 40,
    "start_time": "2021-12-19T19:20:09.176Z"
   },
   {
    "duration": 17,
    "start_time": "2021-12-19T19:20:09.219Z"
   },
   {
    "duration": 80,
    "start_time": "2021-12-19T19:20:09.239Z"
   },
   {
    "duration": 17,
    "start_time": "2021-12-19T19:20:09.322Z"
   },
   {
    "duration": 5,
    "start_time": "2021-12-19T19:20:09.362Z"
   },
   {
    "duration": 21,
    "start_time": "2021-12-19T19:20:09.371Z"
   },
   {
    "duration": 31,
    "start_time": "2021-12-19T19:20:09.400Z"
   },
   {
    "duration": 37,
    "start_time": "2021-12-19T19:20:09.435Z"
   },
   {
    "duration": 23,
    "start_time": "2021-12-19T19:20:09.475Z"
   },
   {
    "duration": 14,
    "start_time": "2021-12-19T19:20:09.501Z"
   },
   {
    "duration": 57,
    "start_time": "2021-12-19T19:20:09.518Z"
   },
   {
    "duration": 44,
    "start_time": "2021-12-19T19:20:09.577Z"
   },
   {
    "duration": 20,
    "start_time": "2021-12-19T19:20:09.624Z"
   },
   {
    "duration": 21,
    "start_time": "2021-12-19T19:20:09.647Z"
   },
   {
    "duration": 22,
    "start_time": "2021-12-19T19:20:09.671Z"
   },
   {
    "duration": 26,
    "start_time": "2021-12-19T19:20:09.695Z"
   },
   {
    "duration": 46,
    "start_time": "2021-12-19T19:20:09.724Z"
   },
   {
    "duration": 43,
    "start_time": "2021-12-19T19:20:09.773Z"
   },
   {
    "duration": 20,
    "start_time": "2021-12-19T19:20:09.818Z"
   },
   {
    "duration": 6,
    "start_time": "2021-12-19T19:20:09.840Z"
   },
   {
    "duration": 13,
    "start_time": "2021-12-19T19:20:09.863Z"
   },
   {
    "duration": 17,
    "start_time": "2021-12-19T19:20:09.878Z"
   },
   {
    "duration": 84,
    "start_time": "2021-12-19T19:20:09.898Z"
   },
   {
    "duration": 9,
    "start_time": "2021-12-19T19:20:09.985Z"
   },
   {
    "duration": 17,
    "start_time": "2021-12-19T19:20:09.997Z"
   },
   {
    "duration": 4,
    "start_time": "2021-12-19T19:20:10.017Z"
   },
   {
    "duration": 39,
    "start_time": "2021-12-19T19:20:10.025Z"
   },
   {
    "duration": 479,
    "start_time": "2021-12-19T19:20:10.067Z"
   },
   {
    "duration": 17,
    "start_time": "2021-12-19T19:20:10.548Z"
   },
   {
    "duration": 48,
    "start_time": "2021-12-19T19:20:10.568Z"
   },
   {
    "duration": 8,
    "start_time": "2021-12-19T19:20:10.619Z"
   },
   {
    "duration": 30,
    "start_time": "2021-12-19T19:20:56.344Z"
   },
   {
    "duration": 7,
    "start_time": "2021-12-19T19:21:05.344Z"
   },
   {
    "duration": 5,
    "start_time": "2021-12-19T19:24:28.016Z"
   },
   {
    "duration": 434,
    "start_time": "2021-12-19T19:24:28.960Z"
   },
   {
    "duration": 29,
    "start_time": "2021-12-19T19:24:51.966Z"
   },
   {
    "duration": 9,
    "start_time": "2021-12-19T19:25:21.179Z"
   },
   {
    "duration": 415,
    "start_time": "2021-12-19T19:26:00.702Z"
   },
   {
    "duration": 191,
    "start_time": "2021-12-19T19:26:48.980Z"
   },
   {
    "duration": 248,
    "start_time": "2021-12-19T19:26:49.843Z"
   },
   {
    "duration": 147,
    "start_time": "2021-12-19T19:26:50.634Z"
   },
   {
    "duration": 36,
    "start_time": "2021-12-19T19:26:52.253Z"
   },
   {
    "duration": 8,
    "start_time": "2021-12-19T19:27:03.457Z"
   },
   {
    "duration": 9,
    "start_time": "2021-12-19T19:27:12.748Z"
   },
   {
    "duration": 8,
    "start_time": "2021-12-19T19:27:24.426Z"
   },
   {
    "duration": 12,
    "start_time": "2021-12-19T19:36:18.380Z"
   },
   {
    "duration": 12,
    "start_time": "2021-12-19T19:41:42.306Z"
   },
   {
    "duration": 14,
    "start_time": "2021-12-19T19:42:09.267Z"
   },
   {
    "duration": 19,
    "start_time": "2021-12-19T20:01:33.395Z"
   },
   {
    "duration": 22,
    "start_time": "2021-12-19T20:01:35.195Z"
   },
   {
    "duration": 563,
    "start_time": "2021-12-19T20:03:26.622Z"
   },
   {
    "duration": 23,
    "start_time": "2021-12-19T20:03:27.774Z"
   },
   {
    "duration": 139,
    "start_time": "2021-12-19T20:03:50.476Z"
   },
   {
    "duration": 160,
    "start_time": "2021-12-19T20:04:48.780Z"
   },
   {
    "duration": 797,
    "start_time": "2021-12-19T20:05:03.357Z"
   },
   {
    "duration": 38,
    "start_time": "2021-12-19T20:05:05.449Z"
   },
   {
    "duration": 900,
    "start_time": "2021-12-19T20:13:08.002Z"
   },
   {
    "duration": 1818,
    "start_time": "2021-12-19T20:13:52.863Z"
   },
   {
    "duration": 519,
    "start_time": "2021-12-19T20:13:54.685Z"
   },
   {
    "duration": 17,
    "start_time": "2021-12-19T20:13:55.208Z"
   },
   {
    "duration": 51,
    "start_time": "2021-12-19T20:13:55.228Z"
   },
   {
    "duration": 27,
    "start_time": "2021-12-19T20:13:55.282Z"
   },
   {
    "duration": 99,
    "start_time": "2021-12-19T20:13:55.312Z"
   },
   {
    "duration": 9,
    "start_time": "2021-12-19T20:13:55.414Z"
   },
   {
    "duration": 34,
    "start_time": "2021-12-19T20:13:55.429Z"
   },
   {
    "duration": 18,
    "start_time": "2021-12-19T20:13:55.467Z"
   },
   {
    "duration": 77,
    "start_time": "2021-12-19T20:13:55.488Z"
   },
   {
    "duration": 24,
    "start_time": "2021-12-19T20:13:55.568Z"
   },
   {
    "duration": 38,
    "start_time": "2021-12-19T20:13:55.595Z"
   },
   {
    "duration": 39,
    "start_time": "2021-12-19T20:13:55.635Z"
   },
   {
    "duration": 16,
    "start_time": "2021-12-19T20:13:55.677Z"
   },
   {
    "duration": 30,
    "start_time": "2021-12-19T20:13:55.699Z"
   },
   {
    "duration": 28,
    "start_time": "2021-12-19T20:13:55.766Z"
   },
   {
    "duration": 26,
    "start_time": "2021-12-19T20:13:55.797Z"
   },
   {
    "duration": 42,
    "start_time": "2021-12-19T20:13:55.826Z"
   },
   {
    "duration": 54,
    "start_time": "2021-12-19T20:13:55.872Z"
   },
   {
    "duration": 12,
    "start_time": "2021-12-19T20:13:55.929Z"
   },
   {
    "duration": 26,
    "start_time": "2021-12-19T20:13:55.943Z"
   },
   {
    "duration": 17,
    "start_time": "2021-12-19T20:13:55.972Z"
   },
   {
    "duration": 66,
    "start_time": "2021-12-19T20:13:55.997Z"
   },
   {
    "duration": 13,
    "start_time": "2021-12-19T20:13:56.068Z"
   },
   {
    "duration": 13,
    "start_time": "2021-12-19T20:13:56.085Z"
   },
   {
    "duration": 22,
    "start_time": "2021-12-19T20:13:56.101Z"
   },
   {
    "duration": 74,
    "start_time": "2021-12-19T20:13:56.126Z"
   },
   {
    "duration": 47,
    "start_time": "2021-12-19T20:13:56.203Z"
   },
   {
    "duration": 13,
    "start_time": "2021-12-19T20:13:56.253Z"
   },
   {
    "duration": 32,
    "start_time": "2021-12-19T20:13:56.269Z"
   },
   {
    "duration": 43,
    "start_time": "2021-12-19T20:13:56.304Z"
   },
   {
    "duration": 33,
    "start_time": "2021-12-19T20:13:56.350Z"
   },
   {
    "duration": 17,
    "start_time": "2021-12-19T20:13:56.386Z"
   },
   {
    "duration": 38,
    "start_time": "2021-12-19T20:13:56.406Z"
   },
   {
    "duration": 26,
    "start_time": "2021-12-19T20:13:56.464Z"
   },
   {
    "duration": 6,
    "start_time": "2021-12-19T20:13:56.493Z"
   },
   {
    "duration": 32,
    "start_time": "2021-12-19T20:13:56.502Z"
   },
   {
    "duration": 27,
    "start_time": "2021-12-19T20:13:56.538Z"
   },
   {
    "duration": 72,
    "start_time": "2021-12-19T20:13:56.569Z"
   },
   {
    "duration": 13,
    "start_time": "2021-12-19T20:13:56.664Z"
   },
   {
    "duration": 22,
    "start_time": "2021-12-19T20:13:56.681Z"
   },
   {
    "duration": 7,
    "start_time": "2021-12-19T20:13:56.706Z"
   },
   {
    "duration": 211,
    "start_time": "2021-12-19T20:13:56.716Z"
   },
   {
    "duration": 267,
    "start_time": "2021-12-19T20:13:56.930Z"
   },
   {
    "duration": 216,
    "start_time": "2021-12-19T20:13:57.200Z"
   },
   {
    "duration": 31,
    "start_time": "2021-12-19T20:13:57.419Z"
   },
   {
    "duration": 1280,
    "start_time": "2021-12-19T20:13:57.463Z"
   },
   {
    "duration": 313,
    "start_time": "2021-12-19T20:13:58.434Z"
   },
   {
    "duration": 307,
    "start_time": "2021-12-19T20:13:58.443Z"
   },
   {
    "duration": 291,
    "start_time": "2021-12-19T20:13:58.461Z"
   },
   {
    "duration": 595,
    "start_time": "2021-12-19T20:14:26.439Z"
   },
   {
    "duration": 19288,
    "start_time": "2021-12-19T20:14:46.635Z"
   },
   {
    "duration": 814,
    "start_time": "2021-12-19T20:17:42.420Z"
   },
   {
    "duration": 2197,
    "start_time": "2021-12-19T20:18:04.240Z"
   },
   {
    "duration": 44,
    "start_time": "2021-12-19T20:18:10.192Z"
   },
   {
    "duration": 2196,
    "start_time": "2021-12-19T20:18:28.723Z"
   },
   {
    "duration": 545,
    "start_time": "2021-12-19T20:18:30.376Z"
   },
   {
    "duration": 334,
    "start_time": "2021-12-19T20:25:15.928Z"
   },
   {
    "duration": 337,
    "start_time": "2021-12-19T20:25:58.053Z"
   },
   {
    "duration": 376,
    "start_time": "2021-12-19T20:26:14.465Z"
   },
   {
    "duration": 1087,
    "start_time": "2021-12-20T10:14:02.357Z"
   },
   {
    "duration": 378,
    "start_time": "2021-12-20T10:14:03.446Z"
   },
   {
    "duration": 11,
    "start_time": "2021-12-20T10:14:03.826Z"
   },
   {
    "duration": 29,
    "start_time": "2021-12-20T10:14:03.839Z"
   },
   {
    "duration": 20,
    "start_time": "2021-12-20T10:14:03.870Z"
   },
   {
    "duration": 29,
    "start_time": "2021-12-20T10:14:03.891Z"
   },
   {
    "duration": 5,
    "start_time": "2021-12-20T10:14:03.922Z"
   },
   {
    "duration": 9,
    "start_time": "2021-12-20T10:14:03.928Z"
   },
   {
    "duration": 7,
    "start_time": "2021-12-20T10:14:03.939Z"
   },
   {
    "duration": 48,
    "start_time": "2021-12-20T10:14:03.949Z"
   },
   {
    "duration": 16,
    "start_time": "2021-12-20T10:14:03.999Z"
   },
   {
    "duration": 22,
    "start_time": "2021-12-20T10:14:04.017Z"
   },
   {
    "duration": 5,
    "start_time": "2021-12-20T10:14:04.040Z"
   },
   {
    "duration": 7,
    "start_time": "2021-12-20T10:14:04.047Z"
   },
   {
    "duration": 40,
    "start_time": "2021-12-20T10:14:04.055Z"
   },
   {
    "duration": 13,
    "start_time": "2021-12-20T10:14:04.097Z"
   },
   {
    "duration": 17,
    "start_time": "2021-12-20T10:14:04.112Z"
   },
   {
    "duration": 7,
    "start_time": "2021-12-20T10:14:04.131Z"
   },
   {
    "duration": 52,
    "start_time": "2021-12-20T10:14:04.140Z"
   },
   {
    "duration": 6,
    "start_time": "2021-12-20T10:14:04.194Z"
   },
   {
    "duration": 6,
    "start_time": "2021-12-20T10:14:04.201Z"
   },
   {
    "duration": 12,
    "start_time": "2021-12-20T10:14:04.209Z"
   },
   {
    "duration": 14,
    "start_time": "2021-12-20T10:14:04.223Z"
   },
   {
    "duration": 16,
    "start_time": "2021-12-20T10:14:04.239Z"
   },
   {
    "duration": 9,
    "start_time": "2021-12-20T10:14:04.257Z"
   },
   {
    "duration": 26,
    "start_time": "2021-12-20T10:14:04.267Z"
   },
   {
    "duration": 23,
    "start_time": "2021-12-20T10:14:04.296Z"
   },
   {
    "duration": 35,
    "start_time": "2021-12-20T10:14:04.322Z"
   },
   {
    "duration": 3,
    "start_time": "2021-12-20T10:14:04.358Z"
   },
   {
    "duration": 29,
    "start_time": "2021-12-20T10:14:04.363Z"
   },
   {
    "duration": 16,
    "start_time": "2021-12-20T10:14:04.394Z"
   },
   {
    "duration": 21,
    "start_time": "2021-12-20T10:14:04.412Z"
   },
   {
    "duration": 8,
    "start_time": "2021-12-20T10:14:04.434Z"
   },
   {
    "duration": 22,
    "start_time": "2021-12-20T10:14:04.444Z"
   },
   {
    "duration": 37,
    "start_time": "2021-12-20T10:14:04.468Z"
   },
   {
    "duration": 4,
    "start_time": "2021-12-20T10:14:04.506Z"
   },
   {
    "duration": 11,
    "start_time": "2021-12-20T10:14:04.512Z"
   },
   {
    "duration": 19,
    "start_time": "2021-12-20T10:14:04.525Z"
   },
   {
    "duration": 38,
    "start_time": "2021-12-20T10:14:04.546Z"
   },
   {
    "duration": 10,
    "start_time": "2021-12-20T10:14:04.585Z"
   },
   {
    "duration": 11,
    "start_time": "2021-12-20T10:14:04.597Z"
   },
   {
    "duration": 9,
    "start_time": "2021-12-20T10:14:04.610Z"
   },
   {
    "duration": 101,
    "start_time": "2021-12-20T10:14:04.621Z"
   },
   {
    "duration": 88,
    "start_time": "2021-12-20T10:14:04.724Z"
   },
   {
    "duration": 83,
    "start_time": "2021-12-20T10:14:04.814Z"
   },
   {
    "duration": 19,
    "start_time": "2021-12-20T10:14:04.898Z"
   },
   {
    "duration": 224,
    "start_time": "2021-12-20T10:14:04.919Z"
   },
   {
    "duration": 695,
    "start_time": "2021-12-20T10:14:05.144Z"
   },
   {
    "duration": 5,
    "start_time": "2021-12-20T10:14:05.836Z"
   },
   {
    "duration": 3,
    "start_time": "2021-12-20T10:14:05.839Z"
   },
   {
    "duration": 1,
    "start_time": "2021-12-20T10:14:05.841Z"
   },
   {
    "duration": 1059,
    "start_time": "2021-12-20T10:32:43.391Z"
   },
   {
    "duration": 384,
    "start_time": "2021-12-20T10:32:44.452Z"
   },
   {
    "duration": 11,
    "start_time": "2021-12-20T10:32:44.838Z"
   },
   {
    "duration": 31,
    "start_time": "2021-12-20T10:32:44.851Z"
   },
   {
    "duration": 21,
    "start_time": "2021-12-20T10:32:44.883Z"
   },
   {
    "duration": 30,
    "start_time": "2021-12-20T10:32:44.905Z"
   },
   {
    "duration": 6,
    "start_time": "2021-12-20T10:32:44.936Z"
   },
   {
    "duration": 8,
    "start_time": "2021-12-20T10:32:44.943Z"
   },
   {
    "duration": 7,
    "start_time": "2021-12-20T10:32:44.953Z"
   },
   {
    "duration": 54,
    "start_time": "2021-12-20T10:32:44.962Z"
   },
   {
    "duration": 17,
    "start_time": "2021-12-20T10:32:45.018Z"
   },
   {
    "duration": 20,
    "start_time": "2021-12-20T10:32:45.037Z"
   },
   {
    "duration": 6,
    "start_time": "2021-12-20T10:32:45.058Z"
   },
   {
    "duration": 31,
    "start_time": "2021-12-20T10:32:45.065Z"
   },
   {
    "duration": 16,
    "start_time": "2021-12-20T10:32:45.098Z"
   },
   {
    "duration": 14,
    "start_time": "2021-12-20T10:32:45.115Z"
   },
   {
    "duration": 18,
    "start_time": "2021-12-20T10:32:45.130Z"
   },
   {
    "duration": 7,
    "start_time": "2021-12-20T10:32:45.149Z"
   },
   {
    "duration": 62,
    "start_time": "2021-12-20T10:32:45.158Z"
   },
   {
    "duration": 6,
    "start_time": "2021-12-20T10:32:45.222Z"
   },
   {
    "duration": 5,
    "start_time": "2021-12-20T10:32:45.229Z"
   },
   {
    "duration": 11,
    "start_time": "2021-12-20T10:32:45.236Z"
   },
   {
    "duration": 15,
    "start_time": "2021-12-20T10:32:45.248Z"
   },
   {
    "duration": 30,
    "start_time": "2021-12-20T10:32:45.264Z"
   },
   {
    "duration": 6,
    "start_time": "2021-12-20T10:32:45.295Z"
   },
   {
    "duration": 11,
    "start_time": "2021-12-20T10:32:45.302Z"
   },
   {
    "duration": 42,
    "start_time": "2021-12-20T10:32:45.316Z"
   },
   {
    "duration": 33,
    "start_time": "2021-12-20T10:32:45.360Z"
   },
   {
    "duration": 3,
    "start_time": "2021-12-20T10:32:45.395Z"
   },
   {
    "duration": 17,
    "start_time": "2021-12-20T10:32:45.400Z"
   },
   {
    "duration": 24,
    "start_time": "2021-12-20T10:32:45.419Z"
   },
   {
    "duration": 22,
    "start_time": "2021-12-20T10:32:45.444Z"
   },
   {
    "duration": 8,
    "start_time": "2021-12-20T10:32:45.467Z"
   },
   {
    "duration": 30,
    "start_time": "2021-12-20T10:32:45.477Z"
   },
   {
    "duration": 19,
    "start_time": "2021-12-20T10:32:45.509Z"
   },
   {
    "duration": 4,
    "start_time": "2021-12-20T10:32:45.529Z"
   },
   {
    "duration": 12,
    "start_time": "2021-12-20T10:32:45.535Z"
   },
   {
    "duration": 11,
    "start_time": "2021-12-20T10:32:45.549Z"
   },
   {
    "duration": 52,
    "start_time": "2021-12-20T10:32:45.562Z"
   },
   {
    "duration": 6,
    "start_time": "2021-12-20T10:32:45.616Z"
   },
   {
    "duration": 11,
    "start_time": "2021-12-20T10:32:45.624Z"
   },
   {
    "duration": 6,
    "start_time": "2021-12-20T10:32:45.637Z"
   },
   {
    "duration": 106,
    "start_time": "2021-12-20T10:32:45.644Z"
   },
   {
    "duration": 86,
    "start_time": "2021-12-20T10:32:45.752Z"
   },
   {
    "duration": 97,
    "start_time": "2021-12-20T10:32:45.840Z"
   },
   {
    "duration": 19,
    "start_time": "2021-12-20T10:32:45.939Z"
   },
   {
    "duration": 225,
    "start_time": "2021-12-20T10:32:45.960Z"
   },
   {
    "duration": 5,
    "start_time": "2021-12-20T10:32:46.187Z"
   },
   {
    "duration": 257,
    "start_time": "2021-12-20T10:32:46.193Z"
   },
   {
    "duration": 29,
    "start_time": "2021-12-20T10:32:46.452Z"
   },
   {
    "duration": 12,
    "start_time": "2021-12-20T10:35:09.459Z"
   },
   {
    "duration": 7,
    "start_time": "2021-12-20T10:36:15.590Z"
   },
   {
    "duration": 9,
    "start_time": "2021-12-20T10:37:04.557Z"
   },
   {
    "duration": 531,
    "start_time": "2021-12-20T10:37:36.643Z"
   },
   {
    "duration": 191,
    "start_time": "2021-12-20T10:37:49.198Z"
   },
   {
    "duration": 8,
    "start_time": "2021-12-20T10:37:55.965Z"
   },
   {
    "duration": 7,
    "start_time": "2021-12-20T10:38:18.018Z"
   },
   {
    "duration": 231,
    "start_time": "2021-12-20T10:43:29.873Z"
   },
   {
    "duration": 279,
    "start_time": "2021-12-20T10:48:22.950Z"
   },
   {
    "duration": 205,
    "start_time": "2021-12-20T10:49:45.257Z"
   },
   {
    "duration": 14,
    "start_time": "2021-12-20T10:49:45.464Z"
   },
   {
    "duration": 209,
    "start_time": "2021-12-20T10:52:25.658Z"
   },
   {
    "duration": 213,
    "start_time": "2021-12-20T10:52:47.838Z"
   },
   {
    "duration": 204,
    "start_time": "2021-12-20T10:53:19.802Z"
   },
   {
    "duration": 1188,
    "start_time": "2021-12-20T10:58:38.844Z"
   },
   {
    "duration": 6,
    "start_time": "2021-12-20T10:59:16.103Z"
   },
   {
    "duration": 326,
    "start_time": "2021-12-20T11:04:43.272Z"
   },
   {
    "duration": 22,
    "start_time": "2021-12-20T11:08:26.457Z"
   },
   {
    "duration": 7,
    "start_time": "2021-12-20T11:09:22.558Z"
   },
   {
    "duration": 5,
    "start_time": "2021-12-20T11:09:23.806Z"
   },
   {
    "duration": 202,
    "start_time": "2021-12-20T11:14:35.689Z"
   },
   {
    "duration": 945,
    "start_time": "2021-12-20T11:16:22.771Z"
   },
   {
    "duration": 173,
    "start_time": "2021-12-20T11:16:45.457Z"
   },
   {
    "duration": 213,
    "start_time": "2021-12-20T11:17:00.703Z"
   },
   {
    "duration": 5,
    "start_time": "2021-12-20T11:17:09.441Z"
   },
   {
    "duration": 7,
    "start_time": "2021-12-20T11:18:43.980Z"
   },
   {
    "duration": 20,
    "start_time": "2021-12-20T11:18:53.564Z"
   },
   {
    "duration": 5,
    "start_time": "2021-12-20T11:24:14.290Z"
   },
   {
    "duration": 24,
    "start_time": "2021-12-20T15:35:03.684Z"
   },
   {
    "duration": 237,
    "start_time": "2021-12-20T15:36:19.374Z"
   },
   {
    "duration": 238,
    "start_time": "2021-12-20T15:55:07.772Z"
   },
   {
    "duration": 222,
    "start_time": "2021-12-20T15:55:26.652Z"
   },
   {
    "duration": 68,
    "start_time": "2021-12-20T15:56:54.959Z"
   },
   {
    "duration": 397,
    "start_time": "2021-12-20T15:57:01.505Z"
   },
   {
    "duration": 222,
    "start_time": "2021-12-20T15:57:17.603Z"
   },
   {
    "duration": 309,
    "start_time": "2021-12-20T15:57:33.954Z"
   },
   {
    "duration": 14,
    "start_time": "2021-12-20T15:58:23.507Z"
   },
   {
    "duration": 10,
    "start_time": "2021-12-20T15:58:44.685Z"
   },
   {
    "duration": 63,
    "start_time": "2021-12-20T15:59:05.060Z"
   },
   {
    "duration": 8,
    "start_time": "2021-12-20T15:59:14.967Z"
   },
   {
    "duration": 6,
    "start_time": "2021-12-20T15:59:17.754Z"
   },
   {
    "duration": 1147,
    "start_time": "2021-12-20T16:37:06.302Z"
   },
   {
    "duration": 394,
    "start_time": "2021-12-20T16:37:07.451Z"
   },
   {
    "duration": 11,
    "start_time": "2021-12-20T16:37:07.847Z"
   },
   {
    "duration": 33,
    "start_time": "2021-12-20T16:37:07.860Z"
   },
   {
    "duration": 19,
    "start_time": "2021-12-20T16:37:07.895Z"
   },
   {
    "duration": 30,
    "start_time": "2021-12-20T16:37:07.916Z"
   },
   {
    "duration": 5,
    "start_time": "2021-12-20T16:37:07.948Z"
   },
   {
    "duration": 8,
    "start_time": "2021-12-20T16:37:07.955Z"
   },
   {
    "duration": 30,
    "start_time": "2021-12-20T16:37:07.965Z"
   },
   {
    "duration": 34,
    "start_time": "2021-12-20T16:37:07.996Z"
   },
   {
    "duration": 17,
    "start_time": "2021-12-20T16:37:08.031Z"
   },
   {
    "duration": 44,
    "start_time": "2021-12-20T16:37:08.050Z"
   },
   {
    "duration": 6,
    "start_time": "2021-12-20T16:37:08.096Z"
   },
   {
    "duration": 8,
    "start_time": "2021-12-20T16:37:08.104Z"
   },
   {
    "duration": 16,
    "start_time": "2021-12-20T16:37:08.113Z"
   },
   {
    "duration": 13,
    "start_time": "2021-12-20T16:37:08.130Z"
   },
   {
    "duration": 49,
    "start_time": "2021-12-20T16:37:08.145Z"
   },
   {
    "duration": 8,
    "start_time": "2021-12-20T16:37:08.196Z"
   },
   {
    "duration": 34,
    "start_time": "2021-12-20T16:37:08.206Z"
   },
   {
    "duration": 5,
    "start_time": "2021-12-20T16:37:08.241Z"
   },
   {
    "duration": 5,
    "start_time": "2021-12-20T16:37:08.248Z"
   },
   {
    "duration": 11,
    "start_time": "2021-12-20T16:37:08.255Z"
   },
   {
    "duration": 15,
    "start_time": "2021-12-20T16:37:08.293Z"
   },
   {
    "duration": 6,
    "start_time": "2021-12-20T16:37:08.310Z"
   },
   {
    "duration": 7,
    "start_time": "2021-12-20T16:37:08.318Z"
   },
   {
    "duration": 8,
    "start_time": "2021-12-20T16:37:08.326Z"
   },
   {
    "duration": 24,
    "start_time": "2021-12-20T16:37:08.336Z"
   },
   {
    "duration": 53,
    "start_time": "2021-12-20T16:37:08.362Z"
   },
   {
    "duration": 3,
    "start_time": "2021-12-20T16:37:08.416Z"
   },
   {
    "duration": 11,
    "start_time": "2021-12-20T16:37:08.420Z"
   },
   {
    "duration": 14,
    "start_time": "2021-12-20T16:37:08.433Z"
   },
   {
    "duration": 43,
    "start_time": "2021-12-20T16:37:08.449Z"
   },
   {
    "duration": 8,
    "start_time": "2021-12-20T16:37:08.494Z"
   },
   {
    "duration": 19,
    "start_time": "2021-12-20T16:37:08.504Z"
   },
   {
    "duration": 16,
    "start_time": "2021-12-20T16:37:08.524Z"
   },
   {
    "duration": 3,
    "start_time": "2021-12-20T16:37:08.542Z"
   },
   {
    "duration": 12,
    "start_time": "2021-12-20T16:37:08.547Z"
   },
   {
    "duration": 31,
    "start_time": "2021-12-20T16:37:08.560Z"
   },
   {
    "duration": 33,
    "start_time": "2021-12-20T16:37:08.593Z"
   },
   {
    "duration": 6,
    "start_time": "2021-12-20T16:37:08.628Z"
   },
   {
    "duration": 11,
    "start_time": "2021-12-20T16:37:08.636Z"
   },
   {
    "duration": 6,
    "start_time": "2021-12-20T16:37:08.648Z"
   },
   {
    "duration": 100,
    "start_time": "2021-12-20T16:37:08.655Z"
   },
   {
    "duration": 92,
    "start_time": "2021-12-20T16:37:08.756Z"
   },
   {
    "duration": 88,
    "start_time": "2021-12-20T16:37:08.850Z"
   },
   {
    "duration": 22,
    "start_time": "2021-12-20T16:37:08.940Z"
   },
   {
    "duration": 234,
    "start_time": "2021-12-20T16:37:08.964Z"
   },
   {
    "duration": 220,
    "start_time": "2021-12-20T16:37:09.200Z"
   },
   {
    "duration": 216,
    "start_time": "2021-12-20T16:37:09.422Z"
   },
   {
    "duration": 242,
    "start_time": "2021-12-20T16:37:09.640Z"
   },
   {
    "duration": 335,
    "start_time": "2021-12-20T16:37:09.883Z"
   },
   {
    "duration": 27,
    "start_time": "2021-12-20T16:37:10.220Z"
   },
   {
    "duration": 7,
    "start_time": "2021-12-20T16:37:10.248Z"
   },
   {
    "duration": 5,
    "start_time": "2021-12-20T16:37:10.257Z"
   },
   {
    "duration": 30,
    "start_time": "2021-12-20T16:37:10.264Z"
   },
   {
    "duration": 7,
    "start_time": "2021-12-20T16:37:10.295Z"
   },
   {
    "duration": 5,
    "start_time": "2021-12-20T16:37:10.304Z"
   },
   {
    "duration": 1376,
    "start_time": "2021-12-21T11:02:53.564Z"
   },
   {
    "duration": 509,
    "start_time": "2021-12-21T11:02:54.942Z"
   },
   {
    "duration": 16,
    "start_time": "2021-12-21T11:02:55.454Z"
   },
   {
    "duration": 60,
    "start_time": "2021-12-21T11:02:55.473Z"
   },
   {
    "duration": 46,
    "start_time": "2021-12-21T11:02:55.535Z"
   },
   {
    "duration": 55,
    "start_time": "2021-12-21T11:02:55.583Z"
   },
   {
    "duration": 15,
    "start_time": "2021-12-21T11:02:55.640Z"
   },
   {
    "duration": 54,
    "start_time": "2021-12-21T11:02:55.658Z"
   },
   {
    "duration": 24,
    "start_time": "2021-12-21T11:02:55.714Z"
   },
   {
    "duration": 88,
    "start_time": "2021-12-21T11:02:55.740Z"
   },
   {
    "duration": 26,
    "start_time": "2021-12-21T11:02:55.830Z"
   },
   {
    "duration": 43,
    "start_time": "2021-12-21T11:02:55.858Z"
   },
   {
    "duration": 9,
    "start_time": "2021-12-21T11:02:55.903Z"
   },
   {
    "duration": 11,
    "start_time": "2021-12-21T11:02:55.914Z"
   },
   {
    "duration": 19,
    "start_time": "2021-12-21T11:02:55.926Z"
   },
   {
    "duration": 20,
    "start_time": "2021-12-21T11:02:55.946Z"
   },
   {
    "duration": 22,
    "start_time": "2021-12-21T11:02:55.968Z"
   },
   {
    "duration": 8,
    "start_time": "2021-12-21T11:02:55.991Z"
   },
   {
    "duration": 34,
    "start_time": "2021-12-21T11:02:56.001Z"
   },
   {
    "duration": 7,
    "start_time": "2021-12-21T11:02:56.061Z"
   },
   {
    "duration": 12,
    "start_time": "2021-12-21T11:02:56.070Z"
   },
   {
    "duration": 22,
    "start_time": "2021-12-21T11:02:56.085Z"
   },
   {
    "duration": 34,
    "start_time": "2021-12-21T11:02:56.111Z"
   },
   {
    "duration": 18,
    "start_time": "2021-12-21T11:02:56.148Z"
   },
   {
    "duration": 22,
    "start_time": "2021-12-21T11:02:56.168Z"
   },
   {
    "duration": 21,
    "start_time": "2021-12-21T11:02:56.193Z"
   },
   {
    "duration": 35,
    "start_time": "2021-12-21T11:02:56.217Z"
   },
   {
    "duration": 37,
    "start_time": "2021-12-21T11:02:56.254Z"
   },
   {
    "duration": 3,
    "start_time": "2021-12-21T11:02:56.293Z"
   },
   {
    "duration": 19,
    "start_time": "2021-12-21T11:02:56.298Z"
   },
   {
    "duration": 18,
    "start_time": "2021-12-21T11:02:56.319Z"
   },
   {
    "duration": 41,
    "start_time": "2021-12-21T11:02:56.338Z"
   },
   {
    "duration": 9,
    "start_time": "2021-12-21T11:02:56.381Z"
   },
   {
    "duration": 28,
    "start_time": "2021-12-21T11:02:56.392Z"
   },
   {
    "duration": 22,
    "start_time": "2021-12-21T11:02:56.422Z"
   },
   {
    "duration": 18,
    "start_time": "2021-12-21T11:02:56.447Z"
   },
   {
    "duration": 24,
    "start_time": "2021-12-21T11:02:56.467Z"
   },
   {
    "duration": 13,
    "start_time": "2021-12-21T11:02:56.493Z"
   },
   {
    "duration": 42,
    "start_time": "2021-12-21T11:02:56.508Z"
   },
   {
    "duration": 11,
    "start_time": "2021-12-21T11:02:56.552Z"
   },
   {
    "duration": 15,
    "start_time": "2021-12-21T11:02:56.565Z"
   },
   {
    "duration": 5,
    "start_time": "2021-12-21T11:02:56.582Z"
   },
   {
    "duration": 105,
    "start_time": "2021-12-21T11:02:56.589Z"
   },
   {
    "duration": 136,
    "start_time": "2021-12-21T11:02:56.696Z"
   },
   {
    "duration": 125,
    "start_time": "2021-12-21T11:02:56.835Z"
   },
   {
    "duration": 26,
    "start_time": "2021-12-21T11:02:56.962Z"
   },
   {
    "duration": 287,
    "start_time": "2021-12-21T11:02:56.992Z"
   },
   {
    "duration": 251,
    "start_time": "2021-12-21T11:02:57.282Z"
   },
   {
    "duration": 261,
    "start_time": "2021-12-21T11:02:57.535Z"
   },
   {
    "duration": 328,
    "start_time": "2021-12-21T11:02:57.798Z"
   },
   {
    "duration": 599,
    "start_time": "2021-12-21T11:02:58.128Z"
   },
   {
    "duration": 28,
    "start_time": "2021-12-21T11:02:58.729Z"
   },
   {
    "duration": 9,
    "start_time": "2021-12-21T11:02:58.760Z"
   },
   {
    "duration": 17,
    "start_time": "2021-12-21T11:02:58.771Z"
   },
   {
    "duration": 10,
    "start_time": "2021-12-21T11:02:58.790Z"
   },
   {
    "duration": 23,
    "start_time": "2021-12-21T11:02:58.802Z"
   },
   {
    "duration": 23,
    "start_time": "2021-12-21T11:02:58.827Z"
   },
   {
    "duration": 39,
    "start_time": "2021-12-21T11:05:45.153Z"
   },
   {
    "duration": 6,
    "start_time": "2021-12-21T11:07:21.063Z"
   },
   {
    "duration": 374,
    "start_time": "2021-12-21T11:07:39.866Z"
   },
   {
    "duration": 314,
    "start_time": "2021-12-21T11:07:47.992Z"
   },
   {
    "duration": 7,
    "start_time": "2021-12-21T11:07:58.925Z"
   },
   {
    "duration": 6,
    "start_time": "2021-12-21T11:08:06.882Z"
   },
   {
    "duration": 38,
    "start_time": "2021-12-21T11:11:51.107Z"
   },
   {
    "duration": 46,
    "start_time": "2021-12-21T11:12:56.097Z"
   },
   {
    "duration": 287,
    "start_time": "2021-12-21T11:41:28.384Z"
   },
   {
    "duration": 244,
    "start_time": "2021-12-21T11:41:33.580Z"
   },
   {
    "duration": 260,
    "start_time": "2021-12-21T11:42:50.995Z"
   },
   {
    "duration": 1224,
    "start_time": "2021-12-21T11:52:05.486Z"
   },
   {
    "duration": 440,
    "start_time": "2021-12-21T11:52:06.712Z"
   },
   {
    "duration": 13,
    "start_time": "2021-12-21T11:52:07.155Z"
   },
   {
    "duration": 49,
    "start_time": "2021-12-21T11:52:07.171Z"
   },
   {
    "duration": 30,
    "start_time": "2021-12-21T11:52:07.222Z"
   },
   {
    "duration": 45,
    "start_time": "2021-12-21T11:52:07.260Z"
   },
   {
    "duration": 7,
    "start_time": "2021-12-21T11:52:07.307Z"
   },
   {
    "duration": 12,
    "start_time": "2021-12-21T11:52:07.318Z"
   },
   {
    "duration": 31,
    "start_time": "2021-12-21T11:52:07.333Z"
   },
   {
    "duration": 31,
    "start_time": "2021-12-21T11:52:07.366Z"
   },
   {
    "duration": 18,
    "start_time": "2021-12-21T11:52:07.399Z"
   },
   {
    "duration": 56,
    "start_time": "2021-12-21T11:52:07.419Z"
   },
   {
    "duration": 9,
    "start_time": "2021-12-21T11:52:07.477Z"
   },
   {
    "duration": 13,
    "start_time": "2021-12-21T11:52:07.488Z"
   },
   {
    "duration": 17,
    "start_time": "2021-12-21T11:52:07.503Z"
   },
   {
    "duration": 48,
    "start_time": "2021-12-21T11:52:07.522Z"
   },
   {
    "duration": 20,
    "start_time": "2021-12-21T11:52:07.571Z"
   },
   {
    "duration": 10,
    "start_time": "2021-12-21T11:52:07.592Z"
   },
   {
    "duration": 27,
    "start_time": "2021-12-21T11:52:07.604Z"
   },
   {
    "duration": 32,
    "start_time": "2021-12-21T11:52:07.633Z"
   },
   {
    "duration": 5,
    "start_time": "2021-12-21T11:52:07.667Z"
   },
   {
    "duration": 17,
    "start_time": "2021-12-21T11:52:07.674Z"
   },
   {
    "duration": 15,
    "start_time": "2021-12-21T11:52:07.695Z"
   },
   {
    "duration": 7,
    "start_time": "2021-12-21T11:52:07.713Z"
   },
   {
    "duration": 39,
    "start_time": "2021-12-21T11:52:07.722Z"
   },
   {
    "duration": 8,
    "start_time": "2021-12-21T11:52:07.763Z"
   },
   {
    "duration": 29,
    "start_time": "2021-12-21T11:52:07.773Z"
   },
   {
    "duration": 59,
    "start_time": "2021-12-21T11:52:07.803Z"
   },
   {
    "duration": 3,
    "start_time": "2021-12-21T11:52:07.865Z"
   },
   {
    "duration": 10,
    "start_time": "2021-12-21T11:52:07.870Z"
   },
   {
    "duration": 18,
    "start_time": "2021-12-21T11:52:07.882Z"
   },
   {
    "duration": 29,
    "start_time": "2021-12-21T11:52:07.902Z"
   },
   {
    "duration": 35,
    "start_time": "2021-12-21T11:52:07.934Z"
   },
   {
    "duration": 24,
    "start_time": "2021-12-21T11:52:07.971Z"
   },
   {
    "duration": 21,
    "start_time": "2021-12-21T11:52:07.998Z"
   },
   {
    "duration": 4,
    "start_time": "2021-12-21T11:52:08.022Z"
   },
   {
    "duration": 37,
    "start_time": "2021-12-21T11:52:08.029Z"
   },
   {
    "duration": 10,
    "start_time": "2021-12-21T11:52:08.068Z"
   },
   {
    "duration": 67,
    "start_time": "2021-12-21T11:52:08.080Z"
   },
   {
    "duration": 18,
    "start_time": "2021-12-21T11:52:08.149Z"
   },
   {
    "duration": 19,
    "start_time": "2021-12-21T11:52:08.168Z"
   },
   {
    "duration": 4,
    "start_time": "2021-12-21T11:52:08.190Z"
   },
   {
    "duration": 102,
    "start_time": "2021-12-21T11:52:08.196Z"
   },
   {
    "duration": 107,
    "start_time": "2021-12-21T11:52:08.300Z"
   },
   {
    "duration": 101,
    "start_time": "2021-12-21T11:52:08.409Z"
   },
   {
    "duration": 25,
    "start_time": "2021-12-21T11:52:08.512Z"
   },
   {
    "duration": 275,
    "start_time": "2021-12-21T11:52:08.539Z"
   },
   {
    "duration": 286,
    "start_time": "2021-12-21T11:52:08.816Z"
   },
   {
    "duration": 245,
    "start_time": "2021-12-21T11:52:09.104Z"
   },
   {
    "duration": 356,
    "start_time": "2021-12-21T11:52:09.351Z"
   },
   {
    "duration": 572,
    "start_time": "2021-12-21T11:52:09.709Z"
   },
   {
    "duration": 25,
    "start_time": "2021-12-21T11:52:10.283Z"
   },
   {
    "duration": 8,
    "start_time": "2021-12-21T11:52:10.310Z"
   },
   {
    "duration": 8,
    "start_time": "2021-12-21T11:52:10.320Z"
   },
   {
    "duration": 32,
    "start_time": "2021-12-21T11:52:10.329Z"
   },
   {
    "duration": 8,
    "start_time": "2021-12-21T11:52:10.363Z"
   },
   {
    "duration": 12,
    "start_time": "2021-12-21T11:52:10.373Z"
   },
   {
    "duration": 476,
    "start_time": "2021-12-21T19:15:23.615Z"
   },
   {
    "duration": 1616,
    "start_time": "2021-12-21T19:18:09.143Z"
   },
   {
    "duration": 699,
    "start_time": "2021-12-21T19:18:10.762Z"
   },
   {
    "duration": 18,
    "start_time": "2021-12-21T19:18:11.464Z"
   },
   {
    "duration": 44,
    "start_time": "2021-12-21T19:18:11.485Z"
   },
   {
    "duration": 56,
    "start_time": "2021-12-21T19:18:11.531Z"
   },
   {
    "duration": 45,
    "start_time": "2021-12-21T19:18:11.589Z"
   },
   {
    "duration": 28,
    "start_time": "2021-12-21T19:18:11.636Z"
   },
   {
    "duration": 14,
    "start_time": "2021-12-21T19:18:11.669Z"
   },
   {
    "duration": 14,
    "start_time": "2021-12-21T19:18:11.687Z"
   },
   {
    "duration": 79,
    "start_time": "2021-12-21T19:18:11.704Z"
   },
   {
    "duration": 24,
    "start_time": "2021-12-21T19:18:11.785Z"
   },
   {
    "duration": 59,
    "start_time": "2021-12-21T19:18:11.812Z"
   },
   {
    "duration": 9,
    "start_time": "2021-12-21T19:18:11.873Z"
   },
   {
    "duration": 13,
    "start_time": "2021-12-21T19:18:11.884Z"
   },
   {
    "duration": 22,
    "start_time": "2021-12-21T19:18:11.900Z"
   },
   {
    "duration": 52,
    "start_time": "2021-12-21T19:18:11.924Z"
   },
   {
    "duration": 28,
    "start_time": "2021-12-21T19:18:11.978Z"
   },
   {
    "duration": 11,
    "start_time": "2021-12-21T19:18:12.008Z"
   },
   {
    "duration": 74,
    "start_time": "2021-12-21T19:18:12.022Z"
   },
   {
    "duration": 9,
    "start_time": "2021-12-21T19:18:12.099Z"
   },
   {
    "duration": 13,
    "start_time": "2021-12-21T19:18:12.111Z"
   },
   {
    "duration": 36,
    "start_time": "2021-12-21T19:18:12.126Z"
   },
   {
    "duration": 22,
    "start_time": "2021-12-21T19:18:12.169Z"
   },
   {
    "duration": 15,
    "start_time": "2021-12-21T19:18:12.195Z"
   },
   {
    "duration": 14,
    "start_time": "2021-12-21T19:18:12.213Z"
   },
   {
    "duration": 13,
    "start_time": "2021-12-21T19:18:12.261Z"
   },
   {
    "duration": 39,
    "start_time": "2021-12-21T19:18:12.277Z"
   },
   {
    "duration": 74,
    "start_time": "2021-12-21T19:18:12.318Z"
   },
   {
    "duration": 4,
    "start_time": "2021-12-21T19:18:12.395Z"
   },
   {
    "duration": 12,
    "start_time": "2021-12-21T19:18:12.401Z"
   },
   {
    "duration": 51,
    "start_time": "2021-12-21T19:18:12.416Z"
   },
   {
    "duration": 28,
    "start_time": "2021-12-21T19:18:12.470Z"
   },
   {
    "duration": 14,
    "start_time": "2021-12-21T19:18:12.501Z"
   },
   {
    "duration": 57,
    "start_time": "2021-12-21T19:18:12.518Z"
   },
   {
    "duration": 21,
    "start_time": "2021-12-21T19:18:12.578Z"
   },
   {
    "duration": 5,
    "start_time": "2021-12-21T19:18:12.601Z"
   },
   {
    "duration": 12,
    "start_time": "2021-12-21T19:18:12.609Z"
   },
   {
    "duration": 38,
    "start_time": "2021-12-21T19:18:12.623Z"
   },
   {
    "duration": 48,
    "start_time": "2021-12-21T19:18:12.663Z"
   },
   {
    "duration": 9,
    "start_time": "2021-12-21T19:18:12.713Z"
   },
   {
    "duration": 11004,
    "start_time": "2021-12-21T19:18:12.724Z"
   },
   {
    "duration": 1578,
    "start_time": "2021-12-21T19:18:22.153Z"
   },
   {
    "duration": 1566,
    "start_time": "2021-12-21T19:18:22.166Z"
   },
   {
    "duration": 1557,
    "start_time": "2021-12-21T19:18:22.177Z"
   },
   {
    "duration": 1547,
    "start_time": "2021-12-21T19:18:22.188Z"
   },
   {
    "duration": 1536,
    "start_time": "2021-12-21T19:18:22.200Z"
   },
   {
    "duration": 1528,
    "start_time": "2021-12-21T19:18:22.210Z"
   },
   {
    "duration": 1518,
    "start_time": "2021-12-21T19:18:22.222Z"
   },
   {
    "duration": 1509,
    "start_time": "2021-12-21T19:18:22.232Z"
   },
   {
    "duration": 1484,
    "start_time": "2021-12-21T19:18:22.258Z"
   },
   {
    "duration": 1475,
    "start_time": "2021-12-21T19:18:22.269Z"
   },
   {
    "duration": 1464,
    "start_time": "2021-12-21T19:18:22.281Z"
   },
   {
    "duration": 1456,
    "start_time": "2021-12-21T19:18:22.291Z"
   },
   {
    "duration": 1446,
    "start_time": "2021-12-21T19:18:22.302Z"
   },
   {
    "duration": 1436,
    "start_time": "2021-12-21T19:18:22.313Z"
   },
   {
    "duration": 1428,
    "start_time": "2021-12-21T19:18:22.323Z"
   },
   {
    "duration": 1420,
    "start_time": "2021-12-21T19:18:22.333Z"
   },
   {
    "duration": 1576,
    "start_time": "2021-12-21T19:19:29.583Z"
   },
   {
    "duration": 557,
    "start_time": "2021-12-21T19:19:31.164Z"
   },
   {
    "duration": 16,
    "start_time": "2021-12-21T19:19:31.724Z"
   },
   {
    "duration": 42,
    "start_time": "2021-12-21T19:19:31.743Z"
   },
   {
    "duration": 27,
    "start_time": "2021-12-21T19:19:31.788Z"
   },
   {
    "duration": 65,
    "start_time": "2021-12-21T19:19:31.818Z"
   },
   {
    "duration": 7,
    "start_time": "2021-12-21T19:19:31.886Z"
   },
   {
    "duration": 12,
    "start_time": "2021-12-21T19:19:31.897Z"
   },
   {
    "duration": 13,
    "start_time": "2021-12-21T19:19:31.912Z"
   },
   {
    "duration": 41,
    "start_time": "2021-12-21T19:19:31.959Z"
   },
   {
    "duration": 26,
    "start_time": "2021-12-21T19:19:32.002Z"
   },
   {
    "duration": 62,
    "start_time": "2021-12-21T19:19:32.031Z"
   },
   {
    "duration": 8,
    "start_time": "2021-12-21T19:19:32.095Z"
   },
   {
    "duration": 13,
    "start_time": "2021-12-21T19:19:32.106Z"
   },
   {
    "duration": 56,
    "start_time": "2021-12-21T19:19:32.122Z"
   },
   {
    "duration": 22,
    "start_time": "2021-12-21T19:19:32.180Z"
   },
   {
    "duration": 70,
    "start_time": "2021-12-21T19:19:32.205Z"
   },
   {
    "duration": 13,
    "start_time": "2021-12-21T19:19:32.277Z"
   },
   {
    "duration": 67,
    "start_time": "2021-12-21T19:19:32.292Z"
   },
   {
    "duration": 9,
    "start_time": "2021-12-21T19:19:32.362Z"
   },
   {
    "duration": 7,
    "start_time": "2021-12-21T19:19:32.373Z"
   },
   {
    "duration": 33,
    "start_time": "2021-12-21T19:19:32.382Z"
   },
   {
    "duration": 44,
    "start_time": "2021-12-21T19:19:32.423Z"
   },
   {
    "duration": 9,
    "start_time": "2021-12-21T19:19:32.471Z"
   },
   {
    "duration": 10,
    "start_time": "2021-12-21T19:19:32.483Z"
   },
   {
    "duration": 13,
    "start_time": "2021-12-21T19:19:32.495Z"
   },
   {
    "duration": 75,
    "start_time": "2021-12-21T19:19:32.511Z"
   },
   {
    "duration": 44,
    "start_time": "2021-12-21T19:19:32.589Z"
   },
   {
    "duration": 4,
    "start_time": "2021-12-21T19:19:32.635Z"
   },
   {
    "duration": 34,
    "start_time": "2021-12-21T19:19:32.641Z"
   },
   {
    "duration": 27,
    "start_time": "2021-12-21T19:19:32.677Z"
   },
   {
    "duration": 26,
    "start_time": "2021-12-21T19:19:32.707Z"
   },
   {
    "duration": 28,
    "start_time": "2021-12-21T19:19:32.735Z"
   },
   {
    "duration": 26,
    "start_time": "2021-12-21T19:19:32.765Z"
   },
   {
    "duration": 21,
    "start_time": "2021-12-21T19:19:32.794Z"
   },
   {
    "duration": 5,
    "start_time": "2021-12-21T19:19:32.817Z"
   },
   {
    "duration": 61,
    "start_time": "2021-12-21T19:19:32.824Z"
   },
   {
    "duration": 13,
    "start_time": "2021-12-21T19:19:32.887Z"
   },
   {
    "duration": 59,
    "start_time": "2021-12-21T19:19:32.903Z"
   },
   {
    "duration": 11,
    "start_time": "2021-12-21T19:19:32.965Z"
   },
   {
    "duration": 8,
    "start_time": "2021-12-21T19:19:32.978Z"
   },
   {
    "duration": 7,
    "start_time": "2021-12-21T19:19:32.989Z"
   },
   {
    "duration": 299,
    "start_time": "2021-12-21T19:19:32.999Z"
   },
   {
    "duration": 154,
    "start_time": "2021-12-21T19:19:33.301Z"
   },
   {
    "duration": 145,
    "start_time": "2021-12-21T19:19:33.457Z"
   },
   {
    "duration": 29,
    "start_time": "2021-12-21T19:19:33.604Z"
   },
   {
    "duration": 435,
    "start_time": "2021-12-21T19:19:33.636Z"
   },
   {
    "duration": 363,
    "start_time": "2021-12-21T19:19:34.074Z"
   },
   {
    "duration": 341,
    "start_time": "2021-12-21T19:19:34.441Z"
   },
   {
    "duration": 395,
    "start_time": "2021-12-21T19:19:34.784Z"
   },
   {
    "duration": 949,
    "start_time": "2021-12-21T19:19:35.181Z"
   },
   {
    "duration": 38,
    "start_time": "2021-12-21T19:19:36.133Z"
   },
   {
    "duration": 9,
    "start_time": "2021-12-21T19:19:36.175Z"
   },
   {
    "duration": 10,
    "start_time": "2021-12-21T19:19:36.186Z"
   },
   {
    "duration": 9,
    "start_time": "2021-12-21T19:19:36.199Z"
   },
   {
    "duration": 14,
    "start_time": "2021-12-21T19:19:36.211Z"
   },
   {
    "duration": 11,
    "start_time": "2021-12-21T19:19:36.261Z"
   },
   {
    "duration": 404,
    "start_time": "2021-12-21T19:23:23.859Z"
   },
   {
    "duration": 377,
    "start_time": "2021-12-21T19:24:49.289Z"
   },
   {
    "duration": 448,
    "start_time": "2021-12-21T19:26:18.776Z"
   },
   {
    "duration": 5,
    "start_time": "2021-12-21T20:21:39.736Z"
   },
   {
    "duration": 1730,
    "start_time": "2021-12-21T20:30:54.163Z"
   },
   {
    "duration": 2495,
    "start_time": "2021-12-21T20:30:55.896Z"
   },
   {
    "duration": 16,
    "start_time": "2021-12-21T20:30:58.393Z"
   },
   {
    "duration": 40,
    "start_time": "2021-12-21T20:30:58.412Z"
   },
   {
    "duration": 45,
    "start_time": "2021-12-21T20:30:58.455Z"
   },
   {
    "duration": 56,
    "start_time": "2021-12-21T20:30:58.503Z"
   },
   {
    "duration": 9,
    "start_time": "2021-12-21T20:30:58.563Z"
   },
   {
    "duration": 17,
    "start_time": "2021-12-21T20:30:58.578Z"
   },
   {
    "duration": 11,
    "start_time": "2021-12-21T20:30:58.597Z"
   },
   {
    "duration": 91,
    "start_time": "2021-12-21T20:30:58.610Z"
   },
   {
    "duration": 22,
    "start_time": "2021-12-21T20:30:58.704Z"
   },
   {
    "duration": 68,
    "start_time": "2021-12-21T20:30:58.728Z"
   },
   {
    "duration": 10,
    "start_time": "2021-12-21T20:30:58.798Z"
   },
   {
    "duration": 10,
    "start_time": "2021-12-21T20:30:58.811Z"
   },
   {
    "duration": 48,
    "start_time": "2021-12-21T20:30:58.824Z"
   },
   {
    "duration": 27,
    "start_time": "2021-12-21T20:30:58.875Z"
   },
   {
    "duration": 55,
    "start_time": "2021-12-21T20:30:58.904Z"
   },
   {
    "duration": 16,
    "start_time": "2021-12-21T20:30:58.962Z"
   },
   {
    "duration": 42,
    "start_time": "2021-12-21T20:30:58.983Z"
   },
   {
    "duration": 33,
    "start_time": "2021-12-21T20:30:59.028Z"
   },
   {
    "duration": 6,
    "start_time": "2021-12-21T20:30:59.064Z"
   },
   {
    "duration": 19,
    "start_time": "2021-12-21T20:30:59.073Z"
   },
   {
    "duration": 21,
    "start_time": "2021-12-21T20:30:59.099Z"
   },
   {
    "duration": 44,
    "start_time": "2021-12-21T20:30:59.123Z"
   },
   {
    "duration": 12,
    "start_time": "2021-12-21T20:30:59.169Z"
   },
   {
    "duration": 16,
    "start_time": "2021-12-21T20:30:59.184Z"
   },
   {
    "duration": 69,
    "start_time": "2021-12-21T20:30:59.202Z"
   },
   {
    "duration": 54,
    "start_time": "2021-12-21T20:30:59.274Z"
   },
   {
    "duration": 3,
    "start_time": "2021-12-21T20:30:59.331Z"
   },
   {
    "duration": 31,
    "start_time": "2021-12-21T20:30:59.337Z"
   },
   {
    "duration": 27,
    "start_time": "2021-12-21T20:30:59.371Z"
   },
   {
    "duration": 25,
    "start_time": "2021-12-21T20:30:59.400Z"
   },
   {
    "duration": 42,
    "start_time": "2021-12-21T20:30:59.427Z"
   },
   {
    "duration": 27,
    "start_time": "2021-12-21T20:30:59.472Z"
   },
   {
    "duration": 19,
    "start_time": "2021-12-21T20:30:59.502Z"
   },
   {
    "duration": 5,
    "start_time": "2021-12-21T20:30:59.523Z"
   },
   {
    "duration": 42,
    "start_time": "2021-12-21T20:30:59.530Z"
   },
   {
    "duration": 13,
    "start_time": "2021-12-21T20:30:59.576Z"
   },
   {
    "duration": 74,
    "start_time": "2021-12-21T20:30:59.592Z"
   },
   {
    "duration": 12,
    "start_time": "2021-12-21T20:30:59.669Z"
   },
   {
    "duration": 9,
    "start_time": "2021-12-21T20:30:59.685Z"
   },
   {
    "duration": 7,
    "start_time": "2021-12-21T20:30:59.696Z"
   },
   {
    "duration": 197,
    "start_time": "2021-12-21T20:30:59.705Z"
   },
   {
    "duration": 160,
    "start_time": "2021-12-21T20:30:59.905Z"
   },
   {
    "duration": 162,
    "start_time": "2021-12-21T20:31:00.069Z"
   },
   {
    "duration": 49,
    "start_time": "2021-12-21T20:31:00.233Z"
   },
   {
    "duration": 476,
    "start_time": "2021-12-21T20:31:00.286Z"
   },
   {
    "duration": 485,
    "start_time": "2021-12-21T20:31:00.766Z"
   },
   {
    "duration": 393,
    "start_time": "2021-12-21T20:31:01.259Z"
   },
   {
    "duration": 478,
    "start_time": "2021-12-21T20:31:01.660Z"
   },
   {
    "duration": 1145,
    "start_time": "2021-12-21T20:31:02.140Z"
   },
   {
    "duration": 40,
    "start_time": "2021-12-21T20:31:03.287Z"
   },
   {
    "duration": 9,
    "start_time": "2021-12-21T20:31:03.330Z"
   },
   {
    "duration": 23,
    "start_time": "2021-12-21T20:31:03.343Z"
   },
   {
    "duration": 9,
    "start_time": "2021-12-21T20:31:03.369Z"
   },
   {
    "duration": 10,
    "start_time": "2021-12-21T20:31:03.381Z"
   },
   {
    "duration": 8,
    "start_time": "2021-12-21T20:31:03.393Z"
   },
   {
    "duration": 1483,
    "start_time": "2021-12-21T20:33:52.948Z"
   },
   {
    "duration": 534,
    "start_time": "2021-12-21T20:33:54.434Z"
   },
   {
    "duration": 16,
    "start_time": "2021-12-21T20:33:54.970Z"
   },
   {
    "duration": 45,
    "start_time": "2021-12-21T20:33:54.989Z"
   },
   {
    "duration": 39,
    "start_time": "2021-12-21T20:33:55.037Z"
   },
   {
    "duration": 43,
    "start_time": "2021-12-21T20:33:55.079Z"
   },
   {
    "duration": 7,
    "start_time": "2021-12-21T20:33:55.124Z"
   },
   {
    "duration": 12,
    "start_time": "2021-12-21T20:33:55.159Z"
   },
   {
    "duration": 12,
    "start_time": "2021-12-21T20:33:55.174Z"
   },
   {
    "duration": 73,
    "start_time": "2021-12-21T20:33:55.188Z"
   },
   {
    "duration": 22,
    "start_time": "2021-12-21T20:33:55.264Z"
   },
   {
    "duration": 33,
    "start_time": "2021-12-21T20:33:55.288Z"
   },
   {
    "duration": 35,
    "start_time": "2021-12-21T20:33:55.324Z"
   },
   {
    "duration": 11,
    "start_time": "2021-12-21T20:33:55.362Z"
   },
   {
    "duration": 23,
    "start_time": "2021-12-21T20:33:55.376Z"
   },
   {
    "duration": 20,
    "start_time": "2021-12-21T20:33:55.401Z"
   },
   {
    "duration": 61,
    "start_time": "2021-12-21T20:33:55.424Z"
   },
   {
    "duration": 12,
    "start_time": "2021-12-21T20:33:55.487Z"
   },
   {
    "duration": 68,
    "start_time": "2021-12-21T20:33:55.501Z"
   },
   {
    "duration": 9,
    "start_time": "2021-12-21T20:33:55.572Z"
   },
   {
    "duration": 6,
    "start_time": "2021-12-21T20:33:55.583Z"
   },
   {
    "duration": 16,
    "start_time": "2021-12-21T20:33:55.592Z"
   },
   {
    "duration": 54,
    "start_time": "2021-12-21T20:33:55.614Z"
   },
   {
    "duration": 8,
    "start_time": "2021-12-21T20:33:55.671Z"
   },
   {
    "duration": 12,
    "start_time": "2021-12-21T20:33:55.681Z"
   },
   {
    "duration": 10,
    "start_time": "2021-12-21T20:33:55.695Z"
   },
   {
    "duration": 66,
    "start_time": "2021-12-21T20:33:55.707Z"
   },
   {
    "duration": 44,
    "start_time": "2021-12-21T20:33:55.775Z"
   },
   {
    "duration": 4,
    "start_time": "2021-12-21T20:33:55.821Z"
   },
   {
    "duration": 38,
    "start_time": "2021-12-21T20:33:55.827Z"
   },
   {
    "duration": 21,
    "start_time": "2021-12-21T20:33:55.867Z"
   },
   {
    "duration": 25,
    "start_time": "2021-12-21T20:33:55.890Z"
   },
   {
    "duration": 10,
    "start_time": "2021-12-21T20:33:55.918Z"
   },
   {
    "duration": 50,
    "start_time": "2021-12-21T20:33:55.931Z"
   },
   {
    "duration": 26,
    "start_time": "2021-12-21T20:33:55.984Z"
   },
   {
    "duration": 7,
    "start_time": "2021-12-21T20:33:56.013Z"
   },
   {
    "duration": 46,
    "start_time": "2021-12-21T20:33:56.022Z"
   },
   {
    "duration": 13,
    "start_time": "2021-12-21T20:33:56.070Z"
   },
   {
    "duration": 77,
    "start_time": "2021-12-21T20:33:56.086Z"
   },
   {
    "duration": 11,
    "start_time": "2021-12-21T20:33:56.166Z"
   },
   {
    "duration": 6,
    "start_time": "2021-12-21T20:33:56.180Z"
   },
   {
    "duration": 6,
    "start_time": "2021-12-21T20:33:56.189Z"
   },
   {
    "duration": 158,
    "start_time": "2021-12-21T20:33:56.197Z"
   },
   {
    "duration": 147,
    "start_time": "2021-12-21T20:33:56.359Z"
   },
   {
    "duration": 146,
    "start_time": "2021-12-21T20:33:56.509Z"
   },
   {
    "duration": 31,
    "start_time": "2021-12-21T20:33:56.658Z"
   },
   {
    "duration": 440,
    "start_time": "2021-12-21T20:33:56.691Z"
   },
   {
    "duration": 393,
    "start_time": "2021-12-21T20:33:57.133Z"
   },
   {
    "duration": 400,
    "start_time": "2021-12-21T20:33:57.529Z"
   },
   {
    "duration": 431,
    "start_time": "2021-12-21T20:33:57.931Z"
   },
   {
    "duration": 820,
    "start_time": "2021-12-21T20:33:58.365Z"
   },
   {
    "duration": 33,
    "start_time": "2021-12-21T20:33:59.189Z"
   },
   {
    "duration": 10,
    "start_time": "2021-12-21T20:33:59.225Z"
   },
   {
    "duration": 30,
    "start_time": "2021-12-21T20:33:59.237Z"
   },
   {
    "duration": 11,
    "start_time": "2021-12-21T20:33:59.270Z"
   },
   {
    "duration": 8,
    "start_time": "2021-12-21T20:33:59.284Z"
   },
   {
    "duration": 12,
    "start_time": "2021-12-21T20:33:59.295Z"
   },
   {
    "duration": 1716,
    "start_time": "2021-12-21T20:37:47.919Z"
   },
   {
    "duration": 557,
    "start_time": "2021-12-21T20:37:49.638Z"
   },
   {
    "duration": 15,
    "start_time": "2021-12-21T20:37:50.198Z"
   },
   {
    "duration": 41,
    "start_time": "2021-12-21T20:37:50.216Z"
   },
   {
    "duration": 29,
    "start_time": "2021-12-21T20:37:50.259Z"
   },
   {
    "duration": 43,
    "start_time": "2021-12-21T20:37:50.291Z"
   },
   {
    "duration": 7,
    "start_time": "2021-12-21T20:37:50.360Z"
   },
   {
    "duration": 13,
    "start_time": "2021-12-21T20:37:50.371Z"
   },
   {
    "duration": 15,
    "start_time": "2021-12-21T20:37:50.387Z"
   },
   {
    "duration": 86,
    "start_time": "2021-12-21T20:37:50.405Z"
   },
   {
    "duration": 26,
    "start_time": "2021-12-21T20:37:50.494Z"
   },
   {
    "duration": 60,
    "start_time": "2021-12-21T20:37:50.523Z"
   },
   {
    "duration": 8,
    "start_time": "2021-12-21T20:37:50.586Z"
   },
   {
    "duration": 17,
    "start_time": "2021-12-21T20:37:50.597Z"
   },
   {
    "duration": 47,
    "start_time": "2021-12-21T20:37:50.617Z"
   },
   {
    "duration": 23,
    "start_time": "2021-12-21T20:37:50.666Z"
   },
   {
    "duration": 32,
    "start_time": "2021-12-21T20:37:50.691Z"
   },
   {
    "duration": 36,
    "start_time": "2021-12-21T20:37:50.726Z"
   },
   {
    "duration": 52,
    "start_time": "2021-12-21T20:37:50.764Z"
   },
   {
    "duration": 9,
    "start_time": "2021-12-21T20:37:50.819Z"
   },
   {
    "duration": 31,
    "start_time": "2021-12-21T20:37:50.831Z"
   },
   {
    "duration": 23,
    "start_time": "2021-12-21T20:37:50.865Z"
   },
   {
    "duration": 28,
    "start_time": "2021-12-21T20:37:50.898Z"
   },
   {
    "duration": 38,
    "start_time": "2021-12-21T20:37:50.929Z"
   },
   {
    "duration": 9,
    "start_time": "2021-12-21T20:37:50.970Z"
   },
   {
    "duration": 20,
    "start_time": "2021-12-21T20:37:50.982Z"
   },
   {
    "duration": 60,
    "start_time": "2021-12-21T20:37:51.004Z"
   },
   {
    "duration": 45,
    "start_time": "2021-12-21T20:37:51.067Z"
   },
   {
    "duration": 4,
    "start_time": "2021-12-21T20:37:51.115Z"
   },
   {
    "duration": 38,
    "start_time": "2021-12-21T20:37:51.121Z"
   },
   {
    "duration": 28,
    "start_time": "2021-12-21T20:37:51.162Z"
   },
   {
    "duration": 26,
    "start_time": "2021-12-21T20:37:51.192Z"
   },
   {
    "duration": 40,
    "start_time": "2021-12-21T20:37:51.221Z"
   },
   {
    "duration": 28,
    "start_time": "2021-12-21T20:37:51.263Z"
   },
   {
    "duration": 20,
    "start_time": "2021-12-21T20:37:51.294Z"
   },
   {
    "duration": 5,
    "start_time": "2021-12-21T20:37:51.316Z"
   },
   {
    "duration": 12,
    "start_time": "2021-12-21T20:37:51.359Z"
   },
   {
    "duration": 13,
    "start_time": "2021-12-21T20:37:51.374Z"
   },
   {
    "duration": 83,
    "start_time": "2021-12-21T20:37:51.389Z"
   },
   {
    "duration": 9,
    "start_time": "2021-12-21T20:37:51.474Z"
   },
   {
    "duration": 23,
    "start_time": "2021-12-21T20:37:51.486Z"
   },
   {
    "duration": 31,
    "start_time": "2021-12-21T20:37:51.512Z"
   },
   {
    "duration": 318,
    "start_time": "2021-12-21T20:37:51.547Z"
   },
   {
    "duration": 151,
    "start_time": "2021-12-21T20:37:51.869Z"
   },
   {
    "duration": 153,
    "start_time": "2021-12-21T20:37:52.023Z"
   },
   {
    "duration": 34,
    "start_time": "2021-12-21T20:37:52.178Z"
   },
   {
    "duration": 523,
    "start_time": "2021-12-21T20:37:52.215Z"
   },
   {
    "duration": 420,
    "start_time": "2021-12-21T20:37:52.741Z"
   },
   {
    "duration": 406,
    "start_time": "2021-12-21T20:37:53.164Z"
   },
   {
    "duration": 453,
    "start_time": "2021-12-21T20:37:53.573Z"
   },
   {
    "duration": 776,
    "start_time": "2021-12-21T20:37:54.029Z"
   },
   {
    "duration": 31,
    "start_time": "2021-12-21T20:37:54.808Z"
   },
   {
    "duration": 24,
    "start_time": "2021-12-21T20:37:54.843Z"
   },
   {
    "duration": 9,
    "start_time": "2021-12-21T20:37:54.870Z"
   },
   {
    "duration": 11,
    "start_time": "2021-12-21T20:37:54.881Z"
   },
   {
    "duration": 10,
    "start_time": "2021-12-21T20:37:54.894Z"
   },
   {
    "duration": 53,
    "start_time": "2021-12-21T20:37:54.907Z"
   },
   {
    "duration": 1625,
    "start_time": "2021-12-22T13:15:17.949Z"
   },
   {
    "duration": 620,
    "start_time": "2021-12-22T13:15:19.577Z"
   },
   {
    "duration": 23,
    "start_time": "2021-12-22T13:15:20.201Z"
   },
   {
    "duration": 60,
    "start_time": "2021-12-22T13:15:20.228Z"
   },
   {
    "duration": 44,
    "start_time": "2021-12-22T13:15:20.291Z"
   },
   {
    "duration": 92,
    "start_time": "2021-12-22T13:15:20.339Z"
   },
   {
    "duration": 17,
    "start_time": "2021-12-22T13:15:20.435Z"
   },
   {
    "duration": 24,
    "start_time": "2021-12-22T13:15:20.457Z"
   },
   {
    "duration": 17,
    "start_time": "2021-12-22T13:15:20.484Z"
   },
   {
    "duration": 71,
    "start_time": "2021-12-22T13:15:20.504Z"
   },
   {
    "duration": 40,
    "start_time": "2021-12-22T13:15:20.578Z"
   },
   {
    "duration": 72,
    "start_time": "2021-12-22T13:15:20.622Z"
   },
   {
    "duration": 12,
    "start_time": "2021-12-22T13:15:20.696Z"
   },
   {
    "duration": 15,
    "start_time": "2021-12-22T13:15:20.711Z"
   },
   {
    "duration": 47,
    "start_time": "2021-12-22T13:15:20.729Z"
   },
   {
    "duration": 21,
    "start_time": "2021-12-22T13:15:20.778Z"
   },
   {
    "duration": 30,
    "start_time": "2021-12-22T13:15:20.802Z"
   },
   {
    "duration": 39,
    "start_time": "2021-12-22T13:15:20.835Z"
   },
   {
    "duration": 46,
    "start_time": "2021-12-22T13:15:20.876Z"
   },
   {
    "duration": 9,
    "start_time": "2021-12-22T13:15:20.924Z"
   },
   {
    "duration": 7,
    "start_time": "2021-12-22T13:15:20.936Z"
   },
   {
    "duration": 21,
    "start_time": "2021-12-22T13:15:20.969Z"
   },
   {
    "duration": 32,
    "start_time": "2021-12-22T13:15:20.997Z"
   },
   {
    "duration": 41,
    "start_time": "2021-12-22T13:15:21.032Z"
   },
   {
    "duration": 12,
    "start_time": "2021-12-22T13:15:21.076Z"
   },
   {
    "duration": 17,
    "start_time": "2021-12-22T13:15:21.092Z"
   },
   {
    "duration": 74,
    "start_time": "2021-12-22T13:15:21.111Z"
   },
   {
    "duration": 64,
    "start_time": "2021-12-22T13:15:21.188Z"
   },
   {
    "duration": 5,
    "start_time": "2021-12-22T13:15:21.268Z"
   },
   {
    "duration": 16,
    "start_time": "2021-12-22T13:15:21.276Z"
   },
   {
    "duration": 26,
    "start_time": "2021-12-22T13:15:21.294Z"
   },
   {
    "duration": 82,
    "start_time": "2021-12-22T13:15:21.324Z"
   },
   {
    "duration": 16,
    "start_time": "2021-12-22T13:15:21.409Z"
   },
   {
    "duration": 43,
    "start_time": "2021-12-22T13:15:21.428Z"
   },
   {
    "duration": 22,
    "start_time": "2021-12-22T13:15:21.474Z"
   },
   {
    "duration": 5,
    "start_time": "2021-12-22T13:15:21.499Z"
   },
   {
    "duration": 12,
    "start_time": "2021-12-22T13:15:21.506Z"
   },
   {
    "duration": 14,
    "start_time": "2021-12-22T13:15:21.521Z"
   },
   {
    "duration": 52,
    "start_time": "2021-12-22T13:15:21.568Z"
   },
   {
    "duration": 13,
    "start_time": "2021-12-22T13:15:21.623Z"
   },
   {
    "duration": 7,
    "start_time": "2021-12-22T13:15:21.668Z"
   },
   {
    "duration": 9,
    "start_time": "2021-12-22T13:15:21.678Z"
   },
   {
    "duration": 160,
    "start_time": "2021-12-22T13:15:21.690Z"
   },
   {
    "duration": 151,
    "start_time": "2021-12-22T13:15:21.852Z"
   },
   {
    "duration": 167,
    "start_time": "2021-12-22T13:15:22.005Z"
   },
   {
    "duration": 36,
    "start_time": "2021-12-22T13:15:22.175Z"
   },
   {
    "duration": 540,
    "start_time": "2021-12-22T13:15:22.214Z"
   },
   {
    "duration": 421,
    "start_time": "2021-12-22T13:15:22.768Z"
   },
   {
    "duration": 622,
    "start_time": "2021-12-22T13:15:23.192Z"
   },
   {
    "duration": 710,
    "start_time": "2021-12-22T13:15:23.824Z"
   },
   {
    "duration": 806,
    "start_time": "2021-12-22T13:15:24.537Z"
   },
   {
    "duration": 50,
    "start_time": "2021-12-22T13:15:25.346Z"
   },
   {
    "duration": 11,
    "start_time": "2021-12-22T13:15:25.399Z"
   },
   {
    "duration": 9,
    "start_time": "2021-12-22T13:15:25.413Z"
   },
   {
    "duration": 10,
    "start_time": "2021-12-22T13:15:25.425Z"
   },
   {
    "duration": 10,
    "start_time": "2021-12-22T13:15:25.467Z"
   },
   {
    "duration": 8,
    "start_time": "2021-12-22T13:15:25.480Z"
   },
   {
    "duration": 1685,
    "start_time": "2021-12-22T13:37:41.886Z"
   },
   {
    "duration": 1415,
    "start_time": "2021-12-22T13:37:43.574Z"
   },
   {
    "duration": 26,
    "start_time": "2021-12-22T13:37:44.992Z"
   },
   {
    "duration": 54,
    "start_time": "2021-12-22T13:37:45.021Z"
   },
   {
    "duration": 31,
    "start_time": "2021-12-22T13:37:45.079Z"
   },
   {
    "duration": 70,
    "start_time": "2021-12-22T13:37:45.112Z"
   },
   {
    "duration": 9,
    "start_time": "2021-12-22T13:37:45.185Z"
   },
   {
    "duration": 13,
    "start_time": "2021-12-22T13:37:45.199Z"
   },
   {
    "duration": 13,
    "start_time": "2021-12-22T13:37:45.216Z"
   },
   {
    "duration": 43,
    "start_time": "2021-12-22T13:37:45.268Z"
   },
   {
    "duration": 23,
    "start_time": "2021-12-22T13:37:45.313Z"
   },
   {
    "duration": 62,
    "start_time": "2021-12-22T13:37:45.338Z"
   },
   {
    "duration": 10,
    "start_time": "2021-12-22T13:37:45.402Z"
   },
   {
    "duration": 51,
    "start_time": "2021-12-22T13:37:45.415Z"
   },
   {
    "duration": 20,
    "start_time": "2021-12-22T13:37:45.469Z"
   },
   {
    "duration": 20,
    "start_time": "2021-12-22T13:37:45.492Z"
   },
   {
    "duration": 61,
    "start_time": "2021-12-22T13:37:45.514Z"
   },
   {
    "duration": 12,
    "start_time": "2021-12-22T13:37:45.577Z"
   },
   {
    "duration": 57,
    "start_time": "2021-12-22T13:37:45.592Z"
   },
   {
    "duration": 12,
    "start_time": "2021-12-22T13:37:45.670Z"
   },
   {
    "duration": 8,
    "start_time": "2021-12-22T13:37:45.684Z"
   },
   {
    "duration": 19,
    "start_time": "2021-12-22T13:37:45.694Z"
   },
   {
    "duration": 55,
    "start_time": "2021-12-22T13:37:45.722Z"
   },
   {
    "duration": 10,
    "start_time": "2021-12-22T13:37:45.782Z"
   },
   {
    "duration": 18,
    "start_time": "2021-12-22T13:37:45.795Z"
   },
   {
    "duration": 20,
    "start_time": "2021-12-22T13:37:45.815Z"
   },
   {
    "duration": 57,
    "start_time": "2021-12-22T13:37:45.837Z"
   },
   {
    "duration": 48,
    "start_time": "2021-12-22T13:37:45.896Z"
   },
   {
    "duration": 4,
    "start_time": "2021-12-22T13:37:45.947Z"
   },
   {
    "duration": 24,
    "start_time": "2021-12-22T13:37:45.953Z"
   },
   {
    "duration": 24,
    "start_time": "2021-12-22T13:37:45.980Z"
   },
   {
    "duration": 29,
    "start_time": "2021-12-22T13:37:46.007Z"
   },
   {
    "duration": 14,
    "start_time": "2021-12-22T13:37:46.067Z"
   },
   {
    "duration": 31,
    "start_time": "2021-12-22T13:37:46.084Z"
   },
   {
    "duration": 54,
    "start_time": "2021-12-22T13:37:46.117Z"
   },
   {
    "duration": 10,
    "start_time": "2021-12-22T13:37:46.174Z"
   },
   {
    "duration": 16,
    "start_time": "2021-12-22T13:37:46.187Z"
   },
   {
    "duration": 13,
    "start_time": "2021-12-22T13:37:46.206Z"
   },
   {
    "duration": 85,
    "start_time": "2021-12-22T13:37:46.224Z"
   },
   {
    "duration": 9,
    "start_time": "2021-12-22T13:37:46.311Z"
   },
   {
    "duration": 7,
    "start_time": "2021-12-22T13:37:46.323Z"
   },
   {
    "duration": 34,
    "start_time": "2021-12-22T13:37:46.333Z"
   },
   {
    "duration": 146,
    "start_time": "2021-12-22T13:37:46.369Z"
   },
   {
    "duration": 139,
    "start_time": "2021-12-22T13:37:46.518Z"
   },
   {
    "duration": 150,
    "start_time": "2021-12-22T13:37:46.659Z"
   },
   {
    "duration": 30,
    "start_time": "2021-12-22T13:37:46.812Z"
   },
   {
    "duration": 448,
    "start_time": "2021-12-22T13:37:46.844Z"
   },
   {
    "duration": 441,
    "start_time": "2021-12-22T13:37:47.294Z"
   },
   {
    "duration": 418,
    "start_time": "2021-12-22T13:37:47.737Z"
   },
   {
    "duration": 461,
    "start_time": "2021-12-22T13:37:48.157Z"
   },
   {
    "duration": 961,
    "start_time": "2021-12-22T13:37:48.621Z"
   },
   {
    "duration": 71,
    "start_time": "2021-12-22T13:37:49.584Z"
   },
   {
    "duration": 10,
    "start_time": "2021-12-22T13:37:49.658Z"
   },
   {
    "duration": 14,
    "start_time": "2021-12-22T13:37:49.671Z"
   },
   {
    "duration": 10,
    "start_time": "2021-12-22T13:37:49.688Z"
   },
   {
    "duration": 15,
    "start_time": "2021-12-22T13:37:49.701Z"
   },
   {
    "duration": 13,
    "start_time": "2021-12-22T13:37:49.718Z"
   }
  ],
  "kernelspec": {
   "display_name": "Python 3",
   "language": "python",
   "name": "python3"
  },
  "language_info": {
   "codemirror_mode": {
    "name": "ipython",
    "version": 3
   },
   "file_extension": ".py",
   "mimetype": "text/x-python",
   "name": "python",
   "nbconvert_exporter": "python",
   "pygments_lexer": "ipython3",
   "version": "3.8.8"
  },
  "toc": {
   "base_numbering": 1,
   "nav_menu": {},
   "number_sections": true,
   "sideBar": true,
   "skip_h1_title": true,
   "title_cell": "Table of Contents",
   "title_sidebar": "Contents",
   "toc_cell": false,
   "toc_position": {},
   "toc_section_display": true,
   "toc_window_display": false
  }
 },
 "nbformat": 4,
 "nbformat_minor": 2
}
