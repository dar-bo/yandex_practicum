{
 "cells": [
  {
   "cell_type": "markdown",
   "metadata": {
    "toc": true
   },
   "source": [
    "<h1>Содержание<span class=\"tocSkip\"></span></h1>\n",
    "<div class=\"toc\"><ul class=\"toc-item\"><li><span><a href=\"#Подготовка-данных\" data-toc-modified-id=\"Подготовка-данных-1\"><span class=\"toc-item-num\">1&nbsp;&nbsp;</span>Подготовка данных</a></span></li><li><span><a href=\"#Исследование-задачи\" data-toc-modified-id=\"Исследование-задачи-2\"><span class=\"toc-item-num\">2&nbsp;&nbsp;</span>Исследование задачи</a></span><ul class=\"toc-item\"><li><span><a href=\"#Проверка-на-сбалансированность-данных\" data-toc-modified-id=\"Проверка-на-сбалансированность-данных-2.1\"><span class=\"toc-item-num\">2.1&nbsp;&nbsp;</span>Проверка на сбалансированность данных</a></span></li><li><span><a href=\"#Построение-моделей-на-несбалансированных-данных\" data-toc-modified-id=\"Построение-моделей-на-несбалансированных-данных-2.2\"><span class=\"toc-item-num\">2.2&nbsp;&nbsp;</span>Построение моделей на несбалансированных данных</a></span><ul class=\"toc-item\"><li><span><a href=\"#Логистическая-регрессия\" data-toc-modified-id=\"Логистическая-регрессия-2.2.1\"><span class=\"toc-item-num\">2.2.1&nbsp;&nbsp;</span>Логистическая регрессия</a></span></li><li><span><a href=\"#Модель-случайного-леса-с-подбором-параметров\" data-toc-modified-id=\"Модель-случайного-леса-с-подбором-параметров-2.2.2\"><span class=\"toc-item-num\">2.2.2&nbsp;&nbsp;</span>Модель случайного леса с подбором параметров</a></span></li></ul></li></ul></li><li><span><a href=\"#Борьба-с-дисбалансом\" data-toc-modified-id=\"Борьба-с-дисбалансом-3\"><span class=\"toc-item-num\">3&nbsp;&nbsp;</span>Борьба с дисбалансом</a></span><ul class=\"toc-item\"><li><span><a href=\"#Изменение-порога\" data-toc-modified-id=\"Изменение-порога-3.1\"><span class=\"toc-item-num\">3.1&nbsp;&nbsp;</span>Изменение порога</a></span><ul class=\"toc-item\"><li><span><a href=\"#Логистическая-регрессия\" data-toc-modified-id=\"Логистическая-регрессия-3.1.1\"><span class=\"toc-item-num\">3.1.1&nbsp;&nbsp;</span>Логистическая регрессия</a></span></li><li><span><a href=\"#Модель-случайного-леса-с-подбором-параметров\" data-toc-modified-id=\"Модель-случайного-леса-с-подбором-параметров-3.1.2\"><span class=\"toc-item-num\">3.1.2&nbsp;&nbsp;</span>Модель случайного леса с подбором параметров</a></span></li></ul></li><li><span><a href=\"#Балансировка-весов-класса\" data-toc-modified-id=\"Балансировка-весов-класса-3.2\"><span class=\"toc-item-num\">3.2&nbsp;&nbsp;</span>Балансировка весов класса</a></span><ul class=\"toc-item\"><li><span><a href=\"#Логистическая-регрессия\" data-toc-modified-id=\"Логистическая-регрессия-3.2.1\"><span class=\"toc-item-num\">3.2.1&nbsp;&nbsp;</span>Логистическая регрессия</a></span></li><li><span><a href=\"#Случайный-лес-с-подбором-гиперпараметров\" data-toc-modified-id=\"Случайный-лес-с-подбором-гиперпараметров-3.2.2\"><span class=\"toc-item-num\">3.2.2&nbsp;&nbsp;</span>Случайный лес с подбором гиперпараметров</a></span></li></ul></li><li><span><a href=\"#Увеличение-выборки\" data-toc-modified-id=\"Увеличение-выборки-3.3\"><span class=\"toc-item-num\">3.3&nbsp;&nbsp;</span>Увеличение выборки</a></span><ul class=\"toc-item\"><li><span><a href=\"#Логистическая-регрессия\" data-toc-modified-id=\"Логистическая-регрессия-3.3.1\"><span class=\"toc-item-num\">3.3.1&nbsp;&nbsp;</span>Логистическая регрессия</a></span></li><li><span><a href=\"#Случайный-лес-с-подбором-гиперпараметров\" data-toc-modified-id=\"Случайный-лес-с-подбором-гиперпараметров-3.3.2\"><span class=\"toc-item-num\">3.3.2&nbsp;&nbsp;</span>Случайный лес с подбором гиперпараметров</a></span></li></ul></li><li><span><a href=\"#Уменьшение-выборки\" data-toc-modified-id=\"Уменьшение-выборки-3.4\"><span class=\"toc-item-num\">3.4&nbsp;&nbsp;</span>Уменьшение выборки</a></span><ul class=\"toc-item\"><li><span><a href=\"#Логистическая-регрессия\" data-toc-modified-id=\"Логистическая-регрессия-3.4.1\"><span class=\"toc-item-num\">3.4.1&nbsp;&nbsp;</span>Логистическая регрессия</a></span></li><li><span><a href=\"#Случайный-лес-с-подбором-гиперпараметров\" data-toc-modified-id=\"Случайный-лес-с-подбором-гиперпараметров-3.4.2\"><span class=\"toc-item-num\">3.4.2&nbsp;&nbsp;</span>Случайный лес с подбором гиперпараметров</a></span></li></ul></li></ul></li><li><span><a href=\"#Тестирование-модели\" data-toc-modified-id=\"Тестирование-модели-4\"><span class=\"toc-item-num\">4&nbsp;&nbsp;</span>Тестирование модели</a></span><ul class=\"toc-item\"><li><span><a href=\"#Изменение-порога\" data-toc-modified-id=\"Изменение-порога-4.1\"><span class=\"toc-item-num\">4.1&nbsp;&nbsp;</span>Изменение порога</a></span></li><li><span><a href=\"#Балансировка-весов\" data-toc-modified-id=\"Балансировка-весов-4.2\"><span class=\"toc-item-num\">4.2&nbsp;&nbsp;</span>Балансировка весов</a></span></li><li><span><a href=\"#Увеличение-выборки\" data-toc-modified-id=\"Увеличение-выборки-4.3\"><span class=\"toc-item-num\">4.3&nbsp;&nbsp;</span>Увеличение выборки</a></span></li><li><span><a href=\"#Уменьшение-выборки\" data-toc-modified-id=\"Уменьшение-выборки-4.4\"><span class=\"toc-item-num\">4.4&nbsp;&nbsp;</span>Уменьшение выборки</a></span></li></ul></li><li><span><a href=\"#ВЫВОДЫ:\" data-toc-modified-id=\"ВЫВОДЫ:-5\"><span class=\"toc-item-num\">5&nbsp;&nbsp;</span>ВЫВОДЫ:</a></span></li><li><span><a href=\"#Чек-лист-готовности-проекта\" data-toc-modified-id=\"Чек-лист-готовности-проекта-6\"><span class=\"toc-item-num\">6&nbsp;&nbsp;</span>Чек-лист готовности проекта</a></span></li></ul></div>"
   ]
  },
  {
   "cell_type": "markdown",
   "metadata": {},
   "source": [
    "# Отток клиентов"
   ]
  },
  {
   "cell_type": "markdown",
   "metadata": {},
   "source": [
    "## Подготовка данных"
   ]
  },
  {
   "cell_type": "code",
   "execution_count": 1,
   "metadata": {},
   "outputs": [],
   "source": [
    "import pandas as pd\n",
    "from sklearn.model_selection import train_test_split\n",
    "from sklearn.linear_model import LinearRegression, LogisticRegression\n",
    "from sklearn.tree import DecisionTreeRegressor\n",
    "from sklearn.ensemble import RandomForestRegressor, RandomForestClassifier\n",
    "from sklearn.preprocessing import OrdinalEncoder, StandardScaler\n",
    "from sklearn.metrics import mean_squared_error, recall_score, precision_score, f1_score, roc_auc_score\n",
    "import numpy as np\n",
    "from sklearn.utils import shuffle\n",
    "from sklearn.model_selection import GridSearchCV\n",
    "from sklearn.model_selection import RandomizedSearchCV\n"
   ]
  },
  {
   "cell_type": "code",
   "execution_count": 2,
   "metadata": {},
   "outputs": [],
   "source": [
    "df = pd.read_csv('/datasets/Churn.csv')"
   ]
  },
  {
   "cell_type": "code",
   "execution_count": 3,
   "metadata": {},
   "outputs": [
    {
     "name": "stdout",
     "output_type": "stream",
     "text": [
      "<class 'pandas.core.frame.DataFrame'>\n",
      "RangeIndex: 10000 entries, 0 to 9999\n",
      "Data columns (total 14 columns):\n",
      "RowNumber          10000 non-null int64\n",
      "CustomerId         10000 non-null int64\n",
      "Surname            10000 non-null object\n",
      "CreditScore        10000 non-null int64\n",
      "Geography          10000 non-null object\n",
      "Gender             10000 non-null object\n",
      "Age                10000 non-null int64\n",
      "Tenure             9091 non-null float64\n",
      "Balance            10000 non-null float64\n",
      "NumOfProducts      10000 non-null int64\n",
      "HasCrCard          10000 non-null int64\n",
      "IsActiveMember     10000 non-null int64\n",
      "EstimatedSalary    10000 non-null float64\n",
      "Exited             10000 non-null int64\n",
      "dtypes: float64(3), int64(8), object(3)\n",
      "memory usage: 1.1+ MB\n"
     ]
    }
   ],
   "source": [
    "df.info()"
   ]
  },
  {
   "cell_type": "markdown",
   "metadata": {},
   "source": [
    "В датасете присутствуют столбцы с типом object. Это необходимо исправить."
   ]
  },
  {
   "cell_type": "code",
   "execution_count": 4,
   "metadata": {
    "scrolled": true
   },
   "outputs": [
    {
     "data": {
      "text/html": [
       "<div>\n",
       "<style scoped>\n",
       "    .dataframe tbody tr th:only-of-type {\n",
       "        vertical-align: middle;\n",
       "    }\n",
       "\n",
       "    .dataframe tbody tr th {\n",
       "        vertical-align: top;\n",
       "    }\n",
       "\n",
       "    .dataframe thead th {\n",
       "        text-align: right;\n",
       "    }\n",
       "</style>\n",
       "<table border=\"1\" class=\"dataframe\">\n",
       "  <thead>\n",
       "    <tr style=\"text-align: right;\">\n",
       "      <th></th>\n",
       "      <th>RowNumber</th>\n",
       "      <th>CustomerId</th>\n",
       "      <th>Surname</th>\n",
       "      <th>CreditScore</th>\n",
       "      <th>Geography</th>\n",
       "      <th>Gender</th>\n",
       "      <th>Age</th>\n",
       "      <th>Tenure</th>\n",
       "      <th>Balance</th>\n",
       "      <th>NumOfProducts</th>\n",
       "      <th>HasCrCard</th>\n",
       "      <th>IsActiveMember</th>\n",
       "      <th>EstimatedSalary</th>\n",
       "      <th>Exited</th>\n",
       "    </tr>\n",
       "  </thead>\n",
       "  <tbody>\n",
       "    <tr>\n",
       "      <td>0</td>\n",
       "      <td>1</td>\n",
       "      <td>15634602</td>\n",
       "      <td>Hargrave</td>\n",
       "      <td>619</td>\n",
       "      <td>France</td>\n",
       "      <td>Female</td>\n",
       "      <td>42</td>\n",
       "      <td>2.0</td>\n",
       "      <td>0.00</td>\n",
       "      <td>1</td>\n",
       "      <td>1</td>\n",
       "      <td>1</td>\n",
       "      <td>101348.88</td>\n",
       "      <td>1</td>\n",
       "    </tr>\n",
       "    <tr>\n",
       "      <td>1</td>\n",
       "      <td>2</td>\n",
       "      <td>15647311</td>\n",
       "      <td>Hill</td>\n",
       "      <td>608</td>\n",
       "      <td>Spain</td>\n",
       "      <td>Female</td>\n",
       "      <td>41</td>\n",
       "      <td>1.0</td>\n",
       "      <td>83807.86</td>\n",
       "      <td>1</td>\n",
       "      <td>0</td>\n",
       "      <td>1</td>\n",
       "      <td>112542.58</td>\n",
       "      <td>0</td>\n",
       "    </tr>\n",
       "    <tr>\n",
       "      <td>2</td>\n",
       "      <td>3</td>\n",
       "      <td>15619304</td>\n",
       "      <td>Onio</td>\n",
       "      <td>502</td>\n",
       "      <td>France</td>\n",
       "      <td>Female</td>\n",
       "      <td>42</td>\n",
       "      <td>8.0</td>\n",
       "      <td>159660.80</td>\n",
       "      <td>3</td>\n",
       "      <td>1</td>\n",
       "      <td>0</td>\n",
       "      <td>113931.57</td>\n",
       "      <td>1</td>\n",
       "    </tr>\n",
       "    <tr>\n",
       "      <td>3</td>\n",
       "      <td>4</td>\n",
       "      <td>15701354</td>\n",
       "      <td>Boni</td>\n",
       "      <td>699</td>\n",
       "      <td>France</td>\n",
       "      <td>Female</td>\n",
       "      <td>39</td>\n",
       "      <td>1.0</td>\n",
       "      <td>0.00</td>\n",
       "      <td>2</td>\n",
       "      <td>0</td>\n",
       "      <td>0</td>\n",
       "      <td>93826.63</td>\n",
       "      <td>0</td>\n",
       "    </tr>\n",
       "    <tr>\n",
       "      <td>4</td>\n",
       "      <td>5</td>\n",
       "      <td>15737888</td>\n",
       "      <td>Mitchell</td>\n",
       "      <td>850</td>\n",
       "      <td>Spain</td>\n",
       "      <td>Female</td>\n",
       "      <td>43</td>\n",
       "      <td>2.0</td>\n",
       "      <td>125510.82</td>\n",
       "      <td>1</td>\n",
       "      <td>1</td>\n",
       "      <td>1</td>\n",
       "      <td>79084.10</td>\n",
       "      <td>0</td>\n",
       "    </tr>\n",
       "  </tbody>\n",
       "</table>\n",
       "</div>"
      ],
      "text/plain": [
       "   RowNumber  CustomerId   Surname  CreditScore Geography  Gender  Age  \\\n",
       "0          1    15634602  Hargrave          619    France  Female   42   \n",
       "1          2    15647311      Hill          608     Spain  Female   41   \n",
       "2          3    15619304      Onio          502    France  Female   42   \n",
       "3          4    15701354      Boni          699    France  Female   39   \n",
       "4          5    15737888  Mitchell          850     Spain  Female   43   \n",
       "\n",
       "   Tenure    Balance  NumOfProducts  HasCrCard  IsActiveMember  \\\n",
       "0     2.0       0.00              1          1               1   \n",
       "1     1.0   83807.86              1          0               1   \n",
       "2     8.0  159660.80              3          1               0   \n",
       "3     1.0       0.00              2          0               0   \n",
       "4     2.0  125510.82              1          1               1   \n",
       "\n",
       "   EstimatedSalary  Exited  \n",
       "0        101348.88       1  \n",
       "1        112542.58       0  \n",
       "2        113931.57       1  \n",
       "3         93826.63       0  \n",
       "4         79084.10       0  "
      ]
     },
     "execution_count": 4,
     "metadata": {},
     "output_type": "execute_result"
    }
   ],
   "source": [
    "df.head()"
   ]
  },
  {
   "cell_type": "code",
   "execution_count": 5,
   "metadata": {},
   "outputs": [],
   "source": [
    "# наверное, было необязательно переименовывать название колонок\n",
    "df = df.rename(columns={'RowNumber': 'row_number', 'CustomerId': 'customer_id', 'CreditScore':'credit_score', \n",
    "                        'NumOfProducts': 'bank_products', 'HasCrCard': 'credit_card', \n",
    "                        'IsActiveMember': 'active_member', 'EstimatedSalary': 'estimated_salary'})"
   ]
  },
  {
   "cell_type": "code",
   "execution_count": 6,
   "metadata": {},
   "outputs": [],
   "source": [
    "# приводим все названия к нижнему регистру\n",
    "df = df.rename(columns=str.lower)"
   ]
  },
  {
   "cell_type": "code",
   "execution_count": 7,
   "metadata": {},
   "outputs": [
    {
     "data": {
      "text/plain": [
       "row_number            0\n",
       "customer_id           0\n",
       "surname               0\n",
       "credit_score          0\n",
       "geography             0\n",
       "gender                0\n",
       "age                   0\n",
       "tenure              909\n",
       "balance               0\n",
       "bank_products         0\n",
       "credit_card           0\n",
       "active_member         0\n",
       "estimated_salary      0\n",
       "exited                0\n",
       "dtype: int64"
      ]
     },
     "execution_count": 7,
     "metadata": {},
     "output_type": "execute_result"
    }
   ],
   "source": [
    "df.isna().sum()"
   ]
  },
  {
   "cell_type": "code",
   "execution_count": 8,
   "metadata": {},
   "outputs": [],
   "source": [
    "df['tenure'] = df['tenure'].fillna(0)"
   ]
  },
  {
   "cell_type": "markdown",
   "metadata": {},
   "source": [
    "В данных обнаружились пропуски. Так как пропусков более 10%, удалить не получится, поэтому заменяем их нулями"
   ]
  },
  {
   "cell_type": "code",
   "execution_count": 9,
   "metadata": {},
   "outputs": [],
   "source": [
    "# удаляем ненужные колонки со значениями, которые невозможно привести в численный вид\n",
    "df = df.drop(['surname', 'customer_id'], axis=1)"
   ]
  },
  {
   "cell_type": "code",
   "execution_count": 10,
   "metadata": {},
   "outputs": [],
   "source": [
    "# приводим категориальные признаки в численный вид методом ОНЕ, подходящим для целей классификации\n",
    "df_ohe = pd.get_dummies(df, drop_first=True)\n"
   ]
  },
  {
   "cell_type": "code",
   "execution_count": 11,
   "metadata": {},
   "outputs": [
    {
     "data": {
      "text/html": [
       "<div>\n",
       "<style scoped>\n",
       "    .dataframe tbody tr th:only-of-type {\n",
       "        vertical-align: middle;\n",
       "    }\n",
       "\n",
       "    .dataframe tbody tr th {\n",
       "        vertical-align: top;\n",
       "    }\n",
       "\n",
       "    .dataframe thead th {\n",
       "        text-align: right;\n",
       "    }\n",
       "</style>\n",
       "<table border=\"1\" class=\"dataframe\">\n",
       "  <thead>\n",
       "    <tr style=\"text-align: right;\">\n",
       "      <th></th>\n",
       "      <th>row_number</th>\n",
       "      <th>credit_score</th>\n",
       "      <th>age</th>\n",
       "      <th>tenure</th>\n",
       "      <th>balance</th>\n",
       "      <th>bank_products</th>\n",
       "      <th>credit_card</th>\n",
       "      <th>active_member</th>\n",
       "      <th>estimated_salary</th>\n",
       "      <th>exited</th>\n",
       "      <th>geography_Germany</th>\n",
       "      <th>geography_Spain</th>\n",
       "      <th>gender_Male</th>\n",
       "    </tr>\n",
       "  </thead>\n",
       "  <tbody>\n",
       "    <tr>\n",
       "      <td>0</td>\n",
       "      <td>1</td>\n",
       "      <td>619</td>\n",
       "      <td>42</td>\n",
       "      <td>2.0</td>\n",
       "      <td>0.00</td>\n",
       "      <td>1</td>\n",
       "      <td>1</td>\n",
       "      <td>1</td>\n",
       "      <td>101348.88</td>\n",
       "      <td>1</td>\n",
       "      <td>0</td>\n",
       "      <td>0</td>\n",
       "      <td>0</td>\n",
       "    </tr>\n",
       "    <tr>\n",
       "      <td>1</td>\n",
       "      <td>2</td>\n",
       "      <td>608</td>\n",
       "      <td>41</td>\n",
       "      <td>1.0</td>\n",
       "      <td>83807.86</td>\n",
       "      <td>1</td>\n",
       "      <td>0</td>\n",
       "      <td>1</td>\n",
       "      <td>112542.58</td>\n",
       "      <td>0</td>\n",
       "      <td>0</td>\n",
       "      <td>1</td>\n",
       "      <td>0</td>\n",
       "    </tr>\n",
       "    <tr>\n",
       "      <td>2</td>\n",
       "      <td>3</td>\n",
       "      <td>502</td>\n",
       "      <td>42</td>\n",
       "      <td>8.0</td>\n",
       "      <td>159660.80</td>\n",
       "      <td>3</td>\n",
       "      <td>1</td>\n",
       "      <td>0</td>\n",
       "      <td>113931.57</td>\n",
       "      <td>1</td>\n",
       "      <td>0</td>\n",
       "      <td>0</td>\n",
       "      <td>0</td>\n",
       "    </tr>\n",
       "    <tr>\n",
       "      <td>3</td>\n",
       "      <td>4</td>\n",
       "      <td>699</td>\n",
       "      <td>39</td>\n",
       "      <td>1.0</td>\n",
       "      <td>0.00</td>\n",
       "      <td>2</td>\n",
       "      <td>0</td>\n",
       "      <td>0</td>\n",
       "      <td>93826.63</td>\n",
       "      <td>0</td>\n",
       "      <td>0</td>\n",
       "      <td>0</td>\n",
       "      <td>0</td>\n",
       "    </tr>\n",
       "    <tr>\n",
       "      <td>4</td>\n",
       "      <td>5</td>\n",
       "      <td>850</td>\n",
       "      <td>43</td>\n",
       "      <td>2.0</td>\n",
       "      <td>125510.82</td>\n",
       "      <td>1</td>\n",
       "      <td>1</td>\n",
       "      <td>1</td>\n",
       "      <td>79084.10</td>\n",
       "      <td>0</td>\n",
       "      <td>0</td>\n",
       "      <td>1</td>\n",
       "      <td>0</td>\n",
       "    </tr>\n",
       "  </tbody>\n",
       "</table>\n",
       "</div>"
      ],
      "text/plain": [
       "   row_number  credit_score  age  tenure    balance  bank_products  \\\n",
       "0           1           619   42     2.0       0.00              1   \n",
       "1           2           608   41     1.0   83807.86              1   \n",
       "2           3           502   42     8.0  159660.80              3   \n",
       "3           4           699   39     1.0       0.00              2   \n",
       "4           5           850   43     2.0  125510.82              1   \n",
       "\n",
       "   credit_card  active_member  estimated_salary  exited  geography_Germany  \\\n",
       "0            1              1         101348.88       1                  0   \n",
       "1            0              1         112542.58       0                  0   \n",
       "2            1              0         113931.57       1                  0   \n",
       "3            0              0          93826.63       0                  0   \n",
       "4            1              1          79084.10       0                  0   \n",
       "\n",
       "   geography_Spain  gender_Male  \n",
       "0                0            0  \n",
       "1                1            0  \n",
       "2                0            0  \n",
       "3                0            0  \n",
       "4                1            0  "
      ]
     },
     "execution_count": 11,
     "metadata": {},
     "output_type": "execute_result"
    }
   ],
   "source": [
    "df_ohe.head() "
   ]
  },
  {
   "cell_type": "code",
   "execution_count": 12,
   "metadata": {
    "scrolled": false
   },
   "outputs": [
    {
     "data": {
      "text/html": [
       "<div>\n",
       "<style scoped>\n",
       "    .dataframe tbody tr th:only-of-type {\n",
       "        vertical-align: middle;\n",
       "    }\n",
       "\n",
       "    .dataframe tbody tr th {\n",
       "        vertical-align: top;\n",
       "    }\n",
       "\n",
       "    .dataframe thead th {\n",
       "        text-align: right;\n",
       "    }\n",
       "</style>\n",
       "<table border=\"1\" class=\"dataframe\">\n",
       "  <thead>\n",
       "    <tr style=\"text-align: right;\">\n",
       "      <th></th>\n",
       "      <th>row_number</th>\n",
       "      <th>credit_score</th>\n",
       "      <th>age</th>\n",
       "      <th>tenure</th>\n",
       "      <th>balance</th>\n",
       "      <th>bank_products</th>\n",
       "      <th>credit_card</th>\n",
       "      <th>active_member</th>\n",
       "      <th>estimated_salary</th>\n",
       "      <th>exited</th>\n",
       "      <th>geography_Germany</th>\n",
       "      <th>geography_Spain</th>\n",
       "      <th>gender_Male</th>\n",
       "    </tr>\n",
       "  </thead>\n",
       "  <tbody>\n",
       "    <tr>\n",
       "      <td>row_number</td>\n",
       "      <td>1.000000</td>\n",
       "      <td>0.005840</td>\n",
       "      <td>0.000783</td>\n",
       "      <td>0.000596</td>\n",
       "      <td>-0.009067</td>\n",
       "      <td>0.007246</td>\n",
       "      <td>0.000599</td>\n",
       "      <td>0.012044</td>\n",
       "      <td>-0.005988</td>\n",
       "      <td>-0.016571</td>\n",
       "      <td>-0.000044</td>\n",
       "      <td>-0.009905</td>\n",
       "      <td>0.018196</td>\n",
       "    </tr>\n",
       "    <tr>\n",
       "      <td>credit_score</td>\n",
       "      <td>0.005840</td>\n",
       "      <td>1.000000</td>\n",
       "      <td>-0.003965</td>\n",
       "      <td>0.003087</td>\n",
       "      <td>0.006268</td>\n",
       "      <td>0.012238</td>\n",
       "      <td>-0.005458</td>\n",
       "      <td>0.025651</td>\n",
       "      <td>-0.001384</td>\n",
       "      <td>-0.027094</td>\n",
       "      <td>0.005538</td>\n",
       "      <td>0.004780</td>\n",
       "      <td>-0.002857</td>\n",
       "    </tr>\n",
       "    <tr>\n",
       "      <td>age</td>\n",
       "      <td>0.000783</td>\n",
       "      <td>-0.003965</td>\n",
       "      <td>1.000000</td>\n",
       "      <td>-0.007368</td>\n",
       "      <td>0.028308</td>\n",
       "      <td>-0.030680</td>\n",
       "      <td>-0.011721</td>\n",
       "      <td>0.085472</td>\n",
       "      <td>-0.007201</td>\n",
       "      <td>0.285323</td>\n",
       "      <td>0.046897</td>\n",
       "      <td>-0.001685</td>\n",
       "      <td>-0.027544</td>\n",
       "    </tr>\n",
       "    <tr>\n",
       "      <td>tenure</td>\n",
       "      <td>0.000596</td>\n",
       "      <td>0.003087</td>\n",
       "      <td>-0.007368</td>\n",
       "      <td>1.000000</td>\n",
       "      <td>-0.005821</td>\n",
       "      <td>0.010106</td>\n",
       "      <td>0.021387</td>\n",
       "      <td>-0.025856</td>\n",
       "      <td>0.011225</td>\n",
       "      <td>-0.013319</td>\n",
       "      <td>0.001676</td>\n",
       "      <td>-0.000745</td>\n",
       "      <td>0.014889</td>\n",
       "    </tr>\n",
       "    <tr>\n",
       "      <td>balance</td>\n",
       "      <td>-0.009067</td>\n",
       "      <td>0.006268</td>\n",
       "      <td>0.028308</td>\n",
       "      <td>-0.005821</td>\n",
       "      <td>1.000000</td>\n",
       "      <td>-0.304180</td>\n",
       "      <td>-0.014858</td>\n",
       "      <td>-0.010084</td>\n",
       "      <td>0.012797</td>\n",
       "      <td>0.118533</td>\n",
       "      <td>0.401110</td>\n",
       "      <td>-0.134892</td>\n",
       "      <td>0.012087</td>\n",
       "    </tr>\n",
       "    <tr>\n",
       "      <td>bank_products</td>\n",
       "      <td>0.007246</td>\n",
       "      <td>0.012238</td>\n",
       "      <td>-0.030680</td>\n",
       "      <td>0.010106</td>\n",
       "      <td>-0.304180</td>\n",
       "      <td>1.000000</td>\n",
       "      <td>0.003183</td>\n",
       "      <td>0.009612</td>\n",
       "      <td>0.014204</td>\n",
       "      <td>-0.047820</td>\n",
       "      <td>-0.010419</td>\n",
       "      <td>0.009039</td>\n",
       "      <td>-0.021859</td>\n",
       "    </tr>\n",
       "    <tr>\n",
       "      <td>credit_card</td>\n",
       "      <td>0.000599</td>\n",
       "      <td>-0.005458</td>\n",
       "      <td>-0.011721</td>\n",
       "      <td>0.021387</td>\n",
       "      <td>-0.014858</td>\n",
       "      <td>0.003183</td>\n",
       "      <td>1.000000</td>\n",
       "      <td>-0.011866</td>\n",
       "      <td>-0.009933</td>\n",
       "      <td>-0.007138</td>\n",
       "      <td>0.010577</td>\n",
       "      <td>-0.013480</td>\n",
       "      <td>0.005766</td>\n",
       "    </tr>\n",
       "    <tr>\n",
       "      <td>active_member</td>\n",
       "      <td>0.012044</td>\n",
       "      <td>0.025651</td>\n",
       "      <td>0.085472</td>\n",
       "      <td>-0.025856</td>\n",
       "      <td>-0.010084</td>\n",
       "      <td>0.009612</td>\n",
       "      <td>-0.011866</td>\n",
       "      <td>1.000000</td>\n",
       "      <td>-0.011421</td>\n",
       "      <td>-0.156128</td>\n",
       "      <td>-0.020486</td>\n",
       "      <td>0.016732</td>\n",
       "      <td>0.022544</td>\n",
       "    </tr>\n",
       "    <tr>\n",
       "      <td>estimated_salary</td>\n",
       "      <td>-0.005988</td>\n",
       "      <td>-0.001384</td>\n",
       "      <td>-0.007201</td>\n",
       "      <td>0.011225</td>\n",
       "      <td>0.012797</td>\n",
       "      <td>0.014204</td>\n",
       "      <td>-0.009933</td>\n",
       "      <td>-0.011421</td>\n",
       "      <td>1.000000</td>\n",
       "      <td>0.012097</td>\n",
       "      <td>0.010297</td>\n",
       "      <td>-0.006482</td>\n",
       "      <td>-0.008112</td>\n",
       "    </tr>\n",
       "    <tr>\n",
       "      <td>exited</td>\n",
       "      <td>-0.016571</td>\n",
       "      <td>-0.027094</td>\n",
       "      <td>0.285323</td>\n",
       "      <td>-0.013319</td>\n",
       "      <td>0.118533</td>\n",
       "      <td>-0.047820</td>\n",
       "      <td>-0.007138</td>\n",
       "      <td>-0.156128</td>\n",
       "      <td>0.012097</td>\n",
       "      <td>1.000000</td>\n",
       "      <td>0.173488</td>\n",
       "      <td>-0.052667</td>\n",
       "      <td>-0.106512</td>\n",
       "    </tr>\n",
       "    <tr>\n",
       "      <td>geography_Germany</td>\n",
       "      <td>-0.000044</td>\n",
       "      <td>0.005538</td>\n",
       "      <td>0.046897</td>\n",
       "      <td>0.001676</td>\n",
       "      <td>0.401110</td>\n",
       "      <td>-0.010419</td>\n",
       "      <td>0.010577</td>\n",
       "      <td>-0.020486</td>\n",
       "      <td>0.010297</td>\n",
       "      <td>0.173488</td>\n",
       "      <td>1.000000</td>\n",
       "      <td>-0.332084</td>\n",
       "      <td>-0.024628</td>\n",
       "    </tr>\n",
       "    <tr>\n",
       "      <td>geography_Spain</td>\n",
       "      <td>-0.009905</td>\n",
       "      <td>0.004780</td>\n",
       "      <td>-0.001685</td>\n",
       "      <td>-0.000745</td>\n",
       "      <td>-0.134892</td>\n",
       "      <td>0.009039</td>\n",
       "      <td>-0.013480</td>\n",
       "      <td>0.016732</td>\n",
       "      <td>-0.006482</td>\n",
       "      <td>-0.052667</td>\n",
       "      <td>-0.332084</td>\n",
       "      <td>1.000000</td>\n",
       "      <td>0.016889</td>\n",
       "    </tr>\n",
       "    <tr>\n",
       "      <td>gender_Male</td>\n",
       "      <td>0.018196</td>\n",
       "      <td>-0.002857</td>\n",
       "      <td>-0.027544</td>\n",
       "      <td>0.014889</td>\n",
       "      <td>0.012087</td>\n",
       "      <td>-0.021859</td>\n",
       "      <td>0.005766</td>\n",
       "      <td>0.022544</td>\n",
       "      <td>-0.008112</td>\n",
       "      <td>-0.106512</td>\n",
       "      <td>-0.024628</td>\n",
       "      <td>0.016889</td>\n",
       "      <td>1.000000</td>\n",
       "    </tr>\n",
       "  </tbody>\n",
       "</table>\n",
       "</div>"
      ],
      "text/plain": [
       "                   row_number  credit_score       age    tenure   balance  \\\n",
       "row_number           1.000000      0.005840  0.000783  0.000596 -0.009067   \n",
       "credit_score         0.005840      1.000000 -0.003965  0.003087  0.006268   \n",
       "age                  0.000783     -0.003965  1.000000 -0.007368  0.028308   \n",
       "tenure               0.000596      0.003087 -0.007368  1.000000 -0.005821   \n",
       "balance             -0.009067      0.006268  0.028308 -0.005821  1.000000   \n",
       "bank_products        0.007246      0.012238 -0.030680  0.010106 -0.304180   \n",
       "credit_card          0.000599     -0.005458 -0.011721  0.021387 -0.014858   \n",
       "active_member        0.012044      0.025651  0.085472 -0.025856 -0.010084   \n",
       "estimated_salary    -0.005988     -0.001384 -0.007201  0.011225  0.012797   \n",
       "exited              -0.016571     -0.027094  0.285323 -0.013319  0.118533   \n",
       "geography_Germany   -0.000044      0.005538  0.046897  0.001676  0.401110   \n",
       "geography_Spain     -0.009905      0.004780 -0.001685 -0.000745 -0.134892   \n",
       "gender_Male          0.018196     -0.002857 -0.027544  0.014889  0.012087   \n",
       "\n",
       "                   bank_products  credit_card  active_member  \\\n",
       "row_number              0.007246     0.000599       0.012044   \n",
       "credit_score            0.012238    -0.005458       0.025651   \n",
       "age                    -0.030680    -0.011721       0.085472   \n",
       "tenure                  0.010106     0.021387      -0.025856   \n",
       "balance                -0.304180    -0.014858      -0.010084   \n",
       "bank_products           1.000000     0.003183       0.009612   \n",
       "credit_card             0.003183     1.000000      -0.011866   \n",
       "active_member           0.009612    -0.011866       1.000000   \n",
       "estimated_salary        0.014204    -0.009933      -0.011421   \n",
       "exited                 -0.047820    -0.007138      -0.156128   \n",
       "geography_Germany      -0.010419     0.010577      -0.020486   \n",
       "geography_Spain         0.009039    -0.013480       0.016732   \n",
       "gender_Male            -0.021859     0.005766       0.022544   \n",
       "\n",
       "                   estimated_salary    exited  geography_Germany  \\\n",
       "row_number                -0.005988 -0.016571          -0.000044   \n",
       "credit_score              -0.001384 -0.027094           0.005538   \n",
       "age                       -0.007201  0.285323           0.046897   \n",
       "tenure                     0.011225 -0.013319           0.001676   \n",
       "balance                    0.012797  0.118533           0.401110   \n",
       "bank_products              0.014204 -0.047820          -0.010419   \n",
       "credit_card               -0.009933 -0.007138           0.010577   \n",
       "active_member             -0.011421 -0.156128          -0.020486   \n",
       "estimated_salary           1.000000  0.012097           0.010297   \n",
       "exited                     0.012097  1.000000           0.173488   \n",
       "geography_Germany          0.010297  0.173488           1.000000   \n",
       "geography_Spain           -0.006482 -0.052667          -0.332084   \n",
       "gender_Male               -0.008112 -0.106512          -0.024628   \n",
       "\n",
       "                   geography_Spain  gender_Male  \n",
       "row_number               -0.009905     0.018196  \n",
       "credit_score              0.004780    -0.002857  \n",
       "age                      -0.001685    -0.027544  \n",
       "tenure                   -0.000745     0.014889  \n",
       "balance                  -0.134892     0.012087  \n",
       "bank_products             0.009039    -0.021859  \n",
       "credit_card              -0.013480     0.005766  \n",
       "active_member             0.016732     0.022544  \n",
       "estimated_salary         -0.006482    -0.008112  \n",
       "exited                   -0.052667    -0.106512  \n",
       "geography_Germany        -0.332084    -0.024628  \n",
       "geography_Spain           1.000000     0.016889  \n",
       "gender_Male               0.016889     1.000000  "
      ]
     },
     "execution_count": 12,
     "metadata": {},
     "output_type": "execute_result"
    }
   ],
   "source": [
    "df_ohe.corr()"
   ]
  },
  {
   "cell_type": "markdown",
   "metadata": {},
   "source": [
    "Взаимосвязанных признаков не выявлено."
   ]
  },
  {
   "cell_type": "code",
   "execution_count": 13,
   "metadata": {},
   "outputs": [],
   "source": [
    "# отделяем целевой признак\n",
    "features = df_ohe.drop(['exited'], axis=1)\n",
    "target = df_ohe['exited']"
   ]
  },
  {
   "cell_type": "code",
   "execution_count": 14,
   "metadata": {},
   "outputs": [],
   "source": [
    "features_train, features_valid, target_train, target_valid = train_test_split(\n",
    "    features, target, test_size=0.20, random_state=12345\n",
    ")"
   ]
  },
  {
   "cell_type": "code",
   "execution_count": 15,
   "metadata": {},
   "outputs": [],
   "source": [
    "features_train, features_test, target_train, target_test = train_test_split(\n",
    "    features_train, target_train, test_size=0.25, random_state=12345\n",
    ")"
   ]
  },
  {
   "cell_type": "code",
   "execution_count": 16,
   "metadata": {},
   "outputs": [
    {
     "name": "stdout",
     "output_type": "stream",
     "text": [
      "(6000, 12) (6000,)\n"
     ]
    }
   ],
   "source": [
    "print(features_train.shape, target_train.shape)"
   ]
  },
  {
   "cell_type": "code",
   "execution_count": 17,
   "metadata": {},
   "outputs": [
    {
     "name": "stdout",
     "output_type": "stream",
     "text": [
      "(2000, 12) (2000,)\n"
     ]
    }
   ],
   "source": [
    "print(features_valid.shape, target_valid.shape)"
   ]
  },
  {
   "cell_type": "code",
   "execution_count": 18,
   "metadata": {
    "scrolled": false
   },
   "outputs": [
    {
     "name": "stdout",
     "output_type": "stream",
     "text": [
      "(2000, 12) (2000,)\n"
     ]
    }
   ],
   "source": [
    "print(features_test.shape, target_test.shape)"
   ]
  },
  {
   "cell_type": "markdown",
   "metadata": {},
   "source": [
    "Делим выборку на обучающую, валидационную и тестовую"
   ]
  },
  {
   "cell_type": "code",
   "execution_count": 19,
   "metadata": {
    "scrolled": true
   },
   "outputs": [
    {
     "name": "stderr",
     "output_type": "stream",
     "text": [
      "/opt/conda/lib/python3.7/site-packages/ipykernel_launcher.py:6: SettingWithCopyWarning: \n",
      "A value is trying to be set on a copy of a slice from a DataFrame.\n",
      "Try using .loc[row_indexer,col_indexer] = value instead\n",
      "\n",
      "See the caveats in the documentation: http://pandas.pydata.org/pandas-docs/stable/user_guide/indexing.html#returning-a-view-versus-a-copy\n",
      "  \n",
      "/opt/conda/lib/python3.7/site-packages/pandas/core/indexing.py:494: SettingWithCopyWarning: \n",
      "A value is trying to be set on a copy of a slice from a DataFrame.\n",
      "Try using .loc[row_indexer,col_indexer] = value instead\n",
      "\n",
      "See the caveats in the documentation: http://pandas.pydata.org/pandas-docs/stable/user_guide/indexing.html#returning-a-view-versus-a-copy\n",
      "  self.obj[item] = s\n"
     ]
    }
   ],
   "source": [
    " # преобразуем масштаб методом стандартизации\n",
    "scaler = StandardScaler()\n",
    "numeric =['credit_score', 'age', 'tenure', 'balance', 'estimated_salary', 'bank_products']\n",
    "scaler.fit(features_train[numeric])\n",
    "features_train[numeric] = scaler.transform(features_train[numeric])\n",
    "features_valid[numeric] = scaler.transform(features_valid[numeric])\n",
    "features_test[numeric] = scaler.transform(features_test[numeric])\n"
   ]
  },
  {
   "cell_type": "markdown",
   "metadata": {},
   "source": [
    "*** Выводы:**\n",
    "* размер датасета достаточен для исследования.\n",
    "* в датасете присутствуют столбцы с неподходящим типом.\n",
    "* пропуски заполнены 0, так как не представляется возможным заполнить их оригинальными значениями.\n",
    "* удалены признаки, которые невозможно привести в численный вид.\n",
    "* категориальные признаки приведены в численный вид методом ОНЕ.\n",
    "* признаки не взаимосвязаны.\n",
    "* датасет разделен на выборки в соотношении 60:20:20.\n",
    "* признаки стандартизированы."
   ]
  },
  {
   "cell_type": "markdown",
   "metadata": {},
   "source": [
    "## Исследование задачи"
   ]
  },
  {
   "cell_type": "markdown",
   "metadata": {},
   "source": [
    "### Проверка на сбалансированность данных"
   ]
  },
  {
   "cell_type": "code",
   "execution_count": 20,
   "metadata": {
    "scrolled": false
   },
   "outputs": [
    {
     "data": {
      "text/plain": [
       "0    0.7963\n",
       "1    0.2037\n",
       "Name: exited, dtype: float64"
      ]
     },
     "execution_count": 20,
     "metadata": {},
     "output_type": "execute_result"
    }
   ],
   "source": [
    "df_ohe['exited'].value_counts(normalize=True)"
   ]
  },
  {
   "cell_type": "markdown",
   "metadata": {},
   "source": [
    "Подсчет классов в целевом признаке выявляет проблему несбалансированных данных. Объектов класса \"1\" меньше в четыре раза."
   ]
  },
  {
   "cell_type": "markdown",
   "metadata": {},
   "source": [
    "### Построение моделей на несбалансированных данных"
   ]
  },
  {
   "cell_type": "markdown",
   "metadata": {},
   "source": [
    "#### Логистическая регрессия"
   ]
  },
  {
   "cell_type": "code",
   "execution_count": 21,
   "metadata": {
    "scrolled": true
   },
   "outputs": [
    {
     "name": "stdout",
     "output_type": "stream",
     "text": [
      "F1: 0.28419182948490235\n",
      "AUC-Roc: 0.7567365570346196\n"
     ]
    }
   ],
   "source": [
    "model_logreg = LogisticRegression(random_state=12345, solver='liblinear')\n",
    "model_logreg.fit(features_train, target_train)\n",
    "predicted_valid = model_logreg.predict(features_valid)\n",
    "probabilities_valid = model_logreg.predict_proba(features_valid)\n",
    "probabilities_valid = probabilities_valid[:,1]\n",
    "print('F1:', f1_score(target_valid, predicted_valid))\n",
    "print('AUC-Roc:', roc_auc_score(target_valid, probabilities_valid))"
   ]
  },
  {
   "cell_type": "markdown",
   "metadata": {},
   "source": [
    "Модель логистической регрессии на несбалансированных данных показала очень низкое качество - она почти равна константной модели."
   ]
  },
  {
   "cell_type": "markdown",
   "metadata": {},
   "source": [
    "#### Модель случайного леса с подбором параметров"
   ]
  },
  {
   "cell_type": "code",
   "execution_count": 22,
   "metadata": {
    "scrolled": true
   },
   "outputs": [
    {
     "name": "stdout",
     "output_type": "stream",
     "text": [
      "f1: 0.548238897396631\n",
      "AUC-ROC: 0.8659507407644518\n",
      "CPU times: user 1.06 s, sys: 3.64 ms, total: 1.07 s\n",
      "Wall time: 1.07 s\n"
     ]
    }
   ],
   "source": [
    "%%time\n",
    "#param_grid =  {'n_estimators': range (10, 100, 10),\n",
    "              #'max_depth': range (1,13, 2),\n",
    "              #'min_samples_leaf': range (1,8),\n",
    "              #'min_samples_split': range (2,10,2)}\n",
    "\n",
    "model_forest = RandomForestClassifier(random_state=12345, max_depth=11, min_samples_leaf=1, min_samples_split=8,\n",
    "                               n_estimators=90)\n",
    "#model = GridSearchCV(estimator = clf, param_grid=param_grid,\n",
    "                               #cv = 4, n_jobs = -1)\n",
    "model_forest.fit(features_train,target_train)\n",
    "\n",
    "predictionforest = model_forest.predict(features_valid)\n",
    "probabilities_valid = model_forest.predict_proba(features_valid)\n",
    "probabilities_valid= probabilities_valid[:,1]\n",
    "print('f1:', f1_score(target_valid,predictionforest))\n",
    "print('AUC-ROC:', roc_auc_score(target_valid, probabilities_valid))"
   ]
  },
  {
   "cell_type": "markdown",
   "metadata": {},
   "source": [
    "Данная модель значительно улучшила метрики качества."
   ]
  },
  {
   "cell_type": "markdown",
   "metadata": {},
   "source": [
    "Выводы:\n",
    "* Подсчет классов в целевом признаке выявляет проблему несбалансированных данных.\n",
    "* Модель логистической регрессии на несбалансированных данных оказалась равной константной модели.\n",
    "* Модель случайного леса с подбором параметров значительно лучше по результату. Но скорость обучения сильно уменьшилась."
   ]
  },
  {
   "cell_type": "markdown",
   "metadata": {},
   "source": [
    "## Борьба с дисбалансом"
   ]
  },
  {
   "cell_type": "markdown",
   "metadata": {},
   "source": [
    "### Изменение порога"
   ]
  },
  {
   "cell_type": "markdown",
   "metadata": {},
   "source": [
    "#### Логистическая регрессия"
   ]
  },
  {
   "cell_type": "code",
   "execution_count": 24,
   "metadata": {},
   "outputs": [
    {
     "data": {
      "text/plain": [
       "LogisticRegression(C=1.0, class_weight=None, dual=False, fit_intercept=True,\n",
       "                   intercept_scaling=1, l1_ratio=None, max_iter=100,\n",
       "                   multi_class='warn', n_jobs=None, penalty='l2',\n",
       "                   random_state=12345, solver='liblinear', tol=0.0001,\n",
       "                   verbose=0, warm_start=False)"
      ]
     },
     "execution_count": 24,
     "metadata": {},
     "output_type": "execute_result"
    }
   ],
   "source": [
    "model_log = LogisticRegression(random_state=12345, solver='liblinear')\n",
    "model_log.fit(features_train, target_train)\n"
   ]
  },
  {
   "cell_type": "code",
   "execution_count": 25,
   "metadata": {},
   "outputs": [],
   "source": [
    "probabilities_valid = model_log.predict_proba(features_valid)\n",
    "probabilities_one_valid = probabilities_valid[:,1]"
   ]
  },
  {
   "cell_type": "code",
   "execution_count": 26,
   "metadata": {
    "scrolled": true
   },
   "outputs": [
    {
     "name": "stdout",
     "output_type": "stream",
     "text": [
      "'Порог' = 0.12  |  'Точность' = 0.294  |  'Полнота' = 0.883  | 'F1' = 0.441 | 'AUC_ROC' = 0.757\n",
      "'Порог' = 0.14  |  'Точность' = 0.312  |  'Полнота' = 0.834  | 'F1' = 0.454 | 'AUC_ROC' = 0.757\n",
      "'Порог' = 0.16  |  'Точность' = 0.330  |  'Полнота' = 0.796  | 'F1' = 0.467 | 'AUC_ROC' = 0.757\n",
      "'Порог' = 0.18  |  'Точность' = 0.352  |  'Полнота' = 0.754  | 'F1' = 0.480 | 'AUC_ROC' = 0.757\n",
      "'Порог' = 0.20  |  'Точность' = 0.371  |  'Полнота' = 0.714  | 'F1' = 0.488 | 'AUC_ROC' = 0.757\n",
      "'Порог' = 0.22  |  'Точность' = 0.395  |  'Полнота' = 0.681  | 'F1' = 0.500 | 'AUC_ROC' = 0.757\n",
      "'Порог' = 0.24  |  'Точность' = 0.418  |  'Полнота' = 0.644  | 'F1' = 0.507 | 'AUC_ROC' = 0.757\n",
      "'Порог' = 0.26  |  'Точность' = 0.428  |  'Полнота' = 0.604  | 'F1' = 0.501 | 'AUC_ROC' = 0.757\n",
      "'Порог' = 0.28  |  'Точность' = 0.441  |  'Полнота' = 0.564  | 'F1' = 0.495 | 'AUC_ROC' = 0.757\n"
     ]
    }
   ],
   "source": [
    "for threshold in np.arange(0.12, 0.3, 0.02):\n",
    "    predicted_valid = probabilities_one_valid > threshold\n",
    "    precision = precision_score(target_valid, predicted_valid) \n",
    "    recall = recall_score(target_valid, predicted_valid)\n",
    "    f1= f1_score(target_valid, predicted_valid)\n",
    "    #auc_roc= roc_auc_score(target_valid, predicted_valid)\n",
    "\n",
    "    print(\"'Порог' = {:.2F}  |  'Точность' = {:.3F}  |  'Полнота' = {:.3F}  | 'F1' = {:.3F}\"\n",
    "          .format(threshold, precision, recall, f1), '|', \n",
    "          \"'AUC_ROC' = {:.3F}\".format(roc_auc_score(target_valid, probabilities_one_valid)))"
   ]
  },
  {
   "cell_type": "markdown",
   "metadata": {},
   "source": [
    "Модель логистической регрессии неплохие метрики качества при пороге 0.24: 'F1' = 0.507, auc_roc 0.757"
   ]
  },
  {
   "cell_type": "markdown",
   "metadata": {},
   "source": [
    "#### Модель случайного леса с подбором параметров"
   ]
  },
  {
   "cell_type": "code",
   "execution_count": 27,
   "metadata": {
    "scrolled": false
   },
   "outputs": [],
   "source": [
    "model_forest = RandomForestClassifier(random_state=12345, max_depth=11, min_samples_leaf=1, min_samples_split=8,\n",
    "                                      n_estimators=90)\n",
    "model_forest.fit(features_train, target_train)\n",
    "probabilities_valid_forest = model_forest.predict_proba(features_valid)\n",
    "probabilities_valid_forest = probabilities_valid_forest[:,1]"
   ]
  },
  {
   "cell_type": "code",
   "execution_count": 28,
   "metadata": {},
   "outputs": [
    {
     "name": "stdout",
     "output_type": "stream",
     "text": [
      "'Порог' = 0.10  |  'Точность' = 0.337  |  'Полнота' = 0.918  | 'F1' = 0.493 | 'AUC_ROC' = 0.866\n",
      "'Порог' = 0.12  |  'Точность' = 0.369  |  'Полнота' = 0.895  | 'F1' = 0.523 | 'AUC_ROC' = 0.866\n",
      "'Порог' = 0.14  |  'Точность' = 0.403  |  'Полнота' = 0.867  | 'F1' = 0.550 | 'AUC_ROC' = 0.866\n",
      "'Порог' = 0.16  |  'Точность' = 0.443  |  'Полнота' = 0.852  | 'F1' = 0.583 | 'AUC_ROC' = 0.866\n",
      "'Порог' = 0.18  |  'Точность' = 0.466  |  'Полнота' = 0.824  | 'F1' = 0.595 | 'AUC_ROC' = 0.866\n",
      "'Порог' = 0.20  |  'Точность' = 0.498  |  'Полнота' = 0.810  | 'F1' = 0.617 | 'AUC_ROC' = 0.866\n",
      "'Порог' = 0.22  |  'Точность' = 0.529  |  'Полнота' = 0.773  | 'F1' = 0.628 | 'AUC_ROC' = 0.866\n",
      "'Порог' = 0.24  |  'Точность' = 0.560  |  'Полнота' = 0.733  | 'F1' = 0.635 | 'AUC_ROC' = 0.866\n",
      "'Порог' = 0.26  |  'Точность' = 0.575  |  'Полнота' = 0.700  | 'F1' = 0.631 | 'AUC_ROC' = 0.866\n",
      "'Порог' = 0.28  |  'Точность' = 0.605  |  'Полнота' = 0.674  | 'F1' = 0.638 | 'AUC_ROC' = 0.866\n"
     ]
    }
   ],
   "source": [
    "for threshold in np.arange(0.1, 0.3, 0.02):\n",
    "    predicted_valid = probabilities_valid_forest > threshold\n",
    "    precision = precision_score(target_valid, predicted_valid) \n",
    "    recall = recall_score(target_valid, predicted_valid)\n",
    "    f1= f1_score(target_valid, predicted_valid)\n",
    "\n",
    "    print(\"'Порог' = {:.2F}  |  'Точность' = {:.3F}  |  'Полнота' = {:.3F}  | 'F1' = {:.3F}\"\n",
    "          .format(threshold, precision, recall, f1), '|', \n",
    "          \"'AUC_ROC' = {:.3F}\".format(roc_auc_score(target_valid, probabilities_valid_forest)))"
   ]
  },
  {
   "cell_type": "markdown",
   "metadata": {},
   "source": [
    "Данная модель показыват хорошую прибавку в качестве при порог 0.28: 'F1' = 0.638, auc_roc 0.866"
   ]
  },
  {
   "cell_type": "markdown",
   "metadata": {},
   "source": [
    "### Балансировка весов класса"
   ]
  },
  {
   "cell_type": "markdown",
   "metadata": {},
   "source": [
    "#### Логистическая регрессия"
   ]
  },
  {
   "cell_type": "code",
   "execution_count": 29,
   "metadata": {
    "scrolled": true
   },
   "outputs": [
    {
     "name": "stdout",
     "output_type": "stream",
     "text": [
      "F1: 0.5029436501261564\n",
      "AUC-ROC: 0.7644590878570013\n"
     ]
    }
   ],
   "source": [
    "model_balanced = LogisticRegression(class_weight='balanced', solver='liblinear', random_state=12345)\n",
    "model_balanced.fit(features_train, target_train)\n",
    "predicted_balanced = model_balanced.predict(features_valid)\n",
    "probabilities_valid = model_balanced.predict_proba(features_valid)\n",
    "probabilities_valid = probabilities_valid[:,1]\n",
    "print('F1:', f1_score(target_valid, predicted_balanced))\n",
    "print('AUC-ROC:', roc_auc_score(target_valid, probabilities_valid))"
   ]
  },
  {
   "cell_type": "markdown",
   "metadata": {},
   "source": [
    "Модель логистической регрессии результат почти не улучшила по сравнению с балансировкой весов. "
   ]
  },
  {
   "cell_type": "markdown",
   "metadata": {},
   "source": [
    "#### Случайный лес с подбором гиперпараметров"
   ]
  },
  {
   "cell_type": "code",
   "execution_count": 30,
   "metadata": {},
   "outputs": [
    {
     "name": "stdout",
     "output_type": "stream",
     "text": [
      "f1: 0.6198547215496367\n",
      "AUC-ROC: 0.868477275332715\n",
      "CPU times: user 1.01 s, sys: 38.9 ms, total: 1.05 s\n",
      "Wall time: 1.13 s\n"
     ]
    }
   ],
   "source": [
    "%%time\n",
    "\n",
    "model_forest_balanced = RandomForestClassifier(random_state=12345, class_weight='balanced', max_depth=11, min_samples_leaf=1, min_samples_split=8,\n",
    "                                      n_estimators=90)\n",
    "model_forest_balanced.fit(features_train,target_train)\n",
    "\n",
    "predictionforest = model_forest_balanced.predict(features_valid)\n",
    "probabilities_valid = model_forest_balanced.predict_proba(features_valid)\n",
    "probabilities_valid = probabilities_valid[:,1]\n",
    "print('f1:', f1_score(target_valid,predictionforest))\n",
    "print('AUC-ROC:', roc_auc_score(target_valid, probabilities_valid))"
   ]
  },
  {
   "cell_type": "markdown",
   "metadata": {},
   "source": [
    "При балансировки весов классов модель случайного леса слегка потеряла в качестве по сравнению с моделью с измененным порогом."
   ]
  },
  {
   "cell_type": "markdown",
   "metadata": {},
   "source": [
    "### Увеличение выборки"
   ]
  },
  {
   "cell_type": "code",
   "execution_count": 31,
   "metadata": {},
   "outputs": [],
   "source": [
    "def upsample(features, target, repeat):\n",
    "    '''функция делит признаки на классы и увеличивает класс \"1\" в заданное количество раз(repeat)'''\n",
    "    features_zeros = features[target == 0]\n",
    "    features_ones = features[target == 1]\n",
    "    target_zeros = target[target == 0]\n",
    "    target_ones = target[target == 1]\n",
    "    features_upsampled = pd.concat([features_zeros] + [features_ones] * repeat)\n",
    "    target_upsampled = pd.concat([target_zeros] + [target_ones] * repeat)\n",
    "    features_upsampled, target_upsampled = shuffle(\n",
    "    features_upsampled, target_upsampled, random_state=12345)\n",
    "    return features_upsampled, target_upsampled    "
   ]
  },
  {
   "cell_type": "markdown",
   "metadata": {},
   "source": [
    "#### Логистическая регрессия"
   ]
  },
  {
   "cell_type": "code",
   "execution_count": 32,
   "metadata": {},
   "outputs": [
    {
     "name": "stdout",
     "output_type": "stream",
     "text": [
      "F1: 0.5020781379883624\n",
      "AUC-ROC: 0.7644873755156916\n"
     ]
    }
   ],
   "source": [
    "features_upsampled, target_upsampled = upsample(features_train, target_train, 4)\n",
    "model_ups =  LogisticRegression(solver='liblinear', random_state=12345)\n",
    "model_ups.fit(features_upsampled, target_upsampled)\n",
    "predict_ups = model_ups.predict(features_valid)\n",
    "probabilities_valid = model_ups.predict_proba(features_valid)\n",
    "probabilities_valid = probabilities_valid[:,1]\n",
    "print('F1:', f1_score(target_valid, predict_ups))\n",
    "print('AUC-ROC:', roc_auc_score(target_valid, probabilities_valid))"
   ]
  },
  {
   "cell_type": "markdown",
   "metadata": {},
   "source": [
    "Увеличение выборки тоже не помогло увеличить метрики качесва модели"
   ]
  },
  {
   "cell_type": "markdown",
   "metadata": {},
   "source": [
    "#### Случайный лес с подбором гиперпараметров"
   ]
  },
  {
   "cell_type": "code",
   "execution_count": 33,
   "metadata": {},
   "outputs": [
    {
     "name": "stdout",
     "output_type": "stream",
     "text": [
      "f1: 0.634254143646409\n",
      "AUC-ROC: 0.8661949079236709\n"
     ]
    }
   ],
   "source": [
    "model_forest_up = RandomForestClassifier(random_state=12345, max_depth=11, min_samples_leaf=1, min_samples_split=8,\n",
    "                                      n_estimators=90)\n",
    "model_forest_up.fit(features_upsampled, target_upsampled)\n",
    "probabilities_valid = model_forest_up.predict_proba(features_valid)\n",
    "probabilities_valid = probabilities_valid[:,1]\n",
    "predictionforest = model_forest_up.predict(features_valid)\n",
    "print('f1:', f1_score(target_valid,predictionforest))\n",
    "print('AUC-ROC:', roc_auc_score(target_valid, probabilities_valid))"
   ]
  },
  {
   "cell_type": "markdown",
   "metadata": {},
   "source": [
    "### Уменьшение выборки"
   ]
  },
  {
   "cell_type": "code",
   "execution_count": 34,
   "metadata": {},
   "outputs": [],
   "source": [
    "def downsample(features, target, fraction):\n",
    "    '''функция делит признаки на классы и уменьшает класс \"0\" и отбрасывает часть отрицательных объектов'''\n",
    "    features_zeros = features[target == 0]\n",
    "    features_ones = features[target == 1]\n",
    "    target_zeros = target[target == 0]\n",
    "    target_ones = target[target == 1]\n",
    "    features_downsampled = pd.concat(\n",
    "    [features_zeros.sample(frac=fraction, random_state=12345)] + [features_ones])\n",
    "    target_downsampled = pd.concat(\n",
    "    [target_zeros.sample(frac=fraction, random_state=12345)] + [target_ones])\n",
    "    features_downsampled, target_downsampled = shuffle(\n",
    "    features_downsampled, target_downsampled, random_state=12345)\n",
    "    return features_downsampled, target_downsampled"
   ]
  },
  {
   "cell_type": "markdown",
   "metadata": {},
   "source": [
    "#### Логистическая регрессия"
   ]
  },
  {
   "cell_type": "code",
   "execution_count": 35,
   "metadata": {},
   "outputs": [
    {
     "name": "stdout",
     "output_type": "stream",
     "text": [
      "F1: 0.5122171945701357\n",
      "AUC-ROC: 0.7661444367852713\n"
     ]
    }
   ],
   "source": [
    "features_downsampled, target_downsampled = downsample(features_train, target_train, 0.3)\n",
    "model_log_down =  LogisticRegression(solver='liblinear', random_state=12345)\n",
    "model_log_down.fit(features_downsampled, target_downsampled)\n",
    "predict_valid = model_log_down.predict(features_valid)\n",
    "probabilities_valid = model_log_down.predict_proba(features_valid)\n",
    "probabilities_valid = probabilities_valid[:,1]\n",
    "print('F1:', f1_score(target_valid, predict_valid))\n",
    "print('AUC-ROC:', roc_auc_score(target_valid, probabilities_valid))"
   ]
  },
  {
   "cell_type": "markdown",
   "metadata": {},
   "source": [
    "#### Случайный лес с подбором гиперпараметров"
   ]
  },
  {
   "cell_type": "code",
   "execution_count": 36,
   "metadata": {},
   "outputs": [
    {
     "name": "stdout",
     "output_type": "stream",
     "text": [
      "f1: 0.625250501002004\n",
      "AUC-ROC: 0.8662738156031747\n"
     ]
    }
   ],
   "source": [
    "model_forest_down = RandomForestClassifier(random_state=12345, max_depth=11, min_samples_leaf=1, min_samples_split=8,\n",
    "                                      n_estimators=90)\n",
    "model_forest_down.fit(features_downsampled, target_downsampled)\n",
    "\n",
    "predictionforest = model_forest_down.predict(features_valid)\n",
    "probabilities_valid = model_forest_down.predict_proba(features_valid)\n",
    "probabilities_valid = probabilities_valid[:,1]\n",
    "print('f1:', f1_score(target_valid,predictionforest))\n",
    "print('AUC-ROC:', roc_auc_score(target_valid, probabilities_valid))"
   ]
  },
  {
   "cell_type": "code",
   "execution_count": 37,
   "metadata": {},
   "outputs": [
    {
     "data": {
      "text/html": [
       "<div>\n",
       "<style scoped>\n",
       "    .dataframe tbody tr th:only-of-type {\n",
       "        vertical-align: middle;\n",
       "    }\n",
       "\n",
       "    .dataframe tbody tr th {\n",
       "        vertical-align: top;\n",
       "    }\n",
       "\n",
       "    .dataframe thead th {\n",
       "        text-align: right;\n",
       "    }\n",
       "</style>\n",
       "<table border=\"1\" class=\"dataframe\">\n",
       "  <thead>\n",
       "    <tr style=\"text-align: right;\">\n",
       "      <th></th>\n",
       "      <th>Model name</th>\n",
       "      <th>Несбалансированные данные</th>\n",
       "      <th>Изменение порога</th>\n",
       "      <th>Балансировка весов</th>\n",
       "      <th>Увеличение выборки</th>\n",
       "      <th>Уменьшение выборки</th>\n",
       "    </tr>\n",
       "  </thead>\n",
       "  <tbody>\n",
       "    <tr>\n",
       "      <td>0</td>\n",
       "      <td>Logistic Regression, F1</td>\n",
       "      <td>0.284</td>\n",
       "      <td>0.507</td>\n",
       "      <td>0.503</td>\n",
       "      <td>0.502</td>\n",
       "      <td>0.512</td>\n",
       "    </tr>\n",
       "    <tr>\n",
       "      <td>1</td>\n",
       "      <td>Logistic Regression, AUC-ROC</td>\n",
       "      <td>0.757</td>\n",
       "      <td>0.757</td>\n",
       "      <td>0.764</td>\n",
       "      <td>0.764</td>\n",
       "      <td>0.766</td>\n",
       "    </tr>\n",
       "    <tr>\n",
       "      <td>2</td>\n",
       "      <td>Random Forest, F1</td>\n",
       "      <td>0.548</td>\n",
       "      <td>0.628</td>\n",
       "      <td>0.620</td>\n",
       "      <td>0.634</td>\n",
       "      <td>0.625</td>\n",
       "    </tr>\n",
       "    <tr>\n",
       "      <td>3</td>\n",
       "      <td>Random Forest, AUC-ROC</td>\n",
       "      <td>0.866</td>\n",
       "      <td>0.866</td>\n",
       "      <td>0.868</td>\n",
       "      <td>0.866</td>\n",
       "      <td>0.866</td>\n",
       "    </tr>\n",
       "  </tbody>\n",
       "</table>\n",
       "</div>"
      ],
      "text/plain": [
       "                     Model name  Несбалансированные данные  Изменение порога  \\\n",
       "0       Logistic Regression, F1                      0.284             0.507   \n",
       "1  Logistic Regression, AUC-ROC                      0.757             0.757   \n",
       "2             Random Forest, F1                      0.548             0.628   \n",
       "3        Random Forest, AUC-ROC                      0.866             0.866   \n",
       "\n",
       "   Балансировка весов  Увеличение выборки  Уменьшение выборки  \n",
       "0               0.503               0.502               0.512  \n",
       "1               0.764               0.764               0.766  \n",
       "2               0.620               0.634               0.625  \n",
       "3               0.868               0.866               0.866  "
      ]
     },
     "metadata": {},
     "output_type": "display_data"
    }
   ],
   "source": [
    "display(pd.DataFrame([['Logistic Regression, F1', 0.284, 0.507, 0.503, 0.502, 0.512],\n",
    "                  ['Logistic Regression, AUC-ROC', 0.757, 0.757, 0.764, 0.764, 0.766],\n",
    "                 ['Random Forest, F1', 0.548, 0.628, 0.620, 0.634, 0.625],\n",
    "                 ['Random Forest, AUC-ROC', 0.866, 0.866, 0.868, 0.866, 0.866]],\n",
    "                  columns=['Model name','Несбалансированные данные', 'Изменение порога', 'Балансировка весов',\n",
    "                           'Увеличение выборки', 'Уменьшение выборки']))"
   ]
  },
  {
   "cell_type": "markdown",
   "metadata": {},
   "source": [
    "При применени различных свредств для улучшения качества модели лучший результат показывает модель случайного леса с подбором параметров при изменении порога.\n",
    "Модель логистической регрессии показывает примерно одинаковые результаты."
   ]
  },
  {
   "cell_type": "markdown",
   "metadata": {},
   "source": [
    "## Тестирование модели"
   ]
  },
  {
   "cell_type": "code",
   "execution_count": 38,
   "metadata": {},
   "outputs": [],
   "source": [
    "# объединение обучающей и валидационной выборок\n",
    "features_concat = pd.concat([features_train] + [features_valid])\n",
    "target_concat = pd.concat([target_train] + [target_valid])\n",
    "features_concat = shuffle(features_concat, random_state=12345)\n",
    "target_concat = shuffle(target_concat, random_state=12345)\n"
   ]
  },
  {
   "cell_type": "markdown",
   "metadata": {},
   "source": [
    "### Изменение порога"
   ]
  },
  {
   "cell_type": "code",
   "execution_count": 39,
   "metadata": {},
   "outputs": [],
   "source": [
    "model_log = LogisticRegression(random_state=12345, solver='liblinear')\n",
    "model_log.fit(features_concat, target_concat)\n",
    "probabilities_test = model_log.predict_proba(features_test)\n",
    "probabilities_one_test = probabilities_test[:,1]"
   ]
  },
  {
   "cell_type": "code",
   "execution_count": 40,
   "metadata": {
    "scrolled": true
   },
   "outputs": [
    {
     "name": "stdout",
     "output_type": "stream",
     "text": [
      "'Порог' = 0.15  |  'Точность' = 0.299  |  'Полнота' = 0.834  | 'F1' = 0.440 | 'AUC_ROC' = 0.768\n",
      "'Порог' = 0.17  |  'Точность' = 0.326  |  'Полнота' = 0.788  | 'F1' = 0.461 | 'AUC_ROC' = 0.768\n",
      "'Порог' = 0.19  |  'Точность' = 0.341  |  'Полнота' = 0.734  | 'F1' = 0.466 | 'AUC_ROC' = 0.768\n",
      "'Порог' = 0.21  |  'Точность' = 0.358  |  'Полнота' = 0.693  | 'F1' = 0.473 | 'AUC_ROC' = 0.768\n",
      "'Порог' = 0.23  |  'Точность' = 0.384  |  'Полнота' = 0.647  | 'F1' = 0.482 | 'AUC_ROC' = 0.768\n",
      "'Порог' = 0.25  |  'Точность' = 0.398  |  'Полнота' = 0.601  | 'F1' = 0.479 | 'AUC_ROC' = 0.768\n",
      "'Порог' = 0.27  |  'Точность' = 0.426  |  'Полнота' = 0.570  | 'F1' = 0.488 | 'AUC_ROC' = 0.768\n",
      "'Порог' = 0.29  |  'Точность' = 0.444  |  'Полнота' = 0.529  | 'F1' = 0.483 | 'AUC_ROC' = 0.768\n"
     ]
    }
   ],
   "source": [
    "for threshold in np.arange(0.15, 0.3, 0.02):\n",
    "    predicted_test = probabilities_one_test > threshold\n",
    "    precision = precision_score(target_test, predicted_test) \n",
    "    recall = recall_score(target_test, predicted_test)\n",
    "    f1= f1_score(target_test, predicted_test)\n",
    "\n",
    "    print(\"'Порог' = {:.2F}  |  'Точность' = {:.3F}  |  'Полнота' = {:.3F}  | 'F1' = {:.3F}\"\n",
    "          .format(threshold, precision, recall, f1), '|', \n",
    "          \"'AUC_ROC' = {:.3F}\".format(roc_auc_score(target_test, probabilities_one_test)))"
   ]
  },
  {
   "cell_type": "markdown",
   "metadata": {},
   "source": [
    "У модели логистической регрессии лучший результат при пороге 0.27"
   ]
  },
  {
   "cell_type": "code",
   "execution_count": 41,
   "metadata": {},
   "outputs": [],
   "source": [
    "model_forest_weigth = RandomForestClassifier(random_state=12345, max_depth=11, min_samples_leaf=1,\n",
    "                                             min_samples_split=8, n_estimators=90)\n",
    "model_forest_weigth.fit(features_concat, target_concat)\n",
    "probabilities_test = model_forest_weigth.predict_proba(features_test)\n",
    "probabilities_one_test = probabilities_test[:,1]\n"
   ]
  },
  {
   "cell_type": "code",
   "execution_count": 42,
   "metadata": {},
   "outputs": [
    {
     "name": "stdout",
     "output_type": "stream",
     "text": [
      "'Порог' = 0.15  |  'Точность' = 0.379  |  'Полнота' = 0.818  | 'F1' = 0.518 | 'AUC_ROC' = 0.851\n",
      "'Порог' = 0.17  |  'Точность' = 0.411  |  'Полнота' = 0.788  | 'F1' = 0.540 | 'AUC_ROC' = 0.851\n",
      "'Порог' = 0.19  |  'Точность' = 0.437  |  'Полнота' = 0.754  | 'F1' = 0.553 | 'AUC_ROC' = 0.851\n",
      "'Порог' = 0.21  |  'Точность' = 0.458  |  'Полнота' = 0.731  | 'F1' = 0.564 | 'AUC_ROC' = 0.851\n",
      "'Порог' = 0.23  |  'Точность' = 0.483  |  'Полнота' = 0.711  | 'F1' = 0.575 | 'AUC_ROC' = 0.851\n",
      "'Порог' = 0.25  |  'Точность' = 0.502  |  'Полнота' = 0.678  | 'F1' = 0.577 | 'AUC_ROC' = 0.851\n",
      "'Порог' = 0.27  |  'Точность' = 0.528  |  'Полнота' = 0.647  | 'F1' = 0.582 | 'AUC_ROC' = 0.851\n",
      "'Порог' = 0.29  |  'Точность' = 0.549  |  'Полнота' = 0.634  | 'F1' = 0.588 | 'AUC_ROC' = 0.851\n",
      "'Порог' = 0.31  |  'Точность' = 0.600  |  'Полнота' = 0.624  | 'F1' = 0.612 | 'AUC_ROC' = 0.851\n",
      "'Порог' = 0.33  |  'Точность' = 0.616  |  'Полнота' = 0.596  | 'F1' = 0.606 | 'AUC_ROC' = 0.851\n",
      "'Порог' = 0.35  |  'Точность' = 0.636  |  'Полнота' = 0.573  | 'F1' = 0.603 | 'AUC_ROC' = 0.851\n",
      "'Порог' = 0.37  |  'Точность' = 0.656  |  'Полнота' = 0.555  | 'F1' = 0.601 | 'AUC_ROC' = 0.851\n",
      "'Порог' = 0.39  |  'Точность' = 0.691  |  'Полнота' = 0.542  | 'F1' = 0.607 | 'AUC_ROC' = 0.851\n"
     ]
    }
   ],
   "source": [
    "for threshold in np.arange(0.15, 0.4, 0.02):\n",
    "    predicted_test = probabilities_one_test > threshold\n",
    "    precision = precision_score(target_test, predicted_test) \n",
    "    recall = recall_score(target_test, predicted_test)\n",
    "    f1= f1_score(target_test, predicted_test)\n",
    "\n",
    "    print(\"'Порог' = {:.2F}  |  'Точность' = {:.3F}  |  'Полнота' = {:.3F}  | 'F1' = {:.3F}\"\n",
    "          .format(threshold, precision, recall, f1), '|', \n",
    "           \"'AUC_ROC' = {:.3F}\".format(roc_auc_score(target_test, probabilities_one_test)))"
   ]
  },
  {
   "cell_type": "markdown",
   "metadata": {},
   "source": [
    "Случайный лес - при пороге 0.31"
   ]
  },
  {
   "cell_type": "markdown",
   "metadata": {},
   "source": [
    "### Балансировка весов"
   ]
  },
  {
   "cell_type": "code",
   "execution_count": 43,
   "metadata": {},
   "outputs": [
    {
     "name": "stdout",
     "output_type": "stream",
     "text": [
      "F1: 0.483754512635379\n",
      "AUC-ROC: 0.7731828159696338\n"
     ]
    }
   ],
   "source": [
    "model_balanced = LogisticRegression(class_weight='balanced', solver='liblinear', random_state=12345)\n",
    "model_balanced.fit(features_concat, target_concat)\n",
    "predicted_balance = model_balanced.predict(features_test)\n",
    "probabilities_test = model_balanced.predict_proba(features_test)\n",
    "probabilities_test = probabilities_test[:,1]\n",
    "print('F1:', f1_score(target_test, predicted_balance))\n",
    "print('AUC-ROC:', roc_auc_score(target_test, probabilities_test))"
   ]
  },
  {
   "cell_type": "code",
   "execution_count": 44,
   "metadata": {},
   "outputs": [
    {
     "name": "stdout",
     "output_type": "stream",
     "text": [
      "f1: 0.588380716934487\n",
      "AUC-ROC: 0.8529340236107954\n"
     ]
    }
   ],
   "source": [
    "model_forest_balanced = RandomForestClassifier(random_state=12345, class_weight='balanced', max_depth=11, min_samples_leaf=1, min_samples_split=8,\n",
    "                               n_estimators=90)\n",
    "model_forest_balanced.fit(features_concat,target_concat)\n",
    "\n",
    "predicted_test = model_forest_balanced.predict(features_test)\n",
    "probabilities_test = model_forest_balanced.predict_proba(features_test)\n",
    "probabilities_test = probabilities_test[:,1]\n",
    "print('f1:', f1_score(target_test,predicted_test))\n",
    "print('AUC-ROC:', roc_auc_score(target_test,probabilities_test))"
   ]
  },
  {
   "cell_type": "markdown",
   "metadata": {},
   "source": [
    "### Увеличение выборки"
   ]
  },
  {
   "cell_type": "code",
   "execution_count": 45,
   "metadata": {},
   "outputs": [
    {
     "name": "stdout",
     "output_type": "stream",
     "text": [
      "F1: 0.484472049689441\n",
      "AUC-ROC: 0.7732034797868131\n"
     ]
    }
   ],
   "source": [
    "features_concat_up, target_concat_up = upsample(features_concat, target_concat, 4)\n",
    "model_log.fit(features_concat_up, target_concat_up)\n",
    "predict_test = model_log.predict(features_test)\n",
    "probabilities_test = model_log.predict_proba(features_test)\n",
    "probabilities_test = probabilities_test[:,1]\n",
    "print('F1:', f1_score(target_test, predict_test))\n",
    "print('AUC-ROC:', roc_auc_score(target_test, probabilities_test))"
   ]
  },
  {
   "cell_type": "code",
   "execution_count": 46,
   "metadata": {
    "scrolled": true
   },
   "outputs": [
    {
     "name": "stdout",
     "output_type": "stream",
     "text": [
      "F1: 0.5862457722660653\n",
      "AUC-ROC: 0.8517879765195456\n"
     ]
    }
   ],
   "source": [
    "model_forest = RandomForestClassifier(random_state=12345, max_depth=11, min_samples_leaf=1, min_samples_split=8,\n",
    "                               n_estimators=90)\n",
    "model_forest.fit(features_concat_up, target_concat_up)\n",
    "predict_test = model_forest.predict(features_test)\n",
    "probabilities_test = model_forest.predict_proba(features_test)\n",
    "probabilities_test = probabilities_test[:,1]\n",
    "print('F1:', f1_score(target_test, predict_test))\n",
    "print('AUC-ROC:', roc_auc_score(target_test, probabilities_test))"
   ]
  },
  {
   "cell_type": "markdown",
   "metadata": {},
   "source": [
    "### Уменьшение выборки"
   ]
  },
  {
   "cell_type": "code",
   "execution_count": 47,
   "metadata": {},
   "outputs": [
    {
     "name": "stdout",
     "output_type": "stream",
     "text": [
      "F1: 0.47722772277227726\n",
      "AUC-ROC: 0.7715328896440896\n"
     ]
    }
   ],
   "source": [
    "features_concat_down, target_concat_down = downsample(features_concat, target_concat, 0.3)\n",
    "model_log_down =  LogisticRegression(solver='liblinear', random_state=12345)\n",
    "model_log_down.fit(features_concat_down, target_concat_down)\n",
    "predict_test = model_log_down.predict(features_test)\n",
    "probabilities_test = model_log_down.predict_proba(features_test)\n",
    "probabilities_test = probabilities_test[:,1]\n",
    "print('F1:', f1_score(target_test, predict_test))\n",
    "print('AUC-ROC:', roc_auc_score(target_test, probabilities_test))"
   ]
  },
  {
   "cell_type": "code",
   "execution_count": 48,
   "metadata": {},
   "outputs": [
    {
     "name": "stdout",
     "output_type": "stream",
     "text": [
      "F1: 0.5822510822510822\n",
      "AUC-ROC: 0.8494211746903209\n"
     ]
    }
   ],
   "source": [
    "model_forest = RandomForestClassifier(random_state=12345, max_depth=11, min_samples_leaf=1, min_samples_split=8,\n",
    "                               n_estimators=90)\n",
    "model_forest.fit(features_concat_down, target_concat_down)\n",
    "predict_test = model_forest.predict(features_test)\n",
    "probabilities_test = model_forest.predict_proba(features_test)\n",
    "probabilities_test = probabilities_test[:,1]\n",
    "print('F1:', f1_score(target_test, predict_test))\n",
    "print('AUC-ROC:', roc_auc_score(target_test, probabilities_test))"
   ]
  },
  {
   "cell_type": "code",
   "execution_count": 49,
   "metadata": {},
   "outputs": [
    {
     "name": "stdout",
     "output_type": "stream",
     "text": [
      "Сравнение показателей при тестировании\n"
     ]
    },
    {
     "data": {
      "text/html": [
       "<div>\n",
       "<style scoped>\n",
       "    .dataframe tbody tr th:only-of-type {\n",
       "        vertical-align: middle;\n",
       "    }\n",
       "\n",
       "    .dataframe tbody tr th {\n",
       "        vertical-align: top;\n",
       "    }\n",
       "\n",
       "    .dataframe thead th {\n",
       "        text-align: right;\n",
       "    }\n",
       "</style>\n",
       "<table border=\"1\" class=\"dataframe\">\n",
       "  <thead>\n",
       "    <tr style=\"text-align: right;\">\n",
       "      <th></th>\n",
       "      <th>Model name</th>\n",
       "      <th>Изменение порога</th>\n",
       "      <th>Балансировка весов</th>\n",
       "      <th>Увеличение выборки</th>\n",
       "      <th>Уменьшение выборки</th>\n",
       "    </tr>\n",
       "  </thead>\n",
       "  <tbody>\n",
       "    <tr>\n",
       "      <td>0</td>\n",
       "      <td>Logistic Regression, F1</td>\n",
       "      <td>0.488</td>\n",
       "      <td>0.484</td>\n",
       "      <td>0.484</td>\n",
       "      <td>0.477</td>\n",
       "    </tr>\n",
       "    <tr>\n",
       "      <td>1</td>\n",
       "      <td>Logistic Regression, AUC-ROC</td>\n",
       "      <td>0.768</td>\n",
       "      <td>0.773</td>\n",
       "      <td>0.773</td>\n",
       "      <td>0.772</td>\n",
       "    </tr>\n",
       "    <tr>\n",
       "      <td>2</td>\n",
       "      <td>Random Forest, F1</td>\n",
       "      <td>0.612</td>\n",
       "      <td>0.588</td>\n",
       "      <td>0.586</td>\n",
       "      <td>0.582</td>\n",
       "    </tr>\n",
       "    <tr>\n",
       "      <td>3</td>\n",
       "      <td>Random Forest, AUC-ROC</td>\n",
       "      <td>0.851</td>\n",
       "      <td>0.853</td>\n",
       "      <td>0.851</td>\n",
       "      <td>0.849</td>\n",
       "    </tr>\n",
       "  </tbody>\n",
       "</table>\n",
       "</div>"
      ],
      "text/plain": [
       "                     Model name  Изменение порога  Балансировка весов  \\\n",
       "0       Logistic Regression, F1             0.488               0.484   \n",
       "1  Logistic Regression, AUC-ROC             0.768               0.773   \n",
       "2             Random Forest, F1             0.612               0.588   \n",
       "3        Random Forest, AUC-ROC             0.851               0.853   \n",
       "\n",
       "   Увеличение выборки  Уменьшение выборки  \n",
       "0               0.484               0.477  \n",
       "1               0.773               0.772  \n",
       "2               0.586               0.582  \n",
       "3               0.851               0.849  "
      ]
     },
     "metadata": {},
     "output_type": "display_data"
    }
   ],
   "source": [
    "print('Сравнение показателей при тестировании')\n",
    "display(pd.DataFrame([['Logistic Regression, F1', 0.488, 0.484, 0.484, 0.477],\n",
    "                     ['Logistic Regression, AUC-ROC', 0.768, 0.773, 0.773, 0.772],\n",
    "                    ['Random Forest, F1', 0.612, 0.588, 0.586, 0.582],\n",
    "                    ['Random Forest, AUC-ROC', 0.851, 0.853, 0.851, 0.849]],\n",
    "                    columns=['Model name','Изменение порога', 'Балансировка весов',\n",
    "                           'Увеличение выборки', 'Уменьшение выборки']))"
   ]
  },
  {
   "cell_type": "markdown",
   "metadata": {},
   "source": [
    "При тестировании моделей лучшие показатели обеих моделей оказались: у логистической регрессии при балансировке весов и увеличении выборки, у случайного леса при изменении порога."
   ]
  },
  {
   "cell_type": "markdown",
   "metadata": {},
   "source": [
    "## ВЫВОДЫ:\n",
    "* размер датасета достаточен для исследования.\n",
    "* в датасете исправлены типы данных.\n",
    "* пропуски заполнены.\n",
    "* удалены признаки, которые невозможно привести в численный вид.\n",
    "* категориальные признаки приведены в численный вид методом ОНЕ.\n",
    "* датасет разделен на выборки в соотношении 60:20:20.\n",
    "* признаки стандартизированы.\n",
    "* построены модели логистической регрессии и случайного леса с подбором параметров.\n",
    "* проведены исследования для улучшения показателей качества моделей.\n",
    "* при обучении и тестировании лучшей оказалась модель случайного леса с изменением порога."
   ]
  }
 ],
 "metadata": {
  "ExecuteTimeLog": [
   {
    "duration": 206,
    "start_time": "2022-01-29T11:39:08.083Z"
   },
   {
    "duration": 584,
    "start_time": "2022-01-29T11:39:32.359Z"
   },
   {
    "duration": 31,
    "start_time": "2022-01-29T11:39:33.373Z"
   },
   {
    "duration": 9,
    "start_time": "2022-01-29T11:39:58.656Z"
   },
   {
    "duration": 19,
    "start_time": "2022-01-29T11:41:05.294Z"
   },
   {
    "duration": 6,
    "start_time": "2022-01-29T11:51:09.795Z"
   },
   {
    "duration": 217,
    "start_time": "2022-01-29T11:53:26.184Z"
   },
   {
    "duration": 3,
    "start_time": "2022-01-29T11:55:24.994Z"
   },
   {
    "duration": 171,
    "start_time": "2022-01-29T11:56:18.584Z"
   },
   {
    "duration": 5,
    "start_time": "2022-01-29T11:56:59.540Z"
   },
   {
    "duration": 1066,
    "start_time": "2022-01-29T17:36:59.839Z"
   },
   {
    "duration": 28,
    "start_time": "2022-01-29T17:37:00.907Z"
   },
   {
    "duration": 8,
    "start_time": "2022-01-29T17:37:00.937Z"
   },
   {
    "duration": 20,
    "start_time": "2022-01-29T17:37:00.947Z"
   },
   {
    "duration": 8,
    "start_time": "2022-01-29T17:37:00.968Z"
   },
   {
    "duration": 9,
    "start_time": "2022-01-29T17:37:00.979Z"
   },
   {
    "duration": 8,
    "start_time": "2022-01-29T17:37:00.990Z"
   },
   {
    "duration": 377,
    "start_time": "2022-01-29T17:38:17.088Z"
   },
   {
    "duration": 306,
    "start_time": "2022-01-29T17:38:46.214Z"
   },
   {
    "duration": 306,
    "start_time": "2022-01-29T17:38:55.642Z"
   },
   {
    "duration": 328,
    "start_time": "2022-01-29T17:39:32.880Z"
   },
   {
    "duration": 1057,
    "start_time": "2022-01-29T17:39:56.131Z"
   },
   {
    "duration": 28,
    "start_time": "2022-01-29T17:39:57.190Z"
   },
   {
    "duration": 9,
    "start_time": "2022-01-29T17:39:57.219Z"
   },
   {
    "duration": 17,
    "start_time": "2022-01-29T17:39:57.230Z"
   },
   {
    "duration": 6,
    "start_time": "2022-01-29T17:39:57.248Z"
   },
   {
    "duration": 17,
    "start_time": "2022-01-29T17:39:57.255Z"
   },
   {
    "duration": 4,
    "start_time": "2022-01-29T17:39:57.274Z"
   },
   {
    "duration": 389,
    "start_time": "2022-01-29T17:39:57.280Z"
   },
   {
    "duration": 398,
    "start_time": "2022-01-29T17:41:02.649Z"
   },
   {
    "duration": 1079,
    "start_time": "2022-01-29T17:41:52.257Z"
   },
   {
    "duration": 28,
    "start_time": "2022-01-29T17:41:53.337Z"
   },
   {
    "duration": 8,
    "start_time": "2022-01-29T17:41:53.366Z"
   },
   {
    "duration": 14,
    "start_time": "2022-01-29T17:41:53.376Z"
   },
   {
    "duration": 4,
    "start_time": "2022-01-29T17:41:53.392Z"
   },
   {
    "duration": 10,
    "start_time": "2022-01-29T17:41:53.397Z"
   },
   {
    "duration": 4,
    "start_time": "2022-01-29T17:41:53.408Z"
   },
   {
    "duration": 374,
    "start_time": "2022-01-29T17:41:53.414Z"
   },
   {
    "duration": 5898,
    "start_time": "2022-01-29T17:41:47.892Z"
   },
   {
    "duration": 5890,
    "start_time": "2022-01-29T17:41:47.902Z"
   },
   {
    "duration": 306,
    "start_time": "2022-01-29T17:43:40.442Z"
   },
   {
    "duration": 987,
    "start_time": "2022-01-29T17:43:54.789Z"
   },
   {
    "duration": 29,
    "start_time": "2022-01-29T17:43:55.777Z"
   },
   {
    "duration": 8,
    "start_time": "2022-01-29T17:43:55.808Z"
   },
   {
    "duration": 17,
    "start_time": "2022-01-29T17:43:55.817Z"
   },
   {
    "duration": 5,
    "start_time": "2022-01-29T17:43:55.835Z"
   },
   {
    "duration": 31,
    "start_time": "2022-01-29T17:43:55.842Z"
   },
   {
    "duration": 4,
    "start_time": "2022-01-29T17:43:55.874Z"
   },
   {
    "duration": 422,
    "start_time": "2022-01-29T17:43:55.880Z"
   },
   {
    "duration": 5853,
    "start_time": "2022-01-29T17:43:50.450Z"
   },
   {
    "duration": 5846,
    "start_time": "2022-01-29T17:43:50.458Z"
   },
   {
    "duration": 1018,
    "start_time": "2022-01-29T17:46:24.063Z"
   },
   {
    "duration": 27,
    "start_time": "2022-01-29T17:46:25.086Z"
   },
   {
    "duration": 7,
    "start_time": "2022-01-29T17:46:25.115Z"
   },
   {
    "duration": 25,
    "start_time": "2022-01-29T17:46:25.123Z"
   },
   {
    "duration": 17,
    "start_time": "2022-01-29T17:46:25.150Z"
   },
   {
    "duration": 26,
    "start_time": "2022-01-29T17:46:25.168Z"
   },
   {
    "duration": 14,
    "start_time": "2022-01-29T17:46:25.195Z"
   },
   {
    "duration": 20,
    "start_time": "2022-01-29T17:46:25.211Z"
   },
   {
    "duration": 6,
    "start_time": "2022-01-29T17:46:25.232Z"
   },
   {
    "duration": 13,
    "start_time": "2022-01-29T17:46:25.240Z"
   },
   {
    "duration": 7,
    "start_time": "2022-01-29T17:50:15.212Z"
   },
   {
    "duration": 7,
    "start_time": "2022-01-29T17:51:26.687Z"
   },
   {
    "duration": 3,
    "start_time": "2022-01-29T17:52:47.924Z"
   },
   {
    "duration": 3,
    "start_time": "2022-01-29T17:52:48.916Z"
   },
   {
    "duration": 4,
    "start_time": "2022-01-29T17:52:49.790Z"
   },
   {
    "duration": 6,
    "start_time": "2022-01-29T17:53:16.026Z"
   },
   {
    "duration": 3,
    "start_time": "2022-01-29T17:53:16.913Z"
   },
   {
    "duration": 4,
    "start_time": "2022-01-29T17:53:18.135Z"
   },
   {
    "duration": 3,
    "start_time": "2022-01-29T17:53:19.066Z"
   },
   {
    "duration": 7,
    "start_time": "2022-01-29T17:54:10.119Z"
   },
   {
    "duration": 8,
    "start_time": "2022-01-29T17:54:11.770Z"
   },
   {
    "duration": 3,
    "start_time": "2022-01-29T17:54:12.495Z"
   },
   {
    "duration": 3,
    "start_time": "2022-01-29T17:54:13.325Z"
   },
   {
    "duration": 4,
    "start_time": "2022-01-29T17:54:14.190Z"
   },
   {
    "duration": 9,
    "start_time": "2022-01-29T17:57:01.223Z"
   },
   {
    "duration": 379,
    "start_time": "2022-01-29T17:58:37.431Z"
   },
   {
    "duration": 297,
    "start_time": "2022-01-29T17:59:16.327Z"
   },
   {
    "duration": 7,
    "start_time": "2022-01-29T18:00:01.475Z"
   },
   {
    "duration": 6,
    "start_time": "2022-01-29T18:01:20.808Z"
   },
   {
    "duration": 14,
    "start_time": "2022-01-29T18:01:39.169Z"
   },
   {
    "duration": 301,
    "start_time": "2022-01-29T18:13:17.294Z"
   },
   {
    "duration": 981,
    "start_time": "2022-01-29T18:34:23.105Z"
   },
   {
    "duration": 29,
    "start_time": "2022-01-29T18:34:24.087Z"
   },
   {
    "duration": 9,
    "start_time": "2022-01-29T18:34:24.118Z"
   },
   {
    "duration": 18,
    "start_time": "2022-01-29T18:34:24.129Z"
   },
   {
    "duration": 6,
    "start_time": "2022-01-29T18:34:24.149Z"
   },
   {
    "duration": 3,
    "start_time": "2022-01-29T18:34:24.171Z"
   },
   {
    "duration": 8,
    "start_time": "2022-01-29T18:34:24.176Z"
   },
   {
    "duration": 4,
    "start_time": "2022-01-29T18:34:24.185Z"
   },
   {
    "duration": 8,
    "start_time": "2022-01-29T18:34:24.192Z"
   },
   {
    "duration": 5,
    "start_time": "2022-01-29T18:34:24.201Z"
   },
   {
    "duration": 11,
    "start_time": "2022-01-29T18:34:24.207Z"
   },
   {
    "duration": 9,
    "start_time": "2022-01-29T18:34:24.220Z"
   },
   {
    "duration": 7,
    "start_time": "2022-01-29T18:34:24.230Z"
   },
   {
    "duration": 4,
    "start_time": "2022-01-29T18:34:24.272Z"
   },
   {
    "duration": 4,
    "start_time": "2022-01-29T18:34:24.278Z"
   },
   {
    "duration": 12,
    "start_time": "2022-01-29T18:34:24.284Z"
   },
   {
    "duration": 390,
    "start_time": "2022-01-29T18:34:24.298Z"
   },
   {
    "duration": 1375,
    "start_time": "2022-01-29T18:48:59.523Z"
   },
   {
    "duration": 31,
    "start_time": "2022-01-29T18:49:00.903Z"
   },
   {
    "duration": 9,
    "start_time": "2022-01-29T18:49:00.936Z"
   },
   {
    "duration": 26,
    "start_time": "2022-01-29T18:49:00.946Z"
   },
   {
    "duration": 6,
    "start_time": "2022-01-29T18:49:00.974Z"
   },
   {
    "duration": 7,
    "start_time": "2022-01-29T18:49:00.982Z"
   },
   {
    "duration": 7,
    "start_time": "2022-01-29T18:49:00.992Z"
   },
   {
    "duration": 8,
    "start_time": "2022-01-29T18:49:01.001Z"
   },
   {
    "duration": 64,
    "start_time": "2022-01-29T18:49:01.011Z"
   },
   {
    "duration": 9,
    "start_time": "2022-01-29T18:49:01.077Z"
   },
   {
    "duration": 9,
    "start_time": "2022-01-29T18:49:01.088Z"
   },
   {
    "duration": 13,
    "start_time": "2022-01-29T18:49:01.099Z"
   },
   {
    "duration": 7,
    "start_time": "2022-01-29T18:49:01.114Z"
   },
   {
    "duration": 6,
    "start_time": "2022-01-29T18:49:01.123Z"
   },
   {
    "duration": 12,
    "start_time": "2022-01-29T18:49:01.130Z"
   },
   {
    "duration": 10,
    "start_time": "2022-01-29T18:49:01.143Z"
   },
   {
    "duration": 21,
    "start_time": "2022-01-29T18:49:01.155Z"
   },
   {
    "duration": 420,
    "start_time": "2022-01-29T18:49:01.177Z"
   },
   {
    "duration": 993,
    "start_time": "2022-01-29T18:51:29.198Z"
   },
   {
    "duration": 30,
    "start_time": "2022-01-29T18:51:30.193Z"
   },
   {
    "duration": 8,
    "start_time": "2022-01-29T18:51:30.225Z"
   },
   {
    "duration": 16,
    "start_time": "2022-01-29T18:51:30.235Z"
   },
   {
    "duration": 5,
    "start_time": "2022-01-29T18:51:30.252Z"
   },
   {
    "duration": 13,
    "start_time": "2022-01-29T18:51:30.258Z"
   },
   {
    "duration": 9,
    "start_time": "2022-01-29T18:51:30.273Z"
   },
   {
    "duration": 4,
    "start_time": "2022-01-29T18:51:30.283Z"
   },
   {
    "duration": 36,
    "start_time": "2022-01-29T18:51:30.290Z"
   },
   {
    "duration": 9,
    "start_time": "2022-01-29T18:51:30.328Z"
   },
   {
    "duration": 9,
    "start_time": "2022-01-29T18:51:30.338Z"
   },
   {
    "duration": 25,
    "start_time": "2022-01-29T18:51:30.348Z"
   },
   {
    "duration": 9,
    "start_time": "2022-01-29T18:51:30.375Z"
   },
   {
    "duration": 13,
    "start_time": "2022-01-29T18:51:30.385Z"
   },
   {
    "duration": 10,
    "start_time": "2022-01-29T18:51:30.399Z"
   },
   {
    "duration": 13,
    "start_time": "2022-01-29T18:51:30.410Z"
   },
   {
    "duration": 23,
    "start_time": "2022-01-29T18:51:30.424Z"
   },
   {
    "duration": 47,
    "start_time": "2022-01-29T18:51:30.448Z"
   },
   {
    "duration": 5,
    "start_time": "2022-01-29T18:53:35.002Z"
   },
   {
    "duration": 1439,
    "start_time": "2022-01-29T18:59:53.138Z"
   },
   {
    "duration": 6025,
    "start_time": "2022-01-29T18:59:48.555Z"
   },
   {
    "duration": 6021,
    "start_time": "2022-01-29T18:59:48.560Z"
   },
   {
    "duration": 6015,
    "start_time": "2022-01-29T18:59:48.567Z"
   },
   {
    "duration": 5975,
    "start_time": "2022-01-29T18:59:48.608Z"
   },
   {
    "duration": 5970,
    "start_time": "2022-01-29T18:59:48.614Z"
   },
   {
    "duration": 5965,
    "start_time": "2022-01-29T18:59:48.620Z"
   },
   {
    "duration": 5960,
    "start_time": "2022-01-29T18:59:48.625Z"
   },
   {
    "duration": 5955,
    "start_time": "2022-01-29T18:59:48.631Z"
   },
   {
    "duration": 5951,
    "start_time": "2022-01-29T18:59:48.636Z"
   },
   {
    "duration": 5946,
    "start_time": "2022-01-29T18:59:48.642Z"
   },
   {
    "duration": 5942,
    "start_time": "2022-01-29T18:59:48.647Z"
   },
   {
    "duration": 5937,
    "start_time": "2022-01-29T18:59:48.653Z"
   },
   {
    "duration": 5930,
    "start_time": "2022-01-29T18:59:48.661Z"
   },
   {
    "duration": 5926,
    "start_time": "2022-01-29T18:59:48.666Z"
   },
   {
    "duration": 5922,
    "start_time": "2022-01-29T18:59:48.671Z"
   },
   {
    "duration": 5917,
    "start_time": "2022-01-29T18:59:48.676Z"
   },
   {
    "duration": 5896,
    "start_time": "2022-01-29T18:59:48.698Z"
   },
   {
    "duration": 5889,
    "start_time": "2022-01-29T18:59:48.706Z"
   },
   {
    "duration": 5884,
    "start_time": "2022-01-29T18:59:48.712Z"
   },
   {
    "duration": 1024,
    "start_time": "2022-01-29T19:00:49.663Z"
   },
   {
    "duration": 29,
    "start_time": "2022-01-29T19:00:50.689Z"
   },
   {
    "duration": 15,
    "start_time": "2022-01-29T19:00:50.720Z"
   },
   {
    "duration": 32,
    "start_time": "2022-01-29T19:00:50.736Z"
   },
   {
    "duration": 20,
    "start_time": "2022-01-29T19:00:50.769Z"
   },
   {
    "duration": 14,
    "start_time": "2022-01-29T19:00:50.791Z"
   },
   {
    "duration": 36,
    "start_time": "2022-01-29T19:00:50.806Z"
   },
   {
    "duration": 17,
    "start_time": "2022-01-29T19:00:50.844Z"
   },
   {
    "duration": 51,
    "start_time": "2022-01-29T19:00:50.863Z"
   },
   {
    "duration": 9,
    "start_time": "2022-01-29T19:00:50.915Z"
   },
   {
    "duration": 5,
    "start_time": "2022-01-29T19:00:50.926Z"
   },
   {
    "duration": 21,
    "start_time": "2022-01-29T19:00:50.933Z"
   },
   {
    "duration": 10,
    "start_time": "2022-01-29T19:00:50.956Z"
   },
   {
    "duration": 10,
    "start_time": "2022-01-29T19:00:50.968Z"
   },
   {
    "duration": 16,
    "start_time": "2022-01-29T19:00:50.980Z"
   },
   {
    "duration": 15,
    "start_time": "2022-01-29T19:00:50.997Z"
   },
   {
    "duration": 27,
    "start_time": "2022-01-29T19:00:51.014Z"
   },
   {
    "duration": 18,
    "start_time": "2022-01-29T19:00:51.043Z"
   },
   {
    "duration": 54,
    "start_time": "2022-01-29T19:00:51.062Z"
   },
   {
    "duration": 4,
    "start_time": "2022-01-29T19:00:51.117Z"
   },
   {
    "duration": 4,
    "start_time": "2022-01-29T19:04:16.112Z"
   },
   {
    "duration": 6,
    "start_time": "2022-01-29T19:06:14.727Z"
   },
   {
    "duration": 392,
    "start_time": "2022-01-29T19:11:18.802Z"
   },
   {
    "duration": 1413,
    "start_time": "2022-01-30T19:39:00.871Z"
   },
   {
    "duration": 37,
    "start_time": "2022-01-30T19:39:02.287Z"
   },
   {
    "duration": 11,
    "start_time": "2022-01-30T19:39:02.329Z"
   },
   {
    "duration": 41,
    "start_time": "2022-01-30T19:39:02.342Z"
   },
   {
    "duration": 7,
    "start_time": "2022-01-30T19:39:02.385Z"
   },
   {
    "duration": 6,
    "start_time": "2022-01-30T19:39:02.395Z"
   },
   {
    "duration": 10,
    "start_time": "2022-01-30T19:39:02.404Z"
   },
   {
    "duration": 41,
    "start_time": "2022-01-30T19:39:02.418Z"
   },
   {
    "duration": 319,
    "start_time": "2022-01-30T19:39:02.462Z"
   },
   {
    "duration": 44,
    "start_time": "2022-01-30T19:39:02.784Z"
   },
   {
    "duration": 68,
    "start_time": "2022-01-30T19:39:02.832Z"
   },
   {
    "duration": 236,
    "start_time": "2022-01-30T19:39:02.903Z"
   },
   {
    "duration": 190,
    "start_time": "2022-01-30T19:39:03.142Z"
   },
   {
    "duration": 6,
    "start_time": "2022-01-30T19:39:03.335Z"
   },
   {
    "duration": 17,
    "start_time": "2022-01-30T19:39:03.344Z"
   },
   {
    "duration": 6,
    "start_time": "2022-01-30T19:39:03.363Z"
   },
   {
    "duration": 777,
    "start_time": "2022-01-30T19:39:03.371Z"
   },
   {
    "duration": 30,
    "start_time": "2022-01-30T19:39:04.150Z"
   },
   {
    "duration": 14,
    "start_time": "2022-01-30T19:39:04.183Z"
   },
   {
    "duration": 1091,
    "start_time": "2022-01-30T19:39:04.200Z"
   },
   {
    "duration": 6,
    "start_time": "2022-01-30T19:39:05.293Z"
   },
   {
    "duration": 268,
    "start_time": "2022-01-30T19:39:05.303Z"
   },
   {
    "duration": 543,
    "start_time": "2022-01-30T19:39:05.573Z"
   },
   {
    "duration": 413,
    "start_time": "2022-01-30T19:39:46.278Z"
   },
   {
    "duration": 1781,
    "start_time": "2022-01-30T19:40:12.807Z"
   },
   {
    "duration": 37,
    "start_time": "2022-01-30T19:40:14.591Z"
   },
   {
    "duration": 12,
    "start_time": "2022-01-30T19:40:14.631Z"
   },
   {
    "duration": 35,
    "start_time": "2022-01-30T19:40:14.646Z"
   },
   {
    "duration": 8,
    "start_time": "2022-01-30T19:40:14.683Z"
   },
   {
    "duration": 5,
    "start_time": "2022-01-30T19:40:14.694Z"
   },
   {
    "duration": 9,
    "start_time": "2022-01-30T19:40:14.702Z"
   },
   {
    "duration": 44,
    "start_time": "2022-01-30T19:40:14.715Z"
   },
   {
    "duration": 315,
    "start_time": "2022-01-30T19:40:14.762Z"
   },
   {
    "duration": 44,
    "start_time": "2022-01-30T19:40:15.080Z"
   },
   {
    "duration": 61,
    "start_time": "2022-01-30T19:40:15.127Z"
   },
   {
    "duration": 224,
    "start_time": "2022-01-30T19:40:15.191Z"
   },
   {
    "duration": 182,
    "start_time": "2022-01-30T19:40:15.417Z"
   },
   {
    "duration": 4,
    "start_time": "2022-01-30T19:40:15.601Z"
   },
   {
    "duration": 6,
    "start_time": "2022-01-30T19:40:15.608Z"
   },
   {
    "duration": 5,
    "start_time": "2022-01-30T19:40:15.616Z"
   },
   {
    "duration": 777,
    "start_time": "2022-01-30T19:40:15.623Z"
   },
   {
    "duration": 2157,
    "start_time": "2022-01-30T19:40:16.403Z"
   },
   {
    "duration": 7017,
    "start_time": "2022-01-30T19:40:11.546Z"
   },
   {
    "duration": 7006,
    "start_time": "2022-01-30T19:40:11.558Z"
   },
   {
    "duration": 7000,
    "start_time": "2022-01-30T19:40:11.566Z"
   },
   {
    "duration": 6993,
    "start_time": "2022-01-30T19:40:11.574Z"
   },
   {
    "duration": 6986,
    "start_time": "2022-01-30T19:40:11.582Z"
   },
   {
    "duration": 6,
    "start_time": "2022-01-30T19:40:50.146Z"
   },
   {
    "duration": 383,
    "start_time": "2022-01-30T19:57:01.038Z"
   },
   {
    "duration": 351,
    "start_time": "2022-01-30T19:57:07.586Z"
   },
   {
    "duration": 1426,
    "start_time": "2022-01-30T20:01:19.357Z"
   },
   {
    "duration": 37,
    "start_time": "2022-01-30T20:01:20.785Z"
   },
   {
    "duration": 11,
    "start_time": "2022-01-30T20:01:20.825Z"
   },
   {
    "duration": 38,
    "start_time": "2022-01-30T20:01:20.839Z"
   },
   {
    "duration": 7,
    "start_time": "2022-01-30T20:01:20.880Z"
   },
   {
    "duration": 10,
    "start_time": "2022-01-30T20:01:20.889Z"
   },
   {
    "duration": 14,
    "start_time": "2022-01-30T20:01:20.901Z"
   },
   {
    "duration": 5,
    "start_time": "2022-01-30T20:01:20.919Z"
   },
   {
    "duration": 364,
    "start_time": "2022-01-30T20:01:20.927Z"
   },
   {
    "duration": 44,
    "start_time": "2022-01-30T20:01:21.293Z"
   },
   {
    "duration": 54,
    "start_time": "2022-01-30T20:01:21.340Z"
   },
   {
    "duration": 234,
    "start_time": "2022-01-30T20:01:21.396Z"
   },
   {
    "duration": 186,
    "start_time": "2022-01-30T20:01:21.632Z"
   },
   {
    "duration": 5,
    "start_time": "2022-01-30T20:01:21.820Z"
   },
   {
    "duration": 7,
    "start_time": "2022-01-30T20:01:21.828Z"
   },
   {
    "duration": 25,
    "start_time": "2022-01-30T20:01:21.838Z"
   },
   {
    "duration": 732,
    "start_time": "2022-01-30T20:01:21.865Z"
   },
   {
    "duration": 15,
    "start_time": "2022-01-30T20:01:22.599Z"
   },
   {
    "duration": 8644,
    "start_time": "2022-01-30T20:01:22.616Z"
   },
   {
    "duration": 7,
    "start_time": "2022-01-30T20:01:31.263Z"
   },
   {
    "duration": 20,
    "start_time": "2022-01-30T20:01:31.272Z"
   },
   {
    "duration": 147,
    "start_time": "2022-01-30T20:01:31.361Z"
   },
   {
    "duration": 5,
    "start_time": "2022-01-30T20:02:25.935Z"
   },
   {
    "duration": 132,
    "start_time": "2022-01-30T20:02:41.485Z"
   },
   {
    "duration": 113,
    "start_time": "2022-01-30T20:03:56.226Z"
   },
   {
    "duration": 107,
    "start_time": "2022-01-30T20:04:17.932Z"
   },
   {
    "duration": 533,
    "start_time": "2022-01-30T20:09:19.886Z"
   },
   {
    "duration": 5,
    "start_time": "2022-01-30T20:09:40.670Z"
   },
   {
    "duration": 8,
    "start_time": "2022-01-30T20:09:47.704Z"
   },
   {
    "duration": 8630,
    "start_time": "2022-01-30T20:28:17.435Z"
   },
   {
    "duration": 8449,
    "start_time": "2022-01-30T20:28:42.811Z"
   },
   {
    "duration": 8,
    "start_time": "2022-01-30T20:29:04.134Z"
   },
   {
    "duration": 10,
    "start_time": "2022-01-30T20:30:36.330Z"
   },
   {
    "duration": 378,
    "start_time": "2022-01-30T20:31:35.016Z"
   },
   {
    "duration": 3,
    "start_time": "2022-01-30T20:32:44.478Z"
   },
   {
    "duration": 8,
    "start_time": "2022-01-30T20:34:35.009Z"
   },
   {
    "duration": 561,
    "start_time": "2022-01-30T20:36:36.118Z"
   },
   {
    "duration": 12071,
    "start_time": "2022-01-30T20:39:00.390Z"
   },
   {
    "duration": 9,
    "start_time": "2022-01-30T20:40:14.760Z"
   },
   {
    "duration": 8,
    "start_time": "2022-01-30T20:44:24.458Z"
   },
   {
    "duration": 1379,
    "start_time": "2022-01-31T10:20:22.236Z"
   },
   {
    "duration": 36,
    "start_time": "2022-01-31T10:20:23.618Z"
   },
   {
    "duration": 14,
    "start_time": "2022-01-31T10:20:23.658Z"
   },
   {
    "duration": 30,
    "start_time": "2022-01-31T10:20:23.675Z"
   },
   {
    "duration": 9,
    "start_time": "2022-01-31T10:20:23.734Z"
   },
   {
    "duration": 7,
    "start_time": "2022-01-31T10:20:23.746Z"
   },
   {
    "duration": 12,
    "start_time": "2022-01-31T10:20:23.756Z"
   },
   {
    "duration": 5,
    "start_time": "2022-01-31T10:20:23.770Z"
   },
   {
    "duration": 340,
    "start_time": "2022-01-31T10:20:23.781Z"
   },
   {
    "duration": 49,
    "start_time": "2022-01-31T10:20:24.125Z"
   },
   {
    "duration": 65,
    "start_time": "2022-01-31T10:20:24.177Z"
   },
   {
    "duration": 225,
    "start_time": "2022-01-31T10:20:24.244Z"
   },
   {
    "duration": 194,
    "start_time": "2022-01-31T10:20:24.471Z"
   },
   {
    "duration": 5,
    "start_time": "2022-01-31T10:20:24.668Z"
   },
   {
    "duration": 15,
    "start_time": "2022-01-31T10:20:24.676Z"
   },
   {
    "duration": 9,
    "start_time": "2022-01-31T10:20:24.694Z"
   },
   {
    "duration": 29,
    "start_time": "2022-01-31T10:20:24.734Z"
   },
   {
    "duration": 14,
    "start_time": "2022-01-31T10:20:24.767Z"
   },
   {
    "duration": 447,
    "start_time": "2022-01-31T10:20:24.784Z"
   },
   {
    "duration": 99,
    "start_time": "2022-01-31T10:20:25.235Z"
   },
   {
    "duration": 102,
    "start_time": "2022-01-31T10:20:25.336Z"
   },
   {
    "duration": 246,
    "start_time": "2022-01-31T10:20:25.441Z"
   },
   {
    "duration": 6,
    "start_time": "2022-01-31T10:20:25.689Z"
   },
   {
    "duration": 13,
    "start_time": "2022-01-31T10:20:25.697Z"
   },
   {
    "duration": 527,
    "start_time": "2022-01-31T10:20:25.712Z"
   },
   {
    "duration": 93,
    "start_time": "2022-01-31T10:20:26.241Z"
   },
   {
    "duration": 411,
    "start_time": "2022-01-31T10:23:58.212Z"
   },
   {
    "duration": 4,
    "start_time": "2022-01-31T10:24:05.637Z"
   },
   {
    "duration": 1184,
    "start_time": "2022-01-31T19:28:32.142Z"
   },
   {
    "duration": 28,
    "start_time": "2022-01-31T19:28:33.328Z"
   },
   {
    "duration": 7,
    "start_time": "2022-01-31T19:28:33.359Z"
   },
   {
    "duration": 14,
    "start_time": "2022-01-31T19:28:33.368Z"
   },
   {
    "duration": 4,
    "start_time": "2022-01-31T19:28:33.384Z"
   },
   {
    "duration": 7,
    "start_time": "2022-01-31T19:28:33.390Z"
   },
   {
    "duration": 6,
    "start_time": "2022-01-31T19:28:33.399Z"
   },
   {
    "duration": 3,
    "start_time": "2022-01-31T19:28:33.406Z"
   },
   {
    "duration": 440,
    "start_time": "2022-01-31T19:28:33.427Z"
   },
   {
    "duration": 6665,
    "start_time": "2022-01-31T19:28:27.204Z"
   },
   {
    "duration": 6657,
    "start_time": "2022-01-31T19:28:27.213Z"
   },
   {
    "duration": 6649,
    "start_time": "2022-01-31T19:28:27.222Z"
   },
   {
    "duration": 6639,
    "start_time": "2022-01-31T19:28:27.232Z"
   },
   {
    "duration": 6631,
    "start_time": "2022-01-31T19:28:27.241Z"
   },
   {
    "duration": 6623,
    "start_time": "2022-01-31T19:28:27.250Z"
   },
   {
    "duration": 6616,
    "start_time": "2022-01-31T19:28:27.258Z"
   },
   {
    "duration": 6609,
    "start_time": "2022-01-31T19:28:27.266Z"
   },
   {
    "duration": 6600,
    "start_time": "2022-01-31T19:28:27.275Z"
   },
   {
    "duration": 6592,
    "start_time": "2022-01-31T19:28:27.284Z"
   },
   {
    "duration": 6585,
    "start_time": "2022-01-31T19:28:27.292Z"
   },
   {
    "duration": 6561,
    "start_time": "2022-01-31T19:28:27.317Z"
   },
   {
    "duration": 6553,
    "start_time": "2022-01-31T19:28:27.325Z"
   },
   {
    "duration": 6546,
    "start_time": "2022-01-31T19:28:27.333Z"
   },
   {
    "duration": 6541,
    "start_time": "2022-01-31T19:28:27.339Z"
   },
   {
    "duration": 6535,
    "start_time": "2022-01-31T19:28:27.346Z"
   },
   {
    "duration": 6528,
    "start_time": "2022-01-31T19:28:27.353Z"
   },
   {
    "duration": 6523,
    "start_time": "2022-01-31T19:28:27.359Z"
   },
   {
    "duration": 6517,
    "start_time": "2022-01-31T19:28:27.366Z"
   },
   {
    "duration": 6512,
    "start_time": "2022-01-31T19:28:27.372Z"
   },
   {
    "duration": 4,
    "start_time": "2022-01-31T19:28:51.601Z"
   },
   {
    "duration": 964,
    "start_time": "2022-01-31T19:29:00.274Z"
   },
   {
    "duration": 28,
    "start_time": "2022-01-31T19:29:01.240Z"
   },
   {
    "duration": 7,
    "start_time": "2022-01-31T19:29:01.270Z"
   },
   {
    "duration": 22,
    "start_time": "2022-01-31T19:29:01.279Z"
   },
   {
    "duration": 4,
    "start_time": "2022-01-31T19:29:01.303Z"
   },
   {
    "duration": 4,
    "start_time": "2022-01-31T19:29:01.309Z"
   },
   {
    "duration": 17,
    "start_time": "2022-01-31T19:29:01.314Z"
   },
   {
    "duration": 3,
    "start_time": "2022-01-31T19:29:01.333Z"
   },
   {
    "duration": 12,
    "start_time": "2022-01-31T19:29:01.338Z"
   },
   {
    "duration": 17,
    "start_time": "2022-01-31T19:29:01.351Z"
   },
   {
    "duration": 11,
    "start_time": "2022-01-31T19:29:01.369Z"
   },
   {
    "duration": 10,
    "start_time": "2022-01-31T19:29:01.381Z"
   },
   {
    "duration": 4,
    "start_time": "2022-01-31T19:29:01.393Z"
   },
   {
    "duration": 28,
    "start_time": "2022-01-31T19:29:01.399Z"
   },
   {
    "duration": 7,
    "start_time": "2022-01-31T19:29:01.429Z"
   },
   {
    "duration": 4,
    "start_time": "2022-01-31T19:29:01.437Z"
   },
   {
    "duration": 9,
    "start_time": "2022-01-31T19:29:01.443Z"
   },
   {
    "duration": 5,
    "start_time": "2022-01-31T19:29:01.454Z"
   },
   {
    "duration": 24,
    "start_time": "2022-01-31T19:29:01.460Z"
   },
   {
    "duration": 10,
    "start_time": "2022-01-31T19:29:01.486Z"
   },
   {
    "duration": 555,
    "start_time": "2022-01-31T19:29:01.498Z"
   },
   {
    "duration": 6743,
    "start_time": "2022-01-31T19:28:55.312Z"
   },
   {
    "duration": 6737,
    "start_time": "2022-01-31T19:28:55.319Z"
   },
   {
    "duration": 6731,
    "start_time": "2022-01-31T19:28:55.326Z"
   },
   {
    "duration": 6726,
    "start_time": "2022-01-31T19:28:55.332Z"
   },
   {
    "duration": 6701,
    "start_time": "2022-01-31T19:28:55.358Z"
   },
   {
    "duration": 6694,
    "start_time": "2022-01-31T19:28:55.366Z"
   },
   {
    "duration": 6687,
    "start_time": "2022-01-31T19:28:55.374Z"
   },
   {
    "duration": 6681,
    "start_time": "2022-01-31T19:28:55.381Z"
   },
   {
    "duration": 349,
    "start_time": "2022-01-31T19:30:10.307Z"
   },
   {
    "duration": 29,
    "start_time": "2022-01-31T19:31:41.102Z"
   },
   {
    "duration": 7,
    "start_time": "2022-01-31T19:32:15.401Z"
   },
   {
    "duration": 2174,
    "start_time": "2022-01-31T19:32:36.124Z"
   },
   {
    "duration": 397,
    "start_time": "2022-01-31T19:33:13.553Z"
   },
   {
    "duration": 356,
    "start_time": "2022-01-31T19:34:57.481Z"
   },
   {
    "duration": 17891,
    "start_time": "2022-01-31T19:35:10.477Z"
   },
   {
    "duration": 19430,
    "start_time": "2022-01-31T19:36:53.125Z"
   },
   {
    "duration": 19106,
    "start_time": "2022-01-31T19:37:58.691Z"
   },
   {
    "duration": 18499,
    "start_time": "2022-01-31T19:38:37.919Z"
   },
   {
    "duration": 17726,
    "start_time": "2022-01-31T19:39:08.511Z"
   },
   {
    "duration": 18692,
    "start_time": "2022-01-31T19:39:48.463Z"
   },
   {
    "duration": 6183,
    "start_time": "2022-01-31T19:43:37.409Z"
   },
   {
    "duration": 19253,
    "start_time": "2022-01-31T19:43:51.075Z"
   },
   {
    "duration": 19098,
    "start_time": "2022-01-31T19:44:26.900Z"
   },
   {
    "duration": 24,
    "start_time": "2022-01-31T19:46:48.677Z"
   },
   {
    "duration": 327,
    "start_time": "2022-01-31T19:47:02.679Z"
   },
   {
    "duration": 6,
    "start_time": "2022-01-31T19:47:27.728Z"
   },
   {
    "duration": 125,
    "start_time": "2022-01-31T19:49:06.643Z"
   },
   {
    "duration": 338,
    "start_time": "2022-01-31T19:49:53.633Z"
   },
   {
    "duration": 364,
    "start_time": "2022-01-31T19:50:26.400Z"
   },
   {
    "duration": 111,
    "start_time": "2022-01-31T19:52:03.764Z"
   },
   {
    "duration": 79,
    "start_time": "2022-01-31T19:52:15.757Z"
   },
   {
    "duration": 110,
    "start_time": "2022-01-31T19:53:19.179Z"
   },
   {
    "duration": 90,
    "start_time": "2022-01-31T19:53:52.776Z"
   },
   {
    "duration": 39,
    "start_time": "2022-01-31T19:55:44.688Z"
   },
   {
    "duration": 6,
    "start_time": "2022-01-31T19:55:47.589Z"
   },
   {
    "duration": 113,
    "start_time": "2022-01-31T19:57:30.312Z"
   },
   {
    "duration": 332,
    "start_time": "2022-01-31T19:57:38.180Z"
   },
   {
    "duration": 95,
    "start_time": "2022-01-31T19:57:55.632Z"
   },
   {
    "duration": 524,
    "start_time": "2022-01-31T20:00:50.868Z"
   },
   {
    "duration": 4,
    "start_time": "2022-01-31T20:01:08.334Z"
   },
   {
    "duration": 4,
    "start_time": "2022-01-31T20:15:36.434Z"
   },
   {
    "duration": 326,
    "start_time": "2022-01-31T20:15:37.544Z"
   },
   {
    "duration": 345,
    "start_time": "2022-01-31T20:16:32.189Z"
   },
   {
    "duration": 668,
    "start_time": "2022-01-31T20:16:44.636Z"
   },
   {
    "duration": 4,
    "start_time": "2022-01-31T20:17:58.425Z"
   },
   {
    "duration": 74,
    "start_time": "2022-01-31T20:18:07.372Z"
   },
   {
    "duration": 133,
    "start_time": "2022-01-31T20:22:27.901Z"
   },
   {
    "duration": 3,
    "start_time": "2022-01-31T20:26:10.430Z"
   },
   {
    "duration": 29,
    "start_time": "2022-01-31T20:26:11.702Z"
   },
   {
    "duration": 26,
    "start_time": "2022-01-31T20:27:14.992Z"
   },
   {
    "duration": 51,
    "start_time": "2022-01-31T20:27:30.783Z"
   },
   {
    "duration": 49,
    "start_time": "2022-01-31T20:27:41.624Z"
   },
   {
    "duration": 80,
    "start_time": "2022-01-31T20:27:48.249Z"
   },
   {
    "duration": 431,
    "start_time": "2022-01-31T20:29:12.613Z"
   },
   {
    "duration": 102,
    "start_time": "2022-01-31T20:29:31.225Z"
   },
   {
    "duration": 1179,
    "start_time": "2022-02-01T18:50:16.366Z"
   },
   {
    "duration": 31,
    "start_time": "2022-02-01T18:50:17.547Z"
   },
   {
    "duration": 14,
    "start_time": "2022-02-01T18:50:17.580Z"
   },
   {
    "duration": 23,
    "start_time": "2022-02-01T18:50:17.597Z"
   },
   {
    "duration": 6,
    "start_time": "2022-02-01T18:50:17.622Z"
   },
   {
    "duration": 11,
    "start_time": "2022-02-01T18:50:17.630Z"
   },
   {
    "duration": 14,
    "start_time": "2022-02-01T18:50:17.643Z"
   },
   {
    "duration": 4,
    "start_time": "2022-02-01T18:50:17.663Z"
   },
   {
    "duration": 10,
    "start_time": "2022-02-01T18:50:17.670Z"
   },
   {
    "duration": 50,
    "start_time": "2022-02-01T18:50:17.682Z"
   },
   {
    "duration": 19,
    "start_time": "2022-02-01T18:50:17.734Z"
   },
   {
    "duration": 14,
    "start_time": "2022-02-01T18:50:17.755Z"
   },
   {
    "duration": 5,
    "start_time": "2022-02-01T18:50:17.772Z"
   },
   {
    "duration": 11,
    "start_time": "2022-02-01T18:50:17.779Z"
   },
   {
    "duration": 34,
    "start_time": "2022-02-01T18:50:17.793Z"
   },
   {
    "duration": 4,
    "start_time": "2022-02-01T18:50:17.829Z"
   },
   {
    "duration": 6,
    "start_time": "2022-02-01T18:50:17.835Z"
   },
   {
    "duration": 7,
    "start_time": "2022-02-01T18:50:17.844Z"
   },
   {
    "duration": 25,
    "start_time": "2022-02-01T18:50:17.853Z"
   },
   {
    "duration": 40,
    "start_time": "2022-02-01T18:50:17.880Z"
   },
   {
    "duration": 197,
    "start_time": "2022-02-01T18:50:17.922Z"
   },
   {
    "duration": 11,
    "start_time": "2022-02-01T18:50:18.121Z"
   },
   {
    "duration": 5,
    "start_time": "2022-02-01T18:50:18.136Z"
   },
   {
    "duration": 7454,
    "start_time": "2022-02-01T18:50:10.689Z"
   },
   {
    "duration": 7412,
    "start_time": "2022-02-01T18:50:10.733Z"
   },
   {
    "duration": 7405,
    "start_time": "2022-02-01T18:50:10.741Z"
   },
   {
    "duration": 7400,
    "start_time": "2022-02-01T18:50:10.748Z"
   },
   {
    "duration": 7393,
    "start_time": "2022-02-01T18:50:10.756Z"
   },
   {
    "duration": 7386,
    "start_time": "2022-02-01T18:50:10.764Z"
   },
   {
    "duration": 7379,
    "start_time": "2022-02-01T18:50:10.772Z"
   },
   {
    "duration": 7373,
    "start_time": "2022-02-01T18:50:10.779Z"
   },
   {
    "duration": 7368,
    "start_time": "2022-02-01T18:50:10.785Z"
   },
   {
    "duration": 339,
    "start_time": "2022-02-01T19:01:43.440Z"
   },
   {
    "duration": 250,
    "start_time": "2022-02-01T19:05:50.726Z"
   },
   {
    "duration": 4,
    "start_time": "2022-02-01T19:07:30.582Z"
   },
   {
    "duration": 7822,
    "start_time": "2022-02-01T19:09:40.289Z"
   },
   {
    "duration": 172032,
    "start_time": "2022-02-01T19:11:06.357Z"
   },
   {
    "duration": 394,
    "start_time": "2022-02-01T19:19:28.192Z"
   },
   {
    "duration": 152080,
    "start_time": "2022-02-01T19:19:47.355Z"
   },
   {
    "duration": 161210,
    "start_time": "2022-02-01T19:24:21.184Z"
   },
   {
    "duration": 1329,
    "start_time": "2022-02-01T19:29:29.711Z"
   },
   {
    "duration": 185667,
    "start_time": "2022-02-01T19:31:13.775Z"
   },
   {
    "duration": 161617,
    "start_time": "2022-02-01T19:35:54.014Z"
   },
   {
    "duration": 654,
    "start_time": "2022-02-01T19:38:35.633Z"
   },
   {
    "duration": 372,
    "start_time": "2022-02-01T19:39:34.442Z"
   },
   {
    "duration": 263,
    "start_time": "2022-02-01T19:39:58.671Z"
   },
   {
    "duration": 8024,
    "start_time": "2022-02-01T19:49:10.314Z"
   },
   {
    "duration": 7951,
    "start_time": "2022-02-01T19:50:17.758Z"
   },
   {
    "duration": 291,
    "start_time": "2022-02-01T19:54:38.296Z"
   },
   {
    "duration": 1124,
    "start_time": "2022-02-01T19:57:07.348Z"
   },
   {
    "duration": 30,
    "start_time": "2022-02-01T19:57:08.474Z"
   },
   {
    "duration": 17,
    "start_time": "2022-02-01T19:57:08.506Z"
   },
   {
    "duration": 23,
    "start_time": "2022-02-01T19:57:08.528Z"
   },
   {
    "duration": 6,
    "start_time": "2022-02-01T19:57:08.553Z"
   },
   {
    "duration": 6,
    "start_time": "2022-02-01T19:57:08.561Z"
   },
   {
    "duration": 15,
    "start_time": "2022-02-01T19:57:08.570Z"
   },
   {
    "duration": 5,
    "start_time": "2022-02-01T19:57:08.587Z"
   },
   {
    "duration": 10,
    "start_time": "2022-02-01T19:57:08.620Z"
   },
   {
    "duration": 22,
    "start_time": "2022-02-01T19:57:08.632Z"
   },
   {
    "duration": 12,
    "start_time": "2022-02-01T19:57:08.656Z"
   },
   {
    "duration": 12,
    "start_time": "2022-02-01T19:57:08.671Z"
   },
   {
    "duration": 5,
    "start_time": "2022-02-01T19:57:08.686Z"
   },
   {
    "duration": 9,
    "start_time": "2022-02-01T19:57:08.720Z"
   },
   {
    "duration": 18,
    "start_time": "2022-02-01T19:57:08.732Z"
   },
   {
    "duration": 6,
    "start_time": "2022-02-01T19:57:08.752Z"
   },
   {
    "duration": 7,
    "start_time": "2022-02-01T19:57:08.759Z"
   },
   {
    "duration": 6,
    "start_time": "2022-02-01T19:57:08.768Z"
   },
   {
    "duration": 66,
    "start_time": "2022-02-01T19:57:08.776Z"
   },
   {
    "duration": 10,
    "start_time": "2022-02-01T19:57:08.845Z"
   },
   {
    "duration": 164,
    "start_time": "2022-02-01T19:57:08.857Z"
   },
   {
    "duration": 15,
    "start_time": "2022-02-01T19:57:09.023Z"
   },
   {
    "duration": 8883,
    "start_time": "2022-02-01T19:57:09.044Z"
   },
   {
    "duration": 29,
    "start_time": "2022-02-01T19:57:17.930Z"
   },
   {
    "duration": 59,
    "start_time": "2022-02-01T19:57:17.961Z"
   },
   {
    "duration": 211,
    "start_time": "2022-02-01T19:57:18.022Z"
   },
   {
    "duration": 99,
    "start_time": "2022-02-01T19:57:18.235Z"
   },
   {
    "duration": 84,
    "start_time": "2022-02-01T19:57:18.336Z"
   },
   {
    "duration": 99,
    "start_time": "2022-02-01T19:57:18.422Z"
   },
   {
    "duration": 11679,
    "start_time": "2022-02-01T19:57:18.524Z"
   },
   {
    "duration": 4,
    "start_time": "2022-02-01T19:57:30.205Z"
   },
   {
    "duration": 50,
    "start_time": "2022-02-01T19:57:30.218Z"
   },
   {
    "duration": 4062,
    "start_time": "2022-02-01T19:57:30.321Z"
   },
   {
    "duration": 9,
    "start_time": "2022-02-01T20:04:33.094Z"
   },
   {
    "duration": 51,
    "start_time": "2022-02-01T20:09:38.269Z"
   },
   {
    "duration": 204,
    "start_time": "2022-02-01T20:09:39.735Z"
   },
   {
    "duration": 67,
    "start_time": "2022-02-01T20:13:36.154Z"
   },
   {
    "duration": 122,
    "start_time": "2022-02-01T20:13:37.772Z"
   },
   {
    "duration": 1329,
    "start_time": "2022-02-01T20:14:47.667Z"
   },
   {
    "duration": 38,
    "start_time": "2022-02-01T20:14:48.998Z"
   },
   {
    "duration": 14,
    "start_time": "2022-02-01T20:14:49.039Z"
   },
   {
    "duration": 19,
    "start_time": "2022-02-01T20:14:49.056Z"
   },
   {
    "duration": 6,
    "start_time": "2022-02-01T20:14:49.077Z"
   },
   {
    "duration": 5,
    "start_time": "2022-02-01T20:14:49.085Z"
   },
   {
    "duration": 37,
    "start_time": "2022-02-01T20:14:49.092Z"
   },
   {
    "duration": 11,
    "start_time": "2022-02-01T20:14:49.134Z"
   },
   {
    "duration": 5,
    "start_time": "2022-02-01T20:14:49.149Z"
   },
   {
    "duration": 18,
    "start_time": "2022-02-01T20:14:49.156Z"
   },
   {
    "duration": 12,
    "start_time": "2022-02-01T20:14:49.176Z"
   },
   {
    "duration": 37,
    "start_time": "2022-02-01T20:14:49.190Z"
   },
   {
    "duration": 6,
    "start_time": "2022-02-01T20:14:49.229Z"
   },
   {
    "duration": 14,
    "start_time": "2022-02-01T20:14:49.238Z"
   },
   {
    "duration": 10,
    "start_time": "2022-02-01T20:14:49.254Z"
   },
   {
    "duration": 4,
    "start_time": "2022-02-01T20:14:49.266Z"
   },
   {
    "duration": 5,
    "start_time": "2022-02-01T20:14:49.272Z"
   },
   {
    "duration": 6,
    "start_time": "2022-02-01T20:14:49.320Z"
   },
   {
    "duration": 36,
    "start_time": "2022-02-01T20:14:49.328Z"
   },
   {
    "duration": 7,
    "start_time": "2022-02-01T20:14:49.365Z"
   },
   {
    "duration": 52,
    "start_time": "2022-02-01T20:14:49.374Z"
   },
   {
    "duration": 11,
    "start_time": "2022-02-01T20:14:49.428Z"
   },
   {
    "duration": 8626,
    "start_time": "2022-02-01T20:14:49.517Z"
   },
   {
    "duration": 26,
    "start_time": "2022-02-01T20:14:58.146Z"
   },
   {
    "duration": 87,
    "start_time": "2022-02-01T20:14:58.174Z"
   },
   {
    "duration": 183,
    "start_time": "2022-02-01T20:14:58.320Z"
   },
   {
    "duration": 119,
    "start_time": "2022-02-01T20:14:58.505Z"
   },
   {
    "duration": 6,
    "start_time": "2022-02-01T20:14:58.626Z"
   },
   {
    "duration": 207,
    "start_time": "2022-02-01T20:14:58.634Z"
   },
   {
    "duration": 14997,
    "start_time": "2022-02-01T20:14:58.843Z"
   },
   {
    "duration": 5,
    "start_time": "2022-02-01T20:15:13.842Z"
   },
   {
    "duration": 174,
    "start_time": "2022-02-01T20:15:13.849Z"
   },
   {
    "duration": 5547,
    "start_time": "2022-02-01T20:15:14.025Z"
   },
   {
    "duration": 10,
    "start_time": "2022-02-01T20:15:19.575Z"
   },
   {
    "duration": 61,
    "start_time": "2022-02-01T20:15:19.587Z"
   },
   {
    "duration": 311,
    "start_time": "2022-02-01T20:15:19.651Z"
   },
   {
    "duration": 75,
    "start_time": "2022-02-01T20:15:19.965Z"
   },
   {
    "duration": 14,
    "start_time": "2022-02-01T20:16:13.183Z"
   },
   {
    "duration": 46,
    "start_time": "2022-02-01T20:16:29.745Z"
   },
   {
    "duration": 63,
    "start_time": "2022-02-01T20:19:18.265Z"
   },
   {
    "duration": 109,
    "start_time": "2022-02-01T20:19:19.814Z"
   },
   {
    "duration": 100,
    "start_time": "2022-02-01T20:19:33.827Z"
   },
   {
    "duration": 17,
    "start_time": "2022-02-01T20:19:44.437Z"
   },
   {
    "duration": 13,
    "start_time": "2022-02-01T20:20:29.319Z"
   },
   {
    "duration": 13,
    "start_time": "2022-02-01T20:21:50.997Z"
   },
   {
    "duration": 49,
    "start_time": "2022-02-01T20:33:46.252Z"
   },
   {
    "duration": 100,
    "start_time": "2022-02-01T20:33:47.914Z"
   },
   {
    "duration": 62,
    "start_time": "2022-02-01T20:33:53.061Z"
   },
   {
    "duration": 13,
    "start_time": "2022-02-01T20:36:49.442Z"
   },
   {
    "duration": 96,
    "start_time": "2022-02-01T20:36:52.781Z"
   },
   {
    "duration": 108,
    "start_time": "2022-02-01T20:37:41.619Z"
   },
   {
    "duration": 17,
    "start_time": "2022-02-01T20:40:31.418Z"
   },
   {
    "duration": 13,
    "start_time": "2022-02-01T20:43:51.509Z"
   },
   {
    "duration": 1099,
    "start_time": "2022-02-01T20:53:31.525Z"
   },
   {
    "duration": 33,
    "start_time": "2022-02-01T20:53:32.627Z"
   },
   {
    "duration": 8,
    "start_time": "2022-02-01T20:53:32.662Z"
   },
   {
    "duration": 18,
    "start_time": "2022-02-01T20:53:32.672Z"
   },
   {
    "duration": 6,
    "start_time": "2022-02-01T20:53:32.693Z"
   },
   {
    "duration": 17,
    "start_time": "2022-02-01T20:53:32.701Z"
   },
   {
    "duration": 20,
    "start_time": "2022-02-01T20:53:32.722Z"
   },
   {
    "duration": 4,
    "start_time": "2022-02-01T20:53:32.745Z"
   },
   {
    "duration": 9,
    "start_time": "2022-02-01T20:53:32.751Z"
   },
   {
    "duration": 18,
    "start_time": "2022-02-01T20:53:32.761Z"
   },
   {
    "duration": 13,
    "start_time": "2022-02-01T20:53:32.781Z"
   },
   {
    "duration": 36,
    "start_time": "2022-02-01T20:53:32.795Z"
   },
   {
    "duration": 7,
    "start_time": "2022-02-01T20:53:32.833Z"
   },
   {
    "duration": 9,
    "start_time": "2022-02-01T20:53:32.842Z"
   },
   {
    "duration": 8,
    "start_time": "2022-02-01T20:53:32.853Z"
   },
   {
    "duration": 6,
    "start_time": "2022-02-01T20:53:32.863Z"
   },
   {
    "duration": 8,
    "start_time": "2022-02-01T20:53:32.870Z"
   },
   {
    "duration": 8,
    "start_time": "2022-02-01T20:53:32.879Z"
   },
   {
    "duration": 59,
    "start_time": "2022-02-01T20:53:32.889Z"
   },
   {
    "duration": 11,
    "start_time": "2022-02-01T20:53:32.950Z"
   },
   {
    "duration": 67,
    "start_time": "2022-02-01T20:53:32.963Z"
   },
   {
    "duration": 98,
    "start_time": "2022-02-01T20:53:33.032Z"
   },
   {
    "duration": 8104,
    "start_time": "2022-02-01T20:53:33.139Z"
   },
   {
    "duration": 25,
    "start_time": "2022-02-01T20:53:41.245Z"
   },
   {
    "duration": 54,
    "start_time": "2022-02-01T20:53:41.271Z"
   },
   {
    "duration": 256,
    "start_time": "2022-02-01T20:53:41.331Z"
   },
   {
    "duration": 58,
    "start_time": "2022-02-01T20:53:41.589Z"
   },
   {
    "duration": 70,
    "start_time": "2022-02-01T20:53:41.649Z"
   },
   {
    "duration": 197,
    "start_time": "2022-02-01T20:53:41.723Z"
   },
   {
    "duration": 10912,
    "start_time": "2022-02-01T20:53:41.924Z"
   },
   {
    "duration": 4,
    "start_time": "2022-02-01T20:53:52.838Z"
   },
   {
    "duration": 81,
    "start_time": "2022-02-01T20:53:52.843Z"
   },
   {
    "duration": 4645,
    "start_time": "2022-02-01T20:53:52.927Z"
   },
   {
    "duration": 13,
    "start_time": "2022-02-01T20:53:57.574Z"
   },
   {
    "duration": 32,
    "start_time": "2022-02-01T20:53:57.588Z"
   },
   {
    "duration": 45,
    "start_time": "2022-02-01T20:53:57.623Z"
   },
   {
    "duration": 12,
    "start_time": "2022-02-01T20:53:57.670Z"
   },
   {
    "duration": 243,
    "start_time": "2022-02-01T20:53:57.720Z"
   },
   {
    "duration": 75,
    "start_time": "2022-02-01T20:53:57.966Z"
   },
   {
    "duration": 97,
    "start_time": "2022-02-01T20:54:18.028Z"
   },
   {
    "duration": 1155,
    "start_time": "2022-02-01T20:54:38.304Z"
   },
   {
    "duration": 31,
    "start_time": "2022-02-01T20:54:39.461Z"
   },
   {
    "duration": 9,
    "start_time": "2022-02-01T20:54:39.495Z"
   },
   {
    "duration": 30,
    "start_time": "2022-02-01T20:54:39.506Z"
   },
   {
    "duration": 7,
    "start_time": "2022-02-01T20:54:39.539Z"
   },
   {
    "duration": 14,
    "start_time": "2022-02-01T20:54:39.548Z"
   },
   {
    "duration": 9,
    "start_time": "2022-02-01T20:54:39.564Z"
   },
   {
    "duration": 4,
    "start_time": "2022-02-01T20:54:39.575Z"
   },
   {
    "duration": 12,
    "start_time": "2022-02-01T20:54:39.582Z"
   },
   {
    "duration": 32,
    "start_time": "2022-02-01T20:54:39.597Z"
   },
   {
    "duration": 17,
    "start_time": "2022-02-01T20:54:39.632Z"
   },
   {
    "duration": 10,
    "start_time": "2022-02-01T20:54:39.650Z"
   },
   {
    "duration": 3,
    "start_time": "2022-02-01T20:54:39.662Z"
   },
   {
    "duration": 7,
    "start_time": "2022-02-01T20:54:39.667Z"
   },
   {
    "duration": 6,
    "start_time": "2022-02-01T20:54:39.675Z"
   },
   {
    "duration": 6,
    "start_time": "2022-02-01T20:54:39.719Z"
   },
   {
    "duration": 15,
    "start_time": "2022-02-01T20:54:39.727Z"
   },
   {
    "duration": 7,
    "start_time": "2022-02-01T20:54:39.744Z"
   },
   {
    "duration": 25,
    "start_time": "2022-02-01T20:54:39.753Z"
   },
   {
    "duration": 12,
    "start_time": "2022-02-01T20:54:39.779Z"
   },
   {
    "duration": 126,
    "start_time": "2022-02-01T20:54:39.793Z"
   },
   {
    "duration": 97,
    "start_time": "2022-02-01T20:54:39.923Z"
   },
   {
    "duration": 7743,
    "start_time": "2022-02-01T20:54:40.024Z"
   },
   {
    "duration": 24,
    "start_time": "2022-02-01T20:54:47.769Z"
   },
   {
    "duration": 34,
    "start_time": "2022-02-01T20:54:47.794Z"
   },
   {
    "duration": 258,
    "start_time": "2022-02-01T20:54:47.831Z"
   },
   {
    "duration": 54,
    "start_time": "2022-02-01T20:54:48.093Z"
   },
   {
    "duration": 74,
    "start_time": "2022-02-01T20:54:48.150Z"
   },
   {
    "duration": 193,
    "start_time": "2022-02-01T20:54:48.228Z"
   },
   {
    "duration": 10933,
    "start_time": "2022-02-01T20:54:48.425Z"
   },
   {
    "duration": 5,
    "start_time": "2022-02-01T20:54:59.359Z"
   },
   {
    "duration": 61,
    "start_time": "2022-02-01T20:54:59.366Z"
   },
   {
    "duration": 4041,
    "start_time": "2022-02-01T20:54:59.429Z"
   },
   {
    "duration": 12,
    "start_time": "2022-02-01T20:55:03.472Z"
   },
   {
    "duration": 11,
    "start_time": "2022-02-01T20:55:03.486Z"
   },
   {
    "duration": 35,
    "start_time": "2022-02-01T20:55:03.499Z"
   },
   {
    "duration": 13,
    "start_time": "2022-02-01T20:55:03.536Z"
   },
   {
    "duration": 279,
    "start_time": "2022-02-01T20:55:03.551Z"
   },
   {
    "duration": 15,
    "start_time": "2022-02-01T20:55:03.834Z"
   },
   {
    "duration": 1825,
    "start_time": "2022-02-02T18:44:42.694Z"
   },
   {
    "duration": 45,
    "start_time": "2022-02-02T18:44:44.522Z"
   },
   {
    "duration": 18,
    "start_time": "2022-02-02T18:44:44.571Z"
   },
   {
    "duration": 63,
    "start_time": "2022-02-02T18:44:44.592Z"
   },
   {
    "duration": 7,
    "start_time": "2022-02-02T18:44:44.658Z"
   },
   {
    "duration": 10,
    "start_time": "2022-02-02T18:44:44.668Z"
   },
   {
    "duration": 10,
    "start_time": "2022-02-02T18:44:44.681Z"
   },
   {
    "duration": 41,
    "start_time": "2022-02-02T18:44:44.693Z"
   },
   {
    "duration": 8,
    "start_time": "2022-02-02T18:44:44.739Z"
   },
   {
    "duration": 21,
    "start_time": "2022-02-02T18:44:44.750Z"
   },
   {
    "duration": 18,
    "start_time": "2022-02-02T18:44:44.773Z"
   },
   {
    "duration": 50,
    "start_time": "2022-02-02T18:44:44.793Z"
   },
   {
    "duration": 7,
    "start_time": "2022-02-02T18:44:44.846Z"
   },
   {
    "duration": 9,
    "start_time": "2022-02-02T18:44:44.855Z"
   },
   {
    "duration": 8,
    "start_time": "2022-02-02T18:44:44.866Z"
   },
   {
    "duration": 5,
    "start_time": "2022-02-02T18:44:44.876Z"
   },
   {
    "duration": 49,
    "start_time": "2022-02-02T18:44:44.884Z"
   },
   {
    "duration": 11,
    "start_time": "2022-02-02T18:44:44.936Z"
   },
   {
    "duration": 29,
    "start_time": "2022-02-02T18:44:44.949Z"
   },
   {
    "duration": 12,
    "start_time": "2022-02-02T18:44:44.980Z"
   },
   {
    "duration": 144,
    "start_time": "2022-02-02T18:44:44.994Z"
   },
   {
    "duration": 98,
    "start_time": "2022-02-02T18:44:45.142Z"
   },
   {
    "duration": 10470,
    "start_time": "2022-02-02T18:44:45.243Z"
   },
   {
    "duration": 48,
    "start_time": "2022-02-02T18:44:55.716Z"
   },
   {
    "duration": 67,
    "start_time": "2022-02-02T18:44:55.766Z"
   },
   {
    "duration": 241,
    "start_time": "2022-02-02T18:44:55.836Z"
   },
   {
    "duration": 152,
    "start_time": "2022-02-02T18:44:56.082Z"
   },
   {
    "duration": 91,
    "start_time": "2022-02-02T18:44:56.244Z"
   },
   {
    "duration": 113,
    "start_time": "2022-02-02T18:44:56.338Z"
   },
   {
    "duration": 14824,
    "start_time": "2022-02-02T18:44:56.535Z"
   },
   {
    "duration": 8,
    "start_time": "2022-02-02T18:45:11.362Z"
   },
   {
    "duration": 169,
    "start_time": "2022-02-02T18:45:11.372Z"
   },
   {
    "duration": 5508,
    "start_time": "2022-02-02T18:45:11.546Z"
   },
   {
    "duration": 17,
    "start_time": "2022-02-02T18:45:17.056Z"
   },
   {
    "duration": 16,
    "start_time": "2022-02-02T18:45:17.075Z"
   },
   {
    "duration": 52,
    "start_time": "2022-02-02T18:45:17.093Z"
   },
   {
    "duration": 91,
    "start_time": "2022-02-02T18:45:17.148Z"
   },
   {
    "duration": 274,
    "start_time": "2022-02-02T18:45:17.242Z"
   },
   {
    "duration": 116,
    "start_time": "2022-02-02T18:45:17.519Z"
   },
   {
    "duration": 1334,
    "start_time": "2022-02-02T18:47:16.117Z"
   },
   {
    "duration": 42,
    "start_time": "2022-02-02T18:47:17.453Z"
   },
   {
    "duration": 16,
    "start_time": "2022-02-02T18:47:17.499Z"
   },
   {
    "duration": 49,
    "start_time": "2022-02-02T18:47:17.518Z"
   },
   {
    "duration": 9,
    "start_time": "2022-02-02T18:47:17.570Z"
   },
   {
    "duration": 7,
    "start_time": "2022-02-02T18:47:17.582Z"
   },
   {
    "duration": 45,
    "start_time": "2022-02-02T18:47:17.592Z"
   },
   {
    "duration": 6,
    "start_time": "2022-02-02T18:47:17.639Z"
   },
   {
    "duration": 7,
    "start_time": "2022-02-02T18:47:17.650Z"
   },
   {
    "duration": 27,
    "start_time": "2022-02-02T18:47:17.660Z"
   },
   {
    "duration": 56,
    "start_time": "2022-02-02T18:47:17.689Z"
   },
   {
    "duration": 17,
    "start_time": "2022-02-02T18:47:17.748Z"
   },
   {
    "duration": 5,
    "start_time": "2022-02-02T18:47:17.767Z"
   },
   {
    "duration": 12,
    "start_time": "2022-02-02T18:47:17.774Z"
   },
   {
    "duration": 44,
    "start_time": "2022-02-02T18:47:17.788Z"
   },
   {
    "duration": 5,
    "start_time": "2022-02-02T18:47:17.835Z"
   },
   {
    "duration": 5,
    "start_time": "2022-02-02T18:47:17.843Z"
   },
   {
    "duration": 8,
    "start_time": "2022-02-02T18:47:17.851Z"
   },
   {
    "duration": 83,
    "start_time": "2022-02-02T18:47:17.862Z"
   },
   {
    "duration": 14,
    "start_time": "2022-02-02T18:47:17.948Z"
   },
   {
    "duration": 175,
    "start_time": "2022-02-02T18:47:17.965Z"
   },
   {
    "duration": 92,
    "start_time": "2022-02-02T18:47:18.143Z"
   },
   {
    "duration": 10596,
    "start_time": "2022-02-02T18:47:18.238Z"
   },
   {
    "duration": 43,
    "start_time": "2022-02-02T18:47:28.836Z"
   },
   {
    "duration": 56,
    "start_time": "2022-02-02T18:47:28.882Z"
   },
   {
    "duration": 325,
    "start_time": "2022-02-02T18:47:28.941Z"
   },
   {
    "duration": 260,
    "start_time": "2022-02-02T18:47:29.271Z"
   },
   {
    "duration": 6,
    "start_time": "2022-02-02T18:47:29.534Z"
   },
   {
    "duration": 198,
    "start_time": "2022-02-02T18:47:29.542Z"
   },
   {
    "duration": 15006,
    "start_time": "2022-02-02T18:47:29.744Z"
   },
   {
    "duration": 8,
    "start_time": "2022-02-02T18:47:44.753Z"
   },
   {
    "duration": 171,
    "start_time": "2022-02-02T18:47:44.764Z"
   },
   {
    "duration": 5759,
    "start_time": "2022-02-02T18:47:44.937Z"
   },
   {
    "duration": 35,
    "start_time": "2022-02-02T18:47:50.699Z"
   },
   {
    "duration": 27,
    "start_time": "2022-02-02T18:47:50.737Z"
   },
   {
    "duration": 31,
    "start_time": "2022-02-02T18:47:50.767Z"
   },
   {
    "duration": 44,
    "start_time": "2022-02-02T18:47:50.801Z"
   },
   {
    "duration": 395,
    "start_time": "2022-02-02T18:47:50.848Z"
   },
   {
    "duration": 105,
    "start_time": "2022-02-02T18:47:51.245Z"
   },
   {
    "duration": 52,
    "start_time": "2022-02-02T18:49:02.997Z"
   },
   {
    "duration": 293,
    "start_time": "2022-02-02T18:49:11.260Z"
   },
   {
    "duration": 68,
    "start_time": "2022-02-02T18:49:23.507Z"
   },
   {
    "duration": 586471,
    "start_time": "2022-02-02T18:55:22.058Z"
   },
   {
    "duration": 543487,
    "start_time": "2022-02-02T19:12:56.047Z"
   },
   {
    "duration": 10982,
    "start_time": "2022-02-02T19:25:11.376Z"
   },
   {
    "duration": 552402,
    "start_time": "2022-02-02T19:28:11.225Z"
   },
   {
    "duration": 27,
    "start_time": "2022-02-02T19:37:38.510Z"
   },
   {
    "duration": 1621673,
    "start_time": "2022-02-02T19:39:54.183Z"
   },
   {
    "duration": 6,
    "start_time": "2022-02-02T20:13:11.651Z"
   },
   {
    "duration": 33,
    "start_time": "2022-02-02T20:21:30.420Z"
   },
   {
    "duration": 139,
    "start_time": "2022-02-02T20:21:31.982Z"
   },
   {
    "duration": 224,
    "start_time": "2022-02-02T20:21:59.236Z"
   },
   {
    "duration": 32,
    "start_time": "2022-02-02T20:23:17.025Z"
   },
   {
    "duration": 213,
    "start_time": "2022-02-02T20:23:18.247Z"
   },
   {
    "duration": 135,
    "start_time": "2022-02-02T20:28:49.992Z"
   },
   {
    "duration": 138,
    "start_time": "2022-02-02T20:29:01.713Z"
   },
   {
    "duration": 133,
    "start_time": "2022-02-02T20:30:08.616Z"
   },
   {
    "duration": 1614303,
    "start_time": "2022-02-02T20:41:30.794Z"
   },
   {
    "duration": 6,
    "start_time": "2022-02-02T21:08:25.100Z"
   },
   {
    "duration": 1142,
    "start_time": "2022-02-03T13:24:00.130Z"
   },
   {
    "duration": 30,
    "start_time": "2022-02-03T13:24:01.274Z"
   },
   {
    "duration": 9,
    "start_time": "2022-02-03T13:24:01.307Z"
   },
   {
    "duration": 29,
    "start_time": "2022-02-03T13:24:01.318Z"
   },
   {
    "duration": 7,
    "start_time": "2022-02-03T13:24:01.348Z"
   },
   {
    "duration": 23,
    "start_time": "2022-02-03T13:24:01.356Z"
   },
   {
    "duration": 12,
    "start_time": "2022-02-03T13:24:01.381Z"
   },
   {
    "duration": 8,
    "start_time": "2022-02-03T13:24:01.395Z"
   },
   {
    "duration": 18,
    "start_time": "2022-02-03T13:24:01.405Z"
   },
   {
    "duration": 21,
    "start_time": "2022-02-03T13:24:01.425Z"
   },
   {
    "duration": 21,
    "start_time": "2022-02-03T13:24:01.448Z"
   },
   {
    "duration": 20,
    "start_time": "2022-02-03T13:24:01.471Z"
   },
   {
    "duration": 4,
    "start_time": "2022-02-03T13:24:01.493Z"
   },
   {
    "duration": 13,
    "start_time": "2022-02-03T13:24:01.498Z"
   },
   {
    "duration": 9,
    "start_time": "2022-02-03T13:24:01.512Z"
   },
   {
    "duration": 11,
    "start_time": "2022-02-03T13:24:01.522Z"
   },
   {
    "duration": 10,
    "start_time": "2022-02-03T13:24:01.535Z"
   },
   {
    "duration": 21,
    "start_time": "2022-02-03T13:24:01.546Z"
   },
   {
    "duration": 34,
    "start_time": "2022-02-03T13:24:01.569Z"
   },
   {
    "duration": 8,
    "start_time": "2022-02-03T13:24:01.604Z"
   },
   {
    "duration": 89,
    "start_time": "2022-02-03T13:24:01.613Z"
   },
   {
    "duration": 102,
    "start_time": "2022-02-03T13:24:01.704Z"
   },
   {
    "duration": 1192622,
    "start_time": "2022-02-03T13:24:01.811Z"
   },
   {
    "duration": 4,
    "start_time": "2022-02-03T13:43:54.435Z"
   },
   {
    "duration": 29,
    "start_time": "2022-02-03T13:43:54.441Z"
   },
   {
    "duration": 38,
    "start_time": "2022-02-03T13:43:54.472Z"
   },
   {
    "duration": 190,
    "start_time": "2022-02-03T13:43:54.512Z"
   },
   {
    "duration": 35,
    "start_time": "2022-02-03T13:43:54.704Z"
   },
   {
    "duration": 89,
    "start_time": "2022-02-03T13:43:54.740Z"
   },
   {
    "duration": 71,
    "start_time": "2022-02-03T13:43:54.831Z"
   },
   {
    "duration": 330,
    "start_time": "2022-02-03T13:43:54.904Z"
   },
   {
    "duration": 6,
    "start_time": "2022-02-03T13:43:55.236Z"
   },
   {
    "duration": 89,
    "start_time": "2022-02-03T13:43:55.244Z"
   },
   {
    "duration": 103,
    "start_time": "2022-02-03T19:12:00.329Z"
   },
   {
    "duration": 104,
    "start_time": "2022-02-03T19:12:21.659Z"
   },
   {
    "duration": 85,
    "start_time": "2022-02-03T19:13:05.217Z"
   },
   {
    "duration": 1394,
    "start_time": "2022-02-03T19:13:52.429Z"
   },
   {
    "duration": 37,
    "start_time": "2022-02-03T19:13:53.827Z"
   },
   {
    "duration": 15,
    "start_time": "2022-02-03T19:13:53.870Z"
   },
   {
    "duration": 30,
    "start_time": "2022-02-03T19:13:53.888Z"
   },
   {
    "duration": 51,
    "start_time": "2022-02-03T19:13:53.921Z"
   },
   {
    "duration": 8,
    "start_time": "2022-02-03T19:13:53.974Z"
   },
   {
    "duration": 12,
    "start_time": "2022-02-03T19:13:53.985Z"
   },
   {
    "duration": 16,
    "start_time": "2022-02-03T19:13:54.002Z"
   },
   {
    "duration": 9,
    "start_time": "2022-02-03T19:13:54.021Z"
   },
   {
    "duration": 52,
    "start_time": "2022-02-03T19:13:54.033Z"
   },
   {
    "duration": 21,
    "start_time": "2022-02-03T19:13:54.087Z"
   },
   {
    "duration": 31,
    "start_time": "2022-02-03T19:13:54.111Z"
   },
   {
    "duration": 27,
    "start_time": "2022-02-03T19:13:54.145Z"
   },
   {
    "duration": 12,
    "start_time": "2022-02-03T19:13:54.176Z"
   },
   {
    "duration": 11,
    "start_time": "2022-02-03T19:13:54.190Z"
   },
   {
    "duration": 6,
    "start_time": "2022-02-03T19:13:54.203Z"
   },
   {
    "duration": 57,
    "start_time": "2022-02-03T19:13:54.212Z"
   },
   {
    "duration": 6,
    "start_time": "2022-02-03T19:13:54.272Z"
   },
   {
    "duration": 40,
    "start_time": "2022-02-03T19:13:54.280Z"
   },
   {
    "duration": 12,
    "start_time": "2022-02-03T19:13:54.323Z"
   },
   {
    "duration": 138,
    "start_time": "2022-02-03T19:13:54.337Z"
   },
   {
    "duration": 101,
    "start_time": "2022-02-03T19:13:54.479Z"
   },
   {
    "duration": 1626301,
    "start_time": "2022-02-03T19:13:54.585Z"
   },
   {
    "duration": 5,
    "start_time": "2022-02-03T19:41:00.889Z"
   },
   {
    "duration": 59,
    "start_time": "2022-02-03T19:41:00.897Z"
   },
   {
    "duration": 8,
    "start_time": "2022-02-03T19:41:00.970Z"
   },
   {
    "duration": 258,
    "start_time": "2022-02-03T19:41:00.982Z"
   },
   {
    "duration": 63,
    "start_time": "2022-02-03T19:41:01.243Z"
   },
   {
    "duration": 116,
    "start_time": "2022-02-03T19:41:01.308Z"
   },
   {
    "duration": 144,
    "start_time": "2022-02-03T19:41:01.427Z"
   },
   {
    "duration": 1654216,
    "start_time": "2022-02-03T19:41:01.574Z"
   },
   {
    "duration": 5,
    "start_time": "2022-02-03T20:08:35.793Z"
   },
   {
    "duration": 173,
    "start_time": "2022-02-03T20:08:35.801Z"
   },
   {
    "duration": 2341507,
    "start_time": "2022-02-03T20:08:35.977Z"
   },
   {
    "duration": 4,
    "start_time": "2022-02-03T20:47:37.487Z"
   },
   {
    "duration": 1548,
    "start_time": "2022-02-03T20:47:35.946Z"
   },
   {
    "duration": 1543,
    "start_time": "2022-02-03T20:47:35.953Z"
   },
   {
    "duration": 1536,
    "start_time": "2022-02-03T20:47:35.961Z"
   },
   {
    "duration": 1528,
    "start_time": "2022-02-03T20:47:35.970Z"
   },
   {
    "duration": 1522,
    "start_time": "2022-02-03T20:47:35.978Z"
   },
   {
    "duration": 1515,
    "start_time": "2022-02-03T20:47:35.987Z"
   },
   {
    "duration": 1508,
    "start_time": "2022-02-03T20:47:35.995Z"
   },
   {
    "duration": 509,
    "start_time": "2022-02-04T07:09:47.541Z"
   },
   {
    "duration": 1459,
    "start_time": "2022-02-04T07:13:25.206Z"
   },
   {
    "duration": 35,
    "start_time": "2022-02-04T07:13:26.667Z"
   },
   {
    "duration": 13,
    "start_time": "2022-02-04T07:13:26.705Z"
   },
   {
    "duration": 27,
    "start_time": "2022-02-04T07:13:26.732Z"
   },
   {
    "duration": 10,
    "start_time": "2022-02-04T07:13:26.761Z"
   },
   {
    "duration": 6,
    "start_time": "2022-02-04T07:13:26.773Z"
   },
   {
    "duration": 12,
    "start_time": "2022-02-04T07:13:26.781Z"
   },
   {
    "duration": 5,
    "start_time": "2022-02-04T07:13:26.833Z"
   },
   {
    "duration": 7,
    "start_time": "2022-02-04T07:13:26.841Z"
   },
   {
    "duration": 23,
    "start_time": "2022-02-04T07:13:26.851Z"
   },
   {
    "duration": 18,
    "start_time": "2022-02-04T07:13:26.877Z"
   },
   {
    "duration": 30,
    "start_time": "2022-02-04T07:13:26.933Z"
   },
   {
    "duration": 5,
    "start_time": "2022-02-04T07:13:26.965Z"
   },
   {
    "duration": 19,
    "start_time": "2022-02-04T07:13:26.972Z"
   },
   {
    "duration": 11,
    "start_time": "2022-02-04T07:13:26.994Z"
   },
   {
    "duration": 6,
    "start_time": "2022-02-04T07:13:27.033Z"
   },
   {
    "duration": 16,
    "start_time": "2022-02-04T07:13:27.049Z"
   },
   {
    "duration": 9,
    "start_time": "2022-02-04T07:13:27.068Z"
   },
   {
    "duration": 55,
    "start_time": "2022-02-04T07:13:27.079Z"
   },
   {
    "duration": 14,
    "start_time": "2022-02-04T07:13:27.137Z"
   },
   {
    "duration": 184,
    "start_time": "2022-02-04T07:13:27.153Z"
   },
   {
    "duration": 11,
    "start_time": "2022-02-04T07:13:27.340Z"
   },
   {
    "duration": 1592078,
    "start_time": "2022-02-04T07:13:27.356Z"
   },
   {
    "duration": 4,
    "start_time": "2022-02-04T07:39:59.437Z"
   },
   {
    "duration": 45,
    "start_time": "2022-02-04T07:39:59.443Z"
   },
   {
    "duration": 141,
    "start_time": "2022-02-04T07:39:59.490Z"
   },
   {
    "duration": 159,
    "start_time": "2022-02-04T07:39:59.634Z"
   },
   {
    "duration": 72,
    "start_time": "2022-02-04T07:39:59.795Z"
   },
   {
    "duration": 114,
    "start_time": "2022-02-04T07:39:59.869Z"
   },
   {
    "duration": 163,
    "start_time": "2022-02-04T07:39:59.986Z"
   },
   {
    "duration": 849,
    "start_time": "2022-02-04T07:40:00.234Z"
   },
   {
    "duration": 3,
    "start_time": "2022-02-04T07:40:01.085Z"
   },
   {
    "duration": 15,
    "start_time": "2022-02-04T07:40:01.090Z"
   },
   {
    "duration": 133,
    "start_time": "2022-02-04T07:40:01.108Z"
   },
   {
    "duration": 2186204,
    "start_time": "2022-02-04T07:40:01.335Z"
   },
   {
    "duration": 5,
    "start_time": "2022-02-04T08:16:27.541Z"
   },
   {
    "duration": 1777,
    "start_time": "2022-02-04T08:16:25.771Z"
   },
   {
    "duration": 1720,
    "start_time": "2022-02-04T08:16:25.829Z"
   },
   {
    "duration": 1704,
    "start_time": "2022-02-04T08:16:25.846Z"
   },
   {
    "duration": 1692,
    "start_time": "2022-02-04T08:16:25.860Z"
   },
   {
    "duration": 1679,
    "start_time": "2022-02-04T08:16:25.874Z"
   },
   {
    "duration": 1667,
    "start_time": "2022-02-04T08:16:25.888Z"
   },
   {
    "duration": 1953,
    "start_time": "2022-02-04T10:48:49.823Z"
   },
   {
    "duration": 47,
    "start_time": "2022-02-04T10:48:51.780Z"
   },
   {
    "duration": 14,
    "start_time": "2022-02-04T10:48:51.832Z"
   },
   {
    "duration": 40,
    "start_time": "2022-02-04T10:48:51.849Z"
   },
   {
    "duration": 10,
    "start_time": "2022-02-04T10:48:51.892Z"
   },
   {
    "duration": 9,
    "start_time": "2022-02-04T10:48:51.904Z"
   },
   {
    "duration": 23,
    "start_time": "2022-02-04T10:48:51.915Z"
   },
   {
    "duration": 30,
    "start_time": "2022-02-04T10:48:51.941Z"
   },
   {
    "duration": 9,
    "start_time": "2022-02-04T10:48:51.975Z"
   },
   {
    "duration": 24,
    "start_time": "2022-02-04T10:48:51.988Z"
   },
   {
    "duration": 21,
    "start_time": "2022-02-04T10:48:52.014Z"
   },
   {
    "duration": 71,
    "start_time": "2022-02-04T10:48:52.039Z"
   },
   {
    "duration": 8,
    "start_time": "2022-02-04T10:48:52.113Z"
   },
   {
    "duration": 17,
    "start_time": "2022-02-04T10:48:52.124Z"
   },
   {
    "duration": 28,
    "start_time": "2022-02-04T10:48:52.144Z"
   },
   {
    "duration": 5,
    "start_time": "2022-02-04T10:48:52.175Z"
   },
   {
    "duration": 14,
    "start_time": "2022-02-04T10:48:52.182Z"
   },
   {
    "duration": 12,
    "start_time": "2022-02-04T10:48:52.198Z"
   },
   {
    "duration": 71,
    "start_time": "2022-02-04T10:48:52.213Z"
   },
   {
    "duration": 15,
    "start_time": "2022-02-04T10:48:52.287Z"
   },
   {
    "duration": 173,
    "start_time": "2022-02-04T10:48:52.305Z"
   },
   {
    "duration": 413,
    "start_time": "2022-02-04T10:48:52.481Z"
   },
   {
    "duration": 983,
    "start_time": "2022-02-04T10:48:51.915Z"
   },
   {
    "duration": 973,
    "start_time": "2022-02-04T10:48:51.927Z"
   },
   {
    "duration": 860,
    "start_time": "2022-02-04T10:48:52.041Z"
   },
   {
    "duration": 846,
    "start_time": "2022-02-04T10:48:52.056Z"
   },
   {
    "duration": 834,
    "start_time": "2022-02-04T10:48:52.070Z"
   },
   {
    "duration": 824,
    "start_time": "2022-02-04T10:48:52.081Z"
   },
   {
    "duration": 812,
    "start_time": "2022-02-04T10:48:52.095Z"
   },
   {
    "duration": 800,
    "start_time": "2022-02-04T10:48:52.108Z"
   },
   {
    "duration": 787,
    "start_time": "2022-02-04T10:48:52.122Z"
   },
   {
    "duration": 776,
    "start_time": "2022-02-04T10:48:52.135Z"
   },
   {
    "duration": 741,
    "start_time": "2022-02-04T10:48:52.171Z"
   },
   {
    "duration": 729,
    "start_time": "2022-02-04T10:48:52.185Z"
   },
   {
    "duration": 717,
    "start_time": "2022-02-04T10:48:52.198Z"
   },
   {
    "duration": 708,
    "start_time": "2022-02-04T10:48:52.211Z"
   },
   {
    "duration": 697,
    "start_time": "2022-02-04T10:48:52.224Z"
   },
   {
    "duration": 686,
    "start_time": "2022-02-04T10:48:52.237Z"
   },
   {
    "duration": 674,
    "start_time": "2022-02-04T10:48:52.251Z"
   },
   {
    "duration": 665,
    "start_time": "2022-02-04T10:48:52.262Z"
   },
   {
    "duration": 637,
    "start_time": "2022-02-04T10:48:52.292Z"
   },
   {
    "duration": 624,
    "start_time": "2022-02-04T10:48:52.307Z"
   },
   {
    "duration": 299,
    "start_time": "2022-02-04T10:58:21.651Z"
   },
   {
    "duration": 3,
    "start_time": "2022-02-04T10:58:51.459Z"
   },
   {
    "duration": 1693520,
    "start_time": "2022-02-04T10:59:05.267Z"
   },
   {
    "duration": 6,
    "start_time": "2022-02-04T11:44:44.669Z"
   },
   {
    "duration": 41,
    "start_time": "2022-02-04T11:44:52.328Z"
   },
   {
    "duration": 20,
    "start_time": "2022-02-04T11:44:55.466Z"
   },
   {
    "duration": 89,
    "start_time": "2022-02-04T11:44:56.717Z"
   },
   {
    "duration": 46,
    "start_time": "2022-02-04T11:45:04.830Z"
   },
   {
    "duration": 96,
    "start_time": "2022-02-04T11:45:06.118Z"
   },
   {
    "duration": 105,
    "start_time": "2022-02-04T11:45:22.068Z"
   },
   {
    "duration": 984,
    "start_time": "2022-02-04T11:45:30.306Z"
   },
   {
    "duration": 6,
    "start_time": "2022-02-04T11:45:46.926Z"
   },
   {
    "duration": 109,
    "start_time": "2022-02-04T11:45:51.465Z"
   },
   {
    "duration": 1270,
    "start_time": "2022-02-04T11:48:01.282Z"
   },
   {
    "duration": 5,
    "start_time": "2022-02-04T11:48:33.448Z"
   },
   {
    "duration": 102,
    "start_time": "2022-02-04T11:48:38.670Z"
   },
   {
    "duration": 460,
    "start_time": "2022-02-04T11:49:23.049Z"
   },
   {
    "duration": 14,
    "start_time": "2022-02-04T11:50:13.719Z"
   },
   {
    "duration": 56,
    "start_time": "2022-02-04T11:50:14.904Z"
   },
   {
    "duration": 141,
    "start_time": "2022-02-04T11:50:15.858Z"
   },
   {
    "duration": 164,
    "start_time": "2022-02-04T11:50:51.536Z"
   },
   {
    "duration": 125,
    "start_time": "2022-02-04T11:51:13.412Z"
   },
   {
    "duration": 1073,
    "start_time": "2022-02-04T11:56:03.030Z"
   },
   {
    "duration": 130,
    "start_time": "2022-02-04T11:57:25.287Z"
   },
   {
    "duration": 96,
    "start_time": "2022-02-04T12:30:02.193Z"
   },
   {
    "duration": 1703,
    "start_time": "2022-02-04T12:30:05.657Z"
   },
   {
    "duration": 1078,
    "start_time": "2022-02-04T12:30:36.007Z"
   },
   {
    "duration": 497,
    "start_time": "2022-02-04T12:36:42.060Z"
   },
   {
    "duration": 155,
    "start_time": "2022-02-04T12:36:59.225Z"
   },
   {
    "duration": 998,
    "start_time": "2022-02-06T10:21:54.173Z"
   },
   {
    "duration": 29,
    "start_time": "2022-02-06T10:21:56.453Z"
   },
   {
    "duration": 10,
    "start_time": "2022-02-06T10:21:57.533Z"
   },
   {
    "duration": 18,
    "start_time": "2022-02-06T10:22:04.552Z"
   },
   {
    "duration": 6,
    "start_time": "2022-02-06T10:22:05.968Z"
   },
   {
    "duration": 5,
    "start_time": "2022-02-06T10:22:08.802Z"
   },
   {
    "duration": 7,
    "start_time": "2022-02-06T10:22:10.786Z"
   },
   {
    "duration": 5,
    "start_time": "2022-02-06T10:22:16.471Z"
   },
   {
    "duration": 4,
    "start_time": "2022-02-06T10:22:18.176Z"
   },
   {
    "duration": 12,
    "start_time": "2022-02-06T10:22:18.988Z"
   },
   {
    "duration": 12,
    "start_time": "2022-02-06T10:22:20.047Z"
   },
   {
    "duration": 20,
    "start_time": "2022-02-06T10:22:22.557Z"
   },
   {
    "duration": 4,
    "start_time": "2022-02-06T10:22:28.851Z"
   },
   {
    "duration": 6,
    "start_time": "2022-02-06T10:22:29.962Z"
   },
   {
    "duration": 6,
    "start_time": "2022-02-06T10:22:30.745Z"
   },
   {
    "duration": 3,
    "start_time": "2022-02-06T10:22:31.431Z"
   },
   {
    "duration": 3,
    "start_time": "2022-02-06T10:22:32.067Z"
   },
   {
    "duration": 3,
    "start_time": "2022-02-06T10:22:33.039Z"
   },
   {
    "duration": 25,
    "start_time": "2022-02-06T10:22:37.266Z"
   },
   {
    "duration": 7,
    "start_time": "2022-02-06T10:22:53.304Z"
   },
   {
    "duration": 80,
    "start_time": "2022-02-06T10:23:16.533Z"
   },
   {
    "duration": 63,
    "start_time": "2022-02-06T10:25:14.379Z"
   },
   {
    "duration": 561,
    "start_time": "2022-02-06T10:25:46.496Z"
   },
   {
    "duration": 569,
    "start_time": "2022-02-06T10:26:32.309Z"
   },
   {
    "duration": 24,
    "start_time": "2022-02-06T10:26:47.151Z"
   },
   {
    "duration": 6,
    "start_time": "2022-02-06T10:26:48.872Z"
   },
   {
    "duration": 58,
    "start_time": "2022-02-06T10:26:50.003Z"
   },
   {
    "duration": 31,
    "start_time": "2022-02-06T10:27:02.882Z"
   },
   {
    "duration": 65,
    "start_time": "2022-02-06T10:27:03.957Z"
   },
   {
    "duration": 71,
    "start_time": "2022-02-06T10:27:15.742Z"
   },
   {
    "duration": 611,
    "start_time": "2022-02-06T10:27:31.565Z"
   },
   {
    "duration": 4,
    "start_time": "2022-02-06T10:28:13.952Z"
   },
   {
    "duration": 66,
    "start_time": "2022-02-06T10:28:20.449Z"
   },
   {
    "duration": 834,
    "start_time": "2022-02-06T10:28:27.081Z"
   },
   {
    "duration": 4,
    "start_time": "2022-02-06T10:28:41.816Z"
   },
   {
    "duration": 29,
    "start_time": "2022-02-06T10:28:50.881Z"
   },
   {
    "duration": 310,
    "start_time": "2022-02-06T10:29:01.967Z"
   },
   {
    "duration": 10,
    "start_time": "2022-02-06T10:29:13.678Z"
   },
   {
    "duration": 31,
    "start_time": "2022-02-06T10:29:16.930Z"
   },
   {
    "duration": 80,
    "start_time": "2022-02-06T10:29:18.434Z"
   },
   {
    "duration": 700,
    "start_time": "2022-02-06T10:29:46.034Z"
   },
   {
    "duration": 78,
    "start_time": "2022-02-06T10:29:47.169Z"
   },
   {
    "duration": 99,
    "start_time": "2022-02-06T10:30:16.516Z"
   },
   {
    "duration": 704,
    "start_time": "2022-02-06T10:30:33.422Z"
   },
   {
    "duration": 294,
    "start_time": "2022-02-06T10:31:24.567Z"
   },
   {
    "duration": 733,
    "start_time": "2022-02-06T10:32:00.633Z"
   },
   {
    "duration": 88,
    "start_time": "2022-02-06T10:32:15.329Z"
   },
   {
    "duration": 1055,
    "start_time": "2022-02-06T10:33:11.188Z"
   },
   {
    "duration": 98,
    "start_time": "2022-02-06T10:49:33.919Z"
   },
   {
    "duration": 66,
    "start_time": "2022-02-06T10:49:49.392Z"
   },
   {
    "duration": 1022,
    "start_time": "2022-02-06T10:49:58.529Z"
   },
   {
    "duration": 53,
    "start_time": "2022-02-06T10:50:32.459Z"
   },
   {
    "duration": 391,
    "start_time": "2022-02-06T10:51:17.388Z"
   },
   {
    "duration": 112,
    "start_time": "2022-02-06T13:13:30.168Z"
   },
   {
    "duration": 400,
    "start_time": "2022-02-06T13:13:49.463Z"
   },
   {
    "duration": 1115,
    "start_time": "2022-02-06T13:14:03.106Z"
   },
   {
    "duration": 28,
    "start_time": "2022-02-06T13:14:04.222Z"
   },
   {
    "duration": 9,
    "start_time": "2022-02-06T13:14:04.252Z"
   },
   {
    "duration": 121,
    "start_time": "2022-02-06T13:14:04.263Z"
   },
   {
    "duration": 6,
    "start_time": "2022-02-06T13:14:04.386Z"
   },
   {
    "duration": 5,
    "start_time": "2022-02-06T13:14:04.394Z"
   },
   {
    "duration": 8,
    "start_time": "2022-02-06T13:14:04.401Z"
   },
   {
    "duration": 3,
    "start_time": "2022-02-06T13:14:04.412Z"
   },
   {
    "duration": 5,
    "start_time": "2022-02-06T13:14:04.417Z"
   },
   {
    "duration": 16,
    "start_time": "2022-02-06T13:14:04.423Z"
   },
   {
    "duration": 10,
    "start_time": "2022-02-06T13:14:04.472Z"
   },
   {
    "duration": 17,
    "start_time": "2022-02-06T13:14:04.498Z"
   },
   {
    "duration": 4,
    "start_time": "2022-02-06T13:14:04.516Z"
   },
   {
    "duration": 7,
    "start_time": "2022-02-06T13:14:04.521Z"
   },
   {
    "duration": 8,
    "start_time": "2022-02-06T13:14:04.529Z"
   },
   {
    "duration": 6,
    "start_time": "2022-02-06T13:14:04.538Z"
   },
   {
    "duration": 8,
    "start_time": "2022-02-06T13:14:04.546Z"
   },
   {
    "duration": 3,
    "start_time": "2022-02-06T13:14:04.572Z"
   },
   {
    "duration": 25,
    "start_time": "2022-02-06T13:14:04.576Z"
   },
   {
    "duration": 6,
    "start_time": "2022-02-06T13:14:04.603Z"
   },
   {
    "duration": 70,
    "start_time": "2022-02-06T13:14:04.611Z"
   },
   {
    "duration": 651,
    "start_time": "2022-02-06T13:14:04.683Z"
   },
   {
    "duration": 3,
    "start_time": "2022-02-06T13:14:05.338Z"
   },
   {
    "duration": 36,
    "start_time": "2022-02-06T13:14:05.343Z"
   },
   {
    "duration": 13,
    "start_time": "2022-02-06T13:14:05.381Z"
   },
   {
    "duration": 215,
    "start_time": "2022-02-06T13:14:05.396Z"
   },
   {
    "duration": 402,
    "start_time": "2022-02-06T13:14:05.613Z"
   },
   {
    "duration": 621,
    "start_time": "2022-02-06T13:14:05.396Z"
   },
   {
    "duration": 613,
    "start_time": "2022-02-06T13:14:05.405Z"
   },
   {
    "duration": 513,
    "start_time": "2022-02-06T13:14:05.506Z"
   },
   {
    "duration": 506,
    "start_time": "2022-02-06T13:14:05.515Z"
   },
   {
    "duration": 401,
    "start_time": "2022-02-06T13:14:05.621Z"
   },
   {
    "duration": 394,
    "start_time": "2022-02-06T13:14:05.629Z"
   },
   {
    "duration": 387,
    "start_time": "2022-02-06T13:14:05.637Z"
   },
   {
    "duration": 380,
    "start_time": "2022-02-06T13:14:05.646Z"
   },
   {
    "duration": 373,
    "start_time": "2022-02-06T13:14:05.654Z"
   },
   {
    "duration": 366,
    "start_time": "2022-02-06T13:14:05.662Z"
   },
   {
    "duration": 359,
    "start_time": "2022-02-06T13:14:05.670Z"
   },
   {
    "duration": 353,
    "start_time": "2022-02-06T13:14:05.678Z"
   },
   {
    "duration": 347,
    "start_time": "2022-02-06T13:14:05.685Z"
   },
   {
    "duration": 340,
    "start_time": "2022-02-06T13:14:05.693Z"
   },
   {
    "duration": 333,
    "start_time": "2022-02-06T13:14:05.702Z"
   },
   {
    "duration": 326,
    "start_time": "2022-02-06T13:14:05.710Z"
   },
   {
    "duration": 320,
    "start_time": "2022-02-06T13:14:05.717Z"
   },
   {
    "duration": 290,
    "start_time": "2022-02-06T13:14:05.748Z"
   },
   {
    "duration": 283,
    "start_time": "2022-02-06T13:14:05.756Z"
   },
   {
    "duration": 276,
    "start_time": "2022-02-06T13:14:05.764Z"
   },
   {
    "duration": 269,
    "start_time": "2022-02-06T13:14:05.772Z"
   },
   {
    "duration": 310,
    "start_time": "2022-02-06T13:14:37.227Z"
   },
   {
    "duration": 1018,
    "start_time": "2022-02-06T13:15:04.930Z"
   },
   {
    "duration": 28,
    "start_time": "2022-02-06T13:15:05.950Z"
   },
   {
    "duration": 9,
    "start_time": "2022-02-06T13:15:05.980Z"
   },
   {
    "duration": 16,
    "start_time": "2022-02-06T13:15:05.991Z"
   },
   {
    "duration": 5,
    "start_time": "2022-02-06T13:15:06.009Z"
   },
   {
    "duration": 4,
    "start_time": "2022-02-06T13:15:06.016Z"
   },
   {
    "duration": 8,
    "start_time": "2022-02-06T13:15:06.021Z"
   },
   {
    "duration": 3,
    "start_time": "2022-02-06T13:15:06.031Z"
   },
   {
    "duration": 4,
    "start_time": "2022-02-06T13:15:06.072Z"
   },
   {
    "duration": 13,
    "start_time": "2022-02-06T13:15:06.077Z"
   },
   {
    "duration": 10,
    "start_time": "2022-02-06T13:15:06.091Z"
   },
   {
    "duration": 19,
    "start_time": "2022-02-06T13:15:06.102Z"
   },
   {
    "duration": 4,
    "start_time": "2022-02-06T13:15:06.122Z"
   },
   {
    "duration": 10,
    "start_time": "2022-02-06T13:15:06.127Z"
   },
   {
    "duration": 12,
    "start_time": "2022-02-06T13:15:06.139Z"
   },
   {
    "duration": 20,
    "start_time": "2022-02-06T13:15:06.152Z"
   },
   {
    "duration": 7,
    "start_time": "2022-02-06T13:15:06.173Z"
   },
   {
    "duration": 12,
    "start_time": "2022-02-06T13:15:06.181Z"
   },
   {
    "duration": 26,
    "start_time": "2022-02-06T13:15:06.195Z"
   },
   {
    "duration": 9,
    "start_time": "2022-02-06T13:15:06.223Z"
   },
   {
    "duration": 147,
    "start_time": "2022-02-06T13:15:06.233Z"
   },
   {
    "duration": 626,
    "start_time": "2022-02-06T13:15:06.382Z"
   },
   {
    "duration": 3,
    "start_time": "2022-02-06T13:15:07.011Z"
   },
   {
    "duration": 23,
    "start_time": "2022-02-06T13:15:07.016Z"
   },
   {
    "duration": 40,
    "start_time": "2022-02-06T13:15:07.041Z"
   },
   {
    "duration": 190,
    "start_time": "2022-02-06T13:15:07.082Z"
   },
   {
    "duration": 503,
    "start_time": "2022-02-06T13:15:07.273Z"
   },
   {
    "duration": 453,
    "start_time": "2022-02-06T13:15:07.325Z"
   },
   {
    "duration": 449,
    "start_time": "2022-02-06T13:15:07.331Z"
   },
   {
    "duration": 443,
    "start_time": "2022-02-06T13:15:07.338Z"
   },
   {
    "duration": 438,
    "start_time": "2022-02-06T13:15:07.345Z"
   },
   {
    "duration": 404,
    "start_time": "2022-02-06T13:15:07.380Z"
   },
   {
    "duration": 398,
    "start_time": "2022-02-06T13:15:07.387Z"
   },
   {
    "duration": 390,
    "start_time": "2022-02-06T13:15:07.396Z"
   },
   {
    "duration": 385,
    "start_time": "2022-02-06T13:15:07.402Z"
   },
   {
    "duration": 378,
    "start_time": "2022-02-06T13:15:07.410Z"
   },
   {
    "duration": 373,
    "start_time": "2022-02-06T13:15:07.416Z"
   },
   {
    "duration": 367,
    "start_time": "2022-02-06T13:15:07.423Z"
   },
   {
    "duration": 360,
    "start_time": "2022-02-06T13:15:07.430Z"
   },
   {
    "duration": 354,
    "start_time": "2022-02-06T13:15:07.437Z"
   },
   {
    "duration": 349,
    "start_time": "2022-02-06T13:15:07.443Z"
   },
   {
    "duration": 342,
    "start_time": "2022-02-06T13:15:07.451Z"
   },
   {
    "duration": 336,
    "start_time": "2022-02-06T13:15:07.458Z"
   },
   {
    "duration": 330,
    "start_time": "2022-02-06T13:15:07.465Z"
   },
   {
    "duration": 325,
    "start_time": "2022-02-06T13:15:07.471Z"
   },
   {
    "duration": 318,
    "start_time": "2022-02-06T13:15:07.478Z"
   },
   {
    "duration": 306,
    "start_time": "2022-02-06T13:15:07.491Z"
   },
   {
    "duration": 297,
    "start_time": "2022-02-06T13:15:07.501Z"
   },
   {
    "duration": 290,
    "start_time": "2022-02-06T13:15:07.509Z"
   },
   {
    "duration": 1337,
    "start_time": "2022-02-06T13:16:35.598Z"
   },
   {
    "duration": 37,
    "start_time": "2022-02-06T13:16:36.937Z"
   },
   {
    "duration": 12,
    "start_time": "2022-02-06T13:16:36.977Z"
   },
   {
    "duration": 27,
    "start_time": "2022-02-06T13:16:36.992Z"
   },
   {
    "duration": 6,
    "start_time": "2022-02-06T13:16:37.021Z"
   },
   {
    "duration": 5,
    "start_time": "2022-02-06T13:16:37.030Z"
   },
   {
    "duration": 40,
    "start_time": "2022-02-06T13:16:37.037Z"
   },
   {
    "duration": 4,
    "start_time": "2022-02-06T13:16:37.080Z"
   },
   {
    "duration": 4,
    "start_time": "2022-02-06T13:16:37.087Z"
   },
   {
    "duration": 21,
    "start_time": "2022-02-06T13:16:37.093Z"
   },
   {
    "duration": 16,
    "start_time": "2022-02-06T13:16:37.116Z"
   },
   {
    "duration": 60,
    "start_time": "2022-02-06T13:16:37.134Z"
   },
   {
    "duration": 5,
    "start_time": "2022-02-06T13:16:37.196Z"
   },
   {
    "duration": 7,
    "start_time": "2022-02-06T13:16:37.203Z"
   },
   {
    "duration": 6,
    "start_time": "2022-02-06T13:16:37.211Z"
   },
   {
    "duration": 5,
    "start_time": "2022-02-06T13:16:37.218Z"
   },
   {
    "duration": 8,
    "start_time": "2022-02-06T13:16:37.225Z"
   },
   {
    "duration": 8,
    "start_time": "2022-02-06T13:16:37.235Z"
   },
   {
    "duration": 48,
    "start_time": "2022-02-06T13:16:37.245Z"
   },
   {
    "duration": 8,
    "start_time": "2022-02-06T13:16:37.294Z"
   },
   {
    "duration": 168,
    "start_time": "2022-02-06T13:16:37.304Z"
   },
   {
    "duration": 528,
    "start_time": "2022-02-06T13:16:37.473Z"
   },
   {
    "duration": 2,
    "start_time": "2022-02-06T13:16:38.004Z"
   },
   {
    "duration": 23,
    "start_time": "2022-02-06T13:16:38.008Z"
   },
   {
    "duration": 42,
    "start_time": "2022-02-06T13:16:38.033Z"
   },
   {
    "duration": 208,
    "start_time": "2022-02-06T13:16:38.077Z"
   },
   {
    "duration": 525,
    "start_time": "2022-02-06T13:16:38.287Z"
   },
   {
    "duration": 97,
    "start_time": "2022-02-06T13:16:38.814Z"
   },
   {
    "duration": 67,
    "start_time": "2022-02-06T13:16:38.913Z"
   },
   {
    "duration": 695,
    "start_time": "2022-02-06T13:16:38.982Z"
   },
   {
    "duration": 4,
    "start_time": "2022-02-06T13:16:39.679Z"
   },
   {
    "duration": 98,
    "start_time": "2022-02-06T13:16:39.684Z"
   },
   {
    "duration": 806,
    "start_time": "2022-02-06T13:16:39.872Z"
   },
   {
    "duration": 4,
    "start_time": "2022-02-06T13:16:40.679Z"
   },
   {
    "duration": 89,
    "start_time": "2022-02-06T13:16:40.684Z"
   },
   {
    "duration": 400,
    "start_time": "2022-02-06T13:16:40.775Z"
   },
   {
    "duration": 416,
    "start_time": "2022-02-06T13:16:41.176Z"
   },
   {
    "duration": 620,
    "start_time": "2022-02-06T13:16:40.974Z"
   },
   {
    "duration": 593,
    "start_time": "2022-02-06T13:16:41.002Z"
   },
   {
    "duration": 583,
    "start_time": "2022-02-06T13:16:41.013Z"
   },
   {
    "duration": 570,
    "start_time": "2022-02-06T13:16:41.027Z"
   },
   {
    "duration": 560,
    "start_time": "2022-02-06T13:16:41.038Z"
   },
   {
    "duration": 548,
    "start_time": "2022-02-06T13:16:41.051Z"
   },
   {
    "duration": 538,
    "start_time": "2022-02-06T13:16:41.062Z"
   },
   {
    "duration": 529,
    "start_time": "2022-02-06T13:16:41.073Z"
   },
   {
    "duration": 519,
    "start_time": "2022-02-06T13:16:41.084Z"
   },
   {
    "duration": 490,
    "start_time": "2022-02-06T13:16:41.114Z"
   },
   {
    "duration": 400,
    "start_time": "2022-02-06T13:16:41.205Z"
   },
   {
    "duration": 219,
    "start_time": "2022-02-06T13:16:41.387Z"
   },
   {
    "duration": 5,
    "start_time": "2022-02-06T13:17:22.041Z"
   },
   {
    "duration": 9,
    "start_time": "2022-02-06T13:17:24.020Z"
   },
   {
    "duration": 10,
    "start_time": "2022-02-06T13:18:11.129Z"
   },
   {
    "duration": 12,
    "start_time": "2022-02-06T13:26:34.341Z"
   },
   {
    "duration": 28,
    "start_time": "2022-02-06T13:26:35.877Z"
   },
   {
    "duration": 70,
    "start_time": "2022-02-06T13:26:36.667Z"
   },
   {
    "duration": 664,
    "start_time": "2022-02-06T13:28:32.995Z"
   },
   {
    "duration": 77,
    "start_time": "2022-02-06T13:28:48.185Z"
   },
   {
    "duration": 38,
    "start_time": "2022-02-06T13:30:05.955Z"
   },
   {
    "duration": 680,
    "start_time": "2022-02-06T13:30:25.930Z"
   },
   {
    "duration": 659,
    "start_time": "2022-02-06T13:31:23.005Z"
   },
   {
    "duration": 128,
    "start_time": "2022-02-06T13:32:00.043Z"
   },
   {
    "duration": 947,
    "start_time": "2022-02-06T13:32:15.066Z"
   },
   {
    "duration": 126,
    "start_time": "2022-02-06T13:32:51.446Z"
   },
   {
    "duration": 544,
    "start_time": "2022-02-06T13:33:03.933Z"
   },
   {
    "duration": 98,
    "start_time": "2022-02-06T13:38:58.041Z"
   },
   {
    "duration": 373,
    "start_time": "2022-02-06T13:39:06.405Z"
   },
   {
    "duration": 10,
    "start_time": "2022-02-06T13:39:28.287Z"
   },
   {
    "duration": 4,
    "start_time": "2022-02-06T13:45:02.179Z"
   },
   {
    "duration": 10,
    "start_time": "2022-02-06T13:45:15.382Z"
   },
   {
    "duration": 1070,
    "start_time": "2022-02-06T14:02:57.980Z"
   },
   {
    "duration": 32,
    "start_time": "2022-02-06T14:02:59.052Z"
   },
   {
    "duration": 12,
    "start_time": "2022-02-06T14:02:59.086Z"
   },
   {
    "duration": 16,
    "start_time": "2022-02-06T14:02:59.100Z"
   },
   {
    "duration": 6,
    "start_time": "2022-02-06T14:02:59.118Z"
   },
   {
    "duration": 4,
    "start_time": "2022-02-06T14:02:59.126Z"
   },
   {
    "duration": 8,
    "start_time": "2022-02-06T14:02:59.132Z"
   },
   {
    "duration": 3,
    "start_time": "2022-02-06T14:02:59.171Z"
   },
   {
    "duration": 6,
    "start_time": "2022-02-06T14:02:59.176Z"
   },
   {
    "duration": 13,
    "start_time": "2022-02-06T14:02:59.184Z"
   },
   {
    "duration": 16,
    "start_time": "2022-02-06T14:02:59.199Z"
   },
   {
    "duration": 20,
    "start_time": "2022-02-06T14:02:59.217Z"
   },
   {
    "duration": 34,
    "start_time": "2022-02-06T14:02:59.239Z"
   },
   {
    "duration": 7,
    "start_time": "2022-02-06T14:02:59.275Z"
   },
   {
    "duration": 6,
    "start_time": "2022-02-06T14:02:59.284Z"
   },
   {
    "duration": 7,
    "start_time": "2022-02-06T14:02:59.291Z"
   },
   {
    "duration": 9,
    "start_time": "2022-02-06T14:02:59.299Z"
   },
   {
    "duration": 9,
    "start_time": "2022-02-06T14:02:59.309Z"
   },
   {
    "duration": 58,
    "start_time": "2022-02-06T14:02:59.320Z"
   },
   {
    "duration": 11,
    "start_time": "2022-02-06T14:02:59.474Z"
   },
   {
    "duration": 85,
    "start_time": "2022-02-06T14:02:59.486Z"
   },
   {
    "duration": 841,
    "start_time": "2022-02-06T14:02:59.574Z"
   },
   {
    "duration": 2,
    "start_time": "2022-02-06T14:03:00.417Z"
   },
   {
    "duration": 46,
    "start_time": "2022-02-06T14:03:00.421Z"
   },
   {
    "duration": 13,
    "start_time": "2022-02-06T14:03:00.469Z"
   },
   {
    "duration": 228,
    "start_time": "2022-02-06T14:03:00.484Z"
   },
   {
    "duration": 517,
    "start_time": "2022-02-06T14:03:01.487Z"
   },
   {
    "duration": 66,
    "start_time": "2022-02-06T14:03:02.005Z"
   },
   {
    "duration": 31,
    "start_time": "2022-02-06T14:03:03.915Z"
   },
   {
    "duration": 520,
    "start_time": "2022-02-06T14:03:04.858Z"
   },
   {
    "duration": 4,
    "start_time": "2022-02-06T14:03:05.995Z"
   },
   {
    "duration": 68,
    "start_time": "2022-02-06T14:03:06.504Z"
   },
   {
    "duration": 733,
    "start_time": "2022-02-06T14:03:07.509Z"
   },
   {
    "duration": 3,
    "start_time": "2022-02-06T14:03:08.244Z"
   },
   {
    "duration": 27,
    "start_time": "2022-02-06T14:03:08.634Z"
   },
   {
    "duration": 288,
    "start_time": "2022-02-06T14:03:09.075Z"
   },
   {
    "duration": 15,
    "start_time": "2022-02-06T14:03:09.365Z"
   },
   {
    "duration": 8,
    "start_time": "2022-02-06T14:03:10.023Z"
   },
   {
    "duration": 29,
    "start_time": "2022-02-06T14:03:10.631Z"
   },
   {
    "duration": 242,
    "start_time": "2022-02-06T14:03:10.663Z"
   },
   {
    "duration": 669,
    "start_time": "2022-02-06T14:03:11.171Z"
   },
   {
    "duration": 79,
    "start_time": "2022-02-06T14:03:11.842Z"
   },
   {
    "duration": 111,
    "start_time": "2022-02-06T14:03:12.565Z"
   },
   {
    "duration": 786,
    "start_time": "2022-02-06T14:03:12.678Z"
   },
   {
    "duration": 201,
    "start_time": "2022-02-06T14:03:13.471Z"
   },
   {
    "duration": 1028,
    "start_time": "2022-02-06T14:03:13.674Z"
   },
   {
    "duration": 78,
    "start_time": "2022-02-06T14:03:14.704Z"
   },
   {
    "duration": 420,
    "start_time": "2022-02-06T14:03:14.873Z"
   },
   {
    "duration": 9,
    "start_time": "2022-02-06T14:03:15.295Z"
   },
   {
    "duration": 1122,
    "start_time": "2022-02-07T10:20:44.405Z"
   },
   {
    "duration": 30,
    "start_time": "2022-02-07T10:20:45.529Z"
   },
   {
    "duration": 9,
    "start_time": "2022-02-07T10:20:45.561Z"
   },
   {
    "duration": 18,
    "start_time": "2022-02-07T10:20:45.572Z"
   },
   {
    "duration": 23,
    "start_time": "2022-02-07T10:20:45.592Z"
   },
   {
    "duration": 4,
    "start_time": "2022-02-07T10:20:45.617Z"
   },
   {
    "duration": 7,
    "start_time": "2022-02-07T10:20:45.623Z"
   },
   {
    "duration": 4,
    "start_time": "2022-02-07T10:20:45.632Z"
   },
   {
    "duration": 4,
    "start_time": "2022-02-07T10:20:45.639Z"
   },
   {
    "duration": 13,
    "start_time": "2022-02-07T10:20:45.645Z"
   },
   {
    "duration": 11,
    "start_time": "2022-02-07T10:20:45.660Z"
   },
   {
    "duration": 53,
    "start_time": "2022-02-07T10:20:45.673Z"
   },
   {
    "duration": 4,
    "start_time": "2022-02-07T10:20:45.727Z"
   },
   {
    "duration": 8,
    "start_time": "2022-02-07T10:20:45.733Z"
   },
   {
    "duration": 6,
    "start_time": "2022-02-07T10:20:45.742Z"
   },
   {
    "duration": 3,
    "start_time": "2022-02-07T10:20:45.750Z"
   },
   {
    "duration": 5,
    "start_time": "2022-02-07T10:20:45.755Z"
   },
   {
    "duration": 5,
    "start_time": "2022-02-07T10:20:45.761Z"
   },
   {
    "duration": 68,
    "start_time": "2022-02-07T10:20:45.768Z"
   },
   {
    "duration": 8,
    "start_time": "2022-02-07T10:20:45.837Z"
   },
   {
    "duration": 68,
    "start_time": "2022-02-07T10:20:45.846Z"
   },
   {
    "duration": 681,
    "start_time": "2022-02-07T10:20:45.916Z"
   },
   {
    "duration": 3,
    "start_time": "2022-02-07T10:20:46.599Z"
   },
   {
    "duration": 30,
    "start_time": "2022-02-07T10:20:46.604Z"
   },
   {
    "duration": 4,
    "start_time": "2022-02-07T10:20:46.636Z"
   },
   {
    "duration": 4,
    "start_time": "2022-02-07T10:20:54.301Z"
   },
   {
    "duration": 4,
    "start_time": "2022-02-07T10:21:06.531Z"
   },
   {
    "duration": 6,
    "start_time": "2022-02-07T10:21:33.079Z"
   },
   {
    "duration": 4,
    "start_time": "2022-02-07T10:21:52.803Z"
   },
   {
    "duration": 4,
    "start_time": "2022-02-07T10:22:00.169Z"
   },
   {
    "duration": 364,
    "start_time": "2022-02-07T10:22:09.299Z"
   },
   {
    "duration": 7,
    "start_time": "2022-02-07T10:22:39.029Z"
   },
   {
    "duration": 5,
    "start_time": "2022-02-07T10:22:44.061Z"
   },
   {
    "duration": 6,
    "start_time": "2022-02-07T10:22:56.818Z"
   },
   {
    "duration": 4,
    "start_time": "2022-02-07T10:26:14.019Z"
   },
   {
    "duration": 4,
    "start_time": "2022-02-07T10:26:46.331Z"
   },
   {
    "duration": 4,
    "start_time": "2022-02-07T10:29:15.761Z"
   },
   {
    "duration": 298,
    "start_time": "2022-02-07T10:29:23.531Z"
   },
   {
    "duration": 275,
    "start_time": "2022-02-07T10:29:30.519Z"
   },
   {
    "duration": 323,
    "start_time": "2022-02-07T10:29:48.461Z"
   },
   {
    "duration": 3,
    "start_time": "2022-02-07T10:30:39.392Z"
   },
   {
    "duration": 4,
    "start_time": "2022-02-07T10:30:48.169Z"
   },
   {
    "duration": 5,
    "start_time": "2022-02-07T10:32:05.089Z"
   },
   {
    "duration": 7,
    "start_time": "2022-02-07T10:32:29.029Z"
   },
   {
    "duration": 6,
    "start_time": "2022-02-07T10:32:45.712Z"
   },
   {
    "duration": 4,
    "start_time": "2022-02-07T10:52:33.845Z"
   },
   {
    "duration": 38,
    "start_time": "2022-02-07T10:52:33.850Z"
   },
   {
    "duration": 7,
    "start_time": "2022-02-07T10:52:33.890Z"
   },
   {
    "duration": 13,
    "start_time": "2022-02-07T10:52:33.900Z"
   },
   {
    "duration": 6,
    "start_time": "2022-02-07T10:52:33.915Z"
   },
   {
    "duration": 5,
    "start_time": "2022-02-07T10:52:33.923Z"
   },
   {
    "duration": 7,
    "start_time": "2022-02-07T10:52:33.930Z"
   },
   {
    "duration": 3,
    "start_time": "2022-02-07T10:52:33.938Z"
   },
   {
    "duration": 5,
    "start_time": "2022-02-07T10:52:33.944Z"
   },
   {
    "duration": 14,
    "start_time": "2022-02-07T10:52:33.951Z"
   },
   {
    "duration": 11,
    "start_time": "2022-02-07T10:52:33.966Z"
   },
   {
    "duration": 54,
    "start_time": "2022-02-07T10:52:33.978Z"
   },
   {
    "duration": 4,
    "start_time": "2022-02-07T10:52:34.033Z"
   },
   {
    "duration": 8,
    "start_time": "2022-02-07T10:52:34.038Z"
   },
   {
    "duration": 5,
    "start_time": "2022-02-07T10:52:34.047Z"
   },
   {
    "duration": 6,
    "start_time": "2022-02-07T10:52:34.054Z"
   },
   {
    "duration": 5,
    "start_time": "2022-02-07T10:52:34.062Z"
   },
   {
    "duration": 4,
    "start_time": "2022-02-07T10:52:34.069Z"
   },
   {
    "duration": 56,
    "start_time": "2022-02-07T10:52:34.075Z"
   },
   {
    "duration": 6,
    "start_time": "2022-02-07T10:52:34.133Z"
   },
   {
    "duration": 75,
    "start_time": "2022-02-07T10:52:34.140Z"
   },
   {
    "duration": 648,
    "start_time": "2022-02-07T10:52:34.217Z"
   },
   {
    "duration": 2,
    "start_time": "2022-02-07T10:52:34.866Z"
   },
   {
    "duration": 24,
    "start_time": "2022-02-07T10:52:34.870Z"
   },
   {
    "duration": 26,
    "start_time": "2022-02-07T10:52:34.896Z"
   },
   {
    "duration": 231,
    "start_time": "2022-02-07T10:52:34.924Z"
   },
   {
    "duration": 559,
    "start_time": "2022-02-07T10:52:35.158Z"
   },
   {
    "duration": 59,
    "start_time": "2022-02-07T10:52:35.719Z"
   },
   {
    "duration": 51,
    "start_time": "2022-02-07T10:52:35.780Z"
   },
   {
    "duration": 736,
    "start_time": "2022-02-07T10:52:35.833Z"
   },
   {
    "duration": 5,
    "start_time": "2022-02-07T10:52:36.571Z"
   },
   {
    "duration": 136,
    "start_time": "2022-02-07T10:52:36.578Z"
   },
   {
    "duration": 899,
    "start_time": "2022-02-07T10:52:36.717Z"
   },
   {
    "duration": 4,
    "start_time": "2022-02-07T10:52:37.618Z"
   },
   {
    "duration": 91,
    "start_time": "2022-02-07T10:52:37.624Z"
   },
   {
    "duration": 496,
    "start_time": "2022-02-07T10:52:37.718Z"
   },
   {
    "duration": 11,
    "start_time": "2022-02-07T10:52:38.216Z"
   },
   {
    "duration": 5,
    "start_time": "2022-02-07T10:52:44.494Z"
   },
   {
    "duration": 8263,
    "start_time": "2022-02-07T10:52:55.951Z"
   },
   {
    "duration": 18,
    "start_time": "2022-02-07T10:53:05.301Z"
   },
   {
    "duration": 7361,
    "start_time": "2022-02-07T10:53:33.873Z"
   },
   {
    "duration": 10,
    "start_time": "2022-02-07T10:53:44.023Z"
   },
   {
    "duration": 5,
    "start_time": "2022-02-07T10:53:56.153Z"
   },
   {
    "duration": 5,
    "start_time": "2022-02-07T10:54:08.413Z"
   },
   {
    "duration": 5,
    "start_time": "2022-02-07T10:54:15.993Z"
   },
   {
    "duration": 5,
    "start_time": "2022-02-07T10:54:23.325Z"
   },
   {
    "duration": 9,
    "start_time": "2022-02-07T10:54:33.932Z"
   },
   {
    "duration": 3,
    "start_time": "2022-02-07T10:54:40.734Z"
   },
   {
    "duration": 7,
    "start_time": "2022-02-07T10:54:50.993Z"
   },
   {
    "duration": 3,
    "start_time": "2022-02-07T10:54:51.904Z"
   },
   {
    "duration": 9,
    "start_time": "2022-02-07T10:54:52.953Z"
   },
   {
    "duration": 4,
    "start_time": "2022-02-07T10:54:54.953Z"
   },
   {
    "duration": 4,
    "start_time": "2022-02-07T10:55:04.583Z"
   },
   {
    "duration": 4,
    "start_time": "2022-02-07T10:55:12.593Z"
   },
   {
    "duration": 4,
    "start_time": "2022-02-07T10:55:23.693Z"
   },
   {
    "duration": 1373,
    "start_time": "2022-02-08T11:07:18.219Z"
   },
   {
    "duration": 35,
    "start_time": "2022-02-08T11:07:19.596Z"
   },
   {
    "duration": 12,
    "start_time": "2022-02-08T11:07:19.635Z"
   },
   {
    "duration": 29,
    "start_time": "2022-02-08T11:07:19.659Z"
   },
   {
    "duration": 8,
    "start_time": "2022-02-08T11:07:19.691Z"
   },
   {
    "duration": 6,
    "start_time": "2022-02-08T11:07:19.702Z"
   },
   {
    "duration": 49,
    "start_time": "2022-02-08T11:07:19.710Z"
   },
   {
    "duration": 5,
    "start_time": "2022-02-08T11:07:19.762Z"
   },
   {
    "duration": 14,
    "start_time": "2022-02-08T11:07:19.772Z"
   },
   {
    "duration": 20,
    "start_time": "2022-02-08T11:07:19.789Z"
   },
   {
    "duration": 19,
    "start_time": "2022-02-08T11:07:19.811Z"
   },
   {
    "duration": 52,
    "start_time": "2022-02-08T11:07:19.832Z"
   },
   {
    "duration": 5,
    "start_time": "2022-02-08T11:07:19.886Z"
   },
   {
    "duration": 9,
    "start_time": "2022-02-08T11:07:19.893Z"
   },
   {
    "duration": 8,
    "start_time": "2022-02-08T11:07:19.904Z"
   },
   {
    "duration": 5,
    "start_time": "2022-02-08T11:07:19.914Z"
   },
   {
    "duration": 4,
    "start_time": "2022-02-08T11:07:19.960Z"
   },
   {
    "duration": 5,
    "start_time": "2022-02-08T11:07:19.966Z"
   },
   {
    "duration": 34,
    "start_time": "2022-02-08T11:07:19.974Z"
   },
   {
    "duration": 49,
    "start_time": "2022-02-08T11:07:20.011Z"
   },
   {
    "duration": 623,
    "start_time": "2022-02-08T11:07:20.063Z"
   },
   {
    "duration": 1534,
    "start_time": "2022-02-08T11:07:19.156Z"
   },
   {
    "duration": 1527,
    "start_time": "2022-02-08T11:07:19.164Z"
   },
   {
    "duration": 1522,
    "start_time": "2022-02-08T11:07:19.171Z"
   },
   {
    "duration": 1514,
    "start_time": "2022-02-08T11:07:19.180Z"
   },
   {
    "duration": 1508,
    "start_time": "2022-02-08T11:07:19.187Z"
   },
   {
    "duration": 1502,
    "start_time": "2022-02-08T11:07:19.195Z"
   },
   {
    "duration": 1495,
    "start_time": "2022-02-08T11:07:19.203Z"
   },
   {
    "duration": 1311,
    "start_time": "2022-02-08T11:07:19.389Z"
   },
   {
    "duration": 1304,
    "start_time": "2022-02-08T11:07:19.397Z"
   },
   {
    "duration": 1279,
    "start_time": "2022-02-08T11:07:19.423Z"
   },
   {
    "duration": 1273,
    "start_time": "2022-02-08T11:07:19.431Z"
   },
   {
    "duration": 1264,
    "start_time": "2022-02-08T11:07:19.441Z"
   },
   {
    "duration": 1258,
    "start_time": "2022-02-08T11:07:19.449Z"
   },
   {
    "duration": 1250,
    "start_time": "2022-02-08T11:07:19.458Z"
   },
   {
    "duration": 1244,
    "start_time": "2022-02-08T11:07:19.465Z"
   },
   {
    "duration": 1236,
    "start_time": "2022-02-08T11:07:19.475Z"
   },
   {
    "duration": 1228,
    "start_time": "2022-02-08T11:07:19.484Z"
   },
   {
    "duration": 1220,
    "start_time": "2022-02-08T11:07:19.493Z"
   },
   {
    "duration": 1214,
    "start_time": "2022-02-08T11:07:19.501Z"
   },
   {
    "duration": 1200,
    "start_time": "2022-02-08T11:07:19.516Z"
   },
   {
    "duration": 1171,
    "start_time": "2022-02-08T11:07:19.546Z"
   },
   {
    "duration": 1162,
    "start_time": "2022-02-08T11:07:19.556Z"
   },
   {
    "duration": 1153,
    "start_time": "2022-02-08T11:07:19.567Z"
   },
   {
    "duration": 1143,
    "start_time": "2022-02-08T11:07:19.578Z"
   },
   {
    "duration": 1137,
    "start_time": "2022-02-08T11:07:19.585Z"
   },
   {
    "duration": 1130,
    "start_time": "2022-02-08T11:07:19.593Z"
   },
   {
    "duration": 1123,
    "start_time": "2022-02-08T11:07:19.602Z"
   },
   {
    "duration": 1151,
    "start_time": "2022-02-08T11:07:19.610Z"
   },
   {
    "duration": 161,
    "start_time": "2022-02-08T11:16:37.499Z"
   },
   {
    "duration": 1025,
    "start_time": "2022-02-08T11:19:02.816Z"
   },
   {
    "duration": 91,
    "start_time": "2022-02-08T11:22:35.575Z"
   },
   {
    "duration": 867,
    "start_time": "2022-02-08T11:23:12.789Z"
   },
   {
    "duration": 39,
    "start_time": "2022-02-08T11:24:35.219Z"
   },
   {
    "duration": 9,
    "start_time": "2022-02-08T11:24:36.273Z"
   },
   {
    "duration": 90,
    "start_time": "2022-02-08T11:24:37.427Z"
   },
   {
    "duration": 945,
    "start_time": "2022-02-08T11:26:27.259Z"
   },
   {
    "duration": 467,
    "start_time": "2022-02-08T11:26:29.291Z"
   },
   {
    "duration": 636,
    "start_time": "2022-02-08T11:26:54.750Z"
   },
   {
    "duration": 96,
    "start_time": "2022-02-08T11:27:04.569Z"
   },
   {
    "duration": 149,
    "start_time": "2022-02-08T11:27:36.428Z"
   },
   {
    "duration": 107,
    "start_time": "2022-02-08T11:27:50.846Z"
   },
   {
    "duration": 61,
    "start_time": "2022-02-08T11:29:33.806Z"
   },
   {
    "duration": 849,
    "start_time": "2022-02-08T11:31:03.248Z"
   },
   {
    "duration": 490,
    "start_time": "2022-02-08T11:32:54.075Z"
   },
   {
    "duration": 6,
    "start_time": "2022-02-08T11:33:01.480Z"
   },
   {
    "duration": 174,
    "start_time": "2022-02-08T11:33:09.586Z"
   },
   {
    "duration": 1228,
    "start_time": "2022-02-08T11:35:04.378Z"
   },
   {
    "duration": 6,
    "start_time": "2022-02-08T11:35:45.707Z"
   },
   {
    "duration": 115,
    "start_time": "2022-02-08T11:36:41.246Z"
   },
   {
    "duration": 510,
    "start_time": "2022-02-08T11:38:00.989Z"
   },
   {
    "duration": 13,
    "start_time": "2022-02-08T11:38:59.760Z"
   },
   {
    "duration": 56,
    "start_time": "2022-02-08T11:39:06.449Z"
   },
   {
    "duration": 126,
    "start_time": "2022-02-08T11:39:24.760Z"
   },
   {
    "duration": 81,
    "start_time": "2022-02-08T11:40:06.828Z"
   },
   {
    "duration": 1037,
    "start_time": "2022-02-08T11:41:16.692Z"
   },
   {
    "duration": 126,
    "start_time": "2022-02-08T11:41:17.822Z"
   },
   {
    "duration": 1301,
    "start_time": "2022-02-08T16:30:15.947Z"
   },
   {
    "duration": 31,
    "start_time": "2022-02-08T16:30:17.251Z"
   },
   {
    "duration": 13,
    "start_time": "2022-02-08T16:30:17.284Z"
   },
   {
    "duration": 42,
    "start_time": "2022-02-08T16:30:17.300Z"
   },
   {
    "duration": 7,
    "start_time": "2022-02-08T16:30:17.345Z"
   },
   {
    "duration": 7,
    "start_time": "2022-02-08T16:30:17.354Z"
   },
   {
    "duration": 10,
    "start_time": "2022-02-08T16:30:17.363Z"
   },
   {
    "duration": 5,
    "start_time": "2022-02-08T16:30:17.376Z"
   },
   {
    "duration": 42,
    "start_time": "2022-02-08T16:30:17.384Z"
   },
   {
    "duration": 21,
    "start_time": "2022-02-08T16:30:17.429Z"
   },
   {
    "duration": 17,
    "start_time": "2022-02-08T16:30:17.452Z"
   },
   {
    "duration": 62,
    "start_time": "2022-02-08T16:30:17.472Z"
   },
   {
    "duration": 5,
    "start_time": "2022-02-08T16:30:17.537Z"
   },
   {
    "duration": 11,
    "start_time": "2022-02-08T16:30:17.544Z"
   },
   {
    "duration": 8,
    "start_time": "2022-02-08T16:30:17.557Z"
   },
   {
    "duration": 5,
    "start_time": "2022-02-08T16:30:17.567Z"
   },
   {
    "duration": 7,
    "start_time": "2022-02-08T16:30:17.574Z"
   },
   {
    "duration": 43,
    "start_time": "2022-02-08T16:30:17.583Z"
   },
   {
    "duration": 40,
    "start_time": "2022-02-08T16:30:17.628Z"
   },
   {
    "duration": 10,
    "start_time": "2022-02-08T16:30:17.670Z"
   },
   {
    "duration": 149,
    "start_time": "2022-02-08T16:30:17.682Z"
   },
   {
    "duration": 856,
    "start_time": "2022-02-08T16:30:17.925Z"
   },
   {
    "duration": 3,
    "start_time": "2022-02-08T16:30:18.785Z"
   },
   {
    "duration": 58,
    "start_time": "2022-02-08T16:30:18.791Z"
   },
   {
    "duration": 11,
    "start_time": "2022-02-08T16:30:18.852Z"
   },
   {
    "duration": 176,
    "start_time": "2022-02-08T16:30:18.925Z"
   },
   {
    "duration": 803,
    "start_time": "2022-02-08T16:30:19.104Z"
   },
   {
    "duration": 96,
    "start_time": "2022-02-08T16:30:19.909Z"
   },
   {
    "duration": 122,
    "start_time": "2022-02-08T16:30:20.008Z"
   },
   {
    "duration": 929,
    "start_time": "2022-02-08T16:30:20.133Z"
   },
   {
    "duration": 6,
    "start_time": "2022-02-08T16:30:21.064Z"
   },
   {
    "duration": 155,
    "start_time": "2022-02-08T16:30:21.072Z"
   },
   {
    "duration": 1322,
    "start_time": "2022-02-08T16:30:21.230Z"
   },
   {
    "duration": 6,
    "start_time": "2022-02-08T16:30:22.554Z"
   },
   {
    "duration": 162,
    "start_time": "2022-02-08T16:30:22.562Z"
   },
   {
    "duration": 575,
    "start_time": "2022-02-08T16:30:22.728Z"
   },
   {
    "duration": 24,
    "start_time": "2022-02-08T16:30:23.305Z"
   },
   {
    "duration": 13,
    "start_time": "2022-02-08T16:30:23.332Z"
   },
   {
    "duration": 77,
    "start_time": "2022-02-08T16:30:23.347Z"
   },
   {
    "duration": 218,
    "start_time": "2022-02-08T16:30:23.427Z"
   },
   {
    "duration": 1115,
    "start_time": "2022-02-08T16:30:23.648Z"
   },
   {
    "duration": 149,
    "start_time": "2022-02-08T16:30:24.766Z"
   },
   {
    "duration": 116,
    "start_time": "2022-02-08T16:30:24.924Z"
   },
   {
    "duration": 2701,
    "start_time": "2022-02-08T16:30:22.342Z"
   },
   {
    "duration": 2684,
    "start_time": "2022-02-08T16:30:22.360Z"
   },
   {
    "duration": 2667,
    "start_time": "2022-02-08T16:30:22.378Z"
   },
   {
    "duration": 2641,
    "start_time": "2022-02-08T16:30:22.406Z"
   },
   {
    "duration": 2607,
    "start_time": "2022-02-08T16:30:22.441Z"
   },
   {
    "duration": 2591,
    "start_time": "2022-02-08T16:30:22.459Z"
   },
   {
    "duration": 638,
    "start_time": "2022-02-08T16:31:54.251Z"
   },
   {
    "duration": 84,
    "start_time": "2022-02-08T16:32:04.745Z"
   },
   {
    "duration": 1080,
    "start_time": "2022-02-08T16:33:20.944Z"
   },
   {
    "duration": 1143,
    "start_time": "2022-02-08T16:33:39.041Z"
   },
   {
    "duration": 149,
    "start_time": "2022-02-08T16:34:04.184Z"
   },
   {
    "duration": 211,
    "start_time": "2022-02-08T16:35:49.614Z"
   },
   {
    "duration": 1659,
    "start_time": "2022-02-08T16:36:05.260Z"
   },
   {
    "duration": 185,
    "start_time": "2022-02-08T16:37:17.438Z"
   },
   {
    "duration": 579,
    "start_time": "2022-02-08T16:38:20.208Z"
   },
   {
    "duration": 16,
    "start_time": "2022-02-08T16:39:48.287Z"
   },
   {
    "duration": 342,
    "start_time": "2022-02-08T16:43:19.304Z"
   },
   {
    "duration": 300,
    "start_time": "2022-02-08T16:44:27.710Z"
   },
   {
    "duration": 279,
    "start_time": "2022-02-08T18:21:22.722Z"
   },
   {
    "duration": 17,
    "start_time": "2022-02-08T18:21:37.798Z"
   },
   {
    "duration": 1351,
    "start_time": "2022-02-08T18:33:46.396Z"
   },
   {
    "duration": 32,
    "start_time": "2022-02-08T18:33:47.750Z"
   },
   {
    "duration": 11,
    "start_time": "2022-02-08T18:33:47.785Z"
   },
   {
    "duration": 39,
    "start_time": "2022-02-08T18:33:47.800Z"
   },
   {
    "duration": 7,
    "start_time": "2022-02-08T18:33:47.841Z"
   },
   {
    "duration": 13,
    "start_time": "2022-02-08T18:33:47.850Z"
   },
   {
    "duration": 14,
    "start_time": "2022-02-08T18:33:47.865Z"
   },
   {
    "duration": 4,
    "start_time": "2022-02-08T18:33:47.884Z"
   },
   {
    "duration": 37,
    "start_time": "2022-02-08T18:33:47.891Z"
   },
   {
    "duration": 25,
    "start_time": "2022-02-08T18:33:47.930Z"
   },
   {
    "duration": 19,
    "start_time": "2022-02-08T18:33:47.958Z"
   },
   {
    "duration": 66,
    "start_time": "2022-02-08T18:33:47.979Z"
   },
   {
    "duration": 6,
    "start_time": "2022-02-08T18:33:48.049Z"
   },
   {
    "duration": 11,
    "start_time": "2022-02-08T18:33:48.058Z"
   },
   {
    "duration": 9,
    "start_time": "2022-02-08T18:33:48.072Z"
   },
   {
    "duration": 41,
    "start_time": "2022-02-08T18:33:48.084Z"
   },
   {
    "duration": 6,
    "start_time": "2022-02-08T18:33:48.128Z"
   },
   {
    "duration": 6,
    "start_time": "2022-02-08T18:33:48.137Z"
   },
   {
    "duration": 84,
    "start_time": "2022-02-08T18:33:48.146Z"
   },
   {
    "duration": 10,
    "start_time": "2022-02-08T18:33:48.232Z"
   },
   {
    "duration": 186,
    "start_time": "2022-02-08T18:33:48.245Z"
   },
   {
    "duration": 961,
    "start_time": "2022-02-08T18:33:48.436Z"
   },
   {
    "duration": 3,
    "start_time": "2022-02-08T18:33:49.400Z"
   },
   {
    "duration": 50,
    "start_time": "2022-02-08T18:33:49.405Z"
   },
   {
    "duration": 6,
    "start_time": "2022-02-08T18:33:49.458Z"
   },
   {
    "duration": 225,
    "start_time": "2022-02-08T18:33:49.467Z"
   },
   {
    "duration": 810,
    "start_time": "2022-02-08T18:33:49.694Z"
   },
   {
    "duration": 99,
    "start_time": "2022-02-08T18:33:50.508Z"
   },
   {
    "duration": 102,
    "start_time": "2022-02-08T18:33:50.623Z"
   },
   {
    "duration": 937,
    "start_time": "2022-02-08T18:33:50.728Z"
   },
   {
    "duration": 6,
    "start_time": "2022-02-08T18:33:51.667Z"
   },
   {
    "duration": 249,
    "start_time": "2022-02-08T18:33:51.676Z"
   },
   {
    "duration": 1311,
    "start_time": "2022-02-08T18:33:51.928Z"
   },
   {
    "duration": 5,
    "start_time": "2022-02-08T18:33:53.242Z"
   },
   {
    "duration": 81,
    "start_time": "2022-02-08T18:33:53.250Z"
   },
   {
    "duration": 915,
    "start_time": "2022-02-08T18:33:53.334Z"
   },
   {
    "duration": 16,
    "start_time": "2022-02-08T18:33:54.251Z"
   },
   {
    "duration": 66,
    "start_time": "2022-02-08T18:33:54.269Z"
   },
   {
    "duration": 109,
    "start_time": "2022-02-08T18:33:54.337Z"
   },
   {
    "duration": 184,
    "start_time": "2022-02-08T18:33:54.526Z"
   },
   {
    "duration": 1048,
    "start_time": "2022-02-08T18:33:54.713Z"
   },
   {
    "duration": 131,
    "start_time": "2022-02-08T18:33:55.764Z"
   },
   {
    "duration": 128,
    "start_time": "2022-02-08T18:33:55.897Z"
   },
   {
    "duration": 1169,
    "start_time": "2022-02-08T18:33:56.029Z"
   },
   {
    "duration": 221,
    "start_time": "2022-02-08T18:33:57.204Z"
   },
   {
    "duration": 1728,
    "start_time": "2022-02-08T18:33:57.429Z"
   },
   {
    "duration": 164,
    "start_time": "2022-02-08T18:33:59.160Z"
   },
   {
    "duration": 709,
    "start_time": "2022-02-08T18:33:59.327Z"
   },
   {
    "duration": 17,
    "start_time": "2022-02-08T18:34:00.038Z"
   },
   {
    "duration": 1396,
    "start_time": "2022-02-08T19:02:06.276Z"
   },
   {
    "duration": 34,
    "start_time": "2022-02-08T19:02:07.675Z"
   },
   {
    "duration": 21,
    "start_time": "2022-02-08T19:02:07.713Z"
   },
   {
    "duration": 46,
    "start_time": "2022-02-08T19:02:07.739Z"
   },
   {
    "duration": 43,
    "start_time": "2022-02-08T19:02:07.788Z"
   },
   {
    "duration": 11,
    "start_time": "2022-02-08T19:02:07.835Z"
   },
   {
    "duration": 13,
    "start_time": "2022-02-08T19:02:07.850Z"
   },
   {
    "duration": 8,
    "start_time": "2022-02-08T19:02:07.869Z"
   },
   {
    "duration": 47,
    "start_time": "2022-02-08T19:02:07.880Z"
   },
   {
    "duration": 25,
    "start_time": "2022-02-08T19:02:07.930Z"
   },
   {
    "duration": 24,
    "start_time": "2022-02-08T19:02:07.959Z"
   },
   {
    "duration": 65,
    "start_time": "2022-02-08T19:02:07.986Z"
   },
   {
    "duration": 6,
    "start_time": "2022-02-08T19:02:08.055Z"
   },
   {
    "duration": 10,
    "start_time": "2022-02-08T19:02:08.065Z"
   },
   {
    "duration": 17,
    "start_time": "2022-02-08T19:02:08.078Z"
   },
   {
    "duration": 5,
    "start_time": "2022-02-08T19:02:08.123Z"
   },
   {
    "duration": 14,
    "start_time": "2022-02-08T19:02:08.131Z"
   },
   {
    "duration": 19,
    "start_time": "2022-02-08T19:02:08.149Z"
   },
   {
    "duration": 79,
    "start_time": "2022-02-08T19:02:08.172Z"
   },
   {
    "duration": 20,
    "start_time": "2022-02-08T19:02:08.254Z"
   },
   {
    "duration": 152,
    "start_time": "2022-02-08T19:02:08.277Z"
   },
   {
    "duration": 1104,
    "start_time": "2022-02-08T19:02:08.432Z"
   },
   {
    "duration": 3,
    "start_time": "2022-02-08T19:02:09.541Z"
   },
   {
    "duration": 85,
    "start_time": "2022-02-08T19:02:09.547Z"
   },
   {
    "duration": 29,
    "start_time": "2022-02-08T19:02:09.635Z"
   },
   {
    "duration": 258,
    "start_time": "2022-02-08T19:02:09.669Z"
   },
   {
    "duration": 1029,
    "start_time": "2022-02-08T19:02:09.930Z"
   },
   {
    "duration": 503,
    "start_time": "2022-02-08T19:02:10.962Z"
   },
   {
    "duration": 1499,
    "start_time": "2022-02-08T19:02:09.970Z"
   },
   {
    "duration": 1492,
    "start_time": "2022-02-08T19:02:09.980Z"
   },
   {
    "duration": 1274,
    "start_time": "2022-02-08T19:02:10.201Z"
   },
   {
    "duration": 1267,
    "start_time": "2022-02-08T19:02:10.210Z"
   },
   {
    "duration": 1261,
    "start_time": "2022-02-08T19:02:10.219Z"
   },
   {
    "duration": 1255,
    "start_time": "2022-02-08T19:02:10.228Z"
   },
   {
    "duration": 1249,
    "start_time": "2022-02-08T19:02:10.236Z"
   },
   {
    "duration": 1242,
    "start_time": "2022-02-08T19:02:10.245Z"
   },
   {
    "duration": 1236,
    "start_time": "2022-02-08T19:02:10.253Z"
   },
   {
    "duration": 1230,
    "start_time": "2022-02-08T19:02:10.261Z"
   },
   {
    "duration": 1224,
    "start_time": "2022-02-08T19:02:10.269Z"
   },
   {
    "duration": 1216,
    "start_time": "2022-02-08T19:02:10.279Z"
   },
   {
    "duration": 1210,
    "start_time": "2022-02-08T19:02:10.287Z"
   },
   {
    "duration": 1202,
    "start_time": "2022-02-08T19:02:10.297Z"
   },
   {
    "duration": 1183,
    "start_time": "2022-02-08T19:02:10.318Z"
   },
   {
    "duration": 1176,
    "start_time": "2022-02-08T19:02:10.327Z"
   },
   {
    "duration": 1170,
    "start_time": "2022-02-08T19:02:10.335Z"
   },
   {
    "duration": 1155,
    "start_time": "2022-02-08T19:02:10.352Z"
   },
   {
    "duration": 1138,
    "start_time": "2022-02-08T19:02:10.370Z"
   },
   {
    "duration": 1130,
    "start_time": "2022-02-08T19:02:10.380Z"
   },
   {
    "duration": 1124,
    "start_time": "2022-02-08T19:02:10.388Z"
   },
   {
    "duration": 1715,
    "start_time": "2022-02-08T19:03:08.257Z"
   },
   {
    "duration": 48,
    "start_time": "2022-02-08T19:03:09.975Z"
   },
   {
    "duration": 13,
    "start_time": "2022-02-08T19:03:10.027Z"
   },
   {
    "duration": 34,
    "start_time": "2022-02-08T19:03:10.044Z"
   },
   {
    "duration": 15,
    "start_time": "2022-02-08T19:03:10.082Z"
   },
   {
    "duration": 28,
    "start_time": "2022-02-08T19:03:10.100Z"
   },
   {
    "duration": 12,
    "start_time": "2022-02-08T19:03:10.131Z"
   },
   {
    "duration": 5,
    "start_time": "2022-02-08T19:03:10.149Z"
   },
   {
    "duration": 8,
    "start_time": "2022-02-08T19:03:10.159Z"
   },
   {
    "duration": 80,
    "start_time": "2022-02-08T19:03:10.171Z"
   },
   {
    "duration": 24,
    "start_time": "2022-02-08T19:03:10.254Z"
   },
   {
    "duration": 71,
    "start_time": "2022-02-08T19:03:10.282Z"
   },
   {
    "duration": 6,
    "start_time": "2022-02-08T19:03:10.356Z"
   },
   {
    "duration": 11,
    "start_time": "2022-02-08T19:03:10.366Z"
   },
   {
    "duration": 43,
    "start_time": "2022-02-08T19:03:10.380Z"
   },
   {
    "duration": 5,
    "start_time": "2022-02-08T19:03:10.427Z"
   },
   {
    "duration": 9,
    "start_time": "2022-02-08T19:03:10.435Z"
   },
   {
    "duration": 9,
    "start_time": "2022-02-08T19:03:10.446Z"
   },
   {
    "duration": 71,
    "start_time": "2022-02-08T19:03:10.457Z"
   },
   {
    "duration": 28,
    "start_time": "2022-02-08T19:03:10.531Z"
   },
   {
    "duration": 81,
    "start_time": "2022-02-08T19:03:10.562Z"
   },
   {
    "duration": 1171,
    "start_time": "2022-02-08T19:03:10.727Z"
   },
   {
    "duration": 3,
    "start_time": "2022-02-08T19:03:11.905Z"
   },
   {
    "duration": 53,
    "start_time": "2022-02-08T19:03:11.913Z"
   },
   {
    "duration": 59,
    "start_time": "2022-02-08T19:03:11.969Z"
   },
   {
    "duration": 195,
    "start_time": "2022-02-08T19:03:12.032Z"
   },
   {
    "duration": 916,
    "start_time": "2022-02-08T19:03:12.230Z"
   },
   {
    "duration": 175,
    "start_time": "2022-02-08T19:03:13.149Z"
   },
   {
    "duration": 106,
    "start_time": "2022-02-08T19:03:13.327Z"
   },
   {
    "duration": 1137,
    "start_time": "2022-02-08T19:03:13.437Z"
   },
   {
    "duration": 8,
    "start_time": "2022-02-08T19:03:14.577Z"
   },
   {
    "duration": 253,
    "start_time": "2022-02-08T19:03:14.588Z"
   },
   {
    "duration": 1668,
    "start_time": "2022-02-08T19:03:14.845Z"
   },
   {
    "duration": 11,
    "start_time": "2022-02-08T19:03:16.516Z"
   },
   {
    "duration": 205,
    "start_time": "2022-02-08T19:03:16.531Z"
   },
   {
    "duration": 684,
    "start_time": "2022-02-08T19:03:16.739Z"
   },
   {
    "duration": 26,
    "start_time": "2022-02-08T19:03:17.427Z"
   },
   {
    "duration": 27,
    "start_time": "2022-02-08T19:03:17.458Z"
   },
   {
    "duration": 139,
    "start_time": "2022-02-08T19:03:17.488Z"
   },
   {
    "duration": 193,
    "start_time": "2022-02-08T19:03:17.630Z"
   },
   {
    "duration": 1625,
    "start_time": "2022-02-08T19:03:17.826Z"
   },
   {
    "duration": 211,
    "start_time": "2022-02-08T19:03:19.454Z"
   },
   {
    "duration": 166,
    "start_time": "2022-02-08T19:03:19.669Z"
   },
   {
    "duration": 1382,
    "start_time": "2022-02-08T19:03:19.842Z"
   },
   {
    "duration": 211,
    "start_time": "2022-02-08T19:03:21.227Z"
   },
   {
    "duration": 1979,
    "start_time": "2022-02-08T19:03:21.441Z"
   },
   {
    "duration": 118,
    "start_time": "2022-02-08T19:03:23.424Z"
   },
   {
    "duration": 824,
    "start_time": "2022-02-08T19:03:23.548Z"
   },
   {
    "duration": 17,
    "start_time": "2022-02-08T19:03:24.374Z"
   }
  ],
  "kernelspec": {
   "display_name": "Python 3",
   "language": "python",
   "name": "python3"
  },
  "language_info": {
   "codemirror_mode": {
    "name": "ipython",
    "version": 3
   },
   "file_extension": ".py",
   "mimetype": "text/x-python",
   "name": "python",
   "nbconvert_exporter": "python",
   "pygments_lexer": "ipython3",
   "version": "3.8.8"
  },
  "toc": {
   "base_numbering": 1,
   "nav_menu": {},
   "number_sections": true,
   "sideBar": true,
   "skip_h1_title": true,
   "title_cell": "Содержание",
   "title_sidebar": "Contents",
   "toc_cell": true,
   "toc_position": {
    "height": "calc(100% - 180px)",
    "left": "10px",
    "top": "150px",
    "width": "165px"
   },
   "toc_section_display": true,
   "toc_window_display": true
  }
 },
 "nbformat": 4,
 "nbformat_minor": 2
}
