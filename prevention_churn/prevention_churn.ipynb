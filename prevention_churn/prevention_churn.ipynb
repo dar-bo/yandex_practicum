{
 "cells": [
  {
   "cell_type": "markdown",
   "metadata": {},
   "source": [
    "# Телеком\n",
    "\n",
    "\n",
    "# Описание услуг\n",
    "\n",
    "Оператор предоставляет два основных типа услуг: \n",
    "\n",
    "1. Стационарную телефонную связь. Возможно подключение телефонного аппарата к нескольким линиям одновременно.\n",
    "2. Интернет. Подключение может быть двух типов: через телефонную линию (DSL*,* от англ. *digital subscriber line*, «цифровая абонентская линия») или оптоволоконный кабель (*Fiber optic*).  \n",
    "\n",
    "Также доступны такие услуги:\n",
    "\n",
    "- Интернет-безопасность: антивирус (*DeviceProtection*) и блокировка небезопасных сайтов (*OnlineSecurity*);\n",
    "- Выделенная линия технической поддержки (*TechSupport*);\n",
    "- Облачное хранилище файлов для резервного копирования данных (*OnlineBackup*);\n",
    "- Стриминговое телевидение (*StreamingTV*) и каталог фильмов (*StreamingMovies*).\n",
    "\n",
    "За услуги клиенты могут платить каждый месяц или заключить договор на 1–2 года. Доступны различные способы расчёта и возможность получения электронного чека."
   ]
  },
  {
   "cell_type": "markdown",
   "metadata": {},
   "source": [
    "# Содержание:\n",
    "- [Исследовательский анализ данных](#Исследовательский-анализ-данных)\n",
    "  - [Объединение таблиц и исправление типов данных](#Объединение-таблиц-и-исправление-типов-данных)\n",
    "  - [Целевой признак и графики распределения](#Целевой-признак-и-графики-распределения)\n",
    "  - [Выводы:](#Выводы:)\n",
    "- [Подготовка данных к обучению моделей](#Подготовка-данных-к-обучению-моделей)\n",
    "- [Обучение моделей](#Обучение-моделей)\n",
    "- [Анализ результатов](#Анализ-результатов)\n",
    "- [Выводы по проекту:](#Выводы-по-проекту:)"
   ]
  },
  {
   "cell_type": "markdown",
   "metadata": {},
   "source": [
    "# Исследовательский анализ данных"
   ]
  },
  {
   "cell_type": "code",
   "execution_count": 1,
   "metadata": {},
   "outputs": [],
   "source": [
    "import pandas as pd\n",
    "import numpy as np\n",
    "import matplotlib.pyplot as plt\n",
    "import seaborn as sns\n",
    "from sklearn.model_selection import train_test_split\n",
    "from sklearn.linear_model import LinearRegression, LogisticRegression\n",
    "from sklearn.tree import DecisionTreeRegressor\n",
    "from sklearn.ensemble import RandomForestRegressor, RandomForestClassifier\n",
    "from sklearn.preprocessing import OrdinalEncoder, StandardScaler\n",
    "from sklearn.metrics import roc_curve, precision_score, accuracy_score, roc_auc_score, classification_report\n",
    "from sklearn.utils import shuffle\n",
    "from sklearn.model_selection import GridSearchCV\n",
    "from sklearn.model_selection import RandomizedSearchCV\n",
    "from catboost import CatBoostClassifier\n",
    "from xgboost import XGBClassifier\n",
    "from lightgbm import LGBMClassifier"
   ]
  },
  {
   "cell_type": "code",
   "execution_count": 2,
   "metadata": {},
   "outputs": [],
   "source": [
    "contract = pd.read_csv('/datasets/final_provider/contract.csv') "
   ]
  },
  {
   "cell_type": "code",
   "execution_count": 3,
   "metadata": {},
   "outputs": [],
   "source": [
    "personal = pd.read_csv('/datasets/final_provider/personal.csv')"
   ]
  },
  {
   "cell_type": "code",
   "execution_count": 4,
   "metadata": {},
   "outputs": [],
   "source": [
    "internet = pd.read_csv('/datasets/final_provider/internet.csv')"
   ]
  },
  {
   "cell_type": "code",
   "execution_count": 5,
   "metadata": {},
   "outputs": [],
   "source": [
    "phone = pd.read_csv('/datasets/final_provider/phone.csv')"
   ]
  },
  {
   "cell_type": "code",
   "execution_count": 6,
   "metadata": {},
   "outputs": [
    {
     "data": {
      "text/html": [
       "<div>\n",
       "<style scoped>\n",
       "    .dataframe tbody tr th:only-of-type {\n",
       "        vertical-align: middle;\n",
       "    }\n",
       "\n",
       "    .dataframe tbody tr th {\n",
       "        vertical-align: top;\n",
       "    }\n",
       "\n",
       "    .dataframe thead th {\n",
       "        text-align: right;\n",
       "    }\n",
       "</style>\n",
       "<table border=\"1\" class=\"dataframe\">\n",
       "  <thead>\n",
       "    <tr style=\"text-align: right;\">\n",
       "      <th></th>\n",
       "      <th>customerID</th>\n",
       "      <th>BeginDate</th>\n",
       "      <th>EndDate</th>\n",
       "      <th>Type</th>\n",
       "      <th>PaperlessBilling</th>\n",
       "      <th>PaymentMethod</th>\n",
       "      <th>MonthlyCharges</th>\n",
       "      <th>TotalCharges</th>\n",
       "    </tr>\n",
       "  </thead>\n",
       "  <tbody>\n",
       "    <tr>\n",
       "      <th>0</th>\n",
       "      <td>7590-VHVEG</td>\n",
       "      <td>2020-01-01</td>\n",
       "      <td>No</td>\n",
       "      <td>Month-to-month</td>\n",
       "      <td>Yes</td>\n",
       "      <td>Electronic check</td>\n",
       "      <td>29.85</td>\n",
       "      <td>29.85</td>\n",
       "    </tr>\n",
       "    <tr>\n",
       "      <th>1</th>\n",
       "      <td>5575-GNVDE</td>\n",
       "      <td>2017-04-01</td>\n",
       "      <td>No</td>\n",
       "      <td>One year</td>\n",
       "      <td>No</td>\n",
       "      <td>Mailed check</td>\n",
       "      <td>56.95</td>\n",
       "      <td>1889.5</td>\n",
       "    </tr>\n",
       "    <tr>\n",
       "      <th>2</th>\n",
       "      <td>3668-QPYBK</td>\n",
       "      <td>2019-10-01</td>\n",
       "      <td>2019-12-01 00:00:00</td>\n",
       "      <td>Month-to-month</td>\n",
       "      <td>Yes</td>\n",
       "      <td>Mailed check</td>\n",
       "      <td>53.85</td>\n",
       "      <td>108.15</td>\n",
       "    </tr>\n",
       "    <tr>\n",
       "      <th>3</th>\n",
       "      <td>7795-CFOCW</td>\n",
       "      <td>2016-05-01</td>\n",
       "      <td>No</td>\n",
       "      <td>One year</td>\n",
       "      <td>No</td>\n",
       "      <td>Bank transfer (automatic)</td>\n",
       "      <td>42.30</td>\n",
       "      <td>1840.75</td>\n",
       "    </tr>\n",
       "    <tr>\n",
       "      <th>4</th>\n",
       "      <td>9237-HQITU</td>\n",
       "      <td>2019-09-01</td>\n",
       "      <td>2019-11-01 00:00:00</td>\n",
       "      <td>Month-to-month</td>\n",
       "      <td>Yes</td>\n",
       "      <td>Electronic check</td>\n",
       "      <td>70.70</td>\n",
       "      <td>151.65</td>\n",
       "    </tr>\n",
       "  </tbody>\n",
       "</table>\n",
       "</div>"
      ],
      "text/plain": [
       "   customerID   BeginDate              EndDate            Type  \\\n",
       "0  7590-VHVEG  2020-01-01                   No  Month-to-month   \n",
       "1  5575-GNVDE  2017-04-01                   No        One year   \n",
       "2  3668-QPYBK  2019-10-01  2019-12-01 00:00:00  Month-to-month   \n",
       "3  7795-CFOCW  2016-05-01                   No        One year   \n",
       "4  9237-HQITU  2019-09-01  2019-11-01 00:00:00  Month-to-month   \n",
       "\n",
       "  PaperlessBilling              PaymentMethod  MonthlyCharges TotalCharges  \n",
       "0              Yes           Electronic check           29.85        29.85  \n",
       "1               No               Mailed check           56.95       1889.5  \n",
       "2              Yes               Mailed check           53.85       108.15  \n",
       "3               No  Bank transfer (automatic)           42.30      1840.75  \n",
       "4              Yes           Electronic check           70.70       151.65  "
      ]
     },
     "execution_count": 6,
     "metadata": {},
     "output_type": "execute_result"
    }
   ],
   "source": [
    "contract.head() #информация о договоре"
   ]
  },
  {
   "cell_type": "markdown",
   "metadata": {},
   "source": [
    "* customerID - идентификационный номер клиента\n",
    "* BeginDate - дата подключения клиента\n",
    "* EndDate - дата отключения клиента\n",
    "* Type - тип оплаты за связь\n",
    "* PaperlessBilling - без бумажных квитанций\n",
    "* PaymentMethod\t- метод оплаты\n",
    "* MonthlyCharges - стоимость связи за месяц\n",
    "* TotalCharges - сумма оплаты всего за все время подключения клиента"
   ]
  },
  {
   "cell_type": "code",
   "execution_count": 7,
   "metadata": {
    "scrolled": true
   },
   "outputs": [
    {
     "data": {
      "text/html": [
       "<div>\n",
       "<style scoped>\n",
       "    .dataframe tbody tr th:only-of-type {\n",
       "        vertical-align: middle;\n",
       "    }\n",
       "\n",
       "    .dataframe tbody tr th {\n",
       "        vertical-align: top;\n",
       "    }\n",
       "\n",
       "    .dataframe thead th {\n",
       "        text-align: right;\n",
       "    }\n",
       "</style>\n",
       "<table border=\"1\" class=\"dataframe\">\n",
       "  <thead>\n",
       "    <tr style=\"text-align: right;\">\n",
       "      <th></th>\n",
       "      <th>customerID</th>\n",
       "      <th>gender</th>\n",
       "      <th>SeniorCitizen</th>\n",
       "      <th>Partner</th>\n",
       "      <th>Dependents</th>\n",
       "    </tr>\n",
       "  </thead>\n",
       "  <tbody>\n",
       "    <tr>\n",
       "      <th>0</th>\n",
       "      <td>7590-VHVEG</td>\n",
       "      <td>Female</td>\n",
       "      <td>0</td>\n",
       "      <td>Yes</td>\n",
       "      <td>No</td>\n",
       "    </tr>\n",
       "    <tr>\n",
       "      <th>1</th>\n",
       "      <td>5575-GNVDE</td>\n",
       "      <td>Male</td>\n",
       "      <td>0</td>\n",
       "      <td>No</td>\n",
       "      <td>No</td>\n",
       "    </tr>\n",
       "    <tr>\n",
       "      <th>2</th>\n",
       "      <td>3668-QPYBK</td>\n",
       "      <td>Male</td>\n",
       "      <td>0</td>\n",
       "      <td>No</td>\n",
       "      <td>No</td>\n",
       "    </tr>\n",
       "    <tr>\n",
       "      <th>3</th>\n",
       "      <td>7795-CFOCW</td>\n",
       "      <td>Male</td>\n",
       "      <td>0</td>\n",
       "      <td>No</td>\n",
       "      <td>No</td>\n",
       "    </tr>\n",
       "    <tr>\n",
       "      <th>4</th>\n",
       "      <td>9237-HQITU</td>\n",
       "      <td>Female</td>\n",
       "      <td>0</td>\n",
       "      <td>No</td>\n",
       "      <td>No</td>\n",
       "    </tr>\n",
       "  </tbody>\n",
       "</table>\n",
       "</div>"
      ],
      "text/plain": [
       "   customerID  gender  SeniorCitizen Partner Dependents\n",
       "0  7590-VHVEG  Female              0     Yes         No\n",
       "1  5575-GNVDE    Male              0      No         No\n",
       "2  3668-QPYBK    Male              0      No         No\n",
       "3  7795-CFOCW    Male              0      No         No\n",
       "4  9237-HQITU  Female              0      No         No"
      ]
     },
     "execution_count": 7,
     "metadata": {},
     "output_type": "execute_result"
    }
   ],
   "source": [
    "personal.head() #персональные данные клиента"
   ]
  },
  {
   "cell_type": "markdown",
   "metadata": {},
   "source": [
    "* gender - пол\n",
    "* SeniorCitizen\t- пенсионер/не пенсионер\n",
    "* Partner - свободные/женатые\t\n",
    "* Dependents - зависимые(дети)/независимые"
   ]
  },
  {
   "cell_type": "code",
   "execution_count": 8,
   "metadata": {},
   "outputs": [
    {
     "data": {
      "text/html": [
       "<div>\n",
       "<style scoped>\n",
       "    .dataframe tbody tr th:only-of-type {\n",
       "        vertical-align: middle;\n",
       "    }\n",
       "\n",
       "    .dataframe tbody tr th {\n",
       "        vertical-align: top;\n",
       "    }\n",
       "\n",
       "    .dataframe thead th {\n",
       "        text-align: right;\n",
       "    }\n",
       "</style>\n",
       "<table border=\"1\" class=\"dataframe\">\n",
       "  <thead>\n",
       "    <tr style=\"text-align: right;\">\n",
       "      <th></th>\n",
       "      <th>customerID</th>\n",
       "      <th>InternetService</th>\n",
       "      <th>OnlineSecurity</th>\n",
       "      <th>OnlineBackup</th>\n",
       "      <th>DeviceProtection</th>\n",
       "      <th>TechSupport</th>\n",
       "      <th>StreamingTV</th>\n",
       "      <th>StreamingMovies</th>\n",
       "    </tr>\n",
       "  </thead>\n",
       "  <tbody>\n",
       "    <tr>\n",
       "      <th>0</th>\n",
       "      <td>7590-VHVEG</td>\n",
       "      <td>DSL</td>\n",
       "      <td>No</td>\n",
       "      <td>Yes</td>\n",
       "      <td>No</td>\n",
       "      <td>No</td>\n",
       "      <td>No</td>\n",
       "      <td>No</td>\n",
       "    </tr>\n",
       "    <tr>\n",
       "      <th>1</th>\n",
       "      <td>5575-GNVDE</td>\n",
       "      <td>DSL</td>\n",
       "      <td>Yes</td>\n",
       "      <td>No</td>\n",
       "      <td>Yes</td>\n",
       "      <td>No</td>\n",
       "      <td>No</td>\n",
       "      <td>No</td>\n",
       "    </tr>\n",
       "    <tr>\n",
       "      <th>2</th>\n",
       "      <td>3668-QPYBK</td>\n",
       "      <td>DSL</td>\n",
       "      <td>Yes</td>\n",
       "      <td>Yes</td>\n",
       "      <td>No</td>\n",
       "      <td>No</td>\n",
       "      <td>No</td>\n",
       "      <td>No</td>\n",
       "    </tr>\n",
       "    <tr>\n",
       "      <th>3</th>\n",
       "      <td>7795-CFOCW</td>\n",
       "      <td>DSL</td>\n",
       "      <td>Yes</td>\n",
       "      <td>No</td>\n",
       "      <td>Yes</td>\n",
       "      <td>Yes</td>\n",
       "      <td>No</td>\n",
       "      <td>No</td>\n",
       "    </tr>\n",
       "    <tr>\n",
       "      <th>4</th>\n",
       "      <td>9237-HQITU</td>\n",
       "      <td>Fiber optic</td>\n",
       "      <td>No</td>\n",
       "      <td>No</td>\n",
       "      <td>No</td>\n",
       "      <td>No</td>\n",
       "      <td>No</td>\n",
       "      <td>No</td>\n",
       "    </tr>\n",
       "  </tbody>\n",
       "</table>\n",
       "</div>"
      ],
      "text/plain": [
       "   customerID InternetService OnlineSecurity OnlineBackup DeviceProtection  \\\n",
       "0  7590-VHVEG             DSL             No          Yes               No   \n",
       "1  5575-GNVDE             DSL            Yes           No              Yes   \n",
       "2  3668-QPYBK             DSL            Yes          Yes               No   \n",
       "3  7795-CFOCW             DSL            Yes           No              Yes   \n",
       "4  9237-HQITU     Fiber optic             No           No               No   \n",
       "\n",
       "  TechSupport StreamingTV StreamingMovies  \n",
       "0          No          No              No  \n",
       "1          No          No              No  \n",
       "2          No          No              No  \n",
       "3         Yes          No              No  \n",
       "4          No          No              No  "
      ]
     },
     "execution_count": 8,
     "metadata": {},
     "output_type": "execute_result"
    }
   ],
   "source": [
    "internet.head() #информация об интернет-услугах"
   ]
  },
  {
   "cell_type": "markdown",
   "metadata": {},
   "source": [
    "* InternetService - подключение: цифровая абонентская линия или оптоволоконный кабель\n",
    "* OnlineSecurity - блокировка небезопасных сайтов \n",
    "* OnlineBackup - Облачное хранилище файлов для резервного копирования данных\n",
    "* DeviceProtection - наличие/отсутствие онлайн антивируса\n",
    "* TechSupport - Выделенная линия технической поддержки\n",
    "* StreamingTV - Стриминговое телевидение\n",
    "* StreamingMovies - каталог фильмов"
   ]
  },
  {
   "cell_type": "code",
   "execution_count": 9,
   "metadata": {
    "scrolled": true
   },
   "outputs": [
    {
     "data": {
      "text/html": [
       "<div>\n",
       "<style scoped>\n",
       "    .dataframe tbody tr th:only-of-type {\n",
       "        vertical-align: middle;\n",
       "    }\n",
       "\n",
       "    .dataframe tbody tr th {\n",
       "        vertical-align: top;\n",
       "    }\n",
       "\n",
       "    .dataframe thead th {\n",
       "        text-align: right;\n",
       "    }\n",
       "</style>\n",
       "<table border=\"1\" class=\"dataframe\">\n",
       "  <thead>\n",
       "    <tr style=\"text-align: right;\">\n",
       "      <th></th>\n",
       "      <th>customerID</th>\n",
       "      <th>MultipleLines</th>\n",
       "    </tr>\n",
       "  </thead>\n",
       "  <tbody>\n",
       "    <tr>\n",
       "      <th>0</th>\n",
       "      <td>5575-GNVDE</td>\n",
       "      <td>No</td>\n",
       "    </tr>\n",
       "    <tr>\n",
       "      <th>1</th>\n",
       "      <td>3668-QPYBK</td>\n",
       "      <td>No</td>\n",
       "    </tr>\n",
       "    <tr>\n",
       "      <th>2</th>\n",
       "      <td>9237-HQITU</td>\n",
       "      <td>No</td>\n",
       "    </tr>\n",
       "    <tr>\n",
       "      <th>3</th>\n",
       "      <td>9305-CDSKC</td>\n",
       "      <td>Yes</td>\n",
       "    </tr>\n",
       "    <tr>\n",
       "      <th>4</th>\n",
       "      <td>1452-KIOVK</td>\n",
       "      <td>Yes</td>\n",
       "    </tr>\n",
       "  </tbody>\n",
       "</table>\n",
       "</div>"
      ],
      "text/plain": [
       "   customerID MultipleLines\n",
       "0  5575-GNVDE            No\n",
       "1  3668-QPYBK            No\n",
       "2  9237-HQITU            No\n",
       "3  9305-CDSKC           Yes\n",
       "4  1452-KIOVK           Yes"
      ]
     },
     "execution_count": 9,
     "metadata": {},
     "output_type": "execute_result"
    }
   ],
   "source": [
    "phone.head() #информация об услугах телефонии"
   ]
  },
  {
   "cell_type": "markdown",
   "metadata": {},
   "source": [
    "* MultipleLines - подключение телефонного аппарата к нескольким линиям одновременно."
   ]
  },
  {
   "cell_type": "markdown",
   "metadata": {},
   "source": [
    "## Объединение таблиц и исправление типов данных"
   ]
  },
  {
   "cell_type": "markdown",
   "metadata": {},
   "source": [
    "**Объединяем все таблицы в одну по customerID**"
   ]
  },
  {
   "cell_type": "code",
   "execution_count": 10,
   "metadata": {},
   "outputs": [],
   "source": [
    "df = contract.set_index('customerID').join(personal.set_index('customerID'))"
   ]
  },
  {
   "cell_type": "code",
   "execution_count": 11,
   "metadata": {},
   "outputs": [],
   "source": [
    "df = df.join(internet.set_index('customerID'))"
   ]
  },
  {
   "cell_type": "code",
   "execution_count": 12,
   "metadata": {},
   "outputs": [],
   "source": [
    "df = df.join(phone.set_index('customerID'))"
   ]
  },
  {
   "cell_type": "code",
   "execution_count": 13,
   "metadata": {},
   "outputs": [
    {
     "data": {
      "text/html": [
       "<div>\n",
       "<style scoped>\n",
       "    .dataframe tbody tr th:only-of-type {\n",
       "        vertical-align: middle;\n",
       "    }\n",
       "\n",
       "    .dataframe tbody tr th {\n",
       "        vertical-align: top;\n",
       "    }\n",
       "\n",
       "    .dataframe thead th {\n",
       "        text-align: right;\n",
       "    }\n",
       "</style>\n",
       "<table border=\"1\" class=\"dataframe\">\n",
       "  <thead>\n",
       "    <tr style=\"text-align: right;\">\n",
       "      <th></th>\n",
       "      <th>BeginDate</th>\n",
       "      <th>EndDate</th>\n",
       "      <th>Type</th>\n",
       "      <th>PaperlessBilling</th>\n",
       "      <th>PaymentMethod</th>\n",
       "      <th>MonthlyCharges</th>\n",
       "      <th>TotalCharges</th>\n",
       "      <th>gender</th>\n",
       "      <th>SeniorCitizen</th>\n",
       "      <th>Partner</th>\n",
       "      <th>Dependents</th>\n",
       "      <th>InternetService</th>\n",
       "      <th>OnlineSecurity</th>\n",
       "      <th>OnlineBackup</th>\n",
       "      <th>DeviceProtection</th>\n",
       "      <th>TechSupport</th>\n",
       "      <th>StreamingTV</th>\n",
       "      <th>StreamingMovies</th>\n",
       "      <th>MultipleLines</th>\n",
       "    </tr>\n",
       "    <tr>\n",
       "      <th>customerID</th>\n",
       "      <th></th>\n",
       "      <th></th>\n",
       "      <th></th>\n",
       "      <th></th>\n",
       "      <th></th>\n",
       "      <th></th>\n",
       "      <th></th>\n",
       "      <th></th>\n",
       "      <th></th>\n",
       "      <th></th>\n",
       "      <th></th>\n",
       "      <th></th>\n",
       "      <th></th>\n",
       "      <th></th>\n",
       "      <th></th>\n",
       "      <th></th>\n",
       "      <th></th>\n",
       "      <th></th>\n",
       "      <th></th>\n",
       "    </tr>\n",
       "  </thead>\n",
       "  <tbody>\n",
       "    <tr>\n",
       "      <th>7590-VHVEG</th>\n",
       "      <td>2020-01-01</td>\n",
       "      <td>No</td>\n",
       "      <td>Month-to-month</td>\n",
       "      <td>Yes</td>\n",
       "      <td>Electronic check</td>\n",
       "      <td>29.85</td>\n",
       "      <td>29.85</td>\n",
       "      <td>Female</td>\n",
       "      <td>0</td>\n",
       "      <td>Yes</td>\n",
       "      <td>No</td>\n",
       "      <td>DSL</td>\n",
       "      <td>No</td>\n",
       "      <td>Yes</td>\n",
       "      <td>No</td>\n",
       "      <td>No</td>\n",
       "      <td>No</td>\n",
       "      <td>No</td>\n",
       "      <td>NaN</td>\n",
       "    </tr>\n",
       "    <tr>\n",
       "      <th>5575-GNVDE</th>\n",
       "      <td>2017-04-01</td>\n",
       "      <td>No</td>\n",
       "      <td>One year</td>\n",
       "      <td>No</td>\n",
       "      <td>Mailed check</td>\n",
       "      <td>56.95</td>\n",
       "      <td>1889.5</td>\n",
       "      <td>Male</td>\n",
       "      <td>0</td>\n",
       "      <td>No</td>\n",
       "      <td>No</td>\n",
       "      <td>DSL</td>\n",
       "      <td>Yes</td>\n",
       "      <td>No</td>\n",
       "      <td>Yes</td>\n",
       "      <td>No</td>\n",
       "      <td>No</td>\n",
       "      <td>No</td>\n",
       "      <td>No</td>\n",
       "    </tr>\n",
       "    <tr>\n",
       "      <th>3668-QPYBK</th>\n",
       "      <td>2019-10-01</td>\n",
       "      <td>2019-12-01 00:00:00</td>\n",
       "      <td>Month-to-month</td>\n",
       "      <td>Yes</td>\n",
       "      <td>Mailed check</td>\n",
       "      <td>53.85</td>\n",
       "      <td>108.15</td>\n",
       "      <td>Male</td>\n",
       "      <td>0</td>\n",
       "      <td>No</td>\n",
       "      <td>No</td>\n",
       "      <td>DSL</td>\n",
       "      <td>Yes</td>\n",
       "      <td>Yes</td>\n",
       "      <td>No</td>\n",
       "      <td>No</td>\n",
       "      <td>No</td>\n",
       "      <td>No</td>\n",
       "      <td>No</td>\n",
       "    </tr>\n",
       "    <tr>\n",
       "      <th>7795-CFOCW</th>\n",
       "      <td>2016-05-01</td>\n",
       "      <td>No</td>\n",
       "      <td>One year</td>\n",
       "      <td>No</td>\n",
       "      <td>Bank transfer (automatic)</td>\n",
       "      <td>42.30</td>\n",
       "      <td>1840.75</td>\n",
       "      <td>Male</td>\n",
       "      <td>0</td>\n",
       "      <td>No</td>\n",
       "      <td>No</td>\n",
       "      <td>DSL</td>\n",
       "      <td>Yes</td>\n",
       "      <td>No</td>\n",
       "      <td>Yes</td>\n",
       "      <td>Yes</td>\n",
       "      <td>No</td>\n",
       "      <td>No</td>\n",
       "      <td>NaN</td>\n",
       "    </tr>\n",
       "    <tr>\n",
       "      <th>9237-HQITU</th>\n",
       "      <td>2019-09-01</td>\n",
       "      <td>2019-11-01 00:00:00</td>\n",
       "      <td>Month-to-month</td>\n",
       "      <td>Yes</td>\n",
       "      <td>Electronic check</td>\n",
       "      <td>70.70</td>\n",
       "      <td>151.65</td>\n",
       "      <td>Female</td>\n",
       "      <td>0</td>\n",
       "      <td>No</td>\n",
       "      <td>No</td>\n",
       "      <td>Fiber optic</td>\n",
       "      <td>No</td>\n",
       "      <td>No</td>\n",
       "      <td>No</td>\n",
       "      <td>No</td>\n",
       "      <td>No</td>\n",
       "      <td>No</td>\n",
       "      <td>No</td>\n",
       "    </tr>\n",
       "  </tbody>\n",
       "</table>\n",
       "</div>"
      ],
      "text/plain": [
       "             BeginDate              EndDate            Type PaperlessBilling  \\\n",
       "customerID                                                                     \n",
       "7590-VHVEG  2020-01-01                   No  Month-to-month              Yes   \n",
       "5575-GNVDE  2017-04-01                   No        One year               No   \n",
       "3668-QPYBK  2019-10-01  2019-12-01 00:00:00  Month-to-month              Yes   \n",
       "7795-CFOCW  2016-05-01                   No        One year               No   \n",
       "9237-HQITU  2019-09-01  2019-11-01 00:00:00  Month-to-month              Yes   \n",
       "\n",
       "                        PaymentMethod  MonthlyCharges TotalCharges  gender  \\\n",
       "customerID                                                                   \n",
       "7590-VHVEG           Electronic check           29.85        29.85  Female   \n",
       "5575-GNVDE               Mailed check           56.95       1889.5    Male   \n",
       "3668-QPYBK               Mailed check           53.85       108.15    Male   \n",
       "7795-CFOCW  Bank transfer (automatic)           42.30      1840.75    Male   \n",
       "9237-HQITU           Electronic check           70.70       151.65  Female   \n",
       "\n",
       "            SeniorCitizen Partner Dependents InternetService OnlineSecurity  \\\n",
       "customerID                                                                    \n",
       "7590-VHVEG              0     Yes         No             DSL             No   \n",
       "5575-GNVDE              0      No         No             DSL            Yes   \n",
       "3668-QPYBK              0      No         No             DSL            Yes   \n",
       "7795-CFOCW              0      No         No             DSL            Yes   \n",
       "9237-HQITU              0      No         No     Fiber optic             No   \n",
       "\n",
       "           OnlineBackup DeviceProtection TechSupport StreamingTV  \\\n",
       "customerID                                                         \n",
       "7590-VHVEG          Yes               No          No          No   \n",
       "5575-GNVDE           No              Yes          No          No   \n",
       "3668-QPYBK          Yes               No          No          No   \n",
       "7795-CFOCW           No              Yes         Yes          No   \n",
       "9237-HQITU           No               No          No          No   \n",
       "\n",
       "           StreamingMovies MultipleLines  \n",
       "customerID                                \n",
       "7590-VHVEG              No           NaN  \n",
       "5575-GNVDE              No            No  \n",
       "3668-QPYBK              No            No  \n",
       "7795-CFOCW              No           NaN  \n",
       "9237-HQITU              No            No  "
      ]
     },
     "execution_count": 13,
     "metadata": {},
     "output_type": "execute_result"
    }
   ],
   "source": [
    "df.head()"
   ]
  },
  {
   "cell_type": "code",
   "execution_count": 14,
   "metadata": {
    "scrolled": true
   },
   "outputs": [
    {
     "data": {
      "text/plain": [
       "BeginDate              0\n",
       "EndDate                0\n",
       "Type                   0\n",
       "PaperlessBilling       0\n",
       "PaymentMethod          0\n",
       "MonthlyCharges         0\n",
       "TotalCharges           0\n",
       "gender                 0\n",
       "SeniorCitizen          0\n",
       "Partner                0\n",
       "Dependents             0\n",
       "InternetService     1526\n",
       "OnlineSecurity      1526\n",
       "OnlineBackup        1526\n",
       "DeviceProtection    1526\n",
       "TechSupport         1526\n",
       "StreamingTV         1526\n",
       "StreamingMovies     1526\n",
       "MultipleLines        682\n",
       "dtype: int64"
      ]
     },
     "execution_count": 14,
     "metadata": {},
     "output_type": "execute_result"
    }
   ],
   "source": [
    "df.isna().sum() "
   ]
  },
  {
   "cell_type": "code",
   "execution_count": 15,
   "metadata": {},
   "outputs": [],
   "source": [
    "df[['InternetService', 'OnlineSecurity', 'OnlineBackup', 'DeviceProtection', 'TechSupport', \n",
    "    'StreamingTV', 'StreamingMovies', 'MultipleLines']] = df[['InternetService', 'OnlineSecurity', 'OnlineBackup', \n",
    "                                                              'DeviceProtection', 'TechSupport', \n",
    "                                                             'StreamingTV', 'StreamingMovies', 'MultipleLines']].fillna('No')"
   ]
  },
  {
   "cell_type": "markdown",
   "metadata": {},
   "source": [
    "**Так как в специфических услугах много пропусков, можно предположить, что это означает их отсутствие, поэтому заполняю пропуски значением No**"
   ]
  },
  {
   "cell_type": "code",
   "execution_count": 16,
   "metadata": {},
   "outputs": [
    {
     "name": "stdout",
     "output_type": "stream",
     "text": [
      "<class 'pandas.core.frame.DataFrame'>\n",
      "Index: 7043 entries, 7590-VHVEG to 3186-AJIEK\n",
      "Data columns (total 19 columns):\n",
      " #   Column            Non-Null Count  Dtype  \n",
      "---  ------            --------------  -----  \n",
      " 0   BeginDate         7043 non-null   object \n",
      " 1   EndDate           7043 non-null   object \n",
      " 2   Type              7043 non-null   object \n",
      " 3   PaperlessBilling  7043 non-null   object \n",
      " 4   PaymentMethod     7043 non-null   object \n",
      " 5   MonthlyCharges    7043 non-null   float64\n",
      " 6   TotalCharges      7043 non-null   object \n",
      " 7   gender            7043 non-null   object \n",
      " 8   SeniorCitizen     7043 non-null   int64  \n",
      " 9   Partner           7043 non-null   object \n",
      " 10  Dependents        7043 non-null   object \n",
      " 11  InternetService   7043 non-null   object \n",
      " 12  OnlineSecurity    7043 non-null   object \n",
      " 13  OnlineBackup      7043 non-null   object \n",
      " 14  DeviceProtection  7043 non-null   object \n",
      " 15  TechSupport       7043 non-null   object \n",
      " 16  StreamingTV       7043 non-null   object \n",
      " 17  StreamingMovies   7043 non-null   object \n",
      " 18  MultipleLines     7043 non-null   object \n",
      "dtypes: float64(1), int64(1), object(17)\n",
      "memory usage: 1.3+ MB\n"
     ]
    }
   ],
   "source": [
    "df.info()"
   ]
  },
  {
   "cell_type": "code",
   "execution_count": 17,
   "metadata": {},
   "outputs": [],
   "source": [
    "#приводим к числовому типу с принудительным исправление ошибок\n",
    "df['TotalCharges'] = pd.to_numeric(df['TotalCharges'], errors='coerce') "
   ]
  },
  {
   "cell_type": "code",
   "execution_count": 18,
   "metadata": {},
   "outputs": [],
   "source": [
    "#чтобы данные были одинокового типа заменяем невыбывших клиентов датой, на которую актуален датасет\n",
    "df['EndDate'] = df['EndDate'].replace('No', '2020-02-01')"
   ]
  },
  {
   "cell_type": "code",
   "execution_count": 19,
   "metadata": {},
   "outputs": [],
   "source": [
    "df['EndDate'] = pd.to_datetime(df['EndDate'],format='%Y-%m-%d')"
   ]
  },
  {
   "cell_type": "code",
   "execution_count": 20,
   "metadata": {
    "scrolled": true
   },
   "outputs": [],
   "source": [
    "df['BeginDate'] = pd.to_datetime(df['BeginDate'],format='%Y-%m-%d')"
   ]
  },
  {
   "cell_type": "code",
   "execution_count": 21,
   "metadata": {},
   "outputs": [],
   "source": [
    "# формируем новый признак - количество дней, которое действовал контракт\n",
    "df['duration_days'] = (df['EndDate'] - df['BeginDate']).astype('timedelta64[D]')\n",
    "df['duration_days'] = df['duration_days'].astype('int')"
   ]
  },
  {
   "cell_type": "code",
   "execution_count": 22,
   "metadata": {},
   "outputs": [
    {
     "data": {
      "text/plain": [
       "customerID\n",
       "7590-VHVEG      31\n",
       "5575-GNVDE    1036\n",
       "3668-QPYBK      61\n",
       "7795-CFOCW    1371\n",
       "9237-HQITU      61\n",
       "              ... \n",
       "6840-RESVB     730\n",
       "2234-XADUH    2191\n",
       "4801-JZAZL     337\n",
       "8361-LTMKD     123\n",
       "3186-AJIEK    2010\n",
       "Name: duration_days, Length: 7043, dtype: int64"
      ]
     },
     "execution_count": 22,
     "metadata": {},
     "output_type": "execute_result"
    }
   ],
   "source": [
    "df['duration_days']"
   ]
  },
  {
   "cell_type": "markdown",
   "metadata": {},
   "source": [
    "**Некоторые данные имеют неподходящий тип, исправляем. Также формируем дополнительный признак - количество дней, которое клиент был абонентом данной компании**"
   ]
  },
  {
   "cell_type": "code",
   "execution_count": 23,
   "metadata": {},
   "outputs": [],
   "source": [
    "def binary_values(column):\n",
    "    '''Функция меняет бинарные значения на 0/1'''\n",
    "    column = np.where(column == 'No', 0, 1)\n",
    "    return column\n"
   ]
  },
  {
   "cell_type": "code",
   "execution_count": 24,
   "metadata": {},
   "outputs": [],
   "source": [
    "df['Partner'] = binary_values(df['Partner'])\n",
    "df['PaperlessBilling'] = binary_values(df['PaperlessBilling'])\n",
    "df['Dependents'] = binary_values(df['Dependents'])\n",
    "df['OnlineSecurity'] = binary_values(df['OnlineSecurity'])\n",
    "df['OnlineBackup'] = binary_values(df['OnlineBackup'])\n",
    "df['DeviceProtection'] = binary_values(df['DeviceProtection'])\n",
    "df['TechSupport'] = binary_values(df['TechSupport'])\n",
    "df['StreamingTV'] = binary_values(df['StreamingTV'])\n",
    "df['StreamingMovies'] = binary_values(df['StreamingMovies'])\n",
    "df['MultipleLines'] = binary_values(df['MultipleLines'])\n"
   ]
  },
  {
   "cell_type": "code",
   "execution_count": 25,
   "metadata": {},
   "outputs": [],
   "source": [
    "#формируем целевой признак - все те даты в столбце EndDate, что отличаются от актуальной, отмечаем 1(клиент ушел)\n",
    "df['loss'] = np.where(df['EndDate'] == '2020-02-01', 0, 1)"
   ]
  },
  {
   "cell_type": "code",
   "execution_count": 26,
   "metadata": {},
   "outputs": [
    {
     "data": {
      "text/html": [
       "<div>\n",
       "<style scoped>\n",
       "    .dataframe tbody tr th:only-of-type {\n",
       "        vertical-align: middle;\n",
       "    }\n",
       "\n",
       "    .dataframe tbody tr th {\n",
       "        vertical-align: top;\n",
       "    }\n",
       "\n",
       "    .dataframe thead th {\n",
       "        text-align: right;\n",
       "    }\n",
       "</style>\n",
       "<table border=\"1\" class=\"dataframe\">\n",
       "  <thead>\n",
       "    <tr style=\"text-align: right;\">\n",
       "      <th></th>\n",
       "      <th>BeginDate</th>\n",
       "      <th>EndDate</th>\n",
       "      <th>Type</th>\n",
       "      <th>PaperlessBilling</th>\n",
       "      <th>PaymentMethod</th>\n",
       "      <th>MonthlyCharges</th>\n",
       "      <th>TotalCharges</th>\n",
       "      <th>gender</th>\n",
       "      <th>SeniorCitizen</th>\n",
       "      <th>Partner</th>\n",
       "      <th>...</th>\n",
       "      <th>InternetService</th>\n",
       "      <th>OnlineSecurity</th>\n",
       "      <th>OnlineBackup</th>\n",
       "      <th>DeviceProtection</th>\n",
       "      <th>TechSupport</th>\n",
       "      <th>StreamingTV</th>\n",
       "      <th>StreamingMovies</th>\n",
       "      <th>MultipleLines</th>\n",
       "      <th>duration_days</th>\n",
       "      <th>loss</th>\n",
       "    </tr>\n",
       "    <tr>\n",
       "      <th>customerID</th>\n",
       "      <th></th>\n",
       "      <th></th>\n",
       "      <th></th>\n",
       "      <th></th>\n",
       "      <th></th>\n",
       "      <th></th>\n",
       "      <th></th>\n",
       "      <th></th>\n",
       "      <th></th>\n",
       "      <th></th>\n",
       "      <th></th>\n",
       "      <th></th>\n",
       "      <th></th>\n",
       "      <th></th>\n",
       "      <th></th>\n",
       "      <th></th>\n",
       "      <th></th>\n",
       "      <th></th>\n",
       "      <th></th>\n",
       "      <th></th>\n",
       "      <th></th>\n",
       "    </tr>\n",
       "  </thead>\n",
       "  <tbody>\n",
       "    <tr>\n",
       "      <th>7590-VHVEG</th>\n",
       "      <td>2020-01-01</td>\n",
       "      <td>2020-02-01</td>\n",
       "      <td>Month-to-month</td>\n",
       "      <td>1</td>\n",
       "      <td>Electronic check</td>\n",
       "      <td>29.85</td>\n",
       "      <td>29.85</td>\n",
       "      <td>Female</td>\n",
       "      <td>0</td>\n",
       "      <td>1</td>\n",
       "      <td>...</td>\n",
       "      <td>DSL</td>\n",
       "      <td>0</td>\n",
       "      <td>1</td>\n",
       "      <td>0</td>\n",
       "      <td>0</td>\n",
       "      <td>0</td>\n",
       "      <td>0</td>\n",
       "      <td>0</td>\n",
       "      <td>31</td>\n",
       "      <td>0</td>\n",
       "    </tr>\n",
       "    <tr>\n",
       "      <th>5575-GNVDE</th>\n",
       "      <td>2017-04-01</td>\n",
       "      <td>2020-02-01</td>\n",
       "      <td>One year</td>\n",
       "      <td>0</td>\n",
       "      <td>Mailed check</td>\n",
       "      <td>56.95</td>\n",
       "      <td>1889.50</td>\n",
       "      <td>Male</td>\n",
       "      <td>0</td>\n",
       "      <td>0</td>\n",
       "      <td>...</td>\n",
       "      <td>DSL</td>\n",
       "      <td>1</td>\n",
       "      <td>0</td>\n",
       "      <td>1</td>\n",
       "      <td>0</td>\n",
       "      <td>0</td>\n",
       "      <td>0</td>\n",
       "      <td>0</td>\n",
       "      <td>1036</td>\n",
       "      <td>0</td>\n",
       "    </tr>\n",
       "    <tr>\n",
       "      <th>3668-QPYBK</th>\n",
       "      <td>2019-10-01</td>\n",
       "      <td>2019-12-01</td>\n",
       "      <td>Month-to-month</td>\n",
       "      <td>1</td>\n",
       "      <td>Mailed check</td>\n",
       "      <td>53.85</td>\n",
       "      <td>108.15</td>\n",
       "      <td>Male</td>\n",
       "      <td>0</td>\n",
       "      <td>0</td>\n",
       "      <td>...</td>\n",
       "      <td>DSL</td>\n",
       "      <td>1</td>\n",
       "      <td>1</td>\n",
       "      <td>0</td>\n",
       "      <td>0</td>\n",
       "      <td>0</td>\n",
       "      <td>0</td>\n",
       "      <td>0</td>\n",
       "      <td>61</td>\n",
       "      <td>1</td>\n",
       "    </tr>\n",
       "    <tr>\n",
       "      <th>7795-CFOCW</th>\n",
       "      <td>2016-05-01</td>\n",
       "      <td>2020-02-01</td>\n",
       "      <td>One year</td>\n",
       "      <td>0</td>\n",
       "      <td>Bank transfer (automatic)</td>\n",
       "      <td>42.30</td>\n",
       "      <td>1840.75</td>\n",
       "      <td>Male</td>\n",
       "      <td>0</td>\n",
       "      <td>0</td>\n",
       "      <td>...</td>\n",
       "      <td>DSL</td>\n",
       "      <td>1</td>\n",
       "      <td>0</td>\n",
       "      <td>1</td>\n",
       "      <td>1</td>\n",
       "      <td>0</td>\n",
       "      <td>0</td>\n",
       "      <td>0</td>\n",
       "      <td>1371</td>\n",
       "      <td>0</td>\n",
       "    </tr>\n",
       "    <tr>\n",
       "      <th>9237-HQITU</th>\n",
       "      <td>2019-09-01</td>\n",
       "      <td>2019-11-01</td>\n",
       "      <td>Month-to-month</td>\n",
       "      <td>1</td>\n",
       "      <td>Electronic check</td>\n",
       "      <td>70.70</td>\n",
       "      <td>151.65</td>\n",
       "      <td>Female</td>\n",
       "      <td>0</td>\n",
       "      <td>0</td>\n",
       "      <td>...</td>\n",
       "      <td>Fiber optic</td>\n",
       "      <td>0</td>\n",
       "      <td>0</td>\n",
       "      <td>0</td>\n",
       "      <td>0</td>\n",
       "      <td>0</td>\n",
       "      <td>0</td>\n",
       "      <td>0</td>\n",
       "      <td>61</td>\n",
       "      <td>1</td>\n",
       "    </tr>\n",
       "  </tbody>\n",
       "</table>\n",
       "<p>5 rows × 21 columns</p>\n",
       "</div>"
      ],
      "text/plain": [
       "            BeginDate    EndDate            Type  PaperlessBilling  \\\n",
       "customerID                                                           \n",
       "7590-VHVEG 2020-01-01 2020-02-01  Month-to-month                 1   \n",
       "5575-GNVDE 2017-04-01 2020-02-01        One year                 0   \n",
       "3668-QPYBK 2019-10-01 2019-12-01  Month-to-month                 1   \n",
       "7795-CFOCW 2016-05-01 2020-02-01        One year                 0   \n",
       "9237-HQITU 2019-09-01 2019-11-01  Month-to-month                 1   \n",
       "\n",
       "                        PaymentMethod  MonthlyCharges  TotalCharges  gender  \\\n",
       "customerID                                                                    \n",
       "7590-VHVEG           Electronic check           29.85         29.85  Female   \n",
       "5575-GNVDE               Mailed check           56.95       1889.50    Male   \n",
       "3668-QPYBK               Mailed check           53.85        108.15    Male   \n",
       "7795-CFOCW  Bank transfer (automatic)           42.30       1840.75    Male   \n",
       "9237-HQITU           Electronic check           70.70        151.65  Female   \n",
       "\n",
       "            SeniorCitizen  Partner  ...  InternetService OnlineSecurity  \\\n",
       "customerID                          ...                                   \n",
       "7590-VHVEG              0        1  ...              DSL              0   \n",
       "5575-GNVDE              0        0  ...              DSL              1   \n",
       "3668-QPYBK              0        0  ...              DSL              1   \n",
       "7795-CFOCW              0        0  ...              DSL              1   \n",
       "9237-HQITU              0        0  ...      Fiber optic              0   \n",
       "\n",
       "            OnlineBackup  DeviceProtection  TechSupport  StreamingTV  \\\n",
       "customerID                                                             \n",
       "7590-VHVEG             1                 0            0            0   \n",
       "5575-GNVDE             0                 1            0            0   \n",
       "3668-QPYBK             1                 0            0            0   \n",
       "7795-CFOCW             0                 1            1            0   \n",
       "9237-HQITU             0                 0            0            0   \n",
       "\n",
       "            StreamingMovies  MultipleLines  duration_days  loss  \n",
       "customerID                                                       \n",
       "7590-VHVEG                0              0             31     0  \n",
       "5575-GNVDE                0              0           1036     0  \n",
       "3668-QPYBK                0              0             61     1  \n",
       "7795-CFOCW                0              0           1371     0  \n",
       "9237-HQITU                0              0             61     1  \n",
       "\n",
       "[5 rows x 21 columns]"
      ]
     },
     "execution_count": 26,
     "metadata": {},
     "output_type": "execute_result"
    }
   ],
   "source": [
    "df.head()"
   ]
  },
  {
   "cell_type": "code",
   "execution_count": 27,
   "metadata": {},
   "outputs": [
    {
     "data": {
      "text/html": [
       "<div>\n",
       "<style scoped>\n",
       "    .dataframe tbody tr th:only-of-type {\n",
       "        vertical-align: middle;\n",
       "    }\n",
       "\n",
       "    .dataframe tbody tr th {\n",
       "        vertical-align: top;\n",
       "    }\n",
       "\n",
       "    .dataframe thead th {\n",
       "        text-align: right;\n",
       "    }\n",
       "</style>\n",
       "<table border=\"1\" class=\"dataframe\">\n",
       "  <thead>\n",
       "    <tr style=\"text-align: right;\">\n",
       "      <th></th>\n",
       "      <th>BeginDate</th>\n",
       "      <th>EndDate</th>\n",
       "      <th>Type</th>\n",
       "      <th>PaperlessBilling</th>\n",
       "      <th>PaymentMethod</th>\n",
       "      <th>MonthlyCharges</th>\n",
       "      <th>TotalCharges</th>\n",
       "      <th>gender</th>\n",
       "      <th>SeniorCitizen</th>\n",
       "      <th>Partner</th>\n",
       "      <th>...</th>\n",
       "      <th>InternetService</th>\n",
       "      <th>OnlineSecurity</th>\n",
       "      <th>OnlineBackup</th>\n",
       "      <th>DeviceProtection</th>\n",
       "      <th>TechSupport</th>\n",
       "      <th>StreamingTV</th>\n",
       "      <th>StreamingMovies</th>\n",
       "      <th>MultipleLines</th>\n",
       "      <th>duration_days</th>\n",
       "      <th>loss</th>\n",
       "    </tr>\n",
       "    <tr>\n",
       "      <th>customerID</th>\n",
       "      <th></th>\n",
       "      <th></th>\n",
       "      <th></th>\n",
       "      <th></th>\n",
       "      <th></th>\n",
       "      <th></th>\n",
       "      <th></th>\n",
       "      <th></th>\n",
       "      <th></th>\n",
       "      <th></th>\n",
       "      <th></th>\n",
       "      <th></th>\n",
       "      <th></th>\n",
       "      <th></th>\n",
       "      <th></th>\n",
       "      <th></th>\n",
       "      <th></th>\n",
       "      <th></th>\n",
       "      <th></th>\n",
       "      <th></th>\n",
       "      <th></th>\n",
       "    </tr>\n",
       "  </thead>\n",
       "  <tbody>\n",
       "    <tr>\n",
       "      <th>4472-LVYGI</th>\n",
       "      <td>2020-02-01</td>\n",
       "      <td>2020-02-01</td>\n",
       "      <td>Two year</td>\n",
       "      <td>1</td>\n",
       "      <td>Bank transfer (automatic)</td>\n",
       "      <td>52.55</td>\n",
       "      <td>NaN</td>\n",
       "      <td>Female</td>\n",
       "      <td>0</td>\n",
       "      <td>1</td>\n",
       "      <td>...</td>\n",
       "      <td>DSL</td>\n",
       "      <td>1</td>\n",
       "      <td>0</td>\n",
       "      <td>1</td>\n",
       "      <td>1</td>\n",
       "      <td>1</td>\n",
       "      <td>0</td>\n",
       "      <td>0</td>\n",
       "      <td>0</td>\n",
       "      <td>0</td>\n",
       "    </tr>\n",
       "    <tr>\n",
       "      <th>3115-CZMZD</th>\n",
       "      <td>2020-02-01</td>\n",
       "      <td>2020-02-01</td>\n",
       "      <td>Two year</td>\n",
       "      <td>0</td>\n",
       "      <td>Mailed check</td>\n",
       "      <td>20.25</td>\n",
       "      <td>NaN</td>\n",
       "      <td>Male</td>\n",
       "      <td>0</td>\n",
       "      <td>0</td>\n",
       "      <td>...</td>\n",
       "      <td>No</td>\n",
       "      <td>0</td>\n",
       "      <td>0</td>\n",
       "      <td>0</td>\n",
       "      <td>0</td>\n",
       "      <td>0</td>\n",
       "      <td>0</td>\n",
       "      <td>0</td>\n",
       "      <td>0</td>\n",
       "      <td>0</td>\n",
       "    </tr>\n",
       "    <tr>\n",
       "      <th>5709-LVOEQ</th>\n",
       "      <td>2020-02-01</td>\n",
       "      <td>2020-02-01</td>\n",
       "      <td>Two year</td>\n",
       "      <td>0</td>\n",
       "      <td>Mailed check</td>\n",
       "      <td>80.85</td>\n",
       "      <td>NaN</td>\n",
       "      <td>Female</td>\n",
       "      <td>0</td>\n",
       "      <td>1</td>\n",
       "      <td>...</td>\n",
       "      <td>DSL</td>\n",
       "      <td>1</td>\n",
       "      <td>1</td>\n",
       "      <td>1</td>\n",
       "      <td>0</td>\n",
       "      <td>1</td>\n",
       "      <td>1</td>\n",
       "      <td>0</td>\n",
       "      <td>0</td>\n",
       "      <td>0</td>\n",
       "    </tr>\n",
       "    <tr>\n",
       "      <th>4367-NUYAO</th>\n",
       "      <td>2020-02-01</td>\n",
       "      <td>2020-02-01</td>\n",
       "      <td>Two year</td>\n",
       "      <td>0</td>\n",
       "      <td>Mailed check</td>\n",
       "      <td>25.75</td>\n",
       "      <td>NaN</td>\n",
       "      <td>Male</td>\n",
       "      <td>0</td>\n",
       "      <td>1</td>\n",
       "      <td>...</td>\n",
       "      <td>No</td>\n",
       "      <td>0</td>\n",
       "      <td>0</td>\n",
       "      <td>0</td>\n",
       "      <td>0</td>\n",
       "      <td>0</td>\n",
       "      <td>0</td>\n",
       "      <td>1</td>\n",
       "      <td>0</td>\n",
       "      <td>0</td>\n",
       "    </tr>\n",
       "    <tr>\n",
       "      <th>1371-DWPAZ</th>\n",
       "      <td>2020-02-01</td>\n",
       "      <td>2020-02-01</td>\n",
       "      <td>Two year</td>\n",
       "      <td>0</td>\n",
       "      <td>Credit card (automatic)</td>\n",
       "      <td>56.05</td>\n",
       "      <td>NaN</td>\n",
       "      <td>Female</td>\n",
       "      <td>0</td>\n",
       "      <td>1</td>\n",
       "      <td>...</td>\n",
       "      <td>DSL</td>\n",
       "      <td>1</td>\n",
       "      <td>1</td>\n",
       "      <td>1</td>\n",
       "      <td>1</td>\n",
       "      <td>1</td>\n",
       "      <td>0</td>\n",
       "      <td>0</td>\n",
       "      <td>0</td>\n",
       "      <td>0</td>\n",
       "    </tr>\n",
       "    <tr>\n",
       "      <th>7644-OMVMY</th>\n",
       "      <td>2020-02-01</td>\n",
       "      <td>2020-02-01</td>\n",
       "      <td>Two year</td>\n",
       "      <td>0</td>\n",
       "      <td>Mailed check</td>\n",
       "      <td>19.85</td>\n",
       "      <td>NaN</td>\n",
       "      <td>Male</td>\n",
       "      <td>0</td>\n",
       "      <td>1</td>\n",
       "      <td>...</td>\n",
       "      <td>No</td>\n",
       "      <td>0</td>\n",
       "      <td>0</td>\n",
       "      <td>0</td>\n",
       "      <td>0</td>\n",
       "      <td>0</td>\n",
       "      <td>0</td>\n",
       "      <td>0</td>\n",
       "      <td>0</td>\n",
       "      <td>0</td>\n",
       "    </tr>\n",
       "    <tr>\n",
       "      <th>3213-VVOLG</th>\n",
       "      <td>2020-02-01</td>\n",
       "      <td>2020-02-01</td>\n",
       "      <td>Two year</td>\n",
       "      <td>0</td>\n",
       "      <td>Mailed check</td>\n",
       "      <td>25.35</td>\n",
       "      <td>NaN</td>\n",
       "      <td>Male</td>\n",
       "      <td>0</td>\n",
       "      <td>1</td>\n",
       "      <td>...</td>\n",
       "      <td>No</td>\n",
       "      <td>0</td>\n",
       "      <td>0</td>\n",
       "      <td>0</td>\n",
       "      <td>0</td>\n",
       "      <td>0</td>\n",
       "      <td>0</td>\n",
       "      <td>1</td>\n",
       "      <td>0</td>\n",
       "      <td>0</td>\n",
       "    </tr>\n",
       "    <tr>\n",
       "      <th>2520-SGTTA</th>\n",
       "      <td>2020-02-01</td>\n",
       "      <td>2020-02-01</td>\n",
       "      <td>Two year</td>\n",
       "      <td>0</td>\n",
       "      <td>Mailed check</td>\n",
       "      <td>20.00</td>\n",
       "      <td>NaN</td>\n",
       "      <td>Female</td>\n",
       "      <td>0</td>\n",
       "      <td>1</td>\n",
       "      <td>...</td>\n",
       "      <td>No</td>\n",
       "      <td>0</td>\n",
       "      <td>0</td>\n",
       "      <td>0</td>\n",
       "      <td>0</td>\n",
       "      <td>0</td>\n",
       "      <td>0</td>\n",
       "      <td>0</td>\n",
       "      <td>0</td>\n",
       "      <td>0</td>\n",
       "    </tr>\n",
       "    <tr>\n",
       "      <th>2923-ARZLG</th>\n",
       "      <td>2020-02-01</td>\n",
       "      <td>2020-02-01</td>\n",
       "      <td>One year</td>\n",
       "      <td>1</td>\n",
       "      <td>Mailed check</td>\n",
       "      <td>19.70</td>\n",
       "      <td>NaN</td>\n",
       "      <td>Male</td>\n",
       "      <td>0</td>\n",
       "      <td>1</td>\n",
       "      <td>...</td>\n",
       "      <td>No</td>\n",
       "      <td>0</td>\n",
       "      <td>0</td>\n",
       "      <td>0</td>\n",
       "      <td>0</td>\n",
       "      <td>0</td>\n",
       "      <td>0</td>\n",
       "      <td>0</td>\n",
       "      <td>0</td>\n",
       "      <td>0</td>\n",
       "    </tr>\n",
       "    <tr>\n",
       "      <th>4075-WKNIU</th>\n",
       "      <td>2020-02-01</td>\n",
       "      <td>2020-02-01</td>\n",
       "      <td>Two year</td>\n",
       "      <td>0</td>\n",
       "      <td>Mailed check</td>\n",
       "      <td>73.35</td>\n",
       "      <td>NaN</td>\n",
       "      <td>Female</td>\n",
       "      <td>0</td>\n",
       "      <td>1</td>\n",
       "      <td>...</td>\n",
       "      <td>DSL</td>\n",
       "      <td>0</td>\n",
       "      <td>1</td>\n",
       "      <td>1</td>\n",
       "      <td>1</td>\n",
       "      <td>1</td>\n",
       "      <td>0</td>\n",
       "      <td>1</td>\n",
       "      <td>0</td>\n",
       "      <td>0</td>\n",
       "    </tr>\n",
       "    <tr>\n",
       "      <th>2775-SEFEE</th>\n",
       "      <td>2020-02-01</td>\n",
       "      <td>2020-02-01</td>\n",
       "      <td>Two year</td>\n",
       "      <td>1</td>\n",
       "      <td>Bank transfer (automatic)</td>\n",
       "      <td>61.90</td>\n",
       "      <td>NaN</td>\n",
       "      <td>Male</td>\n",
       "      <td>0</td>\n",
       "      <td>0</td>\n",
       "      <td>...</td>\n",
       "      <td>DSL</td>\n",
       "      <td>1</td>\n",
       "      <td>1</td>\n",
       "      <td>0</td>\n",
       "      <td>1</td>\n",
       "      <td>0</td>\n",
       "      <td>0</td>\n",
       "      <td>1</td>\n",
       "      <td>0</td>\n",
       "      <td>0</td>\n",
       "    </tr>\n",
       "  </tbody>\n",
       "</table>\n",
       "<p>11 rows × 21 columns</p>\n",
       "</div>"
      ],
      "text/plain": [
       "            BeginDate    EndDate      Type  PaperlessBilling  \\\n",
       "customerID                                                     \n",
       "4472-LVYGI 2020-02-01 2020-02-01  Two year                 1   \n",
       "3115-CZMZD 2020-02-01 2020-02-01  Two year                 0   \n",
       "5709-LVOEQ 2020-02-01 2020-02-01  Two year                 0   \n",
       "4367-NUYAO 2020-02-01 2020-02-01  Two year                 0   \n",
       "1371-DWPAZ 2020-02-01 2020-02-01  Two year                 0   \n",
       "7644-OMVMY 2020-02-01 2020-02-01  Two year                 0   \n",
       "3213-VVOLG 2020-02-01 2020-02-01  Two year                 0   \n",
       "2520-SGTTA 2020-02-01 2020-02-01  Two year                 0   \n",
       "2923-ARZLG 2020-02-01 2020-02-01  One year                 1   \n",
       "4075-WKNIU 2020-02-01 2020-02-01  Two year                 0   \n",
       "2775-SEFEE 2020-02-01 2020-02-01  Two year                 1   \n",
       "\n",
       "                        PaymentMethod  MonthlyCharges  TotalCharges  gender  \\\n",
       "customerID                                                                    \n",
       "4472-LVYGI  Bank transfer (automatic)           52.55           NaN  Female   \n",
       "3115-CZMZD               Mailed check           20.25           NaN    Male   \n",
       "5709-LVOEQ               Mailed check           80.85           NaN  Female   \n",
       "4367-NUYAO               Mailed check           25.75           NaN    Male   \n",
       "1371-DWPAZ    Credit card (automatic)           56.05           NaN  Female   \n",
       "7644-OMVMY               Mailed check           19.85           NaN    Male   \n",
       "3213-VVOLG               Mailed check           25.35           NaN    Male   \n",
       "2520-SGTTA               Mailed check           20.00           NaN  Female   \n",
       "2923-ARZLG               Mailed check           19.70           NaN    Male   \n",
       "4075-WKNIU               Mailed check           73.35           NaN  Female   \n",
       "2775-SEFEE  Bank transfer (automatic)           61.90           NaN    Male   \n",
       "\n",
       "            SeniorCitizen  Partner  ...  InternetService OnlineSecurity  \\\n",
       "customerID                          ...                                   \n",
       "4472-LVYGI              0        1  ...              DSL              1   \n",
       "3115-CZMZD              0        0  ...               No              0   \n",
       "5709-LVOEQ              0        1  ...              DSL              1   \n",
       "4367-NUYAO              0        1  ...               No              0   \n",
       "1371-DWPAZ              0        1  ...              DSL              1   \n",
       "7644-OMVMY              0        1  ...               No              0   \n",
       "3213-VVOLG              0        1  ...               No              0   \n",
       "2520-SGTTA              0        1  ...               No              0   \n",
       "2923-ARZLG              0        1  ...               No              0   \n",
       "4075-WKNIU              0        1  ...              DSL              0   \n",
       "2775-SEFEE              0        0  ...              DSL              1   \n",
       "\n",
       "            OnlineBackup  DeviceProtection  TechSupport  StreamingTV  \\\n",
       "customerID                                                             \n",
       "4472-LVYGI             0                 1            1            1   \n",
       "3115-CZMZD             0                 0            0            0   \n",
       "5709-LVOEQ             1                 1            0            1   \n",
       "4367-NUYAO             0                 0            0            0   \n",
       "1371-DWPAZ             1                 1            1            1   \n",
       "7644-OMVMY             0                 0            0            0   \n",
       "3213-VVOLG             0                 0            0            0   \n",
       "2520-SGTTA             0                 0            0            0   \n",
       "2923-ARZLG             0                 0            0            0   \n",
       "4075-WKNIU             1                 1            1            1   \n",
       "2775-SEFEE             1                 0            1            0   \n",
       "\n",
       "            StreamingMovies  MultipleLines  duration_days  loss  \n",
       "customerID                                                       \n",
       "4472-LVYGI                0              0              0     0  \n",
       "3115-CZMZD                0              0              0     0  \n",
       "5709-LVOEQ                1              0              0     0  \n",
       "4367-NUYAO                0              1              0     0  \n",
       "1371-DWPAZ                0              0              0     0  \n",
       "7644-OMVMY                0              0              0     0  \n",
       "3213-VVOLG                0              1              0     0  \n",
       "2520-SGTTA                0              0              0     0  \n",
       "2923-ARZLG                0              0              0     0  \n",
       "4075-WKNIU                0              1              0     0  \n",
       "2775-SEFEE                0              1              0     0  \n",
       "\n",
       "[11 rows x 21 columns]"
      ]
     },
     "execution_count": 27,
     "metadata": {},
     "output_type": "execute_result"
    }
   ],
   "source": [
    "#определяем клиентов, которые только пришли - целых 11 человек\n",
    "new_clients = df[df['duration_days'] == 0].index\n",
    "df.loc[new_clients]"
   ]
  },
  {
   "cell_type": "markdown",
   "metadata": {},
   "source": [
    "## Целевой признак и графики распределения"
   ]
  },
  {
   "cell_type": "code",
   "execution_count": 28,
   "metadata": {},
   "outputs": [],
   "source": [
    "#так как у новых клиентов еще не успел сформироваться столбец TotalCharges, то заполняем эти пропуски данными MonthlyCharges\n",
    "df['TotalCharges'] = df['TotalCharges'].fillna(df['MonthlyCharges'])"
   ]
  },
  {
   "cell_type": "code",
   "execution_count": 29,
   "metadata": {},
   "outputs": [],
   "source": [
    "def plotting_features(column, figsize, hue, title):\n",
    "    '''Функция принимает на вход значение столбеца, размер, значение и заголовок и формирует график\n",
    "    распределения признаков в связке с ушедшими/оставшимися клиентами '''\n",
    "    plt.figure(figsize=(figsize))\n",
    "    sns.countplot(x = column, hue=hue)\n",
    "    plt.title(title)\n",
    "    plt.xlabel('Варианты') \n",
    "    plt.ylabel('Частота')\n",
    "    plt.show()"
   ]
  },
  {
   "cell_type": "code",
   "execution_count": 30,
   "metadata": {
    "scrolled": true
   },
   "outputs": [
    {
     "data": {
      "image/png": "[encoded data removed]",
      "text/plain": [
       "<Figure size 648x360 with 1 Axes>"
      ]
     },
     "metadata": {
      "needs_background": "light"
     },
     "output_type": "display_data"
    }
   ],
   "source": [
    "plotting_features(df['Type'], (9, 5), df['loss'], 'Распределение типов оплаты')"
   ]
  },
  {
   "cell_type": "markdown",
   "metadata": {},
   "source": [
    "Клиентов, которые оплачивают счет за связь ежемесячно, больше. И их отток тоже больше всего. Чем больший период оплачивает клиент сразу, тем менее охотно он меняет провайдера."
   ]
  },
  {
   "cell_type": "code",
   "execution_count": 31,
   "metadata": {
    "scrolled": true
   },
   "outputs": [
    {
     "data": {
      "image/png": "[encoded data removed]",
      "text/plain": [
       "<Figure size 648x360 with 1 Axes>"
      ]
     },
     "metadata": {
      "needs_background": "light"
     },
     "output_type": "display_data"
    }
   ],
   "source": [
    "plotting_features(df['PaperlessBilling'], (9,5), df['loss'], 'Распределение типов оплаты')"
   ]
  },
  {
   "cell_type": "markdown",
   "metadata": {},
   "source": [
    "Клиенты, которые отказались от бумажных счетов за связь уходят от провайдера больше. Или их отключают за неуплату, так как без бумажных счетов сложнее помнить о сроках оплаты? Возможно, стоит проработать вопрос о периодических напоминаниях об оплате."
   ]
  },
  {
   "cell_type": "code",
   "execution_count": 32,
   "metadata": {
    "scrolled": true
   },
   "outputs": [
    {
     "data": {
      "image/png": "[encoded data removed]",
      "text/plain": [
       "<Figure size 648x504 with 1 Axes>"
      ]
     },
     "metadata": {
      "needs_background": "light"
     },
     "output_type": "display_data"
    }
   ],
   "source": [
    "plotting_features(df['PaymentMethod'], (9, 7), df['loss'], 'Распределение вариантов оплаты')"
   ]
  },
  {
   "cell_type": "markdown",
   "metadata": {},
   "source": [
    "Клиенты по вариантам оплаты разделились примерно одинаково. Клиенты, выбравшие автоплатежи с карты или счета, уходят меньше.\n",
    "А по электронному платежу самый высокий показатель. Вероятно, какие-то технические проблемы с этой системой платежа не устраивают клиентов. "
   ]
  },
  {
   "cell_type": "code",
   "execution_count": 33,
   "metadata": {
    "scrolled": true
   },
   "outputs": [
    {
     "data": {
      "image/png": "[encoded data removed]",
      "text/plain": [
       "<Figure size 648x360 with 1 Axes>"
      ]
     },
     "metadata": {
      "needs_background": "light"
     },
     "output_type": "display_data"
    }
   ],
   "source": [
    "plotting_features(df['InternetService'], (9,5), df['loss'], 'Распределение по сервису интернета')"
   ]
  },
  {
   "cell_type": "markdown",
   "metadata": {},
   "source": [
    "У тех, у кого нет интернета реже уходят от провайдера. Возможно, в качестве или стоимости интернета кроются причины оттока. Самый высокий показатель оттока у клиентов с оптоволоконным кабелем. Проанализировать бы обращения в техподдержку по этому вопросу."
   ]
  },
  {
   "cell_type": "code",
   "execution_count": 34,
   "metadata": {},
   "outputs": [
    {
     "data": {
      "text/plain": [
       "0        11\n",
       "30      182\n",
       "31      431\n",
       "61      123\n",
       "62      115\n",
       "       ... \n",
       "2132    112\n",
       "2160      5\n",
       "2161      1\n",
       "2163    164\n",
       "2191    362\n",
       "Name: duration_days, Length: 156, dtype: int64"
      ]
     },
     "execution_count": 34,
     "metadata": {},
     "output_type": "execute_result"
    }
   ],
   "source": [
    "df['duration_days'].value_counts().sort_index()"
   ]
  },
  {
   "cell_type": "code",
   "execution_count": 35,
   "metadata": {},
   "outputs": [],
   "source": [
    "#категоризируем данные по длительности контракта\n",
    "df['duration_days_category'] = pd.cut(df['duration_days'], [-np.inf, 31, 181, 365, 720, 1095, 2191], \n",
    "                                      labels=['month','half_year', 'year', 'two_years', 'three_years', 'more'])\n"
   ]
  },
  {
   "cell_type": "code",
   "execution_count": 36,
   "metadata": {},
   "outputs": [
    {
     "data": {
      "image/png": "[encoded data removed]",
      "text/plain": [
       "<Figure size 1080x504 with 1 Axes>"
      ]
     },
     "metadata": {
      "needs_background": "light"
     },
     "output_type": "display_data"
    }
   ],
   "source": [
    "plotting_features(df['duration_days_category'], (15, 7), df['loss'], 'Распределение по категориям длительности контрактов клиентов')"
   ]
  },
  {
   "cell_type": "markdown",
   "metadata": {},
   "source": [
    "Наибольший отток клиентов наблюдается в первый месяц пользования услугами. Высокий уровень оттока сохраняется и в течение первых 6 месяцев."
   ]
  },
  {
   "cell_type": "code",
   "execution_count": 37,
   "metadata": {},
   "outputs": [
    {
     "data": {
      "text/plain": [
       "18.80      1\n",
       "18.85      2\n",
       "18.90      1\n",
       "19.00      1\n",
       "19.05      1\n",
       "          ..\n",
       "8564.75    1\n",
       "8594.40    1\n",
       "8670.10    1\n",
       "8672.45    1\n",
       "8684.80    1\n",
       "Name: TotalCharges, Length: 6534, dtype: int64"
      ]
     },
     "execution_count": 37,
     "metadata": {},
     "output_type": "execute_result"
    }
   ],
   "source": [
    "df['TotalCharges'].value_counts().sort_index()"
   ]
  },
  {
   "cell_type": "code",
   "execution_count": 38,
   "metadata": {},
   "outputs": [],
   "source": [
    "#категоризируем данные по общей сумме оплаты\n",
    "df['TotalCharges_category'] = pd.cut(df['TotalCharges'], [-np.inf, 50, 100, 500, 1000, 2000, 3000, 5000, 8684.8], \n",
    "                                      labels=['50$', '100$', '500$', '1000$', '2000$', '3000$', '5000$', 'more'])"
   ]
  },
  {
   "cell_type": "code",
   "execution_count": 39,
   "metadata": {},
   "outputs": [
    {
     "data": {
      "text/plain": [
       "50$       371\n",
       "100$      453\n",
       "500$     1187\n",
       "1000$     893\n",
       "2000$    1283\n",
       "3000$     652\n",
       "5000$    1069\n",
       "more     1135\n",
       "Name: TotalCharges_category, dtype: int64"
      ]
     },
     "execution_count": 39,
     "metadata": {},
     "output_type": "execute_result"
    }
   ],
   "source": [
    "df['TotalCharges_category'].value_counts().sort_index()"
   ]
  },
  {
   "cell_type": "code",
   "execution_count": 40,
   "metadata": {},
   "outputs": [
    {
     "data": {
      "image/png": "[encoded data removed]",
      "text/plain": [
       "<Figure size 1080x504 with 1 Axes>"
      ]
     },
     "metadata": {
      "needs_background": "light"
     },
     "output_type": "display_data"
    }
   ],
   "source": [
    "plotting_features(df['TotalCharges_category'], (15, 7), df['loss'], 'Распределение по категориям сумм')"
   ]
  },
  {
   "cell_type": "markdown",
   "metadata": {},
   "source": [
    "Для многих счет от 50 до 100 долларов является поводом сменить провайдера. Также высокий показатель оттока у клиентов со счетами до 500 и до 50 долларов. Меньше всего уходят клиенты с суммами свыше 5000 долларов. Скорее всего, это давние клиенты. Вероятно, для них действуют специальные условия ояльности."
   ]
  },
  {
   "cell_type": "markdown",
   "metadata": {},
   "source": [
    "## Выводы:"
   ]
  },
  {
   "cell_type": "markdown",
   "metadata": {},
   "source": [
    "* данные загружены и объединены в таблицу\n",
    "* заполнены пропуски\n",
    "* изменены типы данных\n",
    "* исправлены бинарные признаки на значения 0/1\n",
    "* выделен целевой признак - ушел клиент или остался\n",
    "* построены графики распределения признаков \n",
    "* категоризированы признаки\n",
    "* портрет клиента, готового уйти: оплачивает свзь ежемесячно без бумажного счета с помощью электронной системы, пользуется оптоволоконным интернетом. С большой частотой уходят в первый месяц пользования связью, получающие счета в пределах 100 долларов."
   ]
  },
  {
   "cell_type": "markdown",
   "metadata": {},
   "source": [
    "# Подготовка данных к обучению моделей"
   ]
  },
  {
   "cell_type": "markdown",
   "metadata": {},
   "source": [
    "Планирую закодировать категориальные признаки, масштабировать признаки, удалить признаки, которые дублируются(категоризированные), разделить выборку на обучающую и тестовую"
   ]
  },
  {
   "cell_type": "code",
   "execution_count": 41,
   "metadata": {},
   "outputs": [],
   "source": [
    "df = df.drop(['TotalCharges_category', 'duration_days_category', 'BeginDate', 'EndDate'], axis=1)"
   ]
  },
  {
   "cell_type": "code",
   "execution_count": 42,
   "metadata": {},
   "outputs": [
    {
     "data": {
      "text/html": [
       "<div>\n",
       "<style scoped>\n",
       "    .dataframe tbody tr th:only-of-type {\n",
       "        vertical-align: middle;\n",
       "    }\n",
       "\n",
       "    .dataframe tbody tr th {\n",
       "        vertical-align: top;\n",
       "    }\n",
       "\n",
       "    .dataframe thead th {\n",
       "        text-align: right;\n",
       "    }\n",
       "</style>\n",
       "<table border=\"1\" class=\"dataframe\">\n",
       "  <thead>\n",
       "    <tr style=\"text-align: right;\">\n",
       "      <th></th>\n",
       "      <th>PaperlessBilling</th>\n",
       "      <th>MonthlyCharges</th>\n",
       "      <th>TotalCharges</th>\n",
       "      <th>SeniorCitizen</th>\n",
       "      <th>Partner</th>\n",
       "      <th>Dependents</th>\n",
       "      <th>OnlineSecurity</th>\n",
       "      <th>OnlineBackup</th>\n",
       "      <th>DeviceProtection</th>\n",
       "      <th>TechSupport</th>\n",
       "      <th>StreamingTV</th>\n",
       "      <th>StreamingMovies</th>\n",
       "      <th>MultipleLines</th>\n",
       "      <th>duration_days</th>\n",
       "      <th>loss</th>\n",
       "    </tr>\n",
       "  </thead>\n",
       "  <tbody>\n",
       "    <tr>\n",
       "      <th>PaperlessBilling</th>\n",
       "      <td>1.000000</td>\n",
       "      <td>0.352150</td>\n",
       "      <td>0.158562</td>\n",
       "      <td>0.156530</td>\n",
       "      <td>-0.014877</td>\n",
       "      <td>-0.111377</td>\n",
       "      <td>-0.003636</td>\n",
       "      <td>0.126735</td>\n",
       "      <td>0.103797</td>\n",
       "      <td>0.037880</td>\n",
       "      <td>0.223841</td>\n",
       "      <td>0.211716</td>\n",
       "      <td>0.163530</td>\n",
       "      <td>0.006059</td>\n",
       "      <td>0.191825</td>\n",
       "    </tr>\n",
       "    <tr>\n",
       "      <th>MonthlyCharges</th>\n",
       "      <td>0.352150</td>\n",
       "      <td>1.000000</td>\n",
       "      <td>0.651182</td>\n",
       "      <td>0.220173</td>\n",
       "      <td>0.096848</td>\n",
       "      <td>-0.113890</td>\n",
       "      <td>0.296594</td>\n",
       "      <td>0.441780</td>\n",
       "      <td>0.482692</td>\n",
       "      <td>0.338304</td>\n",
       "      <td>0.629603</td>\n",
       "      <td>0.627429</td>\n",
       "      <td>0.490434</td>\n",
       "      <td>0.247754</td>\n",
       "      <td>0.193356</td>\n",
       "    </tr>\n",
       "    <tr>\n",
       "      <th>TotalCharges</th>\n",
       "      <td>0.158562</td>\n",
       "      <td>0.651182</td>\n",
       "      <td>1.000000</td>\n",
       "      <td>0.102997</td>\n",
       "      <td>0.317532</td>\n",
       "      <td>0.062124</td>\n",
       "      <td>0.411679</td>\n",
       "      <td>0.509256</td>\n",
       "      <td>0.522012</td>\n",
       "      <td>0.431910</td>\n",
       "      <td>0.514999</td>\n",
       "      <td>0.520124</td>\n",
       "      <td>0.468516</td>\n",
       "      <td>0.826095</td>\n",
       "      <td>-0.198347</td>\n",
       "    </tr>\n",
       "    <tr>\n",
       "      <th>SeniorCitizen</th>\n",
       "      <td>0.156530</td>\n",
       "      <td>0.220173</td>\n",
       "      <td>0.102997</td>\n",
       "      <td>1.000000</td>\n",
       "      <td>0.016479</td>\n",
       "      <td>-0.211185</td>\n",
       "      <td>-0.038653</td>\n",
       "      <td>0.066572</td>\n",
       "      <td>0.059428</td>\n",
       "      <td>-0.060625</td>\n",
       "      <td>0.105378</td>\n",
       "      <td>0.120176</td>\n",
       "      <td>0.142948</td>\n",
       "      <td>0.016514</td>\n",
       "      <td>0.150889</td>\n",
       "    </tr>\n",
       "    <tr>\n",
       "      <th>Partner</th>\n",
       "      <td>-0.014877</td>\n",
       "      <td>0.096848</td>\n",
       "      <td>0.317532</td>\n",
       "      <td>0.016479</td>\n",
       "      <td>1.000000</td>\n",
       "      <td>0.452676</td>\n",
       "      <td>0.143106</td>\n",
       "      <td>0.141498</td>\n",
       "      <td>0.153786</td>\n",
       "      <td>0.119999</td>\n",
       "      <td>0.124666</td>\n",
       "      <td>0.117412</td>\n",
       "      <td>0.142057</td>\n",
       "      <td>0.379709</td>\n",
       "      <td>-0.150448</td>\n",
       "    </tr>\n",
       "    <tr>\n",
       "      <th>Dependents</th>\n",
       "      <td>-0.111377</td>\n",
       "      <td>-0.113890</td>\n",
       "      <td>0.062124</td>\n",
       "      <td>-0.211185</td>\n",
       "      <td>0.452676</td>\n",
       "      <td>1.000000</td>\n",
       "      <td>0.080972</td>\n",
       "      <td>0.023671</td>\n",
       "      <td>0.013963</td>\n",
       "      <td>0.063268</td>\n",
       "      <td>-0.016558</td>\n",
       "      <td>-0.039741</td>\n",
       "      <td>-0.024526</td>\n",
       "      <td>0.159766</td>\n",
       "      <td>-0.164221</td>\n",
       "    </tr>\n",
       "    <tr>\n",
       "      <th>OnlineSecurity</th>\n",
       "      <td>-0.003636</td>\n",
       "      <td>0.296594</td>\n",
       "      <td>0.411679</td>\n",
       "      <td>-0.038653</td>\n",
       "      <td>0.143106</td>\n",
       "      <td>0.080972</td>\n",
       "      <td>1.000000</td>\n",
       "      <td>0.283832</td>\n",
       "      <td>0.275438</td>\n",
       "      <td>0.354931</td>\n",
       "      <td>0.176207</td>\n",
       "      <td>0.187398</td>\n",
       "      <td>0.098108</td>\n",
       "      <td>0.327203</td>\n",
       "      <td>-0.171226</td>\n",
       "    </tr>\n",
       "    <tr>\n",
       "      <th>OnlineBackup</th>\n",
       "      <td>0.126735</td>\n",
       "      <td>0.441780</td>\n",
       "      <td>0.509256</td>\n",
       "      <td>0.066572</td>\n",
       "      <td>0.141498</td>\n",
       "      <td>0.023671</td>\n",
       "      <td>0.283832</td>\n",
       "      <td>1.000000</td>\n",
       "      <td>0.303546</td>\n",
       "      <td>0.294233</td>\n",
       "      <td>0.282106</td>\n",
       "      <td>0.274501</td>\n",
       "      <td>0.202237</td>\n",
       "      <td>0.360238</td>\n",
       "      <td>-0.082255</td>\n",
       "    </tr>\n",
       "    <tr>\n",
       "      <th>DeviceProtection</th>\n",
       "      <td>0.103797</td>\n",
       "      <td>0.482692</td>\n",
       "      <td>0.522012</td>\n",
       "      <td>0.059428</td>\n",
       "      <td>0.153786</td>\n",
       "      <td>0.013963</td>\n",
       "      <td>0.275438</td>\n",
       "      <td>0.303546</td>\n",
       "      <td>1.000000</td>\n",
       "      <td>0.333313</td>\n",
       "      <td>0.390874</td>\n",
       "      <td>0.402111</td>\n",
       "      <td>0.201137</td>\n",
       "      <td>0.360602</td>\n",
       "      <td>-0.066160</td>\n",
       "    </tr>\n",
       "    <tr>\n",
       "      <th>TechSupport</th>\n",
       "      <td>0.037880</td>\n",
       "      <td>0.338304</td>\n",
       "      <td>0.431910</td>\n",
       "      <td>-0.060625</td>\n",
       "      <td>0.119999</td>\n",
       "      <td>0.063268</td>\n",
       "      <td>0.354931</td>\n",
       "      <td>0.294233</td>\n",
       "      <td>0.333313</td>\n",
       "      <td>1.000000</td>\n",
       "      <td>0.278070</td>\n",
       "      <td>0.279358</td>\n",
       "      <td>0.100571</td>\n",
       "      <td>0.324238</td>\n",
       "      <td>-0.164674</td>\n",
       "    </tr>\n",
       "    <tr>\n",
       "      <th>StreamingTV</th>\n",
       "      <td>0.223841</td>\n",
       "      <td>0.629603</td>\n",
       "      <td>0.514999</td>\n",
       "      <td>0.105378</td>\n",
       "      <td>0.124666</td>\n",
       "      <td>-0.016558</td>\n",
       "      <td>0.176207</td>\n",
       "      <td>0.282106</td>\n",
       "      <td>0.390874</td>\n",
       "      <td>0.278070</td>\n",
       "      <td>1.000000</td>\n",
       "      <td>0.533094</td>\n",
       "      <td>0.257152</td>\n",
       "      <td>0.279657</td>\n",
       "      <td>0.063228</td>\n",
       "    </tr>\n",
       "    <tr>\n",
       "      <th>StreamingMovies</th>\n",
       "      <td>0.211716</td>\n",
       "      <td>0.627429</td>\n",
       "      <td>0.520124</td>\n",
       "      <td>0.120176</td>\n",
       "      <td>0.117412</td>\n",
       "      <td>-0.039741</td>\n",
       "      <td>0.187398</td>\n",
       "      <td>0.274501</td>\n",
       "      <td>0.402111</td>\n",
       "      <td>0.279358</td>\n",
       "      <td>0.533094</td>\n",
       "      <td>1.000000</td>\n",
       "      <td>0.258751</td>\n",
       "      <td>0.286007</td>\n",
       "      <td>0.061382</td>\n",
       "    </tr>\n",
       "    <tr>\n",
       "      <th>MultipleLines</th>\n",
       "      <td>0.163530</td>\n",
       "      <td>0.490434</td>\n",
       "      <td>0.468516</td>\n",
       "      <td>0.142948</td>\n",
       "      <td>0.142057</td>\n",
       "      <td>-0.024526</td>\n",
       "      <td>0.098108</td>\n",
       "      <td>0.202237</td>\n",
       "      <td>0.201137</td>\n",
       "      <td>0.100571</td>\n",
       "      <td>0.257152</td>\n",
       "      <td>0.258751</td>\n",
       "      <td>1.000000</td>\n",
       "      <td>0.331833</td>\n",
       "      <td>0.040102</td>\n",
       "    </tr>\n",
       "    <tr>\n",
       "      <th>duration_days</th>\n",
       "      <td>0.006059</td>\n",
       "      <td>0.247754</td>\n",
       "      <td>0.826095</td>\n",
       "      <td>0.016514</td>\n",
       "      <td>0.379709</td>\n",
       "      <td>0.159766</td>\n",
       "      <td>0.327203</td>\n",
       "      <td>0.360238</td>\n",
       "      <td>0.360602</td>\n",
       "      <td>0.324238</td>\n",
       "      <td>0.279657</td>\n",
       "      <td>0.286007</td>\n",
       "      <td>0.331833</td>\n",
       "      <td>1.000000</td>\n",
       "      <td>-0.352673</td>\n",
       "    </tr>\n",
       "    <tr>\n",
       "      <th>loss</th>\n",
       "      <td>0.191825</td>\n",
       "      <td>0.193356</td>\n",
       "      <td>-0.198347</td>\n",
       "      <td>0.150889</td>\n",
       "      <td>-0.150448</td>\n",
       "      <td>-0.164221</td>\n",
       "      <td>-0.171226</td>\n",
       "      <td>-0.082255</td>\n",
       "      <td>-0.066160</td>\n",
       "      <td>-0.164674</td>\n",
       "      <td>0.063228</td>\n",
       "      <td>0.061382</td>\n",
       "      <td>0.040102</td>\n",
       "      <td>-0.352673</td>\n",
       "      <td>1.000000</td>\n",
       "    </tr>\n",
       "  </tbody>\n",
       "</table>\n",
       "</div>"
      ],
      "text/plain": [
       "                  PaperlessBilling  MonthlyCharges  TotalCharges  \\\n",
       "PaperlessBilling          1.000000        0.352150      0.158562   \n",
       "MonthlyCharges            0.352150        1.000000      0.651182   \n",
       "TotalCharges              0.158562        0.651182      1.000000   \n",
       "SeniorCitizen             0.156530        0.220173      0.102997   \n",
       "Partner                  -0.014877        0.096848      0.317532   \n",
       "Dependents               -0.111377       -0.113890      0.062124   \n",
       "OnlineSecurity           -0.003636        0.296594      0.411679   \n",
       "OnlineBackup              0.126735        0.441780      0.509256   \n",
       "DeviceProtection          0.103797        0.482692      0.522012   \n",
       "TechSupport               0.037880        0.338304      0.431910   \n",
       "StreamingTV               0.223841        0.629603      0.514999   \n",
       "StreamingMovies           0.211716        0.627429      0.520124   \n",
       "MultipleLines             0.163530        0.490434      0.468516   \n",
       "duration_days             0.006059        0.247754      0.826095   \n",
       "loss                      0.191825        0.193356     -0.198347   \n",
       "\n",
       "                  SeniorCitizen   Partner  Dependents  OnlineSecurity  \\\n",
       "PaperlessBilling       0.156530 -0.014877   -0.111377       -0.003636   \n",
       "MonthlyCharges         0.220173  0.096848   -0.113890        0.296594   \n",
       "TotalCharges           0.102997  0.317532    0.062124        0.411679   \n",
       "SeniorCitizen          1.000000  0.016479   -0.211185       -0.038653   \n",
       "Partner                0.016479  1.000000    0.452676        0.143106   \n",
       "Dependents            -0.211185  0.452676    1.000000        0.080972   \n",
       "OnlineSecurity        -0.038653  0.143106    0.080972        1.000000   \n",
       "OnlineBackup           0.066572  0.141498    0.023671        0.283832   \n",
       "DeviceProtection       0.059428  0.153786    0.013963        0.275438   \n",
       "TechSupport           -0.060625  0.119999    0.063268        0.354931   \n",
       "StreamingTV            0.105378  0.124666   -0.016558        0.176207   \n",
       "StreamingMovies        0.120176  0.117412   -0.039741        0.187398   \n",
       "MultipleLines          0.142948  0.142057   -0.024526        0.098108   \n",
       "duration_days          0.016514  0.379709    0.159766        0.327203   \n",
       "loss                   0.150889 -0.150448   -0.164221       -0.171226   \n",
       "\n",
       "                  OnlineBackup  DeviceProtection  TechSupport  StreamingTV  \\\n",
       "PaperlessBilling      0.126735          0.103797     0.037880     0.223841   \n",
       "MonthlyCharges        0.441780          0.482692     0.338304     0.629603   \n",
       "TotalCharges          0.509256          0.522012     0.431910     0.514999   \n",
       "SeniorCitizen         0.066572          0.059428    -0.060625     0.105378   \n",
       "Partner               0.141498          0.153786     0.119999     0.124666   \n",
       "Dependents            0.023671          0.013963     0.063268    -0.016558   \n",
       "OnlineSecurity        0.283832          0.275438     0.354931     0.176207   \n",
       "OnlineBackup          1.000000          0.303546     0.294233     0.282106   \n",
       "DeviceProtection      0.303546          1.000000     0.333313     0.390874   \n",
       "TechSupport           0.294233          0.333313     1.000000     0.278070   \n",
       "StreamingTV           0.282106          0.390874     0.278070     1.000000   \n",
       "StreamingMovies       0.274501          0.402111     0.279358     0.533094   \n",
       "MultipleLines         0.202237          0.201137     0.100571     0.257152   \n",
       "duration_days         0.360238          0.360602     0.324238     0.279657   \n",
       "loss                 -0.082255         -0.066160    -0.164674     0.063228   \n",
       "\n",
       "                  StreamingMovies  MultipleLines  duration_days      loss  \n",
       "PaperlessBilling         0.211716       0.163530       0.006059  0.191825  \n",
       "MonthlyCharges           0.627429       0.490434       0.247754  0.193356  \n",
       "TotalCharges             0.520124       0.468516       0.826095 -0.198347  \n",
       "SeniorCitizen            0.120176       0.142948       0.016514  0.150889  \n",
       "Partner                  0.117412       0.142057       0.379709 -0.150448  \n",
       "Dependents              -0.039741      -0.024526       0.159766 -0.164221  \n",
       "OnlineSecurity           0.187398       0.098108       0.327203 -0.171226  \n",
       "OnlineBackup             0.274501       0.202237       0.360238 -0.082255  \n",
       "DeviceProtection         0.402111       0.201137       0.360602 -0.066160  \n",
       "TechSupport              0.279358       0.100571       0.324238 -0.164674  \n",
       "StreamingTV              0.533094       0.257152       0.279657  0.063228  \n",
       "StreamingMovies          1.000000       0.258751       0.286007  0.061382  \n",
       "MultipleLines            0.258751       1.000000       0.331833  0.040102  \n",
       "duration_days            0.286007       0.331833       1.000000 -0.352673  \n",
       "loss                     0.061382       0.040102      -0.352673  1.000000  "
      ]
     },
     "execution_count": 42,
     "metadata": {},
     "output_type": "execute_result"
    }
   ],
   "source": [
    "df.corr()"
   ]
  },
  {
   "cell_type": "code",
   "execution_count": 43,
   "metadata": {},
   "outputs": [],
   "source": [
    "#удалены коррелирующие признаки\n",
    "df = df.drop(['TotalCharges'], axis=1)"
   ]
  },
  {
   "cell_type": "code",
   "execution_count": 44,
   "metadata": {},
   "outputs": [],
   "source": [
    "# приводим категориальные признаки в численный вид методом ОНЕ, подходящим для целей классификации\n",
    "df_ohe = pd.get_dummies(df, drop_first=True)"
   ]
  },
  {
   "cell_type": "code",
   "execution_count": 45,
   "metadata": {
    "scrolled": true
   },
   "outputs": [
    {
     "data": {
      "text/html": [
       "<div>\n",
       "<style scoped>\n",
       "    .dataframe tbody tr th:only-of-type {\n",
       "        vertical-align: middle;\n",
       "    }\n",
       "\n",
       "    .dataframe tbody tr th {\n",
       "        vertical-align: top;\n",
       "    }\n",
       "\n",
       "    .dataframe thead th {\n",
       "        text-align: right;\n",
       "    }\n",
       "</style>\n",
       "<table border=\"1\" class=\"dataframe\">\n",
       "  <thead>\n",
       "    <tr style=\"text-align: right;\">\n",
       "      <th></th>\n",
       "      <th>PaperlessBilling</th>\n",
       "      <th>MonthlyCharges</th>\n",
       "      <th>SeniorCitizen</th>\n",
       "      <th>Partner</th>\n",
       "      <th>Dependents</th>\n",
       "      <th>OnlineSecurity</th>\n",
       "      <th>OnlineBackup</th>\n",
       "      <th>DeviceProtection</th>\n",
       "      <th>TechSupport</th>\n",
       "      <th>StreamingTV</th>\n",
       "      <th>...</th>\n",
       "      <th>duration_days</th>\n",
       "      <th>loss</th>\n",
       "      <th>Type_One year</th>\n",
       "      <th>Type_Two year</th>\n",
       "      <th>PaymentMethod_Credit card (automatic)</th>\n",
       "      <th>PaymentMethod_Electronic check</th>\n",
       "      <th>PaymentMethod_Mailed check</th>\n",
       "      <th>gender_Male</th>\n",
       "      <th>InternetService_Fiber optic</th>\n",
       "      <th>InternetService_No</th>\n",
       "    </tr>\n",
       "    <tr>\n",
       "      <th>customerID</th>\n",
       "      <th></th>\n",
       "      <th></th>\n",
       "      <th></th>\n",
       "      <th></th>\n",
       "      <th></th>\n",
       "      <th></th>\n",
       "      <th></th>\n",
       "      <th></th>\n",
       "      <th></th>\n",
       "      <th></th>\n",
       "      <th></th>\n",
       "      <th></th>\n",
       "      <th></th>\n",
       "      <th></th>\n",
       "      <th></th>\n",
       "      <th></th>\n",
       "      <th></th>\n",
       "      <th></th>\n",
       "      <th></th>\n",
       "      <th></th>\n",
       "      <th></th>\n",
       "    </tr>\n",
       "  </thead>\n",
       "  <tbody>\n",
       "    <tr>\n",
       "      <th>7590-VHVEG</th>\n",
       "      <td>1</td>\n",
       "      <td>29.85</td>\n",
       "      <td>0</td>\n",
       "      <td>1</td>\n",
       "      <td>0</td>\n",
       "      <td>0</td>\n",
       "      <td>1</td>\n",
       "      <td>0</td>\n",
       "      <td>0</td>\n",
       "      <td>0</td>\n",
       "      <td>...</td>\n",
       "      <td>31</td>\n",
       "      <td>0</td>\n",
       "      <td>0</td>\n",
       "      <td>0</td>\n",
       "      <td>0</td>\n",
       "      <td>1</td>\n",
       "      <td>0</td>\n",
       "      <td>0</td>\n",
       "      <td>0</td>\n",
       "      <td>0</td>\n",
       "    </tr>\n",
       "    <tr>\n",
       "      <th>5575-GNVDE</th>\n",
       "      <td>0</td>\n",
       "      <td>56.95</td>\n",
       "      <td>0</td>\n",
       "      <td>0</td>\n",
       "      <td>0</td>\n",
       "      <td>1</td>\n",
       "      <td>0</td>\n",
       "      <td>1</td>\n",
       "      <td>0</td>\n",
       "      <td>0</td>\n",
       "      <td>...</td>\n",
       "      <td>1036</td>\n",
       "      <td>0</td>\n",
       "      <td>1</td>\n",
       "      <td>0</td>\n",
       "      <td>0</td>\n",
       "      <td>0</td>\n",
       "      <td>1</td>\n",
       "      <td>1</td>\n",
       "      <td>0</td>\n",
       "      <td>0</td>\n",
       "    </tr>\n",
       "    <tr>\n",
       "      <th>3668-QPYBK</th>\n",
       "      <td>1</td>\n",
       "      <td>53.85</td>\n",
       "      <td>0</td>\n",
       "      <td>0</td>\n",
       "      <td>0</td>\n",
       "      <td>1</td>\n",
       "      <td>1</td>\n",
       "      <td>0</td>\n",
       "      <td>0</td>\n",
       "      <td>0</td>\n",
       "      <td>...</td>\n",
       "      <td>61</td>\n",
       "      <td>1</td>\n",
       "      <td>0</td>\n",
       "      <td>0</td>\n",
       "      <td>0</td>\n",
       "      <td>0</td>\n",
       "      <td>1</td>\n",
       "      <td>1</td>\n",
       "      <td>0</td>\n",
       "      <td>0</td>\n",
       "    </tr>\n",
       "    <tr>\n",
       "      <th>7795-CFOCW</th>\n",
       "      <td>0</td>\n",
       "      <td>42.30</td>\n",
       "      <td>0</td>\n",
       "      <td>0</td>\n",
       "      <td>0</td>\n",
       "      <td>1</td>\n",
       "      <td>0</td>\n",
       "      <td>1</td>\n",
       "      <td>1</td>\n",
       "      <td>0</td>\n",
       "      <td>...</td>\n",
       "      <td>1371</td>\n",
       "      <td>0</td>\n",
       "      <td>1</td>\n",
       "      <td>0</td>\n",
       "      <td>0</td>\n",
       "      <td>0</td>\n",
       "      <td>0</td>\n",
       "      <td>1</td>\n",
       "      <td>0</td>\n",
       "      <td>0</td>\n",
       "    </tr>\n",
       "    <tr>\n",
       "      <th>9237-HQITU</th>\n",
       "      <td>1</td>\n",
       "      <td>70.70</td>\n",
       "      <td>0</td>\n",
       "      <td>0</td>\n",
       "      <td>0</td>\n",
       "      <td>0</td>\n",
       "      <td>0</td>\n",
       "      <td>0</td>\n",
       "      <td>0</td>\n",
       "      <td>0</td>\n",
       "      <td>...</td>\n",
       "      <td>61</td>\n",
       "      <td>1</td>\n",
       "      <td>0</td>\n",
       "      <td>0</td>\n",
       "      <td>0</td>\n",
       "      <td>1</td>\n",
       "      <td>0</td>\n",
       "      <td>0</td>\n",
       "      <td>1</td>\n",
       "      <td>0</td>\n",
       "    </tr>\n",
       "  </tbody>\n",
       "</table>\n",
       "<p>5 rows × 22 columns</p>\n",
       "</div>"
      ],
      "text/plain": [
       "            PaperlessBilling  MonthlyCharges  SeniorCitizen  Partner  \\\n",
       "customerID                                                             \n",
       "7590-VHVEG                 1           29.85              0        1   \n",
       "5575-GNVDE                 0           56.95              0        0   \n",
       "3668-QPYBK                 1           53.85              0        0   \n",
       "7795-CFOCW                 0           42.30              0        0   \n",
       "9237-HQITU                 1           70.70              0        0   \n",
       "\n",
       "            Dependents  OnlineSecurity  OnlineBackup  DeviceProtection  \\\n",
       "customerID                                                               \n",
       "7590-VHVEG           0               0             1                 0   \n",
       "5575-GNVDE           0               1             0                 1   \n",
       "3668-QPYBK           0               1             1                 0   \n",
       "7795-CFOCW           0               1             0                 1   \n",
       "9237-HQITU           0               0             0                 0   \n",
       "\n",
       "            TechSupport  StreamingTV  ...  duration_days  loss  Type_One year  \\\n",
       "customerID                            ...                                       \n",
       "7590-VHVEG            0            0  ...             31     0              0   \n",
       "5575-GNVDE            0            0  ...           1036     0              1   \n",
       "3668-QPYBK            0            0  ...             61     1              0   \n",
       "7795-CFOCW            1            0  ...           1371     0              1   \n",
       "9237-HQITU            0            0  ...             61     1              0   \n",
       "\n",
       "            Type_Two year  PaymentMethod_Credit card (automatic)  \\\n",
       "customerID                                                         \n",
       "7590-VHVEG              0                                      0   \n",
       "5575-GNVDE              0                                      0   \n",
       "3668-QPYBK              0                                      0   \n",
       "7795-CFOCW              0                                      0   \n",
       "9237-HQITU              0                                      0   \n",
       "\n",
       "            PaymentMethod_Electronic check  PaymentMethod_Mailed check  \\\n",
       "customerID                                                               \n",
       "7590-VHVEG                               1                           0   \n",
       "5575-GNVDE                               0                           1   \n",
       "3668-QPYBK                               0                           1   \n",
       "7795-CFOCW                               0                           0   \n",
       "9237-HQITU                               1                           0   \n",
       "\n",
       "            gender_Male  InternetService_Fiber optic  InternetService_No  \n",
       "customerID                                                                \n",
       "7590-VHVEG            0                            0                   0  \n",
       "5575-GNVDE            1                            0                   0  \n",
       "3668-QPYBK            1                            0                   0  \n",
       "7795-CFOCW            1                            0                   0  \n",
       "9237-HQITU            0                            1                   0  \n",
       "\n",
       "[5 rows x 22 columns]"
      ]
     },
     "execution_count": 45,
     "metadata": {},
     "output_type": "execute_result"
    }
   ],
   "source": [
    "df_ohe.head()"
   ]
  },
  {
   "cell_type": "code",
   "execution_count": 46,
   "metadata": {},
   "outputs": [],
   "source": [
    "# отделяем целевой признак\n",
    "features = df_ohe.drop(['loss'], axis=1)\n",
    "target = df_ohe['loss']"
   ]
  },
  {
   "cell_type": "code",
   "execution_count": 47,
   "metadata": {},
   "outputs": [],
   "source": [
    "features_train, features_test, target_train, target_test = train_test_split(\n",
    "    features, target, test_size=0.2, random_state=12345\n",
    ")"
   ]
  },
  {
   "cell_type": "code",
   "execution_count": 48,
   "metadata": {
    "scrolled": false
   },
   "outputs": [
    {
     "name": "stdout",
     "output_type": "stream",
     "text": [
      "(1409, 21) (1409,)\n"
     ]
    }
   ],
   "source": [
    "print(features_test.shape, target_test.shape)"
   ]
  },
  {
   "cell_type": "code",
   "execution_count": 49,
   "metadata": {},
   "outputs": [
    {
     "name": "stderr",
     "output_type": "stream",
     "text": [
      "/tmp/ipykernel_118/2030367726.py:5: SettingWithCopyWarning: \n",
      "A value is trying to be set on a copy of a slice from a DataFrame.\n",
      "Try using .loc[row_indexer,col_indexer] = value instead\n",
      "\n",
      "See the caveats in the documentation: https://pandas.pydata.org/pandas-docs/stable/user_guide/indexing.html#returning-a-view-versus-a-copy\n",
      "  features_train[numeric] = scaler.transform(features_train[numeric])\n",
      "/opt/conda/lib/python3.9/site-packages/pandas/core/indexing.py:1738: SettingWithCopyWarning: \n",
      "A value is trying to be set on a copy of a slice from a DataFrame.\n",
      "Try using .loc[row_indexer,col_indexer] = value instead\n",
      "\n",
      "See the caveats in the documentation: https://pandas.pydata.org/pandas-docs/stable/user_guide/indexing.html#returning-a-view-versus-a-copy\n",
      "  self._setitem_single_column(loc, value[:, i].tolist(), pi)\n",
      "/tmp/ipykernel_118/2030367726.py:6: SettingWithCopyWarning: \n",
      "A value is trying to be set on a copy of a slice from a DataFrame.\n",
      "Try using .loc[row_indexer,col_indexer] = value instead\n",
      "\n",
      "See the caveats in the documentation: https://pandas.pydata.org/pandas-docs/stable/user_guide/indexing.html#returning-a-view-versus-a-copy\n",
      "  features_test[numeric] = scaler.transform(features_test[numeric])\n",
      "/opt/conda/lib/python3.9/site-packages/pandas/core/indexing.py:1738: SettingWithCopyWarning: \n",
      "A value is trying to be set on a copy of a slice from a DataFrame.\n",
      "Try using .loc[row_indexer,col_indexer] = value instead\n",
      "\n",
      "See the caveats in the documentation: https://pandas.pydata.org/pandas-docs/stable/user_guide/indexing.html#returning-a-view-versus-a-copy\n",
      "  self._setitem_single_column(loc, value[:, i].tolist(), pi)\n"
     ]
    }
   ],
   "source": [
    " # преобразуем масштаб методом стандартизации\n",
    "scaler = StandardScaler()\n",
    "numeric =['MonthlyCharges', 'duration_days']\n",
    "scaler.fit(features_train[numeric])\n",
    "features_train[numeric] = scaler.transform(features_train[numeric])\n",
    "features_test[numeric] = scaler.transform(features_test[numeric])\n"
   ]
  },
  {
   "cell_type": "code",
   "execution_count": 50,
   "metadata": {},
   "outputs": [
    {
     "data": {
      "text/plain": [
       "0    0.73463\n",
       "1    0.26537\n",
       "Name: loss, dtype: float64"
      ]
     },
     "execution_count": 50,
     "metadata": {},
     "output_type": "execute_result"
    }
   ],
   "source": [
    "df_ohe['loss'].value_counts(normalize=True)"
   ]
  },
  {
   "cell_type": "markdown",
   "metadata": {},
   "source": [
    "Подсчет классов в целевом признаке выявляет проблему несбалансированных данных. Объектов класса \"1\" меньше почти в три раза."
   ]
  },
  {
   "cell_type": "code",
   "execution_count": 51,
   "metadata": {},
   "outputs": [],
   "source": [
    "def upsample(features, target, repeat):\n",
    "    '''функция делит признаки на классы и увеличивает класс \"1\" в заданное количество раз(repeat)'''\n",
    "    features_zeros = features[target == 0]\n",
    "    features_ones = features[target == 1]\n",
    "    target_zeros = target[target == 0]\n",
    "    target_ones = target[target == 1]\n",
    "    features_upsampled = pd.concat([features_zeros] + [features_ones] * repeat)\n",
    "    target_upsampled = pd.concat([target_zeros] + [target_ones] * repeat)\n",
    "    features_upsampled, target_upsampled = shuffle(\n",
    "    features_upsampled, target_upsampled, random_state=12345)\n",
    "    return features_upsampled, target_upsampled    "
   ]
  },
  {
   "cell_type": "code",
   "execution_count": 52,
   "metadata": {},
   "outputs": [],
   "source": [
    "#увеличение выборки\n",
    "features_upsampled, target_upsampled = upsample(features_train, target_train, 3)"
   ]
  },
  {
   "cell_type": "code",
   "execution_count": 53,
   "metadata": {},
   "outputs": [
    {
     "data": {
      "text/plain": [
       "1    0.518923\n",
       "0    0.481077\n",
       "Name: loss, dtype: float64"
      ]
     },
     "execution_count": 53,
     "metadata": {},
     "output_type": "execute_result"
    }
   ],
   "source": [
    "target_upsampled.value_counts(normalize=True)"
   ]
  },
  {
   "cell_type": "markdown",
   "metadata": {},
   "source": [
    "Данные сбалансированы."
   ]
  },
  {
   "cell_type": "markdown",
   "metadata": {},
   "source": [
    "**Выводы:**\n",
    "* удалены некоторые признаки: задвоенные категоризацией и не влияющие на результат\n",
    "* удалены признаки с сильной корреляцией\n",
    "* категориальные и численные признаки закодированы\n",
    "* сбалансированы признаки в обучающей выборке"
   ]
  },
  {
   "cell_type": "markdown",
   "metadata": {},
   "source": [
    "# Обучение моделей"
   ]
  },
  {
   "cell_type": "markdown",
   "metadata": {},
   "source": [
    "Обучение нескольких моделей и проверка на тестовой выборке"
   ]
  },
  {
   "cell_type": "code",
   "execution_count": 54,
   "metadata": {},
   "outputs": [],
   "source": [
    "def model_scoring(model):\n",
    "    pred_proba_test = model.predict_proba(features_test)[:, 1]\n",
    "    pred_test = model.predict(features_test)\n",
    "    report = classification_report(target_test, pred_test, target_names=['Non-churned', 'Churned'])\n",
    "    #print('Accuracy:', accuracy_score(target_test, pred_test))\n",
    "    print('AUC-ROC:', round(roc_auc_score(target_test, pred_proba_test), 3))\n",
    "    print(report)\n",
    "    fpr, tpr, thresholds = roc_curve(target_test, pred_proba_test)\n",
    "\n",
    "    sns.set()\n",
    "    plt.figure(figsize=(8, 5))\n",
    "    plt.plot(fpr, tpr)\n",
    "\n",
    "    plt.plot([0, 1], [0, 1], linestyle='--')\n",
    "\n",
    "    plt.ylim([0.0, 1.0])\n",
    "    plt.xlim([0.0, 1.0])\n",
    "\n",
    "    plt.xlabel('False Positive Rate')\n",
    "    plt.ylabel('True Positive Rate')\n",
    "\n",
    "    plt.title('ROC-кривая')\n",
    "    plt.show()\n",
    "   \n"
   ]
  },
  {
   "cell_type": "code",
   "execution_count": 55,
   "metadata": {},
   "outputs": [],
   "source": [
    "def features_importance(model, train_features):\n",
    "    importances = model.best_estimator_.feature_importances_\n",
    "    feature_list = list(train_features.columns)\n",
    "    feature_results = pd.DataFrame({'feature': feature_list,'importance': importances})\n",
    "    feature_results = feature_results.sort_values('importance',ascending = False).reset_index(drop=True)\n",
    "    \n",
    "    fig, ax = plt.subplots(figsize=(16,14))\n",
    "    fig.set_size_inches(35,15)\n",
    "    sns.barplot(x='importance', y='feature', data=feature_results)\n",
    "    plt.title(\"Важность признаков\")\n",
    "    plt.ylabel('Признаки')\n",
    "    plt.xlabel('Важность')\n",
    "    fig.tight_layout()\n",
    "       \n",
    "    display(plt.show())\n",
    "    print('5 важных признаков', feature_results.head())\n",
    "    print('5 несущественных признаков', feature_results.tail())\n"
   ]
  },
  {
   "cell_type": "markdown",
   "metadata": {},
   "source": [
    "### LogisticRegression"
   ]
  },
  {
   "cell_type": "code",
   "execution_count": 56,
   "metadata": {},
   "outputs": [
    {
     "data": {
      "text/plain": [
       "LogisticRegression(C=4, n_jobs=-1, random_state=12345)"
      ]
     },
     "execution_count": 56,
     "metadata": {},
     "output_type": "execute_result"
    }
   ],
   "source": [
    "model_lr = LogisticRegression(random_state=12345, n_jobs=-1, C=4)\n",
    "model_lr.fit(features_upsampled, target_upsampled)"
   ]
  },
  {
   "cell_type": "code",
   "execution_count": 57,
   "metadata": {},
   "outputs": [
    {
     "name": "stdout",
     "output_type": "stream",
     "text": [
      "AUC-ROC: 0.844\n",
      "              precision    recall  f1-score   support\n",
      "\n",
      " Non-churned       0.91      0.72      0.80      1030\n",
      "     Churned       0.52      0.81      0.63       379\n",
      "\n",
      "    accuracy                           0.74      1409\n",
      "   macro avg       0.71      0.77      0.72      1409\n",
      "weighted avg       0.81      0.74      0.76      1409\n",
      "\n"
     ]
    },
    {
     "data": {
      "image/png": "[encoded data removed]",
      "text/plain": [
       "<Figure size 576x360 with 1 Axes>"
      ]
     },
     "metadata": {},
     "output_type": "display_data"
    }
   ],
   "source": [
    "model_scoring(model_lr)"
   ]
  },
  {
   "cell_type": "markdown",
   "metadata": {},
   "source": [
    "### RandomForestClassifier"
   ]
  },
  {
   "cell_type": "code",
   "execution_count": 58,
   "metadata": {},
   "outputs": [
    {
     "name": "stdout",
     "output_type": "stream",
     "text": [
      "CPU times: user 2min 18s, sys: 2.73 s, total: 2min 20s\n",
      "Wall time: 2min 21s\n"
     ]
    },
    {
     "data": {
      "text/plain": [
       "GridSearchCV(cv=4, estimator=RandomForestClassifier(random_state=12345),\n",
       "             n_jobs=-1,\n",
       "             param_grid={'max_depth': [None, 13, 20, 50],\n",
       "                         'n_estimators': [10, 70, 500, 1000]})"
      ]
     },
     "execution_count": 58,
     "metadata": {},
     "output_type": "execute_result"
    }
   ],
   "source": [
    "%%time\n",
    "param_grid =  {'n_estimators': [10, 70, 500, 1000],\n",
    "              'max_depth': [None, 13, 20, 50],\n",
    "              #'min_samples_leaf': range(1, 7, 2),\n",
    "              #'min_samples_split': range(2, 8,2)\n",
    "             }\n",
    "\n",
    "model_forest = RandomForestClassifier(random_state=12345)\n",
    "model = GridSearchCV(model_forest, param_grid=param_grid,\n",
    "                               cv = 4, n_jobs = -1)\n",
    "model.fit(features_upsampled, target_upsampled)\n"
   ]
  },
  {
   "cell_type": "code",
   "execution_count": 59,
   "metadata": {},
   "outputs": [
    {
     "data": {
      "text/plain": [
       "{'max_depth': None, 'n_estimators': 1000}"
      ]
     },
     "execution_count": 59,
     "metadata": {},
     "output_type": "execute_result"
    }
   ],
   "source": [
    "model.best_params_"
   ]
  },
  {
   "cell_type": "code",
   "execution_count": 60,
   "metadata": {},
   "outputs": [
    {
     "name": "stdout",
     "output_type": "stream",
     "text": [
      "AUC-ROC: 0.836\n",
      "              precision    recall  f1-score   support\n",
      "\n",
      " Non-churned       0.85      0.87      0.86      1030\n",
      "     Churned       0.62      0.58      0.60       379\n",
      "\n",
      "    accuracy                           0.79      1409\n",
      "   macro avg       0.73      0.72      0.73      1409\n",
      "weighted avg       0.79      0.79      0.79      1409\n",
      "\n"
     ]
    },
    {
     "data": {
      "image/png": "[encoded data removed]",
      "text/plain": [
       "<Figure size 576x360 with 1 Axes>"
      ]
     },
     "metadata": {},
     "output_type": "display_data"
    }
   ],
   "source": [
    "model_scoring(model)"
   ]
  },
  {
   "cell_type": "code",
   "execution_count": 61,
   "metadata": {
    "scrolled": true
   },
   "outputs": [
    {
     "data": {
      "image/png": "[encoded data removed]",
      "text/plain": [
       "<Figure size 2520x1080 with 1 Axes>"
      ]
     },
     "metadata": {},
     "output_type": "display_data"
    },
    {
     "data": {
      "text/plain": [
       "None"
      ]
     },
     "metadata": {},
     "output_type": "display_data"
    },
    {
     "name": "stdout",
     "output_type": "stream",
     "text": [
      "5 важных признаков                           feature  importance\n",
      "0                   duration_days    0.270592\n",
      "1                  MonthlyCharges    0.204296\n",
      "2                   Type_Two year    0.070631\n",
      "3     InternetService_Fiber optic    0.049256\n",
      "4  PaymentMethod_Electronic check    0.039708\n",
      "5 несущественных признаков                                   feature  importance\n",
      "16                       DeviceProtection    0.020604\n",
      "17                        StreamingMovies    0.019217\n",
      "18                            StreamingTV    0.018178\n",
      "19  PaymentMethod_Credit card (automatic)    0.014772\n",
      "20             PaymentMethod_Mailed check    0.012975\n"
     ]
    }
   ],
   "source": [
    "features_importance(model, features_upsampled)"
   ]
  },
  {
   "cell_type": "markdown",
   "metadata": {},
   "source": [
    "### CatBoostClassifier"
   ]
  },
  {
   "cell_type": "code",
   "execution_count": 62,
   "metadata": {},
   "outputs": [
    {
     "name": "stdout",
     "output_type": "stream",
     "text": [
      "CPU times: user 2h 8min 32s, sys: 1h 5min 36s, total: 3h 14min 9s\n",
      "Wall time: 3h 15min 6s\n"
     ]
    },
    {
     "data": {
      "text/plain": [
       "GridSearchCV(cv=4,\n",
       "             estimator=<catboost.core.CatBoostClassifier object at 0x7fbe74d90e80>,\n",
       "             n_jobs=-1,\n",
       "             param_grid={'learning_rate': [0.01, 0.1], 'max_depth': [12, 15],\n",
       "                         'n_estimators': [500, 1000]})"
      ]
     },
     "execution_count": 62,
     "metadata": {},
     "output_type": "execute_result"
    }
   ],
   "source": [
    "%%time\n",
    "\n",
    "CatBoost_param = {'n_estimators': [500, 1000],\n",
    "                      'learning_rate': [0.01, 0.1],\n",
    "                      'max_depth': [12, 15],\n",
    "                      #'l2_leaf_reg': [1, 3]\n",
    "                 }\n",
    "CatBoost_clf = CatBoostClassifier(random_state=12345, verbose=0)\n",
    "model_cat = GridSearchCV(CatBoost_clf, param_grid=CatBoost_param,\n",
    "                               cv = 4, n_jobs = -1)\n",
    "model_cat.fit(features_upsampled, target_upsampled)"
   ]
  },
  {
   "cell_type": "code",
   "execution_count": 63,
   "metadata": {},
   "outputs": [
    {
     "data": {
      "text/plain": [
       "{'learning_rate': 0.1, 'max_depth': 12, 'n_estimators': 1000}"
      ]
     },
     "execution_count": 63,
     "metadata": {},
     "output_type": "execute_result"
    }
   ],
   "source": [
    "model_cat.best_params_"
   ]
  },
  {
   "cell_type": "code",
   "execution_count": 64,
   "metadata": {},
   "outputs": [
    {
     "name": "stdout",
     "output_type": "stream",
     "text": [
      "AUC-ROC: 0.87\n",
      "              precision    recall  f1-score   support\n",
      "\n",
      " Non-churned       0.87      0.90      0.88      1030\n",
      "     Churned       0.69      0.62      0.65       379\n",
      "\n",
      "    accuracy                           0.82      1409\n",
      "   macro avg       0.78      0.76      0.77      1409\n",
      "weighted avg       0.82      0.82      0.82      1409\n",
      "\n"
     ]
    },
    {
     "data": {
      "image/png": "[encoded data removed]",
      "text/plain": [
       "<Figure size 576x360 with 1 Axes>"
      ]
     },
     "metadata": {},
     "output_type": "display_data"
    }
   ],
   "source": [
    "model_scoring(model_cat)"
   ]
  },
  {
   "cell_type": "code",
   "execution_count": 65,
   "metadata": {},
   "outputs": [
    {
     "data": {
      "image/png": "[encoded data removed]",
      "text/plain": [
       "<Figure size 2520x1080 with 1 Axes>"
      ]
     },
     "metadata": {},
     "output_type": "display_data"
    },
    {
     "data": {
      "text/plain": [
       "None"
      ]
     },
     "metadata": {},
     "output_type": "display_data"
    },
    {
     "name": "stdout",
     "output_type": "stream",
     "text": [
      "5 важных признаков                           feature  importance\n",
      "0                   duration_days   23.393594\n",
      "1                  MonthlyCharges   10.658808\n",
      "2                     gender_Male    7.877091\n",
      "3                PaperlessBilling    5.246132\n",
      "4  PaymentMethod_Electronic check    5.109965\n",
      "5 несущественных признаков                                   feature  importance\n",
      "16                          Type_Two year    2.309537\n",
      "17                            StreamingTV    2.220701\n",
      "18  PaymentMethod_Credit card (automatic)    1.960418\n",
      "19             PaymentMethod_Mailed check    1.937438\n",
      "20                     InternetService_No    0.880558\n"
     ]
    }
   ],
   "source": [
    "features_importance(model_cat, features_upsampled)"
   ]
  },
  {
   "cell_type": "markdown",
   "metadata": {},
   "source": [
    "### LGBMClassifier"
   ]
  },
  {
   "cell_type": "code",
   "execution_count": 66,
   "metadata": {},
   "outputs": [
    {
     "name": "stdout",
     "output_type": "stream",
     "text": [
      "CPU times: user 4min 43s, sys: 5.27 s, total: 4min 48s\n",
      "Wall time: 4min 51s\n"
     ]
    },
    {
     "data": {
      "text/plain": [
       "LGBMClassifier(max_depth=15, n_estimators=1000, random_state=12345)"
      ]
     },
     "execution_count": 66,
     "metadata": {},
     "output_type": "execute_result"
    }
   ],
   "source": [
    "%%time\n",
    "\n",
    "model_lgbm = LGBMClassifier(random_state=12345, n_jobs = -1, \n",
    "                            max_depth=15, n_estimators=1000, learning_rate=0.1)\n",
    "\n",
    "model_lgbm.fit(features_upsampled, target_upsampled)"
   ]
  },
  {
   "cell_type": "code",
   "execution_count": 69,
   "metadata": {},
   "outputs": [
    {
     "name": "stdout",
     "output_type": "stream",
     "text": [
      "AUC-ROC: 0.915\n",
      "              precision    recall  f1-score   support\n",
      "\n",
      " Non-churned       0.90      0.91      0.91      1030\n",
      "     Churned       0.75      0.72      0.73       379\n",
      "\n",
      "    accuracy                           0.86      1409\n",
      "   macro avg       0.82      0.81      0.82      1409\n",
      "weighted avg       0.86      0.86      0.86      1409\n",
      "\n"
     ]
    },
    {
     "data": {
      "image/png": "[encoded data removed]",
      "text/plain": [
       "<Figure size 576x360 with 1 Axes>"
      ]
     },
     "metadata": {},
     "output_type": "display_data"
    }
   ],
   "source": [
    "model_scoring(model_lgbm)"
   ]
  },
  {
   "cell_type": "markdown",
   "metadata": {},
   "source": [
    "* ROC-кривая по горизонтали доля ложноположительных ответов (FPR), а по вертикали — доля истинно положительных ответов (TPR). Чем график выше, тем больше значение TPR и лучше качество модели.\n",
    "* AUC-ROC (или ROC AUC) — площадь под кривой ошибок. В идеальном случае, когда классификатор не делает ошибок площадь под кривой равна единице. И наоборот, когда классификатор случайно выдает вероятности классов, AUC-ROC будет стремиться к 0.5 \n",
    "* Accuracy - доля правильных ответов алгоритма\n",
    "* Precision - доля объектов, названных классификатором положительными и при этом действительно являющимися положительными.\n",
    "* Recall показывает, какую долю объектов положительного класса из всех объектов положительного класса нашел алгоритм.\n",
    "* F1-мера достигает максимума при полноте и точности, равными единице, и близка к нулю, если один из аргументов близок к нулю."
   ]
  },
  {
   "cell_type": "markdown",
   "metadata": {},
   "source": [
    "Важность и неважность признаков у разных моделей разная. Причем, некоторые признаки важны у одной модели, а у другой входят в пятерку самых неважных."
   ]
  },
  {
   "cell_type": "markdown",
   "metadata": {},
   "source": [
    "# Анализ результатов"
   ]
  },
  {
   "cell_type": "markdown",
   "metadata": {},
   "source": [
    "Сделать сравнительную таблицу, проанализировать результаты и сделать выводы."
   ]
  },
  {
   "cell_type": "code",
   "execution_count": 72,
   "metadata": {
    "scrolled": true
   },
   "outputs": [
    {
     "data": {
      "text/html": [
       "<div>\n",
       "<style scoped>\n",
       "    .dataframe tbody tr th:only-of-type {\n",
       "        vertical-align: middle;\n",
       "    }\n",
       "\n",
       "    .dataframe tbody tr th {\n",
       "        vertical-align: top;\n",
       "    }\n",
       "\n",
       "    .dataframe thead th {\n",
       "        text-align: right;\n",
       "    }\n",
       "</style>\n",
       "<table border=\"1\" class=\"dataframe\">\n",
       "  <thead>\n",
       "    <tr style=\"text-align: right;\">\n",
       "      <th></th>\n",
       "      <th>Модель</th>\n",
       "      <th>Presicion</th>\n",
       "      <th>Recall</th>\n",
       "      <th>Accuracy</th>\n",
       "      <th>f1-score</th>\n",
       "      <th>AUC-ROC</th>\n",
       "      <th>Скорость обучения</th>\n",
       "    </tr>\n",
       "  </thead>\n",
       "  <tbody>\n",
       "    <tr>\n",
       "      <th>0</th>\n",
       "      <td>LogisticRegression</td>\n",
       "      <td>0.71</td>\n",
       "      <td>0.77</td>\n",
       "      <td>0.74</td>\n",
       "      <td>0.72</td>\n",
       "      <td>0.844</td>\n",
       "      <td>0 min</td>\n",
       "    </tr>\n",
       "    <tr>\n",
       "      <th>1</th>\n",
       "      <td>RandomForestClassifier</td>\n",
       "      <td>0.73</td>\n",
       "      <td>0.72</td>\n",
       "      <td>0.79</td>\n",
       "      <td>0.73</td>\n",
       "      <td>0.836</td>\n",
       "      <td>2min 21s</td>\n",
       "    </tr>\n",
       "    <tr>\n",
       "      <th>2</th>\n",
       "      <td>CatBoostClassifier</td>\n",
       "      <td>0.78</td>\n",
       "      <td>0.76</td>\n",
       "      <td>0.82</td>\n",
       "      <td>0.77</td>\n",
       "      <td>0.870</td>\n",
       "      <td>3h 15min</td>\n",
       "    </tr>\n",
       "    <tr>\n",
       "      <th>3</th>\n",
       "      <td>LGBMClassifier</td>\n",
       "      <td>0.82</td>\n",
       "      <td>0.81</td>\n",
       "      <td>0.86</td>\n",
       "      <td>0.82</td>\n",
       "      <td>0.915</td>\n",
       "      <td>4min 51s</td>\n",
       "    </tr>\n",
       "  </tbody>\n",
       "</table>\n",
       "</div>"
      ],
      "text/plain": [
       "                   Модель  Presicion  Recall  Accuracy  f1-score  AUC-ROC  \\\n",
       "0      LogisticRegression       0.71    0.77      0.74      0.72    0.844   \n",
       "1  RandomForestClassifier       0.73    0.72      0.79      0.73    0.836   \n",
       "2      CatBoostClassifier       0.78    0.76      0.82      0.77    0.870   \n",
       "3          LGBMClassifier       0.82    0.81      0.86      0.82    0.915   \n",
       "\n",
       "  Скорость обучения  \n",
       "0             0 min  \n",
       "1          2min 21s  \n",
       "2          3h 15min  \n",
       "3          4min 51s  "
      ]
     },
     "execution_count": 72,
     "metadata": {},
     "output_type": "execute_result"
    }
   ],
   "source": [
    "data = {'Модель':['LogisticRegression','RandomForestClassifier', 'CatBoostClassifier', \n",
    "                  'LGBMClassifier'], \n",
    "        'Presicion': [0.71, 0.73, 0.78, 0.82],\n",
    "        'Recall': [0.77, 0.72, 0.76, 0.81],\n",
    "        'Accuracy':[0.74, 0.79, 0.82, 0.86],\n",
    "        'f1-score':[0.72, 0.73, 0.77, 0.82],\n",
    "        'AUC-ROC': [0.844, 0.836, 0.87, 0.915],\n",
    "        'Скорость обучения': ['0 min', '2min 21s', '3h 15min', '4min 51s']}\n",
    "\n",
    "pd.DataFrame(data)"
   ]
  },
  {
   "cell_type": "markdown",
   "metadata": {},
   "source": [
    "* LogisticRegression требует совсем немного времени на обучение, но метрика у нее не самая большая.\n",
    "* RandomForestClassifier результат показал совсем немного хуже логистической регрессии.\n",
    "* CatBoostClassifier показала неплохой результат по заданной метрике \n",
    "* LGBMClassifier показала самую лучшую метрику и приемлемое время обучения"
   ]
  },
  {
   "cell_type": "markdown",
   "metadata": {},
   "source": [
    "# Выводы по проекту:"
   ]
  },
  {
   "cell_type": "markdown",
   "metadata": {},
   "source": [
    "* данные объединены в таблицу\n",
    "* заполнены пропуски и  изменены типы данных\n",
    "* исправлены бинарные признаки на значения 0/1\n",
    "* выделен целевой признак - ушел клиент или остался\n",
    "* построены графики распределения признаков \n",
    "* сбалансированы признаки в обучающей выборке\n",
    "* обучены разные модели и построены ROC-кривые\n",
    "* LGBMClassifier показала хороший результат. И времени на обучение требуется не много.\n",
    "* Таким образом, данная модель может использоваться для прогнозирования оттока клиентов - с вероятностью 86% (Accuracy - 0.86) она будет правильно предсказывать клиентов, планирующий расторгнуть контракт на услуги связи."
   ]
  },
  {
   "cell_type": "markdown",
   "metadata": {},
   "source": [
    "[Наверх](#Содержание:)"
   ]
  },
  {
   "cell_type": "code",
   "execution_count": null,
   "metadata": {},
   "outputs": [],
   "source": []
  }
 ],
 "metadata": {
  "ExecuteTimeLog": [
   {
    "duration": 420,
    "start_time": "2022-06-13T11:15:51.353Z"
   },
   {
    "duration": 138,
    "start_time": "2022-06-13T11:16:52.549Z"
   },
   {
    "duration": 65,
    "start_time": "2022-06-13T11:17:33.831Z"
   },
   {
    "duration": 112,
    "start_time": "2022-06-13T11:18:47.529Z"
   },
   {
    "duration": 39,
    "start_time": "2022-06-13T11:18:48.516Z"
   },
   {
    "duration": 18,
    "start_time": "2022-06-13T11:19:10.630Z"
   },
   {
    "duration": 67,
    "start_time": "2022-06-13T11:20:26.899Z"
   },
   {
    "duration": 10,
    "start_time": "2022-06-13T11:20:32.833Z"
   },
   {
    "duration": 11,
    "start_time": "2022-06-13T11:21:20.183Z"
   },
   {
    "duration": 7,
    "start_time": "2022-06-13T11:21:54.725Z"
   },
   {
    "duration": 77,
    "start_time": "2022-06-13T17:52:39.818Z"
   },
   {
    "duration": 457,
    "start_time": "2022-06-13T17:52:48.814Z"
   },
   {
    "duration": 236,
    "start_time": "2022-06-13T17:52:49.280Z"
   },
   {
    "duration": 193,
    "start_time": "2022-06-13T17:52:49.518Z"
   },
   {
    "duration": 61,
    "start_time": "2022-06-13T17:52:49.714Z"
   },
   {
    "duration": 94,
    "start_time": "2022-06-13T17:52:49.777Z"
   },
   {
    "duration": 20,
    "start_time": "2022-06-13T17:52:49.873Z"
   },
   {
    "duration": 14,
    "start_time": "2022-06-13T17:52:49.894Z"
   },
   {
    "duration": 17,
    "start_time": "2022-06-13T17:52:49.909Z"
   },
   {
    "duration": 19,
    "start_time": "2022-06-13T17:52:49.929Z"
   },
   {
    "duration": 27,
    "start_time": "2022-06-13T17:52:49.950Z"
   },
   {
    "duration": 98,
    "start_time": "2022-06-13T17:54:50.201Z"
   },
   {
    "duration": 15,
    "start_time": "2022-06-13T17:55:46.620Z"
   },
   {
    "duration": 11,
    "start_time": "2022-06-13T17:56:11.878Z"
   },
   {
    "duration": 7,
    "start_time": "2022-06-13T17:57:19.882Z"
   },
   {
    "duration": 9,
    "start_time": "2022-06-13T17:57:38.425Z"
   },
   {
    "duration": 8,
    "start_time": "2022-06-13T17:57:53.823Z"
   },
   {
    "duration": 31,
    "start_time": "2022-06-13T17:58:06.175Z"
   },
   {
    "duration": 15,
    "start_time": "2022-06-13T17:58:24.706Z"
   },
   {
    "duration": 6,
    "start_time": "2022-06-13T17:59:32.997Z"
   },
   {
    "duration": 4,
    "start_time": "2022-06-13T18:00:05.485Z"
   },
   {
    "duration": 436,
    "start_time": "2022-06-13T18:05:43.534Z"
   },
   {
    "duration": 51,
    "start_time": "2022-06-13T18:05:43.977Z"
   },
   {
    "duration": 21,
    "start_time": "2022-06-13T18:05:44.030Z"
   },
   {
    "duration": 33,
    "start_time": "2022-06-13T18:05:44.053Z"
   },
   {
    "duration": 21,
    "start_time": "2022-06-13T18:05:44.088Z"
   },
   {
    "duration": 21,
    "start_time": "2022-06-13T18:05:44.111Z"
   },
   {
    "duration": 8,
    "start_time": "2022-06-13T18:05:44.133Z"
   },
   {
    "duration": 19,
    "start_time": "2022-06-13T18:05:44.143Z"
   },
   {
    "duration": 32,
    "start_time": "2022-06-13T18:05:44.163Z"
   },
   {
    "duration": 17,
    "start_time": "2022-06-13T18:05:44.198Z"
   },
   {
    "duration": 8,
    "start_time": "2022-06-13T18:05:44.216Z"
   },
   {
    "duration": 12,
    "start_time": "2022-06-13T18:05:44.226Z"
   },
   {
    "duration": 40,
    "start_time": "2022-06-13T18:05:44.240Z"
   },
   {
    "duration": 17,
    "start_time": "2022-06-13T18:05:44.282Z"
   },
   {
    "duration": 95,
    "start_time": "2022-06-13T18:05:44.301Z"
   },
   {
    "duration": 0,
    "start_time": "2022-06-13T18:05:44.398Z"
   },
   {
    "duration": 0,
    "start_time": "2022-06-13T18:05:44.399Z"
   },
   {
    "duration": 0,
    "start_time": "2022-06-13T18:05:44.403Z"
   },
   {
    "duration": 0,
    "start_time": "2022-06-13T18:05:44.404Z"
   },
   {
    "duration": 0,
    "start_time": "2022-06-13T18:05:44.406Z"
   },
   {
    "duration": 0,
    "start_time": "2022-06-13T18:05:44.407Z"
   },
   {
    "duration": 0,
    "start_time": "2022-06-13T18:05:44.409Z"
   },
   {
    "duration": 0,
    "start_time": "2022-06-13T18:05:44.410Z"
   },
   {
    "duration": 19,
    "start_time": "2022-06-13T18:05:48.702Z"
   },
   {
    "duration": 18,
    "start_time": "2022-06-13T18:06:00.397Z"
   },
   {
    "duration": 20,
    "start_time": "2022-06-13T18:06:07.871Z"
   },
   {
    "duration": 11,
    "start_time": "2022-06-13T18:07:32.398Z"
   },
   {
    "duration": 3161,
    "start_time": "2022-06-13T18:09:40.320Z"
   },
   {
    "duration": 11,
    "start_time": "2022-06-13T18:10:17.532Z"
   },
   {
    "duration": 9,
    "start_time": "2022-06-13T18:11:30.817Z"
   },
   {
    "duration": 10,
    "start_time": "2022-06-13T18:12:04.848Z"
   },
   {
    "duration": 2387,
    "start_time": "2022-06-13T18:12:23.802Z"
   },
   {
    "duration": 13,
    "start_time": "2022-06-13T18:12:34.400Z"
   },
   {
    "duration": 11,
    "start_time": "2022-06-13T18:12:37.783Z"
   },
   {
    "duration": 104986,
    "start_time": "2022-06-13T18:13:33.670Z"
   },
   {
    "duration": 14,
    "start_time": "2022-06-13T18:15:45.207Z"
   },
   {
    "duration": 36,
    "start_time": "2022-06-13T18:56:07.591Z"
   },
   {
    "duration": 13,
    "start_time": "2022-06-13T19:01:33.972Z"
   },
   {
    "duration": 20,
    "start_time": "2022-06-13T19:02:35.190Z"
   },
   {
    "duration": 5,
    "start_time": "2022-06-13T19:07:22.350Z"
   },
   {
    "duration": 38,
    "start_time": "2022-06-13T19:07:24.585Z"
   },
   {
    "duration": 14,
    "start_time": "2022-06-13T19:08:11.185Z"
   },
   {
    "duration": 17,
    "start_time": "2022-06-13T19:08:54.640Z"
   },
   {
    "duration": 8,
    "start_time": "2022-06-13T19:10:49.335Z"
   },
   {
    "duration": 18,
    "start_time": "2022-06-13T19:10:53.184Z"
   },
   {
    "duration": 15,
    "start_time": "2022-06-13T19:11:25.865Z"
   },
   {
    "duration": 5,
    "start_time": "2022-06-13T19:15:45.113Z"
   },
   {
    "duration": 12,
    "start_time": "2022-06-13T19:16:00.860Z"
   },
   {
    "duration": 5,
    "start_time": "2022-06-13T19:16:34.209Z"
   },
   {
    "duration": 6,
    "start_time": "2022-06-13T19:16:35.309Z"
   },
   {
    "duration": 5,
    "start_time": "2022-06-13T19:16:46.187Z"
   },
   {
    "duration": 14,
    "start_time": "2022-06-13T19:16:47.390Z"
   },
   {
    "duration": 5,
    "start_time": "2022-06-13T19:17:59.930Z"
   },
   {
    "duration": 7,
    "start_time": "2022-06-13T19:18:01.440Z"
   },
   {
    "duration": 8,
    "start_time": "2022-06-13T19:19:11.879Z"
   },
   {
    "duration": 12,
    "start_time": "2022-06-13T19:19:12.795Z"
   },
   {
    "duration": 2,
    "start_time": "2022-06-13T19:31:37.110Z"
   },
   {
    "duration": 3,
    "start_time": "2022-06-13T19:33:51.394Z"
   },
   {
    "duration": 26,
    "start_time": "2022-06-13T19:34:39.779Z"
   },
   {
    "duration": 20,
    "start_time": "2022-06-13T19:34:51.825Z"
   },
   {
    "duration": 6,
    "start_time": "2022-06-13T19:36:47.623Z"
   },
   {
    "duration": 4,
    "start_time": "2022-06-13T19:36:59.436Z"
   },
   {
    "duration": 25,
    "start_time": "2022-06-13T19:37:00.873Z"
   },
   {
    "duration": 392,
    "start_time": "2022-06-13T19:37:26.780Z"
   },
   {
    "duration": 168,
    "start_time": "2022-06-13T19:37:27.174Z"
   },
   {
    "duration": 132,
    "start_time": "2022-06-13T19:37:27.344Z"
   },
   {
    "duration": 54,
    "start_time": "2022-06-13T19:37:27.478Z"
   },
   {
    "duration": 86,
    "start_time": "2022-06-13T19:37:27.534Z"
   },
   {
    "duration": 16,
    "start_time": "2022-06-13T19:37:27.622Z"
   },
   {
    "duration": 8,
    "start_time": "2022-06-13T19:37:27.640Z"
   },
   {
    "duration": 19,
    "start_time": "2022-06-13T19:37:27.650Z"
   },
   {
    "duration": 25,
    "start_time": "2022-06-13T19:37:27.670Z"
   },
   {
    "duration": 20,
    "start_time": "2022-06-13T19:37:27.698Z"
   },
   {
    "duration": 7,
    "start_time": "2022-06-13T19:37:27.720Z"
   },
   {
    "duration": 7,
    "start_time": "2022-06-13T19:37:27.729Z"
   },
   {
    "duration": 20,
    "start_time": "2022-06-13T19:37:27.738Z"
   },
   {
    "duration": 31,
    "start_time": "2022-06-13T19:37:27.759Z"
   },
   {
    "duration": 4,
    "start_time": "2022-06-13T19:37:27.792Z"
   },
   {
    "duration": 0,
    "start_time": "2022-06-13T19:37:27.798Z"
   },
   {
    "duration": 0,
    "start_time": "2022-06-13T19:37:27.800Z"
   },
   {
    "duration": 0,
    "start_time": "2022-06-13T19:37:27.802Z"
   },
   {
    "duration": 0,
    "start_time": "2022-06-13T19:37:27.805Z"
   },
   {
    "duration": 0,
    "start_time": "2022-06-13T19:37:27.806Z"
   },
   {
    "duration": 0,
    "start_time": "2022-06-13T19:37:27.807Z"
   },
   {
    "duration": 0,
    "start_time": "2022-06-13T19:37:27.808Z"
   },
   {
    "duration": 0,
    "start_time": "2022-06-13T19:37:27.809Z"
   },
   {
    "duration": 0,
    "start_time": "2022-06-13T19:37:27.810Z"
   },
   {
    "duration": 15,
    "start_time": "2022-06-13T19:38:25.327Z"
   },
   {
    "duration": 22,
    "start_time": "2022-06-13T19:38:26.574Z"
   },
   {
    "duration": 4,
    "start_time": "2022-06-13T19:38:28.510Z"
   },
   {
    "duration": 6,
    "start_time": "2022-06-13T19:38:31.015Z"
   },
   {
    "duration": 7,
    "start_time": "2022-06-13T19:38:33.714Z"
   },
   {
    "duration": 6,
    "start_time": "2022-06-13T19:38:34.604Z"
   },
   {
    "duration": 6,
    "start_time": "2022-06-13T19:38:35.636Z"
   },
   {
    "duration": 3,
    "start_time": "2022-06-13T19:38:40.527Z"
   },
   {
    "duration": 66,
    "start_time": "2022-06-13T19:38:41.377Z"
   },
   {
    "duration": 3,
    "start_time": "2022-06-13T19:45:10.628Z"
   },
   {
    "duration": 6,
    "start_time": "2022-06-13T19:45:11.894Z"
   },
   {
    "duration": 31,
    "start_time": "2022-06-13T19:45:17.651Z"
   },
   {
    "duration": 5,
    "start_time": "2022-06-13T19:46:02.875Z"
   },
   {
    "duration": 17,
    "start_time": "2022-06-13T19:46:03.782Z"
   },
   {
    "duration": 7,
    "start_time": "2022-06-13T19:46:41.119Z"
   },
   {
    "duration": 17,
    "start_time": "2022-06-13T19:46:42.514Z"
   },
   {
    "duration": 14,
    "start_time": "2022-06-13T19:48:46.219Z"
   },
   {
    "duration": 15,
    "start_time": "2022-06-13T19:48:48.610Z"
   },
   {
    "duration": 10,
    "start_time": "2022-06-13T19:49:38.869Z"
   },
   {
    "duration": 19,
    "start_time": "2022-06-13T19:49:39.753Z"
   },
   {
    "duration": 32,
    "start_time": "2022-06-13T19:53:15.440Z"
   },
   {
    "duration": 2628,
    "start_time": "2022-06-13T19:53:55.878Z"
   },
   {
    "duration": 14,
    "start_time": "2022-06-13T19:54:29.772Z"
   },
   {
    "duration": 386,
    "start_time": "2022-06-14T10:41:16.162Z"
   },
   {
    "duration": 116,
    "start_time": "2022-06-14T10:41:16.550Z"
   },
   {
    "duration": 95,
    "start_time": "2022-06-14T10:41:16.668Z"
   },
   {
    "duration": 46,
    "start_time": "2022-06-14T10:41:16.765Z"
   },
   {
    "duration": 51,
    "start_time": "2022-06-14T10:41:16.813Z"
   },
   {
    "duration": 16,
    "start_time": "2022-06-14T10:41:16.865Z"
   },
   {
    "duration": 14,
    "start_time": "2022-06-14T10:41:16.883Z"
   },
   {
    "duration": 16,
    "start_time": "2022-06-14T10:41:16.898Z"
   },
   {
    "duration": 22,
    "start_time": "2022-06-14T10:41:16.915Z"
   },
   {
    "duration": 34,
    "start_time": "2022-06-14T10:41:16.939Z"
   },
   {
    "duration": 11,
    "start_time": "2022-06-14T10:41:16.975Z"
   },
   {
    "duration": 14,
    "start_time": "2022-06-14T10:41:16.987Z"
   },
   {
    "duration": 34,
    "start_time": "2022-06-14T10:41:17.002Z"
   },
   {
    "duration": 19,
    "start_time": "2022-06-14T10:41:17.038Z"
   },
   {
    "duration": 27,
    "start_time": "2022-06-14T10:41:17.058Z"
   },
   {
    "duration": 23,
    "start_time": "2022-06-14T10:41:17.086Z"
   },
   {
    "duration": 4,
    "start_time": "2022-06-14T10:41:17.111Z"
   },
   {
    "duration": 20,
    "start_time": "2022-06-14T10:41:17.117Z"
   },
   {
    "duration": 21,
    "start_time": "2022-06-14T10:41:17.139Z"
   },
   {
    "duration": 8,
    "start_time": "2022-06-14T10:41:17.162Z"
   },
   {
    "duration": 21,
    "start_time": "2022-06-14T10:41:17.171Z"
   },
   {
    "duration": 7,
    "start_time": "2022-06-14T10:41:17.193Z"
   },
   {
    "duration": 17,
    "start_time": "2022-06-14T10:41:17.201Z"
   },
   {
    "duration": 15,
    "start_time": "2022-06-14T10:41:17.220Z"
   },
   {
    "duration": 5,
    "start_time": "2022-06-14T10:53:16.060Z"
   },
   {
    "duration": 22,
    "start_time": "2022-06-14T10:53:24.791Z"
   },
   {
    "duration": 79,
    "start_time": "2022-06-14T10:55:55.383Z"
   },
   {
    "duration": 11,
    "start_time": "2022-06-14T10:59:19.025Z"
   },
   {
    "duration": 18,
    "start_time": "2022-06-14T10:59:42.486Z"
   },
   {
    "duration": 18,
    "start_time": "2022-06-14T11:00:00.414Z"
   },
   {
    "duration": 847,
    "start_time": "2022-06-14T11:07:09.582Z"
   },
   {
    "duration": 10,
    "start_time": "2022-06-14T11:13:16.632Z"
   },
   {
    "duration": 45,
    "start_time": "2022-06-14T11:14:01.744Z"
   },
   {
    "duration": 31,
    "start_time": "2022-06-14T11:14:14.766Z"
   },
   {
    "duration": 45,
    "start_time": "2022-06-14T11:14:24.233Z"
   },
   {
    "duration": 32,
    "start_time": "2022-06-14T11:14:46.910Z"
   },
   {
    "duration": 7,
    "start_time": "2022-06-14T11:16:31.095Z"
   },
   {
    "duration": 35,
    "start_time": "2022-06-14T11:16:58.959Z"
   },
   {
    "duration": 38,
    "start_time": "2022-06-14T11:22:58.822Z"
   },
   {
    "duration": 26,
    "start_time": "2022-06-14T11:23:36.970Z"
   },
   {
    "duration": 5,
    "start_time": "2022-06-14T11:24:12.958Z"
   },
   {
    "duration": 35,
    "start_time": "2022-06-14T11:24:19.018Z"
   },
   {
    "duration": 6,
    "start_time": "2022-06-14T11:25:19.236Z"
   },
   {
    "duration": 3,
    "start_time": "2022-06-14T11:25:21.443Z"
   },
   {
    "duration": 26,
    "start_time": "2022-06-14T11:25:22.460Z"
   },
   {
    "duration": 14,
    "start_time": "2022-06-14T11:25:43.823Z"
   },
   {
    "duration": 3,
    "start_time": "2022-06-14T11:25:44.506Z"
   },
   {
    "duration": 27,
    "start_time": "2022-06-14T11:25:45.765Z"
   },
   {
    "duration": 392,
    "start_time": "2022-06-14T11:26:21.478Z"
   },
   {
    "duration": 50,
    "start_time": "2022-06-14T11:26:21.872Z"
   },
   {
    "duration": 32,
    "start_time": "2022-06-14T11:26:21.927Z"
   },
   {
    "duration": 23,
    "start_time": "2022-06-14T11:26:21.960Z"
   },
   {
    "duration": 21,
    "start_time": "2022-06-14T11:26:21.986Z"
   },
   {
    "duration": 23,
    "start_time": "2022-06-14T11:26:22.009Z"
   },
   {
    "duration": 10,
    "start_time": "2022-06-14T11:26:22.036Z"
   },
   {
    "duration": 24,
    "start_time": "2022-06-14T11:26:22.048Z"
   },
   {
    "duration": 16,
    "start_time": "2022-06-14T11:26:22.074Z"
   },
   {
    "duration": 31,
    "start_time": "2022-06-14T11:26:22.092Z"
   },
   {
    "duration": 15,
    "start_time": "2022-06-14T11:26:22.133Z"
   },
   {
    "duration": 29,
    "start_time": "2022-06-14T11:26:22.149Z"
   },
   {
    "duration": 31,
    "start_time": "2022-06-14T11:26:22.181Z"
   },
   {
    "duration": 36,
    "start_time": "2022-06-14T11:26:22.215Z"
   },
   {
    "duration": 18,
    "start_time": "2022-06-14T11:26:22.253Z"
   },
   {
    "duration": 30,
    "start_time": "2022-06-14T11:26:22.273Z"
   },
   {
    "duration": 8,
    "start_time": "2022-06-14T11:26:22.305Z"
   },
   {
    "duration": 16,
    "start_time": "2022-06-14T11:26:22.315Z"
   },
   {
    "duration": 27,
    "start_time": "2022-06-14T11:26:22.335Z"
   },
   {
    "duration": 17,
    "start_time": "2022-06-14T11:26:22.364Z"
   },
   {
    "duration": 17,
    "start_time": "2022-06-14T11:26:22.383Z"
   },
   {
    "duration": 12,
    "start_time": "2022-06-14T11:26:22.401Z"
   },
   {
    "duration": 22,
    "start_time": "2022-06-14T11:26:22.416Z"
   },
   {
    "duration": 43,
    "start_time": "2022-06-14T11:26:22.441Z"
   },
   {
    "duration": 13,
    "start_time": "2022-06-14T11:26:22.486Z"
   },
   {
    "duration": 37,
    "start_time": "2022-06-14T11:26:22.502Z"
   },
   {
    "duration": 48,
    "start_time": "2022-06-14T11:26:22.542Z"
   },
   {
    "duration": 4,
    "start_time": "2022-06-14T11:26:22.592Z"
   },
   {
    "duration": 26,
    "start_time": "2022-06-14T11:26:22.598Z"
   },
   {
    "duration": 74,
    "start_time": "2022-06-14T11:26:22.626Z"
   },
   {
    "duration": 5,
    "start_time": "2022-06-14T11:33:12.679Z"
   },
   {
    "duration": 37,
    "start_time": "2022-06-14T11:33:18.544Z"
   },
   {
    "duration": 408,
    "start_time": "2022-06-14T11:33:26.379Z"
   },
   {
    "duration": 63,
    "start_time": "2022-06-14T11:33:26.790Z"
   },
   {
    "duration": 21,
    "start_time": "2022-06-14T11:33:26.855Z"
   },
   {
    "duration": 21,
    "start_time": "2022-06-14T11:33:26.878Z"
   },
   {
    "duration": 18,
    "start_time": "2022-06-14T11:33:26.901Z"
   },
   {
    "duration": 27,
    "start_time": "2022-06-14T11:33:26.921Z"
   },
   {
    "duration": 11,
    "start_time": "2022-06-14T11:33:26.950Z"
   },
   {
    "duration": 16,
    "start_time": "2022-06-14T11:33:26.963Z"
   },
   {
    "duration": 15,
    "start_time": "2022-06-14T11:33:26.981Z"
   },
   {
    "duration": 32,
    "start_time": "2022-06-14T11:33:26.999Z"
   },
   {
    "duration": 9,
    "start_time": "2022-06-14T11:33:27.033Z"
   },
   {
    "duration": 16,
    "start_time": "2022-06-14T11:33:27.045Z"
   },
   {
    "duration": 25,
    "start_time": "2022-06-14T11:33:27.063Z"
   },
   {
    "duration": 19,
    "start_time": "2022-06-14T11:33:27.090Z"
   },
   {
    "duration": 19,
    "start_time": "2022-06-14T11:33:27.131Z"
   },
   {
    "duration": 18,
    "start_time": "2022-06-14T11:33:27.153Z"
   },
   {
    "duration": 17,
    "start_time": "2022-06-14T11:33:27.173Z"
   },
   {
    "duration": 7,
    "start_time": "2022-06-14T11:33:27.193Z"
   },
   {
    "duration": 14,
    "start_time": "2022-06-14T11:33:27.201Z"
   },
   {
    "duration": 10,
    "start_time": "2022-06-14T11:33:27.217Z"
   },
   {
    "duration": 23,
    "start_time": "2022-06-14T11:33:27.231Z"
   },
   {
    "duration": 8,
    "start_time": "2022-06-14T11:33:27.256Z"
   },
   {
    "duration": 11,
    "start_time": "2022-06-14T11:33:27.265Z"
   },
   {
    "duration": 19,
    "start_time": "2022-06-14T11:33:27.277Z"
   },
   {
    "duration": 4,
    "start_time": "2022-06-14T11:33:27.298Z"
   },
   {
    "duration": 39,
    "start_time": "2022-06-14T11:33:27.304Z"
   },
   {
    "duration": 26,
    "start_time": "2022-06-14T11:33:27.344Z"
   },
   {
    "duration": 3,
    "start_time": "2022-06-14T11:33:27.373Z"
   },
   {
    "duration": 8,
    "start_time": "2022-06-14T11:33:27.377Z"
   },
   {
    "duration": 57,
    "start_time": "2022-06-14T11:33:27.387Z"
   },
   {
    "duration": 4,
    "start_time": "2022-06-14T11:34:40.212Z"
   },
   {
    "duration": 25,
    "start_time": "2022-06-14T11:34:41.482Z"
   },
   {
    "duration": 395,
    "start_time": "2022-06-14T11:34:50.917Z"
   },
   {
    "duration": 59,
    "start_time": "2022-06-14T11:34:51.314Z"
   },
   {
    "duration": 21,
    "start_time": "2022-06-14T11:34:51.375Z"
   },
   {
    "duration": 22,
    "start_time": "2022-06-14T11:34:51.398Z"
   },
   {
    "duration": 22,
    "start_time": "2022-06-14T11:34:51.421Z"
   },
   {
    "duration": 23,
    "start_time": "2022-06-14T11:34:51.445Z"
   },
   {
    "duration": 9,
    "start_time": "2022-06-14T11:34:51.469Z"
   },
   {
    "duration": 19,
    "start_time": "2022-06-14T11:34:51.479Z"
   },
   {
    "duration": 9,
    "start_time": "2022-06-14T11:34:51.500Z"
   },
   {
    "duration": 17,
    "start_time": "2022-06-14T11:34:51.524Z"
   },
   {
    "duration": 27,
    "start_time": "2022-06-14T11:34:51.546Z"
   },
   {
    "duration": 16,
    "start_time": "2022-06-14T11:34:51.575Z"
   },
   {
    "duration": 28,
    "start_time": "2022-06-14T11:34:51.593Z"
   },
   {
    "duration": 18,
    "start_time": "2022-06-14T11:34:51.626Z"
   },
   {
    "duration": 46,
    "start_time": "2022-06-14T11:34:51.646Z"
   },
   {
    "duration": 31,
    "start_time": "2022-06-14T11:34:51.694Z"
   },
   {
    "duration": 23,
    "start_time": "2022-06-14T11:34:51.728Z"
   },
   {
    "duration": 16,
    "start_time": "2022-06-14T11:34:51.753Z"
   },
   {
    "duration": 12,
    "start_time": "2022-06-14T11:34:51.771Z"
   },
   {
    "duration": 16,
    "start_time": "2022-06-14T11:34:51.785Z"
   },
   {
    "duration": 21,
    "start_time": "2022-06-14T11:34:51.803Z"
   },
   {
    "duration": 21,
    "start_time": "2022-06-14T11:34:51.827Z"
   },
   {
    "duration": 13,
    "start_time": "2022-06-14T11:34:51.850Z"
   },
   {
    "duration": 26,
    "start_time": "2022-06-14T11:34:51.864Z"
   },
   {
    "duration": 4,
    "start_time": "2022-06-14T11:34:51.892Z"
   },
   {
    "duration": 64,
    "start_time": "2022-06-14T11:34:51.898Z"
   },
   {
    "duration": 25,
    "start_time": "2022-06-14T11:34:51.964Z"
   },
   {
    "duration": 3,
    "start_time": "2022-06-14T11:34:51.993Z"
   },
   {
    "duration": 67,
    "start_time": "2022-06-14T11:34:51.998Z"
   },
   {
    "duration": 61,
    "start_time": "2022-06-14T11:34:52.067Z"
   },
   {
    "duration": 4,
    "start_time": "2022-06-14T11:39:01.767Z"
   },
   {
    "duration": 414,
    "start_time": "2022-06-14T11:39:19.235Z"
   },
   {
    "duration": 5049,
    "start_time": "2022-06-14T11:39:19.651Z"
   },
   {
    "duration": 20,
    "start_time": "2022-06-14T11:39:24.702Z"
   },
   {
    "duration": 31,
    "start_time": "2022-06-14T11:39:24.725Z"
   },
   {
    "duration": 18,
    "start_time": "2022-06-14T11:39:24.758Z"
   },
   {
    "duration": 18,
    "start_time": "2022-06-14T11:39:24.777Z"
   },
   {
    "duration": 10,
    "start_time": "2022-06-14T11:39:24.797Z"
   },
   {
    "duration": 13,
    "start_time": "2022-06-14T11:39:24.809Z"
   },
   {
    "duration": 25,
    "start_time": "2022-06-14T11:39:24.823Z"
   },
   {
    "duration": 13,
    "start_time": "2022-06-14T11:39:24.851Z"
   },
   {
    "duration": 7,
    "start_time": "2022-06-14T11:39:24.865Z"
   },
   {
    "duration": 9,
    "start_time": "2022-06-14T11:39:24.873Z"
   },
   {
    "duration": 21,
    "start_time": "2022-06-14T11:39:24.883Z"
   },
   {
    "duration": 23,
    "start_time": "2022-06-14T11:39:24.905Z"
   },
   {
    "duration": 12,
    "start_time": "2022-06-14T11:39:24.934Z"
   },
   {
    "duration": 17,
    "start_time": "2022-06-14T11:39:24.948Z"
   },
   {
    "duration": 6,
    "start_time": "2022-06-14T11:39:24.967Z"
   },
   {
    "duration": 6,
    "start_time": "2022-06-14T11:39:24.974Z"
   },
   {
    "duration": 7,
    "start_time": "2022-06-14T11:39:24.982Z"
   },
   {
    "duration": 10,
    "start_time": "2022-06-14T11:39:24.990Z"
   },
   {
    "duration": 5,
    "start_time": "2022-06-14T11:39:25.002Z"
   },
   {
    "duration": 17,
    "start_time": "2022-06-14T11:39:25.024Z"
   },
   {
    "duration": 5,
    "start_time": "2022-06-14T11:39:25.043Z"
   },
   {
    "duration": 17,
    "start_time": "2022-06-14T11:39:25.050Z"
   },
   {
    "duration": 4,
    "start_time": "2022-06-14T11:39:25.069Z"
   },
   {
    "duration": 25,
    "start_time": "2022-06-14T11:39:25.075Z"
   },
   {
    "duration": 6,
    "start_time": "2022-06-14T11:39:25.101Z"
   },
   {
    "duration": 26,
    "start_time": "2022-06-14T11:39:25.128Z"
   },
   {
    "duration": 4,
    "start_time": "2022-06-14T11:39:25.155Z"
   },
   {
    "duration": 6,
    "start_time": "2022-06-14T11:39:25.161Z"
   },
   {
    "duration": 24,
    "start_time": "2022-06-14T11:39:25.168Z"
   },
   {
    "duration": 453,
    "start_time": "2022-06-14T11:45:35.535Z"
   },
   {
    "duration": 65,
    "start_time": "2022-06-14T11:45:35.991Z"
   },
   {
    "duration": 21,
    "start_time": "2022-06-14T11:45:36.058Z"
   },
   {
    "duration": 22,
    "start_time": "2022-06-14T11:45:36.080Z"
   },
   {
    "duration": 18,
    "start_time": "2022-06-14T11:45:36.103Z"
   },
   {
    "duration": 23,
    "start_time": "2022-06-14T11:45:36.122Z"
   },
   {
    "duration": 10,
    "start_time": "2022-06-14T11:45:36.147Z"
   },
   {
    "duration": 16,
    "start_time": "2022-06-14T11:45:36.158Z"
   },
   {
    "duration": 13,
    "start_time": "2022-06-14T11:45:36.176Z"
   },
   {
    "duration": 14,
    "start_time": "2022-06-14T11:45:36.191Z"
   },
   {
    "duration": 41,
    "start_time": "2022-06-14T11:45:36.207Z"
   },
   {
    "duration": 12,
    "start_time": "2022-06-14T11:45:36.250Z"
   },
   {
    "duration": 21,
    "start_time": "2022-06-14T11:45:36.263Z"
   },
   {
    "duration": 19,
    "start_time": "2022-06-14T11:45:36.285Z"
   },
   {
    "duration": 12,
    "start_time": "2022-06-14T11:45:36.305Z"
   },
   {
    "duration": 25,
    "start_time": "2022-06-14T11:45:36.318Z"
   },
   {
    "duration": 6,
    "start_time": "2022-06-14T11:45:36.345Z"
   },
   {
    "duration": 7,
    "start_time": "2022-06-14T11:45:36.353Z"
   },
   {
    "duration": 19,
    "start_time": "2022-06-14T11:45:36.362Z"
   },
   {
    "duration": 8,
    "start_time": "2022-06-14T11:45:36.382Z"
   },
   {
    "duration": 12,
    "start_time": "2022-06-14T11:45:36.391Z"
   },
   {
    "duration": 10,
    "start_time": "2022-06-14T11:45:36.405Z"
   },
   {
    "duration": 29,
    "start_time": "2022-06-14T11:45:36.416Z"
   },
   {
    "duration": 20,
    "start_time": "2022-06-14T11:45:36.447Z"
   },
   {
    "duration": 4,
    "start_time": "2022-06-14T11:45:36.469Z"
   },
   {
    "duration": 23,
    "start_time": "2022-06-14T11:45:36.474Z"
   },
   {
    "duration": 21,
    "start_time": "2022-06-14T11:45:36.499Z"
   },
   {
    "duration": 36,
    "start_time": "2022-06-14T11:45:36.523Z"
   },
   {
    "duration": 5,
    "start_time": "2022-06-14T11:45:36.561Z"
   },
   {
    "duration": 8,
    "start_time": "2022-06-14T11:45:36.567Z"
   },
   {
    "duration": 25,
    "start_time": "2022-06-14T11:45:36.576Z"
   },
   {
    "duration": 369,
    "start_time": "2022-06-14T11:46:44.483Z"
   },
   {
    "duration": 48,
    "start_time": "2022-06-14T11:46:44.854Z"
   },
   {
    "duration": 31,
    "start_time": "2022-06-14T11:46:44.904Z"
   },
   {
    "duration": 21,
    "start_time": "2022-06-14T11:46:44.937Z"
   },
   {
    "duration": 17,
    "start_time": "2022-06-14T11:46:44.960Z"
   },
   {
    "duration": 16,
    "start_time": "2022-06-14T11:46:44.979Z"
   },
   {
    "duration": 7,
    "start_time": "2022-06-14T11:46:44.997Z"
   },
   {
    "duration": 11,
    "start_time": "2022-06-14T11:46:45.005Z"
   },
   {
    "duration": 25,
    "start_time": "2022-06-14T11:46:45.018Z"
   },
   {
    "duration": 18,
    "start_time": "2022-06-14T11:46:45.045Z"
   },
   {
    "duration": 7,
    "start_time": "2022-06-14T11:46:45.065Z"
   },
   {
    "duration": 13,
    "start_time": "2022-06-14T11:46:45.073Z"
   },
   {
    "duration": 18,
    "start_time": "2022-06-14T11:46:45.087Z"
   },
   {
    "duration": 31,
    "start_time": "2022-06-14T11:46:45.107Z"
   },
   {
    "duration": 16,
    "start_time": "2022-06-14T11:46:45.139Z"
   },
   {
    "duration": 19,
    "start_time": "2022-06-14T11:46:45.157Z"
   },
   {
    "duration": 6,
    "start_time": "2022-06-14T11:46:45.178Z"
   },
   {
    "duration": 6,
    "start_time": "2022-06-14T11:46:45.186Z"
   },
   {
    "duration": 19,
    "start_time": "2022-06-14T11:46:45.194Z"
   },
   {
    "duration": 7,
    "start_time": "2022-06-14T11:46:45.214Z"
   },
   {
    "duration": 19,
    "start_time": "2022-06-14T11:46:45.222Z"
   },
   {
    "duration": 6,
    "start_time": "2022-06-14T11:46:45.243Z"
   },
   {
    "duration": 8,
    "start_time": "2022-06-14T11:46:45.251Z"
   },
   {
    "duration": 20,
    "start_time": "2022-06-14T11:46:45.260Z"
   },
   {
    "duration": 4,
    "start_time": "2022-06-14T11:46:45.281Z"
   },
   {
    "duration": 21,
    "start_time": "2022-06-14T11:46:45.286Z"
   },
   {
    "duration": 29,
    "start_time": "2022-06-14T11:46:45.309Z"
   },
   {
    "duration": 3,
    "start_time": "2022-06-14T11:46:45.341Z"
   },
   {
    "duration": 6,
    "start_time": "2022-06-14T11:46:45.345Z"
   },
   {
    "duration": 25,
    "start_time": "2022-06-14T11:46:45.353Z"
   },
   {
    "duration": 4,
    "start_time": "2022-06-14T11:47:23.579Z"
   },
   {
    "duration": 21,
    "start_time": "2022-06-14T11:47:25.899Z"
   },
   {
    "duration": 13,
    "start_time": "2022-06-14T11:49:15.200Z"
   },
   {
    "duration": 422,
    "start_time": "2022-06-14T11:49:59.617Z"
   },
   {
    "duration": 50,
    "start_time": "2022-06-14T11:50:00.041Z"
   },
   {
    "duration": 22,
    "start_time": "2022-06-14T11:50:00.092Z"
   },
   {
    "duration": 29,
    "start_time": "2022-06-14T11:50:00.116Z"
   },
   {
    "duration": 18,
    "start_time": "2022-06-14T11:50:00.147Z"
   },
   {
    "duration": 16,
    "start_time": "2022-06-14T11:50:00.167Z"
   },
   {
    "duration": 14,
    "start_time": "2022-06-14T11:50:00.185Z"
   },
   {
    "duration": 20,
    "start_time": "2022-06-14T11:50:00.201Z"
   },
   {
    "duration": 21,
    "start_time": "2022-06-14T11:50:00.222Z"
   },
   {
    "duration": 35,
    "start_time": "2022-06-14T11:50:00.248Z"
   },
   {
    "duration": 14,
    "start_time": "2022-06-14T11:50:00.285Z"
   },
   {
    "duration": 33,
    "start_time": "2022-06-14T11:50:00.301Z"
   },
   {
    "duration": 30,
    "start_time": "2022-06-14T11:50:00.337Z"
   },
   {
    "duration": 22,
    "start_time": "2022-06-14T11:50:00.368Z"
   },
   {
    "duration": 16,
    "start_time": "2022-06-14T11:50:00.391Z"
   },
   {
    "duration": 27,
    "start_time": "2022-06-14T11:50:00.409Z"
   },
   {
    "duration": 8,
    "start_time": "2022-06-14T11:50:00.437Z"
   },
   {
    "duration": 7,
    "start_time": "2022-06-14T11:50:00.447Z"
   },
   {
    "duration": 15,
    "start_time": "2022-06-14T11:50:00.455Z"
   },
   {
    "duration": 7,
    "start_time": "2022-06-14T11:50:00.472Z"
   },
   {
    "duration": 20,
    "start_time": "2022-06-14T11:50:00.480Z"
   },
   {
    "duration": 15,
    "start_time": "2022-06-14T11:50:00.501Z"
   },
   {
    "duration": 21,
    "start_time": "2022-06-14T11:50:00.518Z"
   },
   {
    "duration": 26,
    "start_time": "2022-06-14T11:50:00.540Z"
   },
   {
    "duration": 4,
    "start_time": "2022-06-14T11:50:00.567Z"
   },
   {
    "duration": 22,
    "start_time": "2022-06-14T11:50:00.573Z"
   },
   {
    "duration": 29,
    "start_time": "2022-06-14T11:50:00.597Z"
   },
   {
    "duration": 4,
    "start_time": "2022-06-14T11:50:00.640Z"
   },
   {
    "duration": 7,
    "start_time": "2022-06-14T11:50:00.646Z"
   },
   {
    "duration": 28,
    "start_time": "2022-06-14T11:50:00.655Z"
   },
   {
    "duration": 3,
    "start_time": "2022-06-14T12:12:50.339Z"
   },
   {
    "duration": 80,
    "start_time": "2022-06-14T12:13:21.204Z"
   },
   {
    "duration": 238,
    "start_time": "2022-06-14T12:14:59.740Z"
   },
   {
    "duration": 4,
    "start_time": "2022-06-14T12:15:04.851Z"
   },
   {
    "duration": 246,
    "start_time": "2022-06-14T12:15:05.554Z"
   },
   {
    "duration": 4,
    "start_time": "2022-06-14T12:19:03.586Z"
   },
   {
    "duration": 38,
    "start_time": "2022-06-14T12:19:05.246Z"
   },
   {
    "duration": 5,
    "start_time": "2022-06-14T12:19:44.283Z"
   },
   {
    "duration": 146,
    "start_time": "2022-06-14T12:19:45.251Z"
   },
   {
    "duration": 4,
    "start_time": "2022-06-14T12:20:27.423Z"
   },
   {
    "duration": 145,
    "start_time": "2022-06-14T12:20:28.395Z"
   },
   {
    "duration": 4,
    "start_time": "2022-06-14T12:27:31.553Z"
   },
   {
    "duration": 192,
    "start_time": "2022-06-14T12:27:33.887Z"
   },
   {
    "duration": 4,
    "start_time": "2022-06-14T12:27:57.060Z"
   },
   {
    "duration": 4,
    "start_time": "2022-06-14T12:29:50.484Z"
   },
   {
    "duration": 185,
    "start_time": "2022-06-14T12:29:51.352Z"
   },
   {
    "duration": 4,
    "start_time": "2022-06-14T12:30:31.030Z"
   },
   {
    "duration": 177,
    "start_time": "2022-06-14T12:30:31.898Z"
   },
   {
    "duration": 4,
    "start_time": "2022-06-14T12:30:44.079Z"
   },
   {
    "duration": 125,
    "start_time": "2022-06-14T12:30:44.882Z"
   },
   {
    "duration": 5,
    "start_time": "2022-06-14T12:31:06.235Z"
   },
   {
    "duration": 149,
    "start_time": "2022-06-14T12:31:07.543Z"
   },
   {
    "duration": 486,
    "start_time": "2022-06-14T12:33:44.882Z"
   },
   {
    "duration": 3,
    "start_time": "2022-06-14T12:33:51.921Z"
   },
   {
    "duration": 248,
    "start_time": "2022-06-14T12:33:52.760Z"
   },
   {
    "duration": 182,
    "start_time": "2022-06-14T12:34:29.008Z"
   },
   {
    "duration": 3,
    "start_time": "2022-06-14T12:35:03.784Z"
   },
   {
    "duration": 137,
    "start_time": "2022-06-14T12:35:04.775Z"
   },
   {
    "duration": 4,
    "start_time": "2022-06-14T12:35:32.023Z"
   },
   {
    "duration": 135,
    "start_time": "2022-06-14T12:35:32.989Z"
   },
   {
    "duration": 4,
    "start_time": "2022-06-14T12:37:17.341Z"
   },
   {
    "duration": 141,
    "start_time": "2022-06-14T12:37:18.753Z"
   },
   {
    "duration": 5,
    "start_time": "2022-06-14T12:37:43.904Z"
   },
   {
    "duration": 166,
    "start_time": "2022-06-14T12:37:44.822Z"
   },
   {
    "duration": 3,
    "start_time": "2022-06-14T12:38:06.545Z"
   },
   {
    "duration": 185,
    "start_time": "2022-06-14T12:38:08.353Z"
   },
   {
    "duration": 4,
    "start_time": "2022-06-14T12:38:14.958Z"
   },
   {
    "duration": 199,
    "start_time": "2022-06-14T12:38:15.765Z"
   },
   {
    "duration": 4,
    "start_time": "2022-06-14T12:40:37.244Z"
   },
   {
    "duration": 170,
    "start_time": "2022-06-14T12:40:38.531Z"
   },
   {
    "duration": 5,
    "start_time": "2022-06-14T12:40:52.895Z"
   },
   {
    "duration": 155,
    "start_time": "2022-06-14T12:40:54.128Z"
   },
   {
    "duration": 6,
    "start_time": "2022-06-14T12:41:09.153Z"
   },
   {
    "duration": 157,
    "start_time": "2022-06-14T12:41:10.879Z"
   },
   {
    "duration": 4,
    "start_time": "2022-06-14T12:41:20.390Z"
   },
   {
    "duration": 251,
    "start_time": "2022-06-14T12:41:21.005Z"
   },
   {
    "duration": 5,
    "start_time": "2022-06-14T12:42:12.917Z"
   },
   {
    "duration": 226,
    "start_time": "2022-06-14T12:42:13.939Z"
   },
   {
    "duration": 4,
    "start_time": "2022-06-14T12:42:45.848Z"
   },
   {
    "duration": 154,
    "start_time": "2022-06-14T12:42:46.740Z"
   },
   {
    "duration": 4,
    "start_time": "2022-06-14T12:43:58.947Z"
   },
   {
    "duration": 152,
    "start_time": "2022-06-14T12:43:59.702Z"
   },
   {
    "duration": 218,
    "start_time": "2022-06-14T12:44:31.875Z"
   },
   {
    "duration": 247,
    "start_time": "2022-06-14T12:45:28.558Z"
   },
   {
    "duration": 155,
    "start_time": "2022-06-14T15:02:07.579Z"
   },
   {
    "duration": 161,
    "start_time": "2022-06-14T15:03:33.507Z"
   },
   {
    "duration": 164,
    "start_time": "2022-06-14T15:04:23.719Z"
   },
   {
    "duration": 5,
    "start_time": "2022-06-14T15:13:54.409Z"
   },
   {
    "duration": 12,
    "start_time": "2022-06-14T15:15:39.891Z"
   },
   {
    "duration": 4,
    "start_time": "2022-06-14T15:15:44.145Z"
   },
   {
    "duration": 168,
    "start_time": "2022-06-14T15:15:47.077Z"
   },
   {
    "duration": 4,
    "start_time": "2022-06-14T15:16:07.360Z"
   },
   {
    "duration": 280,
    "start_time": "2022-06-14T15:16:08.973Z"
   },
   {
    "duration": 147,
    "start_time": "2022-06-14T15:17:11.211Z"
   },
   {
    "duration": 186,
    "start_time": "2022-06-14T15:17:22.683Z"
   },
   {
    "duration": 144,
    "start_time": "2022-06-14T15:17:29.541Z"
   },
   {
    "duration": 148,
    "start_time": "2022-06-14T15:18:40.040Z"
   },
   {
    "duration": 172,
    "start_time": "2022-06-14T15:19:22.840Z"
   },
   {
    "duration": 166,
    "start_time": "2022-06-14T15:19:36.923Z"
   },
   {
    "duration": 212,
    "start_time": "2022-06-14T15:20:33.138Z"
   },
   {
    "duration": 1362,
    "start_time": "2022-06-14T19:35:08.876Z"
   },
   {
    "duration": 165,
    "start_time": "2022-06-14T19:35:10.241Z"
   },
   {
    "duration": 48,
    "start_time": "2022-06-14T19:35:10.407Z"
   },
   {
    "duration": 100,
    "start_time": "2022-06-14T19:35:10.458Z"
   },
   {
    "duration": 51,
    "start_time": "2022-06-14T19:35:10.560Z"
   },
   {
    "duration": 14,
    "start_time": "2022-06-14T19:35:10.612Z"
   },
   {
    "duration": 8,
    "start_time": "2022-06-14T19:35:10.627Z"
   },
   {
    "duration": 11,
    "start_time": "2022-06-14T19:35:10.636Z"
   },
   {
    "duration": 9,
    "start_time": "2022-06-14T19:35:10.648Z"
   },
   {
    "duration": 10,
    "start_time": "2022-06-14T19:35:10.660Z"
   },
   {
    "duration": 6,
    "start_time": "2022-06-14T19:35:10.672Z"
   },
   {
    "duration": 15,
    "start_time": "2022-06-14T19:35:10.679Z"
   },
   {
    "duration": 35,
    "start_time": "2022-06-14T19:35:10.695Z"
   },
   {
    "duration": 11,
    "start_time": "2022-06-14T19:35:10.731Z"
   },
   {
    "duration": 14,
    "start_time": "2022-06-14T19:35:10.744Z"
   },
   {
    "duration": 15,
    "start_time": "2022-06-14T19:35:10.760Z"
   },
   {
    "duration": 20,
    "start_time": "2022-06-14T19:35:10.776Z"
   },
   {
    "duration": 5,
    "start_time": "2022-06-14T19:35:10.798Z"
   },
   {
    "duration": 27,
    "start_time": "2022-06-14T19:35:10.805Z"
   },
   {
    "duration": 11,
    "start_time": "2022-06-14T19:35:10.834Z"
   },
   {
    "duration": 17,
    "start_time": "2022-06-14T19:35:10.848Z"
   },
   {
    "duration": 17,
    "start_time": "2022-06-14T19:35:10.868Z"
   },
   {
    "duration": 35,
    "start_time": "2022-06-14T19:35:10.887Z"
   },
   {
    "duration": 32,
    "start_time": "2022-06-14T19:35:10.924Z"
   },
   {
    "duration": 5,
    "start_time": "2022-06-14T19:35:10.958Z"
   },
   {
    "duration": 45,
    "start_time": "2022-06-14T19:35:10.965Z"
   },
   {
    "duration": 40,
    "start_time": "2022-06-14T19:35:11.013Z"
   },
   {
    "duration": 3,
    "start_time": "2022-06-14T19:35:11.056Z"
   },
   {
    "duration": 51,
    "start_time": "2022-06-14T19:35:11.061Z"
   },
   {
    "duration": 9,
    "start_time": "2022-06-14T19:35:11.114Z"
   },
   {
    "duration": 175,
    "start_time": "2022-06-14T19:35:11.125Z"
   },
   {
    "duration": 150,
    "start_time": "2022-06-14T19:35:11.301Z"
   },
   {
    "duration": 133,
    "start_time": "2022-06-14T19:35:11.453Z"
   },
   {
    "duration": 154,
    "start_time": "2022-06-14T19:35:11.588Z"
   },
   {
    "duration": 188,
    "start_time": "2022-06-14T19:35:11.743Z"
   },
   {
    "duration": 89,
    "start_time": "2022-06-14T19:43:53.211Z"
   },
   {
    "duration": 7,
    "start_time": "2022-06-14T19:46:07.323Z"
   },
   {
    "duration": 6,
    "start_time": "2022-06-14T19:46:43.461Z"
   },
   {
    "duration": 7,
    "start_time": "2022-06-14T19:46:57.911Z"
   },
   {
    "duration": 9,
    "start_time": "2022-06-14T19:47:28.902Z"
   },
   {
    "duration": 9,
    "start_time": "2022-06-14T19:48:46.123Z"
   },
   {
    "duration": 5,
    "start_time": "2022-06-14T19:48:57.947Z"
   },
   {
    "duration": 6,
    "start_time": "2022-06-14T19:53:08.271Z"
   },
   {
    "duration": 5,
    "start_time": "2022-06-14T19:53:29.548Z"
   },
   {
    "duration": 6,
    "start_time": "2022-06-14T19:54:04.191Z"
   },
   {
    "duration": 6,
    "start_time": "2022-06-14T19:54:27.176Z"
   },
   {
    "duration": 7,
    "start_time": "2022-06-14T19:54:37.690Z"
   },
   {
    "duration": 6,
    "start_time": "2022-06-14T19:58:18.154Z"
   },
   {
    "duration": 12,
    "start_time": "2022-06-14T20:02:01.879Z"
   },
   {
    "duration": 5,
    "start_time": "2022-06-14T20:04:06.359Z"
   },
   {
    "duration": 8,
    "start_time": "2022-06-14T20:04:23.025Z"
   },
   {
    "duration": 5,
    "start_time": "2022-06-14T20:05:36.288Z"
   },
   {
    "duration": 8,
    "start_time": "2022-06-14T20:06:08.571Z"
   },
   {
    "duration": 28,
    "start_time": "2022-06-14T20:06:44.198Z"
   },
   {
    "duration": 12,
    "start_time": "2022-06-14T20:07:19.341Z"
   },
   {
    "duration": 23,
    "start_time": "2022-06-14T20:07:23.001Z"
   },
   {
    "duration": 6,
    "start_time": "2022-06-14T20:07:39.938Z"
   },
   {
    "duration": 22,
    "start_time": "2022-06-14T20:07:41.078Z"
   },
   {
    "duration": 1075,
    "start_time": "2022-06-14T20:08:01.609Z"
   },
   {
    "duration": 50,
    "start_time": "2022-06-14T20:08:02.685Z"
   },
   {
    "duration": 20,
    "start_time": "2022-06-14T20:08:02.737Z"
   },
   {
    "duration": 21,
    "start_time": "2022-06-14T20:08:02.759Z"
   },
   {
    "duration": 18,
    "start_time": "2022-06-14T20:08:02.781Z"
   },
   {
    "duration": 13,
    "start_time": "2022-06-14T20:08:02.800Z"
   },
   {
    "duration": 8,
    "start_time": "2022-06-14T20:08:02.814Z"
   },
   {
    "duration": 13,
    "start_time": "2022-06-14T20:08:02.823Z"
   },
   {
    "duration": 21,
    "start_time": "2022-06-14T20:08:02.838Z"
   },
   {
    "duration": 30,
    "start_time": "2022-06-14T20:08:02.861Z"
   },
   {
    "duration": 10,
    "start_time": "2022-06-14T20:08:02.892Z"
   },
   {
    "duration": 7,
    "start_time": "2022-06-14T20:08:02.904Z"
   },
   {
    "duration": 18,
    "start_time": "2022-06-14T20:08:02.912Z"
   },
   {
    "duration": 12,
    "start_time": "2022-06-14T20:08:02.931Z"
   },
   {
    "duration": 20,
    "start_time": "2022-06-14T20:08:02.944Z"
   },
   {
    "duration": 13,
    "start_time": "2022-06-14T20:08:02.965Z"
   },
   {
    "duration": 19,
    "start_time": "2022-06-14T20:08:02.979Z"
   },
   {
    "duration": 8,
    "start_time": "2022-06-14T20:08:02.999Z"
   },
   {
    "duration": 21,
    "start_time": "2022-06-14T20:08:03.008Z"
   },
   {
    "duration": 12,
    "start_time": "2022-06-14T20:08:03.030Z"
   },
   {
    "duration": 7,
    "start_time": "2022-06-14T20:08:03.043Z"
   },
   {
    "duration": 16,
    "start_time": "2022-06-14T20:08:03.052Z"
   },
   {
    "duration": 13,
    "start_time": "2022-06-14T20:08:03.069Z"
   },
   {
    "duration": 31,
    "start_time": "2022-06-14T20:08:03.083Z"
   },
   {
    "duration": 8,
    "start_time": "2022-06-14T20:08:03.115Z"
   },
   {
    "duration": 24,
    "start_time": "2022-06-14T20:08:03.124Z"
   },
   {
    "duration": 23,
    "start_time": "2022-06-14T20:08:03.150Z"
   },
   {
    "duration": 3,
    "start_time": "2022-06-14T20:08:03.176Z"
   },
   {
    "duration": 51,
    "start_time": "2022-06-14T20:08:03.181Z"
   },
   {
    "duration": 10,
    "start_time": "2022-06-14T20:08:03.234Z"
   },
   {
    "duration": 152,
    "start_time": "2022-06-14T20:08:03.245Z"
   },
   {
    "duration": 123,
    "start_time": "2022-06-14T20:08:03.399Z"
   },
   {
    "duration": 121,
    "start_time": "2022-06-14T20:08:03.524Z"
   },
   {
    "duration": 153,
    "start_time": "2022-06-14T20:08:03.647Z"
   },
   {
    "duration": 170,
    "start_time": "2022-06-14T20:08:03.801Z"
   },
   {
    "duration": 5,
    "start_time": "2022-06-14T20:08:03.973Z"
   },
   {
    "duration": 6,
    "start_time": "2022-06-14T20:08:03.993Z"
   },
   {
    "duration": 84,
    "start_time": "2022-06-14T20:08:04.000Z"
   },
   {
    "duration": 20,
    "start_time": "2022-06-14T20:08:13.101Z"
   },
   {
    "duration": 5,
    "start_time": "2022-06-14T20:17:58.628Z"
   },
   {
    "duration": 21,
    "start_time": "2022-06-14T20:18:00.303Z"
   },
   {
    "duration": 6,
    "start_time": "2022-06-14T20:23:52.656Z"
   },
   {
    "duration": 29,
    "start_time": "2022-06-14T20:23:53.638Z"
   },
   {
    "duration": 1045,
    "start_time": "2022-06-14T20:24:04.310Z"
   },
   {
    "duration": 49,
    "start_time": "2022-06-14T20:24:05.357Z"
   },
   {
    "duration": 20,
    "start_time": "2022-06-14T20:24:05.407Z"
   },
   {
    "duration": 21,
    "start_time": "2022-06-14T20:24:05.429Z"
   },
   {
    "duration": 19,
    "start_time": "2022-06-14T20:24:05.451Z"
   },
   {
    "duration": 13,
    "start_time": "2022-06-14T20:24:05.471Z"
   },
   {
    "duration": 10,
    "start_time": "2022-06-14T20:24:05.485Z"
   },
   {
    "duration": 12,
    "start_time": "2022-06-14T20:24:05.496Z"
   },
   {
    "duration": 8,
    "start_time": "2022-06-14T20:24:05.509Z"
   },
   {
    "duration": 11,
    "start_time": "2022-06-14T20:24:05.519Z"
   },
   {
    "duration": 6,
    "start_time": "2022-06-14T20:24:05.531Z"
   },
   {
    "duration": 8,
    "start_time": "2022-06-14T20:24:05.538Z"
   },
   {
    "duration": 18,
    "start_time": "2022-06-14T20:24:05.548Z"
   },
   {
    "duration": 27,
    "start_time": "2022-06-14T20:24:05.568Z"
   },
   {
    "duration": 11,
    "start_time": "2022-06-14T20:24:05.597Z"
   },
   {
    "duration": 15,
    "start_time": "2022-06-14T20:24:05.610Z"
   },
   {
    "duration": 5,
    "start_time": "2022-06-14T20:24:05.627Z"
   },
   {
    "duration": 12,
    "start_time": "2022-06-14T20:24:05.634Z"
   },
   {
    "duration": 7,
    "start_time": "2022-06-14T20:24:05.648Z"
   },
   {
    "duration": 6,
    "start_time": "2022-06-14T20:24:05.656Z"
   },
   {
    "duration": 30,
    "start_time": "2022-06-14T20:24:05.664Z"
   },
   {
    "duration": 5,
    "start_time": "2022-06-14T20:24:05.696Z"
   },
   {
    "duration": 4,
    "start_time": "2022-06-14T20:24:05.702Z"
   },
   {
    "duration": 15,
    "start_time": "2022-06-14T20:24:05.708Z"
   },
   {
    "duration": 5,
    "start_time": "2022-06-14T20:24:05.724Z"
   },
   {
    "duration": 19,
    "start_time": "2022-06-14T20:24:05.732Z"
   },
   {
    "duration": 48,
    "start_time": "2022-06-14T20:24:05.753Z"
   },
   {
    "duration": 3,
    "start_time": "2022-06-14T20:24:05.804Z"
   },
   {
    "duration": 22,
    "start_time": "2022-06-14T20:24:05.808Z"
   },
   {
    "duration": 4,
    "start_time": "2022-06-14T20:24:05.832Z"
   },
   {
    "duration": 147,
    "start_time": "2022-06-14T20:24:05.837Z"
   },
   {
    "duration": 133,
    "start_time": "2022-06-14T20:24:05.986Z"
   },
   {
    "duration": 120,
    "start_time": "2022-06-14T20:24:06.120Z"
   },
   {
    "duration": 138,
    "start_time": "2022-06-14T20:24:06.242Z"
   },
   {
    "duration": 166,
    "start_time": "2022-06-14T20:24:06.382Z"
   },
   {
    "duration": 6,
    "start_time": "2022-06-14T20:24:06.549Z"
   },
   {
    "duration": 6,
    "start_time": "2022-06-14T20:24:06.557Z"
   },
   {
    "duration": 35,
    "start_time": "2022-06-14T20:24:06.565Z"
   },
   {
    "duration": 13,
    "start_time": "2022-06-14T20:24:47.194Z"
   },
   {
    "duration": 19,
    "start_time": "2022-06-14T20:25:32.295Z"
   },
   {
    "duration": 6,
    "start_time": "2022-06-14T20:26:15.354Z"
   },
   {
    "duration": 5,
    "start_time": "2022-06-14T20:27:56.525Z"
   },
   {
    "duration": 21,
    "start_time": "2022-06-14T20:27:58.207Z"
   },
   {
    "duration": 18,
    "start_time": "2022-06-14T20:28:05.129Z"
   },
   {
    "duration": 6,
    "start_time": "2022-06-14T20:29:23.452Z"
   },
   {
    "duration": 20,
    "start_time": "2022-06-14T20:29:25.169Z"
   },
   {
    "duration": 22,
    "start_time": "2022-06-14T20:29:40.608Z"
   },
   {
    "duration": 6,
    "start_time": "2022-06-14T20:32:37.250Z"
   },
   {
    "duration": 30,
    "start_time": "2022-06-14T20:32:38.250Z"
   },
   {
    "duration": 21,
    "start_time": "2022-06-14T20:32:48.342Z"
   },
   {
    "duration": 183,
    "start_time": "2022-06-14T20:33:52.111Z"
   },
   {
    "duration": 156,
    "start_time": "2022-06-14T20:34:06.319Z"
   },
   {
    "duration": 195,
    "start_time": "2022-06-14T20:35:20.511Z"
   },
   {
    "duration": 1242,
    "start_time": "2022-06-14T20:36:42.362Z"
   },
   {
    "duration": 1036,
    "start_time": "2022-06-14T20:40:09.252Z"
   },
   {
    "duration": 4,
    "start_time": "2022-06-14T20:40:31.119Z"
   },
   {
    "duration": 26,
    "start_time": "2022-06-14T20:40:59.816Z"
   },
   {
    "duration": 4,
    "start_time": "2022-06-14T20:41:03.389Z"
   },
   {
    "duration": 400,
    "start_time": "2022-06-14T20:41:04.268Z"
   },
   {
    "duration": 496,
    "start_time": "2022-06-14T20:41:33.520Z"
   },
   {
    "duration": 1330,
    "start_time": "2022-06-15T11:11:07.961Z"
   },
   {
    "duration": 143,
    "start_time": "2022-06-15T11:11:09.293Z"
   },
   {
    "duration": 94,
    "start_time": "2022-06-15T11:11:09.437Z"
   },
   {
    "duration": 44,
    "start_time": "2022-06-15T11:11:09.533Z"
   },
   {
    "duration": 51,
    "start_time": "2022-06-15T11:11:09.579Z"
   },
   {
    "duration": 17,
    "start_time": "2022-06-15T11:11:09.631Z"
   },
   {
    "duration": 10,
    "start_time": "2022-06-15T11:11:09.650Z"
   },
   {
    "duration": 15,
    "start_time": "2022-06-15T11:11:09.661Z"
   },
   {
    "duration": 9,
    "start_time": "2022-06-15T11:11:09.677Z"
   },
   {
    "duration": 27,
    "start_time": "2022-06-15T11:11:09.688Z"
   },
   {
    "duration": 8,
    "start_time": "2022-06-15T11:11:09.717Z"
   },
   {
    "duration": 11,
    "start_time": "2022-06-15T11:11:09.727Z"
   },
   {
    "duration": 21,
    "start_time": "2022-06-15T11:11:09.740Z"
   },
   {
    "duration": 16,
    "start_time": "2022-06-15T11:11:09.765Z"
   },
   {
    "duration": 26,
    "start_time": "2022-06-15T11:11:09.782Z"
   },
   {
    "duration": 18,
    "start_time": "2022-06-15T11:11:09.810Z"
   },
   {
    "duration": 6,
    "start_time": "2022-06-15T11:11:09.831Z"
   },
   {
    "duration": 19,
    "start_time": "2022-06-15T11:11:09.839Z"
   },
   {
    "duration": 19,
    "start_time": "2022-06-15T11:11:09.859Z"
   },
   {
    "duration": 11,
    "start_time": "2022-06-15T11:11:09.879Z"
   },
   {
    "duration": 16,
    "start_time": "2022-06-15T11:11:09.891Z"
   },
   {
    "duration": 8,
    "start_time": "2022-06-15T11:11:09.909Z"
   },
   {
    "duration": 7,
    "start_time": "2022-06-15T11:11:09.919Z"
   },
   {
    "duration": 17,
    "start_time": "2022-06-15T11:11:09.927Z"
   },
   {
    "duration": 4,
    "start_time": "2022-06-15T11:11:09.945Z"
   },
   {
    "duration": 23,
    "start_time": "2022-06-15T11:11:09.951Z"
   },
   {
    "duration": 47,
    "start_time": "2022-06-15T11:11:09.975Z"
   },
   {
    "duration": 5,
    "start_time": "2022-06-15T11:11:10.024Z"
   },
   {
    "duration": 35,
    "start_time": "2022-06-15T11:11:10.031Z"
   },
   {
    "duration": 5,
    "start_time": "2022-06-15T11:11:10.068Z"
   },
   {
    "duration": 178,
    "start_time": "2022-06-15T11:11:10.075Z"
   },
   {
    "duration": 132,
    "start_time": "2022-06-15T11:11:10.255Z"
   },
   {
    "duration": 128,
    "start_time": "2022-06-15T11:11:10.403Z"
   },
   {
    "duration": 157,
    "start_time": "2022-06-15T11:11:10.533Z"
   },
   {
    "duration": 18,
    "start_time": "2022-06-15T11:11:10.694Z"
   },
   {
    "duration": 12,
    "start_time": "2022-06-15T11:11:10.714Z"
   },
   {
    "duration": 181,
    "start_time": "2022-06-15T11:11:10.727Z"
   },
   {
    "duration": 4,
    "start_time": "2022-06-15T11:11:10.910Z"
   },
   {
    "duration": 406,
    "start_time": "2022-06-15T11:11:10.915Z"
   },
   {
    "duration": 224,
    "start_time": "2022-06-15T11:11:45.447Z"
   },
   {
    "duration": 8252,
    "start_time": "2022-06-15T11:16:13.568Z"
   },
   {
    "duration": 17,
    "start_time": "2022-06-15T11:19:26.468Z"
   },
   {
    "duration": 20,
    "start_time": "2022-06-15T11:19:49.365Z"
   },
   {
    "duration": 186,
    "start_time": "2022-06-15T11:20:12.584Z"
   },
   {
    "duration": 4,
    "start_time": "2022-06-15T11:22:26.358Z"
   },
   {
    "duration": 5,
    "start_time": "2022-06-15T11:22:36.493Z"
   },
   {
    "duration": 4,
    "start_time": "2022-06-15T11:22:47.583Z"
   },
   {
    "duration": 4,
    "start_time": "2022-06-15T11:22:50.663Z"
   },
   {
    "duration": 21,
    "start_time": "2022-06-15T11:22:51.257Z"
   },
   {
    "duration": 7,
    "start_time": "2022-06-15T11:23:14.498Z"
   },
   {
    "duration": 56054,
    "start_time": "2022-06-15T11:23:15.423Z"
   },
   {
    "duration": 37,
    "start_time": "2022-06-15T11:25:35.161Z"
   },
   {
    "duration": 59403,
    "start_time": "2022-06-15T11:25:36.863Z"
   },
   {
    "duration": 59242,
    "start_time": "2022-06-15T11:26:36.268Z"
   },
   {
    "duration": 56730,
    "start_time": "2022-06-15T11:29:41.123Z"
   },
   {
    "duration": 9,
    "start_time": "2022-06-15T11:32:38.618Z"
   },
   {
    "duration": 15,
    "start_time": "2022-06-15T11:32:56.750Z"
   },
   {
    "duration": 19,
    "start_time": "2022-06-15T11:33:18.508Z"
   },
   {
    "duration": 28,
    "start_time": "2022-06-15T11:33:38.692Z"
   },
   {
    "duration": 10,
    "start_time": "2022-06-15T11:35:48.782Z"
   },
   {
    "duration": 182,
    "start_time": "2022-06-15T11:36:29.749Z"
   },
   {
    "duration": 138,
    "start_time": "2022-06-15T11:36:44.517Z"
   },
   {
    "duration": 194,
    "start_time": "2022-06-15T11:37:01.771Z"
   },
   {
    "duration": 188,
    "start_time": "2022-06-15T11:38:03.907Z"
   },
   {
    "duration": 160,
    "start_time": "2022-06-15T11:42:11.649Z"
   },
   {
    "duration": 62980,
    "start_time": "2022-06-15T11:42:41.747Z"
   },
   {
    "duration": 14,
    "start_time": "2022-06-15T11:44:07.924Z"
   },
   {
    "duration": 11,
    "start_time": "2022-06-15T11:44:28.027Z"
   },
   {
    "duration": 34,
    "start_time": "2022-06-15T11:44:40.930Z"
   },
   {
    "duration": 23,
    "start_time": "2022-06-15T11:44:45.491Z"
   },
   {
    "duration": 868,
    "start_time": "2022-06-15T11:45:02.688Z"
   },
   {
    "duration": 11,
    "start_time": "2022-06-15T11:45:17.920Z"
   },
   {
    "duration": 380,
    "start_time": "2022-06-15T11:46:41.646Z"
   },
   {
    "duration": 412,
    "start_time": "2022-06-15T11:47:17.730Z"
   },
   {
    "duration": 17,
    "start_time": "2022-06-15T11:47:30.085Z"
   },
   {
    "duration": 3,
    "start_time": "2022-06-15T11:49:28.012Z"
   },
   {
    "duration": 186,
    "start_time": "2022-06-15T11:49:52.211Z"
   },
   {
    "duration": 172,
    "start_time": "2022-06-15T11:51:02.480Z"
   },
   {
    "duration": 4,
    "start_time": "2022-06-15T11:52:42.310Z"
   },
   {
    "duration": 190,
    "start_time": "2022-06-15T11:53:20.615Z"
   },
   {
    "duration": 4,
    "start_time": "2022-06-15T11:53:44.522Z"
   },
   {
    "duration": 151,
    "start_time": "2022-06-15T11:53:45.528Z"
   },
   {
    "duration": 185,
    "start_time": "2022-06-15T11:56:07.383Z"
   },
   {
    "duration": 12,
    "start_time": "2022-06-15T11:56:52.194Z"
   },
   {
    "duration": 4,
    "start_time": "2022-06-15T11:56:58.325Z"
   },
   {
    "duration": 206,
    "start_time": "2022-06-15T11:56:59.329Z"
   },
   {
    "duration": 223,
    "start_time": "2022-06-15T11:57:21.909Z"
   },
   {
    "duration": 193,
    "start_time": "2022-06-15T11:57:47.444Z"
   },
   {
    "duration": 182,
    "start_time": "2022-06-15T11:57:56.222Z"
   },
   {
    "duration": 8,
    "start_time": "2022-06-15T11:58:46.778Z"
   },
   {
    "duration": 171,
    "start_time": "2022-06-15T11:59:05.938Z"
   },
   {
    "duration": 164,
    "start_time": "2022-06-15T11:59:22.386Z"
   },
   {
    "duration": 30892,
    "start_time": "2022-06-15T12:00:50.400Z"
   },
   {
    "duration": 30702,
    "start_time": "2022-06-15T12:02:00.938Z"
   },
   {
    "duration": 28726,
    "start_time": "2022-06-15T12:03:01.859Z"
   },
   {
    "duration": 212,
    "start_time": "2022-06-15T12:04:37.375Z"
   },
   {
    "duration": 9,
    "start_time": "2022-06-15T12:06:50.478Z"
   },
   {
    "duration": 9,
    "start_time": "2022-06-15T12:07:55.582Z"
   },
   {
    "duration": 11,
    "start_time": "2022-06-15T12:08:09.147Z"
   },
   {
    "duration": 2210,
    "start_time": "2022-06-15T12:12:26.717Z"
   },
   {
    "duration": 6,
    "start_time": "2022-06-15T12:13:38.456Z"
   },
   {
    "duration": 29,
    "start_time": "2022-06-15T12:13:59.584Z"
   },
   {
    "duration": 7,
    "start_time": "2022-06-15T12:16:07.060Z"
   },
   {
    "duration": 22,
    "start_time": "2022-06-15T12:16:11.089Z"
   },
   {
    "duration": 7,
    "start_time": "2022-06-15T12:16:36.167Z"
   },
   {
    "duration": 16,
    "start_time": "2022-06-15T12:16:36.997Z"
   },
   {
    "duration": 16,
    "start_time": "2022-06-15T12:16:54.989Z"
   },
   {
    "duration": 9,
    "start_time": "2022-06-15T12:16:55.918Z"
   },
   {
    "duration": 30,
    "start_time": "2022-06-15T12:19:40.238Z"
   },
   {
    "duration": 421,
    "start_time": "2022-06-15T12:21:20.586Z"
   },
   {
    "duration": 8,
    "start_time": "2022-06-15T12:24:00.129Z"
   },
   {
    "duration": 8,
    "start_time": "2022-06-15T12:24:04.250Z"
   },
   {
    "duration": 230,
    "start_time": "2022-06-15T12:24:10.524Z"
   },
   {
    "duration": 7,
    "start_time": "2022-06-15T12:24:41.052Z"
   },
   {
    "duration": 7,
    "start_time": "2022-06-15T12:24:42.108Z"
   },
   {
    "duration": 6,
    "start_time": "2022-06-15T12:24:45.866Z"
   },
   {
    "duration": 9,
    "start_time": "2022-06-15T12:24:49.242Z"
   },
   {
    "duration": 215,
    "start_time": "2022-06-15T12:24:58.250Z"
   },
   {
    "duration": 7,
    "start_time": "2022-06-15T12:25:25.139Z"
   },
   {
    "duration": 7,
    "start_time": "2022-06-15T12:25:28.256Z"
   },
   {
    "duration": 213,
    "start_time": "2022-06-15T12:25:37.517Z"
   },
   {
    "duration": 13,
    "start_time": "2022-06-15T12:26:37.790Z"
   },
   {
    "duration": 1127,
    "start_time": "2022-06-15T12:32:20.288Z"
   },
   {
    "duration": 48,
    "start_time": "2022-06-15T12:32:21.421Z"
   },
   {
    "duration": 19,
    "start_time": "2022-06-15T12:32:21.471Z"
   },
   {
    "duration": 44,
    "start_time": "2022-06-15T12:32:21.492Z"
   },
   {
    "duration": 19,
    "start_time": "2022-06-15T12:32:21.538Z"
   },
   {
    "duration": 18,
    "start_time": "2022-06-15T12:32:21.559Z"
   },
   {
    "duration": 38,
    "start_time": "2022-06-15T12:32:21.578Z"
   },
   {
    "duration": 45,
    "start_time": "2022-06-15T12:32:21.618Z"
   },
   {
    "duration": 26,
    "start_time": "2022-06-15T12:32:21.664Z"
   },
   {
    "duration": 46,
    "start_time": "2022-06-15T12:32:21.692Z"
   },
   {
    "duration": 16,
    "start_time": "2022-06-15T12:32:21.739Z"
   },
   {
    "duration": 26,
    "start_time": "2022-06-15T12:32:21.757Z"
   },
   {
    "duration": 40,
    "start_time": "2022-06-15T12:32:21.785Z"
   },
   {
    "duration": 23,
    "start_time": "2022-06-15T12:32:21.828Z"
   },
   {
    "duration": 27,
    "start_time": "2022-06-15T12:32:21.853Z"
   },
   {
    "duration": 27,
    "start_time": "2022-06-15T12:32:21.882Z"
   },
   {
    "duration": 29,
    "start_time": "2022-06-15T12:32:21.911Z"
   },
   {
    "duration": 36,
    "start_time": "2022-06-15T12:32:21.942Z"
   },
   {
    "duration": 20,
    "start_time": "2022-06-15T12:32:21.979Z"
   },
   {
    "duration": 54,
    "start_time": "2022-06-15T12:32:22.000Z"
   },
   {
    "duration": 22,
    "start_time": "2022-06-15T12:32:22.056Z"
   },
   {
    "duration": 38,
    "start_time": "2022-06-15T12:32:22.079Z"
   },
   {
    "duration": 28,
    "start_time": "2022-06-15T12:32:22.118Z"
   },
   {
    "duration": 34,
    "start_time": "2022-06-15T12:32:22.148Z"
   },
   {
    "duration": 53,
    "start_time": "2022-06-15T12:32:22.183Z"
   },
   {
    "duration": 53,
    "start_time": "2022-06-15T12:32:22.238Z"
   },
   {
    "duration": 43,
    "start_time": "2022-06-15T12:32:22.292Z"
   },
   {
    "duration": 10,
    "start_time": "2022-06-15T12:32:22.337Z"
   },
   {
    "duration": 61,
    "start_time": "2022-06-15T12:32:22.349Z"
   },
   {
    "duration": 18,
    "start_time": "2022-06-15T12:32:22.412Z"
   },
   {
    "duration": 197,
    "start_time": "2022-06-15T12:32:22.432Z"
   },
   {
    "duration": 3,
    "start_time": "2022-06-15T12:32:22.631Z"
   },
   {
    "duration": 239,
    "start_time": "2022-06-15T12:32:22.635Z"
   },
   {
    "duration": 0,
    "start_time": "2022-06-15T12:32:22.875Z"
   },
   {
    "duration": 0,
    "start_time": "2022-06-15T12:32:22.877Z"
   },
   {
    "duration": 0,
    "start_time": "2022-06-15T12:32:22.878Z"
   },
   {
    "duration": 0,
    "start_time": "2022-06-15T12:32:22.879Z"
   },
   {
    "duration": 0,
    "start_time": "2022-06-15T12:32:22.880Z"
   },
   {
    "duration": 0,
    "start_time": "2022-06-15T12:32:22.907Z"
   },
   {
    "duration": 0,
    "start_time": "2022-06-15T12:32:22.908Z"
   },
   {
    "duration": 0,
    "start_time": "2022-06-15T12:32:22.909Z"
   },
   {
    "duration": 0,
    "start_time": "2022-06-15T12:32:22.910Z"
   },
   {
    "duration": 1249,
    "start_time": "2022-06-15T12:33:07.594Z"
   },
   {
    "duration": 54,
    "start_time": "2022-06-15T12:33:08.845Z"
   },
   {
    "duration": 22,
    "start_time": "2022-06-15T12:33:08.901Z"
   },
   {
    "duration": 23,
    "start_time": "2022-06-15T12:33:08.927Z"
   },
   {
    "duration": 18,
    "start_time": "2022-06-15T12:33:08.952Z"
   },
   {
    "duration": 17,
    "start_time": "2022-06-15T12:33:08.972Z"
   },
   {
    "duration": 20,
    "start_time": "2022-06-15T12:33:08.991Z"
   },
   {
    "duration": 22,
    "start_time": "2022-06-15T12:33:09.013Z"
   },
   {
    "duration": 12,
    "start_time": "2022-06-15T12:33:09.037Z"
   },
   {
    "duration": 17,
    "start_time": "2022-06-15T12:33:09.052Z"
   },
   {
    "duration": 10,
    "start_time": "2022-06-15T12:33:09.071Z"
   },
   {
    "duration": 13,
    "start_time": "2022-06-15T12:33:09.083Z"
   },
   {
    "duration": 56,
    "start_time": "2022-06-15T12:33:09.100Z"
   },
   {
    "duration": 21,
    "start_time": "2022-06-15T12:33:09.159Z"
   },
   {
    "duration": 15,
    "start_time": "2022-06-15T12:33:09.182Z"
   },
   {
    "duration": 24,
    "start_time": "2022-06-15T12:33:09.200Z"
   },
   {
    "duration": 7,
    "start_time": "2022-06-15T12:33:09.226Z"
   },
   {
    "duration": 9,
    "start_time": "2022-06-15T12:33:09.235Z"
   },
   {
    "duration": 11,
    "start_time": "2022-06-15T12:33:09.246Z"
   },
   {
    "duration": 14,
    "start_time": "2022-06-15T12:33:09.260Z"
   },
   {
    "duration": 18,
    "start_time": "2022-06-15T12:33:09.276Z"
   },
   {
    "duration": 20,
    "start_time": "2022-06-15T12:33:09.296Z"
   },
   {
    "duration": 10,
    "start_time": "2022-06-15T12:33:09.318Z"
   },
   {
    "duration": 19,
    "start_time": "2022-06-15T12:33:09.330Z"
   },
   {
    "duration": 4,
    "start_time": "2022-06-15T12:33:09.350Z"
   },
   {
    "duration": 31,
    "start_time": "2022-06-15T12:33:09.356Z"
   },
   {
    "duration": 43,
    "start_time": "2022-06-15T12:33:09.389Z"
   },
   {
    "duration": 3,
    "start_time": "2022-06-15T12:33:09.435Z"
   },
   {
    "duration": 26,
    "start_time": "2022-06-15T12:33:09.439Z"
   },
   {
    "duration": 8,
    "start_time": "2022-06-15T12:33:09.467Z"
   },
   {
    "duration": 166,
    "start_time": "2022-06-15T12:33:09.476Z"
   },
   {
    "duration": 142,
    "start_time": "2022-06-15T12:33:09.643Z"
   },
   {
    "duration": 185,
    "start_time": "2022-06-15T12:33:09.786Z"
   },
   {
    "duration": 179,
    "start_time": "2022-06-15T12:33:09.972Z"
   },
   {
    "duration": 7,
    "start_time": "2022-06-15T12:33:10.152Z"
   },
   {
    "duration": 9,
    "start_time": "2022-06-15T12:33:10.160Z"
   },
   {
    "duration": 239,
    "start_time": "2022-06-15T12:33:10.170Z"
   },
   {
    "duration": 8,
    "start_time": "2022-06-15T12:33:10.410Z"
   },
   {
    "duration": 9,
    "start_time": "2022-06-15T12:33:10.420Z"
   },
   {
    "duration": 12,
    "start_time": "2022-06-15T12:33:10.430Z"
   },
   {
    "duration": 244,
    "start_time": "2022-06-15T12:33:10.443Z"
   },
   {
    "duration": 26,
    "start_time": "2022-06-15T13:04:25.505Z"
   },
   {
    "duration": 1104,
    "start_time": "2022-06-15T15:54:14.933Z"
   },
   {
    "duration": 48,
    "start_time": "2022-06-15T15:54:16.039Z"
   },
   {
    "duration": 21,
    "start_time": "2022-06-15T15:54:16.089Z"
   },
   {
    "duration": 20,
    "start_time": "2022-06-15T15:54:16.112Z"
   },
   {
    "duration": 17,
    "start_time": "2022-06-15T15:54:16.134Z"
   },
   {
    "duration": 14,
    "start_time": "2022-06-15T15:54:16.153Z"
   },
   {
    "duration": 9,
    "start_time": "2022-06-15T15:54:16.169Z"
   },
   {
    "duration": 11,
    "start_time": "2022-06-15T15:54:16.180Z"
   },
   {
    "duration": 10,
    "start_time": "2022-06-15T15:54:16.193Z"
   },
   {
    "duration": 15,
    "start_time": "2022-06-15T15:54:16.206Z"
   },
   {
    "duration": 7,
    "start_time": "2022-06-15T15:54:16.223Z"
   },
   {
    "duration": 10,
    "start_time": "2022-06-15T15:54:16.232Z"
   },
   {
    "duration": 22,
    "start_time": "2022-06-15T15:54:16.243Z"
   },
   {
    "duration": 29,
    "start_time": "2022-06-15T15:54:16.266Z"
   },
   {
    "duration": 12,
    "start_time": "2022-06-15T15:54:16.297Z"
   },
   {
    "duration": 15,
    "start_time": "2022-06-15T15:54:16.311Z"
   },
   {
    "duration": 7,
    "start_time": "2022-06-15T15:54:16.328Z"
   },
   {
    "duration": 9,
    "start_time": "2022-06-15T15:54:16.337Z"
   },
   {
    "duration": 11,
    "start_time": "2022-06-15T15:54:16.348Z"
   },
   {
    "duration": 11,
    "start_time": "2022-06-15T15:54:16.360Z"
   },
   {
    "duration": 22,
    "start_time": "2022-06-15T15:54:16.372Z"
   },
   {
    "duration": 11,
    "start_time": "2022-06-15T15:54:16.396Z"
   },
   {
    "duration": 5,
    "start_time": "2022-06-15T15:54:16.409Z"
   },
   {
    "duration": 19,
    "start_time": "2022-06-15T15:54:16.416Z"
   },
   {
    "duration": 3,
    "start_time": "2022-06-15T15:54:16.437Z"
   },
   {
    "duration": 26,
    "start_time": "2022-06-15T15:54:16.442Z"
   },
   {
    "duration": 43,
    "start_time": "2022-06-15T15:54:16.469Z"
   },
   {
    "duration": 3,
    "start_time": "2022-06-15T15:54:16.516Z"
   },
   {
    "duration": 12,
    "start_time": "2022-06-15T15:54:16.521Z"
   },
   {
    "duration": 175,
    "start_time": "2022-06-15T15:54:16.535Z"
   },
   {
    "duration": 149,
    "start_time": "2022-06-15T15:54:16.712Z"
   },
   {
    "duration": 187,
    "start_time": "2022-06-15T15:54:16.864Z"
   },
   {
    "duration": 172,
    "start_time": "2022-06-15T15:54:17.053Z"
   },
   {
    "duration": 6,
    "start_time": "2022-06-15T15:54:17.227Z"
   },
   {
    "duration": 8,
    "start_time": "2022-06-15T15:54:17.235Z"
   },
   {
    "duration": 115,
    "start_time": "2022-06-15T15:54:17.245Z"
   },
   {
    "duration": 0,
    "start_time": "2022-06-15T15:54:17.362Z"
   },
   {
    "duration": 0,
    "start_time": "2022-06-15T15:54:17.364Z"
   },
   {
    "duration": 0,
    "start_time": "2022-06-15T15:54:17.366Z"
   },
   {
    "duration": 0,
    "start_time": "2022-06-15T15:54:17.368Z"
   },
   {
    "duration": 208,
    "start_time": "2022-06-15T15:54:36.182Z"
   },
   {
    "duration": 8,
    "start_time": "2022-06-15T15:54:40.184Z"
   },
   {
    "duration": 7,
    "start_time": "2022-06-15T15:54:41.053Z"
   },
   {
    "duration": 6,
    "start_time": "2022-06-15T15:54:41.908Z"
   },
   {
    "duration": 9,
    "start_time": "2022-06-15T15:54:42.669Z"
   },
   {
    "duration": 213,
    "start_time": "2022-06-15T15:54:49.681Z"
   },
   {
    "duration": 1135,
    "start_time": "2022-06-15T16:12:15.030Z"
   },
   {
    "duration": 48,
    "start_time": "2022-06-15T16:12:16.167Z"
   },
   {
    "duration": 20,
    "start_time": "2022-06-15T16:12:16.217Z"
   },
   {
    "duration": 21,
    "start_time": "2022-06-15T16:12:16.239Z"
   },
   {
    "duration": 17,
    "start_time": "2022-06-15T16:12:16.261Z"
   },
   {
    "duration": 15,
    "start_time": "2022-06-15T16:12:16.280Z"
   },
   {
    "duration": 10,
    "start_time": "2022-06-15T16:12:16.297Z"
   },
   {
    "duration": 12,
    "start_time": "2022-06-15T16:12:16.308Z"
   },
   {
    "duration": 16,
    "start_time": "2022-06-15T16:12:16.321Z"
   },
   {
    "duration": 12,
    "start_time": "2022-06-15T16:12:16.340Z"
   },
   {
    "duration": 7,
    "start_time": "2022-06-15T16:12:16.354Z"
   },
   {
    "duration": 11,
    "start_time": "2022-06-15T16:12:16.362Z"
   },
   {
    "duration": 34,
    "start_time": "2022-06-15T16:12:16.374Z"
   },
   {
    "duration": 12,
    "start_time": "2022-06-15T16:12:16.410Z"
   },
   {
    "duration": 10,
    "start_time": "2022-06-15T16:12:16.424Z"
   },
   {
    "duration": 16,
    "start_time": "2022-06-15T16:12:16.436Z"
   },
   {
    "duration": 6,
    "start_time": "2022-06-15T16:12:16.454Z"
   },
   {
    "duration": 33,
    "start_time": "2022-06-15T16:12:16.462Z"
   },
   {
    "duration": 8,
    "start_time": "2022-06-15T16:12:16.497Z"
   },
   {
    "duration": 8,
    "start_time": "2022-06-15T16:12:16.507Z"
   },
   {
    "duration": 8,
    "start_time": "2022-06-15T16:12:16.516Z"
   },
   {
    "duration": 7,
    "start_time": "2022-06-15T16:12:16.525Z"
   },
   {
    "duration": 5,
    "start_time": "2022-06-15T16:12:16.533Z"
   },
   {
    "duration": 17,
    "start_time": "2022-06-15T16:12:16.540Z"
   },
   {
    "duration": 4,
    "start_time": "2022-06-15T16:12:16.558Z"
   },
   {
    "duration": 47,
    "start_time": "2022-06-15T16:12:16.563Z"
   },
   {
    "duration": 22,
    "start_time": "2022-06-15T16:12:16.612Z"
   },
   {
    "duration": 4,
    "start_time": "2022-06-15T16:12:16.637Z"
   },
   {
    "duration": 8,
    "start_time": "2022-06-15T16:12:16.642Z"
   },
   {
    "duration": 170,
    "start_time": "2022-06-15T16:12:16.651Z"
   },
   {
    "duration": 145,
    "start_time": "2022-06-15T16:12:16.822Z"
   },
   {
    "duration": 174,
    "start_time": "2022-06-15T16:12:16.968Z"
   },
   {
    "duration": 167,
    "start_time": "2022-06-15T16:12:17.144Z"
   },
   {
    "duration": 7,
    "start_time": "2022-06-15T16:12:17.313Z"
   },
   {
    "duration": 8,
    "start_time": "2022-06-15T16:12:17.322Z"
   },
   {
    "duration": 207,
    "start_time": "2022-06-15T16:12:17.331Z"
   },
   {
    "duration": 8,
    "start_time": "2022-06-15T16:12:17.540Z"
   },
   {
    "duration": 6,
    "start_time": "2022-06-15T16:12:17.549Z"
   },
   {
    "duration": 8,
    "start_time": "2022-06-15T16:12:17.557Z"
   },
   {
    "duration": 220,
    "start_time": "2022-06-15T16:12:17.567Z"
   },
   {
    "duration": 1287,
    "start_time": "2022-06-16T11:42:43.443Z"
   },
   {
    "duration": 110,
    "start_time": "2022-06-16T11:42:44.731Z"
   },
   {
    "duration": 98,
    "start_time": "2022-06-16T11:42:44.844Z"
   },
   {
    "duration": 46,
    "start_time": "2022-06-16T11:42:44.943Z"
   },
   {
    "duration": 51,
    "start_time": "2022-06-16T11:42:44.990Z"
   },
   {
    "duration": 16,
    "start_time": "2022-06-16T11:42:45.043Z"
   },
   {
    "duration": 8,
    "start_time": "2022-06-16T11:42:45.061Z"
   },
   {
    "duration": 13,
    "start_time": "2022-06-16T11:42:45.071Z"
   },
   {
    "duration": 9,
    "start_time": "2022-06-16T11:42:45.086Z"
   },
   {
    "duration": 14,
    "start_time": "2022-06-16T11:42:45.097Z"
   },
   {
    "duration": 20,
    "start_time": "2022-06-16T11:42:45.112Z"
   },
   {
    "duration": 7,
    "start_time": "2022-06-16T11:42:45.134Z"
   },
   {
    "duration": 22,
    "start_time": "2022-06-16T11:42:45.142Z"
   },
   {
    "duration": 11,
    "start_time": "2022-06-16T11:42:45.166Z"
   },
   {
    "duration": 12,
    "start_time": "2022-06-16T11:42:45.179Z"
   },
   {
    "duration": 14,
    "start_time": "2022-06-16T11:42:45.192Z"
   },
   {
    "duration": 6,
    "start_time": "2022-06-16T11:42:45.227Z"
   },
   {
    "duration": 8,
    "start_time": "2022-06-16T11:42:45.235Z"
   },
   {
    "duration": 14,
    "start_time": "2022-06-16T11:42:45.245Z"
   },
   {
    "duration": 13,
    "start_time": "2022-06-16T11:42:45.261Z"
   },
   {
    "duration": 7,
    "start_time": "2022-06-16T11:42:45.276Z"
   },
   {
    "duration": 12,
    "start_time": "2022-06-16T11:42:45.284Z"
   },
   {
    "duration": 9,
    "start_time": "2022-06-16T11:42:45.297Z"
   },
   {
    "duration": 20,
    "start_time": "2022-06-16T11:42:45.308Z"
   },
   {
    "duration": 5,
    "start_time": "2022-06-16T11:42:45.330Z"
   },
   {
    "duration": 23,
    "start_time": "2022-06-16T11:42:45.336Z"
   },
   {
    "duration": 21,
    "start_time": "2022-06-16T11:42:45.361Z"
   },
   {
    "duration": 4,
    "start_time": "2022-06-16T11:42:45.383Z"
   },
   {
    "duration": 7,
    "start_time": "2022-06-16T11:42:45.389Z"
   },
   {
    "duration": 173,
    "start_time": "2022-06-16T11:42:45.398Z"
   },
   {
    "duration": 146,
    "start_time": "2022-06-16T11:42:45.572Z"
   },
   {
    "duration": 186,
    "start_time": "2022-06-16T11:42:45.719Z"
   },
   {
    "duration": 161,
    "start_time": "2022-06-16T11:42:45.906Z"
   },
   {
    "duration": 7,
    "start_time": "2022-06-16T11:42:46.068Z"
   },
   {
    "duration": 14,
    "start_time": "2022-06-16T11:42:46.077Z"
   },
   {
    "duration": 215,
    "start_time": "2022-06-16T11:42:46.092Z"
   },
   {
    "duration": 18,
    "start_time": "2022-06-16T11:42:46.309Z"
   },
   {
    "duration": 9,
    "start_time": "2022-06-16T11:42:46.329Z"
   },
   {
    "duration": 11,
    "start_time": "2022-06-16T11:42:46.340Z"
   },
   {
    "duration": 260,
    "start_time": "2022-06-16T11:42:46.353Z"
   },
   {
    "duration": 1381,
    "start_time": "2022-06-20T10:21:49.671Z"
   },
   {
    "duration": 48,
    "start_time": "2022-06-20T10:21:51.054Z"
   },
   {
    "duration": 20,
    "start_time": "2022-06-20T10:21:51.104Z"
   },
   {
    "duration": 20,
    "start_time": "2022-06-20T10:21:51.126Z"
   },
   {
    "duration": 21,
    "start_time": "2022-06-20T10:21:51.148Z"
   },
   {
    "duration": 14,
    "start_time": "2022-06-20T10:21:51.170Z"
   },
   {
    "duration": 9,
    "start_time": "2022-06-20T10:21:51.186Z"
   },
   {
    "duration": 12,
    "start_time": "2022-06-20T10:21:51.196Z"
   },
   {
    "duration": 12,
    "start_time": "2022-06-20T10:21:51.210Z"
   },
   {
    "duration": 12,
    "start_time": "2022-06-20T10:21:51.224Z"
   },
   {
    "duration": 8,
    "start_time": "2022-06-20T10:21:51.238Z"
   },
   {
    "duration": 7,
    "start_time": "2022-06-20T10:21:51.259Z"
   },
   {
    "duration": 21,
    "start_time": "2022-06-20T10:21:51.267Z"
   },
   {
    "duration": 12,
    "start_time": "2022-06-20T10:21:51.290Z"
   },
   {
    "duration": 11,
    "start_time": "2022-06-20T10:21:51.303Z"
   },
   {
    "duration": 14,
    "start_time": "2022-06-20T10:21:51.316Z"
   },
   {
    "duration": 28,
    "start_time": "2022-06-20T10:21:51.332Z"
   },
   {
    "duration": 11,
    "start_time": "2022-06-20T10:21:51.361Z"
   },
   {
    "duration": 7,
    "start_time": "2022-06-20T10:21:51.373Z"
   },
   {
    "duration": 6,
    "start_time": "2022-06-20T10:21:51.382Z"
   },
   {
    "duration": 7,
    "start_time": "2022-06-20T10:21:51.390Z"
   },
   {
    "duration": 6,
    "start_time": "2022-06-20T10:21:51.399Z"
   },
   {
    "duration": 9,
    "start_time": "2022-06-20T10:21:51.406Z"
   },
   {
    "duration": 26,
    "start_time": "2022-06-20T10:21:51.416Z"
   },
   {
    "duration": 15,
    "start_time": "2022-06-20T10:21:51.444Z"
   },
   {
    "duration": 26,
    "start_time": "2022-06-20T10:21:51.461Z"
   },
   {
    "duration": 25,
    "start_time": "2022-06-20T10:21:51.489Z"
   },
   {
    "duration": 4,
    "start_time": "2022-06-20T10:21:51.518Z"
   },
   {
    "duration": 35,
    "start_time": "2022-06-20T10:21:51.524Z"
   },
   {
    "duration": 168,
    "start_time": "2022-06-20T10:21:51.561Z"
   },
   {
    "duration": 136,
    "start_time": "2022-06-20T10:21:51.731Z"
   },
   {
    "duration": 182,
    "start_time": "2022-06-20T10:21:51.869Z"
   },
   {
    "duration": 160,
    "start_time": "2022-06-20T10:21:52.053Z"
   },
   {
    "duration": 7,
    "start_time": "2022-06-20T10:21:52.215Z"
   },
   {
    "duration": 7,
    "start_time": "2022-06-20T10:21:52.224Z"
   },
   {
    "duration": 306,
    "start_time": "2022-06-20T10:21:52.232Z"
   },
   {
    "duration": 21,
    "start_time": "2022-06-20T10:21:52.539Z"
   },
   {
    "duration": 6,
    "start_time": "2022-06-20T10:21:52.562Z"
   },
   {
    "duration": 8,
    "start_time": "2022-06-20T10:21:52.570Z"
   },
   {
    "duration": 218,
    "start_time": "2022-06-20T10:21:52.580Z"
   },
   {
    "duration": 19,
    "start_time": "2022-06-20T10:21:52.799Z"
   },
   {
    "duration": 69,
    "start_time": "2022-06-20T10:21:52.820Z"
   },
   {
    "duration": 1455,
    "start_time": "2022-06-20T11:47:16.948Z"
   },
   {
    "duration": 49,
    "start_time": "2022-06-20T11:47:18.405Z"
   },
   {
    "duration": 34,
    "start_time": "2022-06-20T11:47:18.456Z"
   },
   {
    "duration": 21,
    "start_time": "2022-06-20T11:47:18.492Z"
   },
   {
    "duration": 19,
    "start_time": "2022-06-20T11:47:18.514Z"
   },
   {
    "duration": 13,
    "start_time": "2022-06-20T11:47:18.534Z"
   },
   {
    "duration": 11,
    "start_time": "2022-06-20T11:47:18.549Z"
   },
   {
    "duration": 24,
    "start_time": "2022-06-20T11:47:18.562Z"
   },
   {
    "duration": 12,
    "start_time": "2022-06-20T11:47:18.588Z"
   },
   {
    "duration": 14,
    "start_time": "2022-06-20T11:47:18.602Z"
   },
   {
    "duration": 7,
    "start_time": "2022-06-20T11:47:18.618Z"
   },
   {
    "duration": 8,
    "start_time": "2022-06-20T11:47:18.627Z"
   },
   {
    "duration": 28,
    "start_time": "2022-06-20T11:47:18.636Z"
   },
   {
    "duration": 12,
    "start_time": "2022-06-20T11:47:18.665Z"
   },
   {
    "duration": 13,
    "start_time": "2022-06-20T11:47:18.679Z"
   },
   {
    "duration": 15,
    "start_time": "2022-06-20T11:47:18.694Z"
   },
   {
    "duration": 6,
    "start_time": "2022-06-20T11:47:18.710Z"
   },
   {
    "duration": 8,
    "start_time": "2022-06-20T11:47:18.717Z"
   },
   {
    "duration": 12,
    "start_time": "2022-06-20T11:47:18.727Z"
   },
   {
    "duration": 26,
    "start_time": "2022-06-20T11:47:18.740Z"
   },
   {
    "duration": 6,
    "start_time": "2022-06-20T11:47:18.768Z"
   },
   {
    "duration": 7,
    "start_time": "2022-06-20T11:47:18.775Z"
   },
   {
    "duration": 9,
    "start_time": "2022-06-20T11:47:18.783Z"
   },
   {
    "duration": 17,
    "start_time": "2022-06-20T11:47:18.794Z"
   },
   {
    "duration": 3,
    "start_time": "2022-06-20T11:47:18.813Z"
   },
   {
    "duration": 48,
    "start_time": "2022-06-20T11:47:18.818Z"
   },
   {
    "duration": 23,
    "start_time": "2022-06-20T11:47:18.868Z"
   },
   {
    "duration": 3,
    "start_time": "2022-06-20T11:47:18.894Z"
   },
   {
    "duration": 11,
    "start_time": "2022-06-20T11:47:18.899Z"
   },
   {
    "duration": 160,
    "start_time": "2022-06-20T11:47:18.912Z"
   },
   {
    "duration": 122,
    "start_time": "2022-06-20T11:47:19.074Z"
   },
   {
    "duration": 167,
    "start_time": "2022-06-20T11:47:19.197Z"
   },
   {
    "duration": 159,
    "start_time": "2022-06-20T11:47:19.366Z"
   },
   {
    "duration": 5,
    "start_time": "2022-06-20T11:47:19.527Z"
   },
   {
    "duration": 7,
    "start_time": "2022-06-20T11:47:19.534Z"
   },
   {
    "duration": 256,
    "start_time": "2022-06-20T11:47:19.542Z"
   },
   {
    "duration": 8,
    "start_time": "2022-06-20T11:47:19.800Z"
   },
   {
    "duration": 6,
    "start_time": "2022-06-20T11:47:19.810Z"
   },
   {
    "duration": 8,
    "start_time": "2022-06-20T11:47:19.817Z"
   },
   {
    "duration": 217,
    "start_time": "2022-06-20T11:47:19.827Z"
   },
   {
    "duration": 28,
    "start_time": "2022-06-20T11:47:20.046Z"
   },
   {
    "duration": 19,
    "start_time": "2022-06-20T11:47:20.076Z"
   },
   {
    "duration": 63,
    "start_time": "2022-06-20T11:47:20.097Z"
   },
   {
    "duration": 124,
    "start_time": "2022-06-20T11:47:20.162Z"
   },
   {
    "duration": 13,
    "start_time": "2022-06-20T11:51:59.973Z"
   },
   {
    "duration": 13,
    "start_time": "2022-06-20T11:53:45.854Z"
   },
   {
    "duration": 15,
    "start_time": "2022-06-20T11:54:18.577Z"
   },
   {
    "duration": 1340,
    "start_time": "2022-06-20T11:56:04.232Z"
   },
   {
    "duration": 49,
    "start_time": "2022-06-20T11:56:05.573Z"
   },
   {
    "duration": 22,
    "start_time": "2022-06-20T11:56:05.624Z"
   },
   {
    "duration": 21,
    "start_time": "2022-06-20T11:56:05.648Z"
   },
   {
    "duration": 18,
    "start_time": "2022-06-20T11:56:05.671Z"
   },
   {
    "duration": 14,
    "start_time": "2022-06-20T11:56:05.690Z"
   },
   {
    "duration": 8,
    "start_time": "2022-06-20T11:56:05.705Z"
   },
   {
    "duration": 11,
    "start_time": "2022-06-20T11:56:05.715Z"
   },
   {
    "duration": 9,
    "start_time": "2022-06-20T11:56:05.728Z"
   },
   {
    "duration": 27,
    "start_time": "2022-06-20T11:56:05.740Z"
   },
   {
    "duration": 9,
    "start_time": "2022-06-20T11:56:05.769Z"
   },
   {
    "duration": 13,
    "start_time": "2022-06-20T11:56:05.779Z"
   },
   {
    "duration": 18,
    "start_time": "2022-06-20T11:56:05.794Z"
   },
   {
    "duration": 16,
    "start_time": "2022-06-20T11:56:05.813Z"
   },
   {
    "duration": 28,
    "start_time": "2022-06-20T11:56:05.831Z"
   },
   {
    "duration": 15,
    "start_time": "2022-06-20T11:56:05.860Z"
   },
   {
    "duration": 6,
    "start_time": "2022-06-20T11:56:05.876Z"
   },
   {
    "duration": 7,
    "start_time": "2022-06-20T11:56:05.883Z"
   },
   {
    "duration": 7,
    "start_time": "2022-06-20T11:56:05.892Z"
   },
   {
    "duration": 7,
    "start_time": "2022-06-20T11:56:05.901Z"
   },
   {
    "duration": 8,
    "start_time": "2022-06-20T11:56:05.909Z"
   },
   {
    "duration": 9,
    "start_time": "2022-06-20T11:56:05.919Z"
   },
   {
    "duration": 5,
    "start_time": "2022-06-20T11:56:05.929Z"
   },
   {
    "duration": 38,
    "start_time": "2022-06-20T11:56:05.935Z"
   },
   {
    "duration": 4,
    "start_time": "2022-06-20T11:56:05.975Z"
   },
   {
    "duration": 21,
    "start_time": "2022-06-20T11:56:05.981Z"
   },
   {
    "duration": 22,
    "start_time": "2022-06-20T11:56:06.004Z"
   },
   {
    "duration": 4,
    "start_time": "2022-06-20T11:56:06.058Z"
   },
   {
    "duration": 6,
    "start_time": "2022-06-20T11:56:06.063Z"
   },
   {
    "duration": 161,
    "start_time": "2022-06-20T11:56:06.071Z"
   },
   {
    "duration": 134,
    "start_time": "2022-06-20T11:56:06.233Z"
   },
   {
    "duration": 176,
    "start_time": "2022-06-20T11:56:06.369Z"
   },
   {
    "duration": 158,
    "start_time": "2022-06-20T11:56:06.547Z"
   },
   {
    "duration": 6,
    "start_time": "2022-06-20T11:56:06.707Z"
   },
   {
    "duration": 10,
    "start_time": "2022-06-20T11:56:06.714Z"
   },
   {
    "duration": 269,
    "start_time": "2022-06-20T11:56:06.726Z"
   },
   {
    "duration": 7,
    "start_time": "2022-06-20T11:56:06.997Z"
   },
   {
    "duration": 6,
    "start_time": "2022-06-20T11:56:07.006Z"
   },
   {
    "duration": 6,
    "start_time": "2022-06-20T11:56:07.014Z"
   },
   {
    "duration": 221,
    "start_time": "2022-06-20T11:56:07.022Z"
   },
   {
    "duration": 24,
    "start_time": "2022-06-20T11:56:07.245Z"
   },
   {
    "duration": 122,
    "start_time": "2022-06-20T11:56:07.271Z"
   },
   {
    "duration": 0,
    "start_time": "2022-06-20T11:56:07.394Z"
   },
   {
    "duration": 0,
    "start_time": "2022-06-20T11:56:07.396Z"
   },
   {
    "duration": 18,
    "start_time": "2022-06-20T11:57:21.473Z"
   },
   {
    "duration": 17,
    "start_time": "2022-06-20T11:57:22.817Z"
   },
   {
    "duration": 5,
    "start_time": "2022-06-20T11:57:53.130Z"
   },
   {
    "duration": 22,
    "start_time": "2022-06-20T11:58:31.654Z"
   },
   {
    "duration": 14,
    "start_time": "2022-06-20T11:58:51.308Z"
   },
   {
    "duration": 23,
    "start_time": "2022-06-20T11:59:05.549Z"
   },
   {
    "duration": 23,
    "start_time": "2022-06-20T11:59:10.949Z"
   },
   {
    "duration": 15,
    "start_time": "2022-06-20T12:01:06.752Z"
   },
   {
    "duration": 16,
    "start_time": "2022-06-20T12:01:13.703Z"
   },
   {
    "duration": 21,
    "start_time": "2022-06-20T12:01:26.996Z"
   },
   {
    "duration": 17,
    "start_time": "2022-06-20T12:03:50.552Z"
   },
   {
    "duration": 17,
    "start_time": "2022-06-20T12:11:07.382Z"
   },
   {
    "duration": 1381,
    "start_time": "2022-06-20T12:12:35.284Z"
   },
   {
    "duration": 67,
    "start_time": "2022-06-20T12:12:36.668Z"
   },
   {
    "duration": 20,
    "start_time": "2022-06-20T12:12:36.737Z"
   },
   {
    "duration": 28,
    "start_time": "2022-06-20T12:12:36.760Z"
   },
   {
    "duration": 17,
    "start_time": "2022-06-20T12:12:36.789Z"
   },
   {
    "duration": 14,
    "start_time": "2022-06-20T12:12:36.808Z"
   },
   {
    "duration": 11,
    "start_time": "2022-06-20T12:12:36.824Z"
   },
   {
    "duration": 21,
    "start_time": "2022-06-20T12:12:36.837Z"
   },
   {
    "duration": 23,
    "start_time": "2022-06-20T12:12:36.860Z"
   },
   {
    "duration": 23,
    "start_time": "2022-06-20T12:12:36.885Z"
   },
   {
    "duration": 13,
    "start_time": "2022-06-20T12:12:36.910Z"
   },
   {
    "duration": 14,
    "start_time": "2022-06-20T12:12:36.925Z"
   },
   {
    "duration": 17,
    "start_time": "2022-06-20T12:12:36.941Z"
   },
   {
    "duration": 30,
    "start_time": "2022-06-20T12:12:36.960Z"
   },
   {
    "duration": 18,
    "start_time": "2022-06-20T12:12:36.991Z"
   },
   {
    "duration": 15,
    "start_time": "2022-06-20T12:12:37.011Z"
   },
   {
    "duration": 6,
    "start_time": "2022-06-20T12:12:37.028Z"
   },
   {
    "duration": 13,
    "start_time": "2022-06-20T12:12:37.035Z"
   },
   {
    "duration": 17,
    "start_time": "2022-06-20T12:12:37.050Z"
   },
   {
    "duration": 11,
    "start_time": "2022-06-20T12:12:37.072Z"
   },
   {
    "duration": 10,
    "start_time": "2022-06-20T12:12:37.084Z"
   },
   {
    "duration": 9,
    "start_time": "2022-06-20T12:12:37.095Z"
   },
   {
    "duration": 6,
    "start_time": "2022-06-20T12:12:37.105Z"
   },
   {
    "duration": 23,
    "start_time": "2022-06-20T12:12:37.113Z"
   },
   {
    "duration": 4,
    "start_time": "2022-06-20T12:12:37.137Z"
   },
   {
    "duration": 27,
    "start_time": "2022-06-20T12:12:37.142Z"
   },
   {
    "duration": 24,
    "start_time": "2022-06-20T12:12:37.171Z"
   },
   {
    "duration": 3,
    "start_time": "2022-06-20T12:12:37.198Z"
   },
   {
    "duration": 12,
    "start_time": "2022-06-20T12:12:37.202Z"
   },
   {
    "duration": 171,
    "start_time": "2022-06-20T12:12:37.215Z"
   },
   {
    "duration": 168,
    "start_time": "2022-06-20T12:12:37.395Z"
   },
   {
    "duration": 222,
    "start_time": "2022-06-20T12:12:37.565Z"
   },
   {
    "duration": 161,
    "start_time": "2022-06-20T12:12:37.788Z"
   },
   {
    "duration": 11,
    "start_time": "2022-06-20T12:12:37.950Z"
   },
   {
    "duration": 18,
    "start_time": "2022-06-20T12:12:37.964Z"
   },
   {
    "duration": 265,
    "start_time": "2022-06-20T12:12:37.984Z"
   },
   {
    "duration": 14,
    "start_time": "2022-06-20T12:12:38.251Z"
   },
   {
    "duration": 12,
    "start_time": "2022-06-20T12:12:38.267Z"
   },
   {
    "duration": 9,
    "start_time": "2022-06-20T12:12:38.280Z"
   },
   {
    "duration": 210,
    "start_time": "2022-06-20T12:12:38.290Z"
   },
   {
    "duration": 20,
    "start_time": "2022-06-20T12:12:38.502Z"
   },
   {
    "duration": 129,
    "start_time": "2022-06-20T12:12:38.523Z"
   },
   {
    "duration": 0,
    "start_time": "2022-06-20T12:12:38.654Z"
   },
   {
    "duration": 0,
    "start_time": "2022-06-20T12:12:38.659Z"
   },
   {
    "duration": 0,
    "start_time": "2022-06-20T12:12:38.661Z"
   },
   {
    "duration": 0,
    "start_time": "2022-06-20T12:12:38.662Z"
   },
   {
    "duration": 1424,
    "start_time": "2022-06-20T12:13:41.261Z"
   },
   {
    "duration": 52,
    "start_time": "2022-06-20T12:13:42.687Z"
   },
   {
    "duration": 35,
    "start_time": "2022-06-20T12:13:42.741Z"
   },
   {
    "duration": 21,
    "start_time": "2022-06-20T12:13:42.779Z"
   },
   {
    "duration": 18,
    "start_time": "2022-06-20T12:13:42.802Z"
   },
   {
    "duration": 14,
    "start_time": "2022-06-20T12:13:42.822Z"
   },
   {
    "duration": 8,
    "start_time": "2022-06-20T12:13:42.837Z"
   },
   {
    "duration": 11,
    "start_time": "2022-06-20T12:13:42.846Z"
   },
   {
    "duration": 19,
    "start_time": "2022-06-20T12:13:42.860Z"
   },
   {
    "duration": 12,
    "start_time": "2022-06-20T12:13:42.881Z"
   },
   {
    "duration": 7,
    "start_time": "2022-06-20T12:13:42.894Z"
   },
   {
    "duration": 8,
    "start_time": "2022-06-20T12:13:42.902Z"
   },
   {
    "duration": 16,
    "start_time": "2022-06-20T12:13:42.911Z"
   },
   {
    "duration": 29,
    "start_time": "2022-06-20T12:13:42.933Z"
   },
   {
    "duration": 19,
    "start_time": "2022-06-20T12:13:42.964Z"
   },
   {
    "duration": 16,
    "start_time": "2022-06-20T12:13:42.985Z"
   },
   {
    "duration": 12,
    "start_time": "2022-06-20T12:13:43.003Z"
   },
   {
    "duration": 18,
    "start_time": "2022-06-20T12:13:43.017Z"
   },
   {
    "duration": 11,
    "start_time": "2022-06-20T12:13:43.037Z"
   },
   {
    "duration": 9,
    "start_time": "2022-06-20T12:13:43.050Z"
   },
   {
    "duration": 34,
    "start_time": "2022-06-20T12:13:43.061Z"
   },
   {
    "duration": 6,
    "start_time": "2022-06-20T12:13:43.097Z"
   },
   {
    "duration": 12,
    "start_time": "2022-06-20T12:13:43.105Z"
   },
   {
    "duration": 18,
    "start_time": "2022-06-20T12:13:43.118Z"
   },
   {
    "duration": 3,
    "start_time": "2022-06-20T12:13:43.138Z"
   },
   {
    "duration": 36,
    "start_time": "2022-06-20T12:13:43.143Z"
   },
   {
    "duration": 32,
    "start_time": "2022-06-20T12:13:43.181Z"
   },
   {
    "duration": 3,
    "start_time": "2022-06-20T12:13:43.216Z"
   },
   {
    "duration": 6,
    "start_time": "2022-06-20T12:13:43.220Z"
   },
   {
    "duration": 193,
    "start_time": "2022-06-20T12:13:43.227Z"
   },
   {
    "duration": 165,
    "start_time": "2022-06-20T12:13:43.422Z"
   },
   {
    "duration": 192,
    "start_time": "2022-06-20T12:13:43.589Z"
   },
   {
    "duration": 166,
    "start_time": "2022-06-20T12:13:43.782Z"
   },
   {
    "duration": 13,
    "start_time": "2022-06-20T12:13:43.949Z"
   },
   {
    "duration": 30,
    "start_time": "2022-06-20T12:13:43.964Z"
   },
   {
    "duration": 284,
    "start_time": "2022-06-20T12:13:43.996Z"
   },
   {
    "duration": 12,
    "start_time": "2022-06-20T12:13:44.282Z"
   },
   {
    "duration": 6,
    "start_time": "2022-06-20T12:13:44.295Z"
   },
   {
    "duration": 8,
    "start_time": "2022-06-20T12:13:44.302Z"
   },
   {
    "duration": 226,
    "start_time": "2022-06-20T12:13:44.311Z"
   },
   {
    "duration": 32,
    "start_time": "2022-06-20T12:13:44.539Z"
   },
   {
    "duration": 158,
    "start_time": "2022-06-20T12:13:44.573Z"
   },
   {
    "duration": 0,
    "start_time": "2022-06-20T12:13:44.733Z"
   },
   {
    "duration": 0,
    "start_time": "2022-06-20T12:13:44.734Z"
   },
   {
    "duration": 0,
    "start_time": "2022-06-20T12:13:44.735Z"
   },
   {
    "duration": 0,
    "start_time": "2022-06-20T12:13:44.736Z"
   },
   {
    "duration": 1394,
    "start_time": "2022-06-20T12:14:15.818Z"
   },
   {
    "duration": 64,
    "start_time": "2022-06-20T12:14:17.215Z"
   },
   {
    "duration": 22,
    "start_time": "2022-06-20T12:14:17.282Z"
   },
   {
    "duration": 26,
    "start_time": "2022-06-20T12:14:17.307Z"
   },
   {
    "duration": 20,
    "start_time": "2022-06-20T12:14:17.335Z"
   },
   {
    "duration": 27,
    "start_time": "2022-06-20T12:14:17.357Z"
   },
   {
    "duration": 15,
    "start_time": "2022-06-20T12:14:17.386Z"
   },
   {
    "duration": 21,
    "start_time": "2022-06-20T12:14:17.403Z"
   },
   {
    "duration": 12,
    "start_time": "2022-06-20T12:14:17.426Z"
   },
   {
    "duration": 23,
    "start_time": "2022-06-20T12:14:17.442Z"
   },
   {
    "duration": 10,
    "start_time": "2022-06-20T12:14:17.467Z"
   },
   {
    "duration": 19,
    "start_time": "2022-06-20T12:14:17.479Z"
   },
   {
    "duration": 22,
    "start_time": "2022-06-20T12:14:17.500Z"
   },
   {
    "duration": 21,
    "start_time": "2022-06-20T12:14:17.524Z"
   },
   {
    "duration": 17,
    "start_time": "2022-06-20T12:14:17.546Z"
   },
   {
    "duration": 22,
    "start_time": "2022-06-20T12:14:17.570Z"
   },
   {
    "duration": 8,
    "start_time": "2022-06-20T12:14:17.594Z"
   },
   {
    "duration": 11,
    "start_time": "2022-06-20T12:14:17.604Z"
   },
   {
    "duration": 9,
    "start_time": "2022-06-20T12:14:17.617Z"
   },
   {
    "duration": 7,
    "start_time": "2022-06-20T12:14:17.628Z"
   },
   {
    "duration": 26,
    "start_time": "2022-06-20T12:14:17.636Z"
   },
   {
    "duration": 8,
    "start_time": "2022-06-20T12:14:17.663Z"
   },
   {
    "duration": 10,
    "start_time": "2022-06-20T12:14:17.673Z"
   },
   {
    "duration": 18,
    "start_time": "2022-06-20T12:14:17.685Z"
   },
   {
    "duration": 4,
    "start_time": "2022-06-20T12:14:17.705Z"
   },
   {
    "duration": 23,
    "start_time": "2022-06-20T12:14:17.711Z"
   },
   {
    "duration": 36,
    "start_time": "2022-06-20T12:14:17.735Z"
   },
   {
    "duration": 4,
    "start_time": "2022-06-20T12:14:17.776Z"
   },
   {
    "duration": 6,
    "start_time": "2022-06-20T12:14:17.781Z"
   },
   {
    "duration": 161,
    "start_time": "2022-06-20T12:14:17.788Z"
   },
   {
    "duration": 140,
    "start_time": "2022-06-20T12:14:17.950Z"
   },
   {
    "duration": 185,
    "start_time": "2022-06-20T12:14:18.092Z"
   },
   {
    "duration": 158,
    "start_time": "2022-06-20T12:14:18.279Z"
   },
   {
    "duration": 7,
    "start_time": "2022-06-20T12:14:18.439Z"
   },
   {
    "duration": 28,
    "start_time": "2022-06-20T12:14:18.447Z"
   },
   {
    "duration": 276,
    "start_time": "2022-06-20T12:14:18.477Z"
   },
   {
    "duration": 13,
    "start_time": "2022-06-20T12:14:18.755Z"
   },
   {
    "duration": 15,
    "start_time": "2022-06-20T12:14:18.773Z"
   },
   {
    "duration": 17,
    "start_time": "2022-06-20T12:14:18.790Z"
   },
   {
    "duration": 200,
    "start_time": "2022-06-20T12:14:18.809Z"
   },
   {
    "duration": 19,
    "start_time": "2022-06-20T12:14:19.011Z"
   },
   {
    "duration": 4,
    "start_time": "2022-06-20T12:14:19.032Z"
   },
   {
    "duration": 37,
    "start_time": "2022-06-20T12:14:19.037Z"
   },
   {
    "duration": 5,
    "start_time": "2022-06-20T12:14:19.077Z"
   },
   {
    "duration": 21,
    "start_time": "2022-06-20T12:14:19.084Z"
   },
   {
    "duration": 40,
    "start_time": "2022-06-20T12:14:19.107Z"
   },
   {
    "duration": 1493,
    "start_time": "2022-06-20T12:18:02.835Z"
   },
   {
    "duration": 72,
    "start_time": "2022-06-20T12:18:04.330Z"
   },
   {
    "duration": 20,
    "start_time": "2022-06-20T12:18:04.404Z"
   },
   {
    "duration": 21,
    "start_time": "2022-06-20T12:18:04.426Z"
   },
   {
    "duration": 25,
    "start_time": "2022-06-20T12:18:04.450Z"
   },
   {
    "duration": 16,
    "start_time": "2022-06-20T12:18:04.477Z"
   },
   {
    "duration": 8,
    "start_time": "2022-06-20T12:18:04.495Z"
   },
   {
    "duration": 13,
    "start_time": "2022-06-20T12:18:04.505Z"
   },
   {
    "duration": 10,
    "start_time": "2022-06-20T12:18:04.520Z"
   },
   {
    "duration": 31,
    "start_time": "2022-06-20T12:18:04.533Z"
   },
   {
    "duration": 12,
    "start_time": "2022-06-20T12:18:04.566Z"
   },
   {
    "duration": 11,
    "start_time": "2022-06-20T12:18:04.580Z"
   },
   {
    "duration": 21,
    "start_time": "2022-06-20T12:18:04.593Z"
   },
   {
    "duration": 18,
    "start_time": "2022-06-20T12:18:04.615Z"
   },
   {
    "duration": 33,
    "start_time": "2022-06-20T12:18:04.635Z"
   },
   {
    "duration": 21,
    "start_time": "2022-06-20T12:18:04.670Z"
   },
   {
    "duration": 13,
    "start_time": "2022-06-20T12:18:04.693Z"
   },
   {
    "duration": 13,
    "start_time": "2022-06-20T12:18:04.707Z"
   },
   {
    "duration": 9,
    "start_time": "2022-06-20T12:18:04.722Z"
   },
   {
    "duration": 11,
    "start_time": "2022-06-20T12:18:04.732Z"
   },
   {
    "duration": 11,
    "start_time": "2022-06-20T12:18:04.745Z"
   },
   {
    "duration": 27,
    "start_time": "2022-06-20T12:18:04.760Z"
   },
   {
    "duration": 5,
    "start_time": "2022-06-20T12:18:04.789Z"
   },
   {
    "duration": 18,
    "start_time": "2022-06-20T12:18:04.796Z"
   },
   {
    "duration": 4,
    "start_time": "2022-06-20T12:18:04.816Z"
   },
   {
    "duration": 24,
    "start_time": "2022-06-20T12:18:04.822Z"
   },
   {
    "duration": 36,
    "start_time": "2022-06-20T12:18:04.847Z"
   },
   {
    "duration": 3,
    "start_time": "2022-06-20T12:18:04.886Z"
   },
   {
    "duration": 6,
    "start_time": "2022-06-20T12:18:04.891Z"
   },
   {
    "duration": 187,
    "start_time": "2022-06-20T12:18:04.898Z"
   },
   {
    "duration": 136,
    "start_time": "2022-06-20T12:18:05.087Z"
   },
   {
    "duration": 181,
    "start_time": "2022-06-20T12:18:05.225Z"
   },
   {
    "duration": 178,
    "start_time": "2022-06-20T12:18:05.407Z"
   },
   {
    "duration": 7,
    "start_time": "2022-06-20T12:18:05.587Z"
   },
   {
    "duration": 11,
    "start_time": "2022-06-20T12:18:05.595Z"
   },
   {
    "duration": 303,
    "start_time": "2022-06-20T12:18:05.607Z"
   },
   {
    "duration": 9,
    "start_time": "2022-06-20T12:18:05.912Z"
   },
   {
    "duration": 7,
    "start_time": "2022-06-20T12:18:05.922Z"
   },
   {
    "duration": 7,
    "start_time": "2022-06-20T12:18:05.930Z"
   },
   {
    "duration": 235,
    "start_time": "2022-06-20T12:18:05.962Z"
   },
   {
    "duration": 21,
    "start_time": "2022-06-20T12:18:06.199Z"
   },
   {
    "duration": 45,
    "start_time": "2022-06-20T12:18:06.222Z"
   },
   {
    "duration": 6,
    "start_time": "2022-06-20T12:18:06.270Z"
   },
   {
    "duration": 17,
    "start_time": "2022-06-20T12:18:06.279Z"
   },
   {
    "duration": 7,
    "start_time": "2022-06-20T12:18:06.298Z"
   },
   {
    "duration": 1444,
    "start_time": "2022-06-20T12:20:43.014Z"
   },
   {
    "duration": 55,
    "start_time": "2022-06-20T12:20:44.460Z"
   },
   {
    "duration": 21,
    "start_time": "2022-06-20T12:20:44.516Z"
   },
   {
    "duration": 22,
    "start_time": "2022-06-20T12:20:44.539Z"
   },
   {
    "duration": 26,
    "start_time": "2022-06-20T12:20:44.563Z"
   },
   {
    "duration": 14,
    "start_time": "2022-06-20T12:20:44.591Z"
   },
   {
    "duration": 12,
    "start_time": "2022-06-20T12:20:44.606Z"
   },
   {
    "duration": 16,
    "start_time": "2022-06-20T12:20:44.620Z"
   },
   {
    "duration": 11,
    "start_time": "2022-06-20T12:20:44.638Z"
   },
   {
    "duration": 18,
    "start_time": "2022-06-20T12:20:44.652Z"
   },
   {
    "duration": 20,
    "start_time": "2022-06-20T12:20:44.672Z"
   },
   {
    "duration": 9,
    "start_time": "2022-06-20T12:20:44.694Z"
   },
   {
    "duration": 24,
    "start_time": "2022-06-20T12:20:44.705Z"
   },
   {
    "duration": 19,
    "start_time": "2022-06-20T12:20:44.731Z"
   },
   {
    "duration": 45,
    "start_time": "2022-06-20T12:20:44.752Z"
   },
   {
    "duration": 16,
    "start_time": "2022-06-20T12:20:44.799Z"
   },
   {
    "duration": 12,
    "start_time": "2022-06-20T12:20:44.817Z"
   },
   {
    "duration": 25,
    "start_time": "2022-06-20T12:20:44.830Z"
   },
   {
    "duration": 25,
    "start_time": "2022-06-20T12:20:44.857Z"
   },
   {
    "duration": 17,
    "start_time": "2022-06-20T12:20:44.884Z"
   },
   {
    "duration": 10,
    "start_time": "2022-06-20T12:20:44.903Z"
   },
   {
    "duration": 22,
    "start_time": "2022-06-20T12:20:44.915Z"
   },
   {
    "duration": 10,
    "start_time": "2022-06-20T12:20:44.939Z"
   },
   {
    "duration": 34,
    "start_time": "2022-06-20T12:20:44.950Z"
   },
   {
    "duration": 9,
    "start_time": "2022-06-20T12:20:44.986Z"
   },
   {
    "duration": 38,
    "start_time": "2022-06-20T12:20:44.996Z"
   },
   {
    "duration": 48,
    "start_time": "2022-06-20T12:20:45.036Z"
   },
   {
    "duration": 10,
    "start_time": "2022-06-20T12:20:45.087Z"
   },
   {
    "duration": 12,
    "start_time": "2022-06-20T12:20:45.098Z"
   },
   {
    "duration": 176,
    "start_time": "2022-06-20T12:20:45.111Z"
   },
   {
    "duration": 139,
    "start_time": "2022-06-20T12:20:45.289Z"
   },
   {
    "duration": 188,
    "start_time": "2022-06-20T12:20:45.429Z"
   },
   {
    "duration": 175,
    "start_time": "2022-06-20T12:20:45.619Z"
   },
   {
    "duration": 6,
    "start_time": "2022-06-20T12:20:45.796Z"
   },
   {
    "duration": 27,
    "start_time": "2022-06-20T12:20:45.804Z"
   },
   {
    "duration": 307,
    "start_time": "2022-06-20T12:20:45.832Z"
   },
   {
    "duration": 19,
    "start_time": "2022-06-20T12:20:46.141Z"
   },
   {
    "duration": 21,
    "start_time": "2022-06-20T12:20:46.162Z"
   },
   {
    "duration": 21,
    "start_time": "2022-06-20T12:20:46.185Z"
   },
   {
    "duration": 236,
    "start_time": "2022-06-20T12:20:46.208Z"
   },
   {
    "duration": 29,
    "start_time": "2022-06-20T12:20:46.446Z"
   },
   {
    "duration": 28,
    "start_time": "2022-06-20T12:20:46.477Z"
   },
   {
    "duration": 19,
    "start_time": "2022-06-20T12:20:46.507Z"
   },
   {
    "duration": 52,
    "start_time": "2022-06-20T12:20:46.529Z"
   },
   {
    "duration": 5,
    "start_time": "2022-06-20T12:20:46.583Z"
   },
   {
    "duration": 1420,
    "start_time": "2022-06-20T12:25:14.587Z"
   },
   {
    "duration": 53,
    "start_time": "2022-06-20T12:25:16.009Z"
   },
   {
    "duration": 29,
    "start_time": "2022-06-20T12:25:16.064Z"
   },
   {
    "duration": 21,
    "start_time": "2022-06-20T12:25:16.095Z"
   },
   {
    "duration": 19,
    "start_time": "2022-06-20T12:25:16.117Z"
   },
   {
    "duration": 14,
    "start_time": "2022-06-20T12:25:16.137Z"
   },
   {
    "duration": 15,
    "start_time": "2022-06-20T12:25:16.153Z"
   },
   {
    "duration": 16,
    "start_time": "2022-06-20T12:25:16.175Z"
   },
   {
    "duration": 8,
    "start_time": "2022-06-20T12:25:16.192Z"
   },
   {
    "duration": 11,
    "start_time": "2022-06-20T12:25:16.203Z"
   },
   {
    "duration": 6,
    "start_time": "2022-06-20T12:25:16.216Z"
   },
   {
    "duration": 7,
    "start_time": "2022-06-20T12:25:16.224Z"
   },
   {
    "duration": 37,
    "start_time": "2022-06-20T12:25:16.233Z"
   },
   {
    "duration": 16,
    "start_time": "2022-06-20T12:25:16.274Z"
   },
   {
    "duration": 12,
    "start_time": "2022-06-20T12:25:16.291Z"
   },
   {
    "duration": 16,
    "start_time": "2022-06-20T12:25:16.305Z"
   },
   {
    "duration": 6,
    "start_time": "2022-06-20T12:25:16.322Z"
   },
   {
    "duration": 31,
    "start_time": "2022-06-20T12:25:16.329Z"
   },
   {
    "duration": 20,
    "start_time": "2022-06-20T12:25:16.362Z"
   },
   {
    "duration": 9,
    "start_time": "2022-06-20T12:25:16.384Z"
   },
   {
    "duration": 9,
    "start_time": "2022-06-20T12:25:16.394Z"
   },
   {
    "duration": 5,
    "start_time": "2022-06-20T12:25:16.404Z"
   },
   {
    "duration": 7,
    "start_time": "2022-06-20T12:25:16.411Z"
   },
   {
    "duration": 21,
    "start_time": "2022-06-20T12:25:16.420Z"
   },
   {
    "duration": 4,
    "start_time": "2022-06-20T12:25:16.442Z"
   },
   {
    "duration": 35,
    "start_time": "2022-06-20T12:25:16.448Z"
   },
   {
    "duration": 22,
    "start_time": "2022-06-20T12:25:16.485Z"
   },
   {
    "duration": 4,
    "start_time": "2022-06-20T12:25:16.510Z"
   },
   {
    "duration": 11,
    "start_time": "2022-06-20T12:25:16.515Z"
   },
   {
    "duration": 181,
    "start_time": "2022-06-20T12:25:16.528Z"
   },
   {
    "duration": 150,
    "start_time": "2022-06-20T12:25:16.711Z"
   },
   {
    "duration": 176,
    "start_time": "2022-06-20T12:25:16.864Z"
   },
   {
    "duration": 197,
    "start_time": "2022-06-20T12:25:17.041Z"
   },
   {
    "duration": 10,
    "start_time": "2022-06-20T12:25:17.241Z"
   },
   {
    "duration": 30,
    "start_time": "2022-06-20T12:25:17.259Z"
   },
   {
    "duration": 375,
    "start_time": "2022-06-20T12:25:17.291Z"
   },
   {
    "duration": 11,
    "start_time": "2022-06-20T12:25:17.668Z"
   },
   {
    "duration": 23,
    "start_time": "2022-06-20T12:25:17.681Z"
   },
   {
    "duration": 16,
    "start_time": "2022-06-20T12:25:17.705Z"
   },
   {
    "duration": 226,
    "start_time": "2022-06-20T12:25:17.723Z"
   },
   {
    "duration": 34,
    "start_time": "2022-06-20T12:25:17.951Z"
   },
   {
    "duration": 21,
    "start_time": "2022-06-20T12:25:17.986Z"
   },
   {
    "duration": 25,
    "start_time": "2022-06-20T12:25:18.008Z"
   },
   {
    "duration": 57,
    "start_time": "2022-06-20T12:25:18.035Z"
   },
   {
    "duration": 126,
    "start_time": "2022-06-20T12:25:18.094Z"
   },
   {
    "duration": 0,
    "start_time": "2022-06-20T12:25:18.221Z"
   },
   {
    "duration": 3,
    "start_time": "2022-06-20T12:26:59.889Z"
   },
   {
    "duration": 6,
    "start_time": "2022-06-20T12:27:00.587Z"
   },
   {
    "duration": 9,
    "start_time": "2022-06-20T12:27:57.818Z"
   },
   {
    "duration": 4,
    "start_time": "2022-06-20T12:28:13.663Z"
   },
   {
    "duration": 1401,
    "start_time": "2022-06-20T12:31:29.685Z"
   },
   {
    "duration": 49,
    "start_time": "2022-06-20T12:31:31.088Z"
   },
   {
    "duration": 27,
    "start_time": "2022-06-20T12:31:31.138Z"
   },
   {
    "duration": 34,
    "start_time": "2022-06-20T12:31:31.167Z"
   },
   {
    "duration": 18,
    "start_time": "2022-06-20T12:31:31.202Z"
   },
   {
    "duration": 51,
    "start_time": "2022-06-20T12:31:31.221Z"
   },
   {
    "duration": 47,
    "start_time": "2022-06-20T12:31:31.274Z"
   },
   {
    "duration": 23,
    "start_time": "2022-06-20T12:31:31.322Z"
   },
   {
    "duration": 24,
    "start_time": "2022-06-20T12:31:31.346Z"
   },
   {
    "duration": 32,
    "start_time": "2022-06-20T12:31:31.372Z"
   },
   {
    "duration": 16,
    "start_time": "2022-06-20T12:31:31.405Z"
   },
   {
    "duration": 9,
    "start_time": "2022-06-20T12:31:31.422Z"
   },
   {
    "duration": 35,
    "start_time": "2022-06-20T12:31:31.432Z"
   },
   {
    "duration": 35,
    "start_time": "2022-06-20T12:31:31.472Z"
   },
   {
    "duration": 16,
    "start_time": "2022-06-20T12:31:31.508Z"
   },
   {
    "duration": 16,
    "start_time": "2022-06-20T12:31:31.525Z"
   },
   {
    "duration": 5,
    "start_time": "2022-06-20T12:31:31.543Z"
   },
   {
    "duration": 40,
    "start_time": "2022-06-20T12:31:31.550Z"
   },
   {
    "duration": 12,
    "start_time": "2022-06-20T12:31:31.592Z"
   },
   {
    "duration": 27,
    "start_time": "2022-06-20T12:31:31.606Z"
   },
   {
    "duration": 16,
    "start_time": "2022-06-20T12:31:31.634Z"
   },
   {
    "duration": 33,
    "start_time": "2022-06-20T12:31:31.652Z"
   },
   {
    "duration": 20,
    "start_time": "2022-06-20T12:31:31.687Z"
   },
   {
    "duration": 34,
    "start_time": "2022-06-20T12:31:31.708Z"
   },
   {
    "duration": 4,
    "start_time": "2022-06-20T12:31:31.744Z"
   },
   {
    "duration": 58,
    "start_time": "2022-06-20T12:31:31.750Z"
   },
   {
    "duration": 21,
    "start_time": "2022-06-20T12:31:31.810Z"
   },
   {
    "duration": 5,
    "start_time": "2022-06-20T12:31:31.833Z"
   },
   {
    "duration": 14,
    "start_time": "2022-06-20T12:31:31.839Z"
   },
   {
    "duration": 188,
    "start_time": "2022-06-20T12:31:31.854Z"
   },
   {
    "duration": 144,
    "start_time": "2022-06-20T12:31:32.043Z"
   },
   {
    "duration": 166,
    "start_time": "2022-06-20T12:31:32.189Z"
   },
   {
    "duration": 175,
    "start_time": "2022-06-20T12:31:32.364Z"
   },
   {
    "duration": 6,
    "start_time": "2022-06-20T12:31:32.541Z"
   },
   {
    "duration": 20,
    "start_time": "2022-06-20T12:31:32.548Z"
   },
   {
    "duration": 289,
    "start_time": "2022-06-20T12:31:32.577Z"
   },
   {
    "duration": 10,
    "start_time": "2022-06-20T12:31:32.868Z"
   },
   {
    "duration": 16,
    "start_time": "2022-06-20T12:31:32.880Z"
   },
   {
    "duration": 8,
    "start_time": "2022-06-20T12:31:32.897Z"
   },
   {
    "duration": 254,
    "start_time": "2022-06-20T12:31:32.906Z"
   },
   {
    "duration": 17,
    "start_time": "2022-06-20T12:31:33.169Z"
   },
   {
    "duration": 15,
    "start_time": "2022-06-20T12:31:33.188Z"
   },
   {
    "duration": 10,
    "start_time": "2022-06-20T12:31:33.204Z"
   },
   {
    "duration": 6,
    "start_time": "2022-06-20T12:31:33.216Z"
   },
   {
    "duration": 12,
    "start_time": "2022-06-20T12:31:33.223Z"
   },
   {
    "duration": 4,
    "start_time": "2022-06-20T12:31:33.236Z"
   },
   {
    "duration": 145,
    "start_time": "2022-06-20T12:31:33.242Z"
   },
   {
    "duration": 14,
    "start_time": "2022-06-20T12:33:52.231Z"
   },
   {
    "duration": 20,
    "start_time": "2022-06-20T12:34:30.346Z"
   },
   {
    "duration": 10,
    "start_time": "2022-06-20T12:34:51.223Z"
   },
   {
    "duration": 1708,
    "start_time": "2022-06-21T10:09:35.396Z"
   },
   {
    "duration": 130,
    "start_time": "2022-06-21T10:09:37.107Z"
   },
   {
    "duration": 124,
    "start_time": "2022-06-21T10:09:37.239Z"
   },
   {
    "duration": 62,
    "start_time": "2022-06-21T10:09:37.366Z"
   },
   {
    "duration": 72,
    "start_time": "2022-06-21T10:09:37.431Z"
   },
   {
    "duration": 18,
    "start_time": "2022-06-21T10:09:37.505Z"
   },
   {
    "duration": 17,
    "start_time": "2022-06-21T10:09:37.525Z"
   },
   {
    "duration": 49,
    "start_time": "2022-06-21T10:09:37.544Z"
   },
   {
    "duration": 15,
    "start_time": "2022-06-21T10:09:37.594Z"
   },
   {
    "duration": 22,
    "start_time": "2022-06-21T10:09:37.613Z"
   },
   {
    "duration": 9,
    "start_time": "2022-06-21T10:09:37.637Z"
   },
   {
    "duration": 10,
    "start_time": "2022-06-21T10:09:37.649Z"
   },
   {
    "duration": 40,
    "start_time": "2022-06-21T10:09:37.661Z"
   },
   {
    "duration": 17,
    "start_time": "2022-06-21T10:09:37.703Z"
   },
   {
    "duration": 19,
    "start_time": "2022-06-21T10:09:37.722Z"
   },
   {
    "duration": 22,
    "start_time": "2022-06-21T10:09:37.743Z"
   },
   {
    "duration": 21,
    "start_time": "2022-06-21T10:09:37.768Z"
   },
   {
    "duration": 18,
    "start_time": "2022-06-21T10:09:37.792Z"
   },
   {
    "duration": 16,
    "start_time": "2022-06-21T10:09:37.812Z"
   },
   {
    "duration": 10,
    "start_time": "2022-06-21T10:09:37.830Z"
   },
   {
    "duration": 32,
    "start_time": "2022-06-21T10:09:37.841Z"
   },
   {
    "duration": 14,
    "start_time": "2022-06-21T10:09:37.875Z"
   },
   {
    "duration": 10,
    "start_time": "2022-06-21T10:09:37.891Z"
   },
   {
    "duration": 22,
    "start_time": "2022-06-21T10:09:37.903Z"
   },
   {
    "duration": 4,
    "start_time": "2022-06-21T10:09:37.927Z"
   },
   {
    "duration": 44,
    "start_time": "2022-06-21T10:09:37.933Z"
   },
   {
    "duration": 25,
    "start_time": "2022-06-21T10:09:37.979Z"
   },
   {
    "duration": 4,
    "start_time": "2022-06-21T10:09:38.007Z"
   },
   {
    "duration": 8,
    "start_time": "2022-06-21T10:09:38.012Z"
   },
   {
    "duration": 209,
    "start_time": "2022-06-21T10:09:38.021Z"
   },
   {
    "duration": 160,
    "start_time": "2022-06-21T10:09:38.233Z"
   },
   {
    "duration": 201,
    "start_time": "2022-06-21T10:09:38.395Z"
   },
   {
    "duration": 208,
    "start_time": "2022-06-21T10:09:38.598Z"
   },
   {
    "duration": 9,
    "start_time": "2022-06-21T10:09:38.808Z"
   },
   {
    "duration": 13,
    "start_time": "2022-06-21T10:09:38.819Z"
   },
   {
    "duration": 325,
    "start_time": "2022-06-21T10:09:38.835Z"
   },
   {
    "duration": 11,
    "start_time": "2022-06-21T10:09:39.162Z"
   },
   {
    "duration": 8,
    "start_time": "2022-06-21T10:09:39.176Z"
   },
   {
    "duration": 10,
    "start_time": "2022-06-21T10:09:39.187Z"
   },
   {
    "duration": 262,
    "start_time": "2022-06-21T10:09:39.200Z"
   },
   {
    "duration": 8,
    "start_time": "2022-06-21T10:09:39.464Z"
   },
   {
    "duration": 20,
    "start_time": "2022-06-21T10:09:39.474Z"
   },
   {
    "duration": 11,
    "start_time": "2022-06-21T10:09:39.496Z"
   },
   {
    "duration": 15,
    "start_time": "2022-06-21T10:09:39.509Z"
   },
   {
    "duration": 27,
    "start_time": "2022-06-21T10:09:39.526Z"
   },
   {
    "duration": 26,
    "start_time": "2022-06-21T10:09:39.555Z"
   },
   {
    "duration": 117,
    "start_time": "2022-06-21T10:09:39.583Z"
   },
   {
    "duration": 16,
    "start_time": "2022-06-21T10:09:52.992Z"
   },
   {
    "duration": 17,
    "start_time": "2022-06-21T10:11:23.150Z"
   },
   {
    "duration": 8,
    "start_time": "2022-06-21T10:11:46.928Z"
   },
   {
    "duration": 22,
    "start_time": "2022-06-21T10:14:15.332Z"
   },
   {
    "duration": 21,
    "start_time": "2022-06-21T10:14:39.089Z"
   },
   {
    "duration": 21,
    "start_time": "2022-06-21T10:15:20.448Z"
   },
   {
    "duration": 4,
    "start_time": "2022-06-21T10:30:41.061Z"
   },
   {
    "duration": 13,
    "start_time": "2022-06-21T10:30:42.104Z"
   },
   {
    "duration": 32,
    "start_time": "2022-06-21T10:30:43.435Z"
   },
   {
    "duration": 7,
    "start_time": "2022-06-21T10:31:18.037Z"
   },
   {
    "duration": 16,
    "start_time": "2022-06-21T10:31:54.490Z"
   },
   {
    "duration": 7,
    "start_time": "2022-06-21T10:31:55.392Z"
   },
   {
    "duration": 18,
    "start_time": "2022-06-21T10:32:02.265Z"
   },
   {
    "duration": 7,
    "start_time": "2022-06-21T10:32:03.250Z"
   },
   {
    "duration": 3,
    "start_time": "2022-06-21T10:43:07.575Z"
   },
   {
    "duration": 6,
    "start_time": "2022-06-21T10:54:17.746Z"
   },
   {
    "duration": 691,
    "start_time": "2022-06-21T10:54:35.793Z"
   },
   {
    "duration": 960093,
    "start_time": "2022-06-21T10:55:04.497Z"
   },
   {
    "duration": 5,
    "start_time": "2022-06-21T11:12:25.507Z"
   },
   {
    "duration": 70,
    "start_time": "2022-06-21T11:12:34.406Z"
   },
   {
    "duration": 4,
    "start_time": "2022-06-21T11:15:22.105Z"
   },
   {
    "duration": 211,
    "start_time": "2022-06-21T11:15:35.786Z"
   },
   {
    "duration": 5,
    "start_time": "2022-06-21T11:17:11.369Z"
   },
   {
    "duration": 238,
    "start_time": "2022-06-21T11:17:15.373Z"
   },
   {
    "duration": 119,
    "start_time": "2022-06-21T11:17:48.531Z"
   },
   {
    "duration": 249,
    "start_time": "2022-06-21T11:19:18.380Z"
   },
   {
    "duration": 587979,
    "start_time": "2022-06-21T11:19:26.946Z"
   },
   {
    "duration": 5,
    "start_time": "2022-06-21T11:29:14.927Z"
   },
   {
    "duration": 9,
    "start_time": "2022-06-21T11:29:14.934Z"
   },
   {
    "duration": 81,
    "start_time": "2022-06-21T11:29:14.945Z"
   },
   {
    "duration": 4,
    "start_time": "2022-06-21T11:29:25.788Z"
   },
   {
    "duration": 70,
    "start_time": "2022-06-21T11:30:07.004Z"
   },
   {
    "duration": 7,
    "start_time": "2022-06-21T11:31:10.709Z"
   },
   {
    "duration": 223,
    "start_time": "2022-06-21T11:31:17.256Z"
   },
   {
    "duration": 163,
    "start_time": "2022-06-21T11:32:11.885Z"
   },
   {
    "duration": 23283284,
    "start_time": "2022-06-21T11:33:36.152Z"
   },
   {
    "duration": 1469,
    "start_time": "2022-06-21T18:06:31.444Z"
   },
   {
    "duration": 48,
    "start_time": "2022-06-21T18:06:32.915Z"
   },
   {
    "duration": 21,
    "start_time": "2022-06-21T18:06:32.965Z"
   },
   {
    "duration": 21,
    "start_time": "2022-06-21T18:06:32.988Z"
   },
   {
    "duration": 17,
    "start_time": "2022-06-21T18:06:33.011Z"
   },
   {
    "duration": 17,
    "start_time": "2022-06-21T18:06:33.030Z"
   },
   {
    "duration": 10,
    "start_time": "2022-06-21T18:06:33.049Z"
   },
   {
    "duration": 13,
    "start_time": "2022-06-21T18:06:33.060Z"
   },
   {
    "duration": 10,
    "start_time": "2022-06-21T18:06:33.074Z"
   },
   {
    "duration": 11,
    "start_time": "2022-06-21T18:06:33.087Z"
   },
   {
    "duration": 7,
    "start_time": "2022-06-21T18:06:33.099Z"
   },
   {
    "duration": 7,
    "start_time": "2022-06-21T18:06:33.107Z"
   },
   {
    "duration": 38,
    "start_time": "2022-06-21T18:06:33.115Z"
   },
   {
    "duration": 11,
    "start_time": "2022-06-21T18:06:33.154Z"
   },
   {
    "duration": 18,
    "start_time": "2022-06-21T18:06:33.167Z"
   },
   {
    "duration": 14,
    "start_time": "2022-06-21T18:06:33.187Z"
   },
   {
    "duration": 5,
    "start_time": "2022-06-21T18:06:33.203Z"
   },
   {
    "duration": 11,
    "start_time": "2022-06-21T18:06:33.210Z"
   },
   {
    "duration": 9,
    "start_time": "2022-06-21T18:06:33.223Z"
   },
   {
    "duration": 19,
    "start_time": "2022-06-21T18:06:33.233Z"
   },
   {
    "duration": 6,
    "start_time": "2022-06-21T18:06:33.254Z"
   },
   {
    "duration": 7,
    "start_time": "2022-06-21T18:06:33.261Z"
   },
   {
    "duration": 6,
    "start_time": "2022-06-21T18:06:33.269Z"
   },
   {
    "duration": 20,
    "start_time": "2022-06-21T18:06:33.276Z"
   },
   {
    "duration": 4,
    "start_time": "2022-06-21T18:06:33.298Z"
   },
   {
    "duration": 24,
    "start_time": "2022-06-21T18:06:33.303Z"
   },
   {
    "duration": 42,
    "start_time": "2022-06-21T18:06:33.328Z"
   },
   {
    "duration": 3,
    "start_time": "2022-06-21T18:06:33.373Z"
   },
   {
    "duration": 10,
    "start_time": "2022-06-21T18:06:33.378Z"
   },
   {
    "duration": 152,
    "start_time": "2022-06-21T18:06:33.390Z"
   },
   {
    "duration": 132,
    "start_time": "2022-06-21T18:06:33.544Z"
   },
   {
    "duration": 244,
    "start_time": "2022-06-21T18:06:33.678Z"
   },
   {
    "duration": 166,
    "start_time": "2022-06-21T18:06:33.923Z"
   },
   {
    "duration": 6,
    "start_time": "2022-06-21T18:06:34.091Z"
   },
   {
    "duration": 16,
    "start_time": "2022-06-21T18:06:34.099Z"
   },
   {
    "duration": 202,
    "start_time": "2022-06-21T18:06:34.117Z"
   },
   {
    "duration": 8,
    "start_time": "2022-06-21T18:06:34.321Z"
   },
   {
    "duration": 18,
    "start_time": "2022-06-21T18:06:34.330Z"
   },
   {
    "duration": 21,
    "start_time": "2022-06-21T18:06:34.349Z"
   },
   {
    "duration": 195,
    "start_time": "2022-06-21T18:06:34.371Z"
   },
   {
    "duration": 4,
    "start_time": "2022-06-21T18:06:34.568Z"
   },
   {
    "duration": 26,
    "start_time": "2022-06-21T18:06:34.573Z"
   },
   {
    "duration": 28,
    "start_time": "2022-06-21T18:06:34.601Z"
   },
   {
    "duration": 24,
    "start_time": "2022-06-21T18:06:34.630Z"
   },
   {
    "duration": 20,
    "start_time": "2022-06-21T18:06:34.656Z"
   },
   {
    "duration": 51,
    "start_time": "2022-06-21T18:06:34.678Z"
   },
   {
    "duration": 40,
    "start_time": "2022-06-21T18:06:34.731Z"
   },
   {
    "duration": 18,
    "start_time": "2022-06-21T18:06:34.773Z"
   },
   {
    "duration": 17,
    "start_time": "2022-06-21T18:06:34.792Z"
   },
   {
    "duration": 48,
    "start_time": "2022-06-21T18:06:34.810Z"
   },
   {
    "duration": 6,
    "start_time": "2022-06-21T18:06:34.860Z"
   },
   {
    "duration": 35,
    "start_time": "2022-06-21T18:06:34.868Z"
   },
   {
    "duration": 1077307,
    "start_time": "2022-06-21T18:06:34.904Z"
   },
   {
    "duration": 4,
    "start_time": "2022-06-21T18:24:32.213Z"
   },
   {
    "duration": 213,
    "start_time": "2022-06-21T18:24:32.219Z"
   },
   {
    "duration": 116,
    "start_time": "2022-06-21T18:24:32.433Z"
   },
   {
    "duration": 0,
    "start_time": "2022-06-21T18:24:32.552Z"
   },
   {
    "duration": 0,
    "start_time": "2022-06-21T18:24:32.553Z"
   },
   {
    "duration": 0,
    "start_time": "2022-06-21T18:24:32.555Z"
   },
   {
    "duration": 0,
    "start_time": "2022-06-21T18:24:32.556Z"
   },
   {
    "duration": 102864,
    "start_time": "2022-06-21T18:28:45.946Z"
   },
   {
    "duration": 55391,
    "start_time": "2022-06-21T18:30:44.347Z"
   },
   {
    "duration": 18525,
    "start_time": "2022-06-21T18:32:55.019Z"
   },
   {
    "duration": 354019,
    "start_time": "2022-06-21T18:42:14.009Z"
   },
   {
    "duration": 24230,
    "start_time": "2022-06-21T18:48:15.189Z"
   },
   {
    "duration": 605655,
    "start_time": "2022-06-21T18:49:12.064Z"
   },
   {
    "duration": 4,
    "start_time": "2022-06-21T19:03:31.863Z"
   },
   {
    "duration": 209,
    "start_time": "2022-06-21T19:03:34.070Z"
   },
   {
    "duration": 171476,
    "start_time": "2022-06-21T19:05:05.781Z"
   },
   {
    "duration": 4,
    "start_time": "2022-06-21T19:08:07.281Z"
   },
   {
    "duration": 202,
    "start_time": "2022-06-21T19:08:12.678Z"
   },
   {
    "duration": 777208,
    "start_time": "2022-06-21T19:09:26.482Z"
   },
   {
    "duration": 3,
    "start_time": "2022-06-21T19:24:20.149Z"
   },
   {
    "duration": 204,
    "start_time": "2022-06-21T19:24:25.205Z"
   },
   {
    "duration": 106264,
    "start_time": "2022-06-21T19:24:57.301Z"
   },
   {
    "duration": 67,
    "start_time": "2022-06-21T19:27:56.500Z"
   },
   {
    "duration": 2105,
    "start_time": "2022-06-22T06:22:14.410Z"
   },
   {
    "duration": 171,
    "start_time": "2022-06-22T06:22:16.518Z"
   },
   {
    "duration": 109,
    "start_time": "2022-06-22T06:22:16.691Z"
   },
   {
    "duration": 46,
    "start_time": "2022-06-22T06:22:16.802Z"
   },
   {
    "duration": 69,
    "start_time": "2022-06-22T06:22:16.850Z"
   },
   {
    "duration": 16,
    "start_time": "2022-06-22T06:22:16.921Z"
   },
   {
    "duration": 11,
    "start_time": "2022-06-22T06:22:16.939Z"
   },
   {
    "duration": 56,
    "start_time": "2022-06-22T06:22:16.952Z"
   },
   {
    "duration": 10,
    "start_time": "2022-06-22T06:22:17.010Z"
   },
   {
    "duration": 13,
    "start_time": "2022-06-22T06:22:17.023Z"
   },
   {
    "duration": 7,
    "start_time": "2022-06-22T06:22:17.038Z"
   },
   {
    "duration": 20,
    "start_time": "2022-06-22T06:22:17.047Z"
   },
   {
    "duration": 35,
    "start_time": "2022-06-22T06:22:17.073Z"
   },
   {
    "duration": 13,
    "start_time": "2022-06-22T06:22:17.110Z"
   },
   {
    "duration": 12,
    "start_time": "2022-06-22T06:22:17.124Z"
   },
   {
    "duration": 28,
    "start_time": "2022-06-22T06:22:17.138Z"
   },
   {
    "duration": 14,
    "start_time": "2022-06-22T06:22:17.173Z"
   },
   {
    "duration": 5,
    "start_time": "2022-06-22T06:22:17.189Z"
   },
   {
    "duration": 10,
    "start_time": "2022-06-22T06:22:17.196Z"
   },
   {
    "duration": 7,
    "start_time": "2022-06-22T06:22:17.208Z"
   },
   {
    "duration": 6,
    "start_time": "2022-06-22T06:22:17.217Z"
   },
   {
    "duration": 10,
    "start_time": "2022-06-22T06:22:17.225Z"
   },
   {
    "duration": 5,
    "start_time": "2022-06-22T06:22:17.238Z"
   },
   {
    "duration": 31,
    "start_time": "2022-06-22T06:22:17.244Z"
   },
   {
    "duration": 19,
    "start_time": "2022-06-22T06:22:17.277Z"
   },
   {
    "duration": 22,
    "start_time": "2022-06-22T06:22:17.298Z"
   },
   {
    "duration": 46,
    "start_time": "2022-06-22T06:22:17.322Z"
   },
   {
    "duration": 4,
    "start_time": "2022-06-22T06:22:17.374Z"
   },
   {
    "duration": 19,
    "start_time": "2022-06-22T06:22:17.380Z"
   },
   {
    "duration": 200,
    "start_time": "2022-06-22T06:22:17.401Z"
   },
   {
    "duration": 179,
    "start_time": "2022-06-22T06:22:17.603Z"
   },
   {
    "duration": 274,
    "start_time": "2022-06-22T06:22:17.785Z"
   },
   {
    "duration": 205,
    "start_time": "2022-06-22T06:22:18.072Z"
   },
   {
    "duration": 9,
    "start_time": "2022-06-22T06:22:18.279Z"
   },
   {
    "duration": 8,
    "start_time": "2022-06-22T06:22:18.291Z"
   },
   {
    "duration": 232,
    "start_time": "2022-06-22T06:22:18.301Z"
   },
   {
    "duration": 24,
    "start_time": "2022-06-22T06:22:18.535Z"
   },
   {
    "duration": 11,
    "start_time": "2022-06-22T06:22:18.561Z"
   },
   {
    "duration": 27,
    "start_time": "2022-06-22T06:22:18.574Z"
   },
   {
    "duration": 251,
    "start_time": "2022-06-22T06:22:18.602Z"
   },
   {
    "duration": 10,
    "start_time": "2022-06-22T06:22:18.863Z"
   },
   {
    "duration": 37,
    "start_time": "2022-06-22T06:22:18.878Z"
   },
   {
    "duration": 19,
    "start_time": "2022-06-22T06:22:18.917Z"
   },
   {
    "duration": 5,
    "start_time": "2022-06-22T06:22:18.938Z"
   },
   {
    "duration": 17,
    "start_time": "2022-06-22T06:22:18.945Z"
   },
   {
    "duration": 19,
    "start_time": "2022-06-22T06:22:18.974Z"
   },
   {
    "duration": 19,
    "start_time": "2022-06-22T06:22:18.995Z"
   },
   {
    "duration": 7,
    "start_time": "2022-06-22T06:22:19.017Z"
   },
   {
    "duration": 5,
    "start_time": "2022-06-22T06:22:19.026Z"
   },
   {
    "duration": 19,
    "start_time": "2022-06-22T06:22:19.033Z"
   },
   {
    "duration": 9,
    "start_time": "2022-06-22T06:22:19.058Z"
   },
   {
    "duration": 29,
    "start_time": "2022-06-22T06:22:19.069Z"
   },
   {
    "duration": 177749,
    "start_time": "2022-06-22T06:22:19.100Z"
   },
   {
    "duration": 4,
    "start_time": "2022-06-22T06:25:16.850Z"
   },
   {
    "duration": 281,
    "start_time": "2022-06-22T06:25:16.856Z"
   },
   {
    "duration": 1010076,
    "start_time": "2022-06-22T06:25:17.139Z"
   },
   {
    "duration": 4,
    "start_time": "2022-06-22T06:42:07.216Z"
   },
   {
    "duration": 163,
    "start_time": "2022-06-22T06:42:07.222Z"
   },
   {
    "duration": 2796,
    "start_time": "2022-06-22T10:34:12.303Z"
   },
   {
    "duration": 522,
    "start_time": "2022-06-22T10:34:15.110Z"
   },
   {
    "duration": 111,
    "start_time": "2022-06-22T10:34:15.635Z"
   },
   {
    "duration": 186,
    "start_time": "2022-06-22T10:34:15.750Z"
   },
   {
    "duration": 87,
    "start_time": "2022-06-22T10:34:15.937Z"
   },
   {
    "duration": 22,
    "start_time": "2022-06-22T10:34:16.027Z"
   },
   {
    "duration": 31,
    "start_time": "2022-06-22T10:34:16.050Z"
   },
   {
    "duration": 53,
    "start_time": "2022-06-22T10:34:16.083Z"
   },
   {
    "duration": 11,
    "start_time": "2022-06-22T10:34:16.138Z"
   },
   {
    "duration": 76,
    "start_time": "2022-06-22T10:34:16.152Z"
   },
   {
    "duration": 9,
    "start_time": "2022-06-22T10:34:16.231Z"
   },
   {
    "duration": 9,
    "start_time": "2022-06-22T10:34:16.242Z"
   },
   {
    "duration": 77,
    "start_time": "2022-06-22T10:34:16.253Z"
   },
   {
    "duration": 11,
    "start_time": "2022-06-22T10:34:16.332Z"
   },
   {
    "duration": 21,
    "start_time": "2022-06-22T10:34:16.345Z"
   },
   {
    "duration": 72,
    "start_time": "2022-06-22T10:34:16.369Z"
   },
   {
    "duration": 6,
    "start_time": "2022-06-22T10:34:16.442Z"
   },
   {
    "duration": 71,
    "start_time": "2022-06-22T10:34:16.450Z"
   },
   {
    "duration": 11,
    "start_time": "2022-06-22T10:34:16.523Z"
   },
   {
    "duration": 9,
    "start_time": "2022-06-22T10:34:16.536Z"
   },
   {
    "duration": 55,
    "start_time": "2022-06-22T10:34:16.548Z"
   },
   {
    "duration": 26,
    "start_time": "2022-06-22T10:34:16.605Z"
   },
   {
    "duration": 7,
    "start_time": "2022-06-22T10:34:16.633Z"
   },
   {
    "duration": 27,
    "start_time": "2022-06-22T10:34:16.641Z"
   },
   {
    "duration": 47,
    "start_time": "2022-06-22T10:34:16.670Z"
   },
   {
    "duration": 68,
    "start_time": "2022-06-22T10:34:16.720Z"
   },
   {
    "duration": 59,
    "start_time": "2022-06-22T10:34:16.790Z"
   },
   {
    "duration": 6,
    "start_time": "2022-06-22T10:34:16.854Z"
   },
   {
    "duration": 59,
    "start_time": "2022-06-22T10:34:16.862Z"
   },
   {
    "duration": 297,
    "start_time": "2022-06-22T10:34:16.928Z"
   },
   {
    "duration": 263,
    "start_time": "2022-06-22T10:34:17.227Z"
   },
   {
    "duration": 400,
    "start_time": "2022-06-22T10:34:17.492Z"
   },
   {
    "duration": 277,
    "start_time": "2022-06-22T10:34:17.893Z"
   },
   {
    "duration": 13,
    "start_time": "2022-06-22T10:34:18.172Z"
   },
   {
    "duration": 80,
    "start_time": "2022-06-22T10:34:18.187Z"
   },
   {
    "duration": 448,
    "start_time": "2022-06-22T10:34:18.281Z"
   },
   {
    "duration": 15,
    "start_time": "2022-06-22T10:34:18.732Z"
   },
   {
    "duration": 88,
    "start_time": "2022-06-22T10:34:18.749Z"
   },
   {
    "duration": 37,
    "start_time": "2022-06-22T10:34:18.840Z"
   },
   {
    "duration": 434,
    "start_time": "2022-06-22T10:34:18.883Z"
   },
   {
    "duration": 10,
    "start_time": "2022-06-22T10:34:19.319Z"
   },
   {
    "duration": 106,
    "start_time": "2022-06-22T10:34:19.332Z"
   },
   {
    "duration": 37,
    "start_time": "2022-06-22T10:34:19.444Z"
   },
   {
    "duration": 137,
    "start_time": "2022-06-22T10:34:19.483Z"
   },
   {
    "duration": 14,
    "start_time": "2022-06-22T10:34:19.622Z"
   },
   {
    "duration": 6,
    "start_time": "2022-06-22T10:34:19.637Z"
   },
   {
    "duration": 48,
    "start_time": "2022-06-22T10:34:19.645Z"
   },
   {
    "duration": 42,
    "start_time": "2022-06-22T10:34:19.696Z"
   },
   {
    "duration": 7,
    "start_time": "2022-06-22T10:34:19.740Z"
   },
   {
    "duration": 109,
    "start_time": "2022-06-22T10:34:19.749Z"
   },
   {
    "duration": 20,
    "start_time": "2022-06-22T10:34:19.860Z"
   },
   {
    "duration": 50,
    "start_time": "2022-06-22T10:34:19.883Z"
   },
   {
    "duration": 223645,
    "start_time": "2022-06-22T10:34:19.935Z"
   },
   {
    "duration": 5,
    "start_time": "2022-06-22T10:38:03.581Z"
   },
   {
    "duration": 334,
    "start_time": "2022-06-22T10:38:03.592Z"
   },
   {
    "duration": 1371217,
    "start_time": "2022-06-22T10:38:03.928Z"
   },
   {
    "duration": 4,
    "start_time": "2022-06-22T11:00:55.147Z"
   },
   {
    "duration": 343,
    "start_time": "2022-06-22T11:00:55.152Z"
   },
   {
    "duration": 853011,
    "start_time": "2022-06-22T11:00:55.500Z"
   },
   {
    "duration": 12,
    "start_time": "2022-06-22T11:15:08.515Z"
   },
   {
    "duration": 0,
    "start_time": "2022-06-22T11:15:08.529Z"
   },
   {
    "duration": 0,
    "start_time": "2022-06-22T11:15:08.530Z"
   },
   {
    "duration": 9015400,
    "start_time": "2022-06-22T11:15:37.338Z"
   },
   {
    "duration": 5886479,
    "start_time": "2022-06-22T13:48:12.998Z"
   },
   {
    "duration": 4,
    "start_time": "2022-06-22T17:11:56.872Z"
   },
   {
    "duration": 657,
    "start_time": "2022-06-22T17:11:58.074Z"
   },
   {
    "duration": 11,
    "start_time": "2022-06-22T17:12:34.989Z"
   },
   {
    "duration": 722,
    "start_time": "2022-06-22T17:12:41.830Z"
   },
   {
    "duration": 288,
    "start_time": "2022-06-22T17:12:44.112Z"
   },
   {
    "duration": 1696,
    "start_time": "2022-06-22T17:13:13.773Z"
   },
   {
    "duration": 196,
    "start_time": "2022-06-22T17:13:15.471Z"
   },
   {
    "duration": 42,
    "start_time": "2022-06-22T17:13:15.669Z"
   },
   {
    "duration": 104,
    "start_time": "2022-06-22T17:13:15.713Z"
   },
   {
    "duration": 46,
    "start_time": "2022-06-22T17:13:15.819Z"
   },
   {
    "duration": 15,
    "start_time": "2022-06-22T17:13:15.867Z"
   },
   {
    "duration": 8,
    "start_time": "2022-06-22T17:13:15.883Z"
   },
   {
    "duration": 13,
    "start_time": "2022-06-22T17:13:15.893Z"
   },
   {
    "duration": 45,
    "start_time": "2022-06-22T17:13:15.908Z"
   },
   {
    "duration": 19,
    "start_time": "2022-06-22T17:13:15.955Z"
   },
   {
    "duration": 8,
    "start_time": "2022-06-22T17:13:15.975Z"
   },
   {
    "duration": 9,
    "start_time": "2022-06-22T17:13:15.984Z"
   },
   {
    "duration": 67,
    "start_time": "2022-06-22T17:13:15.995Z"
   },
   {
    "duration": 22,
    "start_time": "2022-06-22T17:13:16.066Z"
   },
   {
    "duration": 13,
    "start_time": "2022-06-22T17:13:16.090Z"
   },
   {
    "duration": 24,
    "start_time": "2022-06-22T17:13:16.105Z"
   },
   {
    "duration": 6,
    "start_time": "2022-06-22T17:13:16.130Z"
   },
   {
    "duration": 17,
    "start_time": "2022-06-22T17:13:16.137Z"
   },
   {
    "duration": 10,
    "start_time": "2022-06-22T17:13:16.156Z"
   },
   {
    "duration": 14,
    "start_time": "2022-06-22T17:13:16.168Z"
   },
   {
    "duration": 6,
    "start_time": "2022-06-22T17:13:16.183Z"
   },
   {
    "duration": 5,
    "start_time": "2022-06-22T17:13:16.190Z"
   },
   {
    "duration": 3,
    "start_time": "2022-06-22T17:13:16.197Z"
   },
   {
    "duration": 16,
    "start_time": "2022-06-22T17:13:16.201Z"
   },
   {
    "duration": 38,
    "start_time": "2022-06-22T17:13:16.218Z"
   },
   {
    "duration": 34,
    "start_time": "2022-06-22T17:13:16.258Z"
   },
   {
    "duration": 23,
    "start_time": "2022-06-22T17:13:16.293Z"
   },
   {
    "duration": 3,
    "start_time": "2022-06-22T17:13:16.317Z"
   },
   {
    "duration": 6,
    "start_time": "2022-06-22T17:13:16.322Z"
   },
   {
    "duration": 187,
    "start_time": "2022-06-22T17:13:16.330Z"
   },
   {
    "duration": 159,
    "start_time": "2022-06-22T17:13:16.518Z"
   },
   {
    "duration": 265,
    "start_time": "2022-06-22T17:13:16.679Z"
   },
   {
    "duration": 185,
    "start_time": "2022-06-22T17:13:16.946Z"
   },
   {
    "duration": 6,
    "start_time": "2022-06-22T17:13:17.133Z"
   },
   {
    "duration": 12,
    "start_time": "2022-06-22T17:13:17.141Z"
   },
   {
    "duration": 231,
    "start_time": "2022-06-22T17:13:17.156Z"
   },
   {
    "duration": 9,
    "start_time": "2022-06-22T17:13:17.388Z"
   },
   {
    "duration": 8,
    "start_time": "2022-06-22T17:13:17.398Z"
   },
   {
    "duration": 8,
    "start_time": "2022-06-22T17:13:17.408Z"
   },
   {
    "duration": 232,
    "start_time": "2022-06-22T17:13:17.417Z"
   },
   {
    "duration": 8,
    "start_time": "2022-06-22T17:13:17.655Z"
   },
   {
    "duration": 25,
    "start_time": "2022-06-22T17:13:17.666Z"
   },
   {
    "duration": 17,
    "start_time": "2022-06-22T17:13:17.693Z"
   },
   {
    "duration": 4,
    "start_time": "2022-06-22T17:13:17.712Z"
   },
   {
    "duration": 8,
    "start_time": "2022-06-22T17:13:17.718Z"
   },
   {
    "duration": 8,
    "start_time": "2022-06-22T17:13:17.727Z"
   },
   {
    "duration": 26,
    "start_time": "2022-06-22T17:13:17.754Z"
   },
   {
    "duration": 5,
    "start_time": "2022-06-22T17:13:17.782Z"
   },
   {
    "duration": 6,
    "start_time": "2022-06-22T17:13:17.789Z"
   },
   {
    "duration": 17,
    "start_time": "2022-06-22T17:13:17.796Z"
   },
   {
    "duration": 5,
    "start_time": "2022-06-22T17:13:17.815Z"
   },
   {
    "duration": 36,
    "start_time": "2022-06-22T17:13:17.822Z"
   },
   {
    "duration": 494,
    "start_time": "2022-06-22T17:13:17.860Z"
   },
   {
    "duration": 369,
    "start_time": "2022-06-22T17:13:18.356Z"
   },
   {
    "duration": 178954,
    "start_time": "2022-06-22T17:13:18.727Z"
   },
   {
    "duration": 5,
    "start_time": "2022-06-22T17:16:17.684Z"
   },
   {
    "duration": 246,
    "start_time": "2022-06-22T17:16:17.691Z"
   },
   {
    "duration": 945137,
    "start_time": "2022-06-22T17:16:17.938Z"
   },
   {
    "duration": 6,
    "start_time": "2022-06-22T17:32:03.077Z"
   },
   {
    "duration": 286,
    "start_time": "2022-06-22T17:32:03.085Z"
   },
   {
    "duration": 328,
    "start_time": "2022-06-22T17:32:03.374Z"
   },
   {
    "duration": 14,
    "start_time": "2022-06-22T17:32:03.704Z"
   },
   {
    "duration": 0,
    "start_time": "2022-06-22T17:32:03.720Z"
   },
   {
    "duration": 0,
    "start_time": "2022-06-22T17:32:03.722Z"
   },
   {
    "duration": 386565,
    "start_time": "2022-06-22T17:32:59.617Z"
   },
   {
    "duration": 2628575,
    "start_time": "2022-06-22T17:40:18.854Z"
   },
   {
    "duration": 654,
    "start_time": "2022-06-22T18:24:52.847Z"
   },
   {
    "duration": 16,
    "start_time": "2022-06-22T18:25:03.776Z"
   },
   {
    "duration": 4101,
    "start_time": "2022-06-23T01:14:05.455Z"
   },
   {
    "duration": 51,
    "start_time": "2022-06-23T01:14:09.558Z"
   },
   {
    "duration": 23,
    "start_time": "2022-06-23T01:14:09.611Z"
   },
   {
    "duration": 22,
    "start_time": "2022-06-23T01:14:09.637Z"
   },
   {
    "duration": 19,
    "start_time": "2022-06-23T01:14:09.661Z"
   },
   {
    "duration": 16,
    "start_time": "2022-06-23T01:22:28.460Z"
   },
   {
    "duration": 9,
    "start_time": "2022-06-23T01:22:29.654Z"
   },
   {
    "duration": 11,
    "start_time": "2022-06-23T01:22:30.201Z"
   },
   {
    "duration": 10,
    "start_time": "2022-06-23T01:22:30.882Z"
   },
   {
    "duration": 13,
    "start_time": "2022-06-23T01:23:03.055Z"
   },
   {
    "duration": 8,
    "start_time": "2022-06-23T01:23:03.293Z"
   },
   {
    "duration": 8,
    "start_time": "2022-06-23T01:23:03.483Z"
   },
   {
    "duration": 18,
    "start_time": "2022-06-23T01:23:04.270Z"
   },
   {
    "duration": 12,
    "start_time": "2022-06-23T01:23:05.515Z"
   },
   {
    "duration": 16,
    "start_time": "2022-06-23T01:23:08.471Z"
   },
   {
    "duration": 10,
    "start_time": "2022-06-23T01:23:16.468Z"
   },
   {
    "duration": 7,
    "start_time": "2022-06-23T01:23:57.000Z"
   },
   {
    "duration": 5,
    "start_time": "2022-06-23T01:23:57.643Z"
   },
   {
    "duration": 9,
    "start_time": "2022-06-23T01:23:58.886Z"
   },
   {
    "duration": 19,
    "start_time": "2022-06-23T01:23:59.409Z"
   },
   {
    "duration": 14,
    "start_time": "2022-06-23T01:23:59.611Z"
   },
   {
    "duration": 7,
    "start_time": "2022-06-23T01:24:00.369Z"
   },
   {
    "duration": 3,
    "start_time": "2022-06-23T01:24:25.951Z"
   },
   {
    "duration": 18,
    "start_time": "2022-06-23T01:24:26.567Z"
   },
   {
    "duration": 6,
    "start_time": "2022-06-23T01:24:36.517Z"
   },
   {
    "duration": 22,
    "start_time": "2022-06-23T01:24:37.013Z"
   },
   {
    "duration": 27,
    "start_time": "2022-06-23T01:24:37.673Z"
   },
   {
    "duration": 5,
    "start_time": "2022-06-23T01:24:43.942Z"
   },
   {
    "duration": 5,
    "start_time": "2022-06-23T01:24:44.167Z"
   },
   {
    "duration": 153,
    "start_time": "2022-06-23T01:24:44.353Z"
   },
   {
    "duration": 134,
    "start_time": "2022-06-23T01:24:45.256Z"
   },
   {
    "duration": 248,
    "start_time": "2022-06-23T01:24:45.772Z"
   },
   {
    "duration": 161,
    "start_time": "2022-06-23T01:24:46.233Z"
   },
   {
    "duration": 7,
    "start_time": "2022-06-23T01:24:46.724Z"
   },
   {
    "duration": 7,
    "start_time": "2022-06-23T01:24:46.981Z"
   },
   {
    "duration": 198,
    "start_time": "2022-06-23T01:24:47.335Z"
   },
   {
    "duration": 9,
    "start_time": "2022-06-23T01:24:47.735Z"
   },
   {
    "duration": 7,
    "start_time": "2022-06-23T01:24:48.091Z"
   },
   {
    "duration": 6,
    "start_time": "2022-06-23T01:24:48.303Z"
   },
   {
    "duration": 213,
    "start_time": "2022-06-23T01:24:48.455Z"
   },
   {
    "duration": 4,
    "start_time": "2022-06-23T01:25:14.228Z"
   },
   {
    "duration": 12,
    "start_time": "2022-06-23T01:25:53.878Z"
   },
   {
    "duration": 17,
    "start_time": "2022-06-23T01:25:54.156Z"
   },
   {
    "duration": 4,
    "start_time": "2022-06-23T01:26:35.639Z"
   },
   {
    "duration": 7,
    "start_time": "2022-06-23T01:26:36.173Z"
   },
   {
    "duration": 3,
    "start_time": "2022-06-23T01:26:36.946Z"
   },
   {
    "duration": 19,
    "start_time": "2022-06-23T01:26:40.130Z"
   },
   {
    "duration": 6,
    "start_time": "2022-06-23T01:27:03.080Z"
   },
   {
    "duration": 4,
    "start_time": "2022-06-23T01:27:05.280Z"
   },
   {
    "duration": 18,
    "start_time": "2022-06-23T01:27:05.729Z"
   },
   {
    "duration": 7,
    "start_time": "2022-06-23T01:27:06.129Z"
   },
   {
    "duration": 1783,
    "start_time": "2022-06-23T10:57:52.793Z"
   },
   {
    "duration": 217,
    "start_time": "2022-06-23T10:57:54.578Z"
   },
   {
    "duration": 105,
    "start_time": "2022-06-23T10:57:54.796Z"
   },
   {
    "duration": 46,
    "start_time": "2022-06-23T10:57:54.903Z"
   },
   {
    "duration": 54,
    "start_time": "2022-06-23T10:57:54.951Z"
   },
   {
    "duration": 16,
    "start_time": "2022-06-23T10:57:55.007Z"
   },
   {
    "duration": 9,
    "start_time": "2022-06-23T10:57:55.025Z"
   },
   {
    "duration": 16,
    "start_time": "2022-06-23T10:57:55.036Z"
   },
   {
    "duration": 23,
    "start_time": "2022-06-23T10:57:55.054Z"
   },
   {
    "duration": 22,
    "start_time": "2022-06-23T10:57:55.080Z"
   },
   {
    "duration": 8,
    "start_time": "2022-06-23T10:57:55.103Z"
   },
   {
    "duration": 13,
    "start_time": "2022-06-23T10:57:55.112Z"
   },
   {
    "duration": 17,
    "start_time": "2022-06-23T10:57:55.126Z"
   },
   {
    "duration": 27,
    "start_time": "2022-06-23T10:57:55.145Z"
   },
   {
    "duration": 11,
    "start_time": "2022-06-23T10:57:55.173Z"
   },
   {
    "duration": 15,
    "start_time": "2022-06-23T10:57:55.186Z"
   },
   {
    "duration": 5,
    "start_time": "2022-06-23T10:57:55.203Z"
   },
   {
    "duration": 8,
    "start_time": "2022-06-23T10:57:55.209Z"
   },
   {
    "duration": 7,
    "start_time": "2022-06-23T10:57:55.219Z"
   },
   {
    "duration": 6,
    "start_time": "2022-06-23T10:57:55.228Z"
   },
   {
    "duration": 32,
    "start_time": "2022-06-23T10:57:55.235Z"
   },
   {
    "duration": 9,
    "start_time": "2022-06-23T10:57:55.269Z"
   },
   {
    "duration": 4,
    "start_time": "2022-06-23T10:57:55.280Z"
   },
   {
    "duration": 17,
    "start_time": "2022-06-23T10:57:55.285Z"
   },
   {
    "duration": 4,
    "start_time": "2022-06-23T10:57:55.303Z"
   },
   {
    "duration": 21,
    "start_time": "2022-06-23T10:57:55.308Z"
   },
   {
    "duration": 39,
    "start_time": "2022-06-23T10:57:55.331Z"
   },
   {
    "duration": 4,
    "start_time": "2022-06-23T10:57:55.375Z"
   },
   {
    "duration": 7,
    "start_time": "2022-06-23T10:57:55.380Z"
   },
   {
    "duration": 164,
    "start_time": "2022-06-23T10:57:55.389Z"
   },
   {
    "duration": 152,
    "start_time": "2022-06-23T10:57:55.558Z"
   },
   {
    "duration": 265,
    "start_time": "2022-06-23T10:57:55.712Z"
   },
   {
    "duration": 175,
    "start_time": "2022-06-23T10:57:55.979Z"
   },
   {
    "duration": 9,
    "start_time": "2022-06-23T10:57:56.166Z"
   },
   {
    "duration": 8,
    "start_time": "2022-06-23T10:57:56.176Z"
   },
   {
    "duration": 191,
    "start_time": "2022-06-23T10:57:56.185Z"
   },
   {
    "duration": 8,
    "start_time": "2022-06-23T10:57:56.378Z"
   },
   {
    "duration": 6,
    "start_time": "2022-06-23T10:57:56.387Z"
   },
   {
    "duration": 6,
    "start_time": "2022-06-23T10:57:56.395Z"
   },
   {
    "duration": 232,
    "start_time": "2022-06-23T10:57:56.402Z"
   },
   {
    "duration": 5,
    "start_time": "2022-06-23T10:57:56.636Z"
   },
   {
    "duration": 35,
    "start_time": "2022-06-23T10:57:56.643Z"
   },
   {
    "duration": 136,
    "start_time": "2022-06-23T10:57:56.679Z"
   },
   {
    "duration": 0,
    "start_time": "2022-06-23T10:57:56.817Z"
   },
   {
    "duration": 0,
    "start_time": "2022-06-23T10:57:56.818Z"
   },
   {
    "duration": 0,
    "start_time": "2022-06-23T10:57:56.819Z"
   },
   {
    "duration": 0,
    "start_time": "2022-06-23T10:57:56.820Z"
   },
   {
    "duration": 0,
    "start_time": "2022-06-23T10:57:56.821Z"
   },
   {
    "duration": 0,
    "start_time": "2022-06-23T10:57:56.822Z"
   },
   {
    "duration": 0,
    "start_time": "2022-06-23T10:57:56.823Z"
   },
   {
    "duration": 0,
    "start_time": "2022-06-23T10:57:56.824Z"
   },
   {
    "duration": 0,
    "start_time": "2022-06-23T10:57:56.824Z"
   },
   {
    "duration": 0,
    "start_time": "2022-06-23T10:57:56.825Z"
   },
   {
    "duration": 0,
    "start_time": "2022-06-23T10:57:56.826Z"
   },
   {
    "duration": 0,
    "start_time": "2022-06-23T10:57:56.827Z"
   },
   {
    "duration": 0,
    "start_time": "2022-06-23T10:57:56.827Z"
   },
   {
    "duration": 0,
    "start_time": "2022-06-23T10:57:56.828Z"
   },
   {
    "duration": 0,
    "start_time": "2022-06-23T10:57:56.829Z"
   },
   {
    "duration": 0,
    "start_time": "2022-06-23T10:57:56.830Z"
   },
   {
    "duration": 0,
    "start_time": "2022-06-23T10:57:56.831Z"
   },
   {
    "duration": 0,
    "start_time": "2022-06-23T10:57:56.866Z"
   },
   {
    "duration": 0,
    "start_time": "2022-06-23T10:57:56.867Z"
   },
   {
    "duration": 0,
    "start_time": "2022-06-23T10:57:56.872Z"
   },
   {
    "duration": 5,
    "start_time": "2022-06-23T11:00:58.005Z"
   },
   {
    "duration": 24,
    "start_time": "2022-06-23T11:01:03.404Z"
   },
   {
    "duration": 16,
    "start_time": "2022-06-23T11:01:52.570Z"
   },
   {
    "duration": 12,
    "start_time": "2022-06-23T11:01:54.634Z"
   },
   {
    "duration": 5,
    "start_time": "2022-06-23T11:02:02.889Z"
   },
   {
    "duration": 8,
    "start_time": "2022-06-23T11:02:03.604Z"
   },
   {
    "duration": 3,
    "start_time": "2022-06-23T11:02:04.394Z"
   },
   {
    "duration": 19,
    "start_time": "2022-06-23T11:02:11.304Z"
   },
   {
    "duration": 8,
    "start_time": "2022-06-23T11:02:14.601Z"
   },
   {
    "duration": 5,
    "start_time": "2022-06-23T11:02:22.960Z"
   },
   {
    "duration": 15,
    "start_time": "2022-06-23T11:02:24.507Z"
   },
   {
    "duration": 6,
    "start_time": "2022-06-23T11:02:25.911Z"
   },
   {
    "duration": 5,
    "start_time": "2022-06-23T11:02:30.105Z"
   },
   {
    "duration": 650,
    "start_time": "2022-06-23T11:02:34.312Z"
   },
   {
    "duration": 302,
    "start_time": "2022-06-23T11:02:36.533Z"
   },
   {
    "duration": 145534,
    "start_time": "2022-06-23T11:02:44.798Z"
   },
   {
    "duration": 4,
    "start_time": "2022-06-23T11:05:17.495Z"
   },
   {
    "duration": 942,
    "start_time": "2022-06-23T11:05:19.489Z"
   },
   {
    "duration": 451,
    "start_time": "2022-06-23T11:05:39.110Z"
   },
   {
    "duration": 279,
    "start_time": "2022-06-23T11:05:40.612Z"
   },
   {
    "duration": 1124372,
    "start_time": "2022-06-23T11:06:04.700Z"
   },
   {
    "duration": 4,
    "start_time": "2022-06-23T11:32:50.509Z"
   },
   {
    "duration": 909,
    "start_time": "2022-06-23T11:32:53.587Z"
   },
   {
    "duration": 610676,
    "start_time": "2022-06-23T11:33:13.025Z"
   },
   {
    "duration": 4,
    "start_time": "2022-06-23T11:59:50.689Z"
   },
   {
    "duration": 170,
    "start_time": "2022-06-23T11:59:51.785Z"
   },
   {
    "duration": 1549,
    "start_time": "2022-06-23T12:00:43.769Z"
   },
   {
    "duration": 62,
    "start_time": "2022-06-23T12:00:45.320Z"
   },
   {
    "duration": 24,
    "start_time": "2022-06-23T12:00:45.384Z"
   },
   {
    "duration": 25,
    "start_time": "2022-06-23T12:00:45.411Z"
   },
   {
    "duration": 20,
    "start_time": "2022-06-23T12:00:45.438Z"
   },
   {
    "duration": 16,
    "start_time": "2022-06-23T12:00:45.460Z"
   },
   {
    "duration": 10,
    "start_time": "2022-06-23T12:00:45.478Z"
   },
   {
    "duration": 19,
    "start_time": "2022-06-23T12:00:45.490Z"
   },
   {
    "duration": 11,
    "start_time": "2022-06-23T12:00:45.511Z"
   },
   {
    "duration": 43,
    "start_time": "2022-06-23T12:00:45.524Z"
   },
   {
    "duration": 7,
    "start_time": "2022-06-23T12:00:45.569Z"
   },
   {
    "duration": 9,
    "start_time": "2022-06-23T12:00:45.578Z"
   },
   {
    "duration": 27,
    "start_time": "2022-06-23T12:00:45.589Z"
   },
   {
    "duration": 41,
    "start_time": "2022-06-23T12:00:45.619Z"
   },
   {
    "duration": 18,
    "start_time": "2022-06-23T12:00:45.662Z"
   },
   {
    "duration": 24,
    "start_time": "2022-06-23T12:00:45.682Z"
   },
   {
    "duration": 6,
    "start_time": "2022-06-23T12:00:45.708Z"
   },
   {
    "duration": 18,
    "start_time": "2022-06-23T12:00:45.716Z"
   },
   {
    "duration": 26,
    "start_time": "2022-06-23T12:00:45.736Z"
   },
   {
    "duration": 11,
    "start_time": "2022-06-23T12:00:45.764Z"
   },
   {
    "duration": 11,
    "start_time": "2022-06-23T12:00:45.777Z"
   },
   {
    "duration": 14,
    "start_time": "2022-06-23T12:00:45.790Z"
   },
   {
    "duration": 8,
    "start_time": "2022-06-23T12:00:45.806Z"
   },
   {
    "duration": 28,
    "start_time": "2022-06-23T12:00:45.816Z"
   },
   {
    "duration": 13,
    "start_time": "2022-06-23T12:00:45.846Z"
   },
   {
    "duration": 33,
    "start_time": "2022-06-23T12:00:45.860Z"
   },
   {
    "duration": 29,
    "start_time": "2022-06-23T12:00:45.895Z"
   },
   {
    "duration": 4,
    "start_time": "2022-06-23T12:00:45.928Z"
   },
   {
    "duration": 26,
    "start_time": "2022-06-23T12:00:45.934Z"
   },
   {
    "duration": 165,
    "start_time": "2022-06-23T12:00:45.962Z"
   },
   {
    "duration": 145,
    "start_time": "2022-06-23T12:00:46.130Z"
   },
   {
    "duration": 283,
    "start_time": "2022-06-23T12:00:46.276Z"
   },
   {
    "duration": 170,
    "start_time": "2022-06-23T12:00:46.561Z"
   },
   {
    "duration": 8,
    "start_time": "2022-06-23T12:00:46.732Z"
   },
   {
    "duration": 26,
    "start_time": "2022-06-23T12:00:46.742Z"
   },
   {
    "duration": 196,
    "start_time": "2022-06-23T12:00:46.770Z"
   },
   {
    "duration": 8,
    "start_time": "2022-06-23T12:00:46.968Z"
   },
   {
    "duration": 6,
    "start_time": "2022-06-23T12:00:46.978Z"
   },
   {
    "duration": 9,
    "start_time": "2022-06-23T12:00:46.986Z"
   },
   {
    "duration": 259,
    "start_time": "2022-06-23T12:00:46.997Z"
   },
   {
    "duration": 5,
    "start_time": "2022-06-23T12:00:47.258Z"
   },
   {
    "duration": 45,
    "start_time": "2022-06-23T12:00:47.265Z"
   },
   {
    "duration": 5,
    "start_time": "2022-06-23T12:00:47.312Z"
   },
   {
    "duration": 31,
    "start_time": "2022-06-23T12:00:47.319Z"
   },
   {
    "duration": 134,
    "start_time": "2022-06-23T12:00:47.352Z"
   },
   {
    "duration": 0,
    "start_time": "2022-06-23T12:00:47.490Z"
   },
   {
    "duration": 0,
    "start_time": "2022-06-23T12:00:47.491Z"
   },
   {
    "duration": 0,
    "start_time": "2022-06-23T12:00:47.495Z"
   },
   {
    "duration": 0,
    "start_time": "2022-06-23T12:00:47.498Z"
   },
   {
    "duration": 0,
    "start_time": "2022-06-23T12:00:47.499Z"
   },
   {
    "duration": 0,
    "start_time": "2022-06-23T12:00:47.500Z"
   },
   {
    "duration": 0,
    "start_time": "2022-06-23T12:00:47.501Z"
   },
   {
    "duration": 0,
    "start_time": "2022-06-23T12:00:47.503Z"
   },
   {
    "duration": 0,
    "start_time": "2022-06-23T12:00:47.504Z"
   },
   {
    "duration": 0,
    "start_time": "2022-06-23T12:00:47.506Z"
   },
   {
    "duration": 0,
    "start_time": "2022-06-23T12:00:47.507Z"
   },
   {
    "duration": 0,
    "start_time": "2022-06-23T12:00:47.509Z"
   },
   {
    "duration": 0,
    "start_time": "2022-06-23T12:00:47.510Z"
   },
   {
    "duration": 0,
    "start_time": "2022-06-23T12:00:47.518Z"
   },
   {
    "duration": 0,
    "start_time": "2022-06-23T12:00:47.518Z"
   },
   {
    "duration": 0,
    "start_time": "2022-06-23T12:00:47.519Z"
   },
   {
    "duration": 0,
    "start_time": "2022-06-23T12:00:47.520Z"
   },
   {
    "duration": 0,
    "start_time": "2022-06-23T12:00:47.521Z"
   },
   {
    "duration": 0,
    "start_time": "2022-06-23T12:00:47.522Z"
   },
   {
    "duration": 18,
    "start_time": "2022-06-23T12:02:07.679Z"
   },
   {
    "duration": 87,
    "start_time": "2022-06-23T12:08:01.523Z"
   },
   {
    "duration": 3,
    "start_time": "2022-06-23T12:09:34.991Z"
   },
   {
    "duration": 9,
    "start_time": "2022-06-23T12:10:24.790Z"
   },
   {
    "duration": 1519,
    "start_time": "2022-06-23T12:11:18.404Z"
   },
   {
    "duration": 50,
    "start_time": "2022-06-23T12:11:19.925Z"
   },
   {
    "duration": 20,
    "start_time": "2022-06-23T12:11:19.977Z"
   },
   {
    "duration": 22,
    "start_time": "2022-06-23T12:11:19.999Z"
   },
   {
    "duration": 18,
    "start_time": "2022-06-23T12:11:20.022Z"
   },
   {
    "duration": 19,
    "start_time": "2022-06-23T12:11:20.042Z"
   },
   {
    "duration": 8,
    "start_time": "2022-06-23T12:11:20.062Z"
   },
   {
    "duration": 15,
    "start_time": "2022-06-23T12:11:20.072Z"
   },
   {
    "duration": 11,
    "start_time": "2022-06-23T12:11:20.088Z"
   },
   {
    "duration": 21,
    "start_time": "2022-06-23T12:11:20.103Z"
   },
   {
    "duration": 13,
    "start_time": "2022-06-23T12:11:20.126Z"
   },
   {
    "duration": 9,
    "start_time": "2022-06-23T12:11:20.141Z"
   },
   {
    "duration": 23,
    "start_time": "2022-06-23T12:11:20.152Z"
   },
   {
    "duration": 18,
    "start_time": "2022-06-23T12:11:20.177Z"
   },
   {
    "duration": 38,
    "start_time": "2022-06-23T12:11:20.196Z"
   },
   {
    "duration": 24,
    "start_time": "2022-06-23T12:11:20.236Z"
   },
   {
    "duration": 7,
    "start_time": "2022-06-23T12:11:20.261Z"
   },
   {
    "duration": 18,
    "start_time": "2022-06-23T12:11:20.269Z"
   },
   {
    "duration": 11,
    "start_time": "2022-06-23T12:11:20.289Z"
   },
   {
    "duration": 11,
    "start_time": "2022-06-23T12:11:20.302Z"
   },
   {
    "duration": 15,
    "start_time": "2022-06-23T12:11:20.315Z"
   },
   {
    "duration": 12,
    "start_time": "2022-06-23T12:11:20.331Z"
   },
   {
    "duration": 14,
    "start_time": "2022-06-23T12:11:20.344Z"
   },
   {
    "duration": 25,
    "start_time": "2022-06-23T12:11:20.359Z"
   },
   {
    "duration": 16,
    "start_time": "2022-06-23T12:11:20.386Z"
   },
   {
    "duration": 33,
    "start_time": "2022-06-23T12:11:20.403Z"
   },
   {
    "duration": 23,
    "start_time": "2022-06-23T12:11:20.438Z"
   },
   {
    "duration": 3,
    "start_time": "2022-06-23T12:11:20.464Z"
   },
   {
    "duration": 20,
    "start_time": "2022-06-23T12:11:20.469Z"
   },
   {
    "duration": 158,
    "start_time": "2022-06-23T12:11:20.491Z"
   },
   {
    "duration": 141,
    "start_time": "2022-06-23T12:11:20.651Z"
   },
   {
    "duration": 245,
    "start_time": "2022-06-23T12:11:20.793Z"
   },
   {
    "duration": 153,
    "start_time": "2022-06-23T12:11:21.040Z"
   },
   {
    "duration": 6,
    "start_time": "2022-06-23T12:11:21.195Z"
   },
   {
    "duration": 15,
    "start_time": "2022-06-23T12:11:21.202Z"
   },
   {
    "duration": 203,
    "start_time": "2022-06-23T12:11:21.218Z"
   },
   {
    "duration": 7,
    "start_time": "2022-06-23T12:11:21.423Z"
   },
   {
    "duration": 9,
    "start_time": "2022-06-23T12:11:21.432Z"
   },
   {
    "duration": 25,
    "start_time": "2022-06-23T12:11:21.442Z"
   },
   {
    "duration": 200,
    "start_time": "2022-06-23T12:11:21.469Z"
   },
   {
    "duration": 5,
    "start_time": "2022-06-23T12:11:21.670Z"
   },
   {
    "duration": 32,
    "start_time": "2022-06-23T12:11:21.676Z"
   },
   {
    "duration": 4,
    "start_time": "2022-06-23T12:11:21.709Z"
   },
   {
    "duration": 28,
    "start_time": "2022-06-23T12:11:21.715Z"
   },
   {
    "duration": 19,
    "start_time": "2022-06-23T12:11:21.744Z"
   },
   {
    "duration": 5,
    "start_time": "2022-06-23T12:11:21.764Z"
   },
   {
    "duration": 14,
    "start_time": "2022-06-23T12:11:21.771Z"
   },
   {
    "duration": 7,
    "start_time": "2022-06-23T12:11:21.786Z"
   },
   {
    "duration": 20,
    "start_time": "2022-06-23T12:11:21.795Z"
   },
   {
    "duration": 7,
    "start_time": "2022-06-23T12:11:21.816Z"
   },
   {
    "duration": 12,
    "start_time": "2022-06-23T12:11:21.825Z"
   },
   {
    "duration": 21,
    "start_time": "2022-06-23T12:11:21.839Z"
   },
   {
    "duration": 6,
    "start_time": "2022-06-23T12:11:21.861Z"
   },
   {
    "duration": 14,
    "start_time": "2022-06-23T12:11:21.869Z"
   },
   {
    "duration": 10,
    "start_time": "2022-06-23T12:11:21.885Z"
   },
   {
    "duration": 361,
    "start_time": "2022-06-23T12:11:21.897Z"
   },
   {
    "duration": 202,
    "start_time": "2022-06-23T12:11:22.261Z"
   },
   {
    "duration": 0,
    "start_time": "2022-06-23T12:11:22.465Z"
   },
   {
    "duration": 0,
    "start_time": "2022-06-23T12:11:22.466Z"
   },
   {
    "duration": 0,
    "start_time": "2022-06-23T12:11:22.467Z"
   },
   {
    "duration": 0,
    "start_time": "2022-06-23T12:11:22.468Z"
   },
   {
    "duration": 0,
    "start_time": "2022-06-23T12:11:22.469Z"
   },
   {
    "duration": 0,
    "start_time": "2022-06-23T12:11:22.470Z"
   },
   {
    "duration": 0,
    "start_time": "2022-06-23T12:11:22.471Z"
   },
   {
    "duration": 0,
    "start_time": "2022-06-23T12:11:22.472Z"
   },
   {
    "duration": 0,
    "start_time": "2022-06-23T12:11:22.473Z"
   },
   {
    "duration": 0,
    "start_time": "2022-06-23T12:11:22.474Z"
   },
   {
    "duration": 14,
    "start_time": "2022-06-23T12:11:41.823Z"
   },
   {
    "duration": 131029,
    "start_time": "2022-06-23T12:12:01.187Z"
   },
   {
    "duration": 388,
    "start_time": "2022-06-23T12:14:12.218Z"
   },
   {
    "duration": 4,
    "start_time": "2022-06-23T12:14:31.931Z"
   },
   {
    "duration": 202,
    "start_time": "2022-06-23T12:14:35.056Z"
   },
   {
    "duration": 4,
    "start_time": "2022-06-23T12:15:11.657Z"
   },
   {
    "duration": 14,
    "start_time": "2022-06-23T12:15:20.134Z"
   },
   {
    "duration": 694006,
    "start_time": "2022-06-23T12:15:40.470Z"
   },
   {
    "duration": 5,
    "start_time": "2022-06-23T12:28:11.272Z"
   },
   {
    "duration": 199,
    "start_time": "2022-06-23T12:28:12.576Z"
   },
   {
    "duration": 1762,
    "start_time": "2022-06-23T15:50:33.086Z"
   },
   {
    "duration": 201,
    "start_time": "2022-06-23T15:50:34.850Z"
   },
   {
    "duration": 177,
    "start_time": "2022-06-23T15:50:35.052Z"
   },
   {
    "duration": 55,
    "start_time": "2022-06-23T15:50:35.231Z"
   },
   {
    "duration": 81,
    "start_time": "2022-06-23T15:50:35.287Z"
   },
   {
    "duration": 14,
    "start_time": "2022-06-23T15:50:35.369Z"
   },
   {
    "duration": 11,
    "start_time": "2022-06-23T15:50:35.385Z"
   },
   {
    "duration": 16,
    "start_time": "2022-06-23T15:50:35.397Z"
   },
   {
    "duration": 12,
    "start_time": "2022-06-23T15:50:35.414Z"
   },
   {
    "duration": 11,
    "start_time": "2022-06-23T15:50:35.429Z"
   },
   {
    "duration": 11,
    "start_time": "2022-06-23T15:50:35.442Z"
   },
   {
    "duration": 34,
    "start_time": "2022-06-23T15:50:35.455Z"
   },
   {
    "duration": 33,
    "start_time": "2022-06-23T15:50:35.491Z"
   },
   {
    "duration": 11,
    "start_time": "2022-06-23T15:50:35.526Z"
   },
   {
    "duration": 13,
    "start_time": "2022-06-23T15:50:35.539Z"
   },
   {
    "duration": 38,
    "start_time": "2022-06-23T15:50:35.555Z"
   },
   {
    "duration": 7,
    "start_time": "2022-06-23T15:50:35.595Z"
   },
   {
    "duration": 10,
    "start_time": "2022-06-23T15:50:35.603Z"
   },
   {
    "duration": 8,
    "start_time": "2022-06-23T15:50:35.615Z"
   },
   {
    "duration": 8,
    "start_time": "2022-06-23T15:50:35.624Z"
   },
   {
    "duration": 6,
    "start_time": "2022-06-23T15:50:35.633Z"
   },
   {
    "duration": 8,
    "start_time": "2022-06-23T15:50:35.641Z"
   },
   {
    "duration": 19,
    "start_time": "2022-06-23T15:50:35.651Z"
   },
   {
    "duration": 19,
    "start_time": "2022-06-23T15:50:35.673Z"
   },
   {
    "duration": 4,
    "start_time": "2022-06-23T15:50:35.693Z"
   },
   {
    "duration": 21,
    "start_time": "2022-06-23T15:50:35.699Z"
   },
   {
    "duration": 21,
    "start_time": "2022-06-23T15:50:35.722Z"
   },
   {
    "duration": 14,
    "start_time": "2022-06-23T15:50:35.746Z"
   },
   {
    "duration": 15,
    "start_time": "2022-06-23T15:50:35.762Z"
   },
   {
    "duration": 150,
    "start_time": "2022-06-23T15:50:35.778Z"
   },
   {
    "duration": 168,
    "start_time": "2022-06-23T15:50:35.930Z"
   },
   {
    "duration": 239,
    "start_time": "2022-06-23T15:50:36.099Z"
   },
   {
    "duration": 153,
    "start_time": "2022-06-23T15:50:36.339Z"
   },
   {
    "duration": 7,
    "start_time": "2022-06-23T15:50:36.493Z"
   },
   {
    "duration": 7,
    "start_time": "2022-06-23T15:50:36.501Z"
   },
   {
    "duration": 206,
    "start_time": "2022-06-23T15:50:36.510Z"
   },
   {
    "duration": 7,
    "start_time": "2022-06-23T15:50:36.718Z"
   },
   {
    "duration": 5,
    "start_time": "2022-06-23T15:50:36.726Z"
   },
   {
    "duration": 20,
    "start_time": "2022-06-23T15:50:36.733Z"
   },
   {
    "duration": 201,
    "start_time": "2022-06-23T15:50:36.754Z"
   },
   {
    "duration": 10,
    "start_time": "2022-06-23T15:50:36.958Z"
   },
   {
    "duration": 25,
    "start_time": "2022-06-23T15:50:36.970Z"
   },
   {
    "duration": 4,
    "start_time": "2022-06-23T15:50:36.997Z"
   },
   {
    "duration": 14,
    "start_time": "2022-06-23T15:50:37.002Z"
   },
   {
    "duration": 15,
    "start_time": "2022-06-23T15:50:37.018Z"
   },
   {
    "duration": 24,
    "start_time": "2022-06-23T15:50:37.035Z"
   },
   {
    "duration": 18,
    "start_time": "2022-06-23T15:50:37.067Z"
   },
   {
    "duration": 6,
    "start_time": "2022-06-23T15:50:37.087Z"
   },
   {
    "duration": 22,
    "start_time": "2022-06-23T15:50:37.095Z"
   },
   {
    "duration": 5,
    "start_time": "2022-06-23T15:50:37.119Z"
   },
   {
    "duration": 4,
    "start_time": "2022-06-23T15:50:37.126Z"
   },
   {
    "duration": 18,
    "start_time": "2022-06-23T15:50:37.131Z"
   },
   {
    "duration": 9,
    "start_time": "2022-06-23T15:50:37.154Z"
   },
   {
    "duration": 12,
    "start_time": "2022-06-23T15:50:37.165Z"
   },
   {
    "duration": 7,
    "start_time": "2022-06-23T15:50:37.178Z"
   },
   {
    "duration": 393,
    "start_time": "2022-06-23T15:50:37.187Z"
   },
   {
    "duration": 262,
    "start_time": "2022-06-23T15:50:37.583Z"
   },
   {
    "duration": 0,
    "start_time": "2022-06-23T15:50:37.846Z"
   },
   {
    "duration": 0,
    "start_time": "2022-06-23T15:50:37.847Z"
   },
   {
    "duration": 0,
    "start_time": "2022-06-23T15:50:37.850Z"
   },
   {
    "duration": 0,
    "start_time": "2022-06-23T15:50:37.851Z"
   },
   {
    "duration": 0,
    "start_time": "2022-06-23T15:50:37.852Z"
   },
   {
    "duration": 0,
    "start_time": "2022-06-23T15:50:37.853Z"
   },
   {
    "duration": 0,
    "start_time": "2022-06-23T15:50:37.853Z"
   },
   {
    "duration": 0,
    "start_time": "2022-06-23T15:50:37.854Z"
   },
   {
    "duration": 0,
    "start_time": "2022-06-23T15:50:37.856Z"
   },
   {
    "duration": 0,
    "start_time": "2022-06-23T15:50:37.857Z"
   },
   {
    "duration": 0,
    "start_time": "2022-06-23T15:50:37.857Z"
   },
   {
    "duration": 321,
    "start_time": "2022-06-23T15:51:03.146Z"
   },
   {
    "duration": 355,
    "start_time": "2022-06-23T15:51:07.547Z"
   },
   {
    "duration": 121473,
    "start_time": "2022-06-23T15:51:26.324Z"
   },
   {
    "duration": 3,
    "start_time": "2022-06-23T15:53:27.799Z"
   },
   {
    "duration": 228,
    "start_time": "2022-06-23T15:53:27.804Z"
   },
   {
    "duration": 25,
    "start_time": "2022-06-23T15:53:28.034Z"
   },
   {
    "duration": 20,
    "start_time": "2022-06-23T15:53:28.060Z"
   },
   {
    "duration": 3881208,
    "start_time": "2022-06-23T15:53:28.081Z"
   },
   {
    "duration": 5,
    "start_time": "2022-06-23T16:58:09.291Z"
   },
   {
    "duration": 285,
    "start_time": "2022-06-23T16:58:09.298Z"
   },
   {
    "duration": 11,
    "start_time": "2022-06-23T16:58:09.587Z"
   },
   {
    "duration": 538,
    "start_time": "2022-06-23T16:58:09.602Z"
   },
   {
    "duration": 5,
    "start_time": "2022-06-23T18:11:50.674Z"
   },
   {
    "duration": 276,
    "start_time": "2022-06-23T18:11:54.687Z"
   },
   {
    "duration": 767,
    "start_time": "2022-06-23T18:12:52.002Z"
   },
   {
    "duration": 4,
    "start_time": "2022-06-23T18:17:21.191Z"
   },
   {
    "duration": 318,
    "start_time": "2022-06-23T18:17:32.098Z"
   },
   {
    "duration": 5,
    "start_time": "2022-06-23T18:21:01.892Z"
   },
   {
    "duration": 265,
    "start_time": "2022-06-23T18:21:06.514Z"
   },
   {
    "duration": 9,
    "start_time": "2022-06-23T18:21:22.260Z"
   },
   {
    "duration": 577,
    "start_time": "2022-06-23T18:21:27.885Z"
   },
   {
    "duration": 14,
    "start_time": "2022-06-23T18:22:02.370Z"
   },
   {
    "duration": 628,
    "start_time": "2022-06-23T18:22:08.779Z"
   },
   {
    "duration": 750,
    "start_time": "2022-06-23T18:22:36.473Z"
   },
   {
    "duration": 31,
    "start_time": "2022-06-23T18:23:29.369Z"
   },
   {
    "duration": 4706101,
    "start_time": "2022-06-23T18:24:53.730Z"
   },
   {
    "duration": 24246,
    "start_time": "2022-06-23T19:43:33.362Z"
   },
   {
    "duration": 2008,
    "start_time": "2022-06-24T06:50:13.068Z"
   },
   {
    "duration": 128,
    "start_time": "2022-06-24T06:50:15.078Z"
   },
   {
    "duration": 98,
    "start_time": "2022-06-24T06:50:15.208Z"
   },
   {
    "duration": 55,
    "start_time": "2022-06-24T06:50:15.308Z"
   },
   {
    "duration": 58,
    "start_time": "2022-06-24T06:50:15.365Z"
   },
   {
    "duration": 23,
    "start_time": "2022-06-24T06:50:15.425Z"
   },
   {
    "duration": 16,
    "start_time": "2022-06-24T06:50:15.450Z"
   },
   {
    "duration": 25,
    "start_time": "2022-06-24T06:50:15.469Z"
   },
   {
    "duration": 17,
    "start_time": "2022-06-24T06:50:15.496Z"
   },
   {
    "duration": 13,
    "start_time": "2022-06-24T06:50:15.516Z"
   },
   {
    "duration": 28,
    "start_time": "2022-06-24T06:50:15.531Z"
   },
   {
    "duration": 12,
    "start_time": "2022-06-24T06:50:15.565Z"
   },
   {
    "duration": 20,
    "start_time": "2022-06-24T06:50:15.579Z"
   },
   {
    "duration": 14,
    "start_time": "2022-06-24T06:50:15.600Z"
   },
   {
    "duration": 12,
    "start_time": "2022-06-24T06:50:15.615Z"
   },
   {
    "duration": 39,
    "start_time": "2022-06-24T06:50:15.629Z"
   },
   {
    "duration": 14,
    "start_time": "2022-06-24T06:50:15.669Z"
   },
   {
    "duration": 9,
    "start_time": "2022-06-24T06:50:15.684Z"
   },
   {
    "duration": 8,
    "start_time": "2022-06-24T06:50:15.695Z"
   },
   {
    "duration": 7,
    "start_time": "2022-06-24T06:50:15.705Z"
   },
   {
    "duration": 8,
    "start_time": "2022-06-24T06:50:15.713Z"
   },
   {
    "duration": 11,
    "start_time": "2022-06-24T06:50:15.722Z"
   },
   {
    "duration": 19,
    "start_time": "2022-06-24T06:50:15.751Z"
   },
   {
    "duration": 23,
    "start_time": "2022-06-24T06:50:15.773Z"
   },
   {
    "duration": 5,
    "start_time": "2022-06-24T06:50:15.798Z"
   },
   {
    "duration": 35,
    "start_time": "2022-06-24T06:50:15.804Z"
   },
   {
    "duration": 33,
    "start_time": "2022-06-24T06:50:15.852Z"
   },
   {
    "duration": 4,
    "start_time": "2022-06-24T06:50:15.891Z"
   },
   {
    "duration": 12,
    "start_time": "2022-06-24T06:50:15.897Z"
   },
   {
    "duration": 186,
    "start_time": "2022-06-24T06:50:15.911Z"
   },
   {
    "duration": 234,
    "start_time": "2022-06-24T06:50:16.099Z"
   },
   {
    "duration": 200,
    "start_time": "2022-06-24T06:50:16.335Z"
   },
   {
    "duration": 185,
    "start_time": "2022-06-24T06:50:16.536Z"
   },
   {
    "duration": 7,
    "start_time": "2022-06-24T06:50:16.723Z"
   },
   {
    "duration": 28,
    "start_time": "2022-06-24T06:50:16.732Z"
   },
   {
    "duration": 223,
    "start_time": "2022-06-24T06:50:16.763Z"
   },
   {
    "duration": 8,
    "start_time": "2022-06-24T06:50:16.988Z"
   },
   {
    "duration": 8,
    "start_time": "2022-06-24T06:50:16.998Z"
   },
   {
    "duration": 10,
    "start_time": "2022-06-24T06:50:17.008Z"
   },
   {
    "duration": 283,
    "start_time": "2022-06-24T06:50:17.020Z"
   },
   {
    "duration": 5,
    "start_time": "2022-06-24T06:50:17.304Z"
   },
   {
    "duration": 51,
    "start_time": "2022-06-24T06:50:17.310Z"
   },
   {
    "duration": 1169,
    "start_time": "2022-06-24T06:50:17.363Z"
   },
   {
    "duration": 0,
    "start_time": "2022-06-24T06:50:18.534Z"
   },
   {
    "duration": 0,
    "start_time": "2022-06-24T06:50:18.535Z"
   },
   {
    "duration": 0,
    "start_time": "2022-06-24T06:50:18.537Z"
   },
   {
    "duration": 0,
    "start_time": "2022-06-24T06:50:18.538Z"
   },
   {
    "duration": 0,
    "start_time": "2022-06-24T06:50:18.539Z"
   },
   {
    "duration": 0,
    "start_time": "2022-06-24T06:50:18.540Z"
   },
   {
    "duration": 0,
    "start_time": "2022-06-24T06:50:18.552Z"
   },
   {
    "duration": 0,
    "start_time": "2022-06-24T06:50:18.553Z"
   },
   {
    "duration": 0,
    "start_time": "2022-06-24T06:50:18.554Z"
   },
   {
    "duration": 0,
    "start_time": "2022-06-24T06:50:18.554Z"
   },
   {
    "duration": 0,
    "start_time": "2022-06-24T06:50:18.555Z"
   },
   {
    "duration": 0,
    "start_time": "2022-06-24T06:50:18.556Z"
   },
   {
    "duration": 0,
    "start_time": "2022-06-24T06:50:18.556Z"
   },
   {
    "duration": 0,
    "start_time": "2022-06-24T06:50:18.562Z"
   },
   {
    "duration": 0,
    "start_time": "2022-06-24T06:50:18.562Z"
   },
   {
    "duration": 0,
    "start_time": "2022-06-24T06:50:18.563Z"
   },
   {
    "duration": 0,
    "start_time": "2022-06-24T06:50:18.563Z"
   },
   {
    "duration": 0,
    "start_time": "2022-06-24T06:50:18.567Z"
   },
   {
    "duration": 0,
    "start_time": "2022-06-24T06:50:18.567Z"
   },
   {
    "duration": 0,
    "start_time": "2022-06-24T06:50:18.568Z"
   },
   {
    "duration": 0,
    "start_time": "2022-06-24T06:50:18.569Z"
   },
   {
    "duration": 0,
    "start_time": "2022-06-24T06:50:18.572Z"
   },
   {
    "duration": 0,
    "start_time": "2022-06-24T06:50:18.573Z"
   },
   {
    "duration": 0,
    "start_time": "2022-06-24T06:50:18.575Z"
   },
   {
    "duration": 0,
    "start_time": "2022-06-24T06:50:18.576Z"
   },
   {
    "duration": 0,
    "start_time": "2022-06-24T06:50:18.577Z"
   },
   {
    "duration": 0,
    "start_time": "2022-06-24T06:50:18.578Z"
   },
   {
    "duration": 0,
    "start_time": "2022-06-24T06:50:18.580Z"
   },
   {
    "duration": 5,
    "start_time": "2022-06-24T06:50:43.187Z"
   },
   {
    "duration": 14,
    "start_time": "2022-06-24T06:50:43.974Z"
   },
   {
    "duration": 18,
    "start_time": "2022-06-24T06:50:45.126Z"
   },
   {
    "duration": 5,
    "start_time": "2022-06-24T06:50:48.980Z"
   },
   {
    "duration": 7,
    "start_time": "2022-06-24T06:50:49.715Z"
   },
   {
    "duration": 4,
    "start_time": "2022-06-24T06:50:50.782Z"
   },
   {
    "duration": 16,
    "start_time": "2022-06-24T06:50:51.605Z"
   },
   {
    "duration": 7,
    "start_time": "2022-06-24T06:50:54.188Z"
   },
   {
    "duration": 6,
    "start_time": "2022-06-24T06:50:56.643Z"
   },
   {
    "duration": 17,
    "start_time": "2022-06-24T06:50:57.394Z"
   },
   {
    "duration": 8,
    "start_time": "2022-06-24T06:50:58.183Z"
   },
   {
    "duration": 5,
    "start_time": "2022-06-24T06:51:02.781Z"
   },
   {
    "duration": 4,
    "start_time": "2022-06-24T06:51:03.573Z"
   },
   {
    "duration": 762,
    "start_time": "2022-06-24T06:51:05.404Z"
   },
   {
    "duration": 366,
    "start_time": "2022-06-24T06:51:09.333Z"
   },
   {
    "duration": 148800,
    "start_time": "2022-06-24T06:51:20.783Z"
   },
   {
    "duration": 4,
    "start_time": "2022-06-24T06:53:49.585Z"
   },
   {
    "duration": 269,
    "start_time": "2022-06-24T06:53:49.590Z"
   },
   {
    "duration": 732,
    "start_time": "2022-06-24T06:53:49.863Z"
   },
   {
    "duration": 11278626,
    "start_time": "2022-06-24T07:16:13.346Z"
   },
   {
    "duration": 8,
    "start_time": "2022-06-24T10:24:11.977Z"
   },
   {
    "duration": 297,
    "start_time": "2022-06-24T10:24:11.987Z"
   },
   {
    "duration": 831,
    "start_time": "2022-06-24T10:24:12.288Z"
   },
   {
    "duration": 3552942,
    "start_time": "2022-06-24T10:24:13.120Z"
   },
   {
    "duration": 636,
    "start_time": "2022-06-24T11:23:26.067Z"
   },
   {
    "duration": 23,
    "start_time": "2022-06-24T11:23:26.705Z"
   },
   {
    "duration": 3454245,
    "start_time": "2022-06-24T11:25:36.719Z"
   },
   {
    "duration": 512,
    "start_time": "2022-06-24T12:25:29.405Z"
   },
   {
    "duration": 3174987,
    "start_time": "2022-06-24T12:28:07.184Z"
   },
   {
    "duration": 520,
    "start_time": "2022-06-24T13:21:02.172Z"
   },
   {
    "duration": 1775867,
    "start_time": "2022-06-24T14:16:13.007Z"
   },
   {
    "duration": 460,
    "start_time": "2022-06-24T14:45:48.875Z"
   },
   {
    "duration": 9134361,
    "start_time": "2022-06-24T16:24:07.900Z"
   },
   {
    "duration": 288,
    "start_time": "2022-06-24T18:56:22.263Z"
   },
   {
    "duration": 376,
    "start_time": "2022-06-24T18:56:22.553Z"
   },
   {
    "duration": 5,
    "start_time": "2022-06-24T18:56:22.931Z"
   },
   {
    "duration": 580,
    "start_time": "2022-06-24T19:57:43.888Z"
   },
   {
    "duration": 564,
    "start_time": "2022-06-24T19:58:06.724Z"
   },
   {
    "duration": 662,
    "start_time": "2022-06-24T20:01:04.132Z"
   },
   {
    "duration": 141,
    "start_time": "2022-06-24T20:02:43.418Z"
   },
   {
    "duration": 351,
    "start_time": "2022-06-24T20:02:46.594Z"
   },
   {
    "duration": 19,
    "start_time": "2022-06-24T20:14:15.574Z"
   },
   {
    "duration": 1638,
    "start_time": "2022-06-25T06:26:40.348Z"
   },
   {
    "duration": 115,
    "start_time": "2022-06-25T06:26:41.989Z"
   },
   {
    "duration": 95,
    "start_time": "2022-06-25T06:26:42.106Z"
   },
   {
    "duration": 43,
    "start_time": "2022-06-25T06:26:42.203Z"
   },
   {
    "duration": 49,
    "start_time": "2022-06-25T06:26:42.249Z"
   },
   {
    "duration": 19,
    "start_time": "2022-06-25T06:26:42.300Z"
   },
   {
    "duration": 9,
    "start_time": "2022-06-25T06:26:42.321Z"
   },
   {
    "duration": 11,
    "start_time": "2022-06-25T06:26:42.332Z"
   },
   {
    "duration": 9,
    "start_time": "2022-06-25T06:26:42.344Z"
   },
   {
    "duration": 11,
    "start_time": "2022-06-25T06:26:42.354Z"
   },
   {
    "duration": 6,
    "start_time": "2022-06-25T06:26:42.367Z"
   },
   {
    "duration": 7,
    "start_time": "2022-06-25T06:26:42.375Z"
   },
   {
    "duration": 18,
    "start_time": "2022-06-25T06:26:42.384Z"
   },
   {
    "duration": 9,
    "start_time": "2022-06-25T06:26:42.405Z"
   },
   {
    "duration": 46,
    "start_time": "2022-06-25T06:26:42.416Z"
   },
   {
    "duration": 15,
    "start_time": "2022-06-25T06:26:42.464Z"
   },
   {
    "duration": 5,
    "start_time": "2022-06-25T06:26:42.481Z"
   },
   {
    "duration": 10,
    "start_time": "2022-06-25T06:26:42.488Z"
   },
   {
    "duration": 11,
    "start_time": "2022-06-25T06:26:42.500Z"
   },
   {
    "duration": 14,
    "start_time": "2022-06-25T06:26:42.512Z"
   },
   {
    "duration": 11,
    "start_time": "2022-06-25T06:26:42.528Z"
   },
   {
    "duration": 5,
    "start_time": "2022-06-25T06:26:42.540Z"
   },
   {
    "duration": 3,
    "start_time": "2022-06-25T06:26:42.552Z"
   },
   {
    "duration": 22,
    "start_time": "2022-06-25T06:26:42.557Z"
   },
   {
    "duration": 13,
    "start_time": "2022-06-25T06:26:42.581Z"
   },
   {
    "duration": 31,
    "start_time": "2022-06-25T06:26:42.596Z"
   },
   {
    "duration": 41,
    "start_time": "2022-06-25T06:26:42.629Z"
   },
   {
    "duration": 4,
    "start_time": "2022-06-25T06:26:42.672Z"
   },
   {
    "duration": 10,
    "start_time": "2022-06-25T06:26:42.677Z"
   },
   {
    "duration": 159,
    "start_time": "2022-06-25T06:26:42.688Z"
   },
   {
    "duration": 201,
    "start_time": "2022-06-25T06:26:42.851Z"
   },
   {
    "duration": 185,
    "start_time": "2022-06-25T06:26:43.054Z"
   },
   {
    "duration": 183,
    "start_time": "2022-06-25T06:26:43.240Z"
   },
   {
    "duration": 8,
    "start_time": "2022-06-25T06:26:43.425Z"
   },
   {
    "duration": 19,
    "start_time": "2022-06-25T06:26:43.435Z"
   },
   {
    "duration": 216,
    "start_time": "2022-06-25T06:26:43.455Z"
   },
   {
    "duration": 7,
    "start_time": "2022-06-25T06:26:43.673Z"
   },
   {
    "duration": 5,
    "start_time": "2022-06-25T06:26:43.682Z"
   },
   {
    "duration": 7,
    "start_time": "2022-06-25T06:26:43.688Z"
   },
   {
    "duration": 225,
    "start_time": "2022-06-25T06:26:43.697Z"
   },
   {
    "duration": 5,
    "start_time": "2022-06-25T06:26:43.928Z"
   },
   {
    "duration": 37,
    "start_time": "2022-06-25T06:26:43.935Z"
   },
   {
    "duration": 3,
    "start_time": "2022-06-25T06:26:43.974Z"
   },
   {
    "duration": 92,
    "start_time": "2022-06-25T06:26:43.979Z"
   },
   {
    "duration": 4,
    "start_time": "2022-06-25T06:26:44.073Z"
   },
   {
    "duration": 21,
    "start_time": "2022-06-25T06:26:44.078Z"
   },
   {
    "duration": 19,
    "start_time": "2022-06-25T06:26:44.101Z"
   },
   {
    "duration": 5,
    "start_time": "2022-06-25T06:26:44.122Z"
   },
   {
    "duration": 30,
    "start_time": "2022-06-25T06:26:44.129Z"
   },
   {
    "duration": 10,
    "start_time": "2022-06-25T06:26:44.161Z"
   },
   {
    "duration": 22,
    "start_time": "2022-06-25T06:26:44.173Z"
   },
   {
    "duration": 10,
    "start_time": "2022-06-25T06:26:44.197Z"
   },
   {
    "duration": 8,
    "start_time": "2022-06-25T06:26:44.209Z"
   },
   {
    "duration": 23,
    "start_time": "2022-06-25T06:26:44.218Z"
   },
   {
    "duration": 14,
    "start_time": "2022-06-25T06:26:44.242Z"
   },
   {
    "duration": 13,
    "start_time": "2022-06-25T06:26:44.258Z"
   },
   {
    "duration": 5,
    "start_time": "2022-06-25T06:26:44.273Z"
   },
   {
    "duration": 2485,
    "start_time": "2022-06-25T06:26:44.279Z"
   },
   {
    "duration": 444,
    "start_time": "2022-06-25T06:26:46.766Z"
   },
   {
    "duration": 137162,
    "start_time": "2022-06-25T06:26:47.212Z"
   },
   {
    "duration": 3,
    "start_time": "2022-06-25T06:29:04.376Z"
   },
   {
    "duration": 231,
    "start_time": "2022-06-25T06:29:04.381Z"
   },
   {
    "duration": 713,
    "start_time": "2022-06-25T06:29:04.614Z"
   },
   {
    "duration": 73471,
    "start_time": "2022-06-25T06:29:05.329Z"
   },
   {
    "duration": 9,
    "start_time": "2022-06-25T06:30:18.802Z"
   },
   {
    "duration": 0,
    "start_time": "2022-06-25T06:30:18.813Z"
   },
   {
    "duration": 0,
    "start_time": "2022-06-25T06:30:18.814Z"
   },
   {
    "duration": 0,
    "start_time": "2022-06-25T06:30:18.815Z"
   },
   {
    "duration": 0,
    "start_time": "2022-06-25T06:30:18.816Z"
   },
   {
    "duration": 0,
    "start_time": "2022-06-25T06:30:18.817Z"
   },
   {
    "duration": 0,
    "start_time": "2022-06-25T06:30:18.818Z"
   },
   {
    "duration": 0,
    "start_time": "2022-06-25T06:30:18.819Z"
   },
   {
    "duration": 0,
    "start_time": "2022-06-25T06:30:18.820Z"
   },
   {
    "duration": 0,
    "start_time": "2022-06-25T06:30:18.821Z"
   },
   {
    "duration": 0,
    "start_time": "2022-06-25T06:30:18.822Z"
   },
   {
    "duration": 0,
    "start_time": "2022-06-25T06:30:18.823Z"
   },
   {
    "duration": 1581,
    "start_time": "2022-06-25T06:30:50.736Z"
   },
   {
    "duration": 48,
    "start_time": "2022-06-25T06:30:52.319Z"
   },
   {
    "duration": 20,
    "start_time": "2022-06-25T06:30:52.368Z"
   },
   {
    "duration": 24,
    "start_time": "2022-06-25T06:30:52.390Z"
   },
   {
    "duration": 17,
    "start_time": "2022-06-25T06:30:52.416Z"
   },
   {
    "duration": 15,
    "start_time": "2022-06-25T06:30:52.435Z"
   },
   {
    "duration": 16,
    "start_time": "2022-06-25T06:30:52.452Z"
   },
   {
    "duration": 14,
    "start_time": "2022-06-25T06:30:52.469Z"
   },
   {
    "duration": 10,
    "start_time": "2022-06-25T06:30:52.485Z"
   },
   {
    "duration": 12,
    "start_time": "2022-06-25T06:30:52.499Z"
   },
   {
    "duration": 7,
    "start_time": "2022-06-25T06:30:52.513Z"
   },
   {
    "duration": 37,
    "start_time": "2022-06-25T06:30:52.522Z"
   },
   {
    "duration": 24,
    "start_time": "2022-06-25T06:30:52.561Z"
   },
   {
    "duration": 18,
    "start_time": "2022-06-25T06:30:52.587Z"
   },
   {
    "duration": 18,
    "start_time": "2022-06-25T06:30:52.607Z"
   },
   {
    "duration": 40,
    "start_time": "2022-06-25T06:30:52.627Z"
   },
   {
    "duration": 10,
    "start_time": "2022-06-25T06:30:52.670Z"
   },
   {
    "duration": 12,
    "start_time": "2022-06-25T06:30:52.682Z"
   },
   {
    "duration": 9,
    "start_time": "2022-06-25T06:30:52.695Z"
   },
   {
    "duration": 6,
    "start_time": "2022-06-25T06:30:52.706Z"
   },
   {
    "duration": 6,
    "start_time": "2022-06-25T06:30:52.714Z"
   },
   {
    "duration": 6,
    "start_time": "2022-06-25T06:30:52.722Z"
   },
   {
    "duration": 4,
    "start_time": "2022-06-25T06:30:52.752Z"
   },
   {
    "duration": 19,
    "start_time": "2022-06-25T06:30:52.757Z"
   },
   {
    "duration": 4,
    "start_time": "2022-06-25T06:30:52.778Z"
   },
   {
    "duration": 26,
    "start_time": "2022-06-25T06:30:52.783Z"
   },
   {
    "duration": 54,
    "start_time": "2022-06-25T06:30:52.810Z"
   },
   {
    "duration": 4,
    "start_time": "2022-06-25T06:30:52.869Z"
   },
   {
    "duration": 7,
    "start_time": "2022-06-25T06:30:52.874Z"
   },
   {
    "duration": 175,
    "start_time": "2022-06-25T06:30:52.882Z"
   },
   {
    "duration": 154,
    "start_time": "2022-06-25T06:30:53.061Z"
   },
   {
    "duration": 269,
    "start_time": "2022-06-25T06:30:53.216Z"
   },
   {
    "duration": 178,
    "start_time": "2022-06-25T06:30:53.487Z"
   },
   {
    "duration": 6,
    "start_time": "2022-06-25T06:30:53.667Z"
   },
   {
    "duration": 8,
    "start_time": "2022-06-25T06:30:53.675Z"
   },
   {
    "duration": 218,
    "start_time": "2022-06-25T06:30:53.684Z"
   },
   {
    "duration": 7,
    "start_time": "2022-06-25T06:30:53.904Z"
   },
   {
    "duration": 10,
    "start_time": "2022-06-25T06:30:53.913Z"
   },
   {
    "duration": 9,
    "start_time": "2022-06-25T06:30:53.924Z"
   },
   {
    "duration": 242,
    "start_time": "2022-06-25T06:30:53.934Z"
   },
   {
    "duration": 4,
    "start_time": "2022-06-25T06:30:54.179Z"
   },
   {
    "duration": 37,
    "start_time": "2022-06-25T06:30:54.185Z"
   },
   {
    "duration": 5,
    "start_time": "2022-06-25T06:30:54.223Z"
   },
   {
    "duration": 38,
    "start_time": "2022-06-25T06:30:54.230Z"
   },
   {
    "duration": 35,
    "start_time": "2022-06-25T06:30:54.270Z"
   },
   {
    "duration": 10,
    "start_time": "2022-06-25T06:30:54.307Z"
   },
   {
    "duration": 19,
    "start_time": "2022-06-25T06:30:54.319Z"
   },
   {
    "duration": 9,
    "start_time": "2022-06-25T06:30:54.340Z"
   },
   {
    "duration": 142,
    "start_time": "2022-06-25T06:30:54.350Z"
   },
   {
    "duration": 0,
    "start_time": "2022-06-25T06:30:54.494Z"
   },
   {
    "duration": 0,
    "start_time": "2022-06-25T06:30:54.496Z"
   },
   {
    "duration": 0,
    "start_time": "2022-06-25T06:30:54.497Z"
   },
   {
    "duration": 0,
    "start_time": "2022-06-25T06:30:54.498Z"
   },
   {
    "duration": 0,
    "start_time": "2022-06-25T06:30:54.500Z"
   },
   {
    "duration": 0,
    "start_time": "2022-06-25T06:30:54.501Z"
   },
   {
    "duration": 0,
    "start_time": "2022-06-25T06:30:54.501Z"
   },
   {
    "duration": 0,
    "start_time": "2022-06-25T06:30:54.503Z"
   },
   {
    "duration": 0,
    "start_time": "2022-06-25T06:30:54.504Z"
   },
   {
    "duration": 0,
    "start_time": "2022-06-25T06:30:54.505Z"
   },
   {
    "duration": 0,
    "start_time": "2022-06-25T06:30:54.507Z"
   },
   {
    "duration": 0,
    "start_time": "2022-06-25T06:30:54.508Z"
   },
   {
    "duration": 0,
    "start_time": "2022-06-25T06:30:54.508Z"
   },
   {
    "duration": 0,
    "start_time": "2022-06-25T06:30:54.512Z"
   },
   {
    "duration": 0,
    "start_time": "2022-06-25T06:30:54.513Z"
   },
   {
    "duration": 0,
    "start_time": "2022-06-25T06:30:54.514Z"
   },
   {
    "duration": 0,
    "start_time": "2022-06-25T06:30:54.552Z"
   },
   {
    "duration": 0,
    "start_time": "2022-06-25T06:30:54.553Z"
   },
   {
    "duration": 0,
    "start_time": "2022-06-25T06:30:54.554Z"
   },
   {
    "duration": 0,
    "start_time": "2022-06-25T06:30:54.555Z"
   },
   {
    "duration": 0,
    "start_time": "2022-06-25T06:30:54.556Z"
   },
   {
    "duration": 0,
    "start_time": "2022-06-25T06:30:54.557Z"
   },
   {
    "duration": 0,
    "start_time": "2022-06-25T06:30:54.559Z"
   },
   {
    "duration": 1575,
    "start_time": "2022-06-25T06:31:58.526Z"
   },
   {
    "duration": 55,
    "start_time": "2022-06-25T06:32:00.103Z"
   },
   {
    "duration": 21,
    "start_time": "2022-06-25T06:32:00.159Z"
   },
   {
    "duration": 27,
    "start_time": "2022-06-25T06:32:00.183Z"
   },
   {
    "duration": 17,
    "start_time": "2022-06-25T06:32:00.212Z"
   },
   {
    "duration": 16,
    "start_time": "2022-06-25T06:32:00.231Z"
   },
   {
    "duration": 11,
    "start_time": "2022-06-25T06:32:00.248Z"
   },
   {
    "duration": 44,
    "start_time": "2022-06-25T06:32:00.261Z"
   },
   {
    "duration": 21,
    "start_time": "2022-06-25T06:32:00.306Z"
   },
   {
    "duration": 17,
    "start_time": "2022-06-25T06:32:00.330Z"
   },
   {
    "duration": 12,
    "start_time": "2022-06-25T06:32:00.349Z"
   },
   {
    "duration": 21,
    "start_time": "2022-06-25T06:32:00.363Z"
   },
   {
    "duration": 30,
    "start_time": "2022-06-25T06:32:00.386Z"
   },
   {
    "duration": 23,
    "start_time": "2022-06-25T06:32:00.418Z"
   },
   {
    "duration": 24,
    "start_time": "2022-06-25T06:32:00.442Z"
   },
   {
    "duration": 37,
    "start_time": "2022-06-25T06:32:00.468Z"
   },
   {
    "duration": 37,
    "start_time": "2022-06-25T06:32:00.507Z"
   },
   {
    "duration": 33,
    "start_time": "2022-06-25T06:32:00.546Z"
   },
   {
    "duration": 55,
    "start_time": "2022-06-25T06:32:00.581Z"
   },
   {
    "duration": 18,
    "start_time": "2022-06-25T06:32:00.638Z"
   },
   {
    "duration": 30,
    "start_time": "2022-06-25T06:32:00.658Z"
   },
   {
    "duration": 8,
    "start_time": "2022-06-25T06:32:00.690Z"
   },
   {
    "duration": 7,
    "start_time": "2022-06-25T06:32:00.700Z"
   },
   {
    "duration": 21,
    "start_time": "2022-06-25T06:32:00.709Z"
   },
   {
    "duration": 10,
    "start_time": "2022-06-25T06:32:00.732Z"
   },
   {
    "duration": 28,
    "start_time": "2022-06-25T06:32:00.743Z"
   },
   {
    "duration": 30,
    "start_time": "2022-06-25T06:32:00.773Z"
   },
   {
    "duration": 3,
    "start_time": "2022-06-25T06:32:00.807Z"
   },
   {
    "duration": 13,
    "start_time": "2022-06-25T06:32:00.811Z"
   },
   {
    "duration": 182,
    "start_time": "2022-06-25T06:32:00.825Z"
   },
   {
    "duration": 143,
    "start_time": "2022-06-25T06:32:01.009Z"
   },
   {
    "duration": 265,
    "start_time": "2022-06-25T06:32:01.154Z"
   },
   {
    "duration": 165,
    "start_time": "2022-06-25T06:32:01.421Z"
   },
   {
    "duration": 8,
    "start_time": "2022-06-25T06:32:01.587Z"
   },
   {
    "duration": 16,
    "start_time": "2022-06-25T06:32:01.596Z"
   },
   {
    "duration": 212,
    "start_time": "2022-06-25T06:32:01.613Z"
   },
   {
    "duration": 8,
    "start_time": "2022-06-25T06:32:01.827Z"
   },
   {
    "duration": 32,
    "start_time": "2022-06-25T06:32:01.837Z"
   },
   {
    "duration": 21,
    "start_time": "2022-06-25T06:32:01.871Z"
   },
   {
    "duration": 224,
    "start_time": "2022-06-25T06:32:01.893Z"
   },
   {
    "duration": 4,
    "start_time": "2022-06-25T06:32:02.119Z"
   },
   {
    "duration": 36,
    "start_time": "2022-06-25T06:32:02.125Z"
   },
   {
    "duration": 4,
    "start_time": "2022-06-25T06:32:02.163Z"
   },
   {
    "duration": 22,
    "start_time": "2022-06-25T06:32:02.169Z"
   },
   {
    "duration": 27,
    "start_time": "2022-06-25T06:32:02.193Z"
   },
   {
    "duration": 8,
    "start_time": "2022-06-25T06:32:02.221Z"
   },
   {
    "duration": 10,
    "start_time": "2022-06-25T06:32:02.230Z"
   },
   {
    "duration": 12,
    "start_time": "2022-06-25T06:32:02.241Z"
   },
   {
    "duration": 33,
    "start_time": "2022-06-25T06:32:02.254Z"
   },
   {
    "duration": 5,
    "start_time": "2022-06-25T06:32:02.289Z"
   },
   {
    "duration": 13,
    "start_time": "2022-06-25T06:32:02.296Z"
   },
   {
    "duration": 24,
    "start_time": "2022-06-25T06:32:02.310Z"
   },
   {
    "duration": 5,
    "start_time": "2022-06-25T06:32:02.336Z"
   },
   {
    "duration": 5,
    "start_time": "2022-06-25T06:32:02.343Z"
   },
   {
    "duration": 23,
    "start_time": "2022-06-25T06:32:02.349Z"
   },
   {
    "duration": 579,
    "start_time": "2022-06-25T06:32:02.374Z"
   },
   {
    "duration": 466,
    "start_time": "2022-06-25T06:32:02.960Z"
   },
   {
    "duration": 141231,
    "start_time": "2022-06-25T06:32:03.428Z"
   },
   {
    "duration": 3,
    "start_time": "2022-06-25T06:34:24.661Z"
   },
   {
    "duration": 997,
    "start_time": "2022-06-25T06:34:24.666Z"
   },
   {
    "duration": 776,
    "start_time": "2022-06-25T06:34:25.665Z"
   },
   {
    "duration": 11706012,
    "start_time": "2022-06-25T06:34:26.442Z"
   },
   {
    "duration": 4,
    "start_time": "2022-06-25T09:49:32.456Z"
   },
   {
    "duration": 250,
    "start_time": "2022-06-25T09:49:32.462Z"
   },
   {
    "duration": 763,
    "start_time": "2022-06-25T09:49:32.714Z"
   },
   {
    "duration": 291285,
    "start_time": "2022-06-25T09:49:33.478Z"
   },
   {
    "duration": 651,
    "start_time": "2022-06-25T09:54:24.765Z"
   },
   {
    "duration": 128,
    "start_time": "2022-06-25T09:54:25.418Z"
   },
   {
    "duration": 0,
    "start_time": "2022-06-25T09:54:25.553Z"
   },
   {
    "duration": 0,
    "start_time": "2022-06-25T09:54:25.555Z"
   },
   {
    "duration": 0,
    "start_time": "2022-06-25T09:54:25.560Z"
   },
   {
    "duration": 0,
    "start_time": "2022-06-25T09:54:25.561Z"
   },
   {
    "duration": 438,
    "start_time": "2022-06-25T13:21:05.430Z"
   },
   {
    "duration": 11,
    "start_time": "2022-06-25T13:21:47.753Z"
   },
   {
    "duration": 4236937,
    "start_time": "2022-06-25T13:22:06.100Z"
   },
   {
    "duration": 13,
    "start_time": "2022-06-25T14:33:59.011Z"
   }
  ],
  "kernelspec": {
   "display_name": "Python 3",
   "language": "python",
   "name": "python3"
  },
  "language_info": {
   "codemirror_mode": {
    "name": "ipython",
    "version": 3
   },
   "file_extension": ".py",
   "mimetype": "text/x-python",
   "name": "python",
   "nbconvert_exporter": "python",
   "pygments_lexer": "ipython3",
   "version": "3.8.8"
  },
  "toc": {
   "base_numbering": 1,
   "nav_menu": {},
   "number_sections": true,
   "sideBar": true,
   "skip_h1_title": true,
   "title_cell": "Table of Contents",
   "title_sidebar": "Contents",
   "toc_cell": false,
   "toc_position": {},
   "toc_section_display": true,
   "toc_window_display": false
  }
 },
 "nbformat": 4,
 "nbformat_minor": 2
}
