{
 "cells": [
  {
   "cell_type": "markdown",
   "metadata": {},
   "source": [
    "## Шаг 1. Изучение общей информации"
   ]
  },
  {
   "cell_type": "code",
   "execution_count": null,
   "metadata": {},
   "outputs": [],
   "source": [
    "import pandas as pd\n",
    "from pymystem3 import Mystem\n",
    "m = Mystem()"
   ]
  },
  {
   "cell_type": "code",
   "execution_count": 2,
   "metadata": {},
   "outputs": [
    {
     "data": {
      "text/html": [
       "<div>\n",
       "<style scoped>\n",
       "    .dataframe tbody tr th:only-of-type {\n",
       "        vertical-align: middle;\n",
       "    }\n",
       "\n",
       "    .dataframe tbody tr th {\n",
       "        vertical-align: top;\n",
       "    }\n",
       "\n",
       "    .dataframe thead th {\n",
       "        text-align: right;\n",
       "    }\n",
       "</style>\n",
       "<table border=\"1\" class=\"dataframe\">\n",
       "  <thead>\n",
       "    <tr style=\"text-align: right;\">\n",
       "      <th></th>\n",
       "      <th>children</th>\n",
       "      <th>days_employed</th>\n",
       "      <th>dob_years</th>\n",
       "      <th>education</th>\n",
       "      <th>education_id</th>\n",
       "      <th>family_status</th>\n",
       "      <th>family_status_id</th>\n",
       "      <th>gender</th>\n",
       "      <th>income_type</th>\n",
       "      <th>debt</th>\n",
       "      <th>total_income</th>\n",
       "      <th>purpose</th>\n",
       "    </tr>\n",
       "  </thead>\n",
       "  <tbody>\n",
       "    <tr>\n",
       "      <td>0</td>\n",
       "      <td>1</td>\n",
       "      <td>-8437.673028</td>\n",
       "      <td>42</td>\n",
       "      <td>высшее</td>\n",
       "      <td>0</td>\n",
       "      <td>женат / замужем</td>\n",
       "      <td>0</td>\n",
       "      <td>F</td>\n",
       "      <td>сотрудник</td>\n",
       "      <td>0</td>\n",
       "      <td>253875.639453</td>\n",
       "      <td>покупка жилья</td>\n",
       "    </tr>\n",
       "    <tr>\n",
       "      <td>1</td>\n",
       "      <td>1</td>\n",
       "      <td>-4024.803754</td>\n",
       "      <td>36</td>\n",
       "      <td>среднее</td>\n",
       "      <td>1</td>\n",
       "      <td>женат / замужем</td>\n",
       "      <td>0</td>\n",
       "      <td>F</td>\n",
       "      <td>сотрудник</td>\n",
       "      <td>0</td>\n",
       "      <td>112080.014102</td>\n",
       "      <td>приобретение автомобиля</td>\n",
       "    </tr>\n",
       "    <tr>\n",
       "      <td>2</td>\n",
       "      <td>0</td>\n",
       "      <td>-5623.422610</td>\n",
       "      <td>33</td>\n",
       "      <td>Среднее</td>\n",
       "      <td>1</td>\n",
       "      <td>женат / замужем</td>\n",
       "      <td>0</td>\n",
       "      <td>M</td>\n",
       "      <td>сотрудник</td>\n",
       "      <td>0</td>\n",
       "      <td>145885.952297</td>\n",
       "      <td>покупка жилья</td>\n",
       "    </tr>\n",
       "    <tr>\n",
       "      <td>3</td>\n",
       "      <td>3</td>\n",
       "      <td>-4124.747207</td>\n",
       "      <td>32</td>\n",
       "      <td>среднее</td>\n",
       "      <td>1</td>\n",
       "      <td>женат / замужем</td>\n",
       "      <td>0</td>\n",
       "      <td>M</td>\n",
       "      <td>сотрудник</td>\n",
       "      <td>0</td>\n",
       "      <td>267628.550329</td>\n",
       "      <td>дополнительное образование</td>\n",
       "    </tr>\n",
       "    <tr>\n",
       "      <td>4</td>\n",
       "      <td>0</td>\n",
       "      <td>340266.072047</td>\n",
       "      <td>53</td>\n",
       "      <td>среднее</td>\n",
       "      <td>1</td>\n",
       "      <td>гражданский брак</td>\n",
       "      <td>1</td>\n",
       "      <td>F</td>\n",
       "      <td>пенсионер</td>\n",
       "      <td>0</td>\n",
       "      <td>158616.077870</td>\n",
       "      <td>сыграть свадьбу</td>\n",
       "    </tr>\n",
       "  </tbody>\n",
       "</table>\n",
       "</div>"
      ],
      "text/plain": [
       "   children  days_employed  dob_years education  education_id  \\\n",
       "0         1   -8437.673028         42    высшее             0   \n",
       "1         1   -4024.803754         36   среднее             1   \n",
       "2         0   -5623.422610         33   Среднее             1   \n",
       "3         3   -4124.747207         32   среднее             1   \n",
       "4         0  340266.072047         53   среднее             1   \n",
       "\n",
       "      family_status  family_status_id gender income_type  debt   total_income  \\\n",
       "0   женат / замужем                 0      F   сотрудник     0  253875.639453   \n",
       "1   женат / замужем                 0      F   сотрудник     0  112080.014102   \n",
       "2   женат / замужем                 0      M   сотрудник     0  145885.952297   \n",
       "3   женат / замужем                 0      M   сотрудник     0  267628.550329   \n",
       "4  гражданский брак                 1      F   пенсионер     0  158616.077870   \n",
       "\n",
       "                      purpose  \n",
       "0               покупка жилья  \n",
       "1     приобретение автомобиля  \n",
       "2               покупка жилья  \n",
       "3  дополнительное образование  \n",
       "4             сыграть свадьбу  "
      ]
     },
     "execution_count": 2,
     "metadata": {},
     "output_type": "execute_result"
    }
   ],
   "source": [
    "data = pd.read_csv(r\"C:\\Users\\User\\yandex-praktikum-projects\\research of bank borrowers\\bank borrowers.csv\")\n",
    "data.head()"
   ]
  },
  {
   "cell_type": "code",
   "execution_count": 3,
   "metadata": {},
   "outputs": [
    {
     "name": "stdout",
     "output_type": "stream",
     "text": [
      "<class 'pandas.core.frame.DataFrame'>\n",
      "RangeIndex: 21525 entries, 0 to 21524\n",
      "Data columns (total 12 columns):\n",
      "children            21525 non-null int64\n",
      "days_employed       19351 non-null float64\n",
      "dob_years           21525 non-null int64\n",
      "education           21525 non-null object\n",
      "education_id        21525 non-null int64\n",
      "family_status       21525 non-null object\n",
      "family_status_id    21525 non-null int64\n",
      "gender              21525 non-null object\n",
      "income_type         21525 non-null object\n",
      "debt                21525 non-null int64\n",
      "total_income        19351 non-null float64\n",
      "purpose             21525 non-null object\n",
      "dtypes: float64(2), int64(5), object(5)\n",
      "memory usage: 2.0+ MB\n"
     ]
    }
   ],
   "source": [
    "data.info()"
   ]
  },
  {
   "cell_type": "markdown",
   "metadata": {},
   "source": [
    "**Вывод**"
   ]
  },
  {
   "cell_type": "markdown",
   "metadata": {},
   "source": [
    "- В столбце days_employed присутствуют отрицательные числа. И в пересчете на годы не во всех случаях результат похож на правду. Вероятно, при выгрузки данных произошел сбой. Данный столбец в исследовании не участвует, поэтому с этими данными никаких операций производить не буду.\n",
    "- В столбце total_income есть отсутствующие данные. Необходимо их заполнить. Возможно, при заполнении анкеты потенциальные заемщики пропустили данный пункт.\n",
    "- Столец total_income имеет неподходящий тип. Нужно исправить. "
   ]
  },
  {
   "cell_type": "markdown",
   "metadata": {},
   "source": [
    "## Шаг 2. Предобработка данных"
   ]
  },
  {
   "cell_type": "markdown",
   "metadata": {},
   "source": [
    "### Обработка пропусков"
   ]
  },
  {
   "cell_type": "code",
   "execution_count": 4,
   "metadata": {},
   "outputs": [
    {
     "data": {
      "text/plain": [
       "children               0\n",
       "days_employed       2174\n",
       "dob_years              0\n",
       "education              0\n",
       "education_id           0\n",
       "family_status          0\n",
       "family_status_id       0\n",
       "gender                 0\n",
       "income_type            0\n",
       "debt                   0\n",
       "total_income        2174\n",
       "purpose                0\n",
       "dtype: int64"
      ]
     },
     "execution_count": 4,
     "metadata": {},
     "output_type": "execute_result"
    }
   ],
   "source": [
    "data.isna().sum() # проверка количества пропущенных значений по столбцам"
   ]
  },
  {
   "cell_type": "code",
   "execution_count": 5,
   "metadata": {},
   "outputs": [],
   "source": [
    "data['total_income'] = pd.to_numeric(data['total_income'], errors='coerce') # приведение типа данных к численному"
   ]
  },
  {
   "cell_type": "code",
   "execution_count": 6,
   "metadata": {
    "scrolled": false
   },
   "outputs": [],
   "source": [
    "data['education'] = data['education'].str.lower() # приведение столбца к нижнему регистру для исключения дублирующих значений\n"
   ]
  },
  {
   "cell_type": "code",
   "execution_count": 7,
   "metadata": {},
   "outputs": [],
   "source": [
    "def age_group(age): # для заполнения отсутствующих значений столбца total_income необходимо рассчитать медианные значения\n",
    "                    # дохода для каждой категории в зависимости от возраста и типа занятости        \n",
    "    \"\"\"\n",
    "    Возвращает возврастную группу по значению возраста age, используя правила:\n",
    "    - 'до 18 лет', если age <= 18 лет;\n",
    "    - '19-27 лет', если age более 18 и менее 28, не включая 28;\n",
    "    - '28-60 лет', если age более 28 и менее 60, включая 28 и 60\n",
    "    - '61+ лет' — во всех остальных случаях.\n",
    "    \"\"\"\n",
    "    \n",
    "    if age <= 18:\n",
    "        return 'до 18 дет'\n",
    "    if age <= 27:\n",
    "        return '19-27 лет'\n",
    "    if age <= 60:\n",
    "        return '28-60 лет'\n",
    "    return '61+ лет' "
   ]
  },
  {
   "cell_type": "code",
   "execution_count": 8,
   "metadata": {},
   "outputs": [
    {
     "data": {
      "text/plain": [
       "0     101\n",
       "19     14\n",
       "20     51\n",
       "21    111\n",
       "22    183\n",
       "23    254\n",
       "24    264\n",
       "25    357\n",
       "26    408\n",
       "27    493\n",
       "28    503\n",
       "29    545\n",
       "30    540\n",
       "31    560\n",
       "32    510\n",
       "33    581\n",
       "34    603\n",
       "35    617\n",
       "36    555\n",
       "37    537\n",
       "38    598\n",
       "39    573\n",
       "40    609\n",
       "41    607\n",
       "42    597\n",
       "43    513\n",
       "44    547\n",
       "45    497\n",
       "46    475\n",
       "47    480\n",
       "48    538\n",
       "49    508\n",
       "50    514\n",
       "51    448\n",
       "52    484\n",
       "53    459\n",
       "54    479\n",
       "55    443\n",
       "56    487\n",
       "57    460\n",
       "58    461\n",
       "59    444\n",
       "60    377\n",
       "61    355\n",
       "62    352\n",
       "63    269\n",
       "64    265\n",
       "65    194\n",
       "66    183\n",
       "67    167\n",
       "68     99\n",
       "69     85\n",
       "70     65\n",
       "71     58\n",
       "72     33\n",
       "73      8\n",
       "74      6\n",
       "75      1\n",
       "Name: dob_years, dtype: int64"
      ]
     },
     "execution_count": 8,
     "metadata": {},
     "output_type": "execute_result"
    }
   ],
   "source": [
    "data['dob_years'].value_counts().sort_index(ascending=True) # выявлены значения возраста равные 0"
   ]
  },
  {
   "cell_type": "code",
   "execution_count": 9,
   "metadata": {},
   "outputs": [
    {
     "data": {
      "text/html": [
       "<div>\n",
       "<style scoped>\n",
       "    .dataframe tbody tr th:only-of-type {\n",
       "        vertical-align: middle;\n",
       "    }\n",
       "\n",
       "    .dataframe tbody tr th {\n",
       "        vertical-align: top;\n",
       "    }\n",
       "\n",
       "    .dataframe thead th {\n",
       "        text-align: right;\n",
       "    }\n",
       "</style>\n",
       "<table border=\"1\" class=\"dataframe\">\n",
       "  <thead>\n",
       "    <tr style=\"text-align: right;\">\n",
       "      <th></th>\n",
       "      <th>children</th>\n",
       "      <th>days_employed</th>\n",
       "      <th>dob_years</th>\n",
       "      <th>education</th>\n",
       "      <th>education_id</th>\n",
       "      <th>family_status</th>\n",
       "      <th>family_status_id</th>\n",
       "      <th>gender</th>\n",
       "      <th>income_type</th>\n",
       "      <th>debt</th>\n",
       "      <th>total_income</th>\n",
       "      <th>purpose</th>\n",
       "      <th>years_mean</th>\n",
       "    </tr>\n",
       "  </thead>\n",
       "  <tbody>\n",
       "    <tr>\n",
       "      <td>0</td>\n",
       "      <td>1</td>\n",
       "      <td>-8437.673028</td>\n",
       "      <td>42</td>\n",
       "      <td>высшее</td>\n",
       "      <td>0</td>\n",
       "      <td>женат / замужем</td>\n",
       "      <td>0</td>\n",
       "      <td>F</td>\n",
       "      <td>сотрудник</td>\n",
       "      <td>0</td>\n",
       "      <td>253875.639453</td>\n",
       "      <td>покупка жилья</td>\n",
       "      <td>40.350439</td>\n",
       "    </tr>\n",
       "    <tr>\n",
       "      <td>1</td>\n",
       "      <td>1</td>\n",
       "      <td>-4024.803754</td>\n",
       "      <td>36</td>\n",
       "      <td>среднее</td>\n",
       "      <td>1</td>\n",
       "      <td>женат / замужем</td>\n",
       "      <td>0</td>\n",
       "      <td>F</td>\n",
       "      <td>сотрудник</td>\n",
       "      <td>0</td>\n",
       "      <td>112080.014102</td>\n",
       "      <td>приобретение автомобиля</td>\n",
       "      <td>40.350439</td>\n",
       "    </tr>\n",
       "    <tr>\n",
       "      <td>2</td>\n",
       "      <td>0</td>\n",
       "      <td>-5623.422610</td>\n",
       "      <td>33</td>\n",
       "      <td>среднее</td>\n",
       "      <td>1</td>\n",
       "      <td>женат / замужем</td>\n",
       "      <td>0</td>\n",
       "      <td>M</td>\n",
       "      <td>сотрудник</td>\n",
       "      <td>0</td>\n",
       "      <td>145885.952297</td>\n",
       "      <td>покупка жилья</td>\n",
       "      <td>40.350439</td>\n",
       "    </tr>\n",
       "    <tr>\n",
       "      <td>3</td>\n",
       "      <td>3</td>\n",
       "      <td>-4124.747207</td>\n",
       "      <td>32</td>\n",
       "      <td>среднее</td>\n",
       "      <td>1</td>\n",
       "      <td>женат / замужем</td>\n",
       "      <td>0</td>\n",
       "      <td>M</td>\n",
       "      <td>сотрудник</td>\n",
       "      <td>0</td>\n",
       "      <td>267628.550329</td>\n",
       "      <td>дополнительное образование</td>\n",
       "      <td>40.350439</td>\n",
       "    </tr>\n",
       "    <tr>\n",
       "      <td>4</td>\n",
       "      <td>0</td>\n",
       "      <td>340266.072047</td>\n",
       "      <td>53</td>\n",
       "      <td>среднее</td>\n",
       "      <td>1</td>\n",
       "      <td>гражданский брак</td>\n",
       "      <td>1</td>\n",
       "      <td>F</td>\n",
       "      <td>пенсионер</td>\n",
       "      <td>0</td>\n",
       "      <td>158616.077870</td>\n",
       "      <td>сыграть свадьбу</td>\n",
       "      <td>58.653030</td>\n",
       "    </tr>\n",
       "  </tbody>\n",
       "</table>\n",
       "</div>"
      ],
      "text/plain": [
       "   children  days_employed  dob_years education  education_id  \\\n",
       "0         1   -8437.673028         42    высшее             0   \n",
       "1         1   -4024.803754         36   среднее             1   \n",
       "2         0   -5623.422610         33   среднее             1   \n",
       "3         3   -4124.747207         32   среднее             1   \n",
       "4         0  340266.072047         53   среднее             1   \n",
       "\n",
       "      family_status  family_status_id gender income_type  debt   total_income  \\\n",
       "0   женат / замужем                 0      F   сотрудник     0  253875.639453   \n",
       "1   женат / замужем                 0      F   сотрудник     0  112080.014102   \n",
       "2   женат / замужем                 0      M   сотрудник     0  145885.952297   \n",
       "3   женат / замужем                 0      M   сотрудник     0  267628.550329   \n",
       "4  гражданский брак                 1      F   пенсионер     0  158616.077870   \n",
       "\n",
       "                      purpose  years_mean  \n",
       "0               покупка жилья   40.350439  \n",
       "1     приобретение автомобиля   40.350439  \n",
       "2               покупка жилья   40.350439  \n",
       "3  дополнительное образование   40.350439  \n",
       "4             сыграть свадьбу   58.653030  "
      ]
     },
     "metadata": {},
     "output_type": "display_data"
    }
   ],
   "source": [
    "# определение средних значений возраста по типу занятости\n",
    "data_gr = data.pivot_table(index=['income_type'], columns='family_status', values='dob_years', aggfunc='mean')\n",
    "\n",
    "def fill_null(family_status, income_type):\n",
    "    return data_gr[family_status][income_type]\n",
    "\n",
    "data['years_mean'] = data.apply(lambda row: fill_null(row['family_status'], row['income_type']), axis=1)\n",
    "display(data.head())"
   ]
  },
  {
   "cell_type": "code",
   "execution_count": 10,
   "metadata": {},
   "outputs": [],
   "source": [
    "data['dob_years'] = data['dob_years'].replace(0, data['years_mean']) #замена нулевых значений посчитанными средними \n"
   ]
  },
  {
   "cell_type": "code",
   "execution_count": 11,
   "metadata": {},
   "outputs": [
    {
     "data": {
      "text/plain": [
       "19.0     14\n",
       "20.0     51\n",
       "21.0    111\n",
       "22.0    183\n",
       "23.0    254\n",
       "       ... \n",
       "71.0     58\n",
       "72.0     33\n",
       "73.0      8\n",
       "74.0      6\n",
       "75.0      1\n",
       "Name: dob_years, Length: 73, dtype: int64"
      ]
     },
     "execution_count": 11,
     "metadata": {},
     "output_type": "execute_result"
    }
   ],
   "source": [
    "data['dob_years'].value_counts().sort_index(ascending=True) # данные заполнены"
   ]
  },
  {
   "cell_type": "code",
   "execution_count": 12,
   "metadata": {},
   "outputs": [
    {
     "data": {
      "text/html": [
       "<div>\n",
       "<style scoped>\n",
       "    .dataframe tbody tr th:only-of-type {\n",
       "        vertical-align: middle;\n",
       "    }\n",
       "\n",
       "    .dataframe tbody tr th {\n",
       "        vertical-align: top;\n",
       "    }\n",
       "\n",
       "    .dataframe thead th {\n",
       "        text-align: right;\n",
       "    }\n",
       "</style>\n",
       "<table border=\"1\" class=\"dataframe\">\n",
       "  <thead>\n",
       "    <tr style=\"text-align: right;\">\n",
       "      <th></th>\n",
       "      <th>children</th>\n",
       "      <th>days_employed</th>\n",
       "      <th>dob_years</th>\n",
       "      <th>education</th>\n",
       "      <th>education_id</th>\n",
       "      <th>family_status</th>\n",
       "      <th>family_status_id</th>\n",
       "      <th>gender</th>\n",
       "      <th>income_type</th>\n",
       "      <th>debt</th>\n",
       "      <th>total_income</th>\n",
       "      <th>purpose</th>\n",
       "      <th>years_mean</th>\n",
       "      <th>age_group</th>\n",
       "    </tr>\n",
       "  </thead>\n",
       "  <tbody>\n",
       "    <tr>\n",
       "      <td>0</td>\n",
       "      <td>1</td>\n",
       "      <td>-8437.673028</td>\n",
       "      <td>42.0</td>\n",
       "      <td>высшее</td>\n",
       "      <td>0</td>\n",
       "      <td>женат / замужем</td>\n",
       "      <td>0</td>\n",
       "      <td>F</td>\n",
       "      <td>сотрудник</td>\n",
       "      <td>0</td>\n",
       "      <td>253875.639453</td>\n",
       "      <td>покупка жилья</td>\n",
       "      <td>40.350439</td>\n",
       "      <td>28-60 лет</td>\n",
       "    </tr>\n",
       "    <tr>\n",
       "      <td>1</td>\n",
       "      <td>1</td>\n",
       "      <td>-4024.803754</td>\n",
       "      <td>36.0</td>\n",
       "      <td>среднее</td>\n",
       "      <td>1</td>\n",
       "      <td>женат / замужем</td>\n",
       "      <td>0</td>\n",
       "      <td>F</td>\n",
       "      <td>сотрудник</td>\n",
       "      <td>0</td>\n",
       "      <td>112080.014102</td>\n",
       "      <td>приобретение автомобиля</td>\n",
       "      <td>40.350439</td>\n",
       "      <td>28-60 лет</td>\n",
       "    </tr>\n",
       "    <tr>\n",
       "      <td>2</td>\n",
       "      <td>0</td>\n",
       "      <td>-5623.422610</td>\n",
       "      <td>33.0</td>\n",
       "      <td>среднее</td>\n",
       "      <td>1</td>\n",
       "      <td>женат / замужем</td>\n",
       "      <td>0</td>\n",
       "      <td>M</td>\n",
       "      <td>сотрудник</td>\n",
       "      <td>0</td>\n",
       "      <td>145885.952297</td>\n",
       "      <td>покупка жилья</td>\n",
       "      <td>40.350439</td>\n",
       "      <td>28-60 лет</td>\n",
       "    </tr>\n",
       "    <tr>\n",
       "      <td>3</td>\n",
       "      <td>3</td>\n",
       "      <td>-4124.747207</td>\n",
       "      <td>32.0</td>\n",
       "      <td>среднее</td>\n",
       "      <td>1</td>\n",
       "      <td>женат / замужем</td>\n",
       "      <td>0</td>\n",
       "      <td>M</td>\n",
       "      <td>сотрудник</td>\n",
       "      <td>0</td>\n",
       "      <td>267628.550329</td>\n",
       "      <td>дополнительное образование</td>\n",
       "      <td>40.350439</td>\n",
       "      <td>28-60 лет</td>\n",
       "    </tr>\n",
       "    <tr>\n",
       "      <td>4</td>\n",
       "      <td>0</td>\n",
       "      <td>340266.072047</td>\n",
       "      <td>53.0</td>\n",
       "      <td>среднее</td>\n",
       "      <td>1</td>\n",
       "      <td>гражданский брак</td>\n",
       "      <td>1</td>\n",
       "      <td>F</td>\n",
       "      <td>пенсионер</td>\n",
       "      <td>0</td>\n",
       "      <td>158616.077870</td>\n",
       "      <td>сыграть свадьбу</td>\n",
       "      <td>58.653030</td>\n",
       "      <td>28-60 лет</td>\n",
       "    </tr>\n",
       "  </tbody>\n",
       "</table>\n",
       "</div>"
      ],
      "text/plain": [
       "   children  days_employed  dob_years education  education_id  \\\n",
       "0         1   -8437.673028       42.0    высшее             0   \n",
       "1         1   -4024.803754       36.0   среднее             1   \n",
       "2         0   -5623.422610       33.0   среднее             1   \n",
       "3         3   -4124.747207       32.0   среднее             1   \n",
       "4         0  340266.072047       53.0   среднее             1   \n",
       "\n",
       "      family_status  family_status_id gender income_type  debt   total_income  \\\n",
       "0   женат / замужем                 0      F   сотрудник     0  253875.639453   \n",
       "1   женат / замужем                 0      F   сотрудник     0  112080.014102   \n",
       "2   женат / замужем                 0      M   сотрудник     0  145885.952297   \n",
       "3   женат / замужем                 0      M   сотрудник     0  267628.550329   \n",
       "4  гражданский брак                 1      F   пенсионер     0  158616.077870   \n",
       "\n",
       "                      purpose  years_mean  age_group  \n",
       "0               покупка жилья   40.350439  28-60 лет  \n",
       "1     приобретение автомобиля   40.350439  28-60 лет  \n",
       "2               покупка жилья   40.350439  28-60 лет  \n",
       "3  дополнительное образование   40.350439  28-60 лет  \n",
       "4             сыграть свадьбу   58.653030  28-60 лет  "
      ]
     },
     "metadata": {},
     "output_type": "display_data"
    }
   ],
   "source": [
    "data['age_group'] = data['dob_years'].apply(age_group) # проведена категоризация, данные сохранены в отдельный столбец\n",
    "display(data.head())  # проверка результата"
   ]
  },
  {
   "cell_type": "code",
   "execution_count": 13,
   "metadata": {
    "scrolled": true
   },
   "outputs": [
    {
     "data": {
      "text/html": [
       "<div>\n",
       "<style scoped>\n",
       "    .dataframe tbody tr th:only-of-type {\n",
       "        vertical-align: middle;\n",
       "    }\n",
       "\n",
       "    .dataframe tbody tr th {\n",
       "        vertical-align: top;\n",
       "    }\n",
       "\n",
       "    .dataframe thead th {\n",
       "        text-align: right;\n",
       "    }\n",
       "</style>\n",
       "<table border=\"1\" class=\"dataframe\">\n",
       "  <thead>\n",
       "    <tr style=\"text-align: right;\">\n",
       "      <th></th>\n",
       "      <th>education</th>\n",
       "      <th>высшее</th>\n",
       "      <th>начальное</th>\n",
       "      <th>неоконченное высшее</th>\n",
       "      <th>среднее</th>\n",
       "      <th>ученая степень</th>\n",
       "    </tr>\n",
       "    <tr>\n",
       "      <th>age_group</th>\n",
       "      <th>income_type</th>\n",
       "      <th></th>\n",
       "      <th></th>\n",
       "      <th></th>\n",
       "      <th></th>\n",
       "      <th></th>\n",
       "    </tr>\n",
       "  </thead>\n",
       "  <tbody>\n",
       "    <tr>\n",
       "      <td rowspan=\"6\" valign=\"top\">19-27 лет</td>\n",
       "      <td>госслужащий</td>\n",
       "      <td>151445.859170</td>\n",
       "      <td>NaN</td>\n",
       "      <td>146237.440216</td>\n",
       "      <td>133510.813687</td>\n",
       "      <td>NaN</td>\n",
       "    </tr>\n",
       "    <tr>\n",
       "      <td>компаньон</td>\n",
       "      <td>169956.443471</td>\n",
       "      <td>151313.724737</td>\n",
       "      <td>159817.845686</td>\n",
       "      <td>146634.999796</td>\n",
       "      <td>NaN</td>\n",
       "    </tr>\n",
       "    <tr>\n",
       "      <td>пенсионер</td>\n",
       "      <td>214963.301941</td>\n",
       "      <td>NaN</td>\n",
       "      <td>NaN</td>\n",
       "      <td>80044.196101</td>\n",
       "      <td>NaN</td>\n",
       "    </tr>\n",
       "    <tr>\n",
       "      <td>предприниматель</td>\n",
       "      <td>499163.144947</td>\n",
       "      <td>NaN</td>\n",
       "      <td>NaN</td>\n",
       "      <td>NaN</td>\n",
       "      <td>NaN</td>\n",
       "    </tr>\n",
       "    <tr>\n",
       "      <td>сотрудник</td>\n",
       "      <td>144931.460486</td>\n",
       "      <td>153647.475906</td>\n",
       "      <td>136144.307247</td>\n",
       "      <td>126184.739688</td>\n",
       "      <td>NaN</td>\n",
       "    </tr>\n",
       "    <tr>\n",
       "      <td>студент</td>\n",
       "      <td>98201.625314</td>\n",
       "      <td>NaN</td>\n",
       "      <td>NaN</td>\n",
       "      <td>NaN</td>\n",
       "      <td>NaN</td>\n",
       "    </tr>\n",
       "    <tr>\n",
       "      <td rowspan=\"6\" valign=\"top\">28-60 лет</td>\n",
       "      <td>безработный</td>\n",
       "      <td>202722.511368</td>\n",
       "      <td>NaN</td>\n",
       "      <td>NaN</td>\n",
       "      <td>59956.991984</td>\n",
       "      <td>NaN</td>\n",
       "    </tr>\n",
       "    <tr>\n",
       "      <td>в декрете</td>\n",
       "      <td>NaN</td>\n",
       "      <td>NaN</td>\n",
       "      <td>NaN</td>\n",
       "      <td>53829.130729</td>\n",
       "      <td>NaN</td>\n",
       "    </tr>\n",
       "    <tr>\n",
       "      <td>госслужащий</td>\n",
       "      <td>174770.798085</td>\n",
       "      <td>148339.290825</td>\n",
       "      <td>174064.740485</td>\n",
       "      <td>136542.894557</td>\n",
       "      <td>111392.231107</td>\n",
       "    </tr>\n",
       "    <tr>\n",
       "      <td>компаньон</td>\n",
       "      <td>209858.203315</td>\n",
       "      <td>136798.905143</td>\n",
       "      <td>191538.350577</td>\n",
       "      <td>160439.543585</td>\n",
       "      <td>NaN</td>\n",
       "    </tr>\n",
       "    <tr>\n",
       "      <td>пенсионер</td>\n",
       "      <td>143786.541900</td>\n",
       "      <td>110026.007572</td>\n",
       "      <td>111701.531885</td>\n",
       "      <td>118287.643240</td>\n",
       "      <td>NaN</td>\n",
       "    </tr>\n",
       "    <tr>\n",
       "      <td>сотрудник</td>\n",
       "      <td>168851.539875</td>\n",
       "      <td>123814.079468</td>\n",
       "      <td>163483.937551</td>\n",
       "      <td>137773.686974</td>\n",
       "      <td>198570.757322</td>\n",
       "    </tr>\n",
       "    <tr>\n",
       "      <td rowspan=\"4\" valign=\"top\">61+ лет</td>\n",
       "      <td>госслужащий</td>\n",
       "      <td>233952.871796</td>\n",
       "      <td>NaN</td>\n",
       "      <td>NaN</td>\n",
       "      <td>143847.253036</td>\n",
       "      <td>NaN</td>\n",
       "    </tr>\n",
       "    <tr>\n",
       "      <td>компаньон</td>\n",
       "      <td>188400.822321</td>\n",
       "      <td>NaN</td>\n",
       "      <td>189610.009306</td>\n",
       "      <td>173896.618274</td>\n",
       "      <td>NaN</td>\n",
       "    </tr>\n",
       "    <tr>\n",
       "      <td>пенсионер</td>\n",
       "      <td>144240.768611</td>\n",
       "      <td>98095.380008</td>\n",
       "      <td>145557.484323</td>\n",
       "      <td>111712.891757</td>\n",
       "      <td>177088.845999</td>\n",
       "    </tr>\n",
       "    <tr>\n",
       "      <td>сотрудник</td>\n",
       "      <td>174933.507875</td>\n",
       "      <td>164412.796712</td>\n",
       "      <td>229339.200509</td>\n",
       "      <td>133299.194693</td>\n",
       "      <td>NaN</td>\n",
       "    </tr>\n",
       "  </tbody>\n",
       "</table>\n",
       "</div>"
      ],
      "text/plain": [
       "education                         высшее      начальное  неоконченное высшее  \\\n",
       "age_group income_type                                                          \n",
       "19-27 лет госслужащий      151445.859170            NaN        146237.440216   \n",
       "          компаньон        169956.443471  151313.724737        159817.845686   \n",
       "          пенсионер        214963.301941            NaN                  NaN   \n",
       "          предприниматель  499163.144947            NaN                  NaN   \n",
       "          сотрудник        144931.460486  153647.475906        136144.307247   \n",
       "          студент           98201.625314            NaN                  NaN   \n",
       "28-60 лет безработный      202722.511368            NaN                  NaN   \n",
       "          в декрете                  NaN            NaN                  NaN   \n",
       "          госслужащий      174770.798085  148339.290825        174064.740485   \n",
       "          компаньон        209858.203315  136798.905143        191538.350577   \n",
       "          пенсионер        143786.541900  110026.007572        111701.531885   \n",
       "          сотрудник        168851.539875  123814.079468        163483.937551   \n",
       "61+ лет   госслужащий      233952.871796            NaN                  NaN   \n",
       "          компаньон        188400.822321            NaN        189610.009306   \n",
       "          пенсионер        144240.768611   98095.380008        145557.484323   \n",
       "          сотрудник        174933.507875  164412.796712        229339.200509   \n",
       "\n",
       "education                        среднее  ученая степень  \n",
       "age_group income_type                                     \n",
       "19-27 лет госслужащий      133510.813687             NaN  \n",
       "          компаньон        146634.999796             NaN  \n",
       "          пенсионер         80044.196101             NaN  \n",
       "          предприниматель            NaN             NaN  \n",
       "          сотрудник        126184.739688             NaN  \n",
       "          студент                    NaN             NaN  \n",
       "28-60 лет безработный       59956.991984             NaN  \n",
       "          в декрете         53829.130729             NaN  \n",
       "          госслужащий      136542.894557   111392.231107  \n",
       "          компаньон        160439.543585             NaN  \n",
       "          пенсионер        118287.643240             NaN  \n",
       "          сотрудник        137773.686974   198570.757322  \n",
       "61+ лет   госслужащий      143847.253036             NaN  \n",
       "          компаньон        173896.618274             NaN  \n",
       "          пенсионер        111712.891757   177088.845999  \n",
       "          сотрудник        133299.194693             NaN  "
      ]
     },
     "metadata": {},
     "output_type": "display_data"
    }
   ],
   "source": [
    "# для удобства и более точного расчета значений, создана сводная таблица по категории возраста и типа занятости\n",
    "pivot_table_for_total_income = data.pivot_table(index=['age_group','income_type'], columns='education', values='total_income', aggfunc='median')\n",
    "display(pivot_table_for_total_income) #рассчитаны медианные значения total_income отдельно для типов занятости с разделением по уровню образования и возраста"
   ]
  },
  {
   "cell_type": "code",
   "execution_count": 14,
   "metadata": {},
   "outputs": [],
   "source": [
    "# функция для заполнения отсутствующих значений total_income медианными значениями, полученными выше обработкой возможных ошибок\n",
    "def fill_nan_total_income(age, income_type, education):\n",
    "    try:\n",
    "        return pivot_table_for_total_income[education][age][income_type]\n",
    "    except:\n",
    "        return 'ошибка'"
   ]
  },
  {
   "cell_type": "code",
   "execution_count": 15,
   "metadata": {},
   "outputs": [
    {
     "data": {
      "text/html": [
       "<div>\n",
       "<style scoped>\n",
       "    .dataframe tbody tr th:only-of-type {\n",
       "        vertical-align: middle;\n",
       "    }\n",
       "\n",
       "    .dataframe tbody tr th {\n",
       "        vertical-align: top;\n",
       "    }\n",
       "\n",
       "    .dataframe thead th {\n",
       "        text-align: right;\n",
       "    }\n",
       "</style>\n",
       "<table border=\"1\" class=\"dataframe\">\n",
       "  <thead>\n",
       "    <tr style=\"text-align: right;\">\n",
       "      <th></th>\n",
       "      <th>children</th>\n",
       "      <th>days_employed</th>\n",
       "      <th>dob_years</th>\n",
       "      <th>education</th>\n",
       "      <th>education_id</th>\n",
       "      <th>family_status</th>\n",
       "      <th>family_status_id</th>\n",
       "      <th>gender</th>\n",
       "      <th>income_type</th>\n",
       "      <th>debt</th>\n",
       "      <th>total_income</th>\n",
       "      <th>purpose</th>\n",
       "      <th>years_mean</th>\n",
       "      <th>age_group</th>\n",
       "      <th>median_total_income</th>\n",
       "    </tr>\n",
       "  </thead>\n",
       "  <tbody>\n",
       "    <tr>\n",
       "      <td>0</td>\n",
       "      <td>1</td>\n",
       "      <td>-8437.673028</td>\n",
       "      <td>42.0</td>\n",
       "      <td>высшее</td>\n",
       "      <td>0</td>\n",
       "      <td>женат / замужем</td>\n",
       "      <td>0</td>\n",
       "      <td>F</td>\n",
       "      <td>сотрудник</td>\n",
       "      <td>0</td>\n",
       "      <td>253875.639453</td>\n",
       "      <td>покупка жилья</td>\n",
       "      <td>40.350439</td>\n",
       "      <td>28-60 лет</td>\n",
       "      <td>168852</td>\n",
       "    </tr>\n",
       "    <tr>\n",
       "      <td>1</td>\n",
       "      <td>1</td>\n",
       "      <td>-4024.803754</td>\n",
       "      <td>36.0</td>\n",
       "      <td>среднее</td>\n",
       "      <td>1</td>\n",
       "      <td>женат / замужем</td>\n",
       "      <td>0</td>\n",
       "      <td>F</td>\n",
       "      <td>сотрудник</td>\n",
       "      <td>0</td>\n",
       "      <td>112080.014102</td>\n",
       "      <td>приобретение автомобиля</td>\n",
       "      <td>40.350439</td>\n",
       "      <td>28-60 лет</td>\n",
       "      <td>137774</td>\n",
       "    </tr>\n",
       "    <tr>\n",
       "      <td>2</td>\n",
       "      <td>0</td>\n",
       "      <td>-5623.422610</td>\n",
       "      <td>33.0</td>\n",
       "      <td>среднее</td>\n",
       "      <td>1</td>\n",
       "      <td>женат / замужем</td>\n",
       "      <td>0</td>\n",
       "      <td>M</td>\n",
       "      <td>сотрудник</td>\n",
       "      <td>0</td>\n",
       "      <td>145885.952297</td>\n",
       "      <td>покупка жилья</td>\n",
       "      <td>40.350439</td>\n",
       "      <td>28-60 лет</td>\n",
       "      <td>137774</td>\n",
       "    </tr>\n",
       "    <tr>\n",
       "      <td>3</td>\n",
       "      <td>3</td>\n",
       "      <td>-4124.747207</td>\n",
       "      <td>32.0</td>\n",
       "      <td>среднее</td>\n",
       "      <td>1</td>\n",
       "      <td>женат / замужем</td>\n",
       "      <td>0</td>\n",
       "      <td>M</td>\n",
       "      <td>сотрудник</td>\n",
       "      <td>0</td>\n",
       "      <td>267628.550329</td>\n",
       "      <td>дополнительное образование</td>\n",
       "      <td>40.350439</td>\n",
       "      <td>28-60 лет</td>\n",
       "      <td>137774</td>\n",
       "    </tr>\n",
       "    <tr>\n",
       "      <td>4</td>\n",
       "      <td>0</td>\n",
       "      <td>340266.072047</td>\n",
       "      <td>53.0</td>\n",
       "      <td>среднее</td>\n",
       "      <td>1</td>\n",
       "      <td>гражданский брак</td>\n",
       "      <td>1</td>\n",
       "      <td>F</td>\n",
       "      <td>пенсионер</td>\n",
       "      <td>0</td>\n",
       "      <td>158616.077870</td>\n",
       "      <td>сыграть свадьбу</td>\n",
       "      <td>58.653030</td>\n",
       "      <td>28-60 лет</td>\n",
       "      <td>118288</td>\n",
       "    </tr>\n",
       "  </tbody>\n",
       "</table>\n",
       "</div>"
      ],
      "text/plain": [
       "   children  days_employed  dob_years education  education_id  \\\n",
       "0         1   -8437.673028       42.0    высшее             0   \n",
       "1         1   -4024.803754       36.0   среднее             1   \n",
       "2         0   -5623.422610       33.0   среднее             1   \n",
       "3         3   -4124.747207       32.0   среднее             1   \n",
       "4         0  340266.072047       53.0   среднее             1   \n",
       "\n",
       "      family_status  family_status_id gender income_type  debt   total_income  \\\n",
       "0   женат / замужем                 0      F   сотрудник     0  253875.639453   \n",
       "1   женат / замужем                 0      F   сотрудник     0  112080.014102   \n",
       "2   женат / замужем                 0      M   сотрудник     0  145885.952297   \n",
       "3   женат / замужем                 0      M   сотрудник     0  267628.550329   \n",
       "4  гражданский брак                 1      F   пенсионер     0  158616.077870   \n",
       "\n",
       "                      purpose  years_mean  age_group median_total_income  \n",
       "0               покупка жилья   40.350439  28-60 лет              168852  \n",
       "1     приобретение автомобиля   40.350439  28-60 лет              137774  \n",
       "2               покупка жилья   40.350439  28-60 лет              137774  \n",
       "3  дополнительное образование   40.350439  28-60 лет              137774  \n",
       "4             сыграть свадьбу   58.653030  28-60 лет              118288  "
      ]
     },
     "metadata": {},
     "output_type": "display_data"
    }
   ],
   "source": [
    "# заполнения отсутствующих значений total_income медианными значениями в отдельный столбец\n",
    "data['median_total_income'] = data.apply(lambda row: fill_nan_total_income(row['age_group'], row['income_type'],  row['education']), axis=1)\n",
    "display(data.head())\n"
   ]
  },
  {
   "cell_type": "code",
   "execution_count": 16,
   "metadata": {},
   "outputs": [
    {
     "data": {
      "text/html": [
       "<div>\n",
       "<style scoped>\n",
       "    .dataframe tbody tr th:only-of-type {\n",
       "        vertical-align: middle;\n",
       "    }\n",
       "\n",
       "    .dataframe tbody tr th {\n",
       "        vertical-align: top;\n",
       "    }\n",
       "\n",
       "    .dataframe thead th {\n",
       "        text-align: right;\n",
       "    }\n",
       "</style>\n",
       "<table border=\"1\" class=\"dataframe\">\n",
       "  <thead>\n",
       "    <tr style=\"text-align: right;\">\n",
       "      <th></th>\n",
       "      <th>children</th>\n",
       "      <th>days_employed</th>\n",
       "      <th>dob_years</th>\n",
       "      <th>education</th>\n",
       "      <th>education_id</th>\n",
       "      <th>family_status</th>\n",
       "      <th>family_status_id</th>\n",
       "      <th>gender</th>\n",
       "      <th>income_type</th>\n",
       "      <th>debt</th>\n",
       "      <th>total_income</th>\n",
       "      <th>purpose</th>\n",
       "      <th>years_mean</th>\n",
       "      <th>age_group</th>\n",
       "      <th>median_total_income</th>\n",
       "    </tr>\n",
       "  </thead>\n",
       "  <tbody>\n",
       "    <tr>\n",
       "      <td>0</td>\n",
       "      <td>1</td>\n",
       "      <td>-8437.673028</td>\n",
       "      <td>42.0</td>\n",
       "      <td>высшее</td>\n",
       "      <td>0</td>\n",
       "      <td>женат / замужем</td>\n",
       "      <td>0</td>\n",
       "      <td>F</td>\n",
       "      <td>сотрудник</td>\n",
       "      <td>0</td>\n",
       "      <td>253876</td>\n",
       "      <td>покупка жилья</td>\n",
       "      <td>40.350439</td>\n",
       "      <td>28-60 лет</td>\n",
       "      <td>168852</td>\n",
       "    </tr>\n",
       "    <tr>\n",
       "      <td>1</td>\n",
       "      <td>1</td>\n",
       "      <td>-4024.803754</td>\n",
       "      <td>36.0</td>\n",
       "      <td>среднее</td>\n",
       "      <td>1</td>\n",
       "      <td>женат / замужем</td>\n",
       "      <td>0</td>\n",
       "      <td>F</td>\n",
       "      <td>сотрудник</td>\n",
       "      <td>0</td>\n",
       "      <td>112080</td>\n",
       "      <td>приобретение автомобиля</td>\n",
       "      <td>40.350439</td>\n",
       "      <td>28-60 лет</td>\n",
       "      <td>137774</td>\n",
       "    </tr>\n",
       "    <tr>\n",
       "      <td>2</td>\n",
       "      <td>0</td>\n",
       "      <td>-5623.422610</td>\n",
       "      <td>33.0</td>\n",
       "      <td>среднее</td>\n",
       "      <td>1</td>\n",
       "      <td>женат / замужем</td>\n",
       "      <td>0</td>\n",
       "      <td>M</td>\n",
       "      <td>сотрудник</td>\n",
       "      <td>0</td>\n",
       "      <td>145886</td>\n",
       "      <td>покупка жилья</td>\n",
       "      <td>40.350439</td>\n",
       "      <td>28-60 лет</td>\n",
       "      <td>137774</td>\n",
       "    </tr>\n",
       "    <tr>\n",
       "      <td>3</td>\n",
       "      <td>3</td>\n",
       "      <td>-4124.747207</td>\n",
       "      <td>32.0</td>\n",
       "      <td>среднее</td>\n",
       "      <td>1</td>\n",
       "      <td>женат / замужем</td>\n",
       "      <td>0</td>\n",
       "      <td>M</td>\n",
       "      <td>сотрудник</td>\n",
       "      <td>0</td>\n",
       "      <td>267629</td>\n",
       "      <td>дополнительное образование</td>\n",
       "      <td>40.350439</td>\n",
       "      <td>28-60 лет</td>\n",
       "      <td>137774</td>\n",
       "    </tr>\n",
       "    <tr>\n",
       "      <td>4</td>\n",
       "      <td>0</td>\n",
       "      <td>340266.072047</td>\n",
       "      <td>53.0</td>\n",
       "      <td>среднее</td>\n",
       "      <td>1</td>\n",
       "      <td>гражданский брак</td>\n",
       "      <td>1</td>\n",
       "      <td>F</td>\n",
       "      <td>пенсионер</td>\n",
       "      <td>0</td>\n",
       "      <td>158616</td>\n",
       "      <td>сыграть свадьбу</td>\n",
       "      <td>58.653030</td>\n",
       "      <td>28-60 лет</td>\n",
       "      <td>118288</td>\n",
       "    </tr>\n",
       "  </tbody>\n",
       "</table>\n",
       "</div>"
      ],
      "text/plain": [
       "   children  days_employed  dob_years education  education_id  \\\n",
       "0         1   -8437.673028       42.0    высшее             0   \n",
       "1         1   -4024.803754       36.0   среднее             1   \n",
       "2         0   -5623.422610       33.0   среднее             1   \n",
       "3         3   -4124.747207       32.0   среднее             1   \n",
       "4         0  340266.072047       53.0   среднее             1   \n",
       "\n",
       "      family_status  family_status_id gender income_type  debt total_income  \\\n",
       "0   женат / замужем                 0      F   сотрудник     0       253876   \n",
       "1   женат / замужем                 0      F   сотрудник     0       112080   \n",
       "2   женат / замужем                 0      M   сотрудник     0       145886   \n",
       "3   женат / замужем                 0      M   сотрудник     0       267629   \n",
       "4  гражданский брак                 1      F   пенсионер     0       158616   \n",
       "\n",
       "                      purpose  years_mean  age_group median_total_income  \n",
       "0               покупка жилья   40.350439  28-60 лет              168852  \n",
       "1     приобретение автомобиля   40.350439  28-60 лет              137774  \n",
       "2               покупка жилья   40.350439  28-60 лет              137774  \n",
       "3  дополнительное образование   40.350439  28-60 лет              137774  \n",
       "4             сыграть свадьбу   58.653030  28-60 лет              118288  "
      ]
     },
     "metadata": {},
     "output_type": "display_data"
    }
   ],
   "source": [
    "data['total_income'] = data['total_income'].fillna(data['median_total_income']) # подставляю медианные значения вместо пропущенных значений\n",
    "display(data.head())"
   ]
  },
  {
   "cell_type": "code",
   "execution_count": 17,
   "metadata": {},
   "outputs": [
    {
     "data": {
      "text/plain": [
       "children                  0\n",
       "days_employed          2174\n",
       "dob_years                 0\n",
       "education                 0\n",
       "education_id              0\n",
       "family_status             0\n",
       "family_status_id          0\n",
       "gender                    0\n",
       "income_type               0\n",
       "debt                      0\n",
       "total_income              1\n",
       "purpose                   0\n",
       "years_mean                0\n",
       "age_group                 0\n",
       "median_total_income       1\n",
       "dtype: int64"
      ]
     },
     "execution_count": 17,
     "metadata": {},
     "output_type": "execute_result"
    }
   ],
   "source": [
    "data.isna().sum() # 1 ошибку при замене данных оставляю - это не сильно исказит итоговые выводы"
   ]
  },
  {
   "cell_type": "markdown",
   "metadata": {},
   "source": [
    "**Вывод**"
   ]
  },
  {
   "cell_type": "markdown",
   "metadata": {},
   "source": [
    "Для заполнения отсутствующих значений в столбце total_income необходимо рассчитать медианные значения с разбивкой по возрасту и типу занятости - это, на мой взгляд, решающие факторы, влияющие на уровень дохода. В пользу медианных значений отношу то, что крайние значения могут исказить среднее арифметическое значение            "
   ]
  },
  {
   "cell_type": "markdown",
   "metadata": {},
   "source": [
    "### Замена типа данных"
   ]
  },
  {
   "cell_type": "markdown",
   "metadata": {},
   "source": [
    "Замена тапа данных произошла на этапе 2 Предобработка данных методом to_numeric(). "
   ]
  },
  {
   "cell_type": "markdown",
   "metadata": {},
   "source": [
    "**Вывод**"
   ]
  },
  {
   "cell_type": "markdown",
   "metadata": {},
   "source": [
    "В пользу этого метода отношу то, что если преобразование в числовой тип натыкается на ошибку, то есть возможность\n",
    "аргументу errors передать значение, которое позволяет принудительно указывать нечисловые значения или просто игнорирует столбцы, содержащие эти значения."
   ]
  },
  {
   "cell_type": "markdown",
   "metadata": {},
   "source": [
    "### Обработка дубликатов"
   ]
  },
  {
   "cell_type": "code",
   "execution_count": 18,
   "metadata": {},
   "outputs": [
    {
     "data": {
      "text/plain": [
       "71"
      ]
     },
     "execution_count": 18,
     "metadata": {},
     "output_type": "execute_result"
    }
   ],
   "source": [
    "data.duplicated().sum() # проверка на наличие дубликатов"
   ]
  },
  {
   "cell_type": "code",
   "execution_count": 19,
   "metadata": {},
   "outputs": [],
   "source": [
    "data = data.drop_duplicates().reset_index(drop=True) # удаление дубликатов с перезаписыванием индексов"
   ]
  },
  {
   "cell_type": "code",
   "execution_count": 20,
   "metadata": {},
   "outputs": [
    {
     "data": {
      "text/plain": [
       "0"
      ]
     },
     "execution_count": 20,
     "metadata": {},
     "output_type": "execute_result"
    }
   ],
   "source": [
    "data.duplicated().sum() # прверка результата"
   ]
  },
  {
   "cell_type": "code",
   "execution_count": 21,
   "metadata": {},
   "outputs": [
    {
     "data": {
      "text/plain": [
       "array([ 1,  0,  3,  2, -1,  4, 20,  5])"
      ]
     },
     "execution_count": 21,
     "metadata": {},
     "output_type": "execute_result"
    }
   ],
   "source": [
    "data['children'].unique() # проверка уникальных значений столбца children"
   ]
  },
  {
   "cell_type": "code",
   "execution_count": 22,
   "metadata": {},
   "outputs": [],
   "source": [
    "data['children'] = data['children'].replace(-1, 1) # очевидно, здесь присутствует ошибка. Заменяю на положительное число\n",
    "data['children'] = data['children'].replace(20, 2) # верояно, опечатка. Предполагаю, что 0 лишний"
   ]
  },
  {
   "cell_type": "code",
   "execution_count": 23,
   "metadata": {},
   "outputs": [
    {
     "data": {
      "text/plain": [
       "array([1, 0, 3, 2, 4, 5])"
      ]
     },
     "execution_count": 23,
     "metadata": {},
     "output_type": "execute_result"
    }
   ],
   "source": [
    "data['children'].unique()"
   ]
  },
  {
   "cell_type": "code",
   "execution_count": 24,
   "metadata": {
    "scrolled": true
   },
   "outputs": [
    {
     "data": {
      "text/plain": [
       "F      14174\n",
       "M       7279\n",
       "XNA        1\n",
       "Name: gender, dtype: int64"
      ]
     },
     "execution_count": 24,
     "metadata": {},
     "output_type": "execute_result"
    }
   ],
   "source": [
    "data['gender'].value_counts() # обнаружена ошибочное значение"
   ]
  },
  {
   "cell_type": "code",
   "execution_count": 25,
   "metadata": {},
   "outputs": [],
   "source": [
    "data = data[data['gender'] != 'XNA'] # так как не представляется возможным выяснить какого пола данный клиент\n",
    "                                     # поэтому исключаю его из данных\n"
   ]
  },
  {
   "cell_type": "markdown",
   "metadata": {},
   "source": [
    "**Вывод**"
   ]
  },
  {
   "cell_type": "markdown",
   "metadata": {},
   "source": [
    "Выявлены дубликаты в данных. Удаление явных дубликатов произведено функцией drop_duplicates(). В столбце children методом replace() заменены отрицательные и ошибочные значения."
   ]
  },
  {
   "cell_type": "markdown",
   "metadata": {},
   "source": [
    "### Лемматизация"
   ]
  },
  {
   "cell_type": "code",
   "execution_count": 26,
   "metadata": {},
   "outputs": [
    {
     "data": {
      "text/plain": [
       "array(['автомобили', 'автомобиль', 'высшее образование',\n",
       "       'дополнительное образование', 'жилье',\n",
       "       'заняться высшим образованием', 'заняться образованием',\n",
       "       'на покупку автомобиля', 'на покупку подержанного автомобиля',\n",
       "       'на покупку своего автомобиля', 'на проведение свадьбы',\n",
       "       'недвижимость', 'образование', 'операции с жильем',\n",
       "       'операции с коммерческой недвижимостью',\n",
       "       'операции с недвижимостью', 'операции со своей недвижимостью',\n",
       "       'покупка жилой недвижимости', 'покупка жилья',\n",
       "       'покупка жилья для сдачи', 'покупка жилья для семьи',\n",
       "       'покупка коммерческой недвижимости', 'покупка недвижимости',\n",
       "       'покупка своего жилья', 'получение высшего образования',\n",
       "       'получение дополнительного образования', 'получение образования',\n",
       "       'приобретение автомобиля', 'профильное образование',\n",
       "       'ремонт жилью', 'свадьба', 'свой автомобиль',\n",
       "       'сделка с автомобилем', 'сделка с подержанным автомобилем',\n",
       "       'строительство жилой недвижимости', 'строительство недвижимости',\n",
       "       'строительство собственной недвижимости', 'сыграть свадьбу'],\n",
       "      dtype=object)"
      ]
     },
     "execution_count": 26,
     "metadata": {},
     "output_type": "execute_result"
    }
   ],
   "source": [
    "data['purpose'].sort_values(ascending=True).unique() # проверка уникальных значений в столбце"
   ]
  },
  {
   "cell_type": "code",
   "execution_count": 27,
   "metadata": {},
   "outputs": [],
   "source": [
    "def lemma_purpose(purpose):\n",
    "    lemma = ' ' .join(m.lemmatize(purpose))\n",
    "    return lemma\n",
    "\n",
    "data['purpose_list'] = data['purpose'].apply(lemma_purpose)"
   ]
  },
  {
   "cell_type": "code",
   "execution_count": 28,
   "metadata": {},
   "outputs": [
    {
     "data": {
      "text/html": [
       "<div>\n",
       "<style scoped>\n",
       "    .dataframe tbody tr th:only-of-type {\n",
       "        vertical-align: middle;\n",
       "    }\n",
       "\n",
       "    .dataframe tbody tr th {\n",
       "        vertical-align: top;\n",
       "    }\n",
       "\n",
       "    .dataframe thead th {\n",
       "        text-align: right;\n",
       "    }\n",
       "</style>\n",
       "<table border=\"1\" class=\"dataframe\">\n",
       "  <thead>\n",
       "    <tr style=\"text-align: right;\">\n",
       "      <th></th>\n",
       "      <th>children</th>\n",
       "      <th>days_employed</th>\n",
       "      <th>dob_years</th>\n",
       "      <th>education</th>\n",
       "      <th>education_id</th>\n",
       "      <th>family_status</th>\n",
       "      <th>family_status_id</th>\n",
       "      <th>gender</th>\n",
       "      <th>income_type</th>\n",
       "      <th>debt</th>\n",
       "      <th>total_income</th>\n",
       "      <th>purpose</th>\n",
       "      <th>years_mean</th>\n",
       "      <th>age_group</th>\n",
       "      <th>median_total_income</th>\n",
       "      <th>purpose_list</th>\n",
       "    </tr>\n",
       "  </thead>\n",
       "  <tbody>\n",
       "    <tr>\n",
       "      <td>0</td>\n",
       "      <td>1</td>\n",
       "      <td>-8437.673028</td>\n",
       "      <td>42.0</td>\n",
       "      <td>высшее</td>\n",
       "      <td>0</td>\n",
       "      <td>женат / замужем</td>\n",
       "      <td>0</td>\n",
       "      <td>F</td>\n",
       "      <td>сотрудник</td>\n",
       "      <td>0</td>\n",
       "      <td>253876</td>\n",
       "      <td>покупка жилья</td>\n",
       "      <td>40.350439</td>\n",
       "      <td>28-60 лет</td>\n",
       "      <td>168852</td>\n",
       "      <td>покупка/строительство недвижимости</td>\n",
       "    </tr>\n",
       "    <tr>\n",
       "      <td>1</td>\n",
       "      <td>1</td>\n",
       "      <td>-4024.803754</td>\n",
       "      <td>36.0</td>\n",
       "      <td>среднее</td>\n",
       "      <td>1</td>\n",
       "      <td>женат / замужем</td>\n",
       "      <td>0</td>\n",
       "      <td>F</td>\n",
       "      <td>сотрудник</td>\n",
       "      <td>0</td>\n",
       "      <td>112080</td>\n",
       "      <td>приобретение автомобиля</td>\n",
       "      <td>40.350439</td>\n",
       "      <td>28-60 лет</td>\n",
       "      <td>137774</td>\n",
       "      <td>автомобиль</td>\n",
       "    </tr>\n",
       "    <tr>\n",
       "      <td>2</td>\n",
       "      <td>0</td>\n",
       "      <td>-5623.422610</td>\n",
       "      <td>33.0</td>\n",
       "      <td>среднее</td>\n",
       "      <td>1</td>\n",
       "      <td>женат / замужем</td>\n",
       "      <td>0</td>\n",
       "      <td>M</td>\n",
       "      <td>сотрудник</td>\n",
       "      <td>0</td>\n",
       "      <td>145886</td>\n",
       "      <td>покупка жилья</td>\n",
       "      <td>40.350439</td>\n",
       "      <td>28-60 лет</td>\n",
       "      <td>137774</td>\n",
       "      <td>покупка/строительство недвижимости</td>\n",
       "    </tr>\n",
       "    <tr>\n",
       "      <td>3</td>\n",
       "      <td>3</td>\n",
       "      <td>-4124.747207</td>\n",
       "      <td>32.0</td>\n",
       "      <td>среднее</td>\n",
       "      <td>1</td>\n",
       "      <td>женат / замужем</td>\n",
       "      <td>0</td>\n",
       "      <td>M</td>\n",
       "      <td>сотрудник</td>\n",
       "      <td>0</td>\n",
       "      <td>267629</td>\n",
       "      <td>дополнительное образование</td>\n",
       "      <td>40.350439</td>\n",
       "      <td>28-60 лет</td>\n",
       "      <td>137774</td>\n",
       "      <td>образование</td>\n",
       "    </tr>\n",
       "    <tr>\n",
       "      <td>4</td>\n",
       "      <td>0</td>\n",
       "      <td>340266.072047</td>\n",
       "      <td>53.0</td>\n",
       "      <td>среднее</td>\n",
       "      <td>1</td>\n",
       "      <td>гражданский брак</td>\n",
       "      <td>1</td>\n",
       "      <td>F</td>\n",
       "      <td>пенсионер</td>\n",
       "      <td>0</td>\n",
       "      <td>158616</td>\n",
       "      <td>сыграть свадьбу</td>\n",
       "      <td>58.653030</td>\n",
       "      <td>28-60 лет</td>\n",
       "      <td>118288</td>\n",
       "      <td>свадьба</td>\n",
       "    </tr>\n",
       "  </tbody>\n",
       "</table>\n",
       "</div>"
      ],
      "text/plain": [
       "   children  days_employed  dob_years education  education_id  \\\n",
       "0         1   -8437.673028       42.0    высшее             0   \n",
       "1         1   -4024.803754       36.0   среднее             1   \n",
       "2         0   -5623.422610       33.0   среднее             1   \n",
       "3         3   -4124.747207       32.0   среднее             1   \n",
       "4         0  340266.072047       53.0   среднее             1   \n",
       "\n",
       "      family_status  family_status_id gender income_type  debt total_income  \\\n",
       "0   женат / замужем                 0      F   сотрудник     0       253876   \n",
       "1   женат / замужем                 0      F   сотрудник     0       112080   \n",
       "2   женат / замужем                 0      M   сотрудник     0       145886   \n",
       "3   женат / замужем                 0      M   сотрудник     0       267629   \n",
       "4  гражданский брак                 1      F   пенсионер     0       158616   \n",
       "\n",
       "                      purpose  years_mean  age_group median_total_income  \\\n",
       "0               покупка жилья   40.350439  28-60 лет              168852   \n",
       "1     приобретение автомобиля   40.350439  28-60 лет              137774   \n",
       "2               покупка жилья   40.350439  28-60 лет              137774   \n",
       "3  дополнительное образование   40.350439  28-60 лет              137774   \n",
       "4             сыграть свадьбу   58.653030  28-60 лет              118288   \n",
       "\n",
       "                         purpose_list  \n",
       "0  покупка/строительство недвижимости  \n",
       "1                          автомобиль  \n",
       "2  покупка/строительство недвижимости  \n",
       "3                         образование  \n",
       "4                             свадьба  "
      ]
     },
     "metadata": {},
     "output_type": "display_data"
    }
   ],
   "source": [
    "def purpose_short(lemma): # можно выделить всего 4 цели, встречающиеся в разных формулировках\n",
    "    if 'автомобиль' in lemma:\n",
    "        return 'автомобиль'\n",
    "    if 'образование' in lemma:\n",
    "        return 'образование'\n",
    "    if 'свадьба' in lemma:\n",
    "        return 'свадьба'\n",
    "    if 'недвижимость' or 'жилье' in lemma:\n",
    "        return 'покупка/строительство недвижимости'\n",
    "    \n",
    "\n",
    "data['purpose_list'] = data['purpose_list'].apply(purpose_short)\n",
    "\n",
    "display(data.head())"
   ]
  },
  {
   "cell_type": "code",
   "execution_count": 29,
   "metadata": {},
   "outputs": [
    {
     "data": {
      "text/plain": [
       "array(['покупка/строительство недвижимости', 'автомобиль', 'образование',\n",
       "       'свадьба'], dtype=object)"
      ]
     },
     "execution_count": 29,
     "metadata": {},
     "output_type": "execute_result"
    }
   ],
   "source": [
    "data['purpose_list'].unique()"
   ]
  },
  {
   "cell_type": "markdown",
   "metadata": {},
   "source": [
    "**Вывод**"
   ]
  },
  {
   "cell_type": "markdown",
   "metadata": {},
   "source": [
    "В столбце purpose много значений сходых по смыслу, но отличающихся формулировкой. Для приведения их к единообразию необходима лемматизация. По ключевым словам выделены 4 цели и сохранены их в отдельном столбце."
   ]
  },
  {
   "cell_type": "markdown",
   "metadata": {},
   "source": [
    "### Категоризация данных"
   ]
  },
  {
   "cell_type": "code",
   "execution_count": 30,
   "metadata": {},
   "outputs": [],
   "source": [
    "def income_group(row):\n",
    "    '''категоризация в зависимости от дохода:\n",
    "    'до 30 т.р.' - до 30 тыс. рублей включительно,\n",
    "    '31-70 т.р.' - от 31 до 70 тыс. рублей включительно,\n",
    "    '71-120 т.р.' - от 71 до 120 тыс. рублей включительно,\n",
    "    '121-200 т.р.' - от 121 до 200 тыс. рублей включительно,\n",
    "    'свыше 201 т.р.' - от 201 тыс. рублей.\n",
    "   '''\n",
    "    total_income = row['total_income']\n",
    "    if total_income <= 30000:\n",
    "        return 'до 30 т.р.'\n",
    "    if total_income <= 70000:\n",
    "        return '31-70 т.р.'\n",
    "    if total_income <= 120000:\n",
    "        return '71-120 т.р.'\n",
    "    if total_income <= 200000:\n",
    "        return '121-200 т.р.'\n",
    "    return 'свыше 201 т.р.'"
   ]
  },
  {
   "cell_type": "code",
   "execution_count": 31,
   "metadata": {
    "scrolled": true
   },
   "outputs": [
    {
     "name": "stdout",
     "output_type": "stream",
     "text": [
      "<class 'pandas.core.frame.DataFrame'>\n",
      "Int64Index: 21453 entries, 0 to 21453\n",
      "Data columns (total 16 columns):\n",
      "children               21453 non-null int64\n",
      "days_employed          19350 non-null float64\n",
      "dob_years              21453 non-null float64\n",
      "education              21453 non-null object\n",
      "education_id           21453 non-null int64\n",
      "family_status          21453 non-null object\n",
      "family_status_id       21453 non-null int64\n",
      "gender                 21453 non-null object\n",
      "income_type            21453 non-null object\n",
      "debt                   21453 non-null int64\n",
      "total_income           21452 non-null object\n",
      "purpose                21453 non-null object\n",
      "years_mean             21453 non-null float64\n",
      "age_group              21453 non-null object\n",
      "median_total_income    21452 non-null object\n",
      "purpose_list           21453 non-null object\n",
      "dtypes: float64(3), int64(4), object(9)\n",
      "memory usage: 2.8+ MB\n",
      "None\n"
     ]
    }
   ],
   "source": [
    "print(data.info())"
   ]
  },
  {
   "cell_type": "code",
   "execution_count": 32,
   "metadata": {
    "scrolled": true
   },
   "outputs": [
    {
     "data": {
      "text/html": [
       "<div>\n",
       "<style scoped>\n",
       "    .dataframe tbody tr th:only-of-type {\n",
       "        vertical-align: middle;\n",
       "    }\n",
       "\n",
       "    .dataframe tbody tr th {\n",
       "        vertical-align: top;\n",
       "    }\n",
       "\n",
       "    .dataframe thead th {\n",
       "        text-align: right;\n",
       "    }\n",
       "</style>\n",
       "<table border=\"1\" class=\"dataframe\">\n",
       "  <thead>\n",
       "    <tr style=\"text-align: right;\">\n",
       "      <th></th>\n",
       "      <th>children</th>\n",
       "      <th>days_employed</th>\n",
       "      <th>dob_years</th>\n",
       "      <th>education</th>\n",
       "      <th>education_id</th>\n",
       "      <th>family_status</th>\n",
       "      <th>family_status_id</th>\n",
       "      <th>gender</th>\n",
       "      <th>income_type</th>\n",
       "      <th>debt</th>\n",
       "      <th>total_income</th>\n",
       "      <th>purpose</th>\n",
       "      <th>years_mean</th>\n",
       "      <th>age_group</th>\n",
       "      <th>median_total_income</th>\n",
       "      <th>purpose_list</th>\n",
       "      <th>income_group</th>\n",
       "    </tr>\n",
       "  </thead>\n",
       "  <tbody>\n",
       "    <tr>\n",
       "      <td>0</td>\n",
       "      <td>1</td>\n",
       "      <td>-8437.673028</td>\n",
       "      <td>42.0</td>\n",
       "      <td>высшее</td>\n",
       "      <td>0</td>\n",
       "      <td>женат / замужем</td>\n",
       "      <td>0</td>\n",
       "      <td>F</td>\n",
       "      <td>сотрудник</td>\n",
       "      <td>0</td>\n",
       "      <td>253875.639453</td>\n",
       "      <td>покупка жилья</td>\n",
       "      <td>40.350439</td>\n",
       "      <td>28-60 лет</td>\n",
       "      <td>168852</td>\n",
       "      <td>покупка/строительство недвижимости</td>\n",
       "      <td>свыше 201 т.р.</td>\n",
       "    </tr>\n",
       "    <tr>\n",
       "      <td>1</td>\n",
       "      <td>1</td>\n",
       "      <td>-4024.803754</td>\n",
       "      <td>36.0</td>\n",
       "      <td>среднее</td>\n",
       "      <td>1</td>\n",
       "      <td>женат / замужем</td>\n",
       "      <td>0</td>\n",
       "      <td>F</td>\n",
       "      <td>сотрудник</td>\n",
       "      <td>0</td>\n",
       "      <td>112080.014102</td>\n",
       "      <td>приобретение автомобиля</td>\n",
       "      <td>40.350439</td>\n",
       "      <td>28-60 лет</td>\n",
       "      <td>137774</td>\n",
       "      <td>автомобиль</td>\n",
       "      <td>71-120 т.р.</td>\n",
       "    </tr>\n",
       "    <tr>\n",
       "      <td>2</td>\n",
       "      <td>0</td>\n",
       "      <td>-5623.422610</td>\n",
       "      <td>33.0</td>\n",
       "      <td>среднее</td>\n",
       "      <td>1</td>\n",
       "      <td>женат / замужем</td>\n",
       "      <td>0</td>\n",
       "      <td>M</td>\n",
       "      <td>сотрудник</td>\n",
       "      <td>0</td>\n",
       "      <td>145885.952297</td>\n",
       "      <td>покупка жилья</td>\n",
       "      <td>40.350439</td>\n",
       "      <td>28-60 лет</td>\n",
       "      <td>137774</td>\n",
       "      <td>покупка/строительство недвижимости</td>\n",
       "      <td>121-200 т.р.</td>\n",
       "    </tr>\n",
       "    <tr>\n",
       "      <td>3</td>\n",
       "      <td>3</td>\n",
       "      <td>-4124.747207</td>\n",
       "      <td>32.0</td>\n",
       "      <td>среднее</td>\n",
       "      <td>1</td>\n",
       "      <td>женат / замужем</td>\n",
       "      <td>0</td>\n",
       "      <td>M</td>\n",
       "      <td>сотрудник</td>\n",
       "      <td>0</td>\n",
       "      <td>267628.550329</td>\n",
       "      <td>дополнительное образование</td>\n",
       "      <td>40.350439</td>\n",
       "      <td>28-60 лет</td>\n",
       "      <td>137774</td>\n",
       "      <td>образование</td>\n",
       "      <td>свыше 201 т.р.</td>\n",
       "    </tr>\n",
       "    <tr>\n",
       "      <td>4</td>\n",
       "      <td>0</td>\n",
       "      <td>340266.072047</td>\n",
       "      <td>53.0</td>\n",
       "      <td>среднее</td>\n",
       "      <td>1</td>\n",
       "      <td>гражданский брак</td>\n",
       "      <td>1</td>\n",
       "      <td>F</td>\n",
       "      <td>пенсионер</td>\n",
       "      <td>0</td>\n",
       "      <td>158616.077870</td>\n",
       "      <td>сыграть свадьбу</td>\n",
       "      <td>58.653030</td>\n",
       "      <td>28-60 лет</td>\n",
       "      <td>118288</td>\n",
       "      <td>свадьба</td>\n",
       "      <td>121-200 т.р.</td>\n",
       "    </tr>\n",
       "  </tbody>\n",
       "</table>\n",
       "</div>"
      ],
      "text/plain": [
       "   children  days_employed  dob_years education  education_id  \\\n",
       "0         1   -8437.673028       42.0    высшее             0   \n",
       "1         1   -4024.803754       36.0   среднее             1   \n",
       "2         0   -5623.422610       33.0   среднее             1   \n",
       "3         3   -4124.747207       32.0   среднее             1   \n",
       "4         0  340266.072047       53.0   среднее             1   \n",
       "\n",
       "      family_status  family_status_id gender income_type  debt   total_income  \\\n",
       "0   женат / замужем                 0      F   сотрудник     0  253875.639453   \n",
       "1   женат / замужем                 0      F   сотрудник     0  112080.014102   \n",
       "2   женат / замужем                 0      M   сотрудник     0  145885.952297   \n",
       "3   женат / замужем                 0      M   сотрудник     0  267628.550329   \n",
       "4  гражданский брак                 1      F   пенсионер     0  158616.077870   \n",
       "\n",
       "                      purpose  years_mean  age_group median_total_income  \\\n",
       "0               покупка жилья   40.350439  28-60 лет              168852   \n",
       "1     приобретение автомобиля   40.350439  28-60 лет              137774   \n",
       "2               покупка жилья   40.350439  28-60 лет              137774   \n",
       "3  дополнительное образование   40.350439  28-60 лет              137774   \n",
       "4             сыграть свадьбу   58.653030  28-60 лет              118288   \n",
       "\n",
       "                         purpose_list    income_group  \n",
       "0  покупка/строительство недвижимости  свыше 201 т.р.  \n",
       "1                          автомобиль     71-120 т.р.  \n",
       "2  покупка/строительство недвижимости    121-200 т.р.  \n",
       "3                         образование  свыше 201 т.р.  \n",
       "4                             свадьба    121-200 т.р.  "
      ]
     },
     "metadata": {},
     "output_type": "display_data"
    }
   ],
   "source": [
    "data['total_income'] = pd.to_numeric(data['total_income'], errors='coerce') # приведение типа данных к численному еще раз\n",
    "data['income_group'] = data.apply(income_group, axis=1)\n",
    "display(data.head())"
   ]
  },
  {
   "cell_type": "markdown",
   "metadata": {},
   "source": [
    "**Вывод**"
   ]
  },
  {
   "cell_type": "markdown",
   "metadata": {},
   "source": [
    "Для удобства исследования необходимо поделить данные на категории в зависимости от уровня доходов. Без категоризации пришлось бы исследовать каждый доход, даже если бы от отличался от другого на 1 копейку.\n",
    "Категории введены с учетом минимального, среднего, выше среднего, высокого доходов и очень высокого по статистике доходов."
   ]
  },
  {
   "cell_type": "markdown",
   "metadata": {},
   "source": [
    "## Шаг 3. Ответьте на вопросы"
   ]
  },
  {
   "cell_type": "markdown",
   "metadata": {},
   "source": [
    "- Есть ли зависимость между наличием детей и возвратом кредита в срок?"
   ]
  },
  {
   "cell_type": "code",
   "execution_count": 33,
   "metadata": {
    "scrolled": true
   },
   "outputs": [],
   "source": [
    "data_pivot_children = data.pivot_table(index=['debt'], columns='children', values='family_status_id', aggfunc='count')\n",
    "\n"
   ]
  },
  {
   "cell_type": "code",
   "execution_count": 34,
   "metadata": {},
   "outputs": [
    {
     "data": {
      "text/html": [
       "<div>\n",
       "<style scoped>\n",
       "    .dataframe tbody tr th:only-of-type {\n",
       "        vertical-align: middle;\n",
       "    }\n",
       "\n",
       "    .dataframe tbody tr th {\n",
       "        vertical-align: top;\n",
       "    }\n",
       "\n",
       "    .dataframe thead th {\n",
       "        text-align: right;\n",
       "    }\n",
       "</style>\n",
       "<table border=\"1\" class=\"dataframe\">\n",
       "  <thead>\n",
       "    <tr style=\"text-align: right;\">\n",
       "      <th>children</th>\n",
       "      <th>0</th>\n",
       "      <th>1</th>\n",
       "      <th>2</th>\n",
       "      <th>3</th>\n",
       "      <th>4</th>\n",
       "      <th>5</th>\n",
       "    </tr>\n",
       "    <tr>\n",
       "      <th>debt</th>\n",
       "      <th></th>\n",
       "      <th></th>\n",
       "      <th></th>\n",
       "      <th></th>\n",
       "      <th></th>\n",
       "      <th></th>\n",
       "    </tr>\n",
       "  </thead>\n",
       "  <tbody>\n",
       "    <tr>\n",
       "      <td>0</td>\n",
       "      <td>13027.0</td>\n",
       "      <td>4410.0</td>\n",
       "      <td>1926.0</td>\n",
       "      <td>303.0</td>\n",
       "      <td>37.0</td>\n",
       "      <td>9.0</td>\n",
       "    </tr>\n",
       "    <tr>\n",
       "      <td>1</td>\n",
       "      <td>1063.0</td>\n",
       "      <td>445.0</td>\n",
       "      <td>202.0</td>\n",
       "      <td>27.0</td>\n",
       "      <td>4.0</td>\n",
       "      <td>0.0</td>\n",
       "    </tr>\n",
       "  </tbody>\n",
       "</table>\n",
       "</div>"
      ],
      "text/plain": [
       "children        0       1       2      3     4    5\n",
       "debt                                               \n",
       "0         13027.0  4410.0  1926.0  303.0  37.0  9.0\n",
       "1          1063.0   445.0   202.0   27.0   4.0  0.0"
      ]
     },
     "metadata": {},
     "output_type": "display_data"
    }
   ],
   "source": [
    "data_pivot_children = data_pivot_children.fillna(0) # семьи с 5 детьми не имеют просрочек, \n",
    "                                                    # поэтому отсутствующее значение заменила на 0\n",
    "display(data_pivot_children)"
   ]
  },
  {
   "cell_type": "code",
   "execution_count": 35,
   "metadata": {},
   "outputs": [],
   "source": [
    "# рассчитываю процент невозвращенных в срок кредитов ко всем выданным кредитам с учетом количества детей\n",
    "chld0 = '{:2%}'.format(data_pivot_children[0][1] / data_pivot_children[0].sum())\n",
    "chld1 = '{:2%}'.format(data_pivot_children[1][1] / data_pivot_children[1].sum())\n",
    "chld2 = '{:2%}'.format(data_pivot_children[2][1] / data_pivot_children[2].sum())\n",
    "chld3 = '{:2%}'.format(data_pivot_children[3][1] / data_pivot_children[3].sum())\n",
    "chld4 = '{:2%}'.format(data_pivot_children[4][1] / data_pivot_children[4].sum())\n",
    "chld5 = 0"
   ]
  },
  {
   "cell_type": "code",
   "execution_count": 36,
   "metadata": {},
   "outputs": [
    {
     "data": {
      "text/html": [
       "<div>\n",
       "<style scoped>\n",
       "    .dataframe tbody tr th:only-of-type {\n",
       "        vertical-align: middle;\n",
       "    }\n",
       "\n",
       "    .dataframe tbody tr th {\n",
       "        vertical-align: top;\n",
       "    }\n",
       "\n",
       "    .dataframe thead th {\n",
       "        text-align: right;\n",
       "    }\n",
       "</style>\n",
       "<table border=\"1\" class=\"dataframe\">\n",
       "  <thead>\n",
       "    <tr style=\"text-align: right;\">\n",
       "      <th></th>\n",
       "      <th>children</th>\n",
       "      <th>0</th>\n",
       "      <th>1</th>\n",
       "      <th>2</th>\n",
       "      <th>3</th>\n",
       "      <th>4</th>\n",
       "      <th>5</th>\n",
       "    </tr>\n",
       "  </thead>\n",
       "  <tbody>\n",
       "    <tr>\n",
       "      <td>0</td>\n",
       "      <td>persent</td>\n",
       "      <td>7.544358%</td>\n",
       "      <td>9.165808%</td>\n",
       "      <td>9.492481%</td>\n",
       "      <td>8.181818%</td>\n",
       "      <td>9.756098%</td>\n",
       "      <td>0</td>\n",
       "    </tr>\n",
       "  </tbody>\n",
       "</table>\n",
       "</div>"
      ],
      "text/plain": [
       "  children          0          1          2          3          4  5\n",
       "0  persent  7.544358%  9.165808%  9.492481%  8.181818%  9.756098%  0"
      ]
     },
     "metadata": {},
     "output_type": "display_data"
    }
   ],
   "source": [
    "columns_children = ['children', 0, 1, 2, 3, 4, 5]\n",
    "persent_children = [['persent', chld0, chld1, chld2, chld3, chld4, chld5]]\n",
    "persent_for_children = pd.DataFrame(data=persent_children, columns=columns_children) # составляю таблицу с результатом\n",
    "display(persent_for_children)"
   ]
  },
  {
   "cell_type": "code",
   "execution_count": 37,
   "metadata": {},
   "outputs": [
    {
     "data": {
      "text/html": [
       "<style  type=\"text/css\" >\n",
       "</style><table id=\"T_bcc96272_4c3d_11ec_b819_02420a396430\" ><thead>    <tr>        <th class=\"blank level0\" ></th>        <th class=\"col_heading level0 col0\" >Кол-во пользователей</th>        <th class=\"col_heading level0 col1\" >Кол-во должников</th>        <th class=\"col_heading level0 col2\" >% должников</th>        <th class=\"col_heading level0 col3\" >% НЕдолжников</th>    </tr>    <tr>        <th class=\"index_name level0\" >children</th>        <th class=\"blank\" ></th>        <th class=\"blank\" ></th>        <th class=\"blank\" ></th>        <th class=\"blank\" ></th>    </tr></thead><tbody>\n",
       "                <tr>\n",
       "                        <th id=\"T_bcc96272_4c3d_11ec_b819_02420a396430level0_row0\" class=\"row_heading level0 row0\" >0</th>\n",
       "                        <td id=\"T_bcc96272_4c3d_11ec_b819_02420a396430row0_col0\" class=\"data row0 col0\" >14090</td>\n",
       "                        <td id=\"T_bcc96272_4c3d_11ec_b819_02420a396430row0_col1\" class=\"data row0 col1\" >1063</td>\n",
       "                        <td id=\"T_bcc96272_4c3d_11ec_b819_02420a396430row0_col2\" class=\"data row0 col2\" >7.54%</td>\n",
       "                        <td id=\"T_bcc96272_4c3d_11ec_b819_02420a396430row0_col3\" class=\"data row0 col3\" >92.46%</td>\n",
       "            </tr>\n",
       "            <tr>\n",
       "                        <th id=\"T_bcc96272_4c3d_11ec_b819_02420a396430level0_row1\" class=\"row_heading level0 row1\" >1</th>\n",
       "                        <td id=\"T_bcc96272_4c3d_11ec_b819_02420a396430row1_col0\" class=\"data row1 col0\" >4855</td>\n",
       "                        <td id=\"T_bcc96272_4c3d_11ec_b819_02420a396430row1_col1\" class=\"data row1 col1\" >445</td>\n",
       "                        <td id=\"T_bcc96272_4c3d_11ec_b819_02420a396430row1_col2\" class=\"data row1 col2\" >9.17%</td>\n",
       "                        <td id=\"T_bcc96272_4c3d_11ec_b819_02420a396430row1_col3\" class=\"data row1 col3\" >90.83%</td>\n",
       "            </tr>\n",
       "            <tr>\n",
       "                        <th id=\"T_bcc96272_4c3d_11ec_b819_02420a396430level0_row2\" class=\"row_heading level0 row2\" >2</th>\n",
       "                        <td id=\"T_bcc96272_4c3d_11ec_b819_02420a396430row2_col0\" class=\"data row2 col0\" >2128</td>\n",
       "                        <td id=\"T_bcc96272_4c3d_11ec_b819_02420a396430row2_col1\" class=\"data row2 col1\" >202</td>\n",
       "                        <td id=\"T_bcc96272_4c3d_11ec_b819_02420a396430row2_col2\" class=\"data row2 col2\" >9.49%</td>\n",
       "                        <td id=\"T_bcc96272_4c3d_11ec_b819_02420a396430row2_col3\" class=\"data row2 col3\" >90.51%</td>\n",
       "            </tr>\n",
       "            <tr>\n",
       "                        <th id=\"T_bcc96272_4c3d_11ec_b819_02420a396430level0_row3\" class=\"row_heading level0 row3\" >3</th>\n",
       "                        <td id=\"T_bcc96272_4c3d_11ec_b819_02420a396430row3_col0\" class=\"data row3 col0\" >330</td>\n",
       "                        <td id=\"T_bcc96272_4c3d_11ec_b819_02420a396430row3_col1\" class=\"data row3 col1\" >27</td>\n",
       "                        <td id=\"T_bcc96272_4c3d_11ec_b819_02420a396430row3_col2\" class=\"data row3 col2\" >8.18%</td>\n",
       "                        <td id=\"T_bcc96272_4c3d_11ec_b819_02420a396430row3_col3\" class=\"data row3 col3\" >91.82%</td>\n",
       "            </tr>\n",
       "            <tr>\n",
       "                        <th id=\"T_bcc96272_4c3d_11ec_b819_02420a396430level0_row4\" class=\"row_heading level0 row4\" >4</th>\n",
       "                        <td id=\"T_bcc96272_4c3d_11ec_b819_02420a396430row4_col0\" class=\"data row4 col0\" >41</td>\n",
       "                        <td id=\"T_bcc96272_4c3d_11ec_b819_02420a396430row4_col1\" class=\"data row4 col1\" >4</td>\n",
       "                        <td id=\"T_bcc96272_4c3d_11ec_b819_02420a396430row4_col2\" class=\"data row4 col2\" >9.76%</td>\n",
       "                        <td id=\"T_bcc96272_4c3d_11ec_b819_02420a396430row4_col3\" class=\"data row4 col3\" >90.24%</td>\n",
       "            </tr>\n",
       "            <tr>\n",
       "                        <th id=\"T_bcc96272_4c3d_11ec_b819_02420a396430level0_row5\" class=\"row_heading level0 row5\" >5</th>\n",
       "                        <td id=\"T_bcc96272_4c3d_11ec_b819_02420a396430row5_col0\" class=\"data row5 col0\" >9</td>\n",
       "                        <td id=\"T_bcc96272_4c3d_11ec_b819_02420a396430row5_col1\" class=\"data row5 col1\" >0</td>\n",
       "                        <td id=\"T_bcc96272_4c3d_11ec_b819_02420a396430row5_col2\" class=\"data row5 col2\" >0.00%</td>\n",
       "                        <td id=\"T_bcc96272_4c3d_11ec_b819_02420a396430row5_col3\" class=\"data row5 col3\" >100.00%</td>\n",
       "            </tr>\n",
       "    </tbody></table>"
      ],
      "text/plain": [
       "<pandas.io.formats.style.Styler at 0x7f3315e08990>"
      ]
     },
     "execution_count": 37,
     "metadata": {},
     "output_type": "execute_result"
    }
   ],
   "source": [
    "df_example = data.groupby('children')['debt'].agg(['count', 'sum', 'mean', lambda x: 1 - x.mean()])\n",
    "df_example.columns = ['Кол-во пользователей', 'Кол-во должников', '% должников', '% НЕдолжников']\n",
    "df_example.style.format({'% должников': '{:.2%}', '% НЕдолжников': '{:.2%}'})"
   ]
  },
  {
   "cell_type": "markdown",
   "metadata": {},
   "source": [
    "**Вывод**"
   ]
  },
  {
   "cell_type": "markdown",
   "metadata": {},
   "source": [
    "Расчитаны процентные показатели кредитов с нарушением сроков возврата к общей сумме выданных кредитов в зависимости от количества детей.\n",
    "- С увеличением количества детей падает общее количество выданных кредитов. \n",
    "- В целом, процент невозврата в срок увеличивается с увеличением количества детей в семьях. Выбиваются из общей статистики показатель в семьях с 3-мя детьми, возможно это связано с меньшим числом выданных кредитов. \n",
    "- Также интересно, что семьи с 5-ю детьми берут кредитов очень мало, возможно это связано с тем, что банки не одобряют кредитные заявки таким семьям."
   ]
  },
  {
   "cell_type": "markdown",
   "metadata": {},
   "source": [
    "- Есть ли зависимость между семейным положением и возвратом кредита в срок?"
   ]
  },
  {
   "cell_type": "code",
   "execution_count": 38,
   "metadata": {
    "scrolled": true
   },
   "outputs": [
    {
     "data": {
      "text/html": [
       "<div>\n",
       "<style scoped>\n",
       "    .dataframe tbody tr th:only-of-type {\n",
       "        vertical-align: middle;\n",
       "    }\n",
       "\n",
       "    .dataframe tbody tr th {\n",
       "        vertical-align: top;\n",
       "    }\n",
       "\n",
       "    .dataframe thead th {\n",
       "        text-align: right;\n",
       "    }\n",
       "</style>\n",
       "<table border=\"1\" class=\"dataframe\">\n",
       "  <thead>\n",
       "    <tr style=\"text-align: right;\">\n",
       "      <th>family_status_id</th>\n",
       "      <th>0</th>\n",
       "      <th>1</th>\n",
       "      <th>2</th>\n",
       "      <th>3</th>\n",
       "      <th>4</th>\n",
       "    </tr>\n",
       "    <tr>\n",
       "      <th>debt</th>\n",
       "      <th></th>\n",
       "      <th></th>\n",
       "      <th></th>\n",
       "      <th></th>\n",
       "      <th></th>\n",
       "    </tr>\n",
       "  </thead>\n",
       "  <tbody>\n",
       "    <tr>\n",
       "      <td>0</td>\n",
       "      <td>11408</td>\n",
       "      <td>3762</td>\n",
       "      <td>896</td>\n",
       "      <td>1110</td>\n",
       "      <td>2536</td>\n",
       "    </tr>\n",
       "    <tr>\n",
       "      <td>1</td>\n",
       "      <td>931</td>\n",
       "      <td>388</td>\n",
       "      <td>63</td>\n",
       "      <td>85</td>\n",
       "      <td>274</td>\n",
       "    </tr>\n",
       "  </tbody>\n",
       "</table>\n",
       "</div>"
      ],
      "text/plain": [
       "family_status_id      0     1    2     3     4\n",
       "debt                                          \n",
       "0                 11408  3762  896  1110  2536\n",
       "1                   931   388   63    85   274"
      ]
     },
     "metadata": {},
     "output_type": "display_data"
    }
   ],
   "source": [
    "data_pivot_family_st = data.pivot_table(index=['debt'], columns='family_status_id', values = 'gender', aggfunc='count')\n",
    "display(data_pivot_family_st)"
   ]
  },
  {
   "cell_type": "code",
   "execution_count": 39,
   "metadata": {},
   "outputs": [
    {
     "data": {
      "text/html": [
       "<div>\n",
       "<style scoped>\n",
       "    .dataframe tbody tr th:only-of-type {\n",
       "        vertical-align: middle;\n",
       "    }\n",
       "\n",
       "    .dataframe tbody tr th {\n",
       "        vertical-align: top;\n",
       "    }\n",
       "\n",
       "    .dataframe thead th {\n",
       "        text-align: right;\n",
       "    }\n",
       "</style>\n",
       "<table border=\"1\" class=\"dataframe\">\n",
       "  <thead>\n",
       "    <tr style=\"text-align: right;\">\n",
       "      <th>debt</th>\n",
       "      <th>0</th>\n",
       "      <th>1</th>\n",
       "      <th>% return</th>\n",
       "    </tr>\n",
       "    <tr>\n",
       "      <th>family_status_id</th>\n",
       "      <th></th>\n",
       "      <th></th>\n",
       "      <th></th>\n",
       "    </tr>\n",
       "  </thead>\n",
       "  <tbody>\n",
       "    <tr>\n",
       "      <td>0</td>\n",
       "      <td>11408</td>\n",
       "      <td>931</td>\n",
       "      <td>7.55</td>\n",
       "    </tr>\n",
       "    <tr>\n",
       "      <td>1</td>\n",
       "      <td>3762</td>\n",
       "      <td>388</td>\n",
       "      <td>9.35</td>\n",
       "    </tr>\n",
       "    <tr>\n",
       "      <td>2</td>\n",
       "      <td>896</td>\n",
       "      <td>63</td>\n",
       "      <td>6.57</td>\n",
       "    </tr>\n",
       "    <tr>\n",
       "      <td>3</td>\n",
       "      <td>1110</td>\n",
       "      <td>85</td>\n",
       "      <td>7.11</td>\n",
       "    </tr>\n",
       "    <tr>\n",
       "      <td>4</td>\n",
       "      <td>2536</td>\n",
       "      <td>274</td>\n",
       "      <td>9.75</td>\n",
       "    </tr>\n",
       "  </tbody>\n",
       "</table>\n",
       "</div>"
      ],
      "text/plain": [
       "debt                  0    1  % return\n",
       "family_status_id                      \n",
       "0                 11408  931      7.55\n",
       "1                  3762  388      9.35\n",
       "2                   896   63      6.57\n",
       "3                  1110   85      7.11\n",
       "4                  2536  274      9.75"
      ]
     },
     "metadata": {},
     "output_type": "display_data"
    }
   ],
   "source": [
    "# расчет значений невозвращенных кредитов в срок в зависимости от семейного положения\n",
    "data_pivot_family_st = data_pivot_family_st.T\n",
    "data_pivot_family_st['% return'] = round(data_pivot_family_st[1] / (data_pivot_family_st[0] + data_pivot_family_st[1]) * 100, 2)\n",
    "display(data_pivot_family_st)"
   ]
  },
  {
   "cell_type": "markdown",
   "metadata": {},
   "source": [
    "**Вывод**"
   ]
  },
  {
   "cell_type": "markdown",
   "metadata": {},
   "source": [
    "- Люди состоящие в гражданском браке  и неженатые/ незамужние более беспечные и не следят за сроком погашения кредитов. Процент непогашенных вовремя кредитов у этих категорий примерно одинаковый.\n",
    "- Больше всего кредитов берут люди, состоящие в браке.\n",
    "- Люди в разводе и вдовцы наиболее дисциплинированные - у них наименьшие показатели невыплаченных в срок кредитов."
   ]
  },
  {
   "cell_type": "markdown",
   "metadata": {},
   "source": [
    "- Есть ли зависимость между уровнем дохода и возвратом кредита в срок?"
   ]
  },
  {
   "cell_type": "code",
   "execution_count": 40,
   "metadata": {
    "scrolled": true
   },
   "outputs": [
    {
     "data": {
      "text/html": [
       "<div>\n",
       "<style scoped>\n",
       "    .dataframe tbody tr th:only-of-type {\n",
       "        vertical-align: middle;\n",
       "    }\n",
       "\n",
       "    .dataframe tbody tr th {\n",
       "        vertical-align: top;\n",
       "    }\n",
       "\n",
       "    .dataframe thead th {\n",
       "        text-align: right;\n",
       "    }\n",
       "</style>\n",
       "<table border=\"1\" class=\"dataframe\">\n",
       "  <thead>\n",
       "    <tr style=\"text-align: right;\">\n",
       "      <th>income_group</th>\n",
       "      <th>121-200 т.р.</th>\n",
       "      <th>31-70 т.р.</th>\n",
       "      <th>71-120 т.р.</th>\n",
       "      <th>до 30 т.р.</th>\n",
       "      <th>свыше 201 т.р.</th>\n",
       "    </tr>\n",
       "    <tr>\n",
       "      <th>debt</th>\n",
       "      <th></th>\n",
       "      <th></th>\n",
       "      <th></th>\n",
       "      <th></th>\n",
       "      <th></th>\n",
       "    </tr>\n",
       "  </thead>\n",
       "  <tbody>\n",
       "    <tr>\n",
       "      <td>0</td>\n",
       "      <td>8249</td>\n",
       "      <td>1353</td>\n",
       "      <td>5219</td>\n",
       "      <td>20</td>\n",
       "      <td>4871</td>\n",
       "    </tr>\n",
       "    <tr>\n",
       "      <td>1</td>\n",
       "      <td>794</td>\n",
       "      <td>99</td>\n",
       "      <td>480</td>\n",
       "      <td>2</td>\n",
       "      <td>366</td>\n",
       "    </tr>\n",
       "  </tbody>\n",
       "</table>\n",
       "</div>"
      ],
      "text/plain": [
       "income_group  121-200 т.р.  31-70 т.р.  71-120 т.р.  до 30 т.р.  \\\n",
       "debt                                                              \n",
       "0                     8249        1353         5219          20   \n",
       "1                      794          99          480           2   \n",
       "\n",
       "income_group  свыше 201 т.р.  \n",
       "debt                          \n",
       "0                       4871  \n",
       "1                        366  "
      ]
     },
     "metadata": {},
     "output_type": "display_data"
    }
   ],
   "source": [
    "data_pivot_income = data.pivot_table(index=['debt'], columns='income_group', values='gender', aggfunc='count')\n",
    "display(data_pivot_income)"
   ]
  },
  {
   "cell_type": "code",
   "execution_count": 41,
   "metadata": {
    "scrolled": true
   },
   "outputs": [
    {
     "data": {
      "text/html": [
       "<div>\n",
       "<style scoped>\n",
       "    .dataframe tbody tr th:only-of-type {\n",
       "        vertical-align: middle;\n",
       "    }\n",
       "\n",
       "    .dataframe tbody tr th {\n",
       "        vertical-align: top;\n",
       "    }\n",
       "\n",
       "    .dataframe thead th {\n",
       "        text-align: right;\n",
       "    }\n",
       "</style>\n",
       "<table border=\"1\" class=\"dataframe\">\n",
       "  <thead>\n",
       "    <tr style=\"text-align: right;\">\n",
       "      <th>debt</th>\n",
       "      <th>0</th>\n",
       "      <th>1</th>\n",
       "      <th>% return</th>\n",
       "    </tr>\n",
       "    <tr>\n",
       "      <th>income_group</th>\n",
       "      <th></th>\n",
       "      <th></th>\n",
       "      <th></th>\n",
       "    </tr>\n",
       "  </thead>\n",
       "  <tbody>\n",
       "    <tr>\n",
       "      <td>121-200 т.р.</td>\n",
       "      <td>8249</td>\n",
       "      <td>794</td>\n",
       "      <td>8.78</td>\n",
       "    </tr>\n",
       "    <tr>\n",
       "      <td>31-70 т.р.</td>\n",
       "      <td>1353</td>\n",
       "      <td>99</td>\n",
       "      <td>6.82</td>\n",
       "    </tr>\n",
       "    <tr>\n",
       "      <td>71-120 т.р.</td>\n",
       "      <td>5219</td>\n",
       "      <td>480</td>\n",
       "      <td>8.42</td>\n",
       "    </tr>\n",
       "    <tr>\n",
       "      <td>до 30 т.р.</td>\n",
       "      <td>20</td>\n",
       "      <td>2</td>\n",
       "      <td>9.09</td>\n",
       "    </tr>\n",
       "    <tr>\n",
       "      <td>свыше 201 т.р.</td>\n",
       "      <td>4871</td>\n",
       "      <td>366</td>\n",
       "      <td>6.99</td>\n",
       "    </tr>\n",
       "  </tbody>\n",
       "</table>\n",
       "</div>"
      ],
      "text/plain": [
       "debt               0    1  % return\n",
       "income_group                       \n",
       "121-200 т.р.    8249  794      8.78\n",
       "31-70 т.р.      1353   99      6.82\n",
       "71-120 т.р.     5219  480      8.42\n",
       "до 30 т.р.        20    2      9.09\n",
       "свыше 201 т.р.  4871  366      6.99"
      ]
     },
     "metadata": {},
     "output_type": "display_data"
    }
   ],
   "source": [
    "# расчет значений невозвращенных кредитов в срок в зависимости от уровня доходов\n",
    "data_pivot_income = data_pivot_income.T\n",
    "data_pivot_income['% return'] = round(data_pivot_income[1] / (data_pivot_income[0] + data_pivot_income[1]) * 100, 2)\n",
    "display(data_pivot_income)"
   ]
  },
  {
   "cell_type": "markdown",
   "metadata": {},
   "source": [
    "**Вывод**"
   ]
  },
  {
   "cell_type": "markdown",
   "metadata": {},
   "source": [
    "- Люди с доходом до 30 тысяч рублей чаще невыплачивают в срок кредиты.\n",
    "- Меньше просроченных кредитов имеею люди со средним доходом"
   ]
  },
  {
   "cell_type": "markdown",
   "metadata": {},
   "source": [
    "- Как разные цели кредита влияют на его возврат в срок?"
   ]
  },
  {
   "cell_type": "code",
   "execution_count": 42,
   "metadata": {
    "scrolled": true
   },
   "outputs": [
    {
     "data": {
      "text/html": [
       "<div>\n",
       "<style scoped>\n",
       "    .dataframe tbody tr th:only-of-type {\n",
       "        vertical-align: middle;\n",
       "    }\n",
       "\n",
       "    .dataframe tbody tr th {\n",
       "        vertical-align: top;\n",
       "    }\n",
       "\n",
       "    .dataframe thead th {\n",
       "        text-align: right;\n",
       "    }\n",
       "</style>\n",
       "<table border=\"1\" class=\"dataframe\">\n",
       "  <thead>\n",
       "    <tr style=\"text-align: right;\">\n",
       "      <th>purpose_list</th>\n",
       "      <th>автомобиль</th>\n",
       "      <th>образование</th>\n",
       "      <th>покупка/строительство недвижимости</th>\n",
       "      <th>свадьба</th>\n",
       "    </tr>\n",
       "    <tr>\n",
       "      <th>debt</th>\n",
       "      <th></th>\n",
       "      <th></th>\n",
       "      <th></th>\n",
       "      <th></th>\n",
       "    </tr>\n",
       "  </thead>\n",
       "  <tbody>\n",
       "    <tr>\n",
       "      <td>0</td>\n",
       "      <td>3903</td>\n",
       "      <td>3643</td>\n",
       "      <td>10028</td>\n",
       "      <td>2138</td>\n",
       "    </tr>\n",
       "    <tr>\n",
       "      <td>1</td>\n",
       "      <td>403</td>\n",
       "      <td>370</td>\n",
       "      <td>782</td>\n",
       "      <td>186</td>\n",
       "    </tr>\n",
       "  </tbody>\n",
       "</table>\n",
       "</div>"
      ],
      "text/plain": [
       "purpose_list  автомобиль  образование  покупка/строительство недвижимости  \\\n",
       "debt                                                                        \n",
       "0                   3903         3643                               10028   \n",
       "1                    403          370                                 782   \n",
       "\n",
       "purpose_list  свадьба  \n",
       "debt                   \n",
       "0                2138  \n",
       "1                 186  "
      ]
     },
     "metadata": {},
     "output_type": "display_data"
    }
   ],
   "source": [
    "data_pivot_purpose = data.pivot_table(index=['debt'], columns='purpose_list', values='gender', aggfunc='count')\n",
    "display(data_pivot_purpose)"
   ]
  },
  {
   "cell_type": "code",
   "execution_count": 43,
   "metadata": {},
   "outputs": [],
   "source": [
    "data_pivot_purpose = data_pivot_purpose.T"
   ]
  },
  {
   "cell_type": "code",
   "execution_count": 44,
   "metadata": {},
   "outputs": [
    {
     "data": {
      "text/html": [
       "<div>\n",
       "<style scoped>\n",
       "    .dataframe tbody tr th:only-of-type {\n",
       "        vertical-align: middle;\n",
       "    }\n",
       "\n",
       "    .dataframe tbody tr th {\n",
       "        vertical-align: top;\n",
       "    }\n",
       "\n",
       "    .dataframe thead th {\n",
       "        text-align: right;\n",
       "    }\n",
       "</style>\n",
       "<table border=\"1\" class=\"dataframe\">\n",
       "  <thead>\n",
       "    <tr style=\"text-align: right;\">\n",
       "      <th>debt</th>\n",
       "      <th>0</th>\n",
       "      <th>1</th>\n",
       "      <th>% return</th>\n",
       "    </tr>\n",
       "    <tr>\n",
       "      <th>purpose_list</th>\n",
       "      <th></th>\n",
       "      <th></th>\n",
       "      <th></th>\n",
       "    </tr>\n",
       "  </thead>\n",
       "  <tbody>\n",
       "    <tr>\n",
       "      <td>автомобиль</td>\n",
       "      <td>3903</td>\n",
       "      <td>403</td>\n",
       "      <td>9.36</td>\n",
       "    </tr>\n",
       "    <tr>\n",
       "      <td>образование</td>\n",
       "      <td>3643</td>\n",
       "      <td>370</td>\n",
       "      <td>9.22</td>\n",
       "    </tr>\n",
       "    <tr>\n",
       "      <td>покупка/строительство недвижимости</td>\n",
       "      <td>10028</td>\n",
       "      <td>782</td>\n",
       "      <td>7.23</td>\n",
       "    </tr>\n",
       "    <tr>\n",
       "      <td>свадьба</td>\n",
       "      <td>2138</td>\n",
       "      <td>186</td>\n",
       "      <td>8.00</td>\n",
       "    </tr>\n",
       "  </tbody>\n",
       "</table>\n",
       "</div>"
      ],
      "text/plain": [
       "debt                                    0    1  % return\n",
       "purpose_list                                            \n",
       "автомобиль                           3903  403      9.36\n",
       "образование                          3643  370      9.22\n",
       "покупка/строительство недвижимости  10028  782      7.23\n",
       "свадьба                              2138  186      8.00"
      ]
     },
     "metadata": {},
     "output_type": "display_data"
    }
   ],
   "source": [
    "# расчет значений невозвращенных кредитов в срок в зависимости от цели\n",
    "data_pivot_purpose['% return'] = round(data_pivot_purpose[1] / (data_pivot_purpose[1] + data_pivot_purpose[0]) *100, 2)\n",
    "display(data_pivot_purpose)"
   ]
  },
  {
   "cell_type": "markdown",
   "metadata": {},
   "source": [
    "**Вывод**"
   ]
  },
  {
   "cell_type": "markdown",
   "metadata": {},
   "source": [
    "- Больше всего кредитов берут на операции, связанные с недвижимостью. И чаще всего именно такие кредиты возвращают в срок. Видимо, это связано с долгосрочностью кредита.\n",
    "- Самые невозвращаемые кредиты берут на покупку автомобиля и получения образования."
   ]
  },
  {
   "cell_type": "markdown",
   "metadata": {},
   "source": [
    "## Шаг 4. Общий вывод"
   ]
  },
  {
   "cell_type": "markdown",
   "metadata": {},
   "source": [
    " В  ходе исследования данные были изучены, приведены в требуемый вид:\n",
    " - Обнаружены и зполнены медианными значениями пропуски в столбце Total_income, также в нем изменен тип данных. Возможно, потенциальные клиенты не указали значения в заявках.\n",
    " - Также обнаружены незаполненные данные в столбце dob_years. Отсутствующие значения расчитаны исходя из среднего значения возраста с учетом типа занятости.\n",
    " - Приведены к одному регистру значения столбца education.\n",
    " - Обнаружены отрицательные значения в столбце days_employed. Вероятно, при загрузке данных возникла техническая ошибка.\n",
    " - Удалены явные дубликаты в данных. Вероятно, возникшие из-за внесения в базу некоторых заявок больше одного раза.\n",
    " - Исправлены ошибки в столбце children, возникшие, по всей видимости, из-за банальных опечаток.\n",
    " - Исключены из данных строка с ошибкой, возникшей при заполнении отсутствующих данных столбца с доходами, и строка с неизвестным значением столбца gender.\n",
    " - Проведени категоризации данных по возрасту и доходам для удобства и более наглядного анализа.\n",
    " - Столбец purpose содержал в себе множество идентичных целей, написанных разными формулировками. Что затрудняло процесс проверки гипотезы о зависимости цели кредита и его возврата в срок. С помощью лемматизации выделены 4 вида целей и применены к данным.\n",
    " - Удалось выяснить, что на возрат в срок кредитов влияет наличие детей: с увеличением количества детей уменьшается процент возвратов в срок и уменьшается количество выданных кредитов в целом. Вероятно, банки неохотно одобряют заявки таким семьям.\n",
    " - Семейное положение также имеет влияние на возврат кредитов в срок: люди состоящие в гразданском браке и незамужние/ неженатые чаще других не возвращают кредиты в срок. Больше всего кредитов берут женатые/замужние люди.\n",
    " - Уровень доходов также имеет влияние на невозрат кредитов в срок: клиенты с небольшим доходом чаще не возращают в срок.\n",
    " - Кредиты, взятые на покупку автомобиля и на образование, чаще не возвращают в срок. \n",
    " На невозврат кредитов в срок влияют разные факторы, но в целом можно выделить идеальный образ потенциального заемщика: без детей, неженатый/незамужняя, с очень высоким или средним доходом, берущий кредит на покупку жилья.\n",
    " Вероятно, ошибки и пропуски в данных возникают по нескольким причинам: \n",
    "    - отсутствие строго контроля за заполнением некоторых пунктов анкет потенциальными клиентами; \n",
    "    - техническими сбоями  при выгрузке данных; \n",
    "    - внесением в базу одних и тех же анкет неоднократно."
   ]
  }
 ],
 "metadata": {
  "ExecuteTimeLog": [
   {
    "duration": 615,
    "start_time": "2021-11-12T15:05:05.855Z"
   },
   {
    "duration": 324,
    "start_time": "2021-11-13T09:25:34.001Z"
   },
   {
    "duration": 842,
    "start_time": "2021-11-13T09:25:42.456Z"
   },
   {
    "duration": 13,
    "start_time": "2021-11-13T09:25:54.684Z"
   },
   {
    "duration": 81,
    "start_time": "2021-11-13T09:26:40.662Z"
   },
   {
    "duration": 81,
    "start_time": "2021-11-13T09:46:45.052Z"
   },
   {
    "duration": 345,
    "start_time": "2021-11-13T09:48:24.271Z"
   },
   {
    "duration": 24,
    "start_time": "2021-11-13T09:48:44.246Z"
   },
   {
    "duration": 22,
    "start_time": "2021-11-13T09:48:48.823Z"
   },
   {
    "duration": 282,
    "start_time": "2021-11-13T09:49:17.132Z"
   },
   {
    "duration": 280,
    "start_time": "2021-11-13T09:49:33.927Z"
   },
   {
    "duration": 35,
    "start_time": "2021-11-13T09:51:37.220Z"
   },
   {
    "duration": 16,
    "start_time": "2021-11-13T09:54:23.312Z"
   },
   {
    "duration": 10,
    "start_time": "2021-11-13T09:55:25.496Z"
   },
   {
    "duration": 1595,
    "start_time": "2021-11-13T10:07:17.202Z"
   },
   {
    "duration": 1592,
    "start_time": "2021-11-13T10:07:32.170Z"
   },
   {
    "duration": 7343,
    "start_time": "2021-11-13T10:10:42.108Z"
   },
   {
    "duration": 1544,
    "start_time": "2021-11-13T10:10:47.910Z"
   },
   {
    "duration": 10,
    "start_time": "2021-11-13T10:11:18.030Z"
   },
   {
    "duration": 282,
    "start_time": "2021-11-13T10:13:30.440Z"
   },
   {
    "duration": 7497,
    "start_time": "2021-11-13T10:15:07.744Z"
   },
   {
    "duration": 24,
    "start_time": "2021-11-13T10:15:44.890Z"
   },
   {
    "duration": 21,
    "start_time": "2021-11-13T10:16:18.067Z"
   },
   {
    "duration": 25,
    "start_time": "2021-11-13T10:17:33.079Z"
   },
   {
    "duration": 33,
    "start_time": "2021-11-13T10:19:12.127Z"
   },
   {
    "duration": 34,
    "start_time": "2021-11-13T10:19:17.295Z"
   },
   {
    "duration": 621,
    "start_time": "2021-11-14T10:07:42.811Z"
   },
   {
    "duration": 384,
    "start_time": "2021-11-14T10:08:43.744Z"
   },
   {
    "duration": 18,
    "start_time": "2021-11-14T10:08:57.575Z"
   },
   {
    "duration": 287,
    "start_time": "2021-11-14T10:12:58.687Z"
   },
   {
    "duration": 22,
    "start_time": "2021-11-14T10:13:07.699Z"
   },
   {
    "duration": 30,
    "start_time": "2021-11-14T10:14:07.532Z"
   },
   {
    "duration": 22,
    "start_time": "2021-11-14T10:14:54.357Z"
   },
   {
    "duration": 22,
    "start_time": "2021-11-14T10:15:07.917Z"
   },
   {
    "duration": 288,
    "start_time": "2021-11-14T10:18:28.373Z"
   },
   {
    "duration": 305,
    "start_time": "2021-11-14T10:19:12.597Z"
   },
   {
    "duration": 17,
    "start_time": "2021-11-14T10:20:03.969Z"
   },
   {
    "duration": 9,
    "start_time": "2021-11-14T10:21:58.837Z"
   },
   {
    "duration": 58,
    "start_time": "2021-11-14T10:22:15.094Z"
   },
   {
    "duration": 21,
    "start_time": "2021-11-14T10:27:14.318Z"
   },
   {
    "duration": 35,
    "start_time": "2021-11-14T10:27:23.214Z"
   },
   {
    "duration": 18,
    "start_time": "2021-11-14T10:29:06.002Z"
   },
   {
    "duration": 118,
    "start_time": "2021-11-14T10:46:51.684Z"
   },
   {
    "duration": 94,
    "start_time": "2021-11-14T10:47:40.973Z"
   },
   {
    "duration": 99,
    "start_time": "2021-11-14T10:48:21.329Z"
   },
   {
    "duration": 6,
    "start_time": "2021-11-14T10:48:43.190Z"
   },
   {
    "duration": 401,
    "start_time": "2021-11-14T10:51:11.609Z"
   },
   {
    "duration": 4,
    "start_time": "2021-11-14T10:51:21.475Z"
   },
   {
    "duration": 554,
    "start_time": "2021-11-14T10:51:23.646Z"
   },
   {
    "duration": 577,
    "start_time": "2021-11-14T10:52:26.220Z"
   },
   {
    "duration": 1426,
    "start_time": "2021-11-14T11:07:06.487Z"
   },
   {
    "duration": 4,
    "start_time": "2021-11-14T11:07:38.195Z"
   },
   {
    "duration": 11,
    "start_time": "2021-11-14T11:07:45.251Z"
   },
   {
    "duration": 23,
    "start_time": "2021-11-14T11:08:07.771Z"
   },
   {
    "duration": 87,
    "start_time": "2021-11-14T11:08:58.703Z"
   },
   {
    "duration": 81,
    "start_time": "2021-11-14T11:08:58.710Z"
   },
   {
    "duration": 8826,
    "start_time": "2021-11-14T11:09:09.572Z"
   },
   {
    "duration": 4,
    "start_time": "2021-11-14T11:09:49.283Z"
   },
   {
    "duration": 34529,
    "start_time": "2021-11-14T11:09:51.616Z"
   },
   {
    "duration": 4,
    "start_time": "2021-11-14T11:10:26.147Z"
   },
   {
    "duration": 3,
    "start_time": "2021-11-14T11:10:31.905Z"
   },
   {
    "duration": 6129,
    "start_time": "2021-11-14T11:10:39.027Z"
   },
   {
    "duration": 300,
    "start_time": "2021-11-14T11:58:47.467Z"
   },
   {
    "duration": 289,
    "start_time": "2021-11-14T12:01:22.076Z"
   },
   {
    "duration": 274,
    "start_time": "2021-11-14T12:07:07.755Z"
   },
   {
    "duration": 11,
    "start_time": "2021-11-14T12:08:49.678Z"
   },
   {
    "duration": 5,
    "start_time": "2021-11-14T12:12:20.426Z"
   },
   {
    "duration": 19,
    "start_time": "2021-11-14T12:12:34.802Z"
   },
   {
    "duration": 55,
    "start_time": "2021-11-14T12:13:28.614Z"
   },
   {
    "duration": 11,
    "start_time": "2021-11-14T12:13:34.600Z"
   },
   {
    "duration": 4,
    "start_time": "2021-11-14T12:13:51.477Z"
   },
   {
    "duration": 14,
    "start_time": "2021-11-14T12:13:55.225Z"
   },
   {
    "duration": 19,
    "start_time": "2021-11-14T12:13:59.058Z"
   },
   {
    "duration": 274,
    "start_time": "2021-11-14T12:18:28.324Z"
   },
   {
    "duration": 280,
    "start_time": "2021-11-14T12:18:38.631Z"
   },
   {
    "duration": 3,
    "start_time": "2021-11-14T12:19:42.483Z"
   },
   {
    "duration": 11,
    "start_time": "2021-11-14T12:19:53.321Z"
   },
   {
    "duration": 28,
    "start_time": "2021-11-14T12:20:12.440Z"
   },
   {
    "duration": 894,
    "start_time": "2021-11-14T18:33:20.888Z"
   },
   {
    "duration": 14,
    "start_time": "2021-11-14T18:33:21.785Z"
   },
   {
    "duration": 5,
    "start_time": "2021-11-14T18:33:21.803Z"
   },
   {
    "duration": 12,
    "start_time": "2021-11-14T18:33:21.824Z"
   },
   {
    "duration": 25,
    "start_time": "2021-11-14T18:33:21.839Z"
   },
   {
    "duration": 82,
    "start_time": "2021-11-14T18:33:21.867Z"
   },
   {
    "duration": 4,
    "start_time": "2021-11-14T18:33:21.952Z"
   },
   {
    "duration": 12,
    "start_time": "2021-11-14T18:33:21.958Z"
   },
   {
    "duration": 466,
    "start_time": "2021-11-14T18:33:21.973Z"
   },
   {
    "duration": 6,
    "start_time": "2021-11-14T18:40:36.609Z"
   },
   {
    "duration": 11,
    "start_time": "2021-11-14T18:51:17.758Z"
   },
   {
    "duration": 81,
    "start_time": "2021-11-14T18:51:20.784Z"
   },
   {
    "duration": 15,
    "start_time": "2021-11-14T18:51:28.506Z"
   },
   {
    "duration": 4,
    "start_time": "2021-11-14T18:51:31.689Z"
   },
   {
    "duration": 13,
    "start_time": "2021-11-14T18:51:35.526Z"
   },
   {
    "duration": 25,
    "start_time": "2021-11-14T18:51:38.177Z"
   },
   {
    "duration": 455,
    "start_time": "2021-11-14T19:11:58.982Z"
   },
   {
    "duration": 5,
    "start_time": "2021-11-14T19:12:08.388Z"
   },
   {
    "duration": 26,
    "start_time": "2021-11-14T19:12:12.145Z"
   },
   {
    "duration": 46,
    "start_time": "2021-11-14T19:12:37.798Z"
   },
   {
    "duration": 3,
    "start_time": "2021-11-14T19:25:08.208Z"
   },
   {
    "duration": 8,
    "start_time": "2021-11-14T19:25:10.033Z"
   },
   {
    "duration": 327,
    "start_time": "2021-11-14T19:25:52.803Z"
   },
   {
    "duration": 5,
    "start_time": "2021-11-14T19:26:24.742Z"
   },
   {
    "duration": 334,
    "start_time": "2021-11-14T19:31:50.993Z"
   },
   {
    "duration": 43,
    "start_time": "2021-11-14T19:43:18.831Z"
   },
   {
    "duration": 5,
    "start_time": "2021-11-14T19:43:26.701Z"
   },
   {
    "duration": 34,
    "start_time": "2021-11-14T19:43:56.461Z"
   },
   {
    "duration": 518,
    "start_time": "2021-11-14T19:44:18.951Z"
   },
   {
    "duration": 96,
    "start_time": "2021-11-14T19:46:45.724Z"
   },
   {
    "duration": 8578,
    "start_time": "2021-11-14T19:46:57.667Z"
   },
   {
    "duration": 8807,
    "start_time": "2021-11-14T19:47:56.008Z"
   },
   {
    "duration": 4,
    "start_time": "2021-11-14T19:56:26.771Z"
   },
   {
    "duration": 9817,
    "start_time": "2021-11-14T19:56:31.360Z"
   },
   {
    "duration": 5,
    "start_time": "2021-11-14T19:57:20.720Z"
   },
   {
    "duration": 4,
    "start_time": "2021-11-14T20:05:06.490Z"
   },
   {
    "duration": 7257,
    "start_time": "2021-11-14T20:06:02.998Z"
   },
   {
    "duration": 8111,
    "start_time": "2021-11-14T20:07:49.061Z"
   },
   {
    "duration": 321,
    "start_time": "2021-11-14T20:08:13.822Z"
   },
   {
    "duration": 736,
    "start_time": "2021-11-15T07:55:38.645Z"
   },
   {
    "duration": 4,
    "start_time": "2021-11-15T07:55:47.082Z"
   },
   {
    "duration": 88,
    "start_time": "2021-11-15T07:55:47.111Z"
   },
   {
    "duration": 31,
    "start_time": "2021-11-15T07:55:47.202Z"
   },
   {
    "duration": 5,
    "start_time": "2021-11-15T07:55:47.236Z"
   },
   {
    "duration": 25,
    "start_time": "2021-11-15T07:55:47.243Z"
   },
   {
    "duration": 26,
    "start_time": "2021-11-15T07:55:47.270Z"
   },
   {
    "duration": 33,
    "start_time": "2021-11-15T07:55:47.299Z"
   },
   {
    "duration": 115,
    "start_time": "2021-11-15T07:55:47.335Z"
   },
   {
    "duration": -190,
    "start_time": "2021-11-15T07:55:47.643Z"
   },
   {
    "duration": -197,
    "start_time": "2021-11-15T07:55:47.652Z"
   },
   {
    "duration": -202,
    "start_time": "2021-11-15T07:55:47.659Z"
   },
   {
    "duration": -208,
    "start_time": "2021-11-15T07:55:47.667Z"
   },
   {
    "duration": -251,
    "start_time": "2021-11-15T07:55:47.712Z"
   },
   {
    "duration": -257,
    "start_time": "2021-11-15T07:55:47.721Z"
   },
   {
    "duration": 27,
    "start_time": "2021-11-15T07:56:12.291Z"
   },
   {
    "duration": 436,
    "start_time": "2021-11-15T07:56:23.456Z"
   },
   {
    "duration": 41,
    "start_time": "2021-11-15T07:56:43.014Z"
   },
   {
    "duration": 524,
    "start_time": "2021-11-15T08:00:00.870Z"
   },
   {
    "duration": 4,
    "start_time": "2021-11-15T08:00:22.986Z"
   },
   {
    "duration": 4,
    "start_time": "2021-11-15T08:01:00.858Z"
   },
   {
    "duration": 10224,
    "start_time": "2021-11-15T08:01:02.722Z"
   },
   {
    "duration": 281,
    "start_time": "2021-11-15T08:01:55.034Z"
   },
   {
    "duration": -8,
    "start_time": "2021-11-15T08:01:55.327Z"
   },
   {
    "duration": 19,
    "start_time": "2021-11-15T08:02:08.050Z"
   },
   {
    "duration": 26,
    "start_time": "2021-11-15T08:02:18.453Z"
   },
   {
    "duration": 22,
    "start_time": "2021-11-15T08:11:30.762Z"
   },
   {
    "duration": 266,
    "start_time": "2021-11-15T08:18:58.854Z"
   },
   {
    "duration": 56,
    "start_time": "2021-11-15T08:19:10.290Z"
   },
   {
    "duration": 17,
    "start_time": "2021-11-15T08:22:15.350Z"
   },
   {
    "duration": 9758,
    "start_time": "2021-11-15T08:43:28.558Z"
   },
   {
    "duration": 8,
    "start_time": "2021-11-15T08:45:31.991Z"
   },
   {
    "duration": 33,
    "start_time": "2021-11-15T08:45:53.348Z"
   },
   {
    "duration": 507,
    "start_time": "2021-11-15T11:30:14.744Z"
   },
   {
    "duration": 3,
    "start_time": "2021-11-15T11:30:25.439Z"
   },
   {
    "duration": 66,
    "start_time": "2021-11-15T11:30:25.460Z"
   },
   {
    "duration": 10,
    "start_time": "2021-11-15T11:30:25.528Z"
   },
   {
    "duration": 3,
    "start_time": "2021-11-15T11:30:25.540Z"
   },
   {
    "duration": 16,
    "start_time": "2021-11-15T11:30:25.545Z"
   },
   {
    "duration": 32,
    "start_time": "2021-11-15T11:30:25.563Z"
   },
   {
    "duration": 35,
    "start_time": "2021-11-15T11:30:25.597Z"
   },
   {
    "duration": 4,
    "start_time": "2021-11-15T11:30:25.634Z"
   },
   {
    "duration": 21,
    "start_time": "2021-11-15T11:30:25.640Z"
   },
   {
    "duration": 49,
    "start_time": "2021-11-15T11:30:25.663Z"
   },
   {
    "duration": 3,
    "start_time": "2021-11-15T11:30:25.713Z"
   },
   {
    "duration": 4839,
    "start_time": "2021-11-15T11:30:25.718Z"
   },
   {
    "duration": 17,
    "start_time": "2021-11-15T11:30:30.559Z"
   },
   {
    "duration": 26,
    "start_time": "2021-11-15T11:30:30.577Z"
   },
   {
    "duration": 55,
    "start_time": "2021-11-15T11:35:35.296Z"
   },
   {
    "duration": 24,
    "start_time": "2021-11-15T11:35:48.484Z"
   },
   {
    "duration": 25,
    "start_time": "2021-11-15T11:36:06.459Z"
   },
   {
    "duration": 22,
    "start_time": "2021-11-15T11:36:54.945Z"
   },
   {
    "duration": 27,
    "start_time": "2021-11-15T11:37:57.509Z"
   },
   {
    "duration": 25,
    "start_time": "2021-11-15T11:38:32.261Z"
   },
   {
    "duration": 6,
    "start_time": "2021-11-15T11:43:20.233Z"
   },
   {
    "duration": 4,
    "start_time": "2021-11-15T11:43:45.343Z"
   },
   {
    "duration": 5,
    "start_time": "2021-11-15T11:45:12.543Z"
   },
   {
    "duration": 5,
    "start_time": "2021-11-15T11:45:26.569Z"
   },
   {
    "duration": 4786,
    "start_time": "2021-11-15T11:49:48.485Z"
   },
   {
    "duration": 202,
    "start_time": "2021-11-15T11:50:08.315Z"
   },
   {
    "duration": 201,
    "start_time": "2021-11-15T11:50:38.665Z"
   },
   {
    "duration": 6,
    "start_time": "2021-11-15T11:51:30.720Z"
   },
   {
    "duration": 27,
    "start_time": "2021-11-15T11:52:15.168Z"
   },
   {
    "duration": 3,
    "start_time": "2021-11-15T12:16:06.992Z"
   },
   {
    "duration": 3408,
    "start_time": "2021-11-15T12:16:08.830Z"
   },
   {
    "duration": 2806,
    "start_time": "2021-11-15T12:16:31.770Z"
   },
   {
    "duration": 2748,
    "start_time": "2021-11-15T12:17:00.761Z"
   },
   {
    "duration": 608,
    "start_time": "2021-11-16T08:41:20.757Z"
   },
   {
    "duration": 3,
    "start_time": "2021-11-16T08:41:30.330Z"
   },
   {
    "duration": 72,
    "start_time": "2021-11-16T08:41:30.345Z"
   },
   {
    "duration": 12,
    "start_time": "2021-11-16T08:41:30.418Z"
   },
   {
    "duration": 9,
    "start_time": "2021-11-16T08:41:30.432Z"
   },
   {
    "duration": 22,
    "start_time": "2021-11-16T08:41:30.442Z"
   },
   {
    "duration": 15,
    "start_time": "2021-11-16T08:41:30.466Z"
   },
   {
    "duration": 36,
    "start_time": "2021-11-16T08:41:30.483Z"
   },
   {
    "duration": 3,
    "start_time": "2021-11-16T08:41:30.521Z"
   },
   {
    "duration": 40,
    "start_time": "2021-11-16T08:41:30.526Z"
   },
   {
    "duration": 30,
    "start_time": "2021-11-16T08:41:30.568Z"
   },
   {
    "duration": 3,
    "start_time": "2021-11-16T08:41:30.600Z"
   },
   {
    "duration": 5307,
    "start_time": "2021-11-16T08:41:30.605Z"
   },
   {
    "duration": 30,
    "start_time": "2021-11-16T08:41:35.914Z"
   },
   {
    "duration": 21,
    "start_time": "2021-11-16T08:41:35.948Z"
   },
   {
    "duration": 24,
    "start_time": "2021-11-16T08:41:35.971Z"
   },
   {
    "duration": 52,
    "start_time": "2021-11-16T08:41:35.997Z"
   },
   {
    "duration": 27,
    "start_time": "2021-11-16T08:41:36.051Z"
   },
   {
    "duration": 4,
    "start_time": "2021-11-16T08:41:36.080Z"
   },
   {
    "duration": 19,
    "start_time": "2021-11-16T08:41:36.086Z"
   },
   {
    "duration": 11,
    "start_time": "2021-11-16T08:41:36.107Z"
   },
   {
    "duration": 33,
    "start_time": "2021-11-16T08:41:36.120Z"
   },
   {
    "duration": 5,
    "start_time": "2021-11-16T08:41:36.155Z"
   },
   {
    "duration": 3748,
    "start_time": "2021-11-16T08:41:36.161Z"
   },
   {
    "duration": 2,
    "start_time": "2021-11-16T09:07:09.001Z"
   },
   {
    "duration": 3277,
    "start_time": "2021-11-16T09:07:16.304Z"
   },
   {
    "duration": 571,
    "start_time": "2021-11-16T12:11:13.907Z"
   },
   {
    "duration": 3,
    "start_time": "2021-11-16T12:11:19.810Z"
   },
   {
    "duration": 67,
    "start_time": "2021-11-16T12:11:19.820Z"
   },
   {
    "duration": 11,
    "start_time": "2021-11-16T12:11:19.889Z"
   },
   {
    "duration": 6,
    "start_time": "2021-11-16T12:11:19.902Z"
   },
   {
    "duration": 12,
    "start_time": "2021-11-16T12:11:19.910Z"
   },
   {
    "duration": 13,
    "start_time": "2021-11-16T12:11:19.924Z"
   },
   {
    "duration": 54,
    "start_time": "2021-11-16T12:11:19.939Z"
   },
   {
    "duration": 4,
    "start_time": "2021-11-16T12:11:19.994Z"
   },
   {
    "duration": 26,
    "start_time": "2021-11-16T12:11:20.000Z"
   },
   {
    "duration": 53,
    "start_time": "2021-11-16T12:11:20.028Z"
   },
   {
    "duration": 2,
    "start_time": "2021-11-16T12:11:20.083Z"
   },
   {
    "duration": 4918,
    "start_time": "2021-11-16T12:11:20.087Z"
   },
   {
    "duration": 17,
    "start_time": "2021-11-16T12:11:25.007Z"
   },
   {
    "duration": 13,
    "start_time": "2021-11-16T12:11:25.026Z"
   },
   {
    "duration": 44,
    "start_time": "2021-11-16T12:11:25.041Z"
   },
   {
    "duration": 25,
    "start_time": "2021-11-16T12:11:25.087Z"
   },
   {
    "duration": 25,
    "start_time": "2021-11-16T12:11:25.114Z"
   },
   {
    "duration": 26,
    "start_time": "2021-11-16T12:11:25.140Z"
   },
   {
    "duration": 7,
    "start_time": "2021-11-16T12:11:25.168Z"
   },
   {
    "duration": 9,
    "start_time": "2021-11-16T12:11:25.176Z"
   },
   {
    "duration": 19,
    "start_time": "2021-11-16T12:11:25.187Z"
   },
   {
    "duration": 96,
    "start_time": "2021-11-16T12:11:25.208Z"
   },
   {
    "duration": -426,
    "start_time": "2021-11-16T12:11:25.731Z"
   },
   {
    "duration": -431,
    "start_time": "2021-11-16T12:11:25.738Z"
   },
   {
    "duration": 3,
    "start_time": "2021-11-16T12:18:01.406Z"
   },
   {
    "duration": 91,
    "start_time": "2021-11-16T12:18:03.615Z"
   },
   {
    "duration": 429,
    "start_time": "2021-11-16T12:18:12.906Z"
   },
   {
    "duration": 3436,
    "start_time": "2021-11-16T12:22:09.378Z"
   },
   {
    "duration": 2811,
    "start_time": "2021-11-16T12:22:54.092Z"
   },
   {
    "duration": 2931,
    "start_time": "2021-11-16T12:23:42.345Z"
   },
   {
    "duration": 2788,
    "start_time": "2021-11-16T12:26:07.616Z"
   },
   {
    "duration": 2820,
    "start_time": "2021-11-16T12:26:56.252Z"
   },
   {
    "duration": 12,
    "start_time": "2021-11-16T12:27:54.641Z"
   },
   {
    "duration": 86,
    "start_time": "2021-11-16T12:45:57.492Z"
   },
   {
    "duration": 92,
    "start_time": "2021-11-16T12:46:36.149Z"
   },
   {
    "duration": 85,
    "start_time": "2021-11-16T12:46:56.446Z"
   },
   {
    "duration": 85,
    "start_time": "2021-11-16T12:47:10.981Z"
   },
   {
    "duration": 2442,
    "start_time": "2021-11-16T12:47:53.343Z"
   },
   {
    "duration": 5,
    "start_time": "2021-11-16T12:48:00.030Z"
   },
   {
    "duration": 4,
    "start_time": "2021-11-16T12:48:56.035Z"
   },
   {
    "duration": 4,
    "start_time": "2021-11-16T12:49:27.233Z"
   },
   {
    "duration": 3,
    "start_time": "2021-11-16T12:49:48.012Z"
   },
   {
    "duration": 272,
    "start_time": "2021-11-16T12:49:58.509Z"
   },
   {
    "duration": 4,
    "start_time": "2021-11-16T12:50:07.382Z"
   },
   {
    "duration": 4,
    "start_time": "2021-11-16T12:51:39.304Z"
   },
   {
    "duration": 85,
    "start_time": "2021-11-16T13:03:25.368Z"
   },
   {
    "duration": 417,
    "start_time": "2021-11-16T13:03:36.073Z"
   },
   {
    "duration": 5,
    "start_time": "2021-11-16T13:05:24.090Z"
   },
   {
    "duration": 5,
    "start_time": "2021-11-16T13:08:08.936Z"
   },
   {
    "duration": 425,
    "start_time": "2021-11-16T13:09:42.976Z"
   },
   {
    "duration": 433,
    "start_time": "2021-11-16T13:11:41.086Z"
   },
   {
    "duration": 443,
    "start_time": "2021-11-16T13:13:26.903Z"
   },
   {
    "duration": 421,
    "start_time": "2021-11-16T13:14:27.308Z"
   },
   {
    "duration": 420,
    "start_time": "2021-11-16T13:15:02.945Z"
   },
   {
    "duration": 436,
    "start_time": "2021-11-16T13:16:06.449Z"
   },
   {
    "duration": 441,
    "start_time": "2021-11-16T13:16:24.985Z"
   },
   {
    "duration": 522,
    "start_time": "2021-11-16T13:17:34.632Z"
   },
   {
    "duration": 439,
    "start_time": "2021-11-16T13:18:54.691Z"
   },
   {
    "duration": 85,
    "start_time": "2021-11-16T13:24:58.804Z"
   },
   {
    "duration": 84,
    "start_time": "2021-11-16T13:25:27.890Z"
   },
   {
    "duration": 5,
    "start_time": "2021-11-16T13:25:42.855Z"
   },
   {
    "duration": 2806,
    "start_time": "2021-11-16T13:29:03.896Z"
   },
   {
    "duration": 1464,
    "start_time": "2021-11-16T13:29:32.475Z"
   },
   {
    "duration": 1586,
    "start_time": "2021-11-16T13:29:48.753Z"
   },
   {
    "duration": 1537,
    "start_time": "2021-11-16T13:30:02.359Z"
   },
   {
    "duration": 1334,
    "start_time": "2021-11-16T13:30:25.403Z"
   },
   {
    "duration": 1608,
    "start_time": "2021-11-16T13:31:12.884Z"
   },
   {
    "duration": 1424,
    "start_time": "2021-11-16T13:33:25.761Z"
   },
   {
    "duration": 1961,
    "start_time": "2021-11-16T13:35:08.376Z"
   },
   {
    "duration": 2105,
    "start_time": "2021-11-16T13:40:58.124Z"
   },
   {
    "duration": 131,
    "start_time": "2021-11-16T13:42:32.625Z"
   },
   {
    "duration": 247,
    "start_time": "2021-11-16T13:44:39.369Z"
   },
   {
    "duration": 264,
    "start_time": "2021-11-16T13:45:05.889Z"
   },
   {
    "duration": 410,
    "start_time": "2021-11-16T13:45:33.212Z"
   },
   {
    "duration": 280,
    "start_time": "2021-11-16T13:49:00.421Z"
   },
   {
    "duration": 1887,
    "start_time": "2021-11-16T13:49:17.535Z"
   },
   {
    "duration": 1921,
    "start_time": "2021-11-16T13:49:46.770Z"
   },
   {
    "duration": 1825,
    "start_time": "2021-11-16T13:50:35.970Z"
   },
   {
    "duration": 12,
    "start_time": "2021-11-16T13:52:02.864Z"
   },
   {
    "duration": 2053,
    "start_time": "2021-11-16T13:52:19.681Z"
   },
   {
    "duration": 1002,
    "start_time": "2021-11-17T09:09:51.046Z"
   },
   {
    "duration": 5,
    "start_time": "2021-11-17T09:09:59.688Z"
   },
   {
    "duration": 98,
    "start_time": "2021-11-17T09:09:59.716Z"
   },
   {
    "duration": 15,
    "start_time": "2021-11-17T09:09:59.817Z"
   },
   {
    "duration": 26,
    "start_time": "2021-11-17T09:09:59.835Z"
   },
   {
    "duration": 17,
    "start_time": "2021-11-17T09:09:59.863Z"
   },
   {
    "duration": 20,
    "start_time": "2021-11-17T09:09:59.882Z"
   },
   {
    "duration": 77,
    "start_time": "2021-11-17T09:09:59.904Z"
   },
   {
    "duration": 5,
    "start_time": "2021-11-17T09:09:59.985Z"
   },
   {
    "duration": 29,
    "start_time": "2021-11-17T09:09:59.992Z"
   },
   {
    "duration": 69,
    "start_time": "2021-11-17T09:10:00.024Z"
   },
   {
    "duration": 4,
    "start_time": "2021-11-17T09:10:00.095Z"
   },
   {
    "duration": 9406,
    "start_time": "2021-11-17T09:10:00.101Z"
   },
   {
    "duration": 26,
    "start_time": "2021-11-17T09:10:09.510Z"
   },
   {
    "duration": 39,
    "start_time": "2021-11-17T09:10:09.538Z"
   },
   {
    "duration": 34,
    "start_time": "2021-11-17T09:10:09.581Z"
   },
   {
    "duration": 63,
    "start_time": "2021-11-17T09:10:09.618Z"
   },
   {
    "duration": 35,
    "start_time": "2021-11-17T09:10:09.683Z"
   },
   {
    "duration": 5,
    "start_time": "2021-11-17T09:10:09.720Z"
   },
   {
    "duration": 34,
    "start_time": "2021-11-17T09:10:09.727Z"
   },
   {
    "duration": 8,
    "start_time": "2021-11-17T09:10:09.763Z"
   },
   {
    "duration": 38,
    "start_time": "2021-11-17T09:10:09.773Z"
   },
   {
    "duration": 10073,
    "start_time": "2021-11-17T09:10:09.814Z"
   },
   {
    "duration": 1162,
    "start_time": "2021-11-17T09:10:18.728Z"
   },
   {
    "duration": 1153,
    "start_time": "2021-11-17T09:10:18.739Z"
   },
   {
    "duration": 1146,
    "start_time": "2021-11-17T09:10:18.748Z"
   },
   {
    "duration": 587,
    "start_time": "2021-11-17T12:46:28.867Z"
   },
   {
    "duration": 3,
    "start_time": "2021-11-17T12:47:41.155Z"
   },
   {
    "duration": 355,
    "start_time": "2021-11-17T12:47:41.170Z"
   },
   {
    "duration": 10,
    "start_time": "2021-11-17T12:47:41.527Z"
   },
   {
    "duration": 12,
    "start_time": "2021-11-17T12:47:41.539Z"
   },
   {
    "duration": 17,
    "start_time": "2021-11-17T12:47:41.553Z"
   },
   {
    "duration": 25,
    "start_time": "2021-11-17T12:47:41.572Z"
   },
   {
    "duration": 36,
    "start_time": "2021-11-17T12:47:41.599Z"
   },
   {
    "duration": 3,
    "start_time": "2021-11-17T12:47:41.637Z"
   },
   {
    "duration": 23,
    "start_time": "2021-11-17T12:47:41.642Z"
   },
   {
    "duration": 39,
    "start_time": "2021-11-17T12:47:41.667Z"
   },
   {
    "duration": 3,
    "start_time": "2021-11-17T12:47:41.708Z"
   },
   {
    "duration": 4827,
    "start_time": "2021-11-17T12:47:41.712Z"
   },
   {
    "duration": 18,
    "start_time": "2021-11-17T12:47:46.540Z"
   },
   {
    "duration": 33,
    "start_time": "2021-11-17T12:47:46.559Z"
   },
   {
    "duration": 24,
    "start_time": "2021-11-17T12:47:46.593Z"
   },
   {
    "duration": 24,
    "start_time": "2021-11-17T12:47:46.618Z"
   },
   {
    "duration": 22,
    "start_time": "2021-11-17T12:47:46.644Z"
   },
   {
    "duration": 25,
    "start_time": "2021-11-17T12:47:46.667Z"
   },
   {
    "duration": 7,
    "start_time": "2021-11-17T12:47:46.694Z"
   },
   {
    "duration": 7,
    "start_time": "2021-11-17T12:47:46.702Z"
   },
   {
    "duration": 18,
    "start_time": "2021-11-17T12:47:46.711Z"
   },
   {
    "duration": 3,
    "start_time": "2021-11-17T12:47:46.731Z"
   },
   {
    "duration": 4359,
    "start_time": "2021-11-17T12:47:46.736Z"
   },
   {
    "duration": 928,
    "start_time": "2021-11-17T12:47:50.168Z"
   },
   {
    "duration": 919,
    "start_time": "2021-11-17T12:47:50.178Z"
   },
   {
    "duration": 3347,
    "start_time": "2021-11-17T12:49:29.216Z"
   },
   {
    "duration": 2650,
    "start_time": "2021-11-17T12:56:13.829Z"
   },
   {
    "duration": 7,
    "start_time": "2021-11-17T13:03:31.269Z"
   },
   {
    "duration": 2306,
    "start_time": "2021-11-17T13:03:33.195Z"
   },
   {
    "duration": 2252,
    "start_time": "2021-11-17T13:10:22.074Z"
   },
   {
    "duration": 4265,
    "start_time": "2021-11-17T13:11:18.571Z"
   },
   {
    "duration": 924,
    "start_time": "2021-11-17T13:11:21.914Z"
   },
   {
    "duration": 11,
    "start_time": "2021-11-17T13:11:54.789Z"
   },
   {
    "duration": 1687,
    "start_time": "2021-11-17T13:13:06.847Z"
   },
   {
    "duration": 905,
    "start_time": "2021-11-17T13:15:35.794Z"
   },
   {
    "duration": 2269,
    "start_time": "2021-11-17T13:15:52.654Z"
   },
   {
    "duration": 2675,
    "start_time": "2021-11-17T13:30:31.591Z"
   },
   {
    "duration": 17,
    "start_time": "2021-11-17T13:30:39.972Z"
   },
   {
    "duration": 348,
    "start_time": "2021-11-17T13:33:03.304Z"
   },
   {
    "duration": 3539,
    "start_time": "2021-11-17T13:35:04.139Z"
   },
   {
    "duration": 171,
    "start_time": "2021-11-17T13:39:57.955Z"
   },
   {
    "duration": 2701,
    "start_time": "2021-11-17T13:40:23.621Z"
   },
   {
    "duration": 17,
    "start_time": "2021-11-17T13:40:29.134Z"
   },
   {
    "duration": 178,
    "start_time": "2021-11-17T13:40:35.826Z"
   },
   {
    "duration": 3461,
    "start_time": "2021-11-17T13:40:54.270Z"
   },
   {
    "duration": 70,
    "start_time": "2021-11-17T13:47:02.924Z"
   },
   {
    "duration": 21,
    "start_time": "2021-11-17T13:47:49.232Z"
   },
   {
    "duration": 11,
    "start_time": "2021-11-17T13:49:25.291Z"
   },
   {
    "duration": 11,
    "start_time": "2021-11-17T13:49:52.399Z"
   },
   {
    "duration": 11,
    "start_time": "2021-11-17T13:51:58.020Z"
   },
   {
    "duration": 18930,
    "start_time": "2021-11-17T13:54:49.900Z"
   },
   {
    "duration": 24,
    "start_time": "2021-11-17T13:56:07.273Z"
   },
   {
    "duration": 25,
    "start_time": "2021-11-17T13:57:06.605Z"
   },
   {
    "duration": 60,
    "start_time": "2021-11-17T13:57:06.632Z"
   },
   {
    "duration": 10,
    "start_time": "2021-11-17T13:57:06.693Z"
   },
   {
    "duration": 4,
    "start_time": "2021-11-17T13:57:06.704Z"
   },
   {
    "duration": 10,
    "start_time": "2021-11-17T13:57:06.709Z"
   },
   {
    "duration": 10,
    "start_time": "2021-11-17T13:57:06.721Z"
   },
   {
    "duration": 39,
    "start_time": "2021-11-17T13:57:06.732Z"
   },
   {
    "duration": 3,
    "start_time": "2021-11-17T13:57:06.792Z"
   },
   {
    "duration": 21,
    "start_time": "2021-11-17T13:57:06.798Z"
   },
   {
    "duration": 32,
    "start_time": "2021-11-17T13:57:06.821Z"
   },
   {
    "duration": 3,
    "start_time": "2021-11-17T13:57:06.854Z"
   },
   {
    "duration": 4849,
    "start_time": "2021-11-17T13:57:06.858Z"
   },
   {
    "duration": 16,
    "start_time": "2021-11-17T13:57:11.709Z"
   },
   {
    "duration": 14,
    "start_time": "2021-11-17T13:57:11.727Z"
   },
   {
    "duration": 22,
    "start_time": "2021-11-17T13:57:11.743Z"
   },
   {
    "duration": 47,
    "start_time": "2021-11-17T13:57:11.767Z"
   },
   {
    "duration": 21,
    "start_time": "2021-11-17T13:57:11.816Z"
   },
   {
    "duration": 4,
    "start_time": "2021-11-17T13:57:11.838Z"
   },
   {
    "duration": 6,
    "start_time": "2021-11-17T13:57:11.844Z"
   },
   {
    "duration": 6,
    "start_time": "2021-11-17T13:57:11.852Z"
   },
   {
    "duration": 38,
    "start_time": "2021-11-17T13:57:11.860Z"
   },
   {
    "duration": 3281,
    "start_time": "2021-11-17T13:57:11.899Z"
   },
   {
    "duration": 23,
    "start_time": "2021-11-17T13:57:15.192Z"
   },
   {
    "duration": 20,
    "start_time": "2021-11-17T13:57:15.217Z"
   },
   {
    "duration": 4,
    "start_time": "2021-11-17T13:57:15.238Z"
   },
   {
    "duration": 17,
    "start_time": "2021-11-17T13:58:50.011Z"
   },
   {
    "duration": 274,
    "start_time": "2021-11-17T14:15:08.721Z"
   },
   {
    "duration": 335,
    "start_time": "2021-11-17T14:22:12.537Z"
   },
   {
    "duration": 2985,
    "start_time": "2021-11-17T14:22:57.216Z"
   },
   {
    "duration": 865,
    "start_time": "2021-11-17T14:23:29.440Z"
   },
   {
    "duration": 226,
    "start_time": "2021-11-17T14:24:24.985Z"
   },
   {
    "duration": 581,
    "start_time": "2021-11-17T14:24:40.500Z"
   },
   {
    "duration": 2,
    "start_time": "2021-11-17T14:24:49.888Z"
   },
   {
    "duration": 822,
    "start_time": "2021-11-17T14:24:49.902Z"
   },
   {
    "duration": 10,
    "start_time": "2021-11-17T14:24:50.726Z"
   },
   {
    "duration": 8,
    "start_time": "2021-11-17T14:24:50.738Z"
   },
   {
    "duration": 21,
    "start_time": "2021-11-17T14:24:50.748Z"
   },
   {
    "duration": 15,
    "start_time": "2021-11-17T14:24:50.770Z"
   },
   {
    "duration": 37,
    "start_time": "2021-11-17T14:24:50.787Z"
   },
   {
    "duration": 3,
    "start_time": "2021-11-17T14:24:50.825Z"
   },
   {
    "duration": 32,
    "start_time": "2021-11-17T14:24:50.831Z"
   },
   {
    "duration": 48,
    "start_time": "2021-11-17T14:24:50.865Z"
   },
   {
    "duration": 2,
    "start_time": "2021-11-17T14:24:50.915Z"
   },
   {
    "duration": 4784,
    "start_time": "2021-11-17T14:24:50.919Z"
   },
   {
    "duration": 17,
    "start_time": "2021-11-17T14:24:55.704Z"
   },
   {
    "duration": 28,
    "start_time": "2021-11-17T14:24:55.723Z"
   },
   {
    "duration": 27,
    "start_time": "2021-11-17T14:24:55.753Z"
   },
   {
    "duration": 27,
    "start_time": "2021-11-17T14:24:55.782Z"
   },
   {
    "duration": 21,
    "start_time": "2021-11-17T14:24:55.811Z"
   },
   {
    "duration": 4,
    "start_time": "2021-11-17T14:24:55.833Z"
   },
   {
    "duration": 7,
    "start_time": "2021-11-17T14:24:55.838Z"
   },
   {
    "duration": 10,
    "start_time": "2021-11-17T14:24:55.846Z"
   },
   {
    "duration": 39,
    "start_time": "2021-11-17T14:24:55.858Z"
   },
   {
    "duration": 3193,
    "start_time": "2021-11-17T14:24:55.899Z"
   },
   {
    "duration": 5164,
    "start_time": "2021-11-17T14:24:59.094Z"
   },
   {
    "duration": 929,
    "start_time": "2021-11-17T14:25:03.331Z"
   },
   {
    "duration": 921,
    "start_time": "2021-11-17T14:25:03.340Z"
   },
   {
    "duration": 178,
    "start_time": "2021-11-17T15:51:59.237Z"
   },
   {
    "duration": 2562,
    "start_time": "2021-11-17T15:52:13.661Z"
   },
   {
    "duration": 12,
    "start_time": "2021-11-17T15:53:05.158Z"
   },
   {
    "duration": 22,
    "start_time": "2021-11-17T15:53:39.399Z"
   },
   {
    "duration": 2704,
    "start_time": "2021-11-17T15:56:11.704Z"
   },
   {
    "duration": 2704,
    "start_time": "2021-11-17T16:04:45.435Z"
   },
   {
    "duration": 24,
    "start_time": "2021-11-17T16:04:48.459Z"
   },
   {
    "duration": 2525,
    "start_time": "2021-11-17T16:09:44.134Z"
   },
   {
    "duration": 35,
    "start_time": "2021-11-17T16:09:46.660Z"
   },
   {
    "duration": 22,
    "start_time": "2021-11-17T16:10:25.988Z"
   },
   {
    "duration": 24,
    "start_time": "2021-11-17T16:10:47.649Z"
   },
   {
    "duration": 567,
    "start_time": "2021-11-17T16:11:23.809Z"
   },
   {
    "duration": 64,
    "start_time": "2021-11-17T16:11:24.378Z"
   },
   {
    "duration": 10,
    "start_time": "2021-11-17T16:11:24.444Z"
   },
   {
    "duration": 32,
    "start_time": "2021-11-17T16:11:24.456Z"
   },
   {
    "duration": 12,
    "start_time": "2021-11-17T16:11:24.490Z"
   },
   {
    "duration": 14,
    "start_time": "2021-11-17T16:11:24.504Z"
   },
   {
    "duration": 46,
    "start_time": "2021-11-17T16:11:24.520Z"
   },
   {
    "duration": 3,
    "start_time": "2021-11-17T16:11:24.569Z"
   },
   {
    "duration": 33,
    "start_time": "2021-11-17T16:11:24.574Z"
   },
   {
    "duration": 43,
    "start_time": "2021-11-17T16:11:24.608Z"
   },
   {
    "duration": 3,
    "start_time": "2021-11-17T16:11:24.652Z"
   },
   {
    "duration": 4795,
    "start_time": "2021-11-17T16:11:24.657Z"
   },
   {
    "duration": 18,
    "start_time": "2021-11-17T16:11:29.454Z"
   },
   {
    "duration": 30,
    "start_time": "2021-11-17T16:11:29.474Z"
   },
   {
    "duration": 23,
    "start_time": "2021-11-17T16:11:29.506Z"
   },
   {
    "duration": 25,
    "start_time": "2021-11-17T16:11:29.531Z"
   },
   {
    "duration": 52,
    "start_time": "2021-11-17T16:11:29.558Z"
   },
   {
    "duration": 6,
    "start_time": "2021-11-17T16:11:29.612Z"
   },
   {
    "duration": 6,
    "start_time": "2021-11-17T16:11:29.619Z"
   },
   {
    "duration": 6,
    "start_time": "2021-11-17T16:11:29.627Z"
   },
   {
    "duration": 19,
    "start_time": "2021-11-17T16:11:29.634Z"
   },
   {
    "duration": 3296,
    "start_time": "2021-11-17T16:11:29.655Z"
   },
   {
    "duration": 254,
    "start_time": "2021-11-17T16:11:32.954Z"
   },
   {
    "duration": 1357,
    "start_time": "2021-11-17T16:11:31.853Z"
   },
   {
    "duration": 1349,
    "start_time": "2021-11-17T16:11:31.862Z"
   },
   {
    "duration": 21,
    "start_time": "2021-11-17T16:12:21.057Z"
   },
   {
    "duration": 24,
    "start_time": "2021-11-17T16:12:38.835Z"
   },
   {
    "duration": 23,
    "start_time": "2021-11-17T16:14:41.027Z"
   },
   {
    "duration": 25,
    "start_time": "2021-11-17T16:15:36.618Z"
   },
   {
    "duration": 24,
    "start_time": "2021-11-17T16:16:13.538Z"
   },
   {
    "duration": 27,
    "start_time": "2021-11-17T16:17:04.157Z"
   },
   {
    "duration": 25,
    "start_time": "2021-11-17T16:17:53.288Z"
   },
   {
    "duration": 2556,
    "start_time": "2021-11-17T16:28:56.713Z"
   },
   {
    "duration": 36,
    "start_time": "2021-11-17T16:28:59.271Z"
   },
   {
    "duration": 6,
    "start_time": "2021-11-17T16:30:38.727Z"
   },
   {
    "duration": 29,
    "start_time": "2021-11-17T16:31:53.452Z"
   },
   {
    "duration": 601,
    "start_time": "2021-11-17T16:32:33.075Z"
   },
   {
    "duration": 64,
    "start_time": "2021-11-17T16:32:33.678Z"
   },
   {
    "duration": 11,
    "start_time": "2021-11-17T16:32:33.744Z"
   },
   {
    "duration": 4,
    "start_time": "2021-11-17T16:32:33.756Z"
   },
   {
    "duration": 13,
    "start_time": "2021-11-17T16:32:33.761Z"
   },
   {
    "duration": 11,
    "start_time": "2021-11-17T16:32:33.791Z"
   },
   {
    "duration": 33,
    "start_time": "2021-11-17T16:32:33.803Z"
   },
   {
    "duration": 3,
    "start_time": "2021-11-17T16:32:33.839Z"
   },
   {
    "duration": 20,
    "start_time": "2021-11-17T16:32:33.843Z"
   },
   {
    "duration": 47,
    "start_time": "2021-11-17T16:32:33.864Z"
   },
   {
    "duration": 3,
    "start_time": "2021-11-17T16:32:33.912Z"
   },
   {
    "duration": 4800,
    "start_time": "2021-11-17T16:32:33.916Z"
   },
   {
    "duration": 16,
    "start_time": "2021-11-17T16:32:38.718Z"
   },
   {
    "duration": 39,
    "start_time": "2021-11-17T16:32:38.736Z"
   },
   {
    "duration": 22,
    "start_time": "2021-11-17T16:32:38.776Z"
   },
   {
    "duration": 24,
    "start_time": "2021-11-17T16:32:38.799Z"
   },
   {
    "duration": 20,
    "start_time": "2021-11-17T16:32:38.825Z"
   },
   {
    "duration": 3,
    "start_time": "2021-11-17T16:32:38.847Z"
   },
   {
    "duration": 7,
    "start_time": "2021-11-17T16:32:38.852Z"
   },
   {
    "duration": 30,
    "start_time": "2021-11-17T16:32:38.861Z"
   },
   {
    "duration": 16,
    "start_time": "2021-11-17T16:32:38.893Z"
   },
   {
    "duration": 3221,
    "start_time": "2021-11-17T16:32:38.911Z"
   },
   {
    "duration": 25,
    "start_time": "2021-11-17T16:32:42.135Z"
   },
   {
    "duration": 4536,
    "start_time": "2021-11-17T16:32:42.162Z"
   },
   {
    "duration": 1372,
    "start_time": "2021-11-17T16:32:45.328Z"
   },
   {
    "duration": 6,
    "start_time": "2021-11-17T16:33:12.127Z"
   },
   {
    "duration": 597,
    "start_time": "2021-11-18T08:44:18.777Z"
   },
   {
    "duration": 2,
    "start_time": "2021-11-18T08:44:49.291Z"
   },
   {
    "duration": 62,
    "start_time": "2021-11-18T08:44:49.302Z"
   },
   {
    "duration": 11,
    "start_time": "2021-11-18T08:44:49.366Z"
   },
   {
    "duration": 3,
    "start_time": "2021-11-18T08:44:49.379Z"
   },
   {
    "duration": 8,
    "start_time": "2021-11-18T08:44:49.388Z"
   },
   {
    "duration": 9,
    "start_time": "2021-11-18T08:44:49.398Z"
   },
   {
    "duration": 32,
    "start_time": "2021-11-18T08:44:49.409Z"
   },
   {
    "duration": 3,
    "start_time": "2021-11-18T08:44:49.442Z"
   },
   {
    "duration": 42,
    "start_time": "2021-11-18T08:44:49.447Z"
   },
   {
    "duration": 28,
    "start_time": "2021-11-18T08:44:49.490Z"
   },
   {
    "duration": 3,
    "start_time": "2021-11-18T08:44:49.519Z"
   },
   {
    "duration": 4717,
    "start_time": "2021-11-18T08:44:49.524Z"
   },
   {
    "duration": 17,
    "start_time": "2021-11-18T08:44:54.242Z"
   },
   {
    "duration": 28,
    "start_time": "2021-11-18T08:44:54.260Z"
   },
   {
    "duration": 20,
    "start_time": "2021-11-18T08:44:54.290Z"
   },
   {
    "duration": 24,
    "start_time": "2021-11-18T08:44:54.312Z"
   },
   {
    "duration": 20,
    "start_time": "2021-11-18T08:44:54.337Z"
   },
   {
    "duration": 4,
    "start_time": "2021-11-18T08:44:54.358Z"
   },
   {
    "duration": 27,
    "start_time": "2021-11-18T08:44:54.363Z"
   },
   {
    "duration": 4,
    "start_time": "2021-11-18T08:44:54.391Z"
   },
   {
    "duration": 17,
    "start_time": "2021-11-18T08:44:54.397Z"
   },
   {
    "duration": 3127,
    "start_time": "2021-11-18T08:44:54.415Z"
   },
   {
    "duration": 24,
    "start_time": "2021-11-18T08:44:57.544Z"
   },
   {
    "duration": 14,
    "start_time": "2021-11-18T08:44:57.570Z"
   },
   {
    "duration": 2,
    "start_time": "2021-11-18T08:44:57.588Z"
   },
   {
    "duration": 561,
    "start_time": "2021-11-18T08:59:46.077Z"
   },
   {
    "duration": 60,
    "start_time": "2021-11-18T08:59:46.639Z"
   },
   {
    "duration": 10,
    "start_time": "2021-11-18T08:59:46.701Z"
   },
   {
    "duration": 17,
    "start_time": "2021-11-18T08:59:46.712Z"
   },
   {
    "duration": 7,
    "start_time": "2021-11-18T08:59:46.731Z"
   },
   {
    "duration": 25,
    "start_time": "2021-11-18T08:59:46.740Z"
   },
   {
    "duration": 10,
    "start_time": "2021-11-18T08:59:46.767Z"
   },
   {
    "duration": 23,
    "start_time": "2021-11-18T08:59:46.779Z"
   },
   {
    "duration": 26,
    "start_time": "2021-11-18T08:59:46.804Z"
   },
   {
    "duration": 2,
    "start_time": "2021-11-18T08:59:46.831Z"
   },
   {
    "duration": 4561,
    "start_time": "2021-11-18T08:59:46.834Z"
   },
   {
    "duration": 17,
    "start_time": "2021-11-18T08:59:51.396Z"
   },
   {
    "duration": 14,
    "start_time": "2021-11-18T08:59:51.415Z"
   },
   {
    "duration": 29,
    "start_time": "2021-11-18T08:59:51.431Z"
   },
   {
    "duration": 41,
    "start_time": "2021-11-18T08:59:51.461Z"
   },
   {
    "duration": 20,
    "start_time": "2021-11-18T08:59:51.503Z"
   },
   {
    "duration": 4,
    "start_time": "2021-11-18T08:59:51.525Z"
   },
   {
    "duration": 6,
    "start_time": "2021-11-18T08:59:51.530Z"
   },
   {
    "duration": 14,
    "start_time": "2021-11-18T08:59:51.538Z"
   },
   {
    "duration": 28,
    "start_time": "2021-11-18T08:59:51.554Z"
   },
   {
    "duration": 3301,
    "start_time": "2021-11-18T08:59:51.587Z"
   },
   {
    "duration": 24,
    "start_time": "2021-11-18T08:59:54.890Z"
   },
   {
    "duration": 9,
    "start_time": "2021-11-18T08:59:54.917Z"
   },
   {
    "duration": 5,
    "start_time": "2021-11-18T08:59:54.928Z"
   },
   {
    "duration": 650,
    "start_time": "2021-11-18T12:20:30.013Z"
   },
   {
    "duration": 353,
    "start_time": "2021-11-18T12:20:30.665Z"
   },
   {
    "duration": 11,
    "start_time": "2021-11-18T12:20:31.020Z"
   },
   {
    "duration": 10,
    "start_time": "2021-11-18T12:20:31.033Z"
   },
   {
    "duration": 10,
    "start_time": "2021-11-18T12:20:31.045Z"
   },
   {
    "duration": 21,
    "start_time": "2021-11-18T12:20:31.057Z"
   },
   {
    "duration": 8,
    "start_time": "2021-11-18T12:20:31.079Z"
   },
   {
    "duration": 26,
    "start_time": "2021-11-18T12:20:31.089Z"
   },
   {
    "duration": 32,
    "start_time": "2021-11-18T12:20:31.117Z"
   },
   {
    "duration": 3,
    "start_time": "2021-11-18T12:20:31.151Z"
   },
   {
    "duration": 5079,
    "start_time": "2021-11-18T12:20:31.156Z"
   },
   {
    "duration": 22,
    "start_time": "2021-11-18T12:20:36.244Z"
   },
   {
    "duration": 19,
    "start_time": "2021-11-18T12:20:36.268Z"
   },
   {
    "duration": 26,
    "start_time": "2021-11-18T12:20:36.289Z"
   },
   {
    "duration": 29,
    "start_time": "2021-11-18T12:20:36.345Z"
   },
   {
    "duration": 25,
    "start_time": "2021-11-18T12:20:36.375Z"
   },
   {
    "duration": 6,
    "start_time": "2021-11-18T12:20:36.402Z"
   },
   {
    "duration": 34,
    "start_time": "2021-11-18T12:20:36.410Z"
   },
   {
    "duration": 6,
    "start_time": "2021-11-18T12:20:36.446Z"
   },
   {
    "duration": 20,
    "start_time": "2021-11-18T12:20:36.454Z"
   },
   {
    "duration": 3551,
    "start_time": "2021-11-18T12:20:36.476Z"
   },
   {
    "duration": 37,
    "start_time": "2021-11-18T12:20:40.029Z"
   },
   {
    "duration": 6,
    "start_time": "2021-11-18T12:20:40.070Z"
   },
   {
    "duration": 3,
    "start_time": "2021-11-18T12:20:40.078Z"
   },
   {
    "duration": 388,
    "start_time": "2021-11-18T12:30:27.053Z"
   },
   {
    "duration": 26,
    "start_time": "2021-11-18T12:30:38.603Z"
   },
   {
    "duration": 19,
    "start_time": "2021-11-18T12:31:42.549Z"
   },
   {
    "duration": 21,
    "start_time": "2021-11-18T12:32:00.644Z"
   },
   {
    "duration": 20,
    "start_time": "2021-11-18T12:39:28.716Z"
   },
   {
    "duration": 4,
    "start_time": "2021-11-18T12:41:57.003Z"
   },
   {
    "duration": 4,
    "start_time": "2021-11-18T12:58:36.419Z"
   },
   {
    "duration": 5,
    "start_time": "2021-11-18T12:58:46.641Z"
   },
   {
    "duration": 21,
    "start_time": "2021-11-18T13:09:36.966Z"
   },
   {
    "duration": 3,
    "start_time": "2021-11-18T13:10:13.094Z"
   },
   {
    "duration": 4,
    "start_time": "2021-11-18T13:11:05.447Z"
   },
   {
    "duration": 4,
    "start_time": "2021-11-18T13:11:52.894Z"
   },
   {
    "duration": 4,
    "start_time": "2021-11-18T13:12:01.364Z"
   },
   {
    "duration": 271,
    "start_time": "2021-11-18T13:15:14.617Z"
   },
   {
    "duration": 15,
    "start_time": "2021-11-18T13:16:03.105Z"
   },
   {
    "duration": 7,
    "start_time": "2021-11-18T13:16:33.486Z"
   },
   {
    "duration": 5,
    "start_time": "2021-11-18T13:16:54.436Z"
   },
   {
    "duration": 3,
    "start_time": "2021-11-18T13:17:15.309Z"
   },
   {
    "duration": 4,
    "start_time": "2021-11-18T13:19:02.668Z"
   },
   {
    "duration": 5,
    "start_time": "2021-11-18T13:19:14.694Z"
   },
   {
    "duration": 7,
    "start_time": "2021-11-18T13:20:21.123Z"
   },
   {
    "duration": 13,
    "start_time": "2021-11-18T13:20:39.509Z"
   },
   {
    "duration": 6,
    "start_time": "2021-11-18T13:21:16.798Z"
   },
   {
    "duration": 9,
    "start_time": "2021-11-18T13:21:27.970Z"
   },
   {
    "duration": 9,
    "start_time": "2021-11-18T13:22:01.281Z"
   },
   {
    "duration": 7,
    "start_time": "2021-11-18T13:23:42.601Z"
   },
   {
    "duration": 9,
    "start_time": "2021-11-18T13:24:08.302Z"
   },
   {
    "duration": 8,
    "start_time": "2021-11-18T13:32:41.169Z"
   },
   {
    "duration": 16,
    "start_time": "2021-11-18T13:34:11.291Z"
   },
   {
    "duration": 16,
    "start_time": "2021-11-18T13:34:33.986Z"
   },
   {
    "duration": 10,
    "start_time": "2021-11-18T13:35:30.832Z"
   },
   {
    "duration": 8,
    "start_time": "2021-11-18T13:42:58.910Z"
   },
   {
    "duration": 7,
    "start_time": "2021-11-18T13:43:19.774Z"
   },
   {
    "duration": 615,
    "start_time": "2021-11-18T13:44:03.049Z"
   },
   {
    "duration": 64,
    "start_time": "2021-11-18T13:44:03.666Z"
   },
   {
    "duration": 11,
    "start_time": "2021-11-18T13:44:03.732Z"
   },
   {
    "duration": 10,
    "start_time": "2021-11-18T13:44:03.745Z"
   },
   {
    "duration": 3,
    "start_time": "2021-11-18T13:44:03.757Z"
   },
   {
    "duration": 16,
    "start_time": "2021-11-18T13:44:03.762Z"
   },
   {
    "duration": 8,
    "start_time": "2021-11-18T13:44:03.780Z"
   },
   {
    "duration": 28,
    "start_time": "2021-11-18T13:44:03.790Z"
   },
   {
    "duration": 38,
    "start_time": "2021-11-18T13:44:03.820Z"
   },
   {
    "duration": 4,
    "start_time": "2021-11-18T13:44:03.860Z"
   },
   {
    "duration": 5151,
    "start_time": "2021-11-18T13:44:03.866Z"
   },
   {
    "duration": 27,
    "start_time": "2021-11-18T13:44:09.019Z"
   },
   {
    "duration": 21,
    "start_time": "2021-11-18T13:44:09.047Z"
   },
   {
    "duration": 23,
    "start_time": "2021-11-18T13:44:09.070Z"
   },
   {
    "duration": 26,
    "start_time": "2021-11-18T13:44:09.094Z"
   },
   {
    "duration": 40,
    "start_time": "2021-11-18T13:44:09.122Z"
   },
   {
    "duration": 5,
    "start_time": "2021-11-18T13:44:09.163Z"
   },
   {
    "duration": 13,
    "start_time": "2021-11-18T13:44:09.169Z"
   },
   {
    "duration": 12,
    "start_time": "2021-11-18T13:44:09.183Z"
   },
   {
    "duration": 20,
    "start_time": "2021-11-18T13:44:09.197Z"
   },
   {
    "duration": 3849,
    "start_time": "2021-11-18T13:44:09.218Z"
   },
   {
    "duration": 41,
    "start_time": "2021-11-18T13:44:13.070Z"
   },
   {
    "duration": 9,
    "start_time": "2021-11-18T13:44:13.115Z"
   },
   {
    "duration": 18,
    "start_time": "2021-11-18T13:44:13.126Z"
   },
   {
    "duration": 26,
    "start_time": "2021-11-18T13:44:13.147Z"
   },
   {
    "duration": 4,
    "start_time": "2021-11-18T13:44:13.174Z"
   },
   {
    "duration": 17,
    "start_time": "2021-11-18T13:44:13.179Z"
   },
   {
    "duration": 13,
    "start_time": "2021-11-18T13:44:13.197Z"
   },
   {
    "duration": 6,
    "start_time": "2021-11-18T13:45:54.939Z"
   },
   {
    "duration": 491,
    "start_time": "2021-11-18T13:46:29.784Z"
   },
   {
    "duration": 7,
    "start_time": "2021-11-18T13:50:15.954Z"
   },
   {
    "duration": 88,
    "start_time": "2021-11-18T13:50:32.232Z"
   },
   {
    "duration": 6,
    "start_time": "2021-11-18T13:50:50.135Z"
   },
   {
    "duration": 6,
    "start_time": "2021-11-18T13:51:07.927Z"
   },
   {
    "duration": 6,
    "start_time": "2021-11-18T13:51:26.522Z"
   },
   {
    "duration": 9,
    "start_time": "2021-11-18T13:52:27.390Z"
   },
   {
    "duration": 87,
    "start_time": "2021-11-18T13:54:04.593Z"
   },
   {
    "duration": 102,
    "start_time": "2021-11-18T13:55:42.694Z"
   },
   {
    "duration": 278,
    "start_time": "2021-11-18T13:55:54.120Z"
   },
   {
    "duration": 461,
    "start_time": "2021-11-18T14:06:50.585Z"
   },
   {
    "duration": 5145,
    "start_time": "2021-11-18T14:07:05.373Z"
   },
   {
    "duration": 5048,
    "start_time": "2021-11-18T14:09:32.222Z"
   },
   {
    "duration": 5046,
    "start_time": "2021-11-18T14:15:14.129Z"
   },
   {
    "duration": 4953,
    "start_time": "2021-11-18T14:15:52.655Z"
   },
   {
    "duration": 6681,
    "start_time": "2021-11-18T14:16:31.460Z"
   },
   {
    "duration": 7176,
    "start_time": "2021-11-18T14:16:59.545Z"
   },
   {
    "duration": 8,
    "start_time": "2021-11-18T14:18:29.070Z"
   },
   {
    "duration": 11,
    "start_time": "2021-11-18T14:19:14.121Z"
   },
   {
    "duration": 564,
    "start_time": "2021-11-18T14:19:41.472Z"
   },
   {
    "duration": 67,
    "start_time": "2021-11-18T14:19:42.038Z"
   },
   {
    "duration": 11,
    "start_time": "2021-11-18T14:19:42.107Z"
   },
   {
    "duration": 8,
    "start_time": "2021-11-18T14:19:42.120Z"
   },
   {
    "duration": 15,
    "start_time": "2021-11-18T14:19:42.130Z"
   },
   {
    "duration": 11,
    "start_time": "2021-11-18T14:19:42.146Z"
   },
   {
    "duration": 5,
    "start_time": "2021-11-18T14:19:42.158Z"
   },
   {
    "duration": 21,
    "start_time": "2021-11-18T14:19:42.165Z"
   },
   {
    "duration": 30,
    "start_time": "2021-11-18T14:19:42.188Z"
   },
   {
    "duration": 24,
    "start_time": "2021-11-18T14:19:42.220Z"
   },
   {
    "duration": 4872,
    "start_time": "2021-11-18T14:19:42.246Z"
   },
   {
    "duration": 33,
    "start_time": "2021-11-18T14:19:47.120Z"
   },
   {
    "duration": 17,
    "start_time": "2021-11-18T14:19:47.156Z"
   },
   {
    "duration": 34,
    "start_time": "2021-11-18T14:19:47.176Z"
   },
   {
    "duration": 59,
    "start_time": "2021-11-18T14:19:47.212Z"
   },
   {
    "duration": 32,
    "start_time": "2021-11-18T14:19:47.273Z"
   },
   {
    "duration": 4,
    "start_time": "2021-11-18T14:19:47.307Z"
   },
   {
    "duration": 7,
    "start_time": "2021-11-18T14:19:47.312Z"
   },
   {
    "duration": 5,
    "start_time": "2021-11-18T14:19:47.321Z"
   },
   {
    "duration": 18,
    "start_time": "2021-11-18T14:19:47.345Z"
   },
   {
    "duration": 3394,
    "start_time": "2021-11-18T14:19:47.364Z"
   },
   {
    "duration": 26,
    "start_time": "2021-11-18T14:19:50.760Z"
   },
   {
    "duration": 15,
    "start_time": "2021-11-18T14:19:50.789Z"
   },
   {
    "duration": 4,
    "start_time": "2021-11-18T14:19:50.806Z"
   },
   {
    "duration": 36,
    "start_time": "2021-11-18T14:19:50.812Z"
   },
   {
    "duration": 3,
    "start_time": "2021-11-18T14:19:50.850Z"
   },
   {
    "duration": 12,
    "start_time": "2021-11-18T14:19:50.855Z"
   },
   {
    "duration": 7,
    "start_time": "2021-11-18T14:19:50.869Z"
   },
   {
    "duration": 15,
    "start_time": "2021-11-18T14:20:26.195Z"
   },
   {
    "duration": 5143,
    "start_time": "2021-11-18T14:27:41.732Z"
   },
   {
    "duration": 1032,
    "start_time": "2021-11-19T08:13:00.854Z"
   },
   {
    "duration": 129,
    "start_time": "2021-11-19T08:13:01.889Z"
   },
   {
    "duration": 16,
    "start_time": "2021-11-19T08:13:02.021Z"
   },
   {
    "duration": 13,
    "start_time": "2021-11-19T08:13:02.039Z"
   },
   {
    "duration": 27,
    "start_time": "2021-11-19T08:13:02.055Z"
   },
   {
    "duration": 17,
    "start_time": "2021-11-19T08:13:02.085Z"
   },
   {
    "duration": 14,
    "start_time": "2021-11-19T08:13:02.105Z"
   },
   {
    "duration": 28,
    "start_time": "2021-11-19T08:13:02.124Z"
   },
   {
    "duration": 67,
    "start_time": "2021-11-19T08:13:02.156Z"
   },
   {
    "duration": 4,
    "start_time": "2021-11-19T08:13:02.226Z"
   },
   {
    "duration": 9612,
    "start_time": "2021-11-19T08:13:02.232Z"
   },
   {
    "duration": 46,
    "start_time": "2021-11-19T08:13:11.847Z"
   },
   {
    "duration": 28,
    "start_time": "2021-11-19T08:13:11.896Z"
   },
   {
    "duration": 62,
    "start_time": "2021-11-19T08:13:11.927Z"
   },
   {
    "duration": 40,
    "start_time": "2021-11-19T08:13:11.991Z"
   },
   {
    "duration": 51,
    "start_time": "2021-11-19T08:13:12.034Z"
   },
   {
    "duration": 6,
    "start_time": "2021-11-19T08:13:12.087Z"
   },
   {
    "duration": 30,
    "start_time": "2021-11-19T08:13:12.095Z"
   },
   {
    "duration": 10,
    "start_time": "2021-11-19T08:13:12.128Z"
   },
   {
    "duration": 44,
    "start_time": "2021-11-19T08:13:12.141Z"
   },
   {
    "duration": 4761,
    "start_time": "2021-11-19T08:13:12.189Z"
   },
   {
    "duration": 57,
    "start_time": "2021-11-19T08:13:16.954Z"
   },
   {
    "duration": 7,
    "start_time": "2021-11-19T08:13:17.018Z"
   },
   {
    "duration": 4,
    "start_time": "2021-11-19T08:13:17.027Z"
   },
   {
    "duration": 72,
    "start_time": "2021-11-19T08:13:17.033Z"
   },
   {
    "duration": 5,
    "start_time": "2021-11-19T08:13:17.107Z"
   },
   {
    "duration": 5768,
    "start_time": "2021-11-19T08:13:17.114Z"
   },
   {
    "duration": 2124,
    "start_time": "2021-11-19T08:13:20.761Z"
   },
   {
    "duration": 2111,
    "start_time": "2021-11-19T08:13:20.775Z"
   },
   {
    "duration": 16,
    "start_time": "2021-11-19T08:19:33.259Z"
   },
   {
    "duration": 25,
    "start_time": "2021-11-19T08:20:05.014Z"
   },
   {
    "duration": 8,
    "start_time": "2021-11-19T08:20:23.196Z"
   },
   {
    "duration": 9,
    "start_time": "2021-11-19T08:20:36.600Z"
   },
   {
    "duration": 17,
    "start_time": "2021-11-19T08:20:45.436Z"
   },
   {
    "duration": 11,
    "start_time": "2021-11-19T08:21:32.106Z"
   },
   {
    "duration": 387,
    "start_time": "2021-11-19T08:22:23.995Z"
   },
   {
    "duration": 5963,
    "start_time": "2021-11-19T08:23:07.831Z"
   },
   {
    "duration": 6224,
    "start_time": "2021-11-19T08:23:33.612Z"
   },
   {
    "duration": 6,
    "start_time": "2021-11-19T08:24:22.300Z"
   },
   {
    "duration": 29,
    "start_time": "2021-11-19T08:26:34.537Z"
   },
   {
    "duration": 381,
    "start_time": "2021-11-19T08:37:56.353Z"
   },
   {
    "duration": 113,
    "start_time": "2021-11-19T08:38:09.097Z"
   },
   {
    "duration": 29,
    "start_time": "2021-11-19T08:38:15.775Z"
   },
   {
    "duration": 6147,
    "start_time": "2021-11-19T08:40:56.531Z"
   },
   {
    "duration": 8060,
    "start_time": "2021-11-19T08:41:44.798Z"
   },
   {
    "duration": 1286,
    "start_time": "2021-11-19T08:42:08.092Z"
   },
   {
    "duration": 8,
    "start_time": "2021-11-19T08:43:04.871Z"
   },
   {
    "duration": 9,
    "start_time": "2021-11-19T08:43:28.681Z"
   },
   {
    "duration": 15,
    "start_time": "2021-11-19T08:43:46.880Z"
   },
   {
    "duration": 22,
    "start_time": "2021-11-19T08:44:06.099Z"
   },
   {
    "duration": 10,
    "start_time": "2021-11-19T08:45:16.674Z"
   },
   {
    "duration": 7,
    "start_time": "2021-11-19T08:45:26.059Z"
   },
   {
    "duration": 20,
    "start_time": "2021-11-19T08:45:37.769Z"
   },
   {
    "duration": 781,
    "start_time": "2021-11-19T08:45:53.786Z"
   },
   {
    "duration": 90,
    "start_time": "2021-11-19T08:45:54.570Z"
   },
   {
    "duration": 25,
    "start_time": "2021-11-19T08:45:54.663Z"
   },
   {
    "duration": 13,
    "start_time": "2021-11-19T08:45:54.691Z"
   },
   {
    "duration": 6,
    "start_time": "2021-11-19T08:45:54.706Z"
   },
   {
    "duration": 24,
    "start_time": "2021-11-19T08:45:54.715Z"
   },
   {
    "duration": 6,
    "start_time": "2021-11-19T08:45:54.742Z"
   },
   {
    "duration": 28,
    "start_time": "2021-11-19T08:45:54.785Z"
   },
   {
    "duration": 66,
    "start_time": "2021-11-19T08:45:54.816Z"
   },
   {
    "duration": 4,
    "start_time": "2021-11-19T08:45:54.885Z"
   },
   {
    "duration": 9708,
    "start_time": "2021-11-19T08:45:54.891Z"
   },
   {
    "duration": 29,
    "start_time": "2021-11-19T08:46:04.601Z"
   },
   {
    "duration": 21,
    "start_time": "2021-11-19T08:46:04.632Z"
   },
   {
    "duration": 36,
    "start_time": "2021-11-19T08:46:04.683Z"
   },
   {
    "duration": 61,
    "start_time": "2021-11-19T08:46:04.721Z"
   },
   {
    "duration": 54,
    "start_time": "2021-11-19T08:46:04.785Z"
   },
   {
    "duration": 7,
    "start_time": "2021-11-19T08:46:04.842Z"
   },
   {
    "duration": 36,
    "start_time": "2021-11-19T08:46:04.852Z"
   },
   {
    "duration": 15,
    "start_time": "2021-11-19T08:46:04.891Z"
   },
   {
    "duration": 39,
    "start_time": "2021-11-19T08:46:04.909Z"
   },
   {
    "duration": 5393,
    "start_time": "2021-11-19T08:46:04.951Z"
   },
   {
    "duration": 56,
    "start_time": "2021-11-19T08:46:10.347Z"
   },
   {
    "duration": 16,
    "start_time": "2021-11-19T08:46:10.409Z"
   },
   {
    "duration": 3,
    "start_time": "2021-11-19T08:46:10.428Z"
   },
   {
    "duration": 64,
    "start_time": "2021-11-19T08:46:10.434Z"
   },
   {
    "duration": 5,
    "start_time": "2021-11-19T08:46:10.501Z"
   },
   {
    "duration": 9,
    "start_time": "2021-11-19T08:46:10.508Z"
   },
   {
    "duration": 24,
    "start_time": "2021-11-19T08:46:10.519Z"
   },
   {
    "duration": 51,
    "start_time": "2021-11-19T08:46:10.545Z"
   },
   {
    "duration": 19,
    "start_time": "2021-11-19T08:51:21.668Z"
   },
   {
    "duration": 449,
    "start_time": "2021-11-19T08:55:49.191Z"
   },
   {
    "duration": 30,
    "start_time": "2021-11-19T08:56:23.998Z"
   },
   {
    "duration": 7,
    "start_time": "2021-11-19T08:58:24.436Z"
   },
   {
    "duration": 114,
    "start_time": "2021-11-19T09:01:56.784Z"
   },
   {
    "duration": 6819,
    "start_time": "2021-11-19T09:02:03.354Z"
   },
   {
    "duration": 6,
    "start_time": "2021-11-19T09:02:27.562Z"
   },
   {
    "duration": 6,
    "start_time": "2021-11-19T09:04:17.268Z"
   },
   {
    "duration": 4,
    "start_time": "2021-11-19T09:06:20.952Z"
   },
   {
    "duration": 5,
    "start_time": "2021-11-19T09:06:31.024Z"
   },
   {
    "duration": 5,
    "start_time": "2021-11-19T09:07:08.655Z"
   },
   {
    "duration": 7,
    "start_time": "2021-11-19T09:08:36.264Z"
   },
   {
    "duration": 16,
    "start_time": "2021-11-19T09:10:56.819Z"
   },
   {
    "duration": 135,
    "start_time": "2021-11-19T09:11:30.456Z"
   },
   {
    "duration": 118,
    "start_time": "2021-11-19T09:11:40.002Z"
   },
   {
    "duration": 11,
    "start_time": "2021-11-19T09:11:45.797Z"
   },
   {
    "duration": 21,
    "start_time": "2021-11-19T09:45:58.462Z"
   },
   {
    "duration": 29,
    "start_time": "2021-11-19T09:46:21.788Z"
   },
   {
    "duration": 7,
    "start_time": "2021-11-19T09:49:56.854Z"
   },
   {
    "duration": 9,
    "start_time": "2021-11-19T09:50:11.900Z"
   },
   {
    "duration": 97,
    "start_time": "2021-11-19T09:50:35.922Z"
   },
   {
    "duration": 123,
    "start_time": "2021-11-19T09:52:37.817Z"
   },
   {
    "duration": 105,
    "start_time": "2021-11-19T09:53:01.975Z"
   },
   {
    "duration": 107,
    "start_time": "2021-11-19T09:53:08.924Z"
   },
   {
    "duration": 2207,
    "start_time": "2021-11-19T09:53:30.586Z"
   },
   {
    "duration": 306,
    "start_time": "2021-11-19T09:55:10.596Z"
   },
   {
    "duration": 342,
    "start_time": "2021-11-19T09:55:23.118Z"
   },
   {
    "duration": 340,
    "start_time": "2021-11-19T09:55:32.789Z"
   },
   {
    "duration": 7,
    "start_time": "2021-11-19T09:56:17.444Z"
   },
   {
    "duration": 9,
    "start_time": "2021-11-19T09:56:40.726Z"
   },
   {
    "duration": 619,
    "start_time": "2021-11-19T09:57:55.669Z"
   },
   {
    "duration": 45,
    "start_time": "2021-11-19T09:58:24.141Z"
   },
   {
    "duration": 40,
    "start_time": "2021-11-19T10:00:04.633Z"
   },
   {
    "duration": 610,
    "start_time": "2021-11-19T10:00:33.032Z"
   },
   {
    "duration": 104,
    "start_time": "2021-11-19T10:01:04.516Z"
   },
   {
    "duration": 6,
    "start_time": "2021-11-19T10:01:13.724Z"
   },
   {
    "duration": 9480,
    "start_time": "2021-11-19T10:02:56.323Z"
   },
   {
    "duration": 8679,
    "start_time": "2021-11-19T10:04:14.326Z"
   },
   {
    "duration": 10609,
    "start_time": "2021-11-19T10:04:25.743Z"
   },
   {
    "duration": 618,
    "start_time": "2021-11-19T12:21:25.975Z"
   },
   {
    "duration": 67,
    "start_time": "2021-11-19T12:21:26.595Z"
   },
   {
    "duration": 10,
    "start_time": "2021-11-19T12:21:26.664Z"
   },
   {
    "duration": 22,
    "start_time": "2021-11-19T12:21:26.676Z"
   },
   {
    "duration": 5,
    "start_time": "2021-11-19T12:21:26.700Z"
   },
   {
    "duration": 14,
    "start_time": "2021-11-19T12:21:26.706Z"
   },
   {
    "duration": 8,
    "start_time": "2021-11-19T12:21:26.722Z"
   },
   {
    "duration": 18,
    "start_time": "2021-11-19T12:21:26.732Z"
   },
   {
    "duration": 55,
    "start_time": "2021-11-19T12:21:26.752Z"
   },
   {
    "duration": 3,
    "start_time": "2021-11-19T12:21:26.808Z"
   },
   {
    "duration": 5040,
    "start_time": "2021-11-19T12:21:26.814Z"
   },
   {
    "duration": 19,
    "start_time": "2021-11-19T12:21:31.856Z"
   },
   {
    "duration": 21,
    "start_time": "2021-11-19T12:21:31.892Z"
   },
   {
    "duration": 48,
    "start_time": "2021-11-19T12:21:31.915Z"
   },
   {
    "duration": 61,
    "start_time": "2021-11-19T12:21:31.965Z"
   },
   {
    "duration": 35,
    "start_time": "2021-11-19T12:21:32.027Z"
   },
   {
    "duration": 29,
    "start_time": "2021-11-19T12:21:32.063Z"
   },
   {
    "duration": 79,
    "start_time": "2021-11-19T12:21:32.094Z"
   },
   {
    "duration": 78,
    "start_time": "2021-11-19T12:21:32.174Z"
   },
   {
    "duration": 60,
    "start_time": "2021-11-19T12:21:32.254Z"
   },
   {
    "duration": 3829,
    "start_time": "2021-11-19T12:21:32.316Z"
   },
   {
    "duration": 26,
    "start_time": "2021-11-19T12:21:36.147Z"
   },
   {
    "duration": 32,
    "start_time": "2021-11-19T12:21:36.176Z"
   },
   {
    "duration": 38,
    "start_time": "2021-11-19T12:21:36.211Z"
   },
   {
    "duration": 55,
    "start_time": "2021-11-19T12:21:36.251Z"
   },
   {
    "duration": 24,
    "start_time": "2021-11-19T12:21:36.311Z"
   },
   {
    "duration": 51,
    "start_time": "2021-11-19T12:21:36.337Z"
   },
   {
    "duration": 94,
    "start_time": "2021-11-19T12:21:36.390Z"
   },
   {
    "duration": 4800,
    "start_time": "2021-11-19T12:21:36.486Z"
   },
   {
    "duration": 21,
    "start_time": "2021-11-19T12:23:02.519Z"
   },
   {
    "duration": 4381,
    "start_time": "2021-11-19T12:23:14.275Z"
   },
   {
    "duration": 192,
    "start_time": "2021-11-19T12:23:46.081Z"
   },
   {
    "duration": 19,
    "start_time": "2021-11-19T12:24:01.162Z"
   },
   {
    "duration": 4512,
    "start_time": "2021-11-19T12:24:08.557Z"
   },
   {
    "duration": 18,
    "start_time": "2021-11-19T12:25:29.950Z"
   },
   {
    "duration": 3,
    "start_time": "2021-11-19T12:25:34.721Z"
   },
   {
    "duration": 23,
    "start_time": "2021-11-19T12:26:22.406Z"
   },
   {
    "duration": 181,
    "start_time": "2021-11-19T12:27:50.050Z"
   },
   {
    "duration": 26,
    "start_time": "2021-11-19T12:27:57.013Z"
   },
   {
    "duration": 17,
    "start_time": "2021-11-19T12:28:52.944Z"
   },
   {
    "duration": 5,
    "start_time": "2021-11-19T12:29:03.813Z"
   },
   {
    "duration": 3,
    "start_time": "2021-11-19T12:29:54.680Z"
   },
   {
    "duration": 3,
    "start_time": "2021-11-19T12:30:13.287Z"
   },
   {
    "duration": 4,
    "start_time": "2021-11-19T12:31:06.809Z"
   },
   {
    "duration": 4,
    "start_time": "2021-11-19T12:31:37.840Z"
   },
   {
    "duration": 4,
    "start_time": "2021-11-19T12:32:01.961Z"
   },
   {
    "duration": 6,
    "start_time": "2021-11-19T12:32:37.320Z"
   },
   {
    "duration": 8,
    "start_time": "2021-11-19T12:33:09.248Z"
   },
   {
    "duration": 5,
    "start_time": "2021-11-19T12:33:40.179Z"
   },
   {
    "duration": 504,
    "start_time": "2021-11-19T12:34:08.811Z"
   },
   {
    "duration": 27,
    "start_time": "2021-11-19T12:34:44.272Z"
   },
   {
    "duration": 25,
    "start_time": "2021-11-19T12:35:09.099Z"
   },
   {
    "duration": 23,
    "start_time": "2021-11-19T12:35:44.083Z"
   },
   {
    "duration": 5,
    "start_time": "2021-11-19T12:41:52.744Z"
   },
   {
    "duration": 5,
    "start_time": "2021-11-19T12:42:52.767Z"
   },
   {
    "duration": 4,
    "start_time": "2021-11-19T12:43:51.884Z"
   },
   {
    "duration": 378,
    "start_time": "2021-11-19T12:46:38.040Z"
   },
   {
    "duration": 61,
    "start_time": "2021-11-19T12:46:50.771Z"
   },
   {
    "duration": 61,
    "start_time": "2021-11-19T12:47:12.120Z"
   },
   {
    "duration": 216,
    "start_time": "2021-11-19T12:47:53.535Z"
   },
   {
    "duration": 10,
    "start_time": "2021-11-19T12:48:03.181Z"
   },
   {
    "duration": 408,
    "start_time": "2021-11-19T12:48:23.645Z"
   },
   {
    "duration": 8,
    "start_time": "2021-11-19T12:48:39.660Z"
   },
   {
    "duration": 6,
    "start_time": "2021-11-19T12:51:07.711Z"
   },
   {
    "duration": 8,
    "start_time": "2021-11-19T12:52:24.397Z"
   },
   {
    "duration": 7,
    "start_time": "2021-11-19T12:55:07.504Z"
   },
   {
    "duration": 19,
    "start_time": "2021-11-19T13:08:06.784Z"
   },
   {
    "duration": 18,
    "start_time": "2021-11-19T13:08:28.833Z"
   },
   {
    "duration": 7,
    "start_time": "2021-11-19T13:12:06.216Z"
   },
   {
    "duration": 7,
    "start_time": "2021-11-19T13:13:40.522Z"
   },
   {
    "duration": 4742,
    "start_time": "2021-11-19T13:14:30.076Z"
   },
   {
    "duration": 6449,
    "start_time": "2021-11-19T13:14:55.571Z"
   },
   {
    "duration": 91,
    "start_time": "2021-11-19T13:17:01.960Z"
   },
   {
    "duration": 661,
    "start_time": "2021-11-20T08:55:17.675Z"
   },
   {
    "duration": 68,
    "start_time": "2021-11-20T08:55:18.338Z"
   },
   {
    "duration": 12,
    "start_time": "2021-11-20T08:55:18.408Z"
   },
   {
    "duration": 10,
    "start_time": "2021-11-20T08:55:18.422Z"
   },
   {
    "duration": 3,
    "start_time": "2021-11-20T08:55:18.434Z"
   },
   {
    "duration": 16,
    "start_time": "2021-11-20T08:55:18.439Z"
   },
   {
    "duration": 5,
    "start_time": "2021-11-20T08:55:18.456Z"
   },
   {
    "duration": 49,
    "start_time": "2021-11-20T08:55:18.463Z"
   },
   {
    "duration": 34,
    "start_time": "2021-11-20T08:55:18.515Z"
   },
   {
    "duration": 3,
    "start_time": "2021-11-20T08:55:18.551Z"
   },
   {
    "duration": 4970,
    "start_time": "2021-11-20T08:55:18.556Z"
   },
   {
    "duration": 20,
    "start_time": "2021-11-20T08:55:23.527Z"
   },
   {
    "duration": 15,
    "start_time": "2021-11-20T08:55:23.548Z"
   },
   {
    "duration": 50,
    "start_time": "2021-11-20T08:55:23.565Z"
   },
   {
    "duration": 26,
    "start_time": "2021-11-20T08:55:23.617Z"
   },
   {
    "duration": 23,
    "start_time": "2021-11-20T08:55:23.644Z"
   },
   {
    "duration": 4,
    "start_time": "2021-11-20T08:55:23.669Z"
   },
   {
    "duration": 33,
    "start_time": "2021-11-20T08:55:23.675Z"
   },
   {
    "duration": 4,
    "start_time": "2021-11-20T08:55:23.710Z"
   },
   {
    "duration": 23,
    "start_time": "2021-11-20T08:55:23.716Z"
   },
   {
    "duration": 3544,
    "start_time": "2021-11-20T08:55:23.741Z"
   },
   {
    "duration": 38,
    "start_time": "2021-11-20T08:55:27.287Z"
   },
   {
    "duration": 6,
    "start_time": "2021-11-20T08:55:27.327Z"
   },
   {
    "duration": 4,
    "start_time": "2021-11-20T08:55:27.335Z"
   },
   {
    "duration": 8,
    "start_time": "2021-11-20T08:55:27.341Z"
   },
   {
    "duration": 8369,
    "start_time": "2021-11-20T08:55:27.351Z"
   },
   {
    "duration": 1322,
    "start_time": "2021-11-20T08:55:34.401Z"
   },
   {
    "duration": 1261,
    "start_time": "2021-11-20T08:55:34.463Z"
   },
   {
    "duration": 1248,
    "start_time": "2021-11-20T08:55:34.477Z"
   },
   {
    "duration": 1222,
    "start_time": "2021-11-20T08:55:34.504Z"
   },
   {
    "duration": 1201,
    "start_time": "2021-11-20T08:55:34.526Z"
   },
   {
    "duration": 1161,
    "start_time": "2021-11-20T08:55:34.567Z"
   },
   {
    "duration": 1146,
    "start_time": "2021-11-20T08:55:34.583Z"
   },
   {
    "duration": 1133,
    "start_time": "2021-11-20T08:55:34.597Z"
   },
   {
    "duration": 1838,
    "start_time": "2021-11-20T08:57:34.292Z"
   },
   {
    "duration": 1391,
    "start_time": "2021-11-20T08:59:34.076Z"
   },
   {
    "duration": 361,
    "start_time": "2021-11-20T09:02:03.933Z"
   },
   {
    "duration": 4,
    "start_time": "2021-11-20T09:02:35.528Z"
   },
   {
    "duration": 753,
    "start_time": "2021-11-20T09:02:37.228Z"
   },
   {
    "duration": 4,
    "start_time": "2021-11-20T09:02:57.701Z"
   },
   {
    "duration": 677,
    "start_time": "2021-11-20T09:03:07.757Z"
   },
   {
    "duration": 4,
    "start_time": "2021-11-20T09:03:59.347Z"
   },
   {
    "duration": 1129,
    "start_time": "2021-11-20T09:04:02.296Z"
   },
   {
    "duration": 4,
    "start_time": "2021-11-20T09:12:40.094Z"
   },
   {
    "duration": 1207,
    "start_time": "2021-11-20T09:12:42.547Z"
   },
   {
    "duration": 3,
    "start_time": "2021-11-20T09:13:13.137Z"
   },
   {
    "duration": 18,
    "start_time": "2021-11-20T09:13:37.912Z"
   },
   {
    "duration": 14,
    "start_time": "2021-11-20T09:13:44.869Z"
   },
   {
    "duration": 14,
    "start_time": "2021-11-20T09:14:11.985Z"
   },
   {
    "duration": 7,
    "start_time": "2021-11-20T09:14:28.987Z"
   },
   {
    "duration": 3,
    "start_time": "2021-11-20T09:14:49.841Z"
   },
   {
    "duration": 14,
    "start_time": "2021-11-20T09:14:52.293Z"
   },
   {
    "duration": 234,
    "start_time": "2021-11-20T09:15:01.249Z"
   },
   {
    "duration": 240,
    "start_time": "2021-11-20T09:15:25.369Z"
   },
   {
    "duration": 21,
    "start_time": "2021-11-20T09:21:02.224Z"
   },
   {
    "duration": 9480,
    "start_time": "2021-11-20T09:21:28.470Z"
   },
   {
    "duration": 627,
    "start_time": "2021-11-20T13:39:06.408Z"
   },
   {
    "duration": 71,
    "start_time": "2021-11-20T13:39:07.038Z"
   },
   {
    "duration": 12,
    "start_time": "2021-11-20T13:39:07.111Z"
   },
   {
    "duration": 10,
    "start_time": "2021-11-20T13:39:07.126Z"
   },
   {
    "duration": 4,
    "start_time": "2021-11-20T13:39:07.138Z"
   },
   {
    "duration": 32,
    "start_time": "2021-11-20T13:39:07.143Z"
   },
   {
    "duration": 5,
    "start_time": "2021-11-20T13:39:07.177Z"
   },
   {
    "duration": 24,
    "start_time": "2021-11-20T13:39:07.185Z"
   },
   {
    "duration": 56,
    "start_time": "2021-11-20T13:39:07.212Z"
   },
   {
    "duration": 3,
    "start_time": "2021-11-20T13:39:07.270Z"
   },
   {
    "duration": 5089,
    "start_time": "2021-11-20T13:39:07.275Z"
   },
   {
    "duration": 19,
    "start_time": "2021-11-20T13:39:12.366Z"
   },
   {
    "duration": 20,
    "start_time": "2021-11-20T13:39:12.387Z"
   },
   {
    "duration": 28,
    "start_time": "2021-11-20T13:39:12.409Z"
   },
   {
    "duration": 52,
    "start_time": "2021-11-20T13:39:12.438Z"
   },
   {
    "duration": 26,
    "start_time": "2021-11-20T13:39:12.491Z"
   },
   {
    "duration": 6,
    "start_time": "2021-11-20T13:39:12.519Z"
   },
   {
    "duration": 38,
    "start_time": "2021-11-20T13:39:12.527Z"
   },
   {
    "duration": 6,
    "start_time": "2021-11-20T13:39:12.567Z"
   },
   {
    "duration": 27,
    "start_time": "2021-11-20T13:39:12.575Z"
   },
   {
    "duration": 4242,
    "start_time": "2021-11-20T13:39:12.604Z"
   },
   {
    "duration": 40,
    "start_time": "2021-11-20T13:39:16.848Z"
   },
   {
    "duration": 17,
    "start_time": "2021-11-20T13:39:16.891Z"
   },
   {
    "duration": 10,
    "start_time": "2021-11-20T13:39:16.911Z"
   },
   {
    "duration": 45,
    "start_time": "2021-11-20T13:39:16.924Z"
   },
   {
    "duration": 1685,
    "start_time": "2021-11-20T13:39:16.972Z"
   },
   {
    "duration": 2481,
    "start_time": "2021-11-20T13:39:16.178Z"
   },
   {
    "duration": 2470,
    "start_time": "2021-11-20T13:39:16.191Z"
   },
   {
    "duration": 2461,
    "start_time": "2021-11-20T13:39:16.202Z"
   },
   {
    "duration": 2454,
    "start_time": "2021-11-20T13:39:16.210Z"
   },
   {
    "duration": 2446,
    "start_time": "2021-11-20T13:39:16.220Z"
   },
   {
    "duration": 2435,
    "start_time": "2021-11-20T13:39:16.232Z"
   },
   {
    "duration": 2419,
    "start_time": "2021-11-20T13:39:16.249Z"
   },
   {
    "duration": 2361,
    "start_time": "2021-11-20T13:39:16.309Z"
   },
   {
    "duration": 24,
    "start_time": "2021-11-20T13:40:15.409Z"
   },
   {
    "duration": 65,
    "start_time": "2021-11-20T13:40:17.306Z"
   },
   {
    "duration": 11,
    "start_time": "2021-11-20T13:40:25.046Z"
   },
   {
    "duration": 11,
    "start_time": "2021-11-20T13:40:35.316Z"
   },
   {
    "duration": 11,
    "start_time": "2021-11-20T13:40:41.688Z"
   },
   {
    "duration": 4,
    "start_time": "2021-11-20T13:40:43.851Z"
   },
   {
    "duration": 644,
    "start_time": "2021-11-20T13:41:01.842Z"
   },
   {
    "duration": 71,
    "start_time": "2021-11-20T13:41:02.488Z"
   },
   {
    "duration": 12,
    "start_time": "2021-11-20T13:41:02.561Z"
   },
   {
    "duration": 31,
    "start_time": "2021-11-20T13:41:02.575Z"
   },
   {
    "duration": 4,
    "start_time": "2021-11-20T13:41:02.609Z"
   },
   {
    "duration": 18,
    "start_time": "2021-11-20T13:41:02.615Z"
   },
   {
    "duration": 12,
    "start_time": "2021-11-20T13:41:02.635Z"
   },
   {
    "duration": 24,
    "start_time": "2021-11-20T13:41:02.648Z"
   },
   {
    "duration": 35,
    "start_time": "2021-11-20T13:41:02.674Z"
   },
   {
    "duration": 3,
    "start_time": "2021-11-20T13:41:02.711Z"
   },
   {
    "duration": 4937,
    "start_time": "2021-11-20T13:41:02.715Z"
   },
   {
    "duration": 26,
    "start_time": "2021-11-20T13:41:07.655Z"
   },
   {
    "duration": 17,
    "start_time": "2021-11-20T13:41:07.683Z"
   },
   {
    "duration": 27,
    "start_time": "2021-11-20T13:41:07.702Z"
   },
   {
    "duration": 57,
    "start_time": "2021-11-20T13:41:07.731Z"
   },
   {
    "duration": 26,
    "start_time": "2021-11-20T13:41:07.790Z"
   },
   {
    "duration": 5,
    "start_time": "2021-11-20T13:41:07.819Z"
   },
   {
    "duration": 7,
    "start_time": "2021-11-20T13:41:07.825Z"
   },
   {
    "duration": 32,
    "start_time": "2021-11-20T13:41:07.834Z"
   },
   {
    "duration": 18,
    "start_time": "2021-11-20T13:41:07.868Z"
   },
   {
    "duration": 3864,
    "start_time": "2021-11-20T13:41:07.887Z"
   },
   {
    "duration": 38,
    "start_time": "2021-11-20T13:41:11.753Z"
   },
   {
    "duration": 7,
    "start_time": "2021-11-20T13:41:11.793Z"
   },
   {
    "duration": 3,
    "start_time": "2021-11-20T13:41:11.802Z"
   },
   {
    "duration": 21,
    "start_time": "2021-11-20T13:41:11.807Z"
   },
   {
    "duration": 1017,
    "start_time": "2021-11-20T13:41:11.830Z"
   },
   {
    "duration": 2414,
    "start_time": "2021-11-20T13:41:10.436Z"
   },
   {
    "duration": 2404,
    "start_time": "2021-11-20T13:41:10.448Z"
   },
   {
    "duration": 2396,
    "start_time": "2021-11-20T13:41:10.458Z"
   },
   {
    "duration": 2385,
    "start_time": "2021-11-20T13:41:10.470Z"
   },
   {
    "duration": 2379,
    "start_time": "2021-11-20T13:41:10.478Z"
   },
   {
    "duration": 2375,
    "start_time": "2021-11-20T13:41:10.484Z"
   },
   {
    "duration": 2368,
    "start_time": "2021-11-20T13:41:10.491Z"
   },
   {
    "duration": 2364,
    "start_time": "2021-11-20T13:41:10.497Z"
   },
   {
    "duration": 7,
    "start_time": "2021-11-20T13:42:25.426Z"
   },
   {
    "duration": 12,
    "start_time": "2021-11-20T13:42:26.461Z"
   },
   {
    "duration": 4,
    "start_time": "2021-11-20T13:42:27.672Z"
   },
   {
    "duration": 17,
    "start_time": "2021-11-20T13:42:29.894Z"
   },
   {
    "duration": 4,
    "start_time": "2021-11-20T13:43:03.505Z"
   },
   {
    "duration": 23,
    "start_time": "2021-11-20T13:43:06.433Z"
   },
   {
    "duration": 239,
    "start_time": "2021-11-20T13:43:15.011Z"
   },
   {
    "duration": 19,
    "start_time": "2021-11-20T13:43:39.440Z"
   },
   {
    "duration": 10,
    "start_time": "2021-11-20T13:43:41.207Z"
   },
   {
    "duration": 10,
    "start_time": "2021-11-20T13:43:46.219Z"
   },
   {
    "duration": 19,
    "start_time": "2021-11-20T13:43:52.517Z"
   },
   {
    "duration": 9,
    "start_time": "2021-11-20T13:43:55.430Z"
   },
   {
    "duration": 8,
    "start_time": "2021-11-20T13:44:08.223Z"
   },
   {
    "duration": 262,
    "start_time": "2021-11-20T13:44:18.996Z"
   },
   {
    "duration": 21,
    "start_time": "2021-11-20T13:44:37.481Z"
   },
   {
    "duration": 6782,
    "start_time": "2021-11-20T13:45:15.527Z"
   },
   {
    "duration": 7049,
    "start_time": "2021-11-20T13:45:58.271Z"
   },
   {
    "duration": 5,
    "start_time": "2021-11-20T13:54:34.404Z"
   },
   {
    "duration": 12,
    "start_time": "2021-11-20T13:59:59.283Z"
   },
   {
    "duration": 17,
    "start_time": "2021-11-20T14:09:34.076Z"
   },
   {
    "duration": 22,
    "start_time": "2021-11-20T14:09:51.728Z"
   },
   {
    "duration": 5856,
    "start_time": "2021-11-20T14:13:58.500Z"
   },
   {
    "duration": 7,
    "start_time": "2021-11-20T14:14:46.035Z"
   },
   {
    "duration": 85,
    "start_time": "2021-11-20T14:23:54.763Z"
   },
   {
    "duration": 6793,
    "start_time": "2021-11-20T14:34:14.356Z"
   },
   {
    "duration": 20,
    "start_time": "2021-11-20T14:34:50.364Z"
   },
   {
    "duration": 4,
    "start_time": "2021-11-20T14:35:01.452Z"
   },
   {
    "duration": 19,
    "start_time": "2021-11-20T14:35:05.035Z"
   },
   {
    "duration": 37,
    "start_time": "2021-11-20T14:35:07.163Z"
   },
   {
    "duration": 3,
    "start_time": "2021-11-20T14:35:17.129Z"
   },
   {
    "duration": 24,
    "start_time": "2021-11-20T14:36:11.529Z"
   },
   {
    "duration": 637,
    "start_time": "2021-11-20T14:36:20.224Z"
   },
   {
    "duration": 67,
    "start_time": "2021-11-20T14:36:20.862Z"
   },
   {
    "duration": 11,
    "start_time": "2021-11-20T14:36:20.931Z"
   },
   {
    "duration": 19,
    "start_time": "2021-11-20T14:36:20.944Z"
   },
   {
    "duration": 3,
    "start_time": "2021-11-20T14:36:20.965Z"
   },
   {
    "duration": 15,
    "start_time": "2021-11-20T14:36:20.970Z"
   },
   {
    "duration": 6,
    "start_time": "2021-11-20T14:36:20.986Z"
   },
   {
    "duration": 21,
    "start_time": "2021-11-20T14:36:20.995Z"
   },
   {
    "duration": 29,
    "start_time": "2021-11-20T14:36:21.018Z"
   },
   {
    "duration": 3,
    "start_time": "2021-11-20T14:36:21.066Z"
   },
   {
    "duration": 5031,
    "start_time": "2021-11-20T14:36:21.071Z"
   },
   {
    "duration": 21,
    "start_time": "2021-11-20T14:36:26.104Z"
   },
   {
    "duration": 42,
    "start_time": "2021-11-20T14:36:26.127Z"
   },
   {
    "duration": 28,
    "start_time": "2021-11-20T14:36:26.170Z"
   },
   {
    "duration": 30,
    "start_time": "2021-11-20T14:36:26.200Z"
   },
   {
    "duration": 56,
    "start_time": "2021-11-20T14:36:26.233Z"
   },
   {
    "duration": 8,
    "start_time": "2021-11-20T14:36:26.292Z"
   },
   {
    "duration": 7,
    "start_time": "2021-11-20T14:36:26.302Z"
   },
   {
    "duration": 5,
    "start_time": "2021-11-20T14:36:26.311Z"
   },
   {
    "duration": 46,
    "start_time": "2021-11-20T14:36:26.318Z"
   },
   {
    "duration": 4538,
    "start_time": "2021-11-20T14:36:26.367Z"
   },
   {
    "duration": 32,
    "start_time": "2021-11-20T14:36:30.908Z"
   },
   {
    "duration": 14,
    "start_time": "2021-11-20T14:36:30.945Z"
   },
   {
    "duration": 24,
    "start_time": "2021-11-20T14:36:30.960Z"
   },
   {
    "duration": 34,
    "start_time": "2021-11-20T14:36:30.986Z"
   },
   {
    "duration": 1062,
    "start_time": "2021-11-20T14:36:31.022Z"
   },
   {
    "duration": 2387,
    "start_time": "2021-11-20T14:36:29.700Z"
   },
   {
    "duration": 2358,
    "start_time": "2021-11-20T14:36:29.730Z"
   },
   {
    "duration": 2320,
    "start_time": "2021-11-20T14:36:29.769Z"
   },
   {
    "duration": 2310,
    "start_time": "2021-11-20T14:36:29.780Z"
   },
   {
    "duration": 2288,
    "start_time": "2021-11-20T14:36:29.803Z"
   },
   {
    "duration": 2282,
    "start_time": "2021-11-20T14:36:29.811Z"
   },
   {
    "duration": 2273,
    "start_time": "2021-11-20T14:36:29.821Z"
   },
   {
    "duration": 2267,
    "start_time": "2021-11-20T14:36:29.828Z"
   },
   {
    "duration": 2256,
    "start_time": "2021-11-20T14:36:29.839Z"
   },
   {
    "duration": 792,
    "start_time": "2021-11-21T10:32:36.376Z"
   },
   {
    "duration": 88,
    "start_time": "2021-11-21T10:32:37.171Z"
   },
   {
    "duration": 27,
    "start_time": "2021-11-21T10:32:37.262Z"
   },
   {
    "duration": 13,
    "start_time": "2021-11-21T10:32:37.291Z"
   },
   {
    "duration": 5,
    "start_time": "2021-11-21T10:32:37.306Z"
   },
   {
    "duration": 16,
    "start_time": "2021-11-21T10:32:37.314Z"
   },
   {
    "duration": 6,
    "start_time": "2021-11-21T10:32:37.333Z"
   },
   {
    "duration": 63,
    "start_time": "2021-11-21T10:32:37.342Z"
   },
   {
    "duration": 44,
    "start_time": "2021-11-21T10:32:37.409Z"
   },
   {
    "duration": 29,
    "start_time": "2021-11-21T10:32:37.455Z"
   },
   {
    "duration": 9810,
    "start_time": "2021-11-21T10:32:37.486Z"
   },
   {
    "duration": 37,
    "start_time": "2021-11-21T10:32:47.299Z"
   },
   {
    "duration": 60,
    "start_time": "2021-11-21T10:32:47.340Z"
   },
   {
    "duration": 113,
    "start_time": "2021-11-21T10:32:47.403Z"
   },
   {
    "duration": 2348,
    "start_time": "2021-11-21T10:32:45.172Z"
   },
   {
    "duration": 2339,
    "start_time": "2021-11-21T10:32:45.183Z"
   },
   {
    "duration": 2329,
    "start_time": "2021-11-21T10:32:45.194Z"
   },
   {
    "duration": 2322,
    "start_time": "2021-11-21T10:32:45.203Z"
   },
   {
    "duration": 2316,
    "start_time": "2021-11-21T10:32:45.211Z"
   },
   {
    "duration": 2309,
    "start_time": "2021-11-21T10:32:45.219Z"
   },
   {
    "duration": 2302,
    "start_time": "2021-11-21T10:32:45.227Z"
   },
   {
    "duration": 2295,
    "start_time": "2021-11-21T10:32:45.235Z"
   },
   {
    "duration": 2289,
    "start_time": "2021-11-21T10:32:45.242Z"
   },
   {
    "duration": 2283,
    "start_time": "2021-11-21T10:32:45.249Z"
   },
   {
    "duration": 2274,
    "start_time": "2021-11-21T10:32:45.259Z"
   },
   {
    "duration": 2248,
    "start_time": "2021-11-21T10:32:45.285Z"
   },
   {
    "duration": 2242,
    "start_time": "2021-11-21T10:32:45.292Z"
   },
   {
    "duration": 2235,
    "start_time": "2021-11-21T10:32:45.300Z"
   },
   {
    "duration": 2224,
    "start_time": "2021-11-21T10:32:45.312Z"
   },
   {
    "duration": 2215,
    "start_time": "2021-11-21T10:32:45.322Z"
   },
   {
    "duration": 2208,
    "start_time": "2021-11-21T10:32:45.330Z"
   },
   {
    "duration": 2201,
    "start_time": "2021-11-21T10:32:45.338Z"
   },
   {
    "duration": 2194,
    "start_time": "2021-11-21T10:32:45.346Z"
   },
   {
    "duration": 2189,
    "start_time": "2021-11-21T10:32:45.354Z"
   },
   {
    "duration": 2182,
    "start_time": "2021-11-21T10:32:45.363Z"
   },
   {
    "duration": 2175,
    "start_time": "2021-11-21T10:32:45.371Z"
   },
   {
    "duration": 803,
    "start_time": "2021-11-21T12:05:23.849Z"
   },
   {
    "duration": 92,
    "start_time": "2021-11-21T12:05:24.654Z"
   },
   {
    "duration": 16,
    "start_time": "2021-11-21T12:05:24.749Z"
   },
   {
    "duration": 12,
    "start_time": "2021-11-21T12:05:24.781Z"
   },
   {
    "duration": 9,
    "start_time": "2021-11-21T12:05:24.796Z"
   },
   {
    "duration": 19,
    "start_time": "2021-11-21T12:05:24.807Z"
   },
   {
    "duration": 5,
    "start_time": "2021-11-21T12:05:24.829Z"
   },
   {
    "duration": 58,
    "start_time": "2021-11-21T12:05:24.838Z"
   },
   {
    "duration": 44,
    "start_time": "2021-11-21T12:05:24.899Z"
   },
   {
    "duration": 4,
    "start_time": "2021-11-21T12:05:24.946Z"
   },
   {
    "duration": 9729,
    "start_time": "2021-11-21T12:05:24.952Z"
   },
   {
    "duration": 26,
    "start_time": "2021-11-21T12:05:34.684Z"
   },
   {
    "duration": 27,
    "start_time": "2021-11-21T12:05:34.713Z"
   },
   {
    "duration": 70,
    "start_time": "2021-11-21T12:05:34.742Z"
   },
   {
    "duration": 39,
    "start_time": "2021-11-21T12:05:34.815Z"
   },
   {
    "duration": 56,
    "start_time": "2021-11-21T12:05:34.857Z"
   },
   {
    "duration": 8,
    "start_time": "2021-11-21T12:05:34.916Z"
   },
   {
    "duration": 7,
    "start_time": "2021-11-21T12:05:34.927Z"
   },
   {
    "duration": 10,
    "start_time": "2021-11-21T12:05:34.936Z"
   },
   {
    "duration": 27,
    "start_time": "2021-11-21T12:05:34.982Z"
   },
   {
    "duration": 4755,
    "start_time": "2021-11-21T12:05:35.011Z"
   },
   {
    "duration": 58,
    "start_time": "2021-11-21T12:05:39.770Z"
   },
   {
    "duration": 10,
    "start_time": "2021-11-21T12:05:39.835Z"
   },
   {
    "duration": 33,
    "start_time": "2021-11-21T12:05:39.849Z"
   },
   {
    "duration": 39,
    "start_time": "2021-11-21T12:05:39.885Z"
   },
   {
    "duration": 2424,
    "start_time": "2021-11-21T12:05:39.927Z"
   },
   {
    "duration": 3082,
    "start_time": "2021-11-21T12:05:39.272Z"
   },
   {
    "duration": 3072,
    "start_time": "2021-11-21T12:05:39.283Z"
   },
   {
    "duration": 3063,
    "start_time": "2021-11-21T12:05:39.293Z"
   },
   {
    "duration": 3054,
    "start_time": "2021-11-21T12:05:39.303Z"
   },
   {
    "duration": 3046,
    "start_time": "2021-11-21T12:05:39.313Z"
   },
   {
    "duration": 3036,
    "start_time": "2021-11-21T12:05:39.324Z"
   },
   {
    "duration": 3024,
    "start_time": "2021-11-21T12:05:39.337Z"
   },
   {
    "duration": 3016,
    "start_time": "2021-11-21T12:05:39.347Z"
   },
   {
    "duration": 3008,
    "start_time": "2021-11-21T12:05:39.356Z"
   },
   {
    "duration": 2996,
    "start_time": "2021-11-21T12:05:39.369Z"
   },
   {
    "duration": 398,
    "start_time": "2021-11-21T12:07:04.238Z"
   },
   {
    "duration": 27,
    "start_time": "2021-11-21T12:07:15.167Z"
   },
   {
    "duration": 15,
    "start_time": "2021-11-21T12:07:16.192Z"
   },
   {
    "duration": 156,
    "start_time": "2021-11-21T12:07:25.733Z"
   },
   {
    "duration": 105,
    "start_time": "2021-11-21T12:07:45.784Z"
   },
   {
    "duration": 12,
    "start_time": "2021-11-21T12:08:16.960Z"
   },
   {
    "duration": 137,
    "start_time": "2021-11-21T12:08:21.815Z"
   },
   {
    "duration": 123,
    "start_time": "2021-11-21T12:08:31.411Z"
   },
   {
    "duration": 5,
    "start_time": "2021-11-21T12:08:40.176Z"
   },
   {
    "duration": 5,
    "start_time": "2021-11-21T12:08:58.698Z"
   },
   {
    "duration": 311,
    "start_time": "2021-11-21T12:17:03.544Z"
   },
   {
    "duration": 8,
    "start_time": "2021-11-21T12:17:07.233Z"
   },
   {
    "duration": 426,
    "start_time": "2021-11-21T12:17:11.735Z"
   },
   {
    "duration": 341,
    "start_time": "2021-11-21T12:18:13.231Z"
   },
   {
    "duration": 340,
    "start_time": "2021-11-21T12:19:04.010Z"
   },
   {
    "duration": 14,
    "start_time": "2021-11-21T12:21:51.629Z"
   },
   {
    "duration": 461,
    "start_time": "2021-11-21T12:22:15.726Z"
   },
   {
    "duration": 17,
    "start_time": "2021-11-21T12:22:55.907Z"
   },
   {
    "duration": 39,
    "start_time": "2021-11-21T12:26:48.564Z"
   },
   {
    "duration": 11,
    "start_time": "2021-11-21T12:29:16.969Z"
   },
   {
    "duration": 7,
    "start_time": "2021-11-21T12:29:18.288Z"
   },
   {
    "duration": 314,
    "start_time": "2021-11-21T12:30:10.488Z"
   },
   {
    "duration": 17,
    "start_time": "2021-11-21T12:30:26.850Z"
   },
   {
    "duration": 15,
    "start_time": "2021-11-21T12:36:32.848Z"
   },
   {
    "duration": 27,
    "start_time": "2021-11-21T12:38:23.510Z"
   },
   {
    "duration": 11,
    "start_time": "2021-11-21T12:46:18.394Z"
   },
   {
    "duration": 10,
    "start_time": "2021-11-21T12:46:20.727Z"
   },
   {
    "duration": 5,
    "start_time": "2021-11-21T12:46:22.202Z"
   },
   {
    "duration": 20,
    "start_time": "2021-11-21T12:46:41.104Z"
   },
   {
    "duration": 15,
    "start_time": "2021-11-21T12:48:42.793Z"
   },
   {
    "duration": 306,
    "start_time": "2021-11-21T12:55:56.340Z"
   },
   {
    "duration": 314,
    "start_time": "2021-11-21T12:55:57.571Z"
   },
   {
    "duration": 33,
    "start_time": "2021-11-21T12:56:04.292Z"
   },
   {
    "duration": 11,
    "start_time": "2021-11-21T12:56:05.200Z"
   },
   {
    "duration": 8,
    "start_time": "2021-11-21T12:56:17.685Z"
   },
   {
    "duration": 15,
    "start_time": "2021-11-21T12:56:19.396Z"
   },
   {
    "duration": 17,
    "start_time": "2021-11-21T13:07:18.775Z"
   },
   {
    "duration": 778,
    "start_time": "2021-11-21T13:18:04.569Z"
   },
   {
    "duration": 97,
    "start_time": "2021-11-21T13:18:05.350Z"
   },
   {
    "duration": 17,
    "start_time": "2021-11-21T13:18:05.451Z"
   },
   {
    "duration": 12,
    "start_time": "2021-11-21T13:18:05.483Z"
   },
   {
    "duration": 5,
    "start_time": "2021-11-21T13:18:05.497Z"
   },
   {
    "duration": 17,
    "start_time": "2021-11-21T13:18:05.504Z"
   },
   {
    "duration": 5,
    "start_time": "2021-11-21T13:18:05.524Z"
   },
   {
    "duration": 64,
    "start_time": "2021-11-21T13:18:05.533Z"
   },
   {
    "duration": 43,
    "start_time": "2021-11-21T13:18:05.600Z"
   },
   {
    "duration": 3,
    "start_time": "2021-11-21T13:18:05.646Z"
   },
   {
    "duration": 9743,
    "start_time": "2021-11-21T13:18:05.652Z"
   },
   {
    "duration": 23,
    "start_time": "2021-11-21T13:18:15.397Z"
   },
   {
    "duration": 22,
    "start_time": "2021-11-21T13:18:15.422Z"
   },
   {
    "duration": 65,
    "start_time": "2021-11-21T13:18:15.446Z"
   },
   {
    "duration": 38,
    "start_time": "2021-11-21T13:18:15.513Z"
   },
   {
    "duration": 55,
    "start_time": "2021-11-21T13:18:15.553Z"
   },
   {
    "duration": 6,
    "start_time": "2021-11-21T13:18:15.610Z"
   },
   {
    "duration": 10,
    "start_time": "2021-11-21T13:18:15.618Z"
   },
   {
    "duration": 6,
    "start_time": "2021-11-21T13:18:15.630Z"
   },
   {
    "duration": 58,
    "start_time": "2021-11-21T13:18:15.638Z"
   },
   {
    "duration": 4759,
    "start_time": "2021-11-21T13:18:15.699Z"
   },
   {
    "duration": 45,
    "start_time": "2021-11-21T13:18:20.460Z"
   },
   {
    "duration": 10,
    "start_time": "2021-11-21T13:18:20.511Z"
   },
   {
    "duration": 6,
    "start_time": "2021-11-21T13:18:20.523Z"
   },
   {
    "duration": 59,
    "start_time": "2021-11-21T13:18:20.531Z"
   },
   {
    "duration": 425,
    "start_time": "2021-11-21T13:18:20.592Z"
   },
   {
    "duration": 25,
    "start_time": "2021-11-21T13:18:21.019Z"
   },
   {
    "duration": 12,
    "start_time": "2021-11-21T13:18:21.047Z"
   },
   {
    "duration": 8,
    "start_time": "2021-11-21T13:18:21.082Z"
   },
   {
    "duration": 19,
    "start_time": "2021-11-21T13:18:21.092Z"
   },
   {
    "duration": 33,
    "start_time": "2021-11-21T13:18:21.113Z"
   },
   {
    "duration": 7,
    "start_time": "2021-11-21T13:18:21.148Z"
   },
   {
    "duration": 15,
    "start_time": "2021-11-21T13:18:21.182Z"
   },
   {
    "duration": 45,
    "start_time": "2021-11-21T13:18:21.200Z"
   },
   {
    "duration": 34,
    "start_time": "2021-11-21T13:18:21.248Z"
   },
   {
    "duration": 15,
    "start_time": "2021-11-21T13:18:21.285Z"
   },
   {
    "duration": 32,
    "start_time": "2021-11-21T13:18:21.302Z"
   },
   {
    "duration": 6,
    "start_time": "2021-11-21T13:18:21.337Z"
   },
   {
    "duration": 43,
    "start_time": "2021-11-21T13:18:21.345Z"
   },
   {
    "duration": 369,
    "start_time": "2021-11-21T23:28:19.287Z"
   },
   {
    "duration": 287,
    "start_time": "2021-11-21T23:28:30.655Z"
   },
   {
    "duration": 601,
    "start_time": "2021-11-21T23:28:37.538Z"
   },
   {
    "duration": 63,
    "start_time": "2021-11-21T23:28:38.141Z"
   },
   {
    "duration": 9,
    "start_time": "2021-11-21T23:28:38.206Z"
   },
   {
    "duration": 17,
    "start_time": "2021-11-21T23:28:38.217Z"
   },
   {
    "duration": 17,
    "start_time": "2021-11-21T23:28:38.236Z"
   },
   {
    "duration": 38,
    "start_time": "2021-11-21T23:28:38.254Z"
   },
   {
    "duration": 16,
    "start_time": "2021-11-21T23:28:38.294Z"
   },
   {
    "duration": 42,
    "start_time": "2021-11-21T23:28:38.311Z"
   },
   {
    "duration": 53,
    "start_time": "2021-11-21T23:28:38.355Z"
   },
   {
    "duration": 3,
    "start_time": "2021-11-21T23:28:38.410Z"
   },
   {
    "duration": 5206,
    "start_time": "2021-11-21T23:28:38.415Z"
   },
   {
    "duration": 27,
    "start_time": "2021-11-21T23:28:43.623Z"
   },
   {
    "duration": 20,
    "start_time": "2021-11-21T23:28:43.652Z"
   },
   {
    "duration": 30,
    "start_time": "2021-11-21T23:28:43.674Z"
   },
   {
    "duration": 26,
    "start_time": "2021-11-21T23:28:43.705Z"
   },
   {
    "duration": 30,
    "start_time": "2021-11-21T23:28:43.733Z"
   },
   {
    "duration": 4,
    "start_time": "2021-11-21T23:28:43.764Z"
   },
   {
    "duration": 15,
    "start_time": "2021-11-21T23:28:43.770Z"
   },
   {
    "duration": 17,
    "start_time": "2021-11-21T23:28:43.787Z"
   },
   {
    "duration": 38,
    "start_time": "2021-11-21T23:28:43.805Z"
   },
   {
    "duration": 3218,
    "start_time": "2021-11-21T23:28:43.845Z"
   },
   {
    "duration": 21,
    "start_time": "2021-11-21T23:28:47.065Z"
   },
   {
    "duration": 8,
    "start_time": "2021-11-21T23:28:47.087Z"
   },
   {
    "duration": 7,
    "start_time": "2021-11-21T23:28:47.096Z"
   },
   {
    "duration": 5,
    "start_time": "2021-11-21T23:28:47.104Z"
   },
   {
    "duration": 42,
    "start_time": "2021-11-21T23:28:47.110Z"
   },
   {
    "duration": 244,
    "start_time": "2021-11-21T23:28:47.156Z"
   },
   {
    "duration": 18,
    "start_time": "2021-11-21T23:28:47.401Z"
   },
   {
    "duration": 8,
    "start_time": "2021-11-21T23:28:47.420Z"
   },
   {
    "duration": 17,
    "start_time": "2021-11-21T23:28:47.430Z"
   },
   {
    "duration": 10,
    "start_time": "2021-11-21T23:28:47.449Z"
   },
   {
    "duration": 19,
    "start_time": "2021-11-21T23:28:47.461Z"
   },
   {
    "duration": 4,
    "start_time": "2021-11-21T23:28:47.482Z"
   },
   {
    "duration": 11,
    "start_time": "2021-11-21T23:28:47.488Z"
   },
   {
    "duration": 17,
    "start_time": "2021-11-21T23:28:47.501Z"
   },
   {
    "duration": 24,
    "start_time": "2021-11-21T23:28:47.520Z"
   },
   {
    "duration": 10,
    "start_time": "2021-11-21T23:28:47.546Z"
   },
   {
    "duration": 20,
    "start_time": "2021-11-21T23:28:47.557Z"
   },
   {
    "duration": 4,
    "start_time": "2021-11-21T23:28:47.579Z"
   },
   {
    "duration": 13,
    "start_time": "2021-11-21T23:28:47.584Z"
   },
   {
    "duration": 95,
    "start_time": "2021-11-21T23:29:46.123Z"
   },
   {
    "duration": 5,
    "start_time": "2021-11-21T23:30:20.118Z"
   },
   {
    "duration": 5,
    "start_time": "2021-11-21T23:30:37.449Z"
   },
   {
    "duration": 5,
    "start_time": "2021-11-21T23:30:44.837Z"
   },
   {
    "duration": 323,
    "start_time": "2021-11-21T23:32:06.924Z"
   },
   {
    "duration": 676,
    "start_time": "2021-11-21T23:32:19.926Z"
   },
   {
    "duration": 297,
    "start_time": "2021-11-21T23:33:27.000Z"
   },
   {
    "duration": 975,
    "start_time": "2021-11-21T23:33:40.311Z"
   },
   {
    "duration": 441,
    "start_time": "2021-11-21T23:34:07.754Z"
   },
   {
    "duration": 22,
    "start_time": "2021-11-21T23:34:19.429Z"
   },
   {
    "duration": 297,
    "start_time": "2021-11-21T23:35:15.645Z"
   },
   {
    "duration": 4,
    "start_time": "2021-11-21T23:36:12.684Z"
   },
   {
    "duration": 8,
    "start_time": "2021-11-21T23:36:20.261Z"
   },
   {
    "duration": 4,
    "start_time": "2021-11-21T23:36:55.122Z"
   },
   {
    "duration": 7,
    "start_time": "2021-11-21T23:37:02.045Z"
   },
   {
    "duration": 5,
    "start_time": "2021-11-21T23:37:10.130Z"
   },
   {
    "duration": 8,
    "start_time": "2021-11-21T23:37:11.465Z"
   },
   {
    "duration": 4,
    "start_time": "2021-11-21T23:37:48.736Z"
   },
   {
    "duration": 9,
    "start_time": "2021-11-21T23:37:49.865Z"
   },
   {
    "duration": 20,
    "start_time": "2021-11-21T23:37:58.361Z"
   },
   {
    "duration": 5,
    "start_time": "2021-11-21T23:38:00.510Z"
   },
   {
    "duration": 8,
    "start_time": "2021-11-21T23:38:02.155Z"
   },
   {
    "duration": 611,
    "start_time": "2021-11-21T23:41:53.811Z"
   },
   {
    "duration": 65,
    "start_time": "2021-11-21T23:41:54.424Z"
   },
   {
    "duration": 11,
    "start_time": "2021-11-21T23:41:54.491Z"
   },
   {
    "duration": 16,
    "start_time": "2021-11-21T23:41:54.504Z"
   },
   {
    "duration": 20,
    "start_time": "2021-11-21T23:41:54.522Z"
   },
   {
    "duration": 33,
    "start_time": "2021-11-21T23:41:54.544Z"
   },
   {
    "duration": 23,
    "start_time": "2021-11-21T23:41:54.578Z"
   },
   {
    "duration": 52,
    "start_time": "2021-11-21T23:41:54.603Z"
   },
   {
    "duration": 40,
    "start_time": "2021-11-21T23:41:54.657Z"
   },
   {
    "duration": 3,
    "start_time": "2021-11-21T23:41:54.698Z"
   },
   {
    "duration": 4919,
    "start_time": "2021-11-21T23:41:54.703Z"
   },
   {
    "duration": 23,
    "start_time": "2021-11-21T23:41:59.624Z"
   },
   {
    "duration": 16,
    "start_time": "2021-11-21T23:41:59.649Z"
   },
   {
    "duration": 25,
    "start_time": "2021-11-21T23:41:59.666Z"
   },
   {
    "duration": 52,
    "start_time": "2021-11-21T23:41:59.693Z"
   },
   {
    "duration": 26,
    "start_time": "2021-11-21T23:41:59.746Z"
   },
   {
    "duration": 5,
    "start_time": "2021-11-21T23:41:59.774Z"
   },
   {
    "duration": 5,
    "start_time": "2021-11-21T23:41:59.781Z"
   },
   {
    "duration": 5,
    "start_time": "2021-11-21T23:41:59.788Z"
   },
   {
    "duration": 56,
    "start_time": "2021-11-21T23:41:59.794Z"
   },
   {
    "duration": 3283,
    "start_time": "2021-11-21T23:41:59.852Z"
   },
   {
    "duration": 22,
    "start_time": "2021-11-21T23:42:03.145Z"
   },
   {
    "duration": 6,
    "start_time": "2021-11-21T23:42:03.170Z"
   },
   {
    "duration": 3,
    "start_time": "2021-11-21T23:42:03.178Z"
   },
   {
    "duration": 22,
    "start_time": "2021-11-21T23:42:03.183Z"
   },
   {
    "duration": 266,
    "start_time": "2021-11-21T23:42:03.206Z"
   },
   {
    "duration": 16,
    "start_time": "2021-11-21T23:42:03.474Z"
   },
   {
    "duration": 8,
    "start_time": "2021-11-21T23:42:03.491Z"
   },
   {
    "duration": 9,
    "start_time": "2021-11-21T23:42:03.501Z"
   },
   {
    "duration": 11,
    "start_time": "2021-11-21T23:42:03.512Z"
   },
   {
    "duration": 688,
    "start_time": "2021-11-21T23:42:03.544Z"
   },
   {
    "duration": 22,
    "start_time": "2021-11-21T23:42:04.234Z"
   },
   {
    "duration": 4,
    "start_time": "2021-11-21T23:42:04.258Z"
   },
   {
    "duration": 12,
    "start_time": "2021-11-21T23:42:04.264Z"
   },
   {
    "duration": 20,
    "start_time": "2021-11-21T23:42:04.278Z"
   },
   {
    "duration": 5,
    "start_time": "2021-11-21T23:42:04.299Z"
   },
   {
    "duration": 10,
    "start_time": "2021-11-21T23:42:04.305Z"
   },
   {
    "duration": 42,
    "start_time": "2021-11-21T23:42:04.317Z"
   },
   {
    "duration": 5,
    "start_time": "2021-11-21T23:42:04.361Z"
   },
   {
    "duration": 12,
    "start_time": "2021-11-21T23:42:04.368Z"
   },
   {
    "duration": 109,
    "start_time": "2021-11-22T08:11:42.949Z"
   },
   {
    "duration": 107,
    "start_time": "2021-11-22T08:12:50.300Z"
   },
   {
    "duration": 272,
    "start_time": "2021-11-22T08:14:11.134Z"
   },
   {
    "duration": 570,
    "start_time": "2021-11-22T08:14:22.183Z"
   },
   {
    "duration": 59,
    "start_time": "2021-11-22T08:14:22.754Z"
   },
   {
    "duration": 9,
    "start_time": "2021-11-22T08:14:22.815Z"
   },
   {
    "duration": 8,
    "start_time": "2021-11-22T08:14:22.826Z"
   },
   {
    "duration": 3,
    "start_time": "2021-11-22T08:14:22.835Z"
   },
   {
    "duration": 12,
    "start_time": "2021-11-22T08:14:22.839Z"
   },
   {
    "duration": 8,
    "start_time": "2021-11-22T08:14:22.852Z"
   },
   {
    "duration": 16,
    "start_time": "2021-11-22T08:14:22.887Z"
   },
   {
    "duration": 39,
    "start_time": "2021-11-22T08:14:22.904Z"
   },
   {
    "duration": 3,
    "start_time": "2021-11-22T08:14:22.944Z"
   },
   {
    "duration": 4812,
    "start_time": "2021-11-22T08:14:22.948Z"
   },
   {
    "duration": 13,
    "start_time": "2021-11-22T08:14:27.762Z"
   },
   {
    "duration": 14,
    "start_time": "2021-11-22T08:14:27.788Z"
   },
   {
    "duration": 20,
    "start_time": "2021-11-22T08:14:27.803Z"
   },
   {
    "duration": 22,
    "start_time": "2021-11-22T08:14:27.824Z"
   },
   {
    "duration": 20,
    "start_time": "2021-11-22T08:14:27.847Z"
   },
   {
    "duration": 4,
    "start_time": "2021-11-22T08:14:27.888Z"
   },
   {
    "duration": 5,
    "start_time": "2021-11-22T08:14:27.893Z"
   },
   {
    "duration": 4,
    "start_time": "2021-11-22T08:14:27.900Z"
   },
   {
    "duration": 278,
    "start_time": "2021-11-22T08:14:27.906Z"
   },
   {
    "duration": 2546,
    "start_time": "2021-11-22T08:14:25.640Z"
   },
   {
    "duration": 2461,
    "start_time": "2021-11-22T08:14:25.726Z"
   },
   {
    "duration": 2447,
    "start_time": "2021-11-22T08:14:25.741Z"
   },
   {
    "duration": 2432,
    "start_time": "2021-11-22T08:14:25.756Z"
   },
   {
    "duration": 2423,
    "start_time": "2021-11-22T08:14:25.766Z"
   },
   {
    "duration": 2413,
    "start_time": "2021-11-22T08:14:25.777Z"
   },
   {
    "duration": 2405,
    "start_time": "2021-11-22T08:14:25.786Z"
   },
   {
    "duration": 2396,
    "start_time": "2021-11-22T08:14:25.796Z"
   },
   {
    "duration": 2388,
    "start_time": "2021-11-22T08:14:25.805Z"
   },
   {
    "duration": 2379,
    "start_time": "2021-11-22T08:14:25.815Z"
   },
   {
    "duration": 2335,
    "start_time": "2021-11-22T08:14:25.859Z"
   },
   {
    "duration": 2327,
    "start_time": "2021-11-22T08:14:25.868Z"
   },
   {
    "duration": 2318,
    "start_time": "2021-11-22T08:14:25.878Z"
   },
   {
    "duration": 2309,
    "start_time": "2021-11-22T08:14:25.888Z"
   },
   {
    "duration": 2301,
    "start_time": "2021-11-22T08:14:25.897Z"
   },
   {
    "duration": 2291,
    "start_time": "2021-11-22T08:14:25.907Z"
   },
   {
    "duration": 2283,
    "start_time": "2021-11-22T08:14:25.916Z"
   },
   {
    "duration": 2274,
    "start_time": "2021-11-22T08:14:25.926Z"
   },
   {
    "duration": 2265,
    "start_time": "2021-11-22T08:14:25.936Z"
   },
   {
    "duration": 2240,
    "start_time": "2021-11-22T08:14:25.961Z"
   },
   {
    "duration": 2233,
    "start_time": "2021-11-22T08:14:25.969Z"
   },
   {
    "duration": 247,
    "start_time": "2021-11-22T08:15:11.188Z"
   },
   {
    "duration": 6,
    "start_time": "2021-11-22T08:22:56.522Z"
   },
   {
    "duration": 5,
    "start_time": "2021-11-22T08:23:05.460Z"
   },
   {
    "duration": 6,
    "start_time": "2021-11-22T08:23:15.957Z"
   },
   {
    "duration": 272,
    "start_time": "2021-11-22T08:24:47.313Z"
   },
   {
    "duration": 7,
    "start_time": "2021-11-22T08:28:41.772Z"
   },
   {
    "duration": 86,
    "start_time": "2021-11-22T08:30:43.720Z"
   },
   {
    "duration": 291,
    "start_time": "2021-11-22T08:30:58.374Z"
   },
   {
    "duration": 7,
    "start_time": "2021-11-22T08:32:42.073Z"
   },
   {
    "duration": 21,
    "start_time": "2021-11-22T08:51:41.281Z"
   },
   {
    "duration": 362,
    "start_time": "2021-11-22T11:50:44.805Z"
   },
   {
    "duration": 795,
    "start_time": "2021-11-22T11:50:56.076Z"
   },
   {
    "duration": 97,
    "start_time": "2021-11-22T11:50:56.874Z"
   },
   {
    "duration": 16,
    "start_time": "2021-11-22T11:50:56.973Z"
   },
   {
    "duration": 13,
    "start_time": "2021-11-22T11:50:56.992Z"
   },
   {
    "duration": 5,
    "start_time": "2021-11-22T11:50:57.007Z"
   },
   {
    "duration": 64,
    "start_time": "2021-11-22T11:50:57.014Z"
   },
   {
    "duration": 4,
    "start_time": "2021-11-22T11:50:57.081Z"
   },
   {
    "duration": 30,
    "start_time": "2021-11-22T11:50:57.088Z"
   },
   {
    "duration": 72,
    "start_time": "2021-11-22T11:50:57.121Z"
   },
   {
    "duration": 3,
    "start_time": "2021-11-22T11:50:57.195Z"
   },
   {
    "duration": 10166,
    "start_time": "2021-11-22T11:50:57.201Z"
   },
   {
    "duration": 26,
    "start_time": "2021-11-22T11:51:07.369Z"
   },
   {
    "duration": 23,
    "start_time": "2021-11-22T11:51:07.398Z"
   },
   {
    "duration": 73,
    "start_time": "2021-11-22T11:51:07.423Z"
   },
   {
    "duration": 42,
    "start_time": "2021-11-22T11:51:07.499Z"
   },
   {
    "duration": 56,
    "start_time": "2021-11-22T11:51:07.543Z"
   },
   {
    "duration": 6,
    "start_time": "2021-11-22T11:51:07.602Z"
   },
   {
    "duration": 10,
    "start_time": "2021-11-22T11:51:07.611Z"
   },
   {
    "duration": 9,
    "start_time": "2021-11-22T11:51:07.624Z"
   },
   {
    "duration": 12,
    "start_time": "2021-11-22T11:51:07.667Z"
   },
   {
    "duration": 49,
    "start_time": "2021-11-22T11:51:07.682Z"
   },
   {
    "duration": 105,
    "start_time": "2021-11-22T11:51:07.734Z"
   },
   {
    "duration": 52,
    "start_time": "2021-11-22T11:51:07.845Z"
   },
   {
    "duration": 4850,
    "start_time": "2021-11-22T11:51:07.901Z"
   },
   {
    "duration": 47,
    "start_time": "2021-11-22T11:51:12.753Z"
   },
   {
    "duration": 11,
    "start_time": "2021-11-22T11:51:12.803Z"
   },
   {
    "duration": 6,
    "start_time": "2021-11-22T11:51:12.816Z"
   },
   {
    "duration": 59,
    "start_time": "2021-11-22T11:51:12.825Z"
   },
   {
    "duration": 444,
    "start_time": "2021-11-22T11:51:12.887Z"
   },
   {
    "duration": 37,
    "start_time": "2021-11-22T11:51:13.333Z"
   },
   {
    "duration": 17,
    "start_time": "2021-11-22T11:51:13.373Z"
   },
   {
    "duration": 8,
    "start_time": "2021-11-22T11:51:13.393Z"
   },
   {
    "duration": 25,
    "start_time": "2021-11-22T11:51:13.404Z"
   },
   {
    "duration": 836,
    "start_time": "2021-11-22T11:51:13.433Z"
   },
   {
    "duration": 31,
    "start_time": "2021-11-22T11:51:14.272Z"
   },
   {
    "duration": 8,
    "start_time": "2021-11-22T11:51:14.305Z"
   },
   {
    "duration": 18,
    "start_time": "2021-11-22T11:51:14.315Z"
   },
   {
    "duration": 39,
    "start_time": "2021-11-22T11:51:14.368Z"
   },
   {
    "duration": 9,
    "start_time": "2021-11-22T11:51:14.410Z"
   },
   {
    "duration": 47,
    "start_time": "2021-11-22T11:51:14.422Z"
   },
   {
    "duration": 31,
    "start_time": "2021-11-22T11:51:14.471Z"
   },
   {
    "duration": 7,
    "start_time": "2021-11-22T11:51:14.504Z"
   },
   {
    "duration": 33,
    "start_time": "2021-11-22T11:51:14.513Z"
   },
   {
    "duration": 16,
    "start_time": "2021-11-22T11:51:34.084Z"
   },
   {
    "duration": 21,
    "start_time": "2021-11-22T11:52:19.830Z"
   },
   {
    "duration": 85,
    "start_time": "2021-11-22T11:56:13.796Z"
   },
   {
    "duration": 176,
    "start_time": "2021-11-22T11:56:29.838Z"
   },
   {
    "duration": 390,
    "start_time": "2021-11-22T11:57:56.419Z"
   },
   {
    "duration": 114,
    "start_time": "2021-11-22T11:59:36.455Z"
   },
   {
    "duration": 17,
    "start_time": "2021-11-22T12:00:06.105Z"
   },
   {
    "duration": 15,
    "start_time": "2021-11-22T12:06:51.677Z"
   },
   {
    "duration": 5,
    "start_time": "2021-11-22T12:08:24.173Z"
   },
   {
    "duration": 6,
    "start_time": "2021-11-22T12:09:00.069Z"
   },
   {
    "duration": 16,
    "start_time": "2021-11-22T12:09:08.303Z"
   },
   {
    "duration": 5,
    "start_time": "2021-11-22T12:09:26.811Z"
   },
   {
    "duration": 40,
    "start_time": "2021-11-22T12:09:41.484Z"
   },
   {
    "duration": 8,
    "start_time": "2021-11-22T12:10:04.989Z"
   },
   {
    "duration": 11,
    "start_time": "2021-11-22T13:43:24.195Z"
   },
   {
    "duration": 1182,
    "start_time": "2021-11-22T14:10:11.324Z"
   },
   {
    "duration": 1148,
    "start_time": "2021-11-22T14:10:40.289Z"
   },
   {
    "duration": 105,
    "start_time": "2021-11-22T14:19:28.629Z"
   },
   {
    "duration": 710,
    "start_time": "2021-11-22T14:19:51.448Z"
   },
   {
    "duration": 286,
    "start_time": "2021-11-22T14:38:55.151Z"
   },
   {
    "duration": 309,
    "start_time": "2021-11-22T14:41:34.642Z"
   },
   {
    "duration": 8928,
    "start_time": "2021-11-22T14:41:46.392Z"
   },
   {
    "duration": 7225,
    "start_time": "2021-11-22T14:43:03.881Z"
   },
   {
    "duration": 7781,
    "start_time": "2021-11-22T14:44:35.807Z"
   },
   {
    "duration": 300,
    "start_time": "2021-11-22T15:32:14.619Z"
   },
   {
    "duration": 9073,
    "start_time": "2021-11-22T15:33:12.274Z"
   },
   {
    "duration": 11556,
    "start_time": "2021-11-22T15:33:57.343Z"
   },
   {
    "duration": 15,
    "start_time": "2021-11-22T15:34:13.487Z"
   },
   {
    "duration": 17,
    "start_time": "2021-11-22T15:34:30.379Z"
   },
   {
    "duration": 8881,
    "start_time": "2021-11-22T15:38:37.730Z"
   },
   {
    "duration": 318,
    "start_time": "2021-11-22T16:00:38.053Z"
   },
   {
    "duration": 558,
    "start_time": "2021-11-22T16:01:42.546Z"
   },
   {
    "duration": 289,
    "start_time": "2021-11-22T16:05:02.134Z"
   },
   {
    "duration": 290,
    "start_time": "2021-11-22T16:07:27.882Z"
   },
   {
    "duration": 48,
    "start_time": "2021-11-22T16:07:47.002Z"
   },
   {
    "duration": 49,
    "start_time": "2021-11-22T16:08:00.796Z"
   },
   {
    "duration": 35,
    "start_time": "2021-11-22T16:08:35.006Z"
   },
   {
    "duration": 1133,
    "start_time": "2021-11-22T16:10:06.220Z"
   },
   {
    "duration": 516,
    "start_time": "2021-11-22T16:13:41.900Z"
   },
   {
    "duration": 958,
    "start_time": "2021-11-22T16:14:17.053Z"
   },
   {
    "duration": 996,
    "start_time": "2021-11-22T16:14:40.832Z"
   },
   {
    "duration": 964,
    "start_time": "2021-11-22T16:17:08.948Z"
   },
   {
    "duration": 9,
    "start_time": "2021-11-22T16:17:17.938Z"
   },
   {
    "duration": 308,
    "start_time": "2021-11-22T16:19:50.268Z"
   },
   {
    "duration": 8,
    "start_time": "2021-11-22T16:20:27.588Z"
   },
   {
    "duration": 323,
    "start_time": "2021-11-22T16:24:56.885Z"
   },
   {
    "duration": 19,
    "start_time": "2021-11-22T16:25:04.421Z"
   },
   {
    "duration": 14,
    "start_time": "2021-11-22T16:27:40.370Z"
   },
   {
    "duration": 11,
    "start_time": "2021-11-22T16:28:06.292Z"
   },
   {
    "duration": 13,
    "start_time": "2021-11-22T16:28:31.312Z"
   },
   {
    "duration": 13,
    "start_time": "2021-11-22T16:29:11.632Z"
   },
   {
    "duration": 12,
    "start_time": "2021-11-22T16:30:35.469Z"
   },
   {
    "duration": 992,
    "start_time": "2021-11-22T16:30:48.177Z"
   },
   {
    "duration": 87,
    "start_time": "2021-11-22T16:30:49.174Z"
   },
   {
    "duration": 19,
    "start_time": "2021-11-22T16:30:49.269Z"
   },
   {
    "duration": 13,
    "start_time": "2021-11-22T16:30:49.291Z"
   },
   {
    "duration": 4,
    "start_time": "2021-11-22T16:30:49.307Z"
   },
   {
    "duration": 54,
    "start_time": "2021-11-22T16:30:49.313Z"
   },
   {
    "duration": 6,
    "start_time": "2021-11-22T16:30:49.371Z"
   },
   {
    "duration": 36,
    "start_time": "2021-11-22T16:30:49.379Z"
   },
   {
    "duration": 72,
    "start_time": "2021-11-22T16:30:49.419Z"
   },
   {
    "duration": 4,
    "start_time": "2021-11-22T16:30:49.495Z"
   },
   {
    "duration": 10444,
    "start_time": "2021-11-22T16:30:49.501Z"
   },
   {
    "duration": 34,
    "start_time": "2021-11-22T16:30:59.948Z"
   },
   {
    "duration": 23,
    "start_time": "2021-11-22T16:30:59.984Z"
   },
   {
    "duration": 66,
    "start_time": "2021-11-22T16:31:00.010Z"
   },
   {
    "duration": 43,
    "start_time": "2021-11-22T16:31:00.078Z"
   },
   {
    "duration": 63,
    "start_time": "2021-11-22T16:31:00.123Z"
   },
   {
    "duration": 8,
    "start_time": "2021-11-22T16:31:00.189Z"
   },
   {
    "duration": 11,
    "start_time": "2021-11-22T16:31:00.199Z"
   },
   {
    "duration": 12,
    "start_time": "2021-11-22T16:31:00.213Z"
   },
   {
    "duration": 54,
    "start_time": "2021-11-22T16:31:00.228Z"
   },
   {
    "duration": 1024,
    "start_time": "2021-11-22T16:31:00.286Z"
   },
   {
    "duration": 9,
    "start_time": "2021-11-22T16:31:01.313Z"
   },
   {
    "duration": 49,
    "start_time": "2021-11-22T16:31:01.324Z"
   },
   {
    "duration": 4947,
    "start_time": "2021-11-22T16:31:01.375Z"
   },
   {
    "duration": 45,
    "start_time": "2021-11-22T16:31:06.325Z"
   },
   {
    "duration": 8,
    "start_time": "2021-11-22T16:31:06.373Z"
   },
   {
    "duration": 8,
    "start_time": "2021-11-22T16:31:06.384Z"
   },
   {
    "duration": 36,
    "start_time": "2021-11-22T16:31:06.394Z"
   },
   {
    "duration": 495,
    "start_time": "2021-11-22T16:31:06.433Z"
   },
   {
    "duration": 41,
    "start_time": "2021-11-22T16:31:06.931Z"
   },
   {
    "duration": 18,
    "start_time": "2021-11-22T16:31:06.974Z"
   },
   {
    "duration": 20,
    "start_time": "2021-11-22T16:31:06.996Z"
   },
   {
    "duration": 29,
    "start_time": "2021-11-22T16:31:07.019Z"
   },
   {
    "duration": 833,
    "start_time": "2021-11-22T16:31:07.051Z"
   },
   {
    "duration": 33,
    "start_time": "2021-11-22T16:31:07.887Z"
   },
   {
    "duration": 8,
    "start_time": "2021-11-22T16:31:07.922Z"
   },
   {
    "duration": 44,
    "start_time": "2021-11-22T16:31:07.933Z"
   },
   {
    "duration": 41,
    "start_time": "2021-11-22T16:31:07.980Z"
   },
   {
    "duration": 8,
    "start_time": "2021-11-22T16:31:08.023Z"
   },
   {
    "duration": 37,
    "start_time": "2021-11-22T16:31:08.033Z"
   },
   {
    "duration": 31,
    "start_time": "2021-11-22T16:31:08.073Z"
   },
   {
    "duration": 7,
    "start_time": "2021-11-22T16:31:08.106Z"
   },
   {
    "duration": 19,
    "start_time": "2021-11-22T16:31:08.118Z"
   },
   {
    "duration": 25,
    "start_time": "2021-11-22T16:34:12.250Z"
   },
   {
    "duration": 7,
    "start_time": "2021-11-22T16:34:42.173Z"
   },
   {
    "duration": 11,
    "start_time": "2021-11-22T16:35:04.605Z"
   },
   {
    "duration": 11,
    "start_time": "2021-11-22T16:35:39.056Z"
   },
   {
    "duration": 822,
    "start_time": "2021-11-22T16:35:49.229Z"
   },
   {
    "duration": 91,
    "start_time": "2021-11-22T16:35:50.054Z"
   },
   {
    "duration": 30,
    "start_time": "2021-11-22T16:35:50.148Z"
   },
   {
    "duration": 17,
    "start_time": "2021-11-22T16:35:50.181Z"
   },
   {
    "duration": 6,
    "start_time": "2021-11-22T16:35:50.200Z"
   },
   {
    "duration": 26,
    "start_time": "2021-11-22T16:35:50.209Z"
   },
   {
    "duration": 29,
    "start_time": "2021-11-22T16:35:50.238Z"
   },
   {
    "duration": 31,
    "start_time": "2021-11-22T16:35:50.273Z"
   },
   {
    "duration": 73,
    "start_time": "2021-11-22T16:35:50.307Z"
   },
   {
    "duration": 4,
    "start_time": "2021-11-22T16:35:50.383Z"
   },
   {
    "duration": 10588,
    "start_time": "2021-11-22T16:35:50.391Z"
   },
   {
    "duration": 27,
    "start_time": "2021-11-22T16:36:00.983Z"
   },
   {
    "duration": 24,
    "start_time": "2021-11-22T16:36:01.013Z"
   },
   {
    "duration": 70,
    "start_time": "2021-11-22T16:36:01.039Z"
   },
   {
    "duration": 69,
    "start_time": "2021-11-22T16:36:01.112Z"
   },
   {
    "duration": 38,
    "start_time": "2021-11-22T16:36:01.185Z"
   },
   {
    "duration": 5,
    "start_time": "2021-11-22T16:36:01.226Z"
   },
   {
    "duration": 36,
    "start_time": "2021-11-22T16:36:01.234Z"
   },
   {
    "duration": 7,
    "start_time": "2021-11-22T16:36:01.273Z"
   },
   {
    "duration": 17,
    "start_time": "2021-11-22T16:36:01.282Z"
   },
   {
    "duration": 1129,
    "start_time": "2021-11-22T16:36:01.302Z"
   },
   {
    "duration": 3,
    "start_time": "2021-11-22T16:36:02.434Z"
   },
   {
    "duration": 10,
    "start_time": "2021-11-22T16:36:02.442Z"
   },
   {
    "duration": 41,
    "start_time": "2021-11-22T16:36:02.455Z"
   },
   {
    "duration": 5321,
    "start_time": "2021-11-22T16:36:02.498Z"
   },
   {
    "duration": 49,
    "start_time": "2021-11-22T16:36:07.822Z"
   },
   {
    "duration": 20,
    "start_time": "2021-11-22T16:36:07.874Z"
   },
   {
    "duration": 48,
    "start_time": "2021-11-22T16:36:07.896Z"
   },
   {
    "duration": 50,
    "start_time": "2021-11-22T16:36:07.946Z"
   },
   {
    "duration": 457,
    "start_time": "2021-11-22T16:36:07.999Z"
   },
   {
    "duration": 34,
    "start_time": "2021-11-22T16:36:08.458Z"
   },
   {
    "duration": 14,
    "start_time": "2021-11-22T16:36:08.496Z"
   },
   {
    "duration": 9,
    "start_time": "2021-11-22T16:36:08.513Z"
   },
   {
    "duration": 52,
    "start_time": "2021-11-22T16:36:08.524Z"
   },
   {
    "duration": 746,
    "start_time": "2021-11-22T16:36:08.579Z"
   },
   {
    "duration": 42,
    "start_time": "2021-11-22T16:36:09.328Z"
   },
   {
    "duration": 9,
    "start_time": "2021-11-22T16:36:09.373Z"
   },
   {
    "duration": 23,
    "start_time": "2021-11-22T16:36:09.384Z"
   },
   {
    "duration": 58,
    "start_time": "2021-11-22T16:36:09.409Z"
   },
   {
    "duration": 9,
    "start_time": "2021-11-22T16:36:09.470Z"
   },
   {
    "duration": 26,
    "start_time": "2021-11-22T16:36:09.482Z"
   },
   {
    "duration": 35,
    "start_time": "2021-11-22T16:36:09.511Z"
   },
   {
    "duration": 24,
    "start_time": "2021-11-22T16:36:09.549Z"
   },
   {
    "duration": 27,
    "start_time": "2021-11-22T16:36:09.576Z"
   },
   {
    "duration": 27539,
    "start_time": "2021-11-22T16:37:18.462Z"
   },
   {
    "duration": 7,
    "start_time": "2021-11-22T16:37:50.115Z"
   },
   {
    "duration": 11,
    "start_time": "2021-11-22T16:38:33.475Z"
   },
   {
    "duration": 1044,
    "start_time": "2021-11-22T16:40:57.928Z"
   },
   {
    "duration": 27684,
    "start_time": "2021-11-22T16:41:04.685Z"
   },
   {
    "duration": 9,
    "start_time": "2021-11-22T16:41:32.372Z"
   },
   {
    "duration": 10,
    "start_time": "2021-11-22T16:41:53.327Z"
   },
   {
    "duration": 11,
    "start_time": "2021-11-22T16:44:59.293Z"
   },
   {
    "duration": 16,
    "start_time": "2021-11-22T16:47:12.309Z"
   },
   {
    "duration": 23,
    "start_time": "2021-11-22T16:47:28.771Z"
   },
   {
    "duration": 12,
    "start_time": "2021-11-22T16:52:11.234Z"
   },
   {
    "duration": 20,
    "start_time": "2021-11-22T16:52:33.326Z"
   },
   {
    "duration": 11,
    "start_time": "2021-11-22T16:53:55.724Z"
   },
   {
    "duration": 13,
    "start_time": "2021-11-22T16:58:08.007Z"
   },
   {
    "duration": 17,
    "start_time": "2021-11-22T16:58:33.934Z"
   },
   {
    "duration": 16,
    "start_time": "2021-11-22T16:59:29.391Z"
   },
   {
    "duration": 15,
    "start_time": "2021-11-22T16:59:47.508Z"
   },
   {
    "duration": 17,
    "start_time": "2021-11-22T17:00:04.351Z"
   },
   {
    "duration": 18,
    "start_time": "2021-11-22T19:54:08.069Z"
   },
   {
    "duration": 17,
    "start_time": "2021-11-22T19:54:28.774Z"
   },
   {
    "duration": 13,
    "start_time": "2021-11-22T19:57:53.896Z"
   },
   {
    "duration": 7912,
    "start_time": "2021-11-22T19:57:59.727Z"
   },
   {
    "duration": 15,
    "start_time": "2021-11-22T19:58:57.790Z"
   },
   {
    "duration": 7595,
    "start_time": "2021-11-22T19:59:38.901Z"
   },
   {
    "duration": 21,
    "start_time": "2021-11-22T19:59:51.200Z"
   },
   {
    "duration": 4,
    "start_time": "2021-11-22T20:03:43.064Z"
   },
   {
    "duration": 7451,
    "start_time": "2021-11-22T20:03:44.532Z"
   },
   {
    "duration": 7167,
    "start_time": "2021-11-22T20:04:03.225Z"
   },
   {
    "duration": 12,
    "start_time": "2021-11-22T20:04:48.933Z"
   },
   {
    "duration": 4,
    "start_time": "2021-11-22T20:09:13.189Z"
   },
   {
    "duration": 6,
    "start_time": "2021-11-22T20:09:15.307Z"
   },
   {
    "duration": 6,
    "start_time": "2021-11-22T20:09:29.687Z"
   },
   {
    "duration": 326,
    "start_time": "2021-11-22T20:10:17.888Z"
   },
   {
    "duration": 322,
    "start_time": "2021-11-22T20:10:30.741Z"
   },
   {
    "duration": 10,
    "start_time": "2021-11-22T20:23:26.445Z"
   },
   {
    "duration": 1074,
    "start_time": "2021-11-22T20:23:35.989Z"
   },
   {
    "duration": 28694,
    "start_time": "2021-11-22T20:23:41.218Z"
   },
   {
    "duration": 10,
    "start_time": "2021-11-22T20:24:09.914Z"
   },
   {
    "duration": 485,
    "start_time": "2021-11-22T20:29:57.753Z"
   },
   {
    "duration": 296,
    "start_time": "2021-11-22T20:30:47.499Z"
   },
   {
    "duration": 28,
    "start_time": "2021-11-22T20:30:57.443Z"
   },
   {
    "duration": 24,
    "start_time": "2021-11-22T20:31:57.714Z"
   },
   {
    "duration": 21,
    "start_time": "2021-11-22T20:33:07.117Z"
   },
   {
    "duration": 18,
    "start_time": "2021-11-22T20:33:27.612Z"
   },
   {
    "duration": 287,
    "start_time": "2021-11-22T20:35:45.830Z"
   },
   {
    "duration": 286,
    "start_time": "2021-11-22T20:36:24.292Z"
   },
   {
    "duration": 1022,
    "start_time": "2021-11-22T20:40:36.416Z"
   },
   {
    "duration": 127,
    "start_time": "2021-11-22T20:40:37.442Z"
   },
   {
    "duration": 22,
    "start_time": "2021-11-22T20:40:37.573Z"
   },
   {
    "duration": 19,
    "start_time": "2021-11-22T20:40:37.598Z"
   },
   {
    "duration": 6,
    "start_time": "2021-11-22T20:40:37.621Z"
   },
   {
    "duration": 64,
    "start_time": "2021-11-22T20:40:37.629Z"
   },
   {
    "duration": 8,
    "start_time": "2021-11-22T20:40:37.695Z"
   },
   {
    "duration": 13,
    "start_time": "2021-11-22T20:40:37.709Z"
   },
   {
    "duration": 1890,
    "start_time": "2021-11-22T20:40:37.726Z"
   },
   {
    "duration": 39691,
    "start_time": "2021-11-22T20:40:39.619Z"
   },
   {
    "duration": 13,
    "start_time": "2021-11-22T20:41:19.313Z"
   },
   {
    "duration": 61,
    "start_time": "2021-11-22T20:41:19.329Z"
   },
   {
    "duration": 48,
    "start_time": "2021-11-22T20:41:19.394Z"
   },
   {
    "duration": 6,
    "start_time": "2021-11-22T20:41:19.468Z"
   },
   {
    "duration": 15304,
    "start_time": "2021-11-22T20:41:19.477Z"
   },
   {
    "duration": 29,
    "start_time": "2021-11-22T20:41:34.785Z"
   },
   {
    "duration": 51,
    "start_time": "2021-11-22T20:41:34.817Z"
   },
   {
    "duration": 41,
    "start_time": "2021-11-22T20:41:34.871Z"
   },
   {
    "duration": 70,
    "start_time": "2021-11-22T20:41:34.914Z"
   },
   {
    "duration": 37,
    "start_time": "2021-11-22T20:41:34.987Z"
   },
   {
    "duration": 6,
    "start_time": "2021-11-22T20:41:35.027Z"
   },
   {
    "duration": 31,
    "start_time": "2021-11-22T20:41:35.036Z"
   },
   {
    "duration": 11,
    "start_time": "2021-11-22T20:41:35.073Z"
   },
   {
    "duration": 10,
    "start_time": "2021-11-22T20:41:35.088Z"
   },
   {
    "duration": 20,
    "start_time": "2021-11-22T20:41:35.101Z"
   },
   {
    "duration": 54,
    "start_time": "2021-11-22T20:41:35.124Z"
   },
   {
    "duration": 5157,
    "start_time": "2021-11-22T20:41:35.181Z"
   },
   {
    "duration": 41,
    "start_time": "2021-11-22T20:41:40.341Z"
   },
   {
    "duration": 11,
    "start_time": "2021-11-22T20:41:40.386Z"
   },
   {
    "duration": 6,
    "start_time": "2021-11-22T20:41:40.400Z"
   },
   {
    "duration": 71,
    "start_time": "2021-11-22T20:41:40.409Z"
   },
   {
    "duration": 800,
    "start_time": "2021-11-22T20:41:40.483Z"
   },
   {
    "duration": 37,
    "start_time": "2021-11-22T20:41:41.286Z"
   },
   {
    "duration": 43,
    "start_time": "2021-11-22T20:41:41.326Z"
   },
   {
    "duration": 12,
    "start_time": "2021-11-22T20:41:41.373Z"
   },
   {
    "duration": 24,
    "start_time": "2021-11-22T20:41:41.388Z"
   },
   {
    "duration": 798,
    "start_time": "2021-11-22T20:41:41.416Z"
   },
   {
    "duration": 35,
    "start_time": "2021-11-22T20:41:42.217Z"
   },
   {
    "duration": 19,
    "start_time": "2021-11-22T20:41:42.268Z"
   },
   {
    "duration": 31,
    "start_time": "2021-11-22T20:41:42.290Z"
   },
   {
    "duration": 4,
    "start_time": "2021-11-22T20:41:42.323Z"
   },
   {
    "duration": 52,
    "start_time": "2021-11-22T20:41:42.330Z"
   },
   {
    "duration": 44,
    "start_time": "2021-11-22T20:41:42.385Z"
   },
   {
    "duration": 4,
    "start_time": "2021-11-22T20:41:42.432Z"
   },
   {
    "duration": 41,
    "start_time": "2021-11-22T20:41:42.439Z"
   },
   {
    "duration": 650,
    "start_time": "2021-11-23T09:13:45.218Z"
   },
   {
    "duration": 68,
    "start_time": "2021-11-23T09:13:45.870Z"
   },
   {
    "duration": 12,
    "start_time": "2021-11-23T09:13:45.940Z"
   },
   {
    "duration": 60,
    "start_time": "2021-11-23T09:13:45.955Z"
   },
   {
    "duration": 22,
    "start_time": "2021-11-23T09:13:46.017Z"
   },
   {
    "duration": 42,
    "start_time": "2021-11-23T09:13:46.041Z"
   },
   {
    "duration": 18,
    "start_time": "2021-11-23T09:13:46.085Z"
   },
   {
    "duration": 15,
    "start_time": "2021-11-23T09:13:46.106Z"
   },
   {
    "duration": 597,
    "start_time": "2021-11-23T09:13:46.123Z"
   },
   {
    "duration": 16408,
    "start_time": "2021-11-23T09:13:46.721Z"
   },
   {
    "duration": 7,
    "start_time": "2021-11-23T09:14:03.131Z"
   },
   {
    "duration": 23,
    "start_time": "2021-11-23T09:14:03.140Z"
   },
   {
    "duration": 49,
    "start_time": "2021-11-23T09:14:03.165Z"
   },
   {
    "duration": 3,
    "start_time": "2021-11-23T09:14:03.216Z"
   },
   {
    "duration": 9856,
    "start_time": "2021-11-23T09:14:03.221Z"
   },
   {
    "duration": 34,
    "start_time": "2021-11-23T09:14:13.079Z"
   },
   {
    "duration": 23,
    "start_time": "2021-11-23T09:14:13.115Z"
   },
   {
    "duration": 38,
    "start_time": "2021-11-23T09:14:13.140Z"
   },
   {
    "duration": 64,
    "start_time": "2021-11-23T09:14:13.180Z"
   },
   {
    "duration": 38,
    "start_time": "2021-11-23T09:14:13.247Z"
   },
   {
    "duration": 21,
    "start_time": "2021-11-23T09:14:13.287Z"
   },
   {
    "duration": 16,
    "start_time": "2021-11-23T09:14:13.310Z"
   },
   {
    "duration": 12,
    "start_time": "2021-11-23T09:14:13.332Z"
   },
   {
    "duration": 27,
    "start_time": "2021-11-23T09:14:13.346Z"
   },
   {
    "duration": 23,
    "start_time": "2021-11-23T09:14:13.375Z"
   },
   {
    "duration": 37,
    "start_time": "2021-11-23T09:14:13.399Z"
   },
   {
    "duration": 3988,
    "start_time": "2021-11-23T09:14:13.437Z"
   },
   {
    "duration": 37,
    "start_time": "2021-11-23T09:14:17.428Z"
   },
   {
    "duration": 8,
    "start_time": "2021-11-23T09:14:17.467Z"
   },
   {
    "duration": 5,
    "start_time": "2021-11-23T09:14:17.477Z"
   },
   {
    "duration": 20,
    "start_time": "2021-11-23T09:14:17.507Z"
   },
   {
    "duration": 277,
    "start_time": "2021-11-23T09:14:17.530Z"
   },
   {
    "duration": 18,
    "start_time": "2021-11-23T09:14:17.809Z"
   },
   {
    "duration": 9,
    "start_time": "2021-11-23T09:14:17.829Z"
   },
   {
    "duration": 16,
    "start_time": "2021-11-23T09:14:17.840Z"
   },
   {
    "duration": 13,
    "start_time": "2021-11-23T09:14:17.857Z"
   },
   {
    "duration": 702,
    "start_time": "2021-11-23T09:14:17.872Z"
   },
   {
    "duration": 22,
    "start_time": "2021-11-23T09:14:18.576Z"
   },
   {
    "duration": 17,
    "start_time": "2021-11-23T09:14:18.599Z"
   },
   {
    "duration": 20,
    "start_time": "2021-11-23T09:14:18.617Z"
   },
   {
    "duration": 9,
    "start_time": "2021-11-23T09:14:18.638Z"
   },
   {
    "duration": 42,
    "start_time": "2021-11-23T09:14:18.649Z"
   },
   {
    "duration": 14,
    "start_time": "2021-11-23T09:14:18.693Z"
   },
   {
    "duration": 16,
    "start_time": "2021-11-23T09:14:18.708Z"
   }
  ],
  "kernelspec": {
   "display_name": "Python 3",
   "language": "python",
   "name": "python3"
  },
  "language_info": {
   "codemirror_mode": {
    "name": "ipython",
    "version": 3
   },
   "file_extension": ".py",
   "mimetype": "text/x-python",
   "name": "python",
   "nbconvert_exporter": "python",
   "pygments_lexer": "ipython3",
   "version": "3.8.8"
  },
  "toc": {
   "base_numbering": 1,
   "nav_menu": {},
   "number_sections": true,
   "sideBar": true,
   "skip_h1_title": true,
   "title_cell": "Table of Contents",
   "title_sidebar": "Contents",
   "toc_cell": false,
   "toc_position": {
    "height": "calc(100% - 180px)",
    "left": "10px",
    "top": "150px",
    "width": "165px"
   },
   "toc_section_display": true,
   "toc_window_display": true
  }
 },
 "nbformat": 4,
 "nbformat_minor": 2
}
