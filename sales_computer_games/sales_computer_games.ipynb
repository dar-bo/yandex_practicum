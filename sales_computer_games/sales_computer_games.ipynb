{
 "cells": [
  {
   "cell_type": "markdown",
   "metadata": {},
   "source": [
    "## Исследование продаж компьютерных игр\n"
   ]
  },
  {
   "cell_type": "markdown",
   "metadata": {},
   "source": [
    "# Содержание"
   ]
  },
  {
   "cell_type": "markdown",
   "metadata": {},
   "source": [
    "[1 Изучение информации](#Изучение-информации)\n"
   ]
  },
  {
   "cell_type": "markdown",
   "metadata": {},
   "source": [
    "[2 Предобработка данных](#Предобработка-данных)"
   ]
  },
  {
   "cell_type": "markdown",
   "metadata": {},
   "source": [
    "[3 Аналих данных](#Анализ-данных)"
   ]
  },
  {
   "cell_type": "markdown",
   "metadata": {},
   "source": [
    "[4 Портрет пользователя](#Портрет-пользователя)"
   ]
  },
  {
   "cell_type": "markdown",
   "metadata": {},
   "source": [
    "[5 Проверка гипотез](#Проверка-гипотез)"
   ]
  },
  {
   "cell_type": "markdown",
   "metadata": {},
   "source": [
    "[ВЫВОДЫ:](#ВЫВОДЫ:)"
   ]
  },
  {
   "cell_type": "code",
   "execution_count": 1,
   "metadata": {},
   "outputs": [],
   "source": [
    "import pandas as pd\n",
    "import numpy as np\n",
    "import matplotlib.pyplot as plt\n",
    "import seaborn as sns\n",
    "from datetime import datetime\n",
    "from scipy import stats as st"
   ]
  },
  {
   "cell_type": "code",
   "execution_count": 2,
   "metadata": {},
   "outputs": [],
   "source": [
    "data = pd.read_csv('/datasets/games.csv')"
   ]
  },
  {
   "cell_type": "markdown",
   "metadata": {},
   "source": [
    "## Изучение информации"
   ]
  },
  {
   "cell_type": "code",
   "execution_count": 3,
   "metadata": {
    "scrolled": true
   },
   "outputs": [
    {
     "data": {
      "text/html": [
       "<div>\n",
       "<style scoped>\n",
       "    .dataframe tbody tr th:only-of-type {\n",
       "        vertical-align: middle;\n",
       "    }\n",
       "\n",
       "    .dataframe tbody tr th {\n",
       "        vertical-align: top;\n",
       "    }\n",
       "\n",
       "    .dataframe thead th {\n",
       "        text-align: right;\n",
       "    }\n",
       "</style>\n",
       "<table border=\"1\" class=\"dataframe\">\n",
       "  <thead>\n",
       "    <tr style=\"text-align: right;\">\n",
       "      <th></th>\n",
       "      <th>Name</th>\n",
       "      <th>Platform</th>\n",
       "      <th>Year_of_Release</th>\n",
       "      <th>Genre</th>\n",
       "      <th>NA_sales</th>\n",
       "      <th>EU_sales</th>\n",
       "      <th>JP_sales</th>\n",
       "      <th>Other_sales</th>\n",
       "      <th>Critic_Score</th>\n",
       "      <th>User_Score</th>\n",
       "      <th>Rating</th>\n",
       "    </tr>\n",
       "  </thead>\n",
       "  <tbody>\n",
       "    <tr>\n",
       "      <td>0</td>\n",
       "      <td>Wii Sports</td>\n",
       "      <td>Wii</td>\n",
       "      <td>2006.0</td>\n",
       "      <td>Sports</td>\n",
       "      <td>41.36</td>\n",
       "      <td>28.96</td>\n",
       "      <td>3.77</td>\n",
       "      <td>8.45</td>\n",
       "      <td>76.0</td>\n",
       "      <td>8</td>\n",
       "      <td>E</td>\n",
       "    </tr>\n",
       "    <tr>\n",
       "      <td>1</td>\n",
       "      <td>Super Mario Bros.</td>\n",
       "      <td>NES</td>\n",
       "      <td>1985.0</td>\n",
       "      <td>Platform</td>\n",
       "      <td>29.08</td>\n",
       "      <td>3.58</td>\n",
       "      <td>6.81</td>\n",
       "      <td>0.77</td>\n",
       "      <td>NaN</td>\n",
       "      <td>NaN</td>\n",
       "      <td>NaN</td>\n",
       "    </tr>\n",
       "    <tr>\n",
       "      <td>2</td>\n",
       "      <td>Mario Kart Wii</td>\n",
       "      <td>Wii</td>\n",
       "      <td>2008.0</td>\n",
       "      <td>Racing</td>\n",
       "      <td>15.68</td>\n",
       "      <td>12.76</td>\n",
       "      <td>3.79</td>\n",
       "      <td>3.29</td>\n",
       "      <td>82.0</td>\n",
       "      <td>8.3</td>\n",
       "      <td>E</td>\n",
       "    </tr>\n",
       "    <tr>\n",
       "      <td>3</td>\n",
       "      <td>Wii Sports Resort</td>\n",
       "      <td>Wii</td>\n",
       "      <td>2009.0</td>\n",
       "      <td>Sports</td>\n",
       "      <td>15.61</td>\n",
       "      <td>10.93</td>\n",
       "      <td>3.28</td>\n",
       "      <td>2.95</td>\n",
       "      <td>80.0</td>\n",
       "      <td>8</td>\n",
       "      <td>E</td>\n",
       "    </tr>\n",
       "    <tr>\n",
       "      <td>4</td>\n",
       "      <td>Pokemon Red/Pokemon Blue</td>\n",
       "      <td>GB</td>\n",
       "      <td>1996.0</td>\n",
       "      <td>Role-Playing</td>\n",
       "      <td>11.27</td>\n",
       "      <td>8.89</td>\n",
       "      <td>10.22</td>\n",
       "      <td>1.00</td>\n",
       "      <td>NaN</td>\n",
       "      <td>NaN</td>\n",
       "      <td>NaN</td>\n",
       "    </tr>\n",
       "  </tbody>\n",
       "</table>\n",
       "</div>"
      ],
      "text/plain": [
       "                       Name Platform  Year_of_Release         Genre  NA_sales  \\\n",
       "0                Wii Sports      Wii           2006.0        Sports     41.36   \n",
       "1         Super Mario Bros.      NES           1985.0      Platform     29.08   \n",
       "2            Mario Kart Wii      Wii           2008.0        Racing     15.68   \n",
       "3         Wii Sports Resort      Wii           2009.0        Sports     15.61   \n",
       "4  Pokemon Red/Pokemon Blue       GB           1996.0  Role-Playing     11.27   \n",
       "\n",
       "   EU_sales  JP_sales  Other_sales  Critic_Score User_Score Rating  \n",
       "0     28.96      3.77         8.45          76.0          8      E  \n",
       "1      3.58      6.81         0.77           NaN        NaN    NaN  \n",
       "2     12.76      3.79         3.29          82.0        8.3      E  \n",
       "3     10.93      3.28         2.95          80.0          8      E  \n",
       "4      8.89     10.22         1.00           NaN        NaN    NaN  "
      ]
     },
     "execution_count": 3,
     "metadata": {},
     "output_type": "execute_result"
    }
   ],
   "source": [
    "data.head()"
   ]
  },
  {
   "cell_type": "markdown",
   "metadata": {},
   "source": [
    "Названия столбцов необходимо привести к стандарту"
   ]
  },
  {
   "cell_type": "code",
   "execution_count": 4,
   "metadata": {},
   "outputs": [
    {
     "name": "stdout",
     "output_type": "stream",
     "text": [
      "<class 'pandas.core.frame.DataFrame'>\n",
      "RangeIndex: 16715 entries, 0 to 16714\n",
      "Data columns (total 11 columns):\n",
      "Name               16713 non-null object\n",
      "Platform           16715 non-null object\n",
      "Year_of_Release    16446 non-null float64\n",
      "Genre              16713 non-null object\n",
      "NA_sales           16715 non-null float64\n",
      "EU_sales           16715 non-null float64\n",
      "JP_sales           16715 non-null float64\n",
      "Other_sales        16715 non-null float64\n",
      "Critic_Score       8137 non-null float64\n",
      "User_Score         10014 non-null object\n",
      "Rating             9949 non-null object\n",
      "dtypes: float64(6), object(5)\n",
      "memory usage: 1.4+ MB\n"
     ]
    }
   ],
   "source": [
    "data.info()"
   ]
  },
  {
   "cell_type": "markdown",
   "metadata": {},
   "source": [
    "Есть проблемы с типами данных. Нужно привести в соответствие."
   ]
  },
  {
   "cell_type": "code",
   "execution_count": 5,
   "metadata": {},
   "outputs": [
    {
     "data": {
      "text/html": [
       "<div>\n",
       "<style scoped>\n",
       "    .dataframe tbody tr th:only-of-type {\n",
       "        vertical-align: middle;\n",
       "    }\n",
       "\n",
       "    .dataframe tbody tr th {\n",
       "        vertical-align: top;\n",
       "    }\n",
       "\n",
       "    .dataframe thead th {\n",
       "        text-align: right;\n",
       "    }\n",
       "</style>\n",
       "<table border=\"1\" class=\"dataframe\">\n",
       "  <thead>\n",
       "    <tr style=\"text-align: right;\">\n",
       "      <th></th>\n",
       "      <th>Year_of_Release</th>\n",
       "      <th>NA_sales</th>\n",
       "      <th>EU_sales</th>\n",
       "      <th>JP_sales</th>\n",
       "      <th>Other_sales</th>\n",
       "      <th>Critic_Score</th>\n",
       "    </tr>\n",
       "  </thead>\n",
       "  <tbody>\n",
       "    <tr>\n",
       "      <td>count</td>\n",
       "      <td>16446.000000</td>\n",
       "      <td>16715.000000</td>\n",
       "      <td>16715.000000</td>\n",
       "      <td>16715.000000</td>\n",
       "      <td>16715.000000</td>\n",
       "      <td>8137.000000</td>\n",
       "    </tr>\n",
       "    <tr>\n",
       "      <td>mean</td>\n",
       "      <td>2006.484616</td>\n",
       "      <td>0.263377</td>\n",
       "      <td>0.145060</td>\n",
       "      <td>0.077617</td>\n",
       "      <td>0.047342</td>\n",
       "      <td>68.967679</td>\n",
       "    </tr>\n",
       "    <tr>\n",
       "      <td>std</td>\n",
       "      <td>5.877050</td>\n",
       "      <td>0.813604</td>\n",
       "      <td>0.503339</td>\n",
       "      <td>0.308853</td>\n",
       "      <td>0.186731</td>\n",
       "      <td>13.938165</td>\n",
       "    </tr>\n",
       "    <tr>\n",
       "      <td>min</td>\n",
       "      <td>1980.000000</td>\n",
       "      <td>0.000000</td>\n",
       "      <td>0.000000</td>\n",
       "      <td>0.000000</td>\n",
       "      <td>0.000000</td>\n",
       "      <td>13.000000</td>\n",
       "    </tr>\n",
       "    <tr>\n",
       "      <td>25%</td>\n",
       "      <td>2003.000000</td>\n",
       "      <td>0.000000</td>\n",
       "      <td>0.000000</td>\n",
       "      <td>0.000000</td>\n",
       "      <td>0.000000</td>\n",
       "      <td>60.000000</td>\n",
       "    </tr>\n",
       "    <tr>\n",
       "      <td>50%</td>\n",
       "      <td>2007.000000</td>\n",
       "      <td>0.080000</td>\n",
       "      <td>0.020000</td>\n",
       "      <td>0.000000</td>\n",
       "      <td>0.010000</td>\n",
       "      <td>71.000000</td>\n",
       "    </tr>\n",
       "    <tr>\n",
       "      <td>75%</td>\n",
       "      <td>2010.000000</td>\n",
       "      <td>0.240000</td>\n",
       "      <td>0.110000</td>\n",
       "      <td>0.040000</td>\n",
       "      <td>0.030000</td>\n",
       "      <td>79.000000</td>\n",
       "    </tr>\n",
       "    <tr>\n",
       "      <td>max</td>\n",
       "      <td>2016.000000</td>\n",
       "      <td>41.360000</td>\n",
       "      <td>28.960000</td>\n",
       "      <td>10.220000</td>\n",
       "      <td>10.570000</td>\n",
       "      <td>98.000000</td>\n",
       "    </tr>\n",
       "  </tbody>\n",
       "</table>\n",
       "</div>"
      ],
      "text/plain": [
       "       Year_of_Release      NA_sales      EU_sales      JP_sales  \\\n",
       "count     16446.000000  16715.000000  16715.000000  16715.000000   \n",
       "mean       2006.484616      0.263377      0.145060      0.077617   \n",
       "std           5.877050      0.813604      0.503339      0.308853   \n",
       "min        1980.000000      0.000000      0.000000      0.000000   \n",
       "25%        2003.000000      0.000000      0.000000      0.000000   \n",
       "50%        2007.000000      0.080000      0.020000      0.000000   \n",
       "75%        2010.000000      0.240000      0.110000      0.040000   \n",
       "max        2016.000000     41.360000     28.960000     10.220000   \n",
       "\n",
       "        Other_sales  Critic_Score  \n",
       "count  16715.000000   8137.000000  \n",
       "mean       0.047342     68.967679  \n",
       "std        0.186731     13.938165  \n",
       "min        0.000000     13.000000  \n",
       "25%        0.000000     60.000000  \n",
       "50%        0.010000     71.000000  \n",
       "75%        0.030000     79.000000  \n",
       "max       10.570000     98.000000  "
      ]
     },
     "execution_count": 5,
     "metadata": {},
     "output_type": "execute_result"
    }
   ],
   "source": [
    "data.describe()"
   ]
  },
  {
   "cell_type": "markdown",
   "metadata": {},
   "source": [
    "## Предобработка данных"
   ]
  },
  {
   "cell_type": "code",
   "execution_count": 6,
   "metadata": {},
   "outputs": [],
   "source": [
    "# переименовываем столбцы\n",
    "data.columns = ['name', 'platform', 'year_of_release', 'genre', 'north_america_sales',\n",
    "                'europe_sales', 'japan_sales', 'other_sales', 'critic_score', 'user_score', 'rating']"
   ]
  },
  {
   "cell_type": "code",
   "execution_count": 7,
   "metadata": {},
   "outputs": [],
   "source": [
    "data['user_score'] = pd.to_numeric(data['user_score'], errors='coerce') # приводим к нужному типу данных"
   ]
  },
  {
   "cell_type": "code",
   "execution_count": 8,
   "metadata": {},
   "outputs": [],
   "source": [
    "data['user_score'] = data['user_score'].fillna(-1)"
   ]
  },
  {
   "cell_type": "code",
   "execution_count": 9,
   "metadata": {},
   "outputs": [],
   "source": [
    "data['year_of_release'] = data['year_of_release'].fillna(2022) #заполняем пропуски датой, которую легко отсеять\n"
   ]
  },
  {
   "cell_type": "code",
   "execution_count": 10,
   "metadata": {},
   "outputs": [
    {
     "data": {
      "text/plain": [
       "array([2006., 1985., 2008., 2009., 1996., 1989., 1984., 2005., 1999.,\n",
       "       2007., 2010., 2013., 2004., 1990., 1988., 2002., 2001., 2011.,\n",
       "       1998., 2015., 2012., 2014., 1992., 1997., 1993., 1994., 1982.,\n",
       "       2016., 2003., 1986., 2000., 2022., 1995., 1991., 1981., 1987.,\n",
       "       1980., 1983.])"
      ]
     },
     "execution_count": 10,
     "metadata": {},
     "output_type": "execute_result"
    }
   ],
   "source": [
    "data['year_of_release'].unique()\n"
   ]
  },
  {
   "cell_type": "code",
   "execution_count": 11,
   "metadata": {},
   "outputs": [],
   "source": [
    "data['year_of_release'] = data['year_of_release'].astype('int') # приводим данные к типу int\n"
   ]
  },
  {
   "cell_type": "code",
   "execution_count": 12,
   "metadata": {},
   "outputs": [
    {
     "name": "stdout",
     "output_type": "stream",
     "text": [
      "<class 'pandas.core.frame.DataFrame'>\n",
      "RangeIndex: 16715 entries, 0 to 16714\n",
      "Data columns (total 11 columns):\n",
      "name                   16713 non-null object\n",
      "platform               16715 non-null object\n",
      "year_of_release        16715 non-null int64\n",
      "genre                  16713 non-null object\n",
      "north_america_sales    16715 non-null float64\n",
      "europe_sales           16715 non-null float64\n",
      "japan_sales            16715 non-null float64\n",
      "other_sales            16715 non-null float64\n",
      "critic_score           8137 non-null float64\n",
      "user_score             16715 non-null float64\n",
      "rating                 9949 non-null object\n",
      "dtypes: float64(6), int64(1), object(4)\n",
      "memory usage: 1.4+ MB\n"
     ]
    }
   ],
   "source": [
    "data.info()"
   ]
  },
  {
   "cell_type": "code",
   "execution_count": 13,
   "metadata": {},
   "outputs": [
    {
     "data": {
      "text/plain": [
       "name                      2\n",
       "platform                  0\n",
       "year_of_release           0\n",
       "genre                     2\n",
       "north_america_sales       0\n",
       "europe_sales              0\n",
       "japan_sales               0\n",
       "other_sales               0\n",
       "critic_score           8578\n",
       "user_score                0\n",
       "rating                 6766\n",
       "dtype: int64"
      ]
     },
     "execution_count": 13,
     "metadata": {},
     "output_type": "execute_result"
    }
   ],
   "source": [
    "data.isna().sum()"
   ]
  },
  {
   "cell_type": "code",
   "execution_count": 14,
   "metadata": {},
   "outputs": [],
   "source": [
    "data = data.dropna(subset=['name'])# удаляю строки бех названия игры - это важная информация"
   ]
  },
  {
   "cell_type": "code",
   "execution_count": 15,
   "metadata": {},
   "outputs": [],
   "source": [
    "data['rating'] = data['rating'].fillna('unknown')"
   ]
  },
  {
   "cell_type": "markdown",
   "metadata": {},
   "source": [
    "Строки с пропусками наименования игры удаляю, так как это необходимая информация для анализа. Остальные пропуски оставляю, так как информацию по ним уточнить нет возможности, а заполнить какими-то данными - нет смысла."
   ]
  },
  {
   "cell_type": "code",
   "execution_count": 16,
   "metadata": {
    "scrolled": true
   },
   "outputs": [
    {
     "data": {
      "text/plain": [
       "array([ 8. , -1. ,  8.3,  8.5,  6.6,  8.4,  8.6,  7.7,  6.3,  7.4,  8.2,\n",
       "        9. ,  7.9,  8.1,  8.7,  7.1,  3.4,  5.3,  4.8,  3.2,  8.9,  6.4,\n",
       "        7.8,  7.5,  2.6,  7.2,  9.2,  7. ,  7.3,  4.3,  7.6,  5.7,  5. ,\n",
       "        9.1,  6.5,  8.8,  6.9,  9.4,  6.8,  6.1,  6.7,  5.4,  4. ,  4.9,\n",
       "        4.5,  9.3,  6.2,  4.2,  6. ,  3.7,  4.1,  5.8,  5.6,  5.5,  4.4,\n",
       "        4.6,  5.9,  3.9,  3.1,  2.9,  5.2,  3.3,  4.7,  5.1,  3.5,  2.5,\n",
       "        1.9,  3. ,  2.7,  2.2,  2. ,  9.5,  2.1,  3.6,  2.8,  1.8,  3.8,\n",
       "        0. ,  1.6,  9.6,  2.4,  1.7,  1.1,  0.3,  1.5,  0.7,  1.2,  2.3,\n",
       "        0.5,  1.3,  0.2,  0.6,  1.4,  0.9,  1. ,  9.7])"
      ]
     },
     "execution_count": 16,
     "metadata": {},
     "output_type": "execute_result"
    }
   ],
   "source": [
    "data['user_score'].unique()"
   ]
  },
  {
   "cell_type": "code",
   "execution_count": 17,
   "metadata": {},
   "outputs": [],
   "source": [
    "data['total_sales'] = data['north_america_sales'] + data['europe_sales'] + data['japan_sales'] + data['other_sales']"
   ]
  },
  {
   "cell_type": "code",
   "execution_count": 18,
   "metadata": {
    "scrolled": true
   },
   "outputs": [
    {
     "data": {
      "text/html": [
       "<div>\n",
       "<style scoped>\n",
       "    .dataframe tbody tr th:only-of-type {\n",
       "        vertical-align: middle;\n",
       "    }\n",
       "\n",
       "    .dataframe tbody tr th {\n",
       "        vertical-align: top;\n",
       "    }\n",
       "\n",
       "    .dataframe thead th {\n",
       "        text-align: right;\n",
       "    }\n",
       "</style>\n",
       "<table border=\"1\" class=\"dataframe\">\n",
       "  <thead>\n",
       "    <tr style=\"text-align: right;\">\n",
       "      <th></th>\n",
       "      <th>name</th>\n",
       "      <th>platform</th>\n",
       "      <th>year_of_release</th>\n",
       "      <th>genre</th>\n",
       "      <th>north_america_sales</th>\n",
       "      <th>europe_sales</th>\n",
       "      <th>japan_sales</th>\n",
       "      <th>other_sales</th>\n",
       "      <th>critic_score</th>\n",
       "      <th>user_score</th>\n",
       "      <th>rating</th>\n",
       "      <th>total_sales</th>\n",
       "    </tr>\n",
       "  </thead>\n",
       "  <tbody>\n",
       "    <tr>\n",
       "      <td>0</td>\n",
       "      <td>Wii Sports</td>\n",
       "      <td>Wii</td>\n",
       "      <td>2006</td>\n",
       "      <td>Sports</td>\n",
       "      <td>41.36</td>\n",
       "      <td>28.96</td>\n",
       "      <td>3.77</td>\n",
       "      <td>8.45</td>\n",
       "      <td>76.0</td>\n",
       "      <td>8.0</td>\n",
       "      <td>E</td>\n",
       "      <td>82.54</td>\n",
       "    </tr>\n",
       "    <tr>\n",
       "      <td>1</td>\n",
       "      <td>Super Mario Bros.</td>\n",
       "      <td>NES</td>\n",
       "      <td>1985</td>\n",
       "      <td>Platform</td>\n",
       "      <td>29.08</td>\n",
       "      <td>3.58</td>\n",
       "      <td>6.81</td>\n",
       "      <td>0.77</td>\n",
       "      <td>NaN</td>\n",
       "      <td>-1.0</td>\n",
       "      <td>unknown</td>\n",
       "      <td>40.24</td>\n",
       "    </tr>\n",
       "    <tr>\n",
       "      <td>2</td>\n",
       "      <td>Mario Kart Wii</td>\n",
       "      <td>Wii</td>\n",
       "      <td>2008</td>\n",
       "      <td>Racing</td>\n",
       "      <td>15.68</td>\n",
       "      <td>12.76</td>\n",
       "      <td>3.79</td>\n",
       "      <td>3.29</td>\n",
       "      <td>82.0</td>\n",
       "      <td>8.3</td>\n",
       "      <td>E</td>\n",
       "      <td>35.52</td>\n",
       "    </tr>\n",
       "    <tr>\n",
       "      <td>3</td>\n",
       "      <td>Wii Sports Resort</td>\n",
       "      <td>Wii</td>\n",
       "      <td>2009</td>\n",
       "      <td>Sports</td>\n",
       "      <td>15.61</td>\n",
       "      <td>10.93</td>\n",
       "      <td>3.28</td>\n",
       "      <td>2.95</td>\n",
       "      <td>80.0</td>\n",
       "      <td>8.0</td>\n",
       "      <td>E</td>\n",
       "      <td>32.77</td>\n",
       "    </tr>\n",
       "    <tr>\n",
       "      <td>4</td>\n",
       "      <td>Pokemon Red/Pokemon Blue</td>\n",
       "      <td>GB</td>\n",
       "      <td>1996</td>\n",
       "      <td>Role-Playing</td>\n",
       "      <td>11.27</td>\n",
       "      <td>8.89</td>\n",
       "      <td>10.22</td>\n",
       "      <td>1.00</td>\n",
       "      <td>NaN</td>\n",
       "      <td>-1.0</td>\n",
       "      <td>unknown</td>\n",
       "      <td>31.38</td>\n",
       "    </tr>\n",
       "  </tbody>\n",
       "</table>\n",
       "</div>"
      ],
      "text/plain": [
       "                       name platform  year_of_release         genre  \\\n",
       "0                Wii Sports      Wii             2006        Sports   \n",
       "1         Super Mario Bros.      NES             1985      Platform   \n",
       "2            Mario Kart Wii      Wii             2008        Racing   \n",
       "3         Wii Sports Resort      Wii             2009        Sports   \n",
       "4  Pokemon Red/Pokemon Blue       GB             1996  Role-Playing   \n",
       "\n",
       "   north_america_sales  europe_sales  japan_sales  other_sales  critic_score  \\\n",
       "0                41.36         28.96         3.77         8.45          76.0   \n",
       "1                29.08          3.58         6.81         0.77           NaN   \n",
       "2                15.68         12.76         3.79         3.29          82.0   \n",
       "3                15.61         10.93         3.28         2.95          80.0   \n",
       "4                11.27          8.89        10.22         1.00           NaN   \n",
       "\n",
       "   user_score   rating  total_sales  \n",
       "0         8.0        E        82.54  \n",
       "1        -1.0  unknown        40.24  \n",
       "2         8.3        E        35.52  \n",
       "3         8.0        E        32.77  \n",
       "4        -1.0  unknown        31.38  "
      ]
     },
     "execution_count": 18,
     "metadata": {},
     "output_type": "execute_result"
    }
   ],
   "source": [
    "data.head()"
   ]
  },
  {
   "cell_type": "markdown",
   "metadata": {},
   "source": [
    "**Выводы:**\n",
    "* данные в столбце user_score приведены к числовому типу методом pd.to_numeric. метод выбран для того, чтобы ошибки принужительно привести к нужному типу\n",
    "* для приведению к числовому типу данных в столбце year_of_release использован метод astype - чтобы привести к конкретному типу int\n",
    "* переименованы столбцы в соответствии со стандартом\n",
    "* удалены строки с пропусками важной информации\n",
    "* добавлен столбец и итоговой суммой продаж"
   ]
  },
  {
   "cell_type": "markdown",
   "metadata": {},
   "source": [
    "## Анализ данных"
   ]
  },
  {
   "cell_type": "code",
   "execution_count": 19,
   "metadata": {},
   "outputs": [],
   "source": [
    "data_grouped = data.groupby('year_of_release')['name'].count()"
   ]
  },
  {
   "cell_type": "code",
   "execution_count": 20,
   "metadata": {},
   "outputs": [
    {
     "data": {
      "text/plain": [
       "year_of_release\n",
       "1980       9\n",
       "1981      46\n",
       "1982      36\n",
       "1983      17\n",
       "1984      14\n",
       "1985      14\n",
       "1986      21\n",
       "1987      16\n",
       "1988      15\n",
       "1989      17\n",
       "1990      16\n",
       "1991      41\n",
       "1992      43\n",
       "1993      60\n",
       "1994     121\n",
       "1995     219\n",
       "1996     263\n",
       "1997     289\n",
       "1998     379\n",
       "1999     338\n",
       "2000     350\n",
       "2001     482\n",
       "2002     829\n",
       "2003     775\n",
       "2004     762\n",
       "2005     939\n",
       "2006    1006\n",
       "2007    1197\n",
       "2008    1427\n",
       "2009    1426\n",
       "2010    1255\n",
       "2011    1136\n",
       "2012     653\n",
       "2013     544\n",
       "2014     581\n",
       "2015     606\n",
       "2016     502\n",
       "2022     269\n",
       "Name: name, dtype: int64"
      ]
     },
     "metadata": {},
     "output_type": "display_data"
    }
   ],
   "source": [
    "display(data_grouped) # количество выпущенных игр по годам"
   ]
  },
  {
   "cell_type": "markdown",
   "metadata": {},
   "source": [
    "В среднем количество игр увеличивалось с каждым годом. Пик пришелся на период с 2002 по 2011. Потом резкий спад. Так как за 2016 год данные могут быть не полными, возможно, не стоит их брать в расчет."
   ]
  },
  {
   "cell_type": "code",
   "execution_count": 21,
   "metadata": {},
   "outputs": [
    {
     "data": {
      "text/plain": [
       "<matplotlib.axes._subplots.AxesSubplot at 0x7f0a574e2a50>"
      ]
     },
     "execution_count": 21,
     "metadata": {},
     "output_type": "execute_result"
    },
    {
     "data": {
      "image/png": "[encoded data removed]",
      "text/plain": [
       "<Figure size 864x360 with 1 Axes>"
      ]
     },
     "metadata": {
      "needs_background": "light"
     },
     "output_type": "display_data"
    }
   ],
   "source": [
    "data.groupby('year_of_release')['name'].count().plot(kind='bar', style='o-', y='name', figsize=(12,5))"
   ]
  },
  {
   "cell_type": "code",
   "execution_count": 22,
   "metadata": {
    "scrolled": false
   },
   "outputs": [
    {
     "data": {
      "text/plain": [
       "platform\n",
       "PCFX       0.03\n",
       "GG         0.04\n",
       "3DO        0.10\n",
       "TG16       0.16\n",
       "WS         1.42\n",
       "NG         1.44\n",
       "SCD        1.86\n",
       "DC        15.95\n",
       "GEN       28.35\n",
       "SAT       33.59\n",
       "PSV       54.07\n",
       "WiiU      82.19\n",
       "2600      96.98\n",
       "XOne     159.32\n",
       "GC       198.93\n",
       "SNES     200.04\n",
       "N64      218.68\n",
       "NES      251.05\n",
       "GB       255.46\n",
       "XB       257.74\n",
       "3DS      259.00\n",
       "PC       259.52\n",
       "PSP      294.05\n",
       "PS4      314.14\n",
       "GBA      317.85\n",
       "PS       730.86\n",
       "DS       806.12\n",
       "Wii      907.51\n",
       "PS3      939.65\n",
       "X360     971.42\n",
       "PS2     1255.77\n",
       "Name: total_sales, dtype: float64"
      ]
     },
     "metadata": {},
     "output_type": "display_data"
    }
   ],
   "source": [
    "data_platform = data.groupby('platform')['total_sales'].sum() # количество выпущенных игр разными платформами\n",
    "display(data_platform.sort_values())"
   ]
  },
  {
   "cell_type": "markdown",
   "metadata": {},
   "source": [
    "Платформы PCFX, GG, 3DO, TG16 совсем скромные - даже до миллиона не дотягивают. Есть шестерка фаворитов - PS, DS, Wii, PS3, Х360, PS2  "
   ]
  },
  {
   "cell_type": "markdown",
   "metadata": {},
   "source": [
    "### Самые успешные платформы"
   ]
  },
  {
   "cell_type": "code",
   "execution_count": 23,
   "metadata": {},
   "outputs": [
    {
     "data": {
      "text/plain": [
       "<matplotlib.axes._subplots.AxesSubplot at 0x7f0a4ecc0650>"
      ]
     },
     "execution_count": 23,
     "metadata": {},
     "output_type": "execute_result"
    },
    {
     "data": {
      "image/png": "[encoded data removed]",
      "text/plain": [
       "<Figure size 864x360 with 1 Axes>"
      ]
     },
     "metadata": {
      "needs_background": "light"
     },
     "output_type": "display_data"
    }
   ],
   "source": [
    "data[data['year_of_release'] != 2022].query('platform == \"PS\"').plot(kind='hist', y='year_of_release', label='PS', figsize=(12, 5), \n",
    "                                                                     title='Продажи на PS', bins=30, legend=True)\n"
   ]
  },
  {
   "cell_type": "markdown",
   "metadata": {},
   "source": [
    "Пик продаж на платформе PS пришелся на 1998 год. С подъема до упадка прошло 9 лет."
   ]
  },
  {
   "cell_type": "code",
   "execution_count": 24,
   "metadata": {
    "scrolled": false
   },
   "outputs": [
    {
     "data": {
      "text/plain": [
       "<matplotlib.axes._subplots.AxesSubplot at 0x7f0a4eba73d0>"
      ]
     },
     "execution_count": 24,
     "metadata": {},
     "output_type": "execute_result"
    },
    {
     "data": {
      "image/png": "[encoded data removed]",
      "text/plain": [
       "<Figure size 864x288 with 1 Axes>"
      ]
     },
     "metadata": {
      "needs_background": "light"
     },
     "output_type": "display_data"
    }
   ],
   "source": [
    "data.query('platform == \"DS\"').plot(kind='hist', y='year_of_release',label='DS', figsize=(12, 4), range=(2000, 2016), \n",
    "                                    bins=30, title='Продажи на DS', legend=True)\n"
   ]
  },
  {
   "cell_type": "markdown",
   "metadata": {},
   "source": [
    "Пик продаж приходится на 2008 год. С начала работы платформы и до ее угасания прошло тоже 9 лет."
   ]
  },
  {
   "cell_type": "code",
   "execution_count": 25,
   "metadata": {},
   "outputs": [
    {
     "data": {
      "text/plain": [
       "<matplotlib.axes._subplots.AxesSubplot at 0x7f0a4eaf2050>"
      ]
     },
     "execution_count": 25,
     "metadata": {},
     "output_type": "execute_result"
    },
    {
     "data": {
      "image/png": "[encoded data removed]",
      "text/plain": [
       "<Figure size 864x360 with 1 Axes>"
      ]
     },
     "metadata": {
      "needs_background": "light"
     },
     "output_type": "display_data"
    }
   ],
   "source": [
    "data.query('platform == \"Wii\"').plot(kind='hist', y='year_of_release', label='WII', figsize=(12, 5), \n",
    "                                     range=(2004, 2016), bins=30, title='Продажи на WII', legend=True)"
   ]
  },
  {
   "cell_type": "markdown",
   "metadata": {},
   "source": [
    "Продажи на этой платформе достигли максимума в 2009 году. Срок активности платформы 7 лет."
   ]
  },
  {
   "cell_type": "code",
   "execution_count": 26,
   "metadata": {
    "scrolled": true
   },
   "outputs": [
    {
     "data": {
      "text/plain": [
       "<matplotlib.axes._subplots.AxesSubplot at 0x7f0a4ea33b90>"
      ]
     },
     "execution_count": 26,
     "metadata": {},
     "output_type": "execute_result"
    },
    {
     "data": {
      "image/png": "[encoded data removed]",
      "text/plain": [
       "<Figure size 864x360 with 1 Axes>"
      ]
     },
     "metadata": {
      "needs_background": "light"
     },
     "output_type": "display_data"
    }
   ],
   "source": [
    "data.query('platform == \"PS3\"').plot(kind='hist', y='year_of_release', label='PS3', figsize=(12, 5), \n",
    "                                     range=(2006, 2016),title='Продажи на PS3',bins=30, legend=True)\n"
   ]
  },
  {
   "cell_type": "markdown",
   "metadata": {},
   "source": [
    "Пик продаж приходится на 2011 год. С начала роста и до постепенного угасания прошло 11 лет. Но, возможно, в 2016 году не все так плохо ввиду возможности неполных данных. Стоит обратить более пристальное внимание на данную платформу. Хотя среднестатистический цикл существования платформы подходит к концу."
   ]
  },
  {
   "cell_type": "code",
   "execution_count": 27,
   "metadata": {
    "scrolled": true
   },
   "outputs": [
    {
     "data": {
      "text/plain": [
       "<matplotlib.axes._subplots.AxesSubplot at 0x7f0a4e9b4510>"
      ]
     },
     "execution_count": 27,
     "metadata": {},
     "output_type": "execute_result"
    },
    {
     "data": {
      "image/png": "[encoded data removed]",
      "text/plain": [
       "<Figure size 864x360 with 1 Axes>"
      ]
     },
     "metadata": {
      "needs_background": "light"
     },
     "output_type": "display_data"
    }
   ],
   "source": [
    "data.query('platform == \"X360\"').plot(kind='hist', y='year_of_release', label='X360', figsize=(12, 5), \n",
    "                                     range=(2005, 2016), bins=30, title='Продажи на Х360', legend=True)\n"
   ]
  },
  {
   "cell_type": "markdown",
   "metadata": {},
   "source": [
    "Здесь полностью аналогичная картина платформе PS3. "
   ]
  },
  {
   "cell_type": "code",
   "execution_count": 28,
   "metadata": {
    "scrolled": true
   },
   "outputs": [
    {
     "data": {
      "text/plain": [
       "<matplotlib.axes._subplots.AxesSubplot at 0x7f0a4e8bf990>"
      ]
     },
     "execution_count": 28,
     "metadata": {},
     "output_type": "execute_result"
    },
    {
     "data": {
      "image/png": "[encoded data removed]",
      "text/plain": [
       "<Figure size 864x360 with 1 Axes>"
      ]
     },
     "metadata": {
      "needs_background": "light"
     },
     "output_type": "display_data"
    }
   ],
   "source": [
    "data.query('platform == \"PS2\"').plot(kind='hist', y='year_of_release', label='PS2', figsize=(12, 5), \n",
    "                                     range=(2000, 2012), bins=30, title='Продажи на PS2', legend=True)\n"
   ]
  },
  {
   "cell_type": "markdown",
   "metadata": {},
   "source": [
    "Начало функционирования платформы очень динамичное - всего за 2 года достигла пика продаж и высокие темпы сохраняла последущие 4 года. Далее небольшой спад, и к 2011 году угасание. Срок существования 11 лет."
   ]
  },
  {
   "cell_type": "markdown",
   "metadata": {},
   "source": [
    "### Перспективные платормы"
   ]
  },
  {
   "cell_type": "code",
   "execution_count": 29,
   "metadata": {},
   "outputs": [
    {
     "data": {
      "text/plain": [
       "platform\n",
       "X360     48.22\n",
       "PS3      68.18\n",
       "3DS      86.68\n",
       "XOne    140.36\n",
       "PS4     288.15\n",
       "Name: total_sales, dtype: float64"
      ]
     },
     "metadata": {},
     "output_type": "display_data"
    }
   ],
   "source": [
    "# Пять наиболее перспективных платформ с учетом актуального периода\n",
    "perspective_platform = data.query('year_of_release >= 2014 and year_of_release != 2022')\n",
    "platform5 = perspective_platform.groupby('platform')['total_sales'].sum().sort_values().tail()\n",
    "display(platform5)"
   ]
  },
  {
   "cell_type": "code",
   "execution_count": 30,
   "metadata": {},
   "outputs": [
    {
     "data": {
      "text/plain": [
       "array([2015, 2014, 2016])"
      ]
     },
     "execution_count": 30,
     "metadata": {},
     "output_type": "execute_result"
    }
   ],
   "source": [
    "perspective_platform['year_of_release'].unique()"
   ]
  },
  {
   "cell_type": "code",
   "execution_count": 31,
   "metadata": {
    "scrolled": true
   },
   "outputs": [
    {
     "name": "stderr",
     "output_type": "stream",
     "text": [
      "/opt/conda/lib/python3.7/site-packages/numpy/core/_asarray.py:83: VisibleDeprecationWarning: Creating an ndarray from ragged nested sequences (which is a list-or-tuple of lists-or-tuples-or ndarrays with different lengths or shapes) is deprecated. If you meant to do this, you must specify 'dtype=object' when creating the ndarray\n",
      "  return array(a, dtype, copy=False, order=order)\n"
     ]
    },
    {
     "data": {
      "text/plain": [
       "<matplotlib.axes._subplots.AxesSubplot at 0x7f0a4e802190>"
      ]
     },
     "execution_count": 31,
     "metadata": {},
     "output_type": "execute_result"
    },
    {
     "data": {
      "image/png": "[encoded data removed]",
      "text/plain": [
       "<Figure size 1224x360 with 1 Axes>"
      ]
     },
     "metadata": {
      "needs_background": "light"
     },
     "output_type": "display_data"
    }
   ],
   "source": [
    "# выбраны актуальные годы\n",
    "data.query('platform in @platform5.index').pivot_table(columns='platform', values='total_sales', index='year_of_release').plot.box(figsize=(17,5), grid=True)\n"
   ]
  },
  {
   "cell_type": "markdown",
   "metadata": {},
   "source": [
    "Наиболее выигрышно выглядит платформа PS4: продажи значительные."
   ]
  },
  {
   "cell_type": "markdown",
   "metadata": {},
   "source": [
    "#### Платформа PS4"
   ]
  },
  {
   "cell_type": "code",
   "execution_count": 32,
   "metadata": {
    "scrolled": true
   },
   "outputs": [
    {
     "data": {
      "text/plain": [
       "<matplotlib.axes._subplots.AxesSubplot at 0x7f0a4e8c5390>"
      ]
     },
     "execution_count": 32,
     "metadata": {},
     "output_type": "execute_result"
    },
    {
     "data": {
      "image/png": "[encoded data removed]",
      "text/plain": [
       "<Figure size 648x288 with 1 Axes>"
      ]
     },
     "metadata": {
      "needs_background": "light"
     },
     "output_type": "display_data"
    }
   ],
   "source": [
    "perspective_platform[perspective_platform['platform'] == \"PS4\"].plot(kind='hist', y='year_of_release', label='PS4', figsize=(9, 4), \n",
    "                                     range=(2012, 2016), title='Продажи на PS4', legend=True)"
   ]
  },
  {
   "cell_type": "markdown",
   "metadata": {},
   "source": [
    "PS4 наиболее перспективная площадка и в пользу этого вывода говорят несколько факторов: \n",
    "* начало функционирования относительно свежее - 2013 год, \n",
    "* с каждым годом продажи только растут, \n",
    "* исходя из наблюдений, есть запас до исхода 10-летнего цикла существования успешных платформ, \n",
    "* последнее - даже с учетом неполных ланных за 2016 год, рост не останавливается и не падает."
   ]
  },
  {
   "cell_type": "code",
   "execution_count": 33,
   "metadata": {},
   "outputs": [
    {
     "data": {
      "text/plain": [
       "critic_score    0.402661\n",
       "user_score      0.104115\n",
       "total_sales     1.000000\n",
       "Name: total_sales, dtype: float64"
      ]
     },
     "execution_count": 33,
     "metadata": {},
     "output_type": "execute_result"
    }
   ],
   "source": [
    "perspective_platform.query('platform == \"PS4\"')[['critic_score', 'user_score', 'total_sales']].corr()['total_sales']"
   ]
  },
  {
   "cell_type": "code",
   "execution_count": 34,
   "metadata": {
    "scrolled": true
   },
   "outputs": [
    {
     "data": {
      "text/plain": [
       "<matplotlib.axes._subplots.AxesSubplot at 0x7f0a4e66de50>"
      ]
     },
     "execution_count": 34,
     "metadata": {},
     "output_type": "execute_result"
    },
    {
     "data": {
      "image/png": "[encoded data removed]",
      "text/plain": [
       "<Figure size 432x288 with 1 Axes>"
      ]
     },
     "metadata": {
      "needs_background": "light"
     },
     "output_type": "display_data"
    }
   ],
   "source": [
    "perspective_platform.query('platform == \"PS4\"').plot.scatter(y='total_sales', x='critic_score')"
   ]
  },
  {
   "cell_type": "markdown",
   "metadata": {},
   "source": [
    "Отзывы критиков влияют на продажи на платформе PS4: чем выше отзывы, тем больше продажи. Коэффициент Пирсона также свидетельствует об этом."
   ]
  },
  {
   "cell_type": "code",
   "execution_count": 35,
   "metadata": {},
   "outputs": [
    {
     "data": {
      "text/plain": [
       "<matplotlib.axes._subplots.AxesSubplot at 0x7f0a4e591290>"
      ]
     },
     "execution_count": 35,
     "metadata": {},
     "output_type": "execute_result"
    },
    {
     "data": {
      "image/png": "[encoded data removed]",
      "text/plain": [
       "<Figure size 432x288 with 1 Axes>"
      ]
     },
     "metadata": {
      "needs_background": "light"
     },
     "output_type": "display_data"
    }
   ],
   "source": [
    "perspective_platform.query('platform == \"PS4\"').plot.scatter(y='total_sales', x='user_score')"
   ]
  },
  {
   "cell_type": "markdown",
   "metadata": {},
   "source": [
    "Видимо, фанаты платформы в начале выхода платформы на рынке покупали, но ожидания их были не оправданы. Этим можно объяснить всплеск продаж при низких оценках (между 4 и 5) пользователей. Далее до оценки в 8,5 были скачки и падения продаж. Далее рост продаж наблюдается при приближении к 9. Коэффициент Пирсона не показывает корреляцию между продажами и оценкой пользователей."
   ]
  },
  {
   "cell_type": "markdown",
   "metadata": {},
   "source": [
    "#### Платформа 3DS"
   ]
  },
  {
   "cell_type": "code",
   "execution_count": 36,
   "metadata": {
    "scrolled": true
   },
   "outputs": [
    {
     "data": {
      "text/plain": [
       "<matplotlib.axes._subplots.AxesSubplot at 0x7f0a4e563f10>"
      ]
     },
     "execution_count": 36,
     "metadata": {},
     "output_type": "execute_result"
    },
    {
     "data": {
      "image/png": "[encoded data removed]",
      "text/plain": [
       "<Figure size 648x288 with 1 Axes>"
      ]
     },
     "metadata": {
      "needs_background": "light"
     },
     "output_type": "display_data"
    }
   ],
   "source": [
    "perspective_platform.query('platform == \"3DS\"').plot(kind='hist', y='year_of_release', label='3DS', figsize=(9, 4), \n",
    "                                     range=(2010, 2016), bins=10, title='Продажи на 3DS', legend=True)\n"
   ]
  },
  {
   "cell_type": "markdown",
   "metadata": {},
   "source": [
    "У данной платформы тоже могут быть перспективы: чуть больше половины 10-летнего цикла просуществовала относительно неплохо. К 2016 году продажи падают, но, существует вероятность, что данные неполные и фактическая картина будет более оптимистичная."
   ]
  },
  {
   "cell_type": "code",
   "execution_count": 37,
   "metadata": {},
   "outputs": [
    {
     "data": {
      "text/plain": [
       "<matplotlib.axes._subplots.AxesSubplot at 0x7f0a4e489210>"
      ]
     },
     "execution_count": 37,
     "metadata": {},
     "output_type": "execute_result"
    },
    {
     "data": {
      "image/png": "[encoded data removed]",
      "text/plain": [
       "<Figure size 432x288 with 1 Axes>"
      ]
     },
     "metadata": {
      "needs_background": "light"
     },
     "output_type": "display_data"
    }
   ],
   "source": [
    "perspective_platform.query('platform == \"3DS\"').plot.scatter(y='total_sales', x='critic_score')"
   ]
  },
  {
   "cell_type": "code",
   "execution_count": 38,
   "metadata": {},
   "outputs": [
    {
     "data": {
      "text/plain": [
       "critic_score    0.314117\n",
       "user_score      0.053287\n",
       "total_sales     1.000000\n",
       "Name: total_sales, dtype: float64"
      ]
     },
     "execution_count": 38,
     "metadata": {},
     "output_type": "execute_result"
    }
   ],
   "source": [
    "perspective_platform.query('platform == \"3DS\"')[['critic_score', 'user_score','total_sales']].corr()['total_sales']"
   ]
  },
  {
   "cell_type": "markdown",
   "metadata": {},
   "source": [
    "Отзывы критиков влияют на продажи на платформе 3DS: чем выше отзывы, тем больше продажи. Коэффициент Пирсона также свидетельствует об этом."
   ]
  },
  {
   "cell_type": "code",
   "execution_count": 39,
   "metadata": {},
   "outputs": [
    {
     "data": {
      "text/plain": [
       "<matplotlib.axes._subplots.AxesSubplot at 0x7f0a4e459250>"
      ]
     },
     "execution_count": 39,
     "metadata": {},
     "output_type": "execute_result"
    },
    {
     "data": {
      "image/png": "[encoded data removed]",
      "text/plain": [
       "<Figure size 432x288 with 1 Axes>"
      ]
     },
     "metadata": {
      "needs_background": "light"
     },
     "output_type": "display_data"
    }
   ],
   "source": [
    "perspective_platform.query('platform == \"3DS\"').plot.scatter(y='total_sales', x='user_score')"
   ]
  },
  {
   "cell_type": "markdown",
   "metadata": {},
   "source": [
    " Продажи начинают расти после оценки 7. Коэффициент Пирсона не показывает  корреляцию между продажами и оценкой пользователей."
   ]
  },
  {
   "cell_type": "markdown",
   "metadata": {},
   "source": [
    "#### Платформа XOne"
   ]
  },
  {
   "cell_type": "code",
   "execution_count": 40,
   "metadata": {
    "scrolled": true
   },
   "outputs": [
    {
     "data": {
      "text/plain": [
       "<matplotlib.axes._subplots.AxesSubplot at 0x7f0a4e3ebd90>"
      ]
     },
     "execution_count": 40,
     "metadata": {},
     "output_type": "execute_result"
    },
    {
     "data": {
      "image/png": "[encoded data removed]",
      "text/plain": [
       "<Figure size 648x288 with 1 Axes>"
      ]
     },
     "metadata": {
      "needs_background": "light"
     },
     "output_type": "display_data"
    }
   ],
   "source": [
    "perspective_platform.query('platform == \"XOne\"').plot(kind='hist', y='year_of_release', label='XOne', figsize=(9, 4), \n",
    "                                     range=(2012, 2016), title='Продажи на XOne', legend=True)"
   ]
  },
  {
   "cell_type": "markdown",
   "metadata": {},
   "source": [
    "Платформа XOne тоже внушает оптимизм. Есть куда расти."
   ]
  },
  {
   "cell_type": "code",
   "execution_count": 41,
   "metadata": {},
   "outputs": [
    {
     "data": {
      "text/plain": [
       "<matplotlib.axes._subplots.AxesSubplot at 0x7f0a4e36c050>"
      ]
     },
     "execution_count": 41,
     "metadata": {},
     "output_type": "execute_result"
    },
    {
     "data": {
      "image/png": "[encoded data removed]",
      "text/plain": [
       "<Figure size 432x288 with 1 Axes>"
      ]
     },
     "metadata": {
      "needs_background": "light"
     },
     "output_type": "display_data"
    }
   ],
   "source": [
    "perspective_platform.query('platform == \"XOne\"').plot.scatter(y='total_sales', x='critic_score')"
   ]
  },
  {
   "cell_type": "code",
   "execution_count": 42,
   "metadata": {},
   "outputs": [
    {
     "data": {
      "text/plain": [
       "critic_score    0.428677\n",
       "user_score      0.106714\n",
       "total_sales     1.000000\n",
       "Name: total_sales, dtype: float64"
      ]
     },
     "execution_count": 42,
     "metadata": {},
     "output_type": "execute_result"
    }
   ],
   "source": [
    "perspective_platform.query('platform == \"XOne\"')[['critic_score', 'user_score','total_sales']].corr()['total_sales']\n"
   ]
  },
  {
   "cell_type": "markdown",
   "metadata": {},
   "source": [
    "Отзывы критиков влияют на продажи на платформе XOne: чем выше отзывы, тем больше продажи. Коэффициент Пирсона также свидетельствует об этом."
   ]
  },
  {
   "cell_type": "code",
   "execution_count": 43,
   "metadata": {},
   "outputs": [
    {
     "data": {
      "text/plain": [
       "<matplotlib.axes._subplots.AxesSubplot at 0x7f0a4e2cc950>"
      ]
     },
     "execution_count": 43,
     "metadata": {},
     "output_type": "execute_result"
    },
    {
     "data": {
      "image/png": "[encoded data removed]",
      "text/plain": [
       "<Figure size 432x288 with 1 Axes>"
      ]
     },
     "metadata": {
      "needs_background": "light"
     },
     "output_type": "display_data"
    }
   ],
   "source": [
    "perspective_platform.query('platform == \"XOne\"').plot.scatter(y='total_sales', x='user_score')"
   ]
  },
  {
   "cell_type": "markdown",
   "metadata": {},
   "source": [
    "Отзывы пользователей очень слабо влияют на продажи. Что на них влияет - загадка."
   ]
  },
  {
   "cell_type": "markdown",
   "metadata": {},
   "source": [
    "### Жанры"
   ]
  },
  {
   "cell_type": "code",
   "execution_count": 44,
   "metadata": {
    "scrolled": true
   },
   "outputs": [
    {
     "data": {
      "text/html": [
       "<div>\n",
       "<style scoped>\n",
       "    .dataframe tbody tr th:only-of-type {\n",
       "        vertical-align: middle;\n",
       "    }\n",
       "\n",
       "    .dataframe tbody tr th {\n",
       "        vertical-align: top;\n",
       "    }\n",
       "\n",
       "    .dataframe thead th {\n",
       "        text-align: right;\n",
       "    }\n",
       "</style>\n",
       "<table border=\"1\" class=\"dataframe\">\n",
       "  <thead>\n",
       "    <tr style=\"text-align: right;\">\n",
       "      <th></th>\n",
       "      <th>name</th>\n",
       "    </tr>\n",
       "    <tr>\n",
       "      <th>genre</th>\n",
       "      <th></th>\n",
       "    </tr>\n",
       "  </thead>\n",
       "  <tbody>\n",
       "    <tr>\n",
       "      <td>Action</td>\n",
       "      <td>619</td>\n",
       "    </tr>\n",
       "    <tr>\n",
       "      <td>Role-Playing</td>\n",
       "      <td>221</td>\n",
       "    </tr>\n",
       "    <tr>\n",
       "      <td>Adventure</td>\n",
       "      <td>185</td>\n",
       "    </tr>\n",
       "    <tr>\n",
       "      <td>Sports</td>\n",
       "      <td>161</td>\n",
       "    </tr>\n",
       "    <tr>\n",
       "      <td>Shooter</td>\n",
       "      <td>128</td>\n",
       "    </tr>\n",
       "    <tr>\n",
       "      <td>Misc</td>\n",
       "      <td>113</td>\n",
       "    </tr>\n",
       "    <tr>\n",
       "      <td>Racing</td>\n",
       "      <td>69</td>\n",
       "    </tr>\n",
       "    <tr>\n",
       "      <td>Fighting</td>\n",
       "      <td>60</td>\n",
       "    </tr>\n",
       "    <tr>\n",
       "      <td>Simulation</td>\n",
       "      <td>44</td>\n",
       "    </tr>\n",
       "    <tr>\n",
       "      <td>Platform</td>\n",
       "      <td>38</td>\n",
       "    </tr>\n",
       "    <tr>\n",
       "      <td>Strategy</td>\n",
       "      <td>37</td>\n",
       "    </tr>\n",
       "    <tr>\n",
       "      <td>Puzzle</td>\n",
       "      <td>14</td>\n",
       "    </tr>\n",
       "  </tbody>\n",
       "</table>\n",
       "</div>"
      ],
      "text/plain": [
       "              name\n",
       "genre             \n",
       "Action         619\n",
       "Role-Playing   221\n",
       "Adventure      185\n",
       "Sports         161\n",
       "Shooter        128\n",
       "Misc           113\n",
       "Racing          69\n",
       "Fighting        60\n",
       "Simulation      44\n",
       "Platform        38\n",
       "Strategy        37\n",
       "Puzzle          14"
      ]
     },
     "metadata": {},
     "output_type": "display_data"
    }
   ],
   "source": [
    "data_groped = perspective_platform.groupby('genre').agg({'name':'count'}) #выявление популярных жанров\n",
    "display(data_groped.sort_values(by='name',ascending=False))"
   ]
  },
  {
   "cell_type": "markdown",
   "metadata": {},
   "source": [
    "Самым популярным жанром является Action, а непопулярным - Puzzle"
   ]
  },
  {
   "cell_type": "code",
   "execution_count": 45,
   "metadata": {},
   "outputs": [
    {
     "data": {
      "text/html": [
       "<div>\n",
       "<style scoped>\n",
       "    .dataframe tbody tr th:only-of-type {\n",
       "        vertical-align: middle;\n",
       "    }\n",
       "\n",
       "    .dataframe tbody tr th {\n",
       "        vertical-align: top;\n",
       "    }\n",
       "\n",
       "    .dataframe thead th {\n",
       "        text-align: right;\n",
       "    }\n",
       "</style>\n",
       "<table border=\"1\" class=\"dataframe\">\n",
       "  <thead>\n",
       "    <tr style=\"text-align: right;\">\n",
       "      <th></th>\n",
       "      <th>total_sales</th>\n",
       "    </tr>\n",
       "    <tr>\n",
       "      <th>genre</th>\n",
       "      <th></th>\n",
       "    </tr>\n",
       "  </thead>\n",
       "  <tbody>\n",
       "    <tr>\n",
       "      <td>Action</td>\n",
       "      <td>199.36</td>\n",
       "    </tr>\n",
       "    <tr>\n",
       "      <td>Shooter</td>\n",
       "      <td>170.94</td>\n",
       "    </tr>\n",
       "    <tr>\n",
       "      <td>Sports</td>\n",
       "      <td>109.48</td>\n",
       "    </tr>\n",
       "    <tr>\n",
       "      <td>Role-Playing</td>\n",
       "      <td>101.44</td>\n",
       "    </tr>\n",
       "    <tr>\n",
       "      <td>Misc</td>\n",
       "      <td>37.55</td>\n",
       "    </tr>\n",
       "    <tr>\n",
       "      <td>Fighting</td>\n",
       "      <td>28.22</td>\n",
       "    </tr>\n",
       "    <tr>\n",
       "      <td>Racing</td>\n",
       "      <td>27.52</td>\n",
       "    </tr>\n",
       "    <tr>\n",
       "      <td>Platform</td>\n",
       "      <td>18.09</td>\n",
       "    </tr>\n",
       "    <tr>\n",
       "      <td>Adventure</td>\n",
       "      <td>17.55</td>\n",
       "    </tr>\n",
       "    <tr>\n",
       "      <td>Simulation</td>\n",
       "      <td>13.13</td>\n",
       "    </tr>\n",
       "    <tr>\n",
       "      <td>Strategy</td>\n",
       "      <td>3.96</td>\n",
       "    </tr>\n",
       "    <tr>\n",
       "      <td>Puzzle</td>\n",
       "      <td>2.21</td>\n",
       "    </tr>\n",
       "  </tbody>\n",
       "</table>\n",
       "</div>"
      ],
      "text/plain": [
       "              total_sales\n",
       "genre                    \n",
       "Action             199.36\n",
       "Shooter            170.94\n",
       "Sports             109.48\n",
       "Role-Playing       101.44\n",
       "Misc                37.55\n",
       "Fighting            28.22\n",
       "Racing              27.52\n",
       "Platform            18.09\n",
       "Adventure           17.55\n",
       "Simulation          13.13\n",
       "Strategy             3.96\n",
       "Puzzle               2.21"
      ]
     },
     "metadata": {},
     "output_type": "display_data"
    }
   ],
   "source": [
    "display(perspective_platform.pivot_table(index='genre', values='total_sales', aggfunc='sum')\n",
    "        .sort_values(by='total_sales', ascending=False))"
   ]
  },
  {
   "cell_type": "markdown",
   "metadata": {},
   "source": [
    "По продажам тоже лидирует Action, меньше всего продаж у игр жанра Puzzle"
   ]
  },
  {
   "cell_type": "markdown",
   "metadata": {},
   "source": [
    "### Выводы:\n",
    "* В среднем количество выпускаемых игр увеличивалось с каждым годом до 2011. Потом резкий спад.\n",
    "* Так как за 2016 год данные могут быть не полными, возможно, не стоит их брать в расчет.\n",
    "* Выявлены платформы с самыми малым количеством продаж: PCFX, GG, 3DO, TG16. \n",
    "* Есть шестерка самых успешных платформ - PS, DS, Wii, PS3, Х360, PS2.\n",
    "* На примере самых успешных платформ видно, что жизненный цикл составляет примерно 10 лет. \n",
    "* Выявлен актуальный период, в котором нужно рассматривать потенциально успешные платформы: начиная с 2014 года. Так как выяснилось, что 10 лет - это предел сущствования платформ, поэтому платформы набирающие обороты в промежуток с 2014 по 2016 годы имеют шансы просуществовать еще несколько лет.\n",
    "* за актуальный период удалось выяснить, PS4 наиболее перспективная площадка, так как: \n",
    "  * начало функционирования относительно свежее - 2013 год, \n",
    "  * с каждым годом продажи только растут, \n",
    "  * исходя из наблюдений, есть запас до исхода 10-летнего цикла существования успешных платформ, \n",
    "  * последнее - даже с учетом неполных ланных за 2016 год, рост не останавливается и не падает.\n",
    "* также есть перспективы у платформы 3DS и XOne: чуть больше половины 10-летнего цикла просуществовала относительно неплохо. К 2016 году продажи падают, но, существует вероятность, что данные неполные и фактическая картина будет более оптимистичная.\n",
    "* оценки критиков имеют влияние на продажи. А вот влияние оценки пользователей не очень показательное.\n",
    "* самыми популярными жанрами являются Action и Role-Playing. А непопулярный - Puzzle.\n",
    "* по продажам также лидируют Action и Shooter, а жанр Puzzle  на самой низкой строчке."
   ]
  },
  {
   "cell_type": "markdown",
   "metadata": {},
   "source": [
    "## Портрет пользователя"
   ]
  },
  {
   "cell_type": "markdown",
   "metadata": {},
   "source": [
    "### Платформы. Северная Америка"
   ]
  },
  {
   "cell_type": "code",
   "execution_count": 46,
   "metadata": {},
   "outputs": [
    {
     "data": {
      "text/html": [
       "<div>\n",
       "<style scoped>\n",
       "    .dataframe tbody tr th:only-of-type {\n",
       "        vertical-align: middle;\n",
       "    }\n",
       "\n",
       "    .dataframe tbody tr th {\n",
       "        vertical-align: top;\n",
       "    }\n",
       "\n",
       "    .dataframe thead th {\n",
       "        text-align: right;\n",
       "    }\n",
       "</style>\n",
       "<table border=\"1\" class=\"dataframe\">\n",
       "  <thead>\n",
       "    <tr style=\"text-align: right;\">\n",
       "      <th></th>\n",
       "      <th>north_america_sales</th>\n",
       "      <th>total_sales</th>\n",
       "      <th>na_persent</th>\n",
       "    </tr>\n",
       "    <tr>\n",
       "      <th>platform</th>\n",
       "      <th></th>\n",
       "      <th></th>\n",
       "      <th></th>\n",
       "    </tr>\n",
       "  </thead>\n",
       "  <tbody>\n",
       "    <tr>\n",
       "      <td>X360</td>\n",
       "      <td>28.30</td>\n",
       "      <td>48.22</td>\n",
       "      <td>58.69</td>\n",
       "    </tr>\n",
       "    <tr>\n",
       "      <td>XOne</td>\n",
       "      <td>81.27</td>\n",
       "      <td>140.36</td>\n",
       "      <td>57.90</td>\n",
       "    </tr>\n",
       "    <tr>\n",
       "      <td>WiiU</td>\n",
       "      <td>19.36</td>\n",
       "      <td>42.98</td>\n",
       "      <td>45.04</td>\n",
       "    </tr>\n",
       "    <tr>\n",
       "      <td>Wii</td>\n",
       "      <td>2.08</td>\n",
       "      <td>5.07</td>\n",
       "      <td>41.03</td>\n",
       "    </tr>\n",
       "    <tr>\n",
       "      <td>PS4</td>\n",
       "      <td>98.61</td>\n",
       "      <td>288.15</td>\n",
       "      <td>34.22</td>\n",
       "    </tr>\n",
       "  </tbody>\n",
       "</table>\n",
       "</div>"
      ],
      "text/plain": [
       "          north_america_sales  total_sales  na_persent\n",
       "platform                                              \n",
       "X360                    28.30        48.22       58.69\n",
       "XOne                    81.27       140.36       57.90\n",
       "WiiU                    19.36        42.98       45.04\n",
       "Wii                      2.08         5.07       41.03\n",
       "PS4                     98.61       288.15       34.22"
      ]
     },
     "execution_count": 46,
     "metadata": {},
     "output_type": "execute_result"
    }
   ],
   "source": [
    "na = perspective_platform.pivot_table(index='platform', values=['north_america_sales', 'total_sales'], aggfunc='sum')\n",
    "\n",
    "na['na_persent'] = round((na['north_america_sales'] / na['total_sales']) * 100, 2)\n",
    "\n",
    "na.sort_values('na_persent', ascending=False).head()"
   ]
  },
  {
   "cell_type": "markdown",
   "metadata": {},
   "source": [
    "В процентах от глобальных продаж лидирует платформа X360 - 58,69%. "
   ]
  },
  {
   "cell_type": "code",
   "execution_count": 47,
   "metadata": {},
   "outputs": [
    {
     "data": {
      "text/html": [
       "<div>\n",
       "<style scoped>\n",
       "    .dataframe tbody tr th:only-of-type {\n",
       "        vertical-align: middle;\n",
       "    }\n",
       "\n",
       "    .dataframe tbody tr th {\n",
       "        vertical-align: top;\n",
       "    }\n",
       "\n",
       "    .dataframe thead th {\n",
       "        text-align: right;\n",
       "    }\n",
       "</style>\n",
       "<table border=\"1\" class=\"dataframe\">\n",
       "  <thead>\n",
       "    <tr style=\"text-align: right;\">\n",
       "      <th></th>\n",
       "      <th>north_america_sales</th>\n",
       "      <th>total_sales</th>\n",
       "      <th>na_persent</th>\n",
       "    </tr>\n",
       "    <tr>\n",
       "      <th>platform</th>\n",
       "      <th></th>\n",
       "      <th></th>\n",
       "      <th></th>\n",
       "    </tr>\n",
       "  </thead>\n",
       "  <tbody>\n",
       "    <tr>\n",
       "      <td>PS4</td>\n",
       "      <td>98.61</td>\n",
       "      <td>288.15</td>\n",
       "      <td>34.22</td>\n",
       "    </tr>\n",
       "    <tr>\n",
       "      <td>XOne</td>\n",
       "      <td>81.27</td>\n",
       "      <td>140.36</td>\n",
       "      <td>57.90</td>\n",
       "    </tr>\n",
       "    <tr>\n",
       "      <td>X360</td>\n",
       "      <td>28.30</td>\n",
       "      <td>48.22</td>\n",
       "      <td>58.69</td>\n",
       "    </tr>\n",
       "    <tr>\n",
       "      <td>3DS</td>\n",
       "      <td>22.64</td>\n",
       "      <td>86.68</td>\n",
       "      <td>26.12</td>\n",
       "    </tr>\n",
       "    <tr>\n",
       "      <td>PS3</td>\n",
       "      <td>22.05</td>\n",
       "      <td>68.18</td>\n",
       "      <td>32.34</td>\n",
       "    </tr>\n",
       "  </tbody>\n",
       "</table>\n",
       "</div>"
      ],
      "text/plain": [
       "          north_america_sales  total_sales  na_persent\n",
       "platform                                              \n",
       "PS4                     98.61       288.15       34.22\n",
       "XOne                    81.27       140.36       57.90\n",
       "X360                    28.30        48.22       58.69\n",
       "3DS                     22.64        86.68       26.12\n",
       "PS3                     22.05        68.18       32.34"
      ]
     },
     "execution_count": 47,
     "metadata": {},
     "output_type": "execute_result"
    }
   ],
   "source": [
    "na.sort_values('north_america_sales', ascending=False).head()"
   ]
  },
  {
   "cell_type": "markdown",
   "metadata": {},
   "source": [
    "А по количеству проданных игр пользовательские симпатии на стороне платформы PS4 - на ее долю приходится 34,22 % от глобальных продаж. "
   ]
  },
  {
   "cell_type": "markdown",
   "metadata": {},
   "source": [
    "### Платформы. Европа"
   ]
  },
  {
   "cell_type": "code",
   "execution_count": 48,
   "metadata": {
    "scrolled": true
   },
   "outputs": [
    {
     "data": {
      "text/html": [
       "<div>\n",
       "<style scoped>\n",
       "    .dataframe tbody tr th:only-of-type {\n",
       "        vertical-align: middle;\n",
       "    }\n",
       "\n",
       "    .dataframe tbody tr th {\n",
       "        vertical-align: top;\n",
       "    }\n",
       "\n",
       "    .dataframe thead th {\n",
       "        text-align: right;\n",
       "    }\n",
       "</style>\n",
       "<table border=\"1\" class=\"dataframe\">\n",
       "  <thead>\n",
       "    <tr style=\"text-align: right;\">\n",
       "      <th></th>\n",
       "      <th>europe_sales</th>\n",
       "      <th>total_sales</th>\n",
       "      <th>eu_persent</th>\n",
       "    </tr>\n",
       "    <tr>\n",
       "      <th>platform</th>\n",
       "      <th></th>\n",
       "      <th></th>\n",
       "      <th></th>\n",
       "    </tr>\n",
       "  </thead>\n",
       "  <tbody>\n",
       "    <tr>\n",
       "      <td>PC</td>\n",
       "      <td>17.97</td>\n",
       "      <td>27.05</td>\n",
       "      <td>66.43</td>\n",
       "    </tr>\n",
       "    <tr>\n",
       "      <td>Wii</td>\n",
       "      <td>2.59</td>\n",
       "      <td>5.07</td>\n",
       "      <td>51.08</td>\n",
       "    </tr>\n",
       "    <tr>\n",
       "      <td>PS4</td>\n",
       "      <td>130.04</td>\n",
       "      <td>288.15</td>\n",
       "      <td>45.13</td>\n",
       "    </tr>\n",
       "    <tr>\n",
       "      <td>PS3</td>\n",
       "      <td>25.54</td>\n",
       "      <td>68.18</td>\n",
       "      <td>37.46</td>\n",
       "    </tr>\n",
       "    <tr>\n",
       "      <td>XOne</td>\n",
       "      <td>46.25</td>\n",
       "      <td>140.36</td>\n",
       "      <td>32.95</td>\n",
       "    </tr>\n",
       "  </tbody>\n",
       "</table>\n",
       "</div>"
      ],
      "text/plain": [
       "          europe_sales  total_sales  eu_persent\n",
       "platform                                       \n",
       "PC               17.97        27.05       66.43\n",
       "Wii               2.59         5.07       51.08\n",
       "PS4             130.04       288.15       45.13\n",
       "PS3              25.54        68.18       37.46\n",
       "XOne             46.25       140.36       32.95"
      ]
     },
     "execution_count": 48,
     "metadata": {},
     "output_type": "execute_result"
    }
   ],
   "source": [
    "europe = perspective_platform.pivot_table(index='platform', values=['europe_sales', 'total_sales'], aggfunc='sum')\n",
    "\n",
    "europe['eu_persent'] = round((europe['europe_sales'] / europe['total_sales']) * 100, 2)\n",
    "\n",
    "europe.sort_values('eu_persent', ascending=False).head()"
   ]
  },
  {
   "cell_type": "code",
   "execution_count": 49,
   "metadata": {},
   "outputs": [
    {
     "data": {
      "text/html": [
       "<div>\n",
       "<style scoped>\n",
       "    .dataframe tbody tr th:only-of-type {\n",
       "        vertical-align: middle;\n",
       "    }\n",
       "\n",
       "    .dataframe tbody tr th {\n",
       "        vertical-align: top;\n",
       "    }\n",
       "\n",
       "    .dataframe thead th {\n",
       "        text-align: right;\n",
       "    }\n",
       "</style>\n",
       "<table border=\"1\" class=\"dataframe\">\n",
       "  <thead>\n",
       "    <tr style=\"text-align: right;\">\n",
       "      <th></th>\n",
       "      <th>europe_sales</th>\n",
       "      <th>total_sales</th>\n",
       "      <th>eu_persent</th>\n",
       "    </tr>\n",
       "    <tr>\n",
       "      <th>platform</th>\n",
       "      <th></th>\n",
       "      <th></th>\n",
       "      <th></th>\n",
       "    </tr>\n",
       "  </thead>\n",
       "  <tbody>\n",
       "    <tr>\n",
       "      <td>PS4</td>\n",
       "      <td>130.04</td>\n",
       "      <td>288.15</td>\n",
       "      <td>45.13</td>\n",
       "    </tr>\n",
       "    <tr>\n",
       "      <td>XOne</td>\n",
       "      <td>46.25</td>\n",
       "      <td>140.36</td>\n",
       "      <td>32.95</td>\n",
       "    </tr>\n",
       "    <tr>\n",
       "      <td>PS3</td>\n",
       "      <td>25.54</td>\n",
       "      <td>68.18</td>\n",
       "      <td>37.46</td>\n",
       "    </tr>\n",
       "    <tr>\n",
       "      <td>PC</td>\n",
       "      <td>17.97</td>\n",
       "      <td>27.05</td>\n",
       "      <td>66.43</td>\n",
       "    </tr>\n",
       "    <tr>\n",
       "      <td>3DS</td>\n",
       "      <td>16.12</td>\n",
       "      <td>86.68</td>\n",
       "      <td>18.60</td>\n",
       "    </tr>\n",
       "  </tbody>\n",
       "</table>\n",
       "</div>"
      ],
      "text/plain": [
       "          europe_sales  total_sales  eu_persent\n",
       "platform                                       \n",
       "PS4             130.04       288.15       45.13\n",
       "XOne             46.25       140.36       32.95\n",
       "PS3              25.54        68.18       37.46\n",
       "PC               17.97        27.05       66.43\n",
       "3DS              16.12        86.68       18.60"
      ]
     },
     "execution_count": 49,
     "metadata": {},
     "output_type": "execute_result"
    }
   ],
   "source": [
    "europe.sort_values('europe_sales', ascending=False).head()"
   ]
  },
  {
   "cell_type": "markdown",
   "metadata": {},
   "source": [
    "В Европе высокая доля продаж приходится на платформу PC. А по количеству проданных игр первое место также за PS4."
   ]
  },
  {
   "cell_type": "markdown",
   "metadata": {},
   "source": [
    "### Платформы. Япония"
   ]
  },
  {
   "cell_type": "code",
   "execution_count": 50,
   "metadata": {
    "scrolled": true
   },
   "outputs": [
    {
     "data": {
      "text/html": [
       "<div>\n",
       "<style scoped>\n",
       "    .dataframe tbody tr th:only-of-type {\n",
       "        vertical-align: middle;\n",
       "    }\n",
       "\n",
       "    .dataframe tbody tr th {\n",
       "        vertical-align: top;\n",
       "    }\n",
       "\n",
       "    .dataframe thead th {\n",
       "        text-align: right;\n",
       "    }\n",
       "</style>\n",
       "<table border=\"1\" class=\"dataframe\">\n",
       "  <thead>\n",
       "    <tr style=\"text-align: right;\">\n",
       "      <th></th>\n",
       "      <th>japan_sales</th>\n",
       "      <th>total_sales</th>\n",
       "      <th>jap_persent</th>\n",
       "    </tr>\n",
       "    <tr>\n",
       "      <th>platform</th>\n",
       "      <th></th>\n",
       "      <th></th>\n",
       "      <th></th>\n",
       "    </tr>\n",
       "  </thead>\n",
       "  <tbody>\n",
       "    <tr>\n",
       "      <td>PSP</td>\n",
       "      <td>0.36</td>\n",
       "      <td>0.36</td>\n",
       "      <td>100.00</td>\n",
       "    </tr>\n",
       "    <tr>\n",
       "      <td>PSV</td>\n",
       "      <td>14.54</td>\n",
       "      <td>22.40</td>\n",
       "      <td>64.91</td>\n",
       "    </tr>\n",
       "    <tr>\n",
       "      <td>3DS</td>\n",
       "      <td>44.24</td>\n",
       "      <td>86.68</td>\n",
       "      <td>51.04</td>\n",
       "    </tr>\n",
       "    <tr>\n",
       "      <td>WiiU</td>\n",
       "      <td>7.31</td>\n",
       "      <td>42.98</td>\n",
       "      <td>17.01</td>\n",
       "    </tr>\n",
       "    <tr>\n",
       "      <td>PS3</td>\n",
       "      <td>11.22</td>\n",
       "      <td>68.18</td>\n",
       "      <td>16.46</td>\n",
       "    </tr>\n",
       "  </tbody>\n",
       "</table>\n",
       "</div>"
      ],
      "text/plain": [
       "          japan_sales  total_sales  jap_persent\n",
       "platform                                       \n",
       "PSP              0.36         0.36       100.00\n",
       "PSV             14.54        22.40        64.91\n",
       "3DS             44.24        86.68        51.04\n",
       "WiiU             7.31        42.98        17.01\n",
       "PS3             11.22        68.18        16.46"
      ]
     },
     "execution_count": 50,
     "metadata": {},
     "output_type": "execute_result"
    }
   ],
   "source": [
    "japan = perspective_platform.pivot_table(index=['platform'], values=['japan_sales', 'total_sales'], aggfunc='sum')\n",
    "\n",
    "japan['jap_persent'] = round((japan['japan_sales'] / japan['total_sales']) *100, 2)\n",
    "\n",
    "japan.sort_values('jap_persent', ascending=False).head()\n"
   ]
  },
  {
   "cell_type": "code",
   "execution_count": 51,
   "metadata": {},
   "outputs": [
    {
     "data": {
      "text/html": [
       "<div>\n",
       "<style scoped>\n",
       "    .dataframe tbody tr th:only-of-type {\n",
       "        vertical-align: middle;\n",
       "    }\n",
       "\n",
       "    .dataframe tbody tr th {\n",
       "        vertical-align: top;\n",
       "    }\n",
       "\n",
       "    .dataframe thead th {\n",
       "        text-align: right;\n",
       "    }\n",
       "</style>\n",
       "<table border=\"1\" class=\"dataframe\">\n",
       "  <thead>\n",
       "    <tr style=\"text-align: right;\">\n",
       "      <th></th>\n",
       "      <th>japan_sales</th>\n",
       "      <th>total_sales</th>\n",
       "      <th>jap_persent</th>\n",
       "    </tr>\n",
       "    <tr>\n",
       "      <th>platform</th>\n",
       "      <th></th>\n",
       "      <th></th>\n",
       "      <th></th>\n",
       "    </tr>\n",
       "  </thead>\n",
       "  <tbody>\n",
       "    <tr>\n",
       "      <td>3DS</td>\n",
       "      <td>44.24</td>\n",
       "      <td>86.68</td>\n",
       "      <td>51.04</td>\n",
       "    </tr>\n",
       "    <tr>\n",
       "      <td>PS4</td>\n",
       "      <td>15.02</td>\n",
       "      <td>288.15</td>\n",
       "      <td>5.21</td>\n",
       "    </tr>\n",
       "    <tr>\n",
       "      <td>PSV</td>\n",
       "      <td>14.54</td>\n",
       "      <td>22.40</td>\n",
       "      <td>64.91</td>\n",
       "    </tr>\n",
       "    <tr>\n",
       "      <td>PS3</td>\n",
       "      <td>11.22</td>\n",
       "      <td>68.18</td>\n",
       "      <td>16.46</td>\n",
       "    </tr>\n",
       "    <tr>\n",
       "      <td>WiiU</td>\n",
       "      <td>7.31</td>\n",
       "      <td>42.98</td>\n",
       "      <td>17.01</td>\n",
       "    </tr>\n",
       "  </tbody>\n",
       "</table>\n",
       "</div>"
      ],
      "text/plain": [
       "          japan_sales  total_sales  jap_persent\n",
       "platform                                       \n",
       "3DS             44.24        86.68        51.04\n",
       "PS4             15.02       288.15         5.21\n",
       "PSV             14.54        22.40        64.91\n",
       "PS3             11.22        68.18        16.46\n",
       "WiiU             7.31        42.98        17.01"
      ]
     },
     "execution_count": 51,
     "metadata": {},
     "output_type": "execute_result"
    }
   ],
   "source": [
    "japan.sort_values('japan_sales', ascending=False).head()\n"
   ]
  },
  {
   "cell_type": "markdown",
   "metadata": {},
   "source": [
    "Платформ PSP  с самыми низкими продажами интересна только японцам. Видимо, специфика платформ напрямую связана с большой разницей в менталитете японских геймеров. По количеству проданных игр лидирует платформа 3DS."
   ]
  },
  {
   "cell_type": "code",
   "execution_count": 52,
   "metadata": {
    "scrolled": true
   },
   "outputs": [
    {
     "data": {
      "text/html": [
       "<div>\n",
       "<style scoped>\n",
       "    .dataframe tbody tr th:only-of-type {\n",
       "        vertical-align: middle;\n",
       "    }\n",
       "\n",
       "    .dataframe tbody tr th {\n",
       "        vertical-align: top;\n",
       "    }\n",
       "\n",
       "    .dataframe thead th {\n",
       "        text-align: right;\n",
       "    }\n",
       "</style>\n",
       "<table border=\"1\" class=\"dataframe\">\n",
       "  <thead>\n",
       "    <tr style=\"text-align: right;\">\n",
       "      <th></th>\n",
       "      <th>total_sales</th>\n",
       "      <th>na_persent</th>\n",
       "      <th>eu_persent</th>\n",
       "      <th>jap_persent</th>\n",
       "    </tr>\n",
       "    <tr>\n",
       "      <th>platform</th>\n",
       "      <th></th>\n",
       "      <th></th>\n",
       "      <th></th>\n",
       "      <th></th>\n",
       "    </tr>\n",
       "  </thead>\n",
       "  <tbody>\n",
       "    <tr>\n",
       "      <td>PS4</td>\n",
       "      <td>288.15</td>\n",
       "      <td>34.22</td>\n",
       "      <td>45.13</td>\n",
       "      <td>5.21</td>\n",
       "    </tr>\n",
       "    <tr>\n",
       "      <td>XOne</td>\n",
       "      <td>140.36</td>\n",
       "      <td>57.90</td>\n",
       "      <td>32.95</td>\n",
       "      <td>0.23</td>\n",
       "    </tr>\n",
       "    <tr>\n",
       "      <td>3DS</td>\n",
       "      <td>86.68</td>\n",
       "      <td>26.12</td>\n",
       "      <td>18.60</td>\n",
       "      <td>51.04</td>\n",
       "    </tr>\n",
       "    <tr>\n",
       "      <td>PS3</td>\n",
       "      <td>68.18</td>\n",
       "      <td>32.34</td>\n",
       "      <td>37.46</td>\n",
       "      <td>16.46</td>\n",
       "    </tr>\n",
       "    <tr>\n",
       "      <td>X360</td>\n",
       "      <td>48.22</td>\n",
       "      <td>58.69</td>\n",
       "      <td>32.12</td>\n",
       "      <td>0.17</td>\n",
       "    </tr>\n",
       "    <tr>\n",
       "      <td>WiiU</td>\n",
       "      <td>42.98</td>\n",
       "      <td>45.04</td>\n",
       "      <td>30.60</td>\n",
       "      <td>17.01</td>\n",
       "    </tr>\n",
       "    <tr>\n",
       "      <td>PC</td>\n",
       "      <td>27.05</td>\n",
       "      <td>26.73</td>\n",
       "      <td>66.43</td>\n",
       "      <td>0.00</td>\n",
       "    </tr>\n",
       "    <tr>\n",
       "      <td>PSV</td>\n",
       "      <td>22.40</td>\n",
       "      <td>11.25</td>\n",
       "      <td>15.76</td>\n",
       "      <td>64.91</td>\n",
       "    </tr>\n",
       "    <tr>\n",
       "      <td>Wii</td>\n",
       "      <td>5.07</td>\n",
       "      <td>41.03</td>\n",
       "      <td>51.08</td>\n",
       "      <td>0.00</td>\n",
       "    </tr>\n",
       "    <tr>\n",
       "      <td>PSP</td>\n",
       "      <td>0.36</td>\n",
       "      <td>0.00</td>\n",
       "      <td>0.00</td>\n",
       "      <td>100.00</td>\n",
       "    </tr>\n",
       "  </tbody>\n",
       "</table>\n",
       "</div>"
      ],
      "text/plain": [
       "          total_sales  na_persent  eu_persent  jap_persent\n",
       "platform                                                  \n",
       "PS4            288.15       34.22       45.13         5.21\n",
       "XOne           140.36       57.90       32.95         0.23\n",
       "3DS             86.68       26.12       18.60        51.04\n",
       "PS3             68.18       32.34       37.46        16.46\n",
       "X360            48.22       58.69       32.12         0.17\n",
       "WiiU            42.98       45.04       30.60        17.01\n",
       "PC              27.05       26.73       66.43         0.00\n",
       "PSV             22.40       11.25       15.76        64.91\n",
       "Wii              5.07       41.03       51.08         0.00\n",
       "PSP              0.36        0.00        0.00       100.00"
      ]
     },
     "metadata": {},
     "output_type": "display_data"
    }
   ],
   "source": [
    "general_table = na[['total_sales','na_persent']].merge(europe[['total_sales', 'eu_persent']], on=['total_sales', 'platform'], how='outer')\n",
    "general_table = general_table.merge(japan[['total_sales', 'jap_persent']], on=['platform', 'total_sales'], how='outer')\n",
    "display(general_table.sort_values('total_sales', ascending=False))"
   ]
  },
  {
   "cell_type": "markdown",
   "metadata": {},
   "source": [
    "### Жанры. Северная Америка"
   ]
  },
  {
   "cell_type": "code",
   "execution_count": 53,
   "metadata": {
    "scrolled": true
   },
   "outputs": [
    {
     "data": {
      "text/html": [
       "<div>\n",
       "<style scoped>\n",
       "    .dataframe tbody tr th:only-of-type {\n",
       "        vertical-align: middle;\n",
       "    }\n",
       "\n",
       "    .dataframe tbody tr th {\n",
       "        vertical-align: top;\n",
       "    }\n",
       "\n",
       "    .dataframe thead th {\n",
       "        text-align: right;\n",
       "    }\n",
       "</style>\n",
       "<table border=\"1\" class=\"dataframe\">\n",
       "  <thead>\n",
       "    <tr style=\"text-align: right;\">\n",
       "      <th></th>\n",
       "      <th>north_america_sales</th>\n",
       "    </tr>\n",
       "    <tr>\n",
       "      <th>genre</th>\n",
       "      <th></th>\n",
       "    </tr>\n",
       "  </thead>\n",
       "  <tbody>\n",
       "    <tr>\n",
       "      <td>Shooter</td>\n",
       "      <td>79.02</td>\n",
       "    </tr>\n",
       "    <tr>\n",
       "      <td>Action</td>\n",
       "      <td>72.53</td>\n",
       "    </tr>\n",
       "    <tr>\n",
       "      <td>Sports</td>\n",
       "      <td>46.13</td>\n",
       "    </tr>\n",
       "    <tr>\n",
       "      <td>Role-Playing</td>\n",
       "      <td>33.47</td>\n",
       "    </tr>\n",
       "    <tr>\n",
       "      <td>Misc</td>\n",
       "      <td>15.05</td>\n",
       "    </tr>\n",
       "  </tbody>\n",
       "</table>\n",
       "</div>"
      ],
      "text/plain": [
       "              north_america_sales\n",
       "genre                            \n",
       "Shooter                     79.02\n",
       "Action                      72.53\n",
       "Sports                      46.13\n",
       "Role-Playing                33.47\n",
       "Misc                        15.05"
      ]
     },
     "metadata": {},
     "output_type": "display_data"
    }
   ],
   "source": [
    "display(perspective_platform.groupby(['genre']).agg({'north_america_sales':'sum'})\n",
    "       .sort_values(by='north_america_sales',ascending=False).head())"
   ]
  },
  {
   "cell_type": "markdown",
   "metadata": {},
   "source": [
    "Самым популярным жанром в Северной Америке является Shooter."
   ]
  },
  {
   "cell_type": "markdown",
   "metadata": {},
   "source": [
    "### Жанры. Европа"
   ]
  },
  {
   "cell_type": "code",
   "execution_count": 54,
   "metadata": {
    "scrolled": true
   },
   "outputs": [
    {
     "data": {
      "text/html": [
       "<div>\n",
       "<style scoped>\n",
       "    .dataframe tbody tr th:only-of-type {\n",
       "        vertical-align: middle;\n",
       "    }\n",
       "\n",
       "    .dataframe tbody tr th {\n",
       "        vertical-align: top;\n",
       "    }\n",
       "\n",
       "    .dataframe thead th {\n",
       "        text-align: right;\n",
       "    }\n",
       "</style>\n",
       "<table border=\"1\" class=\"dataframe\">\n",
       "  <thead>\n",
       "    <tr style=\"text-align: right;\">\n",
       "      <th></th>\n",
       "      <th>europe_sales</th>\n",
       "    </tr>\n",
       "    <tr>\n",
       "      <th>genre</th>\n",
       "      <th></th>\n",
       "    </tr>\n",
       "  </thead>\n",
       "  <tbody>\n",
       "    <tr>\n",
       "      <td>Action</td>\n",
       "      <td>74.68</td>\n",
       "    </tr>\n",
       "    <tr>\n",
       "      <td>Shooter</td>\n",
       "      <td>65.52</td>\n",
       "    </tr>\n",
       "    <tr>\n",
       "      <td>Sports</td>\n",
       "      <td>45.73</td>\n",
       "    </tr>\n",
       "    <tr>\n",
       "      <td>Role-Playing</td>\n",
       "      <td>28.17</td>\n",
       "    </tr>\n",
       "    <tr>\n",
       "      <td>Racing</td>\n",
       "      <td>14.13</td>\n",
       "    </tr>\n",
       "  </tbody>\n",
       "</table>\n",
       "</div>"
      ],
      "text/plain": [
       "              europe_sales\n",
       "genre                     \n",
       "Action               74.68\n",
       "Shooter              65.52\n",
       "Sports               45.73\n",
       "Role-Playing         28.17\n",
       "Racing               14.13"
      ]
     },
     "metadata": {},
     "output_type": "display_data"
    }
   ],
   "source": [
    "display(perspective_platform.groupby(['genre']).agg({'europe_sales':'sum'})\n",
    "       .sort_values(by='europe_sales',ascending=False).head())"
   ]
  },
  {
   "cell_type": "markdown",
   "metadata": {},
   "source": [
    "В Европе Action наиболее популярен."
   ]
  },
  {
   "cell_type": "markdown",
   "metadata": {},
   "source": [
    "### Жанры. Япония"
   ]
  },
  {
   "cell_type": "code",
   "execution_count": 55,
   "metadata": {
    "scrolled": true
   },
   "outputs": [
    {
     "data": {
      "text/html": [
       "<div>\n",
       "<style scoped>\n",
       "    .dataframe tbody tr th:only-of-type {\n",
       "        vertical-align: middle;\n",
       "    }\n",
       "\n",
       "    .dataframe tbody tr th {\n",
       "        vertical-align: top;\n",
       "    }\n",
       "\n",
       "    .dataframe thead th {\n",
       "        text-align: right;\n",
       "    }\n",
       "</style>\n",
       "<table border=\"1\" class=\"dataframe\">\n",
       "  <thead>\n",
       "    <tr style=\"text-align: right;\">\n",
       "      <th></th>\n",
       "      <th>japan_sales</th>\n",
       "    </tr>\n",
       "    <tr>\n",
       "      <th>genre</th>\n",
       "      <th></th>\n",
       "    </tr>\n",
       "  </thead>\n",
       "  <tbody>\n",
       "    <tr>\n",
       "      <td>Role-Playing</td>\n",
       "      <td>31.16</td>\n",
       "    </tr>\n",
       "    <tr>\n",
       "      <td>Action</td>\n",
       "      <td>29.58</td>\n",
       "    </tr>\n",
       "    <tr>\n",
       "      <td>Fighting</td>\n",
       "      <td>6.37</td>\n",
       "    </tr>\n",
       "    <tr>\n",
       "      <td>Misc</td>\n",
       "      <td>5.61</td>\n",
       "    </tr>\n",
       "    <tr>\n",
       "      <td>Shooter</td>\n",
       "      <td>4.87</td>\n",
       "    </tr>\n",
       "  </tbody>\n",
       "</table>\n",
       "</div>"
      ],
      "text/plain": [
       "              japan_sales\n",
       "genre                    \n",
       "Role-Playing        31.16\n",
       "Action              29.58\n",
       "Fighting             6.37\n",
       "Misc                 5.61\n",
       "Shooter              4.87"
      ]
     },
     "metadata": {},
     "output_type": "display_data"
    }
   ],
   "source": [
    "display(perspective_platform.groupby(['genre']).agg({'japan_sales':'sum'})\n",
    "       .sort_values(by='japan_sales',ascending=False).head())"
   ]
  },
  {
   "cell_type": "markdown",
   "metadata": {},
   "source": [
    "В Японии Action тоже популярен, но он стоит на 2м месте. А лидером является Role-Playing. Менталитет все-таки имеет решающее влияние на предпочтения.\t"
   ]
  },
  {
   "cell_type": "markdown",
   "metadata": {},
   "source": [
    "### Влияние рейтинга ESRB "
   ]
  },
  {
   "cell_type": "code",
   "execution_count": 56,
   "metadata": {
    "scrolled": true
   },
   "outputs": [
    {
     "data": {
      "text/plain": [
       "<matplotlib.axes._subplots.AxesSubplot at 0x7f0a4e3773d0>"
      ]
     },
     "execution_count": 56,
     "metadata": {},
     "output_type": "execute_result"
    },
    {
     "data": {
      "image/png": "[encoded data removed]",
      "text/plain": [
       "<Figure size 864x288 with 1 Axes>"
      ]
     },
     "metadata": {
      "needs_background": "light"
     },
     "output_type": "display_data"
    }
   ],
   "source": [
    "perspective_platform.pivot_table(index='rating', values='north_america_sales').plot(kind='bar', figsize=(12,4), grid=True)\n"
   ]
  },
  {
   "cell_type": "markdown",
   "metadata": {},
   "source": [
    "В Америке большой популярностью пользуются игры с рейтингом М - игры для взрослых. На 2м месте игры для всех возрастов - Е. \n"
   ]
  },
  {
   "cell_type": "code",
   "execution_count": 57,
   "metadata": {},
   "outputs": [
    {
     "data": {
      "text/plain": [
       "<matplotlib.axes._subplots.AxesSubplot at 0x7f0a4e22b950>"
      ]
     },
     "execution_count": 57,
     "metadata": {},
     "output_type": "execute_result"
    },
    {
     "data": {
      "image/png": "[encoded data removed]",
      "text/plain": [
       "<Figure size 864x360 with 1 Axes>"
      ]
     },
     "metadata": {
      "needs_background": "light"
     },
     "output_type": "display_data"
    }
   ],
   "source": [
    "perspective_platform.pivot_table(index='rating', values='europe_sales').plot(kind='bar', figsize=(12,5), grid=True)"
   ]
  },
  {
   "cell_type": "markdown",
   "metadata": {},
   "source": [
    "В Европе тоже самые популярные игры для взрослых. На втором месте игры для всех - рейтинг Е. "
   ]
  },
  {
   "cell_type": "code",
   "execution_count": 58,
   "metadata": {
    "scrolled": true
   },
   "outputs": [
    {
     "data": {
      "text/plain": [
       "<matplotlib.axes._subplots.AxesSubplot at 0x7f0a4e1b2b90>"
      ]
     },
     "execution_count": 58,
     "metadata": {},
     "output_type": "execute_result"
    },
    {
     "data": {
      "image/png": "[encoded data removed]",
      "text/plain": [
       "<Figure size 864x288 with 1 Axes>"
      ]
     },
     "metadata": {
      "needs_background": "light"
     },
     "output_type": "display_data"
    }
   ],
   "source": [
    "perspective_platform.pivot_table(index='rating', values='japan_sales').plot(kind='bar', figsize=(12,4), grid=True)\n"
   ]
  },
  {
   "cell_type": "markdown",
   "metadata": {},
   "source": [
    "В Японии единственный фаворит, сильно оторвавшийся от других - игры с неизвестным рейтингом. Игры без указания категории (unknown), могут иметь какое-то обозначение, известное только в Японии, соответственно и популярные только там там. А игры для взрослых совсем не популярны. Видимо, насилие претит японцам"
   ]
  },
  {
   "cell_type": "markdown",
   "metadata": {},
   "source": [
    "## Проверка гипотез"
   ]
  },
  {
   "cell_type": "markdown",
   "metadata": {},
   "source": [
    "Cравниваемые выборки независимы между собой. \n",
    "Проверяем гипотезы о равенстве среднего для двух генеральных совокупностей по выборкам."
   ]
  },
  {
   "cell_type": "markdown",
   "metadata": {},
   "source": [
    " * H0: Средние пользовательские рейтинги платформ Xbox One и PC не отличаются\n",
    " * Н1: Средние пользовательские рейтинги платформ Xbox One и PC отличаются\n"
   ]
  },
  {
   "cell_type": "code",
   "execution_count": 59,
   "metadata": {},
   "outputs": [],
   "source": [
    "xbox1 = perspective_platform[(perspective_platform['platform'] == \"XOne\") & (perspective_platform['user_score'] != -1)]\n",
    "pc = perspective_platform[(perspective_platform['platform'] == \"PC\") & (perspective_platform['user_score'] != -1)]"
   ]
  },
  {
   "cell_type": "code",
   "execution_count": 60,
   "metadata": {},
   "outputs": [
    {
     "name": "stdout",
     "output_type": "stream",
     "text": [
      "р-значение: 0.10450507919348415\n",
      "Не можем отвергнуть нулевую гипотезу\n"
     ]
    }
   ],
   "source": [
    "result = st.ttest_ind(xbox1['user_score'], pc['user_score'])\n",
    "alpha = 0.05\n",
    "print('р-значение:', result.pvalue)\n",
    "\n",
    "if result.pvalue < alpha:\n",
    "    print('Нулевую гипотезу отвергаем')\n",
    "else:\n",
    "    print('Не можем отвергнуть нулевую гипотезу')"
   ]
  },
  {
   "cell_type": "markdown",
   "metadata": {},
   "source": [
    "Получается, что средние пользовательские рейтинги Xbox One и PC похожи."
   ]
  },
  {
   "cell_type": "markdown",
   "metadata": {},
   "source": [
    "* H0: Средние пользовательские рейтинги жанров Action и Sports одинаковые.\n",
    "* H1: Средние пользовательские рейтинги жанров Action и Sports не одинаковые."
   ]
  },
  {
   "cell_type": "code",
   "execution_count": 61,
   "metadata": {},
   "outputs": [],
   "source": [
    "action = perspective_platform[(perspective_platform['genre'] == \"Action\") & (perspective_platform['user_score'] != -1)]\n",
    "sports = perspective_platform[(perspective_platform['genre'] == \"Sports\") & (perspective_platform['user_score'] != -1)]"
   ]
  },
  {
   "cell_type": "code",
   "execution_count": 62,
   "metadata": {},
   "outputs": [
    {
     "name": "stdout",
     "output_type": "stream",
     "text": [
      "p-значение: 2.8711147985105864e-19\n",
      "Нулевую гипотезу отвергаем\n"
     ]
    }
   ],
   "source": [
    "result = st.ttest_ind(action['user_score'], sports['user_score'])\n",
    "alpha = 0.05\n",
    "print('p-значение:', result.pvalue)\n",
    "\n",
    "if result.pvalue < alpha:\n",
    "    print('Нулевую гипотезу отвергаем')\n",
    "else:\n",
    "    print('Не можем отвергнуть нулевую гипотезу')"
   ]
  },
  {
   "cell_type": "markdown",
   "metadata": {},
   "source": [
    "Средние пользовательские рейтинги жанров Action и Sports не похожи. "
   ]
  },
  {
   "cell_type": "markdown",
   "metadata": {},
   "source": [
    "[Наверх к содержанию](#Содержание)"
   ]
  },
  {
   "cell_type": "markdown",
   "metadata": {},
   "source": [
    "## ВЫВОДЫ:\n",
    "* данные были изучены и приведены в соответствие: заполнены пропуски, где это возможно; приведены к соответствующим типам данных; добавлены необходимые вычисления.\n",
    "* В среднем количество выпускаемых игр увеличивалось с каждым годом до 2011. Потом резкий спад.\n",
    "* Так как за 2016 год данные могут быть не полными, возможно, не стоит их брать в расчет.\n",
    "* Выявлены платформы с самыми малым количеством продаж: PCFX, GG, 3DO, TG16 и самым высоким: PS, DS, Wii, PS3, Х360, PS2.\n",
    "* Жизненный цикл успешной платформы длиться примерно 10 лет. \n",
    "* Актуальным периодом предлагаю считать 2014-2016 годы. Так как на эти годы выпадает первая часть 10летнего жизненного цикла.\n",
    "* за актуальный период удалось выяснить, что PS4 наиболее перспективная площадка - у нее есть все шансы стать самой популярной в ближайшие несколько лет.\n",
    "* также есть перспективы у платформы 3DS и XOne: чуть больше половины 10-летнего цикла просуществовала относительно неплохо. \n",
    "* оценки критиков имеют влияние на продажи. А вот влияние оценки пользователей не очень показательное.\n",
    "* самыми популярным жанром является Action. А непопулярный - Puzzle.\n",
    "* по продажам также лидируют Action, а жанр Puzzle  на самой низкой строчке.\n",
    "* вероятно, менталитет имеет влияние на выбор жанров и платформ. Так менталитет людей в Северной Америке и Европе схож, то и в этих регионах популярностью пользуются почти одни и те же жанры и платформы. А вот для Японии есть отличия.\n",
    "* также для Северной Америки и Европы игры с рейтином для взрослых наиболее популярны, а для Японии это не самый популярный рейтинг. \n",
    "* наибольшие продажи игр приходятся на Северную Америку.\n",
    "* средние пользовательские рейтинги Xbox One и PC похожи.\n",
    "* Средние пользовательские рейтинги жанров Action и Sports также не похожи. "
   ]
  },
  {
   "cell_type": "code",
   "execution_count": null,
   "metadata": {},
   "outputs": [],
   "source": []
  }
 ],
 "metadata": {
  "ExecuteTimeLog": [
   {
    "duration": 604,
    "start_time": "2021-12-23T10:22:57.034Z"
   },
   {
    "duration": 39,
    "start_time": "2021-12-23T10:23:14.962Z"
   },
   {
    "duration": 19,
    "start_time": "2021-12-23T10:23:39.338Z"
   },
   {
    "duration": 11,
    "start_time": "2021-12-23T10:26:12.605Z"
   },
   {
    "duration": 29,
    "start_time": "2021-12-23T10:28:33.723Z"
   },
   {
    "duration": 3,
    "start_time": "2021-12-23T10:36:52.743Z"
   },
   {
    "duration": 13,
    "start_time": "2021-12-23T10:37:03.078Z"
   },
   {
    "duration": 423,
    "start_time": "2021-12-23T10:48:45.089Z"
   },
   {
    "duration": 10,
    "start_time": "2021-12-23T10:50:54.903Z"
   },
   {
    "duration": 14,
    "start_time": "2021-12-23T10:51:08.743Z"
   },
   {
    "duration": 6,
    "start_time": "2021-12-23T10:51:44.302Z"
   },
   {
    "duration": 17,
    "start_time": "2021-12-23T10:51:46.207Z"
   },
   {
    "duration": 5,
    "start_time": "2021-12-23T10:51:54.035Z"
   },
   {
    "duration": 7,
    "start_time": "2021-12-23T10:53:46.987Z"
   },
   {
    "duration": 13,
    "start_time": "2021-12-23T10:53:48.535Z"
   },
   {
    "duration": 8,
    "start_time": "2021-12-23T10:54:05.716Z"
   },
   {
    "duration": 13,
    "start_time": "2021-12-23T10:54:07.880Z"
   },
   {
    "duration": 3,
    "start_time": "2021-12-23T10:54:35.189Z"
   },
   {
    "duration": 8,
    "start_time": "2021-12-23T10:54:36.049Z"
   },
   {
    "duration": 13,
    "start_time": "2021-12-23T10:54:37.045Z"
   },
   {
    "duration": 6,
    "start_time": "2021-12-23T10:54:47.620Z"
   },
   {
    "duration": 12,
    "start_time": "2021-12-23T10:54:48.951Z"
   },
   {
    "duration": 632,
    "start_time": "2021-12-23T10:55:01.308Z"
   },
   {
    "duration": 39,
    "start_time": "2021-12-23T10:55:01.942Z"
   },
   {
    "duration": 19,
    "start_time": "2021-12-23T10:55:01.983Z"
   },
   {
    "duration": 13,
    "start_time": "2021-12-23T10:55:02.005Z"
   },
   {
    "duration": 33,
    "start_time": "2021-12-23T10:55:02.020Z"
   },
   {
    "duration": 3,
    "start_time": "2021-12-23T10:55:02.055Z"
   },
   {
    "duration": 19,
    "start_time": "2021-12-23T10:55:02.059Z"
   },
   {
    "duration": 29,
    "start_time": "2021-12-23T10:55:02.081Z"
   },
   {
    "duration": 6,
    "start_time": "2021-12-23T10:55:32.963Z"
   },
   {
    "duration": 13,
    "start_time": "2021-12-23T10:55:34.130Z"
   },
   {
    "duration": 5,
    "start_time": "2021-12-23T10:55:42.434Z"
   },
   {
    "duration": 14,
    "start_time": "2021-12-23T10:55:43.505Z"
   },
   {
    "duration": 628,
    "start_time": "2021-12-23T10:55:51.109Z"
   },
   {
    "duration": 37,
    "start_time": "2021-12-23T10:55:51.739Z"
   },
   {
    "duration": 17,
    "start_time": "2021-12-23T10:55:51.780Z"
   },
   {
    "duration": 10,
    "start_time": "2021-12-23T10:55:51.806Z"
   },
   {
    "duration": 29,
    "start_time": "2021-12-23T10:55:51.818Z"
   },
   {
    "duration": 2,
    "start_time": "2021-12-23T10:55:51.849Z"
   },
   {
    "duration": 12,
    "start_time": "2021-12-23T10:55:51.854Z"
   },
   {
    "duration": 11,
    "start_time": "2021-12-23T10:55:51.868Z"
   },
   {
    "duration": 7,
    "start_time": "2021-12-23T10:56:10.524Z"
   },
   {
    "duration": 13,
    "start_time": "2021-12-23T10:56:12.058Z"
   },
   {
    "duration": 646,
    "start_time": "2021-12-23T10:56:24.390Z"
   },
   {
    "duration": 37,
    "start_time": "2021-12-23T10:56:25.039Z"
   },
   {
    "duration": 21,
    "start_time": "2021-12-23T10:56:25.079Z"
   },
   {
    "duration": 10,
    "start_time": "2021-12-23T10:56:25.102Z"
   },
   {
    "duration": 30,
    "start_time": "2021-12-23T10:56:25.115Z"
   },
   {
    "duration": 2,
    "start_time": "2021-12-23T10:56:25.147Z"
   },
   {
    "duration": 15,
    "start_time": "2021-12-23T10:56:25.151Z"
   },
   {
    "duration": 40,
    "start_time": "2021-12-23T10:56:25.168Z"
   },
   {
    "duration": 11,
    "start_time": "2021-12-23T10:56:36.808Z"
   },
   {
    "duration": 9,
    "start_time": "2021-12-23T10:57:56.995Z"
   },
   {
    "duration": 11,
    "start_time": "2021-12-23T10:57:59.932Z"
   },
   {
    "duration": 12,
    "start_time": "2021-12-23T10:58:14.046Z"
   },
   {
    "duration": 9,
    "start_time": "2021-12-23T10:59:01.422Z"
   },
   {
    "duration": 14,
    "start_time": "2021-12-23T10:59:02.688Z"
   },
   {
    "duration": 582,
    "start_time": "2021-12-23T11:01:25.134Z"
   },
   {
    "duration": 38,
    "start_time": "2021-12-23T11:01:25.718Z"
   },
   {
    "duration": 18,
    "start_time": "2021-12-23T11:01:25.759Z"
   },
   {
    "duration": 10,
    "start_time": "2021-12-23T11:01:25.780Z"
   },
   {
    "duration": 31,
    "start_time": "2021-12-23T11:01:25.792Z"
   },
   {
    "duration": 2,
    "start_time": "2021-12-23T11:01:25.825Z"
   },
   {
    "duration": 15,
    "start_time": "2021-12-23T11:01:25.829Z"
   },
   {
    "duration": 12,
    "start_time": "2021-12-23T11:01:25.847Z"
   },
   {
    "duration": 424,
    "start_time": "2021-12-23T11:02:42.208Z"
   },
   {
    "duration": 12,
    "start_time": "2021-12-23T11:02:43.312Z"
   },
   {
    "duration": 407,
    "start_time": "2021-12-23T11:03:36.842Z"
   },
   {
    "duration": 332,
    "start_time": "2021-12-23T11:03:47.296Z"
   },
   {
    "duration": 7,
    "start_time": "2021-12-23T11:19:07.643Z"
   },
   {
    "duration": 14,
    "start_time": "2021-12-23T11:19:10.284Z"
   },
   {
    "duration": 7,
    "start_time": "2021-12-23T11:19:21.343Z"
   },
   {
    "duration": 14,
    "start_time": "2021-12-23T11:19:22.848Z"
   },
   {
    "duration": 584,
    "start_time": "2021-12-23T11:19:32.149Z"
   },
   {
    "duration": 39,
    "start_time": "2021-12-23T11:19:32.734Z"
   },
   {
    "duration": 18,
    "start_time": "2021-12-23T11:19:32.775Z"
   },
   {
    "duration": 15,
    "start_time": "2021-12-23T11:19:32.795Z"
   },
   {
    "duration": 29,
    "start_time": "2021-12-23T11:19:32.812Z"
   },
   {
    "duration": 2,
    "start_time": "2021-12-23T11:19:32.843Z"
   },
   {
    "duration": 14,
    "start_time": "2021-12-23T11:19:32.847Z"
   },
   {
    "duration": 14,
    "start_time": "2021-12-23T11:19:32.863Z"
   },
   {
    "duration": 18,
    "start_time": "2021-12-23T11:20:13.317Z"
   },
   {
    "duration": 9,
    "start_time": "2021-12-23T11:20:23.717Z"
   },
   {
    "duration": 6,
    "start_time": "2021-12-23T11:26:50.472Z"
   },
   {
    "duration": 9,
    "start_time": "2021-12-23T11:27:05.203Z"
   },
   {
    "duration": 330,
    "start_time": "2021-12-23T13:25:46.694Z"
   },
   {
    "duration": 880,
    "start_time": "2021-12-23T13:25:57.521Z"
   },
   {
    "duration": 53,
    "start_time": "2021-12-23T13:25:58.405Z"
   },
   {
    "duration": 30,
    "start_time": "2021-12-23T13:25:58.461Z"
   },
   {
    "duration": 38,
    "start_time": "2021-12-23T13:25:58.495Z"
   },
   {
    "duration": 43,
    "start_time": "2021-12-23T13:25:58.535Z"
   },
   {
    "duration": 4,
    "start_time": "2021-12-23T13:25:58.580Z"
   },
   {
    "duration": 47,
    "start_time": "2021-12-23T13:25:58.587Z"
   },
   {
    "duration": 28,
    "start_time": "2021-12-23T13:25:58.637Z"
   },
   {
    "duration": 13,
    "start_time": "2021-12-23T13:25:58.669Z"
   },
   {
    "duration": 372,
    "start_time": "2021-12-23T13:25:58.719Z"
   },
   {
    "duration": 1588,
    "start_time": "2021-12-23T13:25:57.505Z"
   },
   {
    "duration": 281,
    "start_time": "2021-12-23T13:26:36.177Z"
   },
   {
    "duration": 13,
    "start_time": "2021-12-23T13:27:20.085Z"
   },
   {
    "duration": 13,
    "start_time": "2021-12-23T13:27:23.040Z"
   },
   {
    "duration": 6,
    "start_time": "2021-12-23T13:32:02.402Z"
   },
   {
    "duration": 8,
    "start_time": "2021-12-23T13:32:13.305Z"
   },
   {
    "duration": 12,
    "start_time": "2021-12-23T13:33:17.078Z"
   },
   {
    "duration": 16,
    "start_time": "2021-12-23T13:36:12.323Z"
   },
   {
    "duration": 767,
    "start_time": "2021-12-23T13:38:29.085Z"
   },
   {
    "duration": 51,
    "start_time": "2021-12-23T13:38:29.857Z"
   },
   {
    "duration": 32,
    "start_time": "2021-12-23T13:38:29.910Z"
   },
   {
    "duration": 17,
    "start_time": "2021-12-23T13:38:29.946Z"
   },
   {
    "duration": 74,
    "start_time": "2021-12-23T13:38:29.965Z"
   },
   {
    "duration": 4,
    "start_time": "2021-12-23T13:38:30.041Z"
   },
   {
    "duration": 20,
    "start_time": "2021-12-23T13:38:30.047Z"
   },
   {
    "duration": 14,
    "start_time": "2021-12-23T13:38:30.071Z"
   },
   {
    "duration": 11,
    "start_time": "2021-12-23T13:38:30.116Z"
   },
   {
    "duration": 12,
    "start_time": "2021-12-23T13:38:30.130Z"
   },
   {
    "duration": 17,
    "start_time": "2021-12-23T13:38:30.144Z"
   },
   {
    "duration": 17,
    "start_time": "2021-12-23T13:38:30.164Z"
   },
   {
    "duration": 20,
    "start_time": "2021-12-23T13:38:43.001Z"
   },
   {
    "duration": 37,
    "start_time": "2021-12-23T13:43:41.216Z"
   },
   {
    "duration": 8,
    "start_time": "2021-12-23T13:43:56.231Z"
   },
   {
    "duration": 23,
    "start_time": "2021-12-23T13:44:34.590Z"
   },
   {
    "duration": 10,
    "start_time": "2021-12-23T13:44:36.422Z"
   },
   {
    "duration": 96,
    "start_time": "2021-12-23T13:45:03.094Z"
   },
   {
    "duration": 7,
    "start_time": "2021-12-23T13:45:03.914Z"
   },
   {
    "duration": 9,
    "start_time": "2021-12-23T13:45:09.121Z"
   },
   {
    "duration": 7,
    "start_time": "2021-12-23T13:45:10.057Z"
   },
   {
    "duration": 7,
    "start_time": "2021-12-23T13:55:23.858Z"
   },
   {
    "duration": 13,
    "start_time": "2021-12-23T13:55:49.219Z"
   },
   {
    "duration": 10,
    "start_time": "2021-12-23T13:56:19.285Z"
   },
   {
    "duration": 358,
    "start_time": "2021-12-23T14:04:10.768Z"
   },
   {
    "duration": 1327,
    "start_time": "2021-12-23T14:05:00.569Z"
   },
   {
    "duration": 47,
    "start_time": "2021-12-23T14:05:01.898Z"
   },
   {
    "duration": 25,
    "start_time": "2021-12-23T14:05:01.948Z"
   },
   {
    "duration": 39,
    "start_time": "2021-12-23T14:05:01.976Z"
   },
   {
    "duration": 73,
    "start_time": "2021-12-23T14:05:02.017Z"
   },
   {
    "duration": 4,
    "start_time": "2021-12-23T14:05:02.093Z"
   },
   {
    "duration": 24,
    "start_time": "2021-12-23T14:05:02.099Z"
   },
   {
    "duration": 14,
    "start_time": "2021-12-23T14:05:02.126Z"
   },
   {
    "duration": 12,
    "start_time": "2021-12-23T14:05:02.143Z"
   },
   {
    "duration": 11,
    "start_time": "2021-12-23T14:05:02.157Z"
   },
   {
    "duration": 12,
    "start_time": "2021-12-23T14:05:02.170Z"
   },
   {
    "duration": 8,
    "start_time": "2021-12-23T14:05:02.217Z"
   },
   {
    "duration": 42,
    "start_time": "2021-12-23T14:05:02.227Z"
   },
   {
    "duration": 13,
    "start_time": "2021-12-23T14:05:02.272Z"
   },
   {
    "duration": 10,
    "start_time": "2021-12-23T14:05:02.288Z"
   },
   {
    "duration": 26,
    "start_time": "2021-12-23T14:05:02.301Z"
   },
   {
    "duration": 794,
    "start_time": "2021-12-23T14:05:02.329Z"
   },
   {
    "duration": 11,
    "start_time": "2021-12-23T14:15:08.577Z"
   },
   {
    "duration": 21,
    "start_time": "2021-12-23T14:15:11.047Z"
   },
   {
    "duration": 17,
    "start_time": "2021-12-23T14:15:22.561Z"
   },
   {
    "duration": 20,
    "start_time": "2021-12-23T14:15:24.364Z"
   },
   {
    "duration": 21,
    "start_time": "2021-12-23T14:15:40.934Z"
   },
   {
    "duration": 12,
    "start_time": "2021-12-23T14:15:54.071Z"
   },
   {
    "duration": 419,
    "start_time": "2021-12-23T14:16:01.722Z"
   },
   {
    "duration": 12,
    "start_time": "2021-12-23T14:16:21.386Z"
   },
   {
    "duration": 23,
    "start_time": "2021-12-23T14:16:23.331Z"
   },
   {
    "duration": 1472,
    "start_time": "2021-12-23T14:16:32.076Z"
   },
   {
    "duration": 48,
    "start_time": "2021-12-23T14:16:33.551Z"
   },
   {
    "duration": 31,
    "start_time": "2021-12-23T14:16:33.602Z"
   },
   {
    "duration": 15,
    "start_time": "2021-12-23T14:16:33.636Z"
   },
   {
    "duration": 86,
    "start_time": "2021-12-23T14:16:33.653Z"
   },
   {
    "duration": 4,
    "start_time": "2021-12-23T14:16:33.742Z"
   },
   {
    "duration": 21,
    "start_time": "2021-12-23T14:16:33.749Z"
   },
   {
    "duration": 45,
    "start_time": "2021-12-23T14:16:33.774Z"
   },
   {
    "duration": 13,
    "start_time": "2021-12-23T14:16:33.822Z"
   },
   {
    "duration": 10,
    "start_time": "2021-12-23T14:16:33.838Z"
   },
   {
    "duration": 9,
    "start_time": "2021-12-23T14:16:33.850Z"
   },
   {
    "duration": 7,
    "start_time": "2021-12-23T14:16:33.861Z"
   },
   {
    "duration": 21,
    "start_time": "2021-12-23T14:16:33.918Z"
   },
   {
    "duration": 8,
    "start_time": "2021-12-23T14:16:33.942Z"
   },
   {
    "duration": 6,
    "start_time": "2021-12-23T14:16:33.952Z"
   },
   {
    "duration": 10,
    "start_time": "2021-12-23T14:16:33.960Z"
   },
   {
    "duration": 637,
    "start_time": "2021-12-23T14:16:34.017Z"
   },
   {
    "duration": 12,
    "start_time": "2021-12-23T14:17:45.283Z"
   },
   {
    "duration": 21,
    "start_time": "2021-12-23T14:17:46.784Z"
   },
   {
    "duration": 13,
    "start_time": "2021-12-23T14:17:56.550Z"
   },
   {
    "duration": 21,
    "start_time": "2021-12-23T14:17:57.475Z"
   },
   {
    "duration": 12,
    "start_time": "2021-12-23T14:18:29.050Z"
   },
   {
    "duration": 27,
    "start_time": "2021-12-23T14:18:29.816Z"
   },
   {
    "duration": 1353,
    "start_time": "2021-12-23T14:18:37.723Z"
   },
   {
    "duration": 46,
    "start_time": "2021-12-23T14:18:39.079Z"
   },
   {
    "duration": 23,
    "start_time": "2021-12-23T14:18:39.129Z"
   },
   {
    "duration": 14,
    "start_time": "2021-12-23T14:18:39.155Z"
   },
   {
    "duration": 76,
    "start_time": "2021-12-23T14:18:39.171Z"
   },
   {
    "duration": 5,
    "start_time": "2021-12-23T14:18:39.249Z"
   },
   {
    "duration": 23,
    "start_time": "2021-12-23T14:18:39.256Z"
   },
   {
    "duration": 37,
    "start_time": "2021-12-23T14:18:39.282Z"
   },
   {
    "duration": 13,
    "start_time": "2021-12-23T14:18:39.322Z"
   },
   {
    "duration": 9,
    "start_time": "2021-12-23T14:18:39.338Z"
   },
   {
    "duration": 7,
    "start_time": "2021-12-23T14:18:39.349Z"
   },
   {
    "duration": 8,
    "start_time": "2021-12-23T14:18:39.358Z"
   },
   {
    "duration": 61,
    "start_time": "2021-12-23T14:18:39.369Z"
   },
   {
    "duration": 10,
    "start_time": "2021-12-23T14:18:39.432Z"
   },
   {
    "duration": 8,
    "start_time": "2021-12-23T14:18:39.444Z"
   },
   {
    "duration": 13,
    "start_time": "2021-12-23T14:18:39.454Z"
   },
   {
    "duration": 685,
    "start_time": "2021-12-23T14:18:39.470Z"
   },
   {
    "duration": 13,
    "start_time": "2021-12-23T14:19:13.999Z"
   },
   {
    "duration": 9,
    "start_time": "2021-12-23T14:20:00.420Z"
   },
   {
    "duration": 13,
    "start_time": "2021-12-23T14:20:01.860Z"
   },
   {
    "duration": 21,
    "start_time": "2021-12-23T14:20:10.976Z"
   },
   {
    "duration": 1036,
    "start_time": "2021-12-23T18:38:13.365Z"
   },
   {
    "duration": 38,
    "start_time": "2021-12-23T18:38:14.403Z"
   },
   {
    "duration": 15,
    "start_time": "2021-12-23T18:38:14.444Z"
   },
   {
    "duration": 11,
    "start_time": "2021-12-23T18:38:14.461Z"
   },
   {
    "duration": 25,
    "start_time": "2021-12-23T18:38:14.473Z"
   },
   {
    "duration": 2,
    "start_time": "2021-12-23T18:38:14.499Z"
   },
   {
    "duration": 31,
    "start_time": "2021-12-23T18:38:14.503Z"
   },
   {
    "duration": 12,
    "start_time": "2021-12-23T18:38:14.536Z"
   },
   {
    "duration": 9,
    "start_time": "2021-12-23T18:38:14.551Z"
   },
   {
    "duration": 8,
    "start_time": "2021-12-23T18:38:14.562Z"
   },
   {
    "duration": 6,
    "start_time": "2021-12-23T18:38:14.572Z"
   },
   {
    "duration": 7,
    "start_time": "2021-12-23T18:38:14.580Z"
   },
   {
    "duration": 40,
    "start_time": "2021-12-23T18:38:14.589Z"
   },
   {
    "duration": 10,
    "start_time": "2021-12-23T18:38:14.631Z"
   },
   {
    "duration": 4,
    "start_time": "2021-12-23T18:38:14.643Z"
   },
   {
    "duration": 7,
    "start_time": "2021-12-23T18:38:14.648Z"
   },
   {
    "duration": 564,
    "start_time": "2021-12-23T18:38:14.657Z"
   },
   {
    "duration": 8,
    "start_time": "2021-12-23T18:40:21.174Z"
   },
   {
    "duration": 13,
    "start_time": "2021-12-23T18:40:29.898Z"
   },
   {
    "duration": 1444,
    "start_time": "2021-12-23T18:41:24.920Z"
   },
   {
    "duration": 5,
    "start_time": "2021-12-23T18:42:09.488Z"
   },
   {
    "duration": 18,
    "start_time": "2021-12-23T18:42:24.318Z"
   },
   {
    "duration": 8,
    "start_time": "2021-12-23T18:42:27.818Z"
   },
   {
    "duration": 6,
    "start_time": "2021-12-23T18:42:39.215Z"
   },
   {
    "duration": 5,
    "start_time": "2021-12-23T18:53:09.212Z"
   },
   {
    "duration": 14,
    "start_time": "2021-12-23T18:53:10.878Z"
   },
   {
    "duration": 7,
    "start_time": "2021-12-23T18:54:07.751Z"
   },
   {
    "duration": 5,
    "start_time": "2021-12-23T18:56:15.800Z"
   },
   {
    "duration": 5,
    "start_time": "2021-12-23T18:56:19.345Z"
   },
   {
    "duration": 1372,
    "start_time": "2021-12-23T18:56:30.643Z"
   },
   {
    "duration": 7,
    "start_time": "2021-12-23T18:57:24.164Z"
   },
   {
    "duration": 6,
    "start_time": "2021-12-23T18:57:26.497Z"
   },
   {
    "duration": 12,
    "start_time": "2021-12-23T18:57:36.492Z"
   },
   {
    "duration": 5,
    "start_time": "2021-12-23T18:57:57.175Z"
   },
   {
    "duration": 5,
    "start_time": "2021-12-23T18:57:57.989Z"
   },
   {
    "duration": 5,
    "start_time": "2021-12-23T18:58:09.232Z"
   },
   {
    "duration": 1088,
    "start_time": "2021-12-23T18:58:18.612Z"
   },
   {
    "duration": 37,
    "start_time": "2021-12-23T18:58:19.702Z"
   },
   {
    "duration": 14,
    "start_time": "2021-12-23T18:58:19.741Z"
   },
   {
    "duration": 10,
    "start_time": "2021-12-23T18:58:19.758Z"
   },
   {
    "duration": 27,
    "start_time": "2021-12-23T18:58:19.770Z"
   },
   {
    "duration": 3,
    "start_time": "2021-12-23T18:58:19.799Z"
   },
   {
    "duration": 9,
    "start_time": "2021-12-23T18:58:19.828Z"
   },
   {
    "duration": 8,
    "start_time": "2021-12-23T18:58:19.839Z"
   },
   {
    "duration": 13,
    "start_time": "2021-12-23T18:58:19.849Z"
   },
   {
    "duration": 15,
    "start_time": "2021-12-23T18:58:19.863Z"
   },
   {
    "duration": 8,
    "start_time": "2021-12-23T18:58:19.880Z"
   },
   {
    "duration": 13,
    "start_time": "2021-12-23T18:58:19.889Z"
   },
   {
    "duration": 8,
    "start_time": "2021-12-23T18:58:19.903Z"
   },
   {
    "duration": 19,
    "start_time": "2021-12-23T18:58:19.913Z"
   },
   {
    "duration": 12,
    "start_time": "2021-12-23T18:58:19.934Z"
   },
   {
    "duration": 12,
    "start_time": "2021-12-23T18:58:19.948Z"
   },
   {
    "duration": 4,
    "start_time": "2021-12-23T18:58:19.961Z"
   },
   {
    "duration": 7,
    "start_time": "2021-12-23T18:58:19.967Z"
   },
   {
    "duration": 583,
    "start_time": "2021-12-23T18:58:19.975Z"
   },
   {
    "duration": 4,
    "start_time": "2021-12-23T18:58:45.913Z"
   },
   {
    "duration": 5,
    "start_time": "2021-12-23T18:58:48.733Z"
   },
   {
    "duration": 5,
    "start_time": "2021-12-23T18:58:59.549Z"
   },
   {
    "duration": 6,
    "start_time": "2021-12-23T18:59:00.387Z"
   },
   {
    "duration": 13,
    "start_time": "2021-12-23T18:59:02.225Z"
   },
   {
    "duration": 1056,
    "start_time": "2021-12-23T18:59:16.440Z"
   },
   {
    "duration": 37,
    "start_time": "2021-12-23T18:59:17.498Z"
   },
   {
    "duration": 13,
    "start_time": "2021-12-23T18:59:17.537Z"
   },
   {
    "duration": 10,
    "start_time": "2021-12-23T18:59:17.552Z"
   },
   {
    "duration": 25,
    "start_time": "2021-12-23T18:59:17.563Z"
   },
   {
    "duration": 3,
    "start_time": "2021-12-23T18:59:17.589Z"
   },
   {
    "duration": 9,
    "start_time": "2021-12-23T18:59:17.594Z"
   },
   {
    "duration": 7,
    "start_time": "2021-12-23T18:59:17.628Z"
   },
   {
    "duration": 5,
    "start_time": "2021-12-23T18:59:17.637Z"
   },
   {
    "duration": 13,
    "start_time": "2021-12-23T18:59:17.644Z"
   },
   {
    "duration": 9,
    "start_time": "2021-12-23T18:59:17.658Z"
   },
   {
    "duration": 6,
    "start_time": "2021-12-23T18:59:17.669Z"
   },
   {
    "duration": 5,
    "start_time": "2021-12-23T18:59:17.677Z"
   },
   {
    "duration": 46,
    "start_time": "2021-12-23T18:59:17.683Z"
   },
   {
    "duration": 12,
    "start_time": "2021-12-23T18:59:17.731Z"
   },
   {
    "duration": 10,
    "start_time": "2021-12-23T18:59:17.744Z"
   },
   {
    "duration": 4,
    "start_time": "2021-12-23T18:59:17.755Z"
   },
   {
    "duration": 10,
    "start_time": "2021-12-23T18:59:17.761Z"
   },
   {
    "duration": 606,
    "start_time": "2021-12-23T18:59:17.772Z"
   },
   {
    "duration": 7,
    "start_time": "2021-12-23T18:59:48.916Z"
   },
   {
    "duration": 5,
    "start_time": "2021-12-23T18:59:49.843Z"
   },
   {
    "duration": 13,
    "start_time": "2021-12-23T18:59:51.992Z"
   },
   {
    "duration": 11,
    "start_time": "2021-12-23T18:59:59.651Z"
   },
   {
    "duration": 390,
    "start_time": "2021-12-23T19:00:24.925Z"
   },
   {
    "duration": 7,
    "start_time": "2021-12-23T19:00:59.170Z"
   },
   {
    "duration": 6,
    "start_time": "2021-12-23T19:01:00.899Z"
   },
   {
    "duration": 10,
    "start_time": "2021-12-23T19:01:13.510Z"
   },
   {
    "duration": 2372,
    "start_time": "2021-12-23T19:11:17.464Z"
   },
   {
    "duration": 5,
    "start_time": "2021-12-23T19:11:59.757Z"
   },
   {
    "duration": 2365,
    "start_time": "2021-12-23T19:12:06.812Z"
   },
   {
    "duration": 5,
    "start_time": "2021-12-23T19:12:11.599Z"
   },
   {
    "duration": 1357,
    "start_time": "2021-12-23T19:12:31.959Z"
   },
   {
    "duration": 1843,
    "start_time": "2021-12-23T19:12:31.475Z"
   },
   {
    "duration": 4,
    "start_time": "2021-12-23T19:12:36.122Z"
   },
   {
    "duration": 4,
    "start_time": "2021-12-23T19:15:08.424Z"
   },
   {
    "duration": 2445,
    "start_time": "2021-12-23T19:15:17.183Z"
   },
   {
    "duration": 5,
    "start_time": "2021-12-23T19:16:17.269Z"
   },
   {
    "duration": 1488,
    "start_time": "2021-12-23T19:17:14.374Z"
   },
   {
    "duration": 376,
    "start_time": "2021-12-23T19:19:08.827Z"
   },
   {
    "duration": 7,
    "start_time": "2021-12-23T19:19:25.978Z"
   },
   {
    "duration": 8,
    "start_time": "2021-12-23T19:19:33.748Z"
   },
   {
    "duration": 6,
    "start_time": "2021-12-23T19:19:44.059Z"
   },
   {
    "duration": 335,
    "start_time": "2021-12-23T19:20:16.773Z"
   },
   {
    "duration": 4,
    "start_time": "2021-12-23T19:20:21.449Z"
   },
   {
    "duration": 330,
    "start_time": "2021-12-23T19:20:27.457Z"
   },
   {
    "duration": 4,
    "start_time": "2021-12-23T19:21:44.643Z"
   },
   {
    "duration": 5,
    "start_time": "2021-12-23T19:21:46.329Z"
   },
   {
    "duration": 3,
    "start_time": "2021-12-23T19:21:51.112Z"
   },
   {
    "duration": 5,
    "start_time": "2021-12-23T19:22:09.856Z"
   },
   {
    "duration": 11,
    "start_time": "2021-12-23T19:22:15.267Z"
   },
   {
    "duration": 1085,
    "start_time": "2021-12-23T19:22:59.210Z"
   },
   {
    "duration": 36,
    "start_time": "2021-12-23T19:23:00.297Z"
   },
   {
    "duration": 14,
    "start_time": "2021-12-23T19:23:00.335Z"
   },
   {
    "duration": 18,
    "start_time": "2021-12-23T19:23:00.351Z"
   },
   {
    "duration": 25,
    "start_time": "2021-12-23T19:23:00.370Z"
   },
   {
    "duration": 3,
    "start_time": "2021-12-23T19:23:00.397Z"
   },
   {
    "duration": 28,
    "start_time": "2021-12-23T19:23:00.401Z"
   },
   {
    "duration": 10,
    "start_time": "2021-12-23T19:23:00.431Z"
   },
   {
    "duration": 9,
    "start_time": "2021-12-23T19:23:00.443Z"
   },
   {
    "duration": 6,
    "start_time": "2021-12-23T19:23:00.454Z"
   },
   {
    "duration": 8,
    "start_time": "2021-12-23T19:23:00.462Z"
   },
   {
    "duration": 2492,
    "start_time": "2021-12-23T19:23:00.472Z"
   },
   {
    "duration": 1831,
    "start_time": "2021-12-23T19:23:01.135Z"
   },
   {
    "duration": 1825,
    "start_time": "2021-12-23T19:23:01.142Z"
   },
   {
    "duration": 1819,
    "start_time": "2021-12-23T19:23:01.149Z"
   },
   {
    "duration": 1814,
    "start_time": "2021-12-23T19:23:01.155Z"
   },
   {
    "duration": 1808,
    "start_time": "2021-12-23T19:23:01.162Z"
   },
   {
    "duration": 1803,
    "start_time": "2021-12-23T19:23:01.168Z"
   },
   {
    "duration": 1795,
    "start_time": "2021-12-23T19:23:01.177Z"
   },
   {
    "duration": 1791,
    "start_time": "2021-12-23T19:23:01.183Z"
   },
   {
    "duration": 1771,
    "start_time": "2021-12-23T19:23:01.203Z"
   },
   {
    "duration": 1763,
    "start_time": "2021-12-23T19:23:01.212Z"
   },
   {
    "duration": 1756,
    "start_time": "2021-12-23T19:23:01.220Z"
   },
   {
    "duration": 4,
    "start_time": "2021-12-23T19:28:58.288Z"
   },
   {
    "duration": 6,
    "start_time": "2021-12-23T19:30:04.633Z"
   },
   {
    "duration": 5,
    "start_time": "2021-12-23T19:30:17.852Z"
   },
   {
    "duration": 11,
    "start_time": "2021-12-23T19:30:23.073Z"
   },
   {
    "duration": 10,
    "start_time": "2021-12-23T19:30:23.271Z"
   },
   {
    "duration": 4,
    "start_time": "2021-12-23T19:46:52.673Z"
   },
   {
    "duration": 4,
    "start_time": "2021-12-23T19:46:55.069Z"
   },
   {
    "duration": 3,
    "start_time": "2021-12-23T19:47:37.968Z"
   },
   {
    "duration": 4,
    "start_time": "2021-12-23T19:47:43.093Z"
   },
   {
    "duration": 1206,
    "start_time": "2021-12-23T19:47:52.394Z"
   },
   {
    "duration": 37,
    "start_time": "2021-12-23T19:47:53.602Z"
   },
   {
    "duration": 15,
    "start_time": "2021-12-23T19:47:53.642Z"
   },
   {
    "duration": 11,
    "start_time": "2021-12-23T19:47:53.658Z"
   },
   {
    "duration": 28,
    "start_time": "2021-12-23T19:47:53.670Z"
   },
   {
    "duration": 27,
    "start_time": "2021-12-23T19:47:53.700Z"
   },
   {
    "duration": 4,
    "start_time": "2021-12-23T19:47:53.729Z"
   },
   {
    "duration": 5,
    "start_time": "2021-12-23T19:47:53.736Z"
   },
   {
    "duration": 6,
    "start_time": "2021-12-23T19:47:53.743Z"
   },
   {
    "duration": 7,
    "start_time": "2021-12-23T19:47:53.750Z"
   },
   {
    "duration": 5,
    "start_time": "2021-12-23T19:47:53.758Z"
   },
   {
    "duration": 6,
    "start_time": "2021-12-23T19:47:53.765Z"
   },
   {
    "duration": 6,
    "start_time": "2021-12-23T19:47:53.773Z"
   },
   {
    "duration": 7,
    "start_time": "2021-12-23T19:47:53.780Z"
   },
   {
    "duration": 41,
    "start_time": "2021-12-23T19:47:53.788Z"
   },
   {
    "duration": 10,
    "start_time": "2021-12-23T19:47:53.830Z"
   },
   {
    "duration": 10,
    "start_time": "2021-12-23T19:47:53.841Z"
   },
   {
    "duration": 6,
    "start_time": "2021-12-23T19:47:53.853Z"
   },
   {
    "duration": 8,
    "start_time": "2021-12-23T19:47:53.861Z"
   },
   {
    "duration": 16,
    "start_time": "2021-12-23T19:47:53.870Z"
   },
   {
    "duration": 7,
    "start_time": "2021-12-23T19:47:53.887Z"
   },
   {
    "duration": 4,
    "start_time": "2021-12-23T19:47:53.927Z"
   },
   {
    "duration": 8,
    "start_time": "2021-12-23T19:47:53.934Z"
   },
   {
    "duration": 1180,
    "start_time": "2021-12-23T19:47:53.943Z"
   },
   {
    "duration": 4,
    "start_time": "2021-12-23T19:49:10.090Z"
   },
   {
    "duration": 4,
    "start_time": "2021-12-23T19:49:11.521Z"
   },
   {
    "duration": 3,
    "start_time": "2021-12-23T19:49:14.024Z"
   },
   {
    "duration": 13,
    "start_time": "2021-12-23T19:49:17.656Z"
   },
   {
    "duration": 5,
    "start_time": "2021-12-23T19:49:18.582Z"
   },
   {
    "duration": 1030,
    "start_time": "2021-12-23T19:49:37.567Z"
   },
   {
    "duration": 36,
    "start_time": "2021-12-23T19:49:38.599Z"
   },
   {
    "duration": 15,
    "start_time": "2021-12-23T19:49:38.639Z"
   },
   {
    "duration": 11,
    "start_time": "2021-12-23T19:49:38.655Z"
   },
   {
    "duration": 26,
    "start_time": "2021-12-23T19:49:38.668Z"
   },
   {
    "duration": 2,
    "start_time": "2021-12-23T19:49:38.696Z"
   },
   {
    "duration": 6,
    "start_time": "2021-12-23T19:49:38.700Z"
   },
   {
    "duration": 5,
    "start_time": "2021-12-23T19:49:38.728Z"
   },
   {
    "duration": 6,
    "start_time": "2021-12-23T19:49:38.734Z"
   },
   {
    "duration": 4,
    "start_time": "2021-12-23T19:49:38.741Z"
   },
   {
    "duration": 13,
    "start_time": "2021-12-23T19:49:38.747Z"
   },
   {
    "duration": 6,
    "start_time": "2021-12-23T19:49:38.761Z"
   },
   {
    "duration": 3238,
    "start_time": "2021-12-23T19:49:38.768Z"
   },
   {
    "duration": 1840,
    "start_time": "2021-12-23T19:49:40.167Z"
   },
   {
    "duration": 1823,
    "start_time": "2021-12-23T19:49:40.186Z"
   },
   {
    "duration": 1798,
    "start_time": "2021-12-23T19:49:40.211Z"
   },
   {
    "duration": 1792,
    "start_time": "2021-12-23T19:49:40.218Z"
   },
   {
    "duration": 1787,
    "start_time": "2021-12-23T19:49:40.224Z"
   },
   {
    "duration": 1784,
    "start_time": "2021-12-23T19:49:40.228Z"
   },
   {
    "duration": 1781,
    "start_time": "2021-12-23T19:49:40.232Z"
   },
   {
    "duration": 1779,
    "start_time": "2021-12-23T19:49:40.235Z"
   },
   {
    "duration": 1774,
    "start_time": "2021-12-23T19:49:40.241Z"
   },
   {
    "duration": 1771,
    "start_time": "2021-12-23T19:49:40.245Z"
   },
   {
    "duration": 1768,
    "start_time": "2021-12-23T19:49:40.249Z"
   },
   {
    "duration": 16,
    "start_time": "2021-12-23T19:55:45.817Z"
   },
   {
    "duration": 5,
    "start_time": "2021-12-23T19:55:47.502Z"
   },
   {
    "duration": 3648,
    "start_time": "2021-12-23T19:56:16.696Z"
   },
   {
    "duration": 1858,
    "start_time": "2021-12-23T19:56:18.488Z"
   },
   {
    "duration": 5,
    "start_time": "2021-12-23T19:57:38.481Z"
   },
   {
    "duration": 1032,
    "start_time": "2021-12-23T19:57:55.854Z"
   },
   {
    "duration": 38,
    "start_time": "2021-12-23T19:57:56.888Z"
   },
   {
    "duration": 15,
    "start_time": "2021-12-23T19:57:56.928Z"
   },
   {
    "duration": 11,
    "start_time": "2021-12-23T19:57:56.945Z"
   },
   {
    "duration": 31,
    "start_time": "2021-12-23T19:57:56.957Z"
   },
   {
    "duration": 3,
    "start_time": "2021-12-23T19:57:56.990Z"
   },
   {
    "duration": 7,
    "start_time": "2021-12-23T19:57:56.995Z"
   },
   {
    "duration": 24,
    "start_time": "2021-12-23T19:57:57.004Z"
   },
   {
    "duration": 7,
    "start_time": "2021-12-23T19:57:57.030Z"
   },
   {
    "duration": 449,
    "start_time": "2021-12-23T19:57:57.038Z"
   },
   {
    "duration": 1821,
    "start_time": "2021-12-23T19:57:55.668Z"
   },
   {
    "duration": 1797,
    "start_time": "2021-12-23T19:57:55.693Z"
   },
   {
    "duration": 1730,
    "start_time": "2021-12-23T19:57:55.761Z"
   },
   {
    "duration": 1722,
    "start_time": "2021-12-23T19:57:55.770Z"
   },
   {
    "duration": 1713,
    "start_time": "2021-12-23T19:57:55.779Z"
   },
   {
    "duration": 1683,
    "start_time": "2021-12-23T19:57:55.811Z"
   },
   {
    "duration": 1674,
    "start_time": "2021-12-23T19:57:55.820Z"
   },
   {
    "duration": 1666,
    "start_time": "2021-12-23T19:57:55.829Z"
   },
   {
    "duration": 1659,
    "start_time": "2021-12-23T19:57:55.837Z"
   },
   {
    "duration": 1645,
    "start_time": "2021-12-23T19:57:55.852Z"
   },
   {
    "duration": 1603,
    "start_time": "2021-12-23T19:57:55.895Z"
   },
   {
    "duration": 1592,
    "start_time": "2021-12-23T19:57:55.907Z"
   },
   {
    "duration": 1552,
    "start_time": "2021-12-23T19:57:55.948Z"
   },
   {
    "duration": 1511,
    "start_time": "2021-12-23T19:57:55.990Z"
   },
   {
    "duration": 1500,
    "start_time": "2021-12-23T19:57:56.002Z"
   },
   {
    "duration": 4,
    "start_time": "2021-12-23T19:58:42.229Z"
   },
   {
    "duration": 5,
    "start_time": "2021-12-23T19:58:43.659Z"
   },
   {
    "duration": 4,
    "start_time": "2021-12-23T19:58:45.510Z"
   },
   {
    "duration": 14,
    "start_time": "2021-12-23T19:58:47.423Z"
   },
   {
    "duration": 9,
    "start_time": "2021-12-23T19:58:48.775Z"
   },
   {
    "duration": 6444,
    "start_time": "2021-12-23T19:58:54.986Z"
   },
   {
    "duration": 5,
    "start_time": "2021-12-23T19:59:42.184Z"
   },
   {
    "duration": 5,
    "start_time": "2021-12-23T20:00:22.552Z"
   },
   {
    "duration": 5,
    "start_time": "2021-12-23T20:00:23.519Z"
   },
   {
    "duration": 5,
    "start_time": "2021-12-23T20:00:28.789Z"
   },
   {
    "duration": 5,
    "start_time": "2021-12-23T20:00:29.742Z"
   },
   {
    "duration": 1002,
    "start_time": "2021-12-23T20:00:36.800Z"
   },
   {
    "duration": 38,
    "start_time": "2021-12-23T20:00:37.803Z"
   },
   {
    "duration": 15,
    "start_time": "2021-12-23T20:00:37.843Z"
   },
   {
    "duration": 13,
    "start_time": "2021-12-23T20:00:37.859Z"
   },
   {
    "duration": 26,
    "start_time": "2021-12-23T20:00:37.874Z"
   },
   {
    "duration": 2,
    "start_time": "2021-12-23T20:00:37.902Z"
   },
   {
    "duration": 28,
    "start_time": "2021-12-23T20:00:37.906Z"
   },
   {
    "duration": 6,
    "start_time": "2021-12-23T20:00:37.936Z"
   },
   {
    "duration": 8,
    "start_time": "2021-12-23T20:00:37.943Z"
   },
   {
    "duration": 6,
    "start_time": "2021-12-23T20:00:37.952Z"
   },
   {
    "duration": 19,
    "start_time": "2021-12-23T20:00:37.959Z"
   },
   {
    "duration": 15,
    "start_time": "2021-12-23T20:00:37.979Z"
   },
   {
    "duration": 3,
    "start_time": "2021-12-23T20:00:37.996Z"
   },
   {
    "duration": 15,
    "start_time": "2021-12-23T20:00:38.000Z"
   },
   {
    "duration": 11,
    "start_time": "2021-12-23T20:00:38.016Z"
   },
   {
    "duration": 9,
    "start_time": "2021-12-23T20:00:38.028Z"
   },
   {
    "duration": 7,
    "start_time": "2021-12-23T20:00:38.038Z"
   },
   {
    "duration": 7,
    "start_time": "2021-12-23T20:00:38.047Z"
   },
   {
    "duration": 5,
    "start_time": "2021-12-23T20:00:38.055Z"
   },
   {
    "duration": 6,
    "start_time": "2021-12-23T20:00:38.062Z"
   },
   {
    "duration": 12,
    "start_time": "2021-12-23T20:00:38.069Z"
   },
   {
    "duration": 6,
    "start_time": "2021-12-23T20:00:38.083Z"
   },
   {
    "duration": 36,
    "start_time": "2021-12-23T20:00:38.092Z"
   },
   {
    "duration": 7,
    "start_time": "2021-12-23T20:00:38.129Z"
   },
   {
    "duration": 568,
    "start_time": "2021-12-23T20:00:38.137Z"
   },
   {
    "duration": 9,
    "start_time": "2021-12-23T20:01:21.398Z"
   },
   {
    "duration": 7,
    "start_time": "2021-12-23T20:02:56.528Z"
   },
   {
    "duration": 4,
    "start_time": "2021-12-23T20:02:58.352Z"
   },
   {
    "duration": 1086,
    "start_time": "2021-12-23T20:03:08.704Z"
   },
   {
    "duration": 36,
    "start_time": "2021-12-23T20:03:09.792Z"
   },
   {
    "duration": 13,
    "start_time": "2021-12-23T20:03:09.830Z"
   },
   {
    "duration": 10,
    "start_time": "2021-12-23T20:03:09.845Z"
   },
   {
    "duration": 26,
    "start_time": "2021-12-23T20:03:09.856Z"
   },
   {
    "duration": 3,
    "start_time": "2021-12-23T20:03:09.890Z"
   },
   {
    "duration": 9,
    "start_time": "2021-12-23T20:03:09.895Z"
   },
   {
    "duration": 21,
    "start_time": "2021-12-23T20:03:09.906Z"
   },
   {
    "duration": 5,
    "start_time": "2021-12-23T20:03:09.929Z"
   },
   {
    "duration": 5,
    "start_time": "2021-12-23T20:03:09.935Z"
   },
   {
    "duration": 13,
    "start_time": "2021-12-23T20:03:09.941Z"
   },
   {
    "duration": 7,
    "start_time": "2021-12-23T20:03:09.956Z"
   },
   {
    "duration": 4,
    "start_time": "2021-12-23T20:03:09.964Z"
   },
   {
    "duration": 9,
    "start_time": "2021-12-23T20:03:09.970Z"
   },
   {
    "duration": 4,
    "start_time": "2021-12-23T20:03:09.980Z"
   },
   {
    "duration": 12,
    "start_time": "2021-12-23T20:03:09.985Z"
   },
   {
    "duration": 7,
    "start_time": "2021-12-23T20:03:10.027Z"
   },
   {
    "duration": 8,
    "start_time": "2021-12-23T20:03:10.036Z"
   },
   {
    "duration": 8,
    "start_time": "2021-12-23T20:03:10.046Z"
   },
   {
    "duration": 4,
    "start_time": "2021-12-23T20:03:10.055Z"
   },
   {
    "duration": 12,
    "start_time": "2021-12-23T20:03:10.060Z"
   },
   {
    "duration": 6,
    "start_time": "2021-12-23T20:03:10.073Z"
   },
   {
    "duration": 3,
    "start_time": "2021-12-23T20:03:10.082Z"
   },
   {
    "duration": 7,
    "start_time": "2021-12-23T20:03:10.087Z"
   },
   {
    "duration": 526,
    "start_time": "2021-12-23T20:03:10.128Z"
   },
   {
    "duration": 1017,
    "start_time": "2021-12-23T20:04:10.178Z"
   },
   {
    "duration": 36,
    "start_time": "2021-12-23T20:04:11.197Z"
   },
   {
    "duration": 14,
    "start_time": "2021-12-23T20:04:11.235Z"
   },
   {
    "duration": 11,
    "start_time": "2021-12-23T20:04:11.251Z"
   },
   {
    "duration": 25,
    "start_time": "2021-12-23T20:04:11.263Z"
   },
   {
    "duration": 3,
    "start_time": "2021-12-23T20:04:11.289Z"
   },
   {
    "duration": 9,
    "start_time": "2021-12-23T20:04:11.293Z"
   },
   {
    "duration": 24,
    "start_time": "2021-12-23T20:04:11.304Z"
   },
   {
    "duration": 5,
    "start_time": "2021-12-23T20:04:11.330Z"
   },
   {
    "duration": 5,
    "start_time": "2021-12-23T20:04:11.337Z"
   },
   {
    "duration": 12,
    "start_time": "2021-12-23T20:04:11.343Z"
   },
   {
    "duration": 12,
    "start_time": "2021-12-23T20:04:11.357Z"
   },
   {
    "duration": 4,
    "start_time": "2021-12-23T20:04:11.370Z"
   },
   {
    "duration": 8,
    "start_time": "2021-12-23T20:04:11.375Z"
   },
   {
    "duration": 4,
    "start_time": "2021-12-23T20:04:11.385Z"
   },
   {
    "duration": 38,
    "start_time": "2021-12-23T20:04:11.390Z"
   },
   {
    "duration": 8,
    "start_time": "2021-12-23T20:04:11.430Z"
   },
   {
    "duration": 7,
    "start_time": "2021-12-23T20:04:11.439Z"
   },
   {
    "duration": 5,
    "start_time": "2021-12-23T20:04:11.447Z"
   },
   {
    "duration": 4,
    "start_time": "2021-12-23T20:04:11.454Z"
   },
   {
    "duration": 14,
    "start_time": "2021-12-23T20:04:11.459Z"
   },
   {
    "duration": 7,
    "start_time": "2021-12-23T20:04:11.475Z"
   },
   {
    "duration": 4,
    "start_time": "2021-12-23T20:04:11.484Z"
   },
   {
    "duration": 41,
    "start_time": "2021-12-23T20:04:11.489Z"
   },
   {
    "duration": 553,
    "start_time": "2021-12-23T20:04:11.532Z"
   },
   {
    "duration": 6,
    "start_time": "2021-12-23T20:06:21.402Z"
   },
   {
    "duration": 5,
    "start_time": "2021-12-23T20:06:22.307Z"
   },
   {
    "duration": 9,
    "start_time": "2021-12-23T20:06:25.456Z"
   },
   {
    "duration": 8,
    "start_time": "2021-12-23T20:06:28.173Z"
   },
   {
    "duration": 1143,
    "start_time": "2021-12-23T20:09:43.399Z"
   },
   {
    "duration": 37,
    "start_time": "2021-12-23T20:09:44.544Z"
   },
   {
    "duration": 14,
    "start_time": "2021-12-23T20:09:44.583Z"
   },
   {
    "duration": 11,
    "start_time": "2021-12-23T20:09:44.599Z"
   },
   {
    "duration": 51,
    "start_time": "2021-12-23T20:09:44.612Z"
   },
   {
    "duration": 4,
    "start_time": "2021-12-23T20:09:44.665Z"
   },
   {
    "duration": 14,
    "start_time": "2021-12-23T20:09:44.670Z"
   },
   {
    "duration": 4,
    "start_time": "2021-12-23T20:09:44.688Z"
   },
   {
    "duration": 6,
    "start_time": "2021-12-23T20:09:44.694Z"
   },
   {
    "duration": 25,
    "start_time": "2021-12-23T20:09:44.702Z"
   },
   {
    "duration": 22,
    "start_time": "2021-12-23T20:09:44.729Z"
   },
   {
    "duration": 12,
    "start_time": "2021-12-23T20:09:44.753Z"
   },
   {
    "duration": 5,
    "start_time": "2021-12-23T20:09:44.767Z"
   },
   {
    "duration": 12,
    "start_time": "2021-12-23T20:09:44.774Z"
   },
   {
    "duration": 5,
    "start_time": "2021-12-23T20:09:44.787Z"
   },
   {
    "duration": 39,
    "start_time": "2021-12-23T20:09:44.794Z"
   },
   {
    "duration": 9,
    "start_time": "2021-12-23T20:09:44.836Z"
   },
   {
    "duration": 9,
    "start_time": "2021-12-23T20:09:44.847Z"
   },
   {
    "duration": 4,
    "start_time": "2021-12-23T20:09:44.858Z"
   },
   {
    "duration": 5,
    "start_time": "2021-12-23T20:09:44.864Z"
   },
   {
    "duration": 12,
    "start_time": "2021-12-23T20:09:44.870Z"
   },
   {
    "duration": 8,
    "start_time": "2021-12-23T20:09:44.884Z"
   },
   {
    "duration": 6,
    "start_time": "2021-12-23T20:09:44.927Z"
   },
   {
    "duration": 13,
    "start_time": "2021-12-23T20:09:44.935Z"
   },
   {
    "duration": 564,
    "start_time": "2021-12-23T20:09:44.950Z"
   },
   {
    "duration": 354,
    "start_time": "2021-12-23T20:14:37.847Z"
   },
   {
    "duration": 187,
    "start_time": "2021-12-23T20:15:37.592Z"
   },
   {
    "duration": 227,
    "start_time": "2021-12-23T20:16:18.494Z"
   },
   {
    "duration": 113,
    "start_time": "2021-12-23T20:17:30.453Z"
   },
   {
    "duration": 103,
    "start_time": "2021-12-23T20:18:22.939Z"
   },
   {
    "duration": 64,
    "start_time": "2021-12-23T20:18:36.722Z"
   },
   {
    "duration": 279,
    "start_time": "2021-12-23T20:19:13.110Z"
   },
   {
    "duration": 1106,
    "start_time": "2021-12-23T20:19:50.276Z"
   },
   {
    "duration": 49,
    "start_time": "2021-12-23T20:19:51.384Z"
   },
   {
    "duration": 21,
    "start_time": "2021-12-23T20:19:51.435Z"
   },
   {
    "duration": 9,
    "start_time": "2021-12-23T20:19:51.458Z"
   },
   {
    "duration": 28,
    "start_time": "2021-12-23T20:19:51.469Z"
   },
   {
    "duration": 2,
    "start_time": "2021-12-23T20:19:51.499Z"
   },
   {
    "duration": 28,
    "start_time": "2021-12-23T20:19:51.503Z"
   },
   {
    "duration": 5,
    "start_time": "2021-12-23T20:19:51.533Z"
   },
   {
    "duration": 6,
    "start_time": "2021-12-23T20:19:51.539Z"
   },
   {
    "duration": 5,
    "start_time": "2021-12-23T20:19:51.547Z"
   },
   {
    "duration": 13,
    "start_time": "2021-12-23T20:19:51.554Z"
   },
   {
    "duration": 9,
    "start_time": "2021-12-23T20:19:51.569Z"
   },
   {
    "duration": 4,
    "start_time": "2021-12-23T20:19:51.579Z"
   },
   {
    "duration": 9,
    "start_time": "2021-12-23T20:19:51.584Z"
   },
   {
    "duration": 3,
    "start_time": "2021-12-23T20:19:51.595Z"
   },
   {
    "duration": 9,
    "start_time": "2021-12-23T20:19:51.627Z"
   },
   {
    "duration": 7,
    "start_time": "2021-12-23T20:19:51.637Z"
   },
   {
    "duration": 7,
    "start_time": "2021-12-23T20:19:51.646Z"
   },
   {
    "duration": 6,
    "start_time": "2021-12-23T20:19:51.655Z"
   },
   {
    "duration": 5,
    "start_time": "2021-12-23T20:19:51.663Z"
   },
   {
    "duration": 13,
    "start_time": "2021-12-23T20:19:51.669Z"
   },
   {
    "duration": 6,
    "start_time": "2021-12-23T20:19:51.683Z"
   },
   {
    "duration": 39,
    "start_time": "2021-12-23T20:19:51.692Z"
   },
   {
    "duration": 8,
    "start_time": "2021-12-23T20:19:51.733Z"
   },
   {
    "duration": 312,
    "start_time": "2021-12-23T20:19:51.743Z"
   },
   {
    "duration": 592,
    "start_time": "2021-12-23T20:19:52.056Z"
   },
   {
    "duration": 259,
    "start_time": "2021-12-23T20:20:09.391Z"
   },
   {
    "duration": 237,
    "start_time": "2021-12-23T20:20:23.214Z"
   },
   {
    "duration": 250,
    "start_time": "2021-12-23T20:21:34.792Z"
   },
   {
    "duration": 252,
    "start_time": "2021-12-23T20:23:48.880Z"
   },
   {
    "duration": 107,
    "start_time": "2021-12-23T20:24:41.277Z"
   },
   {
    "duration": 253,
    "start_time": "2021-12-23T20:24:59.368Z"
   },
   {
    "duration": 242,
    "start_time": "2021-12-23T20:25:41.703Z"
   },
   {
    "duration": 305,
    "start_time": "2021-12-23T20:29:40.889Z"
   },
   {
    "duration": 299,
    "start_time": "2021-12-23T20:31:22.702Z"
   },
   {
    "duration": 108,
    "start_time": "2021-12-23T20:33:11.355Z"
   },
   {
    "duration": 253,
    "start_time": "2021-12-23T20:33:21.745Z"
   },
   {
    "duration": 247,
    "start_time": "2021-12-23T20:33:40.842Z"
   },
   {
    "duration": 507,
    "start_time": "2021-12-23T20:35:49.616Z"
   },
   {
    "duration": 492,
    "start_time": "2021-12-23T20:37:35.435Z"
   },
   {
    "duration": 477,
    "start_time": "2021-12-23T20:39:21.107Z"
   },
   {
    "duration": 1688,
    "start_time": "2021-12-24T13:42:56.386Z"
   },
   {
    "duration": 55,
    "start_time": "2021-12-24T13:42:58.077Z"
   },
   {
    "duration": 25,
    "start_time": "2021-12-24T13:42:58.135Z"
   },
   {
    "duration": 20,
    "start_time": "2021-12-24T13:42:58.163Z"
   },
   {
    "duration": 77,
    "start_time": "2021-12-24T13:42:58.186Z"
   },
   {
    "duration": 5,
    "start_time": "2021-12-24T13:42:58.266Z"
   },
   {
    "duration": 15,
    "start_time": "2021-12-24T13:42:58.274Z"
   },
   {
    "duration": 9,
    "start_time": "2021-12-24T13:42:58.318Z"
   },
   {
    "duration": 7,
    "start_time": "2021-12-24T13:42:58.333Z"
   },
   {
    "duration": 7,
    "start_time": "2021-12-24T13:42:58.343Z"
   },
   {
    "duration": 22,
    "start_time": "2021-12-24T13:42:58.352Z"
   },
   {
    "duration": 49,
    "start_time": "2021-12-24T13:42:58.377Z"
   },
   {
    "duration": 10,
    "start_time": "2021-12-24T13:42:58.429Z"
   },
   {
    "duration": 13,
    "start_time": "2021-12-24T13:42:58.442Z"
   },
   {
    "duration": 6,
    "start_time": "2021-12-24T13:42:58.457Z"
   },
   {
    "duration": 57,
    "start_time": "2021-12-24T13:42:58.466Z"
   },
   {
    "duration": 17,
    "start_time": "2021-12-24T13:42:58.527Z"
   },
   {
    "duration": 16,
    "start_time": "2021-12-24T13:42:58.547Z"
   },
   {
    "duration": 7,
    "start_time": "2021-12-24T13:42:58.566Z"
   },
   {
    "duration": 47,
    "start_time": "2021-12-24T13:42:58.576Z"
   },
   {
    "duration": 38,
    "start_time": "2021-12-24T13:42:58.626Z"
   },
   {
    "duration": 10,
    "start_time": "2021-12-24T13:42:58.667Z"
   },
   {
    "duration": 42,
    "start_time": "2021-12-24T13:42:58.680Z"
   },
   {
    "duration": 22,
    "start_time": "2021-12-24T13:42:58.726Z"
   },
   {
    "duration": 610,
    "start_time": "2021-12-24T13:42:58.751Z"
   },
   {
    "duration": 1005,
    "start_time": "2021-12-24T13:42:59.364Z"
   },
   {
    "duration": 516,
    "start_time": "2021-12-24T13:44:35.948Z"
   },
   {
    "duration": 700,
    "start_time": "2021-12-24T13:44:53.932Z"
   },
   {
    "duration": 473,
    "start_time": "2021-12-24T13:47:13.676Z"
   },
   {
    "duration": 593,
    "start_time": "2021-12-24T13:47:27.846Z"
   },
   {
    "duration": 480,
    "start_time": "2021-12-24T13:47:43.271Z"
   },
   {
    "duration": 502,
    "start_time": "2021-12-24T13:47:56.851Z"
   },
   {
    "duration": 709,
    "start_time": "2021-12-24T13:48:21.527Z"
   },
   {
    "duration": 454,
    "start_time": "2021-12-24T13:48:36.621Z"
   },
   {
    "duration": 470,
    "start_time": "2021-12-24T13:52:00.643Z"
   },
   {
    "duration": 476,
    "start_time": "2021-12-24T13:52:52.175Z"
   },
   {
    "duration": 426,
    "start_time": "2021-12-24T14:03:25.828Z"
   },
   {
    "duration": 1533,
    "start_time": "2021-12-24T14:03:53.877Z"
   },
   {
    "duration": 51,
    "start_time": "2021-12-24T14:03:55.412Z"
   },
   {
    "duration": 23,
    "start_time": "2021-12-24T14:03:55.465Z"
   },
   {
    "duration": 36,
    "start_time": "2021-12-24T14:03:55.490Z"
   },
   {
    "duration": 44,
    "start_time": "2021-12-24T14:03:55.529Z"
   },
   {
    "duration": 5,
    "start_time": "2021-12-24T14:03:55.576Z"
   },
   {
    "duration": 52,
    "start_time": "2021-12-24T14:03:55.584Z"
   },
   {
    "duration": 5,
    "start_time": "2021-12-24T14:03:55.649Z"
   },
   {
    "duration": 11,
    "start_time": "2021-12-24T14:03:55.657Z"
   },
   {
    "duration": 5,
    "start_time": "2021-12-24T14:03:55.671Z"
   },
   {
    "duration": 56,
    "start_time": "2021-12-24T14:03:55.679Z"
   },
   {
    "duration": 26,
    "start_time": "2021-12-24T14:03:55.738Z"
   },
   {
    "duration": 8,
    "start_time": "2021-12-24T14:03:55.766Z"
   },
   {
    "duration": 14,
    "start_time": "2021-12-24T14:03:55.777Z"
   },
   {
    "duration": 6,
    "start_time": "2021-12-24T14:03:55.793Z"
   },
   {
    "duration": 18,
    "start_time": "2021-12-24T14:03:55.818Z"
   },
   {
    "duration": 14,
    "start_time": "2021-12-24T14:03:55.839Z"
   },
   {
    "duration": 11,
    "start_time": "2021-12-24T14:03:55.855Z"
   },
   {
    "duration": 51,
    "start_time": "2021-12-24T14:03:55.868Z"
   },
   {
    "duration": 8,
    "start_time": "2021-12-24T14:03:55.922Z"
   },
   {
    "duration": 20,
    "start_time": "2021-12-24T14:03:55.936Z"
   },
   {
    "duration": 13,
    "start_time": "2021-12-24T14:03:55.959Z"
   },
   {
    "duration": 51,
    "start_time": "2021-12-24T14:03:55.978Z"
   },
   {
    "duration": 13,
    "start_time": "2021-12-24T14:03:56.034Z"
   },
   {
    "duration": 481,
    "start_time": "2021-12-24T14:03:56.049Z"
   },
   {
    "duration": 517,
    "start_time": "2021-12-24T14:03:56.534Z"
   },
   {
    "duration": 739,
    "start_time": "2021-12-24T14:03:57.055Z"
   },
   {
    "duration": 727,
    "start_time": "2021-12-24T14:03:57.797Z"
   },
   {
    "duration": 522,
    "start_time": "2021-12-24T14:03:58.529Z"
   },
   {
    "duration": 494,
    "start_time": "2021-12-24T14:03:59.053Z"
   },
   {
    "duration": 220725,
    "start_time": "2021-12-24T14:03:59.550Z"
   },
   {
    "duration": 670,
    "start_time": "2021-12-24T14:09:59.485Z"
   },
   {
    "duration": 534,
    "start_time": "2021-12-24T14:10:33.651Z"
   },
   {
    "duration": 99,
    "start_time": "2021-12-24T14:10:50.407Z"
   },
   {
    "duration": 236,
    "start_time": "2021-12-24T14:10:57.606Z"
   },
   {
    "duration": 1404,
    "start_time": "2021-12-24T17:29:34.373Z"
   },
   {
    "duration": 47,
    "start_time": "2021-12-24T17:29:35.780Z"
   },
   {
    "duration": 22,
    "start_time": "2021-12-24T17:29:35.833Z"
   },
   {
    "duration": 14,
    "start_time": "2021-12-24T17:29:35.858Z"
   },
   {
    "duration": 73,
    "start_time": "2021-12-24T17:29:35.874Z"
   },
   {
    "duration": 3,
    "start_time": "2021-12-24T17:29:35.950Z"
   },
   {
    "duration": 13,
    "start_time": "2021-12-24T17:29:35.955Z"
   },
   {
    "duration": 4,
    "start_time": "2021-12-24T17:29:35.972Z"
   },
   {
    "duration": 9,
    "start_time": "2021-12-24T17:29:35.979Z"
   },
   {
    "duration": 33,
    "start_time": "2021-12-24T17:29:35.990Z"
   },
   {
    "duration": 24,
    "start_time": "2021-12-24T17:29:36.025Z"
   },
   {
    "duration": 9,
    "start_time": "2021-12-24T17:29:36.051Z"
   },
   {
    "duration": 6,
    "start_time": "2021-12-24T17:29:36.063Z"
   },
   {
    "duration": 51,
    "start_time": "2021-12-24T17:29:36.072Z"
   },
   {
    "duration": 7,
    "start_time": "2021-12-24T17:29:36.126Z"
   },
   {
    "duration": 13,
    "start_time": "2021-12-24T17:29:36.136Z"
   },
   {
    "duration": 10,
    "start_time": "2021-12-24T17:29:36.152Z"
   },
   {
    "duration": 10,
    "start_time": "2021-12-24T17:29:36.164Z"
   },
   {
    "duration": 50,
    "start_time": "2021-12-24T17:29:36.176Z"
   },
   {
    "duration": 7,
    "start_time": "2021-12-24T17:29:36.228Z"
   },
   {
    "duration": 23,
    "start_time": "2021-12-24T17:29:36.237Z"
   },
   {
    "duration": 11,
    "start_time": "2021-12-24T17:29:36.263Z"
   },
   {
    "duration": 6,
    "start_time": "2021-12-24T17:29:36.277Z"
   },
   {
    "duration": 43,
    "start_time": "2021-12-24T17:29:36.285Z"
   },
   {
    "duration": 440,
    "start_time": "2021-12-24T17:29:36.331Z"
   },
   {
    "duration": 449,
    "start_time": "2021-12-24T17:29:36.776Z"
   },
   {
    "duration": 423,
    "start_time": "2021-12-24T17:29:37.228Z"
   },
   {
    "duration": 424,
    "start_time": "2021-12-24T17:29:37.653Z"
   },
   {
    "duration": 445,
    "start_time": "2021-12-24T17:29:38.080Z"
   },
   {
    "duration": 442,
    "start_time": "2021-12-24T17:29:38.528Z"
   },
   {
    "duration": 325,
    "start_time": "2021-12-24T17:29:38.972Z"
   },
   {
    "duration": 792,
    "start_time": "2021-12-24T17:30:00.979Z"
   },
   {
    "duration": 1581,
    "start_time": "2021-12-26T10:47:00.064Z"
   },
   {
    "duration": 49,
    "start_time": "2021-12-26T10:47:01.647Z"
   },
   {
    "duration": 23,
    "start_time": "2021-12-26T10:47:01.699Z"
   },
   {
    "duration": 14,
    "start_time": "2021-12-26T10:47:01.725Z"
   },
   {
    "duration": 43,
    "start_time": "2021-12-26T10:47:01.760Z"
   },
   {
    "duration": 4,
    "start_time": "2021-12-26T10:47:01.805Z"
   },
   {
    "duration": 17,
    "start_time": "2021-12-26T10:47:01.811Z"
   },
   {
    "duration": 29,
    "start_time": "2021-12-26T10:47:01.832Z"
   },
   {
    "duration": 9,
    "start_time": "2021-12-26T10:47:01.864Z"
   },
   {
    "duration": 5,
    "start_time": "2021-12-26T10:47:01.875Z"
   },
   {
    "duration": 21,
    "start_time": "2021-12-26T10:47:01.882Z"
   },
   {
    "duration": 18,
    "start_time": "2021-12-26T10:47:01.906Z"
   },
   {
    "duration": 34,
    "start_time": "2021-12-26T10:47:01.926Z"
   },
   {
    "duration": 15,
    "start_time": "2021-12-26T10:47:01.963Z"
   },
   {
    "duration": 6,
    "start_time": "2021-12-26T10:47:01.981Z"
   },
   {
    "duration": 15,
    "start_time": "2021-12-26T10:47:01.989Z"
   },
   {
    "duration": 11,
    "start_time": "2021-12-26T10:47:02.006Z"
   },
   {
    "duration": 52,
    "start_time": "2021-12-26T10:47:02.019Z"
   },
   {
    "duration": 10,
    "start_time": "2021-12-26T10:47:02.073Z"
   },
   {
    "duration": 8,
    "start_time": "2021-12-26T10:47:02.086Z"
   },
   {
    "duration": 21,
    "start_time": "2021-12-26T10:47:02.097Z"
   },
   {
    "duration": 12,
    "start_time": "2021-12-26T10:47:02.160Z"
   },
   {
    "duration": 7,
    "start_time": "2021-12-26T10:47:02.178Z"
   },
   {
    "duration": 13,
    "start_time": "2021-12-26T10:47:02.188Z"
   },
   {
    "duration": 478,
    "start_time": "2021-12-26T10:47:02.204Z"
   },
   {
    "duration": 474,
    "start_time": "2021-12-26T10:47:02.685Z"
   },
   {
    "duration": 466,
    "start_time": "2021-12-26T10:47:03.161Z"
   },
   {
    "duration": 445,
    "start_time": "2021-12-26T10:47:03.630Z"
   },
   {
    "duration": 567,
    "start_time": "2021-12-26T10:47:04.078Z"
   },
   {
    "duration": 469,
    "start_time": "2021-12-26T10:47:04.648Z"
   },
   {
    "duration": 847,
    "start_time": "2021-12-26T10:47:05.119Z"
   },
   {
    "duration": 1271,
    "start_time": "2021-12-26T10:55:29.421Z"
   },
   {
    "duration": 1090,
    "start_time": "2021-12-26T10:55:45.476Z"
   },
   {
    "duration": 1184,
    "start_time": "2021-12-26T10:55:59.520Z"
   },
   {
    "duration": 1459,
    "start_time": "2021-12-26T10:56:50.508Z"
   },
   {
    "duration": 1354,
    "start_time": "2021-12-26T10:57:19.128Z"
   },
   {
    "duration": 1319,
    "start_time": "2021-12-26T10:57:34.343Z"
   },
   {
    "duration": 446,
    "start_time": "2021-12-26T10:58:03.622Z"
   },
   {
    "duration": 12299,
    "start_time": "2021-12-26T10:58:38.881Z"
   },
   {
    "duration": 1259,
    "start_time": "2021-12-26T10:59:03.396Z"
   },
   {
    "duration": 1363,
    "start_time": "2021-12-26T11:00:08.413Z"
   },
   {
    "duration": 1213,
    "start_time": "2021-12-26T11:03:35.881Z"
   },
   {
    "duration": 1352,
    "start_time": "2021-12-26T11:04:03.656Z"
   },
   {
    "duration": 388,
    "start_time": "2021-12-26T11:06:32.848Z"
   },
   {
    "duration": 1086,
    "start_time": "2021-12-26T11:07:07.718Z"
   },
   {
    "duration": 1132,
    "start_time": "2021-12-26T11:07:53.463Z"
   },
   {
    "duration": 321,
    "start_time": "2021-12-26T11:08:33.167Z"
   },
   {
    "duration": 9262,
    "start_time": "2021-12-26T11:09:13.540Z"
   },
   {
    "duration": 9397,
    "start_time": "2021-12-26T11:09:32.256Z"
   },
   {
    "duration": 6,
    "start_time": "2021-12-26T11:11:17.045Z"
   },
   {
    "duration": 5,
    "start_time": "2021-12-26T11:11:19.311Z"
   },
   {
    "duration": 3,
    "start_time": "2021-12-26T11:11:20.402Z"
   },
   {
    "duration": 1499,
    "start_time": "2021-12-26T11:11:28.517Z"
   },
   {
    "duration": 53,
    "start_time": "2021-12-26T11:11:30.019Z"
   },
   {
    "duration": 25,
    "start_time": "2021-12-26T11:11:30.075Z"
   },
   {
    "duration": 16,
    "start_time": "2021-12-26T11:11:30.102Z"
   },
   {
    "duration": 72,
    "start_time": "2021-12-26T11:11:30.120Z"
   },
   {
    "duration": 4,
    "start_time": "2021-12-26T11:11:30.194Z"
   },
   {
    "duration": 17,
    "start_time": "2021-12-26T11:11:30.200Z"
   },
   {
    "duration": 5,
    "start_time": "2021-12-26T11:11:30.222Z"
   },
   {
    "duration": 33,
    "start_time": "2021-12-26T11:11:30.230Z"
   },
   {
    "duration": 6,
    "start_time": "2021-12-26T11:11:30.266Z"
   },
   {
    "duration": 3,
    "start_time": "2021-12-26T11:11:30.275Z"
   },
   {
    "duration": 9,
    "start_time": "2021-12-26T11:11:30.281Z"
   },
   {
    "duration": 20,
    "start_time": "2021-12-26T11:11:30.292Z"
   },
   {
    "duration": 9,
    "start_time": "2021-12-26T11:11:30.315Z"
   },
   {
    "duration": 35,
    "start_time": "2021-12-26T11:11:30.327Z"
   },
   {
    "duration": 19,
    "start_time": "2021-12-26T11:11:30.365Z"
   },
   {
    "duration": 12,
    "start_time": "2021-12-26T11:11:30.387Z"
   },
   {
    "duration": 12,
    "start_time": "2021-12-26T11:11:30.401Z"
   },
   {
    "duration": 45,
    "start_time": "2021-12-26T11:11:30.416Z"
   },
   {
    "duration": 15,
    "start_time": "2021-12-26T11:11:30.464Z"
   },
   {
    "duration": 22,
    "start_time": "2021-12-26T11:11:30.482Z"
   },
   {
    "duration": 14,
    "start_time": "2021-12-26T11:11:30.507Z"
   },
   {
    "duration": 33,
    "start_time": "2021-12-26T11:11:30.528Z"
   },
   {
    "duration": 15,
    "start_time": "2021-12-26T11:11:30.564Z"
   },
   {
    "duration": 481,
    "start_time": "2021-12-26T11:11:30.582Z"
   },
   {
    "duration": 548,
    "start_time": "2021-12-26T11:11:31.066Z"
   },
   {
    "duration": 448,
    "start_time": "2021-12-26T11:11:31.616Z"
   },
   {
    "duration": 434,
    "start_time": "2021-12-26T11:11:32.067Z"
   },
   {
    "duration": 438,
    "start_time": "2021-12-26T11:11:32.504Z"
   },
   {
    "duration": 447,
    "start_time": "2021-12-26T11:11:32.945Z"
   },
   {
    "duration": 553,
    "start_time": "2021-12-26T11:11:33.394Z"
   },
   {
    "duration": -61,
    "start_time": "2021-12-26T11:11:34.011Z"
   },
   {
    "duration": 1452,
    "start_time": "2021-12-26T11:12:09.371Z"
   },
   {
    "duration": 49,
    "start_time": "2021-12-26T11:12:10.826Z"
   },
   {
    "duration": 24,
    "start_time": "2021-12-26T11:12:10.878Z"
   },
   {
    "duration": 13,
    "start_time": "2021-12-26T11:12:10.905Z"
   },
   {
    "duration": 73,
    "start_time": "2021-12-26T11:12:10.920Z"
   },
   {
    "duration": 4,
    "start_time": "2021-12-26T11:12:10.995Z"
   },
   {
    "duration": 16,
    "start_time": "2021-12-26T11:12:11.002Z"
   },
   {
    "duration": 5,
    "start_time": "2021-12-26T11:12:11.023Z"
   },
   {
    "duration": 7,
    "start_time": "2021-12-26T11:12:11.061Z"
   },
   {
    "duration": 7,
    "start_time": "2021-12-26T11:12:11.070Z"
   },
   {
    "duration": 8,
    "start_time": "2021-12-26T11:12:11.079Z"
   },
   {
    "duration": 5,
    "start_time": "2021-12-26T11:12:11.089Z"
   },
   {
    "duration": 10,
    "start_time": "2021-12-26T11:12:11.096Z"
   },
   {
    "duration": 51,
    "start_time": "2021-12-26T11:12:11.109Z"
   },
   {
    "duration": 5,
    "start_time": "2021-12-26T11:12:11.163Z"
   },
   {
    "duration": 21,
    "start_time": "2021-12-26T11:12:11.171Z"
   },
   {
    "duration": 16,
    "start_time": "2021-12-26T11:12:11.194Z"
   },
   {
    "duration": 57,
    "start_time": "2021-12-26T11:12:11.212Z"
   },
   {
    "duration": 9,
    "start_time": "2021-12-26T11:12:11.272Z"
   },
   {
    "duration": 13,
    "start_time": "2021-12-26T11:12:11.284Z"
   },
   {
    "duration": 19,
    "start_time": "2021-12-26T11:12:11.299Z"
   },
   {
    "duration": 42,
    "start_time": "2021-12-26T11:12:11.321Z"
   },
   {
    "duration": 6,
    "start_time": "2021-12-26T11:12:11.367Z"
   },
   {
    "duration": 13,
    "start_time": "2021-12-26T11:12:11.377Z"
   },
   {
    "duration": 451,
    "start_time": "2021-12-26T11:12:11.393Z"
   },
   {
    "duration": 460,
    "start_time": "2021-12-26T11:12:11.847Z"
   },
   {
    "duration": 470,
    "start_time": "2021-12-26T11:12:12.309Z"
   },
   {
    "duration": 523,
    "start_time": "2021-12-26T11:12:12.782Z"
   },
   {
    "duration": 457,
    "start_time": "2021-12-26T11:12:13.308Z"
   },
   {
    "duration": 451,
    "start_time": "2021-12-26T11:12:13.767Z"
   },
   {
    "duration": 530,
    "start_time": "2021-12-26T11:12:14.220Z"
   },
   {
    "duration": -102,
    "start_time": "2021-12-26T11:12:14.854Z"
   },
   {
    "duration": 1156,
    "start_time": "2021-12-26T11:13:20.096Z"
   },
   {
    "duration": 1327,
    "start_time": "2021-12-26T11:27:58.544Z"
   },
   {
    "duration": 159,
    "start_time": "2021-12-26T11:30:03.036Z"
   },
   {
    "duration": 584,
    "start_time": "2021-12-26T11:30:42.741Z"
   },
   {
    "duration": 315,
    "start_time": "2021-12-26T11:30:58.135Z"
   },
   {
    "duration": 405,
    "start_time": "2021-12-26T11:31:24.698Z"
   },
   {
    "duration": 1558,
    "start_time": "2021-12-26T13:13:21.831Z"
   },
   {
    "duration": 45,
    "start_time": "2021-12-26T13:13:23.392Z"
   },
   {
    "duration": 22,
    "start_time": "2021-12-26T13:13:23.440Z"
   },
   {
    "duration": 14,
    "start_time": "2021-12-26T13:13:23.465Z"
   },
   {
    "duration": 68,
    "start_time": "2021-12-26T13:13:23.481Z"
   },
   {
    "duration": 4,
    "start_time": "2021-12-26T13:13:23.551Z"
   },
   {
    "duration": 14,
    "start_time": "2021-12-26T13:13:23.557Z"
   },
   {
    "duration": 5,
    "start_time": "2021-12-26T13:13:23.575Z"
   },
   {
    "duration": 35,
    "start_time": "2021-12-26T13:13:23.583Z"
   },
   {
    "duration": 4,
    "start_time": "2021-12-26T13:13:23.621Z"
   },
   {
    "duration": 5,
    "start_time": "2021-12-26T13:13:23.628Z"
   },
   {
    "duration": 5,
    "start_time": "2021-12-26T13:13:23.636Z"
   },
   {
    "duration": 7,
    "start_time": "2021-12-26T13:13:23.643Z"
   },
   {
    "duration": 4,
    "start_time": "2021-12-26T13:13:23.652Z"
   },
   {
    "duration": 10,
    "start_time": "2021-12-26T13:13:23.658Z"
   },
   {
    "duration": 14,
    "start_time": "2021-12-26T13:13:23.718Z"
   },
   {
    "duration": 11,
    "start_time": "2021-12-26T13:13:23.734Z"
   },
   {
    "duration": 9,
    "start_time": "2021-12-26T13:13:23.748Z"
   },
   {
    "duration": 7,
    "start_time": "2021-12-26T13:13:23.760Z"
   },
   {
    "duration": 48,
    "start_time": "2021-12-26T13:13:23.769Z"
   },
   {
    "duration": 20,
    "start_time": "2021-12-26T13:13:23.820Z"
   },
   {
    "duration": 10,
    "start_time": "2021-12-26T13:13:23.842Z"
   },
   {
    "duration": 6,
    "start_time": "2021-12-26T13:13:23.856Z"
   },
   {
    "duration": 11,
    "start_time": "2021-12-26T13:13:23.864Z"
   },
   {
    "duration": 474,
    "start_time": "2021-12-26T13:13:23.877Z"
   },
   {
    "duration": 454,
    "start_time": "2021-12-26T13:13:24.354Z"
   },
   {
    "duration": 440,
    "start_time": "2021-12-26T13:13:24.811Z"
   },
   {
    "duration": 440,
    "start_time": "2021-12-26T13:13:25.253Z"
   },
   {
    "duration": 465,
    "start_time": "2021-12-26T13:13:25.696Z"
   },
   {
    "duration": 444,
    "start_time": "2021-12-26T13:13:26.163Z"
   },
   {
    "duration": 1269,
    "start_time": "2021-12-26T13:13:26.609Z"
   },
   {
    "duration": 461,
    "start_time": "2021-12-26T13:13:27.880Z"
   },
   {
    "duration": 511,
    "start_time": "2021-12-26T13:17:03.244Z"
   },
   {
    "duration": 331,
    "start_time": "2021-12-26T13:17:22.983Z"
   },
   {
    "duration": 675,
    "start_time": "2021-12-26T13:18:59.942Z"
   },
   {
    "duration": 703,
    "start_time": "2021-12-26T13:19:13.035Z"
   },
   {
    "duration": 607,
    "start_time": "2021-12-26T13:29:05.778Z"
   },
   {
    "duration": 347,
    "start_time": "2021-12-26T13:29:41.329Z"
   },
   {
    "duration": 336,
    "start_time": "2021-12-26T13:29:55.549Z"
   },
   {
    "duration": 495,
    "start_time": "2021-12-26T13:30:09.600Z"
   },
   {
    "duration": 262,
    "start_time": "2021-12-26T13:31:25.119Z"
   },
   {
    "duration": 12,
    "start_time": "2021-12-26T14:59:03.678Z"
   },
   {
    "duration": 12,
    "start_time": "2021-12-26T14:59:43.659Z"
   },
   {
    "duration": 9,
    "start_time": "2021-12-26T15:02:16.993Z"
   },
   {
    "duration": 19,
    "start_time": "2021-12-26T15:02:31.062Z"
   },
   {
    "duration": 11,
    "start_time": "2021-12-26T15:03:16.035Z"
   },
   {
    "duration": 11,
    "start_time": "2021-12-26T15:03:30.098Z"
   },
   {
    "duration": 9,
    "start_time": "2021-12-26T15:05:08.002Z"
   },
   {
    "duration": 13,
    "start_time": "2021-12-26T15:05:17.635Z"
   },
   {
    "duration": 10,
    "start_time": "2021-12-26T15:12:53.352Z"
   },
   {
    "duration": 298,
    "start_time": "2021-12-26T15:14:41.340Z"
   },
   {
    "duration": 288,
    "start_time": "2021-12-26T15:14:51.272Z"
   },
   {
    "duration": 1903,
    "start_time": "2021-12-26T19:02:31.414Z"
   },
   {
    "duration": 64,
    "start_time": "2021-12-26T19:02:33.320Z"
   },
   {
    "duration": 36,
    "start_time": "2021-12-26T19:02:33.389Z"
   },
   {
    "duration": 16,
    "start_time": "2021-12-26T19:02:33.429Z"
   },
   {
    "duration": 66,
    "start_time": "2021-12-26T19:02:33.470Z"
   },
   {
    "duration": 4,
    "start_time": "2021-12-26T19:02:33.538Z"
   },
   {
    "duration": 31,
    "start_time": "2021-12-26T19:02:33.544Z"
   },
   {
    "duration": 18,
    "start_time": "2021-12-26T19:02:33.584Z"
   },
   {
    "duration": 7,
    "start_time": "2021-12-26T19:02:33.607Z"
   },
   {
    "duration": 6,
    "start_time": "2021-12-26T19:02:33.617Z"
   },
   {
    "duration": 3,
    "start_time": "2021-12-26T19:02:33.625Z"
   },
   {
    "duration": 32,
    "start_time": "2021-12-26T19:02:33.631Z"
   },
   {
    "duration": 8,
    "start_time": "2021-12-26T19:02:33.665Z"
   },
   {
    "duration": 7,
    "start_time": "2021-12-26T19:02:33.677Z"
   },
   {
    "duration": 5,
    "start_time": "2021-12-26T19:02:33.687Z"
   },
   {
    "duration": 31,
    "start_time": "2021-12-26T19:02:33.695Z"
   },
   {
    "duration": 22,
    "start_time": "2021-12-26T19:02:33.767Z"
   },
   {
    "duration": 13,
    "start_time": "2021-12-26T19:02:33.792Z"
   },
   {
    "duration": 9,
    "start_time": "2021-12-26T19:02:33.807Z"
   },
   {
    "duration": 50,
    "start_time": "2021-12-26T19:02:33.819Z"
   },
   {
    "duration": 34,
    "start_time": "2021-12-26T19:02:33.873Z"
   },
   {
    "duration": 8,
    "start_time": "2021-12-26T19:02:33.909Z"
   },
   {
    "duration": 7,
    "start_time": "2021-12-26T19:02:33.919Z"
   },
   {
    "duration": 36,
    "start_time": "2021-12-26T19:02:33.929Z"
   },
   {
    "duration": 609,
    "start_time": "2021-12-26T19:02:33.967Z"
   },
   {
    "duration": 600,
    "start_time": "2021-12-26T19:02:34.579Z"
   },
   {
    "duration": 719,
    "start_time": "2021-12-26T19:02:35.188Z"
   },
   {
    "duration": 517,
    "start_time": "2021-12-26T19:02:35.911Z"
   },
   {
    "duration": 734,
    "start_time": "2021-12-26T19:02:36.431Z"
   },
   {
    "duration": 733,
    "start_time": "2021-12-26T19:02:37.170Z"
   },
   {
    "duration": 1723,
    "start_time": "2021-12-26T19:02:37.906Z"
   },
   {
    "duration": 508,
    "start_time": "2021-12-26T19:02:39.631Z"
   },
   {
    "duration": 607,
    "start_time": "2021-12-26T19:02:40.143Z"
   },
   {
    "duration": 22,
    "start_time": "2021-12-26T19:02:40.753Z"
   },
   {
    "duration": 24,
    "start_time": "2021-12-26T19:02:40.781Z"
   },
   {
    "duration": 479,
    "start_time": "2021-12-26T19:02:40.808Z"
   },
   {
    "duration": 320,
    "start_time": "2021-12-26T19:04:22.204Z"
   },
   {
    "duration": 312,
    "start_time": "2021-12-26T19:05:28.448Z"
   },
   {
    "duration": 8189,
    "start_time": "2021-12-26T19:06:20.904Z"
   },
   {
    "duration": 460,
    "start_time": "2021-12-26T19:07:36.823Z"
   },
   {
    "duration": 17,
    "start_time": "2021-12-26T19:08:17.190Z"
   },
   {
    "duration": 338,
    "start_time": "2021-12-26T19:09:04.403Z"
   },
   {
    "duration": 414,
    "start_time": "2021-12-26T19:09:41.168Z"
   },
   {
    "duration": 16,
    "start_time": "2021-12-26T19:10:10.441Z"
   },
   {
    "duration": 14,
    "start_time": "2021-12-26T19:10:21.125Z"
   },
   {
    "duration": 16,
    "start_time": "2021-12-26T19:10:39.414Z"
   },
   {
    "duration": 16,
    "start_time": "2021-12-26T19:11:00.058Z"
   },
   {
    "duration": 332,
    "start_time": "2021-12-26T19:13:09.647Z"
   },
   {
    "duration": 21,
    "start_time": "2021-12-26T19:15:07.054Z"
   },
   {
    "duration": 21,
    "start_time": "2021-12-26T19:15:40.035Z"
   },
   {
    "duration": 22,
    "start_time": "2021-12-26T19:16:05.118Z"
   },
   {
    "duration": 22,
    "start_time": "2021-12-26T19:16:13.811Z"
   },
   {
    "duration": 22,
    "start_time": "2021-12-26T19:20:05.233Z"
   },
   {
    "duration": 21,
    "start_time": "2021-12-26T19:21:27.199Z"
   },
   {
    "duration": 21,
    "start_time": "2021-12-26T19:22:31.072Z"
   },
   {
    "duration": 21,
    "start_time": "2021-12-26T19:23:40.927Z"
   },
   {
    "duration": 21,
    "start_time": "2021-12-26T19:24:22.975Z"
   },
   {
    "duration": 27,
    "start_time": "2021-12-26T19:25:46.793Z"
   },
   {
    "duration": 26,
    "start_time": "2021-12-26T19:27:59.713Z"
   },
   {
    "duration": 194,
    "start_time": "2021-12-26T19:30:45.300Z"
   },
   {
    "duration": 15,
    "start_time": "2021-12-26T19:30:54.623Z"
   },
   {
    "duration": 22,
    "start_time": "2021-12-26T19:36:12.760Z"
   },
   {
    "duration": 28,
    "start_time": "2021-12-26T19:38:28.485Z"
   },
   {
    "duration": 30,
    "start_time": "2021-12-26T19:40:00.818Z"
   },
   {
    "duration": 27,
    "start_time": "2021-12-26T19:40:33.658Z"
   },
   {
    "duration": 17,
    "start_time": "2021-12-26T19:42:54.748Z"
   },
   {
    "duration": 26,
    "start_time": "2021-12-26T19:43:11.804Z"
   },
   {
    "duration": 48,
    "start_time": "2021-12-26T19:45:30.894Z"
   },
   {
    "duration": 11,
    "start_time": "2021-12-26T19:48:32.422Z"
   },
   {
    "duration": 33,
    "start_time": "2021-12-26T19:49:47.277Z"
   },
   {
    "duration": 31,
    "start_time": "2021-12-26T19:50:46.877Z"
   },
   {
    "duration": 33,
    "start_time": "2021-12-26T19:52:41.983Z"
   },
   {
    "duration": 26,
    "start_time": "2021-12-26T19:53:18.165Z"
   },
   {
    "duration": 32,
    "start_time": "2021-12-26T19:53:20.006Z"
   },
   {
    "duration": 32,
    "start_time": "2021-12-26T19:54:48.879Z"
   },
   {
    "duration": 28,
    "start_time": "2021-12-26T19:57:03.793Z"
   },
   {
    "duration": 28,
    "start_time": "2021-12-26T19:57:05.143Z"
   },
   {
    "duration": 40,
    "start_time": "2021-12-26T19:57:06.562Z"
   },
   {
    "duration": 39,
    "start_time": "2021-12-26T19:57:08.475Z"
   },
   {
    "duration": 34,
    "start_time": "2021-12-26T19:58:04.512Z"
   },
   {
    "duration": 32,
    "start_time": "2021-12-26T19:59:43.870Z"
   },
   {
    "duration": 28,
    "start_time": "2021-12-26T19:59:55.678Z"
   },
   {
    "duration": 16,
    "start_time": "2021-12-26T20:00:20.942Z"
   },
   {
    "duration": 21,
    "start_time": "2021-12-26T20:01:34.721Z"
   },
   {
    "duration": 21,
    "start_time": "2021-12-26T20:02:52.594Z"
   },
   {
    "duration": 14,
    "start_time": "2021-12-26T20:03:14.021Z"
   },
   {
    "duration": 14,
    "start_time": "2021-12-26T20:03:54.869Z"
   },
   {
    "duration": 16,
    "start_time": "2021-12-26T20:04:24.534Z"
   },
   {
    "duration": 403,
    "start_time": "2021-12-26T20:07:37.894Z"
   },
   {
    "duration": 633,
    "start_time": "2021-12-26T20:08:23.430Z"
   },
   {
    "duration": 16,
    "start_time": "2021-12-26T20:09:07.332Z"
   },
   {
    "duration": 1321,
    "start_time": "2021-12-27T11:20:23.643Z"
   },
   {
    "duration": 37,
    "start_time": "2021-12-27T11:20:24.966Z"
   },
   {
    "duration": 17,
    "start_time": "2021-12-27T11:20:25.006Z"
   },
   {
    "duration": 30,
    "start_time": "2021-12-27T11:20:25.025Z"
   },
   {
    "duration": 56,
    "start_time": "2021-12-27T11:20:25.057Z"
   },
   {
    "duration": 10,
    "start_time": "2021-12-27T11:20:25.115Z"
   },
   {
    "duration": 28,
    "start_time": "2021-12-27T11:20:25.127Z"
   },
   {
    "duration": 9,
    "start_time": "2021-12-27T11:20:25.158Z"
   },
   {
    "duration": 17,
    "start_time": "2021-12-27T11:20:25.170Z"
   },
   {
    "duration": 34,
    "start_time": "2021-12-27T11:20:25.188Z"
   },
   {
    "duration": 21,
    "start_time": "2021-12-27T11:20:25.224Z"
   },
   {
    "duration": 23,
    "start_time": "2021-12-27T11:20:25.246Z"
   },
   {
    "duration": 28,
    "start_time": "2021-12-27T11:20:25.271Z"
   },
   {
    "duration": 29,
    "start_time": "2021-12-27T11:20:25.300Z"
   },
   {
    "duration": 18,
    "start_time": "2021-12-27T11:20:25.331Z"
   },
   {
    "duration": 24,
    "start_time": "2021-12-27T11:20:25.351Z"
   },
   {
    "duration": 13,
    "start_time": "2021-12-27T11:20:25.377Z"
   },
   {
    "duration": 21,
    "start_time": "2021-12-27T11:20:25.392Z"
   },
   {
    "duration": 10,
    "start_time": "2021-12-27T11:20:25.415Z"
   },
   {
    "duration": 19,
    "start_time": "2021-12-27T11:20:25.427Z"
   },
   {
    "duration": 22,
    "start_time": "2021-12-27T11:20:25.447Z"
   },
   {
    "duration": 30,
    "start_time": "2021-12-27T11:20:25.472Z"
   },
   {
    "duration": 27,
    "start_time": "2021-12-27T11:20:25.506Z"
   },
   {
    "duration": 28,
    "start_time": "2021-12-27T11:20:25.535Z"
   },
   {
    "duration": 274,
    "start_time": "2021-12-27T11:20:25.565Z"
   },
   {
    "duration": 297,
    "start_time": "2021-12-27T11:20:25.841Z"
   },
   {
    "duration": 287,
    "start_time": "2021-12-27T11:20:26.140Z"
   },
   {
    "duration": 282,
    "start_time": "2021-12-27T11:20:26.429Z"
   },
   {
    "duration": 438,
    "start_time": "2021-12-27T11:20:26.713Z"
   },
   {
    "duration": 271,
    "start_time": "2021-12-27T11:20:27.153Z"
   },
   {
    "duration": 739,
    "start_time": "2021-12-27T11:20:27.426Z"
   },
   {
    "duration": 217,
    "start_time": "2021-12-27T11:20:28.167Z"
   },
   {
    "duration": 244,
    "start_time": "2021-12-27T11:20:28.386Z"
   },
   {
    "duration": 9,
    "start_time": "2021-12-27T11:20:28.632Z"
   },
   {
    "duration": 20,
    "start_time": "2021-12-27T11:20:28.642Z"
   },
   {
    "duration": 24,
    "start_time": "2021-12-27T11:20:28.664Z"
   },
   {
    "duration": 19,
    "start_time": "2021-12-27T11:20:28.689Z"
   },
   {
    "duration": 21,
    "start_time": "2021-12-27T11:20:28.709Z"
   },
   {
    "duration": 29,
    "start_time": "2021-12-27T11:20:28.732Z"
   },
   {
    "duration": 17,
    "start_time": "2021-12-27T11:20:28.763Z"
   },
   {
    "duration": 25,
    "start_time": "2021-12-27T11:20:28.782Z"
   },
   {
    "duration": 15,
    "start_time": "2021-12-27T11:20:28.809Z"
   },
   {
    "duration": 9,
    "start_time": "2021-12-27T11:20:28.825Z"
   },
   {
    "duration": 32,
    "start_time": "2021-12-27T11:20:28.835Z"
   },
   {
    "duration": 23,
    "start_time": "2021-12-27T11:20:28.869Z"
   },
   {
    "duration": 92,
    "start_time": "2021-12-27T11:23:47.248Z"
   },
   {
    "duration": 238,
    "start_time": "2021-12-27T11:23:58.212Z"
   },
   {
    "duration": 210,
    "start_time": "2021-12-27T11:24:20.177Z"
   },
   {
    "duration": 230,
    "start_time": "2021-12-27T12:19:16.377Z"
   },
   {
    "duration": 271,
    "start_time": "2021-12-27T12:19:41.880Z"
   },
   {
    "duration": 237,
    "start_time": "2021-12-27T12:22:12.152Z"
   },
   {
    "duration": 847,
    "start_time": "2021-12-27T12:24:53.924Z"
   },
   {
    "duration": 806,
    "start_time": "2021-12-27T12:29:21.261Z"
   },
   {
    "duration": 480,
    "start_time": "2021-12-27T12:30:08.212Z"
   },
   {
    "duration": 463,
    "start_time": "2021-12-27T12:30:43.668Z"
   },
   {
    "duration": 553,
    "start_time": "2021-12-27T12:31:11.022Z"
   },
   {
    "duration": 5,
    "start_time": "2021-12-27T12:34:00.476Z"
   },
   {
    "duration": 1196,
    "start_time": "2021-12-27T12:34:12.626Z"
   },
   {
    "duration": 39,
    "start_time": "2021-12-27T12:34:13.824Z"
   },
   {
    "duration": 16,
    "start_time": "2021-12-27T12:34:13.865Z"
   },
   {
    "duration": 25,
    "start_time": "2021-12-27T12:34:13.883Z"
   },
   {
    "duration": 35,
    "start_time": "2021-12-27T12:34:13.909Z"
   },
   {
    "duration": 3,
    "start_time": "2021-12-27T12:34:13.946Z"
   },
   {
    "duration": 27,
    "start_time": "2021-12-27T12:34:13.950Z"
   },
   {
    "duration": 25,
    "start_time": "2021-12-27T12:34:13.978Z"
   },
   {
    "duration": 30,
    "start_time": "2021-12-27T12:34:14.006Z"
   },
   {
    "duration": 22,
    "start_time": "2021-12-27T12:34:14.038Z"
   },
   {
    "duration": 16,
    "start_time": "2021-12-27T12:34:14.062Z"
   },
   {
    "duration": 20,
    "start_time": "2021-12-27T12:34:14.080Z"
   },
   {
    "duration": 35,
    "start_time": "2021-12-27T12:34:14.102Z"
   },
   {
    "duration": 12,
    "start_time": "2021-12-27T12:34:14.139Z"
   },
   {
    "duration": 17,
    "start_time": "2021-12-27T12:34:14.153Z"
   },
   {
    "duration": 22,
    "start_time": "2021-12-27T12:34:14.172Z"
   },
   {
    "duration": 18,
    "start_time": "2021-12-27T12:34:14.196Z"
   },
   {
    "duration": 25,
    "start_time": "2021-12-27T12:34:14.216Z"
   },
   {
    "duration": 16,
    "start_time": "2021-12-27T12:34:14.243Z"
   },
   {
    "duration": 36,
    "start_time": "2021-12-27T12:34:14.261Z"
   },
   {
    "duration": 25,
    "start_time": "2021-12-27T12:34:14.299Z"
   },
   {
    "duration": 22,
    "start_time": "2021-12-27T12:34:14.326Z"
   },
   {
    "duration": 29,
    "start_time": "2021-12-27T12:34:14.350Z"
   },
   {
    "duration": 17,
    "start_time": "2021-12-27T12:34:14.381Z"
   },
   {
    "duration": 31,
    "start_time": "2021-12-27T12:34:14.400Z"
   },
   {
    "duration": 286,
    "start_time": "2021-12-27T12:34:14.433Z"
   },
   {
    "duration": 284,
    "start_time": "2021-12-27T12:34:14.724Z"
   },
   {
    "duration": 284,
    "start_time": "2021-12-27T12:34:15.011Z"
   },
   {
    "duration": 270,
    "start_time": "2021-12-27T12:34:15.297Z"
   },
   {
    "duration": 303,
    "start_time": "2021-12-27T12:34:15.569Z"
   },
   {
    "duration": 280,
    "start_time": "2021-12-27T12:34:15.873Z"
   },
   {
    "duration": 823,
    "start_time": "2021-12-27T12:34:16.155Z"
   },
   {
    "duration": 214,
    "start_time": "2021-12-27T12:34:16.980Z"
   },
   {
    "duration": 244,
    "start_time": "2021-12-27T12:34:17.196Z"
   },
   {
    "duration": 19,
    "start_time": "2021-12-27T12:34:17.441Z"
   },
   {
    "duration": 19,
    "start_time": "2021-12-27T12:34:17.462Z"
   },
   {
    "duration": 34,
    "start_time": "2021-12-27T12:34:17.483Z"
   },
   {
    "duration": 43,
    "start_time": "2021-12-27T12:34:17.519Z"
   },
   {
    "duration": 28,
    "start_time": "2021-12-27T12:34:17.563Z"
   },
   {
    "duration": 41,
    "start_time": "2021-12-27T12:34:17.592Z"
   },
   {
    "duration": 25,
    "start_time": "2021-12-27T12:34:17.634Z"
   },
   {
    "duration": 47,
    "start_time": "2021-12-27T12:34:17.661Z"
   },
   {
    "duration": 43,
    "start_time": "2021-12-27T12:34:17.709Z"
   },
   {
    "duration": 34,
    "start_time": "2021-12-27T12:34:17.754Z"
   },
   {
    "duration": 23,
    "start_time": "2021-12-27T12:34:17.790Z"
   },
   {
    "duration": 548,
    "start_time": "2021-12-27T12:34:17.815Z"
   },
   {
    "duration": 453,
    "start_time": "2021-12-27T12:34:32.904Z"
   },
   {
    "duration": 5,
    "start_time": "2021-12-27T12:35:41.696Z"
   },
   {
    "duration": 474,
    "start_time": "2021-12-27T12:35:54.467Z"
   },
   {
    "duration": 202,
    "start_time": "2021-12-27T12:39:16.004Z"
   },
   {
    "duration": 213,
    "start_time": "2021-12-27T12:40:02.276Z"
   },
   {
    "duration": 276,
    "start_time": "2021-12-27T12:41:39.219Z"
   },
   {
    "duration": 283,
    "start_time": "2021-12-27T12:42:04.665Z"
   },
   {
    "duration": 194,
    "start_time": "2021-12-27T12:42:17.581Z"
   },
   {
    "duration": 20,
    "start_time": "2021-12-27T12:42:21.163Z"
   },
   {
    "duration": 113,
    "start_time": "2021-12-27T12:42:47.713Z"
   },
   {
    "duration": 21,
    "start_time": "2021-12-27T12:42:52.661Z"
   },
   {
    "duration": 269,
    "start_time": "2021-12-27T12:43:02.706Z"
   },
   {
    "duration": 30,
    "start_time": "2021-12-27T12:43:14.065Z"
   },
   {
    "duration": 25,
    "start_time": "2021-12-27T12:45:03.005Z"
   },
   {
    "duration": 232,
    "start_time": "2021-12-27T13:03:31.549Z"
   },
   {
    "duration": 205,
    "start_time": "2021-12-27T13:04:09.094Z"
   },
   {
    "duration": 200,
    "start_time": "2021-12-27T13:04:57.613Z"
   },
   {
    "duration": 258,
    "start_time": "2021-12-27T13:16:47.834Z"
   },
   {
    "duration": 9,
    "start_time": "2021-12-27T13:16:57.624Z"
   },
   {
    "duration": 510,
    "start_time": "2021-12-27T13:16:58.836Z"
   },
   {
    "duration": 6,
    "start_time": "2021-12-27T13:17:29.747Z"
   },
   {
    "duration": 5,
    "start_time": "2021-12-27T13:20:26.447Z"
   },
   {
    "duration": 1119,
    "start_time": "2021-12-27T19:17:03.055Z"
   },
   {
    "duration": 36,
    "start_time": "2021-12-27T19:17:04.175Z"
   },
   {
    "duration": 14,
    "start_time": "2021-12-27T19:17:04.213Z"
   },
   {
    "duration": 13,
    "start_time": "2021-12-27T19:17:04.229Z"
   },
   {
    "duration": 35,
    "start_time": "2021-12-27T19:17:04.244Z"
   },
   {
    "duration": 4,
    "start_time": "2021-12-27T19:17:04.281Z"
   },
   {
    "duration": 16,
    "start_time": "2021-12-27T19:17:04.286Z"
   },
   {
    "duration": 23,
    "start_time": "2021-12-27T19:17:04.305Z"
   },
   {
    "duration": 8,
    "start_time": "2021-12-27T19:17:04.330Z"
   },
   {
    "duration": 5,
    "start_time": "2021-12-27T19:17:04.339Z"
   },
   {
    "duration": 4,
    "start_time": "2021-12-27T19:17:04.346Z"
   },
   {
    "duration": 6,
    "start_time": "2021-12-27T19:17:04.351Z"
   },
   {
    "duration": 7,
    "start_time": "2021-12-27T19:17:04.359Z"
   },
   {
    "duration": 3,
    "start_time": "2021-12-27T19:17:04.368Z"
   },
   {
    "duration": 7,
    "start_time": "2021-12-27T19:17:04.373Z"
   },
   {
    "duration": 13,
    "start_time": "2021-12-27T19:17:04.381Z"
   },
   {
    "duration": 7,
    "start_time": "2021-12-27T19:17:04.396Z"
   },
   {
    "duration": 30,
    "start_time": "2021-12-27T19:17:04.404Z"
   },
   {
    "duration": 5,
    "start_time": "2021-12-27T19:17:04.435Z"
   },
   {
    "duration": 8,
    "start_time": "2021-12-27T19:17:04.441Z"
   },
   {
    "duration": 6,
    "start_time": "2021-12-27T19:17:04.450Z"
   },
   {
    "duration": 13,
    "start_time": "2021-12-27T19:17:04.457Z"
   },
   {
    "duration": 15,
    "start_time": "2021-12-27T19:17:04.473Z"
   },
   {
    "duration": 4,
    "start_time": "2021-12-27T19:17:04.491Z"
   },
   {
    "duration": 30,
    "start_time": "2021-12-27T19:17:04.497Z"
   },
   {
    "duration": 244,
    "start_time": "2021-12-27T19:17:04.529Z"
   },
   {
    "duration": 276,
    "start_time": "2021-12-27T19:17:04.775Z"
   },
   {
    "duration": 246,
    "start_time": "2021-12-27T19:17:05.052Z"
   },
   {
    "duration": 252,
    "start_time": "2021-12-27T19:17:05.300Z"
   },
   {
    "duration": 247,
    "start_time": "2021-12-27T19:17:05.554Z"
   },
   {
    "duration": 247,
    "start_time": "2021-12-27T19:17:05.802Z"
   },
   {
    "duration": 659,
    "start_time": "2021-12-27T19:17:06.051Z"
   },
   {
    "duration": 210,
    "start_time": "2021-12-27T19:17:06.712Z"
   },
   {
    "duration": 241,
    "start_time": "2021-12-27T19:17:06.924Z"
   },
   {
    "duration": 8,
    "start_time": "2021-12-27T19:17:07.167Z"
   },
   {
    "duration": 8,
    "start_time": "2021-12-27T19:17:07.176Z"
   },
   {
    "duration": 10,
    "start_time": "2021-12-27T19:17:07.186Z"
   },
   {
    "duration": 34,
    "start_time": "2021-12-27T19:17:07.197Z"
   },
   {
    "duration": 15,
    "start_time": "2021-12-27T19:17:07.232Z"
   },
   {
    "duration": 14,
    "start_time": "2021-12-27T19:17:07.248Z"
   },
   {
    "duration": 15,
    "start_time": "2021-12-27T19:17:07.263Z"
   },
   {
    "duration": 17,
    "start_time": "2021-12-27T19:17:07.279Z"
   },
   {
    "duration": 37,
    "start_time": "2021-12-27T19:17:07.297Z"
   },
   {
    "duration": 7,
    "start_time": "2021-12-27T19:17:07.335Z"
   },
   {
    "duration": 9,
    "start_time": "2021-12-27T19:17:07.344Z"
   },
   {
    "duration": 212,
    "start_time": "2021-12-27T19:17:07.354Z"
   },
   {
    "duration": 203,
    "start_time": "2021-12-27T19:17:07.568Z"
   },
   {
    "duration": 198,
    "start_time": "2021-12-27T19:17:07.773Z"
   },
   {
    "duration": 8,
    "start_time": "2021-12-27T19:17:07.972Z"
   },
   {
    "duration": 7,
    "start_time": "2021-12-27T19:17:07.981Z"
   },
   {
    "duration": 8,
    "start_time": "2021-12-27T19:17:07.989Z"
   },
   {
    "duration": 1174,
    "start_time": "2021-12-27T19:19:30.391Z"
   },
   {
    "duration": 35,
    "start_time": "2021-12-27T19:19:31.567Z"
   },
   {
    "duration": 15,
    "start_time": "2021-12-27T19:19:31.605Z"
   },
   {
    "duration": 11,
    "start_time": "2021-12-27T19:19:31.622Z"
   },
   {
    "duration": 26,
    "start_time": "2021-12-27T19:19:31.635Z"
   },
   {
    "duration": 2,
    "start_time": "2021-12-27T19:19:31.663Z"
   },
   {
    "duration": 10,
    "start_time": "2021-12-27T19:19:31.667Z"
   },
   {
    "duration": 13,
    "start_time": "2021-12-27T19:19:31.679Z"
   },
   {
    "duration": 6,
    "start_time": "2021-12-27T19:19:31.695Z"
   },
   {
    "duration": 25,
    "start_time": "2021-12-27T19:19:31.703Z"
   },
   {
    "duration": 3,
    "start_time": "2021-12-27T19:19:31.730Z"
   },
   {
    "duration": 7,
    "start_time": "2021-12-27T19:19:31.734Z"
   },
   {
    "duration": 8,
    "start_time": "2021-12-27T19:19:31.742Z"
   },
   {
    "duration": 7,
    "start_time": "2021-12-27T19:19:31.751Z"
   },
   {
    "duration": 11,
    "start_time": "2021-12-27T19:19:31.759Z"
   },
   {
    "duration": 17,
    "start_time": "2021-12-27T19:19:31.772Z"
   },
   {
    "duration": 7,
    "start_time": "2021-12-27T19:19:31.791Z"
   },
   {
    "duration": 7,
    "start_time": "2021-12-27T19:19:31.800Z"
   },
   {
    "duration": 20,
    "start_time": "2021-12-27T19:19:31.809Z"
   },
   {
    "duration": 13,
    "start_time": "2021-12-27T19:19:31.831Z"
   },
   {
    "duration": 5,
    "start_time": "2021-12-27T19:19:31.845Z"
   },
   {
    "duration": 5,
    "start_time": "2021-12-27T19:19:31.851Z"
   },
   {
    "duration": 11,
    "start_time": "2021-12-27T19:19:31.857Z"
   },
   {
    "duration": 8,
    "start_time": "2021-12-27T19:19:31.870Z"
   },
   {
    "duration": 4,
    "start_time": "2021-12-27T19:19:31.880Z"
   },
   {
    "duration": 9,
    "start_time": "2021-12-27T19:19:31.885Z"
   },
   {
    "duration": 243,
    "start_time": "2021-12-27T19:19:31.929Z"
   },
   {
    "duration": 268,
    "start_time": "2021-12-27T19:19:32.175Z"
   },
   {
    "duration": 252,
    "start_time": "2021-12-27T19:19:32.444Z"
   },
   {
    "duration": 250,
    "start_time": "2021-12-27T19:19:32.698Z"
   },
   {
    "duration": 267,
    "start_time": "2021-12-27T19:19:32.949Z"
   },
   {
    "duration": 244,
    "start_time": "2021-12-27T19:19:33.218Z"
   },
   {
    "duration": 679,
    "start_time": "2021-12-27T19:19:33.464Z"
   },
   {
    "duration": 202,
    "start_time": "2021-12-27T19:19:34.145Z"
   },
   {
    "duration": 229,
    "start_time": "2021-12-27T19:19:34.348Z"
   },
   {
    "duration": 9,
    "start_time": "2021-12-27T19:19:34.578Z"
   },
   {
    "duration": 7,
    "start_time": "2021-12-27T19:19:34.588Z"
   },
   {
    "duration": 9,
    "start_time": "2021-12-27T19:19:34.597Z"
   },
   {
    "duration": 14,
    "start_time": "2021-12-27T19:19:34.628Z"
   },
   {
    "duration": 13,
    "start_time": "2021-12-27T19:19:34.644Z"
   },
   {
    "duration": 15,
    "start_time": "2021-12-27T19:19:34.659Z"
   },
   {
    "duration": 20,
    "start_time": "2021-12-27T19:19:34.675Z"
   },
   {
    "duration": 39,
    "start_time": "2021-12-27T19:19:34.697Z"
   },
   {
    "duration": 10,
    "start_time": "2021-12-27T19:19:34.737Z"
   },
   {
    "duration": 8,
    "start_time": "2021-12-27T19:19:34.748Z"
   },
   {
    "duration": 7,
    "start_time": "2021-12-27T19:19:34.757Z"
   },
   {
    "duration": 211,
    "start_time": "2021-12-27T19:19:34.766Z"
   },
   {
    "duration": 198,
    "start_time": "2021-12-27T19:19:34.979Z"
   },
   {
    "duration": 188,
    "start_time": "2021-12-27T19:19:35.179Z"
   },
   {
    "duration": 7,
    "start_time": "2021-12-27T19:19:35.369Z"
   },
   {
    "duration": 5,
    "start_time": "2021-12-27T19:19:35.377Z"
   },
   {
    "duration": 6,
    "start_time": "2021-12-27T19:19:35.383Z"
   },
   {
    "duration": 1159,
    "start_time": "2021-12-27T19:20:45.607Z"
   },
   {
    "duration": 35,
    "start_time": "2021-12-27T19:20:46.768Z"
   },
   {
    "duration": 15,
    "start_time": "2021-12-27T19:20:46.805Z"
   },
   {
    "duration": 9,
    "start_time": "2021-12-27T19:20:46.822Z"
   },
   {
    "duration": 28,
    "start_time": "2021-12-27T19:20:46.832Z"
   },
   {
    "duration": 3,
    "start_time": "2021-12-27T19:20:46.861Z"
   },
   {
    "duration": 8,
    "start_time": "2021-12-27T19:20:46.866Z"
   },
   {
    "duration": 7,
    "start_time": "2021-12-27T19:20:46.876Z"
   },
   {
    "duration": 8,
    "start_time": "2021-12-27T19:20:46.885Z"
   },
   {
    "duration": 4,
    "start_time": "2021-12-27T19:20:46.895Z"
   },
   {
    "duration": 29,
    "start_time": "2021-12-27T19:20:46.900Z"
   },
   {
    "duration": 5,
    "start_time": "2021-12-27T19:20:46.930Z"
   },
   {
    "duration": 7,
    "start_time": "2021-12-27T19:20:46.936Z"
   },
   {
    "duration": 4,
    "start_time": "2021-12-27T19:20:46.944Z"
   },
   {
    "duration": 5,
    "start_time": "2021-12-27T19:20:46.949Z"
   },
   {
    "duration": 12,
    "start_time": "2021-12-27T19:20:46.956Z"
   },
   {
    "duration": 7,
    "start_time": "2021-12-27T19:20:46.970Z"
   },
   {
    "duration": 10,
    "start_time": "2021-12-27T19:20:46.978Z"
   },
   {
    "duration": 7,
    "start_time": "2021-12-27T19:20:46.989Z"
   },
   {
    "duration": 32,
    "start_time": "2021-12-27T19:20:46.997Z"
   },
   {
    "duration": 9,
    "start_time": "2021-12-27T19:20:47.031Z"
   },
   {
    "duration": 9,
    "start_time": "2021-12-27T19:20:47.041Z"
   },
   {
    "duration": 14,
    "start_time": "2021-12-27T19:20:47.053Z"
   },
   {
    "duration": 9,
    "start_time": "2021-12-27T19:20:47.069Z"
   },
   {
    "duration": 6,
    "start_time": "2021-12-27T19:20:47.080Z"
   },
   {
    "duration": 14,
    "start_time": "2021-12-27T19:20:47.087Z"
   },
   {
    "duration": 263,
    "start_time": "2021-12-27T19:20:47.103Z"
   },
   {
    "duration": 248,
    "start_time": "2021-12-27T19:20:47.368Z"
   },
   {
    "duration": 253,
    "start_time": "2021-12-27T19:20:47.618Z"
   },
   {
    "duration": 328,
    "start_time": "2021-12-27T19:20:47.873Z"
   },
   {
    "duration": 258,
    "start_time": "2021-12-27T19:20:48.203Z"
   },
   {
    "duration": 257,
    "start_time": "2021-12-27T19:20:48.463Z"
   },
   {
    "duration": 677,
    "start_time": "2021-12-27T19:20:48.727Z"
   },
   {
    "duration": 197,
    "start_time": "2021-12-27T19:20:49.405Z"
   },
   {
    "duration": 203,
    "start_time": "2021-12-27T19:20:49.603Z"
   },
   {
    "duration": 20,
    "start_time": "2021-12-27T19:20:49.808Z"
   },
   {
    "duration": 1023,
    "start_time": "2021-12-27T19:20:49.829Z"
   },
   {
    "duration": 277,
    "start_time": "2021-12-27T19:20:50.577Z"
   },
   {
    "duration": 269,
    "start_time": "2021-12-27T19:20:50.586Z"
   },
   {
    "duration": 261,
    "start_time": "2021-12-27T19:20:50.595Z"
   },
   {
    "duration": 254,
    "start_time": "2021-12-27T19:20:50.603Z"
   },
   {
    "duration": 246,
    "start_time": "2021-12-27T19:20:50.612Z"
   },
   {
    "duration": 237,
    "start_time": "2021-12-27T19:20:50.621Z"
   },
   {
    "duration": 230,
    "start_time": "2021-12-27T19:20:50.629Z"
   },
   {
    "duration": 223,
    "start_time": "2021-12-27T19:20:50.637Z"
   },
   {
    "duration": 216,
    "start_time": "2021-12-27T19:20:50.645Z"
   },
   {
    "duration": 209,
    "start_time": "2021-12-27T19:20:50.653Z"
   },
   {
    "duration": 200,
    "start_time": "2021-12-27T19:20:50.663Z"
   },
   {
    "duration": 175,
    "start_time": "2021-12-27T19:20:50.689Z"
   },
   {
    "duration": 168,
    "start_time": "2021-12-27T19:20:50.697Z"
   },
   {
    "duration": 161,
    "start_time": "2021-12-27T19:20:50.705Z"
   },
   {
    "duration": 154,
    "start_time": "2021-12-27T19:20:50.713Z"
   },
   {
    "duration": 1134,
    "start_time": "2021-12-27T19:21:36.520Z"
   },
   {
    "duration": 36,
    "start_time": "2021-12-27T19:21:37.655Z"
   },
   {
    "duration": 14,
    "start_time": "2021-12-27T19:21:37.693Z"
   },
   {
    "duration": 18,
    "start_time": "2021-12-27T19:21:37.709Z"
   },
   {
    "duration": 26,
    "start_time": "2021-12-27T19:21:37.728Z"
   },
   {
    "duration": 2,
    "start_time": "2021-12-27T19:21:37.756Z"
   },
   {
    "duration": 13,
    "start_time": "2021-12-27T19:21:37.760Z"
   },
   {
    "duration": 13,
    "start_time": "2021-12-27T19:21:37.774Z"
   },
   {
    "duration": 10,
    "start_time": "2021-12-27T19:21:37.790Z"
   },
   {
    "duration": 5,
    "start_time": "2021-12-27T19:21:37.801Z"
   },
   {
    "duration": 7,
    "start_time": "2021-12-27T19:21:37.807Z"
   },
   {
    "duration": 11,
    "start_time": "2021-12-27T19:21:37.816Z"
   },
   {
    "duration": 6,
    "start_time": "2021-12-27T19:21:37.828Z"
   },
   {
    "duration": 5,
    "start_time": "2021-12-27T19:21:37.835Z"
   },
   {
    "duration": 4,
    "start_time": "2021-12-27T19:21:37.841Z"
   },
   {
    "duration": 15,
    "start_time": "2021-12-27T19:21:37.847Z"
   },
   {
    "duration": 7,
    "start_time": "2021-12-27T19:21:37.863Z"
   },
   {
    "duration": 8,
    "start_time": "2021-12-27T19:21:37.871Z"
   },
   {
    "duration": 3,
    "start_time": "2021-12-27T19:21:37.881Z"
   },
   {
    "duration": 6,
    "start_time": "2021-12-27T19:21:37.886Z"
   },
   {
    "duration": 34,
    "start_time": "2021-12-27T19:21:37.894Z"
   },
   {
    "duration": 13,
    "start_time": "2021-12-27T19:21:37.930Z"
   },
   {
    "duration": 7,
    "start_time": "2021-12-27T19:21:37.945Z"
   },
   {
    "duration": 5,
    "start_time": "2021-12-27T19:21:37.954Z"
   },
   {
    "duration": 8,
    "start_time": "2021-12-27T19:21:37.961Z"
   },
   {
    "duration": 264,
    "start_time": "2021-12-27T19:21:37.971Z"
   },
   {
    "duration": 256,
    "start_time": "2021-12-27T19:21:38.240Z"
   },
   {
    "duration": 255,
    "start_time": "2021-12-27T19:21:38.498Z"
   },
   {
    "duration": 248,
    "start_time": "2021-12-27T19:21:38.755Z"
   },
   {
    "duration": 263,
    "start_time": "2021-12-27T19:21:39.005Z"
   },
   {
    "duration": 253,
    "start_time": "2021-12-27T19:21:39.270Z"
   },
   {
    "duration": 676,
    "start_time": "2021-12-27T19:21:39.527Z"
   },
   {
    "duration": 194,
    "start_time": "2021-12-27T19:21:40.205Z"
   },
   {
    "duration": 222,
    "start_time": "2021-12-27T19:21:40.401Z"
   },
   {
    "duration": 9,
    "start_time": "2021-12-27T19:21:40.624Z"
   },
   {
    "duration": 7,
    "start_time": "2021-12-27T19:21:40.634Z"
   },
   {
    "duration": 9,
    "start_time": "2021-12-27T19:21:40.642Z"
   },
   {
    "duration": 12,
    "start_time": "2021-12-27T19:21:40.653Z"
   },
   {
    "duration": 14,
    "start_time": "2021-12-27T19:21:40.666Z"
   },
   {
    "duration": 51,
    "start_time": "2021-12-27T19:21:40.682Z"
   },
   {
    "duration": 15,
    "start_time": "2021-12-27T19:21:40.734Z"
   },
   {
    "duration": 18,
    "start_time": "2021-12-27T19:21:40.750Z"
   },
   {
    "duration": 10,
    "start_time": "2021-12-27T19:21:40.769Z"
   },
   {
    "duration": 9,
    "start_time": "2021-12-27T19:21:40.780Z"
   },
   {
    "duration": 42,
    "start_time": "2021-12-27T19:21:40.790Z"
   },
   {
    "duration": 198,
    "start_time": "2021-12-27T19:21:40.834Z"
   },
   {
    "duration": 197,
    "start_time": "2021-12-27T19:21:41.034Z"
   },
   {
    "duration": 208,
    "start_time": "2021-12-27T19:21:41.233Z"
   },
   {
    "duration": 8,
    "start_time": "2021-12-27T19:21:41.442Z"
   },
   {
    "duration": 7,
    "start_time": "2021-12-27T19:21:41.451Z"
   },
   {
    "duration": 6,
    "start_time": "2021-12-27T19:21:41.459Z"
   },
   {
    "duration": 411,
    "start_time": "2021-12-27T19:22:22.826Z"
   },
   {
    "duration": 471,
    "start_time": "2021-12-27T19:23:23.771Z"
   },
   {
    "duration": 105,
    "start_time": "2021-12-27T19:26:42.857Z"
   },
   {
    "duration": 103,
    "start_time": "2021-12-27T19:27:45.427Z"
   },
   {
    "duration": 14,
    "start_time": "2021-12-27T19:28:09.515Z"
   },
   {
    "duration": 5,
    "start_time": "2021-12-27T19:28:12.160Z"
   },
   {
    "duration": 15,
    "start_time": "2021-12-27T19:32:01.678Z"
   },
   {
    "duration": 565,
    "start_time": "2021-12-27T19:32:45.993Z"
   },
   {
    "duration": 6,
    "start_time": "2021-12-27T19:33:01.763Z"
   },
   {
    "duration": 5,
    "start_time": "2021-12-27T19:35:33.233Z"
   },
   {
    "duration": 240,
    "start_time": "2021-12-27T20:21:36.613Z"
   },
   {
    "duration": 185,
    "start_time": "2021-12-27T20:23:40.046Z"
   },
   {
    "duration": 122,
    "start_time": "2021-12-27T20:24:04.443Z"
   },
   {
    "duration": 273,
    "start_time": "2021-12-27T20:25:06.021Z"
   },
   {
    "duration": 324,
    "start_time": "2021-12-27T20:25:54.476Z"
   },
   {
    "duration": 319,
    "start_time": "2021-12-27T20:26:20.911Z"
   },
   {
    "duration": 251,
    "start_time": "2021-12-27T20:28:45.935Z"
   },
   {
    "duration": 249,
    "start_time": "2021-12-27T20:30:43.461Z"
   },
   {
    "duration": 263,
    "start_time": "2021-12-27T20:33:54.723Z"
   },
   {
    "duration": 651,
    "start_time": "2021-12-27T20:45:03.961Z"
   },
   {
    "duration": 258,
    "start_time": "2021-12-27T20:45:59.669Z"
   },
   {
    "duration": 519,
    "start_time": "2021-12-27T20:46:11.998Z"
   },
   {
    "duration": 271,
    "start_time": "2021-12-27T20:46:21.809Z"
   },
   {
    "duration": 279,
    "start_time": "2021-12-27T20:46:56.348Z"
   },
   {
    "duration": 278,
    "start_time": "2021-12-27T20:47:24.478Z"
   },
   {
    "duration": 372,
    "start_time": "2021-12-27T20:47:42.558Z"
   },
   {
    "duration": 276,
    "start_time": "2021-12-27T20:50:10.907Z"
   },
   {
    "duration": 321,
    "start_time": "2021-12-27T20:50:29.796Z"
   },
   {
    "duration": 1037,
    "start_time": "2021-12-27T20:51:04.560Z"
   },
   {
    "duration": 11,
    "start_time": "2021-12-27T20:52:09.092Z"
   },
   {
    "duration": 10,
    "start_time": "2021-12-27T20:52:54.736Z"
   },
   {
    "duration": 9,
    "start_time": "2021-12-27T20:54:53.986Z"
   },
   {
    "duration": 239,
    "start_time": "2021-12-27T20:55:57.923Z"
   },
   {
    "duration": 251,
    "start_time": "2021-12-27T20:56:07.205Z"
   },
   {
    "duration": 257,
    "start_time": "2021-12-27T20:56:16.629Z"
   },
   {
    "duration": 231,
    "start_time": "2021-12-27T20:58:25.188Z"
   },
   {
    "duration": 257,
    "start_time": "2021-12-27T21:01:30.998Z"
   },
   {
    "duration": 215,
    "start_time": "2021-12-27T21:01:48.460Z"
   },
   {
    "duration": 212,
    "start_time": "2021-12-27T21:02:15.234Z"
   },
   {
    "duration": 233,
    "start_time": "2021-12-27T21:03:06.719Z"
   },
   {
    "duration": 223,
    "start_time": "2021-12-27T21:03:19.155Z"
   },
   {
    "duration": 231,
    "start_time": "2021-12-27T21:06:05.620Z"
   },
   {
    "duration": 556,
    "start_time": "2021-12-27T21:10:58.465Z"
   },
   {
    "duration": 117,
    "start_time": "2021-12-27T21:11:41.692Z"
   },
   {
    "duration": 443,
    "start_time": "2021-12-27T21:12:25.053Z"
   },
   {
    "duration": 1197,
    "start_time": "2021-12-28T19:06:55.932Z"
   },
   {
    "duration": 41,
    "start_time": "2021-12-28T19:06:57.130Z"
   },
   {
    "duration": 15,
    "start_time": "2021-12-28T19:06:57.174Z"
   },
   {
    "duration": 11,
    "start_time": "2021-12-28T19:06:57.192Z"
   },
   {
    "duration": 27,
    "start_time": "2021-12-28T19:06:57.205Z"
   },
   {
    "duration": 27,
    "start_time": "2021-12-28T19:06:57.234Z"
   },
   {
    "duration": 10,
    "start_time": "2021-12-28T19:06:57.262Z"
   },
   {
    "duration": 4,
    "start_time": "2021-12-28T19:06:57.276Z"
   },
   {
    "duration": 7,
    "start_time": "2021-12-28T19:06:57.282Z"
   },
   {
    "duration": 6,
    "start_time": "2021-12-28T19:06:57.291Z"
   },
   {
    "duration": 12,
    "start_time": "2021-12-28T19:06:57.299Z"
   },
   {
    "duration": 48,
    "start_time": "2021-12-28T19:06:57.313Z"
   },
   {
    "duration": 10,
    "start_time": "2021-12-28T19:06:57.363Z"
   },
   {
    "duration": 8,
    "start_time": "2021-12-28T19:06:57.375Z"
   },
   {
    "duration": 7,
    "start_time": "2021-12-28T19:06:57.385Z"
   },
   {
    "duration": 6,
    "start_time": "2021-12-28T19:06:57.394Z"
   },
   {
    "duration": 17,
    "start_time": "2021-12-28T19:06:57.402Z"
   },
   {
    "duration": 9,
    "start_time": "2021-12-28T19:06:57.421Z"
   },
   {
    "duration": 31,
    "start_time": "2021-12-28T19:06:57.431Z"
   },
   {
    "duration": 9,
    "start_time": "2021-12-28T19:06:57.463Z"
   },
   {
    "duration": 289,
    "start_time": "2021-12-28T19:06:57.474Z"
   },
   {
    "duration": 280,
    "start_time": "2021-12-28T19:06:57.765Z"
   },
   {
    "duration": 289,
    "start_time": "2021-12-28T19:06:58.050Z"
   },
   {
    "duration": 280,
    "start_time": "2021-12-28T19:06:58.341Z"
   },
   {
    "duration": 296,
    "start_time": "2021-12-28T19:06:58.622Z"
   },
   {
    "duration": 277,
    "start_time": "2021-12-28T19:06:58.920Z"
   },
   {
    "duration": 580,
    "start_time": "2021-12-28T19:06:59.199Z"
   },
   {
    "duration": 10,
    "start_time": "2021-12-28T19:06:59.781Z"
   },
   {
    "duration": 260,
    "start_time": "2021-12-28T19:06:59.793Z"
   },
   {
    "duration": 258,
    "start_time": "2021-12-28T19:07:00.055Z"
   },
   {
    "duration": 234,
    "start_time": "2021-12-28T19:07:00.315Z"
   },
   {
    "duration": 254,
    "start_time": "2021-12-28T19:07:00.552Z"
   },
   {
    "duration": 10,
    "start_time": "2021-12-28T19:07:00.808Z"
   },
   {
    "duration": 13,
    "start_time": "2021-12-28T19:07:00.819Z"
   },
   {
    "duration": 13,
    "start_time": "2021-12-28T19:07:00.833Z"
   },
   {
    "duration": 26,
    "start_time": "2021-12-28T19:07:00.847Z"
   },
   {
    "duration": 17,
    "start_time": "2021-12-28T19:07:00.875Z"
   },
   {
    "duration": 21,
    "start_time": "2021-12-28T19:07:00.893Z"
   },
   {
    "duration": 17,
    "start_time": "2021-12-28T19:07:00.916Z"
   },
   {
    "duration": 22,
    "start_time": "2021-12-28T19:07:00.960Z"
   },
   {
    "duration": 15,
    "start_time": "2021-12-28T19:07:00.984Z"
   },
   {
    "duration": 13,
    "start_time": "2021-12-28T19:07:01.001Z"
   },
   {
    "duration": 20,
    "start_time": "2021-12-28T19:07:01.016Z"
   },
   {
    "duration": 226,
    "start_time": "2021-12-28T19:07:01.038Z"
   },
   {
    "duration": 231,
    "start_time": "2021-12-28T19:07:01.266Z"
   },
   {
    "duration": 256,
    "start_time": "2021-12-28T19:07:01.499Z"
   },
   {
    "duration": 22,
    "start_time": "2021-12-28T19:07:01.761Z"
   },
   {
    "duration": 7,
    "start_time": "2021-12-28T19:07:01.785Z"
   },
   {
    "duration": 30,
    "start_time": "2021-12-28T19:07:01.794Z"
   },
   {
    "duration": 14,
    "start_time": "2021-12-28T19:07:01.826Z"
   },
   {
    "duration": 13,
    "start_time": "2021-12-28T19:10:24.601Z"
   },
   {
    "duration": 17,
    "start_time": "2021-12-28T19:12:58.107Z"
   },
   {
    "duration": 18,
    "start_time": "2021-12-28T19:14:08.227Z"
   },
   {
    "duration": 507,
    "start_time": "2021-12-28T19:15:46.736Z"
   },
   {
    "duration": 25,
    "start_time": "2021-12-28T19:16:25.693Z"
   },
   {
    "duration": 19,
    "start_time": "2021-12-28T19:16:47.969Z"
   },
   {
    "duration": 117,
    "start_time": "2021-12-28T19:17:42.499Z"
   },
   {
    "duration": 18,
    "start_time": "2021-12-28T19:18:30.476Z"
   },
   {
    "duration": 17,
    "start_time": "2021-12-28T19:19:10.077Z"
   },
   {
    "duration": 335,
    "start_time": "2021-12-28T19:25:45.445Z"
   },
   {
    "duration": 17,
    "start_time": "2021-12-28T19:45:59.433Z"
   },
   {
    "duration": 112,
    "start_time": "2021-12-28T19:46:46.577Z"
   },
   {
    "duration": 83,
    "start_time": "2021-12-28T19:46:54.874Z"
   },
   {
    "duration": 18,
    "start_time": "2021-12-28T19:47:06.762Z"
   },
   {
    "duration": 9,
    "start_time": "2021-12-28T19:48:34.186Z"
   },
   {
    "duration": 9,
    "start_time": "2021-12-28T19:53:32.482Z"
   },
   {
    "duration": 17,
    "start_time": "2021-12-28T19:55:29.034Z"
   },
   {
    "duration": 9,
    "start_time": "2021-12-28T19:55:58.663Z"
   },
   {
    "duration": 24,
    "start_time": "2021-12-28T19:59:45.200Z"
   },
   {
    "duration": 24,
    "start_time": "2021-12-28T20:04:32.800Z"
   },
   {
    "duration": 1144,
    "start_time": "2021-12-28T21:26:50.497Z"
   },
   {
    "duration": 41,
    "start_time": "2021-12-28T21:26:51.643Z"
   },
   {
    "duration": 15,
    "start_time": "2021-12-28T21:26:51.686Z"
   },
   {
    "duration": 11,
    "start_time": "2021-12-28T21:26:51.703Z"
   },
   {
    "duration": 47,
    "start_time": "2021-12-28T21:26:51.716Z"
   },
   {
    "duration": 3,
    "start_time": "2021-12-28T21:26:51.765Z"
   },
   {
    "duration": 10,
    "start_time": "2021-12-28T21:26:51.771Z"
   },
   {
    "duration": 5,
    "start_time": "2021-12-28T21:26:51.784Z"
   },
   {
    "duration": 5,
    "start_time": "2021-12-28T21:26:51.792Z"
   },
   {
    "duration": 7,
    "start_time": "2021-12-28T21:26:51.799Z"
   },
   {
    "duration": 13,
    "start_time": "2021-12-28T21:26:51.807Z"
   },
   {
    "duration": 40,
    "start_time": "2021-12-28T21:26:51.822Z"
   },
   {
    "duration": 7,
    "start_time": "2021-12-28T21:26:51.864Z"
   },
   {
    "duration": 7,
    "start_time": "2021-12-28T21:26:51.873Z"
   },
   {
    "duration": 6,
    "start_time": "2021-12-28T21:26:51.882Z"
   },
   {
    "duration": 5,
    "start_time": "2021-12-28T21:26:51.890Z"
   },
   {
    "duration": 17,
    "start_time": "2021-12-28T21:26:51.897Z"
   },
   {
    "duration": 8,
    "start_time": "2021-12-28T21:26:51.915Z"
   },
   {
    "duration": 3,
    "start_time": "2021-12-28T21:26:51.925Z"
   },
   {
    "duration": 8,
    "start_time": "2021-12-28T21:26:51.961Z"
   },
   {
    "duration": 280,
    "start_time": "2021-12-28T21:26:51.970Z"
   },
   {
    "duration": 275,
    "start_time": "2021-12-28T21:26:52.251Z"
   },
   {
    "duration": 277,
    "start_time": "2021-12-28T21:26:52.530Z"
   },
   {
    "duration": 288,
    "start_time": "2021-12-28T21:26:52.809Z"
   },
   {
    "duration": 400,
    "start_time": "2021-12-28T21:26:53.099Z"
   },
   {
    "duration": 278,
    "start_time": "2021-12-28T21:26:53.501Z"
   },
   {
    "duration": 602,
    "start_time": "2021-12-28T21:26:53.781Z"
   },
   {
    "duration": 13,
    "start_time": "2021-12-28T21:26:54.385Z"
   },
   {
    "duration": 261,
    "start_time": "2021-12-28T21:26:54.399Z"
   },
   {
    "duration": 242,
    "start_time": "2021-12-28T21:26:54.662Z"
   },
   {
    "duration": 238,
    "start_time": "2021-12-28T21:26:54.905Z"
   },
   {
    "duration": 23,
    "start_time": "2021-12-28T21:26:55.145Z"
   },
   {
    "duration": 249,
    "start_time": "2021-12-28T21:26:55.170Z"
   },
   {
    "duration": 10,
    "start_time": "2021-12-28T21:26:55.421Z"
   },
   {
    "duration": 29,
    "start_time": "2021-12-28T21:26:55.433Z"
   },
   {
    "duration": 18,
    "start_time": "2021-12-28T21:26:55.464Z"
   },
   {
    "duration": 24,
    "start_time": "2021-12-28T21:26:55.483Z"
   },
   {
    "duration": 16,
    "start_time": "2021-12-28T21:26:55.509Z"
   },
   {
    "duration": 29,
    "start_time": "2021-12-28T21:26:55.527Z"
   },
   {
    "duration": 26,
    "start_time": "2021-12-28T21:26:55.560Z"
   },
   {
    "duration": 24,
    "start_time": "2021-12-28T21:26:55.588Z"
   },
   {
    "duration": 20,
    "start_time": "2021-12-28T21:26:55.614Z"
   },
   {
    "duration": 39,
    "start_time": "2021-12-28T21:26:55.636Z"
   },
   {
    "duration": 23,
    "start_time": "2021-12-28T21:26:55.677Z"
   },
   {
    "duration": 14,
    "start_time": "2021-12-28T21:26:55.702Z"
   },
   {
    "duration": 24,
    "start_time": "2021-12-28T21:26:55.718Z"
   },
   {
    "duration": 232,
    "start_time": "2021-12-28T21:26:55.744Z"
   },
   {
    "duration": 221,
    "start_time": "2021-12-28T21:26:55.978Z"
   },
   {
    "duration": 216,
    "start_time": "2021-12-28T21:26:56.201Z"
   },
   {
    "duration": 17,
    "start_time": "2021-12-28T21:26:56.419Z"
   },
   {
    "duration": 26,
    "start_time": "2021-12-28T21:26:56.438Z"
   },
   {
    "duration": 30,
    "start_time": "2021-12-28T21:26:56.466Z"
   },
   {
    "duration": 27,
    "start_time": "2021-12-28T21:26:56.498Z"
   },
   {
    "duration": 1411,
    "start_time": "2021-12-29T20:57:55.973Z"
   },
   {
    "duration": 45,
    "start_time": "2021-12-29T20:57:57.387Z"
   },
   {
    "duration": 21,
    "start_time": "2021-12-29T20:57:57.435Z"
   },
   {
    "duration": 17,
    "start_time": "2021-12-29T20:57:57.459Z"
   },
   {
    "duration": 61,
    "start_time": "2021-12-29T20:57:57.479Z"
   },
   {
    "duration": 4,
    "start_time": "2021-12-29T20:57:57.542Z"
   },
   {
    "duration": 31,
    "start_time": "2021-12-29T20:57:57.548Z"
   },
   {
    "duration": 21,
    "start_time": "2021-12-29T20:57:57.583Z"
   },
   {
    "duration": 15,
    "start_time": "2021-12-29T20:57:57.607Z"
   },
   {
    "duration": 25,
    "start_time": "2021-12-29T20:57:57.624Z"
   },
   {
    "duration": 35,
    "start_time": "2021-12-29T20:57:57.651Z"
   },
   {
    "duration": 17,
    "start_time": "2021-12-29T20:57:57.689Z"
   },
   {
    "duration": 38,
    "start_time": "2021-12-29T20:57:57.708Z"
   },
   {
    "duration": 22,
    "start_time": "2021-12-29T20:57:57.748Z"
   },
   {
    "duration": 20,
    "start_time": "2021-12-29T20:57:57.773Z"
   },
   {
    "duration": 22,
    "start_time": "2021-12-29T20:57:57.796Z"
   },
   {
    "duration": 28,
    "start_time": "2021-12-29T20:57:57.821Z"
   },
   {
    "duration": 18,
    "start_time": "2021-12-29T20:57:57.851Z"
   },
   {
    "duration": 13,
    "start_time": "2021-12-29T20:57:57.872Z"
   },
   {
    "duration": 20,
    "start_time": "2021-12-29T20:57:57.887Z"
   },
   {
    "duration": 451,
    "start_time": "2021-12-29T20:57:57.909Z"
   },
   {
    "duration": 432,
    "start_time": "2021-12-29T20:57:58.362Z"
   },
   {
    "duration": 449,
    "start_time": "2021-12-29T20:57:58.799Z"
   },
   {
    "duration": 426,
    "start_time": "2021-12-29T20:57:59.251Z"
   },
   {
    "duration": 483,
    "start_time": "2021-12-29T20:57:59.679Z"
   },
   {
    "duration": 443,
    "start_time": "2021-12-29T20:58:00.165Z"
   },
   {
    "duration": 872,
    "start_time": "2021-12-29T20:58:00.611Z"
   },
   {
    "duration": 15,
    "start_time": "2021-12-29T20:58:01.485Z"
   },
   {
    "duration": 417,
    "start_time": "2021-12-29T20:58:01.502Z"
   },
   {
    "duration": 404,
    "start_time": "2021-12-29T20:58:01.923Z"
   },
   {
    "duration": 380,
    "start_time": "2021-12-29T20:58:02.330Z"
   },
   {
    "duration": 17,
    "start_time": "2021-12-29T20:58:02.713Z"
   },
   {
    "duration": 424,
    "start_time": "2021-12-29T20:58:02.733Z"
   },
   {
    "duration": 12,
    "start_time": "2021-12-29T20:58:03.168Z"
   },
   {
    "duration": 16,
    "start_time": "2021-12-29T20:58:03.182Z"
   },
   {
    "duration": 21,
    "start_time": "2021-12-29T20:58:03.224Z"
   },
   {
    "duration": 26,
    "start_time": "2021-12-29T20:58:03.248Z"
   },
   {
    "duration": 12,
    "start_time": "2021-12-29T20:58:03.276Z"
   },
   {
    "duration": 58,
    "start_time": "2021-12-29T20:58:03.291Z"
   },
   {
    "duration": 12,
    "start_time": "2021-12-29T20:58:03.352Z"
   },
   {
    "duration": 66,
    "start_time": "2021-12-29T20:58:03.368Z"
   },
   {
    "duration": 12,
    "start_time": "2021-12-29T20:58:03.437Z"
   },
   {
    "duration": 35,
    "start_time": "2021-12-29T20:58:03.452Z"
   },
   {
    "duration": 46,
    "start_time": "2021-12-29T20:58:03.489Z"
   },
   {
    "duration": 23,
    "start_time": "2021-12-29T20:58:03.537Z"
   },
   {
    "duration": 12,
    "start_time": "2021-12-29T20:58:03.563Z"
   },
   {
    "duration": 353,
    "start_time": "2021-12-29T20:58:03.577Z"
   },
   {
    "duration": 347,
    "start_time": "2021-12-29T20:58:03.932Z"
   },
   {
    "duration": 348,
    "start_time": "2021-12-29T20:58:04.282Z"
   },
   {
    "duration": 20,
    "start_time": "2021-12-29T20:58:04.633Z"
   },
   {
    "duration": 8,
    "start_time": "2021-12-29T20:58:04.655Z"
   },
   {
    "duration": 57,
    "start_time": "2021-12-29T20:58:04.666Z"
   },
   {
    "duration": 8,
    "start_time": "2021-12-29T20:58:04.725Z"
   },
   {
    "duration": 8,
    "start_time": "2021-12-29T21:21:09.158Z"
   },
   {
    "duration": 8,
    "start_time": "2021-12-29T21:21:21.873Z"
   },
   {
    "duration": 6,
    "start_time": "2021-12-29T21:21:46.948Z"
   },
   {
    "duration": 1503,
    "start_time": "2021-12-29T21:25:35.694Z"
   },
   {
    "duration": 45,
    "start_time": "2021-12-29T21:25:37.200Z"
   },
   {
    "duration": 22,
    "start_time": "2021-12-29T21:25:37.248Z"
   },
   {
    "duration": 15,
    "start_time": "2021-12-29T21:25:37.273Z"
   },
   {
    "duration": 70,
    "start_time": "2021-12-29T21:25:37.290Z"
   },
   {
    "duration": 4,
    "start_time": "2021-12-29T21:25:37.362Z"
   },
   {
    "duration": 13,
    "start_time": "2021-12-29T21:25:37.369Z"
   },
   {
    "duration": 5,
    "start_time": "2021-12-29T21:25:37.386Z"
   },
   {
    "duration": 34,
    "start_time": "2021-12-29T21:25:37.394Z"
   },
   {
    "duration": 6,
    "start_time": "2021-12-29T21:25:37.431Z"
   },
   {
    "duration": 16,
    "start_time": "2021-12-29T21:25:37.440Z"
   },
   {
    "duration": 10,
    "start_time": "2021-12-29T21:25:37.458Z"
   },
   {
    "duration": 12,
    "start_time": "2021-12-29T21:25:37.470Z"
   },
   {
    "duration": 43,
    "start_time": "2021-12-29T21:25:37.484Z"
   },
   {
    "duration": 9,
    "start_time": "2021-12-29T21:25:37.530Z"
   },
   {
    "duration": 14,
    "start_time": "2021-12-29T21:25:37.542Z"
   },
   {
    "duration": 27,
    "start_time": "2021-12-29T21:25:37.559Z"
   },
   {
    "duration": 42,
    "start_time": "2021-12-29T21:25:37.588Z"
   },
   {
    "duration": 12,
    "start_time": "2021-12-29T21:25:37.633Z"
   },
   {
    "duration": 11,
    "start_time": "2021-12-29T21:25:37.647Z"
   },
   {
    "duration": 496,
    "start_time": "2021-12-29T21:25:37.660Z"
   },
   {
    "duration": 463,
    "start_time": "2021-12-29T21:25:38.159Z"
   },
   {
    "duration": 427,
    "start_time": "2021-12-29T21:25:38.627Z"
   },
   {
    "duration": 430,
    "start_time": "2021-12-29T21:25:39.057Z"
   },
   {
    "duration": 443,
    "start_time": "2021-12-29T21:25:39.490Z"
   },
   {
    "duration": 426,
    "start_time": "2021-12-29T21:25:39.936Z"
   },
   {
    "duration": 833,
    "start_time": "2021-12-29T21:25:40.364Z"
   },
   {
    "duration": 26,
    "start_time": "2021-12-29T21:25:41.199Z"
   },
   {
    "duration": 389,
    "start_time": "2021-12-29T21:25:41.227Z"
   },
   {
    "duration": 363,
    "start_time": "2021-12-29T21:25:41.619Z"
   },
   {
    "duration": 349,
    "start_time": "2021-12-29T21:25:41.985Z"
   },
   {
    "duration": 13,
    "start_time": "2021-12-29T21:25:42.336Z"
   },
   {
    "duration": 429,
    "start_time": "2021-12-29T21:25:42.351Z"
   },
   {
    "duration": 12,
    "start_time": "2021-12-29T21:25:42.783Z"
   },
   {
    "duration": 24,
    "start_time": "2021-12-29T21:25:42.797Z"
   },
   {
    "duration": 22,
    "start_time": "2021-12-29T21:25:42.824Z"
   },
   {
    "duration": 23,
    "start_time": "2021-12-29T21:25:42.848Z"
   },
   {
    "duration": 12,
    "start_time": "2021-12-29T21:25:42.873Z"
   },
   {
    "duration": 35,
    "start_time": "2021-12-29T21:25:42.888Z"
   },
   {
    "duration": 11,
    "start_time": "2021-12-29T21:25:42.925Z"
   },
   {
    "duration": 24,
    "start_time": "2021-12-29T21:25:42.938Z"
   },
   {
    "duration": 12,
    "start_time": "2021-12-29T21:25:42.964Z"
   },
   {
    "duration": 32,
    "start_time": "2021-12-29T21:25:42.978Z"
   },
   {
    "duration": 12,
    "start_time": "2021-12-29T21:25:43.024Z"
   },
   {
    "duration": 12,
    "start_time": "2021-12-29T21:25:43.039Z"
   },
   {
    "duration": 12,
    "start_time": "2021-12-29T21:25:43.053Z"
   },
   {
    "duration": 355,
    "start_time": "2021-12-29T21:25:43.068Z"
   },
   {
    "duration": 326,
    "start_time": "2021-12-29T21:25:43.425Z"
   },
   {
    "duration": 416,
    "start_time": "2021-12-29T21:25:43.753Z"
   },
   {
    "duration": 19,
    "start_time": "2021-12-29T21:25:44.172Z"
   },
   {
    "duration": 10,
    "start_time": "2021-12-29T21:25:44.193Z"
   },
   {
    "duration": 41,
    "start_time": "2021-12-29T21:25:44.205Z"
   },
   {
    "duration": 21,
    "start_time": "2021-12-29T21:25:44.249Z"
   },
   {
    "duration": 359,
    "start_time": "2021-12-30T12:27:42.926Z"
   },
   {
    "duration": 5,
    "start_time": "2021-12-30T12:28:07.563Z"
   },
   {
    "duration": 61,
    "start_time": "2021-12-30T12:28:07.571Z"
   },
   {
    "duration": 18,
    "start_time": "2021-12-30T12:28:07.635Z"
   },
   {
    "duration": 23,
    "start_time": "2021-12-30T12:28:07.664Z"
   },
   {
    "duration": 91,
    "start_time": "2021-12-30T12:28:07.690Z"
   },
   {
    "duration": 4,
    "start_time": "2021-12-30T12:28:07.784Z"
   },
   {
    "duration": 16,
    "start_time": "2021-12-30T12:28:07.791Z"
   },
   {
    "duration": 6,
    "start_time": "2021-12-30T12:28:07.810Z"
   },
   {
    "duration": 9,
    "start_time": "2021-12-30T12:28:07.819Z"
   },
   {
    "duration": 6,
    "start_time": "2021-12-30T12:28:07.864Z"
   },
   {
    "duration": 17,
    "start_time": "2021-12-30T12:28:07.873Z"
   },
   {
    "duration": 14,
    "start_time": "2021-12-30T12:28:07.893Z"
   },
   {
    "duration": 56,
    "start_time": "2021-12-30T12:28:07.910Z"
   },
   {
    "duration": 8,
    "start_time": "2021-12-30T12:28:07.980Z"
   },
   {
    "duration": 10,
    "start_time": "2021-12-30T12:28:07.993Z"
   },
   {
    "duration": 8,
    "start_time": "2021-12-30T12:28:08.008Z"
   },
   {
    "duration": 59,
    "start_time": "2021-12-30T12:28:08.019Z"
   },
   {
    "duration": 9,
    "start_time": "2021-12-30T12:28:08.080Z"
   },
   {
    "duration": 7,
    "start_time": "2021-12-30T12:28:08.091Z"
   },
   {
    "duration": 406,
    "start_time": "2021-12-30T12:28:08.100Z"
   },
   {
    "duration": 10,
    "start_time": "2021-12-30T12:28:08.508Z"
   },
   {
    "duration": 483,
    "start_time": "2021-12-30T12:28:08.520Z"
   },
   {
    "duration": 916,
    "start_time": "2021-12-30T12:28:09.005Z"
   },
   {
    "duration": 542,
    "start_time": "2021-12-30T12:28:09.924Z"
   },
   {
    "duration": 453,
    "start_time": "2021-12-30T12:28:10.469Z"
   },
   {
    "duration": 475,
    "start_time": "2021-12-30T12:28:10.925Z"
   },
   {
    "duration": 464,
    "start_time": "2021-12-30T12:28:11.403Z"
   },
   {
    "duration": 816,
    "start_time": "2021-12-30T12:28:11.871Z"
   },
   {
    "duration": 18,
    "start_time": "2021-12-30T12:28:12.690Z"
   },
   {
    "duration": 618,
    "start_time": "2021-12-30T12:28:12.711Z"
   },
   {
    "duration": 585,
    "start_time": "2021-12-30T12:28:13.333Z"
   },
   {
    "duration": 371,
    "start_time": "2021-12-30T12:28:13.922Z"
   },
   {
    "duration": 15,
    "start_time": "2021-12-30T12:28:14.296Z"
   },
   {
    "duration": 420,
    "start_time": "2021-12-30T12:28:14.314Z"
   },
   {
    "duration": 28,
    "start_time": "2021-12-30T12:28:14.736Z"
   },
   {
    "duration": 15,
    "start_time": "2021-12-30T12:28:14.767Z"
   },
   {
    "duration": 22,
    "start_time": "2021-12-30T12:28:14.784Z"
   },
   {
    "duration": 62,
    "start_time": "2021-12-30T12:28:14.809Z"
   },
   {
    "duration": 16,
    "start_time": "2021-12-30T12:28:14.874Z"
   },
   {
    "duration": 162,
    "start_time": "2021-12-30T12:28:14.893Z"
   },
   {
    "duration": 13,
    "start_time": "2021-12-30T12:28:15.062Z"
   },
   {
    "duration": 39,
    "start_time": "2021-12-30T12:28:15.078Z"
   },
   {
    "duration": 43,
    "start_time": "2021-12-30T12:28:15.120Z"
   },
   {
    "duration": 40,
    "start_time": "2021-12-30T12:28:15.166Z"
   },
   {
    "duration": 17,
    "start_time": "2021-12-30T12:28:15.209Z"
   },
   {
    "duration": 16,
    "start_time": "2021-12-30T12:28:15.263Z"
   },
   {
    "duration": 18,
    "start_time": "2021-12-30T12:28:15.282Z"
   },
   {
    "duration": 379,
    "start_time": "2021-12-30T12:28:15.303Z"
   },
   {
    "duration": 346,
    "start_time": "2021-12-30T12:28:15.684Z"
   },
   {
    "duration": 349,
    "start_time": "2021-12-30T12:28:16.033Z"
   },
   {
    "duration": 25,
    "start_time": "2021-12-30T12:28:16.386Z"
   },
   {
    "duration": 7,
    "start_time": "2021-12-30T12:28:16.414Z"
   },
   {
    "duration": 55,
    "start_time": "2021-12-30T12:28:16.423Z"
   },
   {
    "duration": 8,
    "start_time": "2021-12-30T12:28:16.481Z"
   },
   {
    "duration": 353,
    "start_time": "2021-12-30T12:29:09.634Z"
   },
   {
    "duration": 357,
    "start_time": "2021-12-30T12:30:26.926Z"
   },
   {
    "duration": 357,
    "start_time": "2021-12-30T12:30:48.117Z"
   },
   {
    "duration": 93,
    "start_time": "2021-12-30T12:32:45.367Z"
   },
   {
    "duration": 527,
    "start_time": "2021-12-30T12:33:03.055Z"
   },
   {
    "duration": 788,
    "start_time": "2021-12-30T12:34:13.469Z"
   },
   {
    "duration": 14,
    "start_time": "2021-12-30T12:35:05.020Z"
   },
   {
    "duration": 11,
    "start_time": "2021-12-30T12:38:19.834Z"
   },
   {
    "duration": 15,
    "start_time": "2021-12-30T12:38:39.720Z"
   },
   {
    "duration": 509,
    "start_time": "2021-12-30T12:39:02.059Z"
   },
   {
    "duration": 657,
    "start_time": "2021-12-30T12:39:21.693Z"
   },
   {
    "duration": 100,
    "start_time": "2021-12-30T12:40:16.806Z"
   },
   {
    "duration": 685,
    "start_time": "2021-12-30T12:40:29.113Z"
   },
   {
    "duration": 625,
    "start_time": "2021-12-30T12:40:44.409Z"
   },
   {
    "duration": 1012,
    "start_time": "2021-12-30T12:43:53.388Z"
   },
   {
    "duration": 119,
    "start_time": "2021-12-30T12:44:05.540Z"
   },
   {
    "duration": 363,
    "start_time": "2021-12-30T12:44:12.148Z"
   },
   {
    "duration": 588,
    "start_time": "2021-12-30T12:46:12.005Z"
   },
   {
    "duration": 379,
    "start_time": "2021-12-30T12:47:42.554Z"
   },
   {
    "duration": 516,
    "start_time": "2021-12-30T12:49:00.598Z"
   },
   {
    "duration": 11,
    "start_time": "2021-12-30T12:49:13.169Z"
   },
   {
    "duration": 391,
    "start_time": "2021-12-30T12:49:24.565Z"
   },
   {
    "duration": 12,
    "start_time": "2021-12-30T12:51:51.864Z"
   },
   {
    "duration": 358,
    "start_time": "2021-12-30T12:56:25.251Z"
   },
   {
    "duration": 12,
    "start_time": "2021-12-30T12:56:43.568Z"
   },
   {
    "duration": 378,
    "start_time": "2021-12-30T12:59:01.799Z"
   },
   {
    "duration": 12,
    "start_time": "2021-12-30T12:59:05.105Z"
   },
   {
    "duration": 552,
    "start_time": "2021-12-30T13:03:45.811Z"
   },
   {
    "duration": 15,
    "start_time": "2021-12-30T13:04:13.071Z"
   },
   {
    "duration": 360,
    "start_time": "2021-12-30T13:04:43.525Z"
   },
   {
    "duration": 13,
    "start_time": "2021-12-30T13:04:52.060Z"
   },
   {
    "duration": 548,
    "start_time": "2021-12-30T13:07:09.168Z"
   },
   {
    "duration": 377,
    "start_time": "2021-12-30T13:07:21.776Z"
   },
   {
    "duration": 11,
    "start_time": "2021-12-30T13:07:32.505Z"
   },
   {
    "duration": 374,
    "start_time": "2021-12-30T13:07:35.769Z"
   },
   {
    "duration": 12,
    "start_time": "2021-12-30T13:07:40.585Z"
   },
   {
    "duration": 1128,
    "start_time": "2021-12-30T20:13:52.532Z"
   },
   {
    "duration": 38,
    "start_time": "2021-12-30T20:13:53.662Z"
   },
   {
    "duration": 15,
    "start_time": "2021-12-30T20:13:53.702Z"
   },
   {
    "duration": 10,
    "start_time": "2021-12-30T20:13:53.719Z"
   },
   {
    "duration": 30,
    "start_time": "2021-12-30T20:13:53.731Z"
   },
   {
    "duration": 28,
    "start_time": "2021-12-30T20:13:53.763Z"
   },
   {
    "duration": 8,
    "start_time": "2021-12-30T20:13:53.793Z"
   },
   {
    "duration": 5,
    "start_time": "2021-12-30T20:13:53.803Z"
   },
   {
    "duration": 5,
    "start_time": "2021-12-30T20:13:53.810Z"
   },
   {
    "duration": 3,
    "start_time": "2021-12-30T20:13:53.817Z"
   },
   {
    "duration": 12,
    "start_time": "2021-12-30T20:13:53.821Z"
   },
   {
    "duration": 8,
    "start_time": "2021-12-30T20:13:53.834Z"
   },
   {
    "duration": 7,
    "start_time": "2021-12-30T20:13:53.844Z"
   },
   {
    "duration": 39,
    "start_time": "2021-12-30T20:13:53.852Z"
   },
   {
    "duration": 6,
    "start_time": "2021-12-30T20:13:53.893Z"
   },
   {
    "duration": 8,
    "start_time": "2021-12-30T20:13:53.901Z"
   },
   {
    "duration": 14,
    "start_time": "2021-12-30T20:13:53.910Z"
   },
   {
    "duration": 7,
    "start_time": "2021-12-30T20:13:53.925Z"
   },
   {
    "duration": 5,
    "start_time": "2021-12-30T20:13:53.934Z"
   },
   {
    "duration": 267,
    "start_time": "2021-12-30T20:13:53.941Z"
   },
   {
    "duration": 9,
    "start_time": "2021-12-30T20:13:54.210Z"
   },
   {
    "duration": 294,
    "start_time": "2021-12-30T20:13:54.220Z"
   },
   {
    "duration": 289,
    "start_time": "2021-12-30T20:13:54.518Z"
   },
   {
    "duration": 292,
    "start_time": "2021-12-30T20:13:54.809Z"
   },
   {
    "duration": 278,
    "start_time": "2021-12-30T20:13:55.102Z"
   },
   {
    "duration": 307,
    "start_time": "2021-12-30T20:13:55.381Z"
   },
   {
    "duration": 292,
    "start_time": "2021-12-30T20:13:55.692Z"
   },
   {
    "duration": 13,
    "start_time": "2021-12-30T20:13:55.985Z"
   },
   {
    "duration": 345,
    "start_time": "2021-12-30T20:13:56.000Z"
   },
   {
    "duration": 260,
    "start_time": "2021-12-30T20:13:56.347Z"
   },
   {
    "duration": 241,
    "start_time": "2021-12-30T20:13:56.609Z"
   },
   {
    "duration": 7,
    "start_time": "2021-12-30T20:13:56.852Z"
   },
   {
    "duration": 241,
    "start_time": "2021-12-30T20:13:56.861Z"
   },
   {
    "duration": 8,
    "start_time": "2021-12-30T20:13:57.104Z"
   },
   {
    "duration": 250,
    "start_time": "2021-12-30T20:13:57.113Z"
   },
   {
    "duration": 243,
    "start_time": "2021-12-30T20:13:57.365Z"
   },
   {
    "duration": 9,
    "start_time": "2021-12-30T20:13:57.610Z"
   },
   {
    "duration": 245,
    "start_time": "2021-12-30T20:13:57.620Z"
   },
   {
    "duration": 9,
    "start_time": "2021-12-30T20:13:57.866Z"
   },
   {
    "duration": 255,
    "start_time": "2021-12-30T20:13:57.876Z"
   },
   {
    "duration": 230,
    "start_time": "2021-12-30T20:13:58.133Z"
   },
   {
    "duration": 8,
    "start_time": "2021-12-30T20:13:58.365Z"
   },
   {
    "duration": 244,
    "start_time": "2021-12-30T20:13:58.375Z"
   },
   {
    "duration": 8,
    "start_time": "2021-12-30T20:13:58.620Z"
   },
   {
    "duration": 11,
    "start_time": "2021-12-30T20:13:58.630Z"
   },
   {
    "duration": 13,
    "start_time": "2021-12-30T20:13:58.643Z"
   },
   {
    "duration": 40,
    "start_time": "2021-12-30T20:13:58.658Z"
   },
   {
    "duration": 7,
    "start_time": "2021-12-30T20:13:58.700Z"
   },
   {
    "duration": 18,
    "start_time": "2021-12-30T20:13:58.709Z"
   },
   {
    "duration": 8,
    "start_time": "2021-12-30T20:13:58.728Z"
   },
   {
    "duration": 19,
    "start_time": "2021-12-30T20:13:58.737Z"
   },
   {
    "duration": 34,
    "start_time": "2021-12-30T20:13:58.758Z"
   },
   {
    "duration": 22,
    "start_time": "2021-12-30T20:13:58.794Z"
   },
   {
    "duration": 11,
    "start_time": "2021-12-30T20:13:58.818Z"
   },
   {
    "duration": 9,
    "start_time": "2021-12-30T20:13:58.830Z"
   },
   {
    "duration": 9,
    "start_time": "2021-12-30T20:13:58.840Z"
   },
   {
    "duration": 249,
    "start_time": "2021-12-30T20:13:58.850Z"
   },
   {
    "duration": 213,
    "start_time": "2021-12-30T20:13:59.100Z"
   },
   {
    "duration": 302,
    "start_time": "2021-12-30T20:13:59.315Z"
   },
   {
    "duration": 14,
    "start_time": "2021-12-30T20:13:59.619Z"
   },
   {
    "duration": 8,
    "start_time": "2021-12-30T20:13:59.634Z"
   },
   {
    "duration": 20,
    "start_time": "2021-12-30T20:13:59.644Z"
   },
   {
    "duration": 4,
    "start_time": "2021-12-30T20:13:59.666Z"
   },
   {
    "duration": 311,
    "start_time": "2021-12-30T20:19:15.887Z"
   },
   {
    "duration": 302,
    "start_time": "2021-12-30T20:19:40.407Z"
   },
   {
    "duration": 315,
    "start_time": "2021-12-30T20:20:34.666Z"
   },
   {
    "duration": 262,
    "start_time": "2021-12-30T20:22:17.273Z"
   },
   {
    "duration": 5947,
    "start_time": "2021-12-30T20:23:22.061Z"
   },
   {
    "duration": 10,
    "start_time": "2021-12-30T20:24:19.960Z"
   },
   {
    "duration": 240,
    "start_time": "2021-12-30T20:24:42.040Z"
   },
   {
    "duration": 236,
    "start_time": "2021-12-30T20:25:33.787Z"
   },
   {
    "duration": 8,
    "start_time": "2021-12-30T20:25:44.012Z"
   },
   {
    "duration": 252,
    "start_time": "2021-12-30T20:25:55.684Z"
   },
   {
    "duration": 8,
    "start_time": "2021-12-30T20:26:03.479Z"
   },
   {
    "duration": 299,
    "start_time": "2021-12-30T20:26:12.512Z"
   },
   {
    "duration": 315,
    "start_time": "2021-12-30T20:26:55.390Z"
   },
   {
    "duration": 187,
    "start_time": "2021-12-30T20:29:15.258Z"
   },
   {
    "duration": 5,
    "start_time": "2021-12-30T20:32:55.312Z"
   },
   {
    "duration": 198,
    "start_time": "2021-12-30T20:32:59.952Z"
   },
   {
    "duration": 6,
    "start_time": "2021-12-30T20:33:20.196Z"
   },
   {
    "duration": 340,
    "start_time": "2021-12-30T20:33:23.188Z"
   },
   {
    "duration": 6,
    "start_time": "2021-12-30T20:33:42.828Z"
   },
   {
    "duration": 194,
    "start_time": "2021-12-30T20:33:44.642Z"
   },
   {
    "duration": 367,
    "start_time": "2021-12-30T20:39:51.715Z"
   },
   {
    "duration": 347,
    "start_time": "2021-12-30T20:40:31.988Z"
   },
   {
    "duration": 268,
    "start_time": "2021-12-30T20:40:47.638Z"
   },
   {
    "duration": 293,
    "start_time": "2021-12-30T20:41:53.413Z"
   },
   {
    "duration": 280,
    "start_time": "2021-12-30T20:42:15.427Z"
   },
   {
    "duration": 298,
    "start_time": "2021-12-30T20:42:55.816Z"
   },
   {
    "duration": 328,
    "start_time": "2021-12-30T20:43:20.366Z"
   },
   {
    "duration": 189,
    "start_time": "2021-12-30T20:56:21.976Z"
   },
   {
    "duration": 238,
    "start_time": "2021-12-30T20:56:44.296Z"
   },
   {
    "duration": 216,
    "start_time": "2021-12-30T20:57:57.777Z"
   },
   {
    "duration": 191,
    "start_time": "2021-12-30T20:59:00.376Z"
   },
   {
    "duration": 108,
    "start_time": "2021-12-30T20:59:09.221Z"
   },
   {
    "duration": 378,
    "start_time": "2021-12-30T21:00:03.666Z"
   },
   {
    "duration": 107,
    "start_time": "2021-12-30T21:00:12.864Z"
   },
   {
    "duration": 105,
    "start_time": "2021-12-30T21:03:27.131Z"
   },
   {
    "duration": 115,
    "start_time": "2021-12-30T21:07:03.734Z"
   },
   {
    "duration": 349,
    "start_time": "2021-12-30T21:07:14.094Z"
   },
   {
    "duration": 130,
    "start_time": "2021-12-30T21:08:10.095Z"
   },
   {
    "duration": 291,
    "start_time": "2021-12-30T21:08:22.637Z"
   },
   {
    "duration": 345,
    "start_time": "2021-12-30T21:08:52.806Z"
   },
   {
    "duration": 337,
    "start_time": "2021-12-30T21:11:24.763Z"
   },
   {
    "duration": 100,
    "start_time": "2021-12-30T21:11:35.375Z"
   },
   {
    "duration": 104,
    "start_time": "2021-12-30T21:15:58.465Z"
   },
   {
    "duration": 182,
    "start_time": "2021-12-30T21:16:52.448Z"
   },
   {
    "duration": 248,
    "start_time": "2021-12-30T21:17:14.104Z"
   },
   {
    "duration": 4542,
    "start_time": "2021-12-30T21:18:09.423Z"
   },
   {
    "duration": 446,
    "start_time": "2021-12-30T21:20:51.757Z"
   },
   {
    "duration": 4989,
    "start_time": "2021-12-30T21:21:19.073Z"
   },
   {
    "duration": 4521,
    "start_time": "2021-12-30T21:23:12.533Z"
   },
   {
    "duration": 224,
    "start_time": "2021-12-30T21:23:33.854Z"
   },
   {
    "duration": 232,
    "start_time": "2021-12-30T21:24:16.473Z"
   },
   {
    "duration": 230,
    "start_time": "2021-12-30T21:24:44.296Z"
   },
   {
    "duration": 20,
    "start_time": "2021-12-30T21:36:05.204Z"
   },
   {
    "duration": 230,
    "start_time": "2021-12-30T21:36:35.862Z"
   },
   {
    "duration": 8,
    "start_time": "2021-12-30T21:38:21.600Z"
   },
   {
    "duration": 6,
    "start_time": "2021-12-30T21:38:23.129Z"
   },
   {
    "duration": 209,
    "start_time": "2021-12-30T21:39:26.477Z"
   },
   {
    "duration": 8,
    "start_time": "2021-12-30T21:39:38.853Z"
   },
   {
    "duration": 8,
    "start_time": "2021-12-30T21:39:45.438Z"
   },
   {
    "duration": 5,
    "start_time": "2021-12-30T21:39:53.190Z"
   },
   {
    "duration": 8,
    "start_time": "2021-12-30T21:40:27.631Z"
   },
   {
    "duration": 172,
    "start_time": "2021-12-30T21:48:13.789Z"
   },
   {
    "duration": 189,
    "start_time": "2021-12-30T21:49:48.558Z"
   },
   {
    "duration": 183,
    "start_time": "2021-12-30T21:52:14.219Z"
   },
   {
    "duration": 179,
    "start_time": "2021-12-30T21:54:37.520Z"
   },
   {
    "duration": 182,
    "start_time": "2021-12-30T21:56:57.660Z"
   },
   {
    "duration": 8,
    "start_time": "2021-12-30T21:57:43.120Z"
   },
   {
    "duration": 6,
    "start_time": "2021-12-30T21:58:10.558Z"
   },
   {
    "duration": 6,
    "start_time": "2021-12-30T21:58:24.424Z"
   },
   {
    "duration": 178,
    "start_time": "2021-12-30T21:59:06.200Z"
   },
   {
    "duration": 7,
    "start_time": "2021-12-30T21:59:09.824Z"
   },
   {
    "duration": 6,
    "start_time": "2021-12-30T21:59:54.227Z"
   },
   {
    "duration": 11,
    "start_time": "2021-12-30T21:59:59.897Z"
   },
   {
    "duration": 8,
    "start_time": "2021-12-30T22:00:19.675Z"
   },
   {
    "duration": 5,
    "start_time": "2021-12-30T22:00:23.284Z"
   },
   {
    "duration": 7,
    "start_time": "2021-12-30T22:01:08.151Z"
   },
   {
    "duration": 5,
    "start_time": "2021-12-30T22:01:10.681Z"
   },
   {
    "duration": 8,
    "start_time": "2021-12-30T22:01:51.235Z"
   },
   {
    "duration": 8,
    "start_time": "2021-12-30T22:02:02.617Z"
   },
   {
    "duration": 1071,
    "start_time": "2021-12-30T22:02:24.864Z"
   },
   {
    "duration": 37,
    "start_time": "2021-12-30T22:02:25.936Z"
   },
   {
    "duration": 30,
    "start_time": "2021-12-30T22:02:25.975Z"
   },
   {
    "duration": 9,
    "start_time": "2021-12-30T22:02:26.007Z"
   },
   {
    "duration": 27,
    "start_time": "2021-12-30T22:02:26.018Z"
   },
   {
    "duration": 3,
    "start_time": "2021-12-30T22:02:26.047Z"
   },
   {
    "duration": 13,
    "start_time": "2021-12-30T22:02:26.052Z"
   },
   {
    "duration": 4,
    "start_time": "2021-12-30T22:02:26.067Z"
   },
   {
    "duration": 31,
    "start_time": "2021-12-30T22:02:26.073Z"
   },
   {
    "duration": 3,
    "start_time": "2021-12-30T22:02:26.106Z"
   },
   {
    "duration": 12,
    "start_time": "2021-12-30T22:02:26.110Z"
   },
   {
    "duration": 7,
    "start_time": "2021-12-30T22:02:26.124Z"
   },
   {
    "duration": 7,
    "start_time": "2021-12-30T22:02:26.133Z"
   },
   {
    "duration": 4,
    "start_time": "2021-12-30T22:02:26.141Z"
   },
   {
    "duration": 8,
    "start_time": "2021-12-30T22:02:26.146Z"
   },
   {
    "duration": 5,
    "start_time": "2021-12-30T22:02:26.156Z"
   },
   {
    "duration": 46,
    "start_time": "2021-12-30T22:02:26.162Z"
   },
   {
    "duration": 5,
    "start_time": "2021-12-30T22:02:26.210Z"
   },
   {
    "duration": 4,
    "start_time": "2021-12-30T22:02:26.217Z"
   },
   {
    "duration": 252,
    "start_time": "2021-12-30T22:02:26.223Z"
   },
   {
    "duration": 18,
    "start_time": "2021-12-30T22:02:26.476Z"
   },
   {
    "duration": 291,
    "start_time": "2021-12-30T22:02:26.495Z"
   },
   {
    "duration": 321,
    "start_time": "2021-12-30T22:02:26.789Z"
   },
   {
    "duration": 293,
    "start_time": "2021-12-30T22:02:27.113Z"
   },
   {
    "duration": 302,
    "start_time": "2021-12-30T22:02:27.408Z"
   },
   {
    "duration": 305,
    "start_time": "2021-12-30T22:02:27.712Z"
   },
   {
    "duration": 304,
    "start_time": "2021-12-30T22:02:28.019Z"
   },
   {
    "duration": 9,
    "start_time": "2021-12-30T22:02:28.325Z"
   },
   {
    "duration": 445,
    "start_time": "2021-12-30T22:02:28.336Z"
   },
   {
    "duration": -588,
    "start_time": "2021-12-30T22:02:29.371Z"
   },
   {
    "duration": -626,
    "start_time": "2021-12-30T22:02:29.410Z"
   },
   {
    "duration": -639,
    "start_time": "2021-12-30T22:02:29.424Z"
   },
   {
    "duration": -652,
    "start_time": "2021-12-30T22:02:29.438Z"
   },
   {
    "duration": -664,
    "start_time": "2021-12-30T22:02:29.451Z"
   },
   {
    "duration": -676,
    "start_time": "2021-12-30T22:02:29.464Z"
   },
   {
    "duration": -688,
    "start_time": "2021-12-30T22:02:29.476Z"
   },
   {
    "duration": -701,
    "start_time": "2021-12-30T22:02:29.490Z"
   },
   {
    "duration": -713,
    "start_time": "2021-12-30T22:02:29.503Z"
   },
   {
    "duration": -753,
    "start_time": "2021-12-30T22:02:29.544Z"
   },
   {
    "duration": -765,
    "start_time": "2021-12-30T22:02:29.557Z"
   },
   {
    "duration": -779,
    "start_time": "2021-12-30T22:02:29.572Z"
   },
   {
    "duration": -791,
    "start_time": "2021-12-30T22:02:29.585Z"
   },
   {
    "duration": -806,
    "start_time": "2021-12-30T22:02:29.601Z"
   },
   {
    "duration": -819,
    "start_time": "2021-12-30T22:02:29.614Z"
   },
   {
    "duration": -831,
    "start_time": "2021-12-30T22:02:29.627Z"
   },
   {
    "duration": -843,
    "start_time": "2021-12-30T22:02:29.640Z"
   },
   {
    "duration": -882,
    "start_time": "2021-12-30T22:02:29.679Z"
   },
   {
    "duration": -895,
    "start_time": "2021-12-30T22:02:29.693Z"
   },
   {
    "duration": -909,
    "start_time": "2021-12-30T22:02:29.708Z"
   },
   {
    "duration": -923,
    "start_time": "2021-12-30T22:02:29.723Z"
   },
   {
    "duration": -939,
    "start_time": "2021-12-30T22:02:29.740Z"
   },
   {
    "duration": -953,
    "start_time": "2021-12-30T22:02:29.755Z"
   },
   {
    "duration": -968,
    "start_time": "2021-12-30T22:02:29.772Z"
   },
   {
    "duration": -1001,
    "start_time": "2021-12-30T22:02:29.806Z"
   },
   {
    "duration": -1015,
    "start_time": "2021-12-30T22:02:29.823Z"
   },
   {
    "duration": -1076,
    "start_time": "2021-12-30T22:02:29.885Z"
   },
   {
    "duration": -1094,
    "start_time": "2021-12-30T22:02:29.904Z"
   },
   {
    "duration": -1163,
    "start_time": "2021-12-30T22:02:29.973Z"
   },
   {
    "duration": -1181,
    "start_time": "2021-12-30T22:02:29.992Z"
   },
   {
    "duration": -1196,
    "start_time": "2021-12-30T22:02:30.008Z"
   },
   {
    "duration": -1212,
    "start_time": "2021-12-30T22:02:30.025Z"
   },
   {
    "duration": -1226,
    "start_time": "2021-12-30T22:02:30.040Z"
   },
   {
    "duration": -1241,
    "start_time": "2021-12-30T22:02:30.056Z"
   },
   {
    "duration": -1272,
    "start_time": "2021-12-30T22:02:30.088Z"
   },
   {
    "duration": -1291,
    "start_time": "2021-12-30T22:02:30.107Z"
   },
   {
    "duration": -1306,
    "start_time": "2021-12-30T22:02:30.123Z"
   },
   {
    "duration": -1325,
    "start_time": "2021-12-30T22:02:30.144Z"
   },
   {
    "duration": -1343,
    "start_time": "2021-12-30T22:02:30.162Z"
   },
   {
    "duration": -1359,
    "start_time": "2021-12-30T22:02:30.179Z"
   },
   {
    "duration": -1398,
    "start_time": "2021-12-30T22:02:30.219Z"
   },
   {
    "duration": -1499,
    "start_time": "2021-12-30T22:02:30.321Z"
   },
   {
    "duration": 10,
    "start_time": "2021-12-30T22:05:41.199Z"
   },
   {
    "duration": 277,
    "start_time": "2021-12-30T22:05:43.141Z"
   },
   {
    "duration": 1130,
    "start_time": "2021-12-30T22:06:11.024Z"
   },
   {
    "duration": 48,
    "start_time": "2021-12-30T22:06:12.156Z"
   },
   {
    "duration": 16,
    "start_time": "2021-12-30T22:06:12.207Z"
   },
   {
    "duration": 10,
    "start_time": "2021-12-30T22:06:12.225Z"
   },
   {
    "duration": 29,
    "start_time": "2021-12-30T22:06:12.237Z"
   },
   {
    "duration": 2,
    "start_time": "2021-12-30T22:06:12.268Z"
   },
   {
    "duration": 23,
    "start_time": "2021-12-30T22:06:12.272Z"
   },
   {
    "duration": 17,
    "start_time": "2021-12-30T22:06:12.298Z"
   },
   {
    "duration": 12,
    "start_time": "2021-12-30T22:06:12.317Z"
   },
   {
    "duration": 7,
    "start_time": "2021-12-30T22:06:12.331Z"
   },
   {
    "duration": 12,
    "start_time": "2021-12-30T22:06:12.339Z"
   },
   {
    "duration": 9,
    "start_time": "2021-12-30T22:06:12.353Z"
   },
   {
    "duration": 11,
    "start_time": "2021-12-30T22:06:12.363Z"
   },
   {
    "duration": 23,
    "start_time": "2021-12-30T22:06:12.376Z"
   },
   {
    "duration": 13,
    "start_time": "2021-12-30T22:06:12.401Z"
   },
   {
    "duration": 12,
    "start_time": "2021-12-30T22:06:12.416Z"
   },
   {
    "duration": 22,
    "start_time": "2021-12-30T22:06:12.430Z"
   },
   {
    "duration": 11,
    "start_time": "2021-12-30T22:06:12.453Z"
   },
   {
    "duration": 7,
    "start_time": "2021-12-30T22:06:12.465Z"
   },
   {
    "duration": 248,
    "start_time": "2021-12-30T22:06:12.473Z"
   },
   {
    "duration": 8,
    "start_time": "2021-12-30T22:06:12.723Z"
   },
   {
    "duration": 312,
    "start_time": "2021-12-30T22:06:12.732Z"
   },
   {
    "duration": 302,
    "start_time": "2021-12-30T22:06:13.048Z"
   },
   {
    "duration": 307,
    "start_time": "2021-12-30T22:06:13.353Z"
   },
   {
    "duration": 302,
    "start_time": "2021-12-30T22:06:13.662Z"
   },
   {
    "duration": 315,
    "start_time": "2021-12-30T22:06:13.966Z"
   },
   {
    "duration": 305,
    "start_time": "2021-12-30T22:06:14.283Z"
   },
   {
    "duration": 10,
    "start_time": "2021-12-30T22:06:14.589Z"
   },
   {
    "duration": 383,
    "start_time": "2021-12-30T22:06:14.600Z"
   },
   {
    "duration": 6024,
    "start_time": "2021-12-30T22:06:14.985Z"
   },
   {
    "duration": 1574,
    "start_time": "2021-12-30T22:06:19.437Z"
   },
   {
    "duration": 1551,
    "start_time": "2021-12-30T22:06:19.461Z"
   },
   {
    "duration": 1535,
    "start_time": "2021-12-30T22:06:19.478Z"
   },
   {
    "duration": 1519,
    "start_time": "2021-12-30T22:06:19.495Z"
   },
   {
    "duration": 1433,
    "start_time": "2021-12-30T22:06:19.582Z"
   },
   {
    "duration": 1420,
    "start_time": "2021-12-30T22:06:19.596Z"
   },
   {
    "duration": 1403,
    "start_time": "2021-12-30T22:06:19.614Z"
   },
   {
    "duration": 1385,
    "start_time": "2021-12-30T22:06:19.632Z"
   },
   {
    "duration": 1371,
    "start_time": "2021-12-30T22:06:19.647Z"
   },
   {
    "duration": 1358,
    "start_time": "2021-12-30T22:06:19.661Z"
   },
   {
    "duration": 1327,
    "start_time": "2021-12-30T22:06:19.693Z"
   },
   {
    "duration": 1309,
    "start_time": "2021-12-30T22:06:19.711Z"
   },
   {
    "duration": 1296,
    "start_time": "2021-12-30T22:06:19.725Z"
   },
   {
    "duration": 1284,
    "start_time": "2021-12-30T22:06:19.738Z"
   },
   {
    "duration": 1272,
    "start_time": "2021-12-30T22:06:19.751Z"
   },
   {
    "duration": 1260,
    "start_time": "2021-12-30T22:06:19.764Z"
   },
   {
    "duration": 1248,
    "start_time": "2021-12-30T22:06:19.777Z"
   },
   {
    "duration": 1218,
    "start_time": "2021-12-30T22:06:19.808Z"
   },
   {
    "duration": 1204,
    "start_time": "2021-12-30T22:06:19.823Z"
   },
   {
    "duration": 1191,
    "start_time": "2021-12-30T22:06:19.837Z"
   },
   {
    "duration": 1178,
    "start_time": "2021-12-30T22:06:19.851Z"
   },
   {
    "duration": 1166,
    "start_time": "2021-12-30T22:06:19.864Z"
   },
   {
    "duration": 1154,
    "start_time": "2021-12-30T22:06:19.877Z"
   },
   {
    "duration": 1143,
    "start_time": "2021-12-30T22:06:19.889Z"
   },
   {
    "duration": 1129,
    "start_time": "2021-12-30T22:06:19.904Z"
   },
   {
    "duration": 1102,
    "start_time": "2021-12-30T22:06:19.932Z"
   },
   {
    "duration": 1089,
    "start_time": "2021-12-30T22:06:19.946Z"
   },
   {
    "duration": 1078,
    "start_time": "2021-12-30T22:06:19.958Z"
   },
   {
    "duration": 1065,
    "start_time": "2021-12-30T22:06:19.972Z"
   },
   {
    "duration": 1053,
    "start_time": "2021-12-30T22:06:19.985Z"
   },
   {
    "duration": 1040,
    "start_time": "2021-12-30T22:06:19.999Z"
   },
   {
    "duration": 1029,
    "start_time": "2021-12-30T22:06:20.011Z"
   },
   {
    "duration": 1015,
    "start_time": "2021-12-30T22:06:20.025Z"
   },
   {
    "duration": 988,
    "start_time": "2021-12-30T22:06:20.053Z"
   },
   {
    "duration": 976,
    "start_time": "2021-12-30T22:06:20.066Z"
   },
   {
    "duration": 964,
    "start_time": "2021-12-30T22:06:20.079Z"
   },
   {
    "duration": 952,
    "start_time": "2021-12-30T22:06:20.092Z"
   },
   {
    "duration": 940,
    "start_time": "2021-12-30T22:06:20.105Z"
   },
   {
    "duration": 925,
    "start_time": "2021-12-30T22:06:20.120Z"
   },
   {
    "duration": 913,
    "start_time": "2021-12-30T22:06:20.133Z"
   },
   {
    "duration": 899,
    "start_time": "2021-12-30T22:06:20.148Z"
   },
   {
    "duration": 1132,
    "start_time": "2021-12-30T22:09:36.463Z"
   },
   {
    "duration": 38,
    "start_time": "2021-12-30T22:09:37.597Z"
   },
   {
    "duration": 17,
    "start_time": "2021-12-30T22:09:37.637Z"
   },
   {
    "duration": 10,
    "start_time": "2021-12-30T22:09:37.655Z"
   },
   {
    "duration": 47,
    "start_time": "2021-12-30T22:09:37.667Z"
   },
   {
    "duration": 2,
    "start_time": "2021-12-30T22:09:37.716Z"
   },
   {
    "duration": 15,
    "start_time": "2021-12-30T22:09:37.720Z"
   },
   {
    "duration": 6,
    "start_time": "2021-12-30T22:09:37.738Z"
   },
   {
    "duration": 6,
    "start_time": "2021-12-30T22:09:37.746Z"
   },
   {
    "duration": 4,
    "start_time": "2021-12-30T22:09:37.753Z"
   },
   {
    "duration": 35,
    "start_time": "2021-12-30T22:09:37.758Z"
   },
   {
    "duration": 12,
    "start_time": "2021-12-30T22:09:37.795Z"
   },
   {
    "duration": 8,
    "start_time": "2021-12-30T22:09:37.809Z"
   },
   {
    "duration": 6,
    "start_time": "2021-12-30T22:09:37.818Z"
   },
   {
    "duration": 8,
    "start_time": "2021-12-30T22:09:37.826Z"
   },
   {
    "duration": 5,
    "start_time": "2021-12-30T22:09:37.835Z"
   },
   {
    "duration": 13,
    "start_time": "2021-12-30T22:09:37.842Z"
   },
   {
    "duration": 40,
    "start_time": "2021-12-30T22:09:37.856Z"
   },
   {
    "duration": 5,
    "start_time": "2021-12-30T22:09:37.899Z"
   },
   {
    "duration": 265,
    "start_time": "2021-12-30T22:09:37.906Z"
   },
   {
    "duration": 18,
    "start_time": "2021-12-30T22:09:38.173Z"
   },
   {
    "duration": 310,
    "start_time": "2021-12-30T22:09:38.193Z"
   },
   {
    "duration": 313,
    "start_time": "2021-12-30T22:09:38.508Z"
   },
   {
    "duration": 320,
    "start_time": "2021-12-30T22:09:38.824Z"
   },
   {
    "duration": 307,
    "start_time": "2021-12-30T22:09:39.145Z"
   },
   {
    "duration": 320,
    "start_time": "2021-12-30T22:09:39.454Z"
   },
   {
    "duration": 319,
    "start_time": "2021-12-30T22:09:39.776Z"
   },
   {
    "duration": 12,
    "start_time": "2021-12-30T22:09:40.098Z"
   },
   {
    "duration": 366,
    "start_time": "2021-12-30T22:09:40.112Z"
   },
   {
    "duration": 280,
    "start_time": "2021-12-30T22:09:40.480Z"
   },
   {
    "duration": 262,
    "start_time": "2021-12-30T22:09:40.762Z"
   },
   {
    "duration": 8,
    "start_time": "2021-12-30T22:09:41.025Z"
   },
   {
    "duration": 269,
    "start_time": "2021-12-30T22:09:41.034Z"
   },
   {
    "duration": 9,
    "start_time": "2021-12-30T22:09:41.305Z"
   },
   {
    "duration": 4,
    "start_time": "2021-12-30T22:09:41.315Z"
   },
   {
    "duration": 321,
    "start_time": "2021-12-30T22:09:41.320Z"
   },
   {
    "duration": 299,
    "start_time": "2021-12-30T22:09:41.643Z"
   },
   {
    "duration": 272,
    "start_time": "2021-12-30T22:09:41.943Z"
   },
   {
    "duration": 254,
    "start_time": "2021-12-30T22:09:42.216Z"
   },
   {
    "duration": 352,
    "start_time": "2021-12-30T22:09:42.472Z"
   },
   {
    "duration": 8,
    "start_time": "2021-12-30T22:09:42.826Z"
   },
   {
    "duration": 260,
    "start_time": "2021-12-30T22:09:42.835Z"
   },
   {
    "duration": 343,
    "start_time": "2021-12-30T22:09:43.097Z"
   },
   {
    "duration": 8,
    "start_time": "2021-12-30T22:09:43.442Z"
   },
   {
    "duration": 267,
    "start_time": "2021-12-30T22:09:43.451Z"
   },
   {
    "duration": 346,
    "start_time": "2021-12-30T22:09:43.720Z"
   },
   {
    "duration": 347,
    "start_time": "2021-12-30T22:09:44.068Z"
   },
   {
    "duration": 9,
    "start_time": "2021-12-30T22:09:44.416Z"
   },
   {
    "duration": 272,
    "start_time": "2021-12-30T22:09:44.427Z"
   },
   {
    "duration": 339,
    "start_time": "2021-12-30T22:09:44.701Z"
   },
   {
    "duration": 9,
    "start_time": "2021-12-30T22:09:45.042Z"
   },
   {
    "duration": 15,
    "start_time": "2021-12-30T22:09:45.052Z"
   },
   {
    "duration": 32,
    "start_time": "2021-12-30T22:09:45.068Z"
   },
   {
    "duration": 17,
    "start_time": "2021-12-30T22:09:45.103Z"
   },
   {
    "duration": 8,
    "start_time": "2021-12-30T22:09:45.122Z"
   },
   {
    "duration": 18,
    "start_time": "2021-12-30T22:09:45.132Z"
   },
   {
    "duration": 8,
    "start_time": "2021-12-30T22:09:45.152Z"
   },
   {
    "duration": 49,
    "start_time": "2021-12-30T22:09:45.162Z"
   },
   {
    "duration": 24,
    "start_time": "2021-12-30T22:09:45.212Z"
   },
   {
    "duration": 9,
    "start_time": "2021-12-30T22:09:45.237Z"
   },
   {
    "duration": 9,
    "start_time": "2021-12-30T22:09:45.248Z"
   },
   {
    "duration": 41,
    "start_time": "2021-12-30T22:09:45.259Z"
   },
   {
    "duration": 268,
    "start_time": "2021-12-30T22:09:45.302Z"
   },
   {
    "duration": 266,
    "start_time": "2021-12-30T22:09:45.571Z"
   },
   {
    "duration": 243,
    "start_time": "2021-12-30T22:09:45.839Z"
   },
   {
    "duration": 13,
    "start_time": "2021-12-30T22:09:46.084Z"
   },
   {
    "duration": 10,
    "start_time": "2021-12-30T22:09:46.100Z"
   },
   {
    "duration": 7,
    "start_time": "2021-12-30T22:09:46.115Z"
   },
   {
    "duration": 479,
    "start_time": "2021-12-30T22:09:46.124Z"
   },
   {
    "duration": 1530,
    "start_time": "2021-12-30T22:09:45.075Z"
   },
   {
    "duration": 1508,
    "start_time": "2021-12-30T22:09:45.098Z"
   },
   {
    "duration": 843,
    "start_time": "2021-12-30T22:11:56.275Z"
   },
   {
    "duration": 4,
    "start_time": "2021-12-30T22:13:24.372Z"
   },
   {
    "duration": 8,
    "start_time": "2021-12-30T22:13:34.934Z"
   },
   {
    "duration": 7,
    "start_time": "2021-12-30T22:13:40.818Z"
   },
   {
    "duration": 4,
    "start_time": "2021-12-30T22:16:18.164Z"
   },
   {
    "duration": 1172,
    "start_time": "2021-12-30T22:16:27.275Z"
   },
   {
    "duration": 37,
    "start_time": "2021-12-30T22:16:28.448Z"
   },
   {
    "duration": 15,
    "start_time": "2021-12-30T22:16:28.487Z"
   },
   {
    "duration": 10,
    "start_time": "2021-12-30T22:16:28.504Z"
   },
   {
    "duration": 27,
    "start_time": "2021-12-30T22:16:28.516Z"
   },
   {
    "duration": 3,
    "start_time": "2021-12-30T22:16:28.544Z"
   },
   {
    "duration": 19,
    "start_time": "2021-12-30T22:16:28.549Z"
   },
   {
    "duration": 20,
    "start_time": "2021-12-30T22:16:28.571Z"
   },
   {
    "duration": 3,
    "start_time": "2021-12-30T22:16:28.593Z"
   },
   {
    "duration": 8,
    "start_time": "2021-12-30T22:16:28.598Z"
   },
   {
    "duration": 5,
    "start_time": "2021-12-30T22:16:28.608Z"
   },
   {
    "duration": 12,
    "start_time": "2021-12-30T22:16:28.615Z"
   },
   {
    "duration": 8,
    "start_time": "2021-12-30T22:16:28.629Z"
   },
   {
    "duration": 10,
    "start_time": "2021-12-30T22:16:28.638Z"
   },
   {
    "duration": 5,
    "start_time": "2021-12-30T22:16:28.649Z"
   },
   {
    "duration": 7,
    "start_time": "2021-12-30T22:16:28.655Z"
   },
   {
    "duration": 5,
    "start_time": "2021-12-30T22:16:28.692Z"
   },
   {
    "duration": 13,
    "start_time": "2021-12-30T22:16:28.699Z"
   },
   {
    "duration": 28,
    "start_time": "2021-12-30T22:16:28.713Z"
   },
   {
    "duration": 4,
    "start_time": "2021-12-30T22:16:28.742Z"
   },
   {
    "duration": 231,
    "start_time": "2021-12-30T22:16:28.748Z"
   },
   {
    "duration": 12,
    "start_time": "2021-12-30T22:16:28.980Z"
   },
   {
    "duration": 273,
    "start_time": "2021-12-30T22:16:28.995Z"
   },
   {
    "duration": 281,
    "start_time": "2021-12-30T22:16:29.270Z"
   },
   {
    "duration": 297,
    "start_time": "2021-12-30T22:16:29.552Z"
   },
   {
    "duration": 319,
    "start_time": "2021-12-30T22:16:29.850Z"
   },
   {
    "duration": 296,
    "start_time": "2021-12-30T22:16:30.170Z"
   },
   {
    "duration": 297,
    "start_time": "2021-12-30T22:16:30.467Z"
   },
   {
    "duration": 8,
    "start_time": "2021-12-30T22:16:30.766Z"
   },
   {
    "duration": 349,
    "start_time": "2021-12-30T22:16:30.776Z"
   },
   {
    "duration": 264,
    "start_time": "2021-12-30T22:16:31.127Z"
   },
   {
    "duration": 243,
    "start_time": "2021-12-30T22:16:31.393Z"
   },
   {
    "duration": 7,
    "start_time": "2021-12-30T22:16:31.639Z"
   },
   {
    "duration": 233,
    "start_time": "2021-12-30T22:16:31.648Z"
   },
   {
    "duration": 12,
    "start_time": "2021-12-30T22:16:31.883Z"
   },
   {
    "duration": 5,
    "start_time": "2021-12-30T22:16:31.896Z"
   },
   {
    "duration": 299,
    "start_time": "2021-12-30T22:16:31.902Z"
   },
   {
    "duration": 297,
    "start_time": "2021-12-30T22:16:32.203Z"
   },
   {
    "duration": 255,
    "start_time": "2021-12-30T22:16:32.502Z"
   },
   {
    "duration": 235,
    "start_time": "2021-12-30T22:16:32.758Z"
   },
   {
    "duration": 304,
    "start_time": "2021-12-30T22:16:32.995Z"
   },
   {
    "duration": 8,
    "start_time": "2021-12-30T22:16:33.301Z"
   },
   {
    "duration": 236,
    "start_time": "2021-12-30T22:16:33.311Z"
   },
   {
    "duration": 277,
    "start_time": "2021-12-30T22:16:33.549Z"
   },
   {
    "duration": 9,
    "start_time": "2021-12-30T22:16:33.828Z"
   },
   {
    "duration": 250,
    "start_time": "2021-12-30T22:16:33.839Z"
   },
   {
    "duration": 228,
    "start_time": "2021-12-30T22:16:34.091Z"
   },
   {
    "duration": 380,
    "start_time": "2021-12-30T22:16:34.320Z"
   },
   {
    "duration": 8,
    "start_time": "2021-12-30T22:16:34.702Z"
   },
   {
    "duration": 226,
    "start_time": "2021-12-30T22:16:34.711Z"
   },
   {
    "duration": 272,
    "start_time": "2021-12-30T22:16:34.939Z"
   },
   {
    "duration": 9,
    "start_time": "2021-12-30T22:16:35.213Z"
   },
   {
    "duration": 11,
    "start_time": "2021-12-30T22:16:35.224Z"
   },
   {
    "duration": 13,
    "start_time": "2021-12-30T22:16:35.236Z"
   },
   {
    "duration": 43,
    "start_time": "2021-12-30T22:16:35.250Z"
   },
   {
    "duration": 8,
    "start_time": "2021-12-30T22:16:35.294Z"
   },
   {
    "duration": 19,
    "start_time": "2021-12-30T22:16:35.304Z"
   },
   {
    "duration": 7,
    "start_time": "2021-12-30T22:16:35.325Z"
   },
   {
    "duration": 17,
    "start_time": "2021-12-30T22:16:35.334Z"
   },
   {
    "duration": 47,
    "start_time": "2021-12-30T22:16:35.353Z"
   },
   {
    "duration": 12,
    "start_time": "2021-12-30T22:16:35.401Z"
   },
   {
    "duration": 8,
    "start_time": "2021-12-30T22:16:35.414Z"
   },
   {
    "duration": 8,
    "start_time": "2021-12-30T22:16:35.424Z"
   },
   {
    "duration": 253,
    "start_time": "2021-12-30T22:16:35.434Z"
   },
   {
    "duration": 238,
    "start_time": "2021-12-30T22:16:35.691Z"
   },
   {
    "duration": 232,
    "start_time": "2021-12-30T22:16:35.930Z"
   },
   {
    "duration": 2,
    "start_time": "2021-12-30T22:16:36.164Z"
   },
   {
    "duration": 7,
    "start_time": "2021-12-30T22:16:36.171Z"
   },
   {
    "duration": 5,
    "start_time": "2021-12-30T22:16:36.192Z"
   },
   {
    "duration": 6,
    "start_time": "2021-12-30T22:16:36.199Z"
   },
   {
    "duration": 387,
    "start_time": "2021-12-30T22:16:36.207Z"
   },
   {
    "duration": 1397,
    "start_time": "2021-12-30T22:16:35.199Z"
   },
   {
    "duration": 1382,
    "start_time": "2021-12-30T22:16:35.214Z"
   },
   {
    "duration": 3,
    "start_time": "2021-12-30T22:16:52.083Z"
   },
   {
    "duration": 2,
    "start_time": "2021-12-30T22:16:53.007Z"
   },
   {
    "duration": 8,
    "start_time": "2021-12-30T22:16:55.801Z"
   },
   {
    "duration": 1103,
    "start_time": "2021-12-30T22:17:15.235Z"
   },
   {
    "duration": 37,
    "start_time": "2021-12-30T22:17:16.340Z"
   },
   {
    "duration": 23,
    "start_time": "2021-12-30T22:17:16.379Z"
   },
   {
    "duration": 10,
    "start_time": "2021-12-30T22:17:16.404Z"
   },
   {
    "duration": 28,
    "start_time": "2021-12-30T22:17:16.415Z"
   },
   {
    "duration": 3,
    "start_time": "2021-12-30T22:17:16.444Z"
   },
   {
    "duration": 10,
    "start_time": "2021-12-30T22:17:16.448Z"
   },
   {
    "duration": 31,
    "start_time": "2021-12-30T22:17:16.460Z"
   },
   {
    "duration": 3,
    "start_time": "2021-12-30T22:17:16.493Z"
   },
   {
    "duration": 7,
    "start_time": "2021-12-30T22:17:16.498Z"
   },
   {
    "duration": 5,
    "start_time": "2021-12-30T22:17:16.506Z"
   },
   {
    "duration": 12,
    "start_time": "2021-12-30T22:17:16.512Z"
   },
   {
    "duration": 7,
    "start_time": "2021-12-30T22:17:16.525Z"
   },
   {
    "duration": 8,
    "start_time": "2021-12-30T22:17:16.533Z"
   },
   {
    "duration": 4,
    "start_time": "2021-12-30T22:17:16.542Z"
   },
   {
    "duration": 7,
    "start_time": "2021-12-30T22:17:16.547Z"
   },
   {
    "duration": 37,
    "start_time": "2021-12-30T22:17:16.555Z"
   },
   {
    "duration": 13,
    "start_time": "2021-12-30T22:17:16.594Z"
   },
   {
    "duration": 8,
    "start_time": "2021-12-30T22:17:16.608Z"
   },
   {
    "duration": 4,
    "start_time": "2021-12-30T22:17:16.617Z"
   },
   {
    "duration": 251,
    "start_time": "2021-12-30T22:17:16.623Z"
   },
   {
    "duration": 7,
    "start_time": "2021-12-30T22:17:16.876Z"
   },
   {
    "duration": 283,
    "start_time": "2021-12-30T22:17:16.894Z"
   },
   {
    "duration": 285,
    "start_time": "2021-12-30T22:17:17.180Z"
   },
   {
    "duration": 304,
    "start_time": "2021-12-30T22:17:17.467Z"
   },
   {
    "duration": 287,
    "start_time": "2021-12-30T22:17:17.773Z"
   },
   {
    "duration": 299,
    "start_time": "2021-12-30T22:17:18.061Z"
   },
   {
    "duration": 298,
    "start_time": "2021-12-30T22:17:18.362Z"
   },
   {
    "duration": 8,
    "start_time": "2021-12-30T22:17:18.662Z"
   },
   {
    "duration": 344,
    "start_time": "2021-12-30T22:17:18.671Z"
   },
   {
    "duration": 249,
    "start_time": "2021-12-30T22:17:19.017Z"
   },
   {
    "duration": 242,
    "start_time": "2021-12-30T22:17:19.268Z"
   },
   {
    "duration": 8,
    "start_time": "2021-12-30T22:17:19.511Z"
   },
   {
    "duration": 234,
    "start_time": "2021-12-30T22:17:19.520Z"
   },
   {
    "duration": 8,
    "start_time": "2021-12-30T22:17:19.755Z"
   },
   {
    "duration": 2,
    "start_time": "2021-12-30T22:17:19.765Z"
   },
   {
    "duration": 330,
    "start_time": "2021-12-30T22:17:19.769Z"
   },
   {
    "duration": 301,
    "start_time": "2021-12-30T22:17:20.101Z"
   },
   {
    "duration": 259,
    "start_time": "2021-12-30T22:17:20.403Z"
   },
   {
    "duration": 241,
    "start_time": "2021-12-30T22:17:20.663Z"
   },
   {
    "duration": 330,
    "start_time": "2021-12-30T22:17:20.906Z"
   },
   {
    "duration": 9,
    "start_time": "2021-12-30T22:17:21.237Z"
   },
   {
    "duration": 243,
    "start_time": "2021-12-30T22:17:21.248Z"
   },
   {
    "duration": 316,
    "start_time": "2021-12-30T22:17:21.493Z"
   },
   {
    "duration": 9,
    "start_time": "2021-12-30T22:17:21.811Z"
   },
   {
    "duration": 246,
    "start_time": "2021-12-30T22:17:21.822Z"
   },
   {
    "duration": 241,
    "start_time": "2021-12-30T22:17:22.071Z"
   },
   {
    "duration": 390,
    "start_time": "2021-12-30T22:17:22.315Z"
   },
   {
    "duration": 10,
    "start_time": "2021-12-30T22:17:22.707Z"
   },
   {
    "duration": 251,
    "start_time": "2021-12-30T22:17:22.719Z"
   },
   {
    "duration": 319,
    "start_time": "2021-12-30T22:17:22.972Z"
   },
   {
    "duration": 9,
    "start_time": "2021-12-30T22:17:23.293Z"
   },
   {
    "duration": 10,
    "start_time": "2021-12-30T22:17:23.304Z"
   },
   {
    "duration": 14,
    "start_time": "2021-12-30T22:17:23.316Z"
   },
   {
    "duration": 15,
    "start_time": "2021-12-30T22:17:23.332Z"
   },
   {
    "duration": 7,
    "start_time": "2021-12-30T22:17:23.348Z"
   },
   {
    "duration": 16,
    "start_time": "2021-12-30T22:17:23.392Z"
   },
   {
    "duration": 7,
    "start_time": "2021-12-30T22:17:23.410Z"
   },
   {
    "duration": 17,
    "start_time": "2021-12-30T22:17:23.419Z"
   },
   {
    "duration": 21,
    "start_time": "2021-12-30T22:17:23.438Z"
   },
   {
    "duration": 10,
    "start_time": "2021-12-30T22:17:23.492Z"
   },
   {
    "duration": 9,
    "start_time": "2021-12-30T22:17:23.504Z"
   },
   {
    "duration": 9,
    "start_time": "2021-12-30T22:17:23.514Z"
   },
   {
    "duration": 252,
    "start_time": "2021-12-30T22:17:23.524Z"
   },
   {
    "duration": 238,
    "start_time": "2021-12-30T22:17:23.777Z"
   },
   {
    "duration": 230,
    "start_time": "2021-12-30T22:17:24.017Z"
   },
   {
    "duration": 2,
    "start_time": "2021-12-30T22:17:24.249Z"
   },
   {
    "duration": 2,
    "start_time": "2021-12-30T22:17:24.256Z"
   },
   {
    "duration": 8,
    "start_time": "2021-12-30T22:17:24.260Z"
   },
   {
    "duration": 22,
    "start_time": "2021-12-30T22:17:24.270Z"
   },
   {
    "duration": 6,
    "start_time": "2021-12-30T22:17:24.293Z"
   },
   {
    "duration": 10,
    "start_time": "2021-12-30T22:17:24.301Z"
   },
   {
    "duration": 5,
    "start_time": "2021-12-30T22:17:24.313Z"
   },
   {
    "duration": 8,
    "start_time": "2021-12-30T22:19:28.639Z"
   },
   {
    "duration": 6,
    "start_time": "2021-12-30T22:19:30.838Z"
   },
   {
    "duration": 372,
    "start_time": "2021-12-30T22:22:56.095Z"
   },
   {
    "duration": 8,
    "start_time": "2021-12-30T22:25:26.831Z"
   },
   {
    "duration": 498,
    "start_time": "2021-12-30T22:25:28.067Z"
   },
   {
    "duration": 11,
    "start_time": "2021-12-30T22:26:30.327Z"
   },
   {
    "duration": 250,
    "start_time": "2021-12-30T22:27:20.291Z"
   },
   {
    "duration": 221,
    "start_time": "2021-12-30T22:27:41.736Z"
   },
   {
    "duration": 619,
    "start_time": "2021-12-30T22:28:24.312Z"
   },
   {
    "duration": 11,
    "start_time": "2021-12-30T22:28:51.709Z"
   },
   {
    "duration": 278,
    "start_time": "2021-12-30T22:28:53.747Z"
   },
   {
    "duration": 8,
    "start_time": "2021-12-30T22:34:40.583Z"
   },
   {
    "duration": 8,
    "start_time": "2021-12-30T22:35:00.861Z"
   },
   {
    "duration": 219,
    "start_time": "2021-12-30T22:35:05.825Z"
   },
   {
    "duration": 8,
    "start_time": "2021-12-30T22:35:32.410Z"
   },
   {
    "duration": 249,
    "start_time": "2021-12-30T22:36:19.715Z"
   },
   {
    "duration": 8,
    "start_time": "2021-12-30T22:36:49.224Z"
   },
   {
    "duration": 244,
    "start_time": "2021-12-30T22:36:57.298Z"
   },
   {
    "duration": 9,
    "start_time": "2021-12-30T22:38:20.616Z"
   },
   {
    "duration": 15,
    "start_time": "2021-12-30T22:38:37.281Z"
   },
   {
    "duration": 18,
    "start_time": "2021-12-30T22:40:00.642Z"
   },
   {
    "duration": 9,
    "start_time": "2021-12-30T22:40:18.351Z"
   },
   {
    "duration": 19,
    "start_time": "2021-12-30T22:41:24.654Z"
   },
   {
    "duration": 9,
    "start_time": "2021-12-30T22:41:33.130Z"
   },
   {
    "duration": 18,
    "start_time": "2021-12-30T22:42:04.939Z"
   },
   {
    "duration": 270,
    "start_time": "2021-12-30T22:44:38.446Z"
   },
   {
    "duration": 16,
    "start_time": "2021-12-30T22:44:48.067Z"
   },
   {
    "duration": 10,
    "start_time": "2021-12-30T22:44:59.077Z"
   },
   {
    "duration": 9,
    "start_time": "2021-12-30T22:46:08.396Z"
   },
   {
    "duration": 10,
    "start_time": "2021-12-30T22:46:20.421Z"
   },
   {
    "duration": 10,
    "start_time": "2021-12-30T22:46:32.080Z"
   },
   {
    "duration": 230,
    "start_time": "2021-12-30T22:46:49.257Z"
   },
   {
    "duration": 218,
    "start_time": "2021-12-30T22:47:24.486Z"
   },
   {
    "duration": 218,
    "start_time": "2021-12-30T22:47:40.038Z"
   },
   {
    "duration": 1102,
    "start_time": "2022-01-05T09:47:40.308Z"
   },
   {
    "duration": 37,
    "start_time": "2022-01-05T09:47:41.412Z"
   },
   {
    "duration": 16,
    "start_time": "2022-01-05T09:47:41.451Z"
   },
   {
    "duration": 10,
    "start_time": "2022-01-05T09:47:41.469Z"
   },
   {
    "duration": 29,
    "start_time": "2022-01-05T09:47:41.481Z"
   },
   {
    "duration": 2,
    "start_time": "2022-01-05T09:47:41.512Z"
   },
   {
    "duration": 10,
    "start_time": "2022-01-05T09:47:41.516Z"
   },
   {
    "duration": 5,
    "start_time": "2022-01-05T09:47:41.528Z"
   },
   {
    "duration": 4,
    "start_time": "2022-01-05T09:47:41.561Z"
   },
   {
    "duration": 7,
    "start_time": "2022-01-05T09:47:41.567Z"
   },
   {
    "duration": 5,
    "start_time": "2022-01-05T09:47:41.576Z"
   },
   {
    "duration": 11,
    "start_time": "2022-01-05T09:47:41.582Z"
   },
   {
    "duration": 11,
    "start_time": "2022-01-05T09:47:41.595Z"
   },
   {
    "duration": 8,
    "start_time": "2022-01-05T09:47:41.608Z"
   },
   {
    "duration": 4,
    "start_time": "2022-01-05T09:47:41.617Z"
   },
   {
    "duration": 42,
    "start_time": "2022-01-05T09:47:41.623Z"
   },
   {
    "duration": 7,
    "start_time": "2022-01-05T09:47:41.666Z"
   },
   {
    "duration": 13,
    "start_time": "2022-01-05T09:47:41.674Z"
   },
   {
    "duration": 7,
    "start_time": "2022-01-05T09:47:41.689Z"
   },
   {
    "duration": 10,
    "start_time": "2022-01-05T09:47:41.697Z"
   },
   {
    "duration": 376,
    "start_time": "2022-01-05T09:47:41.708Z"
   },
   {
    "duration": 7,
    "start_time": "2022-01-05T09:47:42.086Z"
   },
   {
    "duration": 269,
    "start_time": "2022-01-05T09:47:42.097Z"
   },
   {
    "duration": 269,
    "start_time": "2022-01-05T09:47:42.369Z"
   },
   {
    "duration": 269,
    "start_time": "2022-01-05T09:47:42.640Z"
   },
   {
    "duration": 260,
    "start_time": "2022-01-05T09:47:42.910Z"
   },
   {
    "duration": 293,
    "start_time": "2022-01-05T09:47:43.173Z"
   },
   {
    "duration": 352,
    "start_time": "2022-01-05T09:47:43.469Z"
   },
   {
    "duration": 11,
    "start_time": "2022-01-05T09:47:43.823Z"
   },
   {
    "duration": 292,
    "start_time": "2022-01-05T09:47:43.836Z"
   },
   {
    "duration": 242,
    "start_time": "2022-01-05T09:47:44.130Z"
   },
   {
    "duration": 220,
    "start_time": "2022-01-05T09:47:44.373Z"
   },
   {
    "duration": 8,
    "start_time": "2022-01-05T09:47:44.595Z"
   },
   {
    "duration": 226,
    "start_time": "2022-01-05T09:47:44.605Z"
   },
   {
    "duration": 7,
    "start_time": "2022-01-05T09:47:44.833Z"
   },
   {
    "duration": 5,
    "start_time": "2022-01-05T09:47:44.842Z"
   },
   {
    "duration": 329,
    "start_time": "2022-01-05T09:47:44.849Z"
   },
   {
    "duration": 292,
    "start_time": "2022-01-05T09:47:45.179Z"
   },
   {
    "duration": 227,
    "start_time": "2022-01-05T09:47:45.473Z"
   },
   {
    "duration": 228,
    "start_time": "2022-01-05T09:47:45.702Z"
   },
   {
    "duration": 346,
    "start_time": "2022-01-05T09:47:45.932Z"
   },
   {
    "duration": 7,
    "start_time": "2022-01-05T09:47:46.280Z"
   },
   {
    "duration": 225,
    "start_time": "2022-01-05T09:47:46.288Z"
   },
   {
    "duration": 291,
    "start_time": "2022-01-05T09:47:46.515Z"
   },
   {
    "duration": 8,
    "start_time": "2022-01-05T09:47:46.809Z"
   },
   {
    "duration": 316,
    "start_time": "2022-01-05T09:47:46.818Z"
   },
   {
    "duration": 224,
    "start_time": "2022-01-05T09:47:47.136Z"
   },
   {
    "duration": 314,
    "start_time": "2022-01-05T09:47:47.362Z"
   },
   {
    "duration": 7,
    "start_time": "2022-01-05T09:47:47.678Z"
   },
   {
    "duration": 212,
    "start_time": "2022-01-05T09:47:47.686Z"
   },
   {
    "duration": 277,
    "start_time": "2022-01-05T09:47:47.900Z"
   },
   {
    "duration": 7,
    "start_time": "2022-01-05T09:47:48.179Z"
   },
   {
    "duration": 22,
    "start_time": "2022-01-05T09:47:48.188Z"
   },
   {
    "duration": 24,
    "start_time": "2022-01-05T09:47:48.212Z"
   },
   {
    "duration": 33,
    "start_time": "2022-01-05T09:47:48.238Z"
   },
   {
    "duration": 24,
    "start_time": "2022-01-05T09:47:48.273Z"
   },
   {
    "duration": 34,
    "start_time": "2022-01-05T09:47:48.299Z"
   },
   {
    "duration": 33,
    "start_time": "2022-01-05T09:47:48.335Z"
   },
   {
    "duration": 45,
    "start_time": "2022-01-05T09:47:48.370Z"
   },
   {
    "duration": 20,
    "start_time": "2022-01-05T09:47:48.417Z"
   },
   {
    "duration": 55,
    "start_time": "2022-01-05T09:47:48.439Z"
   },
   {
    "duration": 37,
    "start_time": "2022-01-05T09:47:48.496Z"
   },
   {
    "duration": 46,
    "start_time": "2022-01-05T09:47:48.535Z"
   },
   {
    "duration": 33,
    "start_time": "2022-01-05T09:47:48.582Z"
   },
   {
    "duration": 236,
    "start_time": "2022-01-05T09:47:48.617Z"
   },
   {
    "duration": 205,
    "start_time": "2022-01-05T09:47:48.860Z"
   },
   {
    "duration": 223,
    "start_time": "2022-01-05T09:47:49.066Z"
   },
   {
    "duration": 7,
    "start_time": "2022-01-05T09:47:49.294Z"
   },
   {
    "duration": 6,
    "start_time": "2022-01-05T09:47:49.303Z"
   },
   {
    "duration": 8,
    "start_time": "2022-01-05T09:47:49.311Z"
   },
   {
    "duration": 8,
    "start_time": "2022-01-05T09:47:49.321Z"
   },
   {
    "duration": 340,
    "start_time": "2022-01-05T10:02:27.758Z"
   },
   {
    "duration": 23,
    "start_time": "2022-01-05T10:02:40.415Z"
   },
   {
    "duration": 249,
    "start_time": "2022-01-05T10:04:42.474Z"
   },
   {
    "duration": 7283,
    "start_time": "2022-01-05T10:04:56.962Z"
   },
   {
    "duration": 384,
    "start_time": "2022-01-05T10:42:11.287Z"
   },
   {
    "duration": 22,
    "start_time": "2022-01-05T10:42:56.652Z"
   },
   {
    "duration": 23,
    "start_time": "2022-01-05T10:46:29.670Z"
   },
   {
    "duration": 1214,
    "start_time": "2022-01-05T10:47:54.223Z"
   },
   {
    "duration": 39,
    "start_time": "2022-01-05T10:47:55.440Z"
   },
   {
    "duration": 17,
    "start_time": "2022-01-05T10:47:55.481Z"
   },
   {
    "duration": 11,
    "start_time": "2022-01-05T10:47:55.500Z"
   },
   {
    "duration": 28,
    "start_time": "2022-01-05T10:47:55.513Z"
   },
   {
    "duration": 3,
    "start_time": "2022-01-05T10:47:55.561Z"
   },
   {
    "duration": 11,
    "start_time": "2022-01-05T10:47:55.566Z"
   },
   {
    "duration": 5,
    "start_time": "2022-01-05T10:47:55.579Z"
   },
   {
    "duration": 4,
    "start_time": "2022-01-05T10:47:55.587Z"
   },
   {
    "duration": 7,
    "start_time": "2022-01-05T10:47:55.594Z"
   },
   {
    "duration": 6,
    "start_time": "2022-01-05T10:47:55.602Z"
   },
   {
    "duration": 54,
    "start_time": "2022-01-05T10:47:55.609Z"
   },
   {
    "duration": 10,
    "start_time": "2022-01-05T10:47:55.665Z"
   },
   {
    "duration": 11,
    "start_time": "2022-01-05T10:47:55.677Z"
   },
   {
    "duration": 4,
    "start_time": "2022-01-05T10:47:55.690Z"
   },
   {
    "duration": 8,
    "start_time": "2022-01-05T10:47:55.696Z"
   },
   {
    "duration": 6,
    "start_time": "2022-01-05T10:47:55.705Z"
   },
   {
    "duration": 50,
    "start_time": "2022-01-05T10:47:55.712Z"
   },
   {
    "duration": 6,
    "start_time": "2022-01-05T10:47:55.764Z"
   },
   {
    "duration": 5,
    "start_time": "2022-01-05T10:47:55.771Z"
   },
   {
    "duration": 358,
    "start_time": "2022-01-05T10:47:55.778Z"
   },
   {
    "duration": 8,
    "start_time": "2022-01-05T10:47:56.137Z"
   },
   {
    "duration": 276,
    "start_time": "2022-01-05T10:47:56.146Z"
   },
   {
    "duration": 275,
    "start_time": "2022-01-05T10:47:56.423Z"
   },
   {
    "duration": 278,
    "start_time": "2022-01-05T10:47:56.700Z"
   },
   {
    "duration": 278,
    "start_time": "2022-01-05T10:47:56.980Z"
   },
   {
    "duration": 278,
    "start_time": "2022-01-05T10:47:57.263Z"
   },
   {
    "duration": 341,
    "start_time": "2022-01-05T10:47:57.544Z"
   },
   {
    "duration": 10,
    "start_time": "2022-01-05T10:47:57.888Z"
   },
   {
    "duration": 288,
    "start_time": "2022-01-05T10:47:57.900Z"
   },
   {
    "duration": 248,
    "start_time": "2022-01-05T10:47:58.189Z"
   },
   {
    "duration": 241,
    "start_time": "2022-01-05T10:47:58.439Z"
   },
   {
    "duration": 8,
    "start_time": "2022-01-05T10:47:58.682Z"
   },
   {
    "duration": 231,
    "start_time": "2022-01-05T10:47:58.691Z"
   },
   {
    "duration": 8,
    "start_time": "2022-01-05T10:47:58.923Z"
   },
   {
    "duration": 4,
    "start_time": "2022-01-05T10:47:58.933Z"
   },
   {
    "duration": 322,
    "start_time": "2022-01-05T10:47:58.938Z"
   },
   {
    "duration": 289,
    "start_time": "2022-01-05T10:47:59.262Z"
   },
   {
    "duration": 238,
    "start_time": "2022-01-05T10:47:59.560Z"
   },
   {
    "duration": 234,
    "start_time": "2022-01-05T10:47:59.800Z"
   },
   {
    "duration": 319,
    "start_time": "2022-01-05T10:48:00.036Z"
   },
   {
    "duration": 8,
    "start_time": "2022-01-05T10:48:00.360Z"
   },
   {
    "duration": 228,
    "start_time": "2022-01-05T10:48:00.369Z"
   },
   {
    "duration": 289,
    "start_time": "2022-01-05T10:48:00.599Z"
   },
   {
    "duration": 9,
    "start_time": "2022-01-05T10:48:00.890Z"
   },
   {
    "duration": 339,
    "start_time": "2022-01-05T10:48:00.900Z"
   },
   {
    "duration": 226,
    "start_time": "2022-01-05T10:48:01.241Z"
   },
   {
    "duration": 332,
    "start_time": "2022-01-05T10:48:01.469Z"
   },
   {
    "duration": 8,
    "start_time": "2022-01-05T10:48:01.803Z"
   },
   {
    "duration": 257,
    "start_time": "2022-01-05T10:48:01.813Z"
   },
   {
    "duration": 294,
    "start_time": "2022-01-05T10:48:02.072Z"
   },
   {
    "duration": 8,
    "start_time": "2022-01-05T10:48:02.367Z"
   },
   {
    "duration": 19,
    "start_time": "2022-01-05T10:48:02.376Z"
   },
   {
    "duration": 33,
    "start_time": "2022-01-05T10:48:02.397Z"
   },
   {
    "duration": 22,
    "start_time": "2022-01-05T10:48:02.432Z"
   },
   {
    "duration": 26,
    "start_time": "2022-01-05T10:48:02.456Z"
   },
   {
    "duration": 37,
    "start_time": "2022-01-05T10:48:02.483Z"
   },
   {
    "duration": 8,
    "start_time": "2022-01-05T10:48:02.522Z"
   },
   {
    "duration": 26,
    "start_time": "2022-01-05T10:48:02.531Z"
   },
   {
    "duration": 23,
    "start_time": "2022-01-05T10:48:02.559Z"
   },
   {
    "duration": 27,
    "start_time": "2022-01-05T10:48:02.584Z"
   },
   {
    "duration": 22,
    "start_time": "2022-01-05T10:48:02.613Z"
   },
   {
    "duration": 24,
    "start_time": "2022-01-05T10:48:02.637Z"
   },
   {
    "duration": 16,
    "start_time": "2022-01-05T10:48:02.662Z"
   },
   {
    "duration": 214,
    "start_time": "2022-01-05T10:48:02.680Z"
   },
   {
    "duration": 226,
    "start_time": "2022-01-05T10:48:02.896Z"
   },
   {
    "duration": 221,
    "start_time": "2022-01-05T10:48:03.124Z"
   },
   {
    "duration": 92,
    "start_time": "2022-01-05T10:48:03.347Z"
   },
   {
    "duration": 2805,
    "start_time": "2022-01-05T10:48:00.636Z"
   },
   {
    "duration": 2794,
    "start_time": "2022-01-05T10:48:00.648Z"
   },
   {
    "duration": 2784,
    "start_time": "2022-01-05T10:48:00.659Z"
   },
   {
    "duration": 2774,
    "start_time": "2022-01-05T10:48:00.670Z"
   },
   {
    "duration": 1256,
    "start_time": "2022-01-05T10:48:30.272Z"
   },
   {
    "duration": 39,
    "start_time": "2022-01-05T10:48:31.530Z"
   },
   {
    "duration": 14,
    "start_time": "2022-01-05T10:48:31.571Z"
   },
   {
    "duration": 12,
    "start_time": "2022-01-05T10:48:31.587Z"
   },
   {
    "duration": 29,
    "start_time": "2022-01-05T10:48:31.601Z"
   },
   {
    "duration": 2,
    "start_time": "2022-01-05T10:48:31.632Z"
   },
   {
    "duration": 8,
    "start_time": "2022-01-05T10:48:31.661Z"
   },
   {
    "duration": 5,
    "start_time": "2022-01-05T10:48:31.672Z"
   },
   {
    "duration": 4,
    "start_time": "2022-01-05T10:48:31.680Z"
   },
   {
    "duration": 7,
    "start_time": "2022-01-05T10:48:31.686Z"
   },
   {
    "duration": 4,
    "start_time": "2022-01-05T10:48:31.695Z"
   },
   {
    "duration": 12,
    "start_time": "2022-01-05T10:48:31.701Z"
   },
   {
    "duration": 8,
    "start_time": "2022-01-05T10:48:31.715Z"
   },
   {
    "duration": 42,
    "start_time": "2022-01-05T10:48:31.725Z"
   },
   {
    "duration": 8,
    "start_time": "2022-01-05T10:48:31.769Z"
   },
   {
    "duration": 9,
    "start_time": "2022-01-05T10:48:31.779Z"
   },
   {
    "duration": 7,
    "start_time": "2022-01-05T10:48:31.789Z"
   },
   {
    "duration": 21,
    "start_time": "2022-01-05T10:48:31.798Z"
   },
   {
    "duration": 7,
    "start_time": "2022-01-05T10:48:31.821Z"
   },
   {
    "duration": 6,
    "start_time": "2022-01-05T10:48:31.830Z"
   },
   {
    "duration": 361,
    "start_time": "2022-01-05T10:48:31.861Z"
   },
   {
    "duration": 8,
    "start_time": "2022-01-05T10:48:32.223Z"
   },
   {
    "duration": 279,
    "start_time": "2022-01-05T10:48:32.235Z"
   },
   {
    "duration": 271,
    "start_time": "2022-01-05T10:48:32.516Z"
   },
   {
    "duration": 279,
    "start_time": "2022-01-05T10:48:32.789Z"
   },
   {
    "duration": 263,
    "start_time": "2022-01-05T10:48:33.070Z"
   },
   {
    "duration": 286,
    "start_time": "2022-01-05T10:48:33.336Z"
   },
   {
    "duration": 349,
    "start_time": "2022-01-05T10:48:33.625Z"
   },
   {
    "duration": 11,
    "start_time": "2022-01-05T10:48:33.976Z"
   },
   {
    "duration": 300,
    "start_time": "2022-01-05T10:48:33.989Z"
   },
   {
    "duration": 271,
    "start_time": "2022-01-05T10:48:34.292Z"
   },
   {
    "duration": 248,
    "start_time": "2022-01-05T10:48:34.564Z"
   },
   {
    "duration": 11,
    "start_time": "2022-01-05T10:48:34.814Z"
   },
   {
    "duration": 239,
    "start_time": "2022-01-05T10:48:34.828Z"
   },
   {
    "duration": 7,
    "start_time": "2022-01-05T10:48:35.069Z"
   },
   {
    "duration": 4,
    "start_time": "2022-01-05T10:48:35.078Z"
   },
   {
    "duration": 314,
    "start_time": "2022-01-05T10:48:35.084Z"
   },
   {
    "duration": 288,
    "start_time": "2022-01-05T10:48:35.400Z"
   },
   {
    "duration": 271,
    "start_time": "2022-01-05T10:48:35.690Z"
   },
   {
    "duration": 239,
    "start_time": "2022-01-05T10:48:35.963Z"
   },
   {
    "duration": 283,
    "start_time": "2022-01-05T10:48:36.205Z"
   },
   {
    "duration": 7,
    "start_time": "2022-01-05T10:48:36.489Z"
   },
   {
    "duration": 232,
    "start_time": "2022-01-05T10:48:36.498Z"
   },
   {
    "duration": 311,
    "start_time": "2022-01-05T10:48:36.732Z"
   },
   {
    "duration": 18,
    "start_time": "2022-01-05T10:48:37.045Z"
   },
   {
    "duration": 368,
    "start_time": "2022-01-05T10:48:37.065Z"
   },
   {
    "duration": 220,
    "start_time": "2022-01-05T10:48:37.434Z"
   },
   {
    "duration": 313,
    "start_time": "2022-01-05T10:48:37.660Z"
   },
   {
    "duration": 8,
    "start_time": "2022-01-05T10:48:37.975Z"
   },
   {
    "duration": 223,
    "start_time": "2022-01-05T10:48:37.985Z"
   },
   {
    "duration": 273,
    "start_time": "2022-01-05T10:48:38.210Z"
   },
   {
    "duration": 7,
    "start_time": "2022-01-05T10:48:38.485Z"
   },
   {
    "duration": 12,
    "start_time": "2022-01-05T10:48:38.493Z"
   },
   {
    "duration": 15,
    "start_time": "2022-01-05T10:48:38.507Z"
   },
   {
    "duration": 35,
    "start_time": "2022-01-05T10:48:38.524Z"
   },
   {
    "duration": 11,
    "start_time": "2022-01-05T10:48:38.562Z"
   },
   {
    "duration": 16,
    "start_time": "2022-01-05T10:48:38.575Z"
   },
   {
    "duration": 14,
    "start_time": "2022-01-05T10:48:38.593Z"
   },
   {
    "duration": 18,
    "start_time": "2022-01-05T10:48:38.609Z"
   },
   {
    "duration": 7,
    "start_time": "2022-01-05T10:48:38.629Z"
   },
   {
    "duration": 21,
    "start_time": "2022-01-05T10:48:38.660Z"
   },
   {
    "duration": 8,
    "start_time": "2022-01-05T10:48:38.683Z"
   },
   {
    "duration": 8,
    "start_time": "2022-01-05T10:48:38.693Z"
   },
   {
    "duration": 8,
    "start_time": "2022-01-05T10:48:38.702Z"
   },
   {
    "duration": 236,
    "start_time": "2022-01-05T10:48:38.712Z"
   },
   {
    "duration": 216,
    "start_time": "2022-01-05T10:48:38.949Z"
   },
   {
    "duration": 229,
    "start_time": "2022-01-05T10:48:39.167Z"
   },
   {
    "duration": 7,
    "start_time": "2022-01-05T10:48:39.401Z"
   },
   {
    "duration": 6,
    "start_time": "2022-01-05T10:48:39.410Z"
   },
   {
    "duration": 7,
    "start_time": "2022-01-05T10:48:39.418Z"
   },
   {
    "duration": 5,
    "start_time": "2022-01-05T10:48:39.426Z"
   },
   {
    "duration": 1204,
    "start_time": "2022-01-06T14:59:30.330Z"
   },
   {
    "duration": 37,
    "start_time": "2022-01-06T14:59:31.536Z"
   },
   {
    "duration": 23,
    "start_time": "2022-01-06T14:59:31.575Z"
   },
   {
    "duration": 12,
    "start_time": "2022-01-06T14:59:31.601Z"
   },
   {
    "duration": 29,
    "start_time": "2022-01-06T14:59:31.615Z"
   },
   {
    "duration": 3,
    "start_time": "2022-01-06T14:59:31.646Z"
   },
   {
    "duration": 11,
    "start_time": "2022-01-06T14:59:31.651Z"
   },
   {
    "duration": 5,
    "start_time": "2022-01-06T14:59:31.693Z"
   },
   {
    "duration": 5,
    "start_time": "2022-01-06T14:59:31.702Z"
   },
   {
    "duration": 8,
    "start_time": "2022-01-06T14:59:31.709Z"
   },
   {
    "duration": 6,
    "start_time": "2022-01-06T14:59:31.719Z"
   },
   {
    "duration": 12,
    "start_time": "2022-01-06T14:59:31.727Z"
   },
   {
    "duration": 7,
    "start_time": "2022-01-06T14:59:31.741Z"
   },
   {
    "duration": 42,
    "start_time": "2022-01-06T14:59:31.750Z"
   },
   {
    "duration": 7,
    "start_time": "2022-01-06T14:59:31.794Z"
   },
   {
    "duration": 13,
    "start_time": "2022-01-06T14:59:31.804Z"
   },
   {
    "duration": 6,
    "start_time": "2022-01-06T14:59:31.819Z"
   },
   {
    "duration": 15,
    "start_time": "2022-01-06T14:59:31.827Z"
   },
   {
    "duration": 8,
    "start_time": "2022-01-06T14:59:31.843Z"
   },
   {
    "duration": 4,
    "start_time": "2022-01-06T14:59:31.852Z"
   },
   {
    "duration": 445,
    "start_time": "2022-01-06T14:59:31.858Z"
   },
   {
    "duration": 11,
    "start_time": "2022-01-06T14:59:32.305Z"
   },
   {
    "duration": 321,
    "start_time": "2022-01-06T14:59:32.321Z"
   },
   {
    "duration": 319,
    "start_time": "2022-01-06T14:59:32.645Z"
   },
   {
    "duration": 325,
    "start_time": "2022-01-06T14:59:32.966Z"
   },
   {
    "duration": 327,
    "start_time": "2022-01-06T14:59:33.293Z"
   },
   {
    "duration": 323,
    "start_time": "2022-01-06T14:59:33.621Z"
   },
   {
    "duration": 391,
    "start_time": "2022-01-06T14:59:33.946Z"
   },
   {
    "duration": 10,
    "start_time": "2022-01-06T14:59:34.339Z"
   },
   {
    "duration": 344,
    "start_time": "2022-01-06T14:59:34.351Z"
   },
   {
    "duration": 279,
    "start_time": "2022-01-06T14:59:34.697Z"
   },
   {
    "duration": 275,
    "start_time": "2022-01-06T14:59:34.977Z"
   },
   {
    "duration": 7,
    "start_time": "2022-01-06T14:59:35.254Z"
   },
   {
    "duration": 273,
    "start_time": "2022-01-06T14:59:35.263Z"
   },
   {
    "duration": 8,
    "start_time": "2022-01-06T14:59:35.538Z"
   },
   {
    "duration": 4,
    "start_time": "2022-01-06T14:59:35.548Z"
   },
   {
    "duration": 376,
    "start_time": "2022-01-06T14:59:35.554Z"
   },
   {
    "duration": 287,
    "start_time": "2022-01-06T14:59:35.932Z"
   },
   {
    "duration": 255,
    "start_time": "2022-01-06T14:59:36.220Z"
   },
   {
    "duration": 263,
    "start_time": "2022-01-06T14:59:36.476Z"
   },
   {
    "duration": 302,
    "start_time": "2022-01-06T14:59:36.740Z"
   },
   {
    "duration": 8,
    "start_time": "2022-01-06T14:59:37.044Z"
   },
   {
    "duration": 256,
    "start_time": "2022-01-06T14:59:37.054Z"
   },
   {
    "duration": 312,
    "start_time": "2022-01-06T14:59:37.312Z"
   },
   {
    "duration": 7,
    "start_time": "2022-01-06T14:59:37.626Z"
   },
   {
    "duration": 344,
    "start_time": "2022-01-06T14:59:37.634Z"
   },
   {
    "duration": 261,
    "start_time": "2022-01-06T14:59:37.980Z"
   },
   {
    "duration": 303,
    "start_time": "2022-01-06T14:59:38.242Z"
   },
   {
    "duration": 7,
    "start_time": "2022-01-06T14:59:38.547Z"
   },
   {
    "duration": 272,
    "start_time": "2022-01-06T14:59:38.555Z"
   },
   {
    "duration": 291,
    "start_time": "2022-01-06T14:59:38.829Z"
   },
   {
    "duration": 7,
    "start_time": "2022-01-06T14:59:39.122Z"
   },
   {
    "duration": 11,
    "start_time": "2022-01-06T14:59:39.131Z"
   },
   {
    "duration": 12,
    "start_time": "2022-01-06T14:59:39.143Z"
   },
   {
    "duration": 42,
    "start_time": "2022-01-06T14:59:39.157Z"
   },
   {
    "duration": 12,
    "start_time": "2022-01-06T14:59:39.202Z"
   },
   {
    "duration": 17,
    "start_time": "2022-01-06T14:59:39.216Z"
   },
   {
    "duration": 9,
    "start_time": "2022-01-06T14:59:39.235Z"
   },
   {
    "duration": 52,
    "start_time": "2022-01-06T14:59:39.246Z"
   },
   {
    "duration": 11,
    "start_time": "2022-01-06T14:59:39.300Z"
   },
   {
    "duration": 22,
    "start_time": "2022-01-06T14:59:39.313Z"
   },
   {
    "duration": 10,
    "start_time": "2022-01-06T14:59:39.337Z"
   },
   {
    "duration": 47,
    "start_time": "2022-01-06T14:59:39.348Z"
   },
   {
    "duration": 15,
    "start_time": "2022-01-06T14:59:39.398Z"
   },
   {
    "duration": 251,
    "start_time": "2022-01-06T14:59:39.416Z"
   },
   {
    "duration": 249,
    "start_time": "2022-01-06T14:59:39.669Z"
   },
   {
    "duration": 252,
    "start_time": "2022-01-06T14:59:39.919Z"
   },
   {
    "duration": 6,
    "start_time": "2022-01-06T14:59:40.176Z"
   },
   {
    "duration": 7,
    "start_time": "2022-01-06T14:59:40.192Z"
   },
   {
    "duration": 10,
    "start_time": "2022-01-06T14:59:40.201Z"
   },
   {
    "duration": 8,
    "start_time": "2022-01-06T14:59:40.213Z"
   },
   {
    "duration": 4,
    "start_time": "2022-01-06T15:04:41.774Z"
   },
   {
    "duration": 15,
    "start_time": "2022-01-06T15:17:48.273Z"
   },
   {
    "duration": 6,
    "start_time": "2022-01-06T15:18:04.301Z"
   },
   {
    "duration": 10,
    "start_time": "2022-01-06T15:22:11.483Z"
   },
   {
    "duration": 11,
    "start_time": "2022-01-06T15:23:29.420Z"
   },
   {
    "duration": 5,
    "start_time": "2022-01-06T15:26:33.585Z"
   },
   {
    "duration": 2004,
    "start_time": "2022-01-06T19:38:38.435Z"
   },
   {
    "duration": 63,
    "start_time": "2022-01-06T19:38:40.442Z"
   },
   {
    "duration": 37,
    "start_time": "2022-01-06T19:38:40.509Z"
   },
   {
    "duration": 21,
    "start_time": "2022-01-06T19:38:40.549Z"
   },
   {
    "duration": 93,
    "start_time": "2022-01-06T19:38:40.573Z"
   },
   {
    "duration": 4,
    "start_time": "2022-01-06T19:38:40.669Z"
   },
   {
    "duration": 14,
    "start_time": "2022-01-06T19:38:40.676Z"
   },
   {
    "duration": 5,
    "start_time": "2022-01-06T19:38:40.716Z"
   },
   {
    "duration": 8,
    "start_time": "2022-01-06T19:38:40.725Z"
   },
   {
    "duration": 7,
    "start_time": "2022-01-06T19:38:40.735Z"
   },
   {
    "duration": 7,
    "start_time": "2022-01-06T19:38:40.745Z"
   },
   {
    "duration": 15,
    "start_time": "2022-01-06T19:38:40.755Z"
   },
   {
    "duration": 54,
    "start_time": "2022-01-06T19:38:40.772Z"
   },
   {
    "duration": 14,
    "start_time": "2022-01-06T19:38:40.829Z"
   },
   {
    "duration": 7,
    "start_time": "2022-01-06T19:38:40.846Z"
   },
   {
    "duration": 10,
    "start_time": "2022-01-06T19:38:40.856Z"
   },
   {
    "duration": 59,
    "start_time": "2022-01-06T19:38:40.869Z"
   },
   {
    "duration": 29,
    "start_time": "2022-01-06T19:38:40.931Z"
   },
   {
    "duration": 11,
    "start_time": "2022-01-06T19:38:40.963Z"
   },
   {
    "duration": 41,
    "start_time": "2022-01-06T19:38:40.977Z"
   },
   {
    "duration": 872,
    "start_time": "2022-01-06T19:38:41.021Z"
   },
   {
    "duration": 27,
    "start_time": "2022-01-06T19:38:41.896Z"
   },
   {
    "duration": 718,
    "start_time": "2022-01-06T19:38:41.934Z"
   },
   {
    "duration": 459,
    "start_time": "2022-01-06T19:38:42.658Z"
   },
   {
    "duration": 500,
    "start_time": "2022-01-06T19:38:43.119Z"
   },
   {
    "duration": 519,
    "start_time": "2022-01-06T19:38:43.622Z"
   },
   {
    "duration": 682,
    "start_time": "2022-01-06T19:38:44.143Z"
   },
   {
    "duration": 705,
    "start_time": "2022-01-06T19:38:44.828Z"
   },
   {
    "duration": 17,
    "start_time": "2022-01-06T19:38:45.536Z"
   },
   {
    "duration": 8,
    "start_time": "2022-01-06T19:38:45.556Z"
   },
   {
    "duration": 507,
    "start_time": "2022-01-06T19:38:45.566Z"
   },
   {
    "duration": 456,
    "start_time": "2022-01-06T19:38:46.076Z"
   },
   {
    "duration": 618,
    "start_time": "2022-01-06T19:38:46.534Z"
   },
   {
    "duration": 15,
    "start_time": "2022-01-06T19:38:47.154Z"
   },
   {
    "duration": 404,
    "start_time": "2022-01-06T19:38:47.172Z"
   },
   {
    "duration": 12,
    "start_time": "2022-01-06T19:38:47.578Z"
   },
   {
    "duration": 26,
    "start_time": "2022-01-06T19:38:47.592Z"
   },
   {
    "duration": 424,
    "start_time": "2022-01-06T19:38:47.621Z"
   },
   {
    "duration": 383,
    "start_time": "2022-01-06T19:38:48.047Z"
   },
   {
    "duration": 530,
    "start_time": "2022-01-06T19:38:48.433Z"
   },
   {
    "duration": 505,
    "start_time": "2022-01-06T19:38:48.967Z"
   },
   {
    "duration": 569,
    "start_time": "2022-01-06T19:38:49.475Z"
   },
   {
    "duration": 10,
    "start_time": "2022-01-06T19:38:50.047Z"
   },
   {
    "duration": 465,
    "start_time": "2022-01-06T19:38:50.061Z"
   },
   {
    "duration": 442,
    "start_time": "2022-01-06T19:38:50.530Z"
   },
   {
    "duration": 11,
    "start_time": "2022-01-06T19:38:50.975Z"
   },
   {
    "duration": 493,
    "start_time": "2022-01-06T19:38:50.990Z"
   },
   {
    "duration": 409,
    "start_time": "2022-01-06T19:38:51.487Z"
   },
   {
    "duration": 454,
    "start_time": "2022-01-06T19:38:51.898Z"
   },
   {
    "duration": 14,
    "start_time": "2022-01-06T19:38:52.355Z"
   },
   {
    "duration": 392,
    "start_time": "2022-01-06T19:38:52.372Z"
   },
   {
    "duration": 435,
    "start_time": "2022-01-06T19:38:52.766Z"
   },
   {
    "duration": 16,
    "start_time": "2022-01-06T19:38:53.204Z"
   },
   {
    "duration": 13,
    "start_time": "2022-01-06T19:38:53.223Z"
   },
   {
    "duration": 20,
    "start_time": "2022-01-06T19:38:53.238Z"
   },
   {
    "duration": 68,
    "start_time": "2022-01-06T19:38:53.260Z"
   },
   {
    "duration": 13,
    "start_time": "2022-01-06T19:38:53.331Z"
   },
   {
    "duration": 27,
    "start_time": "2022-01-06T19:38:53.347Z"
   },
   {
    "duration": 53,
    "start_time": "2022-01-06T19:38:53.377Z"
   },
   {
    "duration": 25,
    "start_time": "2022-01-06T19:38:53.433Z"
   },
   {
    "duration": 16,
    "start_time": "2022-01-06T19:38:53.461Z"
   },
   {
    "duration": 64,
    "start_time": "2022-01-06T19:38:53.479Z"
   },
   {
    "duration": 15,
    "start_time": "2022-01-06T19:38:53.545Z"
   },
   {
    "duration": 16,
    "start_time": "2022-01-06T19:38:53.562Z"
   },
   {
    "duration": 50,
    "start_time": "2022-01-06T19:38:53.581Z"
   },
   {
    "duration": 507,
    "start_time": "2022-01-06T19:38:53.635Z"
   },
   {
    "duration": 505,
    "start_time": "2022-01-06T19:38:54.146Z"
   },
   {
    "duration": 362,
    "start_time": "2022-01-06T19:38:54.659Z"
   },
   {
    "duration": 10,
    "start_time": "2022-01-06T19:38:55.024Z"
   },
   {
    "duration": 8,
    "start_time": "2022-01-06T19:38:55.037Z"
   },
   {
    "duration": 12,
    "start_time": "2022-01-06T19:38:55.048Z"
   },
   {
    "duration": 12,
    "start_time": "2022-01-06T19:38:55.062Z"
   },
   {
    "duration": 3,
    "start_time": "2022-01-06T19:43:57.336Z"
   },
   {
    "duration": 12,
    "start_time": "2022-01-06T19:44:17.928Z"
   },
   {
    "duration": 90,
    "start_time": "2022-01-06T19:54:18.167Z"
   },
   {
    "duration": 12,
    "start_time": "2022-01-06T19:54:28.947Z"
   },
   {
    "duration": 1100,
    "start_time": "2022-01-07T08:51:21.905Z"
   },
   {
    "duration": 37,
    "start_time": "2022-01-07T08:51:23.007Z"
   },
   {
    "duration": 14,
    "start_time": "2022-01-07T08:51:23.046Z"
   },
   {
    "duration": 21,
    "start_time": "2022-01-07T08:51:23.061Z"
   },
   {
    "duration": 24,
    "start_time": "2022-01-07T08:51:23.084Z"
   },
   {
    "duration": 3,
    "start_time": "2022-01-07T08:51:23.109Z"
   },
   {
    "duration": 16,
    "start_time": "2022-01-07T08:51:23.113Z"
   },
   {
    "duration": 12,
    "start_time": "2022-01-07T08:51:23.131Z"
   },
   {
    "duration": 3,
    "start_time": "2022-01-07T08:51:23.145Z"
   },
   {
    "duration": 6,
    "start_time": "2022-01-07T08:51:23.149Z"
   },
   {
    "duration": 6,
    "start_time": "2022-01-07T08:51:23.157Z"
   },
   {
    "duration": 11,
    "start_time": "2022-01-07T08:51:23.164Z"
   },
   {
    "duration": 7,
    "start_time": "2022-01-07T08:51:23.176Z"
   },
   {
    "duration": 8,
    "start_time": "2022-01-07T08:51:23.184Z"
   },
   {
    "duration": 5,
    "start_time": "2022-01-07T08:51:23.194Z"
   },
   {
    "duration": 11,
    "start_time": "2022-01-07T08:51:23.200Z"
   },
   {
    "duration": 31,
    "start_time": "2022-01-07T08:51:23.213Z"
   },
   {
    "duration": 13,
    "start_time": "2022-01-07T08:51:23.246Z"
   },
   {
    "duration": 6,
    "start_time": "2022-01-07T08:51:23.261Z"
   },
   {
    "duration": 6,
    "start_time": "2022-01-07T08:51:23.268Z"
   },
   {
    "duration": 340,
    "start_time": "2022-01-07T08:51:23.275Z"
   },
   {
    "duration": 8,
    "start_time": "2022-01-07T08:51:23.617Z"
   },
   {
    "duration": 279,
    "start_time": "2022-01-07T08:51:23.641Z"
   },
   {
    "duration": 262,
    "start_time": "2022-01-07T08:51:23.922Z"
   },
   {
    "duration": 271,
    "start_time": "2022-01-07T08:51:24.186Z"
   },
   {
    "duration": 265,
    "start_time": "2022-01-07T08:51:24.458Z"
   },
   {
    "duration": 263,
    "start_time": "2022-01-07T08:51:24.725Z"
   },
   {
    "duration": 308,
    "start_time": "2022-01-07T08:51:24.990Z"
   },
   {
    "duration": 10,
    "start_time": "2022-01-07T08:51:25.299Z"
   },
   {
    "duration": 3,
    "start_time": "2022-01-07T08:51:25.310Z"
   },
   {
    "duration": 272,
    "start_time": "2022-01-07T08:51:25.315Z"
   },
   {
    "duration": 214,
    "start_time": "2022-01-07T08:51:25.589Z"
   },
   {
    "duration": 8,
    "start_time": "2022-01-07T08:51:25.804Z"
   },
   {
    "duration": 4,
    "start_time": "2022-01-07T08:51:25.814Z"
   },
   {
    "duration": 322,
    "start_time": "2022-01-07T08:51:25.819Z"
   },
   {
    "duration": 292,
    "start_time": "2022-01-07T08:51:26.142Z"
   },
   {
    "duration": 213,
    "start_time": "2022-01-07T08:51:26.440Z"
   },
   {
    "duration": 3,
    "start_time": "2022-01-07T08:51:26.654Z"
   },
   {
    "duration": 296,
    "start_time": "2022-01-07T08:51:26.658Z"
   },
   {
    "duration": 8,
    "start_time": "2022-01-07T08:51:26.956Z"
   },
   {
    "duration": 210,
    "start_time": "2022-01-07T08:51:26.966Z"
   },
   {
    "duration": 244,
    "start_time": "2022-01-07T08:51:27.178Z"
   },
   {
    "duration": 7,
    "start_time": "2022-01-07T08:51:27.424Z"
   },
   {
    "duration": 219,
    "start_time": "2022-01-07T08:51:27.432Z"
   },
   {
    "duration": 298,
    "start_time": "2022-01-07T08:51:27.653Z"
   },
   {
    "duration": 269,
    "start_time": "2022-01-07T08:51:27.953Z"
   },
   {
    "duration": 6,
    "start_time": "2022-01-07T08:51:28.224Z"
   },
   {
    "duration": 281,
    "start_time": "2022-01-07T08:51:28.241Z"
   },
   {
    "duration": 283,
    "start_time": "2022-01-07T08:51:28.524Z"
   },
   {
    "duration": 7,
    "start_time": "2022-01-07T08:51:28.809Z"
   },
   {
    "duration": 24,
    "start_time": "2022-01-07T08:51:28.817Z"
   },
   {
    "duration": 11,
    "start_time": "2022-01-07T08:51:28.842Z"
   },
   {
    "duration": 14,
    "start_time": "2022-01-07T08:51:28.855Z"
   },
   {
    "duration": 19,
    "start_time": "2022-01-07T08:51:28.870Z"
   },
   {
    "duration": 33,
    "start_time": "2022-01-07T08:51:28.890Z"
   },
   {
    "duration": 7,
    "start_time": "2022-01-07T08:51:28.925Z"
   },
   {
    "duration": 25,
    "start_time": "2022-01-07T08:51:28.933Z"
   },
   {
    "duration": 7,
    "start_time": "2022-01-07T08:51:28.959Z"
   },
   {
    "duration": 38,
    "start_time": "2022-01-07T08:51:28.967Z"
   },
   {
    "duration": 28,
    "start_time": "2022-01-07T08:51:29.007Z"
   },
   {
    "duration": 14,
    "start_time": "2022-01-07T08:51:29.036Z"
   },
   {
    "duration": 26,
    "start_time": "2022-01-07T08:51:29.051Z"
   },
   {
    "duration": 187,
    "start_time": "2022-01-07T08:51:29.078Z"
   },
   {
    "duration": 192,
    "start_time": "2022-01-07T08:51:29.266Z"
   },
   {
    "duration": 202,
    "start_time": "2022-01-07T08:51:29.460Z"
   },
   {
    "duration": 7,
    "start_time": "2022-01-07T08:51:29.664Z"
   },
   {
    "duration": 8,
    "start_time": "2022-01-07T08:51:29.672Z"
   },
   {
    "duration": 6,
    "start_time": "2022-01-07T08:51:29.684Z"
   },
   {
    "duration": 5,
    "start_time": "2022-01-07T08:51:29.691Z"
   },
   {
    "duration": 186,
    "start_time": "2022-01-07T08:53:42.804Z"
   },
   {
    "duration": 207,
    "start_time": "2022-01-07T08:55:02.306Z"
   },
   {
    "duration": 9,
    "start_time": "2022-01-07T08:56:25.313Z"
   },
   {
    "duration": 180,
    "start_time": "2022-01-07T09:06:10.252Z"
   },
   {
    "duration": 180,
    "start_time": "2022-01-07T09:06:52.927Z"
   },
   {
    "duration": 1066,
    "start_time": "2022-01-07T09:15:26.617Z"
   },
   {
    "duration": 36,
    "start_time": "2022-01-07T09:15:27.684Z"
   },
   {
    "duration": 14,
    "start_time": "2022-01-07T09:15:27.722Z"
   },
   {
    "duration": 10,
    "start_time": "2022-01-07T09:15:27.737Z"
   },
   {
    "duration": 25,
    "start_time": "2022-01-07T09:15:27.749Z"
   },
   {
    "duration": 2,
    "start_time": "2022-01-07T09:15:27.776Z"
   },
   {
    "duration": 9,
    "start_time": "2022-01-07T09:15:27.780Z"
   },
   {
    "duration": 4,
    "start_time": "2022-01-07T09:15:27.791Z"
   },
   {
    "duration": 4,
    "start_time": "2022-01-07T09:15:27.796Z"
   },
   {
    "duration": 6,
    "start_time": "2022-01-07T09:15:27.801Z"
   },
   {
    "duration": 32,
    "start_time": "2022-01-07T09:15:27.809Z"
   },
   {
    "duration": 14,
    "start_time": "2022-01-07T09:15:27.842Z"
   },
   {
    "duration": 7,
    "start_time": "2022-01-07T09:15:27.857Z"
   },
   {
    "duration": 10,
    "start_time": "2022-01-07T09:15:27.866Z"
   },
   {
    "duration": 9,
    "start_time": "2022-01-07T09:15:27.877Z"
   },
   {
    "duration": 10,
    "start_time": "2022-01-07T09:15:27.887Z"
   },
   {
    "duration": 7,
    "start_time": "2022-01-07T09:15:27.898Z"
   },
   {
    "duration": 17,
    "start_time": "2022-01-07T09:15:27.906Z"
   },
   {
    "duration": 17,
    "start_time": "2022-01-07T09:15:27.925Z"
   },
   {
    "duration": 5,
    "start_time": "2022-01-07T09:15:27.943Z"
   },
   {
    "duration": 334,
    "start_time": "2022-01-07T09:15:27.950Z"
   },
   {
    "duration": 7,
    "start_time": "2022-01-07T09:15:28.286Z"
   },
   {
    "duration": 253,
    "start_time": "2022-01-07T09:15:28.296Z"
   },
   {
    "duration": 250,
    "start_time": "2022-01-07T09:15:28.552Z"
   },
   {
    "duration": 259,
    "start_time": "2022-01-07T09:15:28.803Z"
   },
   {
    "duration": 255,
    "start_time": "2022-01-07T09:15:29.063Z"
   },
   {
    "duration": 256,
    "start_time": "2022-01-07T09:15:29.319Z"
   },
   {
    "duration": 322,
    "start_time": "2022-01-07T09:15:29.577Z"
   },
   {
    "duration": 10,
    "start_time": "2022-01-07T09:15:29.900Z"
   },
   {
    "duration": 3,
    "start_time": "2022-01-07T09:15:29.912Z"
   },
   {
    "duration": 302,
    "start_time": "2022-01-07T09:15:29.916Z"
   },
   {
    "duration": 225,
    "start_time": "2022-01-07T09:15:30.226Z"
   },
   {
    "duration": 10,
    "start_time": "2022-01-07T09:15:30.453Z"
   },
   {
    "duration": 277,
    "start_time": "2022-01-07T09:15:30.464Z"
   },
   {
    "duration": 274,
    "start_time": "2022-01-07T09:15:30.743Z"
   },
   {
    "duration": 208,
    "start_time": "2022-01-07T09:15:31.019Z"
   },
   {
    "duration": 324,
    "start_time": "2022-01-07T09:15:31.228Z"
   },
   {
    "duration": 8,
    "start_time": "2022-01-07T09:15:31.554Z"
   },
   {
    "duration": 283,
    "start_time": "2022-01-07T09:15:31.564Z"
   },
   {
    "duration": 223,
    "start_time": "2022-01-07T09:15:31.849Z"
   },
   {
    "duration": 280,
    "start_time": "2022-01-07T09:15:32.073Z"
   },
   {
    "duration": 11,
    "start_time": "2022-01-07T09:15:32.355Z"
   },
   {
    "duration": 354,
    "start_time": "2022-01-07T09:15:32.368Z"
   },
   {
    "duration": 22,
    "start_time": "2022-01-07T09:15:32.724Z"
   },
   {
    "duration": 18,
    "start_time": "2022-01-07T09:15:32.748Z"
   },
   {
    "duration": 18,
    "start_time": "2022-01-07T09:15:32.768Z"
   },
   {
    "duration": 9,
    "start_time": "2022-01-07T09:15:32.788Z"
   },
   {
    "duration": 47,
    "start_time": "2022-01-07T09:15:32.799Z"
   },
   {
    "duration": 8,
    "start_time": "2022-01-07T09:15:32.847Z"
   },
   {
    "duration": 18,
    "start_time": "2022-01-07T09:15:32.857Z"
   },
   {
    "duration": 6,
    "start_time": "2022-01-07T09:15:32.877Z"
   },
   {
    "duration": 20,
    "start_time": "2022-01-07T09:15:32.885Z"
   },
   {
    "duration": 35,
    "start_time": "2022-01-07T09:15:32.907Z"
   },
   {
    "duration": 11,
    "start_time": "2022-01-07T09:15:32.944Z"
   },
   {
    "duration": 10,
    "start_time": "2022-01-07T09:15:32.959Z"
   },
   {
    "duration": 195,
    "start_time": "2022-01-07T09:15:32.971Z"
   },
   {
    "duration": 299,
    "start_time": "2022-01-07T09:15:33.167Z"
   },
   {
    "duration": 301,
    "start_time": "2022-01-07T09:15:33.468Z"
   },
   {
    "duration": 8,
    "start_time": "2022-01-07T09:15:33.771Z"
   },
   {
    "duration": 7,
    "start_time": "2022-01-07T09:15:33.781Z"
   },
   {
    "duration": 8,
    "start_time": "2022-01-07T09:15:33.790Z"
   },
   {
    "duration": 7,
    "start_time": "2022-01-07T09:15:33.799Z"
   }
  ],
  "kernelspec": {
   "display_name": "Python 3",
   "language": "python",
   "name": "python3"
  },
  "language_info": {
   "codemirror_mode": {
    "name": "ipython",
    "version": 3
   },
   "file_extension": ".py",
   "mimetype": "text/x-python",
   "name": "python",
   "nbconvert_exporter": "python",
   "pygments_lexer": "ipython3",
   "version": "3.8.8"
  },
  "toc": {
   "base_numbering": 1,
   "nav_menu": {},
   "number_sections": true,
   "sideBar": true,
   "skip_h1_title": true,
   "title_cell": "Table of Contents",
   "title_sidebar": "Contents",
   "toc_cell": false,
   "toc_position": {},
   "toc_section_display": true,
   "toc_window_display": false
  }
 },
 "nbformat": 4,
 "nbformat_minor": 2
}
