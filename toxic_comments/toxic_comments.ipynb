{
 "cells": [
  {
   "cell_type": "markdown",
   "metadata": {
    "toc": true
   },
   "source": [
    "<h1>Содержание<span class=\"tocSkip\"></span></h1>\n",
    "<div class=\"toc\"><ul class=\"toc-item\"><li><ul class=\"toc-item\"><li><span></font></a></span></li></ul></li><li><span><a href=\"#Подготовка\" data-toc-modified-id=\"Подготовка-1\"><span class=\"toc-item-num\">1&nbsp;&nbsp;</span>Подготовка</a></span></li><li><span><a href=\"#Обучение\" data-toc-modified-id=\"Обучение-2\"><span class=\"toc-item-num\">2&nbsp;&nbsp;</span>Обучение</a></span></li><li><span><a href=\"#Выводы\" data-toc-modified-id=\"Выводы-3\"><span class=\"toc-item-num\">3&nbsp;&nbsp;</span>Выводы</a></span></li><li><span><a href=\"#Чек-лист-проверки\" data-toc-modified-id=\"Чек-лист-проверки-4\"><span class=\"toc-item-num\">4&nbsp;&nbsp;</span>Чек-лист проверки</a></span></li></ul></div>"
   ]
  },
  {
   "cell_type": "markdown",
   "metadata": {},
   "source": [
    "# Проект для «Викишоп»"
   ]
  },
  {
   "cell_type": "markdown",
   "metadata": {},
   "source": [
    "## Подготовка"
   ]
  },
  {
   "cell_type": "code",
   "execution_count": 1,
   "metadata": {},
   "outputs": [],
   "source": [
    "import pandas as pd\n",
    "#import torch\n",
    "from sklearn.feature_extraction.text import CountVectorizer, TfidfVectorizer, TfidfTransformer\n",
    "#import transformers\n",
    "#from tqdm import notebook\n",
    "import re\n",
    "from sklearn.linear_model import LogisticRegression\n",
    "from lightgbm import LGBMClassifier\n",
    "import spacy\n",
    "import numpy\n",
    "import nltk \n",
    "from catboost import CatBoostClassifier\n",
    "from sklearn.model_selection import cross_val_score\n",
    "from sklearn.model_selection import train_test_split, GridSearchCV\n",
    "from sklearn.metrics import f1_score\n",
    "from sklearn.pipeline import Pipeline\n"
   ]
  },
  {
   "cell_type": "code",
   "execution_count": 2,
   "metadata": {},
   "outputs": [],
   "source": [
    "from nltk.stem.wordnet import WordNetLemmatizer\n",
    "#from pywsd.utils import lemmatize_sentence\n",
    "from nltk.tokenize import word_tokenize\n",
    "from nltk.corpus import stopwords\n",
    "#from gensim.utils import lemmatize"
   ]
  },
  {
   "cell_type": "code",
   "execution_count": 3,
   "metadata": {},
   "outputs": [],
   "source": [
    "df = pd.read_csv('/datasets/toxic_comments.csv')"
   ]
  },
  {
   "cell_type": "code",
   "execution_count": 4,
   "metadata": {
    "scrolled": false
   },
   "outputs": [
    {
     "data": {
      "text/html": [
       "<div>\n",
       "<style scoped>\n",
       "    .dataframe tbody tr th:only-of-type {\n",
       "        vertical-align: middle;\n",
       "    }\n",
       "\n",
       "    .dataframe tbody tr th {\n",
       "        vertical-align: top;\n",
       "    }\n",
       "\n",
       "    .dataframe thead th {\n",
       "        text-align: right;\n",
       "    }\n",
       "</style>\n",
       "<table border=\"1\" class=\"dataframe\">\n",
       "  <thead>\n",
       "    <tr style=\"text-align: right;\">\n",
       "      <th></th>\n",
       "      <th>text</th>\n",
       "      <th>toxic</th>\n",
       "    </tr>\n",
       "  </thead>\n",
       "  <tbody>\n",
       "    <tr>\n",
       "      <th>0</th>\n",
       "      <td>Explanation\\nWhy the edits made under my usern...</td>\n",
       "      <td>0</td>\n",
       "    </tr>\n",
       "    <tr>\n",
       "      <th>1</th>\n",
       "      <td>D'aww! He matches this background colour I'm s...</td>\n",
       "      <td>0</td>\n",
       "    </tr>\n",
       "    <tr>\n",
       "      <th>2</th>\n",
       "      <td>Hey man, I'm really not trying to edit war. It...</td>\n",
       "      <td>0</td>\n",
       "    </tr>\n",
       "    <tr>\n",
       "      <th>3</th>\n",
       "      <td>\"\\nMore\\nI can't make any real suggestions on ...</td>\n",
       "      <td>0</td>\n",
       "    </tr>\n",
       "    <tr>\n",
       "      <th>4</th>\n",
       "      <td>You, sir, are my hero. Any chance you remember...</td>\n",
       "      <td>0</td>\n",
       "    </tr>\n",
       "  </tbody>\n",
       "</table>\n",
       "</div>"
      ],
      "text/plain": [
       "                                                text  toxic\n",
       "0  Explanation\\nWhy the edits made under my usern...      0\n",
       "1  D'aww! He matches this background colour I'm s...      0\n",
       "2  Hey man, I'm really not trying to edit war. It...      0\n",
       "3  \"\\nMore\\nI can't make any real suggestions on ...      0\n",
       "4  You, sir, are my hero. Any chance you remember...      0"
      ]
     },
     "execution_count": 4,
     "metadata": {},
     "output_type": "execute_result"
    }
   ],
   "source": [
    "df.head()"
   ]
  },
  {
   "cell_type": "code",
   "execution_count": 5,
   "metadata": {},
   "outputs": [
    {
     "name": "stdout",
     "output_type": "stream",
     "text": [
      "<class 'pandas.core.frame.DataFrame'>\n",
      "RangeIndex: 159571 entries, 0 to 159570\n",
      "Data columns (total 2 columns):\n",
      " #   Column  Non-Null Count   Dtype \n",
      "---  ------  --------------   ----- \n",
      " 0   text    159571 non-null  object\n",
      " 1   toxic   159571 non-null  int64 \n",
      "dtypes: int64(1), object(1)\n",
      "memory usage: 2.4+ MB\n"
     ]
    }
   ],
   "source": [
    "df.info()"
   ]
  },
  {
   "cell_type": "code",
   "execution_count": 6,
   "metadata": {
    "scrolled": true
   },
   "outputs": [],
   "source": [
    "df1=df.sample(70000) #выборка слишком большая"
   ]
  },
  {
   "cell_type": "code",
   "execution_count": 7,
   "metadata": {},
   "outputs": [],
   "source": [
    "df1['text'] = df1['text'].str.lower() # к нижнему регистру\n"
   ]
  },
  {
   "cell_type": "code",
   "execution_count": 9,
   "metadata": {},
   "outputs": [],
   "source": [
    "#очистка текста с помощью регулярных выражений\n",
    "text_new = []\n",
    "for i in df1.text:\n",
    "    clear = re.sub(r'[^a-zA-Z0-9]', ' ', i)\n",
    "    text_new.append(' '.join(clear.split()))"
   ]
  },
  {
   "cell_type": "code",
   "execution_count": 10,
   "metadata": {},
   "outputs": [],
   "source": [
    "df1['text_clear'] = text_new"
   ]
  },
  {
   "cell_type": "code",
   "execution_count": 11,
   "metadata": {
    "scrolled": true
   },
   "outputs": [
    {
     "data": {
      "text/html": [
       "<div>\n",
       "<style scoped>\n",
       "    .dataframe tbody tr th:only-of-type {\n",
       "        vertical-align: middle;\n",
       "    }\n",
       "\n",
       "    .dataframe tbody tr th {\n",
       "        vertical-align: top;\n",
       "    }\n",
       "\n",
       "    .dataframe thead th {\n",
       "        text-align: right;\n",
       "    }\n",
       "</style>\n",
       "<table border=\"1\" class=\"dataframe\">\n",
       "  <thead>\n",
       "    <tr style=\"text-align: right;\">\n",
       "      <th></th>\n",
       "      <th>text</th>\n",
       "      <th>toxic</th>\n",
       "      <th>text_clear</th>\n",
       "    </tr>\n",
       "  </thead>\n",
       "  <tbody>\n",
       "    <tr>\n",
       "      <th>144924</th>\n",
       "      <td>wrong. if the leader disconnects, then the per...</td>\n",
       "      <td>0</td>\n",
       "      <td>wrong if the leader disconnects then the perso...</td>\n",
       "    </tr>\n",
       "    <tr>\n",
       "      <th>121204</th>\n",
       "      <td>no tell the real name. i cant think of it. is ...</td>\n",
       "      <td>1</td>\n",
       "      <td>no tell the real name i cant think of it is th...</td>\n",
       "    </tr>\n",
       "    <tr>\n",
       "      <th>22638</th>\n",
       "      <td>are there many books on latham yet?</td>\n",
       "      <td>0</td>\n",
       "      <td>are there many books on latham yet</td>\n",
       "    </tr>\n",
       "    <tr>\n",
       "      <th>109535</th>\n",
       "      <td>\"\\n\\nfuck off. wp:mosislam mentions \"\"pbuh\"\" a...</td>\n",
       "      <td>1</td>\n",
       "      <td>fuck off wp mosislam mentions pbuh and as not ...</td>\n",
       "    </tr>\n",
       "    <tr>\n",
       "      <th>63527</th>\n",
       "      <td>\"===pathetic settler===\\n\\nthat's what you see...</td>\n",
       "      <td>1</td>\n",
       "      <td>pathetic settler that s what you seem to be i ...</td>\n",
       "    </tr>\n",
       "  </tbody>\n",
       "</table>\n",
       "</div>"
      ],
      "text/plain": [
       "                                                     text  toxic  \\\n",
       "144924  wrong. if the leader disconnects, then the per...      0   \n",
       "121204  no tell the real name. i cant think of it. is ...      1   \n",
       "22638                 are there many books on latham yet?      0   \n",
       "109535  \"\\n\\nfuck off. wp:mosislam mentions \"\"pbuh\"\" a...      1   \n",
       "63527   \"===pathetic settler===\\n\\nthat's what you see...      1   \n",
       "\n",
       "                                               text_clear  \n",
       "144924  wrong if the leader disconnects then the perso...  \n",
       "121204  no tell the real name i cant think of it is th...  \n",
       "22638                  are there many books on latham yet  \n",
       "109535  fuck off wp mosislam mentions pbuh and as not ...  \n",
       "63527   pathetic settler that s what you seem to be i ...  "
      ]
     },
     "execution_count": 11,
     "metadata": {},
     "output_type": "execute_result"
    }
   ],
   "source": [
    "df1.head()"
   ]
  },
  {
   "cell_type": "code",
   "execution_count": 12,
   "metadata": {},
   "outputs": [],
   "source": [
    "stop_words = set(stopwords.words('english'))"
   ]
  },
  {
   "cell_type": "code",
   "execution_count": 13,
   "metadata": {},
   "outputs": [],
   "source": [
    "def lemmatize_text(df):\n",
    "    ''' функция выполняет токенизациию и лемматизацию массива текстов '''\n",
    "    L = WordNetLemmatizer()\n",
    "    df_new = []\n",
    "    for sentence in df:\n",
    "        df_new.append(' '.join([L.lemmatize(w) for w in nltk.word_tokenize(sentence) if not w in stopwords.words('english')]))\n",
    "    return df_new"
   ]
  },
  {
   "cell_type": "code",
   "execution_count": 14,
   "metadata": {},
   "outputs": [],
   "source": [
    "df1['lemma'] = lemmatize_text(df1['text_clear'])"
   ]
  },
  {
   "cell_type": "code",
   "execution_count": 15,
   "metadata": {},
   "outputs": [
    {
     "data": {
      "text/html": [
       "<div>\n",
       "<style scoped>\n",
       "    .dataframe tbody tr th:only-of-type {\n",
       "        vertical-align: middle;\n",
       "    }\n",
       "\n",
       "    .dataframe tbody tr th {\n",
       "        vertical-align: top;\n",
       "    }\n",
       "\n",
       "    .dataframe thead th {\n",
       "        text-align: right;\n",
       "    }\n",
       "</style>\n",
       "<table border=\"1\" class=\"dataframe\">\n",
       "  <thead>\n",
       "    <tr style=\"text-align: right;\">\n",
       "      <th></th>\n",
       "      <th>text</th>\n",
       "      <th>toxic</th>\n",
       "      <th>text_clear</th>\n",
       "      <th>lemma</th>\n",
       "    </tr>\n",
       "  </thead>\n",
       "  <tbody>\n",
       "    <tr>\n",
       "      <th>144924</th>\n",
       "      <td>wrong. if the leader disconnects, then the per...</td>\n",
       "      <td>0</td>\n",
       "      <td>wrong if the leader disconnects then the perso...</td>\n",
       "      <td>wrong leader disconnect person joined first le...</td>\n",
       "    </tr>\n",
       "    <tr>\n",
       "      <th>121204</th>\n",
       "      <td>no tell the real name. i cant think of it. is ...</td>\n",
       "      <td>1</td>\n",
       "      <td>no tell the real name i cant think of it is th...</td>\n",
       "      <td>tell real name cant think name mental disorder...</td>\n",
       "    </tr>\n",
       "    <tr>\n",
       "      <th>22638</th>\n",
       "      <td>are there many books on latham yet?</td>\n",
       "      <td>0</td>\n",
       "      <td>are there many books on latham yet</td>\n",
       "      <td>many book latham yet</td>\n",
       "    </tr>\n",
       "    <tr>\n",
       "      <th>109535</th>\n",
       "      <td>\"\\n\\nfuck off. wp:mosislam mentions \"\"pbuh\"\" a...</td>\n",
       "      <td>1</td>\n",
       "      <td>fuck off wp mosislam mentions pbuh and as not ...</td>\n",
       "      <td>fuck wp mosislam mention pbuh title idiot king...</td>\n",
       "    </tr>\n",
       "    <tr>\n",
       "      <th>63527</th>\n",
       "      <td>\"===pathetic settler===\\n\\nthat's what you see...</td>\n",
       "      <td>1</td>\n",
       "      <td>pathetic settler that s what you seem to be i ...</td>\n",
       "      <td>pathetic settler seem glad silly as upset feel...</td>\n",
       "    </tr>\n",
       "  </tbody>\n",
       "</table>\n",
       "</div>"
      ],
      "text/plain": [
       "                                                     text  toxic  \\\n",
       "144924  wrong. if the leader disconnects, then the per...      0   \n",
       "121204  no tell the real name. i cant think of it. is ...      1   \n",
       "22638                 are there many books on latham yet?      0   \n",
       "109535  \"\\n\\nfuck off. wp:mosislam mentions \"\"pbuh\"\" a...      1   \n",
       "63527   \"===pathetic settler===\\n\\nthat's what you see...      1   \n",
       "\n",
       "                                               text_clear  \\\n",
       "144924  wrong if the leader disconnects then the perso...   \n",
       "121204  no tell the real name i cant think of it is th...   \n",
       "22638                  are there many books on latham yet   \n",
       "109535  fuck off wp mosislam mentions pbuh and as not ...   \n",
       "63527   pathetic settler that s what you seem to be i ...   \n",
       "\n",
       "                                                    lemma  \n",
       "144924  wrong leader disconnect person joined first le...  \n",
       "121204  tell real name cant think name mental disorder...  \n",
       "22638                                many book latham yet  \n",
       "109535  fuck wp mosislam mention pbuh title idiot king...  \n",
       "63527   pathetic settler seem glad silly as upset feel...  "
      ]
     },
     "execution_count": 15,
     "metadata": {},
     "output_type": "execute_result"
    }
   ],
   "source": [
    "df1.head()"
   ]
  },
  {
   "cell_type": "code",
   "execution_count": 17,
   "metadata": {},
   "outputs": [],
   "source": [
    "features_train, features_test, target_train, target_test = train_test_split(df1['lemma'], df1['toxic'],\n",
    "                                                                            test_size=0.3, random_state=12345)"
   ]
  },
  {
   "cell_type": "code",
   "execution_count": 18,
   "metadata": {},
   "outputs": [
    {
     "name": "stdout",
     "output_type": "stream",
     "text": [
      "(49000,) (21000,) (49000,) (21000,)\n"
     ]
    }
   ],
   "source": [
    "print(features_train.shape, features_test.shape, target_train.shape, target_test.shape)"
   ]
  },
  {
   "cell_type": "code",
   "execution_count": 20,
   "metadata": {},
   "outputs": [],
   "source": [
    "tf_idf = TfidfVectorizer(stop_words = stop_words)\n",
    "tf_idf_train = tf_idf.fit_transform(features_train)"
   ]
  },
  {
   "cell_type": "code",
   "execution_count": 21,
   "metadata": {},
   "outputs": [],
   "source": [
    "tf_idf_test = tf_idf.transform(features_test)"
   ]
  },
  {
   "cell_type": "markdown",
   "metadata": {},
   "source": [
    "**Выводы:**\n",
    "* данные загружены\n",
    "* для уменьшения времени обработки решено уменьшить выборку\n",
    "* данные очищены, токенизированы и лемматизированы\n",
    "* поделены на обучающую и тестовую выборки\n",
    "* текст векторизирован"
   ]
  },
  {
   "cell_type": "markdown",
   "metadata": {},
   "source": [
    "## Обучение"
   ]
  },
  {
   "cell_type": "code",
   "execution_count": 23,
   "metadata": {},
   "outputs": [
    {
     "name": "stdout",
     "output_type": "stream",
     "text": [
      "0.7566480446927373\n"
     ]
    }
   ],
   "source": [
    "model = LogisticRegression(C=6, class_weight='balanced', solver = 'lbfgs', max_iter = 1000)\n",
    "model.fit(tf_idf_train, target_train)\n",
    "prediction = model.predict(tf_idf_test)\n",
    "f1_lr = f1_score(target_test, prediction)\n",
    "\n",
    "print(f1_lr)"
   ]
  },
  {
   "cell_type": "code",
   "execution_count": 24,
   "metadata": {},
   "outputs": [],
   "source": [
    "pipe_lr = Pipeline([('vect', CountVectorizer()),\n",
    "                   ('tfidf', TfidfTransformer()),\n",
    "                ('lgb', LGBMClassifier(random_state=12345))])\n"
   ]
  },
  {
   "cell_type": "code",
   "execution_count": 25,
   "metadata": {},
   "outputs": [],
   "source": [
    "param = {'lgb__max_depth': range (-1, 0, 10), 'lgb__n_estimators': range (100, 500, 1000), 'lgb__class_weight':['balanced'],\n",
    "         'lgb__learning_rate':[0.1, 1]}"
   ]
  },
  {
   "cell_type": "code",
   "execution_count": 26,
   "metadata": {},
   "outputs": [],
   "source": [
    "LG = GridSearchCV(estimator=pipe_lr,\n",
    "            param_grid=param,\n",
    "            scoring='f1',\n",
    "            cv=3) "
   ]
  },
  {
   "cell_type": "code",
   "execution_count": 27,
   "metadata": {},
   "outputs": [],
   "source": [
    "X_train, X_test, Y_train, Y_test = train_test_split(df1['lemma'], df1['toxic'],\n",
    "                                                                            test_size=0.3, random_state=12345)"
   ]
  },
  {
   "cell_type": "code",
   "execution_count": 28,
   "metadata": {},
   "outputs": [
    {
     "name": "stdout",
     "output_type": "stream",
     "text": [
      "CPU times: user 14min 56s, sys: 5.84 s, total: 15min 2s\n",
      "Wall time: 15min 11s\n"
     ]
    }
   ],
   "source": [
    "%%time\n",
    "LG.fit(X_train, Y_train)\n",
    "predict = LG.predict(X_test)\n"
   ]
  },
  {
   "cell_type": "code",
   "execution_count": 29,
   "metadata": {},
   "outputs": [
    {
     "data": {
      "text/plain": [
       "0.7276846527394888"
      ]
     },
     "execution_count": 29,
     "metadata": {},
     "output_type": "execute_result"
    }
   ],
   "source": [
    "LG.best_score_"
   ]
  },
  {
   "cell_type": "code",
   "execution_count": 30,
   "metadata": {
    "scrolled": true
   },
   "outputs": [
    {
     "name": "stdout",
     "output_type": "stream",
     "text": [
      "0.7421572840567255\n"
     ]
    }
   ],
   "source": [
    "f1_lgm = f1_score(Y_test, predict)\n",
    "print(f1_lgm)"
   ]
  },
  {
   "cell_type": "markdown",
   "metadata": {},
   "source": [
    "## Выводы"
   ]
  },
  {
   "cell_type": "markdown",
   "metadata": {},
   "source": [
    "* данные загружены\n",
    "* для уменьшения времени обработки решено уменьшить выборку\n",
    "* данные очищены, токенизированы и лемматизированы\n",
    "* поделены на обучающую и тестовую выборки\n",
    "* текст векторизирован\n",
    "* обучены модели\n",
    "* наилучшее значение у модели LogisticRegression"
   ]
  }
 ],
 "metadata": {
  "ExecuteTimeLog": [
   {
    "duration": 1090,
    "start_time": "2022-04-22T11:34:49.438Z"
   },
   {
    "duration": 86,
    "start_time": "2022-04-22T11:35:13.114Z"
   },
   {
    "duration": 774,
    "start_time": "2022-04-22T11:35:22.907Z"
   },
   {
    "duration": 13,
    "start_time": "2022-04-22T11:35:51.120Z"
   },
   {
    "duration": 480,
    "start_time": "2022-04-22T11:44:31.426Z"
   },
   {
    "duration": 773,
    "start_time": "2022-04-22T11:58:27.405Z"
   },
   {
    "duration": 55,
    "start_time": "2022-04-22T12:00:30.849Z"
   },
   {
    "duration": 16,
    "start_time": "2022-04-22T12:00:37.148Z"
   },
   {
    "duration": 17,
    "start_time": "2022-04-22T12:01:06.239Z"
   },
   {
    "duration": 132069,
    "start_time": "2022-04-22T12:02:19.911Z"
   },
   {
    "duration": 18,
    "start_time": "2022-04-22T12:08:38.926Z"
   },
   {
    "duration": 3,
    "start_time": "2022-04-22T12:09:07.726Z"
   },
   {
    "duration": 4,
    "start_time": "2022-04-22T12:09:12.589Z"
   },
   {
    "duration": 4452,
    "start_time": "2022-04-22T12:10:18.979Z"
   },
   {
    "duration": 3,
    "start_time": "2022-04-22T12:18:39.059Z"
   },
   {
    "duration": 3,
    "start_time": "2022-04-22T12:18:39.851Z"
   },
   {
    "duration": 32,
    "start_time": "2022-04-22T12:19:13.222Z"
   },
   {
    "duration": 2,
    "start_time": "2022-04-22T12:20:07.181Z"
   },
   {
    "duration": 4,
    "start_time": "2022-04-22T12:20:11.742Z"
   },
   {
    "duration": 3,
    "start_time": "2022-04-22T12:20:12.490Z"
   },
   {
    "duration": 29,
    "start_time": "2022-04-22T12:20:19.829Z"
   },
   {
    "duration": 30,
    "start_time": "2022-04-22T12:22:25.044Z"
   },
   {
    "duration": 2422,
    "start_time": "2022-04-22T12:22:36.678Z"
   },
   {
    "duration": 814,
    "start_time": "2022-04-22T12:22:39.102Z"
   },
   {
    "duration": 13,
    "start_time": "2022-04-22T12:22:39.917Z"
   },
   {
    "duration": 2,
    "start_time": "2022-04-22T12:22:39.932Z"
   },
   {
    "duration": 4099,
    "start_time": "2022-04-22T12:22:39.935Z"
   },
   {
    "duration": 5,
    "start_time": "2022-04-22T12:22:44.036Z"
   },
   {
    "duration": 20,
    "start_time": "2022-04-22T12:22:44.048Z"
   },
   {
    "duration": 4,
    "start_time": "2022-04-22T12:22:44.069Z"
   },
   {
    "duration": 143,
    "start_time": "2022-04-22T12:22:44.075Z"
   },
   {
    "duration": 0,
    "start_time": "2022-04-22T12:22:44.220Z"
   },
   {
    "duration": 0,
    "start_time": "2022-04-22T12:22:44.222Z"
   },
   {
    "duration": 0,
    "start_time": "2022-04-22T12:22:44.223Z"
   },
   {
    "duration": 120,
    "start_time": "2022-04-22T12:27:16.060Z"
   },
   {
    "duration": 3,
    "start_time": "2022-04-22T12:27:24.494Z"
   },
   {
    "duration": 8600,
    "start_time": "2022-04-22T12:27:28.898Z"
   },
   {
    "duration": 16,
    "start_time": "2022-04-22T12:28:21.856Z"
   },
   {
    "duration": 3,
    "start_time": "2022-04-22T12:28:37.775Z"
   },
   {
    "duration": 3,
    "start_time": "2022-04-22T12:28:46.984Z"
   },
   {
    "duration": 2401,
    "start_time": "2022-04-22T12:56:22.541Z"
   },
   {
    "duration": 775,
    "start_time": "2022-04-22T12:56:24.944Z"
   },
   {
    "duration": 12,
    "start_time": "2022-04-22T12:56:25.721Z"
   },
   {
    "duration": 13,
    "start_time": "2022-04-22T12:56:25.735Z"
   },
   {
    "duration": 4063,
    "start_time": "2022-04-22T12:56:25.750Z"
   },
   {
    "duration": 5,
    "start_time": "2022-04-22T12:56:29.815Z"
   },
   {
    "duration": 4,
    "start_time": "2022-04-22T12:56:29.822Z"
   },
   {
    "duration": 20,
    "start_time": "2022-04-22T12:56:29.828Z"
   },
   {
    "duration": 2413,
    "start_time": "2022-04-24T10:09:41.071Z"
   },
   {
    "duration": 790,
    "start_time": "2022-04-24T10:09:43.486Z"
   },
   {
    "duration": 14,
    "start_time": "2022-04-24T10:09:44.277Z"
   },
   {
    "duration": 4,
    "start_time": "2022-04-24T10:09:44.293Z"
   },
   {
    "duration": 4263,
    "start_time": "2022-04-24T10:09:44.298Z"
   },
   {
    "duration": 5,
    "start_time": "2022-04-24T10:09:48.562Z"
   },
   {
    "duration": 7,
    "start_time": "2022-04-24T10:09:48.572Z"
   },
   {
    "duration": 6,
    "start_time": "2022-04-24T10:09:48.581Z"
   },
   {
    "duration": 5602,
    "start_time": "2022-04-24T10:09:48.588Z"
   },
   {
    "duration": 139473,
    "start_time": "2022-04-26T10:04:42.415Z"
   },
   {
    "duration": 3784,
    "start_time": "2022-04-26T10:07:01.890Z"
   },
   {
    "duration": 13,
    "start_time": "2022-04-26T10:07:05.675Z"
   },
   {
    "duration": 4,
    "start_time": "2022-04-26T10:07:05.690Z"
   },
   {
    "duration": 3871,
    "start_time": "2022-04-26T10:07:05.695Z"
   },
   {
    "duration": 12,
    "start_time": "2022-04-26T10:07:09.568Z"
   },
   {
    "duration": 6,
    "start_time": "2022-04-26T10:07:09.582Z"
   },
   {
    "duration": 5,
    "start_time": "2022-04-26T10:07:09.590Z"
   },
   {
    "duration": 5712,
    "start_time": "2022-04-26T10:07:09.597Z"
   },
   {
    "duration": 311,
    "start_time": "2022-04-26T10:07:15.312Z"
   },
   {
    "duration": 0,
    "start_time": "2022-04-26T10:07:15.625Z"
   },
   {
    "duration": 0,
    "start_time": "2022-04-26T10:07:15.629Z"
   },
   {
    "duration": 0,
    "start_time": "2022-04-26T10:07:15.630Z"
   },
   {
    "duration": 0,
    "start_time": "2022-04-26T10:07:15.632Z"
   },
   {
    "duration": 0,
    "start_time": "2022-04-26T10:07:15.634Z"
   },
   {
    "duration": 706,
    "start_time": "2022-04-26T10:07:19.535Z"
   },
   {
    "duration": 29,
    "start_time": "2022-04-26T10:08:13.618Z"
   },
   {
    "duration": 14,
    "start_time": "2022-04-26T10:09:56.273Z"
   },
   {
    "duration": 3,
    "start_time": "2022-04-26T10:10:03.247Z"
   },
   {
    "duration": 25,
    "start_time": "2022-04-26T10:21:37.286Z"
   },
   {
    "duration": 19,
    "start_time": "2022-04-26T10:21:52.435Z"
   },
   {
    "duration": 204,
    "start_time": "2022-04-26T10:21:59.449Z"
   },
   {
    "duration": 128837,
    "start_time": "2022-04-26T10:37:52.475Z"
   },
   {
    "duration": 700,
    "start_time": "2022-04-26T10:40:01.314Z"
   },
   {
    "duration": 4030,
    "start_time": "2022-04-26T10:40:02.017Z"
   },
   {
    "duration": 0,
    "start_time": "2022-04-26T10:40:06.050Z"
   },
   {
    "duration": 1,
    "start_time": "2022-04-26T10:40:06.051Z"
   },
   {
    "duration": 0,
    "start_time": "2022-04-26T10:40:06.053Z"
   },
   {
    "duration": 1,
    "start_time": "2022-04-26T10:40:06.054Z"
   },
   {
    "duration": 0,
    "start_time": "2022-04-26T10:40:06.055Z"
   },
   {
    "duration": 0,
    "start_time": "2022-04-26T10:40:06.056Z"
   },
   {
    "duration": 0,
    "start_time": "2022-04-26T10:40:06.057Z"
   },
   {
    "duration": 0,
    "start_time": "2022-04-26T10:40:06.058Z"
   },
   {
    "duration": 0,
    "start_time": "2022-04-26T10:40:06.059Z"
   },
   {
    "duration": 0,
    "start_time": "2022-04-26T10:40:06.060Z"
   },
   {
    "duration": 0,
    "start_time": "2022-04-26T10:40:06.061Z"
   },
   {
    "duration": 0,
    "start_time": "2022-04-26T10:40:06.062Z"
   },
   {
    "duration": 0,
    "start_time": "2022-04-26T10:40:06.063Z"
   },
   {
    "duration": 0,
    "start_time": "2022-04-26T10:40:06.064Z"
   },
   {
    "duration": 0,
    "start_time": "2022-04-26T10:40:06.065Z"
   },
   {
    "duration": 0,
    "start_time": "2022-04-26T10:40:06.066Z"
   },
   {
    "duration": 3347,
    "start_time": "2022-04-26T10:41:03.830Z"
   },
   {
    "duration": 3105,
    "start_time": "2022-04-26T10:41:20.310Z"
   },
   {
    "duration": 3122,
    "start_time": "2022-04-26T10:41:33.286Z"
   },
   {
    "duration": 3243,
    "start_time": "2022-04-26T10:42:55.302Z"
   },
   {
    "duration": 25,
    "start_time": "2022-04-26T10:44:59.361Z"
   },
   {
    "duration": 16,
    "start_time": "2022-04-26T10:45:02.179Z"
   },
   {
    "duration": 130470,
    "start_time": "2022-04-26T10:45:26.423Z"
   },
   {
    "duration": 680,
    "start_time": "2022-04-26T10:47:36.895Z"
   },
   {
    "duration": 27,
    "start_time": "2022-04-26T10:47:37.576Z"
   },
   {
    "duration": 314,
    "start_time": "2022-04-26T10:47:37.604Z"
   },
   {
    "duration": 0,
    "start_time": "2022-04-26T10:47:37.920Z"
   },
   {
    "duration": 0,
    "start_time": "2022-04-26T10:47:37.921Z"
   },
   {
    "duration": 0,
    "start_time": "2022-04-26T10:47:37.924Z"
   },
   {
    "duration": 0,
    "start_time": "2022-04-26T10:47:37.925Z"
   },
   {
    "duration": 0,
    "start_time": "2022-04-26T10:47:37.927Z"
   },
   {
    "duration": 0,
    "start_time": "2022-04-26T10:47:37.929Z"
   },
   {
    "duration": 0,
    "start_time": "2022-04-26T10:47:37.930Z"
   },
   {
    "duration": 0,
    "start_time": "2022-04-26T10:47:37.931Z"
   },
   {
    "duration": 0,
    "start_time": "2022-04-26T10:47:37.933Z"
   },
   {
    "duration": 0,
    "start_time": "2022-04-26T10:47:37.934Z"
   },
   {
    "duration": 0,
    "start_time": "2022-04-26T10:47:37.936Z"
   },
   {
    "duration": 0,
    "start_time": "2022-04-26T10:47:37.936Z"
   },
   {
    "duration": 0,
    "start_time": "2022-04-26T10:47:37.937Z"
   },
   {
    "duration": 0,
    "start_time": "2022-04-26T10:47:37.938Z"
   },
   {
    "duration": 0,
    "start_time": "2022-04-26T10:47:37.939Z"
   },
   {
    "duration": 16,
    "start_time": "2022-04-26T10:49:19.631Z"
   },
   {
    "duration": 13,
    "start_time": "2022-04-26T10:49:29.634Z"
   },
   {
    "duration": 25,
    "start_time": "2022-04-26T10:49:49.097Z"
   },
   {
    "duration": 31,
    "start_time": "2022-04-26T10:50:02.868Z"
   },
   {
    "duration": 17,
    "start_time": "2022-04-26T10:53:54.533Z"
   },
   {
    "duration": 15,
    "start_time": "2022-04-26T10:54:17.952Z"
   },
   {
    "duration": 2553,
    "start_time": "2022-04-26T10:55:23.167Z"
   },
   {
    "duration": 130053,
    "start_time": "2022-04-26T10:55:43.074Z"
   },
   {
    "duration": 656,
    "start_time": "2022-04-26T10:57:53.129Z"
   },
   {
    "duration": 2441,
    "start_time": "2022-04-26T10:57:53.786Z"
   },
   {
    "duration": 0,
    "start_time": "2022-04-26T10:57:56.229Z"
   },
   {
    "duration": 0,
    "start_time": "2022-04-26T10:57:56.230Z"
   },
   {
    "duration": 0,
    "start_time": "2022-04-26T10:57:56.231Z"
   },
   {
    "duration": 0,
    "start_time": "2022-04-26T10:57:56.232Z"
   },
   {
    "duration": 0,
    "start_time": "2022-04-26T10:57:56.233Z"
   },
   {
    "duration": 0,
    "start_time": "2022-04-26T10:57:56.233Z"
   },
   {
    "duration": 0,
    "start_time": "2022-04-26T10:57:56.235Z"
   },
   {
    "duration": 0,
    "start_time": "2022-04-26T10:57:56.235Z"
   },
   {
    "duration": 0,
    "start_time": "2022-04-26T10:57:56.236Z"
   },
   {
    "duration": 0,
    "start_time": "2022-04-26T10:57:56.237Z"
   },
   {
    "duration": 0,
    "start_time": "2022-04-26T10:57:56.238Z"
   },
   {
    "duration": 0,
    "start_time": "2022-04-26T10:57:56.239Z"
   },
   {
    "duration": 0,
    "start_time": "2022-04-26T10:57:56.240Z"
   },
   {
    "duration": 0,
    "start_time": "2022-04-26T10:57:56.241Z"
   },
   {
    "duration": 0,
    "start_time": "2022-04-26T10:57:56.242Z"
   },
   {
    "duration": 0,
    "start_time": "2022-04-26T10:57:56.243Z"
   },
   {
    "duration": 0,
    "start_time": "2022-04-26T10:57:56.244Z"
   },
   {
    "duration": 19,
    "start_time": "2022-04-26T10:58:18.779Z"
   },
   {
    "duration": 3,
    "start_time": "2022-04-26T10:59:54.220Z"
   },
   {
    "duration": 2,
    "start_time": "2022-04-26T10:59:56.893Z"
   },
   {
    "duration": 12,
    "start_time": "2022-04-26T10:59:58.396Z"
   },
   {
    "duration": 21,
    "start_time": "2022-04-26T11:00:01.050Z"
   },
   {
    "duration": 102,
    "start_time": "2022-04-26T11:00:06.564Z"
   },
   {
    "duration": 1807,
    "start_time": "2022-04-26T11:00:08.039Z"
   },
   {
    "duration": 3,
    "start_time": "2022-04-26T11:00:16.224Z"
   },
   {
    "duration": 2,
    "start_time": "2022-04-26T11:00:18.148Z"
   },
   {
    "duration": 3025,
    "start_time": "2022-04-26T11:00:35.361Z"
   },
   {
    "duration": 3,
    "start_time": "2022-04-26T11:00:41.435Z"
   },
   {
    "duration": 656,
    "start_time": "2022-04-26T11:00:52.168Z"
   },
   {
    "duration": 2,
    "start_time": "2022-04-26T11:01:06.485Z"
   },
   {
    "duration": 2452459,
    "start_time": "2022-04-26T11:01:21.895Z"
   },
   {
    "duration": 1452,
    "start_time": "2022-04-26T11:44:00.470Z"
   },
   {
    "duration": 429,
    "start_time": "2022-04-26T11:44:28.451Z"
   },
   {
    "duration": 30,
    "start_time": "2022-04-26T11:44:29.386Z"
   },
   {
    "duration": 434,
    "start_time": "2022-04-26T11:47:10.598Z"
   },
   {
    "duration": 19,
    "start_time": "2022-04-26T11:47:11.854Z"
   },
   {
    "duration": 421,
    "start_time": "2022-04-26T11:47:47.571Z"
   },
   {
    "duration": 67,
    "start_time": "2022-04-26T11:49:01.641Z"
   },
   {
    "duration": 6,
    "start_time": "2022-04-26T11:49:05.775Z"
   },
   {
    "duration": 127866,
    "start_time": "2022-04-26T11:49:22.969Z"
   },
   {
    "duration": 3518,
    "start_time": "2022-04-26T11:51:30.837Z"
   },
   {
    "duration": 3,
    "start_time": "2022-04-26T11:51:34.356Z"
   },
   {
    "duration": 6,
    "start_time": "2022-04-26T11:51:34.361Z"
   },
   {
    "duration": 18,
    "start_time": "2022-04-26T11:51:34.368Z"
   },
   {
    "duration": 44,
    "start_time": "2022-04-26T11:51:34.388Z"
   },
   {
    "duration": 165,
    "start_time": "2022-04-26T11:51:34.433Z"
   },
   {
    "duration": 2251,
    "start_time": "2022-04-26T11:51:34.600Z"
   },
   {
    "duration": 8,
    "start_time": "2022-04-26T11:51:36.853Z"
   },
   {
    "duration": 14,
    "start_time": "2022-04-26T11:51:36.863Z"
   },
   {
    "duration": 19,
    "start_time": "2022-04-26T11:51:36.879Z"
   },
   {
    "duration": 4508,
    "start_time": "2022-04-26T11:51:36.900Z"
   },
   {
    "duration": 13,
    "start_time": "2022-04-26T11:51:41.411Z"
   },
   {
    "duration": 965,
    "start_time": "2022-04-26T11:51:41.425Z"
   },
   {
    "duration": 48,
    "start_time": "2022-04-26T11:55:01.800Z"
   },
   {
    "duration": 130213,
    "start_time": "2022-04-26T11:55:47.599Z"
   },
   {
    "duration": 3395,
    "start_time": "2022-04-26T11:57:57.815Z"
   },
   {
    "duration": 3,
    "start_time": "2022-04-26T11:58:01.212Z"
   },
   {
    "duration": 7,
    "start_time": "2022-04-26T11:58:01.217Z"
   },
   {
    "duration": 24,
    "start_time": "2022-04-26T11:58:01.226Z"
   },
   {
    "duration": 23,
    "start_time": "2022-04-26T11:58:01.252Z"
   },
   {
    "duration": 111,
    "start_time": "2022-04-26T11:58:01.277Z"
   },
   {
    "duration": 1191,
    "start_time": "2022-04-26T11:58:01.389Z"
   },
   {
    "duration": 5,
    "start_time": "2022-04-26T11:58:02.582Z"
   },
   {
    "duration": 4,
    "start_time": "2022-04-26T11:58:02.590Z"
   },
   {
    "duration": 9,
    "start_time": "2022-04-26T11:58:02.596Z"
   },
   {
    "duration": 2871,
    "start_time": "2022-04-26T11:58:02.608Z"
   },
   {
    "duration": 7,
    "start_time": "2022-04-26T11:58:05.482Z"
   },
   {
    "duration": 635,
    "start_time": "2022-04-26T11:58:05.491Z"
   },
   {
    "duration": 61,
    "start_time": "2022-04-26T11:59:23.299Z"
   },
   {
    "duration": 131868,
    "start_time": "2022-04-26T12:00:35.554Z"
   },
   {
    "duration": 3446,
    "start_time": "2022-04-26T12:02:47.424Z"
   },
   {
    "duration": 3,
    "start_time": "2022-04-26T12:02:50.872Z"
   },
   {
    "duration": 7,
    "start_time": "2022-04-26T12:02:50.877Z"
   },
   {
    "duration": 16,
    "start_time": "2022-04-26T12:02:50.885Z"
   },
   {
    "duration": 30,
    "start_time": "2022-04-26T12:02:50.903Z"
   },
   {
    "duration": 109,
    "start_time": "2022-04-26T12:02:50.935Z"
   },
   {
    "duration": 1339,
    "start_time": "2022-04-26T12:02:51.046Z"
   },
   {
    "duration": 5,
    "start_time": "2022-04-26T12:02:52.387Z"
   },
   {
    "duration": 6,
    "start_time": "2022-04-26T12:02:52.394Z"
   },
   {
    "duration": 8,
    "start_time": "2022-04-26T12:02:52.402Z"
   },
   {
    "duration": 1909,
    "start_time": "2022-04-26T12:02:52.423Z"
   },
   {
    "duration": 5,
    "start_time": "2022-04-26T12:02:54.334Z"
   },
   {
    "duration": 5,
    "start_time": "2022-04-26T12:02:54.340Z"
   },
   {
    "duration": 5,
    "start_time": "2022-04-26T12:02:54.346Z"
   },
   {
    "duration": 305,
    "start_time": "2022-04-26T12:02:54.352Z"
   },
   {
    "duration": 0,
    "start_time": "2022-04-26T12:02:54.659Z"
   },
   {
    "duration": 0,
    "start_time": "2022-04-26T12:02:54.660Z"
   },
   {
    "duration": 0,
    "start_time": "2022-04-26T12:02:54.662Z"
   },
   {
    "duration": 0,
    "start_time": "2022-04-26T12:02:54.663Z"
   },
   {
    "duration": 0,
    "start_time": "2022-04-26T12:02:54.665Z"
   },
   {
    "duration": 265613,
    "start_time": "2022-04-28T15:38:58.714Z"
   },
   {
    "duration": 10022,
    "start_time": "2022-04-28T15:46:35.472Z"
   },
   {
    "duration": 332,
    "start_time": "2022-04-28T15:47:14.243Z"
   },
   {
    "duration": 706,
    "start_time": "2022-04-28T15:47:30.607Z"
   },
   {
    "duration": 15,
    "start_time": "2022-04-28T15:47:31.980Z"
   },
   {
    "duration": 30,
    "start_time": "2022-04-28T15:47:33.073Z"
   },
   {
    "duration": 7,
    "start_time": "2022-04-28T15:47:37.655Z"
   },
   {
    "duration": 129,
    "start_time": "2022-04-28T15:47:46.919Z"
   },
   {
    "duration": 3,
    "start_time": "2022-04-28T15:48:12.210Z"
   },
   {
    "duration": 3,
    "start_time": "2022-04-28T15:48:16.209Z"
   },
   {
    "duration": 193,
    "start_time": "2022-04-28T15:48:19.159Z"
   },
   {
    "duration": 4,
    "start_time": "2022-04-28T15:48:20.292Z"
   },
   {
    "duration": 1132,
    "start_time": "2022-04-28T15:48:42.907Z"
   },
   {
    "duration": 307,
    "start_time": "2022-04-28T16:11:43.930Z"
   },
   {
    "duration": 4,
    "start_time": "2022-04-28T16:11:50.208Z"
   },
   {
    "duration": 7,
    "start_time": "2022-04-28T16:12:03.213Z"
   },
   {
    "duration": 7,
    "start_time": "2022-04-28T16:12:09.869Z"
   },
   {
    "duration": 21232,
    "start_time": "2022-04-29T09:47:58.558Z"
   },
   {
    "duration": 126874,
    "start_time": "2022-04-29T09:48:49.334Z"
   },
   {
    "duration": 769,
    "start_time": "2022-04-29T09:51:15.938Z"
   },
   {
    "duration": 14,
    "start_time": "2022-04-29T09:51:18.474Z"
   },
   {
    "duration": 36,
    "start_time": "2022-04-29T09:51:19.480Z"
   },
   {
    "duration": 11,
    "start_time": "2022-04-29T09:51:33.607Z"
   },
   {
    "duration": 142,
    "start_time": "2022-04-29T09:51:35.845Z"
   },
   {
    "duration": 3,
    "start_time": "2022-04-29T09:51:38.861Z"
   },
   {
    "duration": 3,
    "start_time": "2022-04-29T09:51:39.552Z"
   },
   {
    "duration": 3,
    "start_time": "2022-04-29T09:51:41.859Z"
   },
   {
    "duration": 4,
    "start_time": "2022-04-29T09:51:47.904Z"
   },
   {
    "duration": 3,
    "start_time": "2022-04-29T09:52:51.918Z"
   },
   {
    "duration": 106,
    "start_time": "2022-04-29T09:52:56.539Z"
   },
   {
    "duration": 343,
    "start_time": "2022-04-29T09:54:45.481Z"
   },
   {
    "duration": 3,
    "start_time": "2022-04-29T09:54:57.870Z"
   },
   {
    "duration": 3,
    "start_time": "2022-04-29T09:54:58.816Z"
   },
   {
    "duration": 27,
    "start_time": "2022-04-29T09:55:37.854Z"
   },
   {
    "duration": 233,
    "start_time": "2022-04-29T10:00:57.687Z"
   },
   {
    "duration": 4,
    "start_time": "2022-04-29T10:01:18.585Z"
   },
   {
    "duration": 3,
    "start_time": "2022-04-29T10:03:45.202Z"
   },
   {
    "duration": 18,
    "start_time": "2022-04-29T10:04:54.519Z"
   },
   {
    "duration": 9,
    "start_time": "2022-04-29T10:05:55.661Z"
   },
   {
    "duration": 132,
    "start_time": "2022-04-29T10:06:39.689Z"
   },
   {
    "duration": 151,
    "start_time": "2022-04-29T10:06:55.626Z"
   },
   {
    "duration": 127354,
    "start_time": "2022-04-29T10:07:46.637Z"
   },
   {
    "duration": 754,
    "start_time": "2022-04-29T10:09:53.993Z"
   },
   {
    "duration": 15,
    "start_time": "2022-04-29T10:09:54.749Z"
   },
   {
    "duration": 39,
    "start_time": "2022-04-29T10:09:54.773Z"
   },
   {
    "duration": 9,
    "start_time": "2022-04-29T10:09:54.814Z"
   },
   {
    "duration": 383,
    "start_time": "2022-04-29T10:09:54.825Z"
   },
   {
    "duration": 3,
    "start_time": "2022-04-29T10:09:55.211Z"
   },
   {
    "duration": 17,
    "start_time": "2022-04-29T10:09:55.216Z"
   },
   {
    "duration": 255,
    "start_time": "2022-04-29T10:09:55.235Z"
   },
   {
    "duration": 4,
    "start_time": "2022-04-29T10:09:55.493Z"
   },
   {
    "duration": 317,
    "start_time": "2022-04-29T10:09:55.498Z"
   },
   {
    "duration": 0,
    "start_time": "2022-04-29T10:09:55.816Z"
   },
   {
    "duration": 0,
    "start_time": "2022-04-29T10:09:55.818Z"
   },
   {
    "duration": 0,
    "start_time": "2022-04-29T10:09:55.819Z"
   },
   {
    "duration": 0,
    "start_time": "2022-04-29T10:09:55.820Z"
   },
   {
    "duration": 0,
    "start_time": "2022-04-29T10:09:55.821Z"
   },
   {
    "duration": 0,
    "start_time": "2022-04-29T10:09:55.822Z"
   },
   {
    "duration": 0,
    "start_time": "2022-04-29T10:09:55.823Z"
   },
   {
    "duration": 0,
    "start_time": "2022-04-29T10:09:55.824Z"
   },
   {
    "duration": 0,
    "start_time": "2022-04-29T10:09:55.826Z"
   },
   {
    "duration": 163,
    "start_time": "2022-04-29T10:10:09.409Z"
   },
   {
    "duration": 6764,
    "start_time": "2022-04-29T10:12:49.270Z"
   },
   {
    "duration": 4,
    "start_time": "2022-04-29T10:13:24.160Z"
   },
   {
    "duration": 19,
    "start_time": "2022-04-29T10:31:34.935Z"
   },
   {
    "duration": 124,
    "start_time": "2022-04-29T10:31:55.030Z"
   },
   {
    "duration": 0,
    "start_time": "2022-04-29T10:31:55.156Z"
   },
   {
    "duration": 0,
    "start_time": "2022-04-29T10:31:55.157Z"
   },
   {
    "duration": 0,
    "start_time": "2022-04-29T10:31:55.159Z"
   },
   {
    "duration": 0,
    "start_time": "2022-04-29T10:31:55.159Z"
   },
   {
    "duration": 0,
    "start_time": "2022-04-29T10:31:55.160Z"
   },
   {
    "duration": 0,
    "start_time": "2022-04-29T10:31:55.162Z"
   },
   {
    "duration": 0,
    "start_time": "2022-04-29T10:31:55.163Z"
   },
   {
    "duration": 0,
    "start_time": "2022-04-29T10:31:55.164Z"
   },
   {
    "duration": 0,
    "start_time": "2022-04-29T10:31:55.164Z"
   },
   {
    "duration": 0,
    "start_time": "2022-04-29T10:31:55.165Z"
   },
   {
    "duration": 0,
    "start_time": "2022-04-29T10:31:55.166Z"
   },
   {
    "duration": 0,
    "start_time": "2022-04-29T10:31:55.167Z"
   },
   {
    "duration": 0,
    "start_time": "2022-04-29T10:31:55.168Z"
   },
   {
    "duration": 0,
    "start_time": "2022-04-29T10:31:55.169Z"
   },
   {
    "duration": 0,
    "start_time": "2022-04-29T10:31:55.170Z"
   },
   {
    "duration": 167,
    "start_time": "2022-04-29T10:31:55.172Z"
   },
   {
    "duration": 7,
    "start_time": "2022-04-29T10:31:55.341Z"
   },
   {
    "duration": 0,
    "start_time": "2022-04-29T10:31:55.349Z"
   },
   {
    "duration": 0,
    "start_time": "2022-04-29T10:31:55.350Z"
   },
   {
    "duration": 0,
    "start_time": "2022-04-29T10:31:55.351Z"
   },
   {
    "duration": 128367,
    "start_time": "2022-04-29T10:32:18.456Z"
   },
   {
    "duration": 740,
    "start_time": "2022-04-29T10:34:44.164Z"
   },
   {
    "duration": 11,
    "start_time": "2022-04-29T10:34:50.452Z"
   },
   {
    "duration": 338,
    "start_time": "2022-04-29T10:34:51.862Z"
   },
   {
    "duration": 452,
    "start_time": "2022-04-29T10:34:54.266Z"
   },
   {
    "duration": 5630,
    "start_time": "2022-04-29T10:35:41.089Z"
   },
   {
    "duration": 9,
    "start_time": "2022-04-29T10:36:19.796Z"
   },
   {
    "duration": 3,
    "start_time": "2022-04-29T10:36:39.901Z"
   },
   {
    "duration": 5773,
    "start_time": "2022-04-29T10:39:28.915Z"
   },
   {
    "duration": 3,
    "start_time": "2022-04-29T10:39:36.849Z"
   },
   {
    "duration": 3,
    "start_time": "2022-04-29T10:39:53.696Z"
   },
   {
    "duration": 4,
    "start_time": "2022-04-29T10:39:58.047Z"
   },
   {
    "duration": 5480,
    "start_time": "2022-04-29T10:40:12.263Z"
   },
   {
    "duration": 4,
    "start_time": "2022-04-29T10:40:19.254Z"
   },
   {
    "duration": 237,
    "start_time": "2022-04-29T10:54:00.838Z"
   },
   {
    "duration": 5,
    "start_time": "2022-04-29T10:54:19.534Z"
   },
   {
    "duration": 13,
    "start_time": "2022-04-29T10:54:30.650Z"
   },
   {
    "duration": 5373,
    "start_time": "2022-04-29T10:54:30.969Z"
   },
   {
    "duration": 2808,
    "start_time": "2022-04-29T10:54:47.553Z"
   },
   {
    "duration": 4,
    "start_time": "2022-04-29T10:54:54.900Z"
   },
   {
    "duration": 3,
    "start_time": "2022-04-29T10:57:01.925Z"
   },
   {
    "duration": 4,
    "start_time": "2022-04-29T10:57:03.766Z"
   },
   {
    "duration": 2964,
    "start_time": "2022-04-29T11:00:12.306Z"
   },
   {
    "duration": 20,
    "start_time": "2022-04-29T11:00:26.768Z"
   },
   {
    "duration": 25,
    "start_time": "2022-04-29T11:02:24.944Z"
   },
   {
    "duration": 22,
    "start_time": "2022-04-29T11:02:59.859Z"
   },
   {
    "duration": 23,
    "start_time": "2022-04-29T11:09:05.820Z"
   },
   {
    "duration": 25,
    "start_time": "2022-04-29T11:10:01.052Z"
   },
   {
    "duration": 35880,
    "start_time": "2022-04-29T11:17:29.404Z"
   },
   {
    "duration": 74,
    "start_time": "2022-04-29T11:19:58.453Z"
   },
   {
    "duration": 3,
    "start_time": "2022-04-29T11:22:06.542Z"
   },
   {
    "duration": 3152,
    "start_time": "2022-04-29T11:22:14.040Z"
   },
   {
    "duration": 15,
    "start_time": "2022-04-29T11:22:22.677Z"
   },
   {
    "duration": 4,
    "start_time": "2022-04-29T11:22:46.418Z"
   },
   {
    "duration": 124761,
    "start_time": "2022-04-29T11:23:02.873Z"
   },
   {
    "duration": 3,
    "start_time": "2022-04-29T11:25:07.636Z"
   },
   {
    "duration": 793,
    "start_time": "2022-04-29T11:25:07.641Z"
   },
   {
    "duration": 219,
    "start_time": "2022-04-29T11:25:08.436Z"
   },
   {
    "duration": 41,
    "start_time": "2022-04-29T11:25:08.657Z"
   },
   {
    "duration": 11,
    "start_time": "2022-04-29T11:25:08.700Z"
   },
   {
    "duration": 385,
    "start_time": "2022-04-29T11:25:08.713Z"
   },
   {
    "duration": 242,
    "start_time": "2022-04-29T11:25:09.100Z"
   },
   {
    "duration": 5,
    "start_time": "2022-04-29T11:25:09.344Z"
   },
   {
    "duration": 21,
    "start_time": "2022-04-29T11:25:09.353Z"
   },
   {
    "duration": 2826,
    "start_time": "2022-04-29T11:25:09.376Z"
   },
   {
    "duration": 12,
    "start_time": "2022-04-29T11:25:12.204Z"
   },
   {
    "duration": 3353,
    "start_time": "2022-04-29T11:25:12.218Z"
   },
   {
    "duration": 13,
    "start_time": "2022-04-29T11:25:15.573Z"
   },
   {
    "duration": 5,
    "start_time": "2022-04-29T11:25:15.588Z"
   },
   {
    "duration": 8,
    "start_time": "2022-04-29T11:25:15.595Z"
   },
   {
    "duration": 346,
    "start_time": "2022-04-29T11:25:15.605Z"
   },
   {
    "duration": 0,
    "start_time": "2022-04-29T11:25:15.953Z"
   },
   {
    "duration": 0,
    "start_time": "2022-04-29T11:25:15.954Z"
   },
   {
    "duration": 0,
    "start_time": "2022-04-29T11:25:15.956Z"
   },
   {
    "duration": 0,
    "start_time": "2022-04-29T11:25:15.957Z"
   },
   {
    "duration": 0,
    "start_time": "2022-04-29T11:25:15.958Z"
   },
   {
    "duration": 0,
    "start_time": "2022-04-29T11:25:15.959Z"
   },
   {
    "duration": 0,
    "start_time": "2022-04-29T11:25:15.973Z"
   },
   {
    "duration": 0,
    "start_time": "2022-04-29T11:25:15.975Z"
   },
   {
    "duration": 0,
    "start_time": "2022-04-29T11:25:15.976Z"
   },
   {
    "duration": 0,
    "start_time": "2022-04-29T11:25:15.977Z"
   },
   {
    "duration": 37,
    "start_time": "2022-04-29T11:27:54.450Z"
   },
   {
    "duration": 41,
    "start_time": "2022-04-29T11:28:21.986Z"
   },
   {
    "duration": 20,
    "start_time": "2022-04-29T11:31:45.937Z"
   },
   {
    "duration": 22,
    "start_time": "2022-04-29T11:32:04.435Z"
   },
   {
    "duration": 21,
    "start_time": "2022-04-29T11:35:38.955Z"
   },
   {
    "duration": 727,
    "start_time": "2022-04-29T11:36:08.466Z"
   },
   {
    "duration": 5,
    "start_time": "2022-04-29T11:36:26.111Z"
   },
   {
    "duration": 51,
    "start_time": "2022-04-29T11:38:27.620Z"
   },
   {
    "duration": 1814,
    "start_time": "2022-04-29T11:49:38.409Z"
   },
   {
    "duration": 13,
    "start_time": "2022-04-29T11:49:42.591Z"
   },
   {
    "duration": 122537,
    "start_time": "2022-04-29T11:50:07.785Z"
   },
   {
    "duration": 2,
    "start_time": "2022-04-29T11:52:10.324Z"
   },
   {
    "duration": 750,
    "start_time": "2022-04-29T11:52:10.328Z"
   },
   {
    "duration": 199,
    "start_time": "2022-04-29T11:52:11.080Z"
   },
   {
    "duration": 35,
    "start_time": "2022-04-29T11:52:11.281Z"
   },
   {
    "duration": 10,
    "start_time": "2022-04-29T11:52:11.317Z"
   },
   {
    "duration": 383,
    "start_time": "2022-04-29T11:52:11.329Z"
   },
   {
    "duration": 239,
    "start_time": "2022-04-29T11:52:11.714Z"
   },
   {
    "duration": 5,
    "start_time": "2022-04-29T11:52:11.954Z"
   },
   {
    "duration": 16,
    "start_time": "2022-04-29T11:52:11.962Z"
   },
   {
    "duration": 2546,
    "start_time": "2022-04-29T11:52:11.983Z"
   },
   {
    "duration": 12,
    "start_time": "2022-04-29T11:52:14.530Z"
   },
   {
    "duration": 3083,
    "start_time": "2022-04-29T11:52:14.544Z"
   },
   {
    "duration": 12,
    "start_time": "2022-04-29T11:52:17.628Z"
   },
   {
    "duration": 318,
    "start_time": "2022-04-29T11:52:17.641Z"
   },
   {
    "duration": 0,
    "start_time": "2022-04-29T11:52:17.961Z"
   },
   {
    "duration": 0,
    "start_time": "2022-04-29T11:52:17.962Z"
   },
   {
    "duration": 0,
    "start_time": "2022-04-29T11:52:17.964Z"
   },
   {
    "duration": 0,
    "start_time": "2022-04-29T11:52:17.973Z"
   },
   {
    "duration": 0,
    "start_time": "2022-04-29T11:52:17.974Z"
   },
   {
    "duration": 0,
    "start_time": "2022-04-29T11:52:17.975Z"
   },
   {
    "duration": 0,
    "start_time": "2022-04-29T11:52:17.976Z"
   },
   {
    "duration": 0,
    "start_time": "2022-04-29T11:52:17.978Z"
   },
   {
    "duration": 0,
    "start_time": "2022-04-29T11:52:17.979Z"
   },
   {
    "duration": 0,
    "start_time": "2022-04-29T11:52:17.980Z"
   },
   {
    "duration": 0,
    "start_time": "2022-04-29T11:52:17.981Z"
   },
   {
    "duration": 0,
    "start_time": "2022-04-29T11:52:17.982Z"
   },
   {
    "duration": 0,
    "start_time": "2022-04-29T11:52:17.983Z"
   },
   {
    "duration": 0,
    "start_time": "2022-04-29T11:52:17.985Z"
   },
   {
    "duration": 0,
    "start_time": "2022-04-29T11:52:17.986Z"
   },
   {
    "duration": 7,
    "start_time": "2022-04-29T11:54:16.809Z"
   },
   {
    "duration": 27,
    "start_time": "2022-04-29T11:54:19.213Z"
   },
   {
    "duration": 120749,
    "start_time": "2022-04-29T11:56:06.671Z"
   },
   {
    "duration": 2,
    "start_time": "2022-04-29T11:58:07.422Z"
   },
   {
    "duration": 746,
    "start_time": "2022-04-29T11:58:07.425Z"
   },
   {
    "duration": 195,
    "start_time": "2022-04-29T11:58:08.173Z"
   },
   {
    "duration": 38,
    "start_time": "2022-04-29T11:58:08.370Z"
   },
   {
    "duration": 13,
    "start_time": "2022-04-29T11:58:08.410Z"
   },
   {
    "duration": 359,
    "start_time": "2022-04-29T11:58:08.425Z"
   },
   {
    "duration": 248,
    "start_time": "2022-04-29T11:58:08.786Z"
   },
   {
    "duration": 5,
    "start_time": "2022-04-29T11:58:09.036Z"
   },
   {
    "duration": 9,
    "start_time": "2022-04-29T11:58:09.044Z"
   },
   {
    "duration": 4,
    "start_time": "2022-04-29T11:58:09.055Z"
   },
   {
    "duration": 8,
    "start_time": "2022-04-29T11:58:09.074Z"
   },
   {
    "duration": 10137,
    "start_time": "2022-04-29T11:58:09.084Z"
   },
   {
    "duration": 9,
    "start_time": "2022-04-29T11:58:19.223Z"
   },
   {
    "duration": 314,
    "start_time": "2022-04-29T11:58:19.233Z"
   },
   {
    "duration": 0,
    "start_time": "2022-04-29T11:58:19.548Z"
   },
   {
    "duration": 0,
    "start_time": "2022-04-29T11:58:19.549Z"
   },
   {
    "duration": 0,
    "start_time": "2022-04-29T11:58:19.550Z"
   },
   {
    "duration": 0,
    "start_time": "2022-04-29T11:58:19.551Z"
   },
   {
    "duration": 124766,
    "start_time": "2022-04-29T12:00:56.217Z"
   },
   {
    "duration": 3,
    "start_time": "2022-04-29T12:03:00.985Z"
   },
   {
    "duration": 772,
    "start_time": "2022-04-29T12:03:00.989Z"
   },
   {
    "duration": 220,
    "start_time": "2022-04-29T12:03:01.764Z"
   },
   {
    "duration": 56,
    "start_time": "2022-04-29T12:03:01.986Z"
   },
   {
    "duration": 11,
    "start_time": "2022-04-29T12:03:02.044Z"
   },
   {
    "duration": 335,
    "start_time": "2022-04-29T12:03:02.057Z"
   },
   {
    "duration": 242,
    "start_time": "2022-04-29T12:03:02.394Z"
   },
   {
    "duration": 5,
    "start_time": "2022-04-29T12:03:02.637Z"
   },
   {
    "duration": 17,
    "start_time": "2022-04-29T12:03:02.645Z"
   },
   {
    "duration": 14,
    "start_time": "2022-04-29T12:03:02.664Z"
   },
   {
    "duration": 15,
    "start_time": "2022-04-29T12:03:02.680Z"
   },
   {
    "duration": 1427,
    "start_time": "2022-04-29T12:03:02.696Z"
   },
   {
    "duration": 0,
    "start_time": "2022-04-29T12:03:04.125Z"
   },
   {
    "duration": 0,
    "start_time": "2022-04-29T12:03:04.126Z"
   },
   {
    "duration": 0,
    "start_time": "2022-04-29T12:03:04.127Z"
   },
   {
    "duration": 0,
    "start_time": "2022-04-29T12:03:04.128Z"
   },
   {
    "duration": 0,
    "start_time": "2022-04-29T12:03:04.129Z"
   },
   {
    "duration": 0,
    "start_time": "2022-04-29T12:03:04.130Z"
   },
   {
    "duration": 112958,
    "start_time": "2022-04-29T12:04:38.593Z"
   },
   {
    "duration": 3,
    "start_time": "2022-04-29T12:06:31.553Z"
   },
   {
    "duration": 1425,
    "start_time": "2022-04-29T12:06:31.557Z"
   },
   {
    "duration": 244,
    "start_time": "2022-04-29T12:06:32.986Z"
   },
   {
    "duration": 49,
    "start_time": "2022-04-29T12:06:33.232Z"
   },
   {
    "duration": 12,
    "start_time": "2022-04-29T12:06:33.284Z"
   },
   {
    "duration": 356,
    "start_time": "2022-04-29T12:06:33.298Z"
   },
   {
    "duration": 275,
    "start_time": "2022-04-29T12:06:33.656Z"
   },
   {
    "duration": 5,
    "start_time": "2022-04-29T12:06:33.933Z"
   },
   {
    "duration": 14,
    "start_time": "2022-04-29T12:06:33.940Z"
   },
   {
    "duration": 21,
    "start_time": "2022-04-29T12:06:33.956Z"
   },
   {
    "duration": 10,
    "start_time": "2022-04-29T12:06:33.979Z"
   },
   {
    "duration": 10954,
    "start_time": "2022-04-29T12:06:33.992Z"
   },
   {
    "duration": 12,
    "start_time": "2022-04-29T12:06:44.948Z"
   },
   {
    "duration": 360,
    "start_time": "2022-04-29T12:06:44.962Z"
   },
   {
    "duration": 0,
    "start_time": "2022-04-29T12:06:45.323Z"
   },
   {
    "duration": 0,
    "start_time": "2022-04-29T12:06:45.325Z"
   },
   {
    "duration": 0,
    "start_time": "2022-04-29T12:06:45.325Z"
   },
   {
    "duration": 0,
    "start_time": "2022-04-29T12:06:45.326Z"
   },
   {
    "duration": 119198,
    "start_time": "2022-04-29T12:12:53.632Z"
   },
   {
    "duration": 317,
    "start_time": "2022-04-29T12:14:52.832Z"
   },
   {
    "duration": 0,
    "start_time": "2022-04-29T12:14:53.151Z"
   },
   {
    "duration": 0,
    "start_time": "2022-04-29T12:14:53.152Z"
   },
   {
    "duration": 0,
    "start_time": "2022-04-29T12:14:53.153Z"
   },
   {
    "duration": 0,
    "start_time": "2022-04-29T12:14:53.154Z"
   },
   {
    "duration": 0,
    "start_time": "2022-04-29T12:14:53.155Z"
   },
   {
    "duration": 0,
    "start_time": "2022-04-29T12:14:53.156Z"
   },
   {
    "duration": 0,
    "start_time": "2022-04-29T12:14:53.173Z"
   },
   {
    "duration": 0,
    "start_time": "2022-04-29T12:14:53.174Z"
   },
   {
    "duration": 0,
    "start_time": "2022-04-29T12:14:53.176Z"
   },
   {
    "duration": 0,
    "start_time": "2022-04-29T12:14:53.177Z"
   },
   {
    "duration": 0,
    "start_time": "2022-04-29T12:14:53.178Z"
   },
   {
    "duration": 0,
    "start_time": "2022-04-29T12:14:53.178Z"
   },
   {
    "duration": 0,
    "start_time": "2022-04-29T12:14:53.179Z"
   },
   {
    "duration": 0,
    "start_time": "2022-04-29T12:14:53.181Z"
   },
   {
    "duration": 0,
    "start_time": "2022-04-29T12:14:53.182Z"
   },
   {
    "duration": 0,
    "start_time": "2022-04-29T12:14:53.183Z"
   },
   {
    "duration": 0,
    "start_time": "2022-04-29T12:14:53.184Z"
   },
   {
    "duration": 20,
    "start_time": "2022-04-29T12:22:00.141Z"
   },
   {
    "duration": 129995,
    "start_time": "2022-04-29T12:26:09.888Z"
   },
   {
    "duration": 3,
    "start_time": "2022-04-29T12:28:19.885Z"
   },
   {
    "duration": 792,
    "start_time": "2022-04-29T12:28:19.889Z"
   },
   {
    "duration": 217,
    "start_time": "2022-04-29T12:28:20.684Z"
   },
   {
    "duration": 39,
    "start_time": "2022-04-29T12:28:20.903Z"
   },
   {
    "duration": 17,
    "start_time": "2022-04-29T12:28:20.944Z"
   },
   {
    "duration": 388,
    "start_time": "2022-04-29T12:28:20.974Z"
   },
   {
    "duration": 246,
    "start_time": "2022-04-29T12:28:21.364Z"
   },
   {
    "duration": 5,
    "start_time": "2022-04-29T12:28:21.611Z"
   },
   {
    "duration": 12,
    "start_time": "2022-04-29T12:28:21.619Z"
   },
   {
    "duration": 5,
    "start_time": "2022-04-29T12:28:21.632Z"
   },
   {
    "duration": 14,
    "start_time": "2022-04-29T12:28:21.638Z"
   },
   {
    "duration": 176,
    "start_time": "2022-04-29T13:06:55.914Z"
   },
   {
    "duration": 125232,
    "start_time": "2022-04-29T13:07:05.765Z"
   },
   {
    "duration": 2,
    "start_time": "2022-04-29T13:09:11.000Z"
   },
   {
    "duration": 792,
    "start_time": "2022-04-29T13:09:11.004Z"
   },
   {
    "duration": 211,
    "start_time": "2022-04-29T13:09:11.798Z"
   },
   {
    "duration": 38,
    "start_time": "2022-04-29T13:09:12.011Z"
   },
   {
    "duration": 22,
    "start_time": "2022-04-29T13:09:12.051Z"
   },
   {
    "duration": 413,
    "start_time": "2022-04-29T13:09:12.075Z"
   },
   {
    "duration": 249,
    "start_time": "2022-04-29T13:09:12.490Z"
   },
   {
    "duration": 5,
    "start_time": "2022-04-29T13:09:12.741Z"
   },
   {
    "duration": 28,
    "start_time": "2022-04-29T13:09:12.749Z"
   },
   {
    "duration": 17,
    "start_time": "2022-04-29T13:09:12.779Z"
   },
   {
    "duration": 33,
    "start_time": "2022-04-29T13:09:12.797Z"
   },
   {
    "duration": 443,
    "start_time": "2022-04-29T13:09:12.832Z"
   },
   {
    "duration": 21,
    "start_time": "2022-04-29T13:09:13.277Z"
   },
   {
    "duration": 0,
    "start_time": "2022-04-29T13:09:13.300Z"
   },
   {
    "duration": 0,
    "start_time": "2022-04-29T13:09:13.301Z"
   },
   {
    "duration": 0,
    "start_time": "2022-04-29T13:09:13.302Z"
   },
   {
    "duration": 0,
    "start_time": "2022-04-29T13:09:13.303Z"
   },
   {
    "duration": 0,
    "start_time": "2022-04-29T13:09:13.304Z"
   },
   {
    "duration": 0,
    "start_time": "2022-04-29T13:09:13.305Z"
   },
   {
    "duration": 139523,
    "start_time": "2022-04-29T14:16:05.664Z"
   },
   {
    "duration": 3,
    "start_time": "2022-04-29T14:18:25.189Z"
   },
   {
    "duration": 760,
    "start_time": "2022-04-29T14:18:25.193Z"
   },
   {
    "duration": 202,
    "start_time": "2022-04-29T14:18:25.955Z"
   },
   {
    "duration": 48,
    "start_time": "2022-04-29T14:18:26.158Z"
   },
   {
    "duration": 9,
    "start_time": "2022-04-29T14:18:26.208Z"
   },
   {
    "duration": 360,
    "start_time": "2022-04-29T14:18:26.219Z"
   },
   {
    "duration": 239,
    "start_time": "2022-04-29T14:18:26.581Z"
   },
   {
    "duration": 5,
    "start_time": "2022-04-29T14:18:26.822Z"
   },
   {
    "duration": 14,
    "start_time": "2022-04-29T14:18:26.829Z"
   },
   {
    "duration": 5,
    "start_time": "2022-04-29T14:18:26.845Z"
   },
   {
    "duration": 22,
    "start_time": "2022-04-29T14:18:26.851Z"
   },
   {
    "duration": 107073,
    "start_time": "2022-04-29T16:48:23.600Z"
   },
   {
    "duration": 726,
    "start_time": "2022-04-29T16:51:33.549Z"
   },
   {
    "duration": 19,
    "start_time": "2022-04-29T16:52:16.592Z"
   },
   {
    "duration": 3,
    "start_time": "2022-04-29T16:56:52.525Z"
   },
   {
    "duration": 761,
    "start_time": "2022-04-29T16:56:53.924Z"
   },
   {
    "duration": 15,
    "start_time": "2022-04-29T16:56:54.687Z"
   },
   {
    "duration": 35,
    "start_time": "2022-04-29T16:56:55.328Z"
   },
   {
    "duration": 8,
    "start_time": "2022-04-29T16:56:58.571Z"
   },
   {
    "duration": 192,
    "start_time": "2022-04-29T16:57:00.225Z"
   },
   {
    "duration": 125,
    "start_time": "2022-04-29T16:57:02.445Z"
   },
   {
    "duration": 7,
    "start_time": "2022-04-29T16:57:07.332Z"
   },
   {
    "duration": 168269,
    "start_time": "2022-04-30T07:42:34.038Z"
   },
   {
    "duration": 2,
    "start_time": "2022-04-30T07:45:22.309Z"
   },
   {
    "duration": 770,
    "start_time": "2022-04-30T07:45:22.313Z"
   },
   {
    "duration": 167,
    "start_time": "2022-04-30T07:45:23.086Z"
   },
   {
    "duration": 32,
    "start_time": "2022-04-30T07:45:23.255Z"
   },
   {
    "duration": 9,
    "start_time": "2022-04-30T07:45:23.289Z"
   },
   {
    "duration": 187,
    "start_time": "2022-04-30T07:45:23.300Z"
   },
   {
    "duration": 127,
    "start_time": "2022-04-30T07:45:23.488Z"
   },
   {
    "duration": 5,
    "start_time": "2022-04-30T07:45:23.616Z"
   },
   {
    "duration": 17,
    "start_time": "2022-04-30T07:45:23.623Z"
   },
   {
    "duration": 5,
    "start_time": "2022-04-30T07:45:23.641Z"
   },
   {
    "duration": 5,
    "start_time": "2022-04-30T07:45:23.647Z"
   },
   {
    "duration": 10,
    "start_time": "2022-04-30T07:45:23.653Z"
   },
   {
    "duration": 5,
    "start_time": "2022-04-30T07:45:23.665Z"
   },
   {
    "duration": 338,
    "start_time": "2022-04-30T07:45:23.671Z"
   },
   {
    "duration": 0,
    "start_time": "2022-04-30T07:45:24.010Z"
   },
   {
    "duration": 0,
    "start_time": "2022-04-30T07:45:24.012Z"
   },
   {
    "duration": 0,
    "start_time": "2022-04-30T07:45:24.013Z"
   },
   {
    "duration": 0,
    "start_time": "2022-04-30T07:45:24.014Z"
   },
   {
    "duration": 0,
    "start_time": "2022-04-30T07:45:24.015Z"
   },
   {
    "duration": 0,
    "start_time": "2022-04-30T07:45:24.033Z"
   },
   {
    "duration": 792,
    "start_time": "2022-04-30T07:45:44.944Z"
   },
   {
    "duration": 2117,
    "start_time": "2022-04-30T07:47:30.910Z"
   },
   {
    "duration": 4569,
    "start_time": "2022-04-30T07:47:43.481Z"
   },
   {
    "duration": 12,
    "start_time": "2022-04-30T07:47:50.036Z"
   },
   {
    "duration": 1436,
    "start_time": "2022-04-30T07:54:36.883Z"
   },
   {
    "duration": 1397,
    "start_time": "2022-04-30T07:55:05.377Z"
   },
   {
    "duration": 158,
    "start_time": "2022-04-30T07:57:27.808Z"
   },
   {
    "duration": 1395,
    "start_time": "2022-04-30T07:57:51.934Z"
   },
   {
    "duration": 763,
    "start_time": "2022-04-30T07:58:44.555Z"
   },
   {
    "duration": 89314,
    "start_time": "2022-04-30T07:59:05.890Z"
   },
   {
    "duration": 68,
    "start_time": "2022-04-30T08:01:15.385Z"
   },
   {
    "duration": 3879,
    "start_time": "2022-04-30T08:03:48.560Z"
   },
   {
    "duration": 14,
    "start_time": "2022-04-30T08:03:59.793Z"
   },
   {
    "duration": 3565,
    "start_time": "2022-04-30T08:04:41.706Z"
   },
   {
    "duration": 13,
    "start_time": "2022-04-30T08:04:48.983Z"
   },
   {
    "duration": 167102,
    "start_time": "2022-04-30T08:05:14.989Z"
   },
   {
    "duration": 3,
    "start_time": "2022-04-30T08:08:02.094Z"
   },
   {
    "duration": 794,
    "start_time": "2022-04-30T08:08:02.099Z"
   },
   {
    "duration": 171,
    "start_time": "2022-04-30T08:08:02.896Z"
   },
   {
    "duration": 38,
    "start_time": "2022-04-30T08:08:03.068Z"
   },
   {
    "duration": 9,
    "start_time": "2022-04-30T08:08:03.108Z"
   },
   {
    "duration": 184,
    "start_time": "2022-04-30T08:08:03.118Z"
   },
   {
    "duration": 134,
    "start_time": "2022-04-30T08:08:03.304Z"
   },
   {
    "duration": 5,
    "start_time": "2022-04-30T08:08:03.440Z"
   },
   {
    "duration": 15,
    "start_time": "2022-04-30T08:08:03.447Z"
   },
   {
    "duration": 5,
    "start_time": "2022-04-30T08:08:03.464Z"
   },
   {
    "duration": 5,
    "start_time": "2022-04-30T08:08:03.471Z"
   },
   {
    "duration": 13,
    "start_time": "2022-04-30T08:08:03.478Z"
   },
   {
    "duration": 4,
    "start_time": "2022-04-30T08:08:03.493Z"
   },
   {
    "duration": 343,
    "start_time": "2022-04-30T08:08:03.499Z"
   },
   {
    "duration": 0,
    "start_time": "2022-04-30T08:08:03.844Z"
   },
   {
    "duration": 0,
    "start_time": "2022-04-30T08:08:03.845Z"
   },
   {
    "duration": 0,
    "start_time": "2022-04-30T08:08:03.847Z"
   },
   {
    "duration": 0,
    "start_time": "2022-04-30T08:08:03.847Z"
   },
   {
    "duration": 0,
    "start_time": "2022-04-30T08:08:03.849Z"
   },
   {
    "duration": 0,
    "start_time": "2022-04-30T08:08:03.850Z"
   },
   {
    "duration": 3477,
    "start_time": "2022-04-30T08:08:46.741Z"
   },
   {
    "duration": 10,
    "start_time": "2022-04-30T08:08:59.687Z"
   },
   {
    "duration": 3489,
    "start_time": "2022-04-30T08:09:20.740Z"
   },
   {
    "duration": 12,
    "start_time": "2022-04-30T08:09:29.242Z"
   },
   {
    "duration": 4090,
    "start_time": "2022-04-30T08:15:30.868Z"
   },
   {
    "duration": 5,
    "start_time": "2022-04-30T08:16:02.940Z"
   },
   {
    "duration": 3620,
    "start_time": "2022-04-30T08:16:17.546Z"
   },
   {
    "duration": 10,
    "start_time": "2022-04-30T08:16:24.526Z"
   },
   {
    "duration": 171821,
    "start_time": "2022-04-30T08:16:33.637Z"
   },
   {
    "duration": 3,
    "start_time": "2022-04-30T08:19:25.460Z"
   },
   {
    "duration": 812,
    "start_time": "2022-04-30T08:19:25.465Z"
   },
   {
    "duration": 171,
    "start_time": "2022-04-30T08:19:26.279Z"
   },
   {
    "duration": 34,
    "start_time": "2022-04-30T08:19:26.451Z"
   },
   {
    "duration": 9,
    "start_time": "2022-04-30T08:19:26.486Z"
   },
   {
    "duration": 214,
    "start_time": "2022-04-30T08:19:26.496Z"
   },
   {
    "duration": 138,
    "start_time": "2022-04-30T08:19:26.712Z"
   },
   {
    "duration": 4,
    "start_time": "2022-04-30T08:19:26.852Z"
   },
   {
    "duration": 10,
    "start_time": "2022-04-30T08:19:26.858Z"
   },
   {
    "duration": 4,
    "start_time": "2022-04-30T08:19:26.870Z"
   },
   {
    "duration": 9,
    "start_time": "2022-04-30T08:19:26.876Z"
   },
   {
    "duration": 11,
    "start_time": "2022-04-30T08:19:26.886Z"
   },
   {
    "duration": 5,
    "start_time": "2022-04-30T08:19:26.899Z"
   },
   {
    "duration": 344,
    "start_time": "2022-04-30T08:19:26.905Z"
   },
   {
    "duration": 0,
    "start_time": "2022-04-30T08:19:27.251Z"
   },
   {
    "duration": 0,
    "start_time": "2022-04-30T08:19:27.252Z"
   },
   {
    "duration": 0,
    "start_time": "2022-04-30T08:19:27.253Z"
   },
   {
    "duration": 0,
    "start_time": "2022-04-30T08:19:27.254Z"
   },
   {
    "duration": 0,
    "start_time": "2022-04-30T08:19:27.255Z"
   },
   {
    "duration": 0,
    "start_time": "2022-04-30T08:19:27.256Z"
   },
   {
    "duration": 3743,
    "start_time": "2022-04-30T08:19:58.899Z"
   },
   {
    "duration": 9,
    "start_time": "2022-04-30T08:20:09.985Z"
   },
   {
    "duration": 723,
    "start_time": "2022-04-30T08:22:48.348Z"
   },
   {
    "duration": 773,
    "start_time": "2022-04-30T08:24:00.904Z"
   },
   {
    "duration": 2784,
    "start_time": "2022-04-30T08:24:12.238Z"
   },
   {
    "duration": 89,
    "start_time": "2022-04-30T08:24:25.441Z"
   },
   {
    "duration": 121734,
    "start_time": "2022-04-30T11:26:51.919Z"
   },
   {
    "duration": 3,
    "start_time": "2022-04-30T11:28:53.654Z"
   },
   {
    "duration": 662,
    "start_time": "2022-04-30T11:28:53.658Z"
   },
   {
    "duration": 160,
    "start_time": "2022-04-30T11:28:54.324Z"
   },
   {
    "duration": 30,
    "start_time": "2022-04-30T11:28:54.486Z"
   },
   {
    "duration": 8,
    "start_time": "2022-04-30T11:28:54.524Z"
   },
   {
    "duration": 159,
    "start_time": "2022-04-30T11:28:54.534Z"
   },
   {
    "duration": 118,
    "start_time": "2022-04-30T11:28:54.694Z"
   },
   {
    "duration": 3,
    "start_time": "2022-04-30T11:28:54.814Z"
   },
   {
    "duration": 12,
    "start_time": "2022-04-30T11:28:54.823Z"
   },
   {
    "duration": 3,
    "start_time": "2022-04-30T11:28:54.836Z"
   },
   {
    "duration": 4,
    "start_time": "2022-04-30T11:28:54.841Z"
   },
   {
    "duration": 10,
    "start_time": "2022-04-30T11:28:54.847Z"
   },
   {
    "duration": 5,
    "start_time": "2022-04-30T11:28:54.858Z"
   },
   {
    "duration": 312,
    "start_time": "2022-04-30T11:28:54.864Z"
   },
   {
    "duration": 0,
    "start_time": "2022-04-30T11:28:55.178Z"
   },
   {
    "duration": 0,
    "start_time": "2022-04-30T11:28:55.178Z"
   },
   {
    "duration": 0,
    "start_time": "2022-04-30T11:28:55.180Z"
   },
   {
    "duration": 0,
    "start_time": "2022-04-30T11:28:55.180Z"
   },
   {
    "duration": 0,
    "start_time": "2022-04-30T11:28:55.182Z"
   },
   {
    "duration": 0,
    "start_time": "2022-04-30T11:28:55.183Z"
   },
   {
    "duration": 0,
    "start_time": "2022-04-30T11:28:55.184Z"
   },
   {
    "duration": 2803,
    "start_time": "2022-04-30T11:29:41.189Z"
   },
   {
    "duration": 230,
    "start_time": "2022-04-30T11:29:48.184Z"
   },
   {
    "duration": 4,
    "start_time": "2022-04-30T11:31:52.554Z"
   },
   {
    "duration": 21,
    "start_time": "2022-04-30T11:31:57.076Z"
   },
   {
    "duration": 3,
    "start_time": "2022-04-30T11:32:11.640Z"
   },
   {
    "duration": 2800,
    "start_time": "2022-04-30T11:33:42.146Z"
   },
   {
    "duration": 8,
    "start_time": "2022-04-30T11:34:12.251Z"
   },
   {
    "duration": 16,
    "start_time": "2022-04-30T11:34:26.788Z"
   },
   {
    "duration": 2681,
    "start_time": "2022-04-30T11:34:34.523Z"
   },
   {
    "duration": 10,
    "start_time": "2022-04-30T11:34:40.706Z"
   },
   {
    "duration": 18,
    "start_time": "2022-04-30T11:34:53.536Z"
   },
   {
    "duration": 625,
    "start_time": "2022-04-30T11:34:58.741Z"
   },
   {
    "duration": 26,
    "start_time": "2022-04-30T12:19:04.698Z"
   },
   {
    "duration": 3429,
    "start_time": "2022-04-30T12:19:12.409Z"
   },
   {
    "duration": 10,
    "start_time": "2022-04-30T12:19:21.081Z"
   },
   {
    "duration": 37,
    "start_time": "2022-04-30T12:19:50.972Z"
   },
   {
    "duration": 3044,
    "start_time": "2022-04-30T12:19:56.877Z"
   },
   {
    "duration": 9,
    "start_time": "2022-04-30T12:20:03.480Z"
   },
   {
    "duration": 2798,
    "start_time": "2022-04-30T12:20:03.570Z"
   },
   {
    "duration": 4,
    "start_time": "2022-04-30T12:20:26.111Z"
   },
   {
    "duration": 39,
    "start_time": "2022-04-30T12:20:29.435Z"
   },
   {
    "duration": 3,
    "start_time": "2022-04-30T12:21:16.547Z"
   },
   {
    "duration": 3162,
    "start_time": "2022-04-30T12:21:20.677Z"
   },
   {
    "duration": 9,
    "start_time": "2022-04-30T12:21:25.186Z"
   },
   {
    "duration": 131504,
    "start_time": "2022-04-30T12:21:36.367Z"
   },
   {
    "duration": 3,
    "start_time": "2022-04-30T12:23:47.874Z"
   },
   {
    "duration": 705,
    "start_time": "2022-04-30T12:23:47.879Z"
   },
   {
    "duration": 186,
    "start_time": "2022-04-30T12:23:48.586Z"
   },
   {
    "duration": 33,
    "start_time": "2022-04-30T12:23:48.773Z"
   },
   {
    "duration": 12,
    "start_time": "2022-04-30T12:23:48.824Z"
   },
   {
    "duration": 225,
    "start_time": "2022-04-30T12:23:48.839Z"
   },
   {
    "duration": 192,
    "start_time": "2022-04-30T12:23:49.066Z"
   },
   {
    "duration": 5,
    "start_time": "2022-04-30T12:23:49.261Z"
   },
   {
    "duration": 11,
    "start_time": "2022-04-30T12:23:49.271Z"
   },
   {
    "duration": 4,
    "start_time": "2022-04-30T12:23:49.284Z"
   },
   {
    "duration": 4,
    "start_time": "2022-04-30T12:23:49.289Z"
   },
   {
    "duration": 40,
    "start_time": "2022-04-30T12:23:49.295Z"
   },
   {
    "duration": 4,
    "start_time": "2022-04-30T12:23:49.338Z"
   },
   {
    "duration": 344,
    "start_time": "2022-04-30T12:23:49.344Z"
   },
   {
    "duration": 0,
    "start_time": "2022-04-30T12:23:49.690Z"
   },
   {
    "duration": 0,
    "start_time": "2022-04-30T12:23:49.691Z"
   },
   {
    "duration": 0,
    "start_time": "2022-04-30T12:23:49.692Z"
   },
   {
    "duration": 0,
    "start_time": "2022-04-30T12:23:49.694Z"
   },
   {
    "duration": 0,
    "start_time": "2022-04-30T12:23:49.696Z"
   },
   {
    "duration": 0,
    "start_time": "2022-04-30T12:23:49.697Z"
   },
   {
    "duration": 0,
    "start_time": "2022-04-30T12:23:49.699Z"
   },
   {
    "duration": 4,
    "start_time": "2022-04-30T12:24:14.451Z"
   },
   {
    "duration": 3704094,
    "start_time": "2022-04-30T12:24:20.917Z"
   },
   {
    "duration": 8,
    "start_time": "2022-04-30T13:36:23.960Z"
   },
   {
    "duration": 2,
    "start_time": "2022-04-30T13:40:16.796Z"
   },
   {
    "duration": 3695,
    "start_time": "2022-04-30T13:40:51.560Z"
   },
   {
    "duration": 9,
    "start_time": "2022-04-30T13:41:10.682Z"
   },
   {
    "duration": 3,
    "start_time": "2022-04-30T13:41:28.845Z"
   },
   {
    "duration": 3680,
    "start_time": "2022-04-30T13:41:33.646Z"
   },
   {
    "duration": 9,
    "start_time": "2022-04-30T13:41:38.545Z"
   },
   {
    "duration": 3677,
    "start_time": "2022-04-30T13:42:47.602Z"
   },
   {
    "duration": 10,
    "start_time": "2022-04-30T13:42:52.928Z"
   },
   {
    "duration": 683,
    "start_time": "2022-04-30T13:44:25.728Z"
   },
   {
    "duration": 814,
    "start_time": "2022-04-30T13:44:37.557Z"
   },
   {
    "duration": 6,
    "start_time": "2022-04-30T13:45:40.349Z"
   },
   {
    "duration": 33708,
    "start_time": "2022-04-30T13:45:43.341Z"
   },
   {
    "duration": 5,
    "start_time": "2022-04-30T13:49:05.817Z"
   },
   {
    "duration": 2150,
    "start_time": "2022-04-30T13:49:09.553Z"
   },
   {
    "duration": 4,
    "start_time": "2022-04-30T13:49:48.485Z"
   },
   {
    "duration": 36,
    "start_time": "2022-04-30T13:49:51.264Z"
   },
   {
    "duration": 3,
    "start_time": "2022-04-30T13:49:58.339Z"
   },
   {
    "duration": 4,
    "start_time": "2022-04-30T13:50:00.576Z"
   },
   {
    "duration": 5,
    "start_time": "2022-04-30T13:51:20.223Z"
   },
   {
    "duration": 3,
    "start_time": "2022-04-30T13:52:13.118Z"
   },
   {
    "duration": 122202,
    "start_time": "2022-04-30T13:52:50.890Z"
   },
   {
    "duration": 3,
    "start_time": "2022-04-30T13:54:53.095Z"
   },
   {
    "duration": 704,
    "start_time": "2022-04-30T13:54:53.099Z"
   },
   {
    "duration": 176,
    "start_time": "2022-04-30T13:54:53.805Z"
   },
   {
    "duration": 41,
    "start_time": "2022-04-30T13:54:53.983Z"
   },
   {
    "duration": 7,
    "start_time": "2022-04-30T13:54:54.026Z"
   },
   {
    "duration": 178,
    "start_time": "2022-04-30T13:54:54.035Z"
   },
   {
    "duration": 119,
    "start_time": "2022-04-30T13:54:54.215Z"
   },
   {
    "duration": 4,
    "start_time": "2022-04-30T13:54:54.336Z"
   },
   {
    "duration": 10,
    "start_time": "2022-04-30T13:54:54.343Z"
   },
   {
    "duration": 7,
    "start_time": "2022-04-30T13:54:54.355Z"
   },
   {
    "duration": 6,
    "start_time": "2022-04-30T13:54:54.363Z"
   },
   {
    "duration": 11,
    "start_time": "2022-04-30T13:54:54.370Z"
   },
   {
    "duration": 5,
    "start_time": "2022-04-30T13:54:54.382Z"
   },
   {
    "duration": 303,
    "start_time": "2022-04-30T13:54:54.388Z"
   },
   {
    "duration": 0,
    "start_time": "2022-04-30T13:54:54.692Z"
   },
   {
    "duration": 0,
    "start_time": "2022-04-30T13:54:54.694Z"
   },
   {
    "duration": 0,
    "start_time": "2022-04-30T13:54:54.695Z"
   },
   {
    "duration": 0,
    "start_time": "2022-04-30T13:54:54.696Z"
   },
   {
    "duration": 0,
    "start_time": "2022-04-30T13:54:54.697Z"
   },
   {
    "duration": 0,
    "start_time": "2022-04-30T13:54:54.698Z"
   },
   {
    "duration": 0,
    "start_time": "2022-04-30T13:54:54.699Z"
   },
   {
    "duration": 0,
    "start_time": "2022-04-30T13:54:54.700Z"
   },
   {
    "duration": 0,
    "start_time": "2022-04-30T13:54:54.701Z"
   },
   {
    "duration": 0,
    "start_time": "2022-04-30T13:54:54.702Z"
   },
   {
    "duration": 0,
    "start_time": "2022-04-30T13:54:54.703Z"
   },
   {
    "duration": 0,
    "start_time": "2022-04-30T13:54:54.704Z"
   },
   {
    "duration": 3,
    "start_time": "2022-04-30T13:55:19.443Z"
   },
   {
    "duration": 2,
    "start_time": "2022-04-30T13:55:22.832Z"
   },
   {
    "duration": 1225,
    "start_time": "2022-04-30T13:55:24.049Z"
   },
   {
    "duration": 10,
    "start_time": "2022-04-30T13:55:36.426Z"
   },
   {
    "duration": 7,
    "start_time": "2022-04-30T13:55:40.213Z"
   },
   {
    "duration": 3,
    "start_time": "2022-04-30T13:56:18.479Z"
   },
   {
    "duration": 10,
    "start_time": "2022-04-30T13:56:26.251Z"
   },
   {
    "duration": 8,
    "start_time": "2022-04-30T13:56:28.593Z"
   },
   {
    "duration": 4,
    "start_time": "2022-04-30T13:57:29.102Z"
   },
   {
    "duration": 3,
    "start_time": "2022-04-30T13:57:30.577Z"
   },
   {
    "duration": 8,
    "start_time": "2022-04-30T13:57:34.763Z"
   },
   {
    "duration": 8,
    "start_time": "2022-04-30T13:57:36.869Z"
   },
   {
    "duration": 2,
    "start_time": "2022-04-30T13:58:51.120Z"
   },
   {
    "duration": 7,
    "start_time": "2022-04-30T13:59:15.928Z"
   },
   {
    "duration": 12,
    "start_time": "2022-04-30T13:59:19.496Z"
   },
   {
    "duration": 18,
    "start_time": "2022-04-30T13:59:19.654Z"
   },
   {
    "duration": 3,
    "start_time": "2022-04-30T14:00:17.398Z"
   },
   {
    "duration": 7,
    "start_time": "2022-04-30T14:00:20.008Z"
   },
   {
    "duration": 8,
    "start_time": "2022-04-30T14:00:21.105Z"
   },
   {
    "duration": 3,
    "start_time": "2022-04-30T14:00:42.421Z"
   },
   {
    "duration": 7,
    "start_time": "2022-04-30T14:00:44.490Z"
   },
   {
    "duration": 8,
    "start_time": "2022-04-30T14:00:46.626Z"
   },
   {
    "duration": 3,
    "start_time": "2022-04-30T14:01:20.887Z"
   },
   {
    "duration": 8,
    "start_time": "2022-04-30T14:01:22.173Z"
   },
   {
    "duration": 10,
    "start_time": "2022-04-30T14:01:22.985Z"
   },
   {
    "duration": 4615,
    "start_time": "2022-04-30T14:02:56.573Z"
   },
   {
    "duration": 9,
    "start_time": "2022-04-30T14:03:03.863Z"
   },
   {
    "duration": 2133,
    "start_time": "2022-04-30T14:03:13.185Z"
   },
   {
    "duration": 5,
    "start_time": "2022-04-30T14:03:27.010Z"
   },
   {
    "duration": 22,
    "start_time": "2022-04-30T14:03:30.122Z"
   },
   {
    "duration": 121708,
    "start_time": "2022-04-30T14:06:17.551Z"
   },
   {
    "duration": 3,
    "start_time": "2022-04-30T14:08:19.260Z"
   },
   {
    "duration": 692,
    "start_time": "2022-04-30T14:08:19.264Z"
   },
   {
    "duration": 182,
    "start_time": "2022-04-30T14:08:19.957Z"
   },
   {
    "duration": 31,
    "start_time": "2022-04-30T14:08:20.140Z"
   },
   {
    "duration": 8,
    "start_time": "2022-04-30T14:08:20.173Z"
   },
   {
    "duration": 12,
    "start_time": "2022-04-30T14:08:20.183Z"
   },
   {
    "duration": 192,
    "start_time": "2022-04-30T14:08:20.197Z"
   },
   {
    "duration": 133,
    "start_time": "2022-04-30T14:08:20.390Z"
   },
   {
    "duration": 4,
    "start_time": "2022-04-30T14:08:20.527Z"
   },
   {
    "duration": 11,
    "start_time": "2022-04-30T14:08:20.532Z"
   },
   {
    "duration": 4,
    "start_time": "2022-04-30T14:08:20.544Z"
   },
   {
    "duration": 4,
    "start_time": "2022-04-30T14:08:20.550Z"
   },
   {
    "duration": 11,
    "start_time": "2022-04-30T14:08:20.555Z"
   },
   {
    "duration": 4,
    "start_time": "2022-04-30T14:08:20.568Z"
   },
   {
    "duration": 337,
    "start_time": "2022-04-30T14:08:20.573Z"
   },
   {
    "duration": 0,
    "start_time": "2022-04-30T14:08:20.912Z"
   },
   {
    "duration": 0,
    "start_time": "2022-04-30T14:08:20.913Z"
   },
   {
    "duration": 0,
    "start_time": "2022-04-30T14:08:20.914Z"
   },
   {
    "duration": 0,
    "start_time": "2022-04-30T14:08:20.923Z"
   },
   {
    "duration": 0,
    "start_time": "2022-04-30T14:08:20.924Z"
   },
   {
    "duration": 0,
    "start_time": "2022-04-30T14:08:20.925Z"
   },
   {
    "duration": 0,
    "start_time": "2022-04-30T14:08:20.926Z"
   },
   {
    "duration": 0,
    "start_time": "2022-04-30T14:08:20.927Z"
   },
   {
    "duration": 0,
    "start_time": "2022-04-30T14:08:20.927Z"
   },
   {
    "duration": 0,
    "start_time": "2022-04-30T14:08:20.928Z"
   },
   {
    "duration": 0,
    "start_time": "2022-04-30T14:08:20.929Z"
   },
   {
    "duration": 0,
    "start_time": "2022-04-30T14:08:20.930Z"
   },
   {
    "duration": 0,
    "start_time": "2022-04-30T14:08:20.931Z"
   },
   {
    "duration": 3,
    "start_time": "2022-04-30T14:09:11.256Z"
   },
   {
    "duration": 5970,
    "start_time": "2022-04-30T14:09:17.096Z"
   },
   {
    "duration": 10,
    "start_time": "2022-04-30T14:09:24.350Z"
   },
   {
    "duration": 5,
    "start_time": "2022-04-30T14:09:33.024Z"
   },
   {
    "duration": 21,
    "start_time": "2022-04-30T14:09:35.131Z"
   },
   {
    "duration": 20,
    "start_time": "2022-04-30T14:14:53.008Z"
   },
   {
    "duration": 23,
    "start_time": "2022-04-30T14:15:02.833Z"
   },
   {
    "duration": 3,
    "start_time": "2022-04-30T14:28:32.022Z"
   },
   {
    "duration": 127,
    "start_time": "2022-04-30T14:29:18.247Z"
   },
   {
    "duration": 37,
    "start_time": "2022-04-30T14:29:36.834Z"
   },
   {
    "duration": 122,
    "start_time": "2022-04-30T14:33:25.269Z"
   },
   {
    "duration": 4,
    "start_time": "2022-04-30T14:33:33.899Z"
   },
   {
    "duration": 1961,
    "start_time": "2022-04-30T14:33:41.494Z"
   },
   {
    "duration": 4,
    "start_time": "2022-04-30T14:35:21.656Z"
   },
   {
    "duration": 2288,
    "start_time": "2022-04-30T14:35:26.561Z"
   },
   {
    "duration": 1976,
    "start_time": "2022-04-30T14:37:40.519Z"
   },
   {
    "duration": 19,
    "start_time": "2022-04-30T14:38:20.447Z"
   },
   {
    "duration": 20,
    "start_time": "2022-04-30T14:40:50.913Z"
   },
   {
    "duration": 132863,
    "start_time": "2022-04-30T14:41:08.572Z"
   },
   {
    "duration": 2,
    "start_time": "2022-04-30T14:43:21.437Z"
   },
   {
    "duration": 714,
    "start_time": "2022-04-30T14:43:21.441Z"
   },
   {
    "duration": 186,
    "start_time": "2022-04-30T14:43:22.157Z"
   },
   {
    "duration": 34,
    "start_time": "2022-04-30T14:43:22.345Z"
   },
   {
    "duration": 8,
    "start_time": "2022-04-30T14:43:22.381Z"
   },
   {
    "duration": 38,
    "start_time": "2022-04-30T14:43:22.391Z"
   },
   {
    "duration": 172,
    "start_time": "2022-04-30T14:43:22.431Z"
   },
   {
    "duration": 136,
    "start_time": "2022-04-30T14:43:22.605Z"
   },
   {
    "duration": 4,
    "start_time": "2022-04-30T14:43:22.745Z"
   },
   {
    "duration": 13,
    "start_time": "2022-04-30T14:43:22.751Z"
   },
   {
    "duration": 25,
    "start_time": "2022-04-30T14:43:22.766Z"
   },
   {
    "duration": 5,
    "start_time": "2022-04-30T14:43:22.792Z"
   },
   {
    "duration": 10,
    "start_time": "2022-04-30T14:43:22.799Z"
   },
   {
    "duration": 7,
    "start_time": "2022-04-30T14:43:22.810Z"
   },
   {
    "duration": 371,
    "start_time": "2022-04-30T14:43:22.818Z"
   },
   {
    "duration": 0,
    "start_time": "2022-04-30T14:43:23.191Z"
   },
   {
    "duration": 0,
    "start_time": "2022-04-30T14:43:23.192Z"
   },
   {
    "duration": 0,
    "start_time": "2022-04-30T14:43:23.194Z"
   },
   {
    "duration": 0,
    "start_time": "2022-04-30T14:43:23.195Z"
   },
   {
    "duration": 0,
    "start_time": "2022-04-30T14:43:23.195Z"
   },
   {
    "duration": 0,
    "start_time": "2022-04-30T14:43:23.197Z"
   },
   {
    "duration": 0,
    "start_time": "2022-04-30T14:43:23.198Z"
   },
   {
    "duration": 0,
    "start_time": "2022-04-30T14:43:23.199Z"
   },
   {
    "duration": 0,
    "start_time": "2022-04-30T14:43:23.200Z"
   },
   {
    "duration": 0,
    "start_time": "2022-04-30T14:43:23.201Z"
   },
   {
    "duration": 0,
    "start_time": "2022-04-30T14:43:23.201Z"
   },
   {
    "duration": 0,
    "start_time": "2022-04-30T14:43:23.202Z"
   },
   {
    "duration": 0,
    "start_time": "2022-04-30T14:43:23.224Z"
   },
   {
    "duration": 0,
    "start_time": "2022-04-30T14:43:23.225Z"
   },
   {
    "duration": 26,
    "start_time": "2022-04-30T14:43:29.738Z"
   },
   {
    "duration": 3,
    "start_time": "2022-04-30T14:43:47.242Z"
   },
   {
    "duration": 6171,
    "start_time": "2022-04-30T14:43:56.623Z"
   },
   {
    "duration": 2911,
    "start_time": "2022-04-30T14:44:04.021Z"
   },
   {
    "duration": 5,
    "start_time": "2022-04-30T14:44:11.930Z"
   },
   {
    "duration": 20,
    "start_time": "2022-04-30T14:44:13.653Z"
   },
   {
    "duration": 19,
    "start_time": "2022-04-30T14:45:31.496Z"
   },
   {
    "duration": 20,
    "start_time": "2022-04-30T14:45:48.236Z"
   },
   {
    "duration": 148,
    "start_time": "2022-04-30T15:08:41.827Z"
   },
   {
    "duration": 4,
    "start_time": "2022-04-30T15:08:45.578Z"
   },
   {
    "duration": 41,
    "start_time": "2022-04-30T15:09:59.050Z"
   },
   {
    "duration": 17,
    "start_time": "2022-04-30T15:10:48.036Z"
   },
   {
    "duration": 9346,
    "start_time": "2022-04-30T15:11:50.447Z"
   },
   {
    "duration": 5,
    "start_time": "2022-04-30T15:12:17.337Z"
   },
   {
    "duration": 3,
    "start_time": "2022-04-30T15:12:19.892Z"
   },
   {
    "duration": 35,
    "start_time": "2022-04-30T15:12:21.484Z"
   },
   {
    "duration": 4,
    "start_time": "2022-04-30T15:13:16.311Z"
   },
   {
    "duration": 19,
    "start_time": "2022-04-30T15:14:11.691Z"
   },
   {
    "duration": 3,
    "start_time": "2022-04-30T15:15:58.261Z"
   },
   {
    "duration": 4,
    "start_time": "2022-04-30T15:16:07.579Z"
   },
   {
    "duration": 4,
    "start_time": "2022-04-30T15:16:09.344Z"
   },
   {
    "duration": 41,
    "start_time": "2022-04-30T15:16:11.275Z"
   },
   {
    "duration": 4,
    "start_time": "2022-04-30T15:17:17.236Z"
   },
   {
    "duration": 40,
    "start_time": "2022-04-30T15:17:20.630Z"
   },
   {
    "duration": 3,
    "start_time": "2022-04-30T15:19:00.934Z"
   },
   {
    "duration": 62313,
    "start_time": "2022-04-30T15:19:01.935Z"
   },
   {
    "duration": 15,
    "start_time": "2022-04-30T15:20:38.212Z"
   },
   {
    "duration": 5,
    "start_time": "2022-04-30T15:22:42.936Z"
   },
   {
    "duration": 22,
    "start_time": "2022-04-30T15:22:50.550Z"
   },
   {
    "duration": 18,
    "start_time": "2022-04-30T15:23:37.028Z"
   },
   {
    "duration": 3,
    "start_time": "2022-04-30T15:24:01.163Z"
   },
   {
    "duration": 95658,
    "start_time": "2022-04-30T19:22:15.200Z"
   },
   {
    "duration": 5,
    "start_time": "2022-04-30T19:23:50.861Z"
   },
   {
    "duration": 923,
    "start_time": "2022-04-30T19:23:50.868Z"
   },
   {
    "duration": 12,
    "start_time": "2022-04-30T19:23:51.793Z"
   },
   {
    "duration": 19,
    "start_time": "2022-04-30T19:23:51.807Z"
   },
   {
    "duration": 224,
    "start_time": "2022-04-30T19:23:51.828Z"
   },
   {
    "duration": 184,
    "start_time": "2022-04-30T19:23:52.054Z"
   },
   {
    "duration": 5,
    "start_time": "2022-04-30T19:23:52.240Z"
   },
   {
    "duration": 189,
    "start_time": "2022-04-30T19:23:52.252Z"
   },
   {
    "duration": 6,
    "start_time": "2022-04-30T19:23:52.452Z"
   },
   {
    "duration": 57609,
    "start_time": "2022-04-30T19:23:52.460Z"
   },
   {
    "duration": 33,
    "start_time": "2022-04-30T19:24:50.071Z"
   },
   {
    "duration": 2514,
    "start_time": "2022-04-30T19:24:50.107Z"
   },
   {
    "duration": 0,
    "start_time": "2022-04-30T19:24:52.624Z"
   },
   {
    "duration": 9,
    "start_time": "2022-04-30T19:26:38.017Z"
   },
   {
    "duration": 6,
    "start_time": "2022-04-30T19:26:39.571Z"
   },
   {
    "duration": 22,
    "start_time": "2022-04-30T19:28:58.462Z"
   },
   {
    "duration": 5,
    "start_time": "2022-04-30T19:29:49.291Z"
   },
   {
    "duration": 1601,
    "start_time": "2022-04-30T19:29:56.761Z"
   },
   {
    "duration": 1682,
    "start_time": "2022-04-30T19:30:22.632Z"
   },
   {
    "duration": 23,
    "start_time": "2022-04-30T19:31:33.946Z"
   },
   {
    "duration": 20418,
    "start_time": "2022-04-30T19:32:22.980Z"
   },
   {
    "duration": 100,
    "start_time": "2022-04-30T19:33:18.880Z"
   },
   {
    "duration": 109,
    "start_time": "2022-04-30T19:33:47.150Z"
   },
   {
    "duration": 22,
    "start_time": "2022-04-30T19:36:02.248Z"
   },
   {
    "duration": 21,
    "start_time": "2022-04-30T19:36:13.527Z"
   },
   {
    "duration": 6,
    "start_time": "2022-04-30T19:37:31.363Z"
   },
   {
    "duration": 211,
    "start_time": "2022-04-30T19:38:50.991Z"
   },
   {
    "duration": 209,
    "start_time": "2022-04-30T19:39:44.962Z"
   },
   {
    "duration": 133,
    "start_time": "2022-04-30T19:52:36.273Z"
   },
   {
    "duration": 6,
    "start_time": "2022-04-30T19:55:12.968Z"
   },
   {
    "duration": 26,
    "start_time": "2022-04-30T19:55:39.707Z"
   },
   {
    "duration": 20,
    "start_time": "2022-04-30T19:58:29.723Z"
   },
   {
    "duration": 44,
    "start_time": "2022-04-30T19:59:29.491Z"
   },
   {
    "duration": 5,
    "start_time": "2022-04-30T19:59:36.875Z"
   },
   {
    "duration": 1682,
    "start_time": "2022-04-30T20:01:42.192Z"
   },
   {
    "duration": 3,
    "start_time": "2022-04-30T20:03:12.420Z"
   },
   {
    "duration": 4,
    "start_time": "2022-04-30T20:03:13.971Z"
   },
   {
    "duration": 4,
    "start_time": "2022-04-30T20:03:56.059Z"
   },
   {
    "duration": 4,
    "start_time": "2022-04-30T20:03:57.101Z"
   },
   {
    "duration": 36,
    "start_time": "2022-04-30T20:05:14.872Z"
   },
   {
    "duration": 4,
    "start_time": "2022-04-30T20:05:46.300Z"
   },
   {
    "duration": 4,
    "start_time": "2022-04-30T20:05:47.132Z"
   },
   {
    "duration": 33,
    "start_time": "2022-04-30T20:05:48.009Z"
   },
   {
    "duration": 20,
    "start_time": "2022-04-30T20:18:40.899Z"
   },
   {
    "duration": 6,
    "start_time": "2022-04-30T20:18:54.351Z"
   },
   {
    "duration": 189,
    "start_time": "2022-04-30T20:20:31.065Z"
   },
   {
    "duration": 33,
    "start_time": "2022-04-30T20:21:14.526Z"
   },
   {
    "duration": 194,
    "start_time": "2022-04-30T20:22:07.030Z"
   },
   {
    "duration": 73,
    "start_time": "2022-04-30T20:22:18.572Z"
   },
   {
    "duration": 1717,
    "start_time": "2022-04-30T20:22:48.040Z"
   },
   {
    "duration": 919517,
    "start_time": "2022-04-30T20:25:02.546Z"
   },
   {
    "duration": 5,
    "start_time": "2022-04-30T20:40:22.066Z"
   },
   {
    "duration": 120560,
    "start_time": "2022-05-01T06:13:50.701Z"
   },
   {
    "duration": 3,
    "start_time": "2022-05-01T06:15:51.262Z"
   },
   {
    "duration": 701,
    "start_time": "2022-05-01T06:15:51.266Z"
   },
   {
    "duration": 13,
    "start_time": "2022-05-01T06:15:51.969Z"
   },
   {
    "duration": 31,
    "start_time": "2022-05-01T06:15:51.983Z"
   },
   {
    "duration": 7,
    "start_time": "2022-05-01T06:15:52.016Z"
   },
   {
    "duration": 34,
    "start_time": "2022-05-01T06:15:52.024Z"
   },
   {
    "duration": 169,
    "start_time": "2022-05-01T06:15:52.060Z"
   },
   {
    "duration": 118,
    "start_time": "2022-05-01T06:15:52.230Z"
   },
   {
    "duration": 3,
    "start_time": "2022-05-01T06:15:52.352Z"
   },
   {
    "duration": 9,
    "start_time": "2022-05-01T06:15:52.356Z"
   },
   {
    "duration": 4,
    "start_time": "2022-05-01T06:15:52.367Z"
   },
   {
    "duration": 4,
    "start_time": "2022-05-01T06:15:52.372Z"
   },
   {
    "duration": 29141,
    "start_time": "2022-05-01T06:15:52.377Z"
   },
   {
    "duration": 3,
    "start_time": "2022-05-01T06:16:21.519Z"
   },
   {
    "duration": 11,
    "start_time": "2022-05-01T06:16:21.523Z"
   },
   {
    "duration": 3,
    "start_time": "2022-05-01T06:16:21.535Z"
   },
   {
    "duration": 290,
    "start_time": "2022-05-01T06:16:21.548Z"
   },
   {
    "duration": 0,
    "start_time": "2022-05-01T06:16:21.839Z"
   },
   {
    "duration": 0,
    "start_time": "2022-05-01T06:16:21.840Z"
   },
   {
    "duration": 0,
    "start_time": "2022-05-01T06:16:21.841Z"
   },
   {
    "duration": 0,
    "start_time": "2022-05-01T06:16:21.847Z"
   },
   {
    "duration": 0,
    "start_time": "2022-05-01T06:16:21.848Z"
   },
   {
    "duration": 0,
    "start_time": "2022-05-01T06:16:21.849Z"
   },
   {
    "duration": 0,
    "start_time": "2022-05-01T06:16:21.850Z"
   },
   {
    "duration": 0,
    "start_time": "2022-05-01T06:16:21.851Z"
   },
   {
    "duration": 0,
    "start_time": "2022-05-01T06:16:21.852Z"
   },
   {
    "duration": 0,
    "start_time": "2022-05-01T06:16:21.854Z"
   },
   {
    "duration": 0,
    "start_time": "2022-05-01T06:16:21.855Z"
   },
   {
    "duration": 0,
    "start_time": "2022-05-01T06:16:21.856Z"
   },
   {
    "duration": 0,
    "start_time": "2022-05-01T06:16:21.857Z"
   },
   {
    "duration": 5,
    "start_time": "2022-05-01T06:18:05.146Z"
   },
   {
    "duration": 3,
    "start_time": "2022-05-01T06:18:06.711Z"
   },
   {
    "duration": 17,
    "start_time": "2022-05-01T06:18:10.438Z"
   },
   {
    "duration": 3,
    "start_time": "2022-05-01T06:18:42.569Z"
   },
   {
    "duration": 113,
    "start_time": "2022-05-01T06:18:50.783Z"
   },
   {
    "duration": 43,
    "start_time": "2022-05-01T06:18:51.816Z"
   },
   {
    "duration": 18,
    "start_time": "2022-05-01T06:18:56.520Z"
   },
   {
    "duration": 847,
    "start_time": "2022-05-01T06:20:50.302Z"
   },
   {
    "duration": 94389,
    "start_time": "2022-05-01T06:21:16.468Z"
   },
   {
    "duration": 18,
    "start_time": "2022-05-01T06:31:11.870Z"
   },
   {
    "duration": 17,
    "start_time": "2022-05-01T06:31:40.602Z"
   },
   {
    "duration": 150868,
    "start_time": "2022-05-01T06:35:18.989Z"
   },
   {
    "duration": 19,
    "start_time": "2022-05-01T06:38:59.433Z"
   },
   {
    "duration": 2,
    "start_time": "2022-05-01T06:39:09.903Z"
   },
   {
    "duration": 181510,
    "start_time": "2022-05-01T06:39:54.451Z"
   },
   {
    "duration": 3,
    "start_time": "2022-05-01T06:45:56.451Z"
   },
   {
    "duration": 3,
    "start_time": "2022-05-01T06:46:35.175Z"
   },
   {
    "duration": 221017,
    "start_time": "2022-05-01T06:47:13.340Z"
   },
   {
    "duration": 3,
    "start_time": "2022-05-01T06:54:35.439Z"
   },
   {
    "duration": 126,
    "start_time": "2022-05-01T06:54:42.002Z"
   },
   {
    "duration": 6839168,
    "start_time": "2022-05-01T06:54:58.583Z"
   },
   {
    "duration": 3,
    "start_time": "2022-05-01T08:51:37.017Z"
   },
   {
    "duration": 17,
    "start_time": "2022-05-01T09:03:23.969Z"
   },
   {
    "duration": 3,
    "start_time": "2022-05-01T09:03:37.635Z"
   },
   {
    "duration": 6225,
    "start_time": "2022-05-01T09:03:43.726Z"
   },
   {
    "duration": 111080,
    "start_time": "2022-05-01T09:18:39.235Z"
   },
   {
    "duration": 3,
    "start_time": "2022-05-01T09:20:30.318Z"
   },
   {
    "duration": 709,
    "start_time": "2022-05-01T09:20:30.322Z"
   },
   {
    "duration": 22,
    "start_time": "2022-05-01T09:20:31.034Z"
   },
   {
    "duration": 32,
    "start_time": "2022-05-01T09:20:31.058Z"
   },
   {
    "duration": 9,
    "start_time": "2022-05-01T09:20:31.092Z"
   },
   {
    "duration": 48,
    "start_time": "2022-05-01T09:20:31.103Z"
   },
   {
    "duration": 343,
    "start_time": "2022-05-01T09:20:31.153Z"
   },
   {
    "duration": 235,
    "start_time": "2022-05-01T09:20:31.497Z"
   },
   {
    "duration": 13,
    "start_time": "2022-05-01T09:20:31.735Z"
   },
   {
    "duration": 9,
    "start_time": "2022-05-01T09:20:31.750Z"
   },
   {
    "duration": 5,
    "start_time": "2022-05-01T09:20:31.760Z"
   },
   {
    "duration": 4,
    "start_time": "2022-05-01T09:20:31.767Z"
   },
   {
    "duration": 386,
    "start_time": "2022-05-01T09:20:31.772Z"
   },
   {
    "duration": 0,
    "start_time": "2022-05-01T09:20:32.160Z"
   },
   {
    "duration": 0,
    "start_time": "2022-05-01T09:20:32.160Z"
   },
   {
    "duration": 0,
    "start_time": "2022-05-01T09:20:32.161Z"
   },
   {
    "duration": 0,
    "start_time": "2022-05-01T09:20:32.162Z"
   },
   {
    "duration": 0,
    "start_time": "2022-05-01T09:20:32.163Z"
   },
   {
    "duration": 0,
    "start_time": "2022-05-01T09:20:32.164Z"
   },
   {
    "duration": 0,
    "start_time": "2022-05-01T09:20:32.165Z"
   },
   {
    "duration": 0,
    "start_time": "2022-05-01T09:20:32.166Z"
   },
   {
    "duration": 1,
    "start_time": "2022-05-01T09:20:32.167Z"
   },
   {
    "duration": 0,
    "start_time": "2022-05-01T09:20:32.169Z"
   },
   {
    "duration": 115120,
    "start_time": "2022-05-01T09:21:14.170Z"
   },
   {
    "duration": 3,
    "start_time": "2022-05-01T09:23:09.292Z"
   },
   {
    "duration": 705,
    "start_time": "2022-05-01T09:23:09.296Z"
   },
   {
    "duration": 14,
    "start_time": "2022-05-01T09:23:10.003Z"
   },
   {
    "duration": 39,
    "start_time": "2022-05-01T09:23:10.019Z"
   },
   {
    "duration": 9,
    "start_time": "2022-05-01T09:23:10.059Z"
   },
   {
    "duration": 22,
    "start_time": "2022-05-01T09:23:10.069Z"
   },
   {
    "duration": 348,
    "start_time": "2022-05-01T09:23:10.092Z"
   },
   {
    "duration": 231,
    "start_time": "2022-05-01T09:23:10.448Z"
   },
   {
    "duration": 5,
    "start_time": "2022-05-01T09:23:10.681Z"
   },
   {
    "duration": 9,
    "start_time": "2022-05-01T09:23:10.687Z"
   },
   {
    "duration": 5,
    "start_time": "2022-05-01T09:23:10.698Z"
   },
   {
    "duration": 4,
    "start_time": "2022-05-01T09:23:10.704Z"
   },
   {
    "duration": 58963,
    "start_time": "2022-05-01T09:23:10.709Z"
   },
   {
    "duration": 8,
    "start_time": "2022-05-01T09:24:09.674Z"
   },
   {
    "duration": 6,
    "start_time": "2022-05-01T09:24:09.683Z"
   },
   {
    "duration": 8,
    "start_time": "2022-05-01T09:24:09.690Z"
   },
   {
    "duration": 3,
    "start_time": "2022-05-01T09:24:09.700Z"
   },
   {
    "duration": 4,
    "start_time": "2022-05-01T09:24:09.705Z"
   },
   {
    "duration": 237,
    "start_time": "2022-05-01T09:24:09.710Z"
   },
   {
    "duration": 79,
    "start_time": "2022-05-01T09:24:09.949Z"
   },
   {
    "duration": 2620,
    "start_time": "2022-05-01T09:24:10.029Z"
   },
   {
    "duration": 38611,
    "start_time": "2022-05-01T09:24:12.651Z"
   },
   {
    "duration": 86,
    "start_time": "2022-05-01T09:24:51.263Z"
   },
   {
    "duration": 122,
    "start_time": "2022-05-01T09:24:51.350Z"
   },
   {
    "duration": 111939,
    "start_time": "2022-05-01T09:29:49.661Z"
   },
   {
    "duration": 3,
    "start_time": "2022-05-01T09:31:41.601Z"
   },
   {
    "duration": 708,
    "start_time": "2022-05-01T09:31:41.605Z"
   },
   {
    "duration": 13,
    "start_time": "2022-05-01T09:31:42.315Z"
   },
   {
    "duration": 42,
    "start_time": "2022-05-01T09:31:42.329Z"
   },
   {
    "duration": 12,
    "start_time": "2022-05-01T09:31:42.373Z"
   },
   {
    "duration": 103,
    "start_time": "2022-05-01T09:31:42.386Z"
   },
   {
    "duration": 1557,
    "start_time": "2022-05-01T09:31:42.491Z"
   },
   {
    "duration": 1085,
    "start_time": "2022-05-01T09:31:44.049Z"
   },
   {
    "duration": 8,
    "start_time": "2022-05-01T09:31:45.147Z"
   },
   {
    "duration": 9,
    "start_time": "2022-05-01T09:31:45.156Z"
   },
   {
    "duration": 5,
    "start_time": "2022-05-01T09:31:45.166Z"
   },
   {
    "duration": 3,
    "start_time": "2022-05-01T09:31:45.173Z"
   },
   {
    "duration": 286626,
    "start_time": "2022-05-01T09:31:45.178Z"
   },
   {
    "duration": 7,
    "start_time": "2022-05-01T09:36:31.806Z"
   },
   {
    "duration": 4,
    "start_time": "2022-05-01T09:36:31.815Z"
   },
   {
    "duration": 13,
    "start_time": "2022-05-01T09:36:31.820Z"
   },
   {
    "duration": 13,
    "start_time": "2022-05-01T09:36:31.834Z"
   },
   {
    "duration": 2,
    "start_time": "2022-05-01T09:36:31.849Z"
   },
   {
    "duration": 1046,
    "start_time": "2022-05-01T09:36:31.852Z"
   },
   {
    "duration": 403,
    "start_time": "2022-05-01T09:36:32.900Z"
   },
   {
    "duration": 15643,
    "start_time": "2022-05-01T09:36:33.305Z"
   },
   {
    "duration": 217110,
    "start_time": "2022-05-01T09:36:48.950Z"
   },
   {
    "duration": 2,
    "start_time": "2022-05-01T09:40:26.062Z"
   },
   {
    "duration": 110,
    "start_time": "2022-05-01T09:40:26.066Z"
   },
   {
    "duration": 110841,
    "start_time": "2022-05-01T09:48:18.771Z"
   },
   {
    "duration": 2,
    "start_time": "2022-05-01T09:50:09.614Z"
   },
   {
    "duration": 722,
    "start_time": "2022-05-01T09:50:09.618Z"
   },
   {
    "duration": 12,
    "start_time": "2022-05-01T09:50:10.342Z"
   },
   {
    "duration": 29,
    "start_time": "2022-05-01T09:50:10.356Z"
   },
   {
    "duration": 18,
    "start_time": "2022-05-01T09:50:10.387Z"
   },
   {
    "duration": 226,
    "start_time": "2022-05-01T09:50:10.406Z"
   },
   {
    "duration": 112603,
    "start_time": "2022-05-01T09:57:46.391Z"
   },
   {
    "duration": 4,
    "start_time": "2022-05-01T09:59:38.996Z"
   },
   {
    "duration": 710,
    "start_time": "2022-05-01T09:59:39.001Z"
   },
   {
    "duration": 14,
    "start_time": "2022-05-01T09:59:39.712Z"
   },
   {
    "duration": 38,
    "start_time": "2022-05-01T09:59:39.727Z"
   },
   {
    "duration": 13,
    "start_time": "2022-05-01T09:59:39.767Z"
   },
   {
    "duration": 147,
    "start_time": "2022-05-01T09:59:39.782Z"
   },
   {
    "duration": 2194,
    "start_time": "2022-05-01T09:59:39.930Z"
   },
   {
    "duration": 1537,
    "start_time": "2022-05-01T09:59:42.126Z"
   },
   {
    "duration": 11,
    "start_time": "2022-05-01T09:59:43.666Z"
   },
   {
    "duration": 10,
    "start_time": "2022-05-01T09:59:43.679Z"
   },
   {
    "duration": 3,
    "start_time": "2022-05-01T09:59:43.691Z"
   },
   {
    "duration": 3,
    "start_time": "2022-05-01T09:59:43.696Z"
   },
   {
    "duration": 422879,
    "start_time": "2022-05-01T09:59:43.700Z"
   },
   {
    "duration": 8,
    "start_time": "2022-05-01T10:06:46.581Z"
   },
   {
    "duration": 8,
    "start_time": "2022-05-01T10:06:46.590Z"
   },
   {
    "duration": 20,
    "start_time": "2022-05-01T10:06:46.600Z"
   },
   {
    "duration": 3,
    "start_time": "2022-05-01T10:06:46.622Z"
   },
   {
    "duration": 10,
    "start_time": "2022-05-01T10:06:46.626Z"
   },
   {
    "duration": 1465,
    "start_time": "2022-05-01T10:06:46.637Z"
   },
   {
    "duration": 544,
    "start_time": "2022-05-01T10:06:48.103Z"
   },
   {
    "duration": 24998,
    "start_time": "2022-05-01T10:06:48.649Z"
   },
   {
    "duration": 306312,
    "start_time": "2022-05-01T10:07:13.649Z"
   },
   {
    "duration": 3,
    "start_time": "2022-05-01T10:12:19.963Z"
   },
   {
    "duration": 111,
    "start_time": "2022-05-01T10:12:19.968Z"
   },
   {
    "duration": 95162,
    "start_time": "2022-05-03T18:36:36.435Z"
   },
   {
    "duration": 5,
    "start_time": "2022-05-03T18:38:11.601Z"
   },
   {
    "duration": 1244,
    "start_time": "2022-05-03T18:38:11.608Z"
   },
   {
    "duration": 20,
    "start_time": "2022-05-03T18:38:12.854Z"
   },
   {
    "duration": 40,
    "start_time": "2022-05-03T18:38:12.877Z"
   },
   {
    "duration": 39,
    "start_time": "2022-05-03T18:38:12.920Z"
   },
   {
    "duration": 178,
    "start_time": "2022-05-03T18:38:12.962Z"
   },
   {
    "duration": 3010,
    "start_time": "2022-05-03T18:38:13.151Z"
   },
   {
    "duration": 2547,
    "start_time": "2022-05-03T18:38:16.164Z"
   },
   {
    "duration": 11,
    "start_time": "2022-05-03T18:38:18.713Z"
   },
   {
    "duration": 27,
    "start_time": "2022-05-03T18:38:18.727Z"
   },
   {
    "duration": 9,
    "start_time": "2022-05-03T18:38:18.757Z"
   },
   {
    "duration": 9,
    "start_time": "2022-05-03T18:38:18.768Z"
   },
   {
    "duration": 841446,
    "start_time": "2022-05-03T18:38:18.782Z"
   },
   {
    "duration": 11,
    "start_time": "2022-05-03T18:52:20.230Z"
   },
   {
    "duration": 16,
    "start_time": "2022-05-03T18:52:20.243Z"
   },
   {
    "duration": 19,
    "start_time": "2022-05-03T18:52:20.267Z"
   },
   {
    "duration": 5,
    "start_time": "2022-05-03T18:52:20.288Z"
   },
   {
    "duration": 7,
    "start_time": "2022-05-03T18:52:20.295Z"
   },
   {
    "duration": 2651,
    "start_time": "2022-05-03T18:52:20.304Z"
   },
   {
    "duration": 978,
    "start_time": "2022-05-03T18:52:22.958Z"
   },
   {
    "duration": 21637,
    "start_time": "2022-05-03T18:52:23.939Z"
   },
   {
    "duration": 565,
    "start_time": "2022-05-03T18:52:45.579Z"
   },
   {
    "duration": 0,
    "start_time": "2022-05-03T18:52:46.146Z"
   },
   {
    "duration": 0,
    "start_time": "2022-05-03T18:52:46.151Z"
   },
   {
    "duration": 34241,
    "start_time": "2022-05-03T18:52:58.121Z"
   },
   {
    "duration": 33565,
    "start_time": "2022-05-03T18:53:41.887Z"
   },
   {
    "duration": 35494,
    "start_time": "2022-05-03T18:54:24.770Z"
   },
   {
    "duration": 24165,
    "start_time": "2022-05-03T18:55:08.098Z"
   },
   {
    "duration": 7,
    "start_time": "2022-05-03T18:56:09.865Z"
   },
   {
    "duration": 24036,
    "start_time": "2022-05-03T18:56:21.731Z"
   },
   {
    "duration": 20,
    "start_time": "2022-05-03T19:04:19.064Z"
   },
   {
    "duration": 5,
    "start_time": "2022-05-03T19:07:55.025Z"
   },
   {
    "duration": 4,
    "start_time": "2022-05-03T19:08:08.301Z"
   },
   {
    "duration": 4,
    "start_time": "2022-05-03T19:08:11.340Z"
   },
   {
    "duration": 4,
    "start_time": "2022-05-03T19:08:14.218Z"
   },
   {
    "duration": 36,
    "start_time": "2022-05-03T19:08:15.703Z"
   },
   {
    "duration": 64,
    "start_time": "2022-05-03T19:08:25.063Z"
   },
   {
    "duration": 4,
    "start_time": "2022-05-03T19:20:45.617Z"
   },
   {
    "duration": 4,
    "start_time": "2022-05-03T19:21:25.496Z"
   },
   {
    "duration": 3,
    "start_time": "2022-05-03T19:21:27.812Z"
   },
   {
    "duration": 34,
    "start_time": "2022-05-03T19:21:28.745Z"
   },
   {
    "duration": 1202168,
    "start_time": "2022-05-03T19:21:32.631Z"
   },
   {
    "duration": 4,
    "start_time": "2022-05-03T19:42:00.677Z"
   },
   {
    "duration": 4,
    "start_time": "2022-05-03T19:42:01.931Z"
   },
   {
    "duration": 39,
    "start_time": "2022-05-03T19:42:02.927Z"
   },
   {
    "duration": 4,
    "start_time": "2022-05-03T19:42:57.502Z"
   },
   {
    "duration": 4,
    "start_time": "2022-05-03T19:43:00.341Z"
   },
   {
    "duration": 19,
    "start_time": "2022-05-03T19:43:04.985Z"
   },
   {
    "duration": 1017857,
    "start_time": "2022-05-03T19:43:15.589Z"
   },
   {
    "duration": 111091,
    "start_time": "2022-05-04T07:24:41.211Z"
   },
   {
    "duration": 4,
    "start_time": "2022-05-04T07:26:32.304Z"
   },
   {
    "duration": 1735,
    "start_time": "2022-05-04T07:26:32.310Z"
   },
   {
    "duration": 22,
    "start_time": "2022-05-04T07:26:34.048Z"
   },
   {
    "duration": 58,
    "start_time": "2022-05-04T07:26:34.072Z"
   },
   {
    "duration": 18,
    "start_time": "2022-05-04T07:26:34.133Z"
   },
   {
    "duration": 215,
    "start_time": "2022-05-04T07:26:34.153Z"
   },
   {
    "duration": 4,
    "start_time": "2022-05-04T07:26:34.370Z"
   },
   {
    "duration": 2426,
    "start_time": "2022-05-04T07:26:34.376Z"
   },
   {
    "duration": 19,
    "start_time": "2022-05-04T07:26:36.806Z"
   },
   {
    "duration": 18,
    "start_time": "2022-05-04T07:26:36.827Z"
   },
   {
    "duration": 11,
    "start_time": "2022-05-04T07:26:36.847Z"
   },
   {
    "duration": 8,
    "start_time": "2022-05-04T07:26:36.860Z"
   },
   {
    "duration": 854554,
    "start_time": "2022-05-04T07:26:36.871Z"
   },
   {
    "duration": 12,
    "start_time": "2022-05-04T07:40:51.427Z"
   },
   {
    "duration": 7,
    "start_time": "2022-05-04T07:40:51.441Z"
   },
   {
    "duration": 24,
    "start_time": "2022-05-04T07:40:51.451Z"
   },
   {
    "duration": 7,
    "start_time": "2022-05-04T07:40:51.477Z"
   },
   {
    "duration": 40,
    "start_time": "2022-05-04T07:40:51.486Z"
   },
   {
    "duration": 2566,
    "start_time": "2022-05-04T07:40:51.528Z"
   },
   {
    "duration": 1522,
    "start_time": "2022-05-04T07:40:54.096Z"
   },
   {
    "duration": 49517,
    "start_time": "2022-05-04T07:40:55.624Z"
   },
   {
    "duration": 4,
    "start_time": "2022-05-04T07:41:45.144Z"
   },
   {
    "duration": 8,
    "start_time": "2022-05-04T07:41:45.151Z"
   },
   {
    "duration": 7,
    "start_time": "2022-05-04T07:41:45.161Z"
   },
   {
    "duration": 20,
    "start_time": "2022-05-04T07:41:45.170Z"
   },
   {
    "duration": 439452,
    "start_time": "2022-05-04T07:41:45.192Z"
   },
   {
    "duration": 13,
    "start_time": "2022-05-04T07:49:04.725Z"
   },
   {
    "duration": 550,
    "start_time": "2022-05-04T07:49:04.740Z"
   },
   {
    "duration": 0,
    "start_time": "2022-05-04T07:49:05.292Z"
   },
   {
    "duration": 0,
    "start_time": "2022-05-04T07:49:05.293Z"
   },
   {
    "duration": 135493,
    "start_time": "2022-05-04T11:08:29.740Z"
   },
   {
    "duration": 3,
    "start_time": "2022-05-04T11:10:45.236Z"
   },
   {
    "duration": 785,
    "start_time": "2022-05-04T11:10:45.240Z"
   },
   {
    "duration": 16,
    "start_time": "2022-05-04T11:10:46.028Z"
   },
   {
    "duration": 48,
    "start_time": "2022-05-04T11:10:46.046Z"
   },
   {
    "duration": 18,
    "start_time": "2022-05-04T11:10:46.095Z"
   },
   {
    "duration": 178,
    "start_time": "2022-05-04T11:10:46.114Z"
   },
   {
    "duration": 3,
    "start_time": "2022-05-04T11:10:46.294Z"
   },
   {
    "duration": 1634,
    "start_time": "2022-05-04T11:10:46.298Z"
   },
   {
    "duration": 14,
    "start_time": "2022-05-04T11:10:47.935Z"
   },
   {
    "duration": 10,
    "start_time": "2022-05-04T11:10:47.951Z"
   },
   {
    "duration": 13,
    "start_time": "2022-05-04T11:10:47.962Z"
   },
   {
    "duration": 7,
    "start_time": "2022-05-04T11:10:47.977Z"
   },
   {
    "duration": 443154,
    "start_time": "2022-05-04T11:10:47.985Z"
   },
   {
    "duration": 8,
    "start_time": "2022-05-04T11:18:11.141Z"
   },
   {
    "duration": 6,
    "start_time": "2022-05-04T11:18:11.151Z"
   },
   {
    "duration": 21,
    "start_time": "2022-05-04T11:18:11.159Z"
   },
   {
    "duration": 4,
    "start_time": "2022-05-04T11:18:11.181Z"
   },
   {
    "duration": 6,
    "start_time": "2022-05-04T11:18:11.187Z"
   },
   {
    "duration": 1706,
    "start_time": "2022-05-04T11:18:11.195Z"
   },
   {
    "duration": 632,
    "start_time": "2022-05-04T11:18:12.903Z"
   },
   {
    "duration": 340,
    "start_time": "2022-05-04T11:18:13.537Z"
   },
   {
    "duration": 0,
    "start_time": "2022-05-04T11:18:13.880Z"
   },
   {
    "duration": 0,
    "start_time": "2022-05-04T11:18:13.881Z"
   },
   {
    "duration": 0,
    "start_time": "2022-05-04T11:18:13.883Z"
   },
   {
    "duration": 0,
    "start_time": "2022-05-04T11:18:13.884Z"
   },
   {
    "duration": 0,
    "start_time": "2022-05-04T11:18:13.886Z"
   },
   {
    "duration": 0,
    "start_time": "2022-05-04T11:18:13.888Z"
   },
   {
    "duration": 0,
    "start_time": "2022-05-04T11:18:13.889Z"
   },
   {
    "duration": 0,
    "start_time": "2022-05-04T11:18:13.890Z"
   },
   {
    "duration": 0,
    "start_time": "2022-05-04T11:18:13.892Z"
   },
   {
    "duration": 0,
    "start_time": "2022-05-04T11:18:13.894Z"
   },
   {
    "duration": 30613,
    "start_time": "2022-05-04T11:20:42.472Z"
   },
   {
    "duration": 4,
    "start_time": "2022-05-04T11:22:04.886Z"
   },
   {
    "duration": 4,
    "start_time": "2022-05-04T11:22:54.772Z"
   },
   {
    "duration": 3,
    "start_time": "2022-05-04T11:22:56.836Z"
   },
   {
    "duration": 16,
    "start_time": "2022-05-04T11:22:59.211Z"
   },
   {
    "duration": 911168,
    "start_time": "2022-05-04T11:23:00.506Z"
   },
   {
    "duration": 4,
    "start_time": "2022-05-04T12:00:14.156Z"
   },
   {
    "duration": 14,
    "start_time": "2022-05-04T12:00:19.071Z"
   },
   {
    "duration": 36,
    "start_time": "2022-05-04T12:00:29.426Z"
   }
  ],
  "kernelspec": {
   "display_name": "Python 3",
   "language": "python",
   "name": "python3"
  },
  "language_info": {
   "codemirror_mode": {
    "name": "ipython",
    "version": 3
   },
   "file_extension": ".py",
   "mimetype": "text/x-python",
   "name": "python",
   "nbconvert_exporter": "python",
   "pygments_lexer": "ipython3",
   "version": "3.8.8"
  },
  "toc": {
   "base_numbering": 1,
   "nav_menu": {},
   "number_sections": true,
   "sideBar": true,
   "skip_h1_title": true,
   "title_cell": "Содержание",
   "title_sidebar": "Contents",
   "toc_cell": true,
   "toc_position": {
    "height": "calc(100% - 180px)",
    "left": "10px",
    "top": "150px",
    "width": "302.391px"
   },
   "toc_section_display": true,
   "toc_window_display": false
  }
 },
 "nbformat": 4,
 "nbformat_minor": 2
}
