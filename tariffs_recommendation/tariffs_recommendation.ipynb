{
 "cells": [
  {
   "cell_type": "markdown",
   "metadata": {},
   "source": [
    "# Рекомендация тарифов"
   ]
  },
  {
   "cell_type": "markdown",
   "metadata": {},
   "source": [
    "# Содержание:"
   ]
  },
  {
   "cell_type": "markdown",
   "metadata": {},
   "source": [
    "[1 Откройте и изучите файл](#Откройте-и-изучите-файл)"
   ]
  },
  {
   "cell_type": "markdown",
   "metadata": {},
   "source": [
    "[2 Разбейте данные на выборки](#Разбейте-данные-на-выборки)"
   ]
  },
  {
   "cell_type": "markdown",
   "metadata": {},
   "source": [
    "[3 Исследуйте модели](#Исследуйте-модели)"
   ]
  },
  {
   "cell_type": "markdown",
   "metadata": {},
   "source": [
    "[4 Проверьте модель на тестовой выборке](#Проверьте-модель-на-тестовой-выборке)"
   ]
  },
  {
   "cell_type": "markdown",
   "metadata": {},
   "source": [
    "[5 Проверьте модели на адекватность](#(бонус)-Проверьте-модели-на-адекватность)"
   ]
  },
  {
   "cell_type": "markdown",
   "metadata": {},
   "source": [
    "[Выводы](#Выводы)"
   ]
  },
  {
   "cell_type": "markdown",
   "metadata": {},
   "source": [
    "## Откройте и изучите файл"
   ]
  },
  {
   "cell_type": "code",
   "execution_count": 1,
   "metadata": {},
   "outputs": [],
   "source": [
    "import pandas as pd\n",
    "from sklearn.model_selection import train_test_split\n",
    "from sklearn.tree import DecisionTreeClassifier\n",
    "from sklearn.ensemble import RandomForestClassifier\n",
    "from sklearn.metrics import accuracy_score\n",
    "from sklearn.metrics import mean_squared_error\n",
    "from sklearn.linear_model import LogisticRegression\n",
    "from sklearn.metrics import precision_score, recall_score\n",
    "from sklearn.dummy import DummyClassifier"
   ]
  },
  {
   "cell_type": "code",
   "execution_count": 2,
   "metadata": {},
   "outputs": [],
   "source": [
    "df = pd.read_csv('/datasets/users_behavior.csv')"
   ]
  },
  {
   "cell_type": "code",
   "execution_count": 3,
   "metadata": {
    "scrolled": true
   },
   "outputs": [
    {
     "data": {
      "text/html": [
       "<div>\n",
       "<style scoped>\n",
       "    .dataframe tbody tr th:only-of-type {\n",
       "        vertical-align: middle;\n",
       "    }\n",
       "\n",
       "    .dataframe tbody tr th {\n",
       "        vertical-align: top;\n",
       "    }\n",
       "\n",
       "    .dataframe thead th {\n",
       "        text-align: right;\n",
       "    }\n",
       "</style>\n",
       "<table border=\"1\" class=\"dataframe\">\n",
       "  <thead>\n",
       "    <tr style=\"text-align: right;\">\n",
       "      <th></th>\n",
       "      <th>calls</th>\n",
       "      <th>minutes</th>\n",
       "      <th>messages</th>\n",
       "      <th>mb_used</th>\n",
       "      <th>is_ultra</th>\n",
       "    </tr>\n",
       "  </thead>\n",
       "  <tbody>\n",
       "    <tr>\n",
       "      <td>0</td>\n",
       "      <td>40.0</td>\n",
       "      <td>311.90</td>\n",
       "      <td>83.0</td>\n",
       "      <td>19915.42</td>\n",
       "      <td>0</td>\n",
       "    </tr>\n",
       "    <tr>\n",
       "      <td>1</td>\n",
       "      <td>85.0</td>\n",
       "      <td>516.75</td>\n",
       "      <td>56.0</td>\n",
       "      <td>22696.96</td>\n",
       "      <td>0</td>\n",
       "    </tr>\n",
       "    <tr>\n",
       "      <td>2</td>\n",
       "      <td>77.0</td>\n",
       "      <td>467.66</td>\n",
       "      <td>86.0</td>\n",
       "      <td>21060.45</td>\n",
       "      <td>0</td>\n",
       "    </tr>\n",
       "    <tr>\n",
       "      <td>3</td>\n",
       "      <td>106.0</td>\n",
       "      <td>745.53</td>\n",
       "      <td>81.0</td>\n",
       "      <td>8437.39</td>\n",
       "      <td>1</td>\n",
       "    </tr>\n",
       "    <tr>\n",
       "      <td>4</td>\n",
       "      <td>66.0</td>\n",
       "      <td>418.74</td>\n",
       "      <td>1.0</td>\n",
       "      <td>14502.75</td>\n",
       "      <td>0</td>\n",
       "    </tr>\n",
       "  </tbody>\n",
       "</table>\n",
       "</div>"
      ],
      "text/plain": [
       "   calls  minutes  messages   mb_used  is_ultra\n",
       "0   40.0   311.90      83.0  19915.42         0\n",
       "1   85.0   516.75      56.0  22696.96         0\n",
       "2   77.0   467.66      86.0  21060.45         0\n",
       "3  106.0   745.53      81.0   8437.39         1\n",
       "4   66.0   418.74       1.0  14502.75         0"
      ]
     },
     "execution_count": 3,
     "metadata": {},
     "output_type": "execute_result"
    }
   ],
   "source": [
    "df.head()"
   ]
  },
  {
   "cell_type": "code",
   "execution_count": 4,
   "metadata": {
    "scrolled": false
   },
   "outputs": [
    {
     "name": "stdout",
     "output_type": "stream",
     "text": [
      "<class 'pandas.core.frame.DataFrame'>\n",
      "RangeIndex: 3214 entries, 0 to 3213\n",
      "Data columns (total 5 columns):\n",
      "calls       3214 non-null float64\n",
      "minutes     3214 non-null float64\n",
      "messages    3214 non-null float64\n",
      "mb_used     3214 non-null float64\n",
      "is_ultra    3214 non-null int64\n",
      "dtypes: float64(4), int64(1)\n",
      "memory usage: 125.7 KB\n"
     ]
    }
   ],
   "source": [
    "df.info()"
   ]
  },
  {
   "cell_type": "code",
   "execution_count": 5,
   "metadata": {},
   "outputs": [
    {
     "data": {
      "text/html": [
       "<div>\n",
       "<style scoped>\n",
       "    .dataframe tbody tr th:only-of-type {\n",
       "        vertical-align: middle;\n",
       "    }\n",
       "\n",
       "    .dataframe tbody tr th {\n",
       "        vertical-align: top;\n",
       "    }\n",
       "\n",
       "    .dataframe thead th {\n",
       "        text-align: right;\n",
       "    }\n",
       "</style>\n",
       "<table border=\"1\" class=\"dataframe\">\n",
       "  <thead>\n",
       "    <tr style=\"text-align: right;\">\n",
       "      <th></th>\n",
       "      <th>calls</th>\n",
       "      <th>minutes</th>\n",
       "      <th>messages</th>\n",
       "      <th>mb_used</th>\n",
       "      <th>is_ultra</th>\n",
       "    </tr>\n",
       "  </thead>\n",
       "  <tbody>\n",
       "    <tr>\n",
       "      <td>calls</td>\n",
       "      <td>1.000000</td>\n",
       "      <td>0.982083</td>\n",
       "      <td>0.177385</td>\n",
       "      <td>0.286442</td>\n",
       "      <td>0.207122</td>\n",
       "    </tr>\n",
       "    <tr>\n",
       "      <td>minutes</td>\n",
       "      <td>0.982083</td>\n",
       "      <td>1.000000</td>\n",
       "      <td>0.173110</td>\n",
       "      <td>0.280967</td>\n",
       "      <td>0.206955</td>\n",
       "    </tr>\n",
       "    <tr>\n",
       "      <td>messages</td>\n",
       "      <td>0.177385</td>\n",
       "      <td>0.173110</td>\n",
       "      <td>1.000000</td>\n",
       "      <td>0.195721</td>\n",
       "      <td>0.203830</td>\n",
       "    </tr>\n",
       "    <tr>\n",
       "      <td>mb_used</td>\n",
       "      <td>0.286442</td>\n",
       "      <td>0.280967</td>\n",
       "      <td>0.195721</td>\n",
       "      <td>1.000000</td>\n",
       "      <td>0.198568</td>\n",
       "    </tr>\n",
       "    <tr>\n",
       "      <td>is_ultra</td>\n",
       "      <td>0.207122</td>\n",
       "      <td>0.206955</td>\n",
       "      <td>0.203830</td>\n",
       "      <td>0.198568</td>\n",
       "      <td>1.000000</td>\n",
       "    </tr>\n",
       "  </tbody>\n",
       "</table>\n",
       "</div>"
      ],
      "text/plain": [
       "             calls   minutes  messages   mb_used  is_ultra\n",
       "calls     1.000000  0.982083  0.177385  0.286442  0.207122\n",
       "minutes   0.982083  1.000000  0.173110  0.280967  0.206955\n",
       "messages  0.177385  0.173110  1.000000  0.195721  0.203830\n",
       "mb_used   0.286442  0.280967  0.195721  1.000000  0.198568\n",
       "is_ultra  0.207122  0.206955  0.203830  0.198568  1.000000"
      ]
     },
     "execution_count": 5,
     "metadata": {},
     "output_type": "execute_result"
    }
   ],
   "source": [
    "df[['calls', 'minutes', 'messages', 'mb_used', 'is_ultra']].corr()"
   ]
  },
  {
   "cell_type": "markdown",
   "metadata": {},
   "source": [
    "У признаков 'calls' и 'minutes' наблюдается сильная взаимосвязь."
   ]
  },
  {
   "cell_type": "code",
   "execution_count": 6,
   "metadata": {
    "scrolled": true
   },
   "outputs": [
    {
     "data": {
      "text/plain": [
       "<matplotlib.axes._subplots.AxesSubplot at 0x7f0d5364b810>"
      ]
     },
     "execution_count": 6,
     "metadata": {},
     "output_type": "execute_result"
    },
    {
     "data": {
      "image/png": "[encoded data removed]",
      "text/plain": [
       "<Figure size 432x288 with 1 Axes>"
      ]
     },
     "metadata": {
      "needs_background": "light"
     },
     "output_type": "display_data"
    }
   ],
   "source": [
    "df.plot.scatter(x='calls', y='minutes', title='Зависимость количества звонков от количества потраченных минут')"
   ]
  },
  {
   "cell_type": "markdown",
   "metadata": {},
   "source": [
    "Сильно коррелированные друг с другом переменные дают модели одну и ту же информацию. В таком случае в модели нужна только одна из этих переменных. Если использовать обе, то модель окажется переобучена и предвзята относительно одного отдельного признака. Поэтому необходимо исключить признак 'calls', так как минуты более полный и информативный признак, на мой взгляд."
   ]
  },
  {
   "cell_type": "code",
   "execution_count": 7,
   "metadata": {},
   "outputs": [],
   "source": [
    "df = df.drop(['calls'], axis=1)"
   ]
  },
  {
   "cell_type": "code",
   "execution_count": 8,
   "metadata": {},
   "outputs": [
    {
     "data": {
      "text/html": [
       "<div>\n",
       "<style scoped>\n",
       "    .dataframe tbody tr th:only-of-type {\n",
       "        vertical-align: middle;\n",
       "    }\n",
       "\n",
       "    .dataframe tbody tr th {\n",
       "        vertical-align: top;\n",
       "    }\n",
       "\n",
       "    .dataframe thead th {\n",
       "        text-align: right;\n",
       "    }\n",
       "</style>\n",
       "<table border=\"1\" class=\"dataframe\">\n",
       "  <thead>\n",
       "    <tr style=\"text-align: right;\">\n",
       "      <th></th>\n",
       "      <th>minutes</th>\n",
       "      <th>messages</th>\n",
       "      <th>mb_used</th>\n",
       "      <th>is_ultra</th>\n",
       "    </tr>\n",
       "  </thead>\n",
       "  <tbody>\n",
       "    <tr>\n",
       "      <td>0</td>\n",
       "      <td>311.90</td>\n",
       "      <td>83.0</td>\n",
       "      <td>19915.42</td>\n",
       "      <td>0</td>\n",
       "    </tr>\n",
       "    <tr>\n",
       "      <td>1</td>\n",
       "      <td>516.75</td>\n",
       "      <td>56.0</td>\n",
       "      <td>22696.96</td>\n",
       "      <td>0</td>\n",
       "    </tr>\n",
       "    <tr>\n",
       "      <td>2</td>\n",
       "      <td>467.66</td>\n",
       "      <td>86.0</td>\n",
       "      <td>21060.45</td>\n",
       "      <td>0</td>\n",
       "    </tr>\n",
       "    <tr>\n",
       "      <td>3</td>\n",
       "      <td>745.53</td>\n",
       "      <td>81.0</td>\n",
       "      <td>8437.39</td>\n",
       "      <td>1</td>\n",
       "    </tr>\n",
       "    <tr>\n",
       "      <td>4</td>\n",
       "      <td>418.74</td>\n",
       "      <td>1.0</td>\n",
       "      <td>14502.75</td>\n",
       "      <td>0</td>\n",
       "    </tr>\n",
       "  </tbody>\n",
       "</table>\n",
       "</div>"
      ],
      "text/plain": [
       "   minutes  messages   mb_used  is_ultra\n",
       "0   311.90      83.0  19915.42         0\n",
       "1   516.75      56.0  22696.96         0\n",
       "2   467.66      86.0  21060.45         0\n",
       "3   745.53      81.0   8437.39         1\n",
       "4   418.74       1.0  14502.75         0"
      ]
     },
     "execution_count": 8,
     "metadata": {},
     "output_type": "execute_result"
    }
   ],
   "source": [
    "df.head()"
   ]
  },
  {
   "cell_type": "markdown",
   "metadata": {},
   "source": [
    "Данные готовы для исследования"
   ]
  },
  {
   "attachments": {
    "image.png": {
     "image/png": "[encoded data removed]"
    }
   },
   "cell_type": "markdown",
   "metadata": {},
   "source": [
    "![image.png](attachment:image.png)"
   ]
  },
  {
   "cell_type": "code",
   "execution_count": null,
   "metadata": {},
   "outputs": [],
   "source": []
  },
  {
   "cell_type": "markdown",
   "metadata": {},
   "source": [
    "## Разбейте данные на выборки"
   ]
  },
  {
   "cell_type": "markdown",
   "metadata": {},
   "source": [
    "Способом train_test_split() можно получить только 2 набора данных, поэтому делим датасет в два приема в пропорции 3:1:1."
   ]
  },
  {
   "cell_type": "code",
   "execution_count": 9,
   "metadata": {},
   "outputs": [],
   "source": [
    "features = df.drop(['is_ultra'], axis=1)\n",
    "target = df['is_ultra']"
   ]
  },
  {
   "cell_type": "code",
   "execution_count": 10,
   "metadata": {
    "scrolled": true
   },
   "outputs": [],
   "source": [
    "features_train, features_valid, target_train, target_valid = train_test_split(features, target, \n",
    "                                                                              test_size=0.2, random_state=12345)"
   ]
  },
  {
   "cell_type": "code",
   "execution_count": 11,
   "metadata": {},
   "outputs": [],
   "source": [
    "features_train, features_test, target_train, target_test = train_test_split(features_train, target_train, \n",
    "                                                                            test_size=0.25, random_state=12345)"
   ]
  },
  {
   "cell_type": "code",
   "execution_count": 12,
   "metadata": {
    "scrolled": true
   },
   "outputs": [
    {
     "name": "stdout",
     "output_type": "stream",
     "text": [
      "(1928, 3) (643, 3) (643, 3)\n"
     ]
    }
   ],
   "source": [
    "print(features_train.shape, features_valid.shape, features_test.shape) #проверяем правильность разделения"
   ]
  },
  {
   "cell_type": "code",
   "execution_count": 13,
   "metadata": {
    "scrolled": true
   },
   "outputs": [
    {
     "name": "stdout",
     "output_type": "stream",
     "text": [
      "(1928,) (643,) (643,)\n"
     ]
    }
   ],
   "source": [
    "print(target_train.shape, target_valid.shape, target_test.shape)"
   ]
  },
  {
   "cell_type": "markdown",
   "metadata": {},
   "source": [
    "Данные разделены: 60% для обучаюшей выборки, по 20% тестовой и валидационной.\n"
   ]
  },
  {
   "cell_type": "markdown",
   "metadata": {},
   "source": [
    "## Исследуйте модели"
   ]
  },
  {
   "cell_type": "markdown",
   "metadata": {},
   "source": [
    "### Дерево решений"
   ]
  },
  {
   "cell_type": "code",
   "execution_count": 14,
   "metadata": {},
   "outputs": [
    {
     "name": "stdout",
     "output_type": "stream",
     "text": [
      "0.7262830482115086\n"
     ]
    }
   ],
   "source": [
    "model_tree = DecisionTreeClassifier(random_state=12345)\n",
    "model_tree.fit(features_train, target_train)\n",
    "predictions_valid = model_tree.predict(features_valid)\n",
    "result_tree = accuracy_score(target_valid, predictions_valid)\n",
    "print(result_tree)"
   ]
  },
  {
   "cell_type": "markdown",
   "metadata": {},
   "source": [
    "Дерево решений показывает неплохую точность предсказаний."
   ]
  },
  {
   "cell_type": "markdown",
   "metadata": {},
   "source": [
    "### Дерево решений с изменением гиперпараметра"
   ]
  },
  {
   "cell_type": "code",
   "execution_count": 15,
   "metadata": {
    "scrolled": true
   },
   "outputs": [
    {
     "name": "stdout",
     "output_type": "stream",
     "text": [
      "0.7916018662519441 5\n"
     ]
    }
   ],
   "source": [
    "best_result_tree = 0\n",
    "best_model_tree = None\n",
    "max_depth = 0\n",
    "for depth in range(1,7):\n",
    "    model = DecisionTreeClassifier(random_state=12345, max_depth=depth)\n",
    "    model.fit(features_train, target_train)\n",
    "    predictions_tree = model.predict(features_valid)\n",
    "    result_tree= accuracy_score(target_valid, predictions_tree)\n",
    "    if result_tree > best_result_tree:\n",
    "        best_result_tree = result_tree\n",
    "        best_model_tree = model\n",
    "        max_depth = depth\n",
    "print(best_result_tree, max_depth)"
   ]
  },
  {
   "cell_type": "markdown",
   "metadata": {},
   "source": [
    "Перебираю гиперпараметр max_depth от 1 до 6. Точность еще выросла!"
   ]
  },
  {
   "cell_type": "markdown",
   "metadata": {},
   "source": [
    "### Случайный лес"
   ]
  },
  {
   "cell_type": "code",
   "execution_count": 16,
   "metadata": {
    "scrolled": false
   },
   "outputs": [
    {
     "name": "stdout",
     "output_type": "stream",
     "text": [
      "0.80248833592535 RandomForestClassifier(bootstrap=True, class_weight=None, criterion='gini',\n",
      "                       max_depth=7, max_features='auto', max_leaf_nodes=None,\n",
      "                       min_impurity_decrease=0.0, min_impurity_split=None,\n",
      "                       min_samples_leaf=1, min_samples_split=2,\n",
      "                       min_weight_fraction_leaf=0.0, n_estimators=5,\n",
      "                       n_jobs=None, oob_score=False, random_state=12345,\n",
      "                       verbose=0, warm_start=False)\n"
     ]
    }
   ],
   "source": [
    "best_model_forest = None\n",
    "best_result_forest = 0\n",
    "\n",
    "for est in range(1, 15):\n",
    "    for depth in range(1, 11):\n",
    "        model_forest = RandomForestClassifier(random_state=12345, n_estimators=est, max_depth=depth)\n",
    "        model_forest.fit(features_train, target_train)\n",
    "        predictions_forest = model_forest.predict(features_valid)\n",
    "        result = model_forest.score(features_valid, target_valid)\n",
    "        if result > best_result_forest:\n",
    "            best_result_forest = result\n",
    "            best_model_forest = model_forest           \n",
    "print(best_result_forest, best_model_forest)"
   ]
  },
  {
   "cell_type": "markdown",
   "metadata": {},
   "source": [
    "Случайный лес с перебором количества деревьев дает лучший результат."
   ]
  },
  {
   "cell_type": "markdown",
   "metadata": {},
   "source": [
    "### Логиcтическая регрессия\n"
   ]
  },
  {
   "cell_type": "code",
   "execution_count": 17,
   "metadata": {},
   "outputs": [
    {
     "name": "stdout",
     "output_type": "stream",
     "text": [
      "0.7589424572317263\n"
     ]
    }
   ],
   "source": [
    "model_logistic = LogisticRegression(random_state=12345, solver='lbfgs')\n",
    "model_logistic.fit(features_train, target_train)\n",
    "predictions_logistic = model_logistic.predict(features_valid)\n",
    "result_logistic = model_logistic.score(features_valid, target_valid)\n",
    "print(result_logistic)\n"
   ]
  },
  {
   "cell_type": "markdown",
   "metadata": {},
   "source": [
    "Модель логистической регрессии показывает приемлемую точность."
   ]
  },
  {
   "cell_type": "markdown",
   "metadata": {},
   "source": [
    "## Проверьте модель на тестовой выборке"
   ]
  },
  {
   "cell_type": "code",
   "execution_count": 18,
   "metadata": {
    "scrolled": false
   },
   "outputs": [
    {
     "name": "stdout",
     "output_type": "stream",
     "text": [
      "0.7869362363919129\n"
     ]
    }
   ],
   "source": [
    "print(best_model_forest.score(features_test, target_test)) #модель случайного леса с изменением гиперпараметра"
   ]
  },
  {
   "cell_type": "markdown",
   "metadata": {},
   "source": [
    "Лучший результат за моделью случайного леса."
   ]
  },
  {
   "cell_type": "code",
   "execution_count": 19,
   "metadata": {
    "scrolled": true
   },
   "outputs": [
    {
     "name": "stdout",
     "output_type": "stream",
     "text": [
      "0.7667185069984448\n"
     ]
    }
   ],
   "source": [
    "print(best_model_tree.score(features_test, target_test)) # модель дерева с изменением гиперпараметра"
   ]
  },
  {
   "cell_type": "code",
   "execution_count": 20,
   "metadata": {},
   "outputs": [
    {
     "name": "stdout",
     "output_type": "stream",
     "text": [
      "0.7262830482115086\n"
     ]
    }
   ],
   "source": [
    "print(model_logistic.score(features_test, target_test)) # модель логистической регрессии"
   ]
  },
  {
   "cell_type": "code",
   "execution_count": 21,
   "metadata": {},
   "outputs": [],
   "source": [
    "features_new = pd.concat([features_train, features_valid]) #объединяю обучающую и валидационную выборки"
   ]
  },
  {
   "cell_type": "code",
   "execution_count": 22,
   "metadata": {},
   "outputs": [],
   "source": [
    "target_new = pd.concat([target_train, target_valid]) #объединяю данные с целевыми признаками"
   ]
  },
  {
   "cell_type": "code",
   "execution_count": 23,
   "metadata": {
    "scrolled": true
   },
   "outputs": [
    {
     "name": "stdout",
     "output_type": "stream",
     "text": [
      "(2571, 3) (2571,)\n"
     ]
    }
   ],
   "source": [
    "print(features_new.shape, target_new.shape) #проверка"
   ]
  },
  {
   "cell_type": "code",
   "execution_count": 24,
   "metadata": {},
   "outputs": [
    {
     "name": "stdout",
     "output_type": "stream",
     "text": [
      "0.82341501361338\n"
     ]
    }
   ],
   "source": [
    "model_new = DecisionTreeClassifier(random_state=12345, max_depth=5) #модель дерева решений с изменение глубины\n",
    "model_new.fit(features_new, target_new)\n",
    "result1 = model_new.score(features_new, target_new)\n",
    "print(result1)"
   ]
  },
  {
   "cell_type": "code",
   "execution_count": 25,
   "metadata": {},
   "outputs": [
    {
     "name": "stdout",
     "output_type": "stream",
     "text": [
      "0.838584208479191\n"
     ]
    }
   ],
   "source": [
    "model_new = RandomForestClassifier(random_state=12345, max_depth=7, n_estimators=5) #модель случайного леса с \n",
    "                                                                                    #изменением параметров\n",
    "model_new.fit(features_new, target_new)\n",
    "result2 = model_new.score(features_new, target_new)\n",
    "print(result2)"
   ]
  },
  {
   "cell_type": "code",
   "execution_count": 26,
   "metadata": {},
   "outputs": [
    {
     "name": "stdout",
     "output_type": "stream",
     "text": [
      "0.7036172695449242\n"
     ]
    }
   ],
   "source": [
    "model_new = LogisticRegression(random_state=12345, solver='lbfgs') #модель логистической регресси\n",
    "model_new.fit(features_new, target_new)\n",
    "result3 = model_new.score(features_new, target_new)\n",
    "print(result3)"
   ]
  },
  {
   "cell_type": "markdown",
   "metadata": {},
   "source": [
    "При увеличении обучающей выборки за счет валидационной, проверка на тестовой выборке показала лучшие результаты для моделей дерева решений и случайного леса, увеличив точность с 0.766 до 0,823 и с 0.787 до 0,839 соответственно.\n",
    "А для модели логистической регрессии точность упала с 0,726 до 0,704."
   ]
  },
  {
   "cell_type": "markdown",
   "metadata": {},
   "source": [
    "## (бонус) Проверьте модели на адекватность"
   ]
  },
  {
   "cell_type": "markdown",
   "metadata": {},
   "source": [
    "### Модель случайного леса с изменением гиперпараметра"
   ]
  },
  {
   "cell_type": "code",
   "execution_count": 27,
   "metadata": {
    "scrolled": false
   },
   "outputs": [
    {
     "name": "stdout",
     "output_type": "stream",
     "text": [
      "0.46938775510204084\n"
     ]
    }
   ],
   "source": [
    "print(precision_score(predictions_forest, target_valid))"
   ]
  },
  {
   "cell_type": "code",
   "execution_count": 28,
   "metadata": {
    "scrolled": false
   },
   "outputs": [
    {
     "name": "stdout",
     "output_type": "stream",
     "text": [
      "0.7022900763358778\n"
     ]
    }
   ],
   "source": [
    "print(recall_score(predictions_forest, target_valid))"
   ]
  },
  {
   "cell_type": "markdown",
   "metadata": {},
   "source": [
    "* precision_score -  это доля объектов действительно принадлежащих данному классу, достаточно низкая. \n",
    "* recall_score - доля объектов, действительно относящихся к положительному классу."
   ]
  },
  {
   "cell_type": "markdown",
   "metadata": {},
   "source": [
    "### Модель дерева с изменением гиперпараметра"
   ]
  },
  {
   "cell_type": "code",
   "execution_count": 29,
   "metadata": {},
   "outputs": [
    {
     "name": "stdout",
     "output_type": "stream",
     "text": [
      "0.4030612244897959\n"
     ]
    }
   ],
   "source": [
    "print(precision_score(predictions_tree, target_valid))"
   ]
  },
  {
   "cell_type": "code",
   "execution_count": 30,
   "metadata": {},
   "outputs": [
    {
     "name": "stdout",
     "output_type": "stream",
     "text": [
      "0.7596153846153846\n"
     ]
    }
   ],
   "source": [
    "print(recall_score(predictions_tree, target_valid))"
   ]
  },
  {
   "cell_type": "markdown",
   "metadata": {},
   "source": [
    "Эта модель показывает еще меньшее качество"
   ]
  },
  {
   "cell_type": "markdown",
   "metadata": {},
   "source": [
    "### модель логистической регрессии"
   ]
  },
  {
   "cell_type": "code",
   "execution_count": 31,
   "metadata": {},
   "outputs": [
    {
     "name": "stdout",
     "output_type": "stream",
     "text": [
      "0.23979591836734693\n"
     ]
    }
   ],
   "source": [
    "print(precision_score(predictions_logistic, target_valid))"
   ]
  },
  {
   "cell_type": "code",
   "execution_count": 32,
   "metadata": {
    "scrolled": true
   },
   "outputs": [
    {
     "name": "stdout",
     "output_type": "stream",
     "text": [
      "0.8867924528301887\n"
     ]
    }
   ],
   "source": [
    "print(recall_score(predictions_logistic, target_valid))"
   ]
  },
  {
   "cell_type": "markdown",
   "metadata": {},
   "source": [
    "Качество этой модели совсем неудовлетворительно."
   ]
  },
  {
   "cell_type": "markdown",
   "metadata": {},
   "source": [
    "[Наверх](#Содержание:)"
   ]
  },
  {
   "cell_type": "code",
   "execution_count": 33,
   "metadata": {},
   "outputs": [
    {
     "data": {
      "text/html": [
       "<div>\n",
       "<style scoped>\n",
       "    .dataframe tbody tr th:only-of-type {\n",
       "        vertical-align: middle;\n",
       "    }\n",
       "\n",
       "    .dataframe tbody tr th {\n",
       "        vertical-align: top;\n",
       "    }\n",
       "\n",
       "    .dataframe thead th {\n",
       "        text-align: right;\n",
       "    }\n",
       "</style>\n",
       "<table border=\"1\" class=\"dataframe\">\n",
       "  <thead>\n",
       "    <tr style=\"text-align: right;\">\n",
       "      <th></th>\n",
       "      <th>most_frequent</th>\n",
       "    </tr>\n",
       "  </thead>\n",
       "  <tbody>\n",
       "    <tr>\n",
       "      <td>0</td>\n",
       "      <td>0.688958</td>\n",
       "    </tr>\n",
       "  </tbody>\n",
       "</table>\n",
       "</div>"
      ],
      "text/plain": [
       "   most_frequent\n",
       "0       0.688958"
      ]
     },
     "execution_count": 33,
     "metadata": {},
     "output_type": "execute_result"
    }
   ],
   "source": [
    "strategies = ['most_frequent']\n",
    "\n",
    "dummy_results = []\n",
    "for strategy in strategies:\n",
    "    dc = DummyClassifier(strategy = strategy, random_state = 42)\n",
    "    dc.fit(features_new, target_new)\n",
    "    result = dc.score(features_test, target_test) \n",
    "    dummy_results.append({strategy: result}) \n",
    "pd.DataFrame(dummy_results)\n"
   ]
  },
  {
   "cell_type": "markdown",
   "metadata": {},
   "source": [
    "# Выводы"
   ]
  },
  {
   "cell_type": "markdown",
   "metadata": {},
   "source": [
    "* Данные изучены,\n",
    "* удалены сильно коррелированные друг с другом признаки с целью предотвратить переобучение модели и предвзятости относительно одного отдельного признака.\n",
    "* Данные разделены на выборки: 60% для обучаюшей выборки, по 20% тестовой и валидационной.\n",
    "* построены разные модели\n",
    "* изучено влияние изменений гиперпараметров некоторых моделей. Влияние максимальной глубины на дерево решений увеличило accuracy c 0.73 до 0.788. А перебор количества деревьев и их глубины модели случайного леса позволил достичь accuracy 0,80.\n",
    "* модели проверены на тестовой выборке: лучший показатель accuracy принадлежить модели случайного леса с изменение гиперпараметра - 0.777.\n",
    "* проверены модели на адекватность: наиболее адекватна модель случайного леса с изменением количества деревьев. \n",
    "* При увеличении обучающей выборки за счет валидационной, проверка на тестовой выборке показала лучшие результаты для моделей дерева решений и случайного леса, увеличив точность с 0.766 до 0,823 и с 0.787 до 0,839 соответственно. А для модели логистической регрессии точность упала с 0,726 до 0,704.\n",
    "* все модели достаточно эффективные по сравнению с моделью фиктивного классификатора DummyClassifier."
   ]
  },
  {
   "cell_type": "code",
   "execution_count": null,
   "metadata": {},
   "outputs": [],
   "source": []
  }
 ],
 "metadata": {
  "ExecuteTimeLog": [
   {
    "duration": 548,
    "start_time": "2022-01-18T11:12:43.257Z"
   },
   {
    "duration": 20,
    "start_time": "2022-01-18T11:12:44.139Z"
   },
   {
    "duration": 16,
    "start_time": "2022-01-18T11:12:45.120Z"
   },
   {
    "duration": 8,
    "start_time": "2022-01-18T11:13:35.678Z"
   },
   {
    "duration": 65,
    "start_time": "2022-01-18T11:15:03.282Z"
   },
   {
    "duration": 5,
    "start_time": "2022-01-18T11:15:15.418Z"
   },
   {
    "duration": 225,
    "start_time": "2022-01-18T11:18:42.175Z"
   },
   {
    "duration": 472,
    "start_time": "2022-01-18T11:22:43.322Z"
   },
   {
    "duration": 18,
    "start_time": "2022-01-18T11:22:44.532Z"
   },
   {
    "duration": 10,
    "start_time": "2022-01-18T11:22:45.291Z"
   },
   {
    "duration": 6,
    "start_time": "2022-01-18T11:22:47.322Z"
   },
   {
    "duration": 4,
    "start_time": "2022-01-18T11:22:52.865Z"
   },
   {
    "duration": 209,
    "start_time": "2022-01-18T11:22:53.755Z"
   },
   {
    "duration": 935,
    "start_time": "2022-01-18T15:16:51.816Z"
   },
   {
    "duration": 19,
    "start_time": "2022-01-18T15:16:53.581Z"
   },
   {
    "duration": 14,
    "start_time": "2022-01-18T15:16:54.306Z"
   },
   {
    "duration": 6,
    "start_time": "2022-01-18T15:16:55.252Z"
   },
   {
    "duration": 4,
    "start_time": "2022-01-18T15:16:57.868Z"
   },
   {
    "duration": 5,
    "start_time": "2022-01-18T15:16:58.931Z"
   },
   {
    "duration": 4,
    "start_time": "2022-01-18T15:17:48.047Z"
   },
   {
    "duration": 4,
    "start_time": "2022-01-18T15:18:10.735Z"
   },
   {
    "duration": 3,
    "start_time": "2022-01-18T15:18:40.897Z"
   },
   {
    "duration": 5,
    "start_time": "2022-01-18T15:18:53.654Z"
   },
   {
    "duration": 3,
    "start_time": "2022-01-18T15:18:55.343Z"
   },
   {
    "duration": 3,
    "start_time": "2022-01-18T15:18:57.591Z"
   },
   {
    "duration": 3,
    "start_time": "2022-01-18T15:18:59.120Z"
   },
   {
    "duration": 4,
    "start_time": "2022-01-18T15:20:50.699Z"
   },
   {
    "duration": 5,
    "start_time": "2022-01-18T15:20:51.593Z"
   },
   {
    "duration": 3,
    "start_time": "2022-01-18T15:20:54.802Z"
   },
   {
    "duration": 3,
    "start_time": "2022-01-18T15:20:59.132Z"
   },
   {
    "duration": 5,
    "start_time": "2022-01-18T15:21:28.528Z"
   },
   {
    "duration": 4,
    "start_time": "2022-01-18T15:21:53.035Z"
   },
   {
    "duration": 2,
    "start_time": "2022-01-18T15:22:13.803Z"
   },
   {
    "duration": 3,
    "start_time": "2022-01-18T15:22:28.205Z"
   },
   {
    "duration": 3,
    "start_time": "2022-01-18T15:23:32.817Z"
   },
   {
    "duration": 6,
    "start_time": "2022-01-18T15:26:18.028Z"
   },
   {
    "duration": 4,
    "start_time": "2022-01-18T15:26:18.928Z"
   },
   {
    "duration": 3,
    "start_time": "2022-01-18T15:26:19.572Z"
   },
   {
    "duration": 4,
    "start_time": "2022-01-18T15:26:20.584Z"
   },
   {
    "duration": 1471,
    "start_time": "2022-01-18T18:36:02.863Z"
   },
   {
    "duration": 4,
    "start_time": "2022-01-18T18:40:17.018Z"
   },
   {
    "duration": 266,
    "start_time": "2022-01-18T18:40:25.480Z"
   },
   {
    "duration": 267,
    "start_time": "2022-01-18T18:40:41.096Z"
   },
   {
    "duration": 247,
    "start_time": "2022-01-18T18:40:41.944Z"
   },
   {
    "duration": 1017,
    "start_time": "2022-01-18T18:40:50.693Z"
   },
   {
    "duration": 19,
    "start_time": "2022-01-18T18:40:51.714Z"
   },
   {
    "duration": 21,
    "start_time": "2022-01-18T18:40:51.736Z"
   },
   {
    "duration": 8,
    "start_time": "2022-01-18T18:40:51.759Z"
   },
   {
    "duration": 5,
    "start_time": "2022-01-18T18:40:51.770Z"
   },
   {
    "duration": 8,
    "start_time": "2022-01-18T18:40:51.777Z"
   },
   {
    "duration": 10,
    "start_time": "2022-01-18T18:40:51.788Z"
   },
   {
    "duration": 6,
    "start_time": "2022-01-18T18:40:51.800Z"
   },
   {
    "duration": 10,
    "start_time": "2022-01-18T18:40:51.807Z"
   },
   {
    "duration": 278,
    "start_time": "2022-01-18T18:40:51.818Z"
   },
   {
    "duration": 369,
    "start_time": "2022-01-18T18:43:02.645Z"
   },
   {
    "duration": 82,
    "start_time": "2022-01-18T19:00:37.240Z"
   },
   {
    "duration": 3,
    "start_time": "2022-01-18T19:00:49.773Z"
   },
   {
    "duration": 1068,
    "start_time": "2022-01-18T19:34:03.740Z"
   },
   {
    "duration": 19,
    "start_time": "2022-01-18T19:34:04.810Z"
   },
   {
    "duration": 26,
    "start_time": "2022-01-18T19:34:04.831Z"
   },
   {
    "duration": 27,
    "start_time": "2022-01-18T19:34:04.859Z"
   },
   {
    "duration": 11,
    "start_time": "2022-01-18T19:34:04.888Z"
   },
   {
    "duration": 27,
    "start_time": "2022-01-18T19:34:04.901Z"
   },
   {
    "duration": 24,
    "start_time": "2022-01-18T19:34:04.930Z"
   },
   {
    "duration": 15,
    "start_time": "2022-01-18T19:34:04.956Z"
   },
   {
    "duration": 15,
    "start_time": "2022-01-18T19:34:04.974Z"
   },
   {
    "duration": 255,
    "start_time": "2022-01-18T19:34:04.990Z"
   },
   {
    "duration": 415,
    "start_time": "2022-01-18T19:40:07.992Z"
   },
   {
    "duration": 1151,
    "start_time": "2022-01-18T19:40:21.870Z"
   },
   {
    "duration": 19,
    "start_time": "2022-01-18T19:40:23.023Z"
   },
   {
    "duration": 30,
    "start_time": "2022-01-18T19:40:23.045Z"
   },
   {
    "duration": 7,
    "start_time": "2022-01-18T19:40:23.078Z"
   },
   {
    "duration": 11,
    "start_time": "2022-01-18T19:40:23.086Z"
   },
   {
    "duration": 11,
    "start_time": "2022-01-18T19:40:23.099Z"
   },
   {
    "duration": 9,
    "start_time": "2022-01-18T19:40:23.111Z"
   },
   {
    "duration": 8,
    "start_time": "2022-01-18T19:40:23.122Z"
   },
   {
    "duration": 9,
    "start_time": "2022-01-18T19:40:23.132Z"
   },
   {
    "duration": 248,
    "start_time": "2022-01-18T19:40:23.143Z"
   },
   {
    "duration": 398,
    "start_time": "2022-01-18T19:40:23.393Z"
   },
   {
    "duration": 254,
    "start_time": "2022-01-18T19:41:10.699Z"
   },
   {
    "duration": 15,
    "start_time": "2022-01-18T19:41:23.586Z"
   },
   {
    "duration": 260,
    "start_time": "2022-01-18T19:43:04.789Z"
   },
   {
    "duration": 15,
    "start_time": "2022-01-18T19:43:20.485Z"
   },
   {
    "duration": 2942,
    "start_time": "2022-01-18T19:55:16.161Z"
   },
   {
    "duration": 2825,
    "start_time": "2022-01-18T19:57:41.541Z"
   },
   {
    "duration": 4029,
    "start_time": "2022-01-18T19:58:23.974Z"
   },
   {
    "duration": 4786,
    "start_time": "2022-01-18T19:58:43.469Z"
   },
   {
    "duration": 4600,
    "start_time": "2022-01-18T19:59:08.712Z"
   },
   {
    "duration": 3,
    "start_time": "2022-01-18T20:04:58.179Z"
   },
   {
    "duration": 274,
    "start_time": "2022-01-18T20:05:06.035Z"
   },
   {
    "duration": 274,
    "start_time": "2022-01-18T20:05:29.336Z"
   },
   {
    "duration": 258,
    "start_time": "2022-01-18T20:05:40.655Z"
   },
   {
    "duration": 8,
    "start_time": "2022-01-18T20:06:11.896Z"
   },
   {
    "duration": 5497,
    "start_time": "2022-01-18T20:12:24.956Z"
   },
   {
    "duration": 15,
    "start_time": "2022-01-18T20:13:05.335Z"
   },
   {
    "duration": 4835,
    "start_time": "2022-01-18T20:31:23.239Z"
   },
   {
    "duration": 4813,
    "start_time": "2022-01-18T20:31:38.651Z"
   },
   {
    "duration": 4870,
    "start_time": "2022-01-18T20:31:55.552Z"
   },
   {
    "duration": 5340,
    "start_time": "2022-01-18T20:32:11.669Z"
   },
   {
    "duration": 4772,
    "start_time": "2022-01-18T20:32:31.484Z"
   },
   {
    "duration": 1593,
    "start_time": "2022-01-19T19:16:19.338Z"
   },
   {
    "duration": 24,
    "start_time": "2022-01-19T19:16:20.934Z"
   },
   {
    "duration": 23,
    "start_time": "2022-01-19T19:16:20.961Z"
   },
   {
    "duration": 9,
    "start_time": "2022-01-19T19:16:20.987Z"
   },
   {
    "duration": 12,
    "start_time": "2022-01-19T19:16:21.000Z"
   },
   {
    "duration": 12,
    "start_time": "2022-01-19T19:16:21.015Z"
   },
   {
    "duration": 35,
    "start_time": "2022-01-19T19:16:21.030Z"
   },
   {
    "duration": 4,
    "start_time": "2022-01-19T19:16:21.069Z"
   },
   {
    "duration": 9,
    "start_time": "2022-01-19T19:16:21.076Z"
   },
   {
    "duration": 568,
    "start_time": "2022-01-19T19:16:21.087Z"
   },
   {
    "duration": 2044,
    "start_time": "2022-01-19T19:16:19.613Z"
   },
   {
    "duration": 2034,
    "start_time": "2022-01-19T19:16:19.625Z"
   },
   {
    "duration": 1338,
    "start_time": "2022-01-19T19:17:41.342Z"
   },
   {
    "duration": 24,
    "start_time": "2022-01-19T19:17:42.682Z"
   },
   {
    "duration": 23,
    "start_time": "2022-01-19T19:17:42.709Z"
   },
   {
    "duration": 9,
    "start_time": "2022-01-19T19:17:42.735Z"
   },
   {
    "duration": 21,
    "start_time": "2022-01-19T19:17:42.747Z"
   },
   {
    "duration": 15,
    "start_time": "2022-01-19T19:17:42.771Z"
   },
   {
    "duration": 11,
    "start_time": "2022-01-19T19:17:42.789Z"
   },
   {
    "duration": 12,
    "start_time": "2022-01-19T19:17:42.803Z"
   },
   {
    "duration": 20,
    "start_time": "2022-01-19T19:17:42.818Z"
   },
   {
    "duration": 28,
    "start_time": "2022-01-19T19:17:42.840Z"
   },
   {
    "duration": 331,
    "start_time": "2022-01-19T19:17:42.870Z"
   },
   {
    "duration": 416,
    "start_time": "2022-01-19T19:17:43.203Z"
   },
   {
    "duration": 42,
    "start_time": "2022-01-19T19:20:44.416Z"
   },
   {
    "duration": 43,
    "start_time": "2022-01-19T19:23:24.536Z"
   },
   {
    "duration": 42,
    "start_time": "2022-01-19T19:23:31.709Z"
   },
   {
    "duration": 53,
    "start_time": "2022-01-19T19:24:17.621Z"
   },
   {
    "duration": 42,
    "start_time": "2022-01-19T19:24:40.057Z"
   },
   {
    "duration": 43,
    "start_time": "2022-01-19T19:24:49.644Z"
   },
   {
    "duration": 5,
    "start_time": "2022-01-19T19:25:29.189Z"
   },
   {
    "duration": 5,
    "start_time": "2022-01-19T19:25:41.623Z"
   },
   {
    "duration": 44,
    "start_time": "2022-01-19T19:26:46.395Z"
   },
   {
    "duration": 41,
    "start_time": "2022-01-19T19:27:02.833Z"
   },
   {
    "duration": 40,
    "start_time": "2022-01-19T19:27:21.874Z"
   },
   {
    "duration": 325,
    "start_time": "2022-01-19T19:29:38.984Z"
   },
   {
    "duration": 618,
    "start_time": "2022-01-19T19:30:30.011Z"
   },
   {
    "duration": 304,
    "start_time": "2022-01-19T19:33:13.643Z"
   },
   {
    "duration": 321,
    "start_time": "2022-01-19T19:35:17.255Z"
   },
   {
    "duration": 20,
    "start_time": "2022-01-19T19:35:53.554Z"
   },
   {
    "duration": 1450,
    "start_time": "2022-01-19T19:36:11.693Z"
   },
   {
    "duration": 24,
    "start_time": "2022-01-19T19:36:13.146Z"
   },
   {
    "duration": 23,
    "start_time": "2022-01-19T19:36:13.173Z"
   },
   {
    "duration": 10,
    "start_time": "2022-01-19T19:36:13.200Z"
   },
   {
    "duration": 7,
    "start_time": "2022-01-19T19:36:13.213Z"
   },
   {
    "duration": 42,
    "start_time": "2022-01-19T19:36:13.223Z"
   },
   {
    "duration": 9,
    "start_time": "2022-01-19T19:36:13.267Z"
   },
   {
    "duration": 5,
    "start_time": "2022-01-19T19:36:13.281Z"
   },
   {
    "duration": 6,
    "start_time": "2022-01-19T19:36:13.289Z"
   },
   {
    "duration": 67,
    "start_time": "2022-01-19T19:36:13.298Z"
   },
   {
    "duration": 47,
    "start_time": "2022-01-19T19:36:13.369Z"
   },
   {
    "duration": 629,
    "start_time": "2022-01-19T19:36:13.419Z"
   },
   {
    "duration": 461,
    "start_time": "2022-01-19T19:36:14.051Z"
   },
   {
    "duration": 19,
    "start_time": "2022-01-19T19:37:36.058Z"
   },
   {
    "duration": 50,
    "start_time": "2022-01-19T19:43:02.181Z"
   },
   {
    "duration": 47,
    "start_time": "2022-01-19T19:43:08.186Z"
   },
   {
    "duration": 590,
    "start_time": "2022-01-19T19:45:08.226Z"
   },
   {
    "duration": 13,
    "start_time": "2022-01-19T19:46:17.692Z"
   },
   {
    "duration": 42,
    "start_time": "2022-01-19T19:48:18.290Z"
   },
   {
    "duration": 6,
    "start_time": "2022-01-19T19:48:56.090Z"
   },
   {
    "duration": 7,
    "start_time": "2022-01-19T19:49:42.155Z"
   },
   {
    "duration": 5,
    "start_time": "2022-01-19T19:52:25.047Z"
   },
   {
    "duration": 793,
    "start_time": "2022-01-19T19:55:40.985Z"
   },
   {
    "duration": 10,
    "start_time": "2022-01-19T19:56:25.986Z"
   },
   {
    "duration": 7,
    "start_time": "2022-01-19T19:57:28.762Z"
   },
   {
    "duration": 45,
    "start_time": "2022-01-19T20:07:06.486Z"
   },
   {
    "duration": 8,
    "start_time": "2022-01-19T20:08:07.142Z"
   },
   {
    "duration": 8,
    "start_time": "2022-01-19T20:08:08.327Z"
   },
   {
    "duration": 46,
    "start_time": "2022-01-19T20:08:40.823Z"
   },
   {
    "duration": 7,
    "start_time": "2022-01-19T20:08:58.877Z"
   },
   {
    "duration": 7,
    "start_time": "2022-01-19T20:08:59.819Z"
   },
   {
    "duration": 1436,
    "start_time": "2022-01-19T20:09:15.369Z"
   },
   {
    "duration": 26,
    "start_time": "2022-01-19T20:09:16.808Z"
   },
   {
    "duration": 30,
    "start_time": "2022-01-19T20:09:16.837Z"
   },
   {
    "duration": 14,
    "start_time": "2022-01-19T20:09:16.869Z"
   },
   {
    "duration": 5,
    "start_time": "2022-01-19T20:09:16.886Z"
   },
   {
    "duration": 10,
    "start_time": "2022-01-19T20:09:16.893Z"
   },
   {
    "duration": 10,
    "start_time": "2022-01-19T20:09:16.905Z"
   },
   {
    "duration": 12,
    "start_time": "2022-01-19T20:09:16.919Z"
   },
   {
    "duration": 35,
    "start_time": "2022-01-19T20:09:16.935Z"
   },
   {
    "duration": 30,
    "start_time": "2022-01-19T20:09:16.973Z"
   },
   {
    "duration": 64,
    "start_time": "2022-01-19T20:09:17.006Z"
   },
   {
    "duration": 719,
    "start_time": "2022-01-19T20:09:17.073Z"
   },
   {
    "duration": 51,
    "start_time": "2022-01-19T20:09:17.794Z"
   },
   {
    "duration": 11,
    "start_time": "2022-01-19T20:09:17.863Z"
   },
   {
    "duration": 48,
    "start_time": "2022-01-19T20:09:17.877Z"
   },
   {
    "duration": 20,
    "start_time": "2022-01-19T20:09:17.927Z"
   },
   {
    "duration": 20,
    "start_time": "2022-01-19T20:09:17.949Z"
   },
   {
    "duration": 20,
    "start_time": "2022-01-19T20:09:17.972Z"
   },
   {
    "duration": 14,
    "start_time": "2022-01-19T20:09:17.995Z"
   },
   {
    "duration": 13,
    "start_time": "2022-01-19T20:09:18.012Z"
   },
   {
    "duration": 9,
    "start_time": "2022-01-19T20:09:18.027Z"
   },
   {
    "duration": 28,
    "start_time": "2022-01-19T20:09:18.039Z"
   },
   {
    "duration": 1449,
    "start_time": "2022-01-20T18:46:19.307Z"
   },
   {
    "duration": 19,
    "start_time": "2022-01-20T18:46:20.759Z"
   },
   {
    "duration": 22,
    "start_time": "2022-01-20T18:46:20.781Z"
   },
   {
    "duration": 28,
    "start_time": "2022-01-20T18:46:20.805Z"
   },
   {
    "duration": 5,
    "start_time": "2022-01-20T18:46:20.835Z"
   },
   {
    "duration": 10,
    "start_time": "2022-01-20T18:46:20.842Z"
   },
   {
    "duration": 10,
    "start_time": "2022-01-20T18:46:20.854Z"
   },
   {
    "duration": 7,
    "start_time": "2022-01-20T18:46:20.867Z"
   },
   {
    "duration": 7,
    "start_time": "2022-01-20T18:46:20.878Z"
   },
   {
    "duration": 54,
    "start_time": "2022-01-20T18:46:20.888Z"
   },
   {
    "duration": 45,
    "start_time": "2022-01-20T18:46:20.945Z"
   },
   {
    "duration": 717,
    "start_time": "2022-01-20T18:46:20.993Z"
   },
   {
    "duration": 56,
    "start_time": "2022-01-20T18:46:21.713Z"
   },
   {
    "duration": 10,
    "start_time": "2022-01-20T18:46:21.771Z"
   },
   {
    "duration": 6,
    "start_time": "2022-01-20T18:46:21.783Z"
   },
   {
    "duration": 6,
    "start_time": "2022-01-20T18:46:21.792Z"
   },
   {
    "duration": 7,
    "start_time": "2022-01-20T18:46:21.832Z"
   },
   {
    "duration": 7,
    "start_time": "2022-01-20T18:46:21.841Z"
   },
   {
    "duration": 6,
    "start_time": "2022-01-20T18:46:21.851Z"
   },
   {
    "duration": 6,
    "start_time": "2022-01-20T18:46:21.860Z"
   },
   {
    "duration": 6,
    "start_time": "2022-01-20T18:46:21.869Z"
   },
   {
    "duration": 58,
    "start_time": "2022-01-20T18:46:21.878Z"
   },
   {
    "duration": 4436,
    "start_time": "2022-01-20T19:25:19.469Z"
   },
   {
    "duration": 1398,
    "start_time": "2022-01-20T19:25:44.583Z"
   },
   {
    "duration": 19,
    "start_time": "2022-01-20T19:25:45.984Z"
   },
   {
    "duration": 34,
    "start_time": "2022-01-20T19:25:46.006Z"
   },
   {
    "duration": 10,
    "start_time": "2022-01-20T19:25:46.043Z"
   },
   {
    "duration": 9,
    "start_time": "2022-01-20T19:25:46.056Z"
   },
   {
    "duration": 9,
    "start_time": "2022-01-20T19:25:46.067Z"
   },
   {
    "duration": 7,
    "start_time": "2022-01-20T19:25:46.078Z"
   },
   {
    "duration": 44,
    "start_time": "2022-01-20T19:25:46.090Z"
   },
   {
    "duration": 9,
    "start_time": "2022-01-20T19:25:46.138Z"
   },
   {
    "duration": 26,
    "start_time": "2022-01-20T19:25:46.150Z"
   },
   {
    "duration": 80,
    "start_time": "2022-01-20T19:25:46.179Z"
   },
   {
    "duration": 4506,
    "start_time": "2022-01-20T19:25:46.261Z"
   },
   {
    "duration": 65,
    "start_time": "2022-01-20T19:25:50.770Z"
   },
   {
    "duration": 8,
    "start_time": "2022-01-20T19:25:50.837Z"
   },
   {
    "duration": 17,
    "start_time": "2022-01-20T19:25:50.848Z"
   },
   {
    "duration": 7,
    "start_time": "2022-01-20T19:25:50.868Z"
   },
   {
    "duration": 7,
    "start_time": "2022-01-20T19:25:50.877Z"
   },
   {
    "duration": 47,
    "start_time": "2022-01-20T19:25:50.887Z"
   },
   {
    "duration": 11,
    "start_time": "2022-01-20T19:25:50.937Z"
   },
   {
    "duration": 27,
    "start_time": "2022-01-20T19:25:50.950Z"
   },
   {
    "duration": 20,
    "start_time": "2022-01-20T19:25:50.979Z"
   },
   {
    "duration": 23,
    "start_time": "2022-01-20T19:25:51.002Z"
   },
   {
    "duration": 1400,
    "start_time": "2022-01-20T19:44:13.019Z"
   },
   {
    "duration": 28,
    "start_time": "2022-01-20T19:44:14.422Z"
   },
   {
    "duration": 22,
    "start_time": "2022-01-20T19:44:14.453Z"
   },
   {
    "duration": 10,
    "start_time": "2022-01-20T19:44:14.477Z"
   },
   {
    "duration": 4,
    "start_time": "2022-01-20T19:44:14.490Z"
   },
   {
    "duration": 37,
    "start_time": "2022-01-20T19:44:14.496Z"
   },
   {
    "duration": 7,
    "start_time": "2022-01-20T19:44:14.535Z"
   },
   {
    "duration": 8,
    "start_time": "2022-01-20T19:44:14.546Z"
   },
   {
    "duration": 7,
    "start_time": "2022-01-20T19:44:14.557Z"
   },
   {
    "duration": 20,
    "start_time": "2022-01-20T19:44:14.567Z"
   },
   {
    "duration": 42,
    "start_time": "2022-01-20T19:44:14.633Z"
   },
   {
    "duration": 4457,
    "start_time": "2022-01-20T19:44:14.677Z"
   },
   {
    "duration": 70,
    "start_time": "2022-01-20T19:44:19.137Z"
   },
   {
    "duration": 26,
    "start_time": "2022-01-20T19:44:19.210Z"
   },
   {
    "duration": 7,
    "start_time": "2022-01-20T19:44:19.239Z"
   },
   {
    "duration": 6,
    "start_time": "2022-01-20T19:44:19.248Z"
   },
   {
    "duration": 8,
    "start_time": "2022-01-20T19:44:19.256Z"
   },
   {
    "duration": 8,
    "start_time": "2022-01-20T19:44:19.266Z"
   },
   {
    "duration": 7,
    "start_time": "2022-01-20T19:44:19.276Z"
   },
   {
    "duration": 7,
    "start_time": "2022-01-20T19:44:19.333Z"
   },
   {
    "duration": 9,
    "start_time": "2022-01-20T19:44:19.342Z"
   },
   {
    "duration": 6,
    "start_time": "2022-01-20T19:44:19.354Z"
   },
   {
    "duration": 1398,
    "start_time": "2022-01-20T19:58:22.562Z"
   },
   {
    "duration": 24,
    "start_time": "2022-01-20T19:58:23.963Z"
   },
   {
    "duration": 23,
    "start_time": "2022-01-20T19:58:24.576Z"
   },
   {
    "duration": 9,
    "start_time": "2022-01-20T19:58:25.300Z"
   },
   {
    "duration": 5,
    "start_time": "2022-01-20T19:59:47.564Z"
   },
   {
    "duration": 7,
    "start_time": "2022-01-20T19:59:47.817Z"
   },
   {
    "duration": 8,
    "start_time": "2022-01-20T19:59:48.039Z"
   },
   {
    "duration": 6,
    "start_time": "2022-01-20T19:59:48.272Z"
   },
   {
    "duration": 5,
    "start_time": "2022-01-20T19:59:48.543Z"
   },
   {
    "duration": 20,
    "start_time": "2022-01-20T20:01:22.146Z"
   },
   {
    "duration": 41,
    "start_time": "2022-01-20T20:03:12.199Z"
   },
   {
    "duration": 48,
    "start_time": "2022-01-20T20:04:22.002Z"
   },
   {
    "duration": 4972,
    "start_time": "2022-01-20T20:04:25.677Z"
   },
   {
    "duration": 8,
    "start_time": "2022-01-20T20:05:49.525Z"
   },
   {
    "duration": 7,
    "start_time": "2022-01-20T20:05:50.452Z"
   },
   {
    "duration": 7,
    "start_time": "2022-01-20T20:05:50.931Z"
   },
   {
    "duration": 7,
    "start_time": "2022-01-20T20:07:55.568Z"
   },
   {
    "duration": 8,
    "start_time": "2022-01-20T20:07:56.460Z"
   },
   {
    "duration": 8,
    "start_time": "2022-01-20T20:07:58.122Z"
   },
   {
    "duration": 7,
    "start_time": "2022-01-20T20:07:58.313Z"
   },
   {
    "duration": 8,
    "start_time": "2022-01-20T20:07:59.320Z"
   },
   {
    "duration": 7,
    "start_time": "2022-01-20T20:07:59.527Z"
   },
   {
    "duration": 1416,
    "start_time": "2022-01-22T09:34:08.396Z"
   },
   {
    "duration": 21,
    "start_time": "2022-01-22T09:34:09.815Z"
   },
   {
    "duration": 21,
    "start_time": "2022-01-22T09:34:09.839Z"
   },
   {
    "duration": 9,
    "start_time": "2022-01-22T09:34:09.863Z"
   },
   {
    "duration": 5,
    "start_time": "2022-01-22T09:34:09.874Z"
   },
   {
    "duration": 7,
    "start_time": "2022-01-22T09:34:09.881Z"
   },
   {
    "duration": 6,
    "start_time": "2022-01-22T09:34:09.890Z"
   },
   {
    "duration": 5,
    "start_time": "2022-01-22T09:34:09.899Z"
   },
   {
    "duration": 53,
    "start_time": "2022-01-22T09:34:09.906Z"
   },
   {
    "duration": 21,
    "start_time": "2022-01-22T09:34:09.961Z"
   },
   {
    "duration": 39,
    "start_time": "2022-01-22T09:34:09.985Z"
   },
   {
    "duration": 4289,
    "start_time": "2022-01-22T09:34:10.026Z"
   },
   {
    "duration": 58,
    "start_time": "2022-01-22T09:34:14.317Z"
   },
   {
    "duration": 8,
    "start_time": "2022-01-22T09:34:14.377Z"
   },
   {
    "duration": 7,
    "start_time": "2022-01-22T09:34:14.387Z"
   },
   {
    "duration": 7,
    "start_time": "2022-01-22T09:34:14.396Z"
   },
   {
    "duration": 8,
    "start_time": "2022-01-22T09:34:14.406Z"
   },
   {
    "duration": 9,
    "start_time": "2022-01-22T09:34:14.460Z"
   },
   {
    "duration": 8,
    "start_time": "2022-01-22T09:34:14.471Z"
   },
   {
    "duration": 8,
    "start_time": "2022-01-22T09:34:14.482Z"
   },
   {
    "duration": 8,
    "start_time": "2022-01-22T09:34:14.493Z"
   },
   {
    "duration": 61,
    "start_time": "2022-01-22T09:34:14.504Z"
   },
   {
    "duration": 16,
    "start_time": "2022-01-22T09:38:35.647Z"
   },
   {
    "duration": 526,
    "start_time": "2022-01-22T09:43:30.583Z"
   },
   {
    "duration": 439,
    "start_time": "2022-01-22T09:44:23.264Z"
   },
   {
    "duration": 456,
    "start_time": "2022-01-22T09:45:34.940Z"
   },
   {
    "duration": 1332,
    "start_time": "2022-01-23T17:41:55.290Z"
   },
   {
    "duration": 20,
    "start_time": "2022-01-23T17:41:56.624Z"
   },
   {
    "duration": 26,
    "start_time": "2022-01-23T17:41:56.647Z"
   },
   {
    "duration": 12,
    "start_time": "2022-01-23T17:41:56.675Z"
   },
   {
    "duration": 15,
    "start_time": "2022-01-23T17:41:56.689Z"
   },
   {
    "duration": 616,
    "start_time": "2022-01-23T17:41:56.706Z"
   },
   {
    "duration": 1526,
    "start_time": "2022-01-23T17:41:57.325Z"
   },
   {
    "duration": 20,
    "start_time": "2022-01-23T17:41:58.855Z"
   },
   {
    "duration": 5,
    "start_time": "2022-01-23T17:41:58.877Z"
   },
   {
    "duration": 7,
    "start_time": "2022-01-23T17:41:58.885Z"
   },
   {
    "duration": 6,
    "start_time": "2022-01-23T17:41:58.894Z"
   },
   {
    "duration": 4,
    "start_time": "2022-01-23T17:41:58.903Z"
   },
   {
    "duration": 5,
    "start_time": "2022-01-23T17:41:58.909Z"
   },
   {
    "duration": 67,
    "start_time": "2022-01-23T17:41:58.917Z"
   },
   {
    "duration": 45,
    "start_time": "2022-01-23T17:41:58.986Z"
   },
   {
    "duration": 4581,
    "start_time": "2022-01-23T17:41:59.034Z"
   },
   {
    "duration": 58,
    "start_time": "2022-01-23T17:42:03.618Z"
   },
   {
    "duration": 9,
    "start_time": "2022-01-23T17:42:03.679Z"
   },
   {
    "duration": 8,
    "start_time": "2022-01-23T17:42:03.691Z"
   },
   {
    "duration": 6,
    "start_time": "2022-01-23T17:42:03.701Z"
   },
   {
    "duration": 9,
    "start_time": "2022-01-23T17:42:03.709Z"
   },
   {
    "duration": 51,
    "start_time": "2022-01-23T17:42:03.720Z"
   },
   {
    "duration": 7,
    "start_time": "2022-01-23T17:42:03.775Z"
   },
   {
    "duration": 6,
    "start_time": "2022-01-23T17:42:03.784Z"
   },
   {
    "duration": 5,
    "start_time": "2022-01-23T17:42:03.793Z"
   },
   {
    "duration": 7,
    "start_time": "2022-01-23T17:42:03.801Z"
   },
   {
    "duration": 433,
    "start_time": "2022-01-23T17:42:45.265Z"
   },
   {
    "duration": 417,
    "start_time": "2022-01-23T17:43:00.740Z"
   },
   {
    "duration": 272,
    "start_time": "2022-01-23T17:43:17.170Z"
   },
   {
    "duration": 5,
    "start_time": "2022-01-23T17:43:38.324Z"
   },
   {
    "duration": 11,
    "start_time": "2022-01-23T17:43:39.466Z"
   },
   {
    "duration": 1411,
    "start_time": "2022-01-23T17:43:53.307Z"
   },
   {
    "duration": 19,
    "start_time": "2022-01-23T17:43:54.721Z"
   },
   {
    "duration": 31,
    "start_time": "2022-01-23T17:43:54.743Z"
   },
   {
    "duration": 10,
    "start_time": "2022-01-23T17:43:54.776Z"
   },
   {
    "duration": 15,
    "start_time": "2022-01-23T17:43:54.789Z"
   },
   {
    "duration": 614,
    "start_time": "2022-01-23T17:43:54.807Z"
   },
   {
    "duration": 5,
    "start_time": "2022-01-23T17:43:55.424Z"
   },
   {
    "duration": 13,
    "start_time": "2022-01-23T17:43:55.432Z"
   },
   {
    "duration": 26,
    "start_time": "2022-01-23T17:43:55.448Z"
   },
   {
    "duration": 7,
    "start_time": "2022-01-23T17:43:55.476Z"
   },
   {
    "duration": 6,
    "start_time": "2022-01-23T17:43:55.485Z"
   },
   {
    "duration": 4,
    "start_time": "2022-01-23T17:43:55.494Z"
   },
   {
    "duration": 5,
    "start_time": "2022-01-23T17:43:55.501Z"
   },
   {
    "duration": 61,
    "start_time": "2022-01-23T17:43:55.508Z"
   },
   {
    "duration": 39,
    "start_time": "2022-01-23T17:43:55.571Z"
   },
   {
    "duration": 3813,
    "start_time": "2022-01-23T17:43:55.612Z"
   },
   {
    "duration": 44,
    "start_time": "2022-01-23T17:43:59.427Z"
   },
   {
    "duration": 8,
    "start_time": "2022-01-23T17:43:59.473Z"
   },
   {
    "duration": 8,
    "start_time": "2022-01-23T17:43:59.484Z"
   },
   {
    "duration": 7,
    "start_time": "2022-01-23T17:43:59.494Z"
   },
   {
    "duration": 8,
    "start_time": "2022-01-23T17:43:59.503Z"
   },
   {
    "duration": 6,
    "start_time": "2022-01-23T17:43:59.514Z"
   },
   {
    "duration": 7,
    "start_time": "2022-01-23T17:43:59.572Z"
   },
   {
    "duration": 7,
    "start_time": "2022-01-23T17:43:59.581Z"
   },
   {
    "duration": 25,
    "start_time": "2022-01-23T17:43:59.591Z"
   },
   {
    "duration": 7,
    "start_time": "2022-01-23T17:43:59.618Z"
   },
   {
    "duration": 390,
    "start_time": "2022-01-23T17:49:09.159Z"
   },
   {
    "duration": 90,
    "start_time": "2022-01-23T17:57:49.172Z"
   },
   {
    "duration": 261,
    "start_time": "2022-01-23T17:58:04.800Z"
   },
   {
    "duration": 1381,
    "start_time": "2022-01-23T18:00:17.015Z"
   },
   {
    "duration": 20,
    "start_time": "2022-01-23T18:00:18.399Z"
   },
   {
    "duration": 22,
    "start_time": "2022-01-23T18:00:18.422Z"
   },
   {
    "duration": 25,
    "start_time": "2022-01-23T18:00:18.447Z"
   },
   {
    "duration": 17,
    "start_time": "2022-01-23T18:00:18.474Z"
   },
   {
    "duration": 622,
    "start_time": "2022-01-23T18:00:18.494Z"
   },
   {
    "duration": 6,
    "start_time": "2022-01-23T18:00:19.119Z"
   },
   {
    "duration": 17,
    "start_time": "2022-01-23T18:00:19.128Z"
   },
   {
    "duration": 22,
    "start_time": "2022-01-23T18:00:19.147Z"
   },
   {
    "duration": 6,
    "start_time": "2022-01-23T18:00:19.172Z"
   },
   {
    "duration": 7,
    "start_time": "2022-01-23T18:00:19.181Z"
   },
   {
    "duration": 9,
    "start_time": "2022-01-23T18:00:19.190Z"
   },
   {
    "duration": 7,
    "start_time": "2022-01-23T18:00:19.201Z"
   },
   {
    "duration": 19,
    "start_time": "2022-01-23T18:00:19.210Z"
   },
   {
    "duration": 40,
    "start_time": "2022-01-23T18:00:19.268Z"
   },
   {
    "duration": 3899,
    "start_time": "2022-01-23T18:00:19.310Z"
   },
   {
    "duration": 33,
    "start_time": "2022-01-23T18:00:23.211Z"
   },
   {
    "duration": 26,
    "start_time": "2022-01-23T18:00:23.247Z"
   },
   {
    "duration": 7,
    "start_time": "2022-01-23T18:00:23.276Z"
   },
   {
    "duration": 8,
    "start_time": "2022-01-23T18:00:23.285Z"
   },
   {
    "duration": 6,
    "start_time": "2022-01-23T18:00:23.296Z"
   },
   {
    "duration": 6,
    "start_time": "2022-01-23T18:00:23.305Z"
   },
   {
    "duration": 6,
    "start_time": "2022-01-23T18:00:23.315Z"
   },
   {
    "duration": 7,
    "start_time": "2022-01-23T18:00:23.370Z"
   },
   {
    "duration": 9,
    "start_time": "2022-01-23T18:00:23.379Z"
   },
   {
    "duration": 11,
    "start_time": "2022-01-23T18:00:23.390Z"
   },
   {
    "duration": 13,
    "start_time": "2022-01-23T18:00:23.404Z"
   },
   {
    "duration": 12,
    "start_time": "2022-01-23T18:01:32.258Z"
   },
   {
    "duration": 1357,
    "start_time": "2022-01-23T20:02:04.394Z"
   },
   {
    "duration": 21,
    "start_time": "2022-01-23T20:02:05.754Z"
   },
   {
    "duration": 20,
    "start_time": "2022-01-23T20:02:05.777Z"
   },
   {
    "duration": 8,
    "start_time": "2022-01-23T20:02:05.799Z"
   },
   {
    "duration": 13,
    "start_time": "2022-01-23T20:02:05.809Z"
   },
   {
    "duration": 561,
    "start_time": "2022-01-23T20:02:05.824Z"
   },
   {
    "duration": 5,
    "start_time": "2022-01-23T20:02:06.387Z"
   },
   {
    "duration": 10,
    "start_time": "2022-01-23T20:02:06.395Z"
   },
   {
    "duration": 4,
    "start_time": "2022-01-23T20:02:06.407Z"
   },
   {
    "duration": 8,
    "start_time": "2022-01-23T20:02:06.413Z"
   },
   {
    "duration": 4,
    "start_time": "2022-01-23T20:02:06.423Z"
   },
   {
    "duration": 4,
    "start_time": "2022-01-23T20:02:06.429Z"
   },
   {
    "duration": 4,
    "start_time": "2022-01-23T20:02:06.435Z"
   },
   {
    "duration": 42,
    "start_time": "2022-01-23T20:02:06.440Z"
   },
   {
    "duration": 24,
    "start_time": "2022-01-23T20:02:06.483Z"
   },
   {
    "duration": 2286,
    "start_time": "2022-01-23T20:02:06.509Z"
   },
   {
    "duration": 20,
    "start_time": "2022-01-23T20:02:08.797Z"
   },
   {
    "duration": 6,
    "start_time": "2022-01-23T20:02:08.819Z"
   },
   {
    "duration": 11,
    "start_time": "2022-01-23T20:02:08.826Z"
   },
   {
    "duration": 12,
    "start_time": "2022-01-23T20:02:08.838Z"
   },
   {
    "duration": 7,
    "start_time": "2022-01-23T20:02:08.872Z"
   },
   {
    "duration": 11,
    "start_time": "2022-01-23T20:02:08.881Z"
   },
   {
    "duration": 13,
    "start_time": "2022-01-23T20:02:08.896Z"
   },
   {
    "duration": 10,
    "start_time": "2022-01-23T20:02:08.911Z"
   },
   {
    "duration": 15,
    "start_time": "2022-01-23T20:02:08.923Z"
   },
   {
    "duration": 11,
    "start_time": "2022-01-23T20:02:08.940Z"
   },
   {
    "duration": 23,
    "start_time": "2022-01-23T20:02:08.953Z"
   },
   {
    "duration": 434,
    "start_time": "2022-01-23T20:32:31.210Z"
   },
   {
    "duration": 4,
    "start_time": "2022-01-23T20:39:08.459Z"
   },
   {
    "duration": 362,
    "start_time": "2022-01-23T20:39:30.496Z"
   },
   {
    "duration": 9,
    "start_time": "2022-01-23T20:39:39.938Z"
   },
   {
    "duration": 4,
    "start_time": "2022-01-23T20:41:20.345Z"
   },
   {
    "duration": 3,
    "start_time": "2022-01-23T20:41:44.712Z"
   },
   {
    "duration": 27,
    "start_time": "2022-01-23T20:45:27.239Z"
   },
   {
    "duration": 10,
    "start_time": "2022-01-23T20:48:06.886Z"
   },
   {
    "duration": 2299,
    "start_time": "2022-01-23T20:50:31.421Z"
   },
   {
    "duration": 19,
    "start_time": "2022-01-23T20:51:48.215Z"
   },
   {
    "duration": 15,
    "start_time": "2022-01-23T20:52:42.367Z"
   },
   {
    "duration": 9,
    "start_time": "2022-01-23T21:14:02.903Z"
   },
   {
    "duration": 10,
    "start_time": "2022-01-23T21:14:06.263Z"
   },
   {
    "duration": 1163,
    "start_time": "2022-01-23T21:25:39.748Z"
   },
   {
    "duration": 20,
    "start_time": "2022-01-23T21:25:40.914Z"
   },
   {
    "duration": 15,
    "start_time": "2022-01-23T21:25:40.936Z"
   },
   {
    "duration": 6,
    "start_time": "2022-01-23T21:25:40.953Z"
   },
   {
    "duration": 17,
    "start_time": "2022-01-23T21:25:40.961Z"
   },
   {
    "duration": 440,
    "start_time": "2022-01-23T21:25:40.979Z"
   },
   {
    "duration": 3,
    "start_time": "2022-01-23T21:25:41.421Z"
   },
   {
    "duration": 10,
    "start_time": "2022-01-23T21:25:41.426Z"
   },
   {
    "duration": 4,
    "start_time": "2022-01-23T21:25:41.438Z"
   },
   {
    "duration": 6,
    "start_time": "2022-01-23T21:25:41.444Z"
   },
   {
    "duration": 23,
    "start_time": "2022-01-23T21:25:41.451Z"
   },
   {
    "duration": 4,
    "start_time": "2022-01-23T21:25:41.476Z"
   },
   {
    "duration": 4,
    "start_time": "2022-01-23T21:25:41.482Z"
   },
   {
    "duration": 17,
    "start_time": "2022-01-23T21:25:41.488Z"
   },
   {
    "duration": 26,
    "start_time": "2022-01-23T21:25:41.506Z"
   },
   {
    "duration": 2510,
    "start_time": "2022-01-23T21:25:41.534Z"
   },
   {
    "duration": 29,
    "start_time": "2022-01-23T21:25:44.046Z"
   },
   {
    "duration": 6,
    "start_time": "2022-01-23T21:25:44.076Z"
   },
   {
    "duration": 9,
    "start_time": "2022-01-23T21:25:44.083Z"
   },
   {
    "duration": 12,
    "start_time": "2022-01-23T21:25:44.094Z"
   },
   {
    "duration": 18,
    "start_time": "2022-01-23T21:25:44.107Z"
   },
   {
    "duration": 12,
    "start_time": "2022-01-23T21:25:44.127Z"
   },
   {
    "duration": 7,
    "start_time": "2022-01-23T21:25:44.142Z"
   },
   {
    "duration": 10,
    "start_time": "2022-01-23T21:25:44.151Z"
   },
   {
    "duration": 26,
    "start_time": "2022-01-23T21:25:44.162Z"
   },
   {
    "duration": 15,
    "start_time": "2022-01-23T21:25:44.190Z"
   },
   {
    "duration": 4,
    "start_time": "2022-01-23T21:25:44.207Z"
   },
   {
    "duration": 7,
    "start_time": "2022-01-23T21:25:44.213Z"
   },
   {
    "duration": 11,
    "start_time": "2022-01-23T21:25:44.222Z"
   },
   {
    "duration": 7,
    "start_time": "2022-01-23T21:25:44.235Z"
   },
   {
    "duration": 28,
    "start_time": "2022-01-23T21:25:44.244Z"
   },
   {
    "duration": 5,
    "start_time": "2022-01-23T21:25:44.274Z"
   },
   {
    "duration": 12,
    "start_time": "2022-01-23T21:25:44.281Z"
   }
  ],
  "kernelspec": {
   "display_name": "Python 3",
   "language": "python",
   "name": "python3"
  },
  "language_info": {
   "codemirror_mode": {
    "name": "ipython",
    "version": 3
   },
   "file_extension": ".py",
   "mimetype": "text/x-python",
   "name": "python",
   "nbconvert_exporter": "python",
   "pygments_lexer": "ipython3",
   "version": "3.8.8"
  },
  "toc": {
   "base_numbering": 1,
   "nav_menu": {},
   "number_sections": true,
   "sideBar": true,
   "skip_h1_title": true,
   "title_cell": "Table of Contents",
   "title_sidebar": "Contents",
   "toc_cell": false,
   "toc_position": {},
   "toc_section_display": true,
   "toc_window_display": false
  }
 },
 "nbformat": 4,
 "nbformat_minor": 2
}
