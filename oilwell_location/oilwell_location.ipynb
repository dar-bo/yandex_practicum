{
 "cells": [
  {
   "cell_type": "markdown",
   "metadata": {},
   "source": [
    "# Выбор локации для скважины"
   ]
  },
  {
   "cell_type": "markdown",
   "metadata": {},
   "source": [
    "## Загрузка и подготовка данных"
   ]
  },
  {
   "cell_type": "code",
   "execution_count": 1,
   "metadata": {},
   "outputs": [],
   "source": [
    "import pandas as pd\n",
    "from sklearn.linear_model import LinearRegression\n",
    "from sklearn.preprocessing import StandardScaler\n",
    "from sklearn.model_selection import train_test_split\n",
    "from sklearn.metrics import mean_squared_error\n",
    "import numpy as np\n",
    "import matplotlib.pyplot as plt\n",
    "#1import sweetviz as sv\n",
    "#import pandas_profiling\n"
   ]
  },
  {
   "cell_type": "code",
   "execution_count": 2,
   "metadata": {},
   "outputs": [],
   "source": [
    "df1 = pd.read_csv('/datasets/geo_data_0.csv')\n",
    "df2 = pd.read_csv('/datasets/geo_data_1.csv')\n",
    "df3 = pd.read_csv('/datasets/geo_data_2.csv')\n"
   ]
  },
  {
   "cell_type": "markdown",
   "metadata": {},
   "source": [
    "### Выборка региона №1"
   ]
  },
  {
   "cell_type": "code",
   "execution_count": 3,
   "metadata": {
    "scrolled": true
   },
   "outputs": [
    {
     "data": {
      "text/html": [
       "<div>\n",
       "<style scoped>\n",
       "    .dataframe tbody tr th:only-of-type {\n",
       "        vertical-align: middle;\n",
       "    }\n",
       "\n",
       "    .dataframe tbody tr th {\n",
       "        vertical-align: top;\n",
       "    }\n",
       "\n",
       "    .dataframe thead th {\n",
       "        text-align: right;\n",
       "    }\n",
       "</style>\n",
       "<table border=\"1\" class=\"dataframe\">\n",
       "  <thead>\n",
       "    <tr style=\"text-align: right;\">\n",
       "      <th></th>\n",
       "      <th>id</th>\n",
       "      <th>f0</th>\n",
       "      <th>f1</th>\n",
       "      <th>f2</th>\n",
       "      <th>product</th>\n",
       "    </tr>\n",
       "  </thead>\n",
       "  <tbody>\n",
       "    <tr>\n",
       "      <td>0</td>\n",
       "      <td>txEyH</td>\n",
       "      <td>0.705745</td>\n",
       "      <td>-0.497823</td>\n",
       "      <td>1.221170</td>\n",
       "      <td>105.280062</td>\n",
       "    </tr>\n",
       "    <tr>\n",
       "      <td>1</td>\n",
       "      <td>2acmU</td>\n",
       "      <td>1.334711</td>\n",
       "      <td>-0.340164</td>\n",
       "      <td>4.365080</td>\n",
       "      <td>73.037750</td>\n",
       "    </tr>\n",
       "    <tr>\n",
       "      <td>2</td>\n",
       "      <td>409Wp</td>\n",
       "      <td>1.022732</td>\n",
       "      <td>0.151990</td>\n",
       "      <td>1.419926</td>\n",
       "      <td>85.265647</td>\n",
       "    </tr>\n",
       "    <tr>\n",
       "      <td>3</td>\n",
       "      <td>iJLyR</td>\n",
       "      <td>-0.032172</td>\n",
       "      <td>0.139033</td>\n",
       "      <td>2.978566</td>\n",
       "      <td>168.620776</td>\n",
       "    </tr>\n",
       "    <tr>\n",
       "      <td>4</td>\n",
       "      <td>Xdl7t</td>\n",
       "      <td>1.988431</td>\n",
       "      <td>0.155413</td>\n",
       "      <td>4.751769</td>\n",
       "      <td>154.036647</td>\n",
       "    </tr>\n",
       "  </tbody>\n",
       "</table>\n",
       "</div>"
      ],
      "text/plain": [
       "      id        f0        f1        f2     product\n",
       "0  txEyH  0.705745 -0.497823  1.221170  105.280062\n",
       "1  2acmU  1.334711 -0.340164  4.365080   73.037750\n",
       "2  409Wp  1.022732  0.151990  1.419926   85.265647\n",
       "3  iJLyR -0.032172  0.139033  2.978566  168.620776\n",
       "4  Xdl7t  1.988431  0.155413  4.751769  154.036647"
      ]
     },
     "execution_count": 3,
     "metadata": {},
     "output_type": "execute_result"
    }
   ],
   "source": [
    "df1.head()"
   ]
  },
  {
   "cell_type": "code",
   "execution_count": 4,
   "metadata": {
    "scrolled": false
   },
   "outputs": [
    {
     "name": "stdout",
     "output_type": "stream",
     "text": [
      "<class 'pandas.core.frame.DataFrame'>\n",
      "RangeIndex: 100000 entries, 0 to 99999\n",
      "Data columns (total 5 columns):\n",
      "id         100000 non-null object\n",
      "f0         100000 non-null float64\n",
      "f1         100000 non-null float64\n",
      "f2         100000 non-null float64\n",
      "product    100000 non-null float64\n",
      "dtypes: float64(4), object(1)\n",
      "memory usage: 3.8+ MB\n"
     ]
    }
   ],
   "source": [
    "df1.info()"
   ]
  },
  {
   "cell_type": "code",
   "execution_count": 5,
   "metadata": {},
   "outputs": [
    {
     "data": {
      "text/html": [
       "<div>\n",
       "<style scoped>\n",
       "    .dataframe tbody tr th:only-of-type {\n",
       "        vertical-align: middle;\n",
       "    }\n",
       "\n",
       "    .dataframe tbody tr th {\n",
       "        vertical-align: top;\n",
       "    }\n",
       "\n",
       "    .dataframe thead th {\n",
       "        text-align: right;\n",
       "    }\n",
       "</style>\n",
       "<table border=\"1\" class=\"dataframe\">\n",
       "  <thead>\n",
       "    <tr style=\"text-align: right;\">\n",
       "      <th></th>\n",
       "      <th>f0</th>\n",
       "      <th>f1</th>\n",
       "      <th>f2</th>\n",
       "      <th>product</th>\n",
       "    </tr>\n",
       "  </thead>\n",
       "  <tbody>\n",
       "    <tr>\n",
       "      <td>f0</td>\n",
       "      <td>1.000000</td>\n",
       "      <td>-0.440723</td>\n",
       "      <td>-0.003153</td>\n",
       "      <td>0.143536</td>\n",
       "    </tr>\n",
       "    <tr>\n",
       "      <td>f1</td>\n",
       "      <td>-0.440723</td>\n",
       "      <td>1.000000</td>\n",
       "      <td>0.001724</td>\n",
       "      <td>-0.192356</td>\n",
       "    </tr>\n",
       "    <tr>\n",
       "      <td>f2</td>\n",
       "      <td>-0.003153</td>\n",
       "      <td>0.001724</td>\n",
       "      <td>1.000000</td>\n",
       "      <td>0.483663</td>\n",
       "    </tr>\n",
       "    <tr>\n",
       "      <td>product</td>\n",
       "      <td>0.143536</td>\n",
       "      <td>-0.192356</td>\n",
       "      <td>0.483663</td>\n",
       "      <td>1.000000</td>\n",
       "    </tr>\n",
       "  </tbody>\n",
       "</table>\n",
       "</div>"
      ],
      "text/plain": [
       "               f0        f1        f2   product\n",
       "f0       1.000000 -0.440723 -0.003153  0.143536\n",
       "f1      -0.440723  1.000000  0.001724 -0.192356\n",
       "f2      -0.003153  0.001724  1.000000  0.483663\n",
       "product  0.143536 -0.192356  0.483663  1.000000"
      ]
     },
     "execution_count": 5,
     "metadata": {},
     "output_type": "execute_result"
    }
   ],
   "source": [
    "df1.corr()"
   ]
  },
  {
   "cell_type": "markdown",
   "metadata": {},
   "source": [
    "**Пропусков и не подходящих типов данных в данных, относящихся к  региону №1, нет. Есть некоторая взяимосвязь признака f2 с целевым признаком, его оставляем. Удаляем не нужный столбец id.**"
   ]
  },
  {
   "cell_type": "markdown",
   "metadata": {},
   "source": [
    "### Выборка региона №2"
   ]
  },
  {
   "cell_type": "code",
   "execution_count": 6,
   "metadata": {
    "scrolled": true
   },
   "outputs": [
    {
     "data": {
      "text/html": [
       "<div>\n",
       "<style scoped>\n",
       "    .dataframe tbody tr th:only-of-type {\n",
       "        vertical-align: middle;\n",
       "    }\n",
       "\n",
       "    .dataframe tbody tr th {\n",
       "        vertical-align: top;\n",
       "    }\n",
       "\n",
       "    .dataframe thead th {\n",
       "        text-align: right;\n",
       "    }\n",
       "</style>\n",
       "<table border=\"1\" class=\"dataframe\">\n",
       "  <thead>\n",
       "    <tr style=\"text-align: right;\">\n",
       "      <th></th>\n",
       "      <th>id</th>\n",
       "      <th>f0</th>\n",
       "      <th>f1</th>\n",
       "      <th>f2</th>\n",
       "      <th>product</th>\n",
       "    </tr>\n",
       "  </thead>\n",
       "  <tbody>\n",
       "    <tr>\n",
       "      <td>0</td>\n",
       "      <td>kBEdx</td>\n",
       "      <td>-15.001348</td>\n",
       "      <td>-8.276000</td>\n",
       "      <td>-0.005876</td>\n",
       "      <td>3.179103</td>\n",
       "    </tr>\n",
       "    <tr>\n",
       "      <td>1</td>\n",
       "      <td>62mP7</td>\n",
       "      <td>14.272088</td>\n",
       "      <td>-3.475083</td>\n",
       "      <td>0.999183</td>\n",
       "      <td>26.953261</td>\n",
       "    </tr>\n",
       "    <tr>\n",
       "      <td>2</td>\n",
       "      <td>vyE1P</td>\n",
       "      <td>6.263187</td>\n",
       "      <td>-5.948386</td>\n",
       "      <td>5.001160</td>\n",
       "      <td>134.766305</td>\n",
       "    </tr>\n",
       "    <tr>\n",
       "      <td>3</td>\n",
       "      <td>KcrkZ</td>\n",
       "      <td>-13.081196</td>\n",
       "      <td>-11.506057</td>\n",
       "      <td>4.999415</td>\n",
       "      <td>137.945408</td>\n",
       "    </tr>\n",
       "    <tr>\n",
       "      <td>4</td>\n",
       "      <td>AHL4O</td>\n",
       "      <td>12.702195</td>\n",
       "      <td>-8.147433</td>\n",
       "      <td>5.004363</td>\n",
       "      <td>134.766305</td>\n",
       "    </tr>\n",
       "  </tbody>\n",
       "</table>\n",
       "</div>"
      ],
      "text/plain": [
       "      id         f0         f1        f2     product\n",
       "0  kBEdx -15.001348  -8.276000 -0.005876    3.179103\n",
       "1  62mP7  14.272088  -3.475083  0.999183   26.953261\n",
       "2  vyE1P   6.263187  -5.948386  5.001160  134.766305\n",
       "3  KcrkZ -13.081196 -11.506057  4.999415  137.945408\n",
       "4  AHL4O  12.702195  -8.147433  5.004363  134.766305"
      ]
     },
     "execution_count": 6,
     "metadata": {},
     "output_type": "execute_result"
    }
   ],
   "source": [
    "df2.head()"
   ]
  },
  {
   "cell_type": "code",
   "execution_count": 7,
   "metadata": {},
   "outputs": [
    {
     "name": "stdout",
     "output_type": "stream",
     "text": [
      "<class 'pandas.core.frame.DataFrame'>\n",
      "RangeIndex: 100000 entries, 0 to 99999\n",
      "Data columns (total 5 columns):\n",
      "id         100000 non-null object\n",
      "f0         100000 non-null float64\n",
      "f1         100000 non-null float64\n",
      "f2         100000 non-null float64\n",
      "product    100000 non-null float64\n",
      "dtypes: float64(4), object(1)\n",
      "memory usage: 3.8+ MB\n"
     ]
    }
   ],
   "source": [
    "df2.info()"
   ]
  },
  {
   "cell_type": "code",
   "execution_count": 8,
   "metadata": {},
   "outputs": [
    {
     "data": {
      "text/html": [
       "<div>\n",
       "<style scoped>\n",
       "    .dataframe tbody tr th:only-of-type {\n",
       "        vertical-align: middle;\n",
       "    }\n",
       "\n",
       "    .dataframe tbody tr th {\n",
       "        vertical-align: top;\n",
       "    }\n",
       "\n",
       "    .dataframe thead th {\n",
       "        text-align: right;\n",
       "    }\n",
       "</style>\n",
       "<table border=\"1\" class=\"dataframe\">\n",
       "  <thead>\n",
       "    <tr style=\"text-align: right;\">\n",
       "      <th></th>\n",
       "      <th>id</th>\n",
       "      <th>f0</th>\n",
       "      <th>f1</th>\n",
       "      <th>f2</th>\n",
       "      <th>product</th>\n",
       "    </tr>\n",
       "  </thead>\n",
       "  <tbody>\n",
       "    <tr>\n",
       "      <td>0</td>\n",
       "      <td>kBEdx</td>\n",
       "      <td>-15.001348</td>\n",
       "      <td>-8.276000</td>\n",
       "      <td>-0.005876</td>\n",
       "      <td>3.179103</td>\n",
       "    </tr>\n",
       "    <tr>\n",
       "      <td>1</td>\n",
       "      <td>62mP7</td>\n",
       "      <td>14.272088</td>\n",
       "      <td>-3.475083</td>\n",
       "      <td>0.999183</td>\n",
       "      <td>26.953261</td>\n",
       "    </tr>\n",
       "    <tr>\n",
       "      <td>2</td>\n",
       "      <td>vyE1P</td>\n",
       "      <td>6.263187</td>\n",
       "      <td>-5.948386</td>\n",
       "      <td>5.001160</td>\n",
       "      <td>134.766305</td>\n",
       "    </tr>\n",
       "    <tr>\n",
       "      <td>3</td>\n",
       "      <td>KcrkZ</td>\n",
       "      <td>-13.081196</td>\n",
       "      <td>-11.506057</td>\n",
       "      <td>4.999415</td>\n",
       "      <td>137.945408</td>\n",
       "    </tr>\n",
       "    <tr>\n",
       "      <td>4</td>\n",
       "      <td>AHL4O</td>\n",
       "      <td>12.702195</td>\n",
       "      <td>-8.147433</td>\n",
       "      <td>5.004363</td>\n",
       "      <td>134.766305</td>\n",
       "    </tr>\n",
       "  </tbody>\n",
       "</table>\n",
       "</div>"
      ],
      "text/plain": [
       "      id         f0         f1        f2     product\n",
       "0  kBEdx -15.001348  -8.276000 -0.005876    3.179103\n",
       "1  62mP7  14.272088  -3.475083  0.999183   26.953261\n",
       "2  vyE1P   6.263187  -5.948386  5.001160  134.766305\n",
       "3  KcrkZ -13.081196 -11.506057  4.999415  137.945408\n",
       "4  AHL4O  12.702195  -8.147433  5.004363  134.766305"
      ]
     },
     "execution_count": 8,
     "metadata": {},
     "output_type": "execute_result"
    }
   ],
   "source": [
    "df2.head()"
   ]
  },
  {
   "cell_type": "code",
   "execution_count": 9,
   "metadata": {
    "scrolled": true
   },
   "outputs": [
    {
     "data": {
      "text/html": [
       "<div>\n",
       "<style scoped>\n",
       "    .dataframe tbody tr th:only-of-type {\n",
       "        vertical-align: middle;\n",
       "    }\n",
       "\n",
       "    .dataframe tbody tr th {\n",
       "        vertical-align: top;\n",
       "    }\n",
       "\n",
       "    .dataframe thead th {\n",
       "        text-align: right;\n",
       "    }\n",
       "</style>\n",
       "<table border=\"1\" class=\"dataframe\">\n",
       "  <thead>\n",
       "    <tr style=\"text-align: right;\">\n",
       "      <th></th>\n",
       "      <th>f0</th>\n",
       "      <th>f1</th>\n",
       "      <th>f2</th>\n",
       "      <th>product</th>\n",
       "    </tr>\n",
       "  </thead>\n",
       "  <tbody>\n",
       "    <tr>\n",
       "      <td>f0</td>\n",
       "      <td>1.000000</td>\n",
       "      <td>0.182287</td>\n",
       "      <td>-0.001777</td>\n",
       "      <td>-0.030491</td>\n",
       "    </tr>\n",
       "    <tr>\n",
       "      <td>f1</td>\n",
       "      <td>0.182287</td>\n",
       "      <td>1.000000</td>\n",
       "      <td>-0.002595</td>\n",
       "      <td>-0.010155</td>\n",
       "    </tr>\n",
       "    <tr>\n",
       "      <td>f2</td>\n",
       "      <td>-0.001777</td>\n",
       "      <td>-0.002595</td>\n",
       "      <td>1.000000</td>\n",
       "      <td>0.999397</td>\n",
       "    </tr>\n",
       "    <tr>\n",
       "      <td>product</td>\n",
       "      <td>-0.030491</td>\n",
       "      <td>-0.010155</td>\n",
       "      <td>0.999397</td>\n",
       "      <td>1.000000</td>\n",
       "    </tr>\n",
       "  </tbody>\n",
       "</table>\n",
       "</div>"
      ],
      "text/plain": [
       "               f0        f1        f2   product\n",
       "f0       1.000000  0.182287 -0.001777 -0.030491\n",
       "f1       0.182287  1.000000 -0.002595 -0.010155\n",
       "f2      -0.001777 -0.002595  1.000000  0.999397\n",
       "product -0.030491 -0.010155  0.999397  1.000000"
      ]
     },
     "execution_count": 9,
     "metadata": {},
     "output_type": "execute_result"
    }
   ],
   "source": [
    "df2.corr()"
   ]
  },
  {
   "cell_type": "markdown",
   "metadata": {},
   "source": [
    "**Пропусков и не подходящих типов данных в данных, относящихся к  региону №2, нет. Есть сильная взаимосвязь признака f2 с целевым признаком. Удаляем столбец id.**"
   ]
  },
  {
   "cell_type": "markdown",
   "metadata": {},
   "source": [
    "### Выборка региона №3"
   ]
  },
  {
   "cell_type": "code",
   "execution_count": 10,
   "metadata": {
    "scrolled": false
   },
   "outputs": [
    {
     "name": "stdout",
     "output_type": "stream",
     "text": [
      "<class 'pandas.core.frame.DataFrame'>\n",
      "RangeIndex: 100000 entries, 0 to 99999\n",
      "Data columns (total 5 columns):\n",
      "id         100000 non-null object\n",
      "f0         100000 non-null float64\n",
      "f1         100000 non-null float64\n",
      "f2         100000 non-null float64\n",
      "product    100000 non-null float64\n",
      "dtypes: float64(4), object(1)\n",
      "memory usage: 3.8+ MB\n"
     ]
    }
   ],
   "source": [
    "df3.info()"
   ]
  },
  {
   "cell_type": "code",
   "execution_count": 11,
   "metadata": {},
   "outputs": [
    {
     "data": {
      "text/html": [
       "<div>\n",
       "<style scoped>\n",
       "    .dataframe tbody tr th:only-of-type {\n",
       "        vertical-align: middle;\n",
       "    }\n",
       "\n",
       "    .dataframe tbody tr th {\n",
       "        vertical-align: top;\n",
       "    }\n",
       "\n",
       "    .dataframe thead th {\n",
       "        text-align: right;\n",
       "    }\n",
       "</style>\n",
       "<table border=\"1\" class=\"dataframe\">\n",
       "  <thead>\n",
       "    <tr style=\"text-align: right;\">\n",
       "      <th></th>\n",
       "      <th>f0</th>\n",
       "      <th>f1</th>\n",
       "      <th>f2</th>\n",
       "      <th>product</th>\n",
       "    </tr>\n",
       "  </thead>\n",
       "  <tbody>\n",
       "    <tr>\n",
       "      <td>f0</td>\n",
       "      <td>1.000000</td>\n",
       "      <td>0.000528</td>\n",
       "      <td>-0.000448</td>\n",
       "      <td>-0.001987</td>\n",
       "    </tr>\n",
       "    <tr>\n",
       "      <td>f1</td>\n",
       "      <td>0.000528</td>\n",
       "      <td>1.000000</td>\n",
       "      <td>0.000779</td>\n",
       "      <td>-0.001012</td>\n",
       "    </tr>\n",
       "    <tr>\n",
       "      <td>f2</td>\n",
       "      <td>-0.000448</td>\n",
       "      <td>0.000779</td>\n",
       "      <td>1.000000</td>\n",
       "      <td>0.445871</td>\n",
       "    </tr>\n",
       "    <tr>\n",
       "      <td>product</td>\n",
       "      <td>-0.001987</td>\n",
       "      <td>-0.001012</td>\n",
       "      <td>0.445871</td>\n",
       "      <td>1.000000</td>\n",
       "    </tr>\n",
       "  </tbody>\n",
       "</table>\n",
       "</div>"
      ],
      "text/plain": [
       "               f0        f1        f2   product\n",
       "f0       1.000000  0.000528 -0.000448 -0.001987\n",
       "f1       0.000528  1.000000  0.000779 -0.001012\n",
       "f2      -0.000448  0.000779  1.000000  0.445871\n",
       "product -0.001987 -0.001012  0.445871  1.000000"
      ]
     },
     "execution_count": 11,
     "metadata": {},
     "output_type": "execute_result"
    }
   ],
   "source": [
    "df3.corr()"
   ]
  },
  {
   "cell_type": "markdown",
   "metadata": {},
   "source": [
    "**Пропусков и не подходящих типов данных в данных, относящихся к  региону №3, нет. Есть некоторая взяимосвязь признака f2 с целевым признаком, его оставляем. Удаляем столбец id.**"
   ]
  },
  {
   "cell_type": "markdown",
   "metadata": {},
   "source": [
    "**Выводы:**\n",
    "* Данные готовы к исследованию.\n",
    "* Из всех выборок удалены столбцы id, так как информацию нужную для исследования они не содержат.\n"
   ]
  },
  {
   "cell_type": "markdown",
   "metadata": {},
   "source": [
    "## Обучение и проверка модели"
   ]
  },
  {
   "cell_type": "code",
   "execution_count": 13,
   "metadata": {},
   "outputs": [],
   "source": [
    "def model_learning(df):\n",
    "    ''' Функция делит выборку на features и target. Также делит на обучающую и валидационную выборки с соотношении 75:25\n",
    "    и обучает модель линейной регрессии, выводит среднеквадратическую ошибку и средний размер запасов. \n",
    "    Возврашает объединенный датафрейм с целевым признаком и предсказанными значениями'''\n",
    "    \n",
    "    features = df.drop(['product', 'id'], axis=1)\n",
    "    target = df['product']\n",
    "    features_train, features_valid, target_train, target_valid = train_test_split(features, target, \n",
    "                                                                                  random_state=12345, test_size=0.25)\n",
    "    model = LinearRegression().fit(features_train, target_train)\n",
    "\n",
    "    predict_valid = pd.Series(model.predict(features_valid))\n",
    "\n",
    "    rmse = round((mean_squared_error(target_valid, predict_valid) ** 0.5), 2)\n",
    "\n",
    "    mean_reserve = round(predict_valid.mean(), 2)\n",
    "    \n",
    "    df_valid = target_valid.copy().reset_index()\n",
    "    df_valid['predict'] = pd.Series(predict_valid)\n",
    "    \n",
    "    print('rmse региона:', rmse)\n",
    "    print('Средний запас предсказанного сырья региона:', mean_reserve, 'тыс. баррелей')\n",
    "    return df_valid"
   ]
  },
  {
   "cell_type": "markdown",
   "metadata": {},
   "source": [
    "### Модель региона №1"
   ]
  },
  {
   "cell_type": "code",
   "execution_count": 14,
   "metadata": {
    "scrolled": true
   },
   "outputs": [
    {
     "name": "stdout",
     "output_type": "stream",
     "text": [
      "Регион № 1:\n",
      "rmse региона: 37.58\n",
      "Средний запас предсказанного сырья региона: 92.59 тыс. баррелей\n"
     ]
    },
    {
     "data": {
      "text/html": [
       "<div>\n",
       "<style scoped>\n",
       "    .dataframe tbody tr th:only-of-type {\n",
       "        vertical-align: middle;\n",
       "    }\n",
       "\n",
       "    .dataframe tbody tr th {\n",
       "        vertical-align: top;\n",
       "    }\n",
       "\n",
       "    .dataframe thead th {\n",
       "        text-align: right;\n",
       "    }\n",
       "</style>\n",
       "<table border=\"1\" class=\"dataframe\">\n",
       "  <thead>\n",
       "    <tr style=\"text-align: right;\">\n",
       "      <th></th>\n",
       "      <th>index</th>\n",
       "      <th>product</th>\n",
       "      <th>predict</th>\n",
       "    </tr>\n",
       "  </thead>\n",
       "  <tbody>\n",
       "    <tr>\n",
       "      <td>0</td>\n",
       "      <td>71751</td>\n",
       "      <td>10.038645</td>\n",
       "      <td>95.894952</td>\n",
       "    </tr>\n",
       "    <tr>\n",
       "      <td>1</td>\n",
       "      <td>80493</td>\n",
       "      <td>114.551489</td>\n",
       "      <td>77.572583</td>\n",
       "    </tr>\n",
       "    <tr>\n",
       "      <td>2</td>\n",
       "      <td>2655</td>\n",
       "      <td>132.603635</td>\n",
       "      <td>77.892640</td>\n",
       "    </tr>\n",
       "    <tr>\n",
       "      <td>3</td>\n",
       "      <td>53233</td>\n",
       "      <td>169.072125</td>\n",
       "      <td>90.175134</td>\n",
       "    </tr>\n",
       "    <tr>\n",
       "      <td>4</td>\n",
       "      <td>91141</td>\n",
       "      <td>122.325180</td>\n",
       "      <td>70.510088</td>\n",
       "    </tr>\n",
       "  </tbody>\n",
       "</table>\n",
       "</div>"
      ],
      "text/plain": [
       "   index     product    predict\n",
       "0  71751   10.038645  95.894952\n",
       "1  80493  114.551489  77.572583\n",
       "2   2655  132.603635  77.892640\n",
       "3  53233  169.072125  90.175134\n",
       "4  91141  122.325180  70.510088"
      ]
     },
     "execution_count": 14,
     "metadata": {},
     "output_type": "execute_result"
    }
   ],
   "source": [
    "print('Регион № 1:')\n",
    "df_valid1 = model_learning(df1)\n",
    "df_valid1.head()"
   ]
  },
  {
   "cell_type": "markdown",
   "metadata": {},
   "source": [
    "### Модель региона №2"
   ]
  },
  {
   "cell_type": "code",
   "execution_count": 15,
   "metadata": {},
   "outputs": [
    {
     "name": "stdout",
     "output_type": "stream",
     "text": [
      "Регион № 2:\n",
      "rmse региона: 0.89\n",
      "Средний запас предсказанного сырья региона: 68.73 тыс. баррелей\n"
     ]
    },
    {
     "data": {
      "text/html": [
       "<div>\n",
       "<style scoped>\n",
       "    .dataframe tbody tr th:only-of-type {\n",
       "        vertical-align: middle;\n",
       "    }\n",
       "\n",
       "    .dataframe tbody tr th {\n",
       "        vertical-align: top;\n",
       "    }\n",
       "\n",
       "    .dataframe thead th {\n",
       "        text-align: right;\n",
       "    }\n",
       "</style>\n",
       "<table border=\"1\" class=\"dataframe\">\n",
       "  <thead>\n",
       "    <tr style=\"text-align: right;\">\n",
       "      <th></th>\n",
       "      <th>index</th>\n",
       "      <th>product</th>\n",
       "      <th>predict</th>\n",
       "    </tr>\n",
       "  </thead>\n",
       "  <tbody>\n",
       "    <tr>\n",
       "      <td>0</td>\n",
       "      <td>71751</td>\n",
       "      <td>80.859783</td>\n",
       "      <td>82.663314</td>\n",
       "    </tr>\n",
       "    <tr>\n",
       "      <td>1</td>\n",
       "      <td>80493</td>\n",
       "      <td>53.906522</td>\n",
       "      <td>54.431786</td>\n",
       "    </tr>\n",
       "    <tr>\n",
       "      <td>2</td>\n",
       "      <td>2655</td>\n",
       "      <td>30.132364</td>\n",
       "      <td>29.748760</td>\n",
       "    </tr>\n",
       "    <tr>\n",
       "      <td>3</td>\n",
       "      <td>53233</td>\n",
       "      <td>53.906522</td>\n",
       "      <td>53.552133</td>\n",
       "    </tr>\n",
       "    <tr>\n",
       "      <td>4</td>\n",
       "      <td>91141</td>\n",
       "      <td>0.000000</td>\n",
       "      <td>1.243856</td>\n",
       "    </tr>\n",
       "  </tbody>\n",
       "</table>\n",
       "</div>"
      ],
      "text/plain": [
       "   index    product    predict\n",
       "0  71751  80.859783  82.663314\n",
       "1  80493  53.906522  54.431786\n",
       "2   2655  30.132364  29.748760\n",
       "3  53233  53.906522  53.552133\n",
       "4  91141   0.000000   1.243856"
      ]
     },
     "execution_count": 15,
     "metadata": {},
     "output_type": "execute_result"
    }
   ],
   "source": [
    "print('Регион № 2:')\n",
    "df_valid2 = model_learning(df2)\n",
    "df_valid2.head()"
   ]
  },
  {
   "cell_type": "markdown",
   "metadata": {},
   "source": [
    "### Модель региона №3"
   ]
  },
  {
   "cell_type": "code",
   "execution_count": 16,
   "metadata": {},
   "outputs": [
    {
     "name": "stdout",
     "output_type": "stream",
     "text": [
      "Регион № 3:\n",
      "rmse региона: 40.03\n",
      "Средний запас предсказанного сырья региона: 94.97 тыс. баррелей\n"
     ]
    },
    {
     "data": {
      "text/html": [
       "<div>\n",
       "<style scoped>\n",
       "    .dataframe tbody tr th:only-of-type {\n",
       "        vertical-align: middle;\n",
       "    }\n",
       "\n",
       "    .dataframe tbody tr th {\n",
       "        vertical-align: top;\n",
       "    }\n",
       "\n",
       "    .dataframe thead th {\n",
       "        text-align: right;\n",
       "    }\n",
       "</style>\n",
       "<table border=\"1\" class=\"dataframe\">\n",
       "  <thead>\n",
       "    <tr style=\"text-align: right;\">\n",
       "      <th></th>\n",
       "      <th>index</th>\n",
       "      <th>product</th>\n",
       "      <th>predict</th>\n",
       "    </tr>\n",
       "  </thead>\n",
       "  <tbody>\n",
       "    <tr>\n",
       "      <td>0</td>\n",
       "      <td>71751</td>\n",
       "      <td>61.212375</td>\n",
       "      <td>93.599633</td>\n",
       "    </tr>\n",
       "    <tr>\n",
       "      <td>1</td>\n",
       "      <td>80493</td>\n",
       "      <td>41.850118</td>\n",
       "      <td>75.105159</td>\n",
       "    </tr>\n",
       "    <tr>\n",
       "      <td>2</td>\n",
       "      <td>2655</td>\n",
       "      <td>57.776581</td>\n",
       "      <td>90.066809</td>\n",
       "    </tr>\n",
       "    <tr>\n",
       "      <td>3</td>\n",
       "      <td>53233</td>\n",
       "      <td>100.053761</td>\n",
       "      <td>105.162375</td>\n",
       "    </tr>\n",
       "    <tr>\n",
       "      <td>4</td>\n",
       "      <td>91141</td>\n",
       "      <td>109.897122</td>\n",
       "      <td>115.303310</td>\n",
       "    </tr>\n",
       "  </tbody>\n",
       "</table>\n",
       "</div>"
      ],
      "text/plain": [
       "   index     product     predict\n",
       "0  71751   61.212375   93.599633\n",
       "1  80493   41.850118   75.105159\n",
       "2   2655   57.776581   90.066809\n",
       "3  53233  100.053761  105.162375\n",
       "4  91141  109.897122  115.303310"
      ]
     },
     "execution_count": 16,
     "metadata": {},
     "output_type": "execute_result"
    }
   ],
   "source": [
    "print('Регион № 3:')\n",
    "df_valid3 = model_learning(df3)\n",
    "df_valid3.head()"
   ]
  },
  {
   "cell_type": "markdown",
   "metadata": {},
   "source": [
    "**Выводы:**\n",
    "*По каждому региону:*\n",
    "* обучены модели всех трех регионов линейной регрессии (другие — недостаточно предсказуемые) на всех исторических данных.\n",
    "* получены предсказания на валидационных выборках.\n",
    "* рассчитана среднеквадратическая ошибка: у региона № 1 она самая маленькая - 37,58, а у региона № 2 самая большая - 46,01.\n",
    "* вычислены средние запасы предсказанного сырья: у региона № 3 самый большой показатель - 94,95 тыс. баррелей, самый низкий у региона № 2 - 68,82."
   ]
  },
  {
   "cell_type": "markdown",
   "metadata": {},
   "source": [
    "## Подготовка к расчёту прибыли"
   ]
  },
  {
   "cell_type": "code",
   "execution_count": 17,
   "metadata": {},
   "outputs": [
    {
     "name": "stdout",
     "output_type": "stream",
     "text": [
      "Стоимость разработки 200 скважин - 10000 млн. рублей\n"
     ]
    }
   ],
   "source": [
    "# расчет стоимости разработки 1 из 200 скважин\n",
    "DEVELOPMENT_COST = 10000000000 / 1000000 # избавляемся от нулей\n",
    "\n",
    "INCOME_BARREL = 450000 / 1000000 # избавляемся от нулей\n",
    "\n",
    "#print('Стоимость разработки 1 скважины - {:.0f} млн. рублей'.format(well_cost))\n",
    "print('Стоимость разработки 200 скважин - {:.0f} млн. рублей'.format(DEVELOPMENT_COST))"
   ]
  },
  {
   "cell_type": "code",
   "execution_count": 18,
   "metadata": {
    "scrolled": true
   },
   "outputs": [
    {
     "name": "stdout",
     "output_type": "stream",
     "text": [
      "Объём сырья для безубыточной разработки 1 скважины - 111.11 тыс. баррелей\n"
     ]
    }
   ],
   "source": [
    "#расчет достаточного объема сырья для безубыточной разработки 1 скважины\n",
    "cost = DEVELOPMENT_COST / INCOME_BARREL / 200\n",
    "\n",
    "print('Объём сырья для безубыточной разработки 1 скважины - {:.2f} тыс. баррелей'.format(cost))"
   ]
  },
  {
   "cell_type": "markdown",
   "metadata": {},
   "source": [
    "**Выводы:**\n",
    "* сохранены переменные со стоимостью разработки скважин в регионе (development_cost) и доход на 1 тыс.баррелей(income_barrel), округленные до млн. рублей.\n",
    "* вычислен необходимый объем сырья в одной скважине для безубыточной разработки в регионе - 111,11 тыс. баррелей. Что гораздо выше средних предсказанных объемов: \n",
    " * на 18,64 тыс.баррелей в регионе №1.\n",
    " * на 42,29 тыс баррелей в регионе №2,\n",
    " * на 16,16 тыс. баррелей в регионе №3."
   ]
  },
  {
   "cell_type": "markdown",
   "metadata": {},
   "source": [
    "<div class=\"alert alert-block alert-success\">\n",
    "<b>Успех:</b> Значение для безутыбточной разработки посчитано верно, с выводом согласен\n",
    "    \n",
    "  \n",
    "</div>"
   ]
  },
  {
   "cell_type": "markdown",
   "metadata": {},
   "source": [
    "## Расчёт прибыли и рисков "
   ]
  },
  {
   "cell_type": "code",
   "execution_count": 19,
   "metadata": {},
   "outputs": [],
   "source": [
    "def calculation_profit_and_loss(df, count):\n",
    "    \n",
    "    ''' Функция методом Bootstrap отбирает 1000 раз выборки по 500 скважин. Сортирует количество запасов по предсказанным \n",
    "    объемам сырья, отбирает 200 самых богатых скважин, рассчитывает с помощью функции income_max200 прибыль по фактическим \n",
    "    данным, формирует среднюю прибыль. Также функция рассчитывает и возвращает долю возможых убытков'''\n",
    "    \n",
    "    state = np.random.RandomState(12345)\n",
    "    values = []\n",
    "    loss = 0\n",
    "    c=0\n",
    "    \n",
    "    for i in range(count):\n",
    "        subsample = df.sample(n=500, replace=True, random_state=state)\n",
    "\n",
    "        predict_max200 = subsample.sort_values(by='predict', ascending=False)[:200] \n",
    "\n",
    "        income = (predict_max200['product'].sum() * INCOME_BARREL) - DEVELOPMENT_COST\n",
    "        values.append(income)\n",
    "        \n",
    "    values = pd.Series(values)\n",
    "    profit = values.mean()\n",
    "\n",
    "    loss = values[values<0].count() / count\n",
    "\n",
    "    return profit, values, loss \n"
   ]
  },
  {
   "cell_type": "code",
   "execution_count": 28,
   "metadata": {},
   "outputs": [],
   "source": [
    "def profit_plotting(values):\n",
    "    '''Построение графика разброса прибыли, полученной с помощью техники Bootstrap'''\n",
    "    values.plot(kind='hist', grid=True, legend=True, bins=20)\n",
    "    plt.xlabel('Средние запасы, тыс.баррелей')\n",
    "    plt.ylabel('Количество скважин')\n",
    "    plt.title('Распределение прибыли')\n",
    "    print(values.describe())"
   ]
  },
  {
   "cell_type": "markdown",
   "metadata": {},
   "source": [
    "### Регион №1"
   ]
  },
  {
   "cell_type": "code",
   "execution_count": 21,
   "metadata": {},
   "outputs": [
    {
     "name": "stdout",
     "output_type": "stream",
     "text": [
      "Средняя прибыль с 200 скважин региона №1: 396.16 млн. рублей\n",
      "Вероятность убытка в регионе №1: 6.90%\n"
     ]
    }
   ],
   "source": [
    "profit1, values1, loss1 = calculation_profit_and_loss(df_valid1, 1000)\n",
    "\n",
    "print('Средняя прибыль с 200 скважин региона №1: {:.2f} млн. рублей'.format(profit1))\n",
    "print('Вероятность убытка в регионе №1: {:.2%}'.format(loss1))"
   ]
  },
  {
   "cell_type": "code",
   "execution_count": 22,
   "metadata": {},
   "outputs": [
    {
     "name": "stdout",
     "output_type": "stream",
     "text": [
      "95%-й доверительный интервал региона №1 находится между -111.22 и 909.77 млн. рублей\n"
     ]
    }
   ],
   "source": [
    "print('95%-й доверительный интервал региона №1 находится между {0:.2f} и {1:.2f} млн. рублей'\n",
    "      .format(values1.quantile(0.025), values1.quantile(0.975)))"
   ]
  },
  {
   "cell_type": "code",
   "execution_count": 23,
   "metadata": {},
   "outputs": [
    {
     "data": {
      "image/png": "[encoded data removed]",
      "text/plain": [
       "<Figure size 432x288 with 1 Axes>"
      ]
     },
     "metadata": {
      "needs_background": "light"
     },
     "output_type": "display_data"
    }
   ],
   "source": [
    "profit_plotting(values1)"
   ]
  },
  {
   "cell_type": "markdown",
   "metadata": {},
   "source": [
    "**Средняя прибыль с 200 самых богатых скважин региона №1 составляет 396.16 млн. рублей. \n",
    "95%-й доверительный интервал региона №1 находится между -111.22 и 909.77 млн. рублей. Таким образом, в этом регионе можно получить убыток -111,22 млн. рублей или максимальную прибыль - 909,77 млн. руб.**\n",
    "\n",
    "**Соответственно и вероятность убытка в регионе высокая - 6.9%, что делает этот регион не очень привлекательным для разработки**\n"
   ]
  },
  {
   "cell_type": "markdown",
   "metadata": {},
   "source": [
    "### Регион №2"
   ]
  },
  {
   "cell_type": "code",
   "execution_count": 24,
   "metadata": {},
   "outputs": [
    {
     "name": "stdout",
     "output_type": "stream",
     "text": [
      "Средняя прибыль с 200 скважин региона №2: 456.05 млн. рублей\n",
      "Вероятность убытка в регионе №2: 1.50%\n"
     ]
    }
   ],
   "source": [
    "profit2, values2, loss2 = calculation_profit_and_loss(df_valid2, 1000)\n",
    "\n",
    "print('Средняя прибыль с 200 скважин региона №2: {:.2f} млн. рублей'.format(profit2))\n",
    "print('Вероятность убытка в регионе №2: {:.2%}'.format(loss2))"
   ]
  },
  {
   "cell_type": "code",
   "execution_count": 25,
   "metadata": {},
   "outputs": [
    {
     "name": "stdout",
     "output_type": "stream",
     "text": [
      "95%-й доверительный интервал региона №2 находится между 33.82 и 852.29 млн. рублей\n"
     ]
    }
   ],
   "source": [
    "print('95%-й доверительный интервал региона №2 находится между {0:.2f} и {1:.2f} млн. рублей'\n",
    "      .format(values2.quantile(0.025), values2.quantile(0.975)))"
   ]
  },
  {
   "cell_type": "code",
   "execution_count": 29,
   "metadata": {
    "scrolled": true
   },
   "outputs": [
    {
     "name": "stdout",
     "output_type": "stream",
     "text": [
      "count    1000.000000\n",
      "mean      456.045106\n",
      "std       207.846627\n",
      "min      -192.268109\n",
      "25%       325.047903\n",
      "50%       457.035949\n",
      "75%       598.975968\n",
      "max      1154.047279\n",
      "dtype: float64\n"
     ]
    },
    {
     "data": {
      "image/png": "[encoded data removed]",
      "text/plain": [
       "<Figure size 432x288 with 1 Axes>"
      ]
     },
     "metadata": {
      "needs_background": "light"
     },
     "output_type": "display_data"
    }
   ],
   "source": [
    "profit_plotting(values2)"
   ]
  },
  {
   "cell_type": "code",
   "execution_count": null,
   "metadata": {},
   "outputs": [],
   "source": [
    "values3.info()\n",
    "\n",
    "#plt.hist(values1)\n"
   ]
  },
  {
   "cell_type": "markdown",
   "metadata": {},
   "source": [
    "**Средний убыток с 200 самых богатых скважин региона №2 составляет 456.05 млн. рублей. \n",
    "95%-й доверительный интервал региона №2 находится между 33.82 и 852.29 млн. рублей.**\n",
    "\n",
    "**Вероятность убытка в регионе самая низкая - 1,5%**"
   ]
  },
  {
   "cell_type": "markdown",
   "metadata": {},
   "source": [
    "### Регион №3"
   ]
  },
  {
   "cell_type": "code",
   "execution_count": 30,
   "metadata": {},
   "outputs": [
    {
     "name": "stdout",
     "output_type": "stream",
     "text": [
      "Средняя прибыль с 200 скважин региона №3: 404.40 млн. рублей\n",
      "Вероятность убытка в регионе №3: 7.60%\n"
     ]
    }
   ],
   "source": [
    "profit3, values3, loss3 = calculation_profit_and_loss(df_valid3, 1000)\n",
    "\n",
    "print('Средняя прибыль с 200 скважин региона №3: {:.2f} млн. рублей'.format(profit3))\n",
    "print('Вероятность убытка в регионе №3: {:.2%}'.format(loss3))"
   ]
  },
  {
   "cell_type": "code",
   "execution_count": 31,
   "metadata": {},
   "outputs": [
    {
     "name": "stdout",
     "output_type": "stream",
     "text": [
      "95%-й доверительный интервал региона №3 находится между -163.35 и 950.36 млн. рублей\n"
     ]
    }
   ],
   "source": [
    "print('95%-й доверительный интервал региона №3 находится между {0:.2f} и {1:.2f} млн. рублей'\n",
    "      .format(values3.quantile(0.025), values3.quantile(0.975)))"
   ]
  },
  {
   "cell_type": "code",
   "execution_count": 32,
   "metadata": {
    "scrolled": false
   },
   "outputs": [
    {
     "name": "stdout",
     "output_type": "stream",
     "text": [
      "count    1000.000000\n",
      "mean      404.403867\n",
      "std       273.276207\n",
      "min      -417.856954\n",
      "25%       228.147198\n",
      "50%       407.205811\n",
      "75%       601.945398\n",
      "max      1330.593219\n",
      "dtype: float64\n"
     ]
    },
    {
     "data": {
      "image/png": "[encoded data removed]",
      "text/plain": [
       "<Figure size 432x288 with 1 Axes>"
      ]
     },
     "metadata": {
      "needs_background": "light"
     },
     "output_type": "display_data"
    }
   ],
   "source": [
    "profit_plotting(values3)"
   ]
  },
  {
   "cell_type": "markdown",
   "metadata": {},
   "source": [
    "**Средняя прибыль с 200 самых богатых скважин региона №3 составляет 404.40 млн. рублей. \n",
    "95%-й доверительный интервал региона №3 находится между -163.35 и 950.36 млн. рублей. Таким образом, здесь можно получить как убыток -163,35 млн. рублей, так и максимальную прибыль - 950,36 млн. руб.**\n",
    "\n",
    "**Вероятность убытка в регионе самая высокая - 7.6%**"
   ]
  },
  {
   "cell_type": "markdown",
   "metadata": {},
   "source": [
    "## Выводы:\n",
    "* Из всех выборок удалены столбцы id, так как информацию нужную для исследования они не содержат.\n",
    "* Выборки поделены на признаки и целевой признак.\n",
    "* Выборки разделены на обучающую и валидационную выборки с соотношении 75:25\n",
    "* обучены модели всех трех регионов линейной регрессии на всех исторических данных.\n",
    "* получены предсказания на валидационных выборках.\n",
    "* рассчитана среднеквадратическая ошибка: у региона № 2 она самая маленькая - 0,89, а у региона № 3 самая большая - 40,03.\n",
    "* вычислены средние запасы предсказанного сырья: у региона № 3 самый большой показатель - 94,95 тыс. баррелей, самый низкий у региона № 2 - 68,82.\n",
    "* вычислен необходимый объем сырья в одной скважине для безубыточной разработки в регионе - 111,11 тыс. баррелей. Что гораздо выше средних предсказанных объемов во всех трех регионах.\n",
    "* с помощью техники Bootstrap с 1000 выборок найдено распределение прибыли.\n",
    "* рассчитана средняя прибыль с 200 скважин, с самыми большими объемами сырья.\n",
    "* определен 95%-й доверительный интервал.\n",
    "* расчитан возможный уровень убытков.\n",
    "* Самый перспективный регион №2, на мой взгляд, так как имеет самые лучшие показатели:\n",
    " * Средняя прибыль с 200 самых богатых скважин составляет 456.05 млн. рублей. Это хоть и не самый большой показатель, но вероятность его получить достаточно высокая. \n",
    " * 95%-й доверительный интервал находится между 33.82 и 852.29 млн. рублей. Получение убытков не прогнозируется.\n",
    " * Вероятность убытка в регионе самая низкая - 1.5%"
   ]
  },
  {
   "cell_type": "code",
   "execution_count": null,
   "metadata": {},
   "outputs": [],
   "source": []
  }
 ],
 "metadata": {
  "ExecuteTimeLog": [
   {
    "duration": 767,
    "start_time": "2022-02-11T10:52:02.509Z"
   },
   {
    "duration": 987,
    "start_time": "2022-02-11T10:53:38.433Z"
   },
   {
    "duration": 20,
    "start_time": "2022-02-11T10:53:54.240Z"
   },
   {
    "duration": 9,
    "start_time": "2022-02-11T10:54:15.960Z"
   },
   {
    "duration": 18,
    "start_time": "2022-02-11T10:54:22.214Z"
   },
   {
    "duration": 10,
    "start_time": "2022-02-11T10:55:18.165Z"
   },
   {
    "duration": 12,
    "start_time": "2022-02-11T10:55:32.707Z"
   },
   {
    "duration": 11,
    "start_time": "2022-02-11T10:56:07.685Z"
   },
   {
    "duration": 10,
    "start_time": "2022-02-11T10:56:23.928Z"
   },
   {
    "duration": 12,
    "start_time": "2022-02-11T10:56:41.411Z"
   },
   {
    "duration": 1343,
    "start_time": "2022-02-11T19:39:34.097Z"
   },
   {
    "duration": 442,
    "start_time": "2022-02-11T19:39:38.765Z"
   },
   {
    "duration": 7,
    "start_time": "2022-02-11T19:41:50.828Z"
   },
   {
    "duration": 10,
    "start_time": "2022-02-11T19:43:11.818Z"
   },
   {
    "duration": 9,
    "start_time": "2022-02-11T19:43:12.565Z"
   },
   {
    "duration": 4,
    "start_time": "2022-02-11T19:49:25.719Z"
   },
   {
    "duration": 26,
    "start_time": "2022-02-11T19:51:13.696Z"
   },
   {
    "duration": 25,
    "start_time": "2022-02-11T19:52:34.720Z"
   },
   {
    "duration": 36,
    "start_time": "2022-02-11T19:52:37.806Z"
   },
   {
    "duration": 482,
    "start_time": "2022-02-11T19:54:32.232Z"
   },
   {
    "duration": 268,
    "start_time": "2022-02-11T19:54:44.889Z"
   },
   {
    "duration": 9,
    "start_time": "2022-02-11T19:55:49.049Z"
   },
   {
    "duration": 8,
    "start_time": "2022-02-11T19:55:58.744Z"
   },
   {
    "duration": 10,
    "start_time": "2022-02-11T19:56:06.928Z"
   },
   {
    "duration": 18,
    "start_time": "2022-02-11T19:56:14.707Z"
   },
   {
    "duration": 21,
    "start_time": "2022-02-11T19:56:15.413Z"
   },
   {
    "duration": 19,
    "start_time": "2022-02-11T19:56:16.054Z"
   },
   {
    "duration": 254,
    "start_time": "2022-02-11T19:56:18.571Z"
   },
   {
    "duration": 253,
    "start_time": "2022-02-11T19:57:10.176Z"
   },
   {
    "duration": 5,
    "start_time": "2022-02-11T19:58:33.162Z"
   },
   {
    "duration": 6,
    "start_time": "2022-02-11T19:59:10.462Z"
   },
   {
    "duration": 19,
    "start_time": "2022-02-11T19:59:14.104Z"
   },
   {
    "duration": 4,
    "start_time": "2022-02-11T19:59:17.387Z"
   },
   {
    "duration": 19,
    "start_time": "2022-02-11T20:00:21.483Z"
   },
   {
    "duration": 18,
    "start_time": "2022-02-11T20:00:22.209Z"
   },
   {
    "duration": 18,
    "start_time": "2022-02-11T20:00:22.918Z"
   },
   {
    "duration": 4,
    "start_time": "2022-02-11T20:00:23.607Z"
   },
   {
    "duration": 12,
    "start_time": "2022-02-11T20:00:37.912Z"
   },
   {
    "duration": 11,
    "start_time": "2022-02-11T20:01:37.447Z"
   },
   {
    "duration": 15,
    "start_time": "2022-02-11T20:01:38.153Z"
   },
   {
    "duration": 13,
    "start_time": "2022-02-11T20:03:17.734Z"
   },
   {
    "duration": 15,
    "start_time": "2022-02-11T20:03:46.525Z"
   },
   {
    "duration": 14,
    "start_time": "2022-02-11T20:03:47.250Z"
   },
   {
    "duration": 235,
    "start_time": "2022-02-11T20:13:43.844Z"
   },
   {
    "duration": 4,
    "start_time": "2022-02-11T20:13:55.084Z"
   },
   {
    "duration": 279,
    "start_time": "2022-02-11T20:14:04.015Z"
   },
   {
    "duration": 15,
    "start_time": "2022-02-11T20:14:31.781Z"
   },
   {
    "duration": 17,
    "start_time": "2022-02-11T20:15:27.611Z"
   },
   {
    "duration": 1276,
    "start_time": "2022-02-11T20:23:21.656Z"
   },
   {
    "duration": 453,
    "start_time": "2022-02-11T20:23:22.935Z"
   },
   {
    "duration": 23,
    "start_time": "2022-02-11T20:23:23.391Z"
   },
   {
    "duration": 30,
    "start_time": "2022-02-11T20:23:23.416Z"
   },
   {
    "duration": 12,
    "start_time": "2022-02-11T20:23:23.449Z"
   },
   {
    "duration": 15,
    "start_time": "2022-02-11T20:23:23.465Z"
   },
   {
    "duration": 56,
    "start_time": "2022-02-11T20:23:23.483Z"
   },
   {
    "duration": 17,
    "start_time": "2022-02-11T20:23:23.545Z"
   },
   {
    "duration": 6,
    "start_time": "2022-02-11T20:23:23.565Z"
   },
   {
    "duration": 12,
    "start_time": "2022-02-11T20:23:23.574Z"
   },
   {
    "duration": 47,
    "start_time": "2022-02-11T20:23:23.589Z"
   },
   {
    "duration": 25,
    "start_time": "2022-02-11T20:23:23.639Z"
   },
   {
    "duration": 20,
    "start_time": "2022-02-11T20:23:23.667Z"
   },
   {
    "duration": 53,
    "start_time": "2022-02-11T20:23:23.689Z"
   },
   {
    "duration": 6,
    "start_time": "2022-02-11T20:23:23.744Z"
   },
   {
    "duration": 87,
    "start_time": "2022-02-11T20:23:23.753Z"
   },
   {
    "duration": 100,
    "start_time": "2022-02-11T20:23:23.846Z"
   },
   {
    "duration": 185,
    "start_time": "2022-02-11T20:23:23.949Z"
   },
   {
    "duration": 1015,
    "start_time": "2022-02-12T11:04:24.255Z"
   },
   {
    "duration": 320,
    "start_time": "2022-02-12T11:04:25.272Z"
   },
   {
    "duration": 13,
    "start_time": "2022-02-12T11:04:25.594Z"
   },
   {
    "duration": 11,
    "start_time": "2022-02-12T11:04:25.609Z"
   },
   {
    "duration": 12,
    "start_time": "2022-02-12T11:04:25.621Z"
   },
   {
    "duration": 9,
    "start_time": "2022-02-12T11:04:25.635Z"
   },
   {
    "duration": 7,
    "start_time": "2022-02-12T11:04:25.646Z"
   },
   {
    "duration": 24,
    "start_time": "2022-02-12T11:04:25.655Z"
   },
   {
    "duration": 4,
    "start_time": "2022-02-12T11:04:25.680Z"
   },
   {
    "duration": 10,
    "start_time": "2022-02-12T11:04:25.685Z"
   },
   {
    "duration": 4,
    "start_time": "2022-02-12T11:04:25.697Z"
   },
   {
    "duration": 6,
    "start_time": "2022-02-12T11:04:25.702Z"
   },
   {
    "duration": 16,
    "start_time": "2022-02-12T11:04:25.709Z"
   },
   {
    "duration": 12,
    "start_time": "2022-02-12T11:04:25.726Z"
   },
   {
    "duration": 37,
    "start_time": "2022-02-12T11:04:25.740Z"
   },
   {
    "duration": 4,
    "start_time": "2022-02-12T11:04:25.778Z"
   },
   {
    "duration": 90,
    "start_time": "2022-02-12T11:04:25.783Z"
   },
   {
    "duration": 103,
    "start_time": "2022-02-12T11:04:25.876Z"
   },
   {
    "duration": 191,
    "start_time": "2022-02-12T11:04:25.981Z"
   },
   {
    "duration": 11,
    "start_time": "2022-02-12T11:04:54.624Z"
   },
   {
    "duration": 11,
    "start_time": "2022-02-12T11:08:40.085Z"
   },
   {
    "duration": 11,
    "start_time": "2022-02-12T11:09:23.026Z"
   },
   {
    "duration": 4,
    "start_time": "2022-02-12T11:10:08.435Z"
   },
   {
    "duration": 15,
    "start_time": "2022-02-12T11:11:19.998Z"
   },
   {
    "duration": 15,
    "start_time": "2022-02-12T11:11:42.851Z"
   },
   {
    "duration": 94,
    "start_time": "2022-02-12T11:12:03.064Z"
   },
   {
    "duration": 13,
    "start_time": "2022-02-12T11:12:12.261Z"
   },
   {
    "duration": 14,
    "start_time": "2022-02-12T11:14:02.058Z"
   },
   {
    "duration": 14,
    "start_time": "2022-02-12T11:15:41.899Z"
   },
   {
    "duration": 15,
    "start_time": "2022-02-12T11:17:23.075Z"
   },
   {
    "duration": 16,
    "start_time": "2022-02-12T11:19:24.678Z"
   },
   {
    "duration": 15,
    "start_time": "2022-02-12T11:22:04.272Z"
   },
   {
    "duration": 14,
    "start_time": "2022-02-12T11:22:13.551Z"
   },
   {
    "duration": 14,
    "start_time": "2022-02-12T11:22:28.912Z"
   },
   {
    "duration": 14,
    "start_time": "2022-02-12T11:22:52.537Z"
   },
   {
    "duration": 15,
    "start_time": "2022-02-12T11:35:24.397Z"
   },
   {
    "duration": 3,
    "start_time": "2022-02-12T11:40:36.349Z"
   },
   {
    "duration": 3,
    "start_time": "2022-02-12T11:42:55.998Z"
   },
   {
    "duration": 3,
    "start_time": "2022-02-12T11:43:27.463Z"
   },
   {
    "duration": 389,
    "start_time": "2022-02-12T11:44:08.066Z"
   },
   {
    "duration": 361,
    "start_time": "2022-02-12T11:44:17.795Z"
   },
   {
    "duration": 4,
    "start_time": "2022-02-12T11:44:28.346Z"
   },
   {
    "duration": 3,
    "start_time": "2022-02-12T11:44:36.987Z"
   },
   {
    "duration": 4,
    "start_time": "2022-02-12T11:49:00.820Z"
   },
   {
    "duration": 1388,
    "start_time": "2022-02-13T10:50:42.368Z"
   },
   {
    "duration": 4316,
    "start_time": "2022-02-13T10:50:43.760Z"
   },
   {
    "duration": 21,
    "start_time": "2022-02-13T10:50:48.079Z"
   },
   {
    "duration": 17,
    "start_time": "2022-02-13T10:50:48.103Z"
   },
   {
    "duration": 11,
    "start_time": "2022-02-13T10:50:48.122Z"
   },
   {
    "duration": 34,
    "start_time": "2022-02-13T10:50:48.136Z"
   },
   {
    "duration": 12,
    "start_time": "2022-02-13T10:50:48.173Z"
   },
   {
    "duration": 14,
    "start_time": "2022-02-13T10:50:48.188Z"
   },
   {
    "duration": 5,
    "start_time": "2022-02-13T10:50:48.205Z"
   },
   {
    "duration": 57,
    "start_time": "2022-02-13T10:50:48.212Z"
   },
   {
    "duration": 15,
    "start_time": "2022-02-13T10:50:48.272Z"
   },
   {
    "duration": 16,
    "start_time": "2022-02-13T10:50:48.290Z"
   },
   {
    "duration": 6,
    "start_time": "2022-02-13T10:50:48.308Z"
   },
   {
    "duration": 44,
    "start_time": "2022-02-13T10:50:48.317Z"
   },
   {
    "duration": 22,
    "start_time": "2022-02-13T10:50:48.363Z"
   },
   {
    "duration": 17,
    "start_time": "2022-02-13T10:50:48.388Z"
   },
   {
    "duration": 19,
    "start_time": "2022-02-13T10:50:48.407Z"
   },
   {
    "duration": 33,
    "start_time": "2022-02-13T10:50:48.428Z"
   },
   {
    "duration": 101,
    "start_time": "2022-02-13T10:50:48.464Z"
   },
   {
    "duration": 108,
    "start_time": "2022-02-13T10:50:48.568Z"
   },
   {
    "duration": 117,
    "start_time": "2022-02-13T10:50:48.760Z"
   },
   {
    "duration": 83,
    "start_time": "2022-02-13T10:50:48.881Z"
   },
   {
    "duration": 98,
    "start_time": "2022-02-13T10:50:48.969Z"
   },
   {
    "duration": 5,
    "start_time": "2022-02-13T11:01:05.623Z"
   },
   {
    "duration": 5,
    "start_time": "2022-02-13T11:01:09.998Z"
   },
   {
    "duration": 152,
    "start_time": "2022-02-13T11:03:41.062Z"
   },
   {
    "duration": 5,
    "start_time": "2022-02-13T11:03:48.161Z"
   },
   {
    "duration": 5,
    "start_time": "2022-02-13T11:03:56.255Z"
   },
   {
    "duration": 5,
    "start_time": "2022-02-13T11:04:59.082Z"
   },
   {
    "duration": 4,
    "start_time": "2022-02-13T11:07:31.745Z"
   },
   {
    "duration": 4,
    "start_time": "2022-02-13T11:15:21.058Z"
   },
   {
    "duration": 5,
    "start_time": "2022-02-13T11:15:36.884Z"
   },
   {
    "duration": 4,
    "start_time": "2022-02-13T11:16:04.254Z"
   },
   {
    "duration": 6,
    "start_time": "2022-02-13T12:07:20.801Z"
   },
   {
    "duration": 5,
    "start_time": "2022-02-13T12:09:34.910Z"
   },
   {
    "duration": 7,
    "start_time": "2022-02-13T12:12:08.974Z"
   },
   {
    "duration": 6,
    "start_time": "2022-02-13T12:16:38.512Z"
   },
   {
    "duration": 6,
    "start_time": "2022-02-13T12:22:41.176Z"
   },
   {
    "duration": 4,
    "start_time": "2022-02-13T12:25:35.972Z"
   },
   {
    "duration": 1101,
    "start_time": "2022-02-13T19:08:15.766Z"
   },
   {
    "duration": 331,
    "start_time": "2022-02-13T19:08:16.871Z"
   },
   {
    "duration": 14,
    "start_time": "2022-02-13T19:08:17.204Z"
   },
   {
    "duration": 14,
    "start_time": "2022-02-13T19:08:17.221Z"
   },
   {
    "duration": 10,
    "start_time": "2022-02-13T19:08:17.237Z"
   },
   {
    "duration": 13,
    "start_time": "2022-02-13T19:08:17.272Z"
   },
   {
    "duration": 9,
    "start_time": "2022-02-13T19:08:17.287Z"
   },
   {
    "duration": 10,
    "start_time": "2022-02-13T19:08:17.299Z"
   },
   {
    "duration": 3,
    "start_time": "2022-02-13T19:08:17.311Z"
   },
   {
    "duration": 13,
    "start_time": "2022-02-13T19:08:17.316Z"
   },
   {
    "duration": 10,
    "start_time": "2022-02-13T19:08:17.330Z"
   },
   {
    "duration": 10,
    "start_time": "2022-02-13T19:08:17.372Z"
   },
   {
    "duration": 4,
    "start_time": "2022-02-13T19:08:17.383Z"
   },
   {
    "duration": 6,
    "start_time": "2022-02-13T19:08:17.389Z"
   },
   {
    "duration": 14,
    "start_time": "2022-02-13T19:08:17.397Z"
   },
   {
    "duration": 11,
    "start_time": "2022-02-13T19:08:17.413Z"
   },
   {
    "duration": 12,
    "start_time": "2022-02-13T19:08:17.426Z"
   },
   {
    "duration": 32,
    "start_time": "2022-02-13T19:08:17.440Z"
   },
   {
    "duration": 97,
    "start_time": "2022-02-13T19:08:17.474Z"
   },
   {
    "duration": 103,
    "start_time": "2022-02-13T19:08:17.574Z"
   },
   {
    "duration": 99,
    "start_time": "2022-02-13T19:08:17.678Z"
   },
   {
    "duration": 3,
    "start_time": "2022-02-13T19:08:17.779Z"
   },
   {
    "duration": 91,
    "start_time": "2022-02-13T19:08:17.784Z"
   },
   {
    "duration": 95,
    "start_time": "2022-02-13T19:08:17.877Z"
   },
   {
    "duration": 4,
    "start_time": "2022-02-13T19:08:17.974Z"
   },
   {
    "duration": 6,
    "start_time": "2022-02-13T19:08:17.980Z"
   },
   {
    "duration": 3,
    "start_time": "2022-02-13T19:10:58.236Z"
   },
   {
    "duration": 4,
    "start_time": "2022-02-13T19:11:28.368Z"
   },
   {
    "duration": 408,
    "start_time": "2022-02-13T19:14:00.791Z"
   },
   {
    "duration": 330,
    "start_time": "2022-02-13T19:14:18.312Z"
   },
   {
    "duration": 4,
    "start_time": "2022-02-13T19:18:49.442Z"
   },
   {
    "duration": 359,
    "start_time": "2022-02-13T19:19:20.199Z"
   },
   {
    "duration": 4,
    "start_time": "2022-02-13T19:19:39.601Z"
   },
   {
    "duration": 5,
    "start_time": "2022-02-13T19:19:51.230Z"
   },
   {
    "duration": 544,
    "start_time": "2022-02-13T19:20:12.521Z"
   },
   {
    "duration": 324,
    "start_time": "2022-02-13T19:21:16.264Z"
   },
   {
    "duration": 315,
    "start_time": "2022-02-13T19:21:24.057Z"
   },
   {
    "duration": 317,
    "start_time": "2022-02-13T19:23:07.416Z"
   },
   {
    "duration": 3,
    "start_time": "2022-02-13T19:23:46.886Z"
   },
   {
    "duration": 3,
    "start_time": "2022-02-13T19:23:55.347Z"
   },
   {
    "duration": 4,
    "start_time": "2022-02-13T19:28:25.292Z"
   },
   {
    "duration": 376,
    "start_time": "2022-02-13T19:28:45.736Z"
   },
   {
    "duration": 4,
    "start_time": "2022-02-13T19:29:01.907Z"
   },
   {
    "duration": 353,
    "start_time": "2022-02-13T19:29:03.744Z"
   },
   {
    "duration": 2,
    "start_time": "2022-02-13T19:29:39.297Z"
   },
   {
    "duration": 385,
    "start_time": "2022-02-13T19:29:40.873Z"
   },
   {
    "duration": 4,
    "start_time": "2022-02-13T19:29:54.417Z"
   },
   {
    "duration": 362,
    "start_time": "2022-02-13T19:29:55.920Z"
   },
   {
    "duration": 1034,
    "start_time": "2022-02-13T19:31:24.435Z"
   },
   {
    "duration": 342,
    "start_time": "2022-02-13T19:31:25.471Z"
   },
   {
    "duration": 13,
    "start_time": "2022-02-13T19:31:25.815Z"
   },
   {
    "duration": 11,
    "start_time": "2022-02-13T19:31:25.830Z"
   },
   {
    "duration": 7,
    "start_time": "2022-02-13T19:31:25.842Z"
   },
   {
    "duration": 21,
    "start_time": "2022-02-13T19:31:25.851Z"
   },
   {
    "duration": 8,
    "start_time": "2022-02-13T19:31:25.873Z"
   },
   {
    "duration": 8,
    "start_time": "2022-02-13T19:31:25.883Z"
   },
   {
    "duration": 3,
    "start_time": "2022-02-13T19:31:25.893Z"
   },
   {
    "duration": 12,
    "start_time": "2022-02-13T19:31:25.898Z"
   },
   {
    "duration": 9,
    "start_time": "2022-02-13T19:31:25.912Z"
   },
   {
    "duration": 10,
    "start_time": "2022-02-13T19:31:25.922Z"
   },
   {
    "duration": 4,
    "start_time": "2022-02-13T19:31:25.934Z"
   },
   {
    "duration": 5,
    "start_time": "2022-02-13T19:31:25.972Z"
   },
   {
    "duration": 15,
    "start_time": "2022-02-13T19:31:25.979Z"
   },
   {
    "duration": 12,
    "start_time": "2022-02-13T19:31:25.995Z"
   },
   {
    "duration": 12,
    "start_time": "2022-02-13T19:31:26.009Z"
   },
   {
    "duration": 3,
    "start_time": "2022-02-13T19:31:26.023Z"
   },
   {
    "duration": 145,
    "start_time": "2022-02-13T19:31:26.028Z"
   },
   {
    "duration": 100,
    "start_time": "2022-02-13T19:31:26.175Z"
   },
   {
    "duration": 105,
    "start_time": "2022-02-13T19:31:26.277Z"
   },
   {
    "duration": 87,
    "start_time": "2022-02-13T19:31:26.384Z"
   },
   {
    "duration": 3,
    "start_time": "2022-02-13T19:31:26.475Z"
   },
   {
    "duration": 94,
    "start_time": "2022-02-13T19:31:26.480Z"
   },
   {
    "duration": 4,
    "start_time": "2022-02-13T19:31:26.576Z"
   },
   {
    "duration": 5,
    "start_time": "2022-02-13T19:31:26.581Z"
   },
   {
    "duration": 3,
    "start_time": "2022-02-13T19:31:26.588Z"
   },
   {
    "duration": 402,
    "start_time": "2022-02-13T19:31:26.592Z"
   },
   {
    "duration": 3,
    "start_time": "2022-02-13T19:34:31.944Z"
   },
   {
    "duration": 351,
    "start_time": "2022-02-13T19:34:32.937Z"
   },
   {
    "duration": 3,
    "start_time": "2022-02-13T19:35:12.818Z"
   },
   {
    "duration": 1266,
    "start_time": "2022-02-13T19:35:36.689Z"
   },
   {
    "duration": 4,
    "start_time": "2022-02-13T19:39:36.686Z"
   },
   {
    "duration": 4,
    "start_time": "2022-02-13T19:40:08.948Z"
   },
   {
    "duration": 157,
    "start_time": "2022-02-13T19:45:18.559Z"
   },
   {
    "duration": 349,
    "start_time": "2022-02-13T19:45:24.729Z"
   },
   {
    "duration": 355,
    "start_time": "2022-02-13T19:45:38.323Z"
   },
   {
    "duration": 333,
    "start_time": "2022-02-13T19:46:22.963Z"
   },
   {
    "duration": 336,
    "start_time": "2022-02-13T19:47:08.844Z"
   },
   {
    "duration": 3,
    "start_time": "2022-02-13T19:50:06.499Z"
   },
   {
    "duration": 3,
    "start_time": "2022-02-13T19:50:19.147Z"
   },
   {
    "duration": 4,
    "start_time": "2022-02-13T19:50:27.183Z"
   },
   {
    "duration": 337,
    "start_time": "2022-02-13T19:55:19.083Z"
   },
   {
    "duration": 7,
    "start_time": "2022-02-13T19:56:45.483Z"
   },
   {
    "duration": 6,
    "start_time": "2022-02-13T19:57:22.720Z"
   },
   {
    "duration": 1046,
    "start_time": "2022-02-13T19:57:31.448Z"
   },
   {
    "duration": 347,
    "start_time": "2022-02-13T19:57:32.495Z"
   },
   {
    "duration": 15,
    "start_time": "2022-02-13T19:57:32.844Z"
   },
   {
    "duration": 15,
    "start_time": "2022-02-13T19:57:32.861Z"
   },
   {
    "duration": 8,
    "start_time": "2022-02-13T19:57:32.877Z"
   },
   {
    "duration": 11,
    "start_time": "2022-02-13T19:57:32.886Z"
   },
   {
    "duration": 9,
    "start_time": "2022-02-13T19:57:32.899Z"
   },
   {
    "duration": 10,
    "start_time": "2022-02-13T19:57:32.910Z"
   },
   {
    "duration": 5,
    "start_time": "2022-02-13T19:57:32.922Z"
   },
   {
    "duration": 16,
    "start_time": "2022-02-13T19:57:32.928Z"
   },
   {
    "duration": 12,
    "start_time": "2022-02-13T19:57:32.972Z"
   },
   {
    "duration": 10,
    "start_time": "2022-02-13T19:57:32.986Z"
   },
   {
    "duration": 4,
    "start_time": "2022-02-13T19:57:32.998Z"
   },
   {
    "duration": 10,
    "start_time": "2022-02-13T19:57:33.004Z"
   },
   {
    "duration": 17,
    "start_time": "2022-02-13T19:57:33.016Z"
   },
   {
    "duration": 13,
    "start_time": "2022-02-13T19:57:33.035Z"
   },
   {
    "duration": 34,
    "start_time": "2022-02-13T19:57:33.049Z"
   },
   {
    "duration": 4,
    "start_time": "2022-02-13T19:57:33.084Z"
   },
   {
    "duration": 84,
    "start_time": "2022-02-13T19:57:33.089Z"
   },
   {
    "duration": 101,
    "start_time": "2022-02-13T19:57:33.175Z"
   },
   {
    "duration": 196,
    "start_time": "2022-02-13T19:57:33.278Z"
   },
   {
    "duration": 5,
    "start_time": "2022-02-13T19:57:33.477Z"
   },
   {
    "duration": 3,
    "start_time": "2022-02-13T19:57:33.573Z"
   },
   {
    "duration": 4,
    "start_time": "2022-02-13T19:57:33.578Z"
   },
   {
    "duration": 4,
    "start_time": "2022-02-13T19:57:33.583Z"
   },
   {
    "duration": 5,
    "start_time": "2022-02-13T19:57:33.588Z"
   },
   {
    "duration": 7,
    "start_time": "2022-02-13T19:57:33.595Z"
   },
   {
    "duration": 388,
    "start_time": "2022-02-13T19:57:33.604Z"
   },
   {
    "duration": 8,
    "start_time": "2022-02-13T20:00:39.148Z"
   },
   {
    "duration": 8,
    "start_time": "2022-02-13T20:00:44.307Z"
   },
   {
    "duration": 333,
    "start_time": "2022-02-13T20:01:07.633Z"
   },
   {
    "duration": 8,
    "start_time": "2022-02-13T20:01:25.094Z"
   },
   {
    "duration": 7,
    "start_time": "2022-02-13T20:01:47.566Z"
   },
   {
    "duration": 7,
    "start_time": "2022-02-13T20:02:00.440Z"
   },
   {
    "duration": 328,
    "start_time": "2022-02-13T20:03:15.503Z"
   },
   {
    "duration": 330,
    "start_time": "2022-02-13T20:03:58.700Z"
   },
   {
    "duration": 387,
    "start_time": "2022-02-13T20:04:17.878Z"
   },
   {
    "duration": 330,
    "start_time": "2022-02-13T20:04:28.818Z"
   },
   {
    "duration": 979,
    "start_time": "2022-02-13T20:04:50.206Z"
   },
   {
    "duration": 337,
    "start_time": "2022-02-13T20:04:51.187Z"
   },
   {
    "duration": 14,
    "start_time": "2022-02-13T20:04:51.526Z"
   },
   {
    "duration": 9,
    "start_time": "2022-02-13T20:04:51.541Z"
   },
   {
    "duration": 7,
    "start_time": "2022-02-13T20:04:51.551Z"
   },
   {
    "duration": 21,
    "start_time": "2022-02-13T20:04:51.559Z"
   },
   {
    "duration": 7,
    "start_time": "2022-02-13T20:04:51.582Z"
   },
   {
    "duration": 16,
    "start_time": "2022-02-13T20:04:51.591Z"
   },
   {
    "duration": 4,
    "start_time": "2022-02-13T20:04:51.609Z"
   },
   {
    "duration": 12,
    "start_time": "2022-02-13T20:04:51.614Z"
   },
   {
    "duration": 10,
    "start_time": "2022-02-13T20:04:51.628Z"
   },
   {
    "duration": 39,
    "start_time": "2022-02-13T20:04:51.640Z"
   },
   {
    "duration": 4,
    "start_time": "2022-02-13T20:04:51.681Z"
   },
   {
    "duration": 11,
    "start_time": "2022-02-13T20:04:51.686Z"
   },
   {
    "duration": 18,
    "start_time": "2022-02-13T20:04:51.698Z"
   },
   {
    "duration": 12,
    "start_time": "2022-02-13T20:04:51.718Z"
   },
   {
    "duration": 13,
    "start_time": "2022-02-13T20:04:51.731Z"
   },
   {
    "duration": 3,
    "start_time": "2022-02-13T20:04:51.746Z"
   },
   {
    "duration": 23,
    "start_time": "2022-02-13T20:04:51.771Z"
   },
   {
    "duration": 103,
    "start_time": "2022-02-13T20:04:51.873Z"
   },
   {
    "duration": 105,
    "start_time": "2022-02-13T20:04:51.979Z"
   },
   {
    "duration": 7,
    "start_time": "2022-02-13T20:04:52.173Z"
   },
   {
    "duration": 90,
    "start_time": "2022-02-13T20:04:52.183Z"
   },
   {
    "duration": 5,
    "start_time": "2022-02-13T20:04:52.275Z"
   },
   {
    "duration": 7,
    "start_time": "2022-02-13T20:04:52.281Z"
   },
   {
    "duration": 4,
    "start_time": "2022-02-13T20:04:52.289Z"
   },
   {
    "duration": 7,
    "start_time": "2022-02-13T20:04:52.296Z"
   },
   {
    "duration": 555,
    "start_time": "2022-02-13T20:04:52.304Z"
   },
   {
    "duration": 113,
    "start_time": "2022-02-13T20:06:17.788Z"
   },
   {
    "duration": 8,
    "start_time": "2022-02-13T20:07:23.537Z"
   },
   {
    "duration": 7,
    "start_time": "2022-02-13T20:08:47.360Z"
   },
   {
    "duration": 8,
    "start_time": "2022-02-13T20:09:06.268Z"
   },
   {
    "duration": 7,
    "start_time": "2022-02-13T20:09:51.573Z"
   },
   {
    "duration": 8,
    "start_time": "2022-02-13T20:11:04.472Z"
   },
   {
    "duration": 7,
    "start_time": "2022-02-13T20:14:28.982Z"
   },
   {
    "duration": 332,
    "start_time": "2022-02-13T20:16:37.415Z"
   },
   {
    "duration": 7,
    "start_time": "2022-02-13T20:16:44.919Z"
   },
   {
    "duration": 3,
    "start_time": "2022-02-13T20:16:45.808Z"
   },
   {
    "duration": 3,
    "start_time": "2022-02-13T20:19:51.644Z"
   },
   {
    "duration": 3,
    "start_time": "2022-02-13T20:20:11.635Z"
   },
   {
    "duration": 4,
    "start_time": "2022-02-13T20:20:33.205Z"
   },
   {
    "duration": 4,
    "start_time": "2022-02-13T20:21:59.697Z"
   },
   {
    "duration": 3,
    "start_time": "2022-02-13T20:22:53.060Z"
   },
   {
    "duration": 3,
    "start_time": "2022-02-13T20:32:20.489Z"
   },
   {
    "duration": 402,
    "start_time": "2022-02-13T20:33:38.955Z"
   },
   {
    "duration": 8,
    "start_time": "2022-02-13T20:34:08.021Z"
   },
   {
    "duration": 3,
    "start_time": "2022-02-13T20:34:13.884Z"
   },
   {
    "duration": 364,
    "start_time": "2022-02-13T20:34:14.753Z"
   },
   {
    "duration": 1043,
    "start_time": "2022-02-13T20:34:49.683Z"
   },
   {
    "duration": 353,
    "start_time": "2022-02-13T20:34:50.728Z"
   },
   {
    "duration": 14,
    "start_time": "2022-02-13T20:34:51.083Z"
   },
   {
    "duration": 11,
    "start_time": "2022-02-13T20:34:51.098Z"
   },
   {
    "duration": 7,
    "start_time": "2022-02-13T20:34:51.110Z"
   },
   {
    "duration": 10,
    "start_time": "2022-02-13T20:34:51.119Z"
   },
   {
    "duration": 7,
    "start_time": "2022-02-13T20:34:51.130Z"
   },
   {
    "duration": 34,
    "start_time": "2022-02-13T20:34:51.139Z"
   },
   {
    "duration": 4,
    "start_time": "2022-02-13T20:34:51.175Z"
   },
   {
    "duration": 14,
    "start_time": "2022-02-13T20:34:51.180Z"
   },
   {
    "duration": 10,
    "start_time": "2022-02-13T20:34:51.196Z"
   },
   {
    "duration": 10,
    "start_time": "2022-02-13T20:34:51.207Z"
   },
   {
    "duration": 4,
    "start_time": "2022-02-13T20:34:51.219Z"
   },
   {
    "duration": 12,
    "start_time": "2022-02-13T20:34:51.224Z"
   },
   {
    "duration": 40,
    "start_time": "2022-02-13T20:34:51.237Z"
   },
   {
    "duration": 12,
    "start_time": "2022-02-13T20:34:51.279Z"
   },
   {
    "duration": 13,
    "start_time": "2022-02-13T20:34:51.293Z"
   },
   {
    "duration": 3,
    "start_time": "2022-02-13T20:34:51.308Z"
   },
   {
    "duration": 68,
    "start_time": "2022-02-13T20:34:51.312Z"
   },
   {
    "duration": 15,
    "start_time": "2022-02-13T20:34:51.472Z"
   },
   {
    "duration": 187,
    "start_time": "2022-02-13T20:34:51.489Z"
   },
   {
    "duration": 94,
    "start_time": "2022-02-13T20:34:51.679Z"
   },
   {
    "duration": 6,
    "start_time": "2022-02-13T20:34:51.777Z"
   },
   {
    "duration": 88,
    "start_time": "2022-02-13T20:34:51.785Z"
   },
   {
    "duration": 7,
    "start_time": "2022-02-13T20:34:51.875Z"
   },
   {
    "duration": 4,
    "start_time": "2022-02-13T20:34:51.884Z"
   },
   {
    "duration": 9,
    "start_time": "2022-02-13T20:34:51.890Z"
   },
   {
    "duration": 2,
    "start_time": "2022-02-13T20:34:51.901Z"
   },
   {
    "duration": 6,
    "start_time": "2022-02-13T20:34:51.904Z"
   },
   {
    "duration": 392,
    "start_time": "2022-02-13T20:34:51.912Z"
   },
   {
    "duration": 3,
    "start_time": "2022-02-13T20:36:55.372Z"
   },
   {
    "duration": 3,
    "start_time": "2022-02-13T20:36:59.323Z"
   },
   {
    "duration": 381,
    "start_time": "2022-02-13T20:37:01.467Z"
   },
   {
    "duration": 4,
    "start_time": "2022-02-13T20:37:43.194Z"
   },
   {
    "duration": 339,
    "start_time": "2022-02-13T20:38:00.813Z"
   },
   {
    "duration": 7,
    "start_time": "2022-02-13T20:38:57.998Z"
   },
   {
    "duration": 2,
    "start_time": "2022-02-13T20:39:13.152Z"
   },
   {
    "duration": 7,
    "start_time": "2022-02-13T20:39:46.227Z"
   },
   {
    "duration": 698,
    "start_time": "2022-02-13T20:41:09.783Z"
   },
   {
    "duration": 3,
    "start_time": "2022-02-13T20:41:53.869Z"
   },
   {
    "duration": 8,
    "start_time": "2022-02-13T20:41:56.782Z"
   },
   {
    "duration": 7,
    "start_time": "2022-02-13T20:42:01.486Z"
   },
   {
    "duration": 1046,
    "start_time": "2022-02-14T10:20:39.420Z"
   },
   {
    "duration": 375,
    "start_time": "2022-02-14T10:20:40.468Z"
   },
   {
    "duration": 18,
    "start_time": "2022-02-14T10:20:40.845Z"
   },
   {
    "duration": 10,
    "start_time": "2022-02-14T10:20:40.865Z"
   },
   {
    "duration": 8,
    "start_time": "2022-02-14T10:20:40.877Z"
   },
   {
    "duration": 32,
    "start_time": "2022-02-14T10:20:40.886Z"
   },
   {
    "duration": 9,
    "start_time": "2022-02-14T10:20:40.919Z"
   },
   {
    "duration": 12,
    "start_time": "2022-02-14T10:20:40.930Z"
   },
   {
    "duration": 4,
    "start_time": "2022-02-14T10:20:40.944Z"
   },
   {
    "duration": 17,
    "start_time": "2022-02-14T10:20:40.949Z"
   },
   {
    "duration": 12,
    "start_time": "2022-02-14T10:20:40.967Z"
   },
   {
    "duration": 42,
    "start_time": "2022-02-14T10:20:40.981Z"
   },
   {
    "duration": 4,
    "start_time": "2022-02-14T10:20:41.025Z"
   },
   {
    "duration": 8,
    "start_time": "2022-02-14T10:20:41.030Z"
   },
   {
    "duration": 17,
    "start_time": "2022-02-14T10:20:41.039Z"
   },
   {
    "duration": 13,
    "start_time": "2022-02-14T10:20:41.058Z"
   },
   {
    "duration": 48,
    "start_time": "2022-02-14T10:20:41.073Z"
   },
   {
    "duration": 3,
    "start_time": "2022-02-14T10:20:41.123Z"
   },
   {
    "duration": 20,
    "start_time": "2022-02-14T10:20:41.128Z"
   },
   {
    "duration": 105,
    "start_time": "2022-02-14T10:20:41.216Z"
   },
   {
    "duration": 193,
    "start_time": "2022-02-14T10:20:41.326Z"
   },
   {
    "duration": 93,
    "start_time": "2022-02-14T10:20:41.521Z"
   },
   {
    "duration": 92,
    "start_time": "2022-02-14T10:20:41.621Z"
   },
   {
    "duration": 4,
    "start_time": "2022-02-14T10:20:41.714Z"
   },
   {
    "duration": 5,
    "start_time": "2022-02-14T10:20:41.720Z"
   },
   {
    "duration": 6,
    "start_time": "2022-02-14T10:20:41.727Z"
   },
   {
    "duration": 3,
    "start_time": "2022-02-14T10:20:41.735Z"
   },
   {
    "duration": 5,
    "start_time": "2022-02-14T10:20:41.740Z"
   },
   {
    "duration": 9,
    "start_time": "2022-02-14T10:20:41.746Z"
   },
   {
    "duration": 7,
    "start_time": "2022-02-14T10:20:41.757Z"
   },
   {
    "duration": 47,
    "start_time": "2022-02-14T10:20:41.766Z"
   },
   {
    "duration": 258,
    "start_time": "2022-02-14T11:07:39.628Z"
   },
   {
    "duration": 3,
    "start_time": "2022-02-14T11:08:40.391Z"
   },
   {
    "duration": 191,
    "start_time": "2022-02-14T11:08:51.171Z"
   },
   {
    "duration": 1001,
    "start_time": "2022-02-14T11:09:10.633Z"
   },
   {
    "duration": 334,
    "start_time": "2022-02-14T11:09:11.636Z"
   },
   {
    "duration": 15,
    "start_time": "2022-02-14T11:09:11.972Z"
   },
   {
    "duration": 10,
    "start_time": "2022-02-14T11:09:11.988Z"
   },
   {
    "duration": 19,
    "start_time": "2022-02-14T11:09:11.999Z"
   },
   {
    "duration": 14,
    "start_time": "2022-02-14T11:09:12.020Z"
   },
   {
    "duration": 8,
    "start_time": "2022-02-14T11:09:12.036Z"
   },
   {
    "duration": 11,
    "start_time": "2022-02-14T11:09:12.046Z"
   },
   {
    "duration": 4,
    "start_time": "2022-02-14T11:09:12.058Z"
   },
   {
    "duration": 15,
    "start_time": "2022-02-14T11:09:12.064Z"
   },
   {
    "duration": 40,
    "start_time": "2022-02-14T11:09:12.080Z"
   },
   {
    "duration": 12,
    "start_time": "2022-02-14T11:09:12.121Z"
   },
   {
    "duration": 5,
    "start_time": "2022-02-14T11:09:12.134Z"
   },
   {
    "duration": 7,
    "start_time": "2022-02-14T11:09:12.140Z"
   },
   {
    "duration": 15,
    "start_time": "2022-02-14T11:09:12.149Z"
   },
   {
    "duration": 13,
    "start_time": "2022-02-14T11:09:12.166Z"
   },
   {
    "duration": 44,
    "start_time": "2022-02-14T11:09:12.180Z"
   },
   {
    "duration": 3,
    "start_time": "2022-02-14T11:09:12.226Z"
   },
   {
    "duration": 84,
    "start_time": "2022-02-14T11:09:12.230Z"
   },
   {
    "duration": 107,
    "start_time": "2022-02-14T11:09:12.316Z"
   },
   {
    "duration": 191,
    "start_time": "2022-02-14T11:09:12.426Z"
   },
   {
    "duration": 94,
    "start_time": "2022-02-14T11:09:12.619Z"
   },
   {
    "duration": 7,
    "start_time": "2022-02-14T11:09:12.717Z"
   },
   {
    "duration": 87,
    "start_time": "2022-02-14T11:09:12.726Z"
   },
   {
    "duration": 3,
    "start_time": "2022-02-14T11:09:12.815Z"
   },
   {
    "duration": 11,
    "start_time": "2022-02-14T11:09:12.820Z"
   },
   {
    "duration": 10,
    "start_time": "2022-02-14T11:09:12.833Z"
   },
   {
    "duration": 11,
    "start_time": "2022-02-14T11:09:12.845Z"
   },
   {
    "duration": 16,
    "start_time": "2022-02-14T11:09:12.858Z"
   },
   {
    "duration": 8,
    "start_time": "2022-02-14T11:09:12.876Z"
   },
   {
    "duration": 12,
    "start_time": "2022-02-14T11:09:12.886Z"
   },
   {
    "duration": 326,
    "start_time": "2022-02-14T11:09:12.899Z"
   },
   {
    "duration": 187,
    "start_time": "2022-02-14T11:13:15.371Z"
   },
   {
    "duration": 6,
    "start_time": "2022-02-14T11:15:12.034Z"
   },
   {
    "duration": 8,
    "start_time": "2022-02-14T11:15:13.128Z"
   },
   {
    "duration": 4,
    "start_time": "2022-02-14T11:15:37.286Z"
   },
   {
    "duration": 951,
    "start_time": "2022-02-14T19:01:23.995Z"
   },
   {
    "duration": 345,
    "start_time": "2022-02-14T19:01:24.948Z"
   },
   {
    "duration": 13,
    "start_time": "2022-02-14T19:01:25.295Z"
   },
   {
    "duration": 9,
    "start_time": "2022-02-14T19:01:25.310Z"
   },
   {
    "duration": 17,
    "start_time": "2022-02-14T19:01:25.320Z"
   },
   {
    "duration": 15,
    "start_time": "2022-02-14T19:01:25.338Z"
   },
   {
    "duration": 9,
    "start_time": "2022-02-14T19:01:25.355Z"
   },
   {
    "duration": 12,
    "start_time": "2022-02-14T19:01:25.366Z"
   },
   {
    "duration": 4,
    "start_time": "2022-02-14T19:01:25.382Z"
   },
   {
    "duration": 48,
    "start_time": "2022-02-14T19:01:25.388Z"
   },
   {
    "duration": 12,
    "start_time": "2022-02-14T19:01:25.437Z"
   },
   {
    "duration": 11,
    "start_time": "2022-02-14T19:01:25.451Z"
   },
   {
    "duration": 5,
    "start_time": "2022-02-14T19:01:25.464Z"
   },
   {
    "duration": 10,
    "start_time": "2022-02-14T19:01:25.471Z"
   },
   {
    "duration": 20,
    "start_time": "2022-02-14T19:01:25.483Z"
   },
   {
    "duration": 13,
    "start_time": "2022-02-14T19:01:25.531Z"
   },
   {
    "duration": 14,
    "start_time": "2022-02-14T19:01:25.546Z"
   },
   {
    "duration": 3,
    "start_time": "2022-02-14T19:01:25.561Z"
   },
   {
    "duration": 70,
    "start_time": "2022-02-14T19:01:25.566Z"
   },
   {
    "duration": 102,
    "start_time": "2022-02-14T19:01:25.638Z"
   },
   {
    "duration": 193,
    "start_time": "2022-02-14T19:01:25.742Z"
   },
   {
    "duration": 11,
    "start_time": "2022-02-14T19:01:26.029Z"
   },
   {
    "duration": 5,
    "start_time": "2022-02-14T19:01:26.131Z"
   },
   {
    "duration": 6,
    "start_time": "2022-02-14T19:01:26.138Z"
   },
   {
    "duration": 6,
    "start_time": "2022-02-14T19:01:26.146Z"
   },
   {
    "duration": 6,
    "start_time": "2022-02-14T19:01:26.153Z"
   },
   {
    "duration": 4,
    "start_time": "2022-02-14T19:01:26.163Z"
   },
   {
    "duration": 7,
    "start_time": "2022-02-14T19:01:26.169Z"
   },
   {
    "duration": 9,
    "start_time": "2022-02-14T19:01:26.177Z"
   },
   {
    "duration": 263,
    "start_time": "2022-02-14T19:01:26.187Z"
   },
   {
    "duration": 686,
    "start_time": "2022-02-14T19:01:25.766Z"
   },
   {
    "duration": 681,
    "start_time": "2022-02-14T19:01:25.772Z"
   },
   {
    "duration": 677,
    "start_time": "2022-02-14T19:01:25.777Z"
   },
   {
    "duration": 3,
    "start_time": "2022-02-14T19:02:58.536Z"
   },
   {
    "duration": 8,
    "start_time": "2022-02-14T19:03:14.575Z"
   },
   {
    "duration": 6,
    "start_time": "2022-02-14T19:03:37.503Z"
   },
   {
    "duration": 195,
    "start_time": "2022-02-14T19:03:58.490Z"
   },
   {
    "duration": 133,
    "start_time": "2022-02-14T19:05:09.322Z"
   },
   {
    "duration": 139,
    "start_time": "2022-02-14T19:05:38.912Z"
   },
   {
    "duration": 127,
    "start_time": "2022-02-14T19:05:48.630Z"
   },
   {
    "duration": 275,
    "start_time": "2022-02-14T19:06:07.792Z"
   },
   {
    "duration": 202,
    "start_time": "2022-02-14T19:06:57.625Z"
   },
   {
    "duration": 202,
    "start_time": "2022-02-14T19:07:20.010Z"
   },
   {
    "duration": 213,
    "start_time": "2022-02-14T19:11:48.822Z"
   },
   {
    "duration": 192,
    "start_time": "2022-02-14T19:12:56.210Z"
   },
   {
    "duration": 239,
    "start_time": "2022-02-14T20:30:05.263Z"
   },
   {
    "duration": 209,
    "start_time": "2022-02-14T20:30:21.907Z"
   },
   {
    "duration": 222,
    "start_time": "2022-02-14T20:32:14.744Z"
   },
   {
    "duration": 206,
    "start_time": "2022-02-14T20:32:48.987Z"
   },
   {
    "duration": 174,
    "start_time": "2022-02-14T20:34:12.937Z"
   },
   {
    "duration": 193,
    "start_time": "2022-02-14T20:34:37.796Z"
   },
   {
    "duration": 199,
    "start_time": "2022-02-14T20:34:54.169Z"
   },
   {
    "duration": 173,
    "start_time": "2022-02-14T20:34:55.972Z"
   },
   {
    "duration": 171,
    "start_time": "2022-02-14T20:35:05.168Z"
   },
   {
    "duration": 178,
    "start_time": "2022-02-14T20:35:35.669Z"
   },
   {
    "duration": 1389,
    "start_time": "2022-02-16T12:05:26.489Z"
   },
   {
    "duration": 532,
    "start_time": "2022-02-16T12:05:27.882Z"
   },
   {
    "duration": 45,
    "start_time": "2022-02-16T12:05:28.418Z"
   },
   {
    "duration": 22,
    "start_time": "2022-02-16T12:05:28.467Z"
   },
   {
    "duration": 18,
    "start_time": "2022-02-16T12:05:28.492Z"
   },
   {
    "duration": 51,
    "start_time": "2022-02-16T12:05:28.513Z"
   },
   {
    "duration": 17,
    "start_time": "2022-02-16T12:05:28.567Z"
   },
   {
    "duration": 19,
    "start_time": "2022-02-16T12:05:28.589Z"
   },
   {
    "duration": 39,
    "start_time": "2022-02-16T12:05:28.612Z"
   },
   {
    "duration": 22,
    "start_time": "2022-02-16T12:05:28.654Z"
   },
   {
    "duration": 17,
    "start_time": "2022-02-16T12:05:28.679Z"
   },
   {
    "duration": 51,
    "start_time": "2022-02-16T12:05:28.699Z"
   },
   {
    "duration": 8,
    "start_time": "2022-02-16T12:05:28.753Z"
   },
   {
    "duration": 12,
    "start_time": "2022-02-16T12:05:28.764Z"
   },
   {
    "duration": 26,
    "start_time": "2022-02-16T12:05:28.779Z"
   },
   {
    "duration": 52,
    "start_time": "2022-02-16T12:05:28.808Z"
   },
   {
    "duration": 25,
    "start_time": "2022-02-16T12:05:28.863Z"
   },
   {
    "duration": 5,
    "start_time": "2022-02-16T12:05:28.891Z"
   },
   {
    "duration": 55,
    "start_time": "2022-02-16T12:05:28.899Z"
   },
   {
    "duration": 192,
    "start_time": "2022-02-16T12:05:28.957Z"
   },
   {
    "duration": 112,
    "start_time": "2022-02-16T12:05:29.154Z"
   },
   {
    "duration": 81,
    "start_time": "2022-02-16T12:05:29.269Z"
   },
   {
    "duration": 103,
    "start_time": "2022-02-16T12:05:29.357Z"
   },
   {
    "duration": 22,
    "start_time": "2022-02-16T12:05:29.464Z"
   },
   {
    "duration": 13,
    "start_time": "2022-02-16T12:05:29.489Z"
   },
   {
    "duration": 22,
    "start_time": "2022-02-16T12:05:29.505Z"
   },
   {
    "duration": 14,
    "start_time": "2022-02-16T12:05:29.531Z"
   },
   {
    "duration": 13,
    "start_time": "2022-02-16T12:05:29.548Z"
   },
   {
    "duration": 27,
    "start_time": "2022-02-16T12:05:29.564Z"
   },
   {
    "duration": 427,
    "start_time": "2022-02-16T12:05:29.594Z"
   },
   {
    "duration": 739,
    "start_time": "2022-02-16T12:05:29.285Z"
   },
   {
    "duration": 724,
    "start_time": "2022-02-16T12:05:29.301Z"
   },
   {
    "duration": 708,
    "start_time": "2022-02-16T12:05:29.319Z"
   },
   {
    "duration": 704,
    "start_time": "2022-02-16T12:05:29.324Z"
   },
   {
    "duration": 700,
    "start_time": "2022-02-16T12:05:29.330Z"
   },
   {
    "duration": 305,
    "start_time": "2022-02-16T12:07:27.373Z"
   },
   {
    "duration": 9,
    "start_time": "2022-02-16T12:07:31.704Z"
   },
   {
    "duration": 427,
    "start_time": "2022-02-16T12:07:39.114Z"
   },
   {
    "duration": 429,
    "start_time": "2022-02-16T12:07:40.251Z"
   },
   {
    "duration": 1317,
    "start_time": "2022-02-16T18:38:32.820Z"
   },
   {
    "duration": 2777,
    "start_time": "2022-02-16T18:38:34.140Z"
   },
   {
    "duration": 25,
    "start_time": "2022-02-16T18:38:36.920Z"
   },
   {
    "duration": 15,
    "start_time": "2022-02-16T18:38:36.948Z"
   },
   {
    "duration": 12,
    "start_time": "2022-02-16T18:38:36.966Z"
   },
   {
    "duration": 47,
    "start_time": "2022-02-16T18:38:36.982Z"
   },
   {
    "duration": 12,
    "start_time": "2022-02-16T18:38:37.032Z"
   },
   {
    "duration": 13,
    "start_time": "2022-02-16T18:38:37.047Z"
   },
   {
    "duration": 5,
    "start_time": "2022-02-16T18:38:37.063Z"
   },
   {
    "duration": 56,
    "start_time": "2022-02-16T18:38:37.070Z"
   },
   {
    "duration": 16,
    "start_time": "2022-02-16T18:38:37.128Z"
   },
   {
    "duration": 16,
    "start_time": "2022-02-16T18:38:37.147Z"
   },
   {
    "duration": 7,
    "start_time": "2022-02-16T18:38:37.165Z"
   },
   {
    "duration": 49,
    "start_time": "2022-02-16T18:38:37.174Z"
   },
   {
    "duration": 18,
    "start_time": "2022-02-16T18:38:37.226Z"
   },
   {
    "duration": 17,
    "start_time": "2022-02-16T18:38:37.246Z"
   },
   {
    "duration": 17,
    "start_time": "2022-02-16T18:38:37.265Z"
   },
   {
    "duration": 5,
    "start_time": "2022-02-16T18:38:37.284Z"
   },
   {
    "duration": 131,
    "start_time": "2022-02-16T18:38:37.291Z"
   },
   {
    "duration": 108,
    "start_time": "2022-02-16T18:38:37.425Z"
   },
   {
    "duration": 200,
    "start_time": "2022-02-16T18:38:37.536Z"
   },
   {
    "duration": 87,
    "start_time": "2022-02-16T18:38:37.738Z"
   },
   {
    "duration": 97,
    "start_time": "2022-02-16T18:38:37.832Z"
   },
   {
    "duration": 6,
    "start_time": "2022-02-16T18:38:37.932Z"
   },
   {
    "duration": 6,
    "start_time": "2022-02-16T18:38:37.940Z"
   },
   {
    "duration": 11,
    "start_time": "2022-02-16T18:38:37.948Z"
   },
   {
    "duration": 4,
    "start_time": "2022-02-16T18:38:37.962Z"
   },
   {
    "duration": 6,
    "start_time": "2022-02-16T18:38:37.968Z"
   },
   {
    "duration": 50,
    "start_time": "2022-02-16T18:38:37.977Z"
   },
   {
    "duration": 395,
    "start_time": "2022-02-16T18:38:38.029Z"
   },
   {
    "duration": 1310,
    "start_time": "2022-02-16T18:38:37.117Z"
   },
   {
    "duration": 1306,
    "start_time": "2022-02-16T18:38:37.122Z"
   },
   {
    "duration": 1281,
    "start_time": "2022-02-16T18:38:37.149Z"
   },
   {
    "duration": 1271,
    "start_time": "2022-02-16T18:38:37.161Z"
   },
   {
    "duration": 1268,
    "start_time": "2022-02-16T18:38:37.166Z"
   },
   {
    "duration": 4,
    "start_time": "2022-02-16T18:55:40.547Z"
   },
   {
    "duration": 288,
    "start_time": "2022-02-16T18:55:44.651Z"
   },
   {
    "duration": 4,
    "start_time": "2022-02-16T18:56:50.222Z"
   },
   {
    "duration": 5,
    "start_time": "2022-02-16T18:57:35.737Z"
   },
   {
    "duration": 274,
    "start_time": "2022-02-16T18:57:37.371Z"
   },
   {
    "duration": 6,
    "start_time": "2022-02-16T18:58:18.147Z"
   },
   {
    "duration": 590,
    "start_time": "2022-02-16T18:58:19.727Z"
   },
   {
    "duration": 5,
    "start_time": "2022-02-16T18:59:50.198Z"
   },
   {
    "duration": 328,
    "start_time": "2022-02-16T18:59:51.314Z"
   },
   {
    "duration": 5,
    "start_time": "2022-02-16T19:00:55.176Z"
   },
   {
    "duration": 521,
    "start_time": "2022-02-16T19:00:56.057Z"
   },
   {
    "duration": 4,
    "start_time": "2022-02-16T19:01:06.606Z"
   },
   {
    "duration": 303,
    "start_time": "2022-02-16T19:01:08.218Z"
   },
   {
    "duration": 8,
    "start_time": "2022-02-16T19:04:04.755Z"
   },
   {
    "duration": 10,
    "start_time": "2022-02-16T19:04:30.351Z"
   },
   {
    "duration": 5,
    "start_time": "2022-02-16T19:04:45.926Z"
   },
   {
    "duration": 10,
    "start_time": "2022-02-16T19:04:46.789Z"
   },
   {
    "duration": 11,
    "start_time": "2022-02-16T19:05:14.430Z"
   },
   {
    "duration": 12,
    "start_time": "2022-02-16T19:05:29.170Z"
   },
   {
    "duration": 26,
    "start_time": "2022-02-16T19:12:04.373Z"
   },
   {
    "duration": 20,
    "start_time": "2022-02-16T19:12:30.733Z"
   },
   {
    "duration": 29,
    "start_time": "2022-02-16T19:12:46.369Z"
   },
   {
    "duration": 683,
    "start_time": "2022-02-16T19:23:01.031Z"
   },
   {
    "duration": 2843,
    "start_time": "2022-02-16T19:23:43.184Z"
   },
   {
    "duration": 3058,
    "start_time": "2022-02-16T19:23:59.004Z"
   },
   {
    "duration": 4,
    "start_time": "2022-02-16T19:25:42.476Z"
   },
   {
    "duration": 527,
    "start_time": "2022-02-16T19:25:53.175Z"
   },
   {
    "duration": 4,
    "start_time": "2022-02-16T19:37:13.112Z"
   },
   {
    "duration": 2600,
    "start_time": "2022-02-16T19:37:21.584Z"
   },
   {
    "duration": 2694,
    "start_time": "2022-02-16T19:40:08.416Z"
   },
   {
    "duration": 2412,
    "start_time": "2022-02-16T19:47:45.961Z"
   },
   {
    "duration": 412,
    "start_time": "2022-02-16T19:49:13.502Z"
   },
   {
    "duration": 265,
    "start_time": "2022-02-16T19:49:57.795Z"
   },
   {
    "duration": 265,
    "start_time": "2022-02-16T19:50:31.640Z"
   },
   {
    "duration": 6,
    "start_time": "2022-02-16T19:53:06.644Z"
   },
   {
    "duration": 6,
    "start_time": "2022-02-16T19:53:15.935Z"
   },
   {
    "duration": 683,
    "start_time": "2022-02-16T19:58:49.532Z"
   },
   {
    "duration": 2776,
    "start_time": "2022-02-16T19:59:20.784Z"
   },
   {
    "duration": 267,
    "start_time": "2022-02-16T20:09:21.230Z"
   },
   {
    "duration": 6,
    "start_time": "2022-02-16T20:09:52.380Z"
   },
   {
    "duration": 10,
    "start_time": "2022-02-16T20:10:22.621Z"
   },
   {
    "duration": 9,
    "start_time": "2022-02-16T20:12:12.696Z"
   },
   {
    "duration": 265,
    "start_time": "2022-02-16T20:13:24.292Z"
   },
   {
    "duration": 286,
    "start_time": "2022-02-16T20:13:50.501Z"
   },
   {
    "duration": 6,
    "start_time": "2022-02-16T20:14:04.000Z"
   },
   {
    "duration": 8,
    "start_time": "2022-02-16T20:15:11.220Z"
   },
   {
    "duration": 5,
    "start_time": "2022-02-16T20:23:41.983Z"
   },
   {
    "duration": 2472,
    "start_time": "2022-02-16T20:24:41.093Z"
   },
   {
    "duration": 2481,
    "start_time": "2022-02-16T20:25:31.204Z"
   },
   {
    "duration": 2756,
    "start_time": "2022-02-16T20:26:18.977Z"
   },
   {
    "duration": 2967,
    "start_time": "2022-02-16T20:29:43.473Z"
   },
   {
    "duration": 6,
    "start_time": "2022-02-16T20:30:01.532Z"
   },
   {
    "duration": 2769,
    "start_time": "2022-02-16T20:30:07.228Z"
   },
   {
    "duration": 2682,
    "start_time": "2022-02-16T20:30:16.988Z"
   },
   {
    "duration": 2682,
    "start_time": "2022-02-16T20:31:12.173Z"
   },
   {
    "duration": 7,
    "start_time": "2022-02-16T20:31:43.199Z"
   },
   {
    "duration": 314,
    "start_time": "2022-02-16T20:31:43.509Z"
   },
   {
    "duration": 8,
    "start_time": "2022-02-16T20:31:46.992Z"
   },
   {
    "duration": 7,
    "start_time": "2022-02-16T20:38:44.643Z"
   },
   {
    "duration": 506,
    "start_time": "2022-02-16T20:38:45.898Z"
   },
   {
    "duration": 6,
    "start_time": "2022-02-16T20:39:28.098Z"
   },
   {
    "duration": 660,
    "start_time": "2022-02-16T20:39:29.035Z"
   },
   {
    "duration": 6,
    "start_time": "2022-02-16T20:42:00.407Z"
   },
   {
    "duration": 550,
    "start_time": "2022-02-16T20:42:02.410Z"
   },
   {
    "duration": 6,
    "start_time": "2022-02-16T20:42:37.338Z"
   },
   {
    "duration": 536,
    "start_time": "2022-02-16T20:42:38.384Z"
   },
   {
    "duration": 7,
    "start_time": "2022-02-16T20:42:51.473Z"
   },
   {
    "duration": 1322,
    "start_time": "2022-02-16T20:42:52.824Z"
   },
   {
    "duration": 9,
    "start_time": "2022-02-16T20:45:44.640Z"
   },
   {
    "duration": 2765,
    "start_time": "2022-02-16T20:45:47.673Z"
   },
   {
    "duration": 2844,
    "start_time": "2022-02-16T20:49:54.115Z"
   },
   {
    "duration": 275,
    "start_time": "2022-02-16T20:53:41.529Z"
   },
   {
    "duration": 8,
    "start_time": "2022-02-16T20:54:38.431Z"
   },
   {
    "duration": 269,
    "start_time": "2022-02-16T20:55:10.229Z"
   },
   {
    "duration": 8,
    "start_time": "2022-02-16T20:55:23.858Z"
   },
   {
    "duration": 9,
    "start_time": "2022-02-16T21:02:05.913Z"
   },
   {
    "duration": 7,
    "start_time": "2022-02-16T21:02:17.822Z"
   },
   {
    "duration": 7,
    "start_time": "2022-02-16T21:02:43.749Z"
   },
   {
    "duration": 286,
    "start_time": "2022-02-16T21:06:43.832Z"
   },
   {
    "duration": 1425,
    "start_time": "2022-02-17T18:07:28.030Z"
   },
   {
    "duration": 488,
    "start_time": "2022-02-17T18:07:29.458Z"
   },
   {
    "duration": 25,
    "start_time": "2022-02-17T18:07:29.949Z"
   },
   {
    "duration": 20,
    "start_time": "2022-02-17T18:07:29.978Z"
   },
   {
    "duration": 35,
    "start_time": "2022-02-17T18:07:30.000Z"
   },
   {
    "duration": 23,
    "start_time": "2022-02-17T18:07:30.037Z"
   },
   {
    "duration": 14,
    "start_time": "2022-02-17T18:07:30.062Z"
   },
   {
    "duration": 54,
    "start_time": "2022-02-17T18:07:30.082Z"
   },
   {
    "duration": 6,
    "start_time": "2022-02-17T18:07:30.139Z"
   },
   {
    "duration": 26,
    "start_time": "2022-02-17T18:07:30.148Z"
   },
   {
    "duration": 18,
    "start_time": "2022-02-17T18:07:30.177Z"
   },
   {
    "duration": 17,
    "start_time": "2022-02-17T18:07:30.227Z"
   },
   {
    "duration": 14,
    "start_time": "2022-02-17T18:07:30.246Z"
   },
   {
    "duration": 16,
    "start_time": "2022-02-17T18:07:30.263Z"
   },
   {
    "duration": 28,
    "start_time": "2022-02-17T18:07:30.281Z"
   },
   {
    "duration": 32,
    "start_time": "2022-02-17T18:07:30.312Z"
   },
   {
    "duration": 20,
    "start_time": "2022-02-17T18:07:30.347Z"
   },
   {
    "duration": 8,
    "start_time": "2022-02-17T18:07:30.370Z"
   },
   {
    "duration": 148,
    "start_time": "2022-02-17T18:07:30.380Z"
   },
   {
    "duration": 113,
    "start_time": "2022-02-17T18:07:30.531Z"
   },
   {
    "duration": 132,
    "start_time": "2022-02-17T18:07:30.732Z"
   },
   {
    "duration": 163,
    "start_time": "2022-02-17T18:07:30.867Z"
   },
   {
    "duration": 13,
    "start_time": "2022-02-17T18:07:31.037Z"
   },
   {
    "duration": 10,
    "start_time": "2022-02-17T18:07:31.053Z"
   },
   {
    "duration": 11,
    "start_time": "2022-02-17T18:07:31.065Z"
   },
   {
    "duration": 16,
    "start_time": "2022-02-17T18:07:31.079Z"
   },
   {
    "duration": 10,
    "start_time": "2022-02-17T18:07:31.097Z"
   },
   {
    "duration": 10,
    "start_time": "2022-02-17T18:07:31.127Z"
   },
   {
    "duration": 37,
    "start_time": "2022-02-17T18:07:31.139Z"
   },
   {
    "duration": 2601,
    "start_time": "2022-02-17T18:07:31.179Z"
   },
   {
    "duration": 6,
    "start_time": "2022-02-17T18:07:33.782Z"
   },
   {
    "duration": 3054,
    "start_time": "2022-02-17T18:07:33.790Z"
   },
   {
    "duration": 1559,
    "start_time": "2022-02-17T18:07:35.288Z"
   },
   {
    "duration": 1550,
    "start_time": "2022-02-17T18:07:35.298Z"
   },
   {
    "duration": 1543,
    "start_time": "2022-02-17T18:07:35.307Z"
   },
   {
    "duration": 1539,
    "start_time": "2022-02-17T18:07:35.314Z"
   },
   {
    "duration": 9,
    "start_time": "2022-02-17T18:14:28.949Z"
   },
   {
    "duration": 8,
    "start_time": "2022-02-17T18:14:37.610Z"
   },
   {
    "duration": 2677,
    "start_time": "2022-02-17T18:15:46.692Z"
   },
   {
    "duration": 8,
    "start_time": "2022-02-17T18:16:55.453Z"
   },
   {
    "duration": 8,
    "start_time": "2022-02-17T18:17:05.251Z"
   },
   {
    "duration": 9,
    "start_time": "2022-02-17T18:18:03.646Z"
   },
   {
    "duration": 2462,
    "start_time": "2022-02-17T18:19:20.441Z"
   },
   {
    "duration": 293,
    "start_time": "2022-02-17T18:21:52.090Z"
   },
   {
    "duration": 6,
    "start_time": "2022-02-17T18:22:01.918Z"
   },
   {
    "duration": 14,
    "start_time": "2022-02-17T18:25:48.043Z"
   },
   {
    "duration": 8,
    "start_time": "2022-02-17T18:26:56.298Z"
   },
   {
    "duration": 2545,
    "start_time": "2022-02-17T18:27:05.707Z"
   },
   {
    "duration": 3515,
    "start_time": "2022-02-17T18:27:20.494Z"
   },
   {
    "duration": 5,
    "start_time": "2022-02-17T18:27:51.632Z"
   },
   {
    "duration": 280,
    "start_time": "2022-02-17T18:28:36.362Z"
   },
   {
    "duration": 306,
    "start_time": "2022-02-17T18:29:24.914Z"
   },
   {
    "duration": 271,
    "start_time": "2022-02-17T18:29:36.074Z"
   },
   {
    "duration": 8,
    "start_time": "2022-02-17T18:29:41.180Z"
   },
   {
    "duration": 9,
    "start_time": "2022-02-17T18:29:49.401Z"
   },
   {
    "duration": 9,
    "start_time": "2022-02-17T18:30:06.100Z"
   },
   {
    "duration": 297,
    "start_time": "2022-02-17T18:30:15.379Z"
   },
   {
    "duration": 9,
    "start_time": "2022-02-17T18:30:22.769Z"
   },
   {
    "duration": 25,
    "start_time": "2022-02-17T18:33:14.381Z"
   },
   {
    "duration": 24,
    "start_time": "2022-02-17T18:33:26.767Z"
   },
   {
    "duration": 6,
    "start_time": "2022-02-17T18:37:50.689Z"
   },
   {
    "duration": 3077,
    "start_time": "2022-02-17T18:37:58.411Z"
   },
   {
    "duration": 7,
    "start_time": "2022-02-17T18:38:19.423Z"
   },
   {
    "duration": 540,
    "start_time": "2022-02-17T18:38:24.278Z"
   },
   {
    "duration": 6,
    "start_time": "2022-02-17T18:38:46.913Z"
   },
   {
    "duration": 545,
    "start_time": "2022-02-17T18:38:52.339Z"
   },
   {
    "duration": 7,
    "start_time": "2022-02-17T18:39:10.510Z"
   },
   {
    "duration": 3048,
    "start_time": "2022-02-17T18:39:14.714Z"
   },
   {
    "duration": 7,
    "start_time": "2022-02-17T18:39:41.898Z"
   },
   {
    "duration": 637,
    "start_time": "2022-02-17T18:39:46.664Z"
   },
   {
    "duration": 94,
    "start_time": "2022-02-17T18:41:21.291Z"
   },
   {
    "duration": 7,
    "start_time": "2022-02-17T18:42:22.292Z"
   },
   {
    "duration": 2608,
    "start_time": "2022-02-17T18:42:28.406Z"
   },
   {
    "duration": 8,
    "start_time": "2022-02-17T18:43:06.362Z"
   },
   {
    "duration": 3784,
    "start_time": "2022-02-17T18:43:12.323Z"
   },
   {
    "duration": 2500,
    "start_time": "2022-02-17T18:43:24.618Z"
   },
   {
    "duration": 7,
    "start_time": "2022-02-17T18:43:45.911Z"
   },
   {
    "duration": 2596,
    "start_time": "2022-02-17T18:43:47.201Z"
   },
   {
    "duration": 8,
    "start_time": "2022-02-17T18:44:14.766Z"
   },
   {
    "duration": 3105,
    "start_time": "2022-02-17T18:44:20.685Z"
   },
   {
    "duration": 2461,
    "start_time": "2022-02-17T18:44:34.448Z"
   },
   {
    "duration": 8,
    "start_time": "2022-02-17T18:44:47.102Z"
   },
   {
    "duration": 6,
    "start_time": "2022-02-17T18:47:32.761Z"
   },
   {
    "duration": 7,
    "start_time": "2022-02-17T18:48:56.716Z"
   },
   {
    "duration": 2473,
    "start_time": "2022-02-17T18:51:11.087Z"
   },
   {
    "duration": 2645,
    "start_time": "2022-02-17T18:52:31.881Z"
   },
   {
    "duration": 320,
    "start_time": "2022-02-17T18:52:50.060Z"
   },
   {
    "duration": 10,
    "start_time": "2022-02-17T18:53:44.728Z"
   },
   {
    "duration": 9,
    "start_time": "2022-02-17T18:53:51.958Z"
   },
   {
    "duration": 7,
    "start_time": "2022-02-17T18:54:12.061Z"
   },
   {
    "duration": 5,
    "start_time": "2022-02-17T18:57:47.524Z"
   },
   {
    "duration": 6,
    "start_time": "2022-02-17T18:57:51.681Z"
   },
   {
    "duration": 2488,
    "start_time": "2022-02-17T18:57:54.679Z"
   },
   {
    "duration": 8,
    "start_time": "2022-02-17T18:58:48.880Z"
   },
   {
    "duration": 2459,
    "start_time": "2022-02-17T18:58:50.594Z"
   },
   {
    "duration": 298,
    "start_time": "2022-02-17T19:21:07.433Z"
   },
   {
    "duration": 285,
    "start_time": "2022-02-17T19:21:40.054Z"
   },
   {
    "duration": 292,
    "start_time": "2022-02-17T19:21:53.623Z"
   },
   {
    "duration": 286,
    "start_time": "2022-02-17T19:22:00.326Z"
   },
   {
    "duration": 430,
    "start_time": "2022-02-17T20:00:43.517Z"
   },
   {
    "duration": 618,
    "start_time": "2022-02-17T20:05:53.070Z"
   },
   {
    "duration": 575,
    "start_time": "2022-02-17T20:06:23.151Z"
   },
   {
    "duration": 574,
    "start_time": "2022-02-17T20:06:42.248Z"
   },
   {
    "duration": 255,
    "start_time": "2022-02-17T20:08:35.805Z"
   },
   {
    "duration": 4,
    "start_time": "2022-02-17T20:08:45.973Z"
   },
   {
    "duration": 484,
    "start_time": "2022-02-17T20:08:54.445Z"
   },
   {
    "duration": 574,
    "start_time": "2022-02-17T20:09:07.849Z"
   },
   {
    "duration": 630,
    "start_time": "2022-02-17T20:09:37.817Z"
   },
   {
    "duration": 5,
    "start_time": "2022-02-17T20:10:09.385Z"
   },
   {
    "duration": 624,
    "start_time": "2022-02-17T20:10:18.194Z"
   },
   {
    "duration": 260,
    "start_time": "2022-02-17T20:10:32.487Z"
   },
   {
    "duration": 616,
    "start_time": "2022-02-17T20:10:54.639Z"
   },
   {
    "duration": 563,
    "start_time": "2022-02-17T20:12:17.752Z"
   },
   {
    "duration": 633,
    "start_time": "2022-02-17T20:14:11.475Z"
   },
   {
    "duration": 331,
    "start_time": "2022-02-17T20:14:23.906Z"
   },
   {
    "duration": 259,
    "start_time": "2022-02-17T20:14:38.495Z"
   },
   {
    "duration": 360,
    "start_time": "2022-02-17T20:15:21.180Z"
   },
   {
    "duration": 356,
    "start_time": "2022-02-17T20:16:04.074Z"
   },
   {
    "duration": 352,
    "start_time": "2022-02-17T20:16:17.553Z"
   },
   {
    "duration": 383,
    "start_time": "2022-02-17T20:19:07.349Z"
   },
   {
    "duration": 421,
    "start_time": "2022-02-17T20:19:26.230Z"
   },
   {
    "duration": 422,
    "start_time": "2022-02-17T20:19:56.736Z"
   },
   {
    "duration": 14,
    "start_time": "2022-02-17T20:20:50.949Z"
   },
   {
    "duration": 595,
    "start_time": "2022-02-17T20:20:53.420Z"
   },
   {
    "duration": 275,
    "start_time": "2022-02-17T20:21:19.598Z"
   },
   {
    "duration": 8,
    "start_time": "2022-02-17T20:21:25.675Z"
   },
   {
    "duration": 11,
    "start_time": "2022-02-17T20:21:26.423Z"
   },
   {
    "duration": 424,
    "start_time": "2022-02-17T20:21:40.930Z"
   },
   {
    "duration": 7,
    "start_time": "2022-02-17T20:24:15.747Z"
   },
   {
    "duration": 8,
    "start_time": "2022-02-17T20:45:55.632Z"
   },
   {
    "duration": 10,
    "start_time": "2022-02-17T20:46:43.514Z"
   },
   {
    "duration": 1528,
    "start_time": "2022-02-17T20:47:39.893Z"
   },
   {
    "duration": 478,
    "start_time": "2022-02-17T20:47:41.423Z"
   },
   {
    "duration": 25,
    "start_time": "2022-02-17T20:47:41.904Z"
   },
   {
    "duration": 21,
    "start_time": "2022-02-17T20:47:41.932Z"
   },
   {
    "duration": 19,
    "start_time": "2022-02-17T20:47:41.956Z"
   },
   {
    "duration": 7,
    "start_time": "2022-02-17T20:47:41.977Z"
   },
   {
    "duration": 53,
    "start_time": "2022-02-17T20:47:41.987Z"
   },
   {
    "duration": 13,
    "start_time": "2022-02-17T20:47:42.042Z"
   },
   {
    "duration": 16,
    "start_time": "2022-02-17T20:47:42.059Z"
   },
   {
    "duration": 48,
    "start_time": "2022-02-17T20:47:42.078Z"
   },
   {
    "duration": 18,
    "start_time": "2022-02-17T20:47:42.128Z"
   },
   {
    "duration": 6,
    "start_time": "2022-02-17T20:47:42.149Z"
   },
   {
    "duration": 28,
    "start_time": "2022-02-17T20:47:42.158Z"
   },
   {
    "duration": 47,
    "start_time": "2022-02-17T20:47:42.189Z"
   },
   {
    "duration": 18,
    "start_time": "2022-02-17T20:47:42.238Z"
   },
   {
    "duration": 8,
    "start_time": "2022-02-17T20:47:42.258Z"
   },
   {
    "duration": 24,
    "start_time": "2022-02-17T20:47:42.268Z"
   },
   {
    "duration": 59,
    "start_time": "2022-02-17T20:47:42.294Z"
   },
   {
    "duration": 108,
    "start_time": "2022-02-17T20:47:42.431Z"
   },
   {
    "duration": 196,
    "start_time": "2022-02-17T20:47:42.542Z"
   },
   {
    "duration": 87,
    "start_time": "2022-02-17T20:47:42.741Z"
   },
   {
    "duration": 98,
    "start_time": "2022-02-17T20:47:42.831Z"
   },
   {
    "duration": 6,
    "start_time": "2022-02-17T20:47:42.932Z"
   },
   {
    "duration": 10,
    "start_time": "2022-02-17T20:47:42.940Z"
   },
   {
    "duration": 2627,
    "start_time": "2022-02-17T20:47:42.953Z"
   },
   {
    "duration": 8,
    "start_time": "2022-02-17T20:47:45.582Z"
   },
   {
    "duration": 35,
    "start_time": "2022-02-17T20:47:45.595Z"
   },
   {
    "duration": 400,
    "start_time": "2022-02-17T20:47:45.633Z"
   },
   {
    "duration": 3389,
    "start_time": "2022-02-17T20:47:46.036Z"
   },
   {
    "duration": 10,
    "start_time": "2022-02-17T20:47:49.428Z"
   },
   {
    "duration": 17,
    "start_time": "2022-02-17T20:47:49.441Z"
   },
   {
    "duration": 540,
    "start_time": "2022-02-17T20:47:49.460Z"
   },
   {
    "duration": 2703,
    "start_time": "2022-02-17T20:47:50.004Z"
   },
   {
    "duration": 21,
    "start_time": "2022-02-17T20:47:52.710Z"
   },
   {
    "duration": 424,
    "start_time": "2022-02-17T20:47:52.734Z"
   },
   {
    "duration": 1265,
    "start_time": "2022-02-18T09:52:42.585Z"
   },
   {
    "duration": 384,
    "start_time": "2022-02-18T09:52:43.852Z"
   },
   {
    "duration": 13,
    "start_time": "2022-02-18T09:52:44.238Z"
   },
   {
    "duration": 30,
    "start_time": "2022-02-18T09:52:44.253Z"
   },
   {
    "duration": 29,
    "start_time": "2022-02-18T09:52:44.285Z"
   },
   {
    "duration": 11,
    "start_time": "2022-02-18T09:52:44.316Z"
   },
   {
    "duration": 31,
    "start_time": "2022-02-18T09:52:44.329Z"
   },
   {
    "duration": 14,
    "start_time": "2022-02-18T09:52:44.362Z"
   },
   {
    "duration": 38,
    "start_time": "2022-02-18T09:52:44.379Z"
   },
   {
    "duration": 19,
    "start_time": "2022-02-18T09:52:44.420Z"
   },
   {
    "duration": 51,
    "start_time": "2022-02-18T09:52:44.441Z"
   },
   {
    "duration": 22,
    "start_time": "2022-02-18T09:52:44.494Z"
   },
   {
    "duration": 31,
    "start_time": "2022-02-18T09:52:44.518Z"
   },
   {
    "duration": 33,
    "start_time": "2022-02-18T09:52:44.551Z"
   },
   {
    "duration": 33,
    "start_time": "2022-02-18T09:52:44.586Z"
   },
   {
    "duration": 9,
    "start_time": "2022-02-18T09:52:44.621Z"
   },
   {
    "duration": 35,
    "start_time": "2022-02-18T09:52:44.633Z"
   },
   {
    "duration": 378,
    "start_time": "2022-02-18T09:52:59.733Z"
   },
   {
    "duration": 16,
    "start_time": "2022-02-18T09:53:25.820Z"
   },
   {
    "duration": 15,
    "start_time": "2022-02-18T09:53:39.405Z"
   },
   {
    "duration": 5,
    "start_time": "2022-02-18T20:19:59.845Z"
   },
   {
    "duration": 318,
    "start_time": "2022-02-18T20:29:29.986Z"
   },
   {
    "duration": 1232,
    "start_time": "2022-02-18T20:29:46.892Z"
   },
   {
    "duration": 398,
    "start_time": "2022-02-18T20:29:48.126Z"
   },
   {
    "duration": 13,
    "start_time": "2022-02-18T20:29:48.526Z"
   },
   {
    "duration": 21,
    "start_time": "2022-02-18T20:29:48.541Z"
   },
   {
    "duration": 15,
    "start_time": "2022-02-18T20:29:48.564Z"
   },
   {
    "duration": 4,
    "start_time": "2022-02-18T20:29:48.581Z"
   },
   {
    "duration": 22,
    "start_time": "2022-02-18T20:29:48.587Z"
   },
   {
    "duration": 10,
    "start_time": "2022-02-18T20:29:48.611Z"
   },
   {
    "duration": 13,
    "start_time": "2022-02-18T20:29:48.623Z"
   },
   {
    "duration": 32,
    "start_time": "2022-02-18T20:29:48.638Z"
   },
   {
    "duration": 13,
    "start_time": "2022-02-18T20:29:48.672Z"
   },
   {
    "duration": 5,
    "start_time": "2022-02-18T20:29:48.687Z"
   },
   {
    "duration": 18,
    "start_time": "2022-02-18T20:29:48.694Z"
   },
   {
    "duration": 12,
    "start_time": "2022-02-18T20:29:48.713Z"
   },
   {
    "duration": 46,
    "start_time": "2022-02-18T20:29:48.727Z"
   },
   {
    "duration": 6,
    "start_time": "2022-02-18T20:29:48.775Z"
   },
   {
    "duration": 26,
    "start_time": "2022-02-18T20:29:48.783Z"
   },
   {
    "duration": 63,
    "start_time": "2022-02-18T20:29:48.811Z"
   },
   {
    "duration": 107,
    "start_time": "2022-02-18T20:29:48.876Z"
   },
   {
    "duration": 188,
    "start_time": "2022-02-18T20:29:48.986Z"
   },
   {
    "duration": 96,
    "start_time": "2022-02-18T20:29:49.177Z"
   },
   {
    "duration": 430,
    "start_time": "2022-02-18T20:29:49.275Z"
   },
   {
    "duration": 1919,
    "start_time": "2022-02-18T20:29:47.789Z"
   },
   {
    "duration": 1888,
    "start_time": "2022-02-18T20:29:47.821Z"
   },
   {
    "duration": 1862,
    "start_time": "2022-02-18T20:29:47.849Z"
   },
   {
    "duration": 1852,
    "start_time": "2022-02-18T20:29:47.860Z"
   },
   {
    "duration": 1843,
    "start_time": "2022-02-18T20:29:47.870Z"
   },
   {
    "duration": 1832,
    "start_time": "2022-02-18T20:29:47.882Z"
   },
   {
    "duration": 1822,
    "start_time": "2022-02-18T20:29:47.893Z"
   },
   {
    "duration": 1812,
    "start_time": "2022-02-18T20:29:47.904Z"
   },
   {
    "duration": 1803,
    "start_time": "2022-02-18T20:29:47.914Z"
   },
   {
    "duration": 1792,
    "start_time": "2022-02-18T20:29:47.926Z"
   },
   {
    "duration": 1782,
    "start_time": "2022-02-18T20:29:47.937Z"
   },
   {
    "duration": 1756,
    "start_time": "2022-02-18T20:29:47.964Z"
   },
   {
    "duration": 1746,
    "start_time": "2022-02-18T20:29:47.975Z"
   },
   {
    "duration": 4,
    "start_time": "2022-02-18T20:30:26.876Z"
   },
   {
    "duration": 5,
    "start_time": "2022-02-18T20:30:37.097Z"
   },
   {
    "duration": 573,
    "start_time": "2022-02-18T20:30:42.541Z"
   },
   {
    "duration": 5,
    "start_time": "2022-02-18T20:31:37.430Z"
   },
   {
    "duration": 2903,
    "start_time": "2022-02-18T20:31:42.473Z"
   },
   {
    "duration": 6,
    "start_time": "2022-02-18T20:34:53.907Z"
   },
   {
    "duration": 19004,
    "start_time": "2022-02-18T20:34:59.737Z"
   },
   {
    "duration": 5,
    "start_time": "2022-02-18T20:39:24.854Z"
   },
   {
    "duration": 3177,
    "start_time": "2022-02-18T20:39:31.912Z"
   },
   {
    "duration": 6,
    "start_time": "2022-02-18T20:45:30.314Z"
   },
   {
    "duration": 1403,
    "start_time": "2022-02-18T20:45:36.345Z"
   },
   {
    "duration": 6,
    "start_time": "2022-02-18T20:46:24.016Z"
   },
   {
    "duration": 547,
    "start_time": "2022-02-18T20:46:29.064Z"
   },
   {
    "duration": 6,
    "start_time": "2022-02-18T20:47:09.345Z"
   },
   {
    "duration": 534,
    "start_time": "2022-02-18T20:47:15.283Z"
   },
   {
    "duration": 5,
    "start_time": "2022-02-18T20:48:46.433Z"
   },
   {
    "duration": 536,
    "start_time": "2022-02-18T20:48:50.647Z"
   },
   {
    "duration": 6,
    "start_time": "2022-02-18T20:49:24.295Z"
   },
   {
    "duration": 6,
    "start_time": "2022-02-18T20:49:49.213Z"
   },
   {
    "duration": 3007,
    "start_time": "2022-02-18T20:49:54.182Z"
   },
   {
    "duration": 6,
    "start_time": "2022-02-18T20:50:11.140Z"
   },
   {
    "duration": 3018,
    "start_time": "2022-02-18T20:50:16.404Z"
   },
   {
    "duration": 5,
    "start_time": "2022-02-18T20:57:07.445Z"
   },
   {
    "duration": 669,
    "start_time": "2022-02-18T20:57:13.267Z"
   },
   {
    "duration": 6,
    "start_time": "2022-02-18T20:57:36.944Z"
   },
   {
    "duration": 569,
    "start_time": "2022-02-18T20:57:41.965Z"
   },
   {
    "duration": 111503,
    "start_time": "2022-02-18T21:00:47.219Z"
   },
   {
    "duration": 6,
    "start_time": "2022-02-18T21:02:38.725Z"
   },
   {
    "duration": 2870,
    "start_time": "2022-02-18T21:02:38.733Z"
   },
   {
    "duration": 6,
    "start_time": "2022-02-18T21:06:46.084Z"
   },
   {
    "duration": 19448,
    "start_time": "2022-02-18T21:06:52.609Z"
   },
   {
    "duration": 6,
    "start_time": "2022-02-18T21:08:21.297Z"
   },
   {
    "duration": 513,
    "start_time": "2022-02-18T21:08:27.412Z"
   },
   {
    "duration": 6,
    "start_time": "2022-02-18T21:08:44.201Z"
   },
   {
    "duration": 537,
    "start_time": "2022-02-18T21:08:49.348Z"
   },
   {
    "duration": 6,
    "start_time": "2022-02-18T21:11:44.814Z"
   },
   {
    "duration": 587,
    "start_time": "2022-02-18T21:11:49.815Z"
   },
   {
    "duration": 5,
    "start_time": "2022-02-18T21:14:39.837Z"
   },
   {
    "duration": 532,
    "start_time": "2022-02-18T21:14:45.055Z"
   },
   {
    "duration": 6,
    "start_time": "2022-02-18T21:15:34.017Z"
   },
   {
    "duration": 562,
    "start_time": "2022-02-18T21:15:38.417Z"
   },
   {
    "duration": 6,
    "start_time": "2022-02-18T21:19:09.433Z"
   },
   {
    "duration": 4696,
    "start_time": "2022-02-18T21:19:13.808Z"
   },
   {
    "duration": 6,
    "start_time": "2022-02-18T21:20:00.857Z"
   },
   {
    "duration": 1865,
    "start_time": "2022-02-18T21:20:06.492Z"
   },
   {
    "duration": 7,
    "start_time": "2022-02-18T21:21:41.728Z"
   },
   {
    "duration": 4207,
    "start_time": "2022-02-18T21:21:49.822Z"
   },
   {
    "duration": 7,
    "start_time": "2022-02-18T21:23:10.609Z"
   },
   {
    "duration": 4708,
    "start_time": "2022-02-18T21:23:15.847Z"
   },
   {
    "duration": 130,
    "start_time": "2022-02-18T21:24:31.593Z"
   },
   {
    "duration": 6,
    "start_time": "2022-02-18T21:24:37.951Z"
   },
   {
    "duration": 636,
    "start_time": "2022-02-18T21:24:51.429Z"
   },
   {
    "duration": 6,
    "start_time": "2022-02-18T21:25:25.093Z"
   },
   {
    "duration": 7805,
    "start_time": "2022-02-18T21:25:31.569Z"
   },
   {
    "duration": 6,
    "start_time": "2022-02-18T21:26:52.553Z"
   },
   {
    "duration": 8006,
    "start_time": "2022-02-18T21:26:57.783Z"
   },
   {
    "duration": 6,
    "start_time": "2022-02-18T21:28:19.693Z"
   },
   {
    "duration": 10619,
    "start_time": "2022-02-18T21:28:26.278Z"
   },
   {
    "duration": 6,
    "start_time": "2022-02-18T21:28:49.633Z"
   },
   {
    "duration": 784,
    "start_time": "2022-02-18T21:28:55.745Z"
   },
   {
    "duration": 6,
    "start_time": "2022-02-18T21:29:47.270Z"
   },
   {
    "duration": 7570,
    "start_time": "2022-02-18T21:29:52.661Z"
   },
   {
    "duration": 101,
    "start_time": "2022-02-18T21:31:10.468Z"
   },
   {
    "duration": 6,
    "start_time": "2022-02-18T21:31:22.499Z"
   },
   {
    "duration": 537,
    "start_time": "2022-02-18T21:31:28.605Z"
   },
   {
    "duration": 6,
    "start_time": "2022-02-18T21:32:05.859Z"
   },
   {
    "duration": 10418,
    "start_time": "2022-02-18T21:32:11.527Z"
   },
   {
    "duration": 6,
    "start_time": "2022-02-18T21:35:03.268Z"
   },
   {
    "duration": 10667,
    "start_time": "2022-02-18T21:35:07.108Z"
   },
   {
    "duration": 6,
    "start_time": "2022-02-18T21:35:30.100Z"
   },
   {
    "duration": 7520,
    "start_time": "2022-02-18T21:35:33.862Z"
   },
   {
    "duration": 358,
    "start_time": "2022-02-18T21:36:01.640Z"
   },
   {
    "duration": 6,
    "start_time": "2022-02-18T21:36:14.693Z"
   },
   {
    "duration": 551,
    "start_time": "2022-02-18T21:36:20.346Z"
   },
   {
    "duration": 6,
    "start_time": "2022-02-18T21:41:18.082Z"
   },
   {
    "duration": 4675,
    "start_time": "2022-02-18T21:41:24.149Z"
   },
   {
    "duration": 6,
    "start_time": "2022-02-18T21:42:45.551Z"
   },
   {
    "duration": 7557,
    "start_time": "2022-02-18T21:42:49.661Z"
   },
   {
    "duration": 10004,
    "start_time": "2022-02-19T17:58:54.807Z"
   },
   {
    "duration": 464,
    "start_time": "2022-02-19T17:59:04.814Z"
   },
   {
    "duration": 19,
    "start_time": "2022-02-19T17:59:05.281Z"
   },
   {
    "duration": 15,
    "start_time": "2022-02-19T17:59:05.303Z"
   },
   {
    "duration": 17,
    "start_time": "2022-02-19T17:59:05.321Z"
   },
   {
    "duration": 6,
    "start_time": "2022-02-19T17:59:05.340Z"
   },
   {
    "duration": 58,
    "start_time": "2022-02-19T17:59:05.350Z"
   },
   {
    "duration": 14,
    "start_time": "2022-02-19T17:59:05.413Z"
   },
   {
    "duration": 19,
    "start_time": "2022-02-19T17:59:05.431Z"
   },
   {
    "duration": 51,
    "start_time": "2022-02-19T17:59:05.452Z"
   },
   {
    "duration": 24,
    "start_time": "2022-02-19T17:59:05.506Z"
   },
   {
    "duration": 8,
    "start_time": "2022-02-19T17:59:05.532Z"
   },
   {
    "duration": 50,
    "start_time": "2022-02-19T17:59:05.543Z"
   },
   {
    "duration": 16,
    "start_time": "2022-02-19T17:59:05.596Z"
   },
   {
    "duration": 24,
    "start_time": "2022-02-19T17:59:05.614Z"
   },
   {
    "duration": 6,
    "start_time": "2022-02-19T17:59:05.640Z"
   },
   {
    "duration": 48,
    "start_time": "2022-02-19T17:59:05.648Z"
   },
   {
    "duration": 193,
    "start_time": "2022-02-19T17:59:05.700Z"
   },
   {
    "duration": 100,
    "start_time": "2022-02-19T17:59:05.896Z"
   },
   {
    "duration": 117,
    "start_time": "2022-02-19T17:59:06.001Z"
   },
   {
    "duration": 97,
    "start_time": "2022-02-19T17:59:06.196Z"
   },
   {
    "duration": 10,
    "start_time": "2022-02-19T17:59:06.296Z"
   },
   {
    "duration": 5,
    "start_time": "2022-02-19T17:59:06.311Z"
   },
   {
    "duration": 8,
    "start_time": "2022-02-19T17:59:06.319Z"
   },
   {
    "duration": 11105,
    "start_time": "2022-02-19T17:59:06.330Z"
   },
   {
    "duration": 8,
    "start_time": "2022-02-19T17:59:17.438Z"
   },
   {
    "duration": 17,
    "start_time": "2022-02-19T17:59:17.448Z"
   },
   {
    "duration": 388,
    "start_time": "2022-02-19T17:59:17.468Z"
   },
   {
    "duration": 374,
    "start_time": "2022-02-19T17:59:17.859Z"
   },
   {
    "duration": 2814,
    "start_time": "2022-02-19T17:59:15.422Z"
   },
   {
    "duration": 2804,
    "start_time": "2022-02-19T17:59:15.433Z"
   },
   {
    "duration": 2796,
    "start_time": "2022-02-19T17:59:15.444Z"
   },
   {
    "duration": 2790,
    "start_time": "2022-02-19T17:59:15.453Z"
   },
   {
    "duration": 2783,
    "start_time": "2022-02-19T17:59:15.462Z"
   },
   {
    "duration": 2774,
    "start_time": "2022-02-19T17:59:15.473Z"
   },
   {
    "duration": 8,
    "start_time": "2022-02-19T18:01:25.488Z"
   },
   {
    "duration": 507,
    "start_time": "2022-02-19T18:01:30.408Z"
   },
   {
    "duration": 7,
    "start_time": "2022-02-19T18:02:13.556Z"
   },
   {
    "duration": 8,
    "start_time": "2022-02-19T18:02:17.874Z"
   },
   {
    "duration": 606,
    "start_time": "2022-02-19T18:02:21.467Z"
   },
   {
    "duration": 7,
    "start_time": "2022-02-19T18:03:23.298Z"
   },
   {
    "duration": 7243,
    "start_time": "2022-02-19T18:03:29.051Z"
   },
   {
    "duration": 8,
    "start_time": "2022-02-19T18:04:45.926Z"
   },
   {
    "duration": 534,
    "start_time": "2022-02-19T18:04:51.331Z"
   },
   {
    "duration": 9,
    "start_time": "2022-02-19T18:09:46.110Z"
   },
   {
    "duration": 801,
    "start_time": "2022-02-19T18:09:50.865Z"
   },
   {
    "duration": 8,
    "start_time": "2022-02-19T18:10:06.124Z"
   },
   {
    "duration": 523,
    "start_time": "2022-02-19T18:10:10.059Z"
   },
   {
    "duration": 121,
    "start_time": "2022-02-19T18:29:17.003Z"
   },
   {
    "duration": 509,
    "start_time": "2022-02-19T18:29:20.564Z"
   },
   {
    "duration": 96,
    "start_time": "2022-02-19T18:54:54.495Z"
   },
   {
    "duration": 8,
    "start_time": "2022-02-19T18:55:10.623Z"
   },
   {
    "duration": 944,
    "start_time": "2022-02-19T18:55:15.435Z"
   },
   {
    "duration": 7,
    "start_time": "2022-02-19T18:55:46.191Z"
   },
   {
    "duration": 6,
    "start_time": "2022-02-19T18:56:09.684Z"
   },
   {
    "duration": 507,
    "start_time": "2022-02-19T18:56:13.983Z"
   },
   {
    "duration": 8,
    "start_time": "2022-02-19T18:56:57.583Z"
   },
   {
    "duration": 487,
    "start_time": "2022-02-19T18:57:01.767Z"
   },
   {
    "duration": 9,
    "start_time": "2022-02-19T18:58:44.796Z"
   },
   {
    "duration": 509,
    "start_time": "2022-02-19T18:58:48.737Z"
   },
   {
    "duration": 7,
    "start_time": "2022-02-19T19:00:52.229Z"
   },
   {
    "duration": 525,
    "start_time": "2022-02-19T19:00:55.934Z"
   },
   {
    "duration": 7,
    "start_time": "2022-02-19T19:01:26.969Z"
   },
   {
    "duration": 512,
    "start_time": "2022-02-19T19:01:31.106Z"
   },
   {
    "duration": 8,
    "start_time": "2022-02-19T19:02:57.793Z"
   },
   {
    "duration": 557,
    "start_time": "2022-02-19T19:03:01.126Z"
   },
   {
    "duration": 8,
    "start_time": "2022-02-19T19:04:28.160Z"
   },
   {
    "duration": 517,
    "start_time": "2022-02-19T19:04:34.856Z"
   },
   {
    "duration": 7,
    "start_time": "2022-02-19T19:05:18.855Z"
   },
   {
    "duration": 505,
    "start_time": "2022-02-19T19:05:22.401Z"
   },
   {
    "duration": 7,
    "start_time": "2022-02-19T19:08:30.152Z"
   },
   {
    "duration": 526,
    "start_time": "2022-02-19T19:08:33.623Z"
   },
   {
    "duration": 7,
    "start_time": "2022-02-19T19:08:50.891Z"
   },
   {
    "duration": 495,
    "start_time": "2022-02-19T19:08:54.342Z"
   },
   {
    "duration": 7,
    "start_time": "2022-02-19T19:09:37.368Z"
   },
   {
    "duration": 553,
    "start_time": "2022-02-19T19:09:41.298Z"
   },
   {
    "duration": 8,
    "start_time": "2022-02-19T19:12:59.645Z"
   },
   {
    "duration": 535,
    "start_time": "2022-02-19T19:13:03.810Z"
   },
   {
    "duration": 8,
    "start_time": "2022-02-19T19:14:10.210Z"
   },
   {
    "duration": 7582,
    "start_time": "2022-02-19T19:14:15.693Z"
   },
   {
    "duration": 7,
    "start_time": "2022-02-19T19:16:00.963Z"
   },
   {
    "duration": 10412,
    "start_time": "2022-02-19T19:16:05.800Z"
   },
   {
    "duration": 8,
    "start_time": "2022-02-19T19:16:56.432Z"
   },
   {
    "duration": 23404,
    "start_time": "2022-02-19T19:17:00.751Z"
   },
   {
    "duration": 7,
    "start_time": "2022-02-19T19:17:24.158Z"
   },
   {
    "duration": 508,
    "start_time": "2022-02-19T19:17:27.171Z"
   },
   {
    "duration": 10,
    "start_time": "2022-02-19T19:17:56.869Z"
   },
   {
    "duration": 25491,
    "start_time": "2022-02-19T19:18:00.661Z"
   },
   {
    "duration": 7,
    "start_time": "2022-02-19T19:25:12.165Z"
   },
   {
    "duration": 505,
    "start_time": "2022-02-19T19:25:15.868Z"
   },
   {
    "duration": 7,
    "start_time": "2022-02-19T19:26:16.446Z"
   },
   {
    "duration": 626,
    "start_time": "2022-02-19T19:26:21.078Z"
   },
   {
    "duration": 7,
    "start_time": "2022-02-19T19:27:06.724Z"
   },
   {
    "duration": 4047,
    "start_time": "2022-02-19T19:27:10.897Z"
   },
   {
    "duration": 8,
    "start_time": "2022-02-19T19:27:42.616Z"
   },
   {
    "duration": 546,
    "start_time": "2022-02-19T19:27:46.030Z"
   },
   {
    "duration": 7,
    "start_time": "2022-02-19T19:28:06.234Z"
   },
   {
    "duration": 484,
    "start_time": "2022-02-19T19:28:10.555Z"
   },
   {
    "duration": 8,
    "start_time": "2022-02-19T19:29:02.100Z"
   },
   {
    "duration": 10405,
    "start_time": "2022-02-19T19:29:06.437Z"
   },
   {
    "duration": 9,
    "start_time": "2022-02-19T19:29:16.845Z"
   },
   {
    "duration": 6231,
    "start_time": "2022-02-19T19:31:10.100Z"
   },
   {
    "duration": 6,
    "start_time": "2022-02-19T19:32:02.712Z"
   },
   {
    "duration": 8,
    "start_time": "2022-02-19T19:41:59.553Z"
   },
   {
    "duration": 9986,
    "start_time": "2022-02-19T19:42:04.636Z"
   },
   {
    "duration": 7,
    "start_time": "2022-02-19T19:43:16.345Z"
   },
   {
    "duration": 9918,
    "start_time": "2022-02-19T19:43:22.563Z"
   },
   {
    "duration": 8,
    "start_time": "2022-02-19T19:45:44.894Z"
   },
   {
    "duration": 496,
    "start_time": "2022-02-19T19:45:49.363Z"
   },
   {
    "duration": 9,
    "start_time": "2022-02-19T19:46:46.521Z"
   },
   {
    "duration": 470,
    "start_time": "2022-02-19T19:46:50.216Z"
   },
   {
    "duration": 7,
    "start_time": "2022-02-19T19:49:53.360Z"
   },
   {
    "duration": 496,
    "start_time": "2022-02-19T19:49:57.565Z"
   },
   {
    "duration": 7,
    "start_time": "2022-02-19T19:51:09.398Z"
   },
   {
    "duration": 671,
    "start_time": "2022-02-19T19:51:13.621Z"
   },
   {
    "duration": 10,
    "start_time": "2022-02-19T19:51:44.016Z"
   },
   {
    "duration": 645,
    "start_time": "2022-02-19T19:51:49.234Z"
   },
   {
    "duration": 82,
    "start_time": "2022-02-19T19:52:16.745Z"
   },
   {
    "duration": 7,
    "start_time": "2022-02-19T19:52:25.045Z"
   },
   {
    "duration": 495,
    "start_time": "2022-02-19T19:52:29.279Z"
   },
   {
    "duration": 8,
    "start_time": "2022-02-19T19:52:43.834Z"
   },
   {
    "duration": 4252,
    "start_time": "2022-02-19T19:52:47.335Z"
   },
   {
    "duration": 8,
    "start_time": "2022-02-19T19:55:37.748Z"
   },
   {
    "duration": 3760,
    "start_time": "2022-02-19T19:55:45.574Z"
   },
   {
    "duration": 8,
    "start_time": "2022-02-19T19:56:39.618Z"
   },
   {
    "duration": 3942,
    "start_time": "2022-02-19T19:56:47.850Z"
   },
   {
    "duration": 8,
    "start_time": "2022-02-19T19:57:35.041Z"
   },
   {
    "duration": 3806,
    "start_time": "2022-02-19T19:57:38.346Z"
   },
   {
    "duration": 8,
    "start_time": "2022-02-19T19:58:48.315Z"
   },
   {
    "duration": 4310,
    "start_time": "2022-02-19T19:58:52.500Z"
   },
   {
    "duration": 81,
    "start_time": "2022-02-19T19:59:46.672Z"
   },
   {
    "duration": 9,
    "start_time": "2022-02-19T19:59:55.936Z"
   },
   {
    "duration": 3629,
    "start_time": "2022-02-19T19:59:59.698Z"
   },
   {
    "duration": 7,
    "start_time": "2022-02-19T20:00:03.330Z"
   },
   {
    "duration": 265,
    "start_time": "2022-02-19T20:00:43.100Z"
   },
   {
    "duration": 3841,
    "start_time": "2022-02-19T20:00:59.493Z"
   },
   {
    "duration": 4060,
    "start_time": "2022-02-19T20:01:47.725Z"
   },
   {
    "duration": 9,
    "start_time": "2022-02-19T20:02:24.913Z"
   },
   {
    "duration": 3732,
    "start_time": "2022-02-19T20:02:29.475Z"
   },
   {
    "duration": 5,
    "start_time": "2022-02-19T20:02:59.929Z"
   },
   {
    "duration": 9,
    "start_time": "2022-02-19T20:03:51.018Z"
   },
   {
    "duration": 4489,
    "start_time": "2022-02-19T20:03:55.651Z"
   },
   {
    "duration": 8,
    "start_time": "2022-02-19T20:05:01.190Z"
   },
   {
    "duration": 3946,
    "start_time": "2022-02-19T20:05:06.296Z"
   },
   {
    "duration": 3764,
    "start_time": "2022-02-19T20:05:41.406Z"
   },
   {
    "duration": 3820,
    "start_time": "2022-02-19T20:06:21.185Z"
   },
   {
    "duration": 240,
    "start_time": "2022-02-19T20:06:33.933Z"
   },
   {
    "duration": 4506,
    "start_time": "2022-02-19T20:06:48.405Z"
   },
   {
    "duration": 5,
    "start_time": "2022-02-19T20:14:01.801Z"
   },
   {
    "duration": 7,
    "start_time": "2022-02-19T20:17:46.449Z"
   },
   {
    "duration": 4731,
    "start_time": "2022-02-19T20:17:52.621Z"
   },
   {
    "duration": 8,
    "start_time": "2022-02-19T20:18:38.569Z"
   },
   {
    "duration": 502,
    "start_time": "2022-02-19T20:18:43.555Z"
   },
   {
    "duration": 9,
    "start_time": "2022-02-19T20:19:13.911Z"
   },
   {
    "duration": 512,
    "start_time": "2022-02-19T20:19:19.452Z"
   },
   {
    "duration": 9,
    "start_time": "2022-02-19T20:19:51.913Z"
   },
   {
    "duration": 478,
    "start_time": "2022-02-19T20:19:58.324Z"
   },
   {
    "duration": 7,
    "start_time": "2022-02-19T20:23:25.255Z"
   },
   {
    "duration": 3116,
    "start_time": "2022-02-19T20:23:30.288Z"
   },
   {
    "duration": 9,
    "start_time": "2022-02-19T20:24:18.742Z"
   },
   {
    "duration": 619,
    "start_time": "2022-02-19T20:24:24.052Z"
   },
   {
    "duration": 6028,
    "start_time": "2022-02-19T20:24:53.448Z"
   },
   {
    "duration": 478,
    "start_time": "2022-02-19T20:24:59.480Z"
   },
   {
    "duration": 21,
    "start_time": "2022-02-19T20:24:59.961Z"
   },
   {
    "duration": 27,
    "start_time": "2022-02-19T20:24:59.993Z"
   },
   {
    "duration": 24,
    "start_time": "2022-02-19T20:25:00.023Z"
   },
   {
    "duration": 10,
    "start_time": "2022-02-19T20:25:00.051Z"
   },
   {
    "duration": 46,
    "start_time": "2022-02-19T20:25:00.064Z"
   },
   {
    "duration": 13,
    "start_time": "2022-02-19T20:25:00.115Z"
   },
   {
    "duration": 22,
    "start_time": "2022-02-19T20:25:00.131Z"
   },
   {
    "duration": 39,
    "start_time": "2022-02-19T20:25:00.156Z"
   },
   {
    "duration": 19,
    "start_time": "2022-02-19T20:25:00.198Z"
   },
   {
    "duration": 13,
    "start_time": "2022-02-19T20:25:00.221Z"
   },
   {
    "duration": 28,
    "start_time": "2022-02-19T20:25:00.238Z"
   },
   {
    "duration": 43,
    "start_time": "2022-02-19T20:25:00.269Z"
   },
   {
    "duration": 33,
    "start_time": "2022-02-19T20:25:00.315Z"
   },
   {
    "duration": 9,
    "start_time": "2022-02-19T20:25:00.350Z"
   },
   {
    "duration": 49,
    "start_time": "2022-02-19T20:25:00.362Z"
   },
   {
    "duration": 183,
    "start_time": "2022-02-19T20:25:00.414Z"
   },
   {
    "duration": 112,
    "start_time": "2022-02-19T20:25:00.601Z"
   },
   {
    "duration": 223,
    "start_time": "2022-02-19T20:25:00.716Z"
   },
   {
    "duration": 102,
    "start_time": "2022-02-19T20:25:00.994Z"
   },
   {
    "duration": 30,
    "start_time": "2022-02-19T20:25:01.099Z"
   },
   {
    "duration": 29,
    "start_time": "2022-02-19T20:25:01.134Z"
   },
   {
    "duration": 48,
    "start_time": "2022-02-19T20:25:01.166Z"
   },
   {
    "duration": 751,
    "start_time": "2022-02-19T20:25:01.217Z"
   },
   {
    "duration": 2922,
    "start_time": "2022-02-19T20:24:59.049Z"
   },
   {
    "duration": 2915,
    "start_time": "2022-02-19T20:24:59.057Z"
   },
   {
    "duration": 2905,
    "start_time": "2022-02-19T20:24:59.069Z"
   },
   {
    "duration": 2898,
    "start_time": "2022-02-19T20:24:59.077Z"
   },
   {
    "duration": 2854,
    "start_time": "2022-02-19T20:24:59.123Z"
   },
   {
    "duration": 2842,
    "start_time": "2022-02-19T20:24:59.136Z"
   },
   {
    "duration": 2830,
    "start_time": "2022-02-19T20:24:59.150Z"
   },
   {
    "duration": 2823,
    "start_time": "2022-02-19T20:24:59.158Z"
   },
   {
    "duration": 2812,
    "start_time": "2022-02-19T20:24:59.171Z"
   },
   {
    "duration": 2799,
    "start_time": "2022-02-19T20:24:59.185Z"
   },
   {
    "duration": 8,
    "start_time": "2022-02-19T20:25:28.424Z"
   },
   {
    "duration": 491,
    "start_time": "2022-02-19T20:25:32.900Z"
   },
   {
    "duration": 8,
    "start_time": "2022-02-19T20:28:37.863Z"
   },
   {
    "duration": 500,
    "start_time": "2022-02-19T20:28:42.235Z"
   },
   {
    "duration": 9,
    "start_time": "2022-02-19T20:32:26.143Z"
   },
   {
    "duration": 501,
    "start_time": "2022-02-19T20:32:30.789Z"
   },
   {
    "duration": 9,
    "start_time": "2022-02-19T20:33:43.864Z"
   },
   {
    "duration": 5432,
    "start_time": "2022-02-19T20:33:48.115Z"
   },
   {
    "duration": 7,
    "start_time": "2022-02-19T20:37:04.270Z"
   },
   {
    "duration": 4532,
    "start_time": "2022-02-19T20:37:08.731Z"
   },
   {
    "duration": 7,
    "start_time": "2022-02-19T20:37:42.751Z"
   },
   {
    "duration": 5379,
    "start_time": "2022-02-19T20:37:46.994Z"
   },
   {
    "duration": 4664,
    "start_time": "2022-02-19T20:38:05.458Z"
   },
   {
    "duration": 11,
    "start_time": "2022-02-19T20:38:48.956Z"
   },
   {
    "duration": 9864,
    "start_time": "2022-02-19T20:38:54.968Z"
   },
   {
    "duration": 8,
    "start_time": "2022-02-19T20:43:51.969Z"
   },
   {
    "duration": 494,
    "start_time": "2022-02-19T20:43:58.518Z"
   },
   {
    "duration": 5644,
    "start_time": "2022-02-19T21:00:12.004Z"
   },
   {
    "duration": 5,
    "start_time": "2022-02-19T21:00:29.496Z"
   },
   {
    "duration": 5,
    "start_time": "2022-02-19T21:01:12.540Z"
   },
   {
    "duration": 6,
    "start_time": "2022-02-19T21:01:54.028Z"
   },
   {
    "duration": 18,
    "start_time": "2022-02-19T21:02:05.721Z"
   },
   {
    "duration": 5,
    "start_time": "2022-02-19T21:03:00.459Z"
   },
   {
    "duration": 6,
    "start_time": "2022-02-19T21:03:19.821Z"
   },
   {
    "duration": 7,
    "start_time": "2022-02-19T21:03:25.427Z"
   },
   {
    "duration": 8,
    "start_time": "2022-02-19T21:06:31.636Z"
   },
   {
    "duration": 7,
    "start_time": "2022-02-19T21:07:10.796Z"
   },
   {
    "duration": 9918,
    "start_time": "2022-02-19T21:07:40.083Z"
   },
   {
    "duration": 7,
    "start_time": "2022-02-19T21:09:10.471Z"
   },
   {
    "duration": 16994,
    "start_time": "2022-02-19T21:09:16.063Z"
   },
   {
    "duration": 8,
    "start_time": "2022-02-19T21:09:47.515Z"
   },
   {
    "duration": 11133,
    "start_time": "2022-02-19T21:09:51.365Z"
   },
   {
    "duration": 7,
    "start_time": "2022-02-19T21:11:04.760Z"
   },
   {
    "duration": 10220,
    "start_time": "2022-02-19T21:11:09.185Z"
   },
   {
    "duration": 7,
    "start_time": "2022-02-19T21:12:15.731Z"
   },
   {
    "duration": 9608,
    "start_time": "2022-02-19T21:12:20.542Z"
   },
   {
    "duration": 8,
    "start_time": "2022-02-19T21:13:04.787Z"
   },
   {
    "duration": 564,
    "start_time": "2022-02-19T21:13:08.966Z"
   },
   {
    "duration": 8,
    "start_time": "2022-02-19T21:14:17.665Z"
   },
   {
    "duration": 680,
    "start_time": "2022-02-19T21:14:40.447Z"
   },
   {
    "duration": 8,
    "start_time": "2022-02-19T21:15:01.590Z"
   },
   {
    "duration": 9649,
    "start_time": "2022-02-19T21:15:07.397Z"
   },
   {
    "duration": 77076,
    "start_time": "2022-02-20T07:13:08.128Z"
   },
   {
    "duration": 361,
    "start_time": "2022-02-20T07:14:25.207Z"
   },
   {
    "duration": 13,
    "start_time": "2022-02-20T07:14:25.570Z"
   },
   {
    "duration": 12,
    "start_time": "2022-02-20T07:14:25.585Z"
   },
   {
    "duration": 27,
    "start_time": "2022-02-20T07:14:25.599Z"
   },
   {
    "duration": 4,
    "start_time": "2022-02-20T07:14:25.627Z"
   },
   {
    "duration": 18,
    "start_time": "2022-02-20T07:14:25.633Z"
   },
   {
    "duration": 10,
    "start_time": "2022-02-20T07:14:25.653Z"
   },
   {
    "duration": 11,
    "start_time": "2022-02-20T07:14:25.665Z"
   },
   {
    "duration": 8,
    "start_time": "2022-02-20T07:14:25.678Z"
   },
   {
    "duration": 38,
    "start_time": "2022-02-20T07:14:25.688Z"
   },
   {
    "duration": 6,
    "start_time": "2022-02-20T07:14:25.727Z"
   },
   {
    "duration": 15,
    "start_time": "2022-02-20T07:14:25.734Z"
   },
   {
    "duration": 11,
    "start_time": "2022-02-20T07:14:25.751Z"
   },
   {
    "duration": 14,
    "start_time": "2022-02-20T07:14:25.764Z"
   },
   {
    "duration": 43,
    "start_time": "2022-02-20T07:14:25.780Z"
   },
   {
    "duration": 16,
    "start_time": "2022-02-20T07:14:25.825Z"
   },
   {
    "duration": 84,
    "start_time": "2022-02-20T07:14:25.843Z"
   },
   {
    "duration": 194,
    "start_time": "2022-02-20T07:14:25.929Z"
   },
   {
    "duration": 198,
    "start_time": "2022-02-20T07:14:26.126Z"
   },
   {
    "duration": 94,
    "start_time": "2022-02-20T07:14:26.327Z"
   },
   {
    "duration": 4,
    "start_time": "2022-02-20T07:14:26.423Z"
   },
   {
    "duration": 5,
    "start_time": "2022-02-20T07:14:26.432Z"
   },
   {
    "duration": 85,
    "start_time": "2022-02-20T07:14:26.439Z"
   },
   {
    "duration": 3,
    "start_time": "2022-02-20T07:14:26.526Z"
   },
   {
    "duration": 4,
    "start_time": "2022-02-20T07:14:26.531Z"
   },
   {
    "duration": 13,
    "start_time": "2022-02-20T07:14:26.537Z"
   },
   {
    "duration": 5,
    "start_time": "2022-02-20T07:14:26.552Z"
   },
   {
    "duration": 6312,
    "start_time": "2022-02-20T07:14:26.558Z"
   },
   {
    "duration": 6,
    "start_time": "2022-02-20T07:14:32.872Z"
   },
   {
    "duration": 9,
    "start_time": "2022-02-20T07:14:32.879Z"
   },
   {
    "duration": 257,
    "start_time": "2022-02-20T07:14:32.890Z"
   },
   {
    "duration": 328,
    "start_time": "2022-02-20T07:14:33.149Z"
   },
   {
    "duration": -103,
    "start_time": "2022-02-20T07:14:33.583Z"
   },
   {
    "duration": -115,
    "start_time": "2022-02-20T07:14:33.596Z"
   },
   {
    "duration": -125,
    "start_time": "2022-02-20T07:14:33.607Z"
   },
   {
    "duration": -138,
    "start_time": "2022-02-20T07:14:33.621Z"
   },
   {
    "duration": -148,
    "start_time": "2022-02-20T07:14:33.632Z"
   },
   {
    "duration": -160,
    "start_time": "2022-02-20T07:14:33.644Z"
   },
   {
    "duration": 6,
    "start_time": "2022-02-20T07:24:20.841Z"
   },
   {
    "duration": 5,
    "start_time": "2022-02-20T07:25:02.944Z"
   },
   {
    "duration": 507,
    "start_time": "2022-02-20T07:25:03.950Z"
   },
   {
    "duration": 4,
    "start_time": "2022-02-20T07:25:16.102Z"
   },
   {
    "duration": 667,
    "start_time": "2022-02-20T07:25:17.220Z"
   },
   {
    "duration": 4,
    "start_time": "2022-02-20T07:27:12.970Z"
   },
   {
    "duration": 30,
    "start_time": "2022-02-20T07:27:14.114Z"
   },
   {
    "duration": 27,
    "start_time": "2022-02-20T07:28:19.760Z"
   },
   {
    "duration": 22,
    "start_time": "2022-02-20T07:28:41.168Z"
   },
   {
    "duration": 22,
    "start_time": "2022-02-20T07:29:31.799Z"
   },
   {
    "duration": 21,
    "start_time": "2022-02-20T07:29:43.304Z"
   },
   {
    "duration": 6,
    "start_time": "2022-02-20T07:37:28.872Z"
   },
   {
    "duration": 5,
    "start_time": "2022-02-20T07:38:36.413Z"
   },
   {
    "duration": 5,
    "start_time": "2022-02-20T07:43:27.414Z"
   },
   {
    "duration": 41,
    "start_time": "2022-02-20T07:43:28.380Z"
   },
   {
    "duration": 13,
    "start_time": "2022-02-20T07:43:31.073Z"
   },
   {
    "duration": 6,
    "start_time": "2022-02-20T07:47:32.722Z"
   },
   {
    "duration": 490,
    "start_time": "2022-02-20T07:47:33.549Z"
   },
   {
    "duration": 8,
    "start_time": "2022-02-20T07:48:19.626Z"
   },
   {
    "duration": 5,
    "start_time": "2022-02-20T07:52:24.558Z"
   },
   {
    "duration": 476,
    "start_time": "2022-02-20T07:52:25.388Z"
   },
   {
    "duration": 5,
    "start_time": "2022-02-20T07:53:21.074Z"
   },
   {
    "duration": 510,
    "start_time": "2022-02-20T07:53:22.794Z"
   },
   {
    "duration": 4,
    "start_time": "2022-02-20T09:35:40.215Z"
   },
   {
    "duration": 483,
    "start_time": "2022-02-20T09:35:43.461Z"
   },
   {
    "duration": 4,
    "start_time": "2022-02-20T09:36:17.890Z"
   },
   {
    "duration": 407,
    "start_time": "2022-02-20T09:36:18.964Z"
   },
   {
    "duration": 4,
    "start_time": "2022-02-20T09:36:37.471Z"
   },
   {
    "duration": 415,
    "start_time": "2022-02-20T09:36:38.641Z"
   },
   {
    "duration": 5,
    "start_time": "2022-02-20T09:39:10.757Z"
   },
   {
    "duration": 492,
    "start_time": "2022-02-20T09:39:11.882Z"
   },
   {
    "duration": 5,
    "start_time": "2022-02-20T09:39:26.819Z"
   },
   {
    "duration": 431,
    "start_time": "2022-02-20T09:39:28.039Z"
   },
   {
    "duration": 5,
    "start_time": "2022-02-20T09:39:58.242Z"
   },
   {
    "duration": 158,
    "start_time": "2022-02-20T09:39:59.469Z"
   },
   {
    "duration": 196,
    "start_time": "2022-02-20T09:40:10.822Z"
   },
   {
    "duration": 112,
    "start_time": "2022-02-20T09:40:30.310Z"
   },
   {
    "duration": 196,
    "start_time": "2022-02-20T09:40:31.945Z"
   },
   {
    "duration": 8,
    "start_time": "2022-02-20T09:40:39.012Z"
   },
   {
    "duration": 5,
    "start_time": "2022-02-20T09:41:02.988Z"
   },
   {
    "duration": 4,
    "start_time": "2022-02-20T09:41:27.894Z"
   },
   {
    "duration": 5,
    "start_time": "2022-02-20T09:45:19.813Z"
   },
   {
    "duration": 459,
    "start_time": "2022-02-20T09:45:23.982Z"
   },
   {
    "duration": 5,
    "start_time": "2022-02-20T09:45:42.969Z"
   },
   {
    "duration": 111,
    "start_time": "2022-02-20T09:45:44.617Z"
   },
   {
    "duration": 4,
    "start_time": "2022-02-20T09:45:48.293Z"
   },
   {
    "duration": 5,
    "start_time": "2022-02-20T09:47:21.197Z"
   },
   {
    "duration": 588,
    "start_time": "2022-02-20T09:47:22.123Z"
   },
   {
    "duration": 5,
    "start_time": "2022-02-20T09:47:33.561Z"
   },
   {
    "duration": 507,
    "start_time": "2022-02-20T09:47:35.187Z"
   },
   {
    "duration": 5,
    "start_time": "2022-02-20T09:48:33.196Z"
   },
   {
    "duration": 85,
    "start_time": "2022-02-20T09:48:34.237Z"
   },
   {
    "duration": 3,
    "start_time": "2022-02-20T09:48:35.458Z"
   },
   {
    "duration": 7,
    "start_time": "2022-02-20T09:48:43.728Z"
   },
   {
    "duration": 5,
    "start_time": "2022-02-20T09:51:03.244Z"
   },
   {
    "duration": 435,
    "start_time": "2022-02-20T09:51:04.531Z"
   },
   {
    "duration": 5,
    "start_time": "2022-02-20T09:51:20.552Z"
   },
   {
    "duration": 499,
    "start_time": "2022-02-20T09:51:21.361Z"
   },
   {
    "duration": 5,
    "start_time": "2022-02-20T09:52:17.819Z"
   },
   {
    "duration": 484,
    "start_time": "2022-02-20T09:52:18.846Z"
   },
   {
    "duration": 5,
    "start_time": "2022-02-20T09:52:25.031Z"
   },
   {
    "duration": 441,
    "start_time": "2022-02-20T09:52:25.967Z"
   },
   {
    "duration": 4,
    "start_time": "2022-02-20T09:56:09.154Z"
   },
   {
    "duration": 148,
    "start_time": "2022-02-20T09:56:10.772Z"
   },
   {
    "duration": 7,
    "start_time": "2022-02-20T09:56:19.185Z"
   },
   {
    "duration": 128,
    "start_time": "2022-02-20T09:58:58.092Z"
   },
   {
    "duration": 132,
    "start_time": "2022-02-20T10:01:01.891Z"
   },
   {
    "duration": 115,
    "start_time": "2022-02-20T10:01:35.912Z"
   },
   {
    "duration": 194,
    "start_time": "2022-02-20T10:01:52.525Z"
   },
   {
    "duration": 278,
    "start_time": "2022-02-20T10:02:47.064Z"
   },
   {
    "duration": 205,
    "start_time": "2022-02-20T10:02:58.115Z"
   },
   {
    "duration": 277,
    "start_time": "2022-02-20T10:03:39.908Z"
   },
   {
    "duration": 128,
    "start_time": "2022-02-20T10:04:39.791Z"
   },
   {
    "duration": 75,
    "start_time": "2022-02-20T10:05:01.250Z"
   },
   {
    "duration": 208,
    "start_time": "2022-02-20T10:05:29.512Z"
   },
   {
    "duration": 4771,
    "start_time": "2022-02-20T10:07:26.616Z"
   },
   {
    "duration": 4742,
    "start_time": "2022-02-20T10:08:01.404Z"
   },
   {
    "duration": 49,
    "start_time": "2022-02-20T10:08:15.375Z"
   },
   {
    "duration": 63,
    "start_time": "2022-02-20T10:08:58.564Z"
   },
   {
    "duration": 108,
    "start_time": "2022-02-20T10:09:24.819Z"
   },
   {
    "duration": 186,
    "start_time": "2022-02-20T10:09:52.734Z"
   },
   {
    "duration": 84,
    "start_time": "2022-02-20T10:10:47.139Z"
   },
   {
    "duration": 50,
    "start_time": "2022-02-20T10:11:28.270Z"
   },
   {
    "duration": 48,
    "start_time": "2022-02-20T10:11:50.272Z"
   },
   {
    "duration": 201,
    "start_time": "2022-02-20T10:12:31.519Z"
   },
   {
    "duration": 4683,
    "start_time": "2022-02-20T10:12:52.156Z"
   },
   {
    "duration": 42,
    "start_time": "2022-02-20T10:13:11.281Z"
   },
   {
    "duration": 94,
    "start_time": "2022-02-20T10:13:39.026Z"
   },
   {
    "duration": 4,
    "start_time": "2022-02-20T10:16:08.618Z"
   },
   {
    "duration": 43,
    "start_time": "2022-02-20T10:16:09.779Z"
   },
   {
    "duration": 7,
    "start_time": "2022-02-20T10:16:17.508Z"
   },
   {
    "duration": 5,
    "start_time": "2022-02-20T10:17:09.093Z"
   },
   {
    "duration": 23,
    "start_time": "2022-02-20T10:17:10.338Z"
   },
   {
    "duration": 89,
    "start_time": "2022-02-20T10:17:32.834Z"
   },
   {
    "duration": 49,
    "start_time": "2022-02-20T10:19:15.676Z"
   },
   {
    "duration": 106,
    "start_time": "2022-02-20T10:19:46.215Z"
   },
   {
    "duration": 4,
    "start_time": "2022-02-20T10:21:42.535Z"
   },
   {
    "duration": 7506,
    "start_time": "2022-02-20T10:21:48.326Z"
   },
   {
    "duration": 5497,
    "start_time": "2022-02-20T10:22:11.452Z"
   },
   {
    "duration": 5,
    "start_time": "2022-02-20T10:22:46.861Z"
   },
   {
    "duration": 7455,
    "start_time": "2022-02-20T10:22:50.352Z"
   },
   {
    "duration": 5,
    "start_time": "2022-02-20T10:25:00.545Z"
   },
   {
    "duration": 404,
    "start_time": "2022-02-20T10:25:04.526Z"
   },
   {
    "duration": 4,
    "start_time": "2022-02-20T10:26:38.595Z"
   },
   {
    "duration": 7139,
    "start_time": "2022-02-20T10:26:43.593Z"
   },
   {
    "duration": 5,
    "start_time": "2022-02-20T10:28:12.904Z"
   },
   {
    "duration": 3880,
    "start_time": "2022-02-20T10:28:17.479Z"
   },
   {
    "duration": 5,
    "start_time": "2022-02-20T10:29:20.182Z"
   },
   {
    "duration": 1669,
    "start_time": "2022-02-20T10:29:23.773Z"
   },
   {
    "duration": 5,
    "start_time": "2022-02-20T10:32:31.744Z"
   },
   {
    "duration": 1651,
    "start_time": "2022-02-20T10:32:36.239Z"
   },
   {
    "duration": 5,
    "start_time": "2022-02-20T11:11:43.654Z"
   },
   {
    "duration": 1953,
    "start_time": "2022-02-20T11:11:46.512Z"
   },
   {
    "duration": 5,
    "start_time": "2022-02-20T11:12:16.683Z"
   },
   {
    "duration": 1755,
    "start_time": "2022-02-20T11:12:19.875Z"
   },
   {
    "duration": 5,
    "start_time": "2022-02-20T11:14:50.405Z"
   },
   {
    "duration": 2642,
    "start_time": "2022-02-20T11:14:54.209Z"
   },
   {
    "duration": 5,
    "start_time": "2022-02-20T11:18:52.195Z"
   },
   {
    "duration": 5,
    "start_time": "2022-02-20T11:19:01.051Z"
   },
   {
    "duration": 1458,
    "start_time": "2022-02-20T11:19:03.952Z"
   },
   {
    "duration": 5,
    "start_time": "2022-02-20T11:19:35.949Z"
   },
   {
    "duration": 1044,
    "start_time": "2022-02-20T11:19:39.628Z"
   },
   {
    "duration": 5,
    "start_time": "2022-02-20T11:20:03.856Z"
   },
   {
    "duration": 1399,
    "start_time": "2022-02-20T11:20:07.342Z"
   },
   {
    "duration": 5,
    "start_time": "2022-02-20T11:21:05.455Z"
   },
   {
    "duration": 1089,
    "start_time": "2022-02-20T11:21:08.683Z"
   },
   {
    "duration": 1059,
    "start_time": "2022-02-20T11:21:24.569Z"
   },
   {
    "duration": 5,
    "start_time": "2022-02-20T11:21:45.728Z"
   },
   {
    "duration": 1252,
    "start_time": "2022-02-20T11:21:48.666Z"
   },
   {
    "duration": 1320,
    "start_time": "2022-02-20T11:22:18.800Z"
   },
   {
    "duration": 5,
    "start_time": "2022-02-20T11:25:06.126Z"
   },
   {
    "duration": 1053,
    "start_time": "2022-02-20T11:25:10.733Z"
   },
   {
    "duration": 5,
    "start_time": "2022-02-20T11:25:26.967Z"
   },
   {
    "duration": 1077,
    "start_time": "2022-02-20T11:25:29.309Z"
   },
   {
    "duration": 8718,
    "start_time": "2022-02-20T17:18:19.337Z"
   },
   {
    "duration": 410,
    "start_time": "2022-02-20T17:18:28.058Z"
   },
   {
    "duration": 14,
    "start_time": "2022-02-20T17:18:28.471Z"
   },
   {
    "duration": 25,
    "start_time": "2022-02-20T17:18:28.488Z"
   },
   {
    "duration": 14,
    "start_time": "2022-02-20T17:18:28.515Z"
   },
   {
    "duration": 10,
    "start_time": "2022-02-20T17:18:28.531Z"
   },
   {
    "duration": 20,
    "start_time": "2022-02-20T17:18:28.543Z"
   },
   {
    "duration": 10,
    "start_time": "2022-02-20T17:18:28.566Z"
   },
   {
    "duration": 21,
    "start_time": "2022-02-20T17:18:28.607Z"
   },
   {
    "duration": 11,
    "start_time": "2022-02-20T17:18:28.631Z"
   },
   {
    "duration": 14,
    "start_time": "2022-02-20T17:18:28.644Z"
   },
   {
    "duration": 6,
    "start_time": "2022-02-20T17:18:28.660Z"
   },
   {
    "duration": 241,
    "start_time": "2022-02-20T17:18:28.668Z"
   },
   {
    "duration": 105,
    "start_time": "2022-02-20T17:18:28.911Z"
   },
   {
    "duration": 102,
    "start_time": "2022-02-20T17:18:29.109Z"
   },
   {
    "duration": 94,
    "start_time": "2022-02-20T17:18:29.213Z"
   },
   {
    "duration": 9,
    "start_time": "2022-02-20T17:18:29.310Z"
   },
   {
    "duration": 7,
    "start_time": "2022-02-20T17:18:29.322Z"
   },
   {
    "duration": 8,
    "start_time": "2022-02-20T17:18:29.331Z"
   },
   {
    "duration": 1244,
    "start_time": "2022-02-20T17:18:29.341Z"
   },
   {
    "duration": 6,
    "start_time": "2022-02-20T17:18:30.587Z"
   },
   {
    "duration": 60,
    "start_time": "2022-02-20T17:18:30.608Z"
   },
   {
    "duration": 313,
    "start_time": "2022-02-20T17:18:30.672Z"
   },
   {
    "duration": 511,
    "start_time": "2022-02-20T17:18:30.988Z"
   },
   {
    "duration": 82,
    "start_time": "2022-02-20T17:18:31.419Z"
   },
   {
    "duration": 67,
    "start_time": "2022-02-20T17:18:31.435Z"
   },
   {
    "duration": 53,
    "start_time": "2022-02-20T17:18:31.450Z"
   },
   {
    "duration": 41,
    "start_time": "2022-02-20T17:18:31.463Z"
   },
   {
    "duration": 32,
    "start_time": "2022-02-20T17:18:31.473Z"
   },
   {
    "duration": 22,
    "start_time": "2022-02-20T17:18:31.485Z"
   },
   {
    "duration": 1294,
    "start_time": "2022-02-20T17:21:05.550Z"
   },
   {
    "duration": 6,
    "start_time": "2022-02-20T17:21:17.868Z"
   },
   {
    "duration": 1220,
    "start_time": "2022-02-20T17:22:06.524Z"
   },
   {
    "duration": 5,
    "start_time": "2022-02-20T17:27:45.855Z"
   },
   {
    "duration": 1918,
    "start_time": "2022-02-20T17:27:49.564Z"
   },
   {
    "duration": 5,
    "start_time": "2022-02-20T17:29:15.983Z"
   },
   {
    "duration": 1846,
    "start_time": "2022-02-20T17:29:19.876Z"
   },
   {
    "duration": 132,
    "start_time": "2022-02-20T17:35:31.430Z"
   },
   {
    "duration": 6,
    "start_time": "2022-02-20T17:35:48.840Z"
   },
   {
    "duration": 1190,
    "start_time": "2022-02-20T17:35:52.780Z"
   },
   {
    "duration": 6,
    "start_time": "2022-02-20T17:36:11.677Z"
   },
   {
    "duration": 1223,
    "start_time": "2022-02-20T17:36:16.129Z"
   },
   {
    "duration": 1250,
    "start_time": "2022-02-20T17:37:14.404Z"
   },
   {
    "duration": 6,
    "start_time": "2022-02-20T17:38:37.224Z"
   },
   {
    "duration": 1223,
    "start_time": "2022-02-20T17:39:05.280Z"
   },
   {
    "duration": 7,
    "start_time": "2022-02-20T17:39:48.997Z"
   },
   {
    "duration": 8,
    "start_time": "2022-02-20T17:39:50.233Z"
   },
   {
    "duration": 414,
    "start_time": "2022-02-20T17:39:54.047Z"
   },
   {
    "duration": 6,
    "start_time": "2022-02-20T17:40:49.361Z"
   },
   {
    "duration": 9,
    "start_time": "2022-02-20T17:40:53.467Z"
   },
   {
    "duration": 5,
    "start_time": "2022-02-20T17:44:35.218Z"
   },
   {
    "duration": 267,
    "start_time": "2022-02-20T17:44:54.978Z"
   },
   {
    "duration": 4,
    "start_time": "2022-02-20T17:45:12.238Z"
   },
   {
    "duration": 259,
    "start_time": "2022-02-20T17:45:15.487Z"
   },
   {
    "duration": 496,
    "start_time": "2022-02-20T18:32:51.074Z"
   },
   {
    "duration": 7,
    "start_time": "2022-02-20T18:33:02.972Z"
   },
   {
    "duration": 3,
    "start_time": "2022-02-20T18:33:09.755Z"
   },
   {
    "duration": 1460,
    "start_time": "2022-02-20T18:33:14.204Z"
   },
   {
    "duration": 6,
    "start_time": "2022-02-20T18:33:19.765Z"
   },
   {
    "duration": 1309,
    "start_time": "2022-02-20T18:33:29.404Z"
   },
   {
    "duration": 6,
    "start_time": "2022-02-20T18:33:36.607Z"
   },
   {
    "duration": 1276,
    "start_time": "2022-02-20T18:35:15.368Z"
   },
   {
    "duration": 6,
    "start_time": "2022-02-20T18:35:20.630Z"
   },
   {
    "duration": 27341,
    "start_time": "2022-02-20T18:46:39.279Z"
   },
   {
    "duration": 247,
    "start_time": "2022-02-20T18:47:06.623Z"
   },
   {
    "duration": 250,
    "start_time": "2022-02-20T18:47:22.500Z"
   },
   {
    "duration": 258,
    "start_time": "2022-02-20T18:51:26.515Z"
   },
   {
    "duration": 10472,
    "start_time": "2022-02-20T18:55:30.843Z"
   },
   {
    "duration": 345,
    "start_time": "2022-02-20T18:55:55.927Z"
   },
   {
    "duration": 10542,
    "start_time": "2022-02-20T18:59:39.356Z"
   },
   {
    "duration": 274,
    "start_time": "2022-02-20T19:00:01.414Z"
   },
   {
    "duration": 9585,
    "start_time": "2022-02-20T19:02:43.808Z"
   },
   {
    "duration": 3832,
    "start_time": "2022-02-20T19:03:02.448Z"
   },
   {
    "duration": 54,
    "start_time": "2022-02-20T19:10:04.405Z"
   },
   {
    "duration": 248,
    "start_time": "2022-02-20T19:12:08.426Z"
   },
   {
    "duration": 4514,
    "start_time": "2022-02-20T19:12:30.171Z"
   },
   {
    "duration": 4679,
    "start_time": "2022-02-20T19:13:01.591Z"
   },
   {
    "duration": 4706,
    "start_time": "2022-02-20T19:13:28.431Z"
   },
   {
    "duration": 510,
    "start_time": "2022-02-20T19:16:52.501Z"
   },
   {
    "duration": 383,
    "start_time": "2022-02-20T19:22:56.453Z"
   },
   {
    "duration": 342,
    "start_time": "2022-02-20T19:23:22.322Z"
   },
   {
    "duration": 4424,
    "start_time": "2022-02-20T19:36:08.964Z"
   },
   {
    "duration": 17,
    "start_time": "2022-02-20T19:36:13.390Z"
   },
   {
    "duration": 199,
    "start_time": "2022-02-20T19:36:13.410Z"
   },
   {
    "duration": 197,
    "start_time": "2022-02-20T19:36:13.612Z"
   },
   {
    "duration": 102,
    "start_time": "2022-02-20T19:36:13.811Z"
   },
   {
    "duration": 93,
    "start_time": "2022-02-20T19:36:13.916Z"
   },
   {
    "duration": 9,
    "start_time": "2022-02-20T19:36:14.011Z"
   },
   {
    "duration": 13,
    "start_time": "2022-02-20T19:36:14.022Z"
   },
   {
    "duration": 12,
    "start_time": "2022-02-20T19:36:14.037Z"
   },
   {
    "duration": 1424,
    "start_time": "2022-02-20T19:36:14.051Z"
   },
   {
    "duration": 7,
    "start_time": "2022-02-20T19:36:15.477Z"
   },
   {
    "duration": 112,
    "start_time": "2022-02-20T19:36:15.487Z"
   },
   {
    "duration": 1547,
    "start_time": "2022-02-20T19:36:15.602Z"
   },
   {
    "duration": 8,
    "start_time": "2022-02-20T19:36:17.151Z"
   },
   {
    "duration": 147,
    "start_time": "2022-02-20T19:36:17.161Z"
   },
   {
    "duration": 1298,
    "start_time": "2022-02-20T19:36:17.310Z"
   },
   {
    "duration": 6,
    "start_time": "2022-02-20T19:36:18.610Z"
   },
   {
    "duration": 128,
    "start_time": "2022-02-20T19:36:18.618Z"
   },
   {
    "duration": 115,
    "start_time": "2022-02-20T19:37:55.743Z"
   },
   {
    "duration": 4,
    "start_time": "2022-02-20T19:38:32.152Z"
   },
   {
    "duration": 131,
    "start_time": "2022-02-20T19:38:37.976Z"
   },
   {
    "duration": 4,
    "start_time": "2022-02-20T19:38:53.903Z"
   },
   {
    "duration": 126,
    "start_time": "2022-02-20T19:39:03.745Z"
   },
   {
    "duration": 4,
    "start_time": "2022-02-20T19:39:57.069Z"
   },
   {
    "duration": 153,
    "start_time": "2022-02-20T19:40:04.349Z"
   },
   {
    "duration": 4,
    "start_time": "2022-02-20T19:40:35.995Z"
   },
   {
    "duration": 154,
    "start_time": "2022-02-20T19:40:42.957Z"
   },
   {
    "duration": 164,
    "start_time": "2022-02-20T19:41:37.531Z"
   },
   {
    "duration": 4,
    "start_time": "2022-02-20T19:42:02.978Z"
   },
   {
    "duration": 178,
    "start_time": "2022-02-20T19:42:10.137Z"
   },
   {
    "duration": 170,
    "start_time": "2022-02-20T19:42:17.779Z"
   },
   {
    "duration": 3,
    "start_time": "2022-02-20T19:42:36.917Z"
   },
   {
    "duration": 178,
    "start_time": "2022-02-20T19:42:43.160Z"
   },
   {
    "duration": 188,
    "start_time": "2022-02-20T19:43:42.839Z"
   },
   {
    "duration": 6,
    "start_time": "2022-02-20T19:44:03.246Z"
   },
   {
    "duration": 371,
    "start_time": "2022-02-20T19:45:09.735Z"
   },
   {
    "duration": 309,
    "start_time": "2022-02-20T19:45:28.238Z"
   },
   {
    "duration": 284,
    "start_time": "2022-02-20T19:45:39.261Z"
   },
   {
    "duration": 199,
    "start_time": "2022-02-20T19:46:15.356Z"
   },
   {
    "duration": 6,
    "start_time": "2022-02-20T19:47:08.356Z"
   },
   {
    "duration": 458,
    "start_time": "2022-02-20T19:50:56.564Z"
   },
   {
    "duration": 233,
    "start_time": "2022-02-20T19:51:25.374Z"
   },
   {
    "duration": 161,
    "start_time": "2022-02-20T19:52:22.368Z"
   },
   {
    "duration": 6,
    "start_time": "2022-02-20T19:53:04.129Z"
   },
   {
    "duration": 4,
    "start_time": "2022-02-20T19:53:10.586Z"
   },
   {
    "duration": 1234,
    "start_time": "2022-02-20T19:53:13.696Z"
   },
   {
    "duration": 77,
    "start_time": "2022-02-20T19:53:20.782Z"
   },
   {
    "duration": 195,
    "start_time": "2022-02-20T19:53:28.322Z"
   },
   {
    "duration": 9,
    "start_time": "2022-02-20T19:53:39.948Z"
   },
   {
    "duration": 76,
    "start_time": "2022-02-20T19:53:55.455Z"
   },
   {
    "duration": 6,
    "start_time": "2022-02-20T19:54:00.523Z"
   },
   {
    "duration": 66,
    "start_time": "2022-02-20T19:58:49.140Z"
   },
   {
    "duration": 65,
    "start_time": "2022-02-20T19:59:01.195Z"
   },
   {
    "duration": 67,
    "start_time": "2022-02-20T19:59:37.976Z"
   },
   {
    "duration": 85,
    "start_time": "2022-02-20T20:00:28.481Z"
   },
   {
    "duration": 86,
    "start_time": "2022-02-20T20:00:38.114Z"
   },
   {
    "duration": 257,
    "start_time": "2022-02-20T20:03:12.043Z"
   },
   {
    "duration": 114,
    "start_time": "2022-02-20T20:05:36.983Z"
   },
   {
    "duration": 371,
    "start_time": "2022-02-20T20:06:06.104Z"
   },
   {
    "duration": 423,
    "start_time": "2022-02-20T20:06:20.854Z"
   },
   {
    "duration": 122,
    "start_time": "2022-02-20T20:06:36.305Z"
   },
   {
    "duration": 2296,
    "start_time": "2022-02-20T20:07:02.705Z"
   },
   {
    "duration": 413,
    "start_time": "2022-02-20T20:07:05.004Z"
   },
   {
    "duration": 15,
    "start_time": "2022-02-20T20:07:05.419Z"
   },
   {
    "duration": 30,
    "start_time": "2022-02-20T20:07:05.436Z"
   },
   {
    "duration": 14,
    "start_time": "2022-02-20T20:07:05.469Z"
   },
   {
    "duration": 23,
    "start_time": "2022-02-20T20:07:05.485Z"
   },
   {
    "duration": 13,
    "start_time": "2022-02-20T20:07:05.510Z"
   },
   {
    "duration": 10,
    "start_time": "2022-02-20T20:07:05.525Z"
   },
   {
    "duration": 17,
    "start_time": "2022-02-20T20:07:05.539Z"
   },
   {
    "duration": 13,
    "start_time": "2022-02-20T20:07:05.559Z"
   },
   {
    "duration": 44,
    "start_time": "2022-02-20T20:07:05.575Z"
   },
   {
    "duration": 4902,
    "start_time": "2022-02-20T20:07:05.621Z"
   },
   {
    "duration": 6,
    "start_time": "2022-02-20T20:07:10.525Z"
   },
   {
    "duration": 183,
    "start_time": "2022-02-20T20:07:10.533Z"
   },
   {
    "duration": 191,
    "start_time": "2022-02-20T20:07:10.719Z"
   },
   {
    "duration": 296,
    "start_time": "2022-02-20T20:07:10.913Z"
   },
   {
    "duration": 4,
    "start_time": "2022-02-20T20:07:11.211Z"
   },
   {
    "duration": 15,
    "start_time": "2022-02-20T20:07:11.217Z"
   },
   {
    "duration": 12,
    "start_time": "2022-02-20T20:07:11.234Z"
   },
   {
    "duration": 6,
    "start_time": "2022-02-20T20:07:11.248Z"
   },
   {
    "duration": 1172,
    "start_time": "2022-02-20T20:07:11.256Z"
   },
   {
    "duration": 5,
    "start_time": "2022-02-20T20:07:12.430Z"
   },
   {
    "duration": 205,
    "start_time": "2022-02-20T20:07:12.437Z"
   },
   {
    "duration": 1151,
    "start_time": "2022-02-20T20:07:12.644Z"
   },
   {
    "duration": 10,
    "start_time": "2022-02-20T20:07:13.797Z"
   },
   {
    "duration": 66,
    "start_time": "2022-02-20T20:07:13.809Z"
   },
   {
    "duration": 87,
    "start_time": "2022-02-20T20:07:13.878Z"
   },
   {
    "duration": 1185,
    "start_time": "2022-02-20T20:07:13.967Z"
   },
   {
    "duration": 6,
    "start_time": "2022-02-20T20:07:15.154Z"
   },
   {
    "duration": 107,
    "start_time": "2022-02-20T20:07:15.161Z"
   },
   {
    "duration": 3,
    "start_time": "2022-02-20T20:09:33.061Z"
   },
   {
    "duration": 6,
    "start_time": "2022-02-20T20:09:39.598Z"
   },
   {
    "duration": 6,
    "start_time": "2022-02-20T20:09:49.864Z"
   },
   {
    "duration": 87,
    "start_time": "2022-02-20T20:13:16.998Z"
   },
   {
    "duration": 6,
    "start_time": "2022-02-20T20:13:26.042Z"
   },
   {
    "duration": 96,
    "start_time": "2022-02-20T20:13:53.544Z"
   },
   {
    "duration": 7,
    "start_time": "2022-02-20T20:14:30.646Z"
   },
   {
    "duration": 165,
    "start_time": "2022-02-20T20:15:07.759Z"
   },
   {
    "duration": 7,
    "start_time": "2022-02-20T20:15:11.274Z"
   },
   {
    "duration": 467,
    "start_time": "2022-02-20T20:15:57.211Z"
   },
   {
    "duration": 454,
    "start_time": "2022-02-20T20:16:39.126Z"
   },
   {
    "duration": 246,
    "start_time": "2022-02-20T20:17:17.612Z"
   },
   {
    "duration": 6,
    "start_time": "2022-02-20T20:19:38.505Z"
   },
   {
    "duration": 4,
    "start_time": "2022-02-20T20:19:44.448Z"
   },
   {
    "duration": 2094,
    "start_time": "2022-02-20T20:19:51.151Z"
   },
   {
    "duration": 166,
    "start_time": "2022-02-20T20:20:01.671Z"
   },
   {
    "duration": 2934,
    "start_time": "2022-02-21T09:02:48.500Z"
   },
   {
    "duration": 518,
    "start_time": "2022-02-21T09:02:50.919Z"
   },
   {
    "duration": 493,
    "start_time": "2022-02-21T09:02:50.945Z"
   },
   {
    "duration": 481,
    "start_time": "2022-02-21T09:02:50.959Z"
   },
   {
    "duration": 448,
    "start_time": "2022-02-21T09:02:50.993Z"
   },
   {
    "duration": 428,
    "start_time": "2022-02-21T09:02:51.015Z"
   },
   {
    "duration": 415,
    "start_time": "2022-02-21T09:02:51.029Z"
   },
   {
    "duration": 403,
    "start_time": "2022-02-21T09:02:51.042Z"
   },
   {
    "duration": 394,
    "start_time": "2022-02-21T09:02:51.053Z"
   },
   {
    "duration": 383,
    "start_time": "2022-02-21T09:02:51.065Z"
   },
   {
    "duration": 373,
    "start_time": "2022-02-21T09:02:51.076Z"
   },
   {
    "duration": 346,
    "start_time": "2022-02-21T09:02:51.104Z"
   },
   {
    "duration": 335,
    "start_time": "2022-02-21T09:02:51.116Z"
   },
   {
    "duration": 287,
    "start_time": "2022-02-21T09:02:51.165Z"
   },
   {
    "duration": 222,
    "start_time": "2022-02-21T09:02:51.231Z"
   },
   {
    "duration": 154,
    "start_time": "2022-02-21T09:02:51.301Z"
   },
   {
    "duration": 94,
    "start_time": "2022-02-21T09:02:51.362Z"
   },
   {
    "duration": 66,
    "start_time": "2022-02-21T09:02:51.391Z"
   },
   {
    "duration": 57,
    "start_time": "2022-02-21T09:02:51.401Z"
   },
   {
    "duration": 47,
    "start_time": "2022-02-21T09:02:51.412Z"
   },
   {
    "duration": 40,
    "start_time": "2022-02-21T09:02:51.421Z"
   },
   {
    "duration": 31,
    "start_time": "2022-02-21T09:02:51.431Z"
   },
   {
    "duration": 20,
    "start_time": "2022-02-21T09:02:51.444Z"
   },
   {
    "duration": 11,
    "start_time": "2022-02-21T09:02:51.454Z"
   },
   {
    "duration": 4,
    "start_time": "2022-02-21T09:02:51.462Z"
   },
   {
    "duration": -3,
    "start_time": "2022-02-21T09:02:51.470Z"
   },
   {
    "duration": -11,
    "start_time": "2022-02-21T09:02:51.479Z"
   },
   {
    "duration": -40,
    "start_time": "2022-02-21T09:02:51.509Z"
   },
   {
    "duration": -50,
    "start_time": "2022-02-21T09:02:51.520Z"
   },
   {
    "duration": -62,
    "start_time": "2022-02-21T09:02:51.533Z"
   },
   {
    "duration": 307,
    "start_time": "2022-02-21T09:03:25.856Z"
   },
   {
    "duration": 320,
    "start_time": "2022-02-21T09:07:39.197Z"
   },
   {
    "duration": 496,
    "start_time": "2022-02-21T09:09:37.692Z"
   },
   {
    "duration": 268,
    "start_time": "2022-02-21T09:10:28.984Z"
   },
   {
    "duration": 326,
    "start_time": "2022-02-21T09:15:15.241Z"
   },
   {
    "duration": 386,
    "start_time": "2022-02-21T09:15:42.501Z"
   },
   {
    "duration": 4,
    "start_time": "2022-02-21T09:16:07.444Z"
   },
   {
    "duration": 1265,
    "start_time": "2022-02-21T09:16:17.268Z"
   },
   {
    "duration": 409,
    "start_time": "2022-02-21T09:16:18.535Z"
   },
   {
    "duration": 13,
    "start_time": "2022-02-21T09:16:18.946Z"
   },
   {
    "duration": 12,
    "start_time": "2022-02-21T09:16:18.970Z"
   },
   {
    "duration": 14,
    "start_time": "2022-02-21T09:16:18.983Z"
   },
   {
    "duration": 11,
    "start_time": "2022-02-21T09:16:18.999Z"
   },
   {
    "duration": 14,
    "start_time": "2022-02-21T09:16:19.011Z"
   },
   {
    "duration": 43,
    "start_time": "2022-02-21T09:16:19.027Z"
   },
   {
    "duration": 33,
    "start_time": "2022-02-21T09:16:19.073Z"
   },
   {
    "duration": 11,
    "start_time": "2022-02-21T09:16:19.108Z"
   },
   {
    "duration": 19,
    "start_time": "2022-02-21T09:16:19.121Z"
   },
   {
    "duration": 380,
    "start_time": "2022-02-21T09:16:19.142Z"
   },
   {
    "duration": 73,
    "start_time": "2022-02-21T09:16:19.452Z"
   },
   {
    "duration": 66,
    "start_time": "2022-02-21T09:16:19.461Z"
   },
   {
    "duration": 59,
    "start_time": "2022-02-21T09:16:19.469Z"
   },
   {
    "duration": 51,
    "start_time": "2022-02-21T09:16:19.478Z"
   },
   {
    "duration": 45,
    "start_time": "2022-02-21T09:16:19.486Z"
   },
   {
    "duration": 36,
    "start_time": "2022-02-21T09:16:19.496Z"
   },
   {
    "duration": 26,
    "start_time": "2022-02-21T09:16:19.507Z"
   },
   {
    "duration": -60,
    "start_time": "2022-02-21T09:16:19.594Z"
   },
   {
    "duration": -67,
    "start_time": "2022-02-21T09:16:19.603Z"
   },
   {
    "duration": -76,
    "start_time": "2022-02-21T09:16:19.613Z"
   },
   {
    "duration": -88,
    "start_time": "2022-02-21T09:16:19.626Z"
   },
   {
    "duration": -98,
    "start_time": "2022-02-21T09:16:19.637Z"
   },
   {
    "duration": -113,
    "start_time": "2022-02-21T09:16:19.653Z"
   },
   {
    "duration": -122,
    "start_time": "2022-02-21T09:16:19.663Z"
   },
   {
    "duration": -145,
    "start_time": "2022-02-21T09:16:19.687Z"
   },
   {
    "duration": -156,
    "start_time": "2022-02-21T09:16:19.699Z"
   },
   {
    "duration": -172,
    "start_time": "2022-02-21T09:16:19.716Z"
   },
   {
    "duration": -186,
    "start_time": "2022-02-21T09:16:19.731Z"
   },
   {
    "duration": 1286,
    "start_time": "2022-02-21T09:16:42.611Z"
   },
   {
    "duration": 425,
    "start_time": "2022-02-21T09:16:43.899Z"
   },
   {
    "duration": 13,
    "start_time": "2022-02-21T09:16:44.326Z"
   },
   {
    "duration": 12,
    "start_time": "2022-02-21T09:16:44.342Z"
   },
   {
    "duration": 15,
    "start_time": "2022-02-21T09:16:44.369Z"
   },
   {
    "duration": 9,
    "start_time": "2022-02-21T09:16:44.386Z"
   },
   {
    "duration": 15,
    "start_time": "2022-02-21T09:16:44.397Z"
   },
   {
    "duration": 10,
    "start_time": "2022-02-21T09:16:44.414Z"
   },
   {
    "duration": 49,
    "start_time": "2022-02-21T09:16:44.426Z"
   },
   {
    "duration": 11,
    "start_time": "2022-02-21T09:16:44.477Z"
   },
   {
    "duration": 13,
    "start_time": "2022-02-21T09:16:44.490Z"
   },
   {
    "duration": 3,
    "start_time": "2022-02-21T09:16:44.505Z"
   },
   {
    "duration": 6,
    "start_time": "2022-02-21T09:16:44.510Z"
   },
   {
    "duration": 159,
    "start_time": "2022-02-21T09:16:44.517Z"
   },
   {
    "duration": 200,
    "start_time": "2022-02-21T09:16:44.679Z"
   },
   {
    "duration": 199,
    "start_time": "2022-02-21T09:16:44.881Z"
   },
   {
    "duration": 3,
    "start_time": "2022-02-21T09:16:45.170Z"
   },
   {
    "duration": 9,
    "start_time": "2022-02-21T09:16:45.175Z"
   },
   {
    "duration": 7,
    "start_time": "2022-02-21T09:16:45.186Z"
   },
   {
    "duration": 9,
    "start_time": "2022-02-21T09:16:45.194Z"
   },
   {
    "duration": 1168,
    "start_time": "2022-02-21T09:16:45.205Z"
   },
   {
    "duration": 7,
    "start_time": "2022-02-21T09:16:46.375Z"
   },
   {
    "duration": 309,
    "start_time": "2022-02-21T09:16:46.386Z"
   },
   {
    "duration": 1207,
    "start_time": "2022-02-21T09:16:46.697Z"
   },
   {
    "duration": 7,
    "start_time": "2022-02-21T09:16:47.907Z"
   },
   {
    "duration": 405,
    "start_time": "2022-02-21T09:16:47.916Z"
   },
   {
    "duration": 589,
    "start_time": "2022-02-21T09:16:47.734Z"
   },
   {
    "duration": 578,
    "start_time": "2022-02-21T09:16:47.746Z"
   },
   {
    "duration": 559,
    "start_time": "2022-02-21T09:16:47.766Z"
   },
   {
    "duration": 549,
    "start_time": "2022-02-21T09:16:47.777Z"
   },
   {
    "duration": 279,
    "start_time": "2022-02-21T09:17:46.884Z"
   },
   {
    "duration": 4,
    "start_time": "2022-02-21T09:18:01.864Z"
   },
   {
    "duration": 296,
    "start_time": "2022-02-21T09:18:06.605Z"
   },
   {
    "duration": 1220,
    "start_time": "2022-02-21T09:18:17.229Z"
   },
   {
    "duration": 7,
    "start_time": "2022-02-21T09:18:18.452Z"
   },
   {
    "duration": 301,
    "start_time": "2022-02-21T09:18:19.093Z"
   }
  ],
  "kernelspec": {
   "display_name": "Python 3",
   "language": "python",
   "name": "python3"
  },
  "language_info": {
   "codemirror_mode": {
    "name": "ipython",
    "version": 3
   },
   "file_extension": ".py",
   "mimetype": "text/x-python",
   "name": "python",
   "nbconvert_exporter": "python",
   "pygments_lexer": "ipython3",
   "version": "3.8.8"
  },
  "toc": {
   "base_numbering": 1,
   "nav_menu": {},
   "number_sections": true,
   "sideBar": true,
   "skip_h1_title": true,
   "title_cell": "Table of Contents",
   "title_sidebar": "Contents",
   "toc_cell": false,
   "toc_position": {},
   "toc_section_display": true,
   "toc_window_display": false
  }
 },
 "nbformat": 4,
 "nbformat_minor": 2
}
