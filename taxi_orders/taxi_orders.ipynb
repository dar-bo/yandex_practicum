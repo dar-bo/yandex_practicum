{
 "cells": [
  {
   "cell_type": "markdown",
   "metadata": {
    "toc": true
   },
   "source": [
    "<h1>Содержание<span class=\"tocSkip\"></span></h1>\n",
    "<div class=\"toc\"><ul class=\"toc-item\"><li><ul class=\"toc-item\"><li><ul class=\"toc-item\"><li><span></span>Подготовка</a></span></li><li><span><a href=\"#Анализ\" data-toc-modified-id=\"Анализ-2\"><span class=\"toc-item-num\">2&nbsp;&nbsp;</span>Анализ</a></span></li><li><span><a href=\"#Обучение\" data-toc-modified-id=\"Обучение-3\"><span class=\"toc-item-num\">3&nbsp;&nbsp;</span>Обучение</a></span></li><li><span><a href=\"#Тестирование\" data-toc-modified-id=\"Тестирование-4\"><span class=\"toc-item-num\">4&nbsp;&nbsp;</span>Тестирование</a></span></li><li><span><a href=\"#Чек-лист-проверки\" data-toc-modified-id=\"Чек-лист-проверки-5\"><span class=\"toc-item-num\">5&nbsp;&nbsp;</span>Чек-лист проверки</a></span></li></ul></div>"
   ]
  },
  {
   "cell_type": "markdown",
   "metadata": {},
   "source": [
    "#  Прогнозирование заказов такси"
   ]
  },
  {
   "cell_type": "markdown",
   "metadata": {},
   "source": [
    "## Подготовка"
   ]
  },
  {
   "cell_type": "code",
   "execution_count": 1,
   "metadata": {},
   "outputs": [],
   "source": [
    "import pandas as pd\n",
    "from sklearn.metrics import mean_squared_error\n",
    "from statsmodels.tsa.seasonal import seasonal_decompose\n",
    "from sklearn.model_selection import train_test_split, GridSearchCV\n",
    "from sklearn.linear_model import LinearRegression\n",
    "import matplotlib.pyplot as plt\n",
    "from catboost import CatBoostRegressor\n",
    "from lightgbm import LGBMRegressor\n",
    "from sklearn.model_selection import TimeSeriesSplit\n"
   ]
  },
  {
   "cell_type": "code",
   "execution_count": 2,
   "metadata": {},
   "outputs": [],
   "source": [
    "df = pd.read_csv('/datasets/taxi.csv')"
   ]
  },
  {
   "cell_type": "code",
   "execution_count": 3,
   "metadata": {
    "scrolled": true
   },
   "outputs": [
    {
     "data": {
      "text/html": [
       "<div>\n",
       "<style scoped>\n",
       "    .dataframe tbody tr th:only-of-type {\n",
       "        vertical-align: middle;\n",
       "    }\n",
       "\n",
       "    .dataframe tbody tr th {\n",
       "        vertical-align: top;\n",
       "    }\n",
       "\n",
       "    .dataframe thead th {\n",
       "        text-align: right;\n",
       "    }\n",
       "</style>\n",
       "<table border=\"1\" class=\"dataframe\">\n",
       "  <thead>\n",
       "    <tr style=\"text-align: right;\">\n",
       "      <th></th>\n",
       "      <th>datetime</th>\n",
       "      <th>num_orders</th>\n",
       "    </tr>\n",
       "  </thead>\n",
       "  <tbody>\n",
       "    <tr>\n",
       "      <th>0</th>\n",
       "      <td>2018-03-01 00:00:00</td>\n",
       "      <td>9</td>\n",
       "    </tr>\n",
       "    <tr>\n",
       "      <th>1</th>\n",
       "      <td>2018-03-01 00:10:00</td>\n",
       "      <td>14</td>\n",
       "    </tr>\n",
       "    <tr>\n",
       "      <th>2</th>\n",
       "      <td>2018-03-01 00:20:00</td>\n",
       "      <td>28</td>\n",
       "    </tr>\n",
       "    <tr>\n",
       "      <th>3</th>\n",
       "      <td>2018-03-01 00:30:00</td>\n",
       "      <td>20</td>\n",
       "    </tr>\n",
       "    <tr>\n",
       "      <th>4</th>\n",
       "      <td>2018-03-01 00:40:00</td>\n",
       "      <td>32</td>\n",
       "    </tr>\n",
       "  </tbody>\n",
       "</table>\n",
       "</div>"
      ],
      "text/plain": [
       "              datetime  num_orders\n",
       "0  2018-03-01 00:00:00           9\n",
       "1  2018-03-01 00:10:00          14\n",
       "2  2018-03-01 00:20:00          28\n",
       "3  2018-03-01 00:30:00          20\n",
       "4  2018-03-01 00:40:00          32"
      ]
     },
     "execution_count": 3,
     "metadata": {},
     "output_type": "execute_result"
    }
   ],
   "source": [
    "df.head()"
   ]
  },
  {
   "cell_type": "code",
   "execution_count": 4,
   "metadata": {},
   "outputs": [
    {
     "name": "stdout",
     "output_type": "stream",
     "text": [
      "<class 'pandas.core.frame.DataFrame'>\n",
      "RangeIndex: 26496 entries, 0 to 26495\n",
      "Data columns (total 2 columns):\n",
      " #   Column      Non-Null Count  Dtype \n",
      "---  ------      --------------  ----- \n",
      " 0   datetime    26496 non-null  object\n",
      " 1   num_orders  26496 non-null  int64 \n",
      "dtypes: int64(1), object(1)\n",
      "memory usage: 414.1+ KB\n"
     ]
    }
   ],
   "source": [
    "df.info()"
   ]
  },
  {
   "cell_type": "code",
   "execution_count": 5,
   "metadata": {},
   "outputs": [],
   "source": [
    "df['datetime'] = pd.to_datetime(df['datetime'])"
   ]
  },
  {
   "cell_type": "code",
   "execution_count": 6,
   "metadata": {},
   "outputs": [],
   "source": [
    "df = df.set_index('datetime')"
   ]
  },
  {
   "cell_type": "code",
   "execution_count": 7,
   "metadata": {},
   "outputs": [],
   "source": [
    "df = df.sort_index()"
   ]
  },
  {
   "cell_type": "code",
   "execution_count": 8,
   "metadata": {},
   "outputs": [
    {
     "data": {
      "text/plain": [
       "True"
      ]
     },
     "execution_count": 8,
     "metadata": {},
     "output_type": "execute_result"
    }
   ],
   "source": [
    "df.index.is_monotonic"
   ]
  },
  {
   "cell_type": "code",
   "execution_count": 9,
   "metadata": {},
   "outputs": [],
   "source": [
    "df = df.resample('1H').sum()"
   ]
  },
  {
   "cell_type": "markdown",
   "metadata": {},
   "source": [
    "**Выводы:**\n",
    "* столбец datetime приведен к типу даты и преобразован в индекс\n",
    "* данные отсортированы и проверены на пропуски\n",
    "* значения заказов промуммированы и отражены в пределах часа"
   ]
  },
  {
   "cell_type": "markdown",
   "metadata": {},
   "source": [
    "## Анализ"
   ]
  },
  {
   "cell_type": "code",
   "execution_count": 10,
   "metadata": {
    "scrolled": false
   },
   "outputs": [
    {
     "data": {
      "image/png": "[encoded data removed]",
      "text/plain": [
       "<Figure size 576x1224 with 3 Axes>"
      ]
     },
     "metadata": {
      "needs_background": "light"
     },
     "output_type": "display_data"
    }
   ],
   "source": [
    "decomposed = seasonal_decompose(df)\n",
    "plt.figure(figsize=(8,17))\n",
    "plt.subplot(311)\n",
    "decomposed.trend.plot()\n",
    "plt.title('Trend')\n",
    "plt.subplot(312)\n",
    "decomposed.seasonal['2018-08-15':'2018-08-31'].plot()\n",
    "plt.title('seasonal')\n",
    "plt.subplot(313)\n",
    "decomposed.resid.plot()\n",
    "plt.title('resid')\n",
    "plt.tight_layout()"
   ]
  },
  {
   "cell_type": "markdown",
   "metadata": {},
   "source": [
    "Тренд показывает неуклонное увеличение с каждым месяцем. Сезонность неинформативная, так как данные за один неполный год."
   ]
  },
  {
   "cell_type": "code",
   "execution_count": 11,
   "metadata": {},
   "outputs": [],
   "source": [
    "def adding_features(df, max_lag, rolling_size):\n",
    "    '''добавление признаков календарных, отстающих значений и скользящего среднего'''\n",
    "    df['year'] = df.index.year\n",
    "    df['month'] = df.index.month\n",
    "    df['dayofweek'] = df.index.dayofweek\n",
    "    df['hour'] = df.index.hour\n",
    "    \n",
    "    for lag in range(1, max_lag+1):   \n",
    "        df['lag{}'.format(lag)] = df['num_orders'].shift(lag)\n",
    "        \n",
    "    df['rolling_mean'] = df['num_orders'].shift().rolling(rolling_size).mean()\n",
    "    return df"
   ]
  },
  {
   "cell_type": "code",
   "execution_count": 12,
   "metadata": {},
   "outputs": [],
   "source": [
    "df_new = adding_features(df, 5, '7D')\n"
   ]
  },
  {
   "cell_type": "code",
   "execution_count": 13,
   "metadata": {},
   "outputs": [],
   "source": [
    "df_new.dropna(inplace=True) #удалены пропуски, возникшие при применении скользящего среднего"
   ]
  },
  {
   "cell_type": "code",
   "execution_count": 14,
   "metadata": {
    "scrolled": true
   },
   "outputs": [
    {
     "data": {
      "text/html": [
       "<div>\n",
       "<style scoped>\n",
       "    .dataframe tbody tr th:only-of-type {\n",
       "        vertical-align: middle;\n",
       "    }\n",
       "\n",
       "    .dataframe tbody tr th {\n",
       "        vertical-align: top;\n",
       "    }\n",
       "\n",
       "    .dataframe thead th {\n",
       "        text-align: right;\n",
       "    }\n",
       "</style>\n",
       "<table border=\"1\" class=\"dataframe\">\n",
       "  <thead>\n",
       "    <tr style=\"text-align: right;\">\n",
       "      <th></th>\n",
       "      <th>num_orders</th>\n",
       "      <th>year</th>\n",
       "      <th>month</th>\n",
       "      <th>dayofweek</th>\n",
       "      <th>hour</th>\n",
       "      <th>lag1</th>\n",
       "      <th>lag2</th>\n",
       "      <th>lag3</th>\n",
       "      <th>lag4</th>\n",
       "      <th>lag5</th>\n",
       "      <th>rolling_mean</th>\n",
       "    </tr>\n",
       "    <tr>\n",
       "      <th>datetime</th>\n",
       "      <th></th>\n",
       "      <th></th>\n",
       "      <th></th>\n",
       "      <th></th>\n",
       "      <th></th>\n",
       "      <th></th>\n",
       "      <th></th>\n",
       "      <th></th>\n",
       "      <th></th>\n",
       "      <th></th>\n",
       "      <th></th>\n",
       "    </tr>\n",
       "  </thead>\n",
       "  <tbody>\n",
       "    <tr>\n",
       "      <th>2018-03-01 05:00:00</th>\n",
       "      <td>6</td>\n",
       "      <td>2018</td>\n",
       "      <td>3</td>\n",
       "      <td>3</td>\n",
       "      <td>5</td>\n",
       "      <td>43.0</td>\n",
       "      <td>66.0</td>\n",
       "      <td>71.0</td>\n",
       "      <td>85.0</td>\n",
       "      <td>124.0</td>\n",
       "      <td>77.800000</td>\n",
       "    </tr>\n",
       "    <tr>\n",
       "      <th>2018-03-01 06:00:00</th>\n",
       "      <td>12</td>\n",
       "      <td>2018</td>\n",
       "      <td>3</td>\n",
       "      <td>3</td>\n",
       "      <td>6</td>\n",
       "      <td>6.0</td>\n",
       "      <td>43.0</td>\n",
       "      <td>66.0</td>\n",
       "      <td>71.0</td>\n",
       "      <td>85.0</td>\n",
       "      <td>65.833333</td>\n",
       "    </tr>\n",
       "    <tr>\n",
       "      <th>2018-03-01 07:00:00</th>\n",
       "      <td>15</td>\n",
       "      <td>2018</td>\n",
       "      <td>3</td>\n",
       "      <td>3</td>\n",
       "      <td>7</td>\n",
       "      <td>12.0</td>\n",
       "      <td>6.0</td>\n",
       "      <td>43.0</td>\n",
       "      <td>66.0</td>\n",
       "      <td>71.0</td>\n",
       "      <td>58.142857</td>\n",
       "    </tr>\n",
       "    <tr>\n",
       "      <th>2018-03-01 08:00:00</th>\n",
       "      <td>34</td>\n",
       "      <td>2018</td>\n",
       "      <td>3</td>\n",
       "      <td>3</td>\n",
       "      <td>8</td>\n",
       "      <td>15.0</td>\n",
       "      <td>12.0</td>\n",
       "      <td>6.0</td>\n",
       "      <td>43.0</td>\n",
       "      <td>66.0</td>\n",
       "      <td>52.750000</td>\n",
       "    </tr>\n",
       "    <tr>\n",
       "      <th>2018-03-01 09:00:00</th>\n",
       "      <td>69</td>\n",
       "      <td>2018</td>\n",
       "      <td>3</td>\n",
       "      <td>3</td>\n",
       "      <td>9</td>\n",
       "      <td>34.0</td>\n",
       "      <td>15.0</td>\n",
       "      <td>12.0</td>\n",
       "      <td>6.0</td>\n",
       "      <td>43.0</td>\n",
       "      <td>50.666667</td>\n",
       "    </tr>\n",
       "  </tbody>\n",
       "</table>\n",
       "</div>"
      ],
      "text/plain": [
       "                     num_orders  year  month  dayofweek  hour  lag1  lag2  \\\n",
       "datetime                                                                    \n",
       "2018-03-01 05:00:00           6  2018      3          3     5  43.0  66.0   \n",
       "2018-03-01 06:00:00          12  2018      3          3     6   6.0  43.0   \n",
       "2018-03-01 07:00:00          15  2018      3          3     7  12.0   6.0   \n",
       "2018-03-01 08:00:00          34  2018      3          3     8  15.0  12.0   \n",
       "2018-03-01 09:00:00          69  2018      3          3     9  34.0  15.0   \n",
       "\n",
       "                     lag3  lag4   lag5  rolling_mean  \n",
       "datetime                                              \n",
       "2018-03-01 05:00:00  71.0  85.0  124.0     77.800000  \n",
       "2018-03-01 06:00:00  66.0  71.0   85.0     65.833333  \n",
       "2018-03-01 07:00:00  43.0  66.0   71.0     58.142857  \n",
       "2018-03-01 08:00:00   6.0  43.0   66.0     52.750000  \n",
       "2018-03-01 09:00:00  12.0   6.0   43.0     50.666667  "
      ]
     },
     "execution_count": 14,
     "metadata": {},
     "output_type": "execute_result"
    }
   ],
   "source": [
    "df_new.head()"
   ]
  },
  {
   "cell_type": "code",
   "execution_count": 15,
   "metadata": {},
   "outputs": [
    {
     "data": {
      "text/plain": [
       "<AxesSubplot:xlabel='datetime'>"
      ]
     },
     "execution_count": 15,
     "metadata": {},
     "output_type": "execute_result"
    },
    {
     "data": {
      "image/png": "[encoded data removed]",
      "text/plain": [
       "<Figure size 432x288 with 1 Axes>"
      ]
     },
     "metadata": {
      "needs_background": "light"
     },
     "output_type": "display_data"
    }
   ],
   "source": [
    "df_new['num_orders'].plot()\n",
    "df_new['rolling_mean'].plot()\n"
   ]
  },
  {
   "cell_type": "code",
   "execution_count": 16,
   "metadata": {},
   "outputs": [],
   "source": [
    "features = df_new.drop(['num_orders'], axis=1)\n",
    "target = df_new['num_orders']"
   ]
  },
  {
   "cell_type": "code",
   "execution_count": 17,
   "metadata": {
    "scrolled": true
   },
   "outputs": [],
   "source": [
    "features_train, features_valid, target_train, target_valid = train_test_split(features, target, shuffle=False, test_size=0.2)"
   ]
  },
  {
   "cell_type": "code",
   "execution_count": 18,
   "metadata": {},
   "outputs": [],
   "source": [
    "features_valid, features_test, target_valid, target_test = train_test_split(features_valid, target_valid, shuffle=False, test_size=0.5)"
   ]
  },
  {
   "cell_type": "code",
   "execution_count": 19,
   "metadata": {},
   "outputs": [
    {
     "name": "stdout",
     "output_type": "stream",
     "text": [
      "train: 2018-03-01 05:00:00 2018-07-26 04:00:00\n",
      "valid: 2018-07-26 05:00:00 2018-08-13 13:00:00\n",
      "test: 2018-08-13 14:00:00 2018-08-31 23:00:00\n"
     ]
    }
   ],
   "source": [
    "print('train:', features_train.index.min(), features_train.index.max())\n",
    "print('valid:', features_valid.index.min(), features_valid.index.max())\n",
    "print('test:', features_test.index.min(), features_test.index.max())"
   ]
  },
  {
   "cell_type": "markdown",
   "metadata": {},
   "source": [
    "**Выводы:**\n",
    "* тренд отражает постепенный рост \n",
    "* для сглаживания минимальных и максимальных значений применяется скользящее среднее с периодом 7 дней.\n",
    "* целевой признак отделен\n",
    "* данные поделены на обучающую, валидационную и тестовую выборки в соотношении 80:10:10"
   ]
  },
  {
   "cell_type": "markdown",
   "metadata": {},
   "source": [
    "## Обучение"
   ]
  },
  {
   "cell_type": "code",
   "execution_count": 20,
   "metadata": {},
   "outputs": [
    {
     "name": "stdout",
     "output_type": "stream",
     "text": [
      "40.42689384611972\n"
     ]
    }
   ],
   "source": [
    "lr = LinearRegression()\n",
    "lr.fit(features_train, target_train)\n",
    "prediction = lr.predict(features_valid)\n",
    "result_lr = mean_squared_error(prediction, target_valid) **0.5\n",
    "print(result_lr)"
   ]
  },
  {
   "cell_type": "markdown",
   "metadata": {},
   "source": [
    "Линейная регрессия сходу показала неплохой результат"
   ]
  },
  {
   "cell_type": "code",
   "execution_count": 25,
   "metadata": {
    "scrolled": true
   },
   "outputs": [
    {
     "name": "stderr",
     "output_type": "stream",
     "text": [
      "Custom logger is already specified. Specify more than one logger at same time is not thread safe."
     ]
    },
    {
     "name": "stdout",
     "output_type": "stream",
     "text": [
      "32.15517591471562\n",
      "CPU times: user 25min 36s, sys: 14min 51s, total: 40min 27s\n",
      "Wall time: 41min 43s\n"
     ]
    }
   ],
   "source": [
    "%%time\n",
    "model = CatBoostRegressor(loss_function='RMSE')\n",
    "tscv = TimeSeriesSplit(n_splits=5)\n",
    "param_grid = {'max_depth' : [0, 10, 15], \n",
    "              'n_estimators' : [150,500]}\n",
    "cat_model = GridSearchCV(estimator=model, param_grid=param_grid, cv=tscv)\n",
    "cat_model.fit(features_train, target_train, verbose=False)\n",
    "prediction = cat_model.predict(features_valid)\n",
    "result_cb = mean_squared_error(prediction, target_valid) **0.5\n",
    "print(result_cb)"
   ]
  },
  {
   "cell_type": "code",
   "execution_count": 26,
   "metadata": {
    "scrolled": true
   },
   "outputs": [
    {
     "data": {
      "text/plain": [
       "{'max_depth': 10, 'n_estimators': 500}"
      ]
     },
     "execution_count": 26,
     "metadata": {},
     "output_type": "execute_result"
    }
   ],
   "source": [
    "cat_model.best_params_"
   ]
  },
  {
   "cell_type": "markdown",
   "metadata": {},
   "source": [
    "Модель CatBoost с подбором параметров показывает хороший результат, но времени на обучение требует много."
   ]
  },
  {
   "cell_type": "code",
   "execution_count": 27,
   "metadata": {},
   "outputs": [
    {
     "name": "stdout",
     "output_type": "stream",
     "text": [
      "31.658553242800807\n",
      "CPU times: user 1h 50min 7s, sys: 1min 6s, total: 1h 51min 13s\n",
      "Wall time: 1h 51min 54s\n"
     ]
    }
   ],
   "source": [
    "%%time\n",
    "modelLight = LGBMRegressor(random_state = 12345)\n",
    "param_grid = {'max_depth' : [0, 10, 15], \n",
    "              'n_estimators' : [150,500]}\n",
    "model_lgbm = GridSearchCV(estimator=modelLight, param_grid=param_grid, cv=tscv)\n",
    "model_lgbm.fit(features_train, target_train)\n",
    "prediction = model_lgbm.predict(features_valid)\n",
    "result_lgbm = mean_squared_error(prediction, target_valid) **0.5\n",
    "print(result_lgbm)\n"
   ]
  },
  {
   "cell_type": "code",
   "execution_count": 28,
   "metadata": {
    "scrolled": false
   },
   "outputs": [
    {
     "data": {
      "text/plain": [
       "{'max_depth': 0, 'n_estimators': 150}"
      ]
     },
     "execution_count": 28,
     "metadata": {},
     "output_type": "execute_result"
    }
   ],
   "source": [
    "model_lgbm.best_params_"
   ]
  },
  {
   "cell_type": "markdown",
   "metadata": {},
   "source": [
    "Данная модель имеет самый лучший результат."
   ]
  },
  {
   "cell_type": "code",
   "execution_count": 69,
   "metadata": {},
   "outputs": [
    {
     "data": {
      "text/html": [
       "<div>\n",
       "<style scoped>\n",
       "    .dataframe tbody tr th:only-of-type {\n",
       "        vertical-align: middle;\n",
       "    }\n",
       "\n",
       "    .dataframe tbody tr th {\n",
       "        vertical-align: top;\n",
       "    }\n",
       "\n",
       "    .dataframe thead th {\n",
       "        text-align: right;\n",
       "    }\n",
       "</style>\n",
       "<table border=\"1\" class=\"dataframe\">\n",
       "  <thead>\n",
       "    <tr style=\"text-align: right;\">\n",
       "      <th></th>\n",
       "      <th>model</th>\n",
       "      <th>RMSE</th>\n",
       "      <th>time to learn</th>\n",
       "    </tr>\n",
       "  </thead>\n",
       "  <tbody>\n",
       "    <tr>\n",
       "      <th>0</th>\n",
       "      <td>catboost</td>\n",
       "      <td>32.155176</td>\n",
       "      <td>41min 43s</td>\n",
       "    </tr>\n",
       "    <tr>\n",
       "      <th>1</th>\n",
       "      <td>LigthGBM</td>\n",
       "      <td>31.658553</td>\n",
       "      <td>1h 51min</td>\n",
       "    </tr>\n",
       "    <tr>\n",
       "      <th>2</th>\n",
       "      <td>LinearRegression</td>\n",
       "      <td>50.021109</td>\n",
       "      <td>-</td>\n",
       "    </tr>\n",
       "  </tbody>\n",
       "</table>\n",
       "</div>"
      ],
      "text/plain": [
       "              model       RMSE time to learn\n",
       "0          catboost  32.155176     41min 43s\n",
       "1          LigthGBM  31.658553      1h 51min\n",
       "2  LinearRegression  50.021109             -"
      ]
     },
     "metadata": {},
     "output_type": "display_data"
    }
   ],
   "source": [
    "r = pd.DataFrame([['catboost', result_cb, '41min 43s'],\n",
    "                 ['LigthGBM', result_lgbm, '1h 51min'],\n",
    "                 ['LinearRegression', result_lr, '-'],\n",
    "                 ], \n",
    "                columns=['model', 'RMSE', 'time to learn'])\n",
    "display(r)"
   ]
  },
  {
   "cell_type": "markdown",
   "metadata": {},
   "source": [
    "## Тестирование"
   ]
  },
  {
   "cell_type": "code",
   "execution_count": 38,
   "metadata": {},
   "outputs": [],
   "source": [
    "features_concat = pd.concat([features_train, features_valid], axis=0)\n",
    "features_concat.sort_index(inplace=True)\n",
    "target_concat = pd.concat([target_train, target_valid], axis=0)\n",
    "target_concat.sort_index(inplace=True)\n"
   ]
  },
  {
   "cell_type": "code",
   "execution_count": 39,
   "metadata": {
    "scrolled": true
   },
   "outputs": [
    {
     "name": "stdout",
     "output_type": "stream",
     "text": [
      "42.418463727219255\n"
     ]
    }
   ],
   "source": [
    "lgbm_model = LGBMRegressor(random_state = 12345, max_depth=0, n_estimators=150).fit(features_concat, target_concat)\n",
    "target_test['lgbm_prediction'] = lgbm_model.predict(features_test)\n",
    "lgbm_result = mean_squared_error(target_test['lgbm_prediction'], target_test) **0.5\n",
    "print(lgbm_result)"
   ]
  },
  {
   "cell_type": "markdown",
   "metadata": {},
   "source": [
    "Подходящий по качеству вариант, но времени на обучение трубует много"
   ]
  },
  {
   "cell_type": "code",
   "execution_count": 47,
   "metadata": {},
   "outputs": [
    {
     "name": "stdout",
     "output_type": "stream",
     "text": [
      "48.81219192647887\n"
     ]
    }
   ],
   "source": [
    "cat_model = CatBoostRegressor(max_depth=10, n_estimators=500, loss_function='RMSE', verbose=False)\n",
    "cat_model.fit(features_concat, target_concat)\n",
    "cat_prediction = cat_model.predict(features_test)\n",
    "cat_result = mean_squared_error(cat_prediction, target_test) **0.5\n",
    "print(cat_result)"
   ]
  },
  {
   "cell_type": "code",
   "execution_count": 49,
   "metadata": {},
   "outputs": [],
   "source": [
    "lr = LinearRegression()\n",
    "lr.fit(features_concat, target_concat)\n",
    "lr_prediction = lr.predict(features_test)\n",
    "result_lr = mean_squared_error(lr_prediction, target_test) **0.5"
   ]
  },
  {
   "cell_type": "code",
   "execution_count": 50,
   "metadata": {
    "scrolled": true
   },
   "outputs": [
    {
     "name": "stdout",
     "output_type": "stream",
     "text": [
      "50.02110904933349\n"
     ]
    }
   ],
   "source": [
    "print(mean_squared_error(target_test, lr.predict(features_test))**0.5)"
   ]
  },
  {
   "cell_type": "code",
   "execution_count": 61,
   "metadata": {},
   "outputs": [],
   "source": [
    "lgbm_prediction = pd.DataFrame(lgbm_prediction, index=target_test.index)"
   ]
  },
  {
   "cell_type": "code",
   "execution_count": 63,
   "metadata": {},
   "outputs": [],
   "source": [
    "cat_prediction = pd.DataFrame(cat_prediction, index=target_test.index)"
   ]
  },
  {
   "cell_type": "code",
   "execution_count": 64,
   "metadata": {},
   "outputs": [],
   "source": [
    "lr_prediction = pd.DataFrame(lr_prediction, index=target_test.index)"
   ]
  },
  {
   "cell_type": "code",
   "execution_count": 72,
   "metadata": {
    "scrolled": false
   },
   "outputs": [
    {
     "data": {
      "text/plain": [
       "[<matplotlib.lines.Line2D at 0x7fc2db7b44f0>]"
      ]
     },
     "execution_count": 72,
     "metadata": {},
     "output_type": "execute_result"
    },
    {
     "data": {
      "image/png": "[encoded data removed]",
      "text/plain": [
       "<Figure size 1224x648 with 1 Axes>"
      ]
     },
     "metadata": {
      "needs_background": "light"
     },
     "output_type": "display_data"
    }
   ],
   "source": [
    "plt.figure(figsize=(17, 9))\n",
    "plt.title('Сравнение Предсказаний модели LigthGBM и целевого признака')\n",
    "plt.plot(target_test, label='target_test', color='blue')\n",
    "plt.plot(lgbm_prediction, label='prediction', color='black')\n"
   ]
  },
  {
   "cell_type": "markdown",
   "metadata": {},
   "source": [
    "**Выводы:**\n",
    "* данные обработаны (приведены к нужному типу, отсортированы и проверены на хронологичность)\n",
    "* изменен интервал временного ряда в пределах часа\n",
    "* тренд данных отражает постепенный рост\n",
    "* рассчитано скользящее среднее с периодом 7 дней.\n",
    "* данные поделены на обучающую, валидационную и тестовую выборки в соотношении 80:10:10\n",
    "* обучены несколько моделей. Лучший результат у модели LigthGBM - 31.658553\n",
    "* объединены обучающие и валидационные данные \n",
    "* проведено переобучение моделей на объединенных данные\n",
    "* лучший по качеству предсказаний является также модель LigthGBM - 42.418. Но врмени на обучение ей требуется достаточно много.\n",
    "* построен график для сравнения предсказанных показателей модели LigthGBM и целевого признака"
   ]
  }
 ],
 "metadata": {
  "ExecuteTimeLog": [
   {
    "duration": 460,
    "start_time": "2022-04-12T11:19:57.871Z"
   },
   {
    "duration": 68,
    "start_time": "2022-04-12T11:20:16.693Z"
   },
   {
    "duration": 31,
    "start_time": "2022-04-12T11:20:26.348Z"
   },
   {
    "duration": 15,
    "start_time": "2022-04-12T11:20:38.999Z"
   },
   {
    "duration": 13,
    "start_time": "2022-04-12T11:21:04.968Z"
   },
   {
    "duration": 14,
    "start_time": "2022-04-12T11:24:52.913Z"
   },
   {
    "duration": 6,
    "start_time": "2022-04-12T11:25:17.919Z"
   },
   {
    "duration": 4,
    "start_time": "2022-04-12T11:25:46.987Z"
   },
   {
    "duration": 10,
    "start_time": "2022-04-12T11:26:22.782Z"
   },
   {
    "duration": 5,
    "start_time": "2022-04-12T11:26:30.342Z"
   },
   {
    "duration": 7,
    "start_time": "2022-04-12T11:27:34.399Z"
   },
   {
    "duration": 11,
    "start_time": "2022-04-12T11:28:49.081Z"
   },
   {
    "duration": 821298,
    "start_time": "2022-04-12T11:29:13.293Z"
   },
   {
    "duration": 0,
    "start_time": "2022-04-12T11:42:54.594Z"
   },
   {
    "duration": 0,
    "start_time": "2022-04-12T11:42:54.595Z"
   },
   {
    "duration": 1298,
    "start_time": "2022-04-12T11:43:10.750Z"
   },
   {
    "duration": 30,
    "start_time": "2022-04-12T11:43:12.050Z"
   },
   {
    "duration": 15,
    "start_time": "2022-04-12T11:43:12.082Z"
   },
   {
    "duration": 30,
    "start_time": "2022-04-12T11:43:12.099Z"
   },
   {
    "duration": 11,
    "start_time": "2022-04-12T11:43:12.136Z"
   },
   {
    "duration": 10,
    "start_time": "2022-04-12T11:43:12.149Z"
   },
   {
    "duration": 11,
    "start_time": "2022-04-12T11:43:12.161Z"
   },
   {
    "duration": 11,
    "start_time": "2022-04-12T11:43:12.175Z"
   },
   {
    "duration": 12,
    "start_time": "2022-04-12T11:43:12.188Z"
   },
   {
    "duration": 119,
    "start_time": "2022-04-12T11:43:12.203Z"
   },
   {
    "duration": 438,
    "start_time": "2022-04-12T11:44:48.045Z"
   },
   {
    "duration": 18,
    "start_time": "2022-04-12T11:52:31.224Z"
   },
   {
    "duration": 1288,
    "start_time": "2022-04-12T11:52:40.621Z"
   },
   {
    "duration": 38,
    "start_time": "2022-04-12T11:52:41.911Z"
   },
   {
    "duration": 18,
    "start_time": "2022-04-12T11:52:41.952Z"
   },
   {
    "duration": 14,
    "start_time": "2022-04-12T11:52:41.973Z"
   },
   {
    "duration": 34,
    "start_time": "2022-04-12T11:52:41.990Z"
   },
   {
    "duration": 14,
    "start_time": "2022-04-12T11:52:42.026Z"
   },
   {
    "duration": 26,
    "start_time": "2022-04-12T11:52:42.042Z"
   },
   {
    "duration": 13,
    "start_time": "2022-04-12T11:52:42.070Z"
   },
   {
    "duration": 18,
    "start_time": "2022-04-12T11:52:42.086Z"
   },
   {
    "duration": 25,
    "start_time": "2022-04-12T11:52:42.107Z"
   },
   {
    "duration": 120,
    "start_time": "2022-04-12T11:52:42.134Z"
   },
   {
    "duration": 1386,
    "start_time": "2022-04-12T19:59:13.941Z"
   },
   {
    "duration": 43,
    "start_time": "2022-04-12T19:59:15.330Z"
   },
   {
    "duration": 16,
    "start_time": "2022-04-12T19:59:15.375Z"
   },
   {
    "duration": 24,
    "start_time": "2022-04-12T19:59:15.394Z"
   },
   {
    "duration": 15,
    "start_time": "2022-04-12T19:59:15.421Z"
   },
   {
    "duration": 10,
    "start_time": "2022-04-12T19:59:15.438Z"
   },
   {
    "duration": 8,
    "start_time": "2022-04-12T19:59:15.450Z"
   },
   {
    "duration": 12,
    "start_time": "2022-04-12T19:59:15.460Z"
   },
   {
    "duration": 14,
    "start_time": "2022-04-12T19:59:15.474Z"
   },
   {
    "duration": 27,
    "start_time": "2022-04-12T19:59:15.491Z"
   },
   {
    "duration": 123,
    "start_time": "2022-04-12T19:59:15.521Z"
   },
   {
    "duration": 7,
    "start_time": "2022-04-12T20:15:53.103Z"
   },
   {
    "duration": 1259,
    "start_time": "2022-04-12T20:17:56.242Z"
   },
   {
    "duration": 31,
    "start_time": "2022-04-12T20:17:57.503Z"
   },
   {
    "duration": 14,
    "start_time": "2022-04-12T20:17:57.537Z"
   },
   {
    "duration": 13,
    "start_time": "2022-04-12T20:17:57.554Z"
   },
   {
    "duration": 20,
    "start_time": "2022-04-12T20:17:57.569Z"
   },
   {
    "duration": 11,
    "start_time": "2022-04-12T20:17:57.591Z"
   },
   {
    "duration": 17,
    "start_time": "2022-04-12T20:17:57.604Z"
   },
   {
    "duration": 19,
    "start_time": "2022-04-12T20:17:57.623Z"
   },
   {
    "duration": 21,
    "start_time": "2022-04-12T20:17:57.644Z"
   },
   {
    "duration": 8,
    "start_time": "2022-04-12T20:17:57.668Z"
   },
   {
    "duration": 740,
    "start_time": "2022-04-12T20:17:57.678Z"
   },
   {
    "duration": 8,
    "start_time": "2022-04-12T20:17:58.420Z"
   },
   {
    "duration": 124,
    "start_time": "2022-04-12T20:17:58.430Z"
   },
   {
    "duration": 254,
    "start_time": "2022-04-12T20:18:46.650Z"
   },
   {
    "duration": 1331,
    "start_time": "2022-04-12T20:22:10.795Z"
   },
   {
    "duration": 32,
    "start_time": "2022-04-12T20:22:12.128Z"
   },
   {
    "duration": 15,
    "start_time": "2022-04-12T20:22:12.163Z"
   },
   {
    "duration": 18,
    "start_time": "2022-04-12T20:22:12.180Z"
   },
   {
    "duration": 22,
    "start_time": "2022-04-12T20:22:12.201Z"
   },
   {
    "duration": 12,
    "start_time": "2022-04-12T20:22:12.226Z"
   },
   {
    "duration": 11,
    "start_time": "2022-04-12T20:22:12.240Z"
   },
   {
    "duration": 10,
    "start_time": "2022-04-12T20:22:12.253Z"
   },
   {
    "duration": 14,
    "start_time": "2022-04-12T20:22:12.265Z"
   },
   {
    "duration": 14,
    "start_time": "2022-04-12T20:22:12.282Z"
   },
   {
    "duration": 577,
    "start_time": "2022-04-12T20:22:12.298Z"
   },
   {
    "duration": 7,
    "start_time": "2022-04-12T20:22:12.877Z"
   },
   {
    "duration": 289,
    "start_time": "2022-04-12T20:22:12.886Z"
   },
   {
    "duration": 134,
    "start_time": "2022-04-12T20:22:13.177Z"
   },
   {
    "duration": 8,
    "start_time": "2022-04-12T20:23:08.994Z"
   },
   {
    "duration": 6,
    "start_time": "2022-04-12T20:23:17.924Z"
   },
   {
    "duration": 6,
    "start_time": "2022-04-12T20:23:18.988Z"
   },
   {
    "duration": 6,
    "start_time": "2022-04-12T20:57:58.076Z"
   },
   {
    "duration": 6,
    "start_time": "2022-04-12T20:57:59.955Z"
   },
   {
    "duration": 330,
    "start_time": "2022-04-12T20:58:01.965Z"
   },
   {
    "duration": 5,
    "start_time": "2022-04-12T20:59:06.719Z"
   },
   {
    "duration": 6,
    "start_time": "2022-04-12T20:59:08.624Z"
   },
   {
    "duration": 336,
    "start_time": "2022-04-12T20:59:10.249Z"
   },
   {
    "duration": 5,
    "start_time": "2022-04-12T20:59:25.371Z"
   },
   {
    "duration": 6,
    "start_time": "2022-04-12T21:01:30.130Z"
   },
   {
    "duration": 6,
    "start_time": "2022-04-12T21:01:31.226Z"
   },
   {
    "duration": 253,
    "start_time": "2022-04-12T21:01:33.605Z"
   },
   {
    "duration": 5,
    "start_time": "2022-04-12T21:07:02.251Z"
   },
   {
    "duration": 23,
    "start_time": "2022-04-12T21:07:03.382Z"
   },
   {
    "duration": 8,
    "start_time": "2022-04-12T21:07:43.297Z"
   },
   {
    "duration": 62,
    "start_time": "2022-04-13T12:25:16.799Z"
   },
   {
    "duration": 1278,
    "start_time": "2022-04-13T12:25:25.854Z"
   },
   {
    "duration": 43,
    "start_time": "2022-04-13T12:25:27.134Z"
   },
   {
    "duration": 14,
    "start_time": "2022-04-13T12:25:27.179Z"
   },
   {
    "duration": 13,
    "start_time": "2022-04-13T12:25:27.196Z"
   },
   {
    "duration": 27,
    "start_time": "2022-04-13T12:25:27.211Z"
   },
   {
    "duration": 6,
    "start_time": "2022-04-13T12:25:27.248Z"
   },
   {
    "duration": 4,
    "start_time": "2022-04-13T12:25:27.257Z"
   },
   {
    "duration": 8,
    "start_time": "2022-04-13T12:25:27.262Z"
   },
   {
    "duration": 17,
    "start_time": "2022-04-13T12:25:27.272Z"
   },
   {
    "duration": 9,
    "start_time": "2022-04-13T12:25:27.293Z"
   },
   {
    "duration": 1076,
    "start_time": "2022-04-13T12:25:27.305Z"
   },
   {
    "duration": 10,
    "start_time": "2022-04-13T12:25:28.383Z"
   },
   {
    "duration": 8,
    "start_time": "2022-04-13T12:25:28.396Z"
   },
   {
    "duration": 422,
    "start_time": "2022-04-13T12:25:28.405Z"
   },
   {
    "duration": 12,
    "start_time": "2022-04-13T12:25:28.833Z"
   },
   {
    "duration": 12,
    "start_time": "2022-04-13T12:25:28.851Z"
   },
   {
    "duration": 168,
    "start_time": "2022-04-13T12:25:28.865Z"
   },
   {
    "duration": 21,
    "start_time": "2022-04-13T12:43:11.614Z"
   },
   {
    "duration": 12,
    "start_time": "2022-04-13T12:47:57.316Z"
   },
   {
    "duration": 1289,
    "start_time": "2022-04-13T12:49:53.736Z"
   },
   {
    "duration": 42,
    "start_time": "2022-04-13T12:49:55.027Z"
   },
   {
    "duration": 13,
    "start_time": "2022-04-13T12:49:55.071Z"
   },
   {
    "duration": 11,
    "start_time": "2022-04-13T12:49:55.086Z"
   },
   {
    "duration": 9,
    "start_time": "2022-04-13T12:49:55.099Z"
   },
   {
    "duration": 4,
    "start_time": "2022-04-13T12:49:55.110Z"
   },
   {
    "duration": 8,
    "start_time": "2022-04-13T12:49:55.115Z"
   },
   {
    "duration": 11,
    "start_time": "2022-04-13T12:49:55.125Z"
   },
   {
    "duration": 21,
    "start_time": "2022-04-13T12:49:55.137Z"
   },
   {
    "duration": 5,
    "start_time": "2022-04-13T12:49:55.163Z"
   },
   {
    "duration": 561,
    "start_time": "2022-04-13T12:49:55.170Z"
   },
   {
    "duration": 5,
    "start_time": "2022-04-13T12:49:55.735Z"
   },
   {
    "duration": 10,
    "start_time": "2022-04-13T12:49:55.741Z"
   },
   {
    "duration": 6,
    "start_time": "2022-04-13T12:49:55.754Z"
   },
   {
    "duration": 277,
    "start_time": "2022-04-13T12:49:55.763Z"
   },
   {
    "duration": 6,
    "start_time": "2022-04-13T12:49:56.042Z"
   },
   {
    "duration": 9,
    "start_time": "2022-04-13T12:49:56.050Z"
   },
   {
    "duration": 181,
    "start_time": "2022-04-13T12:49:56.060Z"
   },
   {
    "duration": 8,
    "start_time": "2022-04-13T12:50:09.753Z"
   },
   {
    "duration": 764,
    "start_time": "2022-04-13T12:51:13.587Z"
   },
   {
    "duration": 891,
    "start_time": "2022-04-13T12:52:24.883Z"
   },
   {
    "duration": 2958,
    "start_time": "2022-04-13T13:08:17.400Z"
   },
   {
    "duration": 43,
    "start_time": "2022-04-13T13:08:47.732Z"
   },
   {
    "duration": 5,
    "start_time": "2022-04-13T13:09:03.371Z"
   },
   {
    "duration": 16,
    "start_time": "2022-04-13T13:09:04.658Z"
   },
   {
    "duration": 24,
    "start_time": "2022-04-13T13:09:31.918Z"
   },
   {
    "duration": 8,
    "start_time": "2022-04-13T13:11:00.021Z"
   },
   {
    "duration": 6,
    "start_time": "2022-04-13T13:11:00.839Z"
   },
   {
    "duration": 14,
    "start_time": "2022-04-13T13:12:42.230Z"
   },
   {
    "duration": 10,
    "start_time": "2022-04-13T13:13:13.280Z"
   },
   {
    "duration": 1284,
    "start_time": "2022-04-13T13:13:36.767Z"
   },
   {
    "duration": 40,
    "start_time": "2022-04-13T13:13:38.053Z"
   },
   {
    "duration": 19,
    "start_time": "2022-04-13T13:13:38.094Z"
   },
   {
    "duration": 21,
    "start_time": "2022-04-13T13:13:38.115Z"
   },
   {
    "duration": 16,
    "start_time": "2022-04-13T13:13:38.144Z"
   },
   {
    "duration": 5,
    "start_time": "2022-04-13T13:13:38.163Z"
   },
   {
    "duration": 4,
    "start_time": "2022-04-13T13:13:38.170Z"
   },
   {
    "duration": 5,
    "start_time": "2022-04-13T13:13:38.176Z"
   },
   {
    "duration": 10,
    "start_time": "2022-04-13T13:13:38.183Z"
   },
   {
    "duration": 5,
    "start_time": "2022-04-13T13:13:38.195Z"
   },
   {
    "duration": 608,
    "start_time": "2022-04-13T13:13:38.223Z"
   },
   {
    "duration": 4,
    "start_time": "2022-04-13T13:13:38.835Z"
   },
   {
    "duration": 15,
    "start_time": "2022-04-13T13:13:38.842Z"
   },
   {
    "duration": 8,
    "start_time": "2022-04-13T13:13:38.861Z"
   },
   {
    "duration": 291,
    "start_time": "2022-04-13T13:13:38.871Z"
   },
   {
    "duration": 7,
    "start_time": "2022-04-13T13:13:39.165Z"
   },
   {
    "duration": 9,
    "start_time": "2022-04-13T13:13:39.173Z"
   },
   {
    "duration": 1044,
    "start_time": "2022-04-13T13:13:39.183Z"
   },
   {
    "duration": 6,
    "start_time": "2022-04-13T13:13:40.229Z"
   },
   {
    "duration": 8,
    "start_time": "2022-04-13T13:13:40.237Z"
   },
   {
    "duration": 9,
    "start_time": "2022-04-13T13:13:40.249Z"
   },
   {
    "duration": 169,
    "start_time": "2022-04-13T13:13:40.264Z"
   },
   {
    "duration": 13,
    "start_time": "2022-04-13T13:16:47.023Z"
   },
   {
    "duration": 6,
    "start_time": "2022-04-13T13:17:57.340Z"
   },
   {
    "duration": 4,
    "start_time": "2022-04-13T13:17:58.277Z"
   },
   {
    "duration": 1303,
    "start_time": "2022-04-13T13:18:06.530Z"
   },
   {
    "duration": 33,
    "start_time": "2022-04-13T13:18:07.838Z"
   },
   {
    "duration": 17,
    "start_time": "2022-04-13T13:18:07.873Z"
   },
   {
    "duration": 11,
    "start_time": "2022-04-13T13:18:07.892Z"
   },
   {
    "duration": 12,
    "start_time": "2022-04-13T13:18:07.905Z"
   },
   {
    "duration": 6,
    "start_time": "2022-04-13T13:18:07.919Z"
   },
   {
    "duration": 14,
    "start_time": "2022-04-13T13:18:07.927Z"
   },
   {
    "duration": 6,
    "start_time": "2022-04-13T13:18:07.943Z"
   },
   {
    "duration": 14,
    "start_time": "2022-04-13T13:18:07.951Z"
   },
   {
    "duration": 10,
    "start_time": "2022-04-13T13:18:07.967Z"
   },
   {
    "duration": 600,
    "start_time": "2022-04-13T13:18:07.978Z"
   },
   {
    "duration": 3,
    "start_time": "2022-04-13T13:18:08.579Z"
   },
   {
    "duration": 9,
    "start_time": "2022-04-13T13:18:08.584Z"
   },
   {
    "duration": 9,
    "start_time": "2022-04-13T13:18:08.595Z"
   },
   {
    "duration": 267,
    "start_time": "2022-04-13T13:18:08.606Z"
   },
   {
    "duration": 6,
    "start_time": "2022-04-13T13:18:08.875Z"
   },
   {
    "duration": 20,
    "start_time": "2022-04-13T13:18:08.882Z"
   },
   {
    "duration": 1164,
    "start_time": "2022-04-13T13:18:08.904Z"
   },
   {
    "duration": 5,
    "start_time": "2022-04-13T13:18:10.070Z"
   },
   {
    "duration": 22,
    "start_time": "2022-04-13T13:18:10.076Z"
   },
   {
    "duration": 15,
    "start_time": "2022-04-13T13:18:10.100Z"
   },
   {
    "duration": 13,
    "start_time": "2022-04-13T13:18:10.117Z"
   },
   {
    "duration": 31,
    "start_time": "2022-04-13T13:19:11.475Z"
   },
   {
    "duration": 1080,
    "start_time": "2022-04-13T19:17:31.269Z"
   },
   {
    "duration": 44,
    "start_time": "2022-04-13T19:17:32.351Z"
   },
   {
    "duration": 12,
    "start_time": "2022-04-13T19:17:32.397Z"
   },
   {
    "duration": 11,
    "start_time": "2022-04-13T19:17:32.412Z"
   },
   {
    "duration": 9,
    "start_time": "2022-04-13T19:17:32.424Z"
   },
   {
    "duration": 8,
    "start_time": "2022-04-13T19:17:32.434Z"
   },
   {
    "duration": 6,
    "start_time": "2022-04-13T19:17:32.443Z"
   },
   {
    "duration": 5,
    "start_time": "2022-04-13T19:17:32.451Z"
   },
   {
    "duration": 12,
    "start_time": "2022-04-13T19:17:32.458Z"
   },
   {
    "duration": 6,
    "start_time": "2022-04-13T19:17:32.472Z"
   },
   {
    "duration": 674,
    "start_time": "2022-04-13T19:17:32.479Z"
   },
   {
    "duration": 4,
    "start_time": "2022-04-13T19:17:33.155Z"
   },
   {
    "duration": 9,
    "start_time": "2022-04-13T19:17:33.160Z"
   },
   {
    "duration": 9,
    "start_time": "2022-04-13T19:17:33.170Z"
   },
   {
    "duration": 244,
    "start_time": "2022-04-13T19:17:33.180Z"
   },
   {
    "duration": 5,
    "start_time": "2022-04-13T19:17:33.425Z"
   },
   {
    "duration": 15,
    "start_time": "2022-04-13T19:17:33.432Z"
   },
   {
    "duration": 1053,
    "start_time": "2022-04-13T19:17:33.449Z"
   },
   {
    "duration": 4,
    "start_time": "2022-04-13T19:17:34.504Z"
   },
   {
    "duration": 5,
    "start_time": "2022-04-13T19:17:34.510Z"
   },
   {
    "duration": 3,
    "start_time": "2022-04-13T19:17:34.516Z"
   },
   {
    "duration": 5,
    "start_time": "2022-04-13T19:17:34.521Z"
   },
   {
    "duration": 205,
    "start_time": "2022-04-13T19:17:34.527Z"
   },
   {
    "duration": 88,
    "start_time": "2022-04-13T19:20:43.252Z"
   },
   {
    "duration": 4,
    "start_time": "2022-04-13T19:51:44.616Z"
   },
   {
    "duration": 11,
    "start_time": "2022-04-13T19:53:38.049Z"
   },
   {
    "duration": 13,
    "start_time": "2022-04-13T19:53:58.977Z"
   },
   {
    "duration": 7,
    "start_time": "2022-04-13T19:55:03.407Z"
   },
   {
    "duration": 15,
    "start_time": "2022-04-13T19:55:04.674Z"
   },
   {
    "duration": 578,
    "start_time": "2022-04-13T19:55:35.659Z"
   },
   {
    "duration": 8,
    "start_time": "2022-04-13T19:57:22.140Z"
   },
   {
    "duration": 6,
    "start_time": "2022-04-13T19:57:23.161Z"
   },
   {
    "duration": 15,
    "start_time": "2022-04-13T19:57:24.176Z"
   },
   {
    "duration": 656,
    "start_time": "2022-04-13T19:57:25.890Z"
   },
   {
    "duration": 11,
    "start_time": "2022-04-13T19:58:27.873Z"
   },
   {
    "duration": 210,
    "start_time": "2022-04-13T19:58:58.280Z"
   },
   {
    "duration": 3,
    "start_time": "2022-04-13T20:00:54.668Z"
   },
   {
    "duration": 219,
    "start_time": "2022-04-13T20:01:36.696Z"
   },
   {
    "duration": 296,
    "start_time": "2022-04-13T20:02:06.922Z"
   },
   {
    "duration": 225,
    "start_time": "2022-04-13T20:02:21.114Z"
   },
   {
    "duration": 214,
    "start_time": "2022-04-13T20:02:35.968Z"
   },
   {
    "duration": 217,
    "start_time": "2022-04-13T20:02:46.056Z"
   },
   {
    "duration": 203,
    "start_time": "2022-04-13T20:02:57.457Z"
   },
   {
    "duration": 915,
    "start_time": "2022-04-13T20:07:38.546Z"
   },
   {
    "duration": 1079,
    "start_time": "2022-04-13T20:09:02.794Z"
   },
   {
    "duration": 560,
    "start_time": "2022-04-13T20:09:11.097Z"
   },
   {
    "duration": 710,
    "start_time": "2022-04-13T20:10:24.138Z"
   },
   {
    "duration": 731,
    "start_time": "2022-04-13T20:11:39.280Z"
   },
   {
    "duration": 1394,
    "start_time": "2022-04-13T20:12:16.881Z"
   },
   {
    "duration": 26,
    "start_time": "2022-04-13T20:12:18.277Z"
   },
   {
    "duration": 11,
    "start_time": "2022-04-13T20:12:18.304Z"
   },
   {
    "duration": 20,
    "start_time": "2022-04-13T20:12:18.317Z"
   },
   {
    "duration": 9,
    "start_time": "2022-04-13T20:12:18.339Z"
   },
   {
    "duration": 18,
    "start_time": "2022-04-13T20:12:18.349Z"
   },
   {
    "duration": 17,
    "start_time": "2022-04-13T20:12:18.368Z"
   },
   {
    "duration": 12,
    "start_time": "2022-04-13T20:12:18.387Z"
   },
   {
    "duration": 20,
    "start_time": "2022-04-13T20:12:18.401Z"
   },
   {
    "duration": 108,
    "start_time": "2022-04-13T20:12:18.423Z"
   },
   {
    "duration": 0,
    "start_time": "2022-04-13T20:12:18.533Z"
   },
   {
    "duration": 0,
    "start_time": "2022-04-13T20:12:18.534Z"
   },
   {
    "duration": 0,
    "start_time": "2022-04-13T20:12:18.535Z"
   },
   {
    "duration": 0,
    "start_time": "2022-04-13T20:12:18.536Z"
   },
   {
    "duration": 0,
    "start_time": "2022-04-13T20:12:18.537Z"
   },
   {
    "duration": 0,
    "start_time": "2022-04-13T20:12:18.538Z"
   },
   {
    "duration": 0,
    "start_time": "2022-04-13T20:12:18.539Z"
   },
   {
    "duration": 0,
    "start_time": "2022-04-13T20:12:18.540Z"
   },
   {
    "duration": 0,
    "start_time": "2022-04-13T20:12:18.541Z"
   },
   {
    "duration": 0,
    "start_time": "2022-04-13T20:12:18.542Z"
   },
   {
    "duration": 1385,
    "start_time": "2022-04-13T20:12:39.207Z"
   },
   {
    "duration": 26,
    "start_time": "2022-04-13T20:12:40.594Z"
   },
   {
    "duration": 10,
    "start_time": "2022-04-13T20:12:40.622Z"
   },
   {
    "duration": 19,
    "start_time": "2022-04-13T20:12:40.634Z"
   },
   {
    "duration": 9,
    "start_time": "2022-04-13T20:12:40.654Z"
   },
   {
    "duration": 14,
    "start_time": "2022-04-13T20:12:40.664Z"
   },
   {
    "duration": 36,
    "start_time": "2022-04-13T20:12:40.679Z"
   },
   {
    "duration": 15,
    "start_time": "2022-04-13T20:12:40.717Z"
   },
   {
    "duration": 24,
    "start_time": "2022-04-13T20:12:40.733Z"
   },
   {
    "duration": 737,
    "start_time": "2022-04-13T20:12:40.759Z"
   },
   {
    "duration": 4,
    "start_time": "2022-04-13T20:12:41.498Z"
   },
   {
    "duration": 16,
    "start_time": "2022-04-13T20:12:41.505Z"
   },
   {
    "duration": 18,
    "start_time": "2022-04-13T20:12:41.522Z"
   },
   {
    "duration": 25,
    "start_time": "2022-04-13T20:12:41.542Z"
   },
   {
    "duration": 279,
    "start_time": "2022-04-13T20:12:41.569Z"
   },
   {
    "duration": 111,
    "start_time": "2022-04-13T20:12:41.850Z"
   },
   {
    "duration": 0,
    "start_time": "2022-04-13T20:12:41.962Z"
   },
   {
    "duration": 0,
    "start_time": "2022-04-13T20:12:41.963Z"
   },
   {
    "duration": 0,
    "start_time": "2022-04-13T20:12:41.964Z"
   },
   {
    "duration": 0,
    "start_time": "2022-04-13T20:12:41.965Z"
   },
   {
    "duration": 4,
    "start_time": "2022-04-13T20:13:46.377Z"
   },
   {
    "duration": 6,
    "start_time": "2022-04-13T20:13:47.732Z"
   },
   {
    "duration": 5,
    "start_time": "2022-04-13T20:13:48.643Z"
   },
   {
    "duration": 5,
    "start_time": "2022-04-13T20:13:49.617Z"
   },
   {
    "duration": 10,
    "start_time": "2022-04-13T20:13:53.371Z"
   },
   {
    "duration": 10,
    "start_time": "2022-04-13T20:14:20.256Z"
   },
   {
    "duration": 10,
    "start_time": "2022-04-13T20:25:24.083Z"
   },
   {
    "duration": 51,
    "start_time": "2022-04-13T20:25:54.549Z"
   },
   {
    "duration": 639,
    "start_time": "2022-04-13T20:26:06.744Z"
   },
   {
    "duration": 1816,
    "start_time": "2022-04-14T10:58:49.896Z"
   },
   {
    "duration": 34,
    "start_time": "2022-04-14T10:58:51.714Z"
   },
   {
    "duration": 11,
    "start_time": "2022-04-14T10:58:51.750Z"
   },
   {
    "duration": 20,
    "start_time": "2022-04-14T10:58:51.763Z"
   },
   {
    "duration": 9,
    "start_time": "2022-04-14T10:58:51.785Z"
   },
   {
    "duration": 18,
    "start_time": "2022-04-14T10:58:51.795Z"
   },
   {
    "duration": 16,
    "start_time": "2022-04-14T10:58:51.815Z"
   },
   {
    "duration": 19,
    "start_time": "2022-04-14T10:58:51.833Z"
   },
   {
    "duration": 14,
    "start_time": "2022-04-14T10:58:51.853Z"
   },
   {
    "duration": 1020,
    "start_time": "2022-04-14T10:58:51.870Z"
   },
   {
    "duration": 4,
    "start_time": "2022-04-14T10:58:52.892Z"
   },
   {
    "duration": 20,
    "start_time": "2022-04-14T10:58:52.898Z"
   },
   {
    "duration": 7,
    "start_time": "2022-04-14T10:58:52.920Z"
   },
   {
    "duration": 18,
    "start_time": "2022-04-14T10:58:52.929Z"
   },
   {
    "duration": 253,
    "start_time": "2022-04-14T10:58:52.948Z"
   },
   {
    "duration": 4,
    "start_time": "2022-04-14T10:58:53.203Z"
   },
   {
    "duration": 14,
    "start_time": "2022-04-14T10:58:53.209Z"
   },
   {
    "duration": 11,
    "start_time": "2022-04-14T10:58:53.224Z"
   },
   {
    "duration": 10,
    "start_time": "2022-04-14T10:58:53.237Z"
   },
   {
    "duration": 18,
    "start_time": "2022-04-14T10:58:53.249Z"
   },
   {
    "duration": 1401,
    "start_time": "2022-04-14T10:58:53.269Z"
   },
   {
    "duration": 119,
    "start_time": "2022-04-14T10:58:54.671Z"
   },
   {
    "duration": 4,
    "start_time": "2022-04-14T11:00:42.265Z"
   },
   {
    "duration": 8485,
    "start_time": "2022-04-14T11:00:48.475Z"
   },
   {
    "duration": 97556,
    "start_time": "2022-04-14T11:01:08.282Z"
   },
   {
    "duration": 1089,
    "start_time": "2022-04-14T11:03:58.912Z"
   },
   {
    "duration": 1043,
    "start_time": "2022-04-14T11:06:13.671Z"
   },
   {
    "duration": 1599,
    "start_time": "2022-04-14T11:06:22.120Z"
   },
   {
    "duration": 43,
    "start_time": "2022-04-14T11:06:23.721Z"
   },
   {
    "duration": 12,
    "start_time": "2022-04-14T11:06:23.766Z"
   },
   {
    "duration": 14,
    "start_time": "2022-04-14T11:06:23.780Z"
   },
   {
    "duration": 9,
    "start_time": "2022-04-14T11:06:23.795Z"
   },
   {
    "duration": 6,
    "start_time": "2022-04-14T11:06:23.806Z"
   },
   {
    "duration": 5,
    "start_time": "2022-04-14T11:06:23.813Z"
   },
   {
    "duration": 4,
    "start_time": "2022-04-14T11:06:23.834Z"
   },
   {
    "duration": 15,
    "start_time": "2022-04-14T11:06:23.839Z"
   },
   {
    "duration": 962,
    "start_time": "2022-04-14T11:06:23.856Z"
   },
   {
    "duration": 4,
    "start_time": "2022-04-14T11:06:24.820Z"
   },
   {
    "duration": 20,
    "start_time": "2022-04-14T11:06:24.825Z"
   },
   {
    "duration": 8,
    "start_time": "2022-04-14T11:06:24.846Z"
   },
   {
    "duration": 14,
    "start_time": "2022-04-14T11:06:24.856Z"
   },
   {
    "duration": 251,
    "start_time": "2022-04-14T11:06:24.872Z"
   },
   {
    "duration": 13,
    "start_time": "2022-04-14T11:06:25.124Z"
   },
   {
    "duration": 15,
    "start_time": "2022-04-14T11:06:25.139Z"
   },
   {
    "duration": 13,
    "start_time": "2022-04-14T11:06:25.156Z"
   },
   {
    "duration": 17,
    "start_time": "2022-04-14T11:06:25.171Z"
   },
   {
    "duration": 14,
    "start_time": "2022-04-14T11:06:25.190Z"
   },
   {
    "duration": 191,
    "start_time": "2022-04-14T11:06:25.206Z"
   },
   {
    "duration": 0,
    "start_time": "2022-04-14T11:06:25.400Z"
   },
   {
    "duration": 30,
    "start_time": "2022-04-14T11:06:35.203Z"
   },
   {
    "duration": 143612,
    "start_time": "2022-04-14T11:07:05.275Z"
   },
   {
    "duration": 116785,
    "start_time": "2022-04-14T11:09:54.158Z"
   },
   {
    "duration": 1637,
    "start_time": "2022-04-14T11:14:46.601Z"
   },
   {
    "duration": 34,
    "start_time": "2022-04-14T11:14:48.240Z"
   },
   {
    "duration": 11,
    "start_time": "2022-04-14T11:14:48.276Z"
   },
   {
    "duration": 27,
    "start_time": "2022-04-14T11:14:48.289Z"
   },
   {
    "duration": 20,
    "start_time": "2022-04-14T11:14:48.317Z"
   },
   {
    "duration": 16,
    "start_time": "2022-04-14T11:14:48.338Z"
   },
   {
    "duration": 21,
    "start_time": "2022-04-14T11:14:48.356Z"
   },
   {
    "duration": 14,
    "start_time": "2022-04-14T11:14:48.379Z"
   },
   {
    "duration": 25,
    "start_time": "2022-04-14T11:14:48.394Z"
   },
   {
    "duration": 883,
    "start_time": "2022-04-14T11:14:48.422Z"
   },
   {
    "duration": 5,
    "start_time": "2022-04-14T11:14:49.307Z"
   },
   {
    "duration": 24,
    "start_time": "2022-04-14T11:14:49.313Z"
   },
   {
    "duration": 16,
    "start_time": "2022-04-14T11:14:49.339Z"
   },
   {
    "duration": 14,
    "start_time": "2022-04-14T11:14:49.357Z"
   },
   {
    "duration": 243,
    "start_time": "2022-04-14T11:14:49.373Z"
   },
   {
    "duration": 4,
    "start_time": "2022-04-14T11:14:49.618Z"
   },
   {
    "duration": 10,
    "start_time": "2022-04-14T11:14:49.633Z"
   },
   {
    "duration": 19,
    "start_time": "2022-04-14T11:14:49.645Z"
   },
   {
    "duration": 11,
    "start_time": "2022-04-14T11:14:49.665Z"
   },
   {
    "duration": 28,
    "start_time": "2022-04-14T11:14:49.678Z"
   },
   {
    "duration": 11,
    "start_time": "2022-04-14T11:14:49.708Z"
   },
   {
    "duration": 0,
    "start_time": "2022-04-14T11:14:49.721Z"
   },
   {
    "duration": 5032897,
    "start_time": "2022-04-14T11:20:15.527Z"
   },
   {
    "duration": 247,
    "start_time": "2022-04-14T12:44:08.426Z"
   },
   {
    "duration": 2751764,
    "start_time": "2022-04-14T12:44:32.337Z"
   },
   {
    "duration": 2708,
    "start_time": "2022-04-15T10:13:42.899Z"
   },
   {
    "duration": 62,
    "start_time": "2022-04-15T10:13:45.610Z"
   },
   {
    "duration": 16,
    "start_time": "2022-04-15T10:13:45.674Z"
   },
   {
    "duration": 19,
    "start_time": "2022-04-15T10:13:45.694Z"
   },
   {
    "duration": 35,
    "start_time": "2022-04-15T10:13:45.715Z"
   },
   {
    "duration": 10,
    "start_time": "2022-04-15T10:13:45.753Z"
   },
   {
    "duration": 7,
    "start_time": "2022-04-15T10:13:45.765Z"
   },
   {
    "duration": 7,
    "start_time": "2022-04-15T10:13:45.774Z"
   },
   {
    "duration": 19,
    "start_time": "2022-04-15T10:13:45.783Z"
   },
   {
    "duration": 1451,
    "start_time": "2022-04-15T10:13:45.806Z"
   },
   {
    "duration": 6,
    "start_time": "2022-04-15T10:13:47.260Z"
   },
   {
    "duration": 23,
    "start_time": "2022-04-15T10:13:47.268Z"
   },
   {
    "duration": 10,
    "start_time": "2022-04-15T10:13:47.293Z"
   },
   {
    "duration": 25,
    "start_time": "2022-04-15T10:13:47.305Z"
   },
   {
    "duration": 387,
    "start_time": "2022-04-15T10:13:47.332Z"
   },
   {
    "duration": 7,
    "start_time": "2022-04-15T10:13:47.724Z"
   },
   {
    "duration": 17,
    "start_time": "2022-04-15T10:13:47.733Z"
   },
   {
    "duration": 12,
    "start_time": "2022-04-15T10:13:47.752Z"
   },
   {
    "duration": 15,
    "start_time": "2022-04-15T10:13:47.766Z"
   },
   {
    "duration": 60,
    "start_time": "2022-04-15T10:13:47.783Z"
   },
   {
    "duration": 3854666,
    "start_time": "2022-04-15T10:13:47.846Z"
   },
   {
    "duration": 5,
    "start_time": "2022-04-15T11:18:02.515Z"
   },
   {
    "duration": 616902,
    "start_time": "2022-04-15T11:18:02.523Z"
   },
   {
    "duration": 6,
    "start_time": "2022-04-15T11:28:19.427Z"
   },
   {
    "duration": 25,
    "start_time": "2022-04-15T11:42:14.444Z"
   },
   {
    "duration": 10,
    "start_time": "2022-04-15T11:46:50.904Z"
   },
   {
    "duration": 98,
    "start_time": "2022-04-15T11:52:52.614Z"
   },
   {
    "duration": 1457,
    "start_time": "2022-04-15T11:53:09.173Z"
   },
   {
    "duration": 9,
    "start_time": "2022-04-15T12:02:49.393Z"
   },
   {
    "duration": 170,
    "start_time": "2022-04-15T13:05:19.457Z"
   },
   {
    "duration": 10,
    "start_time": "2022-04-15T13:05:29.060Z"
   },
   {
    "duration": 30,
    "start_time": "2022-04-15T13:14:58.264Z"
   },
   {
    "duration": 1830,
    "start_time": "2022-04-16T11:50:32.306Z"
   },
   {
    "duration": 29,
    "start_time": "2022-04-16T11:50:34.139Z"
   },
   {
    "duration": 11,
    "start_time": "2022-04-16T11:50:34.170Z"
   },
   {
    "duration": 24,
    "start_time": "2022-04-16T11:50:34.184Z"
   },
   {
    "duration": 17,
    "start_time": "2022-04-16T11:50:34.210Z"
   },
   {
    "duration": 5,
    "start_time": "2022-04-16T11:50:34.229Z"
   },
   {
    "duration": 4,
    "start_time": "2022-04-16T11:50:34.236Z"
   },
   {
    "duration": 8,
    "start_time": "2022-04-16T11:50:34.242Z"
   },
   {
    "duration": 14,
    "start_time": "2022-04-16T11:50:34.252Z"
   },
   {
    "duration": 1111,
    "start_time": "2022-04-16T11:50:34.269Z"
   },
   {
    "duration": 5,
    "start_time": "2022-04-16T11:50:35.381Z"
   },
   {
    "duration": 14,
    "start_time": "2022-04-16T11:50:35.387Z"
   },
   {
    "duration": 9,
    "start_time": "2022-04-16T11:50:35.403Z"
   },
   {
    "duration": 20,
    "start_time": "2022-04-16T11:50:35.414Z"
   },
   {
    "duration": 252,
    "start_time": "2022-04-16T11:50:35.435Z"
   },
   {
    "duration": 4,
    "start_time": "2022-04-16T11:50:35.689Z"
   },
   {
    "duration": 18,
    "start_time": "2022-04-16T11:50:35.694Z"
   },
   {
    "duration": 12,
    "start_time": "2022-04-16T11:50:35.714Z"
   },
   {
    "duration": 6,
    "start_time": "2022-04-16T11:50:35.728Z"
   },
   {
    "duration": 169,
    "start_time": "2022-04-16T11:50:35.736Z"
   },
   {
    "duration": 0,
    "start_time": "2022-04-16T11:50:35.915Z"
   },
   {
    "duration": 0,
    "start_time": "2022-04-16T11:50:35.920Z"
   },
   {
    "duration": 0,
    "start_time": "2022-04-16T11:50:35.922Z"
   },
   {
    "duration": 0,
    "start_time": "2022-04-16T11:50:35.924Z"
   },
   {
    "duration": 0,
    "start_time": "2022-04-16T11:50:35.925Z"
   },
   {
    "duration": 0,
    "start_time": "2022-04-16T11:50:35.927Z"
   },
   {
    "duration": 0,
    "start_time": "2022-04-16T11:50:35.928Z"
   },
   {
    "duration": 0,
    "start_time": "2022-04-16T11:50:35.929Z"
   },
   {
    "duration": 0,
    "start_time": "2022-04-16T11:50:35.931Z"
   },
   {
    "duration": 33,
    "start_time": "2022-04-16T11:52:44.095Z"
   },
   {
    "duration": 1567,
    "start_time": "2022-04-16T11:53:23.584Z"
   },
   {
    "duration": 26,
    "start_time": "2022-04-16T11:53:25.155Z"
   },
   {
    "duration": 11,
    "start_time": "2022-04-16T11:53:25.183Z"
   },
   {
    "duration": 27,
    "start_time": "2022-04-16T11:53:25.195Z"
   },
   {
    "duration": 7,
    "start_time": "2022-04-16T11:53:25.224Z"
   },
   {
    "duration": 4,
    "start_time": "2022-04-16T11:53:25.233Z"
   },
   {
    "duration": 3,
    "start_time": "2022-04-16T11:53:25.239Z"
   },
   {
    "duration": 4,
    "start_time": "2022-04-16T11:53:25.244Z"
   },
   {
    "duration": 10,
    "start_time": "2022-04-16T11:53:25.250Z"
   },
   {
    "duration": 852,
    "start_time": "2022-04-16T11:53:25.261Z"
   },
   {
    "duration": 7,
    "start_time": "2022-04-16T11:53:26.115Z"
   },
   {
    "duration": 12,
    "start_time": "2022-04-16T11:53:26.124Z"
   },
   {
    "duration": 7,
    "start_time": "2022-04-16T11:53:26.138Z"
   },
   {
    "duration": 111,
    "start_time": "2022-04-16T11:53:26.146Z"
   },
   {
    "duration": 232,
    "start_time": "2022-04-16T11:53:26.259Z"
   },
   {
    "duration": 4,
    "start_time": "2022-04-16T11:53:26.493Z"
   },
   {
    "duration": 12,
    "start_time": "2022-04-16T11:53:26.498Z"
   },
   {
    "duration": 11,
    "start_time": "2022-04-16T11:53:26.512Z"
   },
   {
    "duration": 5,
    "start_time": "2022-04-16T11:53:26.525Z"
   },
   {
    "duration": 137,
    "start_time": "2022-04-16T11:53:26.532Z"
   },
   {
    "duration": 0,
    "start_time": "2022-04-16T11:53:26.671Z"
   },
   {
    "duration": 0,
    "start_time": "2022-04-16T11:53:26.672Z"
   },
   {
    "duration": 0,
    "start_time": "2022-04-16T11:53:26.673Z"
   },
   {
    "duration": 0,
    "start_time": "2022-04-16T11:53:26.674Z"
   },
   {
    "duration": 0,
    "start_time": "2022-04-16T11:53:26.675Z"
   },
   {
    "duration": 0,
    "start_time": "2022-04-16T11:53:26.676Z"
   },
   {
    "duration": 0,
    "start_time": "2022-04-16T11:53:26.677Z"
   },
   {
    "duration": 0,
    "start_time": "2022-04-16T11:53:26.678Z"
   },
   {
    "duration": 0,
    "start_time": "2022-04-16T11:53:26.679Z"
   },
   {
    "duration": 1844,
    "start_time": "2022-04-16T11:54:20.504Z"
   },
   {
    "duration": 27,
    "start_time": "2022-04-16T11:54:22.350Z"
   },
   {
    "duration": 11,
    "start_time": "2022-04-16T11:54:22.379Z"
   },
   {
    "duration": 20,
    "start_time": "2022-04-16T11:54:22.392Z"
   },
   {
    "duration": 13,
    "start_time": "2022-04-16T11:54:22.415Z"
   },
   {
    "duration": 5,
    "start_time": "2022-04-16T11:54:22.430Z"
   },
   {
    "duration": 5,
    "start_time": "2022-04-16T11:54:22.437Z"
   },
   {
    "duration": 5,
    "start_time": "2022-04-16T11:54:22.443Z"
   },
   {
    "duration": 9,
    "start_time": "2022-04-16T11:54:22.450Z"
   },
   {
    "duration": 962,
    "start_time": "2022-04-16T11:54:22.461Z"
   },
   {
    "duration": 4,
    "start_time": "2022-04-16T11:54:23.426Z"
   },
   {
    "duration": 16,
    "start_time": "2022-04-16T11:54:23.431Z"
   },
   {
    "duration": 7,
    "start_time": "2022-04-16T11:54:23.448Z"
   },
   {
    "duration": 100,
    "start_time": "2022-04-16T11:54:23.456Z"
   },
   {
    "duration": 286,
    "start_time": "2022-04-16T11:54:23.558Z"
   },
   {
    "duration": 5,
    "start_time": "2022-04-16T11:54:23.846Z"
   },
   {
    "duration": 21,
    "start_time": "2022-04-16T11:54:23.852Z"
   },
   {
    "duration": 14,
    "start_time": "2022-04-16T11:54:23.874Z"
   },
   {
    "duration": 18,
    "start_time": "2022-04-16T11:54:23.889Z"
   },
   {
    "duration": 148,
    "start_time": "2022-04-16T11:54:23.910Z"
   },
   {
    "duration": 0,
    "start_time": "2022-04-16T11:54:24.060Z"
   },
   {
    "duration": 0,
    "start_time": "2022-04-16T11:54:24.061Z"
   },
   {
    "duration": 0,
    "start_time": "2022-04-16T11:54:24.062Z"
   },
   {
    "duration": 0,
    "start_time": "2022-04-16T11:54:24.063Z"
   },
   {
    "duration": 0,
    "start_time": "2022-04-16T11:54:24.064Z"
   },
   {
    "duration": 0,
    "start_time": "2022-04-16T11:54:24.065Z"
   },
   {
    "duration": 0,
    "start_time": "2022-04-16T11:54:24.066Z"
   },
   {
    "duration": 0,
    "start_time": "2022-04-16T11:54:24.068Z"
   },
   {
    "duration": 0,
    "start_time": "2022-04-16T11:54:24.069Z"
   },
   {
    "duration": 1488,
    "start_time": "2022-04-16T12:02:11.738Z"
   },
   {
    "duration": 28,
    "start_time": "2022-04-16T12:02:13.228Z"
   },
   {
    "duration": 10,
    "start_time": "2022-04-16T12:02:13.257Z"
   },
   {
    "duration": 11,
    "start_time": "2022-04-16T12:02:13.270Z"
   },
   {
    "duration": 29,
    "start_time": "2022-04-16T12:02:13.283Z"
   },
   {
    "duration": 7,
    "start_time": "2022-04-16T12:02:13.316Z"
   },
   {
    "duration": 3,
    "start_time": "2022-04-16T12:02:13.324Z"
   },
   {
    "duration": 5,
    "start_time": "2022-04-16T12:02:13.329Z"
   },
   {
    "duration": 10,
    "start_time": "2022-04-16T12:02:13.336Z"
   },
   {
    "duration": 916,
    "start_time": "2022-04-16T12:02:13.348Z"
   },
   {
    "duration": 7,
    "start_time": "2022-04-16T12:02:14.266Z"
   },
   {
    "duration": 134,
    "start_time": "2022-04-16T12:02:14.275Z"
   },
   {
    "duration": 0,
    "start_time": "2022-04-16T12:02:14.412Z"
   },
   {
    "duration": 0,
    "start_time": "2022-04-16T12:02:14.493Z"
   },
   {
    "duration": 0,
    "start_time": "2022-04-16T12:02:14.494Z"
   },
   {
    "duration": 0,
    "start_time": "2022-04-16T12:02:14.508Z"
   },
   {
    "duration": 0,
    "start_time": "2022-04-16T12:02:14.510Z"
   },
   {
    "duration": 0,
    "start_time": "2022-04-16T12:02:14.512Z"
   },
   {
    "duration": 0,
    "start_time": "2022-04-16T12:02:14.514Z"
   },
   {
    "duration": 0,
    "start_time": "2022-04-16T12:02:14.515Z"
   },
   {
    "duration": 0,
    "start_time": "2022-04-16T12:02:14.518Z"
   },
   {
    "duration": 0,
    "start_time": "2022-04-16T12:02:14.519Z"
   },
   {
    "duration": 0,
    "start_time": "2022-04-16T12:02:14.521Z"
   },
   {
    "duration": 0,
    "start_time": "2022-04-16T12:02:14.523Z"
   },
   {
    "duration": 0,
    "start_time": "2022-04-16T12:02:14.525Z"
   },
   {
    "duration": 0,
    "start_time": "2022-04-16T12:02:14.526Z"
   },
   {
    "duration": 0,
    "start_time": "2022-04-16T12:02:14.527Z"
   },
   {
    "duration": 0,
    "start_time": "2022-04-16T12:02:14.529Z"
   },
   {
    "duration": 0,
    "start_time": "2022-04-16T12:02:14.531Z"
   },
   {
    "duration": 4,
    "start_time": "2022-04-16T12:02:48.897Z"
   },
   {
    "duration": 13,
    "start_time": "2022-04-16T12:02:49.890Z"
   },
   {
    "duration": 1890,
    "start_time": "2022-04-17T11:42:51.888Z"
   },
   {
    "duration": 27,
    "start_time": "2022-04-17T11:42:53.781Z"
   },
   {
    "duration": 11,
    "start_time": "2022-04-17T11:42:53.810Z"
   },
   {
    "duration": 22,
    "start_time": "2022-04-17T11:42:53.823Z"
   },
   {
    "duration": 10,
    "start_time": "2022-04-17T11:42:53.846Z"
   },
   {
    "duration": 6,
    "start_time": "2022-04-17T11:42:53.857Z"
   },
   {
    "duration": 29,
    "start_time": "2022-04-17T11:42:53.865Z"
   },
   {
    "duration": 7,
    "start_time": "2022-04-17T11:42:53.896Z"
   },
   {
    "duration": 10,
    "start_time": "2022-04-17T11:42:53.905Z"
   },
   {
    "duration": 968,
    "start_time": "2022-04-17T11:42:53.918Z"
   },
   {
    "duration": 6,
    "start_time": "2022-04-17T11:42:54.887Z"
   },
   {
    "duration": 27,
    "start_time": "2022-04-17T11:42:54.895Z"
   },
   {
    "duration": 10,
    "start_time": "2022-04-17T11:42:54.925Z"
   },
   {
    "duration": 101,
    "start_time": "2022-04-17T11:42:54.938Z"
   },
   {
    "duration": 225,
    "start_time": "2022-04-17T11:42:55.041Z"
   },
   {
    "duration": 5,
    "start_time": "2022-04-17T11:42:55.268Z"
   },
   {
    "duration": 20,
    "start_time": "2022-04-17T11:42:55.275Z"
   },
   {
    "duration": 14,
    "start_time": "2022-04-17T11:42:55.297Z"
   },
   {
    "duration": 22,
    "start_time": "2022-04-17T11:42:55.313Z"
   },
   {
    "duration": 17,
    "start_time": "2022-04-17T11:42:55.336Z"
   },
   {
    "duration": 55575,
    "start_time": "2022-04-17T11:42:55.394Z"
   },
   {
    "duration": 11,
    "start_time": "2022-04-17T11:43:50.971Z"
   },
   {
    "duration": 0,
    "start_time": "2022-04-17T11:43:50.985Z"
   },
   {
    "duration": 0,
    "start_time": "2022-04-17T11:43:50.987Z"
   },
   {
    "duration": 0,
    "start_time": "2022-04-17T11:43:50.989Z"
   },
   {
    "duration": 0,
    "start_time": "2022-04-17T11:43:50.991Z"
   },
   {
    "duration": 0,
    "start_time": "2022-04-17T11:43:50.993Z"
   },
   {
    "duration": 0,
    "start_time": "2022-04-17T11:43:50.995Z"
   },
   {
    "duration": 0,
    "start_time": "2022-04-17T11:43:50.997Z"
   },
   {
    "duration": 0,
    "start_time": "2022-04-17T11:43:50.999Z"
   },
   {
    "duration": 14,
    "start_time": "2022-04-17T11:43:59.281Z"
   },
   {
    "duration": 6,
    "start_time": "2022-04-17T11:44:45.956Z"
   },
   {
    "duration": 2503746,
    "start_time": "2022-04-17T11:50:40.040Z"
   },
   {
    "duration": 6,
    "start_time": "2022-04-17T12:37:08.941Z"
   },
   {
    "duration": 6714639,
    "start_time": "2022-04-17T12:37:19.164Z"
   },
   {
    "duration": 5,
    "start_time": "2022-04-17T14:45:52.322Z"
   },
   {
    "duration": 5,
    "start_time": "2022-04-17T14:47:21.698Z"
   },
   {
    "duration": 21,
    "start_time": "2022-04-17T14:50:57.381Z"
   },
   {
    "duration": 9,
    "start_time": "2022-04-17T14:51:40.576Z"
   },
   {
    "duration": 3,
    "start_time": "2022-04-17T14:51:55.355Z"
   },
   {
    "duration": 14,
    "start_time": "2022-04-17T14:52:14.875Z"
   },
   {
    "duration": 6,
    "start_time": "2022-04-17T15:08:09.643Z"
   },
   {
    "duration": 3,
    "start_time": "2022-04-17T15:08:12.146Z"
   },
   {
    "duration": 4,
    "start_time": "2022-04-17T15:09:02.676Z"
   },
   {
    "duration": 14,
    "start_time": "2022-04-17T15:09:03.994Z"
   },
   {
    "duration": 6,
    "start_time": "2022-04-17T15:10:02.751Z"
   },
   {
    "duration": 1754,
    "start_time": "2022-04-17T15:10:09.651Z"
   },
   {
    "duration": 9070,
    "start_time": "2022-04-17T15:10:29.558Z"
   },
   {
    "duration": 9131,
    "start_time": "2022-04-17T15:11:54.374Z"
   },
   {
    "duration": 9,
    "start_time": "2022-04-17T15:14:33.924Z"
   },
   {
    "duration": 4,
    "start_time": "2022-04-17T15:15:05.874Z"
   },
   {
    "duration": 3,
    "start_time": "2022-04-17T15:16:31.377Z"
   },
   {
    "duration": 4,
    "start_time": "2022-04-17T15:16:54.891Z"
   },
   {
    "duration": 9202,
    "start_time": "2022-04-17T15:17:29.817Z"
   },
   {
    "duration": 9304,
    "start_time": "2022-04-17T15:17:48.311Z"
   },
   {
    "duration": 28,
    "start_time": "2022-04-17T15:19:25.197Z"
   },
   {
    "duration": 18,
    "start_time": "2022-04-17T15:19:47.691Z"
   },
   {
    "duration": 10,
    "start_time": "2022-04-17T15:19:49.994Z"
   },
   {
    "duration": 238,
    "start_time": "2022-04-17T15:21:04.935Z"
   },
   {
    "duration": 9,
    "start_time": "2022-04-17T15:22:56.949Z"
   },
   {
    "duration": 7,
    "start_time": "2022-04-17T15:23:04.533Z"
   },
   {
    "duration": 9,
    "start_time": "2022-04-17T15:24:01.845Z"
   },
   {
    "duration": 9,
    "start_time": "2022-04-17T15:24:15.415Z"
   },
   {
    "duration": 10,
    "start_time": "2022-04-17T15:32:12.512Z"
   },
   {
    "duration": 9,
    "start_time": "2022-04-17T15:35:33.157Z"
   },
   {
    "duration": 6,
    "start_time": "2022-04-17T15:41:18.028Z"
   },
   {
    "duration": 2902,
    "start_time": "2022-04-17T15:41:44.621Z"
   },
   {
    "duration": 12,
    "start_time": "2022-04-17T15:42:04.480Z"
   },
   {
    "duration": 3,
    "start_time": "2022-04-17T15:44:39.415Z"
   },
   {
    "duration": 9,
    "start_time": "2022-04-17T15:44:49.978Z"
   },
   {
    "duration": 3,
    "start_time": "2022-04-17T15:45:52.724Z"
   },
   {
    "duration": 3,
    "start_time": "2022-04-17T15:46:15.747Z"
   },
   {
    "duration": 158,
    "start_time": "2022-04-17T15:46:18.041Z"
   },
   {
    "duration": 260,
    "start_time": "2022-04-17T15:47:59.506Z"
   },
   {
    "duration": 260,
    "start_time": "2022-04-17T15:48:17.669Z"
   },
   {
    "duration": 228,
    "start_time": "2022-04-17T15:48:55.265Z"
   },
   {
    "duration": 13,
    "start_time": "2022-04-17T16:02:33.677Z"
   },
   {
    "duration": 334,
    "start_time": "2022-04-17T16:06:20.612Z"
   },
   {
    "duration": 309,
    "start_time": "2022-04-17T16:06:38.841Z"
   },
   {
    "duration": 337,
    "start_time": "2022-04-17T16:08:48.609Z"
   }
  ],
  "kernelspec": {
   "display_name": "Python 3",
   "language": "python",
   "name": "python3"
  },
  "language_info": {
   "codemirror_mode": {
    "name": "ipython",
    "version": 3
   },
   "file_extension": ".py",
   "mimetype": "text/x-python",
   "name": "python",
   "nbconvert_exporter": "python",
   "pygments_lexer": "ipython3",
   "version": "3.8.8"
  },
  "toc": {
   "base_numbering": 1,
   "nav_menu": {},
   "number_sections": true,
   "sideBar": true,
   "skip_h1_title": true,
   "title_cell": "Содержание",
   "title_sidebar": "Contents",
   "toc_cell": true,
   "toc_position": {},
   "toc_section_display": true,
   "toc_window_display": false
  }
 },
 "nbformat": 4,
 "nbformat_minor": 2
}
